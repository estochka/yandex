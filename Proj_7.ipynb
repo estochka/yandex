{
 "cells": [
  {
   "cell_type": "markdown",
   "metadata": {
    "toc": true
   },
   "source": [
    "<h1>Содержание<span class=\"tocSkip\"></span></h1>\n",
    "<div class=\"toc\"><ul class=\"toc-item\"><li><span><a href=\"#Загрузка-данных\" data-toc-modified-id=\"Загрузка-данных-1\"><span class=\"toc-item-num\">1&nbsp;&nbsp;</span>Загрузка данных</a></span></li><li><span><a href=\"#Умножение-матриц\" data-toc-modified-id=\"Умножение-матриц-2\"><span class=\"toc-item-num\">2&nbsp;&nbsp;</span>Умножение матриц</a></span></li><li><span><a href=\"#Алгоритм-преобразования\" data-toc-modified-id=\"Алгоритм-преобразования-3\"><span class=\"toc-item-num\">3&nbsp;&nbsp;</span>Алгоритм преобразования</a></span></li><li><span><a href=\"#Проверка-алгоритма\" data-toc-modified-id=\"Проверка-алгоритма-4\"><span class=\"toc-item-num\">4&nbsp;&nbsp;</span>Проверка алгоритма</a></span></li><li><span><a href=\"#Вывод\" data-toc-modified-id=\"Вывод-5\"><span class=\"toc-item-num\">5&nbsp;&nbsp;</span>Вывод</a></span></li></ul></div>"
   ]
  },
  {
   "cell_type": "markdown",
   "metadata": {},
   "source": [
    "# Защита персональных данных клиентов"
   ]
  },
  {
   "cell_type": "markdown",
   "metadata": {},
   "source": [
    "Вам нужно защитить данные клиентов страховой компании «Хоть потоп». Разработайте такой метод преобразования данных, чтобы по ним было сложно восстановить персональную информацию. Обоснуйте корректность его работы.\n",
    "\n",
    "Нужно защитить данные, чтобы при преобразовании качество моделей машинного обучения не ухудшилось. Подбирать наилучшую модель не требуется."
   ]
  },
  {
   "cell_type": "markdown",
   "metadata": {},
   "source": [
    "## Загрузка данных"
   ]
  },
  {
   "cell_type": "code",
   "execution_count": 1,
   "metadata": {},
   "outputs": [],
   "source": [
    "try:\n",
    "    import pandas_profiling\n",
    "except:\n",
    "    !pip install pandas-profiling\n",
    "    import pandas_profiling"
   ]
  },
  {
   "cell_type": "code",
   "execution_count": 2,
   "metadata": {},
   "outputs": [],
   "source": [
    "import pandas as pd\n",
    "import numpy as np\n",
    "\n",
    "from sklearn.linear_model import LinearRegression\n",
    "from sklearn.model_selection import cross_val_score"
   ]
  },
  {
   "cell_type": "code",
   "execution_count": 3,
   "metadata": {},
   "outputs": [],
   "source": [
    "np.random.seed(sum(ord(x) for x in 'NEVER SURRENDER'))\n",
    "RAND = np.random.get_state()\n",
    "\n",
    "TARGET_ = 'Страховые выплаты'"
   ]
  },
  {
   "cell_type": "code",
   "execution_count": 4,
   "metadata": {},
   "outputs": [],
   "source": [
    "df_insurance = pd.read_csv('/datasets/insurance.csv')\n",
    "#df_insurance.profile_report()"
   ]
  },
  {
   "cell_type": "markdown",
   "metadata": {},
   "source": [
    "Основные выводы по профайлингу:\n",
    "- в датасете есть дубликаты\n",
    "- пропущенных значений нет\n",
    "- аномальных значений нет\n",
    "- целевой признак распределен неравномерно, большинство людей (**88.7%**) страховых выплат не получали\n",
    "- можно выделить категориальные признаки (пол) - может принимать всего 2 значения, 0 и 1 => можно не делать OHE\n",
    "- большая корреляция между возрастом и страховыми выплатами"
   ]
  },
  {
   "cell_type": "markdown",
   "metadata": {},
   "source": [
    "В таблице есть признаки с типом float. Допустим, что наших данных значимыми являются значения до 3 знаков после запятой, проверим, есть ли числа со значимой дробной частью:"
   ]
  },
  {
   "cell_type": "code",
   "execution_count": 6,
   "metadata": {},
   "outputs": [
    {
     "data": {
      "text/plain": [
       "Пол                  0\n",
       "Возраст              0\n",
       "Зарплата             0\n",
       "Члены семьи          0\n",
       "Страховые выплаты    0\n",
       "dtype: int64"
      ]
     },
     "execution_count": 6,
     "metadata": {},
     "output_type": "execute_result"
    }
   ],
   "source": [
    "(round(df_insurance, 3) % 1 != 0).sum()"
   ]
  },
  {
   "cell_type": "markdown",
   "metadata": {},
   "source": [
    "Дробных значений нет выбранной значимости нет, переведем все в int"
   ]
  },
  {
   "cell_type": "code",
   "execution_count": 7,
   "metadata": {},
   "outputs": [],
   "source": [
    "df_insurance = df_insurance.astype('int32')"
   ]
  },
  {
   "cell_type": "markdown",
   "metadata": {},
   "source": [
    "Т.к. нет уникального номера клиента можно допустить, что дубликаты - разные люди. "
   ]
  },
  {
   "cell_type": "markdown",
   "metadata": {},
   "source": [
    "Переведем названия столбцов в snake_case, т.к. планируется защита данных - можно столбцам дать обезличенные названия и сохранить словарь соответствий."
   ]
  },
  {
   "cell_type": "code",
   "execution_count": 8,
   "metadata": {},
   "outputs": [
    {
     "data": {
      "text/plain": [
       "{'Пол': 'feature_1',\n",
       " 'Возраст': 'feature_2',\n",
       " 'Зарплата': 'feature_3',\n",
       " 'Члены семьи': 'feature_4',\n",
       " 'Страховые выплаты': 'target'}"
      ]
     },
     "execution_count": 8,
     "metadata": {},
     "output_type": "execute_result"
    }
   ],
   "source": [
    "new_names = [f'feature_{i+1}'  if itm != TARGET_ else 'target' for i,itm in enumerate(df_insurance.columns)]\n",
    "dict_columns = dict(zip(df_insurance.columns, new_names))\n",
    "df_insurance.columns = new_names\n",
    "dict_columns"
   ]
  },
  {
   "cell_type": "markdown",
   "metadata": {},
   "source": [
    "Разобьем датасет на целевой признак и признаки:"
   ]
  },
  {
   "cell_type": "code",
   "execution_count": 9,
   "metadata": {},
   "outputs": [],
   "source": [
    "df_target = df_insurance['target']\n",
    "df_features = df_insurance.drop(columns='target')"
   ]
  },
  {
   "cell_type": "markdown",
   "metadata": {},
   "source": [
    "_______________________\n",
    "**Вывод:** данные были загружены, изучены и обработаны. Столбцы переименованы. Датасет разбит на целевой признак и признаки."
   ]
  },
  {
   "cell_type": "markdown",
   "metadata": {},
   "source": [
    "## Умножение матриц"
   ]
  },
  {
   "cell_type": "markdown",
   "metadata": {},
   "source": [
    "Обозначения:\n",
    "\n",
    "- $X$ — матрица признаков (нулевой столбец состоит из единиц)\n",
    "\n",
    "- $y$ — вектор целевого признака\n",
    "\n",
    "- $P$ — матрица, на которую умножаются признаки\n",
    "\n",
    "- $w$ — вектор весов линейной регрессии (нулевой элемент равен сдвигу)"
   ]
  },
  {
   "cell_type": "markdown",
   "metadata": {},
   "source": [
    "Предсказания:\n",
    "\n",
    "$$\n",
    "a = Xw\n",
    "$$\n",
    "\n",
    "Задача обучения:\n",
    "\n",
    "$$\n",
    "w = \\arg\\min_w MSE(Xw, y)\n",
    "$$\n",
    "\n",
    "Формула обучения:\n",
    "\n",
    "$$\n",
    "w = (X^T X)^{-1} X^T y\n",
    "$$\n",
    "\n"
   ]
  },
  {
   "cell_type": "markdown",
   "metadata": {},
   "source": [
    "_________________________\n",
    "**Необходимо проверить:**  \n",
    "\n",
    "Признаки умножают на обратимую матрицу. Изменится ли качество линейной регрессии?\n",
    "_________________________\n",
    "**Проверка:** \n",
    "\n",
    "***Используемые формулы (свойства обратимых матриц)***\n",
    "$$\n",
    "X(X)^{-1} = E\n",
    "$$\n",
    "$$\n",
    "XE = X\n",
    "$$\n",
    "$$\n",
    "(XY)^{-1} = (Y)^{-1}(X)^{-1}\n",
    "$$\n",
    "$$\n",
    "(XY)^T = (Y)^T(X)^T\n",
    "$$\n",
    "\n",
    "\n",
    "В формулу предсказаний подставим формулу обучения:\n",
    "$$\n",
    "a = Xw = X(X^T X)^{-1} X^T y\n",
    "$$\n",
    "\n",
    "\n",
    "\n",
    "И домножим матрицу признаков на некую матрицу P \n",
    "\n",
    "\n",
    "Матрица X - матрица признаков, в нашем случае имеет 4 признака. Количество строк может быть любое и не должно влиять на возможность решения, для примера возьмем 50. Размер матрицы 50x4 <br>\n",
    "Таким образом, для корректного умножения матриц и результата - P должна иметь размеры 4x4\n",
    "\n",
    "\n",
    "$$\n",
    "a_p = X_{50x4}P_{4x4}( (X_{50x4}P_{4x4})^T (X_{50x4}P_{4x4}))^{-1} (X_{50x4}P_{4x4})^T y  \n",
    "$$\n",
    "\n",
    "\n",
    "раскроем скобки части:\n",
    "\n",
    "\n",
    "$$\n",
    "( (X_{50x4} P_{4x4})^T (X_{50x4} P_{4x4}))^{-1} =  (P_{4x4}^T X_{4x50}^T X_{50x4}P_{4x4})^{-1} = (P_{4x4}^T (X_{4x50}^T X_{50x4})_{4x4}P_{4x4})^{-1} =\n",
    "P_{4x4}^{-1}(X_{4x50}^T X_{50x4})^{-1}(P_{4x4}^T)^{-1}\n",
    "$$\n",
    "\n",
    "и подставим\n",
    "$$\n",
    "a_p = X_{50x4}P_{4x4} P_{4x4}^{-1}(X_{4x50}^T X_{50x4})^{-1}(P_{4x4}^T)^{-1} P_{4x4}^T X_{4x50}^T y  \n",
    "$$\n",
    "\n",
    "сократим P\n",
    "$$\n",
    "a_p =  X_{50x4} (X_{4x50}^T X_{50x4})^{-1} X_{4x50}^T y  \n",
    "$$\n",
    "\n",
    "Видно, что P сократилось полностью и формула $a_p$ полностью аналогична формуле a. <br>    \n",
    "         \n",
    "Значит, домножение матрицы признаков на некую матрицу P не влияет на предсказания.\n",
    "    \n",
    "    \n",
    "_________________________\n",
    "**Вывод:**\n",
    "\n",
    "При домножение мартицы признаков на некую обратимую матрицу P не влияет на качество линейной регрессии, т.к. полученные предсказанные значения аналогичны предсказанным значениям, полученным без домножения."
   ]
  },
  {
   "cell_type": "markdown",
   "metadata": {},
   "source": [
    "## Алгоритм преобразования"
   ]
  },
  {
   "cell_type": "markdown",
   "metadata": {},
   "source": [
    "**Алгоритм**\n",
    "\n",
    "Имеющуюся матрицу признаков размером (x,y) домножим на обратимую матрицу размера (y,y)"
   ]
  },
  {
   "cell_type": "markdown",
   "metadata": {},
   "source": [
    "**Обоснование**\n",
    "\n",
    "Ранее было выявлено, что домножение матрицы на обратимую матрицу не влияет на результат предсказания. Так же\n",
    "\n",
    "\n",
    "$$\n",
    "A_(n,m) B_(m,k) = C_(n,k)\n",
    "$$\n",
    "\n",
    "т.е. для того, чтоб полученная матрица C совпадала размерностью с матрицей A должно k=m\n"
   ]
  },
  {
   "cell_type": "markdown",
   "metadata": {},
   "source": [
    "Так же эта формула не зависит от количества строк  и может шифровать данные любого размера без изменения ключа."
   ]
  },
  {
   "cell_type": "markdown",
   "metadata": {},
   "source": [
    "Данные содержат признаки разных \"типов\" и порядка, например пол (0 и 1), возраст (от 18 до 65), зарплата (от 5300 до 79000), которые могут косвенно дать представление о самом признаке.\n",
    "\n",
    "Каждый элемент произведения матриц рассчитывается по формуле\n",
    "$$\n",
    "C_(i,j) = \\sum_{k=1}^n A_(i,k) B_(k,j)\n",
    "$$\n",
    "Получается, что в формировании каждого элемента новой матрицы участвуют все признаки(одна строка), что должно убрать разницу в типах и порядках, для примера:"
   ]
  },
  {
   "cell_type": "markdown",
   "metadata": {},
   "source": [
    "$$\n",
    "\\begin{pmatrix} 1&41&49600\\\\ 0&46&38000 \\\\ 0 &29& \t21000 \\\\0&21&41700\t  \\end{pmatrix}\\begin{pmatrix} 5&2&3\\\\ 4&5&6 \\\\ 2&3&5 \t  \\end{pmatrix} =\\begin{pmatrix} 99369& 149007& 248249 \\\\\n",
    "       76184& 114230& 190276 \\\\\n",
    "        42116&  63145& 105174 \\\\\n",
    "       83484& 125205& 208626\\end{pmatrix}\n",
    "$$"
   ]
  },
  {
   "cell_type": "markdown",
   "metadata": {},
   "source": [
    "Можно заметить, что все признаки потеряли свою уникальность и по полученным данным нет возможности получить информацию о том, какого \"типа\" и порядка был признак до изменений."
   ]
  },
  {
   "cell_type": "markdown",
   "metadata": {},
   "source": [
    "Ранее было определено, что\n",
    "$$\n",
    "w_p = P^{-1}(X^T X)^{-1} X^T y  = P^{-1}w\n",
    "$$"
   ]
  },
  {
   "cell_type": "markdown",
   "metadata": {},
   "source": [
    "получается, что получившийся для новой матрицы вектор весов линейной регрессии уже учитывает изменение самой матрицы и расчитан с учетом этих измнений. "
   ]
  },
  {
   "cell_type": "markdown",
   "metadata": {},
   "source": [
    "По свойствам матриц, если $AB = C$, то $CB^{-1}=A$, что позволяет проводить дешифрование данных."
   ]
  },
  {
   "cell_type": "markdown",
   "metadata": {},
   "source": [
    "___________________________________\n",
    "**Использумые функции**"
   ]
  },
  {
   "cell_type": "code",
   "execution_count": 10,
   "metadata": {},
   "outputs": [],
   "source": [
    "class matrix_encryptor:  \n",
    "    #create key\n",
    "    def key_generate(self) -> np.ndarray:\n",
    "        div_matrix = np.random.randint(*self.interval, (self.n, self.n)) \n",
    "        return div_matrix if np.linalg.det(div_matrix) != 0 else self.key_generate()\n",
    "    \n",
    "    #encrypt data\n",
    "    def encrypt(self) -> None:\n",
    "        self.data_encrypt = self.data @ self.key\n",
    "        self.data_encrypt.columns = self.col_names\n",
    "        \n",
    "        \n",
    "    def __init__(self, \n",
    "                 data: pd.DataFrame, \n",
    "                 interval: tuple = (2,10),\n",
    "                 col_names: list = new_names[:-1],\n",
    "                 rnd: int = RAND) -> None:\n",
    "        \n",
    "        self.data = data\n",
    "        self.col_names = col_names\n",
    "        self.n = self.data.shape[1]\n",
    "        self.interval = interval\n",
    "        np.random.set_state(rnd)\n",
    "        self.key =  self.key_generate()\n",
    "        self.encrypt()\n",
    "        \n",
    "    #decrypt data and check \n",
    "    def decrypt(self, show_result: bool = True) -> None:\n",
    "        self.data_decrypt = round(self.data_encrypt  @ np.linalg.inv(self.key)).astype(int)\n",
    "        self.data_decrypt.columns = self.col_names\n",
    "        if show_result:\n",
    "            display(self.data_decrypt.head())\n",
    "            print(f'\\n\\nDifferent\\n{(self.data_decrypt != self.data).sum()}')\n",
    "    "
   ]
  },
  {
   "cell_type": "markdown",
   "metadata": {},
   "source": [
    "_________________________________________\n",
    "Создадим вспомогательную матрицу P с учетом критерия обратимости \n",
    "\n",
    "**Критерий обратимости**: матрица обратима тогда и только тогда, когда она невырождена, то есть её определитель не равен нулю"
   ]
  },
  {
   "cell_type": "code",
   "execution_count": 11,
   "metadata": {},
   "outputs": [
    {
     "data": {
      "text/plain": [
       "array([[3, 9, 9, 5],\n",
       "       [6, 3, 4, 9],\n",
       "       [8, 2, 3, 4],\n",
       "       [2, 7, 3, 4]])"
      ]
     },
     "execution_count": 11,
     "metadata": {},
     "output_type": "execute_result"
    }
   ],
   "source": [
    "data_insurance = matrix_encryptor(df_features)\n",
    "data_insurance.key"
   ]
  },
  {
   "cell_type": "markdown",
   "metadata": {},
   "source": [
    "В классе было произведено домножение признаков на матрицу ключа, посмотрим результат:"
   ]
  },
  {
   "cell_type": "code",
   "execution_count": 12,
   "metadata": {},
   "outputs": [
    {
     "data": {
      "text/html": [
       "<div>\n",
       "<style scoped>\n",
       "    .dataframe tbody tr th:only-of-type {\n",
       "        vertical-align: middle;\n",
       "    }\n",
       "\n",
       "    .dataframe tbody tr th {\n",
       "        vertical-align: top;\n",
       "    }\n",
       "\n",
       "    .dataframe thead th {\n",
       "        text-align: right;\n",
       "    }\n",
       "</style>\n",
       "<table border=\"1\" class=\"dataframe\">\n",
       "  <thead>\n",
       "    <tr style=\"text-align: right;\">\n",
       "      <th></th>\n",
       "      <th>feature_1</th>\n",
       "      <th>feature_2</th>\n",
       "      <th>feature_3</th>\n",
       "      <th>feature_4</th>\n",
       "    </tr>\n",
       "  </thead>\n",
       "  <tbody>\n",
       "    <tr>\n",
       "      <th>0</th>\n",
       "      <td>397051</td>\n",
       "      <td>99339</td>\n",
       "      <td>148976</td>\n",
       "      <td>198778</td>\n",
       "    </tr>\n",
       "    <tr>\n",
       "      <th>1</th>\n",
       "      <td>304278</td>\n",
       "      <td>76145</td>\n",
       "      <td>114187</td>\n",
       "      <td>152418</td>\n",
       "    </tr>\n",
       "    <tr>\n",
       "      <th>2</th>\n",
       "      <td>168174</td>\n",
       "      <td>42087</td>\n",
       "      <td>63116</td>\n",
       "      <td>84261</td>\n",
       "    </tr>\n",
       "    <tr>\n",
       "      <th>3</th>\n",
       "      <td>333730</td>\n",
       "      <td>83477</td>\n",
       "      <td>125190</td>\n",
       "      <td>166997</td>\n",
       "    </tr>\n",
       "    <tr>\n",
       "      <th>4</th>\n",
       "      <td>208971</td>\n",
       "      <td>52293</td>\n",
       "      <td>78421</td>\n",
       "      <td>104657</td>\n",
       "    </tr>\n",
       "  </tbody>\n",
       "</table>\n",
       "</div>"
      ],
      "text/plain": [
       "   feature_1  feature_2  feature_3  feature_4\n",
       "0     397051      99339     148976     198778\n",
       "1     304278      76145     114187     152418\n",
       "2     168174      42087      63116      84261\n",
       "3     333730      83477     125190     166997\n",
       "4     208971      52293      78421     104657"
      ]
     },
     "execution_count": 12,
     "metadata": {},
     "output_type": "execute_result"
    }
   ],
   "source": [
    "data_insurance.data_encrypt.head()"
   ]
  },
  {
   "cell_type": "markdown",
   "metadata": {},
   "source": [
    "Полученные значения признаков действительно не дают представления о том, какие значения были без защиты.\n",
    "\n",
    "______________________\n",
    "Так же стоит проверить, что мы сможем получить исходные данные из зашифрованных:"
   ]
  },
  {
   "cell_type": "code",
   "execution_count": 13,
   "metadata": {},
   "outputs": [
    {
     "data": {
      "text/html": [
       "<div>\n",
       "<style scoped>\n",
       "    .dataframe tbody tr th:only-of-type {\n",
       "        vertical-align: middle;\n",
       "    }\n",
       "\n",
       "    .dataframe tbody tr th {\n",
       "        vertical-align: top;\n",
       "    }\n",
       "\n",
       "    .dataframe thead th {\n",
       "        text-align: right;\n",
       "    }\n",
       "</style>\n",
       "<table border=\"1\" class=\"dataframe\">\n",
       "  <thead>\n",
       "    <tr style=\"text-align: right;\">\n",
       "      <th></th>\n",
       "      <th>feature_1</th>\n",
       "      <th>feature_2</th>\n",
       "      <th>feature_3</th>\n",
       "      <th>feature_4</th>\n",
       "    </tr>\n",
       "  </thead>\n",
       "  <tbody>\n",
       "    <tr>\n",
       "      <th>0</th>\n",
       "      <td>1</td>\n",
       "      <td>41</td>\n",
       "      <td>49600</td>\n",
       "      <td>1</td>\n",
       "    </tr>\n",
       "    <tr>\n",
       "      <th>1</th>\n",
       "      <td>0</td>\n",
       "      <td>46</td>\n",
       "      <td>38000</td>\n",
       "      <td>1</td>\n",
       "    </tr>\n",
       "    <tr>\n",
       "      <th>2</th>\n",
       "      <td>0</td>\n",
       "      <td>29</td>\n",
       "      <td>21000</td>\n",
       "      <td>0</td>\n",
       "    </tr>\n",
       "    <tr>\n",
       "      <th>3</th>\n",
       "      <td>0</td>\n",
       "      <td>21</td>\n",
       "      <td>41700</td>\n",
       "      <td>2</td>\n",
       "    </tr>\n",
       "    <tr>\n",
       "      <th>4</th>\n",
       "      <td>1</td>\n",
       "      <td>28</td>\n",
       "      <td>26100</td>\n",
       "      <td>0</td>\n",
       "    </tr>\n",
       "  </tbody>\n",
       "</table>\n",
       "</div>"
      ],
      "text/plain": [
       "   feature_1  feature_2  feature_3  feature_4\n",
       "0          1         41      49600          1\n",
       "1          0         46      38000          1\n",
       "2          0         29      21000          0\n",
       "3          0         21      41700          2\n",
       "4          1         28      26100          0"
      ]
     },
     "metadata": {},
     "output_type": "display_data"
    },
    {
     "name": "stdout",
     "output_type": "stream",
     "text": [
      "\n",
      "\n",
      "Different\n",
      "feature_1    0\n",
      "feature_2    0\n",
      "feature_3    0\n",
      "feature_4    0\n",
      "dtype: int64\n"
     ]
    }
   ],
   "source": [
    "data_insurance.decrypt()"
   ]
  },
  {
   "cell_type": "markdown",
   "metadata": {},
   "source": [
    "Отличающихся значений нет. Значит, полученная матрица зашифрованных признаков корректна."
   ]
  },
  {
   "cell_type": "markdown",
   "metadata": {},
   "source": [
    "**Вывод:**<br>\n",
    "Был разработан алгоритм шифрования, создан и проверен на корректность \"ключ\". \n",
    "\n",
    "\n",
    "Для дальнейшей работы были зашифрованы данные и сделан вывод, что шифрование не дает возможности определить тип признака и его значение. Так же было проверено, что возможно дешифрование данных.\n"
   ]
  },
  {
   "cell_type": "markdown",
   "metadata": {},
   "source": [
    "## Проверка алгоритма"
   ]
  },
  {
   "cell_type": "markdown",
   "metadata": {},
   "source": [
    "_____________________\n",
    "**Используемые функции**\n"
   ]
  },
  {
   "cell_type": "code",
   "execution_count": 14,
   "metadata": {},
   "outputs": [],
   "source": [
    "def create_model(features: pd.DataFrame, target: pd.Series = df_target, name: str = '',  **kwargs):\n",
    "    model = LinearRegression(**kwargs)\n",
    "    all_scores = np.round(cross_val_score(model, features, target, scoring='r2', cv=5), 5)\n",
    "    return [name, all_scores, all_scores.mean()]"
   ]
  },
  {
   "cell_type": "markdown",
   "metadata": {},
   "source": [
    "____________________________________"
   ]
  },
  {
   "cell_type": "markdown",
   "metadata": {},
   "source": [
    "Т.к. будет использоваться кросс-валидация нет необходимости разбивать выборку на тестовую и валидационные части."
   ]
  },
  {
   "cell_type": "code",
   "execution_count": 15,
   "metadata": {},
   "outputs": [],
   "source": [
    "result = []"
   ]
  },
  {
   "cell_type": "code",
   "execution_count": 16,
   "metadata": {},
   "outputs": [],
   "source": [
    "result.append(create_model(data_insurance.data, name='Before encryption'))"
   ]
  },
  {
   "cell_type": "code",
   "execution_count": 17,
   "metadata": {},
   "outputs": [],
   "source": [
    "result.append(create_model(data_insurance.data_encrypt, name='After encryption'))"
   ]
  },
  {
   "cell_type": "code",
   "execution_count": 18,
   "metadata": {},
   "outputs": [
    {
     "data": {
      "text/html": [
       "<div>\n",
       "<style scoped>\n",
       "    .dataframe tbody tr th:only-of-type {\n",
       "        vertical-align: middle;\n",
       "    }\n",
       "\n",
       "    .dataframe tbody tr th {\n",
       "        vertical-align: top;\n",
       "    }\n",
       "\n",
       "    .dataframe thead th {\n",
       "        text-align: right;\n",
       "    }\n",
       "</style>\n",
       "<table border=\"1\" class=\"dataframe\">\n",
       "  <thead>\n",
       "    <tr style=\"text-align: right;\">\n",
       "      <th></th>\n",
       "      <th>data</th>\n",
       "      <th>R2_scores</th>\n",
       "      <th>R2_score_mean</th>\n",
       "    </tr>\n",
       "  </thead>\n",
       "  <tbody>\n",
       "    <tr>\n",
       "      <th>0</th>\n",
       "      <td>Before encryption</td>\n",
       "      <td>[0.40104, 0.44663, 0.41583, 0.41471, 0.43736]</td>\n",
       "      <td>0.423114</td>\n",
       "    </tr>\n",
       "    <tr>\n",
       "      <th>1</th>\n",
       "      <td>After encryption</td>\n",
       "      <td>[0.40104, 0.44663, 0.41583, 0.41471, 0.43736]</td>\n",
       "      <td>0.423114</td>\n",
       "    </tr>\n",
       "  </tbody>\n",
       "</table>\n",
       "</div>"
      ],
      "text/plain": [
       "                data                                      R2_scores  \\\n",
       "0  Before encryption  [0.40104, 0.44663, 0.41583, 0.41471, 0.43736]   \n",
       "1   After encryption  [0.40104, 0.44663, 0.41583, 0.41471, 0.43736]   \n",
       "\n",
       "   R2_score_mean  \n",
       "0       0.423114  \n",
       "1       0.423114  "
      ]
     },
     "execution_count": 18,
     "metadata": {},
     "output_type": "execute_result"
    }
   ],
   "source": [
    "pd.DataFrame(result, columns=['data', 'R2_scores', 'R2_score_mean'])"
   ]
  },
  {
   "cell_type": "markdown",
   "metadata": {},
   "source": [
    "В обоих случаях метрики совпадают. Значит, алгоритм шифрования работает верно и не влияет на качество модели."
   ]
  },
  {
   "cell_type": "markdown",
   "metadata": {},
   "source": [
    "## Вывод"
   ]
  },
  {
   "cell_type": "markdown",
   "metadata": {},
   "source": [
    "В ходе работы был предложен алгоритм шифрования, основанный на произведении матриц.\n",
    "\n",
    "Было показано:\n",
    "- математическое обоснование алгоритма\n",
    "- полученные после шифрования признаки не дают представления о составе и значениях первоначальных признаков\n",
    "- зашифрованные данные можно расшифровать при помощи \"ключа\"\n",
    "- метрики у зашифрованных и изначальных данных не отличаются\n",
    "\n",
    "\n",
    "Таким образом, разработанный алгоритм можно рекомендовать для шифрования данных клиентов."
   ]
  }
 ],
 "metadata": {
  "ExecuteTimeLog": [
   {
    "duration": 436,
    "start_time": "2022-11-01T10:18:52.559Z"
   },
   {
    "duration": 87,
    "start_time": "2022-11-01T10:18:53.968Z"
   },
   {
    "duration": 22,
    "start_time": "2022-11-01T10:18:57.831Z"
   },
   {
    "duration": 11,
    "start_time": "2022-11-01T10:19:13.521Z"
   },
   {
    "duration": 10,
    "start_time": "2022-11-01T10:19:17.319Z"
   },
   {
    "duration": 20904,
    "start_time": "2022-11-02T12:56:49.910Z"
   },
   {
    "duration": 168,
    "start_time": "2022-11-02T12:57:10.817Z"
   },
   {
    "duration": 0,
    "start_time": "2022-11-02T12:57:10.986Z"
   },
   {
    "duration": 14,
    "start_time": "2022-11-02T12:57:18.617Z"
   },
   {
    "duration": 2,
    "start_time": "2022-11-02T12:57:20.273Z"
   },
   {
    "duration": 79,
    "start_time": "2022-11-02T12:57:21.381Z"
   },
   {
    "duration": 3079,
    "start_time": "2022-11-02T12:57:22.789Z"
   },
   {
    "duration": 4,
    "start_time": "2022-11-02T12:59:25.491Z"
   },
   {
    "duration": 4,
    "start_time": "2022-11-02T13:00:02.002Z"
   },
   {
    "duration": 4,
    "start_time": "2022-11-02T13:00:08.208Z"
   },
   {
    "duration": 67,
    "start_time": "2022-11-02T13:00:13.049Z"
   },
   {
    "duration": 78,
    "start_time": "2022-11-02T13:00:19.898Z"
   },
   {
    "duration": 6,
    "start_time": "2022-11-02T13:00:24.549Z"
   },
   {
    "duration": 5,
    "start_time": "2022-11-02T13:00:31.551Z"
   },
   {
    "duration": 5,
    "start_time": "2022-11-02T13:00:38.053Z"
   },
   {
    "duration": 5,
    "start_time": "2022-11-02T13:01:08.822Z"
   },
   {
    "duration": 3,
    "start_time": "2022-11-02T13:04:40.091Z"
   },
   {
    "duration": 5,
    "start_time": "2022-11-02T13:05:58.120Z"
   },
   {
    "duration": 5,
    "start_time": "2022-11-02T13:06:03.555Z"
   },
   {
    "duration": 18,
    "start_time": "2022-11-02T13:07:16.513Z"
   },
   {
    "duration": 23,
    "start_time": "2022-11-02T13:07:39.524Z"
   },
   {
    "duration": 6,
    "start_time": "2022-11-02T13:07:48.408Z"
   },
   {
    "duration": 6,
    "start_time": "2022-11-02T13:08:26.342Z"
   },
   {
    "duration": 21,
    "start_time": "2022-11-02T13:09:00.062Z"
   },
   {
    "duration": 5,
    "start_time": "2022-11-02T13:09:02.478Z"
   },
   {
    "duration": 7,
    "start_time": "2022-11-02T13:09:03.535Z"
   },
   {
    "duration": 6,
    "start_time": "2022-11-02T13:09:10.324Z"
   },
   {
    "duration": 4,
    "start_time": "2022-11-02T13:10:00.602Z"
   },
   {
    "duration": 5,
    "start_time": "2022-11-02T13:10:34.613Z"
   },
   {
    "duration": 19,
    "start_time": "2022-11-02T13:10:36.351Z"
   },
   {
    "duration": 15,
    "start_time": "2022-11-02T13:11:08.223Z"
   },
   {
    "duration": 31,
    "start_time": "2022-11-02T13:11:13.257Z"
   },
   {
    "duration": 14,
    "start_time": "2022-11-02T13:11:15.905Z"
   },
   {
    "duration": 7,
    "start_time": "2022-11-02T13:11:28.794Z"
   },
   {
    "duration": 26,
    "start_time": "2022-11-02T13:11:40.661Z"
   },
   {
    "duration": 6,
    "start_time": "2022-11-02T13:11:43.100Z"
   },
   {
    "duration": 13,
    "start_time": "2022-11-02T13:11:44.296Z"
   },
   {
    "duration": 3,
    "start_time": "2022-11-02T13:12:22.133Z"
   },
   {
    "duration": 29,
    "start_time": "2022-11-02T13:12:23.803Z"
   },
   {
    "duration": 6,
    "start_time": "2022-11-02T13:12:26.966Z"
   },
   {
    "duration": 11,
    "start_time": "2022-11-02T13:12:28.821Z"
   },
   {
    "duration": 1221,
    "start_time": "2022-11-02T13:13:21.739Z"
   },
   {
    "duration": 42,
    "start_time": "2022-11-02T13:13:42.032Z"
   },
   {
    "duration": 7,
    "start_time": "2022-11-02T13:13:50.989Z"
   },
   {
    "duration": 12,
    "start_time": "2022-11-02T13:13:52.651Z"
   },
   {
    "duration": 6,
    "start_time": "2022-11-02T13:13:54.491Z"
   },
   {
    "duration": 11,
    "start_time": "2022-11-02T13:14:03.359Z"
   },
   {
    "duration": 15,
    "start_time": "2022-11-02T13:14:08.544Z"
   },
   {
    "duration": 5,
    "start_time": "2022-11-02T13:14:19.732Z"
   },
   {
    "duration": 5,
    "start_time": "2022-11-02T13:16:09.205Z"
   },
   {
    "duration": 978,
    "start_time": "2022-11-02T13:16:29.479Z"
   },
   {
    "duration": 5,
    "start_time": "2022-11-02T13:16:38.309Z"
   },
   {
    "duration": 5,
    "start_time": "2022-11-02T13:16:47.644Z"
   },
   {
    "duration": 4,
    "start_time": "2022-11-02T13:16:48.258Z"
   },
   {
    "duration": 5,
    "start_time": "2022-11-02T13:16:48.688Z"
   },
   {
    "duration": 3,
    "start_time": "2022-11-02T13:20:06.132Z"
   },
   {
    "duration": 348,
    "start_time": "2022-11-02T13:20:40.408Z"
   },
   {
    "duration": 4,
    "start_time": "2022-11-02T13:20:45.609Z"
   },
   {
    "duration": 5,
    "start_time": "2022-11-02T13:20:52.508Z"
   },
   {
    "duration": 5,
    "start_time": "2022-11-02T13:20:54.759Z"
   },
   {
    "duration": 5,
    "start_time": "2022-11-02T13:20:55.327Z"
   },
   {
    "duration": 5,
    "start_time": "2022-11-02T13:20:55.805Z"
   },
   {
    "duration": 4,
    "start_time": "2022-11-02T13:20:56.256Z"
   },
   {
    "duration": 4,
    "start_time": "2022-11-02T13:20:59.637Z"
   },
   {
    "duration": 5,
    "start_time": "2022-11-02T13:21:00.157Z"
   },
   {
    "duration": 5,
    "start_time": "2022-11-02T13:21:00.672Z"
   },
   {
    "duration": 5,
    "start_time": "2022-11-02T13:21:02.717Z"
   },
   {
    "duration": 315,
    "start_time": "2022-11-02T13:21:08.117Z"
   },
   {
    "duration": 4,
    "start_time": "2022-11-02T13:21:14.706Z"
   },
   {
    "duration": 6,
    "start_time": "2022-11-02T13:21:21.318Z"
   },
   {
    "duration": 4,
    "start_time": "2022-11-02T13:22:08.592Z"
   },
   {
    "duration": 5,
    "start_time": "2022-11-02T13:22:30.467Z"
   },
   {
    "duration": 5,
    "start_time": "2022-11-02T13:22:36.179Z"
   },
   {
    "duration": 5,
    "start_time": "2022-11-02T13:22:42.283Z"
   },
   {
    "duration": 15,
    "start_time": "2022-11-02T13:23:04.317Z"
   },
   {
    "duration": 11,
    "start_time": "2022-11-02T13:23:43.942Z"
   },
   {
    "duration": 5,
    "start_time": "2022-11-02T13:23:46.390Z"
   },
   {
    "duration": 4,
    "start_time": "2022-11-02T13:24:12.090Z"
   },
   {
    "duration": 6,
    "start_time": "2022-11-02T13:24:13.387Z"
   },
   {
    "duration": 5,
    "start_time": "2022-11-02T13:24:14.523Z"
   },
   {
    "duration": 825,
    "start_time": "2022-11-02T13:24:16.940Z"
   },
   {
    "duration": 5,
    "start_time": "2022-11-02T13:24:39.611Z"
   },
   {
    "duration": 17,
    "start_time": "2022-11-02T13:24:45.790Z"
   },
   {
    "duration": 16,
    "start_time": "2022-11-02T13:24:57.142Z"
   },
   {
    "duration": 4,
    "start_time": "2022-11-02T13:25:35.607Z"
   },
   {
    "duration": 6,
    "start_time": "2022-11-02T13:25:38.111Z"
   },
   {
    "duration": 5,
    "start_time": "2022-11-02T13:25:39.619Z"
   },
   {
    "duration": 6,
    "start_time": "2022-11-02T13:26:02.055Z"
   },
   {
    "duration": 4,
    "start_time": "2022-11-02T13:26:06.055Z"
   },
   {
    "duration": 20,
    "start_time": "2022-11-02T13:26:08.283Z"
   },
   {
    "duration": 16,
    "start_time": "2022-11-02T13:26:18.676Z"
   },
   {
    "duration": 4,
    "start_time": "2022-11-02T13:26:24.674Z"
   },
   {
    "duration": 22,
    "start_time": "2022-11-02T13:26:27.827Z"
   },
   {
    "duration": 19,
    "start_time": "2022-11-02T13:26:48.399Z"
   },
   {
    "duration": 5,
    "start_time": "2022-11-02T13:28:37.587Z"
   },
   {
    "duration": 5,
    "start_time": "2022-11-02T13:29:01.127Z"
   },
   {
    "duration": 4,
    "start_time": "2022-11-02T13:29:06.009Z"
   },
   {
    "duration": 4,
    "start_time": "2022-11-02T13:29:11.486Z"
   },
   {
    "duration": 7,
    "start_time": "2022-11-02T13:29:15.810Z"
   },
   {
    "duration": 5,
    "start_time": "2022-11-02T13:29:25.464Z"
   },
   {
    "duration": 7,
    "start_time": "2022-11-02T13:29:33.366Z"
   },
   {
    "duration": 6,
    "start_time": "2022-11-02T13:29:38.892Z"
   },
   {
    "duration": 3,
    "start_time": "2022-11-02T13:29:39.753Z"
   },
   {
    "duration": 5,
    "start_time": "2022-11-02T13:29:40.440Z"
   },
   {
    "duration": 5,
    "start_time": "2022-11-02T13:29:47.270Z"
   },
   {
    "duration": 8,
    "start_time": "2022-11-02T13:29:48.850Z"
   },
   {
    "duration": 4,
    "start_time": "2022-11-02T13:29:50.594Z"
   },
   {
    "duration": 6,
    "start_time": "2022-11-02T13:29:52.218Z"
   },
   {
    "duration": 6,
    "start_time": "2022-11-02T13:29:53.273Z"
   },
   {
    "duration": 19,
    "start_time": "2022-11-02T13:29:55.431Z"
   },
   {
    "duration": 4,
    "start_time": "2022-11-02T13:30:04.762Z"
   },
   {
    "duration": 3,
    "start_time": "2022-11-02T13:30:06.995Z"
   },
   {
    "duration": 5,
    "start_time": "2022-11-02T13:30:07.739Z"
   },
   {
    "duration": 5,
    "start_time": "2022-11-02T13:30:09.242Z"
   },
   {
    "duration": 21,
    "start_time": "2022-11-02T13:30:10.290Z"
   },
   {
    "duration": 3,
    "start_time": "2022-11-02T13:30:20.706Z"
   },
   {
    "duration": 4,
    "start_time": "2022-11-02T13:30:21.879Z"
   },
   {
    "duration": 4,
    "start_time": "2022-11-02T13:30:22.826Z"
   },
   {
    "duration": 5,
    "start_time": "2022-11-02T13:30:23.590Z"
   },
   {
    "duration": 6,
    "start_time": "2022-11-02T13:30:25.611Z"
   },
   {
    "duration": 24,
    "start_time": "2022-11-02T13:30:26.826Z"
   },
   {
    "duration": 22,
    "start_time": "2022-11-02T13:30:31.303Z"
   },
   {
    "duration": 5,
    "start_time": "2022-11-02T13:30:56.653Z"
   },
   {
    "duration": 4,
    "start_time": "2022-11-02T13:30:57.714Z"
   },
   {
    "duration": 5,
    "start_time": "2022-11-02T13:30:58.527Z"
   },
   {
    "duration": 4,
    "start_time": "2022-11-02T13:31:01.830Z"
   },
   {
    "duration": 15,
    "start_time": "2022-11-02T13:31:02.576Z"
   },
   {
    "duration": 4,
    "start_time": "2022-11-02T13:31:11.601Z"
   },
   {
    "duration": 5,
    "start_time": "2022-11-02T13:31:12.720Z"
   },
   {
    "duration": 5,
    "start_time": "2022-11-02T13:31:14.253Z"
   },
   {
    "duration": 21,
    "start_time": "2022-11-02T13:31:15.619Z"
   },
   {
    "duration": 5,
    "start_time": "2022-11-02T13:31:21.014Z"
   },
   {
    "duration": 3,
    "start_time": "2022-11-02T13:31:21.835Z"
   },
   {
    "duration": 4,
    "start_time": "2022-11-02T13:31:22.784Z"
   },
   {
    "duration": 4,
    "start_time": "2022-11-02T13:31:24.584Z"
   },
   {
    "duration": 14,
    "start_time": "2022-11-02T13:31:25.883Z"
   },
   {
    "duration": 16,
    "start_time": "2022-11-02T13:31:30.053Z"
   },
   {
    "duration": 17,
    "start_time": "2022-11-02T13:31:41.018Z"
   },
   {
    "duration": 5,
    "start_time": "2022-11-02T13:31:52.628Z"
   },
   {
    "duration": 3,
    "start_time": "2022-11-02T13:31:55.071Z"
   },
   {
    "duration": 5,
    "start_time": "2022-11-02T13:31:56.612Z"
   },
   {
    "duration": 4,
    "start_time": "2022-11-02T13:31:58.568Z"
   },
   {
    "duration": 21,
    "start_time": "2022-11-02T13:32:00.816Z"
   },
   {
    "duration": 15,
    "start_time": "2022-11-02T13:32:18.375Z"
   },
   {
    "duration": 4,
    "start_time": "2022-11-02T13:32:32.342Z"
   },
   {
    "duration": 3,
    "start_time": "2022-11-02T13:32:33.298Z"
   },
   {
    "duration": 5,
    "start_time": "2022-11-02T13:32:34.050Z"
   },
   {
    "duration": 5,
    "start_time": "2022-11-02T13:32:35.163Z"
   },
   {
    "duration": 18,
    "start_time": "2022-11-02T13:32:36.331Z"
   },
   {
    "duration": 3,
    "start_time": "2022-11-02T13:32:43.640Z"
   },
   {
    "duration": 5,
    "start_time": "2022-11-02T13:32:45.769Z"
   },
   {
    "duration": 3,
    "start_time": "2022-11-02T13:32:56.039Z"
   },
   {
    "duration": 6,
    "start_time": "2022-11-02T13:32:56.917Z"
   },
   {
    "duration": 4,
    "start_time": "2022-11-02T13:32:57.680Z"
   },
   {
    "duration": 4,
    "start_time": "2022-11-02T13:32:58.463Z"
   },
   {
    "duration": 5,
    "start_time": "2022-11-02T13:33:01.465Z"
   },
   {
    "duration": 21,
    "start_time": "2022-11-02T13:33:02.713Z"
   },
   {
    "duration": 6,
    "start_time": "2022-11-02T13:33:20.715Z"
   },
   {
    "duration": 4,
    "start_time": "2022-11-02T13:33:22.922Z"
   },
   {
    "duration": 6,
    "start_time": "2022-11-02T13:33:24.320Z"
   },
   {
    "duration": 5,
    "start_time": "2022-11-02T13:33:27.745Z"
   },
   {
    "duration": 17,
    "start_time": "2022-11-02T13:33:29.500Z"
   },
   {
    "duration": 6,
    "start_time": "2022-11-02T13:36:05.794Z"
   },
   {
    "duration": 5,
    "start_time": "2022-11-02T13:36:10.850Z"
   },
   {
    "duration": 4,
    "start_time": "2022-11-02T13:36:12.621Z"
   },
   {
    "duration": 5,
    "start_time": "2022-11-02T13:36:13.573Z"
   },
   {
    "duration": 5,
    "start_time": "2022-11-02T13:36:15.610Z"
   },
   {
    "duration": 16,
    "start_time": "2022-11-02T13:36:16.653Z"
   },
   {
    "duration": 18,
    "start_time": "2022-11-02T13:37:04.266Z"
   },
   {
    "duration": 5,
    "start_time": "2022-11-02T13:37:53.752Z"
   },
   {
    "duration": 4,
    "start_time": "2022-11-02T13:37:55.102Z"
   },
   {
    "duration": 5,
    "start_time": "2022-11-02T13:37:55.880Z"
   },
   {
    "duration": 6,
    "start_time": "2022-11-02T13:37:57.276Z"
   },
   {
    "duration": 16,
    "start_time": "2022-11-02T13:38:03.806Z"
   },
   {
    "duration": 19,
    "start_time": "2022-11-02T13:38:21.516Z"
   },
   {
    "duration": 20,
    "start_time": "2022-11-02T13:38:33.318Z"
   },
   {
    "duration": 19,
    "start_time": "2022-11-02T13:38:37.627Z"
   },
   {
    "duration": 18,
    "start_time": "2022-11-02T13:38:52.095Z"
   },
   {
    "duration": 17,
    "start_time": "2022-11-02T13:38:55.611Z"
   },
   {
    "duration": 14,
    "start_time": "2022-11-02T13:39:11.444Z"
   },
   {
    "duration": 23,
    "start_time": "2022-11-02T13:39:18.202Z"
   },
   {
    "duration": 18,
    "start_time": "2022-11-02T13:39:28.440Z"
   },
   {
    "duration": 16,
    "start_time": "2022-11-02T13:39:42.270Z"
   },
   {
    "duration": 22,
    "start_time": "2022-11-02T13:39:48.229Z"
   },
   {
    "duration": 20,
    "start_time": "2022-11-02T13:39:55.630Z"
   },
   {
    "duration": 17,
    "start_time": "2022-11-02T13:40:00.247Z"
   },
   {
    "duration": 22,
    "start_time": "2022-11-02T13:40:03.329Z"
   },
   {
    "duration": 18,
    "start_time": "2022-11-02T13:40:05.748Z"
   },
   {
    "duration": 18,
    "start_time": "2022-11-02T13:40:08.471Z"
   },
   {
    "duration": 16,
    "start_time": "2022-11-02T13:40:27.009Z"
   },
   {
    "duration": 21,
    "start_time": "2022-11-02T13:40:37.789Z"
   },
   {
    "duration": 14,
    "start_time": "2022-11-02T13:40:58.720Z"
   },
   {
    "duration": 19,
    "start_time": "2022-11-02T13:41:07.398Z"
   },
   {
    "duration": 17,
    "start_time": "2022-11-02T13:41:09.973Z"
   },
   {
    "duration": 14,
    "start_time": "2022-11-02T13:41:13.979Z"
   },
   {
    "duration": 14,
    "start_time": "2022-11-02T13:41:19.045Z"
   },
   {
    "duration": 21,
    "start_time": "2022-11-02T13:41:23.844Z"
   },
   {
    "duration": 17,
    "start_time": "2022-11-02T13:41:28.870Z"
   },
   {
    "duration": 13,
    "start_time": "2022-11-02T13:41:43.366Z"
   },
   {
    "duration": 19,
    "start_time": "2022-11-02T13:41:53.979Z"
   },
   {
    "duration": 18,
    "start_time": "2022-11-02T13:42:04.462Z"
   },
   {
    "duration": 20,
    "start_time": "2022-11-02T13:42:11.803Z"
   },
   {
    "duration": 3,
    "start_time": "2022-11-02T13:49:18.766Z"
   },
   {
    "duration": 4,
    "start_time": "2022-11-02T13:49:23.954Z"
   },
   {
    "duration": 13,
    "start_time": "2022-11-02T13:49:40.656Z"
   },
   {
    "duration": 4,
    "start_time": "2022-11-02T13:49:49.281Z"
   },
   {
    "duration": 4,
    "start_time": "2022-11-02T13:49:51.050Z"
   },
   {
    "duration": 3,
    "start_time": "2022-11-02T13:49:55.474Z"
   },
   {
    "duration": 4,
    "start_time": "2022-11-02T13:49:58.349Z"
   },
   {
    "duration": 15,
    "start_time": "2022-11-02T13:50:00.463Z"
   },
   {
    "duration": 4,
    "start_time": "2022-11-02T13:50:21.507Z"
   },
   {
    "duration": 18,
    "start_time": "2022-11-02T13:50:27.561Z"
   },
   {
    "duration": 16,
    "start_time": "2022-11-02T13:50:31.724Z"
   },
   {
    "duration": 88,
    "start_time": "2022-11-02T14:03:55.810Z"
   },
   {
    "duration": 41,
    "start_time": "2022-11-02T17:08:47.505Z"
   },
   {
    "duration": 14752,
    "start_time": "2022-11-02T17:08:53.812Z"
   },
   {
    "duration": 3,
    "start_time": "2022-11-02T17:09:08.566Z"
   },
   {
    "duration": 25,
    "start_time": "2022-11-02T17:09:08.571Z"
   },
   {
    "duration": 81,
    "start_time": "2022-11-02T17:09:08.598Z"
   },
   {
    "duration": 2720,
    "start_time": "2022-11-02T17:09:08.681Z"
   },
   {
    "duration": 4,
    "start_time": "2022-11-02T17:09:11.403Z"
   },
   {
    "duration": 21,
    "start_time": "2022-11-02T17:09:11.408Z"
   },
   {
    "duration": 4,
    "start_time": "2022-11-02T17:09:11.431Z"
   },
   {
    "duration": 35,
    "start_time": "2022-11-02T17:09:11.437Z"
   },
   {
    "duration": 8,
    "start_time": "2022-11-02T17:09:11.475Z"
   },
   {
    "duration": 16,
    "start_time": "2022-11-02T17:09:11.485Z"
   },
   {
    "duration": 21,
    "start_time": "2022-11-02T17:09:11.503Z"
   },
   {
    "duration": 6748,
    "start_time": "2022-11-02T17:21:04.353Z"
   },
   {
    "duration": 7,
    "start_time": "2022-11-02T17:24:25.275Z"
   },
   {
    "duration": 6,
    "start_time": "2022-11-02T17:24:32.805Z"
   },
   {
    "duration": 144,
    "start_time": "2022-11-02T17:25:15.660Z"
   },
   {
    "duration": 5,
    "start_time": "2022-11-02T17:25:22.477Z"
   },
   {
    "duration": 12,
    "start_time": "2022-11-02T17:25:27.296Z"
   },
   {
    "duration": 11,
    "start_time": "2022-11-02T17:28:27.398Z"
   },
   {
    "duration": 3,
    "start_time": "2022-11-02T17:29:53.089Z"
   },
   {
    "duration": 3,
    "start_time": "2022-11-02T17:29:53.938Z"
   },
   {
    "duration": 26,
    "start_time": "2022-11-02T17:29:55.063Z"
   },
   {
    "duration": 6579,
    "start_time": "2022-11-02T17:29:56.087Z"
   },
   {
    "duration": 6,
    "start_time": "2022-11-02T17:39:15.865Z"
   },
   {
    "duration": 7,
    "start_time": "2022-11-02T17:40:29.894Z"
   },
   {
    "duration": 11,
    "start_time": "2022-11-02T17:40:32.116Z"
   },
   {
    "duration": 4,
    "start_time": "2022-11-02T17:50:18.646Z"
   },
   {
    "duration": 4,
    "start_time": "2022-11-02T17:52:05.381Z"
   },
   {
    "duration": 3,
    "start_time": "2022-11-02T17:52:13.985Z"
   },
   {
    "duration": 4,
    "start_time": "2022-11-02T17:52:19.844Z"
   },
   {
    "duration": 4,
    "start_time": "2022-11-02T18:06:25.233Z"
   },
   {
    "duration": 5,
    "start_time": "2022-11-02T18:06:32.626Z"
   },
   {
    "duration": 4,
    "start_time": "2022-11-02T18:06:40.652Z"
   },
   {
    "duration": 3,
    "start_time": "2022-11-02T18:06:52.377Z"
   },
   {
    "duration": 287,
    "start_time": "2022-11-02T18:07:05.520Z"
   },
   {
    "duration": 3,
    "start_time": "2022-11-02T18:07:14.072Z"
   },
   {
    "duration": 10,
    "start_time": "2022-11-02T18:07:23.668Z"
   },
   {
    "duration": 4,
    "start_time": "2022-11-02T18:29:15.990Z"
   },
   {
    "duration": 5,
    "start_time": "2022-11-02T18:31:20.684Z"
   },
   {
    "duration": 4,
    "start_time": "2022-11-02T18:31:25.484Z"
   },
   {
    "duration": 10,
    "start_time": "2022-11-02T18:31:27.729Z"
   },
   {
    "duration": 5,
    "start_time": "2022-11-02T18:31:34.211Z"
   },
   {
    "duration": 4,
    "start_time": "2022-11-02T18:31:36.273Z"
   },
   {
    "duration": 6,
    "start_time": "2022-11-02T18:31:39.092Z"
   },
   {
    "duration": 5,
    "start_time": "2022-11-02T18:31:43.582Z"
   },
   {
    "duration": 4,
    "start_time": "2022-11-02T18:31:45.382Z"
   },
   {
    "duration": 10,
    "start_time": "2022-11-02T18:31:47.725Z"
   },
   {
    "duration": 225,
    "start_time": "2022-11-02T18:33:41.620Z"
   },
   {
    "duration": 12,
    "start_time": "2022-11-02T18:41:52.122Z"
   },
   {
    "duration": 358,
    "start_time": "2022-11-02T18:42:00.314Z"
   },
   {
    "duration": 450,
    "start_time": "2022-11-02T18:42:09.849Z"
   },
   {
    "duration": 15,
    "start_time": "2022-11-02T18:42:18.056Z"
   },
   {
    "duration": 5,
    "start_time": "2022-11-02T18:43:34.993Z"
   },
   {
    "duration": 13,
    "start_time": "2022-11-02T18:43:44.501Z"
   },
   {
    "duration": 10,
    "start_time": "2022-11-02T18:45:06.213Z"
   },
   {
    "duration": 12,
    "start_time": "2022-11-02T18:45:17.574Z"
   },
   {
    "duration": 73,
    "start_time": "2022-11-02T18:45:37.351Z"
   },
   {
    "duration": 14,
    "start_time": "2022-11-02T18:45:40.581Z"
   },
   {
    "duration": 15,
    "start_time": "2022-11-02T18:45:52.545Z"
   },
   {
    "duration": 18,
    "start_time": "2022-11-02T18:46:02.480Z"
   },
   {
    "duration": 7,
    "start_time": "2022-11-02T18:46:33.529Z"
   },
   {
    "duration": 8,
    "start_time": "2022-11-02T18:46:47.522Z"
   },
   {
    "duration": 13,
    "start_time": "2022-11-02T18:46:54.308Z"
   },
   {
    "duration": 1772,
    "start_time": "2022-11-02T18:47:24.720Z"
   },
   {
    "duration": 2,
    "start_time": "2022-11-02T18:47:26.494Z"
   },
   {
    "duration": 8,
    "start_time": "2022-11-02T18:47:26.498Z"
   },
   {
    "duration": 35,
    "start_time": "2022-11-02T18:47:26.508Z"
   },
   {
    "duration": 7122,
    "start_time": "2022-11-02T18:47:26.544Z"
   },
   {
    "duration": 5,
    "start_time": "2022-11-02T18:47:33.668Z"
   },
   {
    "duration": 10,
    "start_time": "2022-11-02T18:47:33.674Z"
   },
   {
    "duration": 5,
    "start_time": "2022-11-02T18:47:33.686Z"
   },
   {
    "duration": 7,
    "start_time": "2022-11-02T18:47:33.693Z"
   },
   {
    "duration": 19,
    "start_time": "2022-11-02T18:47:33.703Z"
   },
   {
    "duration": 14,
    "start_time": "2022-11-02T18:47:33.724Z"
   },
   {
    "duration": 7,
    "start_time": "2022-11-02T18:47:33.739Z"
   },
   {
    "duration": 364,
    "start_time": "2022-11-02T18:47:33.747Z"
   },
   {
    "duration": 12,
    "start_time": "2022-11-02T18:47:34.112Z"
   },
   {
    "duration": 17,
    "start_time": "2022-11-02T18:47:52.907Z"
   },
   {
    "duration": 13,
    "start_time": "2022-11-02T18:48:07.008Z"
   },
   {
    "duration": 161,
    "start_time": "2022-11-02T18:49:00.928Z"
   },
   {
    "duration": 3,
    "start_time": "2022-11-02T18:49:06.344Z"
   },
   {
    "duration": 3,
    "start_time": "2022-11-02T18:49:08.412Z"
   },
   {
    "duration": 5,
    "start_time": "2022-11-02T18:49:09.524Z"
   },
   {
    "duration": 5,
    "start_time": "2022-11-02T18:49:16.116Z"
   },
   {
    "duration": 9,
    "start_time": "2022-11-02T18:49:17.447Z"
   },
   {
    "duration": 10,
    "start_time": "2022-11-02T18:49:19.150Z"
   },
   {
    "duration": 11,
    "start_time": "2022-11-02T18:49:28.293Z"
   },
   {
    "duration": 17,
    "start_time": "2022-11-02T18:49:42.028Z"
   },
   {
    "duration": 17,
    "start_time": "2022-11-02T18:49:46.780Z"
   },
   {
    "duration": 23,
    "start_time": "2022-11-02T18:49:56.353Z"
   },
   {
    "duration": 17,
    "start_time": "2022-11-02T18:50:29.605Z"
   },
   {
    "duration": 12,
    "start_time": "2022-11-02T18:50:41.017Z"
   },
   {
    "duration": 6,
    "start_time": "2022-11-02T18:50:57.983Z"
   },
   {
    "duration": 6,
    "start_time": "2022-11-02T18:51:02.800Z"
   },
   {
    "duration": 2,
    "start_time": "2022-11-02T18:51:06.510Z"
   },
   {
    "duration": 7,
    "start_time": "2022-11-02T18:51:10.307Z"
   },
   {
    "duration": 8,
    "start_time": "2022-11-02T18:51:11.956Z"
   },
   {
    "duration": 2,
    "start_time": "2022-11-02T18:51:13.840Z"
   },
   {
    "duration": 8,
    "start_time": "2022-11-02T18:51:16.867Z"
   },
   {
    "duration": 14,
    "start_time": "2022-11-02T18:51:26.667Z"
   },
   {
    "duration": 13,
    "start_time": "2022-11-02T18:51:34.221Z"
   },
   {
    "duration": 16,
    "start_time": "2022-11-02T18:51:52.064Z"
   },
   {
    "duration": 19,
    "start_time": "2022-11-02T18:51:59.248Z"
   },
   {
    "duration": 17,
    "start_time": "2022-11-02T18:52:04.543Z"
   },
   {
    "duration": 10,
    "start_time": "2022-11-02T18:52:11.235Z"
   },
   {
    "duration": 8,
    "start_time": "2022-11-02T18:52:19.575Z"
   },
   {
    "duration": 16,
    "start_time": "2022-11-02T18:52:26.448Z"
   },
   {
    "duration": 13,
    "start_time": "2022-11-02T18:52:55.619Z"
   },
   {
    "duration": 10,
    "start_time": "2022-11-02T18:52:59.441Z"
   },
   {
    "duration": 11,
    "start_time": "2022-11-02T18:53:53.605Z"
   },
   {
    "duration": 3,
    "start_time": "2022-11-02T19:03:13.891Z"
   },
   {
    "duration": 143,
    "start_time": "2022-11-02T19:03:54.525Z"
   },
   {
    "duration": 12,
    "start_time": "2022-11-02T19:04:11.390Z"
   },
   {
    "duration": 3,
    "start_time": "2022-11-02T19:05:40.299Z"
   },
   {
    "duration": 14,
    "start_time": "2022-11-02T19:05:45.153Z"
   },
   {
    "duration": 30,
    "start_time": "2022-11-02T19:06:12.860Z"
   },
   {
    "duration": 38,
    "start_time": "2022-11-02T19:06:23.755Z"
   },
   {
    "duration": 5,
    "start_time": "2022-11-02T19:06:29.664Z"
   },
   {
    "duration": 24,
    "start_time": "2022-11-02T19:06:41.983Z"
   },
   {
    "duration": 25,
    "start_time": "2022-11-02T19:06:43.872Z"
   },
   {
    "duration": 4,
    "start_time": "2022-11-02T19:06:45.235Z"
   },
   {
    "duration": 4,
    "start_time": "2022-11-02T19:06:49.251Z"
   },
   {
    "duration": 26,
    "start_time": "2022-11-02T19:07:09.063Z"
   },
   {
    "duration": 3,
    "start_time": "2022-11-02T19:07:10.846Z"
   },
   {
    "duration": 3,
    "start_time": "2022-11-02T19:15:48.416Z"
   },
   {
    "duration": 5,
    "start_time": "2022-11-02T19:15:55.041Z"
   },
   {
    "duration": 11,
    "start_time": "2022-11-02T19:16:02.164Z"
   },
   {
    "duration": 3,
    "start_time": "2022-11-02T19:16:42.805Z"
   },
   {
    "duration": 3,
    "start_time": "2022-11-02T19:16:51.415Z"
   },
   {
    "duration": 4,
    "start_time": "2022-11-02T19:16:55.458Z"
   },
   {
    "duration": 4,
    "start_time": "2022-11-02T19:17:11.162Z"
   },
   {
    "duration": 24,
    "start_time": "2022-11-02T19:17:36.098Z"
   },
   {
    "duration": 3,
    "start_time": "2022-11-02T19:18:32.785Z"
   },
   {
    "duration": 4,
    "start_time": "2022-11-02T19:18:38.342Z"
   },
   {
    "duration": 27,
    "start_time": "2022-11-02T19:18:39.247Z"
   },
   {
    "duration": 37,
    "start_time": "2022-11-02T19:18:40.652Z"
   },
   {
    "duration": 28,
    "start_time": "2022-11-02T19:18:41.161Z"
   },
   {
    "duration": 27,
    "start_time": "2022-11-02T19:18:41.613Z"
   },
   {
    "duration": 25,
    "start_time": "2022-11-02T19:18:42.132Z"
   },
   {
    "duration": 28,
    "start_time": "2022-11-02T19:18:49.408Z"
   },
   {
    "duration": 11,
    "start_time": "2022-11-02T19:18:59.711Z"
   },
   {
    "duration": 9,
    "start_time": "2022-11-02T19:19:05.655Z"
   },
   {
    "duration": 27,
    "start_time": "2022-11-02T19:19:09.909Z"
   },
   {
    "duration": 26,
    "start_time": "2022-11-02T19:22:34.462Z"
   },
   {
    "duration": 4,
    "start_time": "2022-11-02T19:22:49.913Z"
   },
   {
    "duration": 26,
    "start_time": "2022-11-02T19:22:52.012Z"
   },
   {
    "duration": 3,
    "start_time": "2022-11-02T19:22:57.336Z"
   },
   {
    "duration": 26,
    "start_time": "2022-11-02T19:22:58.347Z"
   },
   {
    "duration": 28,
    "start_time": "2022-11-02T19:23:03.623Z"
   },
   {
    "duration": 13,
    "start_time": "2022-11-02T19:25:30.761Z"
   },
   {
    "duration": 4,
    "start_time": "2022-11-02T19:25:34.097Z"
   },
   {
    "duration": 4,
    "start_time": "2022-11-02T19:25:35.750Z"
   },
   {
    "duration": 9,
    "start_time": "2022-11-02T19:25:37.020Z"
   },
   {
    "duration": 14,
    "start_time": "2022-11-02T19:25:38.854Z"
   },
   {
    "duration": 9,
    "start_time": "2022-11-02T19:25:48.673Z"
   },
   {
    "duration": 3,
    "start_time": "2022-11-02T19:25:51.427Z"
   },
   {
    "duration": 25,
    "start_time": "2022-11-02T19:25:52.595Z"
   },
   {
    "duration": 28,
    "start_time": "2022-11-02T19:26:04.084Z"
   },
   {
    "duration": 2,
    "start_time": "2022-11-02T19:26:14.414Z"
   },
   {
    "duration": 28,
    "start_time": "2022-11-02T19:27:19.652Z"
   },
   {
    "duration": 25,
    "start_time": "2022-11-02T19:27:20.673Z"
   },
   {
    "duration": 3,
    "start_time": "2022-11-02T19:31:31.450Z"
   },
   {
    "duration": 29,
    "start_time": "2022-11-02T19:31:32.661Z"
   },
   {
    "duration": 27,
    "start_time": "2022-11-02T19:31:37.272Z"
   },
   {
    "duration": 5,
    "start_time": "2022-11-02T19:31:46.000Z"
   },
   {
    "duration": 71,
    "start_time": "2022-11-02T19:32:28.038Z"
   },
   {
    "duration": 9,
    "start_time": "2022-11-02T19:32:31.626Z"
   },
   {
    "duration": 3,
    "start_time": "2022-11-02T19:33:00.302Z"
   },
   {
    "duration": 35,
    "start_time": "2022-11-02T19:33:02.915Z"
   },
   {
    "duration": 2,
    "start_time": "2022-11-02T19:33:04.852Z"
   },
   {
    "duration": 36,
    "start_time": "2022-11-02T19:33:05.754Z"
   },
   {
    "duration": 4,
    "start_time": "2022-11-02T19:33:15.293Z"
   },
   {
    "duration": 3,
    "start_time": "2022-11-02T19:33:17.079Z"
   },
   {
    "duration": 24,
    "start_time": "2022-11-02T19:33:17.704Z"
   },
   {
    "duration": 3,
    "start_time": "2022-11-02T19:33:34.305Z"
   },
   {
    "duration": 26,
    "start_time": "2022-11-02T19:33:36.498Z"
   },
   {
    "duration": 3,
    "start_time": "2022-11-02T19:34:05.050Z"
   },
   {
    "duration": 2,
    "start_time": "2022-11-02T19:34:06.762Z"
   },
   {
    "duration": 3,
    "start_time": "2022-11-02T19:34:10.045Z"
   },
   {
    "duration": 26,
    "start_time": "2022-11-02T19:34:11.013Z"
   },
   {
    "duration": 25,
    "start_time": "2022-11-02T19:34:12.709Z"
   },
   {
    "duration": 9,
    "start_time": "2022-11-02T19:34:13.897Z"
   },
   {
    "duration": 4,
    "start_time": "2022-11-02T19:38:23.768Z"
   },
   {
    "duration": 26,
    "start_time": "2022-11-02T19:38:26.627Z"
   },
   {
    "duration": 3,
    "start_time": "2022-11-02T19:38:59.336Z"
   },
   {
    "duration": 25,
    "start_time": "2022-11-02T19:39:00.145Z"
   },
   {
    "duration": 25,
    "start_time": "2022-11-02T19:39:00.945Z"
   },
   {
    "duration": 25,
    "start_time": "2022-11-02T19:39:02.971Z"
   },
   {
    "duration": 24,
    "start_time": "2022-11-02T19:39:04.256Z"
   },
   {
    "duration": 10,
    "start_time": "2022-11-02T19:39:09.952Z"
   },
   {
    "duration": 3,
    "start_time": "2022-11-02T19:39:21.840Z"
   },
   {
    "duration": 24,
    "start_time": "2022-11-02T19:39:22.694Z"
   },
   {
    "duration": 29,
    "start_time": "2022-11-02T19:39:23.517Z"
   },
   {
    "duration": 23,
    "start_time": "2022-11-02T19:39:25.044Z"
   },
   {
    "duration": 8,
    "start_time": "2022-11-02T19:39:26.739Z"
   },
   {
    "duration": 10,
    "start_time": "2022-11-02T19:40:38.965Z"
   },
   {
    "duration": 1595,
    "start_time": "2022-11-02T19:46:22.807Z"
   },
   {
    "duration": 233,
    "start_time": "2022-11-02T19:46:24.404Z"
   },
   {
    "duration": 3,
    "start_time": "2022-11-02T19:46:24.638Z"
   },
   {
    "duration": 41,
    "start_time": "2022-11-02T19:46:24.643Z"
   },
   {
    "duration": 6973,
    "start_time": "2022-11-02T19:46:24.685Z"
   },
   {
    "duration": 3,
    "start_time": "2022-11-02T19:46:31.660Z"
   },
   {
    "duration": 19,
    "start_time": "2022-11-02T19:46:31.664Z"
   },
   {
    "duration": 14,
    "start_time": "2022-11-02T19:46:31.685Z"
   },
   {
    "duration": 10,
    "start_time": "2022-11-02T19:46:31.701Z"
   },
   {
    "duration": 32,
    "start_time": "2022-11-02T19:46:31.713Z"
   },
   {
    "duration": 18,
    "start_time": "2022-11-02T19:46:31.747Z"
   },
   {
    "duration": 30,
    "start_time": "2022-11-02T19:46:31.767Z"
   },
   {
    "duration": 8,
    "start_time": "2022-11-02T19:46:31.799Z"
   },
   {
    "duration": 22,
    "start_time": "2022-11-02T19:46:31.808Z"
   },
   {
    "duration": 92,
    "start_time": "2022-11-02T19:46:31.831Z"
   },
   {
    "duration": 186,
    "start_time": "2022-11-02T19:46:31.924Z"
   },
   {
    "duration": 0,
    "start_time": "2022-11-02T19:46:32.112Z"
   },
   {
    "duration": 0,
    "start_time": "2022-11-02T19:46:32.113Z"
   },
   {
    "duration": 3,
    "start_time": "2022-11-02T19:48:26.852Z"
   },
   {
    "duration": 2,
    "start_time": "2022-11-02T19:48:28.508Z"
   },
   {
    "duration": 16,
    "start_time": "2022-11-02T19:48:29.488Z"
   },
   {
    "duration": 3,
    "start_time": "2022-11-02T19:48:59.934Z"
   },
   {
    "duration": 3,
    "start_time": "2022-11-02T19:49:01.450Z"
   },
   {
    "duration": 16,
    "start_time": "2022-11-02T19:49:02.360Z"
   },
   {
    "duration": 3,
    "start_time": "2022-11-02T19:49:06.661Z"
   },
   {
    "duration": 26,
    "start_time": "2022-11-02T19:49:07.923Z"
   },
   {
    "duration": 11,
    "start_time": "2022-11-02T19:49:09.475Z"
   },
   {
    "duration": 25,
    "start_time": "2022-11-02T19:49:22.612Z"
   },
   {
    "duration": 9,
    "start_time": "2022-11-02T19:49:23.649Z"
   },
   {
    "duration": 14,
    "start_time": "2022-11-02T19:57:31.317Z"
   },
   {
    "duration": 8,
    "start_time": "2022-11-02T19:57:37.109Z"
   },
   {
    "duration": 13,
    "start_time": "2022-11-02T19:57:41.623Z"
   },
   {
    "duration": 19,
    "start_time": "2022-11-02T19:57:55.526Z"
   },
   {
    "duration": 11,
    "start_time": "2022-11-02T19:58:05.895Z"
   },
   {
    "duration": 19,
    "start_time": "2022-11-02T19:58:15.632Z"
   },
   {
    "duration": 7,
    "start_time": "2022-11-02T19:59:08.631Z"
   },
   {
    "duration": 13,
    "start_time": "2022-11-02T19:59:16.394Z"
   },
   {
    "duration": 13,
    "start_time": "2022-11-02T19:59:22.520Z"
   },
   {
    "duration": 12,
    "start_time": "2022-11-02T19:59:42.798Z"
   },
   {
    "duration": 7,
    "start_time": "2022-11-02T20:00:11.936Z"
   },
   {
    "duration": 15,
    "start_time": "2022-11-02T20:00:16.787Z"
   },
   {
    "duration": 14,
    "start_time": "2022-11-02T20:00:32.158Z"
   },
   {
    "duration": 5,
    "start_time": "2022-11-02T20:01:11.656Z"
   },
   {
    "duration": 6,
    "start_time": "2022-11-02T20:01:39.487Z"
   },
   {
    "duration": 12,
    "start_time": "2022-11-02T20:01:42.726Z"
   },
   {
    "duration": 11,
    "start_time": "2022-11-02T20:01:51.295Z"
   },
   {
    "duration": 16,
    "start_time": "2022-11-02T20:02:05.008Z"
   },
   {
    "duration": 9,
    "start_time": "2022-11-02T20:03:02.347Z"
   },
   {
    "duration": 10,
    "start_time": "2022-11-02T20:03:06.709Z"
   },
   {
    "duration": 14,
    "start_time": "2022-11-02T20:03:43.195Z"
   },
   {
    "duration": 11,
    "start_time": "2022-11-02T20:03:51.784Z"
   },
   {
    "duration": 16,
    "start_time": "2022-11-02T20:04:04.002Z"
   },
   {
    "duration": 18,
    "start_time": "2022-11-02T20:04:09.123Z"
   },
   {
    "duration": 12,
    "start_time": "2022-11-02T20:04:17.879Z"
   },
   {
    "duration": 14,
    "start_time": "2022-11-02T20:04:41.158Z"
   },
   {
    "duration": 14,
    "start_time": "2022-11-02T20:04:45.289Z"
   },
   {
    "duration": 1579,
    "start_time": "2022-11-02T20:09:34.253Z"
   },
   {
    "duration": 258,
    "start_time": "2022-11-02T20:09:35.834Z"
   },
   {
    "duration": 4,
    "start_time": "2022-11-02T20:09:36.094Z"
   },
   {
    "duration": 38,
    "start_time": "2022-11-02T20:09:36.100Z"
   },
   {
    "duration": 7033,
    "start_time": "2022-11-02T20:09:36.140Z"
   },
   {
    "duration": 3,
    "start_time": "2022-11-02T20:09:43.175Z"
   },
   {
    "duration": 25,
    "start_time": "2022-11-02T20:09:43.179Z"
   },
   {
    "duration": 4,
    "start_time": "2022-11-02T20:09:43.206Z"
   },
   {
    "duration": 4,
    "start_time": "2022-11-02T20:09:43.222Z"
   },
   {
    "duration": 15,
    "start_time": "2022-11-02T20:09:43.228Z"
   },
   {
    "duration": 6,
    "start_time": "2022-11-02T20:09:43.244Z"
   },
   {
    "duration": 11,
    "start_time": "2022-11-02T20:09:43.251Z"
   },
   {
    "duration": 60,
    "start_time": "2022-11-02T20:09:43.263Z"
   },
   {
    "duration": 4,
    "start_time": "2022-11-02T20:09:43.324Z"
   },
   {
    "duration": 18,
    "start_time": "2022-11-02T20:09:43.329Z"
   },
   {
    "duration": 25,
    "start_time": "2022-11-02T20:09:43.423Z"
   },
   {
    "duration": 24,
    "start_time": "2022-11-02T20:09:43.450Z"
   },
   {
    "duration": 9,
    "start_time": "2022-11-02T20:09:43.475Z"
   },
   {
    "duration": 77573,
    "start_time": "2022-11-03T19:15:37.031Z"
   },
   {
    "duration": 850,
    "start_time": "2022-11-03T19:16:54.606Z"
   },
   {
    "duration": 4,
    "start_time": "2022-11-03T19:16:55.458Z"
   },
   {
    "duration": 42,
    "start_time": "2022-11-03T19:16:55.464Z"
   },
   {
    "duration": 7539,
    "start_time": "2022-11-03T19:16:55.507Z"
   },
   {
    "duration": 4,
    "start_time": "2022-11-03T19:28:13.168Z"
   },
   {
    "duration": 7,
    "start_time": "2022-11-03T19:28:14.683Z"
   },
   {
    "duration": 5,
    "start_time": "2022-11-03T19:28:15.369Z"
   },
   {
    "duration": 169,
    "start_time": "2022-11-03T19:28:34.677Z"
   },
   {
    "duration": 4,
    "start_time": "2022-11-03T19:28:40.593Z"
   },
   {
    "duration": 5,
    "start_time": "2022-11-03T19:28:45.168Z"
   },
   {
    "duration": 16158,
    "start_time": "2022-11-03T21:49:36.108Z"
   },
   {
    "duration": 246,
    "start_time": "2022-11-03T21:49:52.269Z"
   },
   {
    "duration": 3,
    "start_time": "2022-11-03T21:49:52.517Z"
   },
   {
    "duration": 117,
    "start_time": "2022-11-03T21:49:52.522Z"
   },
   {
    "duration": 20,
    "start_time": "2022-11-03T21:50:11.160Z"
   },
   {
    "duration": 14,
    "start_time": "2022-11-03T21:50:22.574Z"
   },
   {
    "duration": 15,
    "start_time": "2022-11-03T21:50:31.535Z"
   },
   {
    "duration": 12,
    "start_time": "2022-11-03T21:50:40.909Z"
   },
   {
    "duration": 7,
    "start_time": "2022-11-03T21:50:52.929Z"
   },
   {
    "duration": 16,
    "start_time": "2022-11-03T21:52:08.284Z"
   },
   {
    "duration": 13,
    "start_time": "2022-11-03T21:52:26.568Z"
   },
   {
    "duration": 14,
    "start_time": "2022-11-03T21:52:37.615Z"
   },
   {
    "duration": 10,
    "start_time": "2022-11-03T21:57:02.587Z"
   },
   {
    "duration": 53,
    "start_time": "2022-11-03T22:00:24.754Z"
   },
   {
    "duration": 3,
    "start_time": "2022-11-03T22:13:30.386Z"
   },
   {
    "duration": 164,
    "start_time": "2022-11-03T22:13:34.357Z"
   },
   {
    "duration": 4,
    "start_time": "2022-11-03T22:13:54.224Z"
   },
   {
    "duration": 5,
    "start_time": "2022-11-03T22:13:55.135Z"
   },
   {
    "duration": 5,
    "start_time": "2022-11-03T22:13:59.444Z"
   },
   {
    "duration": 3,
    "start_time": "2022-11-03T22:14:02.878Z"
   },
   {
    "duration": 4,
    "start_time": "2022-11-03T22:14:04.326Z"
   },
   {
    "duration": 5,
    "start_time": "2022-11-03T22:14:11.696Z"
   },
   {
    "duration": 3,
    "start_time": "2022-11-03T22:14:12.869Z"
   },
   {
    "duration": 4,
    "start_time": "2022-11-03T22:14:13.923Z"
   },
   {
    "duration": 3,
    "start_time": "2022-11-03T22:14:14.396Z"
   },
   {
    "duration": 3,
    "start_time": "2022-11-03T22:14:14.925Z"
   },
   {
    "duration": 3,
    "start_time": "2022-11-03T22:14:19.749Z"
   },
   {
    "duration": 4,
    "start_time": "2022-11-03T22:14:20.755Z"
   },
   {
    "duration": 4,
    "start_time": "2022-11-03T22:14:21.481Z"
   },
   {
    "duration": 3,
    "start_time": "2022-11-03T22:14:53.076Z"
   },
   {
    "duration": 3,
    "start_time": "2022-11-03T22:14:54.303Z"
   },
   {
    "duration": 3,
    "start_time": "2022-11-03T22:14:55.443Z"
   },
   {
    "duration": 3,
    "start_time": "2022-11-03T22:14:55.999Z"
   },
   {
    "duration": 3,
    "start_time": "2022-11-03T22:14:57.083Z"
   },
   {
    "duration": 3,
    "start_time": "2022-11-03T22:14:57.555Z"
   },
   {
    "duration": 4,
    "start_time": "2022-11-03T22:14:58.001Z"
   },
   {
    "duration": 4,
    "start_time": "2022-11-03T22:14:58.605Z"
   },
   {
    "duration": 4,
    "start_time": "2022-11-03T22:15:23.599Z"
   },
   {
    "duration": 3,
    "start_time": "2022-11-03T22:15:29.524Z"
   },
   {
    "duration": 13,
    "start_time": "2022-11-03T22:15:47.978Z"
   },
   {
    "duration": 4,
    "start_time": "2022-11-03T22:15:52.635Z"
   },
   {
    "duration": 4,
    "start_time": "2022-11-03T22:15:54.105Z"
   },
   {
    "duration": 4,
    "start_time": "2022-11-03T22:17:08.479Z"
   },
   {
    "duration": 5,
    "start_time": "2022-11-03T22:17:10.068Z"
   },
   {
    "duration": 5,
    "start_time": "2022-11-03T22:17:12.875Z"
   },
   {
    "duration": 2,
    "start_time": "2022-11-03T22:17:14.347Z"
   },
   {
    "duration": 5,
    "start_time": "2022-11-03T22:17:15.549Z"
   },
   {
    "duration": 5,
    "start_time": "2022-11-03T22:18:37.221Z"
   },
   {
    "duration": 3,
    "start_time": "2022-11-03T22:18:39.844Z"
   },
   {
    "duration": 5,
    "start_time": "2022-11-03T22:18:40.852Z"
   },
   {
    "duration": 5,
    "start_time": "2022-11-03T22:20:07.389Z"
   },
   {
    "duration": 4,
    "start_time": "2022-11-03T22:20:08.519Z"
   },
   {
    "duration": 3,
    "start_time": "2022-11-03T22:20:16.584Z"
   },
   {
    "duration": 4,
    "start_time": "2022-11-03T22:20:18.531Z"
   },
   {
    "duration": 3,
    "start_time": "2022-11-03T22:20:26.765Z"
   },
   {
    "duration": 3,
    "start_time": "2022-11-03T22:24:35.529Z"
   },
   {
    "duration": 5,
    "start_time": "2022-11-03T22:24:37.148Z"
   },
   {
    "duration": 59,
    "start_time": "2022-11-03T22:38:17.200Z"
   },
   {
    "duration": 3,
    "start_time": "2022-11-03T22:38:21.372Z"
   },
   {
    "duration": 4,
    "start_time": "2022-11-03T22:39:10.402Z"
   },
   {
    "duration": 3,
    "start_time": "2022-11-03T22:39:38.958Z"
   },
   {
    "duration": 3,
    "start_time": "2022-11-03T22:40:29.868Z"
   },
   {
    "duration": 3,
    "start_time": "2022-11-03T22:40:30.845Z"
   },
   {
    "duration": 4,
    "start_time": "2022-11-03T22:40:38.880Z"
   },
   {
    "duration": 5,
    "start_time": "2022-11-03T22:40:44.084Z"
   },
   {
    "duration": 3,
    "start_time": "2022-11-03T22:41:08.104Z"
   },
   {
    "duration": 4,
    "start_time": "2022-11-03T22:41:11.423Z"
   },
   {
    "duration": 4,
    "start_time": "2022-11-03T22:41:12.528Z"
   },
   {
    "duration": 4,
    "start_time": "2022-11-03T22:41:14.518Z"
   },
   {
    "duration": 3,
    "start_time": "2022-11-03T22:41:16.310Z"
   },
   {
    "duration": 4,
    "start_time": "2022-11-03T22:41:17.276Z"
   },
   {
    "duration": 3,
    "start_time": "2022-11-03T22:41:22.382Z"
   },
   {
    "duration": 3,
    "start_time": "2022-11-03T22:41:24.763Z"
   },
   {
    "duration": 5,
    "start_time": "2022-11-03T22:41:26.034Z"
   },
   {
    "duration": 3,
    "start_time": "2022-11-03T22:41:28.497Z"
   },
   {
    "duration": 4,
    "start_time": "2022-11-03T22:41:39.554Z"
   },
   {
    "duration": 3,
    "start_time": "2022-11-03T22:41:40.810Z"
   },
   {
    "duration": 4,
    "start_time": "2022-11-03T22:41:41.961Z"
   },
   {
    "duration": 4,
    "start_time": "2022-11-03T22:41:43.844Z"
   },
   {
    "duration": 4,
    "start_time": "2022-11-03T22:41:44.767Z"
   },
   {
    "duration": 3,
    "start_time": "2022-11-03T22:41:45.687Z"
   },
   {
    "duration": 4,
    "start_time": "2022-11-03T22:41:46.454Z"
   },
   {
    "duration": 4,
    "start_time": "2022-11-03T22:41:52.285Z"
   },
   {
    "duration": 3,
    "start_time": "2022-11-03T22:41:54.014Z"
   },
   {
    "duration": 5,
    "start_time": "2022-11-03T22:41:54.952Z"
   },
   {
    "duration": 4,
    "start_time": "2022-11-03T22:42:03.481Z"
   },
   {
    "duration": 2,
    "start_time": "2022-11-03T22:42:05.598Z"
   },
   {
    "duration": 4,
    "start_time": "2022-11-03T22:42:06.598Z"
   },
   {
    "duration": 4,
    "start_time": "2022-11-03T22:42:17.236Z"
   },
   {
    "duration": 17,
    "start_time": "2022-11-03T22:42:19.400Z"
   },
   {
    "duration": 4,
    "start_time": "2022-11-03T22:42:52.030Z"
   },
   {
    "duration": 4,
    "start_time": "2022-11-03T22:42:53.485Z"
   },
   {
    "duration": 423,
    "start_time": "2022-11-03T22:42:54.295Z"
   },
   {
    "duration": 4,
    "start_time": "2022-11-03T22:43:32.552Z"
   },
   {
    "duration": 5,
    "start_time": "2022-11-03T22:43:41.493Z"
   },
   {
    "duration": 5,
    "start_time": "2022-11-03T22:43:42.246Z"
   },
   {
    "duration": 4,
    "start_time": "2022-11-03T22:43:43.738Z"
   },
   {
    "duration": 3,
    "start_time": "2022-11-03T22:43:50.219Z"
   },
   {
    "duration": 4,
    "start_time": "2022-11-03T22:43:53.559Z"
   },
   {
    "duration": 4,
    "start_time": "2022-11-03T22:43:54.465Z"
   },
   {
    "duration": 4,
    "start_time": "2022-11-03T22:44:08.912Z"
   },
   {
    "duration": 4,
    "start_time": "2022-11-03T22:44:10.054Z"
   },
   {
    "duration": 4,
    "start_time": "2022-11-03T22:44:11.815Z"
   },
   {
    "duration": 5,
    "start_time": "2022-11-03T22:44:17.412Z"
   },
   {
    "duration": 4,
    "start_time": "2022-11-03T22:44:18.543Z"
   },
   {
    "duration": 22,
    "start_time": "2022-11-03T22:44:19.542Z"
   },
   {
    "duration": 4,
    "start_time": "2022-11-03T22:44:34.361Z"
   },
   {
    "duration": 4,
    "start_time": "2022-11-03T22:44:36.448Z"
   },
   {
    "duration": 4,
    "start_time": "2022-11-03T22:44:38.124Z"
   },
   {
    "duration": 5,
    "start_time": "2022-11-03T22:44:53.783Z"
   },
   {
    "duration": 4,
    "start_time": "2022-11-03T22:44:55.478Z"
   },
   {
    "duration": 5,
    "start_time": "2022-11-03T22:44:57.395Z"
   },
   {
    "duration": 5,
    "start_time": "2022-11-03T22:45:17.944Z"
   },
   {
    "duration": 4,
    "start_time": "2022-11-03T22:45:19.349Z"
   },
   {
    "duration": 5,
    "start_time": "2022-11-03T22:45:20.604Z"
   },
   {
    "duration": 3,
    "start_time": "2022-11-03T22:45:27.497Z"
   },
   {
    "duration": 3,
    "start_time": "2022-11-03T22:45:29.283Z"
   },
   {
    "duration": 4,
    "start_time": "2022-11-03T22:45:40.632Z"
   },
   {
    "duration": 4,
    "start_time": "2022-11-03T22:45:45.118Z"
   },
   {
    "duration": 4,
    "start_time": "2022-11-03T22:47:48.265Z"
   },
   {
    "duration": 3,
    "start_time": "2022-11-03T22:48:06.823Z"
   },
   {
    "duration": 4,
    "start_time": "2022-11-03T22:48:07.679Z"
   },
   {
    "duration": 3,
    "start_time": "2022-11-03T22:48:36.872Z"
   },
   {
    "duration": 13,
    "start_time": "2022-11-03T22:48:49.838Z"
   },
   {
    "duration": 4,
    "start_time": "2022-11-03T22:49:17.735Z"
   },
   {
    "duration": 45,
    "start_time": "2022-11-03T22:50:42.823Z"
   },
   {
    "duration": 5,
    "start_time": "2022-11-03T22:50:47.571Z"
   },
   {
    "duration": 3,
    "start_time": "2022-11-03T22:50:48.882Z"
   },
   {
    "duration": 4,
    "start_time": "2022-11-03T22:50:49.824Z"
   },
   {
    "duration": 4,
    "start_time": "2022-11-03T22:50:51.193Z"
   },
   {
    "duration": 14,
    "start_time": "2022-11-03T22:50:52.400Z"
   },
   {
    "duration": 6,
    "start_time": "2022-11-03T22:52:57.874Z"
   },
   {
    "duration": 6,
    "start_time": "2022-11-03T22:53:30.540Z"
   },
   {
    "duration": 3,
    "start_time": "2022-11-03T22:53:32.336Z"
   },
   {
    "duration": 5,
    "start_time": "2022-11-03T22:53:33.221Z"
   },
   {
    "duration": 5,
    "start_time": "2022-11-03T22:53:34.278Z"
   },
   {
    "duration": 13,
    "start_time": "2022-11-03T22:53:35.815Z"
   },
   {
    "duration": 4,
    "start_time": "2022-11-03T22:53:56.218Z"
   },
   {
    "duration": 94,
    "start_time": "2022-11-03T22:53:59.068Z"
   },
   {
    "duration": 6,
    "start_time": "2022-11-03T22:54:34.050Z"
   },
   {
    "duration": 4,
    "start_time": "2022-11-03T22:54:36.525Z"
   },
   {
    "duration": 4,
    "start_time": "2022-11-03T22:54:37.596Z"
   },
   {
    "duration": 4,
    "start_time": "2022-11-03T22:54:38.937Z"
   },
   {
    "duration": 13,
    "start_time": "2022-11-03T22:54:40.143Z"
   },
   {
    "duration": 14,
    "start_time": "2022-11-03T22:54:57.222Z"
   },
   {
    "duration": 6,
    "start_time": "2022-11-03T22:56:24.855Z"
   },
   {
    "duration": 3,
    "start_time": "2022-11-03T22:56:26.360Z"
   },
   {
    "duration": 4,
    "start_time": "2022-11-03T22:56:27.341Z"
   },
   {
    "duration": 4,
    "start_time": "2022-11-03T22:56:28.813Z"
   },
   {
    "duration": 13,
    "start_time": "2022-11-03T22:56:29.598Z"
   },
   {
    "duration": 13,
    "start_time": "2022-11-03T22:56:31.296Z"
   },
   {
    "duration": 6,
    "start_time": "2022-11-03T22:56:55.099Z"
   },
   {
    "duration": 6,
    "start_time": "2022-11-03T22:56:56.939Z"
   },
   {
    "duration": 13,
    "start_time": "2022-11-03T22:56:58.891Z"
   },
   {
    "duration": 3,
    "start_time": "2022-11-03T22:57:00.404Z"
   },
   {
    "duration": 5,
    "start_time": "2022-11-03T22:57:01.487Z"
   },
   {
    "duration": 3,
    "start_time": "2022-11-03T22:57:03.591Z"
   },
   {
    "duration": 13,
    "start_time": "2022-11-03T22:57:04.441Z"
   },
   {
    "duration": 14,
    "start_time": "2022-11-03T22:57:05.840Z"
   },
   {
    "duration": 6,
    "start_time": "2022-11-03T22:57:13.070Z"
   },
   {
    "duration": 3,
    "start_time": "2022-11-03T22:57:15.628Z"
   },
   {
    "duration": 4,
    "start_time": "2022-11-03T22:57:17.776Z"
   },
   {
    "duration": 13,
    "start_time": "2022-11-03T22:57:19.880Z"
   },
   {
    "duration": 7,
    "start_time": "2022-11-03T22:58:28.644Z"
   },
   {
    "duration": 3,
    "start_time": "2022-11-03T22:58:30.631Z"
   },
   {
    "duration": 5,
    "start_time": "2022-11-03T22:58:31.576Z"
   },
   {
    "duration": 4,
    "start_time": "2022-11-03T22:58:32.464Z"
   },
   {
    "duration": 13,
    "start_time": "2022-11-03T22:58:33.543Z"
   },
   {
    "duration": 12,
    "start_time": "2022-11-03T22:58:35.636Z"
   },
   {
    "duration": 6,
    "start_time": "2022-11-03T22:58:40.906Z"
   },
   {
    "duration": 3,
    "start_time": "2022-11-03T22:58:42.510Z"
   },
   {
    "duration": 4,
    "start_time": "2022-11-03T22:58:43.370Z"
   },
   {
    "duration": 4,
    "start_time": "2022-11-03T22:58:44.521Z"
   },
   {
    "duration": 13,
    "start_time": "2022-11-03T22:58:45.725Z"
   },
   {
    "duration": 16,
    "start_time": "2022-11-03T22:58:48.646Z"
   },
   {
    "duration": 14,
    "start_time": "2022-11-03T22:59:03.769Z"
   },
   {
    "duration": 15,
    "start_time": "2022-11-03T22:59:39.790Z"
   },
   {
    "duration": 9,
    "start_time": "2022-11-03T22:59:48.378Z"
   },
   {
    "duration": 9,
    "start_time": "2022-11-03T23:00:01.651Z"
   },
   {
    "duration": 4,
    "start_time": "2022-11-03T23:00:20.809Z"
   },
   {
    "duration": 6,
    "start_time": "2022-11-03T23:00:31.354Z"
   },
   {
    "duration": 3,
    "start_time": "2022-11-03T23:00:33.336Z"
   },
   {
    "duration": 4,
    "start_time": "2022-11-03T23:00:34.444Z"
   },
   {
    "duration": 4,
    "start_time": "2022-11-03T23:00:35.941Z"
   },
   {
    "duration": 13,
    "start_time": "2022-11-03T23:00:36.796Z"
   },
   {
    "duration": 14,
    "start_time": "2022-11-03T23:00:38.307Z"
   },
   {
    "duration": 3,
    "start_time": "2022-11-03T23:00:59.686Z"
   },
   {
    "duration": 6,
    "start_time": "2022-11-03T23:01:01.458Z"
   },
   {
    "duration": 5,
    "start_time": "2022-11-03T23:01:08.992Z"
   },
   {
    "duration": 4,
    "start_time": "2022-11-03T23:01:11.328Z"
   },
   {
    "duration": 4,
    "start_time": "2022-11-03T23:01:12.239Z"
   },
   {
    "duration": 3,
    "start_time": "2022-11-03T23:01:13.329Z"
   },
   {
    "duration": 10,
    "start_time": "2022-11-03T23:01:14.362Z"
   },
   {
    "duration": 17,
    "start_time": "2022-11-03T23:01:16.525Z"
   },
   {
    "duration": 10,
    "start_time": "2022-11-03T23:01:22.131Z"
   },
   {
    "duration": 5,
    "start_time": "2022-11-03T23:03:28.614Z"
   },
   {
    "duration": 6,
    "start_time": "2022-11-03T23:05:46.652Z"
   },
   {
    "duration": 3,
    "start_time": "2022-11-03T23:05:52.195Z"
   },
   {
    "duration": 4,
    "start_time": "2022-11-03T23:05:58.698Z"
   },
   {
    "duration": 6,
    "start_time": "2022-11-03T23:06:11.369Z"
   },
   {
    "duration": 526,
    "start_time": "2022-11-03T23:06:12.757Z"
   },
   {
    "duration": 592,
    "start_time": "2022-11-03T23:06:24.014Z"
   },
   {
    "duration": 6,
    "start_time": "2022-11-03T23:06:26.821Z"
   },
   {
    "duration": 4,
    "start_time": "2022-11-03T23:06:28.396Z"
   },
   {
    "duration": 5,
    "start_time": "2022-11-03T23:06:39.484Z"
   },
   {
    "duration": 13,
    "start_time": "2022-11-03T23:06:46.291Z"
   },
   {
    "duration": 5,
    "start_time": "2022-11-03T23:06:49.701Z"
   },
   {
    "duration": 7,
    "start_time": "2022-11-03T23:07:11.992Z"
   },
   {
    "duration": 6,
    "start_time": "2022-11-03T23:07:52.210Z"
   },
   {
    "duration": 4,
    "start_time": "2022-11-03T23:07:54.198Z"
   },
   {
    "duration": 18,
    "start_time": "2022-11-03T23:08:37.944Z"
   },
   {
    "duration": 6,
    "start_time": "2022-11-03T23:09:36.066Z"
   },
   {
    "duration": 5,
    "start_time": "2022-11-03T23:09:38.733Z"
   },
   {
    "duration": 11,
    "start_time": "2022-11-03T23:09:40.571Z"
   },
   {
    "duration": 4,
    "start_time": "2022-11-03T23:09:42.995Z"
   },
   {
    "duration": 5,
    "start_time": "2022-11-03T23:09:43.493Z"
   },
   {
    "duration": 5,
    "start_time": "2022-11-03T23:09:43.882Z"
   },
   {
    "duration": 5,
    "start_time": "2022-11-03T23:09:44.665Z"
   },
   {
    "duration": 9,
    "start_time": "2022-11-03T23:09:46.415Z"
   },
   {
    "duration": 3,
    "start_time": "2022-11-03T23:10:04.982Z"
   },
   {
    "duration": 23,
    "start_time": "2022-11-03T23:10:17.994Z"
   },
   {
    "duration": 6,
    "start_time": "2022-11-03T23:10:28.629Z"
   },
   {
    "duration": 9,
    "start_time": "2022-11-03T23:10:37.056Z"
   },
   {
    "duration": 21,
    "start_time": "2022-11-03T23:10:39.449Z"
   },
   {
    "duration": 22,
    "start_time": "2022-11-03T23:10:47.752Z"
   },
   {
    "duration": 14,
    "start_time": "2022-11-03T23:10:55.645Z"
   },
   {
    "duration": 15955,
    "start_time": "2022-11-04T06:36:02.815Z"
   },
   {
    "duration": 274,
    "start_time": "2022-11-04T06:36:18.772Z"
   },
   {
    "duration": 3,
    "start_time": "2022-11-04T06:36:19.048Z"
   },
   {
    "duration": 94,
    "start_time": "2022-11-04T06:36:19.053Z"
   },
   {
    "duration": 7232,
    "start_time": "2022-11-04T06:36:19.149Z"
   },
   {
    "duration": 8,
    "start_time": "2022-11-04T06:36:26.384Z"
   },
   {
    "duration": 4,
    "start_time": "2022-11-04T06:36:26.394Z"
   },
   {
    "duration": 3,
    "start_time": "2022-11-04T06:36:26.400Z"
   },
   {
    "duration": 5,
    "start_time": "2022-11-04T06:36:26.405Z"
   },
   {
    "duration": 5,
    "start_time": "2022-11-04T06:36:26.412Z"
   },
   {
    "duration": 7,
    "start_time": "2022-11-04T06:36:26.419Z"
   },
   {
    "duration": 5,
    "start_time": "2022-11-04T06:36:26.428Z"
   },
   {
    "duration": 63,
    "start_time": "2022-11-04T06:36:26.435Z"
   },
   {
    "duration": 15,
    "start_time": "2022-11-04T06:36:26.500Z"
   },
   {
    "duration": 318,
    "start_time": "2022-11-04T06:36:26.517Z"
   },
   {
    "duration": 0,
    "start_time": "2022-11-04T06:36:26.836Z"
   },
   {
    "duration": 0,
    "start_time": "2022-11-04T06:36:26.838Z"
   },
   {
    "duration": 0,
    "start_time": "2022-11-04T06:36:26.839Z"
   },
   {
    "duration": 0,
    "start_time": "2022-11-04T06:36:26.840Z"
   },
   {
    "duration": 0,
    "start_time": "2022-11-04T06:36:26.841Z"
   },
   {
    "duration": 0,
    "start_time": "2022-11-04T06:36:26.842Z"
   },
   {
    "duration": 0,
    "start_time": "2022-11-04T06:36:26.843Z"
   },
   {
    "duration": 0,
    "start_time": "2022-11-04T06:36:26.844Z"
   },
   {
    "duration": 0,
    "start_time": "2022-11-04T06:36:26.845Z"
   },
   {
    "duration": 0,
    "start_time": "2022-11-04T06:36:26.846Z"
   },
   {
    "duration": 0,
    "start_time": "2022-11-04T06:36:26.847Z"
   },
   {
    "duration": 16,
    "start_time": "2022-11-04T06:40:24.126Z"
   },
   {
    "duration": 9,
    "start_time": "2022-11-04T06:49:09.471Z"
   },
   {
    "duration": 5,
    "start_time": "2022-11-04T06:49:21.806Z"
   },
   {
    "duration": 6,
    "start_time": "2022-11-04T06:49:23.937Z"
   },
   {
    "duration": 9,
    "start_time": "2022-11-04T06:50:10.141Z"
   },
   {
    "duration": 7,
    "start_time": "2022-11-04T06:50:19.208Z"
   },
   {
    "duration": 8,
    "start_time": "2022-11-04T06:53:13.389Z"
   },
   {
    "duration": 13,
    "start_time": "2022-11-04T07:01:21.939Z"
   },
   {
    "duration": 12,
    "start_time": "2022-11-04T07:01:30.366Z"
   },
   {
    "duration": 20,
    "start_time": "2022-11-04T07:01:35.809Z"
   },
   {
    "duration": 6,
    "start_time": "2022-11-04T07:01:39.068Z"
   },
   {
    "duration": 6,
    "start_time": "2022-11-04T07:02:14.213Z"
   },
   {
    "duration": 5,
    "start_time": "2022-11-04T07:02:31.273Z"
   },
   {
    "duration": 5,
    "start_time": "2022-11-04T07:02:39.182Z"
   },
   {
    "duration": 9,
    "start_time": "2022-11-04T07:03:36.756Z"
   },
   {
    "duration": 5,
    "start_time": "2022-11-04T07:03:54.103Z"
   },
   {
    "duration": 6,
    "start_time": "2022-11-04T07:05:15.192Z"
   },
   {
    "duration": 7,
    "start_time": "2022-11-04T07:05:20.800Z"
   },
   {
    "duration": 7,
    "start_time": "2022-11-04T07:05:43.255Z"
   },
   {
    "duration": 6,
    "start_time": "2022-11-04T07:05:50.863Z"
   },
   {
    "duration": 6,
    "start_time": "2022-11-04T07:46:50.144Z"
   },
   {
    "duration": 6,
    "start_time": "2022-11-04T07:46:53.393Z"
   },
   {
    "duration": 5,
    "start_time": "2022-11-04T07:46:55.484Z"
   },
   {
    "duration": 6,
    "start_time": "2022-11-04T07:47:02.564Z"
   },
   {
    "duration": 3,
    "start_time": "2022-11-04T08:05:40.197Z"
   },
   {
    "duration": 7,
    "start_time": "2022-11-04T08:06:36.308Z"
   },
   {
    "duration": 5,
    "start_time": "2022-11-04T08:06:46.019Z"
   },
   {
    "duration": 6,
    "start_time": "2022-11-04T08:07:13.952Z"
   },
   {
    "duration": 6,
    "start_time": "2022-11-04T08:07:18.461Z"
   },
   {
    "duration": 3,
    "start_time": "2022-11-04T08:07:28.052Z"
   },
   {
    "duration": 4,
    "start_time": "2022-11-04T08:07:32.243Z"
   },
   {
    "duration": 4,
    "start_time": "2022-11-04T08:07:46.947Z"
   },
   {
    "duration": 5,
    "start_time": "2022-11-04T08:08:13.211Z"
   },
   {
    "duration": 5,
    "start_time": "2022-11-04T08:08:27.610Z"
   },
   {
    "duration": 4,
    "start_time": "2022-11-04T08:08:29.144Z"
   },
   {
    "duration": 5,
    "start_time": "2022-11-04T08:08:30.752Z"
   },
   {
    "duration": 7,
    "start_time": "2022-11-04T08:08:32.700Z"
   },
   {
    "duration": 6,
    "start_time": "2022-11-04T08:08:41.005Z"
   },
   {
    "duration": 5,
    "start_time": "2022-11-04T08:08:45.863Z"
   },
   {
    "duration": 5,
    "start_time": "2022-11-04T08:08:49.007Z"
   },
   {
    "duration": 3,
    "start_time": "2022-11-04T08:09:29.309Z"
   },
   {
    "duration": 12,
    "start_time": "2022-11-04T08:09:30.976Z"
   },
   {
    "duration": 4,
    "start_time": "2022-11-04T08:09:34.174Z"
   },
   {
    "duration": 13,
    "start_time": "2022-11-04T08:09:35.860Z"
   },
   {
    "duration": 7,
    "start_time": "2022-11-04T08:09:56.540Z"
   },
   {
    "duration": 8,
    "start_time": "2022-11-04T08:09:59.695Z"
   },
   {
    "duration": 13,
    "start_time": "2022-11-04T08:10:01.981Z"
   },
   {
    "duration": 4,
    "start_time": "2022-11-04T08:10:04.946Z"
   },
   {
    "duration": 3,
    "start_time": "2022-11-04T08:10:09.750Z"
   },
   {
    "duration": 12,
    "start_time": "2022-11-04T08:10:13.418Z"
   },
   {
    "duration": 5,
    "start_time": "2022-11-04T08:11:16.808Z"
   },
   {
    "duration": 8,
    "start_time": "2022-11-04T08:11:21.787Z"
   },
   {
    "duration": 7,
    "start_time": "2022-11-04T08:11:26.253Z"
   },
   {
    "duration": 13,
    "start_time": "2022-11-04T08:11:31.980Z"
   },
   {
    "duration": 4,
    "start_time": "2022-11-04T08:11:41.532Z"
   },
   {
    "duration": 3,
    "start_time": "2022-11-04T08:11:56.077Z"
   },
   {
    "duration": 28,
    "start_time": "2022-11-04T08:11:56.872Z"
   },
   {
    "duration": 29,
    "start_time": "2022-11-04T08:11:58.283Z"
   },
   {
    "duration": 12,
    "start_time": "2022-11-04T08:11:59.413Z"
   },
   {
    "duration": 1786,
    "start_time": "2022-11-04T08:21:43.016Z"
   },
   {
    "duration": 256,
    "start_time": "2022-11-04T08:21:44.804Z"
   },
   {
    "duration": 3,
    "start_time": "2022-11-04T08:21:45.062Z"
   },
   {
    "duration": 36,
    "start_time": "2022-11-04T08:21:45.067Z"
   },
   {
    "duration": 7938,
    "start_time": "2022-11-04T08:21:45.105Z"
   },
   {
    "duration": 13,
    "start_time": "2022-11-04T08:21:53.045Z"
   },
   {
    "duration": 33,
    "start_time": "2022-11-04T08:21:53.060Z"
   },
   {
    "duration": 5,
    "start_time": "2022-11-04T08:21:53.095Z"
   },
   {
    "duration": 7,
    "start_time": "2022-11-04T08:21:53.102Z"
   },
   {
    "duration": 7,
    "start_time": "2022-11-04T08:21:53.112Z"
   },
   {
    "duration": 9,
    "start_time": "2022-11-04T08:21:53.120Z"
   },
   {
    "duration": 7,
    "start_time": "2022-11-04T08:21:53.131Z"
   },
   {
    "duration": 13,
    "start_time": "2022-11-04T08:21:53.191Z"
   },
   {
    "duration": 16,
    "start_time": "2022-11-04T08:21:53.206Z"
   },
   {
    "duration": 68,
    "start_time": "2022-11-04T08:21:53.224Z"
   },
   {
    "duration": 5,
    "start_time": "2022-11-04T08:21:53.293Z"
   },
   {
    "duration": 110,
    "start_time": "2022-11-04T08:21:53.300Z"
   },
   {
    "duration": 28,
    "start_time": "2022-11-04T08:21:53.412Z"
   },
   {
    "duration": 9,
    "start_time": "2022-11-04T08:21:53.442Z"
   },
   {
    "duration": 1787,
    "start_time": "2022-11-04T08:26:11.878Z"
   },
   {
    "duration": 244,
    "start_time": "2022-11-04T08:26:13.668Z"
   },
   {
    "duration": 3,
    "start_time": "2022-11-04T08:26:13.914Z"
   },
   {
    "duration": 34,
    "start_time": "2022-11-04T08:26:13.918Z"
   },
   {
    "duration": 8032,
    "start_time": "2022-11-04T08:26:13.954Z"
   },
   {
    "duration": 10,
    "start_time": "2022-11-04T08:26:21.988Z"
   },
   {
    "duration": 4,
    "start_time": "2022-11-04T08:26:22.000Z"
   },
   {
    "duration": 6,
    "start_time": "2022-11-04T08:26:22.005Z"
   },
   {
    "duration": 9,
    "start_time": "2022-11-04T08:26:22.012Z"
   },
   {
    "duration": 5,
    "start_time": "2022-11-04T08:26:22.024Z"
   },
   {
    "duration": 60,
    "start_time": "2022-11-04T08:26:22.031Z"
   },
   {
    "duration": 13,
    "start_time": "2022-11-04T08:26:22.093Z"
   },
   {
    "duration": 10,
    "start_time": "2022-11-04T08:26:22.108Z"
   },
   {
    "duration": 72,
    "start_time": "2022-11-04T08:26:22.120Z"
   },
   {
    "duration": 4,
    "start_time": "2022-11-04T08:26:22.194Z"
   },
   {
    "duration": 10,
    "start_time": "2022-11-04T08:26:22.200Z"
   },
   {
    "duration": 31,
    "start_time": "2022-11-04T08:26:22.291Z"
   },
   {
    "duration": 26,
    "start_time": "2022-11-04T08:26:22.323Z"
   },
   {
    "duration": 9,
    "start_time": "2022-11-04T08:26:22.350Z"
   },
   {
    "duration": 47,
    "start_time": "2022-11-06T10:33:24.535Z"
   },
   {
    "duration": 1581,
    "start_time": "2022-11-06T10:33:30.393Z"
   },
   {
    "duration": 228,
    "start_time": "2022-11-06T10:33:31.976Z"
   },
   {
    "duration": 3,
    "start_time": "2022-11-06T10:33:32.210Z"
   },
   {
    "duration": 106,
    "start_time": "2022-11-06T10:33:32.215Z"
   },
   {
    "duration": 6764,
    "start_time": "2022-11-06T10:33:32.323Z"
   },
   {
    "duration": 8,
    "start_time": "2022-11-06T10:33:39.088Z"
   },
   {
    "duration": 24,
    "start_time": "2022-11-06T10:33:39.097Z"
   },
   {
    "duration": 7,
    "start_time": "2022-11-06T10:33:39.123Z"
   },
   {
    "duration": 5,
    "start_time": "2022-11-06T10:33:39.131Z"
   },
   {
    "duration": 6,
    "start_time": "2022-11-06T10:33:39.137Z"
   },
   {
    "duration": 185,
    "start_time": "2022-11-06T10:33:39.144Z"
   },
   {
    "duration": 0,
    "start_time": "2022-11-06T10:33:39.330Z"
   },
   {
    "duration": 0,
    "start_time": "2022-11-06T10:33:39.331Z"
   },
   {
    "duration": 0,
    "start_time": "2022-11-06T10:33:39.332Z"
   },
   {
    "duration": 0,
    "start_time": "2022-11-06T10:33:39.333Z"
   },
   {
    "duration": 0,
    "start_time": "2022-11-06T10:33:39.334Z"
   },
   {
    "duration": 0,
    "start_time": "2022-11-06T10:33:39.334Z"
   },
   {
    "duration": 0,
    "start_time": "2022-11-06T10:33:39.335Z"
   },
   {
    "duration": 1896,
    "start_time": "2022-11-06T10:34:51.588Z"
   },
   {
    "duration": 262,
    "start_time": "2022-11-06T10:34:53.486Z"
   },
   {
    "duration": 4,
    "start_time": "2022-11-06T10:34:53.750Z"
   },
   {
    "duration": 33,
    "start_time": "2022-11-06T10:34:53.756Z"
   },
   {
    "duration": 7106,
    "start_time": "2022-11-06T10:34:53.790Z"
   },
   {
    "duration": 29,
    "start_time": "2022-11-06T10:35:00.898Z"
   },
   {
    "duration": 32,
    "start_time": "2022-11-06T10:35:00.929Z"
   },
   {
    "duration": 22,
    "start_time": "2022-11-06T10:35:00.963Z"
   },
   {
    "duration": 35,
    "start_time": "2022-11-06T10:35:00.986Z"
   },
   {
    "duration": 37,
    "start_time": "2022-11-06T10:35:01.023Z"
   },
   {
    "duration": 20,
    "start_time": "2022-11-06T10:35:01.062Z"
   },
   {
    "duration": 56,
    "start_time": "2022-11-06T10:35:01.083Z"
   },
   {
    "duration": 27,
    "start_time": "2022-11-06T10:35:01.141Z"
   },
   {
    "duration": 53,
    "start_time": "2022-11-06T10:35:01.169Z"
   },
   {
    "duration": 14,
    "start_time": "2022-11-06T10:35:01.224Z"
   },
   {
    "duration": 102,
    "start_time": "2022-11-06T10:35:01.240Z"
   },
   {
    "duration": 25,
    "start_time": "2022-11-06T10:35:01.344Z"
   },
   {
    "duration": 40,
    "start_time": "2022-11-06T10:35:01.370Z"
   }
  ],
  "kernelspec": {
   "display_name": "Python 3 (ipykernel)",
   "language": "python",
   "name": "python3"
  },
  "language_info": {
   "codemirror_mode": {
    "name": "ipython",
    "version": 3
   },
   "file_extension": ".py",
   "mimetype": "text/x-python",
   "name": "python",
   "nbconvert_exporter": "python",
   "pygments_lexer": "ipython3",
   "version": "3.9.7"
  },
  "toc": {
   "base_numbering": 1,
   "nav_menu": {},
   "number_sections": true,
   "sideBar": true,
   "skip_h1_title": true,
   "title_cell": "Содержание",
   "title_sidebar": "Contents",
   "toc_cell": true,
   "toc_position": {
    "height": "calc(100% - 180px)",
    "left": "10px",
    "top": "150px",
    "width": "193.8px"
   },
   "toc_section_display": true,
   "toc_window_display": true
  }
 },
 "nbformat": 4,
 "nbformat_minor": 2
}
