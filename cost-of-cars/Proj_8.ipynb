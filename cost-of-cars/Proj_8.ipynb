{
 "cells": [
  {
   "cell_type": "markdown",
   "metadata": {},
   "source": [
    "# Определение стоимости автомобилей"
   ]
  },
  {
   "cell_type": "markdown",
   "metadata": {},
   "source": [
    "Сервис по продаже автомобилей с пробегом «Не бит, не крашен» разрабатывает приложение для привлечения новых клиентов. В нём можно быстро узнать рыночную стоимость своего автомобиля. В вашем распоряжении исторические данные: технические характеристики, комплектации и цены автомобилей. Вам нужно построить модель для определения стоимости. \n",
    "\n",
    "Заказчику важны:\n",
    "\n",
    "- качество предсказания;\n",
    "- скорость предсказания;\n",
    "- время обучения."
   ]
  },
  {
   "cell_type": "markdown",
   "metadata": {},
   "source": [
    "**Признаки**\n",
    "\n",
    "    DateCrawled — дата скачивания анкеты из базы\n",
    "    VehicleType — тип автомобильного кузова\n",
    "    RegistrationYear — год регистрации автомобиля\n",
    "    Gearbox — тип коробки передач\n",
    "    Power — мощность (л. с.)\n",
    "    Model — модель автомобиля\n",
    "    Kilometer — пробег (км)\n",
    "    RegistrationMonth — месяц регистрации автомобиля\n",
    "    FuelType — тип топлива\n",
    "    Brand — марка автомобиля\n",
    "    Repaired — была машина в ремонте или нет\n",
    "    DateCreated — дата создания анкеты\n",
    "    NumberOfPictures — количество фотографий автомобиля\n",
    "    PostalCode — почтовый индекс владельца анкеты (пользователя)\n",
    "    LastSeen — дата последней активности пользователя\n",
    "\n",
    "**Целевой признак**\n",
    "\n",
    "    Price — цена (евро)"
   ]
  },
  {
   "cell_type": "markdown",
   "metadata": {},
   "source": [
    "## Подготовка данных"
   ]
  },
  {
   "cell_type": "code",
   "execution_count": 1,
   "metadata": {},
   "outputs": [
    {
     "name": "stdout",
     "output_type": "stream",
     "text": [
      "Collecting pandas-profiling\n",
      "  Downloading pandas_profiling-3.5.0-py2.py3-none-any.whl (325 kB)\n",
      "\u001b[K     |████████████████████████████████| 325 kB 1.2 MB/s eta 0:00:01\n",
      "\u001b[?25hCollecting htmlmin==0.1.12\n",
      "  Downloading htmlmin-0.1.12.tar.gz (19 kB)\n",
      "Requirement already satisfied: pandas!=1.4.0,<1.6,>1.1 in /opt/conda/lib/python3.9/site-packages (from pandas-profiling) (1.2.4)\n",
      "Collecting multimethod<1.10,>=1.4\n",
      "  Downloading multimethod-1.9-py3-none-any.whl (10 kB)\n",
      "Collecting phik<0.13,>=0.11.1\n",
      "  Downloading phik-0.12.3-cp39-cp39-manylinux_2_17_x86_64.manylinux2014_x86_64.whl (679 kB)\n",
      "\u001b[K     |████████████████████████████████| 679 kB 27.8 MB/s eta 0:00:01\n",
      "\u001b[?25hRequirement already satisfied: requests<2.29,>=2.24.0 in /opt/conda/lib/python3.9/site-packages (from pandas-profiling) (2.25.1)\n",
      "Requirement already satisfied: statsmodels<0.14,>=0.13.2 in /opt/conda/lib/python3.9/site-packages (from pandas-profiling) (0.13.2)\n",
      "Requirement already satisfied: scipy<1.10,>=1.4.1 in /opt/conda/lib/python3.9/site-packages (from pandas-profiling) (1.9.1)\n",
      "Requirement already satisfied: seaborn<0.13,>=0.10.1 in /opt/conda/lib/python3.9/site-packages (from pandas-profiling) (0.11.1)\n",
      "Requirement already satisfied: matplotlib<3.7,>=3.2 in /opt/conda/lib/python3.9/site-packages (from pandas-profiling) (3.3.4)\n",
      "Collecting typeguard<2.14,>=2.13.2\n",
      "  Downloading typeguard-2.13.3-py3-none-any.whl (17 kB)\n",
      "Requirement already satisfied: PyYAML<6.1,>=5.0.0 in /opt/conda/lib/python3.9/site-packages (from pandas-profiling) (6.0)\n",
      "Requirement already satisfied: pydantic<1.11,>=1.8.1 in /opt/conda/lib/python3.9/site-packages (from pandas-profiling) (1.8.2)\n",
      "Collecting visions[type_image_path]==0.7.5\n",
      "  Downloading visions-0.7.5-py3-none-any.whl (102 kB)\n",
      "\u001b[K     |████████████████████████████████| 102 kB 53.1 MB/s eta 0:00:01\n",
      "\u001b[?25hRequirement already satisfied: numpy<1.24,>=1.16.0 in /opt/conda/lib/python3.9/site-packages (from pandas-profiling) (1.21.1)\n",
      "Requirement already satisfied: jinja2<3.2,>=2.11.1 in /opt/conda/lib/python3.9/site-packages (from pandas-profiling) (3.0.1)\n",
      "Requirement already satisfied: tqdm<4.65,>=4.48.2 in /opt/conda/lib/python3.9/site-packages (from pandas-profiling) (4.61.2)\n",
      "Requirement already satisfied: attrs>=19.3.0 in /opt/conda/lib/python3.9/site-packages (from visions[type_image_path]==0.7.5->pandas-profiling) (21.2.0)\n",
      "Collecting networkx>=2.4\n",
      "  Downloading networkx-2.8.8-py3-none-any.whl (2.0 MB)\n",
      "\u001b[K     |████████████████████████████████| 2.0 MB 47.7 MB/s eta 0:00:01\n",
      "\u001b[?25hCollecting tangled-up-in-unicode>=0.0.4\n",
      "  Downloading tangled_up_in_unicode-0.2.0-py3-none-any.whl (4.7 MB)\n",
      "\u001b[K     |████████████████████████████████| 4.7 MB 65.2 MB/s eta 0:00:01\n",
      "\u001b[?25hRequirement already satisfied: Pillow in /opt/conda/lib/python3.9/site-packages (from visions[type_image_path]==0.7.5->pandas-profiling) (8.4.0)\n",
      "Collecting imagehash\n",
      "  Downloading ImageHash-4.3.1-py2.py3-none-any.whl (296 kB)\n",
      "\u001b[K     |████████████████████████████████| 296 kB 82.3 MB/s eta 0:00:01\n",
      "\u001b[?25hRequirement already satisfied: MarkupSafe>=2.0 in /opt/conda/lib/python3.9/site-packages (from jinja2<3.2,>=2.11.1->pandas-profiling) (2.1.1)\n",
      "Requirement already satisfied: kiwisolver>=1.0.1 in /opt/conda/lib/python3.9/site-packages (from matplotlib<3.7,>=3.2->pandas-profiling) (1.4.4)\n",
      "Requirement already satisfied: cycler>=0.10 in /opt/conda/lib/python3.9/site-packages (from matplotlib<3.7,>=3.2->pandas-profiling) (0.11.0)\n",
      "Requirement already satisfied: pyparsing!=2.0.4,!=2.1.2,!=2.1.6,>=2.0.3 in /opt/conda/lib/python3.9/site-packages (from matplotlib<3.7,>=3.2->pandas-profiling) (2.4.7)\n",
      "Requirement already satisfied: python-dateutil>=2.1 in /opt/conda/lib/python3.9/site-packages (from matplotlib<3.7,>=3.2->pandas-profiling) (2.8.1)\n",
      "Requirement already satisfied: pytz>=2017.3 in /opt/conda/lib/python3.9/site-packages (from pandas!=1.4.0,<1.6,>1.1->pandas-profiling) (2021.1)\n",
      "Requirement already satisfied: joblib>=0.14.1 in /opt/conda/lib/python3.9/site-packages (from phik<0.13,>=0.11.1->pandas-profiling) (1.1.0)\n",
      "Requirement already satisfied: typing-extensions>=3.7.4.3 in /opt/conda/lib/python3.9/site-packages (from pydantic<1.11,>=1.8.1->pandas-profiling) (4.3.0)\n",
      "Requirement already satisfied: six>=1.5 in /opt/conda/lib/python3.9/site-packages (from python-dateutil>=2.1->matplotlib<3.7,>=3.2->pandas-profiling) (1.16.0)\n",
      "Requirement already satisfied: idna<3,>=2.5 in /opt/conda/lib/python3.9/site-packages (from requests<2.29,>=2.24.0->pandas-profiling) (2.10)\n",
      "Requirement already satisfied: chardet<5,>=3.0.2 in /opt/conda/lib/python3.9/site-packages (from requests<2.29,>=2.24.0->pandas-profiling) (4.0.0)\n",
      "Requirement already satisfied: certifi>=2017.4.17 in /opt/conda/lib/python3.9/site-packages (from requests<2.29,>=2.24.0->pandas-profiling) (2022.6.15)\n",
      "Requirement already satisfied: urllib3<1.27,>=1.21.1 in /opt/conda/lib/python3.9/site-packages (from requests<2.29,>=2.24.0->pandas-profiling) (1.26.6)\n",
      "Requirement already satisfied: packaging>=21.3 in /opt/conda/lib/python3.9/site-packages (from statsmodels<0.14,>=0.13.2->pandas-profiling) (21.3)\n",
      "Requirement already satisfied: patsy>=0.5.2 in /opt/conda/lib/python3.9/site-packages (from statsmodels<0.14,>=0.13.2->pandas-profiling) (0.5.2)\n",
      "Collecting PyWavelets\n",
      "  Downloading PyWavelets-1.4.1-cp39-cp39-manylinux_2_17_x86_64.manylinux2014_x86_64.whl (6.9 MB)\n",
      "\u001b[K     |████████████████████████████████| 6.9 MB 68.5 MB/s eta 0:00:01\n",
      "\u001b[?25hBuilding wheels for collected packages: htmlmin\n",
      "  Building wheel for htmlmin (setup.py) ... \u001b[?25ldone\n",
      "\u001b[?25h  Created wheel for htmlmin: filename=htmlmin-0.1.12-py3-none-any.whl size=27085 sha256=43b4a63f25822cbd8a6385227cb411e8120dd72efab0fada658e0a9ec145815e\n",
      "  Stored in directory: /home/jovyan/.cache/pip/wheels/1d/05/04/c6d7d3b66539d9e659ac6dfe81e2d0fd4c1a8316cc5a403300\n",
      "Successfully built htmlmin\n",
      "Installing collected packages: tangled-up-in-unicode, PyWavelets, networkx, multimethod, visions, imagehash, typeguard, phik, htmlmin, pandas-profiling\n",
      "Successfully installed PyWavelets-1.4.1 htmlmin-0.1.12 imagehash-4.3.1 multimethod-1.9 networkx-2.8.8 pandas-profiling-3.5.0 phik-0.12.3 tangled-up-in-unicode-0.2.0 typeguard-2.13.3 visions-0.7.5\n"
     ]
    }
   ],
   "source": [
    "try:\n",
    "    import pandas_profiling\n",
    "except:\n",
    "    !pip install pandas-profiling\n",
    "    import pandas_profiling"
   ]
  },
  {
   "cell_type": "code",
   "execution_count": 2,
   "metadata": {},
   "outputs": [],
   "source": [
    "from collections import namedtuple\n",
    "\n",
    "import matplotlib.pyplot as plt\n",
    "import pandas as pd\n",
    "import numpy as np\n",
    "\n",
    "from pandas.api.types import is_numeric_dtype\n",
    "\n",
    "from sklearn.model_selection import train_test_split, GridSearchCV\n",
    "from sklearn.ensemble import RandomForestRegressor\n",
    "from sklearn.linear_model import LinearRegression\n",
    "from sklearn.tree import DecisionTreeRegressor\n",
    "from sklearn.dummy import DummyRegressor\n",
    "from sklearn.metrics import mean_squared_error\n",
    "from sklearn.preprocessing import StandardScaler, OrdinalEncoder\n",
    "\n",
    "from catboost import CatBoostRegressor\n",
    "from lightgbm import LGBMRegressor"
   ]
  },
  {
   "cell_type": "markdown",
   "metadata": {},
   "source": [
    "__________________________"
   ]
  },
  {
   "cell_type": "code",
   "execution_count": 3,
   "metadata": {},
   "outputs": [],
   "source": [
    "RAND = sum(ord(x) for x in 'NEVER SURRENDER')"
   ]
  },
  {
   "cell_type": "markdown",
   "metadata": {},
   "source": [
    "____________________"
   ]
  },
  {
   "cell_type": "markdown",
   "metadata": {},
   "source": [
    "### Загрузка и оценка данных"
   ]
  },
  {
   "cell_type": "code",
   "execution_count": 4,
   "metadata": {},
   "outputs": [
    {
     "data": {
      "text/html": [
       "<div>\n",
       "<style scoped>\n",
       "    .dataframe tbody tr th:only-of-type {\n",
       "        vertical-align: middle;\n",
       "    }\n",
       "\n",
       "    .dataframe tbody tr th {\n",
       "        vertical-align: top;\n",
       "    }\n",
       "\n",
       "    .dataframe thead th {\n",
       "        text-align: right;\n",
       "    }\n",
       "</style>\n",
       "<table border=\"1\" class=\"dataframe\">\n",
       "  <thead>\n",
       "    <tr style=\"text-align: right;\">\n",
       "      <th></th>\n",
       "      <th>DateCrawled</th>\n",
       "      <th>Price</th>\n",
       "      <th>VehicleType</th>\n",
       "      <th>RegistrationYear</th>\n",
       "      <th>Gearbox</th>\n",
       "      <th>Power</th>\n",
       "      <th>Model</th>\n",
       "      <th>Kilometer</th>\n",
       "      <th>RegistrationMonth</th>\n",
       "      <th>FuelType</th>\n",
       "      <th>Brand</th>\n",
       "      <th>Repaired</th>\n",
       "      <th>DateCreated</th>\n",
       "      <th>NumberOfPictures</th>\n",
       "      <th>PostalCode</th>\n",
       "      <th>LastSeen</th>\n",
       "    </tr>\n",
       "  </thead>\n",
       "  <tbody>\n",
       "    <tr>\n",
       "      <th>0</th>\n",
       "      <td>2016-03-24 11:52:17</td>\n",
       "      <td>480</td>\n",
       "      <td>NaN</td>\n",
       "      <td>1993</td>\n",
       "      <td>manual</td>\n",
       "      <td>0</td>\n",
       "      <td>golf</td>\n",
       "      <td>150000</td>\n",
       "      <td>0</td>\n",
       "      <td>petrol</td>\n",
       "      <td>volkswagen</td>\n",
       "      <td>NaN</td>\n",
       "      <td>2016-03-24 00:00:00</td>\n",
       "      <td>0</td>\n",
       "      <td>70435</td>\n",
       "      <td>2016-04-07 03:16:57</td>\n",
       "    </tr>\n",
       "    <tr>\n",
       "      <th>1</th>\n",
       "      <td>2016-03-24 10:58:45</td>\n",
       "      <td>18300</td>\n",
       "      <td>coupe</td>\n",
       "      <td>2011</td>\n",
       "      <td>manual</td>\n",
       "      <td>190</td>\n",
       "      <td>NaN</td>\n",
       "      <td>125000</td>\n",
       "      <td>5</td>\n",
       "      <td>gasoline</td>\n",
       "      <td>audi</td>\n",
       "      <td>yes</td>\n",
       "      <td>2016-03-24 00:00:00</td>\n",
       "      <td>0</td>\n",
       "      <td>66954</td>\n",
       "      <td>2016-04-07 01:46:50</td>\n",
       "    </tr>\n",
       "    <tr>\n",
       "      <th>2</th>\n",
       "      <td>2016-03-14 12:52:21</td>\n",
       "      <td>9800</td>\n",
       "      <td>suv</td>\n",
       "      <td>2004</td>\n",
       "      <td>auto</td>\n",
       "      <td>163</td>\n",
       "      <td>grand</td>\n",
       "      <td>125000</td>\n",
       "      <td>8</td>\n",
       "      <td>gasoline</td>\n",
       "      <td>jeep</td>\n",
       "      <td>NaN</td>\n",
       "      <td>2016-03-14 00:00:00</td>\n",
       "      <td>0</td>\n",
       "      <td>90480</td>\n",
       "      <td>2016-04-05 12:47:46</td>\n",
       "    </tr>\n",
       "  </tbody>\n",
       "</table>\n",
       "</div>"
      ],
      "text/plain": [
       "           DateCrawled  Price VehicleType  RegistrationYear Gearbox  Power  \\\n",
       "0  2016-03-24 11:52:17    480         NaN              1993  manual      0   \n",
       "1  2016-03-24 10:58:45  18300       coupe              2011  manual    190   \n",
       "2  2016-03-14 12:52:21   9800         suv              2004    auto    163   \n",
       "\n",
       "   Model  Kilometer  RegistrationMonth  FuelType       Brand Repaired  \\\n",
       "0   golf     150000                  0    petrol  volkswagen      NaN   \n",
       "1    NaN     125000                  5  gasoline        audi      yes   \n",
       "2  grand     125000                  8  gasoline        jeep      NaN   \n",
       "\n",
       "           DateCreated  NumberOfPictures  PostalCode             LastSeen  \n",
       "0  2016-03-24 00:00:00                 0       70435  2016-04-07 03:16:57  \n",
       "1  2016-03-24 00:00:00                 0       66954  2016-04-07 01:46:50  \n",
       "2  2016-03-14 00:00:00                 0       90480  2016-04-05 12:47:46  "
      ]
     },
     "execution_count": 4,
     "metadata": {},
     "output_type": "execute_result"
    }
   ],
   "source": [
    "df_auto = pd.read_csv('/datasets/autos.csv')\n",
    "df_auto.head(3)"
   ]
  },
  {
   "cell_type": "code",
   "execution_count": 5,
   "metadata": {},
   "outputs": [],
   "source": [
    "#columns snake_case\n",
    "df_auto.columns = df_auto.columns.str.replace(r'(.)([A-Z])', r'\\1_\\2', regex=True).str.lower()"
   ]
  },
  {
   "cell_type": "code",
   "execution_count": 6,
   "metadata": {},
   "outputs": [],
   "source": [
    "#df_auto.profile_report()"
   ]
  },
  {
   "cell_type": "markdown",
   "metadata": {},
   "source": [
    "Основные проблемы:\n",
    "- `number_of_pictures` содержит только одно значение, 0. Признак неинформативный\n",
    "- есть дубликаты (4 строки)\n",
    "- пропущенные значения в `vehicle_type`, `gearbox`, `model`, `registration_month`, `fuel_type`, `repaired`\n",
    "- в `price` есть нулевые значения \n",
    "- `registration_year` - аномальные значения \n",
    "- `power` - нулевые значения, аномальные значения\n",
    "- `registration_month` - аномальные значения (13 месяцев), может быть связано с тем, что данные были скачаны из разных баз, в одной из которых месяца обозначаются 0-11, в другой 1-12."
   ]
  },
  {
   "cell_type": "markdown",
   "metadata": {},
   "source": [
    "Не все признаки влияют на цену. Перед обработкой данных выделим те, которые могут влиять на цену авто.\n",
    "\n",
    "**Значимые:**\n",
    "- vehicle_type   \n",
    "- registration_year \n",
    "- gearbox \n",
    "- power \n",
    "- model \n",
    "- kilometer \n",
    "- fuel_type \n",
    "- brand \n",
    "- repaired \n",
    "\n",
    "**Остальные:**\n",
    "- date_crawled  \n",
    "- last_seen \n",
    "- date_created   \n",
    "Эти три признака больше для предобработки данных. Т.к. цены на авто меняются со временем, дата скачивания анкеты из базы дает представление, для какого периода данные актуальны (2016 год для наших данных).\n",
    "Теоретически, может быть полезной информация, сколько времени активно объявление (если машину не покупали очень долго, то цена может быть неадекватна для авто с такими параметрами). Но в данном случае взят небольшой период времени и нет информации о том, какое среднее время продажи для авто должно быть.\n",
    "- registration_month - избыточен, достаточно года регистрации\n",
    "- number_of_pictures \n",
    "- postal_code - теоретически местонахождение машины так же может влиять на стоимость, но в данном случае будем учитывать только параметры самого авто\n",
    "   "
   ]
  },
  {
   "cell_type": "markdown",
   "metadata": {},
   "source": [
    "_____________________\n",
    "\n",
    "### Предобработка данных"
   ]
  },
  {
   "cell_type": "code",
   "execution_count": 7,
   "metadata": {},
   "outputs": [],
   "source": [
    "size_all_data = df_auto.shape[0]"
   ]
  },
  {
   "cell_type": "markdown",
   "metadata": {},
   "source": [
    "Удалим дубликаты"
   ]
  },
  {
   "cell_type": "code",
   "execution_count": 8,
   "metadata": {},
   "outputs": [],
   "source": [
    "df_auto = df_auto.drop_duplicates().reset_index(drop=True)"
   ]
  },
  {
   "cell_type": "markdown",
   "metadata": {},
   "source": [
    "Удалим неинформативные признаки"
   ]
  },
  {
   "cell_type": "code",
   "execution_count": 9,
   "metadata": {},
   "outputs": [],
   "source": [
    "uninformative_col = ['date_crawled',\n",
    "                     'last_seen',\n",
    "                     'date_created',\n",
    "                     'registration_month',\n",
    "                     'number_of_pictures',\n",
    "                     'postal_code']"
   ]
  },
  {
   "cell_type": "code",
   "execution_count": 10,
   "metadata": {},
   "outputs": [],
   "source": [
    "df_auto = df_auto.drop(uninformative_col, axis=1)"
   ]
  },
  {
   "cell_type": "markdown",
   "metadata": {},
   "source": [
    "________________________\n",
    "`price` - целевой признак. Нулевую стоимость в данном случае можно считать ошибкой в данных и удалить все записи с нулевой ценой(сюда же включим авто с ценой менее 100). Все остальные записи будем считать верными, сильно выделяющихся значений нет."
   ]
  },
  {
   "cell_type": "code",
   "execution_count": 11,
   "metadata": {},
   "outputs": [],
   "source": [
    "df_auto = df_auto[df_auto['price'] > 100]"
   ]
  },
  {
   "cell_type": "markdown",
   "metadata": {},
   "source": [
    "__________________________________\n",
    "`registration_year` - установим допустимые рамки для рассматриваемых авто. Пусть это будут авто с годом регистрации позже 1966(не будем рассматривать \"антиквариат\" старше 50 лет на момент 2016) и не позже 2016 (т.к. объявления были скачаны из базы в 2016 году, год регистрации авто не должен быть больше)"
   ]
  },
  {
   "cell_type": "markdown",
   "metadata": {},
   "source": [
    "Проверим, сколько записей выходят за рамки"
   ]
  },
  {
   "cell_type": "code",
   "execution_count": 12,
   "metadata": {},
   "outputs": [
    {
     "name": "stdout",
     "output_type": "stream",
     "text": [
      "All: 14358\n",
      "Over 2016: 13673\n",
      "Less 1966: 685\n"
     ]
    }
   ],
   "source": [
    "print(f\"All: {df_auto.query('registration_year < 1966 or registration_year > 2016')['price'].count()}\")\n",
    "print(f\"Over 2016: {df_auto.query('registration_year > 2016')['price'].count()}\")\n",
    "print(f\"Less 1966: {df_auto.query('registration_year < 1966')['price'].count()}\")"
   ]
  },
  {
   "cell_type": "markdown",
   "metadata": {},
   "source": [
    "Найдено 14358 записей, это около 4% от всех данных. \n",
    "\n",
    "Записей с годом регистрации менее 1966 года (685 штук) не так много, их можно удалить. \n",
    "\n",
    "Авто с регистрацией после 2016 года достаточно много. Нет возможности уточнить у источника данных, с чем это может быть связано. Можно либо принудительно поставить им 2016 год (что может быть привести к ошибкам), либо удалить.\n",
    "\n",
    "В данном случае удалим все аномальные значения."
   ]
  },
  {
   "cell_type": "code",
   "execution_count": 13,
   "metadata": {},
   "outputs": [],
   "source": [
    "df_auto = df_auto.query('registration_year > 1965 and registration_year < 2017')"
   ]
  },
  {
   "cell_type": "markdown",
   "metadata": {},
   "source": [
    "_______________\n",
    "`power` - мощность авто. \n",
    "\n",
    "Существуют совсем маломощные авто, например \"Une Voiture Sans Permis\" - авто \"без прав\", имющее мощность 5 л.с. Для наших данных возьмем именно эти данные за нижнюю границу.\n",
    "\n",
    "Машины с мощностью более 1000 л.с. хоть и существуют, но выпускаются ограниченными партиями, в данном случае будем считать значения аномальными/ошибочными.\n",
    "\n",
    "Авто с мощностью более 300 л.с. встречаются не так часто, но все же есть на дорогах, оставим их в данных и поставим \"верхнюю границу\" мощности в 1000 л.с."
   ]
  },
  {
   "cell_type": "code",
   "execution_count": 14,
   "metadata": {},
   "outputs": [],
   "source": [
    "df_auto = df_auto.query('power < 1001 and power > 4')"
   ]
  },
  {
   "cell_type": "markdown",
   "metadata": {},
   "source": [
    "Обработаны аномальные значения, проверим, какой процент данных остался от изначальных:"
   ]
  },
  {
   "cell_type": "code",
   "execution_count": 15,
   "metadata": {},
   "outputs": [
    {
     "data": {
      "text/plain": [
       "0.8307244708199645"
      ]
     },
     "execution_count": 15,
     "metadata": {},
     "output_type": "execute_result"
    }
   ],
   "source": [
    "df_auto.shape[0] / size_all_data"
   ]
  },
  {
   "cell_type": "markdown",
   "metadata": {},
   "source": [
    "17% данных удалено, это достаточно много. "
   ]
  },
  {
   "cell_type": "code",
   "execution_count": 16,
   "metadata": {},
   "outputs": [],
   "source": [
    "df_auto = df_auto.reset_index(drop=True)"
   ]
  },
  {
   "cell_type": "markdown",
   "metadata": {},
   "source": [
    "________________________________\n",
    "Теперь попробуем заполнить пропуски"
   ]
  },
  {
   "cell_type": "markdown",
   "metadata": {},
   "source": [
    "`model` - по имеющимся данным достовено восстановить модель авто сложно, заменим пропуски на 'other'"
   ]
  },
  {
   "cell_type": "code",
   "execution_count": 17,
   "metadata": {},
   "outputs": [],
   "source": [
    "df_auto['model'] = df_auto['model'].fillna('other')"
   ]
  },
  {
   "cell_type": "markdown",
   "metadata": {},
   "source": [
    "`gearbox` - так же нет возможности восстановить по имеющимся данным (даже одинаковая модель авто может иметь разный тип коробки передач)\n",
    "\n",
    "`repaired` - нет возможности восстановить\n",
    "\n",
    "Пропущенные значения заменим на 'unknown'"
   ]
  },
  {
   "cell_type": "code",
   "execution_count": 18,
   "metadata": {},
   "outputs": [],
   "source": [
    "df_auto['gearbox'] = df_auto['gearbox'].fillna('unknown')"
   ]
  },
  {
   "cell_type": "code",
   "execution_count": 19,
   "metadata": {},
   "outputs": [],
   "source": [
    "df_auto['repaired'] = df_auto['repaired'].fillna('unknown')"
   ]
  },
  {
   "cell_type": "markdown",
   "metadata": {},
   "source": [
    "`vehicle_type` -  по идее, `model` должно однозначно определять тип кузова авто. Но т.к. у нас есть модели `other` и есть вероятность, что одна модель \"принадлежит\" двум маркам авто - будем определять тип автомобильного кузова по модели и марке авто"
   ]
  },
  {
   "cell_type": "markdown",
   "metadata": {},
   "source": [
    "`fuel_type` - аналогично `vehicle_type`"
   ]
  },
  {
   "cell_type": "code",
   "execution_count": 20,
   "metadata": {},
   "outputs": [],
   "source": [
    "def fill_date(data: pd.DataFrame, \n",
    "              target: str, \n",
    "              groupby_: list='') -> pd.DataFrame:\n",
    "    return data.groupby(groupby_)[target].transform(lambda x: x.fillna(x.mode()[0]))\n",
    "    "
   ]
  },
  {
   "cell_type": "code",
   "execution_count": 21,
   "metadata": {},
   "outputs": [],
   "source": [
    "df_auto['vehicle_type'] = fill_date(df_auto, 'vehicle_type',['model','brand'])"
   ]
  },
  {
   "cell_type": "code",
   "execution_count": 22,
   "metadata": {},
   "outputs": [],
   "source": [
    "df_auto['fuel_type'] = fill_date(df_auto, 'fuel_type',['model','brand'])"
   ]
  },
  {
   "cell_type": "markdown",
   "metadata": {},
   "source": [
    "Все обозначенные проблемы обработаны, посмотрим сокращенный отчет по получившимся данным:"
   ]
  },
  {
   "cell_type": "code",
   "execution_count": 23,
   "metadata": {
    "scrolled": true
   },
   "outputs": [],
   "source": [
    "#df_auto.profile_report(minimal=True)"
   ]
  },
  {
   "cell_type": "markdown",
   "metadata": {},
   "source": [
    "Все пропущенные значения заменены."
   ]
  },
  {
   "cell_type": "markdown",
   "metadata": {},
   "source": [
    "Проверим данные еще раз на дубликаты"
   ]
  },
  {
   "cell_type": "code",
   "execution_count": 24,
   "metadata": {},
   "outputs": [
    {
     "data": {
      "text/plain": [
       "40731"
      ]
     },
     "execution_count": 24,
     "metadata": {},
     "output_type": "execute_result"
    }
   ],
   "source": [
    "df_auto.duplicated().sum()"
   ]
  },
  {
   "cell_type": "markdown",
   "metadata": {},
   "source": [
    "Появились дубликаты, но т.к. в данных больше нет сведений, которые говорят про уникальность записи (например, время размещения объявления) - будем считать эти дубликаты разными машинами и оставим их."
   ]
  },
  {
   "cell_type": "markdown",
   "metadata": {},
   "source": [
    "### Вывод\n"
   ]
  },
  {
   "cell_type": "markdown",
   "metadata": {},
   "source": [
    "- данные были загружены и изучены\n",
    "- выбраны необходимые для исследования параметры\n",
    "- удалены аномальные значения\n",
    "- в результате убрано 17% \"поврежденных\" данных\n",
    "- обработаны пропущенные значения"
   ]
  },
  {
   "cell_type": "markdown",
   "metadata": {},
   "source": [
    "## Обучение моделей"
   ]
  },
  {
   "cell_type": "markdown",
   "metadata": {},
   "source": [
    "**Используемые функции**"
   ]
  },
  {
   "cell_type": "code",
   "execution_count": 25,
   "metadata": {},
   "outputs": [],
   "source": [
    "def data_split(data: pd.DataFrame,\n",
    "               target_: str = 'price',\n",
    "               test_size_: float = 0.25) -> [namedtuple, namedtuple]:\n",
    "    #create namedtuples for sampling\n",
    "    train = namedtuple('features','target')\n",
    "    test = namedtuple('features','target')\n",
    "    \n",
    "    train.features, test.features, train.target, test.target = train_test_split(data.drop(target_,axis=1), \n",
    "                                                                                df_auto[target_], \n",
    "                                                                                test_size=test_size_,   \n",
    "                                                                                random_state=RAND)\n",
    "    \n",
    "    print(f\"Size of train {len(train.features)}, percentage of total {len(train.features)/len(df_auto['price']):.0%}\")\n",
    "    print(f\"Size of test {len(test.features)}, percentage of total {len(test.features)/len(df_auto['price']):.0%}\\n\")\n",
    "    return train, test\n",
    "    "
   ]
  },
  {
   "cell_type": "code",
   "execution_count": 26,
   "metadata": {},
   "outputs": [],
   "source": [
    "data_process = {}\n",
    "data_process_test = {}"
   ]
  },
  {
   "cell_type": "code",
   "execution_count": 27,
   "metadata": {},
   "outputs": [],
   "source": [
    "def create_model(model_name: str, \n",
    "                 data_process_: str,\n",
    "                 data: namedtuple = None, \n",
    "                 parametrs: dict = {},\n",
    "                 **kwargs): \n",
    "    #get data \n",
    "    if not data:\n",
    "        try:\n",
    "            data = data_process[data_process_]\n",
    "        except:\n",
    "            return 'No data'\n",
    "    \n",
    "    #create model\n",
    "    model = eval(model_name)(**kwargs)\n",
    "    \n",
    "    #use GridSearchCV\n",
    "    grid = GridSearchCV(model, parametrs, cv=3, scoring='neg_root_mean_squared_error')\n",
    "    grid.fit(data.features, data.target)\n",
    "    \n",
    "    return [model_name, data_process_, \n",
    "            abs(grid.best_score_), \n",
    "            grid.best_params_, \n",
    "            grid.refit_time_, \n",
    "            grid.best_estimator_]"
   ]
  },
  {
   "cell_type": "markdown",
   "metadata": {},
   "source": [
    "_____________________\n",
    "Разобьем данные на 2 выборки: тренировночная и тестовая.\n",
    "\n",
    "У моделей есть разные требования к исходных данным, сделаем несколько наборов данных:\n",
    "- `raw` без обработки\n",
    "- `ohe` с OHE кодированием\n",
    "- `standart` с OHE кодирование и стандартизацией\n",
    "- `category` с типом \"category\" для категориальных признаков\n",
    "- `ordinal` Ordinal кодирование"
   ]
  },
  {
   "cell_type": "markdown",
   "metadata": {},
   "source": [
    "**Raw**"
   ]
  },
  {
   "cell_type": "code",
   "execution_count": 28,
   "metadata": {},
   "outputs": [
    {
     "name": "stdout",
     "output_type": "stream",
     "text": [
      "Size of train 220787, percentage of total 75%\n",
      "Size of test 73596, percentage of total 25%\n",
      "\n",
      "CPU times: user 68.2 ms, sys: 3.94 ms, total: 72.1 ms\n",
      "Wall time: 78.4 ms\n"
     ]
    }
   ],
   "source": [
    "%%time\n",
    "#without OHE\n",
    "train, test = data_split(df_auto)\n",
    "data_process['raw'] = train\n",
    "data_process_test['raw'] = test"
   ]
  },
  {
   "cell_type": "code",
   "execution_count": 29,
   "metadata": {},
   "outputs": [],
   "source": [
    "# name of categorial and numeric columns\n",
    "cat_col = [col for col in train.features.columns if not is_numeric_dtype(train.features[col])]\n",
    "num_col = train.features.columns[~train.features.columns.isin(cat_col)].tolist()"
   ]
  },
  {
   "cell_type": "markdown",
   "metadata": {},
   "source": [
    "**Category**"
   ]
  },
  {
   "cell_type": "code",
   "execution_count": 30,
   "metadata": {},
   "outputs": [
    {
     "name": "stdout",
     "output_type": "stream",
     "text": [
      "CPU times: user 137 ms, sys: 0 ns, total: 137 ms\n",
      "Wall time: 147 ms\n"
     ]
    }
   ],
   "source": [
    "%%time\n",
    "#cateroty dtype\n",
    "for col in cat_col:\n",
    "    train.features[col] = pd.Series(train.features[col], dtype=\"category\")\n",
    "    test.features[col] = pd.Series(test.features[col], dtype=\"category\")\n",
    "data_process['category'] = train\n",
    "data_process_test['category'] = test"
   ]
  },
  {
   "cell_type": "markdown",
   "metadata": {},
   "source": [
    "**OHE**"
   ]
  },
  {
   "cell_type": "code",
   "execution_count": 31,
   "metadata": {},
   "outputs": [
    {
     "name": "stdout",
     "output_type": "stream",
     "text": [
      "Size of train 220787, percentage of total 75%\n",
      "Size of test 73596, percentage of total 25%\n",
      "\n",
      "CPU times: user 977 ms, sys: 199 ms, total: 1.18 s\n",
      "Wall time: 1.19 s\n"
     ]
    }
   ],
   "source": [
    "%%time\n",
    "#with OHE\n",
    "train, test = data_split(pd.get_dummies(df_auto, drop_first=True))\n",
    "data_process['ohe'] = train\n",
    "data_process_test['ohe'] = test"
   ]
  },
  {
   "cell_type": "markdown",
   "metadata": {},
   "source": [
    "**Standart**"
   ]
  },
  {
   "cell_type": "code",
   "execution_count": 32,
   "metadata": {},
   "outputs": [
    {
     "name": "stdout",
     "output_type": "stream",
     "text": [
      "CPU times: user 127 ms, sys: 11.5 ms, total: 138 ms\n",
      "Wall time: 144 ms\n"
     ]
    }
   ],
   "source": [
    "%%time\n",
    "#OHE and standart\n",
    "scaler = StandardScaler().fit(train.features[num_col]) \n",
    "train.features[num_col] = scaler.transform(train.features[num_col])\n",
    "test.features[num_col] = scaler.transform(test.features[num_col])\n",
    "data_process['standart'] = train\n",
    "data_process_test['standart'] = test"
   ]
  },
  {
   "cell_type": "code",
   "execution_count": 33,
   "metadata": {},
   "outputs": [],
   "source": [
    "del scaler"
   ]
  },
  {
   "cell_type": "markdown",
   "metadata": {},
   "source": [
    "**Ordinal**"
   ]
  },
  {
   "cell_type": "code",
   "execution_count": 34,
   "metadata": {},
   "outputs": [
    {
     "name": "stdout",
     "output_type": "stream",
     "text": [
      "Size of train 220787, percentage of total 75%\n",
      "Size of test 73596, percentage of total 25%\n",
      "\n",
      "CPU times: user 894 ms, sys: 33.4 ms, total: 928 ms\n",
      "Wall time: 937 ms\n"
     ]
    }
   ],
   "source": [
    "%%time\n",
    "#Ordinal\n",
    "enc = OrdinalEncoder().fit(df_auto[cat_col])\n",
    "df_auto[cat_col] = enc.transform(df_auto[cat_col])\n",
    "train, test = data_split(df_auto)\n",
    "data_process['ordinal'] = train\n",
    "data_process_test['ordinal'] = test"
   ]
  },
  {
   "cell_type": "code",
   "execution_count": 35,
   "metadata": {},
   "outputs": [],
   "source": [
    "#whos"
   ]
  },
  {
   "cell_type": "code",
   "execution_count": 36,
   "metadata": {},
   "outputs": [],
   "source": [
    "del df_auto\n",
    "del test\n",
    "del train\n",
    "del size_all_data\n",
    "del uninformative_col"
   ]
  },
  {
   "cell_type": "markdown",
   "metadata": {},
   "source": [
    "___________________________\n",
    "Будем использовать:\n",
    "- DecisionTreeRegressor\n",
    "- LinearRegression\n",
    "- RandomForestRegressor\n",
    "- CatBoostRegressor\n",
    "- LGBMRegressor\n",
    "\n",
    "Для подбора гиперпараметров будем использовать GridSearchCV - нет необходимости выделять валидационную выборку. Подбор модели по метрике RMSE.\n",
    "\n",
    "Для каждой модели будем брать небольшой набор гиперпараметров для экономии времени."
   ]
  },
  {
   "cell_type": "markdown",
   "metadata": {},
   "source": [
    "\"Простые\" модели (Линейная Регрессия, Случайный лес, Дерево) не умеют работать с категориальными переменными без кодирования."
   ]
  },
  {
   "cell_type": "code",
   "execution_count": 37,
   "metadata": {},
   "outputs": [],
   "source": [
    "models = []"
   ]
  },
  {
   "cell_type": "markdown",
   "metadata": {},
   "source": [
    "### LinearRegression"
   ]
  },
  {
   "cell_type": "markdown",
   "metadata": {},
   "source": [
    "- `ohe` с OHE кодированием\n",
    "- `standart` с OHE кодирование и стандартизацией"
   ]
  },
  {
   "cell_type": "code",
   "execution_count": 38,
   "metadata": {},
   "outputs": [
    {
     "name": "stdout",
     "output_type": "stream",
     "text": [
      "CPU times: user 46.1 s, sys: 22.1 s, total: 1min 8s\n",
      "Wall time: 1min 8s\n"
     ]
    }
   ],
   "source": [
    "%%time\n",
    "models.append(create_model('LinearRegression', 'standart'))"
   ]
  },
  {
   "cell_type": "code",
   "execution_count": 39,
   "metadata": {},
   "outputs": [
    {
     "name": "stdout",
     "output_type": "stream",
     "text": [
      "CPU times: user 45.2 s, sys: 19.4 s, total: 1min 4s\n",
      "Wall time: 1min 5s\n"
     ]
    }
   ],
   "source": [
    "%%time\n",
    "models.append(create_model('LinearRegression', 'ohe'))"
   ]
  },
  {
   "cell_type": "code",
   "execution_count": 40,
   "metadata": {},
   "outputs": [],
   "source": [
    "del data_process['standart']"
   ]
  },
  {
   "cell_type": "markdown",
   "metadata": {},
   "source": [
    "### DecisionTreeRegressor"
   ]
  },
  {
   "cell_type": "markdown",
   "metadata": {},
   "source": [
    "- `ohe` с OHE кодированием\n",
    "- `ordinal` Ordinal кодирование"
   ]
  },
  {
   "cell_type": "code",
   "execution_count": 41,
   "metadata": {},
   "outputs": [
    {
     "name": "stdout",
     "output_type": "stream",
     "text": [
      "CPU times: user 19.4 s, sys: 3.52 s, total: 22.9 s\n",
      "Wall time: 23 s\n"
     ]
    }
   ],
   "source": [
    "%%time\n",
    "dtr_params = {'max_depth': [2,7], \n",
    "              'min_samples_split': [10, 50],\n",
    "              'random_state': [RAND]}\n",
    "\n",
    "models.append(create_model('DecisionTreeRegressor', \n",
    "                           'ohe',\n",
    "                           parametrs=dtr_params))"
   ]
  },
  {
   "cell_type": "code",
   "execution_count": 42,
   "metadata": {},
   "outputs": [
    {
     "name": "stdout",
     "output_type": "stream",
     "text": [
      "CPU times: user 2.1 s, sys: 31.4 ms, total: 2.13 s\n",
      "Wall time: 2.14 s\n"
     ]
    }
   ],
   "source": [
    "%%time\n",
    "models.append(create_model('DecisionTreeRegressor', \n",
    "                           'ordinal',\n",
    "                           parametrs=dtr_params))"
   ]
  },
  {
   "cell_type": "markdown",
   "metadata": {},
   "source": [
    "### RandomForestRegressor"
   ]
  },
  {
   "cell_type": "markdown",
   "metadata": {},
   "source": [
    "- `ohe` с OHE кодированием\n",
    "- `ordinal` Ordinal кодирование"
   ]
  },
  {
   "cell_type": "code",
   "execution_count": 43,
   "metadata": {},
   "outputs": [
    {
     "name": "stdout",
     "output_type": "stream",
     "text": [
      "CPU times: user 2min 20s, sys: 7.6 s, total: 2min 28s\n",
      "Wall time: 2min 28s\n"
     ]
    }
   ],
   "source": [
    "%%time\n",
    "rfr_params = {'max_depth': [2,7], \n",
    "              'min_samples_split': [10, 50],\n",
    "              'n_estimators': [2, 10],\n",
    "              'random_state': [RAND]}\n",
    "\n",
    "models.append(create_model('RandomForestRegressor', \n",
    "                           'ohe',       \n",
    "                           parametrs=rfr_params))"
   ]
  },
  {
   "cell_type": "code",
   "execution_count": 44,
   "metadata": {},
   "outputs": [
    {
     "name": "stdout",
     "output_type": "stream",
     "text": [
      "CPU times: user 18 s, sys: 148 ms, total: 18.2 s\n",
      "Wall time: 18.2 s\n"
     ]
    }
   ],
   "source": [
    "%%time\n",
    "models.append(create_model('RandomForestRegressor', \n",
    "                           'ordinal',       \n",
    "                           parametrs=rfr_params))"
   ]
  },
  {
   "cell_type": "markdown",
   "metadata": {},
   "source": [
    "### CatBoostRegressor"
   ]
  },
  {
   "cell_type": "markdown",
   "metadata": {},
   "source": [
    "- `raw` без обработки\n",
    "- `ohe` с OHE кодированием\n",
    "- `ordinal` Ordinal кодирование"
   ]
  },
  {
   "cell_type": "code",
   "execution_count": 45,
   "metadata": {},
   "outputs": [
    {
     "name": "stdout",
     "output_type": "stream",
     "text": [
      "0:\tlearn: 4308.0780145\ttotal: 122ms\tremaining: 5.97s\n",
      "49:\tlearn: 1863.3445876\ttotal: 3.08s\tremaining: 0us\n",
      "0:\tlearn: 4311.9552898\ttotal: 65.5ms\tremaining: 3.21s\n",
      "49:\tlearn: 1857.0182270\ttotal: 2.88s\tremaining: 0us\n",
      "0:\tlearn: 4308.3989054\ttotal: 78.6ms\tremaining: 3.85s\n",
      "49:\tlearn: 1855.9094349\ttotal: 3.01s\tremaining: 0us\n",
      "0:\tlearn: 3489.9978380\ttotal: 66.9ms\tremaining: 3.28s\n",
      "49:\tlearn: 1696.2592075\ttotal: 2.85s\tremaining: 0us\n",
      "0:\tlearn: 3491.2456482\ttotal: 65.2ms\tremaining: 3.2s\n",
      "49:\tlearn: 1683.6844096\ttotal: 2.94s\tremaining: 0us\n",
      "0:\tlearn: 3515.1982720\ttotal: 77.4ms\tremaining: 3.79s\n",
      "49:\tlearn: 1696.3539948\ttotal: 2.97s\tremaining: 0us\n",
      "0:\tlearn: 4308.0780145\ttotal: 64.7ms\tremaining: 6.4s\n",
      "99:\tlearn: 1758.4298722\ttotal: 5.67s\tremaining: 0us\n",
      "0:\tlearn: 4311.9552898\ttotal: 72.8ms\tremaining: 7.21s\n",
      "99:\tlearn: 1750.0932488\ttotal: 5.63s\tremaining: 0us\n",
      "0:\tlearn: 4308.3989054\ttotal: 72ms\tremaining: 7.13s\n",
      "99:\tlearn: 1749.8592596\ttotal: 5.75s\tremaining: 0us\n",
      "0:\tlearn: 3489.9978380\ttotal: 63ms\tremaining: 6.23s\n",
      "99:\tlearn: 1622.8921238\ttotal: 5.54s\tremaining: 0us\n",
      "0:\tlearn: 3491.2456482\ttotal: 65.4ms\tremaining: 6.48s\n",
      "99:\tlearn: 1613.6079112\ttotal: 5.84s\tremaining: 0us\n",
      "0:\tlearn: 3515.1982720\ttotal: 81.7ms\tremaining: 8.09s\n",
      "99:\tlearn: 1618.3288461\ttotal: 5.91s\tremaining: 0us\n",
      "0:\tlearn: 3502.7506247\ttotal: 103ms\tremaining: 10.2s\n",
      "99:\tlearn: 1622.8782732\ttotal: 8.54s\tremaining: 0us\n",
      "CPU times: user 1min 3s, sys: 855 ms, total: 1min 4s\n",
      "Wall time: 1min 11s\n"
     ]
    }
   ],
   "source": [
    "%%time\n",
    "cbr_params = {'learning_rate': [0.1,0.4], \n",
    "              'iterations': [50, 100],\n",
    "              'random_state': [RAND],\n",
    "              'verbose' : [100],\n",
    "             }\n",
    "\n",
    "models.append(create_model('CatBoostRegressor', \n",
    "                           'raw', \n",
    "                           parametrs=cbr_params,   \n",
    "                           cat_features=cat_col))"
   ]
  },
  {
   "cell_type": "code",
   "execution_count": 46,
   "metadata": {},
   "outputs": [
    {
     "name": "stdout",
     "output_type": "stream",
     "text": [
      "0:\tlearn: 4315.2008100\ttotal: 24.3ms\tremaining: 1.19s\n",
      "49:\tlearn: 1915.9556888\ttotal: 993ms\tremaining: 0us\n",
      "0:\tlearn: 4317.7511832\ttotal: 19.7ms\tremaining: 964ms\n",
      "49:\tlearn: 1902.5617588\ttotal: 996ms\tremaining: 0us\n",
      "0:\tlearn: 4308.7840733\ttotal: 20.6ms\tremaining: 1.01s\n",
      "49:\tlearn: 1909.9999944\ttotal: 997ms\tremaining: 0us\n",
      "0:\tlearn: 3519.4915484\ttotal: 20.9ms\tremaining: 1.02s\n",
      "49:\tlearn: 1705.1516193\ttotal: 1.03s\tremaining: 0us\n",
      "0:\tlearn: 3515.2162944\ttotal: 27.6ms\tremaining: 1.35s\n",
      "49:\tlearn: 1700.9244169\ttotal: 1.14s\tremaining: 0us\n",
      "0:\tlearn: 3516.8129689\ttotal: 22.4ms\tremaining: 1.09s\n",
      "49:\tlearn: 1703.3338285\ttotal: 1.03s\tremaining: 0us\n",
      "0:\tlearn: 4315.2008100\ttotal: 20.6ms\tremaining: 2.04s\n",
      "99:\tlearn: 1788.2848720\ttotal: 2.05s\tremaining: 0us\n",
      "0:\tlearn: 4317.7511832\ttotal: 32.3ms\tremaining: 3.19s\n",
      "99:\tlearn: 1775.5119424\ttotal: 2.03s\tremaining: 0us\n",
      "0:\tlearn: 4308.7840733\ttotal: 21.7ms\tremaining: 2.15s\n",
      "99:\tlearn: 1778.8245833\ttotal: 2.12s\tremaining: 0us\n",
      "0:\tlearn: 3519.4915484\ttotal: 22.3ms\tremaining: 2.2s\n",
      "99:\tlearn: 1620.7320419\ttotal: 2.18s\tremaining: 0us\n",
      "0:\tlearn: 3515.2162944\ttotal: 21.7ms\tremaining: 2.15s\n",
      "99:\tlearn: 1613.6015375\ttotal: 2.14s\tremaining: 0us\n",
      "0:\tlearn: 3516.8129689\ttotal: 23.8ms\tremaining: 2.36s\n",
      "99:\tlearn: 1618.1961801\ttotal: 2.04s\tremaining: 0us\n",
      "0:\tlearn: 3489.7657511\ttotal: 46.4ms\tremaining: 4.6s\n",
      "99:\tlearn: 1623.1244641\ttotal: 3.41s\tremaining: 0us\n",
      "CPU times: user 23.5 s, sys: 306 ms, total: 23.8 s\n",
      "Wall time: 30.6 s\n"
     ]
    }
   ],
   "source": [
    "%%time\n",
    "models.append(create_model('CatBoostRegressor', \n",
    "                          'ordinal',\n",
    "                           parametrs=cbr_params))"
   ]
  },
  {
   "cell_type": "code",
   "execution_count": 47,
   "metadata": {},
   "outputs": [
    {
     "name": "stdout",
     "output_type": "stream",
     "text": [
      "0:\tlearn: 4311.0204702\ttotal: 23.4ms\tremaining: 1.15s\n",
      "49:\tlearn: 1904.7315455\ttotal: 1.04s\tremaining: 0us\n",
      "0:\tlearn: 4312.1011079\ttotal: 21ms\tremaining: 1.03s\n",
      "49:\tlearn: 1898.0097927\ttotal: 1.15s\tremaining: 0us\n",
      "0:\tlearn: 4297.0636343\ttotal: 22.6ms\tremaining: 1.11s\n",
      "49:\tlearn: 1897.9615181\ttotal: 1.11s\tremaining: 0us\n",
      "0:\tlearn: 3502.1200223\ttotal: 20.1ms\tremaining: 983ms\n",
      "49:\tlearn: 1706.6612890\ttotal: 947ms\tremaining: 0us\n",
      "0:\tlearn: 3491.7810673\ttotal: 20.2ms\tremaining: 991ms\n",
      "49:\tlearn: 1690.7578574\ttotal: 998ms\tremaining: 0us\n",
      "0:\tlearn: 3468.1212510\ttotal: 20.2ms\tremaining: 990ms\n",
      "49:\tlearn: 1702.2135977\ttotal: 968ms\tremaining: 0us\n",
      "0:\tlearn: 4311.0204702\ttotal: 25.8ms\tremaining: 2.55s\n",
      "99:\tlearn: 1784.4861186\ttotal: 2.03s\tremaining: 0us\n",
      "0:\tlearn: 4312.1011079\ttotal: 20.7ms\tremaining: 2.05s\n",
      "99:\tlearn: 1776.7767528\ttotal: 2.12s\tremaining: 0us\n",
      "0:\tlearn: 4297.0636343\ttotal: 20.8ms\tremaining: 2.05s\n",
      "99:\tlearn: 1777.4592591\ttotal: 2.06s\tremaining: 0us\n",
      "0:\tlearn: 3502.1200223\ttotal: 21.9ms\tremaining: 2.17s\n",
      "99:\tlearn: 1617.4743238\ttotal: 1.95s\tremaining: 0us\n",
      "0:\tlearn: 3491.7810673\ttotal: 21.2ms\tremaining: 2.1s\n",
      "99:\tlearn: 1608.4493401\ttotal: 1.99s\tremaining: 0us\n",
      "0:\tlearn: 3468.1212510\ttotal: 19.9ms\tremaining: 1.97s\n",
      "99:\tlearn: 1613.3044191\ttotal: 2.13s\tremaining: 0us\n",
      "0:\tlearn: 3477.7990146\ttotal: 35.4ms\tremaining: 3.5s\n",
      "99:\tlearn: 1615.7394206\ttotal: 3s\tremaining: 0us\n",
      "CPU times: user 36.2 s, sys: 745 ms, total: 36.9 s\n",
      "Wall time: 43.8 s\n"
     ]
    }
   ],
   "source": [
    "%%time\n",
    "models.append(create_model('CatBoostRegressor', \n",
    "                          'ohe',\n",
    "                           parametrs=cbr_params))"
   ]
  },
  {
   "cell_type": "code",
   "execution_count": 48,
   "metadata": {},
   "outputs": [],
   "source": [
    "del data_process['raw']"
   ]
  },
  {
   "cell_type": "markdown",
   "metadata": {},
   "source": [
    "### LGBMRegressor"
   ]
  },
  {
   "cell_type": "markdown",
   "metadata": {},
   "source": [
    "- `ordinal` Ordinal кодирование\n",
    "- `category` с типом \"category\" для категориальных признаков\n",
    "- `ohe` с OHE кодированием"
   ]
  },
  {
   "cell_type": "code",
   "execution_count": 49,
   "metadata": {},
   "outputs": [
    {
     "name": "stdout",
     "output_type": "stream",
     "text": [
      "CPU times: user 13min 34s, sys: 6.37 s, total: 13min 41s\n",
      "Wall time: 13min 48s\n"
     ]
    }
   ],
   "source": [
    "%%time\n",
    "lgbm_params = {'num_leaves':[50,80],               \n",
    "               'random_state': [RAND]}\n",
    "\n",
    "   \n",
    "models.append(create_model('LGBMRegressor', \n",
    "                           'category',\n",
    "                           parametrs=lgbm_params))"
   ]
  },
  {
   "cell_type": "code",
   "execution_count": 50,
   "metadata": {},
   "outputs": [
    {
     "name": "stdout",
     "output_type": "stream",
     "text": [
      "CPU times: user 2min 48s, sys: 959 ms, total: 2min 49s\n",
      "Wall time: 2min 51s\n"
     ]
    }
   ],
   "source": [
    "%%time\n",
    "models.append(create_model('LGBMRegressor', \n",
    "                           'ordinal',\n",
    "                           parametrs=lgbm_params))"
   ]
  },
  {
   "cell_type": "code",
   "execution_count": 51,
   "metadata": {},
   "outputs": [
    {
     "name": "stdout",
     "output_type": "stream",
     "text": [
      "CPU times: user 1min 3s, sys: 2.11 s, total: 1min 5s\n",
      "Wall time: 1min 6s\n"
     ]
    }
   ],
   "source": [
    "%%time\n",
    "models.append(create_model('LGBMRegressor', \n",
    "                           'ohe',\n",
    "                           parametrs=lgbm_params))"
   ]
  },
  {
   "cell_type": "markdown",
   "metadata": {},
   "source": [
    "### Вывод\n",
    "Был произведен подбор гиперпараметров для нескольких выбранных моделей. Данные по моделям, собраны в табличку и готовы к дальнейшей обработке."
   ]
  },
  {
   "cell_type": "code",
   "execution_count": 52,
   "metadata": {},
   "outputs": [
    {
     "data": {
      "text/html": [
       "<div>\n",
       "<style scoped>\n",
       "    .dataframe tbody tr th:only-of-type {\n",
       "        vertical-align: middle;\n",
       "    }\n",
       "\n",
       "    .dataframe tbody tr th {\n",
       "        vertical-align: top;\n",
       "    }\n",
       "\n",
       "    .dataframe thead th {\n",
       "        text-align: right;\n",
       "    }\n",
       "</style>\n",
       "<table border=\"1\" class=\"dataframe\">\n",
       "  <thead>\n",
       "    <tr style=\"text-align: right;\">\n",
       "      <th></th>\n",
       "      <th>0</th>\n",
       "      <th>1</th>\n",
       "      <th>2</th>\n",
       "      <th>3</th>\n",
       "      <th>4</th>\n",
       "      <th>5</th>\n",
       "    </tr>\n",
       "  </thead>\n",
       "  <tbody>\n",
       "    <tr>\n",
       "      <th>0</th>\n",
       "      <td>LinearRegression</td>\n",
       "      <td>standart</td>\n",
       "      <td>2607.677942</td>\n",
       "      <td>{}</td>\n",
       "      <td>19.583253</td>\n",
       "      <td>LinearRegression()</td>\n",
       "    </tr>\n",
       "    <tr>\n",
       "      <th>1</th>\n",
       "      <td>LinearRegression</td>\n",
       "      <td>ohe</td>\n",
       "      <td>2607.677942</td>\n",
       "      <td>{}</td>\n",
       "      <td>20.081945</td>\n",
       "      <td>LinearRegression()</td>\n",
       "    </tr>\n",
       "    <tr>\n",
       "      <th>2</th>\n",
       "      <td>DecisionTreeRegressor</td>\n",
       "      <td>ohe</td>\n",
       "      <td>2166.680174</td>\n",
       "      <td>{'max_depth': 7, 'min_samples_split': 50, 'ran...</td>\n",
       "      <td>3.277531</td>\n",
       "      <td>DecisionTreeRegressor(max_depth=7, min_samples...</td>\n",
       "    </tr>\n",
       "    <tr>\n",
       "      <th>3</th>\n",
       "      <td>DecisionTreeRegressor</td>\n",
       "      <td>ordinal</td>\n",
       "      <td>2170.888065</td>\n",
       "      <td>{'max_depth': 7, 'min_samples_split': 50, 'ran...</td>\n",
       "      <td>0.326765</td>\n",
       "      <td>DecisionTreeRegressor(max_depth=7, min_samples...</td>\n",
       "    </tr>\n",
       "    <tr>\n",
       "      <th>4</th>\n",
       "      <td>RandomForestRegressor</td>\n",
       "      <td>ohe</td>\n",
       "      <td>2106.451427</td>\n",
       "      <td>{'max_depth': 7, 'min_samples_split': 10, 'n_e...</td>\n",
       "      <td>20.974201</td>\n",
       "      <td>(DecisionTreeRegressor(max_depth=7, max_featur...</td>\n",
       "    </tr>\n",
       "    <tr>\n",
       "      <th>5</th>\n",
       "      <td>RandomForestRegressor</td>\n",
       "      <td>ordinal</td>\n",
       "      <td>2105.994756</td>\n",
       "      <td>{'max_depth': 7, 'min_samples_split': 10, 'n_e...</td>\n",
       "      <td>2.490304</td>\n",
       "      <td>(DecisionTreeRegressor(max_depth=7, max_featur...</td>\n",
       "    </tr>\n",
       "    <tr>\n",
       "      <th>6</th>\n",
       "      <td>CatBoostRegressor</td>\n",
       "      <td>raw</td>\n",
       "      <td>1660.381393</td>\n",
       "      <td>{'iterations': 100, 'learning_rate': 0.4, 'ran...</td>\n",
       "      <td>9.377119</td>\n",
       "      <td>&lt;catboost.core.CatBoostRegressor object at 0x7...</td>\n",
       "    </tr>\n",
       "    <tr>\n",
       "      <th>7</th>\n",
       "      <td>CatBoostRegressor</td>\n",
       "      <td>ordinal</td>\n",
       "      <td>1666.745414</td>\n",
       "      <td>{'iterations': 100, 'learning_rate': 0.4, 'ran...</td>\n",
       "      <td>4.094122</td>\n",
       "      <td>&lt;catboost.core.CatBoostRegressor object at 0x7...</td>\n",
       "    </tr>\n",
       "    <tr>\n",
       "      <th>8</th>\n",
       "      <td>CatBoostRegressor</td>\n",
       "      <td>ohe</td>\n",
       "      <td>1654.850813</td>\n",
       "      <td>{'iterations': 100, 'learning_rate': 0.4, 'ran...</td>\n",
       "      <td>5.040901</td>\n",
       "      <td>&lt;catboost.core.CatBoostRegressor object at 0x7...</td>\n",
       "    </tr>\n",
       "    <tr>\n",
       "      <th>9</th>\n",
       "      <td>LGBMRegressor</td>\n",
       "      <td>category</td>\n",
       "      <td>1553.837430</td>\n",
       "      <td>{'num_leaves': 80, 'random_state': 1114}</td>\n",
       "      <td>59.378307</td>\n",
       "      <td>LGBMRegressor(num_leaves=80, random_state=1114)</td>\n",
       "    </tr>\n",
       "    <tr>\n",
       "      <th>10</th>\n",
       "      <td>LGBMRegressor</td>\n",
       "      <td>ordinal</td>\n",
       "      <td>1602.858207</td>\n",
       "      <td>{'num_leaves': 80, 'random_state': 1114}</td>\n",
       "      <td>8.304767</td>\n",
       "      <td>LGBMRegressor(num_leaves=80, random_state=1114)</td>\n",
       "    </tr>\n",
       "    <tr>\n",
       "      <th>11</th>\n",
       "      <td>LGBMRegressor</td>\n",
       "      <td>ohe</td>\n",
       "      <td>1594.164344</td>\n",
       "      <td>{'num_leaves': 80, 'random_state': 1114}</td>\n",
       "      <td>11.899254</td>\n",
       "      <td>LGBMRegressor(num_leaves=80, random_state=1114)</td>\n",
       "    </tr>\n",
       "  </tbody>\n",
       "</table>\n",
       "</div>"
      ],
      "text/plain": [
       "                        0         1            2  \\\n",
       "0        LinearRegression  standart  2607.677942   \n",
       "1        LinearRegression       ohe  2607.677942   \n",
       "2   DecisionTreeRegressor       ohe  2166.680174   \n",
       "3   DecisionTreeRegressor   ordinal  2170.888065   \n",
       "4   RandomForestRegressor       ohe  2106.451427   \n",
       "5   RandomForestRegressor   ordinal  2105.994756   \n",
       "6       CatBoostRegressor       raw  1660.381393   \n",
       "7       CatBoostRegressor   ordinal  1666.745414   \n",
       "8       CatBoostRegressor       ohe  1654.850813   \n",
       "9           LGBMRegressor  category  1553.837430   \n",
       "10          LGBMRegressor   ordinal  1602.858207   \n",
       "11          LGBMRegressor       ohe  1594.164344   \n",
       "\n",
       "                                                    3          4  \\\n",
       "0                                                  {}  19.583253   \n",
       "1                                                  {}  20.081945   \n",
       "2   {'max_depth': 7, 'min_samples_split': 50, 'ran...   3.277531   \n",
       "3   {'max_depth': 7, 'min_samples_split': 50, 'ran...   0.326765   \n",
       "4   {'max_depth': 7, 'min_samples_split': 10, 'n_e...  20.974201   \n",
       "5   {'max_depth': 7, 'min_samples_split': 10, 'n_e...   2.490304   \n",
       "6   {'iterations': 100, 'learning_rate': 0.4, 'ran...   9.377119   \n",
       "7   {'iterations': 100, 'learning_rate': 0.4, 'ran...   4.094122   \n",
       "8   {'iterations': 100, 'learning_rate': 0.4, 'ran...   5.040901   \n",
       "9            {'num_leaves': 80, 'random_state': 1114}  59.378307   \n",
       "10           {'num_leaves': 80, 'random_state': 1114}   8.304767   \n",
       "11           {'num_leaves': 80, 'random_state': 1114}  11.899254   \n",
       "\n",
       "                                                    5  \n",
       "0                                  LinearRegression()  \n",
       "1                                  LinearRegression()  \n",
       "2   DecisionTreeRegressor(max_depth=7, min_samples...  \n",
       "3   DecisionTreeRegressor(max_depth=7, min_samples...  \n",
       "4   (DecisionTreeRegressor(max_depth=7, max_featur...  \n",
       "5   (DecisionTreeRegressor(max_depth=7, max_featur...  \n",
       "6   <catboost.core.CatBoostRegressor object at 0x7...  \n",
       "7   <catboost.core.CatBoostRegressor object at 0x7...  \n",
       "8   <catboost.core.CatBoostRegressor object at 0x7...  \n",
       "9     LGBMRegressor(num_leaves=80, random_state=1114)  \n",
       "10    LGBMRegressor(num_leaves=80, random_state=1114)  \n",
       "11    LGBMRegressor(num_leaves=80, random_state=1114)  "
      ]
     },
     "execution_count": 52,
     "metadata": {},
     "output_type": "execute_result"
    }
   ],
   "source": [
    "pd.DataFrame(models)"
   ]
  },
  {
   "cell_type": "markdown",
   "metadata": {},
   "source": [
    "## Анализ моделей"
   ]
  },
  {
   "cell_type": "markdown",
   "metadata": {},
   "source": [
    "Заказчику важны:\n",
    "- качество предсказания\n",
    "- скорость предсказания\n",
    "- время обучения"
   ]
  },
  {
   "cell_type": "markdown",
   "metadata": {},
   "source": [
    "Внесем в сводную таблицу данные по времени предсказания:"
   ]
  },
  {
   "cell_type": "code",
   "execution_count": 53,
   "metadata": {},
   "outputs": [
    {
     "name": "stdout",
     "output_type": "stream",
     "text": [
      "197 ms ± 0 ns per loop (mean ± std. dev. of 1 run, 1 loop each)\n",
      "287 ms ± 0 ns per loop (mean ± std. dev. of 1 run, 1 loop each)\n",
      "126 ms ± 0 ns per loop (mean ± std. dev. of 1 run, 1 loop each)\n",
      "7.81 ms ± 0 ns per loop (mean ± std. dev. of 1 run, 1 loop each)\n",
      "166 ms ± 0 ns per loop (mean ± std. dev. of 1 run, 1 loop each)\n",
      "45.3 ms ± 0 ns per loop (mean ± std. dev. of 1 run, 1 loop each)\n",
      "57.1 ms ± 0 ns per loop (mean ± std. dev. of 1 run, 1 loop each)\n",
      "13.8 ms ± 0 ns per loop (mean ± std. dev. of 1 run, 1 loop each)\n",
      "39.6 ms ± 0 ns per loop (mean ± std. dev. of 1 run, 1 loop each)\n",
      "1.09 s ± 0 ns per loop (mean ± std. dev. of 1 run, 1 loop each)\n",
      "796 ms ± 0 ns per loop (mean ± std. dev. of 1 run, 1 loop each)\n",
      "1.09 s ± 0 ns per loop (mean ± std. dev. of 1 run, 1 loop each)\n",
      "CPU times: user 6.78 s, sys: 1.06 s, total: 7.85 s\n",
      "Wall time: 7.85 s\n"
     ]
    }
   ],
   "source": [
    "%%time\n",
    "pred = []\n",
    "for i, modl in enumerate(models):\n",
    "    ### train time move to create_model()\n",
    "    #models [-1] - model\n",
    "    pred.append(modl[-1].predict(data_process_test.get(modl[1]).features))\n",
    "    pred_time = %timeit -n1 -r1 -o modl[-1].predict(data_process_test.get(modl[1]).features) #-o - output\n",
    "    models[i][-1] = pred_time.average\n"
   ]
  },
  {
   "cell_type": "markdown",
   "metadata": {},
   "source": [
    "Оценим полученные значения."
   ]
  },
  {
   "cell_type": "code",
   "execution_count": 54,
   "metadata": {},
   "outputs": [
    {
     "data": {
      "text/html": [
       "<div>\n",
       "<style scoped>\n",
       "    .dataframe tbody tr th:only-of-type {\n",
       "        vertical-align: middle;\n",
       "    }\n",
       "\n",
       "    .dataframe tbody tr th {\n",
       "        vertical-align: top;\n",
       "    }\n",
       "\n",
       "    .dataframe thead th {\n",
       "        text-align: right;\n",
       "    }\n",
       "</style>\n",
       "<table border=\"1\" class=\"dataframe\">\n",
       "  <thead>\n",
       "    <tr style=\"text-align: right;\">\n",
       "      <th></th>\n",
       "      <th>Model</th>\n",
       "      <th>Data note</th>\n",
       "      <th>RMSE</th>\n",
       "      <th>Hyperparams</th>\n",
       "      <th>Train time</th>\n",
       "      <th>Predict time</th>\n",
       "    </tr>\n",
       "  </thead>\n",
       "  <tbody>\n",
       "    <tr>\n",
       "      <th>0</th>\n",
       "      <td>LinearRegression</td>\n",
       "      <td>standart</td>\n",
       "      <td>2607.677942</td>\n",
       "      <td>{}</td>\n",
       "      <td>19.583253</td>\n",
       "      <td>0.197400</td>\n",
       "    </tr>\n",
       "    <tr>\n",
       "      <th>1</th>\n",
       "      <td>LinearRegression</td>\n",
       "      <td>ohe</td>\n",
       "      <td>2607.677942</td>\n",
       "      <td>{}</td>\n",
       "      <td>20.081945</td>\n",
       "      <td>0.286636</td>\n",
       "    </tr>\n",
       "    <tr>\n",
       "      <th>2</th>\n",
       "      <td>DecisionTreeRegressor</td>\n",
       "      <td>ohe</td>\n",
       "      <td>2166.680174</td>\n",
       "      <td>{'max_depth': 7, 'min_samples_split': 50, 'ran...</td>\n",
       "      <td>3.277531</td>\n",
       "      <td>0.125792</td>\n",
       "    </tr>\n",
       "    <tr>\n",
       "      <th>3</th>\n",
       "      <td>DecisionTreeRegressor</td>\n",
       "      <td>ordinal</td>\n",
       "      <td>2170.888065</td>\n",
       "      <td>{'max_depth': 7, 'min_samples_split': 50, 'ran...</td>\n",
       "      <td>0.326765</td>\n",
       "      <td>0.007810</td>\n",
       "    </tr>\n",
       "    <tr>\n",
       "      <th>4</th>\n",
       "      <td>RandomForestRegressor</td>\n",
       "      <td>ohe</td>\n",
       "      <td>2106.451427</td>\n",
       "      <td>{'max_depth': 7, 'min_samples_split': 10, 'n_e...</td>\n",
       "      <td>20.974201</td>\n",
       "      <td>0.166026</td>\n",
       "    </tr>\n",
       "    <tr>\n",
       "      <th>5</th>\n",
       "      <td>RandomForestRegressor</td>\n",
       "      <td>ordinal</td>\n",
       "      <td>2105.994756</td>\n",
       "      <td>{'max_depth': 7, 'min_samples_split': 10, 'n_e...</td>\n",
       "      <td>2.490304</td>\n",
       "      <td>0.045266</td>\n",
       "    </tr>\n",
       "    <tr>\n",
       "      <th>6</th>\n",
       "      <td>CatBoostRegressor</td>\n",
       "      <td>raw</td>\n",
       "      <td>1660.381393</td>\n",
       "      <td>{'iterations': 100, 'learning_rate': 0.4, 'ran...</td>\n",
       "      <td>9.377119</td>\n",
       "      <td>0.057072</td>\n",
       "    </tr>\n",
       "    <tr>\n",
       "      <th>7</th>\n",
       "      <td>CatBoostRegressor</td>\n",
       "      <td>ordinal</td>\n",
       "      <td>1666.745414</td>\n",
       "      <td>{'iterations': 100, 'learning_rate': 0.4, 'ran...</td>\n",
       "      <td>4.094122</td>\n",
       "      <td>0.013795</td>\n",
       "    </tr>\n",
       "    <tr>\n",
       "      <th>8</th>\n",
       "      <td>CatBoostRegressor</td>\n",
       "      <td>ohe</td>\n",
       "      <td>1654.850813</td>\n",
       "      <td>{'iterations': 100, 'learning_rate': 0.4, 'ran...</td>\n",
       "      <td>5.040901</td>\n",
       "      <td>0.039564</td>\n",
       "    </tr>\n",
       "    <tr>\n",
       "      <th>9</th>\n",
       "      <td>LGBMRegressor</td>\n",
       "      <td>category</td>\n",
       "      <td>1553.837430</td>\n",
       "      <td>{'num_leaves': 80, 'random_state': 1114}</td>\n",
       "      <td>59.378307</td>\n",
       "      <td>1.092702</td>\n",
       "    </tr>\n",
       "    <tr>\n",
       "      <th>10</th>\n",
       "      <td>LGBMRegressor</td>\n",
       "      <td>ordinal</td>\n",
       "      <td>1602.858207</td>\n",
       "      <td>{'num_leaves': 80, 'random_state': 1114}</td>\n",
       "      <td>8.304767</td>\n",
       "      <td>0.795734</td>\n",
       "    </tr>\n",
       "    <tr>\n",
       "      <th>11</th>\n",
       "      <td>LGBMRegressor</td>\n",
       "      <td>ohe</td>\n",
       "      <td>1594.164344</td>\n",
       "      <td>{'num_leaves': 80, 'random_state': 1114}</td>\n",
       "      <td>11.899254</td>\n",
       "      <td>1.090675</td>\n",
       "    </tr>\n",
       "  </tbody>\n",
       "</table>\n",
       "</div>"
      ],
      "text/plain": [
       "                    Model Data note         RMSE  \\\n",
       "0        LinearRegression  standart  2607.677942   \n",
       "1        LinearRegression       ohe  2607.677942   \n",
       "2   DecisionTreeRegressor       ohe  2166.680174   \n",
       "3   DecisionTreeRegressor   ordinal  2170.888065   \n",
       "4   RandomForestRegressor       ohe  2106.451427   \n",
       "5   RandomForestRegressor   ordinal  2105.994756   \n",
       "6       CatBoostRegressor       raw  1660.381393   \n",
       "7       CatBoostRegressor   ordinal  1666.745414   \n",
       "8       CatBoostRegressor       ohe  1654.850813   \n",
       "9           LGBMRegressor  category  1553.837430   \n",
       "10          LGBMRegressor   ordinal  1602.858207   \n",
       "11          LGBMRegressor       ohe  1594.164344   \n",
       "\n",
       "                                          Hyperparams  Train time  \\\n",
       "0                                                  {}   19.583253   \n",
       "1                                                  {}   20.081945   \n",
       "2   {'max_depth': 7, 'min_samples_split': 50, 'ran...    3.277531   \n",
       "3   {'max_depth': 7, 'min_samples_split': 50, 'ran...    0.326765   \n",
       "4   {'max_depth': 7, 'min_samples_split': 10, 'n_e...   20.974201   \n",
       "5   {'max_depth': 7, 'min_samples_split': 10, 'n_e...    2.490304   \n",
       "6   {'iterations': 100, 'learning_rate': 0.4, 'ran...    9.377119   \n",
       "7   {'iterations': 100, 'learning_rate': 0.4, 'ran...    4.094122   \n",
       "8   {'iterations': 100, 'learning_rate': 0.4, 'ran...    5.040901   \n",
       "9            {'num_leaves': 80, 'random_state': 1114}   59.378307   \n",
       "10           {'num_leaves': 80, 'random_state': 1114}    8.304767   \n",
       "11           {'num_leaves': 80, 'random_state': 1114}   11.899254   \n",
       "\n",
       "    Predict time  \n",
       "0       0.197400  \n",
       "1       0.286636  \n",
       "2       0.125792  \n",
       "3       0.007810  \n",
       "4       0.166026  \n",
       "5       0.045266  \n",
       "6       0.057072  \n",
       "7       0.013795  \n",
       "8       0.039564  \n",
       "9       1.092702  \n",
       "10      0.795734  \n",
       "11      1.090675  "
      ]
     },
     "execution_count": 54,
     "metadata": {},
     "output_type": "execute_result"
    }
   ],
   "source": [
    "pd.DataFrame(models, columns=['Model', 'Data note', 'RMSE', 'Hyperparams','Train time', 'Predict time'])"
   ]
  },
  {
   "cell_type": "markdown",
   "metadata": {},
   "source": [
    "**CatBoostRegressor** и **LGBMRegressor** показали лучшие результаты по метрике RMSE. Лучшие результаты для необработанных данных, но время обучения больше, чем для обработанных.\n",
    "\n",
    "Для обработанных данных у **LGBMRegressor** все значения RMSE несколько лучше, но время обучения модели почти в 2 раза больше, чем аналогичный результат у **CatBoostRegressor**.\n",
    "\n",
    "В данном случае все варианты этих моделей хорошие и можно выбирать в зависимости от требований заказчика. Предположим, что нам немного важнее время и как итоговую модель выбираем **CatBoostRegressor** для ordinal-данных."
   ]
  },
  {
   "cell_type": "markdown",
   "metadata": {},
   "source": [
    "Проверим выбранную модель на тестовых данных"
   ]
  },
  {
   "cell_type": "code",
   "execution_count": 55,
   "metadata": {},
   "outputs": [
    {
     "data": {
      "text/plain": [
       "1649.531491742484"
      ]
     },
     "execution_count": 55,
     "metadata": {},
     "output_type": "execute_result"
    }
   ],
   "source": [
    "mean_squared_error(pred[-5], data_process_test['ordinal'].target)**.5"
   ]
  },
  {
   "cell_type": "markdown",
   "metadata": {},
   "source": [
    "**RMSE** модели на тестовых данных 1649.53 - это хороший результат. Значение чуть ниже, чем на тренировочных данных => можно ожидать, что модель не переобучилась."
   ]
  },
  {
   "cell_type": "markdown",
   "metadata": {},
   "source": [
    "**Проверка модели на адекватность:**"
   ]
  },
  {
   "cell_type": "code",
   "execution_count": 56,
   "metadata": {},
   "outputs": [
    {
     "name": "stdout",
     "output_type": "stream",
     "text": [
      "Dummy RMSE 4601.240832886387\n"
     ]
    }
   ],
   "source": [
    "dummy_mean = DummyRegressor(strategy = 'mean').fit(data_process['ordinal'].features, data_process['ordinal'].target)\n",
    "dummy_pred = dummy_mean.predict(data_process_test['ordinal'].features)\n",
    "print(f\"Dummy RMSE {mean_squared_error(data_process_test['ordinal'].target, dummy_pred) **.5}\")"
   ]
  },
  {
   "cell_type": "markdown",
   "metadata": {},
   "source": [
    "Метрика выбранной модели значительно превышает метрику \"наивной модели\", значит, модель адекватна."
   ]
  },
  {
   "cell_type": "markdown",
   "metadata": {},
   "source": [
    "**Вывод**"
   ]
  },
  {
   "cell_type": "markdown",
   "metadata": {},
   "source": [
    "- было замерено время, необходимое для работы каждой из моделей\n",
    "- проведен анализ и выбрана лучшая модель\n",
    "- оценено качество модели на тестовый данных\n",
    "- проведена проверка на адекватность"
   ]
  },
  {
   "cell_type": "markdown",
   "metadata": {},
   "source": [
    "## Вывод"
   ]
  },
  {
   "cell_type": "markdown",
   "metadata": {},
   "source": [
    "На первом этапе были получены и обработаны данные:\n",
    "- выделены необходимые для построения модели параметры\n",
    "- обработаны пропуски и аномалии\n",
    "____________\n",
    "\n",
    "Далее было отобрано несколько вариантов для построения моделей\n",
    "- DecisionTreeRegressor\n",
    "- LinearRegression\n",
    "- RandomForestRegressor\n",
    "- CatBoostRegressor\n",
    "- LGBMRegressor\n",
    "\n",
    "\n",
    "По каждой из них произведен поиск по небольшому набору гиперпараметров и отобраны лучшие модели.\n",
    "_________________\n",
    "\n",
    "Для выбранных моделей было оценено время, необходимое для обучения модели и для предсказаний.\n",
    "\n",
    "В результате появилось два лидера:"
   ]
  },
  {
   "cell_type": "code",
   "execution_count": 57,
   "metadata": {},
   "outputs": [
    {
     "data": {
      "text/html": [
       "<div>\n",
       "<style scoped>\n",
       "    .dataframe tbody tr th:only-of-type {\n",
       "        vertical-align: middle;\n",
       "    }\n",
       "\n",
       "    .dataframe tbody tr th {\n",
       "        vertical-align: top;\n",
       "    }\n",
       "\n",
       "    .dataframe thead th {\n",
       "        text-align: right;\n",
       "    }\n",
       "</style>\n",
       "<table border=\"1\" class=\"dataframe\">\n",
       "  <thead>\n",
       "    <tr style=\"text-align: right;\">\n",
       "      <th></th>\n",
       "      <th>Model</th>\n",
       "      <th>Data note</th>\n",
       "      <th>RMSE</th>\n",
       "      <th>Hyperparams</th>\n",
       "      <th>Train time</th>\n",
       "      <th>Predict time</th>\n",
       "    </tr>\n",
       "  </thead>\n",
       "  <tbody>\n",
       "    <tr>\n",
       "      <th>7</th>\n",
       "      <td>CatBoostRegressor</td>\n",
       "      <td>ordinal</td>\n",
       "      <td>1666.745414</td>\n",
       "      <td>{'iterations': 100, 'learning_rate': 0.4, 'ran...</td>\n",
       "      <td>4.094122</td>\n",
       "      <td>0.013795</td>\n",
       "    </tr>\n",
       "    <tr>\n",
       "      <th>9</th>\n",
       "      <td>LGBMRegressor</td>\n",
       "      <td>category</td>\n",
       "      <td>1553.837430</td>\n",
       "      <td>{'num_leaves': 80, 'random_state': 1114}</td>\n",
       "      <td>59.378307</td>\n",
       "      <td>1.092702</td>\n",
       "    </tr>\n",
       "  </tbody>\n",
       "</table>\n",
       "</div>"
      ],
      "text/plain": [
       "               Model Data note         RMSE  \\\n",
       "7  CatBoostRegressor   ordinal  1666.745414   \n",
       "9      LGBMRegressor  category  1553.837430   \n",
       "\n",
       "                                         Hyperparams  Train time  Predict time  \n",
       "7  {'iterations': 100, 'learning_rate': 0.4, 'ran...    4.094122      0.013795  \n",
       "9           {'num_leaves': 80, 'random_state': 1114}   59.378307      1.092702  "
      ]
     },
     "execution_count": 57,
     "metadata": {},
     "output_type": "execute_result"
    }
   ],
   "source": [
    "pd.DataFrame(models, columns=['Model', 'Data note', 'RMSE', 'Hyperparams','Train time', 'Predict time']).iloc[[7,9]]"
   ]
  },
  {
   "cell_type": "markdown",
   "metadata": {},
   "source": [
    "каждого из которых можно рекомендовать, как модель для внедрения."
   ]
  },
  {
   "cell_type": "markdown",
   "metadata": {},
   "source": [
    "Было предположено, что время чуть важнее точности и выбрана модель **CatBoostRegressor** с гиперпараметрами {'iterations': 100, 'learning_rate': 0.4}.\n",
    "\n",
    "Она показала хорошие результаты в том числе и на тестовой выборке (RMSE = 1649.53) и является адекватной."
   ]
  },
  {
   "cell_type": "markdown",
   "metadata": {},
   "source": [
    "Таким образом, модель можно рекомендовать для внедрения."
   ]
  }
 ],
 "metadata": {
  "ExecuteTimeLog": [
   {
    "duration": 15770,
    "start_time": "2022-11-15T12:06:35.550Z"
   },
   {
    "duration": 251,
    "start_time": "2022-11-15T12:06:51.322Z"
   },
   {
    "duration": 2931,
    "start_time": "2022-11-15T12:07:53.530Z"
   },
   {
    "duration": 26,
    "start_time": "2022-11-15T12:07:56.848Z"
   },
   {
    "duration": 4,
    "start_time": "2022-11-15T12:08:07.373Z"
   },
   {
    "duration": 175,
    "start_time": "2022-11-15T12:09:04.931Z"
   },
   {
    "duration": 11,
    "start_time": "2022-11-15T12:10:43.488Z"
   },
   {
    "duration": 823,
    "start_time": "2022-11-15T12:10:46.141Z"
   },
   {
    "duration": 4,
    "start_time": "2022-11-15T12:10:48.196Z"
   },
   {
    "duration": 22,
    "start_time": "2022-11-15T12:10:54.615Z"
   },
   {
    "duration": 4,
    "start_time": "2022-11-15T12:11:06.817Z"
   },
   {
    "duration": 47755,
    "start_time": "2022-11-15T12:11:21.196Z"
   },
   {
    "duration": 744,
    "start_time": "2022-11-15T12:13:04.848Z"
   },
   {
    "duration": 15857,
    "start_time": "2022-11-17T09:47:52.506Z"
   },
   {
    "duration": 229,
    "start_time": "2022-11-17T09:48:08.364Z"
   },
   {
    "duration": 3,
    "start_time": "2022-11-17T09:48:08.594Z"
   },
   {
    "duration": 982,
    "start_time": "2022-11-17T09:48:08.599Z"
   },
   {
    "duration": 3,
    "start_time": "2022-11-17T09:48:09.582Z"
   },
   {
    "duration": 42123,
    "start_time": "2022-11-17T09:48:09.586Z"
   },
   {
    "duration": 22,
    "start_time": "2022-11-17T09:48:51.711Z"
   },
   {
    "duration": 6,
    "start_time": "2022-11-17T10:02:09.734Z"
   },
   {
    "duration": 192,
    "start_time": "2022-11-17T10:02:16.903Z"
   },
   {
    "duration": 132,
    "start_time": "2022-11-17T10:02:22.835Z"
   },
   {
    "duration": 211,
    "start_time": "2022-11-17T10:02:37.036Z"
   },
   {
    "duration": 74,
    "start_time": "2022-11-17T10:02:58.080Z"
   },
   {
    "duration": 245,
    "start_time": "2022-11-17T10:03:01.244Z"
   },
   {
    "duration": 241,
    "start_time": "2022-11-17T10:03:47.653Z"
   },
   {
    "duration": 3,
    "start_time": "2022-11-17T10:03:53.401Z"
   },
   {
    "duration": 228,
    "start_time": "2022-11-17T10:03:58.400Z"
   },
   {
    "duration": 276,
    "start_time": "2022-11-17T10:04:36.875Z"
   },
   {
    "duration": 3,
    "start_time": "2022-11-17T10:04:58.439Z"
   },
   {
    "duration": 668,
    "start_time": "2022-11-17T10:05:02.312Z"
   },
   {
    "duration": 239,
    "start_time": "2022-11-17T10:05:14.351Z"
   },
   {
    "duration": 2267,
    "start_time": "2022-11-17T10:05:31.977Z"
   },
   {
    "duration": 441,
    "start_time": "2022-11-17T10:28:35.870Z"
   },
   {
    "duration": 24,
    "start_time": "2022-11-17T10:28:43.102Z"
   },
   {
    "duration": 886,
    "start_time": "2022-11-17T10:29:16.211Z"
   },
   {
    "duration": 619,
    "start_time": "2022-11-17T10:29:20.126Z"
   },
   {
    "duration": 30,
    "start_time": "2022-11-17T10:32:42.928Z"
   },
   {
    "duration": 14,
    "start_time": "2022-11-17T10:32:52.711Z"
   },
   {
    "duration": 9,
    "start_time": "2022-11-17T10:34:56.469Z"
   },
   {
    "duration": 41,
    "start_time": "2022-11-17T10:36:50.993Z"
   },
   {
    "duration": 13,
    "start_time": "2022-11-17T10:37:01.864Z"
   },
   {
    "duration": 118,
    "start_time": "2022-11-17T10:37:13.667Z"
   },
   {
    "duration": 12,
    "start_time": "2022-11-17T10:42:13.464Z"
   },
   {
    "duration": 45,
    "start_time": "2022-11-17T10:42:21.848Z"
   },
   {
    "duration": 130,
    "start_time": "2022-11-17T10:44:32.747Z"
   },
   {
    "duration": 71,
    "start_time": "2022-11-17T10:46:16.807Z"
   },
   {
    "duration": 77,
    "start_time": "2022-11-17T10:46:29.571Z"
   },
   {
    "duration": 75,
    "start_time": "2022-11-17T10:46:36.679Z"
   },
   {
    "duration": 51,
    "start_time": "2022-11-17T10:46:48.725Z"
   },
   {
    "duration": 70,
    "start_time": "2022-11-17T10:47:56.755Z"
   },
   {
    "duration": 123,
    "start_time": "2022-11-17T10:48:51.193Z"
   },
   {
    "duration": 132,
    "start_time": "2022-11-17T10:49:01.819Z"
   },
   {
    "duration": 285,
    "start_time": "2022-11-17T10:49:45.361Z"
   },
   {
    "duration": 188,
    "start_time": "2022-11-17T10:50:52.561Z"
   },
   {
    "duration": 184,
    "start_time": "2022-11-17T10:50:57.881Z"
   },
   {
    "duration": 124,
    "start_time": "2022-11-17T10:51:03.169Z"
   },
   {
    "duration": 181,
    "start_time": "2022-11-17T10:51:50.138Z"
   },
   {
    "duration": 26,
    "start_time": "2022-11-17T10:51:56.536Z"
   },
   {
    "duration": 3,
    "start_time": "2022-11-17T10:53:26.323Z"
   },
   {
    "duration": 3,
    "start_time": "2022-11-17T10:53:27.512Z"
   },
   {
    "duration": 677,
    "start_time": "2022-11-17T10:53:29.177Z"
   },
   {
    "duration": 4,
    "start_time": "2022-11-17T10:53:33.849Z"
   },
   {
    "duration": 458,
    "start_time": "2022-11-17T10:53:37.883Z"
   },
   {
    "duration": 33,
    "start_time": "2022-11-17T10:53:39.200Z"
   },
   {
    "duration": 40,
    "start_time": "2022-11-17T10:53:40.860Z"
   },
   {
    "duration": 149,
    "start_time": "2022-11-17T10:53:42.063Z"
   },
   {
    "duration": 24,
    "start_time": "2022-11-17T10:53:44.884Z"
   },
   {
    "duration": 12,
    "start_time": "2022-11-17T10:57:01.343Z"
   },
   {
    "duration": 19,
    "start_time": "2022-11-17T10:57:16.829Z"
   },
   {
    "duration": 35,
    "start_time": "2022-11-17T10:57:21.871Z"
   },
   {
    "duration": 621,
    "start_time": "2022-11-17T10:57:34.145Z"
   },
   {
    "duration": 1088,
    "start_time": "2022-11-17T10:58:41.145Z"
   },
   {
    "duration": 5,
    "start_time": "2022-11-17T10:59:05.042Z"
   },
   {
    "duration": 49,
    "start_time": "2022-11-17T10:59:45.841Z"
   },
   {
    "duration": 25,
    "start_time": "2022-11-17T10:59:52.126Z"
   },
   {
    "duration": 31,
    "start_time": "2022-11-17T11:01:09.100Z"
   },
   {
    "duration": 22,
    "start_time": "2022-11-17T11:01:11.726Z"
   },
   {
    "duration": 14,
    "start_time": "2022-11-17T11:01:54.009Z"
   },
   {
    "duration": 22,
    "start_time": "2022-11-17T11:01:58.704Z"
   },
   {
    "duration": 11,
    "start_time": "2022-11-17T11:02:18.302Z"
   },
   {
    "duration": 9,
    "start_time": "2022-11-17T11:02:34.849Z"
   },
   {
    "duration": 17,
    "start_time": "2022-11-17T11:04:56.346Z"
   },
   {
    "duration": 32,
    "start_time": "2022-11-17T11:05:41.375Z"
   },
   {
    "duration": 4,
    "start_time": "2022-11-17T11:17:44.206Z"
   },
   {
    "duration": 15,
    "start_time": "2022-11-17T11:25:40.177Z"
   },
   {
    "duration": 16,
    "start_time": "2022-11-17T11:26:28.512Z"
   },
   {
    "duration": 16,
    "start_time": "2022-11-17T11:26:37.739Z"
   },
   {
    "duration": 17,
    "start_time": "2022-11-17T11:26:52.848Z"
   },
   {
    "duration": 19,
    "start_time": "2022-11-17T11:26:59.280Z"
   },
   {
    "duration": 45,
    "start_time": "2022-11-17T11:28:23.872Z"
   },
   {
    "duration": 37,
    "start_time": "2022-11-17T11:29:39.821Z"
   },
   {
    "duration": 39,
    "start_time": "2022-11-17T11:30:00.441Z"
   },
   {
    "duration": 35,
    "start_time": "2022-11-17T11:30:07.172Z"
   },
   {
    "duration": 33,
    "start_time": "2022-11-17T11:31:08.256Z"
   },
   {
    "duration": 16,
    "start_time": "2022-11-17T11:31:12.919Z"
   },
   {
    "duration": 46,
    "start_time": "2022-11-17T11:32:25.907Z"
   },
   {
    "duration": 4,
    "start_time": "2022-11-17T11:37:01.596Z"
   },
   {
    "duration": 465,
    "start_time": "2022-11-17T11:37:20.861Z"
   },
   {
    "duration": 4,
    "start_time": "2022-11-17T11:37:33.989Z"
   },
   {
    "duration": 3,
    "start_time": "2022-11-17T11:37:34.861Z"
   },
   {
    "duration": 788,
    "start_time": "2022-11-17T11:37:35.699Z"
   },
   {
    "duration": 5,
    "start_time": "2022-11-17T11:37:38.370Z"
   },
   {
    "duration": 4,
    "start_time": "2022-11-17T11:38:44.790Z"
   },
   {
    "duration": 1015,
    "start_time": "2022-11-17T11:38:55.263Z"
   },
   {
    "duration": 4,
    "start_time": "2022-11-17T11:39:04.003Z"
   },
   {
    "duration": 10,
    "start_time": "2022-11-17T11:39:08.507Z"
   },
   {
    "duration": 15,
    "start_time": "2022-11-17T11:39:28.777Z"
   },
   {
    "duration": 5,
    "start_time": "2022-11-17T11:39:32.380Z"
   },
   {
    "duration": 23,
    "start_time": "2022-11-17T11:39:34.034Z"
   },
   {
    "duration": 3,
    "start_time": "2022-11-17T11:39:44.547Z"
   },
   {
    "duration": 3,
    "start_time": "2022-11-17T11:39:45.362Z"
   },
   {
    "duration": 818,
    "start_time": "2022-11-17T11:39:46.449Z"
   },
   {
    "duration": 3,
    "start_time": "2022-11-17T11:39:48.800Z"
   },
   {
    "duration": 4,
    "start_time": "2022-11-17T11:39:52.454Z"
   },
   {
    "duration": 1052,
    "start_time": "2022-11-17T11:39:55.117Z"
   },
   {
    "duration": 1057,
    "start_time": "2022-11-17T11:40:03.310Z"
   },
   {
    "duration": 973,
    "start_time": "2022-11-17T11:40:26.654Z"
   },
   {
    "duration": 952,
    "start_time": "2022-11-17T11:40:55.948Z"
   },
   {
    "duration": 981,
    "start_time": "2022-11-17T11:41:06.543Z"
   },
   {
    "duration": 1035,
    "start_time": "2022-11-17T11:41:13.755Z"
   },
   {
    "duration": 1060,
    "start_time": "2022-11-17T11:41:31.910Z"
   },
   {
    "duration": 1034,
    "start_time": "2022-11-17T11:41:57.973Z"
   },
   {
    "duration": 974,
    "start_time": "2022-11-17T11:43:22.980Z"
   },
   {
    "duration": 971,
    "start_time": "2022-11-17T11:43:26.432Z"
   },
   {
    "duration": 21,
    "start_time": "2022-11-17T11:43:55.775Z"
   },
   {
    "duration": 36,
    "start_time": "2022-11-17T11:44:02.742Z"
   },
   {
    "duration": 145,
    "start_time": "2022-11-17T11:47:02.773Z"
   },
   {
    "duration": 63,
    "start_time": "2022-11-17T11:47:28.267Z"
   },
   {
    "duration": 4,
    "start_time": "2022-11-17T11:47:37.173Z"
   },
   {
    "duration": 1159,
    "start_time": "2022-11-17T11:47:40.496Z"
   },
   {
    "duration": 23,
    "start_time": "2022-11-17T11:48:10.827Z"
   },
   {
    "duration": 58,
    "start_time": "2022-11-17T11:48:20.756Z"
   },
   {
    "duration": 127,
    "start_time": "2022-11-17T11:50:56.764Z"
   },
   {
    "duration": 57,
    "start_time": "2022-11-17T11:51:06.516Z"
   },
   {
    "duration": 4,
    "start_time": "2022-11-17T12:41:41.993Z"
   },
   {
    "duration": 507,
    "start_time": "2022-11-17T12:42:11.288Z"
   },
   {
    "duration": 5,
    "start_time": "2022-11-17T12:42:28.728Z"
   },
   {
    "duration": 974,
    "start_time": "2022-11-17T12:42:32.601Z"
   },
   {
    "duration": 3,
    "start_time": "2022-11-17T12:44:23.700Z"
   },
   {
    "duration": 962,
    "start_time": "2022-11-17T12:46:19.784Z"
   },
   {
    "duration": 6,
    "start_time": "2022-11-17T12:46:24.060Z"
   },
   {
    "duration": 913,
    "start_time": "2022-11-17T12:46:27.057Z"
   },
   {
    "duration": 1671,
    "start_time": "2022-11-17T12:46:41.748Z"
   },
   {
    "duration": 3,
    "start_time": "2022-11-17T12:46:52.409Z"
   },
   {
    "duration": 4,
    "start_time": "2022-11-17T12:46:54.050Z"
   },
   {
    "duration": 3,
    "start_time": "2022-11-17T12:46:55.367Z"
   },
   {
    "duration": 664,
    "start_time": "2022-11-17T12:46:56.588Z"
   },
   {
    "duration": 4,
    "start_time": "2022-11-17T12:46:58.923Z"
   },
   {
    "duration": 3,
    "start_time": "2022-11-17T12:47:03.023Z"
   },
   {
    "duration": 5,
    "start_time": "2022-11-17T12:47:04.205Z"
   },
   {
    "duration": 1680,
    "start_time": "2022-11-17T12:47:09.867Z"
   },
   {
    "duration": 4,
    "start_time": "2022-11-17T12:47:31.907Z"
   },
   {
    "duration": 496,
    "start_time": "2022-11-17T12:47:36.406Z"
   },
   {
    "duration": 65,
    "start_time": "2022-11-17T12:48:36.094Z"
   },
   {
    "duration": 636,
    "start_time": "2022-11-17T12:48:41.022Z"
   },
   {
    "duration": 172,
    "start_time": "2022-11-17T12:48:54.837Z"
   },
   {
    "duration": 262,
    "start_time": "2022-11-17T12:49:01.931Z"
   },
   {
    "duration": 246,
    "start_time": "2022-11-17T12:49:18.453Z"
   },
   {
    "duration": 160,
    "start_time": "2022-11-17T12:49:22.787Z"
   },
   {
    "duration": 212,
    "start_time": "2022-11-17T12:49:30.809Z"
   },
   {
    "duration": 173,
    "start_time": "2022-11-17T12:49:49.975Z"
   },
   {
    "duration": 178,
    "start_time": "2022-11-17T12:50:05.741Z"
   },
   {
    "duration": 131,
    "start_time": "2022-11-17T12:50:16.073Z"
   },
   {
    "duration": 157,
    "start_time": "2022-11-17T12:50:24.692Z"
   },
   {
    "duration": 134,
    "start_time": "2022-11-17T12:50:27.897Z"
   },
   {
    "duration": 154,
    "start_time": "2022-11-17T12:50:35.776Z"
   },
   {
    "duration": 474,
    "start_time": "2022-11-17T12:54:20.046Z"
   },
   {
    "duration": 586,
    "start_time": "2022-11-17T12:58:44.418Z"
   },
   {
    "duration": 32,
    "start_time": "2022-11-17T12:59:18.102Z"
   },
   {
    "duration": 17,
    "start_time": "2022-11-17T12:59:27.930Z"
   },
   {
    "duration": 171,
    "start_time": "2022-11-17T13:00:14.545Z"
   },
   {
    "duration": 175,
    "start_time": "2022-11-17T13:00:23.269Z"
   },
   {
    "duration": 26,
    "start_time": "2022-11-17T13:01:01.470Z"
   },
   {
    "duration": 42,
    "start_time": "2022-11-17T13:02:06.113Z"
   },
   {
    "duration": 39,
    "start_time": "2022-11-17T13:02:10.671Z"
   },
   {
    "duration": 38,
    "start_time": "2022-11-17T13:02:16.649Z"
   },
   {
    "duration": 50,
    "start_time": "2022-11-17T13:03:10.886Z"
   },
   {
    "duration": 39,
    "start_time": "2022-11-17T13:03:17.667Z"
   },
   {
    "duration": 43,
    "start_time": "2022-11-17T13:03:24.295Z"
   },
   {
    "duration": 38,
    "start_time": "2022-11-17T13:05:19.356Z"
   },
   {
    "duration": 13,
    "start_time": "2022-11-17T13:05:26.067Z"
   },
   {
    "duration": 4,
    "start_time": "2022-11-17T13:06:40.476Z"
   },
   {
    "duration": 29,
    "start_time": "2022-11-17T13:06:57.898Z"
   },
   {
    "duration": 31,
    "start_time": "2022-11-17T13:09:26.323Z"
   },
   {
    "duration": 19,
    "start_time": "2022-11-17T13:09:31.862Z"
   },
   {
    "duration": 790,
    "start_time": "2022-11-17T13:11:14.099Z"
   },
   {
    "duration": 3,
    "start_time": "2022-11-17T13:11:17.281Z"
   },
   {
    "duration": 858,
    "start_time": "2022-11-17T13:11:23.868Z"
   },
   {
    "duration": 4,
    "start_time": "2022-11-17T13:11:30.041Z"
   },
   {
    "duration": 6,
    "start_time": "2022-11-17T13:11:55.300Z"
   },
   {
    "duration": 17,
    "start_time": "2022-11-17T13:12:05.568Z"
   },
   {
    "duration": 16,
    "start_time": "2022-11-17T13:12:12.047Z"
   },
   {
    "duration": 61,
    "start_time": "2022-11-17T13:12:55.810Z"
   },
   {
    "duration": 74,
    "start_time": "2022-11-17T13:13:01.969Z"
   },
   {
    "duration": 74,
    "start_time": "2022-11-17T13:13:11.579Z"
   },
   {
    "duration": 5,
    "start_time": "2022-11-17T13:14:12.819Z"
   },
   {
    "duration": 695,
    "start_time": "2022-11-17T13:14:53.220Z"
   },
   {
    "duration": 593,
    "start_time": "2022-11-17T13:15:03.960Z"
   },
   {
    "duration": 29,
    "start_time": "2022-11-17T13:15:05.932Z"
   },
   {
    "duration": 32,
    "start_time": "2022-11-17T13:15:07.879Z"
   },
   {
    "duration": 32,
    "start_time": "2022-11-17T13:15:09.593Z"
   },
   {
    "duration": 29,
    "start_time": "2022-11-17T13:15:15.949Z"
   },
   {
    "duration": 5,
    "start_time": "2022-11-17T13:19:07.944Z"
   },
   {
    "duration": 157,
    "start_time": "2022-11-17T13:19:13.720Z"
   },
   {
    "duration": 529,
    "start_time": "2022-11-17T13:19:19.620Z"
   },
   {
    "duration": 201,
    "start_time": "2022-11-17T13:19:28.649Z"
   },
   {
    "duration": 26,
    "start_time": "2022-11-17T13:23:49.917Z"
   },
   {
    "duration": 22,
    "start_time": "2022-11-17T13:24:16.049Z"
   },
   {
    "duration": 17,
    "start_time": "2022-11-17T13:26:16.032Z"
   },
   {
    "duration": 26,
    "start_time": "2022-11-17T13:26:54.267Z"
   },
   {
    "duration": 18,
    "start_time": "2022-11-17T13:29:10.728Z"
   },
   {
    "duration": 19,
    "start_time": "2022-11-17T13:29:19.276Z"
   },
   {
    "duration": 20,
    "start_time": "2022-11-17T13:30:14.834Z"
   },
   {
    "duration": 20,
    "start_time": "2022-11-17T13:30:21.034Z"
   },
   {
    "duration": 22,
    "start_time": "2022-11-17T13:30:24.762Z"
   },
   {
    "duration": 20,
    "start_time": "2022-11-17T13:30:29.064Z"
   },
   {
    "duration": 19,
    "start_time": "2022-11-17T13:30:33.615Z"
   },
   {
    "duration": 24,
    "start_time": "2022-11-17T13:30:36.586Z"
   },
   {
    "duration": 25,
    "start_time": "2022-11-17T13:31:29.600Z"
   },
   {
    "duration": 35,
    "start_time": "2022-11-17T13:37:49.603Z"
   },
   {
    "duration": 20,
    "start_time": "2022-11-17T13:38:00.268Z"
   },
   {
    "duration": 20,
    "start_time": "2022-11-17T13:38:09.890Z"
   },
   {
    "duration": 2,
    "start_time": "2022-11-17T13:41:57.276Z"
   },
   {
    "duration": 2,
    "start_time": "2022-11-17T13:42:04.500Z"
   },
   {
    "duration": 2,
    "start_time": "2022-11-17T13:42:12.321Z"
   },
   {
    "duration": 21,
    "start_time": "2022-11-17T13:42:49.078Z"
   },
   {
    "duration": 7,
    "start_time": "2022-11-17T13:43:06.808Z"
   },
   {
    "duration": 13,
    "start_time": "2022-11-17T13:43:11.313Z"
   },
   {
    "duration": 13,
    "start_time": "2022-11-17T13:43:15.493Z"
   },
   {
    "duration": 16,
    "start_time": "2022-11-17T13:43:20.168Z"
   },
   {
    "duration": 8,
    "start_time": "2022-11-17T13:43:56.893Z"
   },
   {
    "duration": 9,
    "start_time": "2022-11-17T13:44:01.010Z"
   },
   {
    "duration": 6,
    "start_time": "2022-11-17T13:52:01.787Z"
   },
   {
    "duration": 8,
    "start_time": "2022-11-17T13:52:15.703Z"
   },
   {
    "duration": 4,
    "start_time": "2022-11-17T13:53:04.047Z"
   },
   {
    "duration": 5,
    "start_time": "2022-11-17T13:53:08.922Z"
   },
   {
    "duration": 5,
    "start_time": "2022-11-17T13:53:13.985Z"
   },
   {
    "duration": 4,
    "start_time": "2022-11-17T13:53:19.221Z"
   },
   {
    "duration": 4,
    "start_time": "2022-11-17T13:54:51.949Z"
   },
   {
    "duration": 1949,
    "start_time": "2022-11-17T13:55:03.171Z"
   },
   {
    "duration": 292,
    "start_time": "2022-11-17T13:55:05.122Z"
   },
   {
    "duration": 4,
    "start_time": "2022-11-17T13:55:05.416Z"
   },
   {
    "duration": 1002,
    "start_time": "2022-11-17T13:55:05.423Z"
   },
   {
    "duration": 4,
    "start_time": "2022-11-17T13:55:06.427Z"
   },
   {
    "duration": 12,
    "start_time": "2022-11-17T13:55:06.433Z"
   },
   {
    "duration": 10,
    "start_time": "2022-11-17T13:55:06.447Z"
   },
   {
    "duration": 659,
    "start_time": "2022-11-17T13:55:06.459Z"
   },
   {
    "duration": 3,
    "start_time": "2022-11-17T13:55:07.119Z"
   },
   {
    "duration": 38,
    "start_time": "2022-11-17T13:55:07.125Z"
   },
   {
    "duration": 52,
    "start_time": "2022-11-17T13:55:07.165Z"
   },
   {
    "duration": 28,
    "start_time": "2022-11-17T13:55:07.219Z"
   },
   {
    "duration": 45,
    "start_time": "2022-11-17T13:55:07.249Z"
   },
   {
    "duration": 2,
    "start_time": "2022-11-17T13:55:07.296Z"
   },
   {
    "duration": 33,
    "start_time": "2022-11-17T13:55:07.300Z"
   },
   {
    "duration": 4,
    "start_time": "2022-11-17T13:55:07.334Z"
   },
   {
    "duration": 83,
    "start_time": "2022-11-17T13:55:07.340Z"
   },
   {
    "duration": 4,
    "start_time": "2022-11-17T14:10:59.925Z"
   },
   {
    "duration": 168,
    "start_time": "2022-11-17T14:19:22.766Z"
   },
   {
    "duration": 17,
    "start_time": "2022-11-17T14:19:28.638Z"
   },
   {
    "duration": 11,
    "start_time": "2022-11-17T14:19:32.012Z"
   },
   {
    "duration": 4,
    "start_time": "2022-11-17T14:20:20.526Z"
   },
   {
    "duration": 3,
    "start_time": "2022-11-17T14:21:36.543Z"
   },
   {
    "duration": 5,
    "start_time": "2022-11-17T14:22:02.466Z"
   },
   {
    "duration": 25,
    "start_time": "2022-11-17T14:22:11.454Z"
   },
   {
    "duration": 64,
    "start_time": "2022-11-17T14:26:02.359Z"
   },
   {
    "duration": 15,
    "start_time": "2022-11-17T14:29:36.445Z"
   },
   {
    "duration": 15,
    "start_time": "2022-11-17T14:29:39.596Z"
   },
   {
    "duration": 18,
    "start_time": "2022-11-17T14:30:04.328Z"
   },
   {
    "duration": 71,
    "start_time": "2022-11-17T14:30:06.220Z"
   },
   {
    "duration": 16,
    "start_time": "2022-11-17T14:30:25.052Z"
   },
   {
    "duration": 9,
    "start_time": "2022-11-17T14:31:05.676Z"
   },
   {
    "duration": 42,
    "start_time": "2022-11-17T14:32:05.358Z"
   },
   {
    "duration": 15,
    "start_time": "2022-11-17T14:32:14.611Z"
   },
   {
    "duration": 468,
    "start_time": "2022-11-17T14:32:19.283Z"
   },
   {
    "duration": 88,
    "start_time": "2022-11-17T14:32:31.029Z"
   },
   {
    "duration": 4,
    "start_time": "2022-11-17T14:39:10.477Z"
   },
   {
    "duration": 4,
    "start_time": "2022-11-17T14:39:24.470Z"
   },
   {
    "duration": 210,
    "start_time": "2022-11-17T14:40:01.490Z"
   },
   {
    "duration": 354,
    "start_time": "2022-11-17T14:40:19.129Z"
   },
   {
    "duration": 16,
    "start_time": "2022-11-17T14:40:44.951Z"
   },
   {
    "duration": 16,
    "start_time": "2022-11-17T14:40:49.349Z"
   },
   {
    "duration": 86,
    "start_time": "2022-11-17T14:41:09.369Z"
   },
   {
    "duration": 201,
    "start_time": "2022-11-17T14:41:21.087Z"
   },
   {
    "duration": 352,
    "start_time": "2022-11-17T14:41:26.263Z"
   },
   {
    "duration": 72,
    "start_time": "2022-11-17T14:42:28.531Z"
   },
   {
    "duration": 223,
    "start_time": "2022-11-17T14:42:44.249Z"
   },
   {
    "duration": 96,
    "start_time": "2022-11-17T14:42:57.858Z"
   },
   {
    "duration": 79,
    "start_time": "2022-11-17T14:43:00.651Z"
   },
   {
    "duration": 83,
    "start_time": "2022-11-17T14:43:19.570Z"
   },
   {
    "duration": 77,
    "start_time": "2022-11-17T14:43:37.939Z"
   },
   {
    "duration": 365,
    "start_time": "2022-11-17T14:43:52.895Z"
   },
   {
    "duration": 95,
    "start_time": "2022-11-17T14:43:57.519Z"
   },
   {
    "duration": 16,
    "start_time": "2022-11-17T14:44:27.289Z"
   },
   {
    "duration": 25,
    "start_time": "2022-11-17T14:44:31.469Z"
   },
   {
    "duration": 75,
    "start_time": "2022-11-17T14:44:34.456Z"
   },
   {
    "duration": 355,
    "start_time": "2022-11-17T14:45:07.917Z"
   },
   {
    "duration": 114,
    "start_time": "2022-11-17T14:45:50.926Z"
   },
   {
    "duration": 135,
    "start_time": "2022-11-17T14:46:04.111Z"
   },
   {
    "duration": 204,
    "start_time": "2022-11-17T14:46:09.786Z"
   },
   {
    "duration": 76,
    "start_time": "2022-11-17T14:46:18.833Z"
   },
   {
    "duration": 367,
    "start_time": "2022-11-17T14:46:25.719Z"
   },
   {
    "duration": 102,
    "start_time": "2022-11-17T14:46:38.085Z"
   },
   {
    "duration": 124,
    "start_time": "2022-11-17T14:46:43.712Z"
   },
   {
    "duration": 119,
    "start_time": "2022-11-17T14:46:48.255Z"
   },
   {
    "duration": 114,
    "start_time": "2022-11-17T14:46:53.204Z"
   },
   {
    "duration": 230,
    "start_time": "2022-11-17T14:48:46.723Z"
   },
   {
    "duration": 365,
    "start_time": "2022-11-17T14:48:52.708Z"
   },
   {
    "duration": 76,
    "start_time": "2022-11-17T14:49:21.788Z"
   },
   {
    "duration": 373,
    "start_time": "2022-11-17T14:49:30.165Z"
   },
   {
    "duration": 438,
    "start_time": "2022-11-17T14:50:02.258Z"
   },
   {
    "duration": 81,
    "start_time": "2022-11-17T14:50:32.322Z"
   },
   {
    "duration": 89,
    "start_time": "2022-11-17T14:50:46.740Z"
   },
   {
    "duration": 5,
    "start_time": "2022-11-17T14:51:22.735Z"
   },
   {
    "duration": 26,
    "start_time": "2022-11-17T14:51:39.939Z"
   },
   {
    "duration": 80,
    "start_time": "2022-11-17T14:51:59.689Z"
   },
   {
    "duration": 214,
    "start_time": "2022-11-17T14:52:10.241Z"
   },
   {
    "duration": 90,
    "start_time": "2022-11-17T14:52:42.631Z"
   },
   {
    "duration": 21,
    "start_time": "2022-11-17T14:53:04.547Z"
   },
   {
    "duration": 19,
    "start_time": "2022-11-17T14:53:08.599Z"
   },
   {
    "duration": 283,
    "start_time": "2022-11-17T14:53:49.307Z"
   },
   {
    "duration": 308,
    "start_time": "2022-11-17T14:54:06.820Z"
   },
   {
    "duration": 308,
    "start_time": "2022-11-17T14:54:44.846Z"
   },
   {
    "duration": 3,
    "start_time": "2022-11-17T15:10:11.701Z"
   },
   {
    "duration": 62,
    "start_time": "2022-11-17T15:10:30.244Z"
   },
   {
    "duration": 13,
    "start_time": "2022-11-17T15:11:26.431Z"
   },
   {
    "duration": 16,
    "start_time": "2022-11-17T15:11:39.097Z"
   },
   {
    "duration": 6,
    "start_time": "2022-11-17T15:13:51.726Z"
   },
   {
    "duration": 591,
    "start_time": "2022-11-17T15:15:53.709Z"
   },
   {
    "duration": 22283,
    "start_time": "2022-11-17T15:16:31.151Z"
   },
   {
    "duration": 5,
    "start_time": "2022-11-17T15:21:47.777Z"
   },
   {
    "duration": 284,
    "start_time": "2022-11-17T15:22:34.068Z"
   },
   {
    "duration": 1879,
    "start_time": "2022-11-17T15:23:12.205Z"
   },
   {
    "duration": 313,
    "start_time": "2022-11-17T15:23:14.087Z"
   },
   {
    "duration": 4,
    "start_time": "2022-11-17T15:23:14.401Z"
   },
   {
    "duration": 955,
    "start_time": "2022-11-17T15:23:14.408Z"
   },
   {
    "duration": 13,
    "start_time": "2022-11-17T15:23:15.365Z"
   },
   {
    "duration": 51305,
    "start_time": "2022-11-17T15:23:15.380Z"
   },
   {
    "duration": 3,
    "start_time": "2022-11-17T15:24:06.688Z"
   },
   {
    "duration": 739,
    "start_time": "2022-11-17T15:24:06.693Z"
   },
   {
    "duration": 3,
    "start_time": "2022-11-17T15:24:07.434Z"
   },
   {
    "duration": 38,
    "start_time": "2022-11-17T15:24:07.440Z"
   },
   {
    "duration": 32,
    "start_time": "2022-11-17T15:24:07.480Z"
   },
   {
    "duration": 29,
    "start_time": "2022-11-17T15:24:07.514Z"
   },
   {
    "duration": 52,
    "start_time": "2022-11-17T15:24:07.545Z"
   },
   {
    "duration": 3,
    "start_time": "2022-11-17T15:24:07.599Z"
   },
   {
    "duration": 37,
    "start_time": "2022-11-17T15:24:07.605Z"
   },
   {
    "duration": 5,
    "start_time": "2022-11-17T15:24:07.644Z"
   },
   {
    "duration": 35,
    "start_time": "2022-11-17T15:24:07.651Z"
   },
   {
    "duration": 25,
    "start_time": "2022-11-17T15:24:07.688Z"
   },
   {
    "duration": 24,
    "start_time": "2022-11-17T15:24:07.715Z"
   },
   {
    "duration": 46,
    "start_time": "2022-11-17T15:24:07.742Z"
   },
   {
    "duration": 4,
    "start_time": "2022-11-17T15:24:07.791Z"
   },
   {
    "duration": 303,
    "start_time": "2022-11-17T15:24:07.797Z"
   },
   {
    "duration": 297,
    "start_time": "2022-11-17T15:24:08.102Z"
   },
   {
    "duration": 7,
    "start_time": "2022-11-17T15:24:08.401Z"
   },
   {
    "duration": 78,
    "start_time": "2022-11-17T15:24:08.410Z"
   },
   {
    "duration": 13,
    "start_time": "2022-11-17T15:24:08.489Z"
   },
   {
    "duration": 770,
    "start_time": "2022-11-17T15:25:26.908Z"
   },
   {
    "duration": 4494,
    "start_time": "2022-11-17T15:26:21.588Z"
   },
   {
    "duration": 67,
    "start_time": "2022-11-17T15:28:00.574Z"
   },
   {
    "duration": 955,
    "start_time": "2022-11-17T15:29:58.550Z"
   },
   {
    "duration": 914,
    "start_time": "2022-11-17T15:31:11.317Z"
   },
   {
    "duration": 870,
    "start_time": "2022-11-17T15:31:36.012Z"
   },
   {
    "duration": 204,
    "start_time": "2022-11-17T15:35:08.858Z"
   },
   {
    "duration": 59,
    "start_time": "2022-11-17T15:40:16.013Z"
   },
   {
    "duration": 65,
    "start_time": "2022-11-17T15:40:31.251Z"
   },
   {
    "duration": 4,
    "start_time": "2022-11-17T15:43:43.545Z"
   },
   {
    "duration": 4,
    "start_time": "2022-11-17T15:43:48.969Z"
   },
   {
    "duration": 1746,
    "start_time": "2022-11-17T15:44:07.872Z"
   },
   {
    "duration": 281,
    "start_time": "2022-11-17T15:44:09.621Z"
   },
   {
    "duration": 3,
    "start_time": "2022-11-17T15:44:09.904Z"
   },
   {
    "duration": 910,
    "start_time": "2022-11-17T15:44:09.910Z"
   },
   {
    "duration": 156,
    "start_time": "2022-11-17T15:44:10.822Z"
   },
   {
    "duration": 5,
    "start_time": "2022-11-17T15:44:10.980Z"
   },
   {
    "duration": 48163,
    "start_time": "2022-11-17T15:44:10.988Z"
   },
   {
    "duration": 27,
    "start_time": "2022-11-17T15:44:59.153Z"
   },
   {
    "duration": 672,
    "start_time": "2022-11-17T15:44:59.183Z"
   },
   {
    "duration": 3,
    "start_time": "2022-11-17T15:44:59.861Z"
   },
   {
    "duration": 209,
    "start_time": "2022-11-17T15:44:59.866Z"
   },
   {
    "duration": 33,
    "start_time": "2022-11-17T15:45:00.077Z"
   },
   {
    "duration": 27,
    "start_time": "2022-11-17T15:45:00.112Z"
   },
   {
    "duration": 50,
    "start_time": "2022-11-17T15:45:00.141Z"
   },
   {
    "duration": 3,
    "start_time": "2022-11-17T15:45:00.193Z"
   },
   {
    "duration": 34,
    "start_time": "2022-11-17T15:45:00.198Z"
   },
   {
    "duration": 6,
    "start_time": "2022-11-17T15:45:00.234Z"
   },
   {
    "duration": 54,
    "start_time": "2022-11-17T15:45:00.242Z"
   },
   {
    "duration": 22,
    "start_time": "2022-11-17T15:45:00.298Z"
   },
   {
    "duration": 31,
    "start_time": "2022-11-17T15:45:00.322Z"
   },
   {
    "duration": 62,
    "start_time": "2022-11-17T15:45:00.355Z"
   },
   {
    "duration": 13,
    "start_time": "2022-11-17T15:45:00.419Z"
   },
   {
    "duration": 259,
    "start_time": "2022-11-17T15:45:00.434Z"
   },
   {
    "duration": 252,
    "start_time": "2022-11-17T15:45:00.698Z"
   },
   {
    "duration": 4070,
    "start_time": "2022-11-17T15:45:00.952Z"
   },
   {
    "duration": 171,
    "start_time": "2022-11-17T15:45:05.024Z"
   },
   {
    "duration": 86,
    "start_time": "2022-11-17T15:45:05.197Z"
   },
   {
    "duration": 972,
    "start_time": "2022-11-17T15:45:05.286Z"
   },
   {
    "duration": 856,
    "start_time": "2022-11-17T15:45:59.793Z"
   },
   {
    "duration": 239,
    "start_time": "2022-11-17T15:46:11.965Z"
   },
   {
    "duration": 3,
    "start_time": "2022-11-17T15:48:36.801Z"
   },
   {
    "duration": 4,
    "start_time": "2022-11-17T15:53:08.524Z"
   },
   {
    "duration": 3,
    "start_time": "2022-11-17T15:53:24.707Z"
   },
   {
    "duration": 3,
    "start_time": "2022-11-17T15:53:33.106Z"
   },
   {
    "duration": 4,
    "start_time": "2022-11-17T15:53:42.596Z"
   },
   {
    "duration": 184,
    "start_time": "2022-11-17T15:57:13.141Z"
   },
   {
    "duration": 5,
    "start_time": "2022-11-17T15:57:25.752Z"
   },
   {
    "duration": 3,
    "start_time": "2022-11-17T15:57:36.547Z"
   },
   {
    "duration": 116,
    "start_time": "2022-11-17T15:57:38.014Z"
   },
   {
    "duration": 118,
    "start_time": "2022-11-17T15:57:43.630Z"
   },
   {
    "duration": 383,
    "start_time": "2022-11-17T15:57:48.835Z"
   },
   {
    "duration": 27,
    "start_time": "2022-11-17T15:58:00.703Z"
   },
   {
    "duration": 7,
    "start_time": "2022-11-17T15:58:07.965Z"
   },
   {
    "duration": 13,
    "start_time": "2022-11-17T15:58:42.739Z"
   },
   {
    "duration": 5,
    "start_time": "2022-11-17T15:59:03.695Z"
   },
   {
    "duration": 5,
    "start_time": "2022-11-17T15:59:25.720Z"
   },
   {
    "duration": 3,
    "start_time": "2022-11-17T16:00:16.264Z"
   },
   {
    "duration": 5,
    "start_time": "2022-11-17T16:15:39.011Z"
   },
   {
    "duration": 16,
    "start_time": "2022-11-17T16:16:11.506Z"
   },
   {
    "duration": 5,
    "start_time": "2022-11-17T16:16:33.499Z"
   },
   {
    "duration": 24,
    "start_time": "2022-11-17T16:16:34.673Z"
   },
   {
    "duration": 3,
    "start_time": "2022-11-17T16:16:49.683Z"
   },
   {
    "duration": 5,
    "start_time": "2022-11-17T16:16:59.767Z"
   },
   {
    "duration": 27,
    "start_time": "2022-11-17T16:17:00.862Z"
   },
   {
    "duration": 4,
    "start_time": "2022-11-17T16:17:52.977Z"
   },
   {
    "duration": 0,
    "start_time": "2022-11-17T16:18:18.012Z"
   },
   {
    "duration": 0,
    "start_time": "2022-11-17T16:18:18.014Z"
   },
   {
    "duration": 5,
    "start_time": "2022-11-17T16:19:07.760Z"
   },
   {
    "duration": 5,
    "start_time": "2022-11-17T16:19:09.257Z"
   },
   {
    "duration": 29,
    "start_time": "2022-11-17T16:19:10.277Z"
   },
   {
    "duration": 16,
    "start_time": "2022-11-17T16:19:32.751Z"
   },
   {
    "duration": 9,
    "start_time": "2022-11-17T16:19:40.928Z"
   },
   {
    "duration": 83659,
    "start_time": "2022-11-17T16:19:42.448Z"
   },
   {
    "duration": 0,
    "start_time": "2022-11-17T16:21:06.114Z"
   },
   {
    "duration": 1894,
    "start_time": "2022-11-17T16:21:10.749Z"
   },
   {
    "duration": 272,
    "start_time": "2022-11-17T16:21:12.645Z"
   },
   {
    "duration": 3,
    "start_time": "2022-11-17T16:21:12.919Z"
   },
   {
    "duration": 32,
    "start_time": "2022-11-17T16:21:12.925Z"
   },
   {
    "duration": 916,
    "start_time": "2022-11-17T16:21:12.958Z"
   },
   {
    "duration": 16,
    "start_time": "2022-11-17T16:21:13.878Z"
   },
   {
    "duration": 23,
    "start_time": "2022-11-17T16:21:13.897Z"
   },
   {
    "duration": 46,
    "start_time": "2022-11-17T16:21:13.923Z"
   },
   {
    "duration": 706,
    "start_time": "2022-11-17T16:21:13.972Z"
   },
   {
    "duration": 3,
    "start_time": "2022-11-17T16:21:14.681Z"
   },
   {
    "duration": 43,
    "start_time": "2022-11-17T16:21:14.686Z"
   },
   {
    "duration": 52,
    "start_time": "2022-11-17T16:21:14.731Z"
   },
   {
    "duration": 28,
    "start_time": "2022-11-17T16:21:14.785Z"
   },
   {
    "duration": 27,
    "start_time": "2022-11-17T16:21:14.815Z"
   },
   {
    "duration": 3,
    "start_time": "2022-11-17T16:21:14.845Z"
   },
   {
    "duration": 61,
    "start_time": "2022-11-17T16:21:14.849Z"
   },
   {
    "duration": 4,
    "start_time": "2022-11-17T16:21:14.912Z"
   },
   {
    "duration": 24,
    "start_time": "2022-11-17T16:21:14.919Z"
   },
   {
    "duration": 33,
    "start_time": "2022-11-17T16:21:14.945Z"
   },
   {
    "duration": 18,
    "start_time": "2022-11-17T16:21:14.980Z"
   },
   {
    "duration": 19,
    "start_time": "2022-11-17T16:21:15.000Z"
   },
   {
    "duration": 8,
    "start_time": "2022-11-17T16:21:15.021Z"
   },
   {
    "duration": 294,
    "start_time": "2022-11-17T16:21:15.030Z"
   },
   {
    "duration": 266,
    "start_time": "2022-11-17T16:21:15.326Z"
   },
   {
    "duration": 3,
    "start_time": "2022-11-17T16:21:15.594Z"
   },
   {
    "duration": 159,
    "start_time": "2022-11-17T16:21:15.599Z"
   },
   {
    "duration": 886,
    "start_time": "2022-11-17T16:21:15.760Z"
   },
   {
    "duration": 3,
    "start_time": "2022-11-17T16:21:16.651Z"
   },
   {
    "duration": 462,
    "start_time": "2022-11-17T16:21:16.656Z"
   },
   {
    "duration": 5,
    "start_time": "2022-11-17T16:21:17.120Z"
   },
   {
    "duration": 6,
    "start_time": "2022-11-17T16:21:17.126Z"
   },
   {
    "duration": 72,
    "start_time": "2022-11-17T16:21:17.133Z"
   },
   {
    "duration": 0,
    "start_time": "2022-11-17T16:21:17.207Z"
   },
   {
    "duration": 0,
    "start_time": "2022-11-17T16:21:17.208Z"
   },
   {
    "duration": 5,
    "start_time": "2022-11-17T16:21:27.120Z"
   },
   {
    "duration": 0,
    "start_time": "2022-11-17T16:22:28.397Z"
   },
   {
    "duration": 0,
    "start_time": "2022-11-17T16:22:55.065Z"
   },
   {
    "duration": 6210,
    "start_time": "2022-11-17T16:22:58.476Z"
   },
   {
    "duration": 4,
    "start_time": "2022-11-17T16:24:39.814Z"
   },
   {
    "duration": 20,
    "start_time": "2022-11-17T16:24:41.517Z"
   },
   {
    "duration": 5,
    "start_time": "2022-11-17T16:24:47.576Z"
   },
   {
    "duration": 6221,
    "start_time": "2022-11-17T16:24:55.576Z"
   },
   {
    "duration": 27470,
    "start_time": "2022-11-17T16:25:28.709Z"
   },
   {
    "duration": 7,
    "start_time": "2022-11-17T16:26:52.411Z"
   },
   {
    "duration": 22410,
    "start_time": "2022-11-17T16:26:53.622Z"
   },
   {
    "duration": 66245,
    "start_time": "2022-11-17T16:27:16.034Z"
   },
   {
    "duration": 87,
    "start_time": "2022-11-17T16:30:43.014Z"
   },
   {
    "duration": 9,
    "start_time": "2022-11-17T16:31:14.355Z"
   },
   {
    "duration": 120,
    "start_time": "2022-11-17T16:31:24.227Z"
   },
   {
    "duration": 23089,
    "start_time": "2022-11-17T16:31:35.430Z"
   },
   {
    "duration": 4,
    "start_time": "2022-11-17T16:33:45.001Z"
   },
   {
    "duration": 95244,
    "start_time": "2022-11-17T16:33:47.541Z"
   },
   {
    "duration": 43,
    "start_time": "2022-11-17T16:35:33.281Z"
   },
   {
    "duration": 148530,
    "start_time": "2022-11-17T16:35:41.990Z"
   },
   {
    "duration": 33,
    "start_time": "2022-11-17T16:38:10.522Z"
   },
   {
    "duration": 2,
    "start_time": "2022-11-17T16:45:41.839Z"
   },
   {
    "duration": 3,
    "start_time": "2022-11-17T16:46:22.657Z"
   },
   {
    "duration": 26902,
    "start_time": "2022-11-17T16:46:58.887Z"
   },
   {
    "duration": 70,
    "start_time": "2022-11-17T16:50:20.871Z"
   },
   {
    "duration": 68,
    "start_time": "2022-11-17T16:50:28.288Z"
   },
   {
    "duration": 5,
    "start_time": "2022-11-17T16:51:45.607Z"
   },
   {
    "duration": 3,
    "start_time": "2022-11-17T16:51:53.655Z"
   },
   {
    "duration": 5,
    "start_time": "2022-11-17T16:51:58.666Z"
   },
   {
    "duration": 4,
    "start_time": "2022-11-17T16:52:16.333Z"
   },
   {
    "duration": 0,
    "start_time": "2022-11-17T16:56:49.873Z"
   },
   {
    "duration": 22656,
    "start_time": "2022-11-17T16:56:53.747Z"
   },
   {
    "duration": 5,
    "start_time": "2022-11-17T16:57:20.464Z"
   },
   {
    "duration": 22977,
    "start_time": "2022-11-17T16:58:26.108Z"
   },
   {
    "duration": 5,
    "start_time": "2022-11-17T16:59:34.017Z"
   },
   {
    "duration": 5,
    "start_time": "2022-11-17T17:11:55.818Z"
   },
   {
    "duration": 23353,
    "start_time": "2022-11-17T17:12:11.626Z"
   },
   {
    "duration": 4,
    "start_time": "2022-11-17T17:12:38.210Z"
   },
   {
    "duration": 12,
    "start_time": "2022-11-17T17:12:39.455Z"
   },
   {
    "duration": 23294,
    "start_time": "2022-11-17T17:13:01.324Z"
   },
   {
    "duration": 4,
    "start_time": "2022-11-17T17:13:24.620Z"
   },
   {
    "duration": 4,
    "start_time": "2022-11-17T17:13:32.696Z"
   },
   {
    "duration": 76,
    "start_time": "2022-11-17T17:13:37.237Z"
   },
   {
    "duration": 4,
    "start_time": "2022-11-17T17:14:05.486Z"
   },
   {
    "duration": 4,
    "start_time": "2022-11-17T17:14:13.049Z"
   },
   {
    "duration": 3,
    "start_time": "2022-11-17T17:14:20.166Z"
   },
   {
    "duration": 5,
    "start_time": "2022-11-17T17:14:24.769Z"
   },
   {
    "duration": 5,
    "start_time": "2022-11-17T17:14:50.146Z"
   },
   {
    "duration": 1904,
    "start_time": "2022-11-17T17:15:41.497Z"
   },
   {
    "duration": 5,
    "start_time": "2022-11-17T17:15:45.847Z"
   },
   {
    "duration": 4,
    "start_time": "2022-11-17T17:15:51.601Z"
   },
   {
    "duration": 5,
    "start_time": "2022-11-17T17:15:56.980Z"
   },
   {
    "duration": 149621,
    "start_time": "2022-11-17T17:16:18.037Z"
   },
   {
    "duration": 5,
    "start_time": "2022-11-17T17:18:56.345Z"
   },
   {
    "duration": 11826,
    "start_time": "2022-11-17T17:18:59.456Z"
   },
   {
    "duration": 3,
    "start_time": "2022-11-17T17:19:13.562Z"
   },
   {
    "duration": 128,
    "start_time": "2022-11-17T17:37:57.316Z"
   },
   {
    "duration": 41,
    "start_time": "2022-11-17T17:39:15.041Z"
   },
   {
    "duration": 27035,
    "start_time": "2022-11-17T17:39:19.463Z"
   },
   {
    "duration": 45511,
    "start_time": "2022-11-17T17:39:57.925Z"
   },
   {
    "duration": 41892,
    "start_time": "2022-11-17T17:41:13.216Z"
   },
   {
    "duration": 1809,
    "start_time": "2022-11-17T18:18:36.153Z"
   },
   {
    "duration": 255,
    "start_time": "2022-11-17T18:18:37.965Z"
   },
   {
    "duration": 3,
    "start_time": "2022-11-17T18:18:38.222Z"
   },
   {
    "duration": 30,
    "start_time": "2022-11-17T18:18:38.227Z"
   },
   {
    "duration": 877,
    "start_time": "2022-11-17T18:18:38.259Z"
   },
   {
    "duration": 4,
    "start_time": "2022-11-17T18:18:39.137Z"
   },
   {
    "duration": 8,
    "start_time": "2022-11-17T18:18:39.143Z"
   },
   {
    "duration": 5,
    "start_time": "2022-11-17T18:18:39.153Z"
   },
   {
    "duration": 607,
    "start_time": "2022-11-17T18:18:39.160Z"
   },
   {
    "duration": 9,
    "start_time": "2022-11-17T18:18:39.769Z"
   },
   {
    "duration": 38,
    "start_time": "2022-11-17T18:18:39.779Z"
   },
   {
    "duration": 42,
    "start_time": "2022-11-17T18:18:39.819Z"
   },
   {
    "duration": 33,
    "start_time": "2022-11-17T18:18:39.863Z"
   },
   {
    "duration": 25,
    "start_time": "2022-11-17T18:18:39.898Z"
   },
   {
    "duration": 3,
    "start_time": "2022-11-17T18:18:39.925Z"
   },
   {
    "duration": 49,
    "start_time": "2022-11-17T18:18:39.929Z"
   },
   {
    "duration": 5,
    "start_time": "2022-11-17T18:18:39.980Z"
   },
   {
    "duration": 17,
    "start_time": "2022-11-17T18:18:39.987Z"
   },
   {
    "duration": 17,
    "start_time": "2022-11-17T18:18:40.006Z"
   },
   {
    "duration": 25,
    "start_time": "2022-11-17T18:18:40.025Z"
   },
   {
    "duration": 38,
    "start_time": "2022-11-17T18:18:40.053Z"
   },
   {
    "duration": 4,
    "start_time": "2022-11-17T18:18:40.093Z"
   },
   {
    "duration": 327,
    "start_time": "2022-11-17T18:18:40.099Z"
   },
   {
    "duration": 250,
    "start_time": "2022-11-17T18:18:40.428Z"
   },
   {
    "duration": 3,
    "start_time": "2022-11-17T18:18:40.679Z"
   },
   {
    "duration": 132,
    "start_time": "2022-11-17T18:18:40.684Z"
   },
   {
    "duration": 171,
    "start_time": "2022-11-17T18:18:40.817Z"
   },
   {
    "duration": 0,
    "start_time": "2022-11-17T18:18:40.990Z"
   },
   {
    "duration": 0,
    "start_time": "2022-11-17T18:18:40.991Z"
   },
   {
    "duration": 0,
    "start_time": "2022-11-17T18:18:40.992Z"
   },
   {
    "duration": 0,
    "start_time": "2022-11-17T18:18:40.994Z"
   },
   {
    "duration": 0,
    "start_time": "2022-11-17T18:18:40.995Z"
   },
   {
    "duration": 0,
    "start_time": "2022-11-17T18:18:40.996Z"
   },
   {
    "duration": 0,
    "start_time": "2022-11-17T18:18:40.997Z"
   },
   {
    "duration": 0,
    "start_time": "2022-11-17T18:18:40.999Z"
   },
   {
    "duration": 0,
    "start_time": "2022-11-17T18:18:41.000Z"
   },
   {
    "duration": 1,
    "start_time": "2022-11-17T18:18:41.001Z"
   },
   {
    "duration": 1,
    "start_time": "2022-11-17T18:18:41.003Z"
   },
   {
    "duration": 0,
    "start_time": "2022-11-17T18:18:41.005Z"
   },
   {
    "duration": 0,
    "start_time": "2022-11-17T18:18:41.007Z"
   },
   {
    "duration": 0,
    "start_time": "2022-11-17T18:18:41.008Z"
   },
   {
    "duration": 0,
    "start_time": "2022-11-17T18:18:41.010Z"
   },
   {
    "duration": 0,
    "start_time": "2022-11-17T18:18:41.011Z"
   },
   {
    "duration": 0,
    "start_time": "2022-11-17T18:18:41.013Z"
   },
   {
    "duration": 0,
    "start_time": "2022-11-17T18:18:41.014Z"
   },
   {
    "duration": 0,
    "start_time": "2022-11-17T18:18:41.016Z"
   },
   {
    "duration": 0,
    "start_time": "2022-11-17T18:18:41.017Z"
   },
   {
    "duration": 4,
    "start_time": "2022-11-17T18:19:45.141Z"
   },
   {
    "duration": 83,
    "start_time": "2022-11-17T18:19:48.883Z"
   },
   {
    "duration": 4,
    "start_time": "2022-11-17T18:19:50.609Z"
   },
   {
    "duration": 41,
    "start_time": "2022-11-17T18:20:19.011Z"
   },
   {
    "duration": 1258,
    "start_time": "2022-11-17T18:20:34.250Z"
   },
   {
    "duration": 47,
    "start_time": "2022-11-17T18:21:41.959Z"
   },
   {
    "duration": 1300,
    "start_time": "2022-11-17T18:21:48.212Z"
   },
   {
    "duration": 4,
    "start_time": "2022-11-17T18:21:52.381Z"
   },
   {
    "duration": 1250,
    "start_time": "2022-11-17T18:21:54.449Z"
   },
   {
    "duration": 36,
    "start_time": "2022-11-17T18:22:04.754Z"
   },
   {
    "duration": 12,
    "start_time": "2022-11-17T18:22:11.013Z"
   },
   {
    "duration": 81,
    "start_time": "2022-11-17T18:22:15.323Z"
   },
   {
    "duration": 18,
    "start_time": "2022-11-17T18:22:17.343Z"
   },
   {
    "duration": 6,
    "start_time": "2022-11-17T18:22:38.139Z"
   },
   {
    "duration": 27,
    "start_time": "2022-11-17T18:24:46.805Z"
   },
   {
    "duration": 4,
    "start_time": "2022-11-17T18:24:57.381Z"
   },
   {
    "duration": 3,
    "start_time": "2022-11-17T18:27:01.063Z"
   },
   {
    "duration": 70,
    "start_time": "2022-11-17T18:28:57.063Z"
   },
   {
    "duration": 4,
    "start_time": "2022-11-17T18:29:21.597Z"
   },
   {
    "duration": 4,
    "start_time": "2022-11-17T18:29:56.793Z"
   },
   {
    "duration": 117,
    "start_time": "2022-11-17T18:30:48.250Z"
   },
   {
    "duration": 1796,
    "start_time": "2022-11-17T18:31:07.045Z"
   },
   {
    "duration": 307,
    "start_time": "2022-11-17T18:31:08.843Z"
   },
   {
    "duration": 3,
    "start_time": "2022-11-17T18:31:09.152Z"
   },
   {
    "duration": 900,
    "start_time": "2022-11-17T18:31:09.157Z"
   },
   {
    "duration": 4,
    "start_time": "2022-11-17T18:31:10.059Z"
   },
   {
    "duration": 26,
    "start_time": "2022-11-17T18:31:10.065Z"
   },
   {
    "duration": 40,
    "start_time": "2022-11-17T18:31:10.093Z"
   },
   {
    "duration": 629,
    "start_time": "2022-11-17T18:31:10.135Z"
   },
   {
    "duration": 3,
    "start_time": "2022-11-17T18:31:10.765Z"
   },
   {
    "duration": 92,
    "start_time": "2022-11-17T18:31:10.769Z"
   },
   {
    "duration": 35,
    "start_time": "2022-11-17T18:31:10.863Z"
   },
   {
    "duration": 78,
    "start_time": "2022-11-17T18:31:10.900Z"
   },
   {
    "duration": 57,
    "start_time": "2022-11-17T18:31:10.979Z"
   },
   {
    "duration": 34,
    "start_time": "2022-11-17T18:31:11.040Z"
   },
   {
    "duration": 86,
    "start_time": "2022-11-17T18:31:11.076Z"
   },
   {
    "duration": 7,
    "start_time": "2022-11-17T18:31:11.164Z"
   },
   {
    "duration": 46,
    "start_time": "2022-11-17T18:31:11.172Z"
   },
   {
    "duration": 59,
    "start_time": "2022-11-17T18:31:11.220Z"
   },
   {
    "duration": 61,
    "start_time": "2022-11-17T18:31:11.281Z"
   },
   {
    "duration": 57,
    "start_time": "2022-11-17T18:31:11.344Z"
   },
   {
    "duration": 40,
    "start_time": "2022-11-17T18:31:11.403Z"
   },
   {
    "duration": 297,
    "start_time": "2022-11-17T18:31:11.445Z"
   },
   {
    "duration": 253,
    "start_time": "2022-11-17T18:31:11.744Z"
   },
   {
    "duration": 2,
    "start_time": "2022-11-17T18:31:11.999Z"
   },
   {
    "duration": 142,
    "start_time": "2022-11-17T18:31:12.002Z"
   },
   {
    "duration": 3,
    "start_time": "2022-11-17T18:31:12.146Z"
   },
   {
    "duration": 52,
    "start_time": "2022-11-17T18:31:12.150Z"
   },
   {
    "duration": 26,
    "start_time": "2022-11-17T18:31:12.204Z"
   },
   {
    "duration": 104,
    "start_time": "2022-11-17T18:31:12.232Z"
   },
   {
    "duration": 169,
    "start_time": "2022-11-17T18:31:12.338Z"
   },
   {
    "duration": 0,
    "start_time": "2022-11-17T18:31:12.509Z"
   },
   {
    "duration": 0,
    "start_time": "2022-11-17T18:31:12.510Z"
   },
   {
    "duration": 0,
    "start_time": "2022-11-17T18:31:12.511Z"
   },
   {
    "duration": 0,
    "start_time": "2022-11-17T18:31:12.512Z"
   },
   {
    "duration": 0,
    "start_time": "2022-11-17T18:31:12.513Z"
   },
   {
    "duration": 0,
    "start_time": "2022-11-17T18:31:12.514Z"
   },
   {
    "duration": 0,
    "start_time": "2022-11-17T18:31:12.515Z"
   },
   {
    "duration": 0,
    "start_time": "2022-11-17T18:31:12.516Z"
   },
   {
    "duration": 0,
    "start_time": "2022-11-17T18:31:12.517Z"
   },
   {
    "duration": 0,
    "start_time": "2022-11-17T18:31:12.518Z"
   },
   {
    "duration": 0,
    "start_time": "2022-11-17T18:31:12.520Z"
   },
   {
    "duration": 0,
    "start_time": "2022-11-17T18:31:12.521Z"
   },
   {
    "duration": 0,
    "start_time": "2022-11-17T18:31:12.522Z"
   },
   {
    "duration": 0,
    "start_time": "2022-11-17T18:31:12.523Z"
   },
   {
    "duration": 0,
    "start_time": "2022-11-17T18:31:12.524Z"
   },
   {
    "duration": 0,
    "start_time": "2022-11-17T18:31:12.525Z"
   },
   {
    "duration": 72,
    "start_time": "2022-11-17T18:32:14.793Z"
   },
   {
    "duration": 4,
    "start_time": "2022-11-17T18:32:38.424Z"
   },
   {
    "duration": 91,
    "start_time": "2022-11-17T18:32:44.479Z"
   },
   {
    "duration": 5,
    "start_time": "2022-11-17T18:32:53.102Z"
   },
   {
    "duration": 101,
    "start_time": "2022-11-17T18:32:55.700Z"
   },
   {
    "duration": 96,
    "start_time": "2022-11-17T18:33:18.872Z"
   },
   {
    "duration": 104,
    "start_time": "2022-11-17T18:33:36.090Z"
   },
   {
    "duration": 833,
    "start_time": "2022-11-17T18:33:41.320Z"
   },
   {
    "duration": 1269,
    "start_time": "2022-11-17T18:33:49.440Z"
   },
   {
    "duration": 1335,
    "start_time": "2022-11-17T18:34:39.235Z"
   },
   {
    "duration": 74,
    "start_time": "2022-11-17T18:35:49.610Z"
   },
   {
    "duration": 669,
    "start_time": "2022-11-17T18:35:52.805Z"
   },
   {
    "duration": 450,
    "start_time": "2022-11-17T18:35:58.001Z"
   },
   {
    "duration": 1382,
    "start_time": "2022-11-17T18:36:03.738Z"
   },
   {
    "duration": 23355,
    "start_time": "2022-11-17T18:36:14.659Z"
   },
   {
    "duration": 82,
    "start_time": "2022-11-17T18:40:57.583Z"
   },
   {
    "duration": 3,
    "start_time": "2022-11-17T18:40:59.287Z"
   },
   {
    "duration": 23241,
    "start_time": "2022-11-17T18:41:00.331Z"
   },
   {
    "duration": 3,
    "start_time": "2022-11-17T18:48:22.346Z"
   },
   {
    "duration": 464,
    "start_time": "2022-11-17T18:48:30.481Z"
   },
   {
    "duration": 189789,
    "start_time": "2022-11-17T18:48:36.990Z"
   },
   {
    "duration": 154795,
    "start_time": "2022-11-17T18:51:46.782Z"
   },
   {
    "duration": 75,
    "start_time": "2022-11-17T18:54:21.580Z"
   },
   {
    "duration": 45,
    "start_time": "2022-11-17T18:54:33.550Z"
   },
   {
    "duration": 68,
    "start_time": "2022-11-17T18:54:45.483Z"
   },
   {
    "duration": 5,
    "start_time": "2022-11-17T18:54:55.777Z"
   },
   {
    "duration": 6829,
    "start_time": "2022-11-17T18:55:17.426Z"
   },
   {
    "duration": 184,
    "start_time": "2022-11-17T18:56:22.228Z"
   },
   {
    "duration": 36,
    "start_time": "2022-11-17T18:58:28.367Z"
   },
   {
    "duration": 6,
    "start_time": "2022-11-17T18:59:23.685Z"
   },
   {
    "duration": 4,
    "start_time": "2022-11-17T19:00:12.465Z"
   },
   {
    "duration": 5,
    "start_time": "2022-11-17T19:00:42.054Z"
   },
   {
    "duration": 4,
    "start_time": "2022-11-17T19:01:16.844Z"
   },
   {
    "duration": 5,
    "start_time": "2022-11-17T19:01:50.565Z"
   },
   {
    "duration": 3,
    "start_time": "2022-11-17T19:02:22.363Z"
   },
   {
    "duration": 76065,
    "start_time": "2022-11-17T19:02:36.904Z"
   },
   {
    "duration": 46451,
    "start_time": "2022-11-17T19:10:42.211Z"
   },
   {
    "duration": 79464,
    "start_time": "2022-11-17T19:12:53.373Z"
   },
   {
    "duration": 46835,
    "start_time": "2022-11-17T19:14:49.426Z"
   },
   {
    "duration": 236873,
    "start_time": "2022-11-17T19:16:50.733Z"
   },
   {
    "duration": 647,
    "start_time": "2022-11-17T19:20:47.609Z"
   },
   {
    "duration": 1951,
    "start_time": "2022-11-17T19:20:55.158Z"
   },
   {
    "duration": 376,
    "start_time": "2022-11-17T19:20:57.112Z"
   },
   {
    "duration": 3,
    "start_time": "2022-11-17T19:20:57.490Z"
   },
   {
    "duration": 1020,
    "start_time": "2022-11-17T19:20:57.499Z"
   },
   {
    "duration": 5,
    "start_time": "2022-11-17T19:20:58.522Z"
   },
   {
    "duration": 9,
    "start_time": "2022-11-17T19:20:58.529Z"
   },
   {
    "duration": 12,
    "start_time": "2022-11-17T19:20:58.540Z"
   },
   {
    "duration": 669,
    "start_time": "2022-11-17T19:20:58.557Z"
   },
   {
    "duration": 4,
    "start_time": "2022-11-17T19:20:59.228Z"
   },
   {
    "duration": 46,
    "start_time": "2022-11-17T19:20:59.235Z"
   },
   {
    "duration": 46,
    "start_time": "2022-11-17T19:20:59.283Z"
   },
   {
    "duration": 48,
    "start_time": "2022-11-17T19:20:59.331Z"
   },
   {
    "duration": 39,
    "start_time": "2022-11-17T19:20:59.386Z"
   },
   {
    "duration": 11,
    "start_time": "2022-11-17T19:20:59.428Z"
   },
   {
    "duration": 33,
    "start_time": "2022-11-17T19:20:59.442Z"
   },
   {
    "duration": 7,
    "start_time": "2022-11-17T19:20:59.478Z"
   },
   {
    "duration": 30,
    "start_time": "2022-11-17T19:20:59.487Z"
   },
   {
    "duration": 17,
    "start_time": "2022-11-17T19:20:59.519Z"
   },
   {
    "duration": 31,
    "start_time": "2022-11-17T19:20:59.538Z"
   },
   {
    "duration": 23,
    "start_time": "2022-11-17T19:20:59.584Z"
   },
   {
    "duration": 4,
    "start_time": "2022-11-17T19:20:59.609Z"
   },
   {
    "duration": 312,
    "start_time": "2022-11-17T19:20:59.615Z"
   },
   {
    "duration": 288,
    "start_time": "2022-11-17T19:20:59.929Z"
   },
   {
    "duration": 3,
    "start_time": "2022-11-17T19:21:00.218Z"
   },
   {
    "duration": 210,
    "start_time": "2022-11-17T19:21:00.223Z"
   },
   {
    "duration": 5,
    "start_time": "2022-11-17T19:21:00.435Z"
   },
   {
    "duration": 36,
    "start_time": "2022-11-17T19:21:00.443Z"
   },
   {
    "duration": 106,
    "start_time": "2022-11-17T19:21:00.485Z"
   },
   {
    "duration": 1483,
    "start_time": "2022-11-17T19:21:00.592Z"
   },
   {
    "duration": 5,
    "start_time": "2022-11-17T19:21:02.078Z"
   },
   {
    "duration": 13,
    "start_time": "2022-11-17T19:21:02.089Z"
   },
   {
    "duration": 6,
    "start_time": "2022-11-17T19:21:02.104Z"
   },
   {
    "duration": 133572,
    "start_time": "2022-11-17T19:21:02.112Z"
   },
   {
    "duration": 24856,
    "start_time": "2022-11-17T19:23:15.692Z"
   },
   {
    "duration": 159436,
    "start_time": "2022-11-17T19:23:40.550Z"
   },
   {
    "duration": 73071,
    "start_time": "2022-11-17T19:26:19.991Z"
   },
   {
    "duration": 42442,
    "start_time": "2022-11-17T19:27:33.064Z"
   },
   {
    "duration": 419876,
    "start_time": "2022-11-17T19:28:15.508Z"
   },
   {
    "duration": 936,
    "start_time": "2022-11-17T19:35:15.385Z"
   },
   {
    "duration": 17,
    "start_time": "2022-11-17T19:35:16.323Z"
   },
   {
    "duration": 0,
    "start_time": "2022-11-17T19:35:16.342Z"
   },
   {
    "duration": 0,
    "start_time": "2022-11-17T19:35:16.344Z"
   },
   {
    "duration": 16,
    "start_time": "2022-11-17T19:35:32.944Z"
   },
   {
    "duration": 4,
    "start_time": "2022-11-17T19:35:38.420Z"
   },
   {
    "duration": 8,
    "start_time": "2022-11-17T19:35:44.214Z"
   },
   {
    "duration": 3179,
    "start_time": "2022-11-17T19:38:12.938Z"
   },
   {
    "duration": 602,
    "start_time": "2022-11-17T19:39:03.177Z"
   },
   {
    "duration": 636,
    "start_time": "2022-11-17T19:39:11.295Z"
   },
   {
    "duration": 16,
    "start_time": "2022-11-17T19:42:30.388Z"
   },
   {
    "duration": 99,
    "start_time": "2022-11-17T19:42:37.400Z"
   },
   {
    "duration": 8865,
    "start_time": "2022-11-17T19:42:40.089Z"
   },
   {
    "duration": 31,
    "start_time": "2022-11-17T19:42:59.417Z"
   },
   {
    "duration": 22,
    "start_time": "2022-11-17T19:43:04.444Z"
   },
   {
    "duration": 22,
    "start_time": "2022-11-17T19:43:09.981Z"
   },
   {
    "duration": 15,
    "start_time": "2022-11-17T19:43:22.013Z"
   },
   {
    "duration": 7,
    "start_time": "2022-11-17T19:43:45.629Z"
   },
   {
    "duration": 74,
    "start_time": "2022-11-17T19:44:14.101Z"
   },
   {
    "duration": 14,
    "start_time": "2022-11-17T19:44:41.699Z"
   },
   {
    "duration": 15,
    "start_time": "2022-11-17T19:44:47.938Z"
   },
   {
    "duration": 14,
    "start_time": "2022-11-17T19:46:18.347Z"
   },
   {
    "duration": 21,
    "start_time": "2022-11-17T19:47:19.978Z"
   },
   {
    "duration": 13,
    "start_time": "2022-11-17T19:48:20.775Z"
   },
   {
    "duration": 13,
    "start_time": "2022-11-17T19:48:28.067Z"
   },
   {
    "duration": 17,
    "start_time": "2022-11-17T19:49:39.329Z"
   },
   {
    "duration": 11,
    "start_time": "2022-11-17T19:49:53.486Z"
   },
   {
    "duration": 78,
    "start_time": "2022-11-17T19:50:03.141Z"
   },
   {
    "duration": 18,
    "start_time": "2022-11-17T19:50:10.567Z"
   },
   {
    "duration": 8,
    "start_time": "2022-11-17T19:50:18.225Z"
   },
   {
    "duration": 126,
    "start_time": "2022-11-17T19:50:20.838Z"
   },
   {
    "duration": 23,
    "start_time": "2022-11-17T19:50:24.670Z"
   },
   {
    "duration": 15,
    "start_time": "2022-11-17T19:50:35.536Z"
   },
   {
    "duration": 20,
    "start_time": "2022-11-17T19:50:55.214Z"
   },
   {
    "duration": 49,
    "start_time": "2022-11-17T19:51:00.756Z"
   },
   {
    "duration": 400217,
    "start_time": "2022-11-17T19:51:24.465Z"
   },
   {
    "duration": 15,
    "start_time": "2022-11-17T19:58:04.684Z"
   },
   {
    "duration": 12,
    "start_time": "2022-11-17T20:00:31.196Z"
   },
   {
    "duration": 773390,
    "start_time": "2022-11-17T20:01:48.086Z"
   },
   {
    "duration": 2,
    "start_time": "2022-11-17T20:15:20.996Z"
   },
   {
    "duration": 176694,
    "start_time": "2022-11-17T20:19:06.585Z"
   },
   {
    "duration": 4,
    "start_time": "2022-11-17T20:22:03.282Z"
   },
   {
    "duration": 12,
    "start_time": "2022-11-17T20:22:20.472Z"
   },
   {
    "duration": 205,
    "start_time": "2022-11-17T20:22:35.796Z"
   },
   {
    "duration": 200,
    "start_time": "2022-11-17T20:23:02.110Z"
   },
   {
    "duration": 4,
    "start_time": "2022-11-17T20:23:20.477Z"
   },
   {
    "duration": 3,
    "start_time": "2022-11-17T20:23:29.460Z"
   },
   {
    "duration": 108570,
    "start_time": "2022-11-17T20:23:42.508Z"
   },
   {
    "duration": 20255,
    "start_time": "2022-11-17T20:25:35.297Z"
   },
   {
    "duration": 1945,
    "start_time": "2022-11-17T20:25:59.783Z"
   },
   {
    "duration": 328,
    "start_time": "2022-11-17T20:26:01.729Z"
   },
   {
    "duration": 3,
    "start_time": "2022-11-17T20:26:02.059Z"
   },
   {
    "duration": 864,
    "start_time": "2022-11-17T20:26:02.064Z"
   },
   {
    "duration": 4,
    "start_time": "2022-11-17T20:26:02.929Z"
   },
   {
    "duration": 8,
    "start_time": "2022-11-17T20:26:02.935Z"
   },
   {
    "duration": 7,
    "start_time": "2022-11-17T20:26:02.946Z"
   },
   {
    "duration": 615,
    "start_time": "2022-11-17T20:26:02.954Z"
   },
   {
    "duration": 3,
    "start_time": "2022-11-17T20:26:03.571Z"
   },
   {
    "duration": 36,
    "start_time": "2022-11-17T20:26:03.577Z"
   },
   {
    "duration": 33,
    "start_time": "2022-11-17T20:26:03.615Z"
   },
   {
    "duration": 44,
    "start_time": "2022-11-17T20:26:03.650Z"
   },
   {
    "duration": 26,
    "start_time": "2022-11-17T20:26:03.695Z"
   },
   {
    "duration": 2,
    "start_time": "2022-11-17T20:26:03.723Z"
   },
   {
    "duration": 31,
    "start_time": "2022-11-17T20:26:03.727Z"
   },
   {
    "duration": 20,
    "start_time": "2022-11-17T20:26:03.759Z"
   },
   {
    "duration": 16,
    "start_time": "2022-11-17T20:26:03.781Z"
   },
   {
    "duration": 18,
    "start_time": "2022-11-17T20:26:03.799Z"
   },
   {
    "duration": 17,
    "start_time": "2022-11-17T20:26:03.819Z"
   },
   {
    "duration": 46,
    "start_time": "2022-11-17T20:26:03.838Z"
   },
   {
    "duration": 3,
    "start_time": "2022-11-17T20:26:03.886Z"
   },
   {
    "duration": 308,
    "start_time": "2022-11-17T20:26:03.891Z"
   },
   {
    "duration": 286,
    "start_time": "2022-11-17T20:26:04.200Z"
   },
   {
    "duration": 3,
    "start_time": "2022-11-17T20:26:04.488Z"
   },
   {
    "duration": 149,
    "start_time": "2022-11-17T20:26:04.492Z"
   },
   {
    "duration": 5,
    "start_time": "2022-11-17T20:26:04.643Z"
   },
   {
    "duration": 13,
    "start_time": "2022-11-17T20:26:04.650Z"
   },
   {
    "duration": 90,
    "start_time": "2022-11-17T20:26:04.667Z"
   },
   {
    "duration": 1512,
    "start_time": "2022-11-17T20:26:04.759Z"
   },
   {
    "duration": 7,
    "start_time": "2022-11-17T20:26:06.277Z"
   },
   {
    "duration": 47,
    "start_time": "2022-11-17T20:26:06.285Z"
   },
   {
    "duration": 22,
    "start_time": "2022-11-17T20:26:06.334Z"
   },
   {
    "duration": 116125,
    "start_time": "2022-11-17T20:26:06.358Z"
   },
   {
    "duration": 22693,
    "start_time": "2022-11-17T20:28:02.485Z"
   },
   {
    "duration": 148542,
    "start_time": "2022-11-17T20:28:25.180Z"
   },
   {
    "duration": 71355,
    "start_time": "2022-11-17T20:30:53.724Z"
   },
   {
    "duration": 41619,
    "start_time": "2022-11-17T20:32:05.081Z"
   },
   {
    "duration": 3,
    "start_time": "2022-11-17T20:32:46.702Z"
   },
   {
    "duration": 209575,
    "start_time": "2022-11-17T20:32:46.707Z"
   },
   {
    "duration": 6,
    "start_time": "2022-11-17T20:36:16.284Z"
   },
   {
    "duration": 15,
    "start_time": "2022-11-17T20:36:16.292Z"
   },
   {
    "duration": 95,
    "start_time": "2022-11-17T20:36:16.308Z"
   },
   {
    "duration": 0,
    "start_time": "2022-11-17T20:36:16.405Z"
   },
   {
    "duration": 0,
    "start_time": "2022-11-17T20:36:16.406Z"
   },
   {
    "duration": 154467,
    "start_time": "2022-11-17T20:36:31.336Z"
   },
   {
    "duration": 12,
    "start_time": "2022-11-17T20:40:25.197Z"
   },
   {
    "duration": 156050,
    "start_time": "2022-11-17T20:40:54.238Z"
   },
   {
    "duration": 11,
    "start_time": "2022-11-17T20:43:30.291Z"
   },
   {
    "duration": 172972,
    "start_time": "2022-11-17T20:52:20.714Z"
   },
   {
    "duration": 1767,
    "start_time": "2022-11-17T20:56:13.542Z"
   },
   {
    "duration": 310,
    "start_time": "2022-11-17T20:56:15.311Z"
   },
   {
    "duration": 2,
    "start_time": "2022-11-17T20:56:15.623Z"
   },
   {
    "duration": 867,
    "start_time": "2022-11-17T20:56:15.627Z"
   },
   {
    "duration": 6,
    "start_time": "2022-11-17T20:56:16.497Z"
   },
   {
    "duration": 7,
    "start_time": "2022-11-17T20:56:16.504Z"
   },
   {
    "duration": 7,
    "start_time": "2022-11-17T20:56:16.513Z"
   },
   {
    "duration": 585,
    "start_time": "2022-11-17T20:56:16.522Z"
   },
   {
    "duration": 3,
    "start_time": "2022-11-17T20:56:17.109Z"
   },
   {
    "duration": 42,
    "start_time": "2022-11-17T20:56:17.115Z"
   },
   {
    "duration": 41,
    "start_time": "2022-11-17T20:56:17.159Z"
   },
   {
    "duration": 29,
    "start_time": "2022-11-17T20:56:17.202Z"
   },
   {
    "duration": 26,
    "start_time": "2022-11-17T20:56:17.232Z"
   },
   {
    "duration": 3,
    "start_time": "2022-11-17T20:56:17.280Z"
   },
   {
    "duration": 41,
    "start_time": "2022-11-17T20:56:17.284Z"
   },
   {
    "duration": 3,
    "start_time": "2022-11-17T20:56:17.327Z"
   },
   {
    "duration": 21,
    "start_time": "2022-11-17T20:56:17.332Z"
   },
   {
    "duration": 24,
    "start_time": "2022-11-17T20:56:17.355Z"
   },
   {
    "duration": 19,
    "start_time": "2022-11-17T20:56:17.381Z"
   },
   {
    "duration": 22,
    "start_time": "2022-11-17T20:56:17.402Z"
   },
   {
    "duration": 9,
    "start_time": "2022-11-17T20:56:17.426Z"
   },
   {
    "duration": 263,
    "start_time": "2022-11-17T20:56:17.437Z"
   },
   {
    "duration": 245,
    "start_time": "2022-11-17T20:56:17.702Z"
   },
   {
    "duration": 2,
    "start_time": "2022-11-17T20:56:17.949Z"
   },
   {
    "duration": 139,
    "start_time": "2022-11-17T20:56:17.952Z"
   },
   {
    "duration": 4,
    "start_time": "2022-11-17T20:56:18.092Z"
   },
   {
    "duration": 27,
    "start_time": "2022-11-17T20:56:18.098Z"
   },
   {
    "duration": 99,
    "start_time": "2022-11-17T20:56:18.127Z"
   },
   {
    "duration": 1236,
    "start_time": "2022-11-17T20:56:18.227Z"
   },
   {
    "duration": 5,
    "start_time": "2022-11-17T20:56:19.465Z"
   },
   {
    "duration": 25,
    "start_time": "2022-11-17T20:56:19.471Z"
   },
   {
    "duration": 24,
    "start_time": "2022-11-17T20:56:19.498Z"
   },
   {
    "duration": 61599,
    "start_time": "2022-11-17T20:56:19.524Z"
   },
   {
    "duration": 1700,
    "start_time": "2022-11-17T20:57:28.302Z"
   },
   {
    "duration": 298,
    "start_time": "2022-11-17T20:57:30.004Z"
   },
   {
    "duration": 3,
    "start_time": "2022-11-17T20:57:30.304Z"
   },
   {
    "duration": 881,
    "start_time": "2022-11-17T20:57:30.309Z"
   },
   {
    "duration": 4,
    "start_time": "2022-11-17T20:57:31.192Z"
   },
   {
    "duration": 45941,
    "start_time": "2022-11-17T20:57:31.198Z"
   },
   {
    "duration": 3,
    "start_time": "2022-11-17T20:58:17.141Z"
   },
   {
    "duration": 651,
    "start_time": "2022-11-17T20:58:17.145Z"
   },
   {
    "duration": 4,
    "start_time": "2022-11-17T20:58:17.797Z"
   },
   {
    "duration": 30,
    "start_time": "2022-11-17T20:58:17.804Z"
   },
   {
    "duration": 48,
    "start_time": "2022-11-17T20:58:17.836Z"
   },
   {
    "duration": 28,
    "start_time": "2022-11-17T20:58:17.886Z"
   },
   {
    "duration": 24,
    "start_time": "2022-11-17T20:58:17.916Z"
   },
   {
    "duration": 2,
    "start_time": "2022-11-17T20:58:17.942Z"
   },
   {
    "duration": 46,
    "start_time": "2022-11-17T20:58:17.946Z"
   },
   {
    "duration": 3,
    "start_time": "2022-11-17T20:58:17.994Z"
   },
   {
    "duration": 15,
    "start_time": "2022-11-17T20:58:17.999Z"
   },
   {
    "duration": 15,
    "start_time": "2022-11-17T20:58:18.016Z"
   },
   {
    "duration": 14,
    "start_time": "2022-11-17T20:58:18.033Z"
   },
   {
    "duration": 39,
    "start_time": "2022-11-17T20:58:18.049Z"
   },
   {
    "duration": 3,
    "start_time": "2022-11-17T20:58:18.089Z"
   },
   {
    "duration": 253,
    "start_time": "2022-11-17T20:58:18.093Z"
   },
   {
    "duration": 266,
    "start_time": "2022-11-17T20:58:18.347Z"
   },
   {
    "duration": 3931,
    "start_time": "2022-11-17T20:58:18.615Z"
   },
   {
    "duration": 146,
    "start_time": "2022-11-17T20:58:22.548Z"
   },
   {
    "duration": 4,
    "start_time": "2022-11-17T20:58:22.696Z"
   },
   {
    "duration": 7,
    "start_time": "2022-11-17T20:58:22.702Z"
   },
   {
    "duration": 86,
    "start_time": "2022-11-17T20:58:22.713Z"
   },
   {
    "duration": 1232,
    "start_time": "2022-11-17T20:58:22.801Z"
   },
   {
    "duration": 3,
    "start_time": "2022-11-17T20:58:24.034Z"
   },
   {
    "duration": 7,
    "start_time": "2022-11-17T20:58:24.038Z"
   },
   {
    "duration": 6,
    "start_time": "2022-11-17T20:58:24.047Z"
   },
   {
    "duration": 90729,
    "start_time": "2022-11-17T20:58:24.055Z"
   },
   {
    "duration": 22808,
    "start_time": "2022-11-17T20:59:54.786Z"
   },
   {
    "duration": 145985,
    "start_time": "2022-11-17T21:00:17.596Z"
   },
   {
    "duration": 69126,
    "start_time": "2022-11-17T21:02:43.582Z"
   },
   {
    "duration": 39710,
    "start_time": "2022-11-17T21:03:52.709Z"
   },
   {
    "duration": 84067,
    "start_time": "2022-11-17T21:04:32.421Z"
   },
   {
    "duration": 109790,
    "start_time": "2022-11-17T21:05:56.489Z"
   },
   {
    "duration": 10,
    "start_time": "2022-11-17T21:07:46.281Z"
   },
   {
    "duration": 141191,
    "start_time": "2022-11-17T21:07:46.293Z"
   },
   {
    "duration": 13,
    "start_time": "2022-11-17T21:10:07.486Z"
   },
   {
    "duration": 8,
    "start_time": "2022-11-17T21:10:07.500Z"
   },
   {
    "duration": 6,
    "start_time": "2022-11-17T21:10:53.548Z"
   },
   {
    "duration": 5,
    "start_time": "2022-11-17T21:10:56.871Z"
   },
   {
    "duration": 5,
    "start_time": "2022-11-17T21:11:01.096Z"
   },
   {
    "duration": 42,
    "start_time": "2022-11-17T21:11:09.461Z"
   },
   {
    "duration": 234,
    "start_time": "2022-11-17T21:11:16.925Z"
   },
   {
    "duration": 77,
    "start_time": "2022-11-17T21:11:21.124Z"
   },
   {
    "duration": 39,
    "start_time": "2022-11-17T21:11:25.373Z"
   },
   {
    "duration": 5,
    "start_time": "2022-11-17T21:11:33.348Z"
   },
   {
    "duration": 6,
    "start_time": "2022-11-17T21:12:30.320Z"
   },
   {
    "duration": 5,
    "start_time": "2022-11-17T21:12:33.477Z"
   },
   {
    "duration": 4,
    "start_time": "2022-11-17T21:12:36.265Z"
   },
   {
    "duration": 2,
    "start_time": "2022-11-17T21:12:38.061Z"
   },
   {
    "duration": 2,
    "start_time": "2022-11-17T21:12:39.653Z"
   },
   {
    "duration": 4,
    "start_time": "2022-11-17T21:12:41.991Z"
   },
   {
    "duration": 5,
    "start_time": "2022-11-17T21:12:43.110Z"
   },
   {
    "duration": 5,
    "start_time": "2022-11-17T21:12:44.120Z"
   },
   {
    "duration": 4,
    "start_time": "2022-11-17T21:12:44.530Z"
   },
   {
    "duration": 5,
    "start_time": "2022-11-17T21:12:44.928Z"
   },
   {
    "duration": 5,
    "start_time": "2022-11-17T21:12:45.344Z"
   },
   {
    "duration": 5,
    "start_time": "2022-11-17T21:12:45.810Z"
   },
   {
    "duration": 80717,
    "start_time": "2022-11-17T21:13:52.582Z"
   },
   {
    "duration": 100788,
    "start_time": "2022-11-17T21:15:13.300Z"
   },
   {
    "duration": 11,
    "start_time": "2022-11-17T21:19:26.556Z"
   },
   {
    "duration": 1685,
    "start_time": "2022-11-17T21:23:35.841Z"
   },
   {
    "duration": 289,
    "start_time": "2022-11-17T21:23:37.528Z"
   },
   {
    "duration": 3,
    "start_time": "2022-11-17T21:23:37.819Z"
   },
   {
    "duration": 833,
    "start_time": "2022-11-17T21:23:37.823Z"
   },
   {
    "duration": 4,
    "start_time": "2022-11-17T21:23:38.659Z"
   },
   {
    "duration": 46329,
    "start_time": "2022-11-17T21:23:38.665Z"
   },
   {
    "duration": 3,
    "start_time": "2022-11-17T21:24:24.996Z"
   },
   {
    "duration": 692,
    "start_time": "2022-11-17T21:24:25.002Z"
   },
   {
    "duration": 3,
    "start_time": "2022-11-17T21:24:25.695Z"
   },
   {
    "duration": 55,
    "start_time": "2022-11-17T21:24:25.699Z"
   },
   {
    "duration": 35,
    "start_time": "2022-11-17T21:24:25.756Z"
   },
   {
    "duration": 28,
    "start_time": "2022-11-17T21:24:25.793Z"
   },
   {
    "duration": 26,
    "start_time": "2022-11-17T21:24:25.822Z"
   },
   {
    "duration": 2,
    "start_time": "2022-11-17T21:24:25.851Z"
   },
   {
    "duration": 43,
    "start_time": "2022-11-17T21:24:25.854Z"
   },
   {
    "duration": 4,
    "start_time": "2022-11-17T21:24:25.899Z"
   },
   {
    "duration": 15,
    "start_time": "2022-11-17T21:24:25.905Z"
   },
   {
    "duration": 15,
    "start_time": "2022-11-17T21:24:25.922Z"
   },
   {
    "duration": 40,
    "start_time": "2022-11-17T21:24:25.938Z"
   },
   {
    "duration": 16,
    "start_time": "2022-11-17T21:24:25.980Z"
   },
   {
    "duration": 4,
    "start_time": "2022-11-17T21:24:25.998Z"
   },
   {
    "duration": 260,
    "start_time": "2022-11-17T21:24:26.003Z"
   },
   {
    "duration": 259,
    "start_time": "2022-11-17T21:24:26.265Z"
   },
   {
    "duration": 3941,
    "start_time": "2022-11-17T21:24:26.526Z"
   },
   {
    "duration": 144,
    "start_time": "2022-11-17T21:24:30.469Z"
   },
   {
    "duration": 5,
    "start_time": "2022-11-17T21:24:30.614Z"
   },
   {
    "duration": 12,
    "start_time": "2022-11-17T21:24:30.620Z"
   },
   {
    "duration": 85,
    "start_time": "2022-11-17T21:24:30.634Z"
   },
   {
    "duration": 1241,
    "start_time": "2022-11-17T21:24:30.721Z"
   },
   {
    "duration": 3,
    "start_time": "2022-11-17T21:24:31.963Z"
   },
   {
    "duration": 3,
    "start_time": "2022-11-17T21:24:31.978Z"
   },
   {
    "duration": 6,
    "start_time": "2022-11-17T21:24:31.983Z"
   },
   {
    "duration": 92194,
    "start_time": "2022-11-17T21:24:31.990Z"
   },
   {
    "duration": 22553,
    "start_time": "2022-11-17T21:26:04.186Z"
   },
   {
    "duration": 147072,
    "start_time": "2022-11-17T21:26:26.741Z"
   },
   {
    "duration": 69443,
    "start_time": "2022-11-17T21:28:53.815Z"
   },
   {
    "duration": 40648,
    "start_time": "2022-11-17T21:30:03.260Z"
   },
   {
    "duration": 9548,
    "start_time": "2022-11-17T21:30:43.910Z"
   },
   {
    "duration": 13,
    "start_time": "2022-11-17T21:34:31.095Z"
   },
   {
    "duration": 84,
    "start_time": "2022-11-17T21:34:31.109Z"
   },
   {
    "duration": 88,
    "start_time": "2022-11-17T21:34:31.194Z"
   },
   {
    "duration": 0,
    "start_time": "2022-11-17T21:34:31.283Z"
   },
   {
    "duration": 0,
    "start_time": "2022-11-17T21:34:31.285Z"
   },
   {
    "duration": 0,
    "start_time": "2022-11-17T21:34:31.288Z"
   },
   {
    "duration": 0,
    "start_time": "2022-11-17T21:34:31.289Z"
   },
   {
    "duration": 0,
    "start_time": "2022-11-17T21:34:31.290Z"
   },
   {
    "duration": 80127,
    "start_time": "2022-11-17T21:35:48.862Z"
   },
   {
    "duration": 103299,
    "start_time": "2022-11-17T21:37:08.991Z"
   },
   {
    "duration": 87,
    "start_time": "2022-11-17T21:38:52.293Z"
   },
   {
    "duration": 1922,
    "start_time": "2022-11-17T21:39:39.991Z"
   },
   {
    "duration": 725,
    "start_time": "2022-11-17T21:39:41.915Z"
   },
   {
    "duration": 3,
    "start_time": "2022-11-17T21:39:42.642Z"
   },
   {
    "duration": 839,
    "start_time": "2022-11-17T21:39:42.647Z"
   },
   {
    "duration": 4,
    "start_time": "2022-11-17T21:39:43.488Z"
   },
   {
    "duration": 45669,
    "start_time": "2022-11-17T21:39:43.493Z"
   },
   {
    "duration": 3,
    "start_time": "2022-11-17T21:40:29.178Z"
   },
   {
    "duration": 642,
    "start_time": "2022-11-17T21:40:29.183Z"
   },
   {
    "duration": 2,
    "start_time": "2022-11-17T21:40:29.827Z"
   },
   {
    "duration": 32,
    "start_time": "2022-11-17T21:40:29.832Z"
   },
   {
    "duration": 35,
    "start_time": "2022-11-17T21:40:29.878Z"
   },
   {
    "duration": 28,
    "start_time": "2022-11-17T21:40:29.915Z"
   },
   {
    "duration": 44,
    "start_time": "2022-11-17T21:40:29.944Z"
   },
   {
    "duration": 2,
    "start_time": "2022-11-17T21:40:29.990Z"
   },
   {
    "duration": 30,
    "start_time": "2022-11-17T21:40:29.994Z"
   },
   {
    "duration": 4,
    "start_time": "2022-11-17T21:40:30.026Z"
   },
   {
    "duration": 20,
    "start_time": "2022-11-17T21:40:30.031Z"
   },
   {
    "duration": 30,
    "start_time": "2022-11-17T21:40:30.054Z"
   },
   {
    "duration": 17,
    "start_time": "2022-11-17T21:40:30.086Z"
   },
   {
    "duration": 25,
    "start_time": "2022-11-17T21:40:30.105Z"
   },
   {
    "duration": 6,
    "start_time": "2022-11-17T21:40:30.132Z"
   },
   {
    "duration": 252,
    "start_time": "2022-11-17T21:40:30.139Z"
   },
   {
    "duration": 246,
    "start_time": "2022-11-17T21:40:30.393Z"
   },
   {
    "duration": 4015,
    "start_time": "2022-11-17T21:40:30.641Z"
   },
   {
    "duration": 143,
    "start_time": "2022-11-17T21:40:34.657Z"
   },
   {
    "duration": 5,
    "start_time": "2022-11-17T21:40:34.801Z"
   },
   {
    "duration": 15,
    "start_time": "2022-11-17T21:40:34.808Z"
   },
   {
    "duration": 83,
    "start_time": "2022-11-17T21:40:34.826Z"
   },
   {
    "duration": 1271,
    "start_time": "2022-11-17T21:40:34.910Z"
   },
   {
    "duration": 2,
    "start_time": "2022-11-17T21:40:36.183Z"
   },
   {
    "duration": 6,
    "start_time": "2022-11-17T21:40:36.187Z"
   },
   {
    "duration": 10,
    "start_time": "2022-11-17T21:40:36.194Z"
   },
   {
    "duration": 93982,
    "start_time": "2022-11-17T21:40:36.206Z"
   },
   {
    "duration": 22415,
    "start_time": "2022-11-17T21:42:10.279Z"
   },
   {
    "duration": 146834,
    "start_time": "2022-11-17T21:42:32.696Z"
   },
   {
    "duration": 69575,
    "start_time": "2022-11-17T21:44:59.532Z"
   },
   {
    "duration": 40610,
    "start_time": "2022-11-17T21:46:09.108Z"
   },
   {
    "duration": 78268,
    "start_time": "2022-11-17T21:46:49.720Z"
   },
   {
    "duration": 98493,
    "start_time": "2022-11-17T21:48:07.991Z"
   },
   {
    "duration": 11,
    "start_time": "2022-11-17T21:49:46.485Z"
   },
   {
    "duration": 114287,
    "start_time": "2022-11-17T21:49:46.497Z"
   },
   {
    "duration": 12,
    "start_time": "2022-11-17T21:51:40.786Z"
   },
   {
    "duration": 7,
    "start_time": "2022-11-17T21:51:40.801Z"
   },
   {
    "duration": 6,
    "start_time": "2022-11-17T21:53:55.693Z"
   },
   {
    "duration": 5,
    "start_time": "2022-11-17T21:54:02.191Z"
   },
   {
    "duration": 6,
    "start_time": "2022-11-17T21:54:09.231Z"
   },
   {
    "duration": 12,
    "start_time": "2022-11-17T21:54:52.950Z"
   },
   {
    "duration": 5,
    "start_time": "2022-11-17T21:56:24.426Z"
   },
   {
    "duration": 5,
    "start_time": "2022-11-17T21:56:32.163Z"
   },
   {
    "duration": 4,
    "start_time": "2022-11-17T21:57:16.468Z"
   },
   {
    "duration": 1727,
    "start_time": "2022-11-19T00:53:32.213Z"
   },
   {
    "duration": 4,
    "start_time": "2022-11-19T00:53:34.369Z"
   },
   {
    "duration": 5,
    "start_time": "2022-11-19T00:53:39.758Z"
   },
   {
    "duration": 3,
    "start_time": "2022-11-19T00:53:41.393Z"
   },
   {
    "duration": 1012,
    "start_time": "2022-11-19T00:53:52.191Z"
   },
   {
    "duration": 15747,
    "start_time": "2022-11-19T07:31:02.748Z"
   },
   {
    "duration": 304,
    "start_time": "2022-11-19T07:31:18.497Z"
   },
   {
    "duration": 4,
    "start_time": "2022-11-19T07:31:18.803Z"
   },
   {
    "duration": 1166,
    "start_time": "2022-11-19T07:31:18.809Z"
   },
   {
    "duration": 5,
    "start_time": "2022-11-19T07:31:19.977Z"
   },
   {
    "duration": 47052,
    "start_time": "2022-11-19T07:31:19.983Z"
   },
   {
    "duration": 3,
    "start_time": "2022-11-19T07:32:07.037Z"
   },
   {
    "duration": 648,
    "start_time": "2022-11-19T07:32:07.042Z"
   },
   {
    "duration": 3,
    "start_time": "2022-11-19T07:32:07.692Z"
   },
   {
    "duration": 33,
    "start_time": "2022-11-19T07:32:07.698Z"
   },
   {
    "duration": 44,
    "start_time": "2022-11-19T07:32:07.732Z"
   },
   {
    "duration": 26,
    "start_time": "2022-11-19T07:32:07.777Z"
   },
   {
    "duration": 25,
    "start_time": "2022-11-19T07:32:07.805Z"
   },
   {
    "duration": 2,
    "start_time": "2022-11-19T07:32:07.832Z"
   },
   {
    "duration": 25,
    "start_time": "2022-11-19T07:32:07.855Z"
   },
   {
    "duration": 4,
    "start_time": "2022-11-19T07:32:07.881Z"
   },
   {
    "duration": 26,
    "start_time": "2022-11-19T07:32:07.887Z"
   },
   {
    "duration": 31,
    "start_time": "2022-11-19T07:32:07.915Z"
   },
   {
    "duration": 29,
    "start_time": "2022-11-19T07:32:07.948Z"
   },
   {
    "duration": 35,
    "start_time": "2022-11-19T07:32:07.979Z"
   },
   {
    "duration": 27,
    "start_time": "2022-11-19T07:32:08.016Z"
   },
   {
    "duration": 273,
    "start_time": "2022-11-19T07:32:08.045Z"
   },
   {
    "duration": 273,
    "start_time": "2022-11-19T07:32:08.320Z"
   },
   {
    "duration": 4165,
    "start_time": "2022-11-19T07:32:08.595Z"
   },
   {
    "duration": 160,
    "start_time": "2022-11-19T07:32:12.761Z"
   },
   {
    "duration": 188,
    "start_time": "2022-11-19T07:32:12.923Z"
   },
   {
    "duration": 0,
    "start_time": "2022-11-19T07:32:13.113Z"
   },
   {
    "duration": 0,
    "start_time": "2022-11-19T07:32:13.115Z"
   },
   {
    "duration": 0,
    "start_time": "2022-11-19T07:32:13.117Z"
   },
   {
    "duration": 0,
    "start_time": "2022-11-19T07:32:13.119Z"
   },
   {
    "duration": 0,
    "start_time": "2022-11-19T07:32:13.120Z"
   },
   {
    "duration": 0,
    "start_time": "2022-11-19T07:32:13.122Z"
   },
   {
    "duration": 0,
    "start_time": "2022-11-19T07:32:13.123Z"
   },
   {
    "duration": 0,
    "start_time": "2022-11-19T07:32:13.125Z"
   },
   {
    "duration": 0,
    "start_time": "2022-11-19T07:32:13.154Z"
   },
   {
    "duration": 0,
    "start_time": "2022-11-19T07:32:13.156Z"
   },
   {
    "duration": 0,
    "start_time": "2022-11-19T07:32:13.158Z"
   },
   {
    "duration": 0,
    "start_time": "2022-11-19T07:32:13.160Z"
   },
   {
    "duration": 0,
    "start_time": "2022-11-19T07:32:13.161Z"
   },
   {
    "duration": 0,
    "start_time": "2022-11-19T07:32:13.163Z"
   },
   {
    "duration": 0,
    "start_time": "2022-11-19T07:32:13.165Z"
   },
   {
    "duration": 0,
    "start_time": "2022-11-19T07:32:13.166Z"
   },
   {
    "duration": 0,
    "start_time": "2022-11-19T07:32:13.167Z"
   },
   {
    "duration": 0,
    "start_time": "2022-11-19T07:32:13.170Z"
   },
   {
    "duration": 0,
    "start_time": "2022-11-19T07:32:13.171Z"
   },
   {
    "duration": 0,
    "start_time": "2022-11-19T07:32:13.172Z"
   },
   {
    "duration": 3,
    "start_time": "2022-11-19T07:33:41.434Z"
   },
   {
    "duration": 5,
    "start_time": "2022-11-19T07:33:43.695Z"
   },
   {
    "duration": 1051,
    "start_time": "2022-11-19T07:33:47.093Z"
   },
   {
    "duration": 2,
    "start_time": "2022-11-19T07:34:02.032Z"
   },
   {
    "duration": 23004,
    "start_time": "2022-11-19T07:34:03.879Z"
   },
   {
    "duration": 10,
    "start_time": "2022-11-19T07:34:26.885Z"
   },
   {
    "duration": 104448,
    "start_time": "2022-11-19T07:34:55.410Z"
   },
   {
    "duration": 12,
    "start_time": "2022-11-19T07:36:52.455Z"
   },
   {
    "duration": 81,
    "start_time": "2022-11-19T07:36:55.380Z"
   },
   {
    "duration": 3,
    "start_time": "2022-11-19T07:36:57.376Z"
   },
   {
    "duration": 13,
    "start_time": "2022-11-19T07:37:11.421Z"
   },
   {
    "duration": 4,
    "start_time": "2022-11-19T07:37:22.414Z"
   },
   {
    "duration": 3,
    "start_time": "2022-11-19T07:37:31.419Z"
   },
   {
    "duration": 28,
    "start_time": "2022-11-19T07:37:39.312Z"
   },
   {
    "duration": 4,
    "start_time": "2022-11-19T07:38:55.564Z"
   },
   {
    "duration": 130,
    "start_time": "2022-11-19T07:49:56.546Z"
   },
   {
    "duration": 2,
    "start_time": "2022-11-19T07:50:00.615Z"
   },
   {
    "duration": 82,
    "start_time": "2022-11-19T07:50:03.979Z"
   },
   {
    "duration": 81,
    "start_time": "2022-11-19T07:50:17.208Z"
   },
   {
    "duration": 4,
    "start_time": "2022-11-19T07:50:26.747Z"
   },
   {
    "duration": 4,
    "start_time": "2022-11-19T07:50:35.969Z"
   },
   {
    "duration": 4,
    "start_time": "2022-11-19T07:50:40.604Z"
   },
   {
    "duration": 21,
    "start_time": "2022-11-19T07:50:47.700Z"
   },
   {
    "duration": 18,
    "start_time": "2022-11-19T07:50:54.845Z"
   },
   {
    "duration": 64,
    "start_time": "2022-11-19T07:51:34.295Z"
   },
   {
    "duration": 4,
    "start_time": "2022-11-19T07:51:45.724Z"
   },
   {
    "duration": 57,
    "start_time": "2022-11-19T07:52:00.574Z"
   },
   {
    "duration": 103507,
    "start_time": "2022-11-19T07:52:14.348Z"
   },
   {
    "duration": 22682,
    "start_time": "2022-11-19T07:53:57.857Z"
   },
   {
    "duration": 11,
    "start_time": "2022-11-19T07:54:30.012Z"
   },
   {
    "duration": 1085,
    "start_time": "2022-11-19T07:55:11.811Z"
   },
   {
    "duration": 4,
    "start_time": "2022-11-19T07:55:44.907Z"
   },
   {
    "duration": 104450,
    "start_time": "2022-11-19T07:55:49.908Z"
   },
   {
    "duration": 78665,
    "start_time": "2022-11-19T07:58:00.298Z"
   },
   {
    "duration": 4,
    "start_time": "2022-11-19T08:03:58.608Z"
   },
   {
    "duration": 27,
    "start_time": "2022-11-19T08:06:39.731Z"
   },
   {
    "duration": 3,
    "start_time": "2022-11-19T08:09:27.400Z"
   },
   {
    "duration": 15,
    "start_time": "2022-11-19T08:09:36.441Z"
   },
   {
    "duration": 12,
    "start_time": "2022-11-19T08:09:45.189Z"
   },
   {
    "duration": 14,
    "start_time": "2022-11-19T08:09:49.116Z"
   },
   {
    "duration": 0,
    "start_time": "2022-11-19T08:10:03.324Z"
   },
   {
    "duration": 10332,
    "start_time": "2022-11-19T08:10:03.397Z"
   },
   {
    "duration": 105,
    "start_time": "2022-11-19T08:10:30.810Z"
   },
   {
    "duration": 12,
    "start_time": "2022-11-19T08:11:08.210Z"
   },
   {
    "duration": 0,
    "start_time": "2022-11-19T08:11:26.295Z"
   },
   {
    "duration": 828,
    "start_time": "2022-11-19T08:13:43.372Z"
   },
   {
    "duration": 762,
    "start_time": "2022-11-19T08:13:58.769Z"
   },
   {
    "duration": 3,
    "start_time": "2022-11-19T08:21:44.332Z"
   },
   {
    "duration": 5,
    "start_time": "2022-11-19T08:21:48.968Z"
   },
   {
    "duration": 3,
    "start_time": "2022-11-19T08:22:32.738Z"
   },
   {
    "duration": 5,
    "start_time": "2022-11-19T08:22:34.717Z"
   },
   {
    "duration": 4,
    "start_time": "2022-11-19T08:22:38.398Z"
   },
   {
    "duration": 4,
    "start_time": "2022-11-19T08:22:47.120Z"
   },
   {
    "duration": 5,
    "start_time": "2022-11-19T08:22:49.329Z"
   },
   {
    "duration": 5,
    "start_time": "2022-11-19T08:22:54.571Z"
   },
   {
    "duration": 4,
    "start_time": "2022-11-19T08:22:57.008Z"
   },
   {
    "duration": 3,
    "start_time": "2022-11-19T08:23:37.476Z"
   },
   {
    "duration": 4,
    "start_time": "2022-11-19T08:23:39.589Z"
   },
   {
    "duration": 17,
    "start_time": "2022-11-19T08:27:57.285Z"
   },
   {
    "duration": 23,
    "start_time": "2022-11-19T08:28:06.340Z"
   },
   {
    "duration": 73,
    "start_time": "2022-11-19T08:35:39.490Z"
   },
   {
    "duration": 4,
    "start_time": "2022-11-19T08:35:41.442Z"
   },
   {
    "duration": 1147,
    "start_time": "2022-11-19T08:35:43.129Z"
   },
   {
    "duration": 72,
    "start_time": "2022-11-19T08:37:23.743Z"
   },
   {
    "duration": 1095,
    "start_time": "2022-11-19T08:37:25.453Z"
   },
   {
    "duration": 4,
    "start_time": "2022-11-19T08:37:35.789Z"
   },
   {
    "duration": 17,
    "start_time": "2022-11-19T08:37:41.453Z"
   },
   {
    "duration": 34,
    "start_time": "2022-11-19T08:37:50.515Z"
   },
   {
    "duration": 18,
    "start_time": "2022-11-19T08:38:56.051Z"
   },
   {
    "duration": 4,
    "start_time": "2022-11-19T08:39:11.644Z"
   },
   {
    "duration": 25,
    "start_time": "2022-11-19T08:39:23.555Z"
   },
   {
    "duration": 46,
    "start_time": "2022-11-19T08:40:46.438Z"
   },
   {
    "duration": 16,
    "start_time": "2022-11-19T08:40:51.217Z"
   },
   {
    "duration": 27,
    "start_time": "2022-11-19T08:41:31.489Z"
   },
   {
    "duration": 99,
    "start_time": "2022-11-19T08:42:36.399Z"
   },
   {
    "duration": 35,
    "start_time": "2022-11-19T08:42:42.286Z"
   },
   {
    "duration": 153,
    "start_time": "2022-11-19T08:43:14.337Z"
   },
   {
    "duration": 124,
    "start_time": "2022-11-19T08:43:58.824Z"
   },
   {
    "duration": 13,
    "start_time": "2022-11-19T08:51:21.967Z"
   },
   {
    "duration": 6,
    "start_time": "2022-11-19T08:52:04.486Z"
   },
   {
    "duration": 3,
    "start_time": "2022-11-19T08:52:16.160Z"
   },
   {
    "duration": 16,
    "start_time": "2022-11-19T08:54:51.518Z"
   },
   {
    "duration": 128,
    "start_time": "2022-11-19T08:55:20.471Z"
   },
   {
    "duration": 6,
    "start_time": "2022-11-19T08:55:38.719Z"
   },
   {
    "duration": 89,
    "start_time": "2022-11-19T08:56:05.402Z"
   },
   {
    "duration": 5,
    "start_time": "2022-11-19T08:56:06.623Z"
   },
   {
    "duration": 99,
    "start_time": "2022-11-19T08:56:24.311Z"
   },
   {
    "duration": 47,
    "start_time": "2022-11-19T08:56:43.625Z"
   },
   {
    "duration": 402,
    "start_time": "2022-11-19T08:56:54.539Z"
   },
   {
    "duration": 810,
    "start_time": "2022-11-19T08:57:10.604Z"
   },
   {
    "duration": 27,
    "start_time": "2022-11-19T08:57:18.902Z"
   },
   {
    "duration": 1794,
    "start_time": "2022-11-19T09:07:58.774Z"
   },
   {
    "duration": 294,
    "start_time": "2022-11-19T09:08:00.570Z"
   },
   {
    "duration": 3,
    "start_time": "2022-11-19T09:08:00.866Z"
   },
   {
    "duration": 893,
    "start_time": "2022-11-19T09:08:00.871Z"
   },
   {
    "duration": 3,
    "start_time": "2022-11-19T09:08:01.766Z"
   },
   {
    "duration": 46948,
    "start_time": "2022-11-19T09:08:01.771Z"
   },
   {
    "duration": 3,
    "start_time": "2022-11-19T09:08:48.721Z"
   },
   {
    "duration": 663,
    "start_time": "2022-11-19T09:08:48.726Z"
   },
   {
    "duration": 3,
    "start_time": "2022-11-19T09:08:49.391Z"
   },
   {
    "duration": 30,
    "start_time": "2022-11-19T09:08:49.397Z"
   },
   {
    "duration": 46,
    "start_time": "2022-11-19T09:08:49.429Z"
   },
   {
    "duration": 26,
    "start_time": "2022-11-19T09:08:49.476Z"
   },
   {
    "duration": 24,
    "start_time": "2022-11-19T09:08:49.503Z"
   },
   {
    "duration": 2,
    "start_time": "2022-11-19T09:08:49.529Z"
   },
   {
    "duration": 45,
    "start_time": "2022-11-19T09:08:49.533Z"
   },
   {
    "duration": 4,
    "start_time": "2022-11-19T09:08:49.580Z"
   },
   {
    "duration": 15,
    "start_time": "2022-11-19T09:08:49.585Z"
   },
   {
    "duration": 18,
    "start_time": "2022-11-19T09:08:49.602Z"
   },
   {
    "duration": 45,
    "start_time": "2022-11-19T09:08:49.622Z"
   },
   {
    "duration": 20,
    "start_time": "2022-11-19T09:08:49.669Z"
   },
   {
    "duration": 3,
    "start_time": "2022-11-19T09:08:49.691Z"
   },
   {
    "duration": 281,
    "start_time": "2022-11-19T09:08:49.696Z"
   },
   {
    "duration": 256,
    "start_time": "2022-11-19T09:08:49.979Z"
   },
   {
    "duration": 4222,
    "start_time": "2022-11-19T09:08:50.237Z"
   },
   {
    "duration": 180,
    "start_time": "2022-11-19T09:08:54.461Z"
   },
   {
    "duration": 10,
    "start_time": "2022-11-19T09:08:54.645Z"
   },
   {
    "duration": 22,
    "start_time": "2022-11-19T09:08:54.658Z"
   },
   {
    "duration": 12,
    "start_time": "2022-11-19T09:08:54.684Z"
   },
   {
    "duration": 177,
    "start_time": "2022-11-19T09:08:54.697Z"
   },
   {
    "duration": 0,
    "start_time": "2022-11-19T09:08:54.875Z"
   },
   {
    "duration": 0,
    "start_time": "2022-11-19T09:08:54.877Z"
   },
   {
    "duration": 0,
    "start_time": "2022-11-19T09:08:54.878Z"
   },
   {
    "duration": 0,
    "start_time": "2022-11-19T09:08:54.879Z"
   },
   {
    "duration": 0,
    "start_time": "2022-11-19T09:08:54.881Z"
   },
   {
    "duration": 0,
    "start_time": "2022-11-19T09:08:54.882Z"
   },
   {
    "duration": 0,
    "start_time": "2022-11-19T09:08:54.883Z"
   },
   {
    "duration": 0,
    "start_time": "2022-11-19T09:08:54.884Z"
   },
   {
    "duration": 0,
    "start_time": "2022-11-19T09:08:54.885Z"
   },
   {
    "duration": 0,
    "start_time": "2022-11-19T09:08:54.886Z"
   },
   {
    "duration": 0,
    "start_time": "2022-11-19T09:08:54.887Z"
   },
   {
    "duration": 0,
    "start_time": "2022-11-19T09:08:54.888Z"
   },
   {
    "duration": 0,
    "start_time": "2022-11-19T09:08:54.889Z"
   },
   {
    "duration": 0,
    "start_time": "2022-11-19T09:08:54.891Z"
   },
   {
    "duration": 0,
    "start_time": "2022-11-19T09:08:54.891Z"
   },
   {
    "duration": 0,
    "start_time": "2022-11-19T09:08:54.893Z"
   },
   {
    "duration": 0,
    "start_time": "2022-11-19T09:08:54.894Z"
   },
   {
    "duration": 0,
    "start_time": "2022-11-19T09:08:54.894Z"
   },
   {
    "duration": 0,
    "start_time": "2022-11-19T09:08:54.895Z"
   },
   {
    "duration": 0,
    "start_time": "2022-11-19T09:08:54.896Z"
   },
   {
    "duration": 0,
    "start_time": "2022-11-19T09:08:54.897Z"
   },
   {
    "duration": 0,
    "start_time": "2022-11-19T09:08:54.899Z"
   },
   {
    "duration": 0,
    "start_time": "2022-11-19T09:08:54.899Z"
   },
   {
    "duration": 74,
    "start_time": "2022-11-19T09:20:31.233Z"
   },
   {
    "duration": 5,
    "start_time": "2022-11-19T09:20:33.052Z"
   },
   {
    "duration": 4,
    "start_time": "2022-11-19T09:20:38.182Z"
   },
   {
    "duration": 101,
    "start_time": "2022-11-19T09:21:37.633Z"
   },
   {
    "duration": 26,
    "start_time": "2022-11-19T09:21:45.049Z"
   },
   {
    "duration": 24,
    "start_time": "2022-11-19T09:21:51.521Z"
   },
   {
    "duration": 43,
    "start_time": "2022-11-19T09:22:51.636Z"
   },
   {
    "duration": 32,
    "start_time": "2022-11-19T09:22:54.658Z"
   },
   {
    "duration": 22,
    "start_time": "2022-11-19T09:23:04.851Z"
   },
   {
    "duration": 1140,
    "start_time": "2022-11-19T09:23:41.241Z"
   },
   {
    "duration": 133,
    "start_time": "2022-11-19T09:23:59.489Z"
   },
   {
    "duration": 906,
    "start_time": "2022-11-19T09:24:48.293Z"
   },
   {
    "duration": 21,
    "start_time": "2022-11-19T09:24:50.840Z"
   },
   {
    "duration": 48,
    "start_time": "2022-11-19T09:25:09.203Z"
   },
   {
    "duration": 22,
    "start_time": "2022-11-19T09:25:17.223Z"
   },
   {
    "duration": 4,
    "start_time": "2022-11-19T09:26:01.308Z"
   },
   {
    "duration": 614,
    "start_time": "2022-11-19T09:26:05.382Z"
   },
   {
    "duration": 3,
    "start_time": "2022-11-19T09:26:07.361Z"
   },
   {
    "duration": 21,
    "start_time": "2022-11-19T09:26:58.993Z"
   },
   {
    "duration": 2,
    "start_time": "2022-11-19T09:28:36.365Z"
   },
   {
    "duration": 3,
    "start_time": "2022-11-19T09:28:37.611Z"
   },
   {
    "duration": 5,
    "start_time": "2022-11-19T09:28:51.402Z"
   },
   {
    "duration": 19,
    "start_time": "2022-11-19T09:29:06.021Z"
   },
   {
    "duration": 4,
    "start_time": "2022-11-19T09:29:14.434Z"
   },
   {
    "duration": 63145,
    "start_time": "2022-11-19T09:29:34.513Z"
   },
   {
    "duration": 59984,
    "start_time": "2022-11-19T09:30:45.380Z"
   },
   {
    "duration": 11,
    "start_time": "2022-11-19T09:31:47.526Z"
   },
   {
    "duration": 4,
    "start_time": "2022-11-19T09:33:42.645Z"
   },
   {
    "duration": 9,
    "start_time": "2022-11-19T09:35:47.074Z"
   },
   {
    "duration": 3,
    "start_time": "2022-11-19T09:35:48.260Z"
   },
   {
    "duration": 64833,
    "start_time": "2022-11-19T09:35:49.827Z"
   },
   {
    "duration": 59298,
    "start_time": "2022-11-19T09:36:54.662Z"
   },
   {
    "duration": 74,
    "start_time": "2022-11-19T09:38:02.401Z"
   },
   {
    "duration": 84,
    "start_time": "2022-11-19T09:38:24.503Z"
   },
   {
    "duration": 12,
    "start_time": "2022-11-19T09:43:22.534Z"
   },
   {
    "duration": 13,
    "start_time": "2022-11-19T09:43:29.773Z"
   },
   {
    "duration": 4,
    "start_time": "2022-11-19T09:43:40.339Z"
   },
   {
    "duration": 63826,
    "start_time": "2022-11-19T09:44:00.234Z"
   },
   {
    "duration": 60596,
    "start_time": "2022-11-19T09:45:04.063Z"
   },
   {
    "duration": 2136,
    "start_time": "2022-11-19T09:46:27.708Z"
   },
   {
    "duration": 22336,
    "start_time": "2022-11-19T09:46:29.846Z"
   },
   {
    "duration": 144780,
    "start_time": "2022-11-19T09:46:52.183Z"
   },
   {
    "duration": 16516,
    "start_time": "2022-11-19T09:49:16.964Z"
   },
   {
    "duration": 14,
    "start_time": "2022-11-19T10:01:07.701Z"
   },
   {
    "duration": 12606,
    "start_time": "2022-11-19T10:01:43.253Z"
   },
   {
    "duration": 30495,
    "start_time": "2022-11-19T10:01:55.861Z"
   },
   {
    "duration": 835,
    "start_time": "2022-11-19T10:02:26.360Z"
   },
   {
    "duration": 784,
    "start_time": "2022-11-19T10:02:30.379Z"
   },
   {
    "duration": 12967,
    "start_time": "2022-11-19T10:02:54.250Z"
   },
   {
    "duration": 4768,
    "start_time": "2022-11-19T10:03:07.219Z"
   },
   {
    "duration": 69267,
    "start_time": "2022-11-19T10:03:30.019Z"
   },
   {
    "duration": 24412,
    "start_time": "2022-11-19T10:04:39.288Z"
   },
   {
    "duration": 1806,
    "start_time": "2022-11-19T10:05:42.061Z"
   },
   {
    "duration": 286,
    "start_time": "2022-11-19T10:05:43.869Z"
   },
   {
    "duration": 3,
    "start_time": "2022-11-19T10:05:44.157Z"
   },
   {
    "duration": 947,
    "start_time": "2022-11-19T10:05:44.162Z"
   },
   {
    "duration": 4,
    "start_time": "2022-11-19T10:05:45.110Z"
   },
   {
    "duration": 48323,
    "start_time": "2022-11-19T10:05:45.116Z"
   },
   {
    "duration": 4,
    "start_time": "2022-11-19T10:06:33.441Z"
   },
   {
    "duration": 716,
    "start_time": "2022-11-19T10:06:33.455Z"
   },
   {
    "duration": 2,
    "start_time": "2022-11-19T10:06:34.173Z"
   },
   {
    "duration": 32,
    "start_time": "2022-11-19T10:06:34.178Z"
   },
   {
    "duration": 44,
    "start_time": "2022-11-19T10:06:34.211Z"
   },
   {
    "duration": 24,
    "start_time": "2022-11-19T10:06:34.257Z"
   },
   {
    "duration": 23,
    "start_time": "2022-11-19T10:06:34.283Z"
   },
   {
    "duration": 2,
    "start_time": "2022-11-19T10:06:34.308Z"
   },
   {
    "duration": 45,
    "start_time": "2022-11-19T10:06:34.312Z"
   },
   {
    "duration": 4,
    "start_time": "2022-11-19T10:06:34.360Z"
   },
   {
    "duration": 14,
    "start_time": "2022-11-19T10:06:34.365Z"
   },
   {
    "duration": 17,
    "start_time": "2022-11-19T10:06:34.381Z"
   },
   {
    "duration": 18,
    "start_time": "2022-11-19T10:06:34.400Z"
   },
   {
    "duration": 48,
    "start_time": "2022-11-19T10:06:34.419Z"
   },
   {
    "duration": 4,
    "start_time": "2022-11-19T10:06:34.472Z"
   },
   {
    "duration": 312,
    "start_time": "2022-11-19T10:06:34.480Z"
   },
   {
    "duration": 271,
    "start_time": "2022-11-19T10:06:34.794Z"
   },
   {
    "duration": 4108,
    "start_time": "2022-11-19T10:06:35.067Z"
   },
   {
    "duration": 153,
    "start_time": "2022-11-19T10:06:39.176Z"
   },
   {
    "duration": 4,
    "start_time": "2022-11-19T10:06:39.331Z"
   },
   {
    "duration": 19,
    "start_time": "2022-11-19T10:06:39.337Z"
   },
   {
    "duration": 19,
    "start_time": "2022-11-19T10:06:39.360Z"
   },
   {
    "duration": 104,
    "start_time": "2022-11-19T10:06:39.381Z"
   },
   {
    "duration": 4,
    "start_time": "2022-11-19T10:06:39.487Z"
   },
   {
    "duration": 163,
    "start_time": "2022-11-19T10:06:39.492Z"
   },
   {
    "duration": 1109,
    "start_time": "2022-11-19T10:06:39.656Z"
   },
   {
    "duration": 134,
    "start_time": "2022-11-19T10:06:40.767Z"
   },
   {
    "duration": 980,
    "start_time": "2022-11-19T10:06:40.902Z"
   },
   {
    "duration": 2,
    "start_time": "2022-11-19T10:06:41.884Z"
   },
   {
    "duration": 7,
    "start_time": "2022-11-19T10:06:41.887Z"
   },
   {
    "duration": 6,
    "start_time": "2022-11-19T10:06:41.896Z"
   },
   {
    "duration": 11,
    "start_time": "2022-11-19T10:06:41.904Z"
   },
   {
    "duration": 77252,
    "start_time": "2022-11-19T10:06:41.916Z"
   },
   {
    "duration": 79717,
    "start_time": "2022-11-19T10:07:59.256Z"
   },
   {
    "duration": 22753,
    "start_time": "2022-11-19T10:09:19.056Z"
   },
   {
    "duration": 2171,
    "start_time": "2022-11-19T10:09:41.812Z"
   },
   {
    "duration": 147991,
    "start_time": "2022-11-19T10:09:43.985Z"
   },
   {
    "duration": 17213,
    "start_time": "2022-11-19T10:12:11.978Z"
   },
   {
    "duration": 69687,
    "start_time": "2022-11-19T10:12:29.193Z"
   },
   {
    "duration": 41659,
    "start_time": "2022-11-19T10:13:38.882Z"
   },
   {
    "duration": 26,
    "start_time": "2022-11-19T10:14:20.543Z"
   },
   {
    "duration": 0,
    "start_time": "2022-11-19T10:14:20.571Z"
   },
   {
    "duration": 0,
    "start_time": "2022-11-19T10:14:20.572Z"
   },
   {
    "duration": 0,
    "start_time": "2022-11-19T10:14:20.574Z"
   },
   {
    "duration": 0,
    "start_time": "2022-11-19T10:14:20.575Z"
   },
   {
    "duration": 0,
    "start_time": "2022-11-19T10:14:20.576Z"
   },
   {
    "duration": 0,
    "start_time": "2022-11-19T10:14:20.577Z"
   },
   {
    "duration": 0,
    "start_time": "2022-11-19T10:14:20.578Z"
   },
   {
    "duration": 0,
    "start_time": "2022-11-19T10:14:20.579Z"
   },
   {
    "duration": 221554,
    "start_time": "2022-11-19T10:14:42.139Z"
   },
   {
    "duration": 10600,
    "start_time": "2022-11-19T10:19:14.777Z"
   },
   {
    "duration": 19,
    "start_time": "2022-11-19T10:19:25.382Z"
   },
   {
    "duration": 593449,
    "start_time": "2022-11-19T10:21:14.684Z"
   },
   {
    "duration": 1932,
    "start_time": "2022-11-19T10:31:17.467Z"
   },
   {
    "duration": 352,
    "start_time": "2022-11-19T10:31:19.402Z"
   },
   {
    "duration": 5,
    "start_time": "2022-11-19T10:31:19.756Z"
   },
   {
    "duration": 989,
    "start_time": "2022-11-19T10:31:19.763Z"
   },
   {
    "duration": 5,
    "start_time": "2022-11-19T10:31:20.756Z"
   },
   {
    "duration": 51049,
    "start_time": "2022-11-19T10:31:20.763Z"
   },
   {
    "duration": 4,
    "start_time": "2022-11-19T10:32:11.814Z"
   },
   {
    "duration": 761,
    "start_time": "2022-11-19T10:32:11.820Z"
   },
   {
    "duration": 3,
    "start_time": "2022-11-19T10:32:12.583Z"
   },
   {
    "duration": 62,
    "start_time": "2022-11-19T10:32:12.588Z"
   },
   {
    "duration": 55,
    "start_time": "2022-11-19T10:32:12.652Z"
   },
   {
    "duration": 29,
    "start_time": "2022-11-19T10:32:12.709Z"
   },
   {
    "duration": 38,
    "start_time": "2022-11-19T10:32:12.740Z"
   },
   {
    "duration": 12,
    "start_time": "2022-11-19T10:32:12.781Z"
   },
   {
    "duration": 77,
    "start_time": "2022-11-19T10:32:12.795Z"
   },
   {
    "duration": 14,
    "start_time": "2022-11-19T10:32:12.873Z"
   },
   {
    "duration": 41,
    "start_time": "2022-11-19T10:32:12.889Z"
   },
   {
    "duration": 47,
    "start_time": "2022-11-19T10:32:12.932Z"
   },
   {
    "duration": 43,
    "start_time": "2022-11-19T10:32:12.981Z"
   },
   {
    "duration": 29,
    "start_time": "2022-11-19T10:32:13.026Z"
   },
   {
    "duration": 25,
    "start_time": "2022-11-19T10:32:13.058Z"
   },
   {
    "duration": 297,
    "start_time": "2022-11-19T10:32:13.085Z"
   },
   {
    "duration": 295,
    "start_time": "2022-11-19T10:32:13.384Z"
   },
   {
    "duration": 4592,
    "start_time": "2022-11-19T10:32:13.681Z"
   },
   {
    "duration": 159,
    "start_time": "2022-11-19T10:32:18.275Z"
   },
   {
    "duration": 5,
    "start_time": "2022-11-19T10:32:18.436Z"
   },
   {
    "duration": 22,
    "start_time": "2022-11-19T10:32:18.456Z"
   },
   {
    "duration": 31,
    "start_time": "2022-11-19T10:32:18.480Z"
   },
   {
    "duration": 103,
    "start_time": "2022-11-19T10:32:18.513Z"
   },
   {
    "duration": 4,
    "start_time": "2022-11-19T10:32:18.618Z"
   },
   {
    "duration": 180,
    "start_time": "2022-11-19T10:32:18.624Z"
   },
   {
    "duration": 1163,
    "start_time": "2022-11-19T10:32:18.805Z"
   },
   {
    "duration": 158,
    "start_time": "2022-11-19T10:32:19.970Z"
   },
   {
    "duration": 1025,
    "start_time": "2022-11-19T10:32:20.130Z"
   },
   {
    "duration": 4,
    "start_time": "2022-11-19T10:32:21.157Z"
   },
   {
    "duration": 38,
    "start_time": "2022-11-19T10:32:21.164Z"
   },
   {
    "duration": 43,
    "start_time": "2022-11-19T10:32:21.204Z"
   },
   {
    "duration": 40,
    "start_time": "2022-11-19T10:32:21.249Z"
   },
   {
    "duration": 81187,
    "start_time": "2022-11-19T10:32:21.291Z"
   },
   {
    "duration": 77103,
    "start_time": "2022-11-19T10:33:42.555Z"
   },
   {
    "duration": 24052,
    "start_time": "2022-11-19T10:34:59.664Z"
   },
   {
    "duration": 2369,
    "start_time": "2022-11-19T10:35:23.719Z"
   },
   {
    "duration": 160036,
    "start_time": "2022-11-19T10:35:26.090Z"
   },
   {
    "duration": 18181,
    "start_time": "2022-11-19T10:38:06.128Z"
   },
   {
    "duration": 75073,
    "start_time": "2022-11-19T10:38:24.310Z"
   },
   {
    "duration": 44123,
    "start_time": "2022-11-19T10:39:39.386Z"
   },
   {
    "duration": 687513,
    "start_time": "2022-11-19T10:40:23.511Z"
   },
   {
    "duration": 226620,
    "start_time": "2022-11-19T10:51:51.026Z"
   },
   {
    "duration": 25,
    "start_time": "2022-11-19T10:55:37.649Z"
   },
   {
    "duration": 0,
    "start_time": "2022-11-19T10:55:37.676Z"
   },
   {
    "duration": 0,
    "start_time": "2022-11-19T10:55:37.678Z"
   },
   {
    "duration": 0,
    "start_time": "2022-11-19T10:55:37.679Z"
   },
   {
    "duration": 0,
    "start_time": "2022-11-19T10:55:37.681Z"
   },
   {
    "duration": 0,
    "start_time": "2022-11-19T10:55:37.682Z"
   },
   {
    "duration": 0,
    "start_time": "2022-11-19T10:55:37.684Z"
   },
   {
    "duration": 30483,
    "start_time": "2022-11-19T10:55:48.820Z"
   },
   {
    "duration": 17,
    "start_time": "2022-11-19T10:56:54.720Z"
   },
   {
    "duration": 150693,
    "start_time": "2022-11-19T10:57:26.059Z"
   },
   {
    "duration": 17785,
    "start_time": "2022-11-19T11:00:05.575Z"
   },
   {
    "duration": 12,
    "start_time": "2022-11-19T11:00:41.756Z"
   },
   {
    "duration": 2042,
    "start_time": "2022-11-19T11:03:07.772Z"
   },
   {
    "duration": 342,
    "start_time": "2022-11-19T11:03:09.821Z"
   },
   {
    "duration": 4,
    "start_time": "2022-11-19T11:03:10.165Z"
   },
   {
    "duration": 1068,
    "start_time": "2022-11-19T11:03:10.172Z"
   },
   {
    "duration": 4,
    "start_time": "2022-11-19T11:03:11.242Z"
   },
   {
    "duration": 4,
    "start_time": "2022-11-19T11:03:11.254Z"
   },
   {
    "duration": 22,
    "start_time": "2022-11-19T11:03:11.260Z"
   },
   {
    "duration": 674,
    "start_time": "2022-11-19T11:03:11.284Z"
   },
   {
    "duration": 4,
    "start_time": "2022-11-19T11:03:11.960Z"
   },
   {
    "duration": 51,
    "start_time": "2022-11-19T11:03:11.968Z"
   },
   {
    "duration": 52,
    "start_time": "2022-11-19T11:03:12.021Z"
   },
   {
    "duration": 30,
    "start_time": "2022-11-19T11:03:12.076Z"
   },
   {
    "duration": 25,
    "start_time": "2022-11-19T11:03:12.109Z"
   },
   {
    "duration": 3,
    "start_time": "2022-11-19T11:03:12.136Z"
   },
   {
    "duration": 40,
    "start_time": "2022-11-19T11:03:12.140Z"
   },
   {
    "duration": 4,
    "start_time": "2022-11-19T11:03:12.182Z"
   },
   {
    "duration": 16,
    "start_time": "2022-11-19T11:03:12.188Z"
   },
   {
    "duration": 19,
    "start_time": "2022-11-19T11:03:12.206Z"
   },
   {
    "duration": 49,
    "start_time": "2022-11-19T11:03:12.227Z"
   },
   {
    "duration": 19,
    "start_time": "2022-11-19T11:03:12.281Z"
   },
   {
    "duration": 4,
    "start_time": "2022-11-19T11:03:12.302Z"
   },
   {
    "duration": 332,
    "start_time": "2022-11-19T11:03:12.307Z"
   },
   {
    "duration": 306,
    "start_time": "2022-11-19T11:03:12.641Z"
   },
   {
    "duration": 4802,
    "start_time": "2022-11-19T11:03:12.949Z"
   },
   {
    "duration": 179,
    "start_time": "2022-11-19T11:03:17.753Z"
   },
   {
    "duration": 8,
    "start_time": "2022-11-19T11:03:17.935Z"
   },
   {
    "duration": 37,
    "start_time": "2022-11-19T11:03:17.944Z"
   },
   {
    "duration": 6,
    "start_time": "2022-11-19T11:03:17.984Z"
   },
   {
    "duration": 97,
    "start_time": "2022-11-19T11:03:17.992Z"
   },
   {
    "duration": 5,
    "start_time": "2022-11-19T11:03:18.090Z"
   },
   {
    "duration": 170,
    "start_time": "2022-11-19T11:03:18.096Z"
   },
   {
    "duration": 1328,
    "start_time": "2022-11-19T11:03:18.274Z"
   },
   {
    "duration": 186,
    "start_time": "2022-11-19T11:03:19.604Z"
   },
   {
    "duration": 1189,
    "start_time": "2022-11-19T11:03:19.791Z"
   },
   {
    "duration": 3,
    "start_time": "2022-11-19T11:03:20.982Z"
   },
   {
    "duration": 11,
    "start_time": "2022-11-19T11:03:20.987Z"
   },
   {
    "duration": 12,
    "start_time": "2022-11-19T11:03:21.000Z"
   },
   {
    "duration": 251,
    "start_time": "2022-11-19T11:03:21.016Z"
   },
   {
    "duration": 0,
    "start_time": "2022-11-19T11:03:21.269Z"
   },
   {
    "duration": 0,
    "start_time": "2022-11-19T11:03:21.271Z"
   },
   {
    "duration": 0,
    "start_time": "2022-11-19T11:03:21.272Z"
   },
   {
    "duration": 0,
    "start_time": "2022-11-19T11:03:21.274Z"
   },
   {
    "duration": 0,
    "start_time": "2022-11-19T11:03:21.275Z"
   },
   {
    "duration": 0,
    "start_time": "2022-11-19T11:03:21.278Z"
   },
   {
    "duration": 0,
    "start_time": "2022-11-19T11:03:21.280Z"
   },
   {
    "duration": 0,
    "start_time": "2022-11-19T11:03:21.281Z"
   },
   {
    "duration": 0,
    "start_time": "2022-11-19T11:03:21.284Z"
   },
   {
    "duration": 0,
    "start_time": "2022-11-19T11:03:21.285Z"
   },
   {
    "duration": 0,
    "start_time": "2022-11-19T11:03:21.287Z"
   },
   {
    "duration": 0,
    "start_time": "2022-11-19T11:03:21.289Z"
   },
   {
    "duration": 0,
    "start_time": "2022-11-19T11:03:21.290Z"
   },
   {
    "duration": 0,
    "start_time": "2022-11-19T11:03:21.292Z"
   },
   {
    "duration": 0,
    "start_time": "2022-11-19T11:03:21.293Z"
   },
   {
    "duration": 0,
    "start_time": "2022-11-19T11:03:21.295Z"
   },
   {
    "duration": 0,
    "start_time": "2022-11-19T11:03:21.296Z"
   },
   {
    "duration": 0,
    "start_time": "2022-11-19T11:03:21.298Z"
   },
   {
    "duration": 1939,
    "start_time": "2022-11-19T11:07:00.501Z"
   },
   {
    "duration": 314,
    "start_time": "2022-11-19T11:07:02.442Z"
   },
   {
    "duration": 3,
    "start_time": "2022-11-19T11:07:02.758Z"
   },
   {
    "duration": 1027,
    "start_time": "2022-11-19T11:07:02.763Z"
   },
   {
    "duration": 5,
    "start_time": "2022-11-19T11:07:03.792Z"
   },
   {
    "duration": 33,
    "start_time": "2022-11-19T11:07:03.799Z"
   },
   {
    "duration": 14,
    "start_time": "2022-11-19T11:07:03.834Z"
   },
   {
    "duration": 695,
    "start_time": "2022-11-19T11:07:03.850Z"
   },
   {
    "duration": 7,
    "start_time": "2022-11-19T11:07:04.551Z"
   },
   {
    "duration": 62,
    "start_time": "2022-11-19T11:07:04.562Z"
   },
   {
    "duration": 46,
    "start_time": "2022-11-19T11:07:04.626Z"
   },
   {
    "duration": 34,
    "start_time": "2022-11-19T11:07:04.674Z"
   },
   {
    "duration": 48,
    "start_time": "2022-11-19T11:07:04.710Z"
   },
   {
    "duration": 7,
    "start_time": "2022-11-19T11:07:04.763Z"
   },
   {
    "duration": 71,
    "start_time": "2022-11-19T11:07:04.772Z"
   },
   {
    "duration": 5,
    "start_time": "2022-11-19T11:07:04.845Z"
   },
   {
    "duration": 39,
    "start_time": "2022-11-19T11:07:04.852Z"
   },
   {
    "duration": 43,
    "start_time": "2022-11-19T11:07:04.893Z"
   },
   {
    "duration": 38,
    "start_time": "2022-11-19T11:07:04.938Z"
   },
   {
    "duration": 37,
    "start_time": "2022-11-19T11:07:04.978Z"
   },
   {
    "duration": 39,
    "start_time": "2022-11-19T11:07:05.017Z"
   },
   {
    "duration": 290,
    "start_time": "2022-11-19T11:07:05.058Z"
   },
   {
    "duration": 280,
    "start_time": "2022-11-19T11:07:05.350Z"
   },
   {
    "duration": 4483,
    "start_time": "2022-11-19T11:07:05.632Z"
   },
   {
    "duration": 150,
    "start_time": "2022-11-19T11:07:10.117Z"
   },
   {
    "duration": 7,
    "start_time": "2022-11-19T11:07:10.269Z"
   },
   {
    "duration": 28,
    "start_time": "2022-11-19T11:07:10.277Z"
   },
   {
    "duration": 31,
    "start_time": "2022-11-19T11:07:10.308Z"
   },
   {
    "duration": 109,
    "start_time": "2022-11-19T11:07:10.341Z"
   },
   {
    "duration": 7,
    "start_time": "2022-11-19T11:07:10.452Z"
   },
   {
    "duration": 184,
    "start_time": "2022-11-19T11:07:10.461Z"
   },
   {
    "duration": 1155,
    "start_time": "2022-11-19T11:07:10.647Z"
   },
   {
    "duration": 165,
    "start_time": "2022-11-19T11:07:11.804Z"
   },
   {
    "duration": 1047,
    "start_time": "2022-11-19T11:07:11.971Z"
   },
   {
    "duration": 2,
    "start_time": "2022-11-19T11:07:13.020Z"
   },
   {
    "duration": 22,
    "start_time": "2022-11-19T11:07:13.024Z"
   },
   {
    "duration": 35,
    "start_time": "2022-11-19T11:07:13.048Z"
   },
   {
    "duration": 237,
    "start_time": "2022-11-19T11:07:13.085Z"
   },
   {
    "duration": 0,
    "start_time": "2022-11-19T11:07:13.324Z"
   },
   {
    "duration": 0,
    "start_time": "2022-11-19T11:07:13.326Z"
   },
   {
    "duration": 0,
    "start_time": "2022-11-19T11:07:13.327Z"
   },
   {
    "duration": 0,
    "start_time": "2022-11-19T11:07:13.328Z"
   },
   {
    "duration": 0,
    "start_time": "2022-11-19T11:07:13.330Z"
   },
   {
    "duration": 0,
    "start_time": "2022-11-19T11:07:13.331Z"
   },
   {
    "duration": 0,
    "start_time": "2022-11-19T11:07:13.332Z"
   },
   {
    "duration": 0,
    "start_time": "2022-11-19T11:07:13.333Z"
   },
   {
    "duration": 0,
    "start_time": "2022-11-19T11:07:13.334Z"
   },
   {
    "duration": 0,
    "start_time": "2022-11-19T11:07:13.336Z"
   },
   {
    "duration": 0,
    "start_time": "2022-11-19T11:07:13.337Z"
   },
   {
    "duration": 0,
    "start_time": "2022-11-19T11:07:13.338Z"
   },
   {
    "duration": 0,
    "start_time": "2022-11-19T11:07:13.338Z"
   },
   {
    "duration": 0,
    "start_time": "2022-11-19T11:07:13.339Z"
   },
   {
    "duration": 0,
    "start_time": "2022-11-19T11:07:13.339Z"
   },
   {
    "duration": 0,
    "start_time": "2022-11-19T11:07:13.340Z"
   },
   {
    "duration": 0,
    "start_time": "2022-11-19T11:07:13.340Z"
   },
   {
    "duration": 0,
    "start_time": "2022-11-19T11:07:13.358Z"
   },
   {
    "duration": 88447,
    "start_time": "2022-11-19T11:08:04.796Z"
   },
   {
    "duration": 39579,
    "start_time": "2022-11-19T11:09:40.060Z"
   },
   {
    "duration": 88,
    "start_time": "2022-11-19T11:10:19.643Z"
   },
   {
    "duration": 2463,
    "start_time": "2022-11-19T11:10:26.237Z"
   },
   {
    "duration": 10459,
    "start_time": "2022-11-19T11:10:31.344Z"
   },
   {
    "duration": 3,
    "start_time": "2022-11-19T11:10:57.813Z"
   },
   {
    "duration": 4977,
    "start_time": "2022-11-19T11:11:59.269Z"
   },
   {
    "duration": 61210,
    "start_time": "2022-11-19T11:12:22.332Z"
   },
   {
    "duration": 5,
    "start_time": "2022-11-19T11:13:23.544Z"
   },
   {
    "duration": 5,
    "start_time": "2022-11-19T11:13:26.059Z"
   },
   {
    "duration": 32,
    "start_time": "2022-11-19T11:13:31.257Z"
   },
   {
    "duration": 22,
    "start_time": "2022-11-19T11:13:39.382Z"
   },
   {
    "duration": 19,
    "start_time": "2022-11-19T11:14:20.051Z"
   },
   {
    "duration": 84196,
    "start_time": "2022-11-19T11:14:30.994Z"
   },
   {
    "duration": 42148,
    "start_time": "2022-11-19T11:15:59.924Z"
   },
   {
    "duration": 1892,
    "start_time": "2022-11-19T11:16:46.976Z"
   },
   {
    "duration": 351,
    "start_time": "2022-11-19T11:16:48.871Z"
   },
   {
    "duration": 4,
    "start_time": "2022-11-19T11:16:49.227Z"
   },
   {
    "duration": 972,
    "start_time": "2022-11-19T11:16:49.233Z"
   },
   {
    "duration": 4,
    "start_time": "2022-11-19T11:16:50.206Z"
   },
   {
    "duration": 10,
    "start_time": "2022-11-19T11:16:50.212Z"
   },
   {
    "duration": 8,
    "start_time": "2022-11-19T11:16:50.223Z"
   },
   {
    "duration": 666,
    "start_time": "2022-11-19T11:16:50.233Z"
   },
   {
    "duration": 2,
    "start_time": "2022-11-19T11:16:50.901Z"
   },
   {
    "duration": 42,
    "start_time": "2022-11-19T11:16:50.906Z"
   },
   {
    "duration": 44,
    "start_time": "2022-11-19T11:16:50.950Z"
   },
   {
    "duration": 28,
    "start_time": "2022-11-19T11:16:50.996Z"
   },
   {
    "duration": 48,
    "start_time": "2022-11-19T11:16:51.026Z"
   },
   {
    "duration": 3,
    "start_time": "2022-11-19T11:16:51.075Z"
   },
   {
    "duration": 33,
    "start_time": "2022-11-19T11:16:51.079Z"
   },
   {
    "duration": 4,
    "start_time": "2022-11-19T11:16:51.113Z"
   },
   {
    "duration": 16,
    "start_time": "2022-11-19T11:16:51.119Z"
   },
   {
    "duration": 26,
    "start_time": "2022-11-19T11:16:51.155Z"
   },
   {
    "duration": 18,
    "start_time": "2022-11-19T11:16:51.183Z"
   },
   {
    "duration": 22,
    "start_time": "2022-11-19T11:16:51.203Z"
   },
   {
    "duration": 3,
    "start_time": "2022-11-19T11:16:51.227Z"
   },
   {
    "duration": 305,
    "start_time": "2022-11-19T11:16:51.232Z"
   },
   {
    "duration": 291,
    "start_time": "2022-11-19T11:16:51.539Z"
   },
   {
    "duration": 4384,
    "start_time": "2022-11-19T11:16:51.832Z"
   },
   {
    "duration": 130,
    "start_time": "2022-11-19T11:16:56.218Z"
   },
   {
    "duration": 7,
    "start_time": "2022-11-19T11:16:56.350Z"
   },
   {
    "duration": 8,
    "start_time": "2022-11-19T11:16:56.359Z"
   },
   {
    "duration": 4,
    "start_time": "2022-11-19T11:16:56.372Z"
   },
   {
    "duration": 93,
    "start_time": "2022-11-19T11:16:56.378Z"
   },
   {
    "duration": 5,
    "start_time": "2022-11-19T11:16:56.473Z"
   },
   {
    "duration": 160,
    "start_time": "2022-11-19T11:16:56.479Z"
   },
   {
    "duration": 1102,
    "start_time": "2022-11-19T11:16:56.641Z"
   },
   {
    "duration": 149,
    "start_time": "2022-11-19T11:16:57.744Z"
   },
   {
    "duration": 980,
    "start_time": "2022-11-19T11:16:57.895Z"
   },
   {
    "duration": 2,
    "start_time": "2022-11-19T11:16:58.877Z"
   },
   {
    "duration": 8,
    "start_time": "2022-11-19T11:16:58.881Z"
   },
   {
    "duration": 5,
    "start_time": "2022-11-19T11:16:58.891Z"
   },
   {
    "duration": 198,
    "start_time": "2022-11-19T11:16:58.898Z"
   },
   {
    "duration": 0,
    "start_time": "2022-11-19T11:16:59.098Z"
   },
   {
    "duration": 0,
    "start_time": "2022-11-19T11:16:59.099Z"
   },
   {
    "duration": 1,
    "start_time": "2022-11-19T11:16:59.100Z"
   },
   {
    "duration": 0,
    "start_time": "2022-11-19T11:16:59.102Z"
   },
   {
    "duration": 0,
    "start_time": "2022-11-19T11:16:59.103Z"
   },
   {
    "duration": 0,
    "start_time": "2022-11-19T11:16:59.105Z"
   },
   {
    "duration": 0,
    "start_time": "2022-11-19T11:16:59.106Z"
   },
   {
    "duration": 1,
    "start_time": "2022-11-19T11:16:59.107Z"
   },
   {
    "duration": 0,
    "start_time": "2022-11-19T11:16:59.109Z"
   },
   {
    "duration": 0,
    "start_time": "2022-11-19T11:16:59.110Z"
   },
   {
    "duration": 0,
    "start_time": "2022-11-19T11:16:59.111Z"
   },
   {
    "duration": 0,
    "start_time": "2022-11-19T11:16:59.112Z"
   },
   {
    "duration": 0,
    "start_time": "2022-11-19T11:16:59.113Z"
   },
   {
    "duration": 0,
    "start_time": "2022-11-19T11:16:59.114Z"
   },
   {
    "duration": 0,
    "start_time": "2022-11-19T11:16:59.115Z"
   },
   {
    "duration": 1902,
    "start_time": "2022-11-19T11:17:39.469Z"
   },
   {
    "duration": 320,
    "start_time": "2022-11-19T11:17:41.373Z"
   },
   {
    "duration": 4,
    "start_time": "2022-11-19T11:17:41.695Z"
   },
   {
    "duration": 1007,
    "start_time": "2022-11-19T11:17:41.701Z"
   },
   {
    "duration": 4,
    "start_time": "2022-11-19T11:17:42.711Z"
   },
   {
    "duration": 29,
    "start_time": "2022-11-19T11:17:42.718Z"
   },
   {
    "duration": 31,
    "start_time": "2022-11-19T11:17:42.750Z"
   },
   {
    "duration": 689,
    "start_time": "2022-11-19T11:17:42.784Z"
   },
   {
    "duration": 3,
    "start_time": "2022-11-19T11:17:43.474Z"
   },
   {
    "duration": 45,
    "start_time": "2022-11-19T11:17:43.479Z"
   },
   {
    "duration": 64,
    "start_time": "2022-11-19T11:17:43.525Z"
   },
   {
    "duration": 29,
    "start_time": "2022-11-19T11:17:43.592Z"
   },
   {
    "duration": 38,
    "start_time": "2022-11-19T11:17:43.623Z"
   },
   {
    "duration": 33,
    "start_time": "2022-11-19T11:17:43.667Z"
   },
   {
    "duration": 80,
    "start_time": "2022-11-19T11:17:43.702Z"
   },
   {
    "duration": 5,
    "start_time": "2022-11-19T11:17:43.784Z"
   },
   {
    "duration": 47,
    "start_time": "2022-11-19T11:17:43.791Z"
   },
   {
    "duration": 28,
    "start_time": "2022-11-19T11:17:43.840Z"
   },
   {
    "duration": 48,
    "start_time": "2022-11-19T11:17:43.871Z"
   },
   {
    "duration": 51,
    "start_time": "2022-11-19T11:17:43.920Z"
   },
   {
    "duration": 43,
    "start_time": "2022-11-19T11:17:43.974Z"
   },
   {
    "duration": 278,
    "start_time": "2022-11-19T11:17:44.019Z"
   },
   {
    "duration": 292,
    "start_time": "2022-11-19T11:17:44.299Z"
   },
   {
    "duration": 4659,
    "start_time": "2022-11-19T11:17:44.593Z"
   },
   {
    "duration": 177,
    "start_time": "2022-11-19T11:17:49.254Z"
   },
   {
    "duration": 6,
    "start_time": "2022-11-19T11:17:49.432Z"
   },
   {
    "duration": 16,
    "start_time": "2022-11-19T11:17:49.439Z"
   },
   {
    "duration": 23,
    "start_time": "2022-11-19T11:17:49.457Z"
   },
   {
    "duration": 100,
    "start_time": "2022-11-19T11:17:49.482Z"
   },
   {
    "duration": 4,
    "start_time": "2022-11-19T11:17:49.584Z"
   },
   {
    "duration": 160,
    "start_time": "2022-11-19T11:17:49.590Z"
   },
   {
    "duration": 1220,
    "start_time": "2022-11-19T11:17:49.755Z"
   },
   {
    "duration": 157,
    "start_time": "2022-11-19T11:17:50.978Z"
   },
   {
    "duration": 1054,
    "start_time": "2022-11-19T11:17:51.136Z"
   },
   {
    "duration": 2,
    "start_time": "2022-11-19T11:17:52.192Z"
   },
   {
    "duration": 6,
    "start_time": "2022-11-19T11:17:52.196Z"
   },
   {
    "duration": 7,
    "start_time": "2022-11-19T11:17:52.203Z"
   },
   {
    "duration": 81855,
    "start_time": "2022-11-19T11:17:52.211Z"
   },
   {
    "duration": 73401,
    "start_time": "2022-11-19T11:19:14.068Z"
   },
   {
    "duration": 23747,
    "start_time": "2022-11-19T11:20:27.472Z"
   },
   {
    "duration": 2274,
    "start_time": "2022-11-19T11:20:51.223Z"
   },
   {
    "duration": 155644,
    "start_time": "2022-11-19T11:20:53.499Z"
   },
   {
    "duration": 17954,
    "start_time": "2022-11-19T11:23:29.145Z"
   },
   {
    "duration": 73827,
    "start_time": "2022-11-19T11:23:47.101Z"
   },
   {
    "duration": 30745,
    "start_time": "2022-11-19T11:25:00.930Z"
   },
   {
    "duration": 27,
    "start_time": "2022-11-19T11:25:31.677Z"
   },
   {
    "duration": 13,
    "start_time": "2022-11-19T11:25:31.705Z"
   },
   {
    "duration": 91318,
    "start_time": "2022-11-19T11:25:31.720Z"
   },
   {
    "duration": 13,
    "start_time": "2022-11-19T11:27:03.040Z"
   },
   {
    "duration": 174,
    "start_time": "2022-11-19T11:27:03.055Z"
   },
   {
    "duration": 0,
    "start_time": "2022-11-19T11:27:03.230Z"
   },
   {
    "duration": 0,
    "start_time": "2022-11-19T11:27:03.232Z"
   },
   {
    "duration": 169357,
    "start_time": "2022-11-19T11:32:15.808Z"
   },
   {
    "duration": 41681,
    "start_time": "2022-11-19T11:35:42.118Z"
   },
   {
    "duration": 1132956,
    "start_time": "2022-11-19T11:36:23.801Z"
   },
   {
    "duration": 2025,
    "start_time": "2022-11-19T11:58:01.407Z"
   },
   {
    "duration": 394,
    "start_time": "2022-11-19T11:58:03.434Z"
   },
   {
    "duration": 4,
    "start_time": "2022-11-19T11:58:03.832Z"
   },
   {
    "duration": 1246,
    "start_time": "2022-11-19T11:58:03.838Z"
   },
   {
    "duration": 4,
    "start_time": "2022-11-19T11:58:05.086Z"
   },
   {
    "duration": 54534,
    "start_time": "2022-11-19T11:58:05.093Z"
   },
   {
    "duration": 3,
    "start_time": "2022-11-19T11:58:59.631Z"
   },
   {
    "duration": 754,
    "start_time": "2022-11-19T11:58:59.635Z"
   },
   {
    "duration": 2,
    "start_time": "2022-11-19T11:59:00.392Z"
   },
   {
    "duration": 49,
    "start_time": "2022-11-19T11:59:00.397Z"
   },
   {
    "duration": 36,
    "start_time": "2022-11-19T11:59:00.448Z"
   },
   {
    "duration": 31,
    "start_time": "2022-11-19T11:59:00.487Z"
   },
   {
    "duration": 39,
    "start_time": "2022-11-19T11:59:00.520Z"
   },
   {
    "duration": 3,
    "start_time": "2022-11-19T11:59:00.562Z"
   },
   {
    "duration": 50,
    "start_time": "2022-11-19T11:59:00.567Z"
   },
   {
    "duration": 4,
    "start_time": "2022-11-19T11:59:00.620Z"
   },
   {
    "duration": 26,
    "start_time": "2022-11-19T11:59:00.628Z"
   },
   {
    "duration": 34,
    "start_time": "2022-11-19T11:59:00.656Z"
   },
   {
    "duration": 26,
    "start_time": "2022-11-19T11:59:00.692Z"
   },
   {
    "duration": 23,
    "start_time": "2022-11-19T11:59:00.720Z"
   },
   {
    "duration": 39,
    "start_time": "2022-11-19T11:59:00.745Z"
   },
   {
    "duration": 329,
    "start_time": "2022-11-19T11:59:00.785Z"
   },
   {
    "duration": 303,
    "start_time": "2022-11-19T11:59:01.116Z"
   },
   {
    "duration": 4589,
    "start_time": "2022-11-19T11:59:01.421Z"
   },
   {
    "duration": 168,
    "start_time": "2022-11-19T11:59:06.012Z"
   },
   {
    "duration": 5,
    "start_time": "2022-11-19T11:59:06.181Z"
   },
   {
    "duration": 73,
    "start_time": "2022-11-19T11:59:06.188Z"
   },
   {
    "duration": 37,
    "start_time": "2022-11-19T11:59:06.267Z"
   },
   {
    "duration": 128,
    "start_time": "2022-11-19T11:59:06.306Z"
   },
   {
    "duration": 5,
    "start_time": "2022-11-19T11:59:06.435Z"
   },
   {
    "duration": 197,
    "start_time": "2022-11-19T11:59:06.442Z"
   },
   {
    "duration": 1281,
    "start_time": "2022-11-19T11:59:06.641Z"
   },
   {
    "duration": 167,
    "start_time": "2022-11-19T11:59:07.924Z"
   },
   {
    "duration": 1055,
    "start_time": "2022-11-19T11:59:08.093Z"
   },
   {
    "duration": 7,
    "start_time": "2022-11-19T11:59:09.149Z"
   },
   {
    "duration": 35,
    "start_time": "2022-11-19T11:59:09.158Z"
   },
   {
    "duration": 12,
    "start_time": "2022-11-19T11:59:09.195Z"
   },
   {
    "duration": 83856,
    "start_time": "2022-11-19T11:59:09.210Z"
   },
   {
    "duration": 76094,
    "start_time": "2022-11-19T12:00:33.070Z"
   },
   {
    "duration": 25291,
    "start_time": "2022-11-19T12:01:49.173Z"
   },
   {
    "duration": 2412,
    "start_time": "2022-11-19T12:02:14.466Z"
   },
   {
    "duration": 166685,
    "start_time": "2022-11-19T12:02:16.880Z"
   },
   {
    "duration": 20218,
    "start_time": "2022-11-19T12:05:03.567Z"
   },
   {
    "duration": 82862,
    "start_time": "2022-11-19T12:05:23.787Z"
   },
   {
    "duration": 34073,
    "start_time": "2022-11-19T12:06:46.651Z"
   },
   {
    "duration": 47920,
    "start_time": "2022-11-19T12:07:20.726Z"
   },
   {
    "duration": 0,
    "start_time": "2022-11-19T12:20:15.961Z"
   },
   {
    "duration": 0,
    "start_time": "2022-11-19T12:20:15.963Z"
   },
   {
    "duration": 0,
    "start_time": "2022-11-19T12:20:15.964Z"
   },
   {
    "duration": 0,
    "start_time": "2022-11-19T12:20:15.966Z"
   },
   {
    "duration": 0,
    "start_time": "2022-11-19T12:20:15.967Z"
   },
   {
    "duration": 0,
    "start_time": "2022-11-19T12:20:15.968Z"
   },
   {
    "duration": 1,
    "start_time": "2022-11-19T12:20:15.969Z"
   },
   {
    "duration": 0,
    "start_time": "2022-11-19T12:20:15.971Z"
   },
   {
    "duration": 14748,
    "start_time": "2022-11-19T12:20:19.170Z"
   },
   {
    "duration": 16,
    "start_time": "2022-11-19T12:20:33.924Z"
   },
   {
    "duration": 28045,
    "start_time": "2022-11-19T12:20:46.943Z"
   },
   {
    "duration": 10,
    "start_time": "2022-11-19T12:21:14.991Z"
   },
   {
    "duration": 37949,
    "start_time": "2022-11-19T12:22:16.738Z"
   },
   {
    "duration": 2101,
    "start_time": "2022-11-19T12:26:23.097Z"
   },
   {
    "duration": 363,
    "start_time": "2022-11-19T12:26:25.200Z"
   },
   {
    "duration": 5,
    "start_time": "2022-11-19T12:26:25.574Z"
   },
   {
    "duration": 1081,
    "start_time": "2022-11-19T12:26:25.587Z"
   },
   {
    "duration": 5,
    "start_time": "2022-11-19T12:26:26.670Z"
   },
   {
    "duration": 57754,
    "start_time": "2022-11-19T12:26:26.677Z"
   },
   {
    "duration": 4,
    "start_time": "2022-11-19T12:27:24.432Z"
   },
   {
    "duration": 937,
    "start_time": "2022-11-19T12:27:24.439Z"
   },
   {
    "duration": 4,
    "start_time": "2022-11-19T12:27:25.378Z"
   },
   {
    "duration": 42,
    "start_time": "2022-11-19T12:27:25.386Z"
   },
   {
    "duration": 58,
    "start_time": "2022-11-19T12:27:25.430Z"
   },
   {
    "duration": 28,
    "start_time": "2022-11-19T12:27:25.491Z"
   },
   {
    "duration": 41,
    "start_time": "2022-11-19T12:27:25.521Z"
   },
   {
    "duration": 3,
    "start_time": "2022-11-19T12:27:25.565Z"
   },
   {
    "duration": 59,
    "start_time": "2022-11-19T12:27:25.570Z"
   },
   {
    "duration": 5,
    "start_time": "2022-11-19T12:27:25.631Z"
   },
   {
    "duration": 16,
    "start_time": "2022-11-19T12:27:25.638Z"
   },
   {
    "duration": 39,
    "start_time": "2022-11-19T12:27:25.657Z"
   },
   {
    "duration": 20,
    "start_time": "2022-11-19T12:27:25.698Z"
   },
   {
    "duration": 20,
    "start_time": "2022-11-19T12:27:25.720Z"
   },
   {
    "duration": 33,
    "start_time": "2022-11-19T12:27:25.757Z"
   },
   {
    "duration": 340,
    "start_time": "2022-11-19T12:27:25.793Z"
   },
   {
    "duration": 877,
    "start_time": "2022-11-19T12:27:26.135Z"
   },
   {
    "duration": 4601,
    "start_time": "2022-11-19T12:27:27.014Z"
   },
   {
    "duration": 208,
    "start_time": "2022-11-19T12:27:31.618Z"
   },
   {
    "duration": 5,
    "start_time": "2022-11-19T12:27:31.829Z"
   },
   {
    "duration": 9,
    "start_time": "2022-11-19T12:27:31.836Z"
   },
   {
    "duration": 21,
    "start_time": "2022-11-19T12:27:31.861Z"
   },
   {
    "duration": 106,
    "start_time": "2022-11-19T12:27:31.885Z"
   },
   {
    "duration": 6,
    "start_time": "2022-11-19T12:27:31.996Z"
   },
   {
    "duration": 194,
    "start_time": "2022-11-19T12:27:32.005Z"
   },
   {
    "duration": 1297,
    "start_time": "2022-11-19T12:27:32.201Z"
   },
   {
    "duration": 278,
    "start_time": "2022-11-19T12:27:33.501Z"
   },
   {
    "duration": 1381,
    "start_time": "2022-11-19T12:27:33.782Z"
   },
   {
    "duration": 15,
    "start_time": "2022-11-19T12:27:35.179Z"
   },
   {
    "duration": 6,
    "start_time": "2022-11-19T12:27:35.197Z"
   },
   {
    "duration": 9,
    "start_time": "2022-11-19T12:27:35.205Z"
   },
   {
    "duration": 127044,
    "start_time": "2022-11-19T12:27:35.216Z"
   },
   {
    "duration": 87190,
    "start_time": "2022-11-19T12:29:42.270Z"
   },
   {
    "duration": 25184,
    "start_time": "2022-11-19T12:31:09.462Z"
   },
   {
    "duration": 2266,
    "start_time": "2022-11-19T12:31:34.648Z"
   },
   {
    "duration": 5,
    "start_time": "2022-11-19T12:31:36.916Z"
   },
   {
    "duration": 19488,
    "start_time": "2022-11-19T12:31:36.923Z"
   },
   {
    "duration": 82994,
    "start_time": "2022-11-19T12:31:56.413Z"
   },
   {
    "duration": 32724,
    "start_time": "2022-11-19T12:33:19.409Z"
   },
   {
    "duration": 50749,
    "start_time": "2022-11-19T12:33:52.135Z"
   },
   {
    "duration": 8,
    "start_time": "2022-11-19T12:34:42.886Z"
   },
   {
    "duration": 245610,
    "start_time": "2022-11-19T12:34:42.896Z"
   },
   {
    "duration": 7806,
    "start_time": "2022-11-19T12:38:48.508Z"
   },
   {
    "duration": 13,
    "start_time": "2022-11-19T12:38:56.316Z"
   },
   {
    "duration": 85401,
    "start_time": "2022-11-19T12:38:56.330Z"
   },
   {
    "duration": 15,
    "start_time": "2022-11-19T12:40:21.733Z"
   },
   {
    "duration": 54,
    "start_time": "2022-11-19T12:40:21.749Z"
   },
   {
    "duration": 0,
    "start_time": "2022-11-19T12:40:21.805Z"
   },
   {
    "duration": 0,
    "start_time": "2022-11-19T12:40:21.807Z"
   },
   {
    "duration": 0,
    "start_time": "2022-11-19T12:40:21.815Z"
   },
   {
    "duration": 4,
    "start_time": "2022-11-19T12:40:22.349Z"
   },
   {
    "duration": 74,
    "start_time": "2022-11-19T12:40:24.412Z"
   },
   {
    "duration": 1906,
    "start_time": "2022-11-19T12:40:38.272Z"
   },
   {
    "duration": 350,
    "start_time": "2022-11-19T12:40:40.179Z"
   },
   {
    "duration": 3,
    "start_time": "2022-11-19T12:40:40.531Z"
   },
   {
    "duration": 1060,
    "start_time": "2022-11-19T12:40:40.536Z"
   },
   {
    "duration": 4,
    "start_time": "2022-11-19T12:40:41.598Z"
   },
   {
    "duration": 8420,
    "start_time": "2022-11-19T12:40:41.604Z"
   },
   {
    "duration": 0,
    "start_time": "2022-11-19T12:40:50.117Z"
   },
   {
    "duration": 0,
    "start_time": "2022-11-19T12:40:50.150Z"
   },
   {
    "duration": 0,
    "start_time": "2022-11-19T12:40:50.343Z"
   },
   {
    "duration": 1,
    "start_time": "2022-11-19T12:40:50.357Z"
   },
   {
    "duration": 0,
    "start_time": "2022-11-19T12:40:50.616Z"
   },
   {
    "duration": 0,
    "start_time": "2022-11-19T12:40:50.645Z"
   },
   {
    "duration": 0,
    "start_time": "2022-11-19T12:40:50.656Z"
   },
   {
    "duration": 0,
    "start_time": "2022-11-19T12:40:50.664Z"
   },
   {
    "duration": 0,
    "start_time": "2022-11-19T12:40:50.666Z"
   },
   {
    "duration": 0,
    "start_time": "2022-11-19T12:40:50.668Z"
   },
   {
    "duration": 0,
    "start_time": "2022-11-19T12:40:50.670Z"
   },
   {
    "duration": 0,
    "start_time": "2022-11-19T12:40:50.709Z"
   },
   {
    "duration": 1,
    "start_time": "2022-11-19T12:40:50.791Z"
   },
   {
    "duration": 0,
    "start_time": "2022-11-19T12:40:50.840Z"
   },
   {
    "duration": 0,
    "start_time": "2022-11-19T12:40:50.878Z"
   },
   {
    "duration": 0,
    "start_time": "2022-11-19T12:40:50.884Z"
   },
   {
    "duration": 0,
    "start_time": "2022-11-19T12:40:50.898Z"
   },
   {
    "duration": 1,
    "start_time": "2022-11-19T12:40:50.942Z"
   },
   {
    "duration": 0,
    "start_time": "2022-11-19T12:40:50.971Z"
   },
   {
    "duration": 0,
    "start_time": "2022-11-19T12:40:51.025Z"
   },
   {
    "duration": 0,
    "start_time": "2022-11-19T12:40:51.027Z"
   },
   {
    "duration": 0,
    "start_time": "2022-11-19T12:40:51.100Z"
   },
   {
    "duration": 0,
    "start_time": "2022-11-19T12:40:51.130Z"
   },
   {
    "duration": 0,
    "start_time": "2022-11-19T12:40:51.181Z"
   },
   {
    "duration": 0,
    "start_time": "2022-11-19T12:40:51.194Z"
   },
   {
    "duration": 0,
    "start_time": "2022-11-19T12:40:51.227Z"
   },
   {
    "duration": 0,
    "start_time": "2022-11-19T12:40:51.281Z"
   },
   {
    "duration": 0,
    "start_time": "2022-11-19T12:40:51.283Z"
   },
   {
    "duration": 0,
    "start_time": "2022-11-19T12:40:51.309Z"
   },
   {
    "duration": 0,
    "start_time": "2022-11-19T12:40:51.311Z"
   },
   {
    "duration": 0,
    "start_time": "2022-11-19T12:40:51.313Z"
   },
   {
    "duration": 0,
    "start_time": "2022-11-19T12:40:51.316Z"
   },
   {
    "duration": 0,
    "start_time": "2022-11-19T12:40:51.318Z"
   },
   {
    "duration": 0,
    "start_time": "2022-11-19T12:40:51.319Z"
   },
   {
    "duration": 0,
    "start_time": "2022-11-19T12:40:51.537Z"
   },
   {
    "duration": 0,
    "start_time": "2022-11-19T12:40:51.544Z"
   },
   {
    "duration": 0,
    "start_time": "2022-11-19T12:40:51.546Z"
   },
   {
    "duration": 0,
    "start_time": "2022-11-19T12:40:51.591Z"
   },
   {
    "duration": 0,
    "start_time": "2022-11-19T12:40:51.593Z"
   },
   {
    "duration": 0,
    "start_time": "2022-11-19T12:40:51.595Z"
   },
   {
    "duration": 0,
    "start_time": "2022-11-19T12:40:51.597Z"
   },
   {
    "duration": 0,
    "start_time": "2022-11-19T12:40:51.598Z"
   },
   {
    "duration": 0,
    "start_time": "2022-11-19T12:40:51.600Z"
   },
   {
    "duration": 0,
    "start_time": "2022-11-19T12:40:51.602Z"
   },
   {
    "duration": 0,
    "start_time": "2022-11-19T12:40:51.603Z"
   },
   {
    "duration": 0,
    "start_time": "2022-11-19T12:40:51.605Z"
   },
   {
    "duration": 0,
    "start_time": "2022-11-19T12:40:51.606Z"
   },
   {
    "duration": 0,
    "start_time": "2022-11-19T12:40:51.656Z"
   },
   {
    "duration": 1,
    "start_time": "2022-11-19T12:40:51.657Z"
   },
   {
    "duration": 5,
    "start_time": "2022-11-19T12:42:07.925Z"
   },
   {
    "duration": 1941,
    "start_time": "2022-11-19T12:42:19.042Z"
   },
   {
    "duration": 341,
    "start_time": "2022-11-19T12:42:20.986Z"
   },
   {
    "duration": 3,
    "start_time": "2022-11-19T12:42:21.328Z"
   },
   {
    "duration": 997,
    "start_time": "2022-11-19T12:42:21.333Z"
   },
   {
    "duration": 4,
    "start_time": "2022-11-19T12:42:22.332Z"
   },
   {
    "duration": 52894,
    "start_time": "2022-11-19T12:42:22.338Z"
   },
   {
    "duration": 3,
    "start_time": "2022-11-19T12:43:15.234Z"
   },
   {
    "duration": 734,
    "start_time": "2022-11-19T12:43:15.238Z"
   },
   {
    "duration": 3,
    "start_time": "2022-11-19T12:43:15.974Z"
   },
   {
    "duration": 32,
    "start_time": "2022-11-19T12:43:15.980Z"
   },
   {
    "duration": 54,
    "start_time": "2022-11-19T12:43:16.014Z"
   },
   {
    "duration": 28,
    "start_time": "2022-11-19T12:43:16.070Z"
   },
   {
    "duration": 25,
    "start_time": "2022-11-19T12:43:16.099Z"
   },
   {
    "duration": 3,
    "start_time": "2022-11-19T12:43:16.125Z"
   },
   {
    "duration": 52,
    "start_time": "2022-11-19T12:43:16.130Z"
   },
   {
    "duration": 4,
    "start_time": "2022-11-19T12:43:16.184Z"
   },
   {
    "duration": 17,
    "start_time": "2022-11-19T12:43:16.190Z"
   },
   {
    "duration": 18,
    "start_time": "2022-11-19T12:43:16.209Z"
   },
   {
    "duration": 51,
    "start_time": "2022-11-19T12:43:16.229Z"
   },
   {
    "duration": 20,
    "start_time": "2022-11-19T12:43:16.282Z"
   },
   {
    "duration": 4,
    "start_time": "2022-11-19T12:43:16.303Z"
   },
   {
    "duration": 303,
    "start_time": "2022-11-19T12:43:16.308Z"
   },
   {
    "duration": 299,
    "start_time": "2022-11-19T12:43:16.613Z"
   },
   {
    "duration": 3992,
    "start_time": "2022-11-19T12:43:16.914Z"
   },
   {
    "duration": 189,
    "start_time": "2022-11-19T12:43:20.908Z"
   },
   {
    "duration": 5,
    "start_time": "2022-11-19T12:43:21.098Z"
   },
   {
    "duration": 20,
    "start_time": "2022-11-19T12:43:21.105Z"
   },
   {
    "duration": 5,
    "start_time": "2022-11-19T12:43:21.129Z"
   },
   {
    "duration": 204,
    "start_time": "2022-11-19T12:43:21.136Z"
   },
   {
    "duration": 0,
    "start_time": "2022-11-19T12:43:21.342Z"
   },
   {
    "duration": 0,
    "start_time": "2022-11-19T12:43:21.343Z"
   },
   {
    "duration": 0,
    "start_time": "2022-11-19T12:43:21.344Z"
   },
   {
    "duration": 0,
    "start_time": "2022-11-19T12:43:21.345Z"
   },
   {
    "duration": 0,
    "start_time": "2022-11-19T12:43:21.346Z"
   },
   {
    "duration": 0,
    "start_time": "2022-11-19T12:43:21.347Z"
   },
   {
    "duration": 0,
    "start_time": "2022-11-19T12:43:21.347Z"
   },
   {
    "duration": 0,
    "start_time": "2022-11-19T12:43:21.355Z"
   },
   {
    "duration": 0,
    "start_time": "2022-11-19T12:43:21.357Z"
   },
   {
    "duration": 0,
    "start_time": "2022-11-19T12:43:21.358Z"
   },
   {
    "duration": 0,
    "start_time": "2022-11-19T12:43:21.360Z"
   },
   {
    "duration": 0,
    "start_time": "2022-11-19T12:43:21.362Z"
   },
   {
    "duration": 0,
    "start_time": "2022-11-19T12:43:21.363Z"
   },
   {
    "duration": 0,
    "start_time": "2022-11-19T12:43:21.364Z"
   },
   {
    "duration": 0,
    "start_time": "2022-11-19T12:43:21.366Z"
   },
   {
    "duration": 0,
    "start_time": "2022-11-19T12:43:21.369Z"
   },
   {
    "duration": 0,
    "start_time": "2022-11-19T12:43:21.371Z"
   },
   {
    "duration": 0,
    "start_time": "2022-11-19T12:43:21.372Z"
   },
   {
    "duration": 0,
    "start_time": "2022-11-19T12:43:21.374Z"
   },
   {
    "duration": 0,
    "start_time": "2022-11-19T12:43:21.375Z"
   },
   {
    "duration": 1,
    "start_time": "2022-11-19T12:43:21.376Z"
   },
   {
    "duration": 0,
    "start_time": "2022-11-19T12:43:21.378Z"
   },
   {
    "duration": 0,
    "start_time": "2022-11-19T12:43:21.379Z"
   },
   {
    "duration": 0,
    "start_time": "2022-11-19T12:43:21.380Z"
   },
   {
    "duration": 0,
    "start_time": "2022-11-19T12:43:21.382Z"
   },
   {
    "duration": 0,
    "start_time": "2022-11-19T12:43:21.383Z"
   },
   {
    "duration": 99,
    "start_time": "2022-11-19T12:43:54.596Z"
   },
   {
    "duration": 4,
    "start_time": "2022-11-19T12:43:56.097Z"
   },
   {
    "duration": 148,
    "start_time": "2022-11-19T12:43:57.467Z"
   },
   {
    "duration": 1140,
    "start_time": "2022-11-19T12:43:59.269Z"
   },
   {
    "duration": 68,
    "start_time": "2022-11-19T12:44:08.425Z"
   },
   {
    "duration": 3,
    "start_time": "2022-11-19T12:44:13.730Z"
   },
   {
    "duration": 25249,
    "start_time": "2022-11-19T12:44:16.273Z"
   },
   {
    "duration": 6,
    "start_time": "2022-11-19T12:44:54.313Z"
   },
   {
    "duration": 6,
    "start_time": "2022-11-19T12:45:59.124Z"
   },
   {
    "duration": 25943,
    "start_time": "2022-11-19T12:46:07.438Z"
   },
   {
    "duration": 148,
    "start_time": "2022-11-19T12:46:44.113Z"
   },
   {
    "duration": 1093,
    "start_time": "2022-11-19T12:46:45.874Z"
   },
   {
    "duration": 3,
    "start_time": "2022-11-19T12:46:46.979Z"
   },
   {
    "duration": 7,
    "start_time": "2022-11-19T12:46:53.678Z"
   },
   {
    "duration": 5,
    "start_time": "2022-11-19T12:47:00.771Z"
   },
   {
    "duration": 4,
    "start_time": "2022-11-19T12:47:05.617Z"
   },
   {
    "duration": 137,
    "start_time": "2022-11-19T12:47:47.724Z"
   },
   {
    "duration": 3,
    "start_time": "2022-11-19T12:48:38.843Z"
   },
   {
    "duration": 2025,
    "start_time": "2022-11-19T12:49:37.951Z"
   },
   {
    "duration": 323,
    "start_time": "2022-11-19T12:49:39.979Z"
   },
   {
    "duration": 3,
    "start_time": "2022-11-19T12:49:40.304Z"
   },
   {
    "duration": 1001,
    "start_time": "2022-11-19T12:49:40.309Z"
   },
   {
    "duration": 4,
    "start_time": "2022-11-19T12:49:41.312Z"
   },
   {
    "duration": 54138,
    "start_time": "2022-11-19T12:49:41.318Z"
   },
   {
    "duration": 3,
    "start_time": "2022-11-19T12:50:35.459Z"
   },
   {
    "duration": 787,
    "start_time": "2022-11-19T12:50:35.465Z"
   },
   {
    "duration": 4,
    "start_time": "2022-11-19T12:50:36.254Z"
   },
   {
    "duration": 49,
    "start_time": "2022-11-19T12:50:36.264Z"
   },
   {
    "duration": 37,
    "start_time": "2022-11-19T12:50:36.315Z"
   },
   {
    "duration": 32,
    "start_time": "2022-11-19T12:50:36.356Z"
   },
   {
    "duration": 26,
    "start_time": "2022-11-19T12:50:36.391Z"
   },
   {
    "duration": 3,
    "start_time": "2022-11-19T12:50:36.419Z"
   },
   {
    "duration": 59,
    "start_time": "2022-11-19T12:50:36.424Z"
   },
   {
    "duration": 6,
    "start_time": "2022-11-19T12:50:36.485Z"
   },
   {
    "duration": 16,
    "start_time": "2022-11-19T12:50:36.493Z"
   },
   {
    "duration": 20,
    "start_time": "2022-11-19T12:50:36.511Z"
   },
   {
    "duration": 51,
    "start_time": "2022-11-19T12:50:36.533Z"
   },
   {
    "duration": 21,
    "start_time": "2022-11-19T12:50:36.586Z"
   },
   {
    "duration": 4,
    "start_time": "2022-11-19T12:50:36.608Z"
   },
   {
    "duration": 292,
    "start_time": "2022-11-19T12:50:36.614Z"
   },
   {
    "duration": 282,
    "start_time": "2022-11-19T12:50:36.908Z"
   },
   {
    "duration": 4511,
    "start_time": "2022-11-19T12:50:37.192Z"
   },
   {
    "duration": 176,
    "start_time": "2022-11-19T12:50:41.705Z"
   },
   {
    "duration": 4,
    "start_time": "2022-11-19T12:50:41.883Z"
   },
   {
    "duration": 25,
    "start_time": "2022-11-19T12:50:41.889Z"
   },
   {
    "duration": 27,
    "start_time": "2022-11-19T12:50:41.919Z"
   },
   {
    "duration": 234,
    "start_time": "2022-11-19T12:50:41.948Z"
   },
   {
    "duration": 0,
    "start_time": "2022-11-19T12:50:42.184Z"
   },
   {
    "duration": 0,
    "start_time": "2022-11-19T12:50:42.185Z"
   },
   {
    "duration": 0,
    "start_time": "2022-11-19T12:50:42.186Z"
   },
   {
    "duration": 0,
    "start_time": "2022-11-19T12:50:42.188Z"
   },
   {
    "duration": 0,
    "start_time": "2022-11-19T12:50:42.189Z"
   },
   {
    "duration": 0,
    "start_time": "2022-11-19T12:50:42.191Z"
   },
   {
    "duration": 0,
    "start_time": "2022-11-19T12:50:42.195Z"
   },
   {
    "duration": 0,
    "start_time": "2022-11-19T12:50:42.197Z"
   },
   {
    "duration": 0,
    "start_time": "2022-11-19T12:50:42.198Z"
   },
   {
    "duration": 0,
    "start_time": "2022-11-19T12:50:42.199Z"
   },
   {
    "duration": 0,
    "start_time": "2022-11-19T12:50:42.201Z"
   },
   {
    "duration": 0,
    "start_time": "2022-11-19T12:50:42.203Z"
   },
   {
    "duration": 0,
    "start_time": "2022-11-19T12:50:42.205Z"
   },
   {
    "duration": 0,
    "start_time": "2022-11-19T12:50:42.207Z"
   },
   {
    "duration": 0,
    "start_time": "2022-11-19T12:50:42.208Z"
   },
   {
    "duration": 0,
    "start_time": "2022-11-19T12:50:42.210Z"
   },
   {
    "duration": 0,
    "start_time": "2022-11-19T12:50:42.212Z"
   },
   {
    "duration": 0,
    "start_time": "2022-11-19T12:50:42.213Z"
   },
   {
    "duration": 0,
    "start_time": "2022-11-19T12:50:42.256Z"
   },
   {
    "duration": 0,
    "start_time": "2022-11-19T12:50:42.259Z"
   },
   {
    "duration": 0,
    "start_time": "2022-11-19T12:50:42.261Z"
   },
   {
    "duration": 0,
    "start_time": "2022-11-19T12:50:42.263Z"
   },
   {
    "duration": 0,
    "start_time": "2022-11-19T12:50:42.265Z"
   },
   {
    "duration": 0,
    "start_time": "2022-11-19T12:50:42.266Z"
   },
   {
    "duration": 0,
    "start_time": "2022-11-19T12:50:42.268Z"
   },
   {
    "duration": 0,
    "start_time": "2022-11-19T12:50:42.270Z"
   },
   {
    "duration": 0,
    "start_time": "2022-11-19T12:50:42.272Z"
   },
   {
    "duration": 0,
    "start_time": "2022-11-19T12:50:42.273Z"
   },
   {
    "duration": 0,
    "start_time": "2022-11-19T12:50:42.274Z"
   },
   {
    "duration": 100,
    "start_time": "2022-11-19T12:50:46.808Z"
   },
   {
    "duration": 6,
    "start_time": "2022-11-19T12:50:48.046Z"
   },
   {
    "duration": 168,
    "start_time": "2022-11-19T12:50:49.922Z"
   },
   {
    "duration": 64,
    "start_time": "2022-11-19T12:50:56.702Z"
   },
   {
    "duration": 2,
    "start_time": "2022-11-19T12:51:03.284Z"
   },
   {
    "duration": 308681,
    "start_time": "2022-11-19T12:51:08.083Z"
   },
   {
    "duration": 4,
    "start_time": "2022-11-19T12:56:45.762Z"
   },
   {
    "duration": 3,
    "start_time": "2022-11-19T12:57:03.150Z"
   },
   {
    "duration": 996,
    "start_time": "2022-11-19T12:57:08.325Z"
   },
   {
    "duration": 192234,
    "start_time": "2022-11-19T12:57:17.909Z"
   },
   {
    "duration": 1746,
    "start_time": "2022-11-19T13:05:41.189Z"
   },
   {
    "duration": 347,
    "start_time": "2022-11-19T13:05:42.937Z"
   },
   {
    "duration": 3,
    "start_time": "2022-11-19T13:05:43.286Z"
   },
   {
    "duration": 943,
    "start_time": "2022-11-19T13:05:43.291Z"
   },
   {
    "duration": 4,
    "start_time": "2022-11-19T13:05:44.235Z"
   },
   {
    "duration": 50142,
    "start_time": "2022-11-19T13:05:44.241Z"
   },
   {
    "duration": 3,
    "start_time": "2022-11-19T13:06:34.385Z"
   },
   {
    "duration": 785,
    "start_time": "2022-11-19T13:06:34.390Z"
   },
   {
    "duration": 3,
    "start_time": "2022-11-19T13:06:35.178Z"
   },
   {
    "duration": 63,
    "start_time": "2022-11-19T13:06:35.185Z"
   },
   {
    "duration": 43,
    "start_time": "2022-11-19T13:06:35.250Z"
   },
   {
    "duration": 32,
    "start_time": "2022-11-19T13:06:35.294Z"
   },
   {
    "duration": 41,
    "start_time": "2022-11-19T13:06:35.328Z"
   },
   {
    "duration": 5,
    "start_time": "2022-11-19T13:06:35.371Z"
   },
   {
    "duration": 57,
    "start_time": "2022-11-19T13:06:35.378Z"
   },
   {
    "duration": 9,
    "start_time": "2022-11-19T13:06:35.438Z"
   },
   {
    "duration": 47,
    "start_time": "2022-11-19T13:06:35.449Z"
   },
   {
    "duration": 28,
    "start_time": "2022-11-19T13:06:35.498Z"
   },
   {
    "duration": 41,
    "start_time": "2022-11-19T13:06:35.528Z"
   },
   {
    "duration": 33,
    "start_time": "2022-11-19T13:06:35.571Z"
   },
   {
    "duration": 19,
    "start_time": "2022-11-19T13:06:35.606Z"
   },
   {
    "duration": 308,
    "start_time": "2022-11-19T13:06:35.627Z"
   },
   {
    "duration": 287,
    "start_time": "2022-11-19T13:06:35.938Z"
   },
   {
    "duration": 4469,
    "start_time": "2022-11-19T13:06:36.226Z"
   },
   {
    "duration": 169,
    "start_time": "2022-11-19T13:06:40.697Z"
   },
   {
    "duration": 6,
    "start_time": "2022-11-19T13:06:40.871Z"
   },
   {
    "duration": 8,
    "start_time": "2022-11-19T13:06:40.879Z"
   },
   {
    "duration": 5,
    "start_time": "2022-11-19T13:06:40.890Z"
   },
   {
    "duration": 98,
    "start_time": "2022-11-19T13:06:40.896Z"
   },
   {
    "duration": 4,
    "start_time": "2022-11-19T13:06:40.996Z"
   },
   {
    "duration": 178,
    "start_time": "2022-11-19T13:06:41.002Z"
   },
   {
    "duration": 1156,
    "start_time": "2022-11-19T13:06:41.183Z"
   },
   {
    "duration": 151,
    "start_time": "2022-11-19T13:06:42.341Z"
   },
   {
    "duration": 3,
    "start_time": "2022-11-19T13:06:42.495Z"
   },
   {
    "duration": 1102,
    "start_time": "2022-11-19T13:06:42.500Z"
   },
   {
    "duration": 3,
    "start_time": "2022-11-19T13:06:43.604Z"
   },
   {
    "duration": 9,
    "start_time": "2022-11-19T13:06:43.609Z"
   },
   {
    "duration": 13,
    "start_time": "2022-11-19T13:06:43.621Z"
   },
   {
    "duration": 110422,
    "start_time": "2022-11-19T13:06:43.636Z"
   },
   {
    "duration": 100496,
    "start_time": "2022-11-19T13:08:34.060Z"
   },
   {
    "duration": 3,
    "start_time": "2022-11-19T13:10:14.559Z"
   },
   {
    "duration": 23873,
    "start_time": "2022-11-19T13:10:14.564Z"
   },
   {
    "duration": 2352,
    "start_time": "2022-11-19T13:10:38.439Z"
   },
   {
    "duration": 156724,
    "start_time": "2022-11-19T13:10:40.793Z"
   },
   {
    "duration": 17996,
    "start_time": "2022-11-19T13:13:17.520Z"
   },
   {
    "duration": 71242,
    "start_time": "2022-11-19T13:13:35.518Z"
   },
   {
    "duration": 29040,
    "start_time": "2022-11-19T13:14:46.762Z"
   },
   {
    "duration": 42365,
    "start_time": "2022-11-19T13:15:15.804Z"
   },
   {
    "duration": 3,
    "start_time": "2022-11-19T13:15:58.171Z"
   },
   {
    "duration": 213089,
    "start_time": "2022-11-19T13:15:58.176Z"
   },
   {
    "duration": 51393,
    "start_time": "2022-11-19T13:19:31.267Z"
   },
   {
    "duration": 29,
    "start_time": "2022-11-19T13:20:22.662Z"
   },
   {
    "duration": 256,
    "start_time": "2022-11-19T13:20:22.693Z"
   },
   {
    "duration": 31,
    "start_time": "2022-11-19T13:20:22.951Z"
   },
   {
    "duration": 14,
    "start_time": "2022-11-19T13:20:22.984Z"
   },
   {
    "duration": 0,
    "start_time": "2022-11-19T13:20:23.000Z"
   },
   {
    "duration": 0,
    "start_time": "2022-11-19T13:20:23.001Z"
   },
   {
    "duration": 0,
    "start_time": "2022-11-19T13:20:23.002Z"
   },
   {
    "duration": 53,
    "start_time": "2022-11-19T13:20:46.835Z"
   },
   {
    "duration": 38,
    "start_time": "2022-11-19T13:21:56.162Z"
   },
   {
    "duration": 334,
    "start_time": "2022-11-19T13:24:05.881Z"
   },
   {
    "duration": 5704,
    "start_time": "2022-11-19T13:24:16.765Z"
   },
   {
    "duration": 547,
    "start_time": "2022-11-19T13:24:27.941Z"
   },
   {
    "duration": 5571,
    "start_time": "2022-11-19T13:24:42.285Z"
   },
   {
    "duration": 16,
    "start_time": "2022-11-19T13:24:50.067Z"
   },
   {
    "duration": 1988,
    "start_time": "2022-11-19T13:25:59.232Z"
   },
   {
    "duration": 357,
    "start_time": "2022-11-19T13:26:01.223Z"
   },
   {
    "duration": 2,
    "start_time": "2022-11-19T13:26:01.582Z"
   },
   {
    "duration": 919,
    "start_time": "2022-11-19T13:26:01.586Z"
   },
   {
    "duration": 4,
    "start_time": "2022-11-19T13:26:02.506Z"
   },
   {
    "duration": 48935,
    "start_time": "2022-11-19T13:26:02.512Z"
   },
   {
    "duration": 2,
    "start_time": "2022-11-19T13:26:51.449Z"
   },
   {
    "duration": 669,
    "start_time": "2022-11-19T13:26:51.453Z"
   },
   {
    "duration": 2,
    "start_time": "2022-11-19T13:26:52.124Z"
   },
   {
    "duration": 36,
    "start_time": "2022-11-19T13:26:52.129Z"
   },
   {
    "duration": 34,
    "start_time": "2022-11-19T13:26:52.167Z"
   },
   {
    "duration": 27,
    "start_time": "2022-11-19T13:26:52.203Z"
   },
   {
    "duration": 47,
    "start_time": "2022-11-19T13:26:52.232Z"
   },
   {
    "duration": 2,
    "start_time": "2022-11-19T13:26:52.281Z"
   },
   {
    "duration": 35,
    "start_time": "2022-11-19T13:26:52.285Z"
   },
   {
    "duration": 4,
    "start_time": "2022-11-19T13:26:52.321Z"
   },
   {
    "duration": 28,
    "start_time": "2022-11-19T13:26:52.327Z"
   },
   {
    "duration": 16,
    "start_time": "2022-11-19T13:26:52.357Z"
   },
   {
    "duration": 20,
    "start_time": "2022-11-19T13:26:52.375Z"
   },
   {
    "duration": 22,
    "start_time": "2022-11-19T13:26:52.397Z"
   },
   {
    "duration": 4,
    "start_time": "2022-11-19T13:26:52.421Z"
   },
   {
    "duration": 287,
    "start_time": "2022-11-19T13:26:52.427Z"
   },
   {
    "duration": 261,
    "start_time": "2022-11-19T13:26:52.716Z"
   },
   {
    "duration": 4154,
    "start_time": "2022-11-19T13:26:52.979Z"
   },
   {
    "duration": 147,
    "start_time": "2022-11-19T13:26:57.135Z"
   },
   {
    "duration": 5,
    "start_time": "2022-11-19T13:26:57.284Z"
   },
   {
    "duration": 13,
    "start_time": "2022-11-19T13:26:57.290Z"
   },
   {
    "duration": 6,
    "start_time": "2022-11-19T13:26:57.307Z"
   },
   {
    "duration": 87,
    "start_time": "2022-11-19T13:26:57.314Z"
   },
   {
    "duration": 6,
    "start_time": "2022-11-19T13:26:57.403Z"
   },
   {
    "duration": 162,
    "start_time": "2022-11-19T13:26:57.410Z"
   },
   {
    "duration": 1056,
    "start_time": "2022-11-19T13:26:57.574Z"
   },
   {
    "duration": 150,
    "start_time": "2022-11-19T13:26:58.633Z"
   },
   {
    "duration": 3,
    "start_time": "2022-11-19T13:26:58.785Z"
   },
   {
    "duration": 1019,
    "start_time": "2022-11-19T13:26:58.790Z"
   },
   {
    "duration": 2,
    "start_time": "2022-11-19T13:26:59.811Z"
   },
   {
    "duration": 7,
    "start_time": "2022-11-19T13:26:59.815Z"
   },
   {
    "duration": 6,
    "start_time": "2022-11-19T13:26:59.823Z"
   },
   {
    "duration": 61428,
    "start_time": "2022-11-19T13:26:59.831Z"
   },
   {
    "duration": 60497,
    "start_time": "2022-11-19T13:28:01.261Z"
   },
   {
    "duration": 3,
    "start_time": "2022-11-19T13:29:01.760Z"
   },
   {
    "duration": 22539,
    "start_time": "2022-11-19T13:29:01.765Z"
   },
   {
    "duration": 2211,
    "start_time": "2022-11-19T13:29:24.306Z"
   },
   {
    "duration": 146318,
    "start_time": "2022-11-19T13:29:26.518Z"
   },
   {
    "duration": 16620,
    "start_time": "2022-11-19T13:31:52.838Z"
   },
   {
    "duration": 69547,
    "start_time": "2022-11-19T13:32:09.460Z"
   },
   {
    "duration": 28322,
    "start_time": "2022-11-19T13:33:19.010Z"
   },
   {
    "duration": 41811,
    "start_time": "2022-11-19T13:33:47.334Z"
   },
   {
    "duration": 3,
    "start_time": "2022-11-19T13:34:29.147Z"
   },
   {
    "duration": 297604,
    "start_time": "2022-11-19T13:34:29.152Z"
   },
   {
    "duration": 43515,
    "start_time": "2022-11-19T13:39:26.758Z"
   },
   {
    "duration": 70400,
    "start_time": "2022-11-19T13:40:10.275Z"
   },
   {
    "duration": 104,
    "start_time": "2022-11-19T13:41:20.676Z"
   },
   {
    "duration": 7784,
    "start_time": "2022-11-19T13:41:20.781Z"
   },
   {
    "duration": 17,
    "start_time": "2022-11-19T13:41:28.567Z"
   },
   {
    "duration": 228,
    "start_time": "2022-11-19T13:41:28.586Z"
   },
   {
    "duration": 0,
    "start_time": "2022-11-19T13:41:28.815Z"
   },
   {
    "duration": 0,
    "start_time": "2022-11-19T13:41:28.817Z"
   },
   {
    "duration": 48,
    "start_time": "2022-11-19T13:50:32.752Z"
   },
   {
    "duration": 6,
    "start_time": "2022-11-19T13:50:37.051Z"
   },
   {
    "duration": 47,
    "start_time": "2022-11-19T13:52:10.553Z"
   },
   {
    "duration": 7,
    "start_time": "2022-11-19T13:52:48.468Z"
   },
   {
    "duration": 18,
    "start_time": "2022-11-19T13:57:49.784Z"
   },
   {
    "duration": 12,
    "start_time": "2022-11-19T13:58:12.677Z"
   },
   {
    "duration": 13,
    "start_time": "2022-11-19T13:58:38.691Z"
   },
   {
    "duration": 13,
    "start_time": "2022-11-19T13:58:44.239Z"
   },
   {
    "duration": 15,
    "start_time": "2022-11-19T13:59:00.931Z"
   },
   {
    "duration": 13,
    "start_time": "2022-11-19T13:59:16.833Z"
   },
   {
    "duration": 16963,
    "start_time": "2022-11-24T17:48:48.374Z"
   },
   {
    "duration": 305,
    "start_time": "2022-11-24T17:49:05.339Z"
   },
   {
    "duration": 3,
    "start_time": "2022-11-24T17:49:05.645Z"
   },
   {
    "duration": 1274,
    "start_time": "2022-11-24T17:49:05.649Z"
   },
   {
    "duration": 9,
    "start_time": "2022-11-24T17:49:06.925Z"
   },
   {
    "duration": 47155,
    "start_time": "2022-11-24T17:49:06.936Z"
   },
   {
    "duration": 4,
    "start_time": "2022-11-24T17:49:54.093Z"
   },
   {
    "duration": 636,
    "start_time": "2022-11-24T17:49:54.099Z"
   },
   {
    "duration": 4,
    "start_time": "2022-11-24T17:49:54.736Z"
   },
   {
    "duration": 31,
    "start_time": "2022-11-24T17:49:54.743Z"
   },
   {
    "duration": 45,
    "start_time": "2022-11-24T17:49:54.775Z"
   },
   {
    "duration": 23,
    "start_time": "2022-11-24T17:49:54.822Z"
   },
   {
    "duration": 24,
    "start_time": "2022-11-24T17:49:54.847Z"
   },
   {
    "duration": 3,
    "start_time": "2022-11-24T17:49:54.872Z"
   },
   {
    "duration": 43,
    "start_time": "2022-11-24T17:49:54.877Z"
   },
   {
    "duration": 4,
    "start_time": "2022-11-24T17:49:54.922Z"
   },
   {
    "duration": 19,
    "start_time": "2022-11-24T17:49:54.928Z"
   },
   {
    "duration": 49,
    "start_time": "2022-11-24T17:49:54.949Z"
   },
   {
    "duration": 35,
    "start_time": "2022-11-24T17:49:55.000Z"
   },
   {
    "duration": 26,
    "start_time": "2022-11-24T17:49:55.037Z"
   },
   {
    "duration": 3,
    "start_time": "2022-11-24T17:49:55.065Z"
   },
   {
    "duration": 289,
    "start_time": "2022-11-24T17:49:55.070Z"
   },
   {
    "duration": 280,
    "start_time": "2022-11-24T17:49:55.361Z"
   },
   {
    "duration": 4090,
    "start_time": "2022-11-24T17:49:55.643Z"
   },
   {
    "duration": 164,
    "start_time": "2022-11-24T17:49:59.735Z"
   },
   {
    "duration": 11,
    "start_time": "2022-11-24T17:49:59.902Z"
   },
   {
    "duration": 40,
    "start_time": "2022-11-24T17:49:59.915Z"
   },
   {
    "duration": 7,
    "start_time": "2022-11-24T17:49:59.959Z"
   },
   {
    "duration": 87,
    "start_time": "2022-11-24T17:49:59.968Z"
   },
   {
    "duration": 221,
    "start_time": "2022-11-24T17:50:00.057Z"
   },
   {
    "duration": 0,
    "start_time": "2022-11-24T17:50:00.279Z"
   },
   {
    "duration": 0,
    "start_time": "2022-11-24T17:50:00.281Z"
   },
   {
    "duration": 0,
    "start_time": "2022-11-24T17:50:00.282Z"
   },
   {
    "duration": 0,
    "start_time": "2022-11-24T17:50:00.283Z"
   },
   {
    "duration": 0,
    "start_time": "2022-11-24T17:50:00.297Z"
   },
   {
    "duration": 0,
    "start_time": "2022-11-24T17:50:00.299Z"
   },
   {
    "duration": 1,
    "start_time": "2022-11-24T17:50:00.300Z"
   },
   {
    "duration": 0,
    "start_time": "2022-11-24T17:50:00.302Z"
   },
   {
    "duration": 0,
    "start_time": "2022-11-24T17:50:00.309Z"
   },
   {
    "duration": 0,
    "start_time": "2022-11-24T17:50:00.311Z"
   },
   {
    "duration": 0,
    "start_time": "2022-11-24T17:50:00.313Z"
   },
   {
    "duration": 0,
    "start_time": "2022-11-24T17:50:00.315Z"
   },
   {
    "duration": 0,
    "start_time": "2022-11-24T17:50:00.317Z"
   },
   {
    "duration": 1,
    "start_time": "2022-11-24T17:50:00.319Z"
   },
   {
    "duration": 0,
    "start_time": "2022-11-24T17:50:00.322Z"
   },
   {
    "duration": 0,
    "start_time": "2022-11-24T17:50:00.323Z"
   },
   {
    "duration": 0,
    "start_time": "2022-11-24T17:50:00.325Z"
   },
   {
    "duration": 0,
    "start_time": "2022-11-24T17:50:00.326Z"
   },
   {
    "duration": 0,
    "start_time": "2022-11-24T17:50:00.327Z"
   },
   {
    "duration": 0,
    "start_time": "2022-11-24T17:50:00.328Z"
   },
   {
    "duration": 0,
    "start_time": "2022-11-24T17:50:00.330Z"
   },
   {
    "duration": 0,
    "start_time": "2022-11-24T17:50:00.331Z"
   },
   {
    "duration": 0,
    "start_time": "2022-11-24T17:50:00.333Z"
   },
   {
    "duration": 0,
    "start_time": "2022-11-24T17:50:00.334Z"
   },
   {
    "duration": 0,
    "start_time": "2022-11-24T17:50:00.335Z"
   },
   {
    "duration": 0,
    "start_time": "2022-11-24T17:50:00.336Z"
   },
   {
    "duration": 0,
    "start_time": "2022-11-24T17:50:00.337Z"
   },
   {
    "duration": 0,
    "start_time": "2022-11-24T17:50:00.338Z"
   },
   {
    "duration": 0,
    "start_time": "2022-11-24T17:50:00.339Z"
   },
   {
    "duration": 17769,
    "start_time": "2022-12-15T18:26:35.451Z"
   },
   {
    "duration": 2095,
    "start_time": "2022-12-15T18:28:04.845Z"
   },
   {
    "duration": 500,
    "start_time": "2022-12-15T18:28:06.943Z"
   },
   {
    "duration": 4,
    "start_time": "2022-12-15T18:28:07.445Z"
   },
   {
    "duration": 1307,
    "start_time": "2022-12-15T18:28:07.452Z"
   },
   {
    "duration": 4,
    "start_time": "2022-12-15T18:28:08.762Z"
   },
   {
    "duration": 31,
    "start_time": "2022-12-15T18:28:08.768Z"
   },
   {
    "duration": 18,
    "start_time": "2022-12-15T18:28:08.802Z"
   },
   {
    "duration": 544,
    "start_time": "2022-12-15T18:28:08.823Z"
   },
   {
    "duration": 3,
    "start_time": "2022-12-15T18:28:09.369Z"
   },
   {
    "duration": 42,
    "start_time": "2022-12-15T18:28:09.374Z"
   },
   {
    "duration": 40,
    "start_time": "2022-12-15T18:28:09.418Z"
   },
   {
    "duration": 28,
    "start_time": "2022-12-15T18:28:09.460Z"
   },
   {
    "duration": 57,
    "start_time": "2022-12-15T18:28:09.490Z"
   },
   {
    "duration": 4,
    "start_time": "2022-12-15T18:28:09.549Z"
   },
   {
    "duration": 61,
    "start_time": "2022-12-15T18:28:09.555Z"
   },
   {
    "duration": 5,
    "start_time": "2022-12-15T18:28:09.619Z"
   },
   {
    "duration": 16,
    "start_time": "2022-12-15T18:28:09.626Z"
   },
   {
    "duration": 20,
    "start_time": "2022-12-15T18:28:09.644Z"
   },
   {
    "duration": 52,
    "start_time": "2022-12-15T18:28:09.666Z"
   },
   {
    "duration": 18,
    "start_time": "2022-12-15T18:28:09.720Z"
   },
   {
    "duration": 4,
    "start_time": "2022-12-15T18:28:09.740Z"
   },
   {
    "duration": 316,
    "start_time": "2022-12-15T18:28:09.745Z"
   },
   {
    "duration": 286,
    "start_time": "2022-12-15T18:28:10.063Z"
   },
   {
    "duration": 4765,
    "start_time": "2022-12-15T18:28:10.351Z"
   },
   {
    "duration": 281,
    "start_time": "2022-12-15T18:28:15.118Z"
   },
   {
    "duration": 13,
    "start_time": "2022-12-15T18:28:15.402Z"
   },
   {
    "duration": 13,
    "start_time": "2022-12-15T18:28:15.418Z"
   },
   {
    "duration": 6,
    "start_time": "2022-12-15T18:28:15.438Z"
   },
   {
    "duration": 135,
    "start_time": "2022-12-15T18:28:15.446Z"
   },
   {
    "duration": 6,
    "start_time": "2022-12-15T18:28:15.583Z"
   },
   {
    "duration": 212,
    "start_time": "2022-12-15T18:28:15.591Z"
   },
   {
    "duration": 1240,
    "start_time": "2022-12-15T18:28:15.805Z"
   },
   {
    "duration": 170,
    "start_time": "2022-12-15T18:28:17.047Z"
   },
   {
    "duration": 3,
    "start_time": "2022-12-15T18:28:17.220Z"
   },
   {
    "duration": 1139,
    "start_time": "2022-12-15T18:28:17.225Z"
   },
   {
    "duration": 3,
    "start_time": "2022-12-15T18:28:18.367Z"
   },
   {
    "duration": 11,
    "start_time": "2022-12-15T18:28:18.372Z"
   },
   {
    "duration": 10,
    "start_time": "2022-12-15T18:28:18.385Z"
   },
   {
    "duration": 91924,
    "start_time": "2022-12-15T18:28:18.397Z"
   },
   {
    "duration": 120106,
    "start_time": "2022-12-15T18:29:50.322Z"
   },
   {
    "duration": 4,
    "start_time": "2022-12-15T18:31:50.431Z"
   },
   {
    "duration": 23884,
    "start_time": "2022-12-15T18:31:50.438Z"
   },
   {
    "duration": 2230,
    "start_time": "2022-12-15T18:32:14.324Z"
   },
   {
    "duration": 146250,
    "start_time": "2022-12-15T18:32:16.556Z"
   },
   {
    "duration": 15637,
    "start_time": "2022-12-15T18:34:42.808Z"
   },
   {
    "duration": 67440,
    "start_time": "2022-12-15T18:34:58.448Z"
   },
   {
    "duration": 28505,
    "start_time": "2022-12-15T18:36:05.890Z"
   },
   {
    "duration": 44319,
    "start_time": "2022-12-15T18:36:34.397Z"
   },
   {
    "duration": 3,
    "start_time": "2022-12-15T18:37:18.719Z"
   },
   {
    "duration": 1070112,
    "start_time": "2022-12-15T18:37:18.724Z"
   },
   {
    "duration": 1776,
    "start_time": "2022-12-15T18:55:25.583Z"
   },
   {
    "duration": 295,
    "start_time": "2022-12-15T18:55:27.361Z"
   },
   {
    "duration": 3,
    "start_time": "2022-12-15T18:55:27.658Z"
   },
   {
    "duration": 961,
    "start_time": "2022-12-15T18:55:27.663Z"
   },
   {
    "duration": 4,
    "start_time": "2022-12-15T18:55:28.626Z"
   },
   {
    "duration": 6,
    "start_time": "2022-12-15T18:55:28.632Z"
   },
   {
    "duration": 6,
    "start_time": "2022-12-15T18:55:28.640Z"
   },
   {
    "duration": 577,
    "start_time": "2022-12-15T18:55:28.647Z"
   },
   {
    "duration": 4,
    "start_time": "2022-12-15T18:55:29.225Z"
   },
   {
    "duration": 34,
    "start_time": "2022-12-15T18:55:29.232Z"
   },
   {
    "duration": 47,
    "start_time": "2022-12-15T18:55:29.268Z"
   },
   {
    "duration": 25,
    "start_time": "2022-12-15T18:55:29.317Z"
   },
   {
    "duration": 24,
    "start_time": "2022-12-15T18:55:29.343Z"
   },
   {
    "duration": 23,
    "start_time": "2022-12-15T18:55:29.369Z"
   },
   {
    "duration": 4,
    "start_time": "2022-12-15T18:55:29.416Z"
   },
   {
    "duration": 20,
    "start_time": "2022-12-15T18:55:29.422Z"
   },
   {
    "duration": 17,
    "start_time": "2022-12-15T18:55:29.444Z"
   },
   {
    "duration": 24,
    "start_time": "2022-12-15T18:55:29.462Z"
   },
   {
    "duration": 37,
    "start_time": "2022-12-15T18:55:29.487Z"
   },
   {
    "duration": 3,
    "start_time": "2022-12-15T18:55:29.526Z"
   },
   {
    "duration": 262,
    "start_time": "2022-12-15T18:55:29.530Z"
   },
   {
    "duration": 259,
    "start_time": "2022-12-15T18:55:29.795Z"
   },
   {
    "duration": 3,
    "start_time": "2022-12-15T18:55:30.057Z"
   },
   {
    "duration": 179,
    "start_time": "2022-12-15T18:55:30.061Z"
   },
   {
    "duration": 5,
    "start_time": "2022-12-15T18:55:30.242Z"
   },
   {
    "duration": 61,
    "start_time": "2022-12-15T18:55:30.248Z"
   },
   {
    "duration": 28,
    "start_time": "2022-12-15T18:55:30.311Z"
   },
   {
    "duration": 141,
    "start_time": "2022-12-15T18:55:30.345Z"
   },
   {
    "duration": 5,
    "start_time": "2022-12-15T18:55:30.487Z"
   },
   {
    "duration": 151,
    "start_time": "2022-12-15T18:55:30.494Z"
   },
   {
    "duration": 1051,
    "start_time": "2022-12-15T18:55:30.647Z"
   },
   {
    "duration": 179,
    "start_time": "2022-12-15T18:55:31.700Z"
   },
   {
    "duration": 3,
    "start_time": "2022-12-15T18:55:31.880Z"
   },
   {
    "duration": 953,
    "start_time": "2022-12-15T18:55:31.885Z"
   },
   {
    "duration": 2,
    "start_time": "2022-12-15T18:55:32.840Z"
   },
   {
    "duration": 8,
    "start_time": "2022-12-15T18:55:32.843Z"
   },
   {
    "duration": 4,
    "start_time": "2022-12-15T18:55:32.853Z"
   },
   {
    "duration": 100462,
    "start_time": "2022-12-15T18:55:32.859Z"
   },
   {
    "duration": 101399,
    "start_time": "2022-12-15T18:57:13.324Z"
   },
   {
    "duration": 4,
    "start_time": "2022-12-15T18:58:54.725Z"
   },
   {
    "duration": 22546,
    "start_time": "2022-12-15T18:58:54.730Z"
   },
   {
    "duration": 2126,
    "start_time": "2022-12-15T18:59:17.278Z"
   },
   {
    "duration": 146060,
    "start_time": "2022-12-15T18:59:19.405Z"
   },
   {
    "duration": 15648,
    "start_time": "2022-12-15T19:01:45.467Z"
   },
   {
    "duration": 66499,
    "start_time": "2022-12-15T19:02:01.117Z"
   },
   {
    "duration": 27646,
    "start_time": "2022-12-15T19:03:07.619Z"
   },
   {
    "duration": 40981,
    "start_time": "2022-12-15T19:03:35.266Z"
   },
   {
    "duration": 3,
    "start_time": "2022-12-15T19:04:16.250Z"
   },
   {
    "duration": 16067,
    "start_time": "2022-12-16T08:18:41.016Z"
   },
   {
    "duration": 327,
    "start_time": "2022-12-16T08:18:57.085Z"
   },
   {
    "duration": 3,
    "start_time": "2022-12-16T08:18:57.413Z"
   },
   {
    "duration": 2967,
    "start_time": "2022-12-16T08:18:57.418Z"
   },
   {
    "duration": 5,
    "start_time": "2022-12-16T08:19:00.387Z"
   },
   {
    "duration": 19,
    "start_time": "2022-12-16T08:19:00.394Z"
   },
   {
    "duration": 18,
    "start_time": "2022-12-16T08:19:00.415Z"
   },
   {
    "duration": 628,
    "start_time": "2022-12-16T08:19:00.435Z"
   },
   {
    "duration": 3,
    "start_time": "2022-12-16T08:19:01.065Z"
   },
   {
    "duration": 42,
    "start_time": "2022-12-16T08:19:01.071Z"
   },
   {
    "duration": 40,
    "start_time": "2022-12-16T08:19:01.115Z"
   },
   {
    "duration": 26,
    "start_time": "2022-12-16T08:19:01.157Z"
   },
   {
    "duration": 26,
    "start_time": "2022-12-16T08:19:01.185Z"
   },
   {
    "duration": 44,
    "start_time": "2022-12-16T08:19:01.213Z"
   },
   {
    "duration": 4,
    "start_time": "2022-12-16T08:19:01.259Z"
   },
   {
    "duration": 35,
    "start_time": "2022-12-16T08:19:01.265Z"
   },
   {
    "duration": 29,
    "start_time": "2022-12-16T08:19:01.302Z"
   },
   {
    "duration": 20,
    "start_time": "2022-12-16T08:19:01.333Z"
   },
   {
    "duration": 27,
    "start_time": "2022-12-16T08:19:01.355Z"
   },
   {
    "duration": 4,
    "start_time": "2022-12-16T08:19:01.384Z"
   },
   {
    "duration": 268,
    "start_time": "2022-12-16T08:19:01.390Z"
   },
   {
    "duration": 367,
    "start_time": "2022-12-16T08:19:01.660Z"
   },
   {
    "duration": 2,
    "start_time": "2022-12-16T08:19:02.030Z"
   },
   {
    "duration": 159,
    "start_time": "2022-12-16T08:19:02.034Z"
   },
   {
    "duration": 5,
    "start_time": "2022-12-16T08:19:02.195Z"
   },
   {
    "duration": 13,
    "start_time": "2022-12-16T08:19:02.202Z"
   },
   {
    "duration": 10,
    "start_time": "2022-12-16T08:19:02.217Z"
   },
   {
    "duration": 84,
    "start_time": "2022-12-16T08:19:02.232Z"
   },
   {
    "duration": 5,
    "start_time": "2022-12-16T08:19:02.318Z"
   },
   {
    "duration": 156,
    "start_time": "2022-12-16T08:19:02.324Z"
   },
   {
    "duration": 1189,
    "start_time": "2022-12-16T08:19:02.483Z"
   },
   {
    "duration": 148,
    "start_time": "2022-12-16T08:19:03.674Z"
   },
   {
    "duration": 3,
    "start_time": "2022-12-16T08:19:03.824Z"
   },
   {
    "duration": 945,
    "start_time": "2022-12-16T08:19:03.828Z"
   },
   {
    "duration": 2,
    "start_time": "2022-12-16T08:19:04.776Z"
   },
   {
    "duration": 7,
    "start_time": "2022-12-16T08:19:04.780Z"
   },
   {
    "duration": 6,
    "start_time": "2022-12-16T08:19:04.788Z"
   },
   {
    "duration": 68363,
    "start_time": "2022-12-16T08:19:04.795Z"
   },
   {
    "duration": 65199,
    "start_time": "2022-12-16T08:20:13.160Z"
   },
   {
    "duration": 92,
    "start_time": "2022-12-16T08:21:18.360Z"
   },
   {
    "duration": 22978,
    "start_time": "2022-12-16T08:21:18.454Z"
   },
   {
    "duration": 2145,
    "start_time": "2022-12-16T08:21:41.434Z"
   },
   {
    "duration": 148397,
    "start_time": "2022-12-16T08:21:43.580Z"
   },
   {
    "duration": 18211,
    "start_time": "2022-12-16T08:24:11.979Z"
   },
   {
    "duration": 71556,
    "start_time": "2022-12-16T08:24:30.192Z"
   },
   {
    "duration": 30566,
    "start_time": "2022-12-16T08:25:41.749Z"
   },
   {
    "duration": 43846,
    "start_time": "2022-12-16T08:26:12.317Z"
   },
   {
    "duration": 3,
    "start_time": "2022-12-16T08:26:56.165Z"
   },
   {
    "duration": 828086,
    "start_time": "2022-12-16T08:26:56.170Z"
   },
   {
    "duration": 171095,
    "start_time": "2022-12-16T08:40:44.257Z"
   },
   {
    "duration": 66101,
    "start_time": "2022-12-16T08:43:35.353Z"
   },
   {
    "duration": 31,
    "start_time": "2022-12-16T08:44:41.455Z"
   },
   {
    "duration": 7869,
    "start_time": "2022-12-16T08:44:41.488Z"
   },
   {
    "duration": 16,
    "start_time": "2022-12-16T08:44:49.359Z"
   },
   {
    "duration": 11,
    "start_time": "2022-12-16T08:44:49.376Z"
   },
   {
    "duration": 7,
    "start_time": "2022-12-16T08:44:49.389Z"
   },
   {
    "duration": 58,
    "start_time": "2022-12-16T08:44:49.398Z"
   }
  ],
  "kernelspec": {
   "display_name": "Python 3 (ipykernel)",
   "language": "python",
   "name": "python3"
  },
  "language_info": {
   "codemirror_mode": {
    "name": "ipython",
    "version": 3
   },
   "file_extension": ".py",
   "mimetype": "text/x-python",
   "name": "python",
   "nbconvert_exporter": "python",
   "pygments_lexer": "ipython3",
   "version": "3.9.5"
  },
  "toc": {
   "base_numbering": 1,
   "nav_menu": {},
   "number_sections": true,
   "sideBar": true,
   "skip_h1_title": true,
   "title_cell": "Table of Contents",
   "title_sidebar": "Contents",
   "toc_cell": false,
   "toc_position": {
    "height": "calc(100% - 180px)",
    "left": "10px",
    "top": "150px",
    "width": "308.6px"
   },
   "toc_section_display": true,
   "toc_window_display": false
  }
 },
 "nbformat": 4,
 "nbformat_minor": 2
}
