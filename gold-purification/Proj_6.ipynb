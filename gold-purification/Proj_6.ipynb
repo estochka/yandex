{
 "cells": [
  {
   "cell_type": "markdown",
   "metadata": {},
   "source": [
    "# Восстановление золота из руды"
   ]
  },
  {
   "cell_type": "markdown",
   "metadata": {},
   "source": [
    "Подготовьте прототип модели машинного обучения для «Цифры». Компания разрабатывает решения для эффективной работы промышленных предприятий.\n",
    "\n",
    "Модель должна предсказать коэффициент восстановления золота из золотосодержащей руды. Используйте данные с параметрами добычи и очистки. \n",
    "\n",
    "Модель поможет оптимизировать производство, чтобы не запускать предприятие с убыточными характеристиками.\n",
    "\n",
    "Вам нужно:\n",
    "\n",
    "1. Подготовить данные;\n",
    "2. Провести исследовательский анализ данных;\n",
    "3. Построить и обучить модель.\n",
    "\n",
    "Чтобы выполнить проект, обращайтесь к библиотекам *pandas*, *matplotlib* и *sklearn.* Вам поможет их документация."
   ]
  },
  {
   "cell_type": "markdown",
   "metadata": {},
   "source": [
    "**Описание данных**\n",
    "\n",
    "\n",
    "*Технологический процесс*\n",
    "\n",
    "    Rougher feed — исходное сырье\n",
    "    Rougher additions (или reagent additions) — флотационные реагенты: Xanthate, Sulphate, Depressant\n",
    "        Xanthate **— ксантогенат (промотер, или активатор флотации);\n",
    "        Sulphate — сульфат (на данном производстве сульфид натрия);\n",
    "        Depressant — депрессант (силикат натрия).\n",
    "    Rougher process (англ. «грубый процесс») — флотация\n",
    "    Rougher tails — отвальные хвосты\n",
    "    Float banks — флотационная установка\n",
    "    Cleaner process — очистка\n",
    "    Rougher Au — черновой концентрат золота\n",
    "    Final Au — финальный концентрат золота\n",
    "\n",
    "*Параметры этапов*\n",
    "\n",
    "    air amount — объём воздуха\n",
    "    fluid levels — уровень жидкости\n",
    "    feed size — размер гранул сырья\n",
    "    feed rate — скорость подачи\n",
    "\n",
    "**Наименование признаков**\n",
    "\n",
    "Наименование признаков должно быть такое:\n",
    "[этап].[тип_параметра].[название_параметра]\n",
    "\n",
    "\n",
    "Пример: **rougher.input.feed_ag**\n",
    "\n",
    "\n",
    "*Возможные значения для блока [этап]:*\n",
    "\n",
    "    rougher — флотация\n",
    "    primary_cleaner — первичная очистка\n",
    "    secondary_cleaner — вторичная очистка\n",
    "    final — финальные характеристики\n",
    "\n",
    "*Возможные значения для блока [тип_параметра]:*\n",
    "\n",
    "    input — параметры сырья\n",
    "    output — параметры продукта\n",
    "    state — параметры, характеризующие текущее состояние этапа\n",
    "    calculation — расчётные характеристики"
   ]
  },
  {
   "cell_type": "markdown",
   "metadata": {},
   "source": [
    "## Подготовка данных"
   ]
  },
  {
   "cell_type": "code",
   "execution_count": null,
   "metadata": {},
   "outputs": [],
   "source": [
    "try:\n",
    "    import pandas_profiling\n",
    "except:\n",
    "    !pip install pandas-profiling\n",
    "    import pandas_profiling"
   ]
  },
  {
   "cell_type": "code",
   "execution_count": 2,
   "metadata": {},
   "outputs": [],
   "source": [
    "import glob\n",
    "import math\n",
    "import os\n",
    "from collections import namedtuple\n",
    "\n",
    "import matplotlib.pyplot as plt\n",
    "from matplotlib import rcParams\n",
    "import numpy as np\n",
    "import pandas as pd\n",
    "import seaborn as sns\n",
    "from scipy import stats as st\n",
    "from sklearn.ensemble import RandomForestRegressor\n",
    "from sklearn.linear_model import LinearRegression, BayesianRidge\n",
    "from sklearn.tree import DecisionTreeRegressor\n",
    "from sklearn.dummy import DummyRegressor\n",
    "from sklearn.metrics import mean_absolute_error, make_scorer\n",
    "from sklearn.model_selection import GridSearchCV "
   ]
  },
  {
   "cell_type": "code",
   "execution_count": 3,
   "metadata": {},
   "outputs": [],
   "source": [
    "STATE = sum(ord(x) for x in 'NEVER SURRENDER')\n",
    "\n",
    "TARGETS = ['rougher.output.recovery', 'final.output.recovery']\n",
    "\n",
    "rcParams['figure.figsize'] = 15,5\n",
    "pd.set_option('max_columns', None)"
   ]
  },
  {
   "cell_type": "markdown",
   "metadata": {},
   "source": [
    "### Загрузка файлов и оценка информации"
   ]
  },
  {
   "cell_type": "markdown",
   "metadata": {},
   "source": [
    "По маске получим имена файлов"
   ]
  },
  {
   "cell_type": "code",
   "execution_count": 4,
   "metadata": {},
   "outputs": [
    {
     "data": {
      "text/plain": [
       "['/datasets/gold_recovery_full_new.csv',\n",
       " '/datasets/gold_recovery_test_new.csv',\n",
       " '/datasets/gold_recovery_train_new.csv']"
      ]
     },
     "execution_count": 4,
     "metadata": {},
     "output_type": "execute_result"
    }
   ],
   "source": [
    "file_names = glob.glob(os.path.join(\"/datasets\", \"gold_recovery*_new.csv\"))\n",
    "file_names"
   ]
  },
  {
   "cell_type": "markdown",
   "metadata": {},
   "source": [
    "и загрузим данные в датафреймы"
   ]
  },
  {
   "cell_type": "code",
   "execution_count": 5,
   "metadata": {},
   "outputs": [],
   "source": [
    "df_train = pd.read_csv(file_names[2], index_col='date')\n",
    "df_test = pd.read_csv(file_names[1], index_col='date')\n",
    "df_full = pd.read_csv(file_names[0], index_col='date')"
   ]
  },
  {
   "cell_type": "markdown",
   "metadata": {},
   "source": [
    "Посмотрим, какая информация содержится в тестовых и тренировочных данных:"
   ]
  },
  {
   "cell_type": "code",
   "execution_count": 1,
   "metadata": {},
   "outputs": [],
   "source": [
    "#df_train.profile_report(minimal=True)"
   ]
  },
  {
   "cell_type": "code",
   "execution_count": 2,
   "metadata": {},
   "outputs": [],
   "source": [
    "#df_test.profile_report(minimal=True)"
   ]
  },
  {
   "cell_type": "markdown",
   "metadata": {},
   "source": [
    "Можно отметить, что\n",
    "- оба датафрейма содержат небольшое количество пропущенных значений (0.3% и <0.1% в тренировочном и тестовом соответственно)\n",
    "- в тестовых данных набор признаков меньше, чем в тренировочных\n",
    "- некоторые из столбцов содержат выделяющиеся нулевые (или околонулевые) значения.\n",
    "- некоторые из столбцов содержат единичные значения, выделяющиеся по знаку из общей массы\n",
    "- все процентные значения корректны\n",
    "\n",
    "\n",
    "- целевые столбцы в обучающей\n",
    "    - пропущенных значений нет\n",
    "    - есть нулевые значения"
   ]
  },
  {
   "cell_type": "markdown",
   "metadata": {},
   "source": [
    "_________________________\n",
    "Посмотрим, в каких случаях появляются нулевые значения в целевых столбцах:"
   ]
  },
  {
   "cell_type": "code",
   "execution_count": 8,
   "metadata": {},
   "outputs": [
    {
     "data": {
      "text/html": [
       "<div>\n",
       "<style scoped>\n",
       "    .dataframe tbody tr th:only-of-type {\n",
       "        vertical-align: middle;\n",
       "    }\n",
       "\n",
       "    .dataframe tbody tr th {\n",
       "        vertical-align: top;\n",
       "    }\n",
       "\n",
       "    .dataframe thead th {\n",
       "        text-align: right;\n",
       "    }\n",
       "</style>\n",
       "<table border=\"1\" class=\"dataframe\">\n",
       "  <thead>\n",
       "    <tr style=\"text-align: right;\">\n",
       "      <th></th>\n",
       "      <th>final.output.concentrate_ag</th>\n",
       "      <th>final.output.concentrate_pb</th>\n",
       "      <th>final.output.concentrate_sol</th>\n",
       "      <th>final.output.concentrate_au</th>\n",
       "      <th>final.output.recovery</th>\n",
       "      <th>final.output.tail_ag</th>\n",
       "      <th>final.output.tail_pb</th>\n",
       "      <th>final.output.tail_sol</th>\n",
       "      <th>final.output.tail_au</th>\n",
       "      <th>primary_cleaner.input.sulfate</th>\n",
       "      <th>primary_cleaner.input.depressant</th>\n",
       "      <th>primary_cleaner.input.feed_size</th>\n",
       "      <th>primary_cleaner.input.xanthate</th>\n",
       "      <th>primary_cleaner.output.concentrate_ag</th>\n",
       "      <th>primary_cleaner.output.concentrate_pb</th>\n",
       "      <th>primary_cleaner.output.concentrate_sol</th>\n",
       "      <th>primary_cleaner.output.concentrate_au</th>\n",
       "      <th>primary_cleaner.output.tail_ag</th>\n",
       "      <th>primary_cleaner.output.tail_pb</th>\n",
       "      <th>primary_cleaner.output.tail_sol</th>\n",
       "      <th>primary_cleaner.output.tail_au</th>\n",
       "      <th>primary_cleaner.state.floatbank8_a_air</th>\n",
       "      <th>primary_cleaner.state.floatbank8_a_level</th>\n",
       "      <th>primary_cleaner.state.floatbank8_b_air</th>\n",
       "      <th>primary_cleaner.state.floatbank8_b_level</th>\n",
       "      <th>primary_cleaner.state.floatbank8_c_air</th>\n",
       "      <th>primary_cleaner.state.floatbank8_c_level</th>\n",
       "      <th>primary_cleaner.state.floatbank8_d_air</th>\n",
       "      <th>primary_cleaner.state.floatbank8_d_level</th>\n",
       "      <th>rougher.calculation.sulfate_to_au_concentrate</th>\n",
       "      <th>rougher.calculation.floatbank10_sulfate_to_au_feed</th>\n",
       "      <th>rougher.calculation.floatbank11_sulfate_to_au_feed</th>\n",
       "      <th>rougher.calculation.au_pb_ratio</th>\n",
       "      <th>rougher.input.feed_ag</th>\n",
       "      <th>rougher.input.feed_pb</th>\n",
       "      <th>rougher.input.feed_rate</th>\n",
       "      <th>rougher.input.feed_size</th>\n",
       "      <th>rougher.input.feed_sol</th>\n",
       "      <th>rougher.input.feed_au</th>\n",
       "      <th>rougher.input.floatbank10_sulfate</th>\n",
       "      <th>rougher.input.floatbank10_xanthate</th>\n",
       "      <th>rougher.input.floatbank11_sulfate</th>\n",
       "      <th>rougher.input.floatbank11_xanthate</th>\n",
       "      <th>rougher.output.concentrate_ag</th>\n",
       "      <th>rougher.output.concentrate_pb</th>\n",
       "      <th>rougher.output.concentrate_sol</th>\n",
       "      <th>rougher.output.concentrate_au</th>\n",
       "      <th>rougher.output.recovery</th>\n",
       "      <th>rougher.output.tail_ag</th>\n",
       "      <th>rougher.output.tail_pb</th>\n",
       "      <th>rougher.output.tail_sol</th>\n",
       "      <th>rougher.output.tail_au</th>\n",
       "      <th>rougher.state.floatbank10_a_air</th>\n",
       "      <th>rougher.state.floatbank10_a_level</th>\n",
       "      <th>rougher.state.floatbank10_b_air</th>\n",
       "      <th>rougher.state.floatbank10_b_level</th>\n",
       "      <th>rougher.state.floatbank10_c_air</th>\n",
       "      <th>rougher.state.floatbank10_c_level</th>\n",
       "      <th>rougher.state.floatbank10_d_air</th>\n",
       "      <th>rougher.state.floatbank10_d_level</th>\n",
       "      <th>rougher.state.floatbank10_e_air</th>\n",
       "      <th>rougher.state.floatbank10_e_level</th>\n",
       "      <th>rougher.state.floatbank10_f_air</th>\n",
       "      <th>rougher.state.floatbank10_f_level</th>\n",
       "      <th>secondary_cleaner.output.tail_ag</th>\n",
       "      <th>secondary_cleaner.output.tail_pb</th>\n",
       "      <th>secondary_cleaner.output.tail_sol</th>\n",
       "      <th>secondary_cleaner.output.tail_au</th>\n",
       "      <th>secondary_cleaner.state.floatbank2_a_air</th>\n",
       "      <th>secondary_cleaner.state.floatbank2_a_level</th>\n",
       "      <th>secondary_cleaner.state.floatbank2_b_air</th>\n",
       "      <th>secondary_cleaner.state.floatbank2_b_level</th>\n",
       "      <th>secondary_cleaner.state.floatbank3_a_air</th>\n",
       "      <th>secondary_cleaner.state.floatbank3_a_level</th>\n",
       "      <th>secondary_cleaner.state.floatbank3_b_air</th>\n",
       "      <th>secondary_cleaner.state.floatbank3_b_level</th>\n",
       "      <th>secondary_cleaner.state.floatbank4_a_air</th>\n",
       "      <th>secondary_cleaner.state.floatbank4_a_level</th>\n",
       "      <th>secondary_cleaner.state.floatbank4_b_air</th>\n",
       "      <th>secondary_cleaner.state.floatbank4_b_level</th>\n",
       "      <th>secondary_cleaner.state.floatbank5_a_air</th>\n",
       "      <th>secondary_cleaner.state.floatbank5_a_level</th>\n",
       "      <th>secondary_cleaner.state.floatbank5_b_air</th>\n",
       "      <th>secondary_cleaner.state.floatbank5_b_level</th>\n",
       "      <th>secondary_cleaner.state.floatbank6_a_air</th>\n",
       "      <th>secondary_cleaner.state.floatbank6_a_level</th>\n",
       "    </tr>\n",
       "    <tr>\n",
       "      <th>date</th>\n",
       "      <th></th>\n",
       "      <th></th>\n",
       "      <th></th>\n",
       "      <th></th>\n",
       "      <th></th>\n",
       "      <th></th>\n",
       "      <th></th>\n",
       "      <th></th>\n",
       "      <th></th>\n",
       "      <th></th>\n",
       "      <th></th>\n",
       "      <th></th>\n",
       "      <th></th>\n",
       "      <th></th>\n",
       "      <th></th>\n",
       "      <th></th>\n",
       "      <th></th>\n",
       "      <th></th>\n",
       "      <th></th>\n",
       "      <th></th>\n",
       "      <th></th>\n",
       "      <th></th>\n",
       "      <th></th>\n",
       "      <th></th>\n",
       "      <th></th>\n",
       "      <th></th>\n",
       "      <th></th>\n",
       "      <th></th>\n",
       "      <th></th>\n",
       "      <th></th>\n",
       "      <th></th>\n",
       "      <th></th>\n",
       "      <th></th>\n",
       "      <th></th>\n",
       "      <th></th>\n",
       "      <th></th>\n",
       "      <th></th>\n",
       "      <th></th>\n",
       "      <th></th>\n",
       "      <th></th>\n",
       "      <th></th>\n",
       "      <th></th>\n",
       "      <th></th>\n",
       "      <th></th>\n",
       "      <th></th>\n",
       "      <th></th>\n",
       "      <th></th>\n",
       "      <th></th>\n",
       "      <th></th>\n",
       "      <th></th>\n",
       "      <th></th>\n",
       "      <th></th>\n",
       "      <th></th>\n",
       "      <th></th>\n",
       "      <th></th>\n",
       "      <th></th>\n",
       "      <th></th>\n",
       "      <th></th>\n",
       "      <th></th>\n",
       "      <th></th>\n",
       "      <th></th>\n",
       "      <th></th>\n",
       "      <th></th>\n",
       "      <th></th>\n",
       "      <th></th>\n",
       "      <th></th>\n",
       "      <th></th>\n",
       "      <th></th>\n",
       "      <th></th>\n",
       "      <th></th>\n",
       "      <th></th>\n",
       "      <th></th>\n",
       "      <th></th>\n",
       "      <th></th>\n",
       "      <th></th>\n",
       "      <th></th>\n",
       "      <th></th>\n",
       "      <th></th>\n",
       "      <th></th>\n",
       "      <th></th>\n",
       "      <th></th>\n",
       "      <th></th>\n",
       "      <th></th>\n",
       "      <th></th>\n",
       "      <th></th>\n",
       "      <th></th>\n",
       "    </tr>\n",
       "  </thead>\n",
       "  <tbody>\n",
       "    <tr>\n",
       "      <th>2016-01-16 21:00:00</th>\n",
       "      <td>4.566664</td>\n",
       "      <td>10.406178</td>\n",
       "      <td>4.588698</td>\n",
       "      <td>46.614456</td>\n",
       "      <td>68.403877</td>\n",
       "      <td>10.705777</td>\n",
       "      <td>1.509070</td>\n",
       "      <td>17.875134</td>\n",
       "      <td>2.509776</td>\n",
       "      <td>131.251366</td>\n",
       "      <td>13.969457</td>\n",
       "      <td>7.25</td>\n",
       "      <td>1.203034</td>\n",
       "      <td>8.513177</td>\n",
       "      <td>9.724797</td>\n",
       "      <td>19.120964</td>\n",
       "      <td>37.633572</td>\n",
       "      <td>16.455383</td>\n",
       "      <td>3.366501</td>\n",
       "      <td>6.864404</td>\n",
       "      <td>3.434734</td>\n",
       "      <td>1601.674776</td>\n",
       "      <td>-500.285160</td>\n",
       "      <td>1600.151967</td>\n",
       "      <td>-499.633542</td>\n",
       "      <td>1599.542959</td>\n",
       "      <td>-499.495721</td>\n",
       "      <td>1599.342687</td>\n",
       "      <td>-500.360306</td>\n",
       "      <td>41359.061159</td>\n",
       "      <td>3196.130244</td>\n",
       "      <td>3205.717062</td>\n",
       "      <td>2.530283</td>\n",
       "      <td>7.521974</td>\n",
       "      <td>2.811569</td>\n",
       "      <td>581.605260</td>\n",
       "      <td>65.620714</td>\n",
       "      <td>41.154430</td>\n",
       "      <td>7.114065</td>\n",
       "      <td>13.322740</td>\n",
       "      <td>7.504592</td>\n",
       "      <td>13.311361</td>\n",
       "      <td>7.493738</td>\n",
       "      <td>0.0</td>\n",
       "      <td>0.0</td>\n",
       "      <td>0.0</td>\n",
       "      <td>0.0</td>\n",
       "      <td>0.0</td>\n",
       "      <td>4.784398</td>\n",
       "      <td>0.818965</td>\n",
       "      <td>20.046797</td>\n",
       "      <td>1.939811</td>\n",
       "      <td>999.026619</td>\n",
       "      <td>-499.850895</td>\n",
       "      <td>1600.614880</td>\n",
       "      <td>-500.331775</td>\n",
       "      <td>1598.654561</td>\n",
       "      <td>-500.364377</td>\n",
       "      <td>1398.394100</td>\n",
       "      <td>-501.540155</td>\n",
       "      <td>1197.182011</td>\n",
       "      <td>-500.205806</td>\n",
       "      <td>1198.542180</td>\n",
       "      <td>-499.648335</td>\n",
       "      <td>13.605154</td>\n",
       "      <td>4.983564</td>\n",
       "      <td>9.545239</td>\n",
       "      <td>3.102137</td>\n",
       "      <td>25.963860</td>\n",
       "      <td>-498.097243</td>\n",
       "      <td>23.896954</td>\n",
       "      <td>-500.047419</td>\n",
       "      <td>24.963926</td>\n",
       "      <td>-500.207267</td>\n",
       "      <td>23.984937</td>\n",
       "      <td>-500.613261</td>\n",
       "      <td>14.025588</td>\n",
       "      <td>-550.404242</td>\n",
       "      <td>12.028925</td>\n",
       "      <td>-550.570104</td>\n",
       "      <td>10.052072</td>\n",
       "      <td>-500.797905</td>\n",
       "      <td>7.984500</td>\n",
       "      <td>-499.581046</td>\n",
       "      <td>11.982025</td>\n",
       "      <td>-599.161228</td>\n",
       "    </tr>\n",
       "    <tr>\n",
       "      <th>2016-01-16 22:00:00</th>\n",
       "      <td>4.577832</td>\n",
       "      <td>10.691605</td>\n",
       "      <td>5.274175</td>\n",
       "      <td>46.250638</td>\n",
       "      <td>70.675633</td>\n",
       "      <td>10.728531</td>\n",
       "      <td>1.641216</td>\n",
       "      <td>18.349339</td>\n",
       "      <td>2.540843</td>\n",
       "      <td>141.184039</td>\n",
       "      <td>13.978607</td>\n",
       "      <td>7.25</td>\n",
       "      <td>1.248254</td>\n",
       "      <td>8.466262</td>\n",
       "      <td>9.780929</td>\n",
       "      <td>19.220963</td>\n",
       "      <td>37.718947</td>\n",
       "      <td>15.517931</td>\n",
       "      <td>3.076929</td>\n",
       "      <td>7.321526</td>\n",
       "      <td>3.102171</td>\n",
       "      <td>1604.852903</td>\n",
       "      <td>-500.922517</td>\n",
       "      <td>1603.005456</td>\n",
       "      <td>-499.631837</td>\n",
       "      <td>1599.307763</td>\n",
       "      <td>-501.200791</td>\n",
       "      <td>1599.437018</td>\n",
       "      <td>-499.307245</td>\n",
       "      <td>41274.202372</td>\n",
       "      <td>3196.955345</td>\n",
       "      <td>3205.146739</td>\n",
       "      <td>2.572943</td>\n",
       "      <td>7.313187</td>\n",
       "      <td>2.973841</td>\n",
       "      <td>562.972841</td>\n",
       "      <td>66.014780</td>\n",
       "      <td>41.983063</td>\n",
       "      <td>7.651522</td>\n",
       "      <td>14.433889</td>\n",
       "      <td>7.583598</td>\n",
       "      <td>14.482716</td>\n",
       "      <td>7.578460</td>\n",
       "      <td>0.0</td>\n",
       "      <td>0.0</td>\n",
       "      <td>0.0</td>\n",
       "      <td>0.0</td>\n",
       "      <td>0.0</td>\n",
       "      <td>4.955785</td>\n",
       "      <td>0.891051</td>\n",
       "      <td>19.633741</td>\n",
       "      <td>2.087628</td>\n",
       "      <td>999.846655</td>\n",
       "      <td>-500.082738</td>\n",
       "      <td>1599.408126</td>\n",
       "      <td>-500.189249</td>\n",
       "      <td>1598.918123</td>\n",
       "      <td>-498.775979</td>\n",
       "      <td>1398.970429</td>\n",
       "      <td>-500.939255</td>\n",
       "      <td>1198.632079</td>\n",
       "      <td>-501.344435</td>\n",
       "      <td>1198.715369</td>\n",
       "      <td>-500.311765</td>\n",
       "      <td>13.130989</td>\n",
       "      <td>5.043644</td>\n",
       "      <td>9.734058</td>\n",
       "      <td>2.920315</td>\n",
       "      <td>25.946448</td>\n",
       "      <td>-502.052990</td>\n",
       "      <td>23.903017</td>\n",
       "      <td>-500.245612</td>\n",
       "      <td>25.029826</td>\n",
       "      <td>-499.896144</td>\n",
       "      <td>23.963950</td>\n",
       "      <td>-499.786821</td>\n",
       "      <td>14.094808</td>\n",
       "      <td>-550.676337</td>\n",
       "      <td>12.004728</td>\n",
       "      <td>-550.496522</td>\n",
       "      <td>9.953139</td>\n",
       "      <td>-500.330920</td>\n",
       "      <td>8.012074</td>\n",
       "      <td>-500.133530</td>\n",
       "      <td>11.975316</td>\n",
       "      <td>-598.839683</td>\n",
       "    </tr>\n",
       "    <tr>\n",
       "      <th>2016-01-16 23:00:00</th>\n",
       "      <td>4.591462</td>\n",
       "      <td>10.628846</td>\n",
       "      <td>5.688961</td>\n",
       "      <td>46.663335</td>\n",
       "      <td>55.088448</td>\n",
       "      <td>10.694584</td>\n",
       "      <td>1.671644</td>\n",
       "      <td>17.910312</td>\n",
       "      <td>2.686782</td>\n",
       "      <td>126.397495</td>\n",
       "      <td>12.709727</td>\n",
       "      <td>7.25</td>\n",
       "      <td>1.229626</td>\n",
       "      <td>8.092185</td>\n",
       "      <td>9.719728</td>\n",
       "      <td>19.077471</td>\n",
       "      <td>38.624404</td>\n",
       "      <td>15.911266</td>\n",
       "      <td>3.269298</td>\n",
       "      <td>7.095597</td>\n",
       "      <td>3.513846</td>\n",
       "      <td>1601.301169</td>\n",
       "      <td>-498.725777</td>\n",
       "      <td>1605.370031</td>\n",
       "      <td>-500.644437</td>\n",
       "      <td>1598.360694</td>\n",
       "      <td>-500.461991</td>\n",
       "      <td>1604.014273</td>\n",
       "      <td>-501.824136</td>\n",
       "      <td>35990.036451</td>\n",
       "      <td>3220.710538</td>\n",
       "      <td>3206.895723</td>\n",
       "      <td>3.168669</td>\n",
       "      <td>7.934791</td>\n",
       "      <td>1.763437</td>\n",
       "      <td>229.379445</td>\n",
       "      <td>40.601032</td>\n",
       "      <td>NaN</td>\n",
       "      <td>5.587750</td>\n",
       "      <td>10.865871</td>\n",
       "      <td>5.648950</td>\n",
       "      <td>10.786929</td>\n",
       "      <td>5.638302</td>\n",
       "      <td>0.0</td>\n",
       "      <td>0.0</td>\n",
       "      <td>0.0</td>\n",
       "      <td>0.0</td>\n",
       "      <td>0.0</td>\n",
       "      <td>4.990718</td>\n",
       "      <td>0.901107</td>\n",
       "      <td>19.096033</td>\n",
       "      <td>2.126460</td>\n",
       "      <td>1003.354806</td>\n",
       "      <td>-501.078303</td>\n",
       "      <td>1603.648910</td>\n",
       "      <td>-498.000810</td>\n",
       "      <td>1603.488420</td>\n",
       "      <td>-495.577057</td>\n",
       "      <td>1402.004381</td>\n",
       "      <td>-497.117094</td>\n",
       "      <td>1203.394353</td>\n",
       "      <td>-494.391170</td>\n",
       "      <td>1202.592202</td>\n",
       "      <td>-500.167701</td>\n",
       "      <td>13.648648</td>\n",
       "      <td>5.146849</td>\n",
       "      <td>9.601115</td>\n",
       "      <td>3.108674</td>\n",
       "      <td>26.069763</td>\n",
       "      <td>-502.180953</td>\n",
       "      <td>24.044256</td>\n",
       "      <td>-502.252420</td>\n",
       "      <td>25.024571</td>\n",
       "      <td>-499.417407</td>\n",
       "      <td>23.983086</td>\n",
       "      <td>-499.931140</td>\n",
       "      <td>13.997488</td>\n",
       "      <td>-551.224653</td>\n",
       "      <td>11.971272</td>\n",
       "      <td>-550.095619</td>\n",
       "      <td>9.981163</td>\n",
       "      <td>-502.869109</td>\n",
       "      <td>7.941184</td>\n",
       "      <td>-500.623610</td>\n",
       "      <td>12.018837</td>\n",
       "      <td>-600.916665</td>\n",
       "    </tr>\n",
       "  </tbody>\n",
       "</table>\n",
       "</div>"
      ],
      "text/plain": [
       "                     final.output.concentrate_ag  final.output.concentrate_pb  \\\n",
       "date                                                                            \n",
       "2016-01-16 21:00:00                     4.566664                    10.406178   \n",
       "2016-01-16 22:00:00                     4.577832                    10.691605   \n",
       "2016-01-16 23:00:00                     4.591462                    10.628846   \n",
       "\n",
       "                     final.output.concentrate_sol  \\\n",
       "date                                                \n",
       "2016-01-16 21:00:00                      4.588698   \n",
       "2016-01-16 22:00:00                      5.274175   \n",
       "2016-01-16 23:00:00                      5.688961   \n",
       "\n",
       "                     final.output.concentrate_au  final.output.recovery  \\\n",
       "date                                                                      \n",
       "2016-01-16 21:00:00                    46.614456              68.403877   \n",
       "2016-01-16 22:00:00                    46.250638              70.675633   \n",
       "2016-01-16 23:00:00                    46.663335              55.088448   \n",
       "\n",
       "                     final.output.tail_ag  final.output.tail_pb  \\\n",
       "date                                                              \n",
       "2016-01-16 21:00:00             10.705777              1.509070   \n",
       "2016-01-16 22:00:00             10.728531              1.641216   \n",
       "2016-01-16 23:00:00             10.694584              1.671644   \n",
       "\n",
       "                     final.output.tail_sol  final.output.tail_au  \\\n",
       "date                                                               \n",
       "2016-01-16 21:00:00              17.875134              2.509776   \n",
       "2016-01-16 22:00:00              18.349339              2.540843   \n",
       "2016-01-16 23:00:00              17.910312              2.686782   \n",
       "\n",
       "                     primary_cleaner.input.sulfate  \\\n",
       "date                                                 \n",
       "2016-01-16 21:00:00                     131.251366   \n",
       "2016-01-16 22:00:00                     141.184039   \n",
       "2016-01-16 23:00:00                     126.397495   \n",
       "\n",
       "                     primary_cleaner.input.depressant  \\\n",
       "date                                                    \n",
       "2016-01-16 21:00:00                         13.969457   \n",
       "2016-01-16 22:00:00                         13.978607   \n",
       "2016-01-16 23:00:00                         12.709727   \n",
       "\n",
       "                     primary_cleaner.input.feed_size  \\\n",
       "date                                                   \n",
       "2016-01-16 21:00:00                             7.25   \n",
       "2016-01-16 22:00:00                             7.25   \n",
       "2016-01-16 23:00:00                             7.25   \n",
       "\n",
       "                     primary_cleaner.input.xanthate  \\\n",
       "date                                                  \n",
       "2016-01-16 21:00:00                        1.203034   \n",
       "2016-01-16 22:00:00                        1.248254   \n",
       "2016-01-16 23:00:00                        1.229626   \n",
       "\n",
       "                     primary_cleaner.output.concentrate_ag  \\\n",
       "date                                                         \n",
       "2016-01-16 21:00:00                               8.513177   \n",
       "2016-01-16 22:00:00                               8.466262   \n",
       "2016-01-16 23:00:00                               8.092185   \n",
       "\n",
       "                     primary_cleaner.output.concentrate_pb  \\\n",
       "date                                                         \n",
       "2016-01-16 21:00:00                               9.724797   \n",
       "2016-01-16 22:00:00                               9.780929   \n",
       "2016-01-16 23:00:00                               9.719728   \n",
       "\n",
       "                     primary_cleaner.output.concentrate_sol  \\\n",
       "date                                                          \n",
       "2016-01-16 21:00:00                               19.120964   \n",
       "2016-01-16 22:00:00                               19.220963   \n",
       "2016-01-16 23:00:00                               19.077471   \n",
       "\n",
       "                     primary_cleaner.output.concentrate_au  \\\n",
       "date                                                         \n",
       "2016-01-16 21:00:00                              37.633572   \n",
       "2016-01-16 22:00:00                              37.718947   \n",
       "2016-01-16 23:00:00                              38.624404   \n",
       "\n",
       "                     primary_cleaner.output.tail_ag  \\\n",
       "date                                                  \n",
       "2016-01-16 21:00:00                       16.455383   \n",
       "2016-01-16 22:00:00                       15.517931   \n",
       "2016-01-16 23:00:00                       15.911266   \n",
       "\n",
       "                     primary_cleaner.output.tail_pb  \\\n",
       "date                                                  \n",
       "2016-01-16 21:00:00                        3.366501   \n",
       "2016-01-16 22:00:00                        3.076929   \n",
       "2016-01-16 23:00:00                        3.269298   \n",
       "\n",
       "                     primary_cleaner.output.tail_sol  \\\n",
       "date                                                   \n",
       "2016-01-16 21:00:00                         6.864404   \n",
       "2016-01-16 22:00:00                         7.321526   \n",
       "2016-01-16 23:00:00                         7.095597   \n",
       "\n",
       "                     primary_cleaner.output.tail_au  \\\n",
       "date                                                  \n",
       "2016-01-16 21:00:00                        3.434734   \n",
       "2016-01-16 22:00:00                        3.102171   \n",
       "2016-01-16 23:00:00                        3.513846   \n",
       "\n",
       "                     primary_cleaner.state.floatbank8_a_air  \\\n",
       "date                                                          \n",
       "2016-01-16 21:00:00                             1601.674776   \n",
       "2016-01-16 22:00:00                             1604.852903   \n",
       "2016-01-16 23:00:00                             1601.301169   \n",
       "\n",
       "                     primary_cleaner.state.floatbank8_a_level  \\\n",
       "date                                                            \n",
       "2016-01-16 21:00:00                               -500.285160   \n",
       "2016-01-16 22:00:00                               -500.922517   \n",
       "2016-01-16 23:00:00                               -498.725777   \n",
       "\n",
       "                     primary_cleaner.state.floatbank8_b_air  \\\n",
       "date                                                          \n",
       "2016-01-16 21:00:00                             1600.151967   \n",
       "2016-01-16 22:00:00                             1603.005456   \n",
       "2016-01-16 23:00:00                             1605.370031   \n",
       "\n",
       "                     primary_cleaner.state.floatbank8_b_level  \\\n",
       "date                                                            \n",
       "2016-01-16 21:00:00                               -499.633542   \n",
       "2016-01-16 22:00:00                               -499.631837   \n",
       "2016-01-16 23:00:00                               -500.644437   \n",
       "\n",
       "                     primary_cleaner.state.floatbank8_c_air  \\\n",
       "date                                                          \n",
       "2016-01-16 21:00:00                             1599.542959   \n",
       "2016-01-16 22:00:00                             1599.307763   \n",
       "2016-01-16 23:00:00                             1598.360694   \n",
       "\n",
       "                     primary_cleaner.state.floatbank8_c_level  \\\n",
       "date                                                            \n",
       "2016-01-16 21:00:00                               -499.495721   \n",
       "2016-01-16 22:00:00                               -501.200791   \n",
       "2016-01-16 23:00:00                               -500.461991   \n",
       "\n",
       "                     primary_cleaner.state.floatbank8_d_air  \\\n",
       "date                                                          \n",
       "2016-01-16 21:00:00                             1599.342687   \n",
       "2016-01-16 22:00:00                             1599.437018   \n",
       "2016-01-16 23:00:00                             1604.014273   \n",
       "\n",
       "                     primary_cleaner.state.floatbank8_d_level  \\\n",
       "date                                                            \n",
       "2016-01-16 21:00:00                               -500.360306   \n",
       "2016-01-16 22:00:00                               -499.307245   \n",
       "2016-01-16 23:00:00                               -501.824136   \n",
       "\n",
       "                     rougher.calculation.sulfate_to_au_concentrate  \\\n",
       "date                                                                 \n",
       "2016-01-16 21:00:00                                   41359.061159   \n",
       "2016-01-16 22:00:00                                   41274.202372   \n",
       "2016-01-16 23:00:00                                   35990.036451   \n",
       "\n",
       "                     rougher.calculation.floatbank10_sulfate_to_au_feed  \\\n",
       "date                                                                      \n",
       "2016-01-16 21:00:00                                        3196.130244    \n",
       "2016-01-16 22:00:00                                        3196.955345    \n",
       "2016-01-16 23:00:00                                        3220.710538    \n",
       "\n",
       "                     rougher.calculation.floatbank11_sulfate_to_au_feed  \\\n",
       "date                                                                      \n",
       "2016-01-16 21:00:00                                        3205.717062    \n",
       "2016-01-16 22:00:00                                        3205.146739    \n",
       "2016-01-16 23:00:00                                        3206.895723    \n",
       "\n",
       "                     rougher.calculation.au_pb_ratio  rougher.input.feed_ag  \\\n",
       "date                                                                          \n",
       "2016-01-16 21:00:00                         2.530283               7.521974   \n",
       "2016-01-16 22:00:00                         2.572943               7.313187   \n",
       "2016-01-16 23:00:00                         3.168669               7.934791   \n",
       "\n",
       "                     rougher.input.feed_pb  rougher.input.feed_rate  \\\n",
       "date                                                                  \n",
       "2016-01-16 21:00:00               2.811569               581.605260   \n",
       "2016-01-16 22:00:00               2.973841               562.972841   \n",
       "2016-01-16 23:00:00               1.763437               229.379445   \n",
       "\n",
       "                     rougher.input.feed_size  rougher.input.feed_sol  \\\n",
       "date                                                                   \n",
       "2016-01-16 21:00:00                65.620714               41.154430   \n",
       "2016-01-16 22:00:00                66.014780               41.983063   \n",
       "2016-01-16 23:00:00                40.601032                     NaN   \n",
       "\n",
       "                     rougher.input.feed_au  rougher.input.floatbank10_sulfate  \\\n",
       "date                                                                            \n",
       "2016-01-16 21:00:00               7.114065                          13.322740   \n",
       "2016-01-16 22:00:00               7.651522                          14.433889   \n",
       "2016-01-16 23:00:00               5.587750                          10.865871   \n",
       "\n",
       "                     rougher.input.floatbank10_xanthate  \\\n",
       "date                                                      \n",
       "2016-01-16 21:00:00                            7.504592   \n",
       "2016-01-16 22:00:00                            7.583598   \n",
       "2016-01-16 23:00:00                            5.648950   \n",
       "\n",
       "                     rougher.input.floatbank11_sulfate  \\\n",
       "date                                                     \n",
       "2016-01-16 21:00:00                          13.311361   \n",
       "2016-01-16 22:00:00                          14.482716   \n",
       "2016-01-16 23:00:00                          10.786929   \n",
       "\n",
       "                     rougher.input.floatbank11_xanthate  \\\n",
       "date                                                      \n",
       "2016-01-16 21:00:00                            7.493738   \n",
       "2016-01-16 22:00:00                            7.578460   \n",
       "2016-01-16 23:00:00                            5.638302   \n",
       "\n",
       "                     rougher.output.concentrate_ag  \\\n",
       "date                                                 \n",
       "2016-01-16 21:00:00                            0.0   \n",
       "2016-01-16 22:00:00                            0.0   \n",
       "2016-01-16 23:00:00                            0.0   \n",
       "\n",
       "                     rougher.output.concentrate_pb  \\\n",
       "date                                                 \n",
       "2016-01-16 21:00:00                            0.0   \n",
       "2016-01-16 22:00:00                            0.0   \n",
       "2016-01-16 23:00:00                            0.0   \n",
       "\n",
       "                     rougher.output.concentrate_sol  \\\n",
       "date                                                  \n",
       "2016-01-16 21:00:00                             0.0   \n",
       "2016-01-16 22:00:00                             0.0   \n",
       "2016-01-16 23:00:00                             0.0   \n",
       "\n",
       "                     rougher.output.concentrate_au  rougher.output.recovery  \\\n",
       "date                                                                          \n",
       "2016-01-16 21:00:00                            0.0                      0.0   \n",
       "2016-01-16 22:00:00                            0.0                      0.0   \n",
       "2016-01-16 23:00:00                            0.0                      0.0   \n",
       "\n",
       "                     rougher.output.tail_ag  rougher.output.tail_pb  \\\n",
       "date                                                                  \n",
       "2016-01-16 21:00:00                4.784398                0.818965   \n",
       "2016-01-16 22:00:00                4.955785                0.891051   \n",
       "2016-01-16 23:00:00                4.990718                0.901107   \n",
       "\n",
       "                     rougher.output.tail_sol  rougher.output.tail_au  \\\n",
       "date                                                                   \n",
       "2016-01-16 21:00:00                20.046797                1.939811   \n",
       "2016-01-16 22:00:00                19.633741                2.087628   \n",
       "2016-01-16 23:00:00                19.096033                2.126460   \n",
       "\n",
       "                     rougher.state.floatbank10_a_air  \\\n",
       "date                                                   \n",
       "2016-01-16 21:00:00                       999.026619   \n",
       "2016-01-16 22:00:00                       999.846655   \n",
       "2016-01-16 23:00:00                      1003.354806   \n",
       "\n",
       "                     rougher.state.floatbank10_a_level  \\\n",
       "date                                                     \n",
       "2016-01-16 21:00:00                        -499.850895   \n",
       "2016-01-16 22:00:00                        -500.082738   \n",
       "2016-01-16 23:00:00                        -501.078303   \n",
       "\n",
       "                     rougher.state.floatbank10_b_air  \\\n",
       "date                                                   \n",
       "2016-01-16 21:00:00                      1600.614880   \n",
       "2016-01-16 22:00:00                      1599.408126   \n",
       "2016-01-16 23:00:00                      1603.648910   \n",
       "\n",
       "                     rougher.state.floatbank10_b_level  \\\n",
       "date                                                     \n",
       "2016-01-16 21:00:00                        -500.331775   \n",
       "2016-01-16 22:00:00                        -500.189249   \n",
       "2016-01-16 23:00:00                        -498.000810   \n",
       "\n",
       "                     rougher.state.floatbank10_c_air  \\\n",
       "date                                                   \n",
       "2016-01-16 21:00:00                      1598.654561   \n",
       "2016-01-16 22:00:00                      1598.918123   \n",
       "2016-01-16 23:00:00                      1603.488420   \n",
       "\n",
       "                     rougher.state.floatbank10_c_level  \\\n",
       "date                                                     \n",
       "2016-01-16 21:00:00                        -500.364377   \n",
       "2016-01-16 22:00:00                        -498.775979   \n",
       "2016-01-16 23:00:00                        -495.577057   \n",
       "\n",
       "                     rougher.state.floatbank10_d_air  \\\n",
       "date                                                   \n",
       "2016-01-16 21:00:00                      1398.394100   \n",
       "2016-01-16 22:00:00                      1398.970429   \n",
       "2016-01-16 23:00:00                      1402.004381   \n",
       "\n",
       "                     rougher.state.floatbank10_d_level  \\\n",
       "date                                                     \n",
       "2016-01-16 21:00:00                        -501.540155   \n",
       "2016-01-16 22:00:00                        -500.939255   \n",
       "2016-01-16 23:00:00                        -497.117094   \n",
       "\n",
       "                     rougher.state.floatbank10_e_air  \\\n",
       "date                                                   \n",
       "2016-01-16 21:00:00                      1197.182011   \n",
       "2016-01-16 22:00:00                      1198.632079   \n",
       "2016-01-16 23:00:00                      1203.394353   \n",
       "\n",
       "                     rougher.state.floatbank10_e_level  \\\n",
       "date                                                     \n",
       "2016-01-16 21:00:00                        -500.205806   \n",
       "2016-01-16 22:00:00                        -501.344435   \n",
       "2016-01-16 23:00:00                        -494.391170   \n",
       "\n",
       "                     rougher.state.floatbank10_f_air  \\\n",
       "date                                                   \n",
       "2016-01-16 21:00:00                      1198.542180   \n",
       "2016-01-16 22:00:00                      1198.715369   \n",
       "2016-01-16 23:00:00                      1202.592202   \n",
       "\n",
       "                     rougher.state.floatbank10_f_level  \\\n",
       "date                                                     \n",
       "2016-01-16 21:00:00                        -499.648335   \n",
       "2016-01-16 22:00:00                        -500.311765   \n",
       "2016-01-16 23:00:00                        -500.167701   \n",
       "\n",
       "                     secondary_cleaner.output.tail_ag  \\\n",
       "date                                                    \n",
       "2016-01-16 21:00:00                         13.605154   \n",
       "2016-01-16 22:00:00                         13.130989   \n",
       "2016-01-16 23:00:00                         13.648648   \n",
       "\n",
       "                     secondary_cleaner.output.tail_pb  \\\n",
       "date                                                    \n",
       "2016-01-16 21:00:00                          4.983564   \n",
       "2016-01-16 22:00:00                          5.043644   \n",
       "2016-01-16 23:00:00                          5.146849   \n",
       "\n",
       "                     secondary_cleaner.output.tail_sol  \\\n",
       "date                                                     \n",
       "2016-01-16 21:00:00                           9.545239   \n",
       "2016-01-16 22:00:00                           9.734058   \n",
       "2016-01-16 23:00:00                           9.601115   \n",
       "\n",
       "                     secondary_cleaner.output.tail_au  \\\n",
       "date                                                    \n",
       "2016-01-16 21:00:00                          3.102137   \n",
       "2016-01-16 22:00:00                          2.920315   \n",
       "2016-01-16 23:00:00                          3.108674   \n",
       "\n",
       "                     secondary_cleaner.state.floatbank2_a_air  \\\n",
       "date                                                            \n",
       "2016-01-16 21:00:00                                 25.963860   \n",
       "2016-01-16 22:00:00                                 25.946448   \n",
       "2016-01-16 23:00:00                                 26.069763   \n",
       "\n",
       "                     secondary_cleaner.state.floatbank2_a_level  \\\n",
       "date                                                              \n",
       "2016-01-16 21:00:00                                 -498.097243   \n",
       "2016-01-16 22:00:00                                 -502.052990   \n",
       "2016-01-16 23:00:00                                 -502.180953   \n",
       "\n",
       "                     secondary_cleaner.state.floatbank2_b_air  \\\n",
       "date                                                            \n",
       "2016-01-16 21:00:00                                 23.896954   \n",
       "2016-01-16 22:00:00                                 23.903017   \n",
       "2016-01-16 23:00:00                                 24.044256   \n",
       "\n",
       "                     secondary_cleaner.state.floatbank2_b_level  \\\n",
       "date                                                              \n",
       "2016-01-16 21:00:00                                 -500.047419   \n",
       "2016-01-16 22:00:00                                 -500.245612   \n",
       "2016-01-16 23:00:00                                 -502.252420   \n",
       "\n",
       "                     secondary_cleaner.state.floatbank3_a_air  \\\n",
       "date                                                            \n",
       "2016-01-16 21:00:00                                 24.963926   \n",
       "2016-01-16 22:00:00                                 25.029826   \n",
       "2016-01-16 23:00:00                                 25.024571   \n",
       "\n",
       "                     secondary_cleaner.state.floatbank3_a_level  \\\n",
       "date                                                              \n",
       "2016-01-16 21:00:00                                 -500.207267   \n",
       "2016-01-16 22:00:00                                 -499.896144   \n",
       "2016-01-16 23:00:00                                 -499.417407   \n",
       "\n",
       "                     secondary_cleaner.state.floatbank3_b_air  \\\n",
       "date                                                            \n",
       "2016-01-16 21:00:00                                 23.984937   \n",
       "2016-01-16 22:00:00                                 23.963950   \n",
       "2016-01-16 23:00:00                                 23.983086   \n",
       "\n",
       "                     secondary_cleaner.state.floatbank3_b_level  \\\n",
       "date                                                              \n",
       "2016-01-16 21:00:00                                 -500.613261   \n",
       "2016-01-16 22:00:00                                 -499.786821   \n",
       "2016-01-16 23:00:00                                 -499.931140   \n",
       "\n",
       "                     secondary_cleaner.state.floatbank4_a_air  \\\n",
       "date                                                            \n",
       "2016-01-16 21:00:00                                 14.025588   \n",
       "2016-01-16 22:00:00                                 14.094808   \n",
       "2016-01-16 23:00:00                                 13.997488   \n",
       "\n",
       "                     secondary_cleaner.state.floatbank4_a_level  \\\n",
       "date                                                              \n",
       "2016-01-16 21:00:00                                 -550.404242   \n",
       "2016-01-16 22:00:00                                 -550.676337   \n",
       "2016-01-16 23:00:00                                 -551.224653   \n",
       "\n",
       "                     secondary_cleaner.state.floatbank4_b_air  \\\n",
       "date                                                            \n",
       "2016-01-16 21:00:00                                 12.028925   \n",
       "2016-01-16 22:00:00                                 12.004728   \n",
       "2016-01-16 23:00:00                                 11.971272   \n",
       "\n",
       "                     secondary_cleaner.state.floatbank4_b_level  \\\n",
       "date                                                              \n",
       "2016-01-16 21:00:00                                 -550.570104   \n",
       "2016-01-16 22:00:00                                 -550.496522   \n",
       "2016-01-16 23:00:00                                 -550.095619   \n",
       "\n",
       "                     secondary_cleaner.state.floatbank5_a_air  \\\n",
       "date                                                            \n",
       "2016-01-16 21:00:00                                 10.052072   \n",
       "2016-01-16 22:00:00                                  9.953139   \n",
       "2016-01-16 23:00:00                                  9.981163   \n",
       "\n",
       "                     secondary_cleaner.state.floatbank5_a_level  \\\n",
       "date                                                              \n",
       "2016-01-16 21:00:00                                 -500.797905   \n",
       "2016-01-16 22:00:00                                 -500.330920   \n",
       "2016-01-16 23:00:00                                 -502.869109   \n",
       "\n",
       "                     secondary_cleaner.state.floatbank5_b_air  \\\n",
       "date                                                            \n",
       "2016-01-16 21:00:00                                  7.984500   \n",
       "2016-01-16 22:00:00                                  8.012074   \n",
       "2016-01-16 23:00:00                                  7.941184   \n",
       "\n",
       "                     secondary_cleaner.state.floatbank5_b_level  \\\n",
       "date                                                              \n",
       "2016-01-16 21:00:00                                 -499.581046   \n",
       "2016-01-16 22:00:00                                 -500.133530   \n",
       "2016-01-16 23:00:00                                 -500.623610   \n",
       "\n",
       "                     secondary_cleaner.state.floatbank6_a_air  \\\n",
       "date                                                            \n",
       "2016-01-16 21:00:00                                 11.982025   \n",
       "2016-01-16 22:00:00                                 11.975316   \n",
       "2016-01-16 23:00:00                                 12.018837   \n",
       "\n",
       "                     secondary_cleaner.state.floatbank6_a_level  \n",
       "date                                                             \n",
       "2016-01-16 21:00:00                                 -599.161228  \n",
       "2016-01-16 22:00:00                                 -598.839683  \n",
       "2016-01-16 23:00:00                                 -600.916665  "
      ]
     },
     "execution_count": 8,
     "metadata": {},
     "output_type": "execute_result"
    }
   ],
   "source": [
    "df_train[df_train[TARGETS[0]] == 0].head(3)"
   ]
  },
  {
   "cell_type": "code",
   "execution_count": 9,
   "metadata": {},
   "outputs": [
    {
     "data": {
      "text/html": [
       "<div>\n",
       "<style scoped>\n",
       "    .dataframe tbody tr th:only-of-type {\n",
       "        vertical-align: middle;\n",
       "    }\n",
       "\n",
       "    .dataframe tbody tr th {\n",
       "        vertical-align: top;\n",
       "    }\n",
       "\n",
       "    .dataframe thead th {\n",
       "        text-align: right;\n",
       "    }\n",
       "</style>\n",
       "<table border=\"1\" class=\"dataframe\">\n",
       "  <thead>\n",
       "    <tr style=\"text-align: right;\">\n",
       "      <th></th>\n",
       "      <th>final.output.concentrate_ag</th>\n",
       "      <th>final.output.concentrate_pb</th>\n",
       "      <th>final.output.concentrate_sol</th>\n",
       "      <th>final.output.concentrate_au</th>\n",
       "      <th>final.output.recovery</th>\n",
       "      <th>final.output.tail_ag</th>\n",
       "      <th>final.output.tail_pb</th>\n",
       "      <th>final.output.tail_sol</th>\n",
       "      <th>final.output.tail_au</th>\n",
       "      <th>primary_cleaner.input.sulfate</th>\n",
       "      <th>primary_cleaner.input.depressant</th>\n",
       "      <th>primary_cleaner.input.feed_size</th>\n",
       "      <th>primary_cleaner.input.xanthate</th>\n",
       "      <th>primary_cleaner.output.concentrate_ag</th>\n",
       "      <th>primary_cleaner.output.concentrate_pb</th>\n",
       "      <th>primary_cleaner.output.concentrate_sol</th>\n",
       "      <th>primary_cleaner.output.concentrate_au</th>\n",
       "      <th>primary_cleaner.output.tail_ag</th>\n",
       "      <th>primary_cleaner.output.tail_pb</th>\n",
       "      <th>primary_cleaner.output.tail_sol</th>\n",
       "      <th>primary_cleaner.output.tail_au</th>\n",
       "      <th>primary_cleaner.state.floatbank8_a_air</th>\n",
       "      <th>primary_cleaner.state.floatbank8_a_level</th>\n",
       "      <th>primary_cleaner.state.floatbank8_b_air</th>\n",
       "      <th>primary_cleaner.state.floatbank8_b_level</th>\n",
       "      <th>primary_cleaner.state.floatbank8_c_air</th>\n",
       "      <th>primary_cleaner.state.floatbank8_c_level</th>\n",
       "      <th>primary_cleaner.state.floatbank8_d_air</th>\n",
       "      <th>primary_cleaner.state.floatbank8_d_level</th>\n",
       "      <th>rougher.calculation.sulfate_to_au_concentrate</th>\n",
       "      <th>rougher.calculation.floatbank10_sulfate_to_au_feed</th>\n",
       "      <th>rougher.calculation.floatbank11_sulfate_to_au_feed</th>\n",
       "      <th>rougher.calculation.au_pb_ratio</th>\n",
       "      <th>rougher.input.feed_ag</th>\n",
       "      <th>rougher.input.feed_pb</th>\n",
       "      <th>rougher.input.feed_rate</th>\n",
       "      <th>rougher.input.feed_size</th>\n",
       "      <th>rougher.input.feed_sol</th>\n",
       "      <th>rougher.input.feed_au</th>\n",
       "      <th>rougher.input.floatbank10_sulfate</th>\n",
       "      <th>rougher.input.floatbank10_xanthate</th>\n",
       "      <th>rougher.input.floatbank11_sulfate</th>\n",
       "      <th>rougher.input.floatbank11_xanthate</th>\n",
       "      <th>rougher.output.concentrate_ag</th>\n",
       "      <th>rougher.output.concentrate_pb</th>\n",
       "      <th>rougher.output.concentrate_sol</th>\n",
       "      <th>rougher.output.concentrate_au</th>\n",
       "      <th>rougher.output.recovery</th>\n",
       "      <th>rougher.output.tail_ag</th>\n",
       "      <th>rougher.output.tail_pb</th>\n",
       "      <th>rougher.output.tail_sol</th>\n",
       "      <th>rougher.output.tail_au</th>\n",
       "      <th>rougher.state.floatbank10_a_air</th>\n",
       "      <th>rougher.state.floatbank10_a_level</th>\n",
       "      <th>rougher.state.floatbank10_b_air</th>\n",
       "      <th>rougher.state.floatbank10_b_level</th>\n",
       "      <th>rougher.state.floatbank10_c_air</th>\n",
       "      <th>rougher.state.floatbank10_c_level</th>\n",
       "      <th>rougher.state.floatbank10_d_air</th>\n",
       "      <th>rougher.state.floatbank10_d_level</th>\n",
       "      <th>rougher.state.floatbank10_e_air</th>\n",
       "      <th>rougher.state.floatbank10_e_level</th>\n",
       "      <th>rougher.state.floatbank10_f_air</th>\n",
       "      <th>rougher.state.floatbank10_f_level</th>\n",
       "      <th>secondary_cleaner.output.tail_ag</th>\n",
       "      <th>secondary_cleaner.output.tail_pb</th>\n",
       "      <th>secondary_cleaner.output.tail_sol</th>\n",
       "      <th>secondary_cleaner.output.tail_au</th>\n",
       "      <th>secondary_cleaner.state.floatbank2_a_air</th>\n",
       "      <th>secondary_cleaner.state.floatbank2_a_level</th>\n",
       "      <th>secondary_cleaner.state.floatbank2_b_air</th>\n",
       "      <th>secondary_cleaner.state.floatbank2_b_level</th>\n",
       "      <th>secondary_cleaner.state.floatbank3_a_air</th>\n",
       "      <th>secondary_cleaner.state.floatbank3_a_level</th>\n",
       "      <th>secondary_cleaner.state.floatbank3_b_air</th>\n",
       "      <th>secondary_cleaner.state.floatbank3_b_level</th>\n",
       "      <th>secondary_cleaner.state.floatbank4_a_air</th>\n",
       "      <th>secondary_cleaner.state.floatbank4_a_level</th>\n",
       "      <th>secondary_cleaner.state.floatbank4_b_air</th>\n",
       "      <th>secondary_cleaner.state.floatbank4_b_level</th>\n",
       "      <th>secondary_cleaner.state.floatbank5_a_air</th>\n",
       "      <th>secondary_cleaner.state.floatbank5_a_level</th>\n",
       "      <th>secondary_cleaner.state.floatbank5_b_air</th>\n",
       "      <th>secondary_cleaner.state.floatbank5_b_level</th>\n",
       "      <th>secondary_cleaner.state.floatbank6_a_air</th>\n",
       "      <th>secondary_cleaner.state.floatbank6_a_level</th>\n",
       "    </tr>\n",
       "    <tr>\n",
       "      <th>date</th>\n",
       "      <th></th>\n",
       "      <th></th>\n",
       "      <th></th>\n",
       "      <th></th>\n",
       "      <th></th>\n",
       "      <th></th>\n",
       "      <th></th>\n",
       "      <th></th>\n",
       "      <th></th>\n",
       "      <th></th>\n",
       "      <th></th>\n",
       "      <th></th>\n",
       "      <th></th>\n",
       "      <th></th>\n",
       "      <th></th>\n",
       "      <th></th>\n",
       "      <th></th>\n",
       "      <th></th>\n",
       "      <th></th>\n",
       "      <th></th>\n",
       "      <th></th>\n",
       "      <th></th>\n",
       "      <th></th>\n",
       "      <th></th>\n",
       "      <th></th>\n",
       "      <th></th>\n",
       "      <th></th>\n",
       "      <th></th>\n",
       "      <th></th>\n",
       "      <th></th>\n",
       "      <th></th>\n",
       "      <th></th>\n",
       "      <th></th>\n",
       "      <th></th>\n",
       "      <th></th>\n",
       "      <th></th>\n",
       "      <th></th>\n",
       "      <th></th>\n",
       "      <th></th>\n",
       "      <th></th>\n",
       "      <th></th>\n",
       "      <th></th>\n",
       "      <th></th>\n",
       "      <th></th>\n",
       "      <th></th>\n",
       "      <th></th>\n",
       "      <th></th>\n",
       "      <th></th>\n",
       "      <th></th>\n",
       "      <th></th>\n",
       "      <th></th>\n",
       "      <th></th>\n",
       "      <th></th>\n",
       "      <th></th>\n",
       "      <th></th>\n",
       "      <th></th>\n",
       "      <th></th>\n",
       "      <th></th>\n",
       "      <th></th>\n",
       "      <th></th>\n",
       "      <th></th>\n",
       "      <th></th>\n",
       "      <th></th>\n",
       "      <th></th>\n",
       "      <th></th>\n",
       "      <th></th>\n",
       "      <th></th>\n",
       "      <th></th>\n",
       "      <th></th>\n",
       "      <th></th>\n",
       "      <th></th>\n",
       "      <th></th>\n",
       "      <th></th>\n",
       "      <th></th>\n",
       "      <th></th>\n",
       "      <th></th>\n",
       "      <th></th>\n",
       "      <th></th>\n",
       "      <th></th>\n",
       "      <th></th>\n",
       "      <th></th>\n",
       "      <th></th>\n",
       "      <th></th>\n",
       "      <th></th>\n",
       "      <th></th>\n",
       "      <th></th>\n",
       "    </tr>\n",
       "  </thead>\n",
       "  <tbody>\n",
       "    <tr>\n",
       "      <th>2016-02-13 11:00:00</th>\n",
       "      <td>0.0</td>\n",
       "      <td>0.0</td>\n",
       "      <td>0.0</td>\n",
       "      <td>0.0</td>\n",
       "      <td>0.0</td>\n",
       "      <td>8.894029</td>\n",
       "      <td>0.843584</td>\n",
       "      <td>15.417342</td>\n",
       "      <td>1.779052</td>\n",
       "      <td>133.610147</td>\n",
       "      <td>14.032789</td>\n",
       "      <td>7.32</td>\n",
       "      <td>1.550190</td>\n",
       "      <td>8.986696</td>\n",
       "      <td>6.530607</td>\n",
       "      <td>11.969464</td>\n",
       "      <td>26.238846</td>\n",
       "      <td>13.854131</td>\n",
       "      <td>2.156414</td>\n",
       "      <td>8.174442</td>\n",
       "      <td>1.965728</td>\n",
       "      <td>1800.648807</td>\n",
       "      <td>-349.517991</td>\n",
       "      <td>1799.347332</td>\n",
       "      <td>-350.925554</td>\n",
       "      <td>1798.833149</td>\n",
       "      <td>-349.609813</td>\n",
       "      <td>1456.714168</td>\n",
       "      <td>-350.518404</td>\n",
       "      <td>45778.313924</td>\n",
       "      <td>2952.203313</td>\n",
       "      <td>2943.136954</td>\n",
       "      <td>2.894754</td>\n",
       "      <td>7.407737</td>\n",
       "      <td>1.934178</td>\n",
       "      <td>500.087438</td>\n",
       "      <td>51.965198</td>\n",
       "      <td>31.762853</td>\n",
       "      <td>5.598971</td>\n",
       "      <td>10.251319</td>\n",
       "      <td>6.620908</td>\n",
       "      <td>10.259054</td>\n",
       "      <td>6.620118</td>\n",
       "      <td>11.803589</td>\n",
       "      <td>7.143475</td>\n",
       "      <td>21.692525</td>\n",
       "      <td>15.935190</td>\n",
       "      <td>68.960993</td>\n",
       "      <td>5.114923</td>\n",
       "      <td>0.925673</td>\n",
       "      <td>20.699912</td>\n",
       "      <td>2.293607</td>\n",
       "      <td>999.884600</td>\n",
       "      <td>-499.972731</td>\n",
       "      <td>1499.290173</td>\n",
       "      <td>-399.546180</td>\n",
       "      <td>1499.161769</td>\n",
       "      <td>-398.630471</td>\n",
       "      <td>1499.040323</td>\n",
       "      <td>-399.389036</td>\n",
       "      <td>1501.877151</td>\n",
       "      <td>-397.227473</td>\n",
       "      <td>1501.061312</td>\n",
       "      <td>-400.602849</td>\n",
       "      <td>11.838086</td>\n",
       "      <td>3.905472</td>\n",
       "      <td>10.651508</td>\n",
       "      <td>2.283842</td>\n",
       "      <td>32.054894</td>\n",
       "      <td>-400.832639</td>\n",
       "      <td>30.998499</td>\n",
       "      <td>-401.051170</td>\n",
       "      <td>30.900779</td>\n",
       "      <td>-400.953348</td>\n",
       "      <td>29.003189</td>\n",
       "      <td>-401.031397</td>\n",
       "      <td>21.991762</td>\n",
       "      <td>-399.587122</td>\n",
       "      <td>21.988937</td>\n",
       "      <td>-401.366408</td>\n",
       "      <td>22.995012</td>\n",
       "      <td>-399.370680</td>\n",
       "      <td>20.966863</td>\n",
       "      <td>-399.308354</td>\n",
       "      <td>24.987274</td>\n",
       "      <td>-399.619808</td>\n",
       "    </tr>\n",
       "    <tr>\n",
       "      <th>2016-03-11 10:00:00</th>\n",
       "      <td>0.0</td>\n",
       "      <td>0.0</td>\n",
       "      <td>0.0</td>\n",
       "      <td>0.0</td>\n",
       "      <td>0.0</td>\n",
       "      <td>10.817313</td>\n",
       "      <td>1.462800</td>\n",
       "      <td>16.407607</td>\n",
       "      <td>2.984504</td>\n",
       "      <td>111.502432</td>\n",
       "      <td>11.927825</td>\n",
       "      <td>7.79</td>\n",
       "      <td>0.992436</td>\n",
       "      <td>8.701237</td>\n",
       "      <td>7.234158</td>\n",
       "      <td>10.754321</td>\n",
       "      <td>34.564456</td>\n",
       "      <td>13.665507</td>\n",
       "      <td>2.569557</td>\n",
       "      <td>9.186415</td>\n",
       "      <td>4.009465</td>\n",
       "      <td>1600.246853</td>\n",
       "      <td>-402.167837</td>\n",
       "      <td>1601.734558</td>\n",
       "      <td>-398.906828</td>\n",
       "      <td>1595.110867</td>\n",
       "      <td>-401.693888</td>\n",
       "      <td>627.591922</td>\n",
       "      <td>-398.868839</td>\n",
       "      <td>32559.326343</td>\n",
       "      <td>2098.775030</td>\n",
       "      <td>2097.794484</td>\n",
       "      <td>3.007789</td>\n",
       "      <td>8.098125</td>\n",
       "      <td>2.588661</td>\n",
       "      <td>502.314489</td>\n",
       "      <td>49.985298</td>\n",
       "      <td>34.896012</td>\n",
       "      <td>7.786147</td>\n",
       "      <td>8.842907</td>\n",
       "      <td>7.265263</td>\n",
       "      <td>8.842783</td>\n",
       "      <td>7.269218</td>\n",
       "      <td>10.640168</td>\n",
       "      <td>7.565854</td>\n",
       "      <td>24.793448</td>\n",
       "      <td>18.682162</td>\n",
       "      <td>82.787322</td>\n",
       "      <td>6.102604</td>\n",
       "      <td>0.788412</td>\n",
       "      <td>21.096415</td>\n",
       "      <td>2.046213</td>\n",
       "      <td>1000.621368</td>\n",
       "      <td>-499.594073</td>\n",
       "      <td>1500.980640</td>\n",
       "      <td>-499.669103</td>\n",
       "      <td>1501.032313</td>\n",
       "      <td>-500.950129</td>\n",
       "      <td>1498.673085</td>\n",
       "      <td>-501.877154</td>\n",
       "      <td>1297.623855</td>\n",
       "      <td>-501.776602</td>\n",
       "      <td>1197.469227</td>\n",
       "      <td>-500.648180</td>\n",
       "      <td>11.644152</td>\n",
       "      <td>4.028016</td>\n",
       "      <td>11.880836</td>\n",
       "      <td>3.627020</td>\n",
       "      <td>30.029055</td>\n",
       "      <td>-449.465681</td>\n",
       "      <td>28.042141</td>\n",
       "      <td>-450.180346</td>\n",
       "      <td>27.039535</td>\n",
       "      <td>-449.388889</td>\n",
       "      <td>24.884122</td>\n",
       "      <td>-449.365144</td>\n",
       "      <td>11.979352</td>\n",
       "      <td>-453.431061</td>\n",
       "      <td>12.003445</td>\n",
       "      <td>-450.179844</td>\n",
       "      <td>11.982937</td>\n",
       "      <td>-449.856468</td>\n",
       "      <td>9.927727</td>\n",
       "      <td>-450.521700</td>\n",
       "      <td>19.971682</td>\n",
       "      <td>-500.685521</td>\n",
       "    </tr>\n",
       "    <tr>\n",
       "      <th>2016-03-11 11:00:00</th>\n",
       "      <td>0.0</td>\n",
       "      <td>0.0</td>\n",
       "      <td>0.0</td>\n",
       "      <td>0.0</td>\n",
       "      <td>0.0</td>\n",
       "      <td>10.436792</td>\n",
       "      <td>1.207636</td>\n",
       "      <td>17.800392</td>\n",
       "      <td>2.747294</td>\n",
       "      <td>110.586754</td>\n",
       "      <td>12.018310</td>\n",
       "      <td>7.79</td>\n",
       "      <td>1.000046</td>\n",
       "      <td>8.697952</td>\n",
       "      <td>7.119325</td>\n",
       "      <td>10.194141</td>\n",
       "      <td>34.399450</td>\n",
       "      <td>13.008128</td>\n",
       "      <td>2.295769</td>\n",
       "      <td>9.822700</td>\n",
       "      <td>3.611843</td>\n",
       "      <td>1599.492169</td>\n",
       "      <td>-399.712307</td>\n",
       "      <td>1600.069554</td>\n",
       "      <td>-400.566751</td>\n",
       "      <td>1597.600427</td>\n",
       "      <td>-400.355176</td>\n",
       "      <td>620.987030</td>\n",
       "      <td>-400.064647</td>\n",
       "      <td>32534.407535</td>\n",
       "      <td>2102.119757</td>\n",
       "      <td>2101.265127</td>\n",
       "      <td>3.079615</td>\n",
       "      <td>7.832467</td>\n",
       "      <td>2.435125</td>\n",
       "      <td>501.677628</td>\n",
       "      <td>48.845911</td>\n",
       "      <td>34.196525</td>\n",
       "      <td>7.499248</td>\n",
       "      <td>8.501246</td>\n",
       "      <td>6.989404</td>\n",
       "      <td>8.511888</td>\n",
       "      <td>6.982774</td>\n",
       "      <td>10.415491</td>\n",
       "      <td>7.367937</td>\n",
       "      <td>24.200400</td>\n",
       "      <td>18.231121</td>\n",
       "      <td>83.515262</td>\n",
       "      <td>6.016604</td>\n",
       "      <td>0.695116</td>\n",
       "      <td>20.893637</td>\n",
       "      <td>1.883162</td>\n",
       "      <td>999.826851</td>\n",
       "      <td>-500.323676</td>\n",
       "      <td>1500.315649</td>\n",
       "      <td>-499.482887</td>\n",
       "      <td>1498.075323</td>\n",
       "      <td>-499.213575</td>\n",
       "      <td>1501.362418</td>\n",
       "      <td>-500.711943</td>\n",
       "      <td>1300.513265</td>\n",
       "      <td>-499.835501</td>\n",
       "      <td>1200.145997</td>\n",
       "      <td>-498.002888</td>\n",
       "      <td>11.344059</td>\n",
       "      <td>3.795803</td>\n",
       "      <td>11.783571</td>\n",
       "      <td>3.462723</td>\n",
       "      <td>29.995514</td>\n",
       "      <td>-446.314649</td>\n",
       "      <td>27.944098</td>\n",
       "      <td>-449.314545</td>\n",
       "      <td>27.022681</td>\n",
       "      <td>-412.624177</td>\n",
       "      <td>25.010402</td>\n",
       "      <td>-421.023904</td>\n",
       "      <td>12.034636</td>\n",
       "      <td>-446.590944</td>\n",
       "      <td>12.130405</td>\n",
       "      <td>-449.684812</td>\n",
       "      <td>11.844983</td>\n",
       "      <td>-450.881424</td>\n",
       "      <td>9.916784</td>\n",
       "      <td>-449.542871</td>\n",
       "      <td>20.004767</td>\n",
       "      <td>-500.137068</td>\n",
       "    </tr>\n",
       "  </tbody>\n",
       "</table>\n",
       "</div>"
      ],
      "text/plain": [
       "                     final.output.concentrate_ag  final.output.concentrate_pb  \\\n",
       "date                                                                            \n",
       "2016-02-13 11:00:00                          0.0                          0.0   \n",
       "2016-03-11 10:00:00                          0.0                          0.0   \n",
       "2016-03-11 11:00:00                          0.0                          0.0   \n",
       "\n",
       "                     final.output.concentrate_sol  \\\n",
       "date                                                \n",
       "2016-02-13 11:00:00                           0.0   \n",
       "2016-03-11 10:00:00                           0.0   \n",
       "2016-03-11 11:00:00                           0.0   \n",
       "\n",
       "                     final.output.concentrate_au  final.output.recovery  \\\n",
       "date                                                                      \n",
       "2016-02-13 11:00:00                          0.0                    0.0   \n",
       "2016-03-11 10:00:00                          0.0                    0.0   \n",
       "2016-03-11 11:00:00                          0.0                    0.0   \n",
       "\n",
       "                     final.output.tail_ag  final.output.tail_pb  \\\n",
       "date                                                              \n",
       "2016-02-13 11:00:00              8.894029              0.843584   \n",
       "2016-03-11 10:00:00             10.817313              1.462800   \n",
       "2016-03-11 11:00:00             10.436792              1.207636   \n",
       "\n",
       "                     final.output.tail_sol  final.output.tail_au  \\\n",
       "date                                                               \n",
       "2016-02-13 11:00:00              15.417342              1.779052   \n",
       "2016-03-11 10:00:00              16.407607              2.984504   \n",
       "2016-03-11 11:00:00              17.800392              2.747294   \n",
       "\n",
       "                     primary_cleaner.input.sulfate  \\\n",
       "date                                                 \n",
       "2016-02-13 11:00:00                     133.610147   \n",
       "2016-03-11 10:00:00                     111.502432   \n",
       "2016-03-11 11:00:00                     110.586754   \n",
       "\n",
       "                     primary_cleaner.input.depressant  \\\n",
       "date                                                    \n",
       "2016-02-13 11:00:00                         14.032789   \n",
       "2016-03-11 10:00:00                         11.927825   \n",
       "2016-03-11 11:00:00                         12.018310   \n",
       "\n",
       "                     primary_cleaner.input.feed_size  \\\n",
       "date                                                   \n",
       "2016-02-13 11:00:00                             7.32   \n",
       "2016-03-11 10:00:00                             7.79   \n",
       "2016-03-11 11:00:00                             7.79   \n",
       "\n",
       "                     primary_cleaner.input.xanthate  \\\n",
       "date                                                  \n",
       "2016-02-13 11:00:00                        1.550190   \n",
       "2016-03-11 10:00:00                        0.992436   \n",
       "2016-03-11 11:00:00                        1.000046   \n",
       "\n",
       "                     primary_cleaner.output.concentrate_ag  \\\n",
       "date                                                         \n",
       "2016-02-13 11:00:00                               8.986696   \n",
       "2016-03-11 10:00:00                               8.701237   \n",
       "2016-03-11 11:00:00                               8.697952   \n",
       "\n",
       "                     primary_cleaner.output.concentrate_pb  \\\n",
       "date                                                         \n",
       "2016-02-13 11:00:00                               6.530607   \n",
       "2016-03-11 10:00:00                               7.234158   \n",
       "2016-03-11 11:00:00                               7.119325   \n",
       "\n",
       "                     primary_cleaner.output.concentrate_sol  \\\n",
       "date                                                          \n",
       "2016-02-13 11:00:00                               11.969464   \n",
       "2016-03-11 10:00:00                               10.754321   \n",
       "2016-03-11 11:00:00                               10.194141   \n",
       "\n",
       "                     primary_cleaner.output.concentrate_au  \\\n",
       "date                                                         \n",
       "2016-02-13 11:00:00                              26.238846   \n",
       "2016-03-11 10:00:00                              34.564456   \n",
       "2016-03-11 11:00:00                              34.399450   \n",
       "\n",
       "                     primary_cleaner.output.tail_ag  \\\n",
       "date                                                  \n",
       "2016-02-13 11:00:00                       13.854131   \n",
       "2016-03-11 10:00:00                       13.665507   \n",
       "2016-03-11 11:00:00                       13.008128   \n",
       "\n",
       "                     primary_cleaner.output.tail_pb  \\\n",
       "date                                                  \n",
       "2016-02-13 11:00:00                        2.156414   \n",
       "2016-03-11 10:00:00                        2.569557   \n",
       "2016-03-11 11:00:00                        2.295769   \n",
       "\n",
       "                     primary_cleaner.output.tail_sol  \\\n",
       "date                                                   \n",
       "2016-02-13 11:00:00                         8.174442   \n",
       "2016-03-11 10:00:00                         9.186415   \n",
       "2016-03-11 11:00:00                         9.822700   \n",
       "\n",
       "                     primary_cleaner.output.tail_au  \\\n",
       "date                                                  \n",
       "2016-02-13 11:00:00                        1.965728   \n",
       "2016-03-11 10:00:00                        4.009465   \n",
       "2016-03-11 11:00:00                        3.611843   \n",
       "\n",
       "                     primary_cleaner.state.floatbank8_a_air  \\\n",
       "date                                                          \n",
       "2016-02-13 11:00:00                             1800.648807   \n",
       "2016-03-11 10:00:00                             1600.246853   \n",
       "2016-03-11 11:00:00                             1599.492169   \n",
       "\n",
       "                     primary_cleaner.state.floatbank8_a_level  \\\n",
       "date                                                            \n",
       "2016-02-13 11:00:00                               -349.517991   \n",
       "2016-03-11 10:00:00                               -402.167837   \n",
       "2016-03-11 11:00:00                               -399.712307   \n",
       "\n",
       "                     primary_cleaner.state.floatbank8_b_air  \\\n",
       "date                                                          \n",
       "2016-02-13 11:00:00                             1799.347332   \n",
       "2016-03-11 10:00:00                             1601.734558   \n",
       "2016-03-11 11:00:00                             1600.069554   \n",
       "\n",
       "                     primary_cleaner.state.floatbank8_b_level  \\\n",
       "date                                                            \n",
       "2016-02-13 11:00:00                               -350.925554   \n",
       "2016-03-11 10:00:00                               -398.906828   \n",
       "2016-03-11 11:00:00                               -400.566751   \n",
       "\n",
       "                     primary_cleaner.state.floatbank8_c_air  \\\n",
       "date                                                          \n",
       "2016-02-13 11:00:00                             1798.833149   \n",
       "2016-03-11 10:00:00                             1595.110867   \n",
       "2016-03-11 11:00:00                             1597.600427   \n",
       "\n",
       "                     primary_cleaner.state.floatbank8_c_level  \\\n",
       "date                                                            \n",
       "2016-02-13 11:00:00                               -349.609813   \n",
       "2016-03-11 10:00:00                               -401.693888   \n",
       "2016-03-11 11:00:00                               -400.355176   \n",
       "\n",
       "                     primary_cleaner.state.floatbank8_d_air  \\\n",
       "date                                                          \n",
       "2016-02-13 11:00:00                             1456.714168   \n",
       "2016-03-11 10:00:00                              627.591922   \n",
       "2016-03-11 11:00:00                              620.987030   \n",
       "\n",
       "                     primary_cleaner.state.floatbank8_d_level  \\\n",
       "date                                                            \n",
       "2016-02-13 11:00:00                               -350.518404   \n",
       "2016-03-11 10:00:00                               -398.868839   \n",
       "2016-03-11 11:00:00                               -400.064647   \n",
       "\n",
       "                     rougher.calculation.sulfate_to_au_concentrate  \\\n",
       "date                                                                 \n",
       "2016-02-13 11:00:00                                   45778.313924   \n",
       "2016-03-11 10:00:00                                   32559.326343   \n",
       "2016-03-11 11:00:00                                   32534.407535   \n",
       "\n",
       "                     rougher.calculation.floatbank10_sulfate_to_au_feed  \\\n",
       "date                                                                      \n",
       "2016-02-13 11:00:00                                        2952.203313    \n",
       "2016-03-11 10:00:00                                        2098.775030    \n",
       "2016-03-11 11:00:00                                        2102.119757    \n",
       "\n",
       "                     rougher.calculation.floatbank11_sulfate_to_au_feed  \\\n",
       "date                                                                      \n",
       "2016-02-13 11:00:00                                        2943.136954    \n",
       "2016-03-11 10:00:00                                        2097.794484    \n",
       "2016-03-11 11:00:00                                        2101.265127    \n",
       "\n",
       "                     rougher.calculation.au_pb_ratio  rougher.input.feed_ag  \\\n",
       "date                                                                          \n",
       "2016-02-13 11:00:00                         2.894754               7.407737   \n",
       "2016-03-11 10:00:00                         3.007789               8.098125   \n",
       "2016-03-11 11:00:00                         3.079615               7.832467   \n",
       "\n",
       "                     rougher.input.feed_pb  rougher.input.feed_rate  \\\n",
       "date                                                                  \n",
       "2016-02-13 11:00:00               1.934178               500.087438   \n",
       "2016-03-11 10:00:00               2.588661               502.314489   \n",
       "2016-03-11 11:00:00               2.435125               501.677628   \n",
       "\n",
       "                     rougher.input.feed_size  rougher.input.feed_sol  \\\n",
       "date                                                                   \n",
       "2016-02-13 11:00:00                51.965198               31.762853   \n",
       "2016-03-11 10:00:00                49.985298               34.896012   \n",
       "2016-03-11 11:00:00                48.845911               34.196525   \n",
       "\n",
       "                     rougher.input.feed_au  rougher.input.floatbank10_sulfate  \\\n",
       "date                                                                            \n",
       "2016-02-13 11:00:00               5.598971                          10.251319   \n",
       "2016-03-11 10:00:00               7.786147                           8.842907   \n",
       "2016-03-11 11:00:00               7.499248                           8.501246   \n",
       "\n",
       "                     rougher.input.floatbank10_xanthate  \\\n",
       "date                                                      \n",
       "2016-02-13 11:00:00                            6.620908   \n",
       "2016-03-11 10:00:00                            7.265263   \n",
       "2016-03-11 11:00:00                            6.989404   \n",
       "\n",
       "                     rougher.input.floatbank11_sulfate  \\\n",
       "date                                                     \n",
       "2016-02-13 11:00:00                          10.259054   \n",
       "2016-03-11 10:00:00                           8.842783   \n",
       "2016-03-11 11:00:00                           8.511888   \n",
       "\n",
       "                     rougher.input.floatbank11_xanthate  \\\n",
       "date                                                      \n",
       "2016-02-13 11:00:00                            6.620118   \n",
       "2016-03-11 10:00:00                            7.269218   \n",
       "2016-03-11 11:00:00                            6.982774   \n",
       "\n",
       "                     rougher.output.concentrate_ag  \\\n",
       "date                                                 \n",
       "2016-02-13 11:00:00                      11.803589   \n",
       "2016-03-11 10:00:00                      10.640168   \n",
       "2016-03-11 11:00:00                      10.415491   \n",
       "\n",
       "                     rougher.output.concentrate_pb  \\\n",
       "date                                                 \n",
       "2016-02-13 11:00:00                       7.143475   \n",
       "2016-03-11 10:00:00                       7.565854   \n",
       "2016-03-11 11:00:00                       7.367937   \n",
       "\n",
       "                     rougher.output.concentrate_sol  \\\n",
       "date                                                  \n",
       "2016-02-13 11:00:00                       21.692525   \n",
       "2016-03-11 10:00:00                       24.793448   \n",
       "2016-03-11 11:00:00                       24.200400   \n",
       "\n",
       "                     rougher.output.concentrate_au  rougher.output.recovery  \\\n",
       "date                                                                          \n",
       "2016-02-13 11:00:00                      15.935190                68.960993   \n",
       "2016-03-11 10:00:00                      18.682162                82.787322   \n",
       "2016-03-11 11:00:00                      18.231121                83.515262   \n",
       "\n",
       "                     rougher.output.tail_ag  rougher.output.tail_pb  \\\n",
       "date                                                                  \n",
       "2016-02-13 11:00:00                5.114923                0.925673   \n",
       "2016-03-11 10:00:00                6.102604                0.788412   \n",
       "2016-03-11 11:00:00                6.016604                0.695116   \n",
       "\n",
       "                     rougher.output.tail_sol  rougher.output.tail_au  \\\n",
       "date                                                                   \n",
       "2016-02-13 11:00:00                20.699912                2.293607   \n",
       "2016-03-11 10:00:00                21.096415                2.046213   \n",
       "2016-03-11 11:00:00                20.893637                1.883162   \n",
       "\n",
       "                     rougher.state.floatbank10_a_air  \\\n",
       "date                                                   \n",
       "2016-02-13 11:00:00                       999.884600   \n",
       "2016-03-11 10:00:00                      1000.621368   \n",
       "2016-03-11 11:00:00                       999.826851   \n",
       "\n",
       "                     rougher.state.floatbank10_a_level  \\\n",
       "date                                                     \n",
       "2016-02-13 11:00:00                        -499.972731   \n",
       "2016-03-11 10:00:00                        -499.594073   \n",
       "2016-03-11 11:00:00                        -500.323676   \n",
       "\n",
       "                     rougher.state.floatbank10_b_air  \\\n",
       "date                                                   \n",
       "2016-02-13 11:00:00                      1499.290173   \n",
       "2016-03-11 10:00:00                      1500.980640   \n",
       "2016-03-11 11:00:00                      1500.315649   \n",
       "\n",
       "                     rougher.state.floatbank10_b_level  \\\n",
       "date                                                     \n",
       "2016-02-13 11:00:00                        -399.546180   \n",
       "2016-03-11 10:00:00                        -499.669103   \n",
       "2016-03-11 11:00:00                        -499.482887   \n",
       "\n",
       "                     rougher.state.floatbank10_c_air  \\\n",
       "date                                                   \n",
       "2016-02-13 11:00:00                      1499.161769   \n",
       "2016-03-11 10:00:00                      1501.032313   \n",
       "2016-03-11 11:00:00                      1498.075323   \n",
       "\n",
       "                     rougher.state.floatbank10_c_level  \\\n",
       "date                                                     \n",
       "2016-02-13 11:00:00                        -398.630471   \n",
       "2016-03-11 10:00:00                        -500.950129   \n",
       "2016-03-11 11:00:00                        -499.213575   \n",
       "\n",
       "                     rougher.state.floatbank10_d_air  \\\n",
       "date                                                   \n",
       "2016-02-13 11:00:00                      1499.040323   \n",
       "2016-03-11 10:00:00                      1498.673085   \n",
       "2016-03-11 11:00:00                      1501.362418   \n",
       "\n",
       "                     rougher.state.floatbank10_d_level  \\\n",
       "date                                                     \n",
       "2016-02-13 11:00:00                        -399.389036   \n",
       "2016-03-11 10:00:00                        -501.877154   \n",
       "2016-03-11 11:00:00                        -500.711943   \n",
       "\n",
       "                     rougher.state.floatbank10_e_air  \\\n",
       "date                                                   \n",
       "2016-02-13 11:00:00                      1501.877151   \n",
       "2016-03-11 10:00:00                      1297.623855   \n",
       "2016-03-11 11:00:00                      1300.513265   \n",
       "\n",
       "                     rougher.state.floatbank10_e_level  \\\n",
       "date                                                     \n",
       "2016-02-13 11:00:00                        -397.227473   \n",
       "2016-03-11 10:00:00                        -501.776602   \n",
       "2016-03-11 11:00:00                        -499.835501   \n",
       "\n",
       "                     rougher.state.floatbank10_f_air  \\\n",
       "date                                                   \n",
       "2016-02-13 11:00:00                      1501.061312   \n",
       "2016-03-11 10:00:00                      1197.469227   \n",
       "2016-03-11 11:00:00                      1200.145997   \n",
       "\n",
       "                     rougher.state.floatbank10_f_level  \\\n",
       "date                                                     \n",
       "2016-02-13 11:00:00                        -400.602849   \n",
       "2016-03-11 10:00:00                        -500.648180   \n",
       "2016-03-11 11:00:00                        -498.002888   \n",
       "\n",
       "                     secondary_cleaner.output.tail_ag  \\\n",
       "date                                                    \n",
       "2016-02-13 11:00:00                         11.838086   \n",
       "2016-03-11 10:00:00                         11.644152   \n",
       "2016-03-11 11:00:00                         11.344059   \n",
       "\n",
       "                     secondary_cleaner.output.tail_pb  \\\n",
       "date                                                    \n",
       "2016-02-13 11:00:00                          3.905472   \n",
       "2016-03-11 10:00:00                          4.028016   \n",
       "2016-03-11 11:00:00                          3.795803   \n",
       "\n",
       "                     secondary_cleaner.output.tail_sol  \\\n",
       "date                                                     \n",
       "2016-02-13 11:00:00                          10.651508   \n",
       "2016-03-11 10:00:00                          11.880836   \n",
       "2016-03-11 11:00:00                          11.783571   \n",
       "\n",
       "                     secondary_cleaner.output.tail_au  \\\n",
       "date                                                    \n",
       "2016-02-13 11:00:00                          2.283842   \n",
       "2016-03-11 10:00:00                          3.627020   \n",
       "2016-03-11 11:00:00                          3.462723   \n",
       "\n",
       "                     secondary_cleaner.state.floatbank2_a_air  \\\n",
       "date                                                            \n",
       "2016-02-13 11:00:00                                 32.054894   \n",
       "2016-03-11 10:00:00                                 30.029055   \n",
       "2016-03-11 11:00:00                                 29.995514   \n",
       "\n",
       "                     secondary_cleaner.state.floatbank2_a_level  \\\n",
       "date                                                              \n",
       "2016-02-13 11:00:00                                 -400.832639   \n",
       "2016-03-11 10:00:00                                 -449.465681   \n",
       "2016-03-11 11:00:00                                 -446.314649   \n",
       "\n",
       "                     secondary_cleaner.state.floatbank2_b_air  \\\n",
       "date                                                            \n",
       "2016-02-13 11:00:00                                 30.998499   \n",
       "2016-03-11 10:00:00                                 28.042141   \n",
       "2016-03-11 11:00:00                                 27.944098   \n",
       "\n",
       "                     secondary_cleaner.state.floatbank2_b_level  \\\n",
       "date                                                              \n",
       "2016-02-13 11:00:00                                 -401.051170   \n",
       "2016-03-11 10:00:00                                 -450.180346   \n",
       "2016-03-11 11:00:00                                 -449.314545   \n",
       "\n",
       "                     secondary_cleaner.state.floatbank3_a_air  \\\n",
       "date                                                            \n",
       "2016-02-13 11:00:00                                 30.900779   \n",
       "2016-03-11 10:00:00                                 27.039535   \n",
       "2016-03-11 11:00:00                                 27.022681   \n",
       "\n",
       "                     secondary_cleaner.state.floatbank3_a_level  \\\n",
       "date                                                              \n",
       "2016-02-13 11:00:00                                 -400.953348   \n",
       "2016-03-11 10:00:00                                 -449.388889   \n",
       "2016-03-11 11:00:00                                 -412.624177   \n",
       "\n",
       "                     secondary_cleaner.state.floatbank3_b_air  \\\n",
       "date                                                            \n",
       "2016-02-13 11:00:00                                 29.003189   \n",
       "2016-03-11 10:00:00                                 24.884122   \n",
       "2016-03-11 11:00:00                                 25.010402   \n",
       "\n",
       "                     secondary_cleaner.state.floatbank3_b_level  \\\n",
       "date                                                              \n",
       "2016-02-13 11:00:00                                 -401.031397   \n",
       "2016-03-11 10:00:00                                 -449.365144   \n",
       "2016-03-11 11:00:00                                 -421.023904   \n",
       "\n",
       "                     secondary_cleaner.state.floatbank4_a_air  \\\n",
       "date                                                            \n",
       "2016-02-13 11:00:00                                 21.991762   \n",
       "2016-03-11 10:00:00                                 11.979352   \n",
       "2016-03-11 11:00:00                                 12.034636   \n",
       "\n",
       "                     secondary_cleaner.state.floatbank4_a_level  \\\n",
       "date                                                              \n",
       "2016-02-13 11:00:00                                 -399.587122   \n",
       "2016-03-11 10:00:00                                 -453.431061   \n",
       "2016-03-11 11:00:00                                 -446.590944   \n",
       "\n",
       "                     secondary_cleaner.state.floatbank4_b_air  \\\n",
       "date                                                            \n",
       "2016-02-13 11:00:00                                 21.988937   \n",
       "2016-03-11 10:00:00                                 12.003445   \n",
       "2016-03-11 11:00:00                                 12.130405   \n",
       "\n",
       "                     secondary_cleaner.state.floatbank4_b_level  \\\n",
       "date                                                              \n",
       "2016-02-13 11:00:00                                 -401.366408   \n",
       "2016-03-11 10:00:00                                 -450.179844   \n",
       "2016-03-11 11:00:00                                 -449.684812   \n",
       "\n",
       "                     secondary_cleaner.state.floatbank5_a_air  \\\n",
       "date                                                            \n",
       "2016-02-13 11:00:00                                 22.995012   \n",
       "2016-03-11 10:00:00                                 11.982937   \n",
       "2016-03-11 11:00:00                                 11.844983   \n",
       "\n",
       "                     secondary_cleaner.state.floatbank5_a_level  \\\n",
       "date                                                              \n",
       "2016-02-13 11:00:00                                 -399.370680   \n",
       "2016-03-11 10:00:00                                 -449.856468   \n",
       "2016-03-11 11:00:00                                 -450.881424   \n",
       "\n",
       "                     secondary_cleaner.state.floatbank5_b_air  \\\n",
       "date                                                            \n",
       "2016-02-13 11:00:00                                 20.966863   \n",
       "2016-03-11 10:00:00                                  9.927727   \n",
       "2016-03-11 11:00:00                                  9.916784   \n",
       "\n",
       "                     secondary_cleaner.state.floatbank5_b_level  \\\n",
       "date                                                              \n",
       "2016-02-13 11:00:00                                 -399.308354   \n",
       "2016-03-11 10:00:00                                 -450.521700   \n",
       "2016-03-11 11:00:00                                 -449.542871   \n",
       "\n",
       "                     secondary_cleaner.state.floatbank6_a_air  \\\n",
       "date                                                            \n",
       "2016-02-13 11:00:00                                 24.987274   \n",
       "2016-03-11 10:00:00                                 19.971682   \n",
       "2016-03-11 11:00:00                                 20.004767   \n",
       "\n",
       "                     secondary_cleaner.state.floatbank6_a_level  \n",
       "date                                                             \n",
       "2016-02-13 11:00:00                                 -399.619808  \n",
       "2016-03-11 10:00:00                                 -500.685521  \n",
       "2016-03-11 11:00:00                                 -500.137068  "
      ]
     },
     "execution_count": 9,
     "metadata": {},
     "output_type": "execute_result"
    }
   ],
   "source": [
    "df_train[df_train[TARGETS[1]] == 0].head(3)"
   ]
  },
  {
   "cell_type": "markdown",
   "metadata": {},
   "source": [
    "По соседним столбцам можно предположить, что эти значения появились из-за ошибок при получении данных. Заполнение этих значений может повлиять на качество модели, удалим их."
   ]
  },
  {
   "cell_type": "code",
   "execution_count": 10,
   "metadata": {},
   "outputs": [],
   "source": [
    "for target in TARGETS:\n",
    "    df_train = df_train[df_train[target] != 0]"
   ]
  },
  {
   "cell_type": "markdown",
   "metadata": {},
   "source": [
    "Так же можно оценить, что были удалены строки, где нулевые данные были и в других столбцах типа `concentrate`, проверим на примере"
   ]
  },
  {
   "cell_type": "code",
   "execution_count": 11,
   "metadata": {},
   "outputs": [
    {
     "data": {
      "text/html": [
       "<div>\n",
       "<style scoped>\n",
       "    .dataframe tbody tr th:only-of-type {\n",
       "        vertical-align: middle;\n",
       "    }\n",
       "\n",
       "    .dataframe tbody tr th {\n",
       "        vertical-align: top;\n",
       "    }\n",
       "\n",
       "    .dataframe thead th {\n",
       "        text-align: right;\n",
       "    }\n",
       "</style>\n",
       "<table border=\"1\" class=\"dataframe\">\n",
       "  <thead>\n",
       "    <tr style=\"text-align: right;\">\n",
       "      <th></th>\n",
       "      <th>final.output.concentrate_ag</th>\n",
       "      <th>final.output.concentrate_pb</th>\n",
       "      <th>final.output.concentrate_sol</th>\n",
       "      <th>final.output.concentrate_au</th>\n",
       "      <th>final.output.recovery</th>\n",
       "      <th>final.output.tail_ag</th>\n",
       "      <th>final.output.tail_pb</th>\n",
       "      <th>final.output.tail_sol</th>\n",
       "      <th>final.output.tail_au</th>\n",
       "      <th>primary_cleaner.input.sulfate</th>\n",
       "      <th>primary_cleaner.input.depressant</th>\n",
       "      <th>primary_cleaner.input.feed_size</th>\n",
       "      <th>primary_cleaner.input.xanthate</th>\n",
       "      <th>primary_cleaner.output.concentrate_ag</th>\n",
       "      <th>primary_cleaner.output.concentrate_pb</th>\n",
       "      <th>primary_cleaner.output.concentrate_sol</th>\n",
       "      <th>primary_cleaner.output.concentrate_au</th>\n",
       "      <th>primary_cleaner.output.tail_ag</th>\n",
       "      <th>primary_cleaner.output.tail_pb</th>\n",
       "      <th>primary_cleaner.output.tail_sol</th>\n",
       "      <th>primary_cleaner.output.tail_au</th>\n",
       "      <th>primary_cleaner.state.floatbank8_a_air</th>\n",
       "      <th>primary_cleaner.state.floatbank8_a_level</th>\n",
       "      <th>primary_cleaner.state.floatbank8_b_air</th>\n",
       "      <th>primary_cleaner.state.floatbank8_b_level</th>\n",
       "      <th>primary_cleaner.state.floatbank8_c_air</th>\n",
       "      <th>primary_cleaner.state.floatbank8_c_level</th>\n",
       "      <th>primary_cleaner.state.floatbank8_d_air</th>\n",
       "      <th>primary_cleaner.state.floatbank8_d_level</th>\n",
       "      <th>rougher.calculation.sulfate_to_au_concentrate</th>\n",
       "      <th>rougher.calculation.floatbank10_sulfate_to_au_feed</th>\n",
       "      <th>rougher.calculation.floatbank11_sulfate_to_au_feed</th>\n",
       "      <th>rougher.calculation.au_pb_ratio</th>\n",
       "      <th>rougher.input.feed_ag</th>\n",
       "      <th>rougher.input.feed_pb</th>\n",
       "      <th>rougher.input.feed_rate</th>\n",
       "      <th>rougher.input.feed_size</th>\n",
       "      <th>rougher.input.feed_sol</th>\n",
       "      <th>rougher.input.feed_au</th>\n",
       "      <th>rougher.input.floatbank10_sulfate</th>\n",
       "      <th>rougher.input.floatbank10_xanthate</th>\n",
       "      <th>rougher.input.floatbank11_sulfate</th>\n",
       "      <th>rougher.input.floatbank11_xanthate</th>\n",
       "      <th>rougher.output.concentrate_ag</th>\n",
       "      <th>rougher.output.concentrate_pb</th>\n",
       "      <th>rougher.output.concentrate_sol</th>\n",
       "      <th>rougher.output.concentrate_au</th>\n",
       "      <th>rougher.output.recovery</th>\n",
       "      <th>rougher.output.tail_ag</th>\n",
       "      <th>rougher.output.tail_pb</th>\n",
       "      <th>rougher.output.tail_sol</th>\n",
       "      <th>rougher.output.tail_au</th>\n",
       "      <th>rougher.state.floatbank10_a_air</th>\n",
       "      <th>rougher.state.floatbank10_a_level</th>\n",
       "      <th>rougher.state.floatbank10_b_air</th>\n",
       "      <th>rougher.state.floatbank10_b_level</th>\n",
       "      <th>rougher.state.floatbank10_c_air</th>\n",
       "      <th>rougher.state.floatbank10_c_level</th>\n",
       "      <th>rougher.state.floatbank10_d_air</th>\n",
       "      <th>rougher.state.floatbank10_d_level</th>\n",
       "      <th>rougher.state.floatbank10_e_air</th>\n",
       "      <th>rougher.state.floatbank10_e_level</th>\n",
       "      <th>rougher.state.floatbank10_f_air</th>\n",
       "      <th>rougher.state.floatbank10_f_level</th>\n",
       "      <th>secondary_cleaner.output.tail_ag</th>\n",
       "      <th>secondary_cleaner.output.tail_pb</th>\n",
       "      <th>secondary_cleaner.output.tail_sol</th>\n",
       "      <th>secondary_cleaner.output.tail_au</th>\n",
       "      <th>secondary_cleaner.state.floatbank2_a_air</th>\n",
       "      <th>secondary_cleaner.state.floatbank2_a_level</th>\n",
       "      <th>secondary_cleaner.state.floatbank2_b_air</th>\n",
       "      <th>secondary_cleaner.state.floatbank2_b_level</th>\n",
       "      <th>secondary_cleaner.state.floatbank3_a_air</th>\n",
       "      <th>secondary_cleaner.state.floatbank3_a_level</th>\n",
       "      <th>secondary_cleaner.state.floatbank3_b_air</th>\n",
       "      <th>secondary_cleaner.state.floatbank3_b_level</th>\n",
       "      <th>secondary_cleaner.state.floatbank4_a_air</th>\n",
       "      <th>secondary_cleaner.state.floatbank4_a_level</th>\n",
       "      <th>secondary_cleaner.state.floatbank4_b_air</th>\n",
       "      <th>secondary_cleaner.state.floatbank4_b_level</th>\n",
       "      <th>secondary_cleaner.state.floatbank5_a_air</th>\n",
       "      <th>secondary_cleaner.state.floatbank5_a_level</th>\n",
       "      <th>secondary_cleaner.state.floatbank5_b_air</th>\n",
       "      <th>secondary_cleaner.state.floatbank5_b_level</th>\n",
       "      <th>secondary_cleaner.state.floatbank6_a_air</th>\n",
       "      <th>secondary_cleaner.state.floatbank6_a_level</th>\n",
       "    </tr>\n",
       "    <tr>\n",
       "      <th>date</th>\n",
       "      <th></th>\n",
       "      <th></th>\n",
       "      <th></th>\n",
       "      <th></th>\n",
       "      <th></th>\n",
       "      <th></th>\n",
       "      <th></th>\n",
       "      <th></th>\n",
       "      <th></th>\n",
       "      <th></th>\n",
       "      <th></th>\n",
       "      <th></th>\n",
       "      <th></th>\n",
       "      <th></th>\n",
       "      <th></th>\n",
       "      <th></th>\n",
       "      <th></th>\n",
       "      <th></th>\n",
       "      <th></th>\n",
       "      <th></th>\n",
       "      <th></th>\n",
       "      <th></th>\n",
       "      <th></th>\n",
       "      <th></th>\n",
       "      <th></th>\n",
       "      <th></th>\n",
       "      <th></th>\n",
       "      <th></th>\n",
       "      <th></th>\n",
       "      <th></th>\n",
       "      <th></th>\n",
       "      <th></th>\n",
       "      <th></th>\n",
       "      <th></th>\n",
       "      <th></th>\n",
       "      <th></th>\n",
       "      <th></th>\n",
       "      <th></th>\n",
       "      <th></th>\n",
       "      <th></th>\n",
       "      <th></th>\n",
       "      <th></th>\n",
       "      <th></th>\n",
       "      <th></th>\n",
       "      <th></th>\n",
       "      <th></th>\n",
       "      <th></th>\n",
       "      <th></th>\n",
       "      <th></th>\n",
       "      <th></th>\n",
       "      <th></th>\n",
       "      <th></th>\n",
       "      <th></th>\n",
       "      <th></th>\n",
       "      <th></th>\n",
       "      <th></th>\n",
       "      <th></th>\n",
       "      <th></th>\n",
       "      <th></th>\n",
       "      <th></th>\n",
       "      <th></th>\n",
       "      <th></th>\n",
       "      <th></th>\n",
       "      <th></th>\n",
       "      <th></th>\n",
       "      <th></th>\n",
       "      <th></th>\n",
       "      <th></th>\n",
       "      <th></th>\n",
       "      <th></th>\n",
       "      <th></th>\n",
       "      <th></th>\n",
       "      <th></th>\n",
       "      <th></th>\n",
       "      <th></th>\n",
       "      <th></th>\n",
       "      <th></th>\n",
       "      <th></th>\n",
       "      <th></th>\n",
       "      <th></th>\n",
       "      <th></th>\n",
       "      <th></th>\n",
       "      <th></th>\n",
       "      <th></th>\n",
       "      <th></th>\n",
       "      <th></th>\n",
       "    </tr>\n",
       "  </thead>\n",
       "  <tbody>\n",
       "  </tbody>\n",
       "</table>\n",
       "</div>"
      ],
      "text/plain": [
       "Empty DataFrame\n",
       "Columns: [final.output.concentrate_ag, final.output.concentrate_pb, final.output.concentrate_sol, final.output.concentrate_au, final.output.recovery, final.output.tail_ag, final.output.tail_pb, final.output.tail_sol, final.output.tail_au, primary_cleaner.input.sulfate, primary_cleaner.input.depressant, primary_cleaner.input.feed_size, primary_cleaner.input.xanthate, primary_cleaner.output.concentrate_ag, primary_cleaner.output.concentrate_pb, primary_cleaner.output.concentrate_sol, primary_cleaner.output.concentrate_au, primary_cleaner.output.tail_ag, primary_cleaner.output.tail_pb, primary_cleaner.output.tail_sol, primary_cleaner.output.tail_au, primary_cleaner.state.floatbank8_a_air, primary_cleaner.state.floatbank8_a_level, primary_cleaner.state.floatbank8_b_air, primary_cleaner.state.floatbank8_b_level, primary_cleaner.state.floatbank8_c_air, primary_cleaner.state.floatbank8_c_level, primary_cleaner.state.floatbank8_d_air, primary_cleaner.state.floatbank8_d_level, rougher.calculation.sulfate_to_au_concentrate, rougher.calculation.floatbank10_sulfate_to_au_feed, rougher.calculation.floatbank11_sulfate_to_au_feed, rougher.calculation.au_pb_ratio, rougher.input.feed_ag, rougher.input.feed_pb, rougher.input.feed_rate, rougher.input.feed_size, rougher.input.feed_sol, rougher.input.feed_au, rougher.input.floatbank10_sulfate, rougher.input.floatbank10_xanthate, rougher.input.floatbank11_sulfate, rougher.input.floatbank11_xanthate, rougher.output.concentrate_ag, rougher.output.concentrate_pb, rougher.output.concentrate_sol, rougher.output.concentrate_au, rougher.output.recovery, rougher.output.tail_ag, rougher.output.tail_pb, rougher.output.tail_sol, rougher.output.tail_au, rougher.state.floatbank10_a_air, rougher.state.floatbank10_a_level, rougher.state.floatbank10_b_air, rougher.state.floatbank10_b_level, rougher.state.floatbank10_c_air, rougher.state.floatbank10_c_level, rougher.state.floatbank10_d_air, rougher.state.floatbank10_d_level, rougher.state.floatbank10_e_air, rougher.state.floatbank10_e_level, rougher.state.floatbank10_f_air, rougher.state.floatbank10_f_level, secondary_cleaner.output.tail_ag, secondary_cleaner.output.tail_pb, secondary_cleaner.output.tail_sol, secondary_cleaner.output.tail_au, secondary_cleaner.state.floatbank2_a_air, secondary_cleaner.state.floatbank2_a_level, secondary_cleaner.state.floatbank2_b_air, secondary_cleaner.state.floatbank2_b_level, secondary_cleaner.state.floatbank3_a_air, secondary_cleaner.state.floatbank3_a_level, secondary_cleaner.state.floatbank3_b_air, secondary_cleaner.state.floatbank3_b_level, secondary_cleaner.state.floatbank4_a_air, secondary_cleaner.state.floatbank4_a_level, secondary_cleaner.state.floatbank4_b_air, secondary_cleaner.state.floatbank4_b_level, secondary_cleaner.state.floatbank5_a_air, secondary_cleaner.state.floatbank5_a_level, secondary_cleaner.state.floatbank5_b_air, secondary_cleaner.state.floatbank5_b_level, secondary_cleaner.state.floatbank6_a_air, secondary_cleaner.state.floatbank6_a_level]\n",
       "Index: []"
      ]
     },
     "execution_count": 11,
     "metadata": {},
     "output_type": "execute_result"
    }
   ],
   "source": [
    "df_train[df_train['final.output.concentrate_ag'] == 0].head(3)"
   ]
  },
  {
   "cell_type": "markdown",
   "metadata": {},
   "source": [
    "Нулевых значений не осталось."
   ]
  },
  {
   "cell_type": "raw",
   "metadata": {},
   "source": [
    "f'Percentage of deleted data {(14149 - df_train.shape[0]) / 14149:.2%}'"
   ]
  },
  {
   "cell_type": "markdown",
   "metadata": {},
   "source": [
    "_________________\n"
   ]
  },
  {
   "cell_type": "markdown",
   "metadata": {},
   "source": [
    "Есть ряд столбцов с выделяющимися \"околонулевыми\" значениями. Ряд из них находится в данных типа `floatbank` - возможно, либо ошибки в записи данных, либо ошибки в работе самих установок. По возможности, такие выделяющиеся значения стоит уточнять у источника данных.\n",
    "\n",
    "\n",
    "В данном случае нет возможности обработать, пока что оставим, при необходимости попробуем обработать позднее."
   ]
  },
  {
   "cell_type": "markdown",
   "metadata": {},
   "source": [
    "________________________\n",
    "Т.к. известно, что близкие по дате данные могут быть похожи по значениям - можно заменить пропущенные значения с помощью метода `ffill`"
   ]
  },
  {
   "cell_type": "code",
   "execution_count": 14,
   "metadata": {},
   "outputs": [],
   "source": [
    "df_train = df_train.fillna(method=\"ffill\")"
   ]
  },
  {
   "cell_type": "code",
   "execution_count": 15,
   "metadata": {},
   "outputs": [],
   "source": [
    "df_test = df_test.fillna(method=\"ffill\")"
   ]
  },
  {
   "cell_type": "markdown",
   "metadata": {},
   "source": [
    "и проверим"
   ]
  },
  {
   "cell_type": "code",
   "execution_count": 16,
   "metadata": {},
   "outputs": [
    {
     "name": "stdout",
     "output_type": "stream",
     "text": [
      "Missing in train 0\n",
      "Missing in test 0\n"
     ]
    }
   ],
   "source": [
    "print(f'Missing in train {df_train.isna().sum().sum()}')\n",
    "print(f'Missing in test {df_test.isna().sum().sum()}')"
   ]
  },
  {
   "cell_type": "markdown",
   "metadata": {},
   "source": [
    "__________________\n",
    "### Проверка эффективности обогащения "
   ]
  },
  {
   "cell_type": "markdown",
   "metadata": {},
   "source": [
    "Эффективность обогащения рассчитывается по формуле <br><br>\n",
    "        <b>Eff = (C*(F-T)) / (F*(C-T)) * 100%</b><br><br>\n",
    "где:\n",
    "\n",
    "    C — доля золота в концентрате после флотации/очистки;\n",
    "    F — доля золота в сырье/концентрате до флотации/очистки;\n",
    "    T — доля золота в отвальных хвостах после флотации/очистки.\n",
    "\n",
    "Подставим данные в формулу:"
   ]
  },
  {
   "cell_type": "code",
   "execution_count": 17,
   "metadata": {},
   "outputs": [],
   "source": [
    "F = df_train['rougher.input.feed_au']\n",
    "C = df_train['final.output.concentrate_au']\n",
    "T = df_train['final.output.tail_au']\n",
    "\n",
    "eff = (C*(F-T)) / (F*(C-T)) * 100"
   ]
  },
  {
   "cell_type": "markdown",
   "metadata": {},
   "source": [
    "Найдем"
   ]
  },
  {
   "cell_type": "code",
   "execution_count": 18,
   "metadata": {},
   "outputs": [
    {
     "data": {
      "text/plain": [
       "8.581380139526291e-15"
      ]
     },
     "execution_count": 18,
     "metadata": {},
     "output_type": "execute_result"
    }
   ],
   "source": [
    "mean_absolute_error(eff, df_train['final.output.recovery'])"
   ]
  },
  {
   "cell_type": "markdown",
   "metadata": {},
   "source": [
    "MAE между расчитанным значением и данными практически нулевое(с учетом того, что была произведена предобработка данных и обработаны пропущенные значения, что так же могло повлиять). Можно сделать вывод, что предоставлены корректные данные и с ними можно работать и строить модель."
   ]
  },
  {
   "cell_type": "markdown",
   "metadata": {},
   "source": [
    "### Параметры тестовой выборки"
   ]
  },
  {
   "cell_type": "markdown",
   "metadata": {},
   "source": [
    "Ранее было выявлено, что в тестовой выборке параметров меньше, чем в тренировочной. Посмотрим отличия."
   ]
  },
  {
   "cell_type": "code",
   "execution_count": 19,
   "metadata": {},
   "outputs": [
    {
     "data": {
      "text/html": [
       "<div>\n",
       "<style scoped>\n",
       "    .dataframe tbody tr th:only-of-type {\n",
       "        vertical-align: middle;\n",
       "    }\n",
       "\n",
       "    .dataframe tbody tr th {\n",
       "        vertical-align: top;\n",
       "    }\n",
       "\n",
       "    .dataframe thead th {\n",
       "        text-align: right;\n",
       "    }\n",
       "</style>\n",
       "<table border=\"1\" class=\"dataframe\">\n",
       "  <thead>\n",
       "    <tr style=\"text-align: right;\">\n",
       "      <th></th>\n",
       "      <th>0</th>\n",
       "      <th>1</th>\n",
       "    </tr>\n",
       "  </thead>\n",
       "  <tbody>\n",
       "    <tr>\n",
       "      <th>0</th>\n",
       "      <td>final.output</td>\n",
       "      <td>concentrate_ag</td>\n",
       "    </tr>\n",
       "    <tr>\n",
       "      <th>1</th>\n",
       "      <td>final.output</td>\n",
       "      <td>concentrate_au</td>\n",
       "    </tr>\n",
       "    <tr>\n",
       "      <th>2</th>\n",
       "      <td>final.output</td>\n",
       "      <td>concentrate_pb</td>\n",
       "    </tr>\n",
       "    <tr>\n",
       "      <th>3</th>\n",
       "      <td>final.output</td>\n",
       "      <td>concentrate_sol</td>\n",
       "    </tr>\n",
       "    <tr>\n",
       "      <th>4</th>\n",
       "      <td>final.output</td>\n",
       "      <td>recovery</td>\n",
       "    </tr>\n",
       "    <tr>\n",
       "      <th>5</th>\n",
       "      <td>final.output</td>\n",
       "      <td>tail_ag</td>\n",
       "    </tr>\n",
       "    <tr>\n",
       "      <th>6</th>\n",
       "      <td>final.output</td>\n",
       "      <td>tail_au</td>\n",
       "    </tr>\n",
       "    <tr>\n",
       "      <th>7</th>\n",
       "      <td>final.output</td>\n",
       "      <td>tail_pb</td>\n",
       "    </tr>\n",
       "    <tr>\n",
       "      <th>8</th>\n",
       "      <td>final.output</td>\n",
       "      <td>tail_sol</td>\n",
       "    </tr>\n",
       "    <tr>\n",
       "      <th>9</th>\n",
       "      <td>primary_cleaner.output</td>\n",
       "      <td>concentrate_ag</td>\n",
       "    </tr>\n",
       "    <tr>\n",
       "      <th>10</th>\n",
       "      <td>primary_cleaner.output</td>\n",
       "      <td>concentrate_au</td>\n",
       "    </tr>\n",
       "    <tr>\n",
       "      <th>11</th>\n",
       "      <td>primary_cleaner.output</td>\n",
       "      <td>concentrate_pb</td>\n",
       "    </tr>\n",
       "    <tr>\n",
       "      <th>12</th>\n",
       "      <td>primary_cleaner.output</td>\n",
       "      <td>concentrate_sol</td>\n",
       "    </tr>\n",
       "    <tr>\n",
       "      <th>13</th>\n",
       "      <td>primary_cleaner.output</td>\n",
       "      <td>tail_ag</td>\n",
       "    </tr>\n",
       "    <tr>\n",
       "      <th>14</th>\n",
       "      <td>primary_cleaner.output</td>\n",
       "      <td>tail_au</td>\n",
       "    </tr>\n",
       "    <tr>\n",
       "      <th>15</th>\n",
       "      <td>primary_cleaner.output</td>\n",
       "      <td>tail_pb</td>\n",
       "    </tr>\n",
       "    <tr>\n",
       "      <th>16</th>\n",
       "      <td>primary_cleaner.output</td>\n",
       "      <td>tail_sol</td>\n",
       "    </tr>\n",
       "    <tr>\n",
       "      <th>17</th>\n",
       "      <td>rougher.calculation</td>\n",
       "      <td>au_pb_ratio</td>\n",
       "    </tr>\n",
       "    <tr>\n",
       "      <th>18</th>\n",
       "      <td>rougher.calculation</td>\n",
       "      <td>floatbank10_sulfate_to_au_feed</td>\n",
       "    </tr>\n",
       "    <tr>\n",
       "      <th>19</th>\n",
       "      <td>rougher.calculation</td>\n",
       "      <td>floatbank11_sulfate_to_au_feed</td>\n",
       "    </tr>\n",
       "    <tr>\n",
       "      <th>20</th>\n",
       "      <td>rougher.calculation</td>\n",
       "      <td>sulfate_to_au_concentrate</td>\n",
       "    </tr>\n",
       "    <tr>\n",
       "      <th>21</th>\n",
       "      <td>rougher.output</td>\n",
       "      <td>concentrate_ag</td>\n",
       "    </tr>\n",
       "    <tr>\n",
       "      <th>22</th>\n",
       "      <td>rougher.output</td>\n",
       "      <td>concentrate_au</td>\n",
       "    </tr>\n",
       "    <tr>\n",
       "      <th>23</th>\n",
       "      <td>rougher.output</td>\n",
       "      <td>concentrate_pb</td>\n",
       "    </tr>\n",
       "    <tr>\n",
       "      <th>24</th>\n",
       "      <td>rougher.output</td>\n",
       "      <td>concentrate_sol</td>\n",
       "    </tr>\n",
       "    <tr>\n",
       "      <th>25</th>\n",
       "      <td>rougher.output</td>\n",
       "      <td>recovery</td>\n",
       "    </tr>\n",
       "    <tr>\n",
       "      <th>26</th>\n",
       "      <td>rougher.output</td>\n",
       "      <td>tail_ag</td>\n",
       "    </tr>\n",
       "    <tr>\n",
       "      <th>27</th>\n",
       "      <td>rougher.output</td>\n",
       "      <td>tail_au</td>\n",
       "    </tr>\n",
       "    <tr>\n",
       "      <th>28</th>\n",
       "      <td>rougher.output</td>\n",
       "      <td>tail_pb</td>\n",
       "    </tr>\n",
       "    <tr>\n",
       "      <th>29</th>\n",
       "      <td>rougher.output</td>\n",
       "      <td>tail_sol</td>\n",
       "    </tr>\n",
       "    <tr>\n",
       "      <th>30</th>\n",
       "      <td>secondary_cleaner.output</td>\n",
       "      <td>tail_ag</td>\n",
       "    </tr>\n",
       "    <tr>\n",
       "      <th>31</th>\n",
       "      <td>secondary_cleaner.output</td>\n",
       "      <td>tail_au</td>\n",
       "    </tr>\n",
       "    <tr>\n",
       "      <th>32</th>\n",
       "      <td>secondary_cleaner.output</td>\n",
       "      <td>tail_pb</td>\n",
       "    </tr>\n",
       "    <tr>\n",
       "      <th>33</th>\n",
       "      <td>secondary_cleaner.output</td>\n",
       "      <td>tail_sol</td>\n",
       "    </tr>\n",
       "  </tbody>\n",
       "</table>\n",
       "</div>"
      ],
      "text/plain": [
       "                           0                               1\n",
       "0               final.output                  concentrate_ag\n",
       "1               final.output                  concentrate_au\n",
       "2               final.output                  concentrate_pb\n",
       "3               final.output                 concentrate_sol\n",
       "4               final.output                        recovery\n",
       "5               final.output                         tail_ag\n",
       "6               final.output                         tail_au\n",
       "7               final.output                         tail_pb\n",
       "8               final.output                        tail_sol\n",
       "9     primary_cleaner.output                  concentrate_ag\n",
       "10    primary_cleaner.output                  concentrate_au\n",
       "11    primary_cleaner.output                  concentrate_pb\n",
       "12    primary_cleaner.output                 concentrate_sol\n",
       "13    primary_cleaner.output                         tail_ag\n",
       "14    primary_cleaner.output                         tail_au\n",
       "15    primary_cleaner.output                         tail_pb\n",
       "16    primary_cleaner.output                        tail_sol\n",
       "17       rougher.calculation                     au_pb_ratio\n",
       "18       rougher.calculation  floatbank10_sulfate_to_au_feed\n",
       "19       rougher.calculation  floatbank11_sulfate_to_au_feed\n",
       "20       rougher.calculation       sulfate_to_au_concentrate\n",
       "21            rougher.output                  concentrate_ag\n",
       "22            rougher.output                  concentrate_au\n",
       "23            rougher.output                  concentrate_pb\n",
       "24            rougher.output                 concentrate_sol\n",
       "25            rougher.output                        recovery\n",
       "26            rougher.output                         tail_ag\n",
       "27            rougher.output                         tail_au\n",
       "28            rougher.output                         tail_pb\n",
       "29            rougher.output                        tail_sol\n",
       "30  secondary_cleaner.output                         tail_ag\n",
       "31  secondary_cleaner.output                         tail_au\n",
       "32  secondary_cleaner.output                         tail_pb\n",
       "33  secondary_cleaner.output                        tail_sol"
      ]
     },
     "execution_count": 19,
     "metadata": {},
     "output_type": "execute_result"
    }
   ],
   "source": [
    "df_train.columns.difference(df_test.columns).str.extract(r'(^\\w*.\\w*).(\\w*$)')"
   ]
  },
  {
   "cell_type": "markdown",
   "metadata": {},
   "source": [
    "Можно сделать вывод, что в тестовых данных нет параметров, которые получают в процессе работы над сырьем (онлайн) и расчетных характеристик. Так же отсутствуют целевые признаки.<br>\n"
   ]
  },
  {
   "cell_type": "markdown",
   "metadata": {},
   "source": [
    "### Вывод"
   ]
  },
  {
   "cell_type": "markdown",
   "metadata": {},
   "source": [
    "В процессе подготовки данных:\n",
    "- загружены данные\n",
    "- удалены строки с нулевым значением целевых столбцов\n",
    "- проверено, что эффективность обогащения расчитана правильно\n",
    "- оценены параметры тестовой выборки и разница в параметрах с тренировочной"
   ]
  },
  {
   "cell_type": "markdown",
   "metadata": {},
   "source": [
    "## Анализ данных"
   ]
  },
  {
   "cell_type": "markdown",
   "metadata": {},
   "source": [
    "________________________\n",
    "**Используемые функции**"
   ]
  },
  {
   "cell_type": "code",
   "execution_count": 20,
   "metadata": {},
   "outputs": [],
   "source": [
    "def stage_concentrate(data: pd.DataFrame, \n",
    "                      params: str) -> None:\n",
    "    # choose columns by params pattern\n",
    "    name_column = data.columns[data.columns.str.contains(f'concentrate_{params}')].tolist()\n",
    "    name_column.append(f'rougher.input.feed_{params}')\n",
    "    name_column = name_column[::-1]\n",
    "    \n",
    "    #plot boxplot and line\n",
    "    print('Mean concentrate')\n",
    "    print(data[name_column].mean())\n",
    "    data[name_column].mean().plot(marker='o', color='red')\n",
    "    sns.boxplot(data=data[name_column], palette='Blues')\n",
    "    plt.ylabel('Percentage')\n",
    "    plt.title(f'Concentrate {params} in stages', fontsize=20)\n",
    "    plt.show()\n",
    "    \n",
    "    #plot hist\n",
    "    sns.histplot(data[name_column], element=\"step\", alpha=.3)\n",
    "    plt.xlabel('Percentage')\n",
    "    plt.show()"
   ]
  },
  {
   "cell_type": "markdown",
   "metadata": {},
   "source": [
    "________________\n",
    "\n",
    "### Концентрация металлов на различных этапах"
   ]
  },
  {
   "cell_type": "markdown",
   "metadata": {},
   "source": [
    "#### Золото (Au)"
   ]
  },
  {
   "cell_type": "code",
   "execution_count": 21,
   "metadata": {},
   "outputs": [
    {
     "name": "stdout",
     "output_type": "stream",
     "text": [
      "Mean concentrate\n",
      "rougher.input.feed_au                     7.853323\n",
      "rougher.output.concentrate_au            19.854799\n",
      "primary_cleaner.output.concentrate_au    32.367660\n",
      "final.output.concentrate_au              44.173624\n",
      "dtype: float64\n"
     ]
    },
    {
     "data": {
      "image/png": "[encoded data removed]",
      "text/plain": [
       "<Figure size 1080x360 with 1 Axes>"
      ]
     },
     "metadata": {
      "needs_background": "light"
     },
     "output_type": "display_data"
    },
    {
     "data": {
      "image/png": "[encoded data removed]",
      "text/plain": [
       "<Figure size 1080x360 with 1 Axes>"
      ]
     },
     "metadata": {
      "needs_background": "light"
     },
     "output_type": "display_data"
    }
   ],
   "source": [
    "stage_concentrate(df_train, 'au')"
   ]
  },
  {
   "cell_type": "markdown",
   "metadata": {},
   "source": [
    "#### Серебро (Ag)"
   ]
  },
  {
   "cell_type": "code",
   "execution_count": 22,
   "metadata": {},
   "outputs": [
    {
     "name": "stdout",
     "output_type": "stream",
     "text": [
      "Mean concentrate\n",
      "rougher.input.feed_ag                     8.568726\n",
      "rougher.output.concentrate_ag            12.029788\n",
      "primary_cleaner.output.concentrate_ag     8.205179\n",
      "final.output.concentrate_ag               5.165178\n",
      "dtype: float64\n"
     ]
    },
    {
     "data": {
      "image/png": "[encoded data removed]",
      "text/plain": [
       "<Figure size 1080x360 with 1 Axes>"
      ]
     },
     "metadata": {
      "needs_background": "light"
     },
     "output_type": "display_data"
    },
    {
     "data": {
      "image/png": "[encoded data removed]",
      "text/plain": [
       "<Figure size 1080x360 with 1 Axes>"
      ]
     },
     "metadata": {
      "needs_background": "light"
     },
     "output_type": "display_data"
    }
   ],
   "source": [
    "stage_concentrate(df_train, 'ag')"
   ]
  },
  {
   "cell_type": "markdown",
   "metadata": {},
   "source": [
    "#### Свинец (Pb)"
   ]
  },
  {
   "cell_type": "code",
   "execution_count": 23,
   "metadata": {},
   "outputs": [
    {
     "name": "stdout",
     "output_type": "stream",
     "text": [
      "Mean concentrate\n",
      "rougher.input.feed_pb                     3.499891\n",
      "rougher.output.concentrate_pb             7.829981\n",
      "primary_cleaner.output.concentrate_pb     9.552910\n",
      "final.output.concentrate_pb              10.175150\n",
      "dtype: float64\n"
     ]
    },
    {
     "data": {
      "image/png": "[encoded data removed]",
      "text/plain": [
       "<Figure size 1080x360 with 1 Axes>"
      ]
     },
     "metadata": {
      "needs_background": "light"
     },
     "output_type": "display_data"
    },
    {
     "data": {
      "image/png": "[encoded data removed]",
      "text/plain": [
       "<Figure size 1080x360 with 1 Axes>"
      ]
     },
     "metadata": {
      "needs_background": "light"
     },
     "output_type": "display_data"
    }
   ],
   "source": [
    "stage_concentrate(df_train, 'pb')"
   ]
  },
  {
   "cell_type": "markdown",
   "metadata": {},
   "source": [
    "#### Вывод"
   ]
  },
  {
   "cell_type": "markdown",
   "metadata": {},
   "source": [
    "- концентрация золота на каждом этапе(не считая необработанного материала) самая большая\n",
    "- концентрация золота достаточно сильно растет на каждом этапе обработки (с 7.8 до 44%)\n",
    "- концентрация серебра немного растет на флотации и потом падает, относительно первоначального материала падает не сильно (с 8 до 5%)\n",
    "- концентрация свинца немного растет (с 3 до 10%)"
   ]
  },
  {
   "cell_type": "markdown",
   "metadata": {},
   "source": [
    "_______________________\n",
    "### Размер гранул\n"
   ]
  },
  {
   "cell_type": "markdown",
   "metadata": {},
   "source": [
    "Для корректной работы модели необходимо, чтоб распределения по гранулам сырья в тестовой и тренировочной выборке не сильно отличались, проверим"
   ]
  },
  {
   "cell_type": "code",
   "execution_count": 24,
   "metadata": {},
   "outputs": [
    {
     "data": {
      "image/png": "[encoded data removed]",
      "text/plain": [
       "<Figure size 1080x360 with 1 Axes>"
      ]
     },
     "metadata": {
      "needs_background": "light"
     },
     "output_type": "display_data"
    },
    {
     "data": {
      "image/png": "[encoded data removed]",
      "text/plain": [
       "<Figure size 1080x360 with 1 Axes>"
      ]
     },
     "metadata": {
      "needs_background": "light"
     },
     "output_type": "display_data"
    },
    {
     "data": {
      "image/png": "[encoded data removed]",
      "text/plain": [
       "<Figure size 1080x360 with 1 Axes>"
      ]
     },
     "metadata": {
      "needs_background": "light"
     },
     "output_type": "display_data"
    },
    {
     "data": {
      "image/png": "[encoded data removed]",
      "text/plain": [
       "<Figure size 1080x360 with 1 Axes>"
      ]
     },
     "metadata": {
      "needs_background": "light"
     },
     "output_type": "display_data"
    }
   ],
   "source": [
    "for name_col in ['rougher.input.feed_size','primary_cleaner.input.feed_size']:\n",
    "    df_train[name_col].hist(bins=50, density=1, alpha=.3)\n",
    "    df_test[name_col].hist(bins=50, density=1, alpha=.4)\n",
    "    plt.legend(['Train sample','Test sample'])\n",
    "    plt.title(f'Graphs for {name_col}')\n",
    "    plt.show()\n",
    "    \n",
    "    sns.boxplot(data=[df_test[name_col],df_train[name_col]], \n",
    "                orient=\"h\").set_yticklabels(['Test','Train'])\n",
    "    plt.title('Feed size')\n",
    "    plt.xlabel('Size')\n",
    "    plt.ylabel('Sample')\n",
    "    plt.show()"
   ]
  },
  {
   "cell_type": "markdown",
   "metadata": {},
   "source": [
    "Для `rougher.input` в тестовых данных \"пик\" больше, но, в целом, распределение размеров гранул достаточно похожи. <br>\n",
    "Для `primary_cleaner.input` отличий практически нет, но есть пара значительных выбросов. Пока оставим их.\n",
    "\n",
    "\n",
    "Данные подходят для дальнейшего построения и оценки модели."
   ]
  },
  {
   "cell_type": "markdown",
   "metadata": {},
   "source": [
    "### Суммарная концентрация  веществ"
   ]
  },
  {
   "cell_type": "code",
   "execution_count": 25,
   "metadata": {},
   "outputs": [
    {
     "name": "stdout",
     "output_type": "stream",
     "text": [
      "Describe of sum of concentrates in rougher.input.feed\n",
      "quant(.01) 34.348614\n",
      "count    13795.000000\n",
      "mean        56.219933\n",
      "std          6.989913\n",
      "min          0.040000\n",
      "25%         52.538724\n",
      "50%         56.619236\n",
      "75%         60.760588\n",
      "max         74.458253\n",
      "Name: rougher.input.feed.sum, dtype: float64\n",
      "_________\n",
      "Describe of sum of concentrates in rougher.output.concentrate\n",
      "quant(.01) 39.610139\n",
      "count    13795.000000\n",
      "mean        68.615688\n",
      "std          8.096082\n",
      "min          0.040000\n",
      "25%         65.248019\n",
      "50%         69.310903\n",
      "75%         73.508255\n",
      "max         88.140119\n",
      "Name: rougher.output.concentrate.sum, dtype: float64\n",
      "_________\n",
      "Describe of sum of concentrates in final.output.concentrate\n",
      "quant(.01) 45.210955\n",
      "count    13795.000000\n",
      "mean        68.664585\n",
      "std          5.432306\n",
      "min          0.040000\n",
      "25%         67.559772\n",
      "50%         69.136193\n",
      "75%         70.953745\n",
      "max         80.210644\n",
      "Name: final.output.concentrate.sum, dtype: float64\n",
      "_________\n"
     ]
    },
    {
     "name": "stderr",
     "output_type": "stream",
     "text": [
      "/opt/conda/lib/python3.9/site-packages/pandas/core/strings/accessor.py:101: UserWarning: This pattern has match groups. To actually get the groups, use str.extract.\n",
      "  return func(self, *args, **kwargs)\n"
     ]
    },
    {
     "data": {
      "image/png": "[encoded data removed]",
      "text/plain": [
       "<Figure size 1080x360 with 1 Axes>"
      ]
     },
     "metadata": {
      "needs_background": "light"
     },
     "output_type": "display_data"
    }
   ],
   "source": [
    "col_names_sum = []\n",
    "for itm in ['rougher.input.feed','rougher.output.concentrate','final.output.concentrate']:\n",
    "    print(f'Describe of sum of concentrates in {itm}')\n",
    "    col_names_sum.append(f'{itm}.sum')\n",
    "    pattern = f'{itm}_(ag|pb|sol|au)$'\n",
    "    col_names = df_train.columns[df_train.columns.str.contains(pattern)]\n",
    "    df_train[f'{itm}.sum'] = df_train[col_names].sum(axis=1)\n",
    "    df_train[f'{itm}.sum'].hist(bins=50, alpha=.4)\n",
    "    print(f'quant(.01) {df_train[f\"{itm}.sum\"].quantile(.01):.6f}')\n",
    "    print(df_train[f'{itm}.sum'].describe())\n",
    "    print('_________')\n",
    "plt.legend(col_names_sum);"
   ]
  },
  {
   "cell_type": "markdown",
   "metadata": {},
   "source": [
    "Выявленные аномальные значения (суммарная концентрация веществ около нуля) может говорить об ошибочных данных, сбоях в оборудовании и т.п., т.е. могут быть проблемы и в других столбцах. Удалим эти записи."
   ]
  },
  {
   "cell_type": "code",
   "execution_count": 26,
   "metadata": {},
   "outputs": [],
   "source": [
    "for name in col_names_sum:\n",
    "    df_train = df_train[df_train[name] > df_train[name].quantile(.01)]"
   ]
  },
  {
   "cell_type": "markdown",
   "metadata": {},
   "source": [
    "И посмотрим сумму концентраций снова"
   ]
  },
  {
   "cell_type": "code",
   "execution_count": 27,
   "metadata": {},
   "outputs": [
    {
     "data": {
      "image/png": "[encoded data removed]",
      "text/plain": [
       "<Figure size 1080x360 with 1 Axes>"
      ]
     },
     "metadata": {
      "needs_background": "light"
     },
     "output_type": "display_data"
    }
   ],
   "source": [
    "for name in col_names_sum:\n",
    "    df_train[name].hist(bins=40, alpha=.4)\n",
    "plt.legend(col_names_sum);"
   ]
  },
  {
   "cell_type": "markdown",
   "metadata": {},
   "source": [
    "Аномалии убраны, можно оценить, что суммарная концентрация отслеживаемых веществ в необработанном сырье минимальна и распределение более \"плавное\". При обработке суммарная концентрация повышается и график распределения \"сужается\"."
   ]
  },
  {
   "cell_type": "markdown",
   "metadata": {},
   "source": [
    "### Вывод"
   ]
  },
  {
   "cell_type": "markdown",
   "metadata": {},
   "source": [
    "В процессе анализа данных были изучены \n",
    "- концентрации золота, серебра и свинца в зависимости от стадии обработки\n",
    "    - концентрация золота на каждом этапе(не считая необработанного материала) самая большая\n",
    "    - концентрация золота достаточно сильно растет на каждом этапе обработки (с 7.8 до 44%)\n",
    "    - концентрация серебра немного растет на флотации и потом падает, относительно первоначального материала падает не сильно (с 8 до 5%)\n",
    "    - концентрация свинца немного растет (с 3 до 10%)    \n",
    "- суммарная концентрация отслеживаемых веществ, где в зависимости от стадии обработки общая концентрация полезных веществ повышается и разброс уменьшается\n",
    "- распределение размеров гранул в тестовой и обучающей выборках \n",
    "    - распределения приблизительно похожи, что позволяет строить модель и предсказывать значения для тестовой выборки"
   ]
  },
  {
   "cell_type": "markdown",
   "metadata": {},
   "source": [
    "## Модель"
   ]
  },
  {
   "cell_type": "markdown",
   "metadata": {},
   "source": [
    "**Используемые функции**"
   ]
  },
  {
   "cell_type": "code",
   "execution_count": 28,
   "metadata": {},
   "outputs": [],
   "source": [
    "#metrics\n",
    "def s_mape(real: np.array, \n",
    "           pred: np.array) -> float:\n",
    "    sums = sum(2 * np.abs(real - pred) / (np.abs(real) + np.abs(pred)))\n",
    "    return sums * 100 / len(real)"
   ]
  },
  {
   "cell_type": "code",
   "execution_count": 29,
   "metadata": {},
   "outputs": [],
   "source": [
    "#metrics full\n",
    "def res_s_mape(rougher: float, \n",
    "               final: float) -> float:\n",
    "    return 0.25 * rougher + 0.75 * final"
   ]
  },
  {
   "cell_type": "code",
   "execution_count": 30,
   "metadata": {},
   "outputs": [],
   "source": [
    "s_mape_scorer = make_scorer(s_mape, greater_is_better=False)"
   ]
  },
  {
   "cell_type": "code",
   "execution_count": 31,
   "metadata": {},
   "outputs": [],
   "source": [
    "def create_model(model_name: str, \n",
    "                 data: namedtuple, \n",
    "                 target_name: str,\n",
    "                 parametrs: dict = {},\n",
    "                 **kwargs): \n",
    "    #create model\n",
    "    if model_name in ['LinearRegression', 'BayesianRidge']:\n",
    "        model = eval(model_name)(**kwargs)\n",
    "    else:\n",
    "        model = eval(model_name)(random_state=STATE, **kwargs)\n",
    "    \n",
    "    #use GridSearchCV\n",
    "    grid = GridSearchCV(model, parametrs, cv=6, scoring=s_mape_scorer)\n",
    "    grid.fit(data.features, data.target)\n",
    "    score_ = abs(grid.best_score_)\n",
    "    #print(f'SMape {target_name} = {score_:.4f}')\n",
    "    #print(f'Gyperparams {grid.best_params_}')\n",
    "    return [target_name, model_name, score_, grid.best_params_]\n",
    "    "
   ]
  },
  {
   "cell_type": "markdown",
   "metadata": {},
   "source": [
    "_____________________"
   ]
  },
  {
   "cell_type": "markdown",
   "metadata": {},
   "source": [
    "Перед нами стоит регрессионная задача. <br>\n",
    "Будем использовать три алгоритма:\n",
    "- DecisionTreeRegressor (дерево решений) - будем использовать с различной глубиной дерева (max_depth), минимальным количеством элементов выборки(min_samples_split)\n",
    "- RandomForestRegressor (случайный лес) - будем использовать с различной глубиной дерева (max_depth), количеством элементов выборки(min_samples_split) и количеством деревьев(n_estimators)\n",
    "- LinearRegression (линейная регрессия) и BayesianRidge (Байесовская регрессия)\n",
    "\n",
    "\n",
    "Для подбора гиперпараметров существуют специальные фреймворки, например, Optuna, но в данном проекте будем использовать модуль из sklearn - **GridSearchCV**, в который встроена кросс-валидация."
   ]
  },
  {
   "cell_type": "markdown",
   "metadata": {},
   "source": [
    "____________________________________\n",
    "Выделим признаки и целевой признак. Т.к. один из целевых признаков отвечает за этап `rougher` логично для обучения отобрать признаки, которые известны до начала этого этапа обработки."
   ]
  },
  {
   "cell_type": "code",
   "execution_count": 33,
   "metadata": {},
   "outputs": [],
   "source": [
    "train_r = namedtuple('features', 'target')\n",
    "train = namedtuple('features', 'target')"
   ]
  },
  {
   "cell_type": "code",
   "execution_count": 34,
   "metadata": {},
   "outputs": [],
   "source": [
    "train.features = df_train[df_test.columns]\n",
    "train.target = df_train[TARGETS[1]]"
   ]
  },
  {
   "cell_type": "code",
   "execution_count": 35,
   "metadata": {},
   "outputs": [],
   "source": [
    "train_r.features = df_train[df_test.columns[df_test.columns.str.contains('rougher')]]\n",
    "train_r.target = df_train[TARGETS[0]]"
   ]
  },
  {
   "cell_type": "code",
   "execution_count": 36,
   "metadata": {},
   "outputs": [],
   "source": [
    "result = []"
   ]
  },
  {
   "cell_type": "markdown",
   "metadata": {},
   "source": [
    "Зададим список гиперпараметры для каждой модели для гридсерча"
   ]
  },
  {
   "cell_type": "code",
   "execution_count": 37,
   "metadata": {},
   "outputs": [],
   "source": [
    "dtr_params = {'max_depth': range(2,13,5), \n",
    "              'min_samples_split': [20, 100]}\n",
    "\n",
    "rfr_params = {'max_depth': range(2,13,5), \n",
    "              'min_samples_split' : [20, 100],\n",
    "              'n_estimators': [2, 10]    #[*range(2, 9, 3), 15, 60, 100]\n",
    "             }\n",
    "\n",
    "lr_params = {'normalize': [True, False]}"
   ]
  },
  {
   "cell_type": "markdown",
   "metadata": {},
   "source": [
    "### Построение модели"
   ]
  },
  {
   "cell_type": "markdown",
   "metadata": {},
   "source": [
    "**Дерево решений**"
   ]
  },
  {
   "cell_type": "code",
   "execution_count": 38,
   "metadata": {},
   "outputs": [
    {
     "name": "stdout",
     "output_type": "stream",
     "text": [
      "CPU times: user 4.87 s, sys: 33.6 ms, total: 4.9 s\n",
      "Wall time: 4.91 s\n"
     ]
    }
   ],
   "source": [
    "%%time\n",
    "# все модели минут 5 в сумме\n",
    "#rougher\n",
    "result.append(create_model('DecisionTreeRegressor', train_r, TARGETS[0], parametrs=dtr_params))"
   ]
  },
  {
   "cell_type": "code",
   "execution_count": 39,
   "metadata": {
    "scrolled": true
   },
   "outputs": [
    {
     "name": "stdout",
     "output_type": "stream",
     "text": [
      "CPU times: user 10.6 s, sys: 72.7 ms, total: 10.7 s\n",
      "Wall time: 10.7 s\n"
     ]
    }
   ],
   "source": [
    "%%time\n",
    "#final\n",
    "result.append(create_model('DecisionTreeRegressor', train,  TARGETS[1], parametrs=dtr_params))"
   ]
  },
  {
   "cell_type": "markdown",
   "metadata": {},
   "source": [
    "**Случайный лес**"
   ]
  },
  {
   "cell_type": "code",
   "execution_count": 40,
   "metadata": {},
   "outputs": [
    {
     "name": "stdout",
     "output_type": "stream",
     "text": [
      "CPU times: user 33 s, sys: 110 ms, total: 33.2 s\n",
      "Wall time: 33.2 s\n"
     ]
    }
   ],
   "source": [
    "%%time\n",
    "#rougher\n",
    "result.append(create_model('RandomForestRegressor', train_r,  TARGETS[0], parametrs=rfr_params))"
   ]
  },
  {
   "cell_type": "code",
   "execution_count": 41,
   "metadata": {},
   "outputs": [
    {
     "name": "stdout",
     "output_type": "stream",
     "text": [
      "CPU times: user 1min 18s, sys: 219 ms, total: 1min 19s\n",
      "Wall time: 1min 19s\n"
     ]
    }
   ],
   "source": [
    "%%time\n",
    "#final\n",
    "result.append(create_model('RandomForestRegressor', train,  TARGETS[1], parametrs=rfr_params))"
   ]
  },
  {
   "cell_type": "markdown",
   "metadata": {},
   "source": [
    "**Линейная регрессия**"
   ]
  },
  {
   "cell_type": "code",
   "execution_count": 42,
   "metadata": {},
   "outputs": [
    {
     "name": "stdout",
     "output_type": "stream",
     "text": [
      "CPU times: user 773 ms, sys: 1.63 s, total: 2.4 s\n",
      "Wall time: 2.36 s\n"
     ]
    }
   ],
   "source": [
    "%%time\n",
    "#rougher\n",
    "result.append(create_model('LinearRegression', train_r,  TARGETS[0], parametrs=lr_params))"
   ]
  },
  {
   "cell_type": "code",
   "execution_count": 43,
   "metadata": {},
   "outputs": [
    {
     "name": "stdout",
     "output_type": "stream",
     "text": [
      "CPU times: user 966 ms, sys: 2.49 s, total: 3.46 s\n",
      "Wall time: 3.41 s\n"
     ]
    }
   ],
   "source": [
    "%%time\n",
    "#final\n",
    "result.append(create_model('LinearRegression', train,  TARGETS[1], parametrs=lr_params))"
   ]
  },
  {
   "cell_type": "markdown",
   "metadata": {},
   "source": [
    "**Байесовская регрессия**"
   ]
  },
  {
   "cell_type": "code",
   "execution_count": 44,
   "metadata": {},
   "outputs": [
    {
     "name": "stdout",
     "output_type": "stream",
     "text": [
      "CPU times: user 797 ms, sys: 2.71 s, total: 3.5 s\n",
      "Wall time: 3.5 s\n"
     ]
    }
   ],
   "source": [
    "%%time\n",
    "#rougher\n",
    "result.append(create_model('BayesianRidge', train_r,  TARGETS[0], parametrs=lr_params))"
   ]
  },
  {
   "cell_type": "code",
   "execution_count": 45,
   "metadata": {
    "scrolled": true
   },
   "outputs": [
    {
     "name": "stdout",
     "output_type": "stream",
     "text": [
      "CPU times: user 2.06 s, sys: 4.5 s, total: 6.56 s\n",
      "Wall time: 6.6 s\n"
     ]
    }
   ],
   "source": [
    "%%time\n",
    "#final\n",
    "result.append(create_model('BayesianRidge', train,  TARGETS[1], parametrs=lr_params))"
   ]
  },
  {
   "cell_type": "markdown",
   "metadata": {},
   "source": [
    "Посмотрим получившиеся результаты"
   ]
  },
  {
   "cell_type": "code",
   "execution_count": 46,
   "metadata": {
    "scrolled": false
   },
   "outputs": [
    {
     "data": {
      "text/html": [
       "<div>\n",
       "<style scoped>\n",
       "    .dataframe tbody tr th:only-of-type {\n",
       "        vertical-align: middle;\n",
       "    }\n",
       "\n",
       "    .dataframe tbody tr th {\n",
       "        vertical-align: top;\n",
       "    }\n",
       "\n",
       "    .dataframe thead th {\n",
       "        text-align: right;\n",
       "    }\n",
       "</style>\n",
       "<table border=\"1\" class=\"dataframe\">\n",
       "  <thead>\n",
       "    <tr style=\"text-align: right;\">\n",
       "      <th></th>\n",
       "      <th>target</th>\n",
       "      <th>model</th>\n",
       "      <th>smap</th>\n",
       "      <th>hyperparams</th>\n",
       "    </tr>\n",
       "  </thead>\n",
       "  <tbody>\n",
       "    <tr>\n",
       "      <th>0</th>\n",
       "      <td>rougher.output.recovery</td>\n",
       "      <td>DecisionTreeRegressor</td>\n",
       "      <td>7.194747</td>\n",
       "      <td>{'max_depth': 7, 'min_samples_split': 100}</td>\n",
       "    </tr>\n",
       "    <tr>\n",
       "      <th>1</th>\n",
       "      <td>final.output.recovery</td>\n",
       "      <td>DecisionTreeRegressor</td>\n",
       "      <td>9.354336</td>\n",
       "      <td>{'max_depth': 2, 'min_samples_split': 20}</td>\n",
       "    </tr>\n",
       "    <tr>\n",
       "      <th>2</th>\n",
       "      <td>rougher.output.recovery</td>\n",
       "      <td>RandomForestRegressor</td>\n",
       "      <td>6.911798</td>\n",
       "      <td>{'max_depth': 7, 'min_samples_split': 100, 'n_...</td>\n",
       "    </tr>\n",
       "    <tr>\n",
       "      <th>3</th>\n",
       "      <td>final.output.recovery</td>\n",
       "      <td>RandomForestRegressor</td>\n",
       "      <td>8.834608</td>\n",
       "      <td>{'max_depth': 7, 'min_samples_split': 100, 'n_...</td>\n",
       "    </tr>\n",
       "    <tr>\n",
       "      <th>4</th>\n",
       "      <td>rougher.output.recovery</td>\n",
       "      <td>LinearRegression</td>\n",
       "      <td>5.987832</td>\n",
       "      <td>{'normalize': True}</td>\n",
       "    </tr>\n",
       "    <tr>\n",
       "      <th>5</th>\n",
       "      <td>final.output.recovery</td>\n",
       "      <td>LinearRegression</td>\n",
       "      <td>10.624917</td>\n",
       "      <td>{'normalize': True}</td>\n",
       "    </tr>\n",
       "    <tr>\n",
       "      <th>6</th>\n",
       "      <td>rougher.output.recovery</td>\n",
       "      <td>BayesianRidge</td>\n",
       "      <td>5.963045</td>\n",
       "      <td>{'normalize': True}</td>\n",
       "    </tr>\n",
       "    <tr>\n",
       "      <th>7</th>\n",
       "      <td>final.output.recovery</td>\n",
       "      <td>BayesianRidge</td>\n",
       "      <td>10.493995</td>\n",
       "      <td>{'normalize': True}</td>\n",
       "    </tr>\n",
       "  </tbody>\n",
       "</table>\n",
       "</div>"
      ],
      "text/plain": [
       "                    target                  model       smap  \\\n",
       "0  rougher.output.recovery  DecisionTreeRegressor   7.194747   \n",
       "1    final.output.recovery  DecisionTreeRegressor   9.354336   \n",
       "2  rougher.output.recovery  RandomForestRegressor   6.911798   \n",
       "3    final.output.recovery  RandomForestRegressor   8.834608   \n",
       "4  rougher.output.recovery       LinearRegression   5.987832   \n",
       "5    final.output.recovery       LinearRegression  10.624917   \n",
       "6  rougher.output.recovery          BayesianRidge   5.963045   \n",
       "7    final.output.recovery          BayesianRidge  10.493995   \n",
       "\n",
       "                                         hyperparams  \n",
       "0         {'max_depth': 7, 'min_samples_split': 100}  \n",
       "1          {'max_depth': 2, 'min_samples_split': 20}  \n",
       "2  {'max_depth': 7, 'min_samples_split': 100, 'n_...  \n",
       "3  {'max_depth': 7, 'min_samples_split': 100, 'n_...  \n",
       "4                                {'normalize': True}  \n",
       "5                                {'normalize': True}  \n",
       "6                                {'normalize': True}  \n",
       "7                                {'normalize': True}  "
      ]
     },
     "execution_count": 46,
     "metadata": {},
     "output_type": "execute_result"
    }
   ],
   "source": [
    "pd.DataFrame(result, columns=['target', 'model', 'smap', 'hyperparams'])"
   ]
  },
  {
   "cell_type": "markdown",
   "metadata": {},
   "source": [
    "Для `rougher.output.recovery` лучший результат (**5.963045**) показала модель BayesianRidge ({'normalize': True}) <br>\n",
    "Для `final.output.recovery` лучший результат (**8.834608**) RandomForestRegressor ({'max_depth': 7, 'min_samples_split': 100, 'n_estimators': 10})"
   ]
  },
  {
   "cell_type": "markdown",
   "metadata": {},
   "source": [
    "Итоговое sMAPE:"
   ]
  },
  {
   "cell_type": "code",
   "execution_count": 47,
   "metadata": {},
   "outputs": [
    {
     "data": {
      "text/plain": [
       "8.116717249999999"
      ]
     },
     "execution_count": 47,
     "metadata": {},
     "output_type": "execute_result"
    }
   ],
   "source": [
    "res_s_mape(5.963045, 8.834608)"
   ]
  },
  {
   "cell_type": "markdown",
   "metadata": {},
   "source": [
    "### Проверка модели на тестовых данных"
   ]
  },
  {
   "cell_type": "markdown",
   "metadata": {},
   "source": [
    "Первоначально предположим, что для тестовых данных нет истинных значений:"
   ]
  },
  {
   "cell_type": "code",
   "execution_count": 48,
   "metadata": {},
   "outputs": [],
   "source": [
    "df_test_r = df_test[df_test.columns[df_test.columns.str.contains('rougher')]]"
   ]
  },
  {
   "cell_type": "markdown",
   "metadata": {},
   "source": [
    "**`rougher.output.recovery`**"
   ]
  },
  {
   "cell_type": "code",
   "execution_count": 49,
   "metadata": {},
   "outputs": [],
   "source": [
    "rougher_model = BayesianRidge(normalize=True)\n",
    "rougher_model.fit(train_r.features, train_r.target)\n",
    "test_rougher = pd.Series(rougher_model.predict(df_test_r))"
   ]
  },
  {
   "cell_type": "markdown",
   "metadata": {},
   "source": [
    "**`final.output.recovery`**"
   ]
  },
  {
   "cell_type": "code",
   "execution_count": 50,
   "metadata": {},
   "outputs": [],
   "source": [
    "final_model = RandomForestRegressor(random_state=STATE, max_depth=7, min_samples_split=100, n_estimators=10)\n",
    "final_model.fit(train.features, train.target)\n",
    "test_final = pd.Series(final_model.predict(df_test))"
   ]
  },
  {
   "cell_type": "markdown",
   "metadata": {},
   "source": [
    "Т.к. пока что \"реальных\" данных нет, можно проверить полученные данные на базовую адекватность:\n",
    "- нет значений, выходящих за логические границы (менее 0 и более 100)\n",
    "- \"область\" предсказанных значений совпадает с имеющимися тренировочными (границы ожидаемых результатов)"
   ]
  },
  {
   "cell_type": "code",
   "execution_count": 51,
   "metadata": {},
   "outputs": [
    {
     "data": {
      "image/png": "[encoded data removed]",
      "text/plain": [
       "<Figure size 1080x360 with 1 Axes>"
      ]
     },
     "metadata": {
      "needs_background": "light"
     },
     "output_type": "display_data"
    }
   ],
   "source": [
    "test_rougher.hist(bins=50, density=1, alpha=.3)\n",
    "train_r.target.hist(bins=50, density=1, alpha=.4)\n",
    "plt.legend(['pred','real']);"
   ]
  },
  {
   "cell_type": "code",
   "execution_count": 52,
   "metadata": {},
   "outputs": [
    {
     "data": {
      "image/png": "[encoded data removed]",
      "text/plain": [
       "<Figure size 1080x360 with 1 Axes>"
      ]
     },
     "metadata": {
      "needs_background": "light"
     },
     "output_type": "display_data"
    }
   ],
   "source": [
    "test_final.hist(bins=50, density=1, alpha=.3)\n",
    "train.target.hist(bins=50, density=1, alpha=.4)\n",
    "plt.legend(['pred','real']);"
   ]
  },
  {
   "cell_type": "markdown",
   "metadata": {},
   "source": [
    "Для всех предсказанных значений аномальных значений нет, области совпадают с ожидаемыми. Можно предположить, что полученные предсказания корректны.\n",
    "\n",
    "\n",
    "Теперь из полного датафрейма получим реальные значения для тестовой выборки."
   ]
  },
  {
   "cell_type": "code",
   "execution_count": 53,
   "metadata": {},
   "outputs": [],
   "source": [
    "real_rougher = df_full.loc[df_test.index][TARGETS[0]].reset_index(drop=True)\n",
    "real_final = df_full.loc[df_test.index][TARGETS[1]].reset_index(drop=True)"
   ]
  },
  {
   "cell_type": "code",
   "execution_count": 54,
   "metadata": {},
   "outputs": [
    {
     "name": "stdout",
     "output_type": "stream",
     "text": [
      "sMAPE for rougher.output.recovery: 8.184949411387173\n",
      "sMAPE for final.output.recovery: 9.910791911763338\n",
      "Final sMAPE 9.479331286669296\n"
     ]
    }
   ],
   "source": [
    "smape_rougher = s_mape(real_rougher, test_rougher)\n",
    "print(f'sMAPE for rougher.output.recovery: {smape_rougher}')\n",
    "smape_final = s_mape(real_final, test_final)\n",
    "print(f'sMAPE for final.output.recovery: {smape_final}')\n",
    "print(f'Final sMAPE {res_s_mape(smape_rougher,smape_final)}')"
   ]
  },
  {
   "cell_type": "markdown",
   "metadata": {},
   "source": [
    "Изменение метрик относительно полученных при построении модели допустимо, модель для предсказания `rougher.output.recovery` со своей задачей справилась хуже."
   ]
  },
  {
   "cell_type": "markdown",
   "metadata": {},
   "source": [
    "### Проверка на адекватность\n"
   ]
  },
  {
   "cell_type": "code",
   "execution_count": 55,
   "metadata": {},
   "outputs": [],
   "source": [
    "dummy_mean_r = DummyRegressor(strategy = 'mean').fit(train_r.features, train_r.target)\n",
    "dummy_mean_f = DummyRegressor(strategy = 'mean').fit(train.features, train.target)"
   ]
  },
  {
   "cell_type": "code",
   "execution_count": 56,
   "metadata": {},
   "outputs": [],
   "source": [
    "dummy_pred_r = dummy_mean_r.predict(df_test_r)\n",
    "dummy_pred_f = dummy_mean_f.predict(df_test)"
   ]
  },
  {
   "cell_type": "code",
   "execution_count": 57,
   "metadata": {
    "scrolled": false
   },
   "outputs": [
    {
     "name": "stdout",
     "output_type": "stream",
     "text": [
      "sMAPE for rougher.output.recovery: 8.9808404111124\n",
      "sMAPE for final.output.recovery: 10.012788969374501\n",
      "Final sMAPE 9.754801829808976\n"
     ]
    }
   ],
   "source": [
    "smape_rougher = s_mape(real_rougher, dummy_pred_r)\n",
    "print(f'sMAPE for rougher.output.recovery: {smape_rougher}')\n",
    "smape_final = s_mape(real_final, dummy_pred_f)\n",
    "print(f'sMAPE for final.output.recovery: {smape_final}')\n",
    "print(f'Final sMAPE {res_s_mape(smape_rougher,smape_final)}')"
   ]
  },
  {
   "cell_type": "markdown",
   "metadata": {},
   "source": [
    "Все значения метрик константной модели выше, чем метрики выбранных моделей. Это значит, что выбранные модели имеют право на жизнь."
   ]
  },
  {
   "cell_type": "markdown",
   "metadata": {},
   "source": [
    "## Вывод"
   ]
  },
  {
   "cell_type": "markdown",
   "metadata": {},
   "source": [
    "В процессе работы были получены и изучены данные по процессу получения золота из золотосодержащей руды.\n",
    "- проведена проверка, что эффективность обогащения указана верно\n",
    "- проведена доступная обработка пропущенных и аномальных значений\n",
    "- выделены признаки для прогнозирования\n",
    "\n",
    "\n",
    "Проведен анализ данных\n",
    "- исследована концентрация металлов на различных этапах очистки\n",
    "- проведена проверка, что основные параметры (размер гранул) для тренировочной выборки и данных для прогнозирования совпадают\n",
    "- исследована суммарная концентрация отслеживаемых веществ на различных этапах\n",
    "\n",
    "\n",
    "Построены модели (метрика качества sMAPE)\n",
    "- DecisionTreeRegressor\n",
    "- RandomForestRegressor\n",
    "- LinearRegression \n",
    "- BayesianRidge \n",
    "\n",
    "для нахождения целевых параметров\n",
    "- эффективность обогащения чернового концентрата rougher.output.recovery\n",
    "- эффективность обогащения финального концентрата final.output.recovery"
   ]
  },
  {
   "cell_type": "markdown",
   "metadata": {},
   "source": [
    "Были выбраны модели\n",
    "- для `rougher.output.recovery` модель BayesianRidge (гиперпараметры {'normalize': True}) с sMAPE = **5.963045** (на тестовых данных **8.1849494**)\n",
    "- для `final.output.recovery` модель RandomForestRegressor (гиперпараметры  {'max_depth': 7, 'min_samples_split': 100, 'n_estimators': 10})  с sMAPE = **8.834608** (на тестовых данных  **10.012789**)\n",
    "- финальный sMAPE = **8.1167** (на тестовых данных **9.47933**)\n",
    "\n"
   ]
  },
  {
   "cell_type": "markdown",
   "metadata": {},
   "source": [
    "Полученные от метрик \"наивной\" модели отличаются совсем не так сильно, как хотелось бы, но все же имеют право на жизнь и дальнйшее улучшение.\n",
    "\n",
    "\n",
    "**Рекомендации**\n",
    "- для улучшений качества модели получить у источника данных сведения про аномальные значения в данных, в особенности аномальные значения  в параметрах типа `floatbank` - нормальны аномальные значения и как их интерпретировать.\n",
    "- текущие модели использовать с осторожностью"
   ]
  }
 ],
 "metadata": {
  "ExecuteTimeLog": [
   {
    "duration": 18,
    "start_time": "2022-10-17T07:28:46.605Z"
   },
   {
    "duration": 50,
    "start_time": "2022-10-17T07:28:57.719Z"
   },
   {
    "duration": 4,
    "start_time": "2022-10-17T07:29:03.428Z"
   },
   {
    "duration": 4,
    "start_time": "2022-10-17T07:29:25.523Z"
   },
   {
    "duration": 41,
    "start_time": "2022-10-17T07:29:44.568Z"
   },
   {
    "duration": 4,
    "start_time": "2022-10-17T07:29:57.256Z"
   },
   {
    "duration": 3,
    "start_time": "2022-10-17T07:30:39.560Z"
   },
   {
    "duration": 1588,
    "start_time": "2022-10-17T07:34:13.433Z"
   },
   {
    "duration": 1022,
    "start_time": "2022-10-17T07:34:49.453Z"
   },
   {
    "duration": 4,
    "start_time": "2022-10-17T07:35:00.761Z"
   },
   {
    "duration": 31,
    "start_time": "2022-10-17T07:35:19.885Z"
   },
   {
    "duration": 28,
    "start_time": "2022-10-17T07:35:46.641Z"
   },
   {
    "duration": 29,
    "start_time": "2022-10-17T07:36:12.769Z"
   },
   {
    "duration": 47,
    "start_time": "2022-10-17T09:10:21.675Z"
   },
   {
    "duration": 6,
    "start_time": "2022-10-17T09:11:00.499Z"
   },
   {
    "duration": 104,
    "start_time": "2022-10-17T09:11:09.784Z"
   },
   {
    "duration": 91,
    "start_time": "2022-10-17T09:11:12.780Z"
   },
   {
    "duration": 95,
    "start_time": "2022-10-17T09:11:25.098Z"
   },
   {
    "duration": 3,
    "start_time": "2022-10-17T09:11:28.839Z"
   },
   {
    "duration": 4,
    "start_time": "2022-10-17T09:11:58.296Z"
   },
   {
    "duration": 224,
    "start_time": "2022-10-17T09:12:02.923Z"
   },
   {
    "duration": 3,
    "start_time": "2022-10-17T09:12:04.671Z"
   },
   {
    "duration": 124,
    "start_time": "2022-10-17T09:12:27.187Z"
   },
   {
    "duration": 10,
    "start_time": "2022-10-17T09:12:32.706Z"
   },
   {
    "duration": 87,
    "start_time": "2022-10-17T09:12:35.753Z"
   },
   {
    "duration": 1947,
    "start_time": "2022-10-17T09:12:37.133Z"
   },
   {
    "duration": 40,
    "start_time": "2022-10-17T09:12:41.766Z"
   },
   {
    "duration": 2600,
    "start_time": "2022-10-17T09:21:16.018Z"
   },
   {
    "duration": 232,
    "start_time": "2022-10-17T09:21:22.927Z"
   },
   {
    "duration": 90,
    "start_time": "2022-10-17T09:21:26.043Z"
   },
   {
    "duration": 1178,
    "start_time": "2022-10-17T09:21:31.233Z"
   },
   {
    "duration": 1420,
    "start_time": "2022-10-17T11:23:08.750Z"
   },
   {
    "duration": 87,
    "start_time": "2022-10-17T11:23:13.785Z"
   },
   {
    "duration": 1183,
    "start_time": "2022-10-17T11:23:23.667Z"
   },
   {
    "duration": 36,
    "start_time": "2022-10-17T11:23:26.624Z"
   },
   {
    "duration": 26,
    "start_time": "2022-10-17T11:23:35.566Z"
   },
   {
    "duration": 442,
    "start_time": "2022-10-17T11:24:11.768Z"
   },
   {
    "duration": 13,
    "start_time": "2022-10-17T11:24:13.896Z"
   },
   {
    "duration": 286,
    "start_time": "2022-10-17T11:24:29.802Z"
   },
   {
    "duration": 16,
    "start_time": "2022-10-17T11:24:32.575Z"
   },
   {
    "duration": 518,
    "start_time": "2022-10-17T11:25:53.780Z"
   },
   {
    "duration": 4,
    "start_time": "2022-10-17T11:27:00.294Z"
   },
   {
    "duration": 504,
    "start_time": "2022-10-17T11:28:39.171Z"
   },
   {
    "duration": 5,
    "start_time": "2022-10-17T11:28:41.579Z"
   },
   {
    "duration": 5,
    "start_time": "2022-10-17T11:28:46.476Z"
   },
   {
    "duration": 620,
    "start_time": "2022-10-17T11:28:47.910Z"
   },
   {
    "duration": 5,
    "start_time": "2022-10-17T11:28:49.331Z"
   },
   {
    "duration": 5,
    "start_time": "2022-10-17T11:28:55.575Z"
   },
   {
    "duration": 527,
    "start_time": "2022-10-17T11:28:57.658Z"
   },
   {
    "duration": 6,
    "start_time": "2022-10-17T11:29:00.579Z"
   },
   {
    "duration": 6,
    "start_time": "2022-10-17T11:29:08.345Z"
   },
   {
    "duration": 491,
    "start_time": "2022-10-17T11:29:09.484Z"
   },
   {
    "duration": 4,
    "start_time": "2022-10-17T11:29:11.200Z"
   },
   {
    "duration": 5,
    "start_time": "2022-10-17T11:29:15.400Z"
   },
   {
    "duration": 5,
    "start_time": "2022-10-17T11:29:19.441Z"
   },
   {
    "duration": 7,
    "start_time": "2022-10-17T11:29:40.105Z"
   },
   {
    "duration": 5,
    "start_time": "2022-10-17T11:29:53.596Z"
   },
   {
    "duration": 107,
    "start_time": "2022-10-17T11:29:57.680Z"
   },
   {
    "duration": 5,
    "start_time": "2022-10-17T11:30:02.565Z"
   },
   {
    "duration": 5,
    "start_time": "2022-10-17T11:30:17.642Z"
   },
   {
    "duration": 520,
    "start_time": "2022-10-17T11:30:19.634Z"
   },
   {
    "duration": 4,
    "start_time": "2022-10-17T11:31:29.778Z"
   },
   {
    "duration": 8,
    "start_time": "2022-10-17T11:31:34.640Z"
   },
   {
    "duration": 316,
    "start_time": "2022-10-17T11:31:41.932Z"
   },
   {
    "duration": 28,
    "start_time": "2022-10-17T11:31:43.876Z"
   },
   {
    "duration": 5,
    "start_time": "2022-10-17T11:32:06.888Z"
   },
   {
    "duration": 9,
    "start_time": "2022-10-17T11:32:20.059Z"
   },
   {
    "duration": 3,
    "start_time": "2022-10-17T11:32:23.339Z"
   },
   {
    "duration": 9,
    "start_time": "2022-10-17T11:32:32.276Z"
   },
   {
    "duration": 10,
    "start_time": "2022-10-17T11:32:36.684Z"
   },
   {
    "duration": 3,
    "start_time": "2022-10-17T11:32:38.180Z"
   },
   {
    "duration": 4,
    "start_time": "2022-10-17T11:33:01.497Z"
   },
   {
    "duration": 3,
    "start_time": "2022-10-17T11:33:22.855Z"
   },
   {
    "duration": 4,
    "start_time": "2022-10-17T11:33:26.548Z"
   },
   {
    "duration": 16,
    "start_time": "2022-10-17T11:33:54.925Z"
   },
   {
    "duration": 28,
    "start_time": "2022-10-17T11:34:01.637Z"
   },
   {
    "duration": 14,
    "start_time": "2022-10-17T11:37:35.004Z"
   },
   {
    "duration": 5,
    "start_time": "2022-10-17T12:02:27.787Z"
   },
   {
    "duration": 5,
    "start_time": "2022-10-17T12:05:46.661Z"
   },
   {
    "duration": 5,
    "start_time": "2022-10-17T12:08:37.316Z"
   },
   {
    "duration": 10,
    "start_time": "2022-10-17T12:08:49.292Z"
   },
   {
    "duration": 6,
    "start_time": "2022-10-17T12:08:53.992Z"
   },
   {
    "duration": 5,
    "start_time": "2022-10-17T12:09:13.732Z"
   },
   {
    "duration": 6,
    "start_time": "2022-10-17T12:09:20.009Z"
   },
   {
    "duration": 5,
    "start_time": "2022-10-17T12:09:27.899Z"
   },
   {
    "duration": 5,
    "start_time": "2022-10-17T12:09:33.991Z"
   },
   {
    "duration": 5,
    "start_time": "2022-10-17T12:09:38.838Z"
   },
   {
    "duration": 6,
    "start_time": "2022-10-17T12:10:13.989Z"
   },
   {
    "duration": 118,
    "start_time": "2022-10-17T12:12:31.347Z"
   },
   {
    "duration": 15,
    "start_time": "2022-10-17T12:12:52.997Z"
   },
   {
    "duration": 9,
    "start_time": "2022-10-17T12:13:04.746Z"
   },
   {
    "duration": 13,
    "start_time": "2022-10-17T12:13:20.726Z"
   },
   {
    "duration": 9,
    "start_time": "2022-10-17T12:13:25.886Z"
   },
   {
    "duration": 10,
    "start_time": "2022-10-17T12:13:45.388Z"
   },
   {
    "duration": 9,
    "start_time": "2022-10-17T12:13:59.298Z"
   },
   {
    "duration": 5,
    "start_time": "2022-10-17T12:14:38.717Z"
   },
   {
    "duration": 9,
    "start_time": "2022-10-17T12:16:47.447Z"
   },
   {
    "duration": 358,
    "start_time": "2022-10-17T12:16:49.583Z"
   },
   {
    "duration": 6,
    "start_time": "2022-10-17T12:16:50.941Z"
   },
   {
    "duration": 8,
    "start_time": "2022-10-17T12:17:15.442Z"
   },
   {
    "duration": 23,
    "start_time": "2022-10-17T12:18:07.254Z"
   },
   {
    "duration": 21,
    "start_time": "2022-10-17T12:18:59.736Z"
   },
   {
    "duration": 14,
    "start_time": "2022-10-17T12:26:41.484Z"
   },
   {
    "duration": 8,
    "start_time": "2022-10-17T12:49:37.759Z"
   },
   {
    "duration": 9,
    "start_time": "2022-10-17T13:04:16.742Z"
   },
   {
    "duration": 10,
    "start_time": "2022-10-17T13:04:24.993Z"
   },
   {
    "duration": 27,
    "start_time": "2022-10-17T13:04:44.138Z"
   },
   {
    "duration": 10,
    "start_time": "2022-10-17T13:06:12.921Z"
   },
   {
    "duration": 6,
    "start_time": "2022-10-17T13:06:28.297Z"
   },
   {
    "duration": 8,
    "start_time": "2022-10-17T13:06:52.679Z"
   },
   {
    "duration": 33,
    "start_time": "2022-10-17T13:07:30.655Z"
   },
   {
    "duration": 13,
    "start_time": "2022-10-17T13:07:35.740Z"
   },
   {
    "duration": 7,
    "start_time": "2022-10-17T13:07:50.201Z"
   },
   {
    "duration": 8,
    "start_time": "2022-10-17T13:08:41.673Z"
   },
   {
    "duration": 11,
    "start_time": "2022-10-17T13:10:25.100Z"
   },
   {
    "duration": 15,
    "start_time": "2022-10-17T13:17:14.503Z"
   },
   {
    "duration": 10,
    "start_time": "2022-10-17T13:17:38.442Z"
   },
   {
    "duration": 11,
    "start_time": "2022-10-17T13:17:38.559Z"
   },
   {
    "duration": 13,
    "start_time": "2022-10-17T13:17:53.266Z"
   },
   {
    "duration": 10,
    "start_time": "2022-10-17T13:22:22.568Z"
   },
   {
    "duration": 10,
    "start_time": "2022-10-17T13:22:33.550Z"
   },
   {
    "duration": 11,
    "start_time": "2022-10-17T13:22:36.756Z"
   },
   {
    "duration": 6,
    "start_time": "2022-10-17T13:22:41.499Z"
   },
   {
    "duration": 10,
    "start_time": "2022-10-17T13:23:01.915Z"
   },
   {
    "duration": 6,
    "start_time": "2022-10-17T13:23:10.988Z"
   },
   {
    "duration": 145,
    "start_time": "2022-10-17T13:23:18.302Z"
   },
   {
    "duration": 144,
    "start_time": "2022-10-17T13:23:31.528Z"
   },
   {
    "duration": 392,
    "start_time": "2022-10-17T13:23:47.114Z"
   },
   {
    "duration": 14,
    "start_time": "2022-10-17T13:24:22.800Z"
   },
   {
    "duration": 151,
    "start_time": "2022-10-17T13:24:52.948Z"
   },
   {
    "duration": 114,
    "start_time": "2022-10-17T13:24:59.998Z"
   },
   {
    "duration": 108,
    "start_time": "2022-10-17T13:25:30.791Z"
   },
   {
    "duration": 102,
    "start_time": "2022-10-17T13:25:37.372Z"
   },
   {
    "duration": 126,
    "start_time": "2022-10-17T13:25:53.681Z"
   },
   {
    "duration": 109,
    "start_time": "2022-10-17T13:26:25.519Z"
   },
   {
    "duration": 102,
    "start_time": "2022-10-17T13:27:55.796Z"
   },
   {
    "duration": 101,
    "start_time": "2022-10-17T13:28:12.568Z"
   },
   {
    "duration": 99,
    "start_time": "2022-10-17T13:28:19.332Z"
   },
   {
    "duration": 199,
    "start_time": "2022-10-17T13:30:22.439Z"
   },
   {
    "duration": 101,
    "start_time": "2022-10-17T13:30:26.149Z"
   },
   {
    "duration": 109,
    "start_time": "2022-10-17T13:30:30.589Z"
   },
   {
    "duration": 112,
    "start_time": "2022-10-17T13:30:34.567Z"
   },
   {
    "duration": 97,
    "start_time": "2022-10-17T13:30:39.441Z"
   },
   {
    "duration": 130,
    "start_time": "2022-10-17T13:31:26.266Z"
   },
   {
    "duration": 110,
    "start_time": "2022-10-17T13:31:38.112Z"
   },
   {
    "duration": 112,
    "start_time": "2022-10-17T13:32:00.364Z"
   },
   {
    "duration": 128,
    "start_time": "2022-10-17T13:33:32.403Z"
   },
   {
    "duration": 117,
    "start_time": "2022-10-17T13:33:41.281Z"
   },
   {
    "duration": 117,
    "start_time": "2022-10-17T13:33:51.057Z"
   },
   {
    "duration": 10,
    "start_time": "2022-10-17T13:34:01.567Z"
   },
   {
    "duration": 122,
    "start_time": "2022-10-17T13:34:08.955Z"
   },
   {
    "duration": 108,
    "start_time": "2022-10-17T13:39:39.667Z"
   },
   {
    "duration": 111,
    "start_time": "2022-10-17T13:41:31.942Z"
   },
   {
    "duration": 85,
    "start_time": "2022-10-17T13:41:52.009Z"
   },
   {
    "duration": 186,
    "start_time": "2022-10-17T13:41:55.367Z"
   },
   {
    "duration": 70,
    "start_time": "2022-10-17T13:42:03.741Z"
   },
   {
    "duration": 118,
    "start_time": "2022-10-17T13:42:29.488Z"
   },
   {
    "duration": 114,
    "start_time": "2022-10-17T13:43:02.148Z"
   },
   {
    "duration": 111,
    "start_time": "2022-10-17T13:43:27.323Z"
   },
   {
    "duration": 9,
    "start_time": "2022-10-17T13:44:29.664Z"
   },
   {
    "duration": 3,
    "start_time": "2022-10-17T13:45:00.450Z"
   },
   {
    "duration": 4,
    "start_time": "2022-10-17T13:45:01.647Z"
   },
   {
    "duration": 356,
    "start_time": "2022-10-17T13:45:07.524Z"
   },
   {
    "duration": 149,
    "start_time": "2022-10-17T13:45:12.997Z"
   },
   {
    "duration": 141,
    "start_time": "2022-10-17T13:45:21.897Z"
   },
   {
    "duration": 3,
    "start_time": "2022-10-17T14:09:17.646Z"
   },
   {
    "duration": 5,
    "start_time": "2022-10-17T14:10:39.477Z"
   },
   {
    "duration": 5,
    "start_time": "2022-10-17T14:10:43.853Z"
   },
   {
    "duration": 6,
    "start_time": "2022-10-17T14:11:07.735Z"
   },
   {
    "duration": 5,
    "start_time": "2022-10-17T14:11:17.409Z"
   },
   {
    "duration": 8,
    "start_time": "2022-10-17T14:11:19.218Z"
   },
   {
    "duration": 6,
    "start_time": "2022-10-17T14:12:34.691Z"
   },
   {
    "duration": 5,
    "start_time": "2022-10-17T14:12:46.514Z"
   },
   {
    "duration": 4,
    "start_time": "2022-10-17T14:12:52.190Z"
   },
   {
    "duration": 8,
    "start_time": "2022-10-17T14:13:04.271Z"
   },
   {
    "duration": 5,
    "start_time": "2022-10-17T14:13:08.861Z"
   },
   {
    "duration": 7,
    "start_time": "2022-10-17T14:13:30.211Z"
   },
   {
    "duration": 6,
    "start_time": "2022-10-17T14:13:50.110Z"
   },
   {
    "duration": 7,
    "start_time": "2022-10-17T14:13:53.725Z"
   },
   {
    "duration": 6,
    "start_time": "2022-10-17T14:14:36.102Z"
   },
   {
    "duration": 7,
    "start_time": "2022-10-17T14:14:41.424Z"
   },
   {
    "duration": 7,
    "start_time": "2022-10-17T14:14:50.295Z"
   },
   {
    "duration": 7,
    "start_time": "2022-10-17T14:15:09.175Z"
   },
   {
    "duration": 7,
    "start_time": "2022-10-17T14:15:21.029Z"
   },
   {
    "duration": 7,
    "start_time": "2022-10-17T14:15:34.641Z"
   },
   {
    "duration": 6,
    "start_time": "2022-10-17T14:15:43.070Z"
   },
   {
    "duration": 1732,
    "start_time": "2022-10-17T19:10:27.675Z"
   },
   {
    "duration": 5,
    "start_time": "2022-10-17T19:10:29.410Z"
   },
   {
    "duration": 99,
    "start_time": "2022-10-17T19:10:29.417Z"
   },
   {
    "duration": 5,
    "start_time": "2022-10-17T19:10:29.519Z"
   },
   {
    "duration": 1671,
    "start_time": "2022-10-17T19:10:29.526Z"
   },
   {
    "duration": 5,
    "start_time": "2022-10-17T19:10:31.199Z"
   },
   {
    "duration": 22,
    "start_time": "2022-10-17T19:10:31.206Z"
   },
   {
    "duration": 25,
    "start_time": "2022-10-17T19:10:31.230Z"
   },
   {
    "duration": 18,
    "start_time": "2022-10-17T19:10:31.257Z"
   },
   {
    "duration": 3,
    "start_time": "2022-10-17T19:10:31.277Z"
   },
   {
    "duration": 12,
    "start_time": "2022-10-17T19:10:31.282Z"
   },
   {
    "duration": 9,
    "start_time": "2022-10-17T19:10:31.296Z"
   },
   {
    "duration": 8,
    "start_time": "2022-10-17T19:10:31.307Z"
   },
   {
    "duration": 479,
    "start_time": "2022-10-17T19:10:31.317Z"
   },
   {
    "duration": 221,
    "start_time": "2022-10-17T19:10:31.799Z"
   },
   {
    "duration": 114,
    "start_time": "2022-10-17T19:13:56.865Z"
   },
   {
    "duration": 4,
    "start_time": "2022-10-17T19:14:03.331Z"
   },
   {
    "duration": 5,
    "start_time": "2022-10-17T19:14:10.995Z"
   },
   {
    "duration": 6,
    "start_time": "2022-10-17T19:19:04.145Z"
   },
   {
    "duration": 16,
    "start_time": "2022-10-17T19:23:40.193Z"
   },
   {
    "duration": 23,
    "start_time": "2022-10-17T19:38:59.114Z"
   },
   {
    "duration": 20,
    "start_time": "2022-10-17T19:39:23.519Z"
   },
   {
    "duration": 5,
    "start_time": "2022-10-17T19:39:28.766Z"
   },
   {
    "duration": 8,
    "start_time": "2022-10-17T19:39:53.162Z"
   },
   {
    "duration": 39,
    "start_time": "2022-10-17T19:41:39.378Z"
   },
   {
    "duration": 8,
    "start_time": "2022-10-17T19:41:45.267Z"
   },
   {
    "duration": 1257,
    "start_time": "2022-10-17T19:42:13.579Z"
   },
   {
    "duration": 1265,
    "start_time": "2022-10-17T19:42:29.405Z"
   },
   {
    "duration": 7,
    "start_time": "2022-10-17T19:42:38.905Z"
   },
   {
    "duration": 41,
    "start_time": "2022-10-17T19:42:46.595Z"
   },
   {
    "duration": 10,
    "start_time": "2022-10-17T19:45:05.438Z"
   },
   {
    "duration": 24,
    "start_time": "2022-10-17T19:45:08.860Z"
   },
   {
    "duration": 8,
    "start_time": "2022-10-17T19:45:13.717Z"
   },
   {
    "duration": 31,
    "start_time": "2022-10-17T19:45:56.613Z"
   },
   {
    "duration": 6,
    "start_time": "2022-10-17T19:46:04.600Z"
   },
   {
    "duration": 6,
    "start_time": "2022-10-17T19:46:16.272Z"
   },
   {
    "duration": 77,
    "start_time": "2022-10-17T19:47:11.730Z"
   },
   {
    "duration": 141,
    "start_time": "2022-10-17T19:49:17.112Z"
   },
   {
    "duration": 10,
    "start_time": "2022-10-17T19:57:15.116Z"
   },
   {
    "duration": 12,
    "start_time": "2022-10-17T19:57:48.227Z"
   },
   {
    "duration": 795,
    "start_time": "2022-10-17T19:57:56.283Z"
   },
   {
    "duration": 803,
    "start_time": "2022-10-17T19:58:05.050Z"
   },
   {
    "duration": 538,
    "start_time": "2022-10-17T19:58:34.077Z"
   },
   {
    "duration": 968,
    "start_time": "2022-10-17T19:58:51.846Z"
   },
   {
    "duration": 922,
    "start_time": "2022-10-17T20:00:01.240Z"
   },
   {
    "duration": 207,
    "start_time": "2022-10-17T20:00:07.473Z"
   },
   {
    "duration": 200,
    "start_time": "2022-10-17T20:00:19.706Z"
   },
   {
    "duration": 427,
    "start_time": "2022-10-17T20:00:24.912Z"
   },
   {
    "duration": 967,
    "start_time": "2022-10-17T20:00:36.495Z"
   },
   {
    "duration": 303,
    "start_time": "2022-10-17T20:02:28.605Z"
   },
   {
    "duration": 588,
    "start_time": "2022-10-17T20:02:35.729Z"
   },
   {
    "duration": 1071,
    "start_time": "2022-10-17T20:02:53.984Z"
   },
   {
    "duration": 559,
    "start_time": "2022-10-17T20:03:10.967Z"
   },
   {
    "duration": 1757,
    "start_time": "2022-10-17T20:03:56.493Z"
   },
   {
    "duration": 459,
    "start_time": "2022-10-17T20:05:39.044Z"
   },
   {
    "duration": 563,
    "start_time": "2022-10-17T20:05:48.272Z"
   },
   {
    "duration": 1795,
    "start_time": "2022-10-17T20:06:12.170Z"
   },
   {
    "duration": 615,
    "start_time": "2022-10-17T20:07:29.171Z"
   },
   {
    "duration": 503,
    "start_time": "2022-10-17T20:08:01.469Z"
   },
   {
    "duration": 456,
    "start_time": "2022-10-17T20:09:02.653Z"
   },
   {
    "duration": 622,
    "start_time": "2022-10-17T20:09:09.706Z"
   },
   {
    "duration": 447,
    "start_time": "2022-10-17T20:09:14.230Z"
   },
   {
    "duration": 587,
    "start_time": "2022-10-17T20:09:31.068Z"
   },
   {
    "duration": 569,
    "start_time": "2022-10-17T20:09:57.945Z"
   },
   {
    "duration": 10,
    "start_time": "2022-10-17T20:16:43.798Z"
   },
   {
    "duration": 5,
    "start_time": "2022-10-17T20:16:48.068Z"
   },
   {
    "duration": 4,
    "start_time": "2022-10-17T20:16:53.005Z"
   },
   {
    "duration": 3,
    "start_time": "2022-10-17T20:17:02.659Z"
   },
   {
    "duration": 4,
    "start_time": "2022-10-17T20:17:05.283Z"
   },
   {
    "duration": 5,
    "start_time": "2022-10-17T20:17:15.815Z"
   },
   {
    "duration": 5,
    "start_time": "2022-10-17T20:17:17.580Z"
   },
   {
    "duration": 17,
    "start_time": "2022-10-17T20:18:20.885Z"
   },
   {
    "duration": 25,
    "start_time": "2022-10-17T20:18:37.225Z"
   },
   {
    "duration": 188,
    "start_time": "2022-10-17T20:18:48.943Z"
   },
   {
    "duration": 294,
    "start_time": "2022-10-17T20:18:52.724Z"
   },
   {
    "duration": 163,
    "start_time": "2022-10-17T20:19:27.027Z"
   },
   {
    "duration": 163,
    "start_time": "2022-10-17T20:19:44.341Z"
   },
   {
    "duration": 166,
    "start_time": "2022-10-17T20:19:52.471Z"
   },
   {
    "duration": 4,
    "start_time": "2022-10-17T20:21:18.505Z"
   },
   {
    "duration": 67,
    "start_time": "2022-10-17T20:21:20.907Z"
   },
   {
    "duration": 12,
    "start_time": "2022-10-17T20:21:32.796Z"
   },
   {
    "duration": 4,
    "start_time": "2022-10-17T20:21:48.637Z"
   },
   {
    "duration": 4,
    "start_time": "2022-10-17T20:21:49.595Z"
   },
   {
    "duration": 154,
    "start_time": "2022-10-17T20:21:51.455Z"
   },
   {
    "duration": 164,
    "start_time": "2022-10-17T20:21:56.954Z"
   },
   {
    "duration": 13,
    "start_time": "2022-10-17T20:21:59.330Z"
   },
   {
    "duration": 8,
    "start_time": "2022-10-17T20:22:07.630Z"
   },
   {
    "duration": 159,
    "start_time": "2022-10-17T20:22:20.324Z"
   },
   {
    "duration": 162,
    "start_time": "2022-10-17T20:22:29.546Z"
   },
   {
    "duration": 159,
    "start_time": "2022-10-17T20:22:36.634Z"
   },
   {
    "duration": 12,
    "start_time": "2022-10-17T20:22:53.702Z"
   },
   {
    "duration": 14,
    "start_time": "2022-10-17T20:22:58.889Z"
   },
   {
    "duration": 168,
    "start_time": "2022-10-17T20:23:32.432Z"
   },
   {
    "duration": 633,
    "start_time": "2022-10-17T20:24:35.441Z"
   },
   {
    "duration": 553,
    "start_time": "2022-10-17T20:25:03.487Z"
   },
   {
    "duration": 527,
    "start_time": "2022-10-17T20:25:25.096Z"
   },
   {
    "duration": 657,
    "start_time": "2022-10-17T20:25:28.317Z"
   },
   {
    "duration": 645,
    "start_time": "2022-10-17T20:25:35.574Z"
   },
   {
    "duration": 10,
    "start_time": "2022-10-17T20:27:34.976Z"
   },
   {
    "duration": 920,
    "start_time": "2022-10-17T20:27:39.910Z"
   },
   {
    "duration": 669,
    "start_time": "2022-10-17T20:28:09.699Z"
   },
   {
    "duration": 649,
    "start_time": "2022-10-17T20:28:16.103Z"
   },
   {
    "duration": 435,
    "start_time": "2022-10-17T20:28:56.141Z"
   },
   {
    "duration": 250,
    "start_time": "2022-10-17T20:29:25.483Z"
   },
   {
    "duration": 265,
    "start_time": "2022-10-17T20:29:39.952Z"
   },
   {
    "duration": 261,
    "start_time": "2022-10-17T20:29:52.547Z"
   },
   {
    "duration": 267,
    "start_time": "2022-10-17T20:29:56.783Z"
   },
   {
    "duration": 142,
    "start_time": "2022-10-17T20:31:15.526Z"
   },
   {
    "duration": 180,
    "start_time": "2022-10-17T20:33:20.326Z"
   },
   {
    "duration": 159,
    "start_time": "2022-10-17T20:33:28.423Z"
   },
   {
    "duration": 218,
    "start_time": "2022-10-17T20:33:36.828Z"
   },
   {
    "duration": 210,
    "start_time": "2022-10-17T20:34:00.652Z"
   },
   {
    "duration": 181,
    "start_time": "2022-10-17T20:34:05.511Z"
   },
   {
    "duration": 186,
    "start_time": "2022-10-17T20:34:16.511Z"
   },
   {
    "duration": 4,
    "start_time": "2022-10-17T20:34:35.934Z"
   },
   {
    "duration": 6,
    "start_time": "2022-10-17T20:34:37.664Z"
   },
   {
    "duration": 186,
    "start_time": "2022-10-17T20:34:39.194Z"
   },
   {
    "duration": 268,
    "start_time": "2022-10-17T20:34:50.517Z"
   },
   {
    "duration": 13,
    "start_time": "2022-10-17T20:36:01.780Z"
   },
   {
    "duration": 4,
    "start_time": "2022-10-17T20:36:03.131Z"
   },
   {
    "duration": 192,
    "start_time": "2022-10-17T20:36:04.416Z"
   },
   {
    "duration": 269,
    "start_time": "2022-10-17T20:36:12.416Z"
   },
   {
    "duration": 258,
    "start_time": "2022-10-17T20:36:46.960Z"
   },
   {
    "duration": 287,
    "start_time": "2022-10-17T20:36:53.187Z"
   },
   {
    "duration": 3,
    "start_time": "2022-10-17T20:36:58.722Z"
   },
   {
    "duration": 5,
    "start_time": "2022-10-17T20:37:00.117Z"
   },
   {
    "duration": 192,
    "start_time": "2022-10-17T20:37:01.226Z"
   },
   {
    "duration": 282,
    "start_time": "2022-10-17T20:37:05.139Z"
   },
   {
    "duration": 4,
    "start_time": "2022-10-17T20:37:46.927Z"
   },
   {
    "duration": 5,
    "start_time": "2022-10-17T20:37:48.987Z"
   },
   {
    "duration": 214,
    "start_time": "2022-10-17T20:37:50.615Z"
   },
   {
    "duration": 272,
    "start_time": "2022-10-17T20:37:56.297Z"
   },
   {
    "duration": 3,
    "start_time": "2022-10-17T20:39:01.556Z"
   },
   {
    "duration": 4,
    "start_time": "2022-10-17T20:39:03.937Z"
   },
   {
    "duration": 205,
    "start_time": "2022-10-17T20:39:05.048Z"
   },
   {
    "duration": 318,
    "start_time": "2022-10-17T20:39:55.675Z"
   },
   {
    "duration": 3,
    "start_time": "2022-10-17T20:48:15.826Z"
   },
   {
    "duration": 449,
    "start_time": "2022-10-17T20:48:17.558Z"
   },
   {
    "duration": 4,
    "start_time": "2022-10-17T20:52:00.113Z"
   },
   {
    "duration": 458,
    "start_time": "2022-10-17T20:52:27.432Z"
   },
   {
    "duration": 5,
    "start_time": "2022-10-17T20:52:55.368Z"
   },
   {
    "duration": 502,
    "start_time": "2022-10-17T20:53:01.161Z"
   },
   {
    "duration": 5,
    "start_time": "2022-10-17T20:53:51.587Z"
   },
   {
    "duration": 472,
    "start_time": "2022-10-17T20:53:53.306Z"
   },
   {
    "duration": 5,
    "start_time": "2022-10-17T20:55:02.365Z"
   },
   {
    "duration": 456,
    "start_time": "2022-10-17T20:55:03.933Z"
   },
   {
    "duration": 4,
    "start_time": "2022-10-17T20:55:32.470Z"
   },
   {
    "duration": 448,
    "start_time": "2022-10-17T20:55:34.431Z"
   },
   {
    "duration": 4,
    "start_time": "2022-10-17T20:55:59.653Z"
   },
   {
    "duration": 524,
    "start_time": "2022-10-17T20:56:01.326Z"
   },
   {
    "duration": 4,
    "start_time": "2022-10-17T20:56:14.136Z"
   },
   {
    "duration": 477,
    "start_time": "2022-10-17T20:56:16.435Z"
   },
   {
    "duration": 7,
    "start_time": "2022-10-17T20:57:01.830Z"
   },
   {
    "duration": 477,
    "start_time": "2022-10-17T20:57:02.850Z"
   },
   {
    "duration": 4,
    "start_time": "2022-10-17T20:57:22.606Z"
   },
   {
    "duration": 467,
    "start_time": "2022-10-17T20:57:27.914Z"
   },
   {
    "duration": 464,
    "start_time": "2022-10-17T20:58:40.997Z"
   },
   {
    "duration": 1473,
    "start_time": "2022-10-17T21:03:40.101Z"
   },
   {
    "duration": 4,
    "start_time": "2022-10-17T21:03:41.576Z"
   },
   {
    "duration": 98,
    "start_time": "2022-10-17T21:03:41.581Z"
   },
   {
    "duration": 1449,
    "start_time": "2022-10-17T21:03:41.681Z"
   },
   {
    "duration": 17,
    "start_time": "2022-10-17T21:03:43.132Z"
   },
   {
    "duration": 16,
    "start_time": "2022-10-17T21:03:43.151Z"
   },
   {
    "duration": 6,
    "start_time": "2022-10-17T21:03:43.169Z"
   },
   {
    "duration": 5,
    "start_time": "2022-10-17T21:03:43.176Z"
   },
   {
    "duration": 11,
    "start_time": "2022-10-17T21:03:43.189Z"
   },
   {
    "duration": 5,
    "start_time": "2022-10-17T21:03:43.202Z"
   },
   {
    "duration": 147,
    "start_time": "2022-10-17T21:03:43.209Z"
   },
   {
    "duration": 6,
    "start_time": "2022-10-17T21:03:43.358Z"
   },
   {
    "duration": 24,
    "start_time": "2022-10-17T21:03:43.365Z"
   },
   {
    "duration": 6,
    "start_time": "2022-10-17T21:03:43.391Z"
   },
   {
    "duration": 15,
    "start_time": "2022-10-17T21:03:43.399Z"
   },
   {
    "duration": 507,
    "start_time": "2022-10-17T21:03:43.416Z"
   },
   {
    "duration": 160,
    "start_time": "2022-10-17T21:03:43.925Z"
   },
   {
    "duration": 4,
    "start_time": "2022-10-17T21:03:44.089Z"
   },
   {
    "duration": 567,
    "start_time": "2022-10-17T21:03:44.095Z"
   },
   {
    "duration": 115,
    "start_time": "2022-10-17T21:17:54.082Z"
   },
   {
    "duration": 3,
    "start_time": "2022-10-17T21:17:58.506Z"
   },
   {
    "duration": 4,
    "start_time": "2022-10-17T21:18:03.617Z"
   },
   {
    "duration": 3,
    "start_time": "2022-10-17T21:18:12.328Z"
   },
   {
    "duration": 4,
    "start_time": "2022-10-17T21:18:14.450Z"
   },
   {
    "duration": 8,
    "start_time": "2022-10-17T21:18:29.808Z"
   },
   {
    "duration": 4,
    "start_time": "2022-10-17T21:18:47.949Z"
   },
   {
    "duration": 8,
    "start_time": "2022-10-17T21:18:49.584Z"
   },
   {
    "duration": 7,
    "start_time": "2022-10-17T21:19:12.275Z"
   },
   {
    "duration": 8,
    "start_time": "2022-10-17T21:19:17.835Z"
   },
   {
    "duration": 5,
    "start_time": "2022-10-17T21:20:05.901Z"
   },
   {
    "duration": 12,
    "start_time": "2022-10-17T21:20:17.867Z"
   },
   {
    "duration": 6,
    "start_time": "2022-10-17T21:20:22.001Z"
   },
   {
    "duration": 6,
    "start_time": "2022-10-17T21:20:25.484Z"
   },
   {
    "duration": 9,
    "start_time": "2022-10-17T21:22:14.598Z"
   },
   {
    "duration": 11,
    "start_time": "2022-10-17T21:22:32.990Z"
   },
   {
    "duration": 5,
    "start_time": "2022-10-17T21:22:42.387Z"
   },
   {
    "duration": 10,
    "start_time": "2022-10-17T21:22:46.507Z"
   },
   {
    "duration": 8,
    "start_time": "2022-10-17T21:23:14.050Z"
   },
   {
    "duration": 10,
    "start_time": "2022-10-17T21:23:38.052Z"
   },
   {
    "duration": 5,
    "start_time": "2022-10-17T21:26:45.109Z"
   },
   {
    "duration": 5,
    "start_time": "2022-10-17T21:26:48.777Z"
   },
   {
    "duration": 6,
    "start_time": "2022-10-17T21:26:55.629Z"
   },
   {
    "duration": 12,
    "start_time": "2022-10-17T21:27:01.894Z"
   },
   {
    "duration": 10,
    "start_time": "2022-10-17T21:27:08.566Z"
   },
   {
    "duration": 8,
    "start_time": "2022-10-17T21:27:23.763Z"
   },
   {
    "duration": 8,
    "start_time": "2022-10-17T21:27:29.508Z"
   },
   {
    "duration": 11,
    "start_time": "2022-10-17T21:29:16.620Z"
   },
   {
    "duration": 7,
    "start_time": "2022-10-17T21:29:27.429Z"
   },
   {
    "duration": 35,
    "start_time": "2022-10-17T21:30:43.030Z"
   },
   {
    "duration": 19,
    "start_time": "2022-10-17T21:31:16.828Z"
   },
   {
    "duration": 22,
    "start_time": "2022-10-17T21:31:22.033Z"
   },
   {
    "duration": 28,
    "start_time": "2022-10-17T21:31:38.654Z"
   },
   {
    "duration": 20,
    "start_time": "2022-10-17T21:31:53.131Z"
   },
   {
    "duration": 20,
    "start_time": "2022-10-17T21:32:34.046Z"
   },
   {
    "duration": 6,
    "start_time": "2022-10-17T21:35:07.195Z"
   },
   {
    "duration": 6,
    "start_time": "2022-10-17T21:35:11.255Z"
   },
   {
    "duration": 5,
    "start_time": "2022-10-17T21:35:19.699Z"
   },
   {
    "duration": 56,
    "start_time": "2022-10-18T06:10:19.832Z"
   },
   {
    "duration": 1622,
    "start_time": "2022-10-18T06:10:27.054Z"
   },
   {
    "duration": 3,
    "start_time": "2022-10-18T06:10:28.678Z"
   },
   {
    "duration": 106,
    "start_time": "2022-10-18T06:10:28.683Z"
   },
   {
    "duration": 1571,
    "start_time": "2022-10-18T06:10:28.791Z"
   },
   {
    "duration": 16,
    "start_time": "2022-10-18T06:10:30.363Z"
   },
   {
    "duration": 33,
    "start_time": "2022-10-18T06:10:30.380Z"
   },
   {
    "duration": 35,
    "start_time": "2022-10-18T06:10:30.415Z"
   },
   {
    "duration": 31,
    "start_time": "2022-10-18T06:10:30.452Z"
   },
   {
    "duration": 28,
    "start_time": "2022-10-18T06:10:30.485Z"
   },
   {
    "duration": 29,
    "start_time": "2022-10-18T06:10:30.516Z"
   },
   {
    "duration": 137,
    "start_time": "2022-10-18T06:10:30.547Z"
   },
   {
    "duration": 6,
    "start_time": "2022-10-18T06:10:30.686Z"
   },
   {
    "duration": 18,
    "start_time": "2022-10-18T06:10:30.697Z"
   },
   {
    "duration": 37,
    "start_time": "2022-10-18T06:10:30.717Z"
   },
   {
    "duration": 22,
    "start_time": "2022-10-18T06:10:30.756Z"
   },
   {
    "duration": 502,
    "start_time": "2022-10-18T06:10:30.780Z"
   },
   {
    "duration": 140,
    "start_time": "2022-10-18T06:10:31.284Z"
   },
   {
    "duration": 4,
    "start_time": "2022-10-18T06:10:31.426Z"
   },
   {
    "duration": 578,
    "start_time": "2022-10-18T06:10:31.432Z"
   },
   {
    "duration": 4,
    "start_time": "2022-10-18T06:10:32.012Z"
   },
   {
    "duration": 47,
    "start_time": "2022-10-18T06:10:32.017Z"
   },
   {
    "duration": 21,
    "start_time": "2022-10-18T06:11:35.883Z"
   },
   {
    "duration": 20,
    "start_time": "2022-10-18T06:12:29.308Z"
   },
   {
    "duration": 108,
    "start_time": "2022-10-18T06:13:50.600Z"
   },
   {
    "duration": 29,
    "start_time": "2022-10-18T06:14:15.924Z"
   },
   {
    "duration": 23,
    "start_time": "2022-10-18T06:14:46.864Z"
   },
   {
    "duration": 5,
    "start_time": "2022-10-18T06:24:21.347Z"
   },
   {
    "duration": 453,
    "start_time": "2022-10-18T06:24:25.177Z"
   },
   {
    "duration": 5,
    "start_time": "2022-10-18T06:24:33.973Z"
   },
   {
    "duration": 458,
    "start_time": "2022-10-18T06:24:37.142Z"
   },
   {
    "duration": 5,
    "start_time": "2022-10-18T06:26:05.489Z"
   },
   {
    "duration": 5,
    "start_time": "2022-10-18T06:26:11.548Z"
   },
   {
    "duration": 193,
    "start_time": "2022-10-18T06:26:15.910Z"
   },
   {
    "duration": 4,
    "start_time": "2022-10-18T06:26:26.766Z"
   },
   {
    "duration": 461,
    "start_time": "2022-10-18T06:26:30.705Z"
   },
   {
    "duration": 5,
    "start_time": "2022-10-18T06:28:00.414Z"
   },
   {
    "duration": 5,
    "start_time": "2022-10-18T06:28:03.156Z"
   },
   {
    "duration": 519,
    "start_time": "2022-10-18T06:28:07.697Z"
   },
   {
    "duration": 5,
    "start_time": "2022-10-18T06:29:36.381Z"
   },
   {
    "duration": 310,
    "start_time": "2022-10-18T06:29:40.179Z"
   },
   {
    "duration": 73,
    "start_time": "2022-10-18T06:30:30.662Z"
   },
   {
    "duration": 5,
    "start_time": "2022-10-18T06:30:37.369Z"
   },
   {
    "duration": 243,
    "start_time": "2022-10-18T06:30:41.340Z"
   },
   {
    "duration": 5,
    "start_time": "2022-10-18T06:30:47.305Z"
   },
   {
    "duration": 539,
    "start_time": "2022-10-18T06:30:50.942Z"
   },
   {
    "duration": 5,
    "start_time": "2022-10-18T06:31:00.740Z"
   },
   {
    "duration": 504,
    "start_time": "2022-10-18T06:31:04.757Z"
   },
   {
    "duration": 4,
    "start_time": "2022-10-18T06:31:13.622Z"
   },
   {
    "duration": 527,
    "start_time": "2022-10-18T06:31:17.003Z"
   },
   {
    "duration": 6,
    "start_time": "2022-10-18T06:31:29.632Z"
   },
   {
    "duration": 464,
    "start_time": "2022-10-18T06:31:33.975Z"
   },
   {
    "duration": 5,
    "start_time": "2022-10-18T06:32:03.642Z"
   },
   {
    "duration": 23,
    "start_time": "2022-10-18T06:38:37.916Z"
   },
   {
    "duration": 133,
    "start_time": "2022-10-18T06:38:48.827Z"
   },
   {
    "duration": 13732,
    "start_time": "2022-10-18T06:41:43.588Z"
   },
   {
    "duration": 94,
    "start_time": "2022-10-18T06:42:08.052Z"
   },
   {
    "duration": 15,
    "start_time": "2022-10-18T06:42:15.043Z"
   },
   {
    "duration": 685,
    "start_time": "2022-10-18T06:42:40.206Z"
   },
   {
    "duration": 6063,
    "start_time": "2022-10-18T06:43:04.127Z"
   },
   {
    "duration": 30673,
    "start_time": "2022-10-18T06:43:21.899Z"
   },
   {
    "duration": 4,
    "start_time": "2022-10-18T06:45:42.838Z"
   },
   {
    "duration": 58069,
    "start_time": "2022-10-18T06:46:53.133Z"
   },
   {
    "duration": 439,
    "start_time": "2022-10-18T07:07:19.390Z"
   },
   {
    "duration": 1678,
    "start_time": "2022-10-18T07:09:38.941Z"
   },
   {
    "duration": 255,
    "start_time": "2022-10-18T07:09:40.621Z"
   },
   {
    "duration": 3,
    "start_time": "2022-10-18T07:09:40.878Z"
   },
   {
    "duration": 92,
    "start_time": "2022-10-18T07:09:40.883Z"
   },
   {
    "duration": 331,
    "start_time": "2022-10-18T07:09:40.976Z"
   },
   {
    "duration": 30590,
    "start_time": "2022-10-18T07:09:41.308Z"
   },
   {
    "duration": 59609,
    "start_time": "2022-10-18T07:10:11.902Z"
   },
   {
    "duration": 5,
    "start_time": "2022-10-18T07:11:11.513Z"
   },
   {
    "duration": 8,
    "start_time": "2022-10-18T07:11:11.520Z"
   },
   {
    "duration": 14,
    "start_time": "2022-10-18T07:11:11.531Z"
   },
   {
    "duration": 52,
    "start_time": "2022-10-18T07:11:11.547Z"
   },
   {
    "duration": 8,
    "start_time": "2022-10-18T07:11:11.600Z"
   },
   {
    "duration": 8,
    "start_time": "2022-10-18T07:11:11.609Z"
   },
   {
    "duration": 13,
    "start_time": "2022-10-18T07:11:11.619Z"
   },
   {
    "duration": 5,
    "start_time": "2022-10-18T07:11:11.634Z"
   },
   {
    "duration": 577,
    "start_time": "2022-10-18T07:11:11.697Z"
   },
   {
    "duration": 480,
    "start_time": "2022-10-18T07:11:12.276Z"
   },
   {
    "duration": 146,
    "start_time": "2022-10-18T07:11:12.758Z"
   },
   {
    "duration": 23,
    "start_time": "2022-10-18T07:11:12.905Z"
   },
   {
    "duration": 7,
    "start_time": "2022-10-18T07:24:46.309Z"
   },
   {
    "duration": 62,
    "start_time": "2022-10-18T07:24:51.993Z"
   },
   {
    "duration": 28,
    "start_time": "2022-10-18T07:25:32.341Z"
   },
   {
    "duration": 4,
    "start_time": "2022-10-18T07:31:28.431Z"
   },
   {
    "duration": 61,
    "start_time": "2022-10-18T07:31:34.955Z"
   },
   {
    "duration": 5,
    "start_time": "2022-10-18T07:31:59.780Z"
   },
   {
    "duration": 231,
    "start_time": "2022-10-18T07:32:04.357Z"
   },
   {
    "duration": 58,
    "start_time": "2022-10-18T07:32:39.270Z"
   },
   {
    "duration": 52,
    "start_time": "2022-10-18T07:37:47.536Z"
   },
   {
    "duration": 51,
    "start_time": "2022-10-18T07:41:58.472Z"
   },
   {
    "duration": 79,
    "start_time": "2022-10-18T07:44:20.517Z"
   },
   {
    "duration": 65,
    "start_time": "2022-10-18T07:45:04.057Z"
   },
   {
    "duration": 67,
    "start_time": "2022-10-18T07:45:39.147Z"
   },
   {
    "duration": 64,
    "start_time": "2022-10-18T07:46:00.253Z"
   },
   {
    "duration": 76,
    "start_time": "2022-10-18T07:46:52.281Z"
   },
   {
    "duration": 61,
    "start_time": "2022-10-18T07:46:57.156Z"
   },
   {
    "duration": 73,
    "start_time": "2022-10-18T07:47:01.043Z"
   },
   {
    "duration": 67,
    "start_time": "2022-10-18T07:47:37.517Z"
   },
   {
    "duration": 51,
    "start_time": "2022-10-18T07:50:10.367Z"
   },
   {
    "duration": 68,
    "start_time": "2022-10-18T07:51:39.839Z"
   },
   {
    "duration": 156,
    "start_time": "2022-10-18T07:51:46.174Z"
   },
   {
    "duration": 53,
    "start_time": "2022-10-18T07:52:02.214Z"
   },
   {
    "duration": 59,
    "start_time": "2022-10-18T07:53:02.493Z"
   },
   {
    "duration": 55,
    "start_time": "2022-10-18T07:54:19.368Z"
   },
   {
    "duration": 57,
    "start_time": "2022-10-18T07:54:22.406Z"
   },
   {
    "duration": 58,
    "start_time": "2022-10-18T07:54:38.362Z"
   },
   {
    "duration": 20,
    "start_time": "2022-10-18T07:57:13.525Z"
   },
   {
    "duration": 51,
    "start_time": "2022-10-18T07:57:17.667Z"
   },
   {
    "duration": 7,
    "start_time": "2022-10-18T07:59:41.615Z"
   },
   {
    "duration": 56,
    "start_time": "2022-10-18T07:59:51.851Z"
   },
   {
    "duration": 64,
    "start_time": "2022-10-18T08:00:31.045Z"
   },
   {
    "duration": 179,
    "start_time": "2022-10-18T08:09:11.594Z"
   },
   {
    "duration": 6,
    "start_time": "2022-10-18T08:09:16.807Z"
   },
   {
    "duration": 54,
    "start_time": "2022-10-18T08:09:21.344Z"
   },
   {
    "duration": 15,
    "start_time": "2022-10-18T08:14:41.741Z"
   },
   {
    "duration": 3,
    "start_time": "2022-10-18T08:14:47.607Z"
   },
   {
    "duration": 6,
    "start_time": "2022-10-18T08:14:53.345Z"
   },
   {
    "duration": 5,
    "start_time": "2022-10-18T08:15:00.953Z"
   },
   {
    "duration": 3,
    "start_time": "2022-10-18T08:16:48.731Z"
   },
   {
    "duration": 5,
    "start_time": "2022-10-18T08:16:54.859Z"
   },
   {
    "duration": 26,
    "start_time": "2022-10-18T08:17:20.089Z"
   },
   {
    "duration": 5,
    "start_time": "2022-10-18T08:17:39.196Z"
   },
   {
    "duration": 77,
    "start_time": "2022-10-18T08:17:50.041Z"
   },
   {
    "duration": 73,
    "start_time": "2022-10-18T08:17:56.568Z"
   },
   {
    "duration": 85,
    "start_time": "2022-10-18T08:18:42.089Z"
   },
   {
    "duration": 6,
    "start_time": "2022-10-18T08:18:47.005Z"
   },
   {
    "duration": 14,
    "start_time": "2022-10-18T08:19:04.752Z"
   },
   {
    "duration": 6,
    "start_time": "2022-10-18T08:20:13.340Z"
   },
   {
    "duration": 5,
    "start_time": "2022-10-18T08:20:50.035Z"
   },
   {
    "duration": 6,
    "start_time": "2022-10-18T08:20:54.957Z"
   },
   {
    "duration": 19,
    "start_time": "2022-10-18T08:21:11.742Z"
   },
   {
    "duration": 5,
    "start_time": "2022-10-18T08:21:49.432Z"
   },
   {
    "duration": 47,
    "start_time": "2022-10-18T08:22:01.483Z"
   },
   {
    "duration": 35,
    "start_time": "2022-10-18T08:22:08.200Z"
   },
   {
    "duration": 40,
    "start_time": "2022-10-18T08:22:19.501Z"
   },
   {
    "duration": 26,
    "start_time": "2022-10-18T08:24:15.394Z"
   },
   {
    "duration": 57,
    "start_time": "2022-10-18T08:24:24.981Z"
   },
   {
    "duration": 56,
    "start_time": "2022-10-18T08:24:45.213Z"
   },
   {
    "duration": 12,
    "start_time": "2022-10-18T08:26:17.345Z"
   },
   {
    "duration": 71,
    "start_time": "2022-10-18T08:26:20.311Z"
   },
   {
    "duration": 3,
    "start_time": "2022-10-18T08:29:26.609Z"
   },
   {
    "duration": 11,
    "start_time": "2022-10-18T08:30:05.563Z"
   },
   {
    "duration": 47,
    "start_time": "2022-10-18T08:30:09.514Z"
   },
   {
    "duration": 5,
    "start_time": "2022-10-18T08:30:25.138Z"
   },
   {
    "duration": 28,
    "start_time": "2022-10-18T08:30:28.510Z"
   },
   {
    "duration": 80,
    "start_time": "2022-10-18T08:30:29.630Z"
   },
   {
    "duration": 63,
    "start_time": "2022-10-18T08:30:42.261Z"
   },
   {
    "duration": 271,
    "start_time": "2022-10-18T08:31:04.672Z"
   },
   {
    "duration": 80,
    "start_time": "2022-10-18T08:31:06.159Z"
   },
   {
    "duration": 2,
    "start_time": "2022-10-18T08:31:08.313Z"
   },
   {
    "duration": 104,
    "start_time": "2022-10-18T08:31:09.172Z"
   },
   {
    "duration": 106,
    "start_time": "2022-10-18T08:31:10.082Z"
   },
   {
    "duration": 3,
    "start_time": "2022-10-18T08:31:40.614Z"
   },
   {
    "duration": 62,
    "start_time": "2022-10-18T08:31:43.893Z"
   },
   {
    "duration": 3,
    "start_time": "2022-10-18T08:32:10.048Z"
   },
   {
    "duration": 61,
    "start_time": "2022-10-18T08:32:11.869Z"
   },
   {
    "duration": 2021,
    "start_time": "2022-10-18T08:32:19.031Z"
   },
   {
    "duration": 254,
    "start_time": "2022-10-18T08:32:21.054Z"
   },
   {
    "duration": 3,
    "start_time": "2022-10-18T08:32:21.310Z"
   },
   {
    "duration": 98,
    "start_time": "2022-10-18T08:32:21.317Z"
   },
   {
    "duration": 362,
    "start_time": "2022-10-18T08:32:21.416Z"
   },
   {
    "duration": 58297,
    "start_time": "2022-10-18T08:32:21.780Z"
   },
   {
    "duration": 32710,
    "start_time": "2022-10-18T08:33:20.080Z"
   },
   {
    "duration": 120,
    "start_time": "2022-10-18T08:33:52.799Z"
   },
   {
    "duration": 88,
    "start_time": "2022-10-18T08:33:52.920Z"
   },
   {
    "duration": 59,
    "start_time": "2022-10-18T08:33:53.010Z"
   },
   {
    "duration": 64,
    "start_time": "2022-10-18T08:33:53.071Z"
   },
   {
    "duration": 11,
    "start_time": "2022-10-18T08:33:53.136Z"
   },
   {
    "duration": 69,
    "start_time": "2022-10-18T08:33:53.148Z"
   },
   {
    "duration": 51,
    "start_time": "2022-10-18T08:33:53.219Z"
   },
   {
    "duration": 72,
    "start_time": "2022-10-18T08:33:53.271Z"
   },
   {
    "duration": 2,
    "start_time": "2022-10-18T08:33:53.345Z"
   },
   {
    "duration": 116,
    "start_time": "2022-10-18T08:33:53.349Z"
   },
   {
    "duration": 98,
    "start_time": "2022-10-18T08:33:53.467Z"
   },
   {
    "duration": 4,
    "start_time": "2022-10-18T08:33:53.567Z"
   },
   {
    "duration": 190,
    "start_time": "2022-10-18T08:33:53.573Z"
   },
   {
    "duration": 0,
    "start_time": "2022-10-18T08:33:53.764Z"
   },
   {
    "duration": 0,
    "start_time": "2022-10-18T08:33:53.766Z"
   },
   {
    "duration": 0,
    "start_time": "2022-10-18T08:33:53.767Z"
   },
   {
    "duration": 0,
    "start_time": "2022-10-18T08:33:53.768Z"
   },
   {
    "duration": 0,
    "start_time": "2022-10-18T08:33:53.770Z"
   },
   {
    "duration": 0,
    "start_time": "2022-10-18T08:33:53.771Z"
   },
   {
    "duration": 0,
    "start_time": "2022-10-18T08:33:53.772Z"
   },
   {
    "duration": 0,
    "start_time": "2022-10-18T08:33:53.773Z"
   },
   {
    "duration": 0,
    "start_time": "2022-10-18T08:33:53.774Z"
   },
   {
    "duration": 0,
    "start_time": "2022-10-18T08:33:53.775Z"
   },
   {
    "duration": 1648,
    "start_time": "2022-10-18T08:35:23.996Z"
   },
   {
    "duration": 3,
    "start_time": "2022-10-18T08:35:26.732Z"
   },
   {
    "duration": 1335,
    "start_time": "2022-10-18T08:35:28.206Z"
   },
   {
    "duration": 5,
    "start_time": "2022-10-18T08:35:49.349Z"
   },
   {
    "duration": 595,
    "start_time": "2022-10-18T08:38:18.716Z"
   },
   {
    "duration": 2,
    "start_time": "2022-10-18T08:38:22.188Z"
   },
   {
    "duration": 434,
    "start_time": "2022-10-18T08:38:23.761Z"
   },
   {
    "duration": 5,
    "start_time": "2022-10-18T08:38:49.033Z"
   },
   {
    "duration": 91,
    "start_time": "2022-10-18T08:39:46.741Z"
   },
   {
    "duration": 138,
    "start_time": "2022-10-18T08:39:52.389Z"
   },
   {
    "duration": 33,
    "start_time": "2022-10-18T08:39:57.971Z"
   },
   {
    "duration": 39,
    "start_time": "2022-10-18T08:40:28.215Z"
   },
   {
    "duration": 2318,
    "start_time": "2022-10-18T08:41:16.420Z"
   },
   {
    "duration": 453,
    "start_time": "2022-10-18T08:41:31.080Z"
   },
   {
    "duration": 399,
    "start_time": "2022-10-18T08:41:37.265Z"
   },
   {
    "duration": 378,
    "start_time": "2022-10-18T08:42:01.074Z"
   },
   {
    "duration": 5,
    "start_time": "2022-10-18T08:42:04.779Z"
   },
   {
    "duration": 507,
    "start_time": "2022-10-18T08:42:07.242Z"
   },
   {
    "duration": 1884,
    "start_time": "2022-10-18T08:42:14.582Z"
   },
   {
    "duration": 259,
    "start_time": "2022-10-18T08:42:16.468Z"
   },
   {
    "duration": 4,
    "start_time": "2022-10-18T08:42:16.729Z"
   },
   {
    "duration": 105,
    "start_time": "2022-10-18T08:42:16.735Z"
   },
   {
    "duration": 377,
    "start_time": "2022-10-18T08:42:16.842Z"
   },
   {
    "duration": 58852,
    "start_time": "2022-10-18T08:42:17.226Z"
   },
   {
    "duration": 33188,
    "start_time": "2022-10-18T08:43:16.080Z"
   },
   {
    "duration": 151,
    "start_time": "2022-10-18T08:43:49.270Z"
   },
   {
    "duration": 59,
    "start_time": "2022-10-18T08:43:49.426Z"
   },
   {
    "duration": 62,
    "start_time": "2022-10-18T08:43:49.502Z"
   },
   {
    "duration": 76,
    "start_time": "2022-10-18T08:43:49.566Z"
   },
   {
    "duration": 16,
    "start_time": "2022-10-18T08:43:49.644Z"
   },
   {
    "duration": 71,
    "start_time": "2022-10-18T08:43:49.662Z"
   },
   {
    "duration": 76,
    "start_time": "2022-10-18T08:43:49.735Z"
   },
   {
    "duration": 61,
    "start_time": "2022-10-18T08:43:49.812Z"
   },
   {
    "duration": 6,
    "start_time": "2022-10-18T08:43:49.874Z"
   },
   {
    "duration": 159,
    "start_time": "2022-10-18T08:43:49.882Z"
   },
   {
    "duration": 101,
    "start_time": "2022-10-18T08:43:50.043Z"
   },
   {
    "duration": 5,
    "start_time": "2022-10-18T08:43:50.147Z"
   },
   {
    "duration": 230,
    "start_time": "2022-10-18T08:43:50.154Z"
   },
   {
    "duration": 0,
    "start_time": "2022-10-18T08:43:50.386Z"
   },
   {
    "duration": 0,
    "start_time": "2022-10-18T08:43:50.387Z"
   },
   {
    "duration": 0,
    "start_time": "2022-10-18T08:43:50.388Z"
   },
   {
    "duration": 0,
    "start_time": "2022-10-18T08:43:50.389Z"
   },
   {
    "duration": 0,
    "start_time": "2022-10-18T08:43:50.397Z"
   },
   {
    "duration": 0,
    "start_time": "2022-10-18T08:43:50.397Z"
   },
   {
    "duration": 0,
    "start_time": "2022-10-18T08:43:50.398Z"
   },
   {
    "duration": 0,
    "start_time": "2022-10-18T08:43:50.399Z"
   },
   {
    "duration": 0,
    "start_time": "2022-10-18T08:43:50.400Z"
   },
   {
    "duration": 0,
    "start_time": "2022-10-18T08:43:50.401Z"
   },
   {
    "duration": 380,
    "start_time": "2022-10-18T08:45:06.368Z"
   },
   {
    "duration": 17,
    "start_time": "2022-10-18T08:45:15.386Z"
   },
   {
    "duration": 70,
    "start_time": "2022-10-18T08:45:17.447Z"
   },
   {
    "duration": 58,
    "start_time": "2022-10-18T08:45:42.453Z"
   },
   {
    "duration": 54,
    "start_time": "2022-10-18T08:45:47.312Z"
   },
   {
    "duration": 16,
    "start_time": "2022-10-18T08:50:30.109Z"
   },
   {
    "duration": 6,
    "start_time": "2022-10-18T08:50:38.870Z"
   },
   {
    "duration": 100,
    "start_time": "2022-10-18T08:50:40.970Z"
   },
   {
    "duration": 100,
    "start_time": "2022-10-18T08:50:44.167Z"
   },
   {
    "duration": 7,
    "start_time": "2022-10-18T08:53:03.403Z"
   },
   {
    "duration": 135,
    "start_time": "2022-10-18T08:54:08.109Z"
   },
   {
    "duration": 129,
    "start_time": "2022-10-18T08:54:13.331Z"
   },
   {
    "duration": 5,
    "start_time": "2022-10-18T08:54:27.413Z"
   },
   {
    "duration": 110,
    "start_time": "2022-10-18T08:54:30.662Z"
   },
   {
    "duration": 352,
    "start_time": "2022-10-18T08:54:44.968Z"
   },
   {
    "duration": 7,
    "start_time": "2022-10-18T08:54:56.317Z"
   },
   {
    "duration": 54,
    "start_time": "2022-10-18T08:54:59.963Z"
   },
   {
    "duration": 8,
    "start_time": "2022-10-18T09:04:06.684Z"
   },
   {
    "duration": 12884,
    "start_time": "2022-10-18T09:05:23.898Z"
   },
   {
    "duration": 13,
    "start_time": "2022-10-18T09:06:25.407Z"
   },
   {
    "duration": 15,
    "start_time": "2022-10-18T09:06:31.149Z"
   },
   {
    "duration": 292,
    "start_time": "2022-10-18T09:06:40.581Z"
   },
   {
    "duration": 12984,
    "start_time": "2022-10-18T09:06:53.817Z"
   },
   {
    "duration": 12,
    "start_time": "2022-10-18T09:11:28.320Z"
   },
   {
    "duration": 4,
    "start_time": "2022-10-18T09:11:32.582Z"
   },
   {
    "duration": 463,
    "start_time": "2022-10-18T09:11:34.018Z"
   },
   {
    "duration": 18,
    "start_time": "2022-10-18T09:11:54.751Z"
   },
   {
    "duration": 9,
    "start_time": "2022-10-18T09:12:05.013Z"
   },
   {
    "duration": 16,
    "start_time": "2022-10-18T09:12:08.531Z"
   },
   {
    "duration": 11,
    "start_time": "2022-10-18T09:12:15.282Z"
   },
   {
    "duration": 13,
    "start_time": "2022-10-18T09:12:17.042Z"
   },
   {
    "duration": 17,
    "start_time": "2022-10-18T09:12:22.122Z"
   },
   {
    "duration": 58,
    "start_time": "2022-10-18T09:12:49.385Z"
   },
   {
    "duration": 9,
    "start_time": "2022-10-18T09:12:53.892Z"
   },
   {
    "duration": 9,
    "start_time": "2022-10-18T09:12:59.639Z"
   },
   {
    "duration": 5,
    "start_time": "2022-10-18T09:13:05.508Z"
   },
   {
    "duration": 5,
    "start_time": "2022-10-18T09:13:06.728Z"
   },
   {
    "duration": 4,
    "start_time": "2022-10-18T09:13:12.680Z"
   },
   {
    "duration": 432,
    "start_time": "2022-10-18T09:13:13.675Z"
   },
   {
    "duration": 6,
    "start_time": "2022-10-18T09:14:06.355Z"
   },
   {
    "duration": 6,
    "start_time": "2022-10-18T09:14:10.348Z"
   },
   {
    "duration": 187,
    "start_time": "2022-10-18T09:14:16.696Z"
   },
   {
    "duration": 12,
    "start_time": "2022-10-18T09:14:39.275Z"
   },
   {
    "duration": 20,
    "start_time": "2022-10-18T09:14:52.358Z"
   },
   {
    "duration": 8,
    "start_time": "2022-10-18T09:14:55.556Z"
   },
   {
    "duration": 20,
    "start_time": "2022-10-18T09:14:57.356Z"
   },
   {
    "duration": 516,
    "start_time": "2022-10-18T09:15:02.690Z"
   },
   {
    "duration": 1717,
    "start_time": "2022-10-18T09:16:41.707Z"
   },
   {
    "duration": 232,
    "start_time": "2022-10-18T09:16:43.426Z"
   },
   {
    "duration": 4,
    "start_time": "2022-10-18T09:16:43.660Z"
   },
   {
    "duration": 90,
    "start_time": "2022-10-18T09:16:43.666Z"
   },
   {
    "duration": 360,
    "start_time": "2022-10-18T09:16:43.757Z"
   },
   {
    "duration": 9245,
    "start_time": "2022-10-18T09:16:44.118Z"
   },
   {
    "duration": 0,
    "start_time": "2022-10-18T09:16:53.366Z"
   },
   {
    "duration": 0,
    "start_time": "2022-10-18T09:16:53.367Z"
   },
   {
    "duration": 0,
    "start_time": "2022-10-18T09:16:53.367Z"
   },
   {
    "duration": 0,
    "start_time": "2022-10-18T09:16:53.368Z"
   },
   {
    "duration": 0,
    "start_time": "2022-10-18T09:16:53.369Z"
   },
   {
    "duration": 0,
    "start_time": "2022-10-18T09:16:53.370Z"
   },
   {
    "duration": 0,
    "start_time": "2022-10-18T09:16:53.371Z"
   },
   {
    "duration": 0,
    "start_time": "2022-10-18T09:16:53.372Z"
   },
   {
    "duration": 0,
    "start_time": "2022-10-18T09:16:53.373Z"
   },
   {
    "duration": 0,
    "start_time": "2022-10-18T09:16:53.374Z"
   },
   {
    "duration": 0,
    "start_time": "2022-10-18T09:16:53.375Z"
   },
   {
    "duration": 0,
    "start_time": "2022-10-18T09:16:53.376Z"
   },
   {
    "duration": 0,
    "start_time": "2022-10-18T09:16:53.377Z"
   },
   {
    "duration": 0,
    "start_time": "2022-10-18T09:16:53.397Z"
   },
   {
    "duration": 0,
    "start_time": "2022-10-18T09:16:53.398Z"
   },
   {
    "duration": 0,
    "start_time": "2022-10-18T09:16:53.399Z"
   },
   {
    "duration": 0,
    "start_time": "2022-10-18T09:16:53.400Z"
   },
   {
    "duration": 0,
    "start_time": "2022-10-18T09:16:53.402Z"
   },
   {
    "duration": 0,
    "start_time": "2022-10-18T09:16:53.403Z"
   },
   {
    "duration": 0,
    "start_time": "2022-10-18T09:16:53.404Z"
   },
   {
    "duration": 0,
    "start_time": "2022-10-18T09:16:53.405Z"
   },
   {
    "duration": 0,
    "start_time": "2022-10-18T09:16:53.406Z"
   },
   {
    "duration": 0,
    "start_time": "2022-10-18T09:16:53.407Z"
   },
   {
    "duration": 0,
    "start_time": "2022-10-18T09:16:53.408Z"
   },
   {
    "duration": 0,
    "start_time": "2022-10-18T09:16:53.409Z"
   },
   {
    "duration": 0,
    "start_time": "2022-10-18T09:16:53.410Z"
   },
   {
    "duration": 1854,
    "start_time": "2022-10-18T09:17:01.174Z"
   },
   {
    "duration": 225,
    "start_time": "2022-10-18T09:17:03.030Z"
   },
   {
    "duration": 4,
    "start_time": "2022-10-18T09:17:03.256Z"
   },
   {
    "duration": 89,
    "start_time": "2022-10-18T09:17:03.262Z"
   },
   {
    "duration": 366,
    "start_time": "2022-10-18T09:17:03.352Z"
   },
   {
    "duration": 3,
    "start_time": "2022-10-18T09:17:03.720Z"
   },
   {
    "duration": 7,
    "start_time": "2022-10-18T09:17:03.725Z"
   },
   {
    "duration": 71,
    "start_time": "2022-10-18T09:17:03.734Z"
   },
   {
    "duration": 52,
    "start_time": "2022-10-18T09:17:03.807Z"
   },
   {
    "duration": 69,
    "start_time": "2022-10-18T09:17:03.862Z"
   },
   {
    "duration": 73,
    "start_time": "2022-10-18T09:17:03.933Z"
   },
   {
    "duration": 16,
    "start_time": "2022-10-18T09:17:04.008Z"
   },
   {
    "duration": 72,
    "start_time": "2022-10-18T09:17:04.026Z"
   },
   {
    "duration": 54,
    "start_time": "2022-10-18T09:17:04.100Z"
   },
   {
    "duration": 70,
    "start_time": "2022-10-18T09:17:04.156Z"
   },
   {
    "duration": 10,
    "start_time": "2022-10-18T09:17:04.228Z"
   },
   {
    "duration": 12799,
    "start_time": "2022-10-18T09:17:04.240Z"
   },
   {
    "duration": 313,
    "start_time": "2022-10-18T09:17:17.040Z"
   },
   {
    "duration": 67,
    "start_time": "2022-10-18T09:17:17.355Z"
   },
   {
    "duration": 14,
    "start_time": "2022-10-18T09:17:17.424Z"
   },
   {
    "duration": 5,
    "start_time": "2022-10-18T09:17:17.440Z"
   },
   {
    "duration": 7,
    "start_time": "2022-10-18T09:17:17.447Z"
   },
   {
    "duration": 8,
    "start_time": "2022-10-18T09:17:17.456Z"
   },
   {
    "duration": 39,
    "start_time": "2022-10-18T09:17:17.466Z"
   },
   {
    "duration": 5,
    "start_time": "2022-10-18T09:17:17.507Z"
   },
   {
    "duration": 11,
    "start_time": "2022-10-18T09:17:17.514Z"
   },
   {
    "duration": 26,
    "start_time": "2022-10-18T09:17:17.527Z"
   },
   {
    "duration": 8,
    "start_time": "2022-10-18T09:17:17.557Z"
   },
   {
    "duration": 508,
    "start_time": "2022-10-18T09:17:17.567Z"
   },
   {
    "duration": 905,
    "start_time": "2022-10-18T09:17:18.077Z"
   },
   {
    "duration": 153,
    "start_time": "2022-10-18T09:17:18.984Z"
   },
   {
    "duration": 24,
    "start_time": "2022-10-18T09:17:19.138Z"
   },
   {
    "duration": 10,
    "start_time": "2022-10-18T09:17:52.611Z"
   },
   {
    "duration": 26,
    "start_time": "2022-10-18T09:17:58.229Z"
   },
   {
    "duration": 53,
    "start_time": "2022-10-18T09:18:00.137Z"
   },
   {
    "duration": 49,
    "start_time": "2022-10-18T09:18:40.381Z"
   },
   {
    "duration": 27,
    "start_time": "2022-10-18T09:30:05.547Z"
   },
   {
    "duration": 30311,
    "start_time": "2022-10-18T09:30:18.438Z"
   },
   {
    "duration": 57706,
    "start_time": "2022-10-18T09:30:48.751Z"
   },
   {
    "duration": 1885,
    "start_time": "2022-10-18T09:51:22.195Z"
   },
   {
    "duration": 334,
    "start_time": "2022-10-18T09:51:24.082Z"
   },
   {
    "duration": 4,
    "start_time": "2022-10-18T09:51:24.418Z"
   },
   {
    "duration": 116,
    "start_time": "2022-10-18T09:51:24.425Z"
   },
   {
    "duration": 388,
    "start_time": "2022-10-18T09:51:24.543Z"
   },
   {
    "duration": 62229,
    "start_time": "2022-10-18T09:51:24.933Z"
   },
   {
    "duration": 34293,
    "start_time": "2022-10-18T09:52:27.165Z"
   },
   {
    "duration": 144,
    "start_time": "2022-10-18T09:53:01.460Z"
   },
   {
    "duration": 63,
    "start_time": "2022-10-18T09:53:01.605Z"
   },
   {
    "duration": 81,
    "start_time": "2022-10-18T09:53:01.672Z"
   },
   {
    "duration": 75,
    "start_time": "2022-10-18T09:53:01.755Z"
   },
   {
    "duration": 13,
    "start_time": "2022-10-18T09:53:01.832Z"
   },
   {
    "duration": 82,
    "start_time": "2022-10-18T09:53:01.847Z"
   },
   {
    "duration": 81,
    "start_time": "2022-10-18T09:53:01.931Z"
   },
   {
    "duration": 72,
    "start_time": "2022-10-18T09:53:02.013Z"
   },
   {
    "duration": 33,
    "start_time": "2022-10-18T09:53:02.086Z"
   },
   {
    "duration": 183,
    "start_time": "2022-10-18T09:53:02.121Z"
   },
   {
    "duration": 0,
    "start_time": "2022-10-18T09:53:02.306Z"
   },
   {
    "duration": 0,
    "start_time": "2022-10-18T09:53:02.307Z"
   },
   {
    "duration": 0,
    "start_time": "2022-10-18T09:53:02.308Z"
   },
   {
    "duration": 0,
    "start_time": "2022-10-18T09:53:02.310Z"
   },
   {
    "duration": 0,
    "start_time": "2022-10-18T09:53:02.311Z"
   },
   {
    "duration": 0,
    "start_time": "2022-10-18T09:53:02.312Z"
   },
   {
    "duration": 0,
    "start_time": "2022-10-18T09:53:02.313Z"
   },
   {
    "duration": 0,
    "start_time": "2022-10-18T09:53:02.315Z"
   },
   {
    "duration": 0,
    "start_time": "2022-10-18T09:53:02.316Z"
   },
   {
    "duration": 0,
    "start_time": "2022-10-18T09:53:02.317Z"
   },
   {
    "duration": 0,
    "start_time": "2022-10-18T09:53:02.318Z"
   },
   {
    "duration": 0,
    "start_time": "2022-10-18T09:53:02.320Z"
   },
   {
    "duration": 0,
    "start_time": "2022-10-18T09:53:02.321Z"
   },
   {
    "duration": 1213,
    "start_time": "2022-10-18T10:07:05.988Z"
   },
   {
    "duration": 1177,
    "start_time": "2022-10-18T10:07:37.428Z"
   },
   {
    "duration": 26,
    "start_time": "2022-10-18T10:08:04.844Z"
   },
   {
    "duration": 43,
    "start_time": "2022-10-18T10:08:06.869Z"
   },
   {
    "duration": 31396,
    "start_time": "2022-10-18T10:08:18.788Z"
   },
   {
    "duration": 13,
    "start_time": "2022-10-18T10:15:09.527Z"
   },
   {
    "duration": 11,
    "start_time": "2022-10-18T10:15:15.476Z"
   },
   {
    "duration": 6,
    "start_time": "2022-10-18T10:15:16.650Z"
   },
   {
    "duration": 33336,
    "start_time": "2022-10-18T10:15:33.392Z"
   },
   {
    "duration": 62136,
    "start_time": "2022-10-18T10:16:38.083Z"
   },
   {
    "duration": 21,
    "start_time": "2022-10-18T10:18:31.670Z"
   },
   {
    "duration": 71,
    "start_time": "2022-10-18T10:21:35.147Z"
   },
   {
    "duration": 28,
    "start_time": "2022-10-18T10:21:39.409Z"
   },
   {
    "duration": 356,
    "start_time": "2022-10-18T10:21:50.551Z"
   },
   {
    "duration": 31,
    "start_time": "2022-10-18T10:21:57.720Z"
   },
   {
    "duration": 14,
    "start_time": "2022-10-18T10:22:15.035Z"
   },
   {
    "duration": 11,
    "start_time": "2022-10-18T10:23:09.551Z"
   },
   {
    "duration": 5,
    "start_time": "2022-10-18T10:23:11.189Z"
   },
   {
    "duration": 61172,
    "start_time": "2022-10-18T10:23:16.550Z"
   },
   {
    "duration": 9,
    "start_time": "2022-10-18T10:33:36.955Z"
   },
   {
    "duration": 25,
    "start_time": "2022-10-18T10:34:24.890Z"
   },
   {
    "duration": 6,
    "start_time": "2022-10-18T10:36:20.049Z"
   },
   {
    "duration": 6,
    "start_time": "2022-10-18T10:36:21.947Z"
   },
   {
    "duration": 6,
    "start_time": "2022-10-18T10:36:46.313Z"
   },
   {
    "duration": 10,
    "start_time": "2022-10-18T10:39:40.509Z"
   },
   {
    "duration": 6,
    "start_time": "2022-10-18T10:41:53.460Z"
   },
   {
    "duration": 21,
    "start_time": "2022-10-18T10:43:11.946Z"
   },
   {
    "duration": 1719,
    "start_time": "2022-10-18T10:43:39.689Z"
   },
   {
    "duration": 230,
    "start_time": "2022-10-18T10:43:41.410Z"
   },
   {
    "duration": 4,
    "start_time": "2022-10-18T10:43:41.646Z"
   },
   {
    "duration": 92,
    "start_time": "2022-10-18T10:43:41.651Z"
   },
   {
    "duration": 347,
    "start_time": "2022-10-18T10:43:41.744Z"
   },
   {
    "duration": 3,
    "start_time": "2022-10-18T10:43:42.092Z"
   },
   {
    "duration": 13,
    "start_time": "2022-10-18T10:43:42.096Z"
   },
   {
    "duration": 57,
    "start_time": "2022-10-18T10:43:42.110Z"
   },
   {
    "duration": 49,
    "start_time": "2022-10-18T10:43:42.169Z"
   },
   {
    "duration": 53,
    "start_time": "2022-10-18T10:43:42.220Z"
   },
   {
    "duration": 59,
    "start_time": "2022-10-18T10:43:42.275Z"
   },
   {
    "duration": 15,
    "start_time": "2022-10-18T10:43:42.336Z"
   },
   {
    "duration": 68,
    "start_time": "2022-10-18T10:43:42.353Z"
   },
   {
    "duration": 54,
    "start_time": "2022-10-18T10:43:42.423Z"
   },
   {
    "duration": 33,
    "start_time": "2022-10-18T10:43:42.479Z"
   },
   {
    "duration": 11,
    "start_time": "2022-10-18T10:43:42.514Z"
   },
   {
    "duration": 4,
    "start_time": "2022-10-18T10:43:42.526Z"
   },
   {
    "duration": 10,
    "start_time": "2022-10-18T10:43:42.532Z"
   },
   {
    "duration": 5,
    "start_time": "2022-10-18T10:43:42.544Z"
   },
   {
    "duration": 5,
    "start_time": "2022-10-18T10:43:42.551Z"
   },
   {
    "duration": 41,
    "start_time": "2022-10-18T10:43:42.558Z"
   },
   {
    "duration": 12,
    "start_time": "2022-10-18T10:43:42.600Z"
   },
   {
    "duration": 7,
    "start_time": "2022-10-18T10:43:42.613Z"
   },
   {
    "duration": 18,
    "start_time": "2022-10-18T10:43:42.621Z"
   },
   {
    "duration": 19,
    "start_time": "2022-10-18T10:43:42.641Z"
   },
   {
    "duration": 462,
    "start_time": "2022-10-18T10:43:42.661Z"
   },
   {
    "duration": 581,
    "start_time": "2022-10-18T10:43:43.127Z"
   },
   {
    "duration": 144,
    "start_time": "2022-10-18T10:43:43.710Z"
   },
   {
    "duration": 21,
    "start_time": "2022-10-18T10:43:43.855Z"
   },
   {
    "duration": 445,
    "start_time": "2022-10-18T11:08:21.767Z"
   },
   {
    "duration": 4,
    "start_time": "2022-10-18T11:08:37.050Z"
   },
   {
    "duration": 407,
    "start_time": "2022-10-18T11:08:39.068Z"
   },
   {
    "duration": 4,
    "start_time": "2022-10-18T11:09:01.172Z"
   },
   {
    "duration": 440,
    "start_time": "2022-10-18T11:09:08.124Z"
   },
   {
    "duration": 528,
    "start_time": "2022-10-18T11:09:34.207Z"
   },
   {
    "duration": 390,
    "start_time": "2022-10-18T11:09:55.134Z"
   },
   {
    "duration": 454,
    "start_time": "2022-10-18T11:10:45.697Z"
   },
   {
    "duration": 5,
    "start_time": "2022-10-18T11:15:52.067Z"
   },
   {
    "duration": 392,
    "start_time": "2022-10-18T11:15:54.010Z"
   },
   {
    "duration": 5,
    "start_time": "2022-10-18T11:20:00.108Z"
   },
   {
    "duration": 5,
    "start_time": "2022-10-18T11:20:15.741Z"
   },
   {
    "duration": 400,
    "start_time": "2022-10-18T11:20:18.858Z"
   },
   {
    "duration": 386,
    "start_time": "2022-10-18T11:20:23.047Z"
   },
   {
    "duration": 422,
    "start_time": "2022-10-18T11:20:36.711Z"
   },
   {
    "duration": 419,
    "start_time": "2022-10-18T11:24:42.157Z"
   },
   {
    "duration": 242,
    "start_time": "2022-10-18T11:26:37.748Z"
   },
   {
    "duration": 326,
    "start_time": "2022-10-18T11:26:47.285Z"
   },
   {
    "duration": 158,
    "start_time": "2022-10-18T11:28:56.122Z"
   },
   {
    "duration": 24,
    "start_time": "2022-10-18T11:29:00.805Z"
   },
   {
    "duration": 22,
    "start_time": "2022-10-18T11:29:19.736Z"
   },
   {
    "duration": 10268,
    "start_time": "2022-10-18T11:37:36.648Z"
   },
   {
    "duration": 419,
    "start_time": "2022-10-18T11:37:56.259Z"
   },
   {
    "duration": 400,
    "start_time": "2022-10-18T11:38:45.426Z"
   },
   {
    "duration": 12,
    "start_time": "2022-10-18T11:42:47.055Z"
   },
   {
    "duration": 5,
    "start_time": "2022-10-18T11:43:07.471Z"
   },
   {
    "duration": 6,
    "start_time": "2022-10-18T11:43:55.694Z"
   },
   {
    "duration": 5,
    "start_time": "2022-10-18T11:44:02.639Z"
   },
   {
    "duration": 5,
    "start_time": "2022-10-18T11:44:15.463Z"
   },
   {
    "duration": 5,
    "start_time": "2022-10-18T11:44:19.887Z"
   },
   {
    "duration": 5,
    "start_time": "2022-10-18T11:45:47.778Z"
   },
   {
    "duration": 570,
    "start_time": "2022-10-18T11:45:51.963Z"
   },
   {
    "duration": 443,
    "start_time": "2022-10-18T11:46:52.492Z"
   },
   {
    "duration": 5,
    "start_time": "2022-10-18T11:47:54.712Z"
   },
   {
    "duration": 5,
    "start_time": "2022-10-18T11:48:07.456Z"
   },
   {
    "duration": 4,
    "start_time": "2022-10-18T11:48:16.445Z"
   },
   {
    "duration": 5,
    "start_time": "2022-10-18T11:48:49.229Z"
   },
   {
    "duration": 19,
    "start_time": "2022-10-18T11:49:12.881Z"
   },
   {
    "duration": 12,
    "start_time": "2022-10-18T11:49:25.081Z"
   },
   {
    "duration": 11,
    "start_time": "2022-10-18T11:49:35.532Z"
   },
   {
    "duration": 4,
    "start_time": "2022-10-18T11:52:27.276Z"
   },
   {
    "duration": 14,
    "start_time": "2022-10-18T11:55:10.907Z"
   },
   {
    "duration": 6,
    "start_time": "2022-10-18T11:56:13.052Z"
   },
   {
    "duration": 4,
    "start_time": "2022-10-18T11:56:31.275Z"
   },
   {
    "duration": 4,
    "start_time": "2022-10-18T11:56:37.366Z"
   },
   {
    "duration": 4,
    "start_time": "2022-10-18T11:56:41.744Z"
   },
   {
    "duration": 5,
    "start_time": "2022-10-18T11:56:45.240Z"
   },
   {
    "duration": 5,
    "start_time": "2022-10-18T11:56:59.206Z"
   },
   {
    "duration": 5,
    "start_time": "2022-10-18T11:57:01.833Z"
   },
   {
    "duration": 6,
    "start_time": "2022-10-18T11:58:29.909Z"
   },
   {
    "duration": 200,
    "start_time": "2022-10-18T11:58:33.737Z"
   },
   {
    "duration": 6,
    "start_time": "2022-10-18T11:59:06.939Z"
   },
   {
    "duration": 444,
    "start_time": "2022-10-18T11:59:09.207Z"
   },
   {
    "duration": 4,
    "start_time": "2022-10-18T11:59:35.083Z"
   },
   {
    "duration": 447,
    "start_time": "2022-10-18T11:59:37.590Z"
   },
   {
    "duration": 1941,
    "start_time": "2022-10-18T13:09:25.953Z"
   },
   {
    "duration": 291,
    "start_time": "2022-10-18T13:09:27.898Z"
   },
   {
    "duration": 5,
    "start_time": "2022-10-18T13:09:28.192Z"
   },
   {
    "duration": 233,
    "start_time": "2022-10-18T13:09:28.199Z"
   },
   {
    "duration": 429,
    "start_time": "2022-10-18T13:09:28.434Z"
   },
   {
    "duration": 3,
    "start_time": "2022-10-18T13:09:28.864Z"
   },
   {
    "duration": 9,
    "start_time": "2022-10-18T13:09:28.868Z"
   },
   {
    "duration": 69,
    "start_time": "2022-10-18T13:09:28.879Z"
   },
   {
    "duration": 73,
    "start_time": "2022-10-18T13:09:28.951Z"
   },
   {
    "duration": 80,
    "start_time": "2022-10-18T13:09:29.026Z"
   },
   {
    "duration": 63,
    "start_time": "2022-10-18T13:09:29.112Z"
   },
   {
    "duration": 38,
    "start_time": "2022-10-18T13:09:29.177Z"
   },
   {
    "duration": 57,
    "start_time": "2022-10-18T13:09:29.217Z"
   },
   {
    "duration": 82,
    "start_time": "2022-10-18T13:09:29.275Z"
   },
   {
    "duration": 44,
    "start_time": "2022-10-18T13:09:29.359Z"
   },
   {
    "duration": 14,
    "start_time": "2022-10-18T13:09:29.405Z"
   },
   {
    "duration": 6,
    "start_time": "2022-10-18T13:09:29.421Z"
   },
   {
    "duration": 11,
    "start_time": "2022-10-18T13:09:29.429Z"
   },
   {
    "duration": 6,
    "start_time": "2022-10-18T13:09:29.442Z"
   },
   {
    "duration": 7,
    "start_time": "2022-10-18T13:09:29.449Z"
   },
   {
    "duration": 56,
    "start_time": "2022-10-18T13:09:29.458Z"
   },
   {
    "duration": 7,
    "start_time": "2022-10-18T13:09:29.516Z"
   },
   {
    "duration": 555,
    "start_time": "2022-10-18T13:09:29.524Z"
   },
   {
    "duration": 218,
    "start_time": "2022-10-18T13:09:30.081Z"
   },
   {
    "duration": 0,
    "start_time": "2022-10-18T13:09:30.301Z"
   },
   {
    "duration": 0,
    "start_time": "2022-10-18T13:09:30.304Z"
   },
   {
    "duration": 0,
    "start_time": "2022-10-18T13:09:30.305Z"
   },
   {
    "duration": 0,
    "start_time": "2022-10-18T13:09:30.307Z"
   },
   {
    "duration": 62285,
    "start_time": "2022-10-18T13:09:46.197Z"
   },
   {
    "duration": 5,
    "start_time": "2022-10-18T13:11:20.656Z"
   },
   {
    "duration": 401,
    "start_time": "2022-10-18T13:11:30.418Z"
   },
   {
    "duration": 63785,
    "start_time": "2022-10-18T13:11:32.269Z"
   },
   {
    "duration": 5490,
    "start_time": "2022-10-18T13:26:09.989Z"
   },
   {
    "duration": 391,
    "start_time": "2022-10-18T13:26:28.217Z"
   },
   {
    "duration": 5585,
    "start_time": "2022-10-18T13:26:31.599Z"
   },
   {
    "duration": 92,
    "start_time": "2022-10-18T13:26:47.040Z"
   },
   {
    "duration": 21,
    "start_time": "2022-10-18T13:26:50.939Z"
   },
   {
    "duration": 62,
    "start_time": "2022-10-18T13:27:06.488Z"
   },
   {
    "duration": 78,
    "start_time": "2022-10-18T13:27:54.237Z"
   },
   {
    "duration": 89,
    "start_time": "2022-10-18T13:28:08.038Z"
   },
   {
    "duration": 16,
    "start_time": "2022-10-18T13:29:47.925Z"
   },
   {
    "duration": 16,
    "start_time": "2022-10-18T13:29:52.142Z"
   },
   {
    "duration": 5012,
    "start_time": "2022-10-18T13:30:13.004Z"
   },
   {
    "duration": 1749,
    "start_time": "2022-10-18T13:30:22.442Z"
   },
   {
    "duration": 8,
    "start_time": "2022-10-18T13:32:09.383Z"
   },
   {
    "duration": 11,
    "start_time": "2022-10-18T13:33:25.611Z"
   },
   {
    "duration": 22,
    "start_time": "2022-10-18T13:33:33.954Z"
   },
   {
    "duration": 31,
    "start_time": "2022-10-18T13:33:43.383Z"
   },
   {
    "duration": 59,
    "start_time": "2022-10-18T13:33:47.712Z"
   },
   {
    "duration": 20,
    "start_time": "2022-10-18T13:36:13.102Z"
   },
   {
    "duration": 56,
    "start_time": "2022-10-18T13:37:17.491Z"
   },
   {
    "duration": 57,
    "start_time": "2022-10-18T13:37:20.291Z"
   },
   {
    "duration": 14,
    "start_time": "2022-10-18T13:37:43.112Z"
   },
   {
    "duration": 374,
    "start_time": "2022-10-18T13:37:48.578Z"
   },
   {
    "duration": 58,
    "start_time": "2022-10-18T13:37:53.028Z"
   },
   {
    "duration": 18,
    "start_time": "2022-10-18T13:37:55.935Z"
   },
   {
    "duration": 21,
    "start_time": "2022-10-18T13:37:57.873Z"
   },
   {
    "duration": 55,
    "start_time": "2022-10-18T13:38:00.277Z"
   },
   {
    "duration": 55,
    "start_time": "2022-10-18T13:38:10.241Z"
   },
   {
    "duration": 55,
    "start_time": "2022-10-18T13:40:22.548Z"
   },
   {
    "duration": 64,
    "start_time": "2022-10-18T13:40:43.769Z"
   },
   {
    "duration": 26,
    "start_time": "2022-10-18T13:40:51.210Z"
   },
   {
    "duration": 8,
    "start_time": "2022-10-18T13:40:53.095Z"
   },
   {
    "duration": 5,
    "start_time": "2022-10-18T13:40:54.417Z"
   },
   {
    "duration": 11,
    "start_time": "2022-10-18T13:40:55.810Z"
   },
   {
    "duration": 6,
    "start_time": "2022-10-18T13:40:59.782Z"
   },
   {
    "duration": 6,
    "start_time": "2022-10-18T13:41:01.371Z"
   },
   {
    "duration": 3,
    "start_time": "2022-10-18T13:41:55.095Z"
   },
   {
    "duration": 5,
    "start_time": "2022-10-18T13:42:56.092Z"
   },
   {
    "duration": 487,
    "start_time": "2022-10-18T13:42:59.649Z"
   },
   {
    "duration": 459,
    "start_time": "2022-10-18T13:43:17.577Z"
   },
   {
    "duration": 508,
    "start_time": "2022-10-18T13:43:29.470Z"
   },
   {
    "duration": 18,
    "start_time": "2022-10-18T13:47:34.963Z"
   },
   {
    "duration": 497,
    "start_time": "2022-10-18T13:49:18.597Z"
   },
   {
    "duration": 134,
    "start_time": "2022-10-18T13:50:51.213Z"
   },
   {
    "duration": 980,
    "start_time": "2022-10-18T13:50:56.627Z"
   },
   {
    "duration": 2634,
    "start_time": "2022-10-18T13:51:45.768Z"
   },
   {
    "duration": 229,
    "start_time": "2022-10-18T13:57:06.732Z"
   },
   {
    "duration": 299,
    "start_time": "2022-10-18T13:57:27.162Z"
   },
   {
    "duration": 51,
    "start_time": "2022-10-18T15:11:22.243Z"
   },
   {
    "duration": 17002,
    "start_time": "2022-10-18T15:11:28.417Z"
   },
   {
    "duration": 250,
    "start_time": "2022-10-18T15:11:45.422Z"
   },
   {
    "duration": 5,
    "start_time": "2022-10-18T15:11:45.673Z"
   },
   {
    "duration": 40,
    "start_time": "2022-10-18T15:11:45.680Z"
   },
   {
    "duration": 941,
    "start_time": "2022-10-18T15:11:45.722Z"
   },
   {
    "duration": 3,
    "start_time": "2022-10-18T15:11:46.665Z"
   },
   {
    "duration": 8,
    "start_time": "2022-10-18T15:11:46.670Z"
   },
   {
    "duration": 69,
    "start_time": "2022-10-18T15:11:46.680Z"
   },
   {
    "duration": 63,
    "start_time": "2022-10-18T15:11:46.751Z"
   },
   {
    "duration": 37,
    "start_time": "2022-10-18T15:11:46.817Z"
   },
   {
    "duration": 23,
    "start_time": "2022-10-18T15:11:46.856Z"
   },
   {
    "duration": 91,
    "start_time": "2022-10-18T15:11:46.881Z"
   },
   {
    "duration": 60,
    "start_time": "2022-10-18T15:11:46.974Z"
   },
   {
    "duration": 22,
    "start_time": "2022-10-18T15:11:47.035Z"
   },
   {
    "duration": 57,
    "start_time": "2022-10-18T15:11:47.059Z"
   },
   {
    "duration": 81,
    "start_time": "2022-10-18T15:11:47.117Z"
   },
   {
    "duration": 32,
    "start_time": "2022-10-18T15:11:47.200Z"
   },
   {
    "duration": 26,
    "start_time": "2022-10-18T15:11:47.234Z"
   },
   {
    "duration": 5,
    "start_time": "2022-10-18T15:11:47.262Z"
   },
   {
    "duration": 22,
    "start_time": "2022-10-18T15:11:47.268Z"
   },
   {
    "duration": 15,
    "start_time": "2022-10-18T15:11:47.292Z"
   },
   {
    "duration": 15,
    "start_time": "2022-10-18T15:11:47.312Z"
   },
   {
    "duration": 28,
    "start_time": "2022-10-18T15:11:47.329Z"
   },
   {
    "duration": 7,
    "start_time": "2022-10-18T15:11:47.360Z"
   },
   {
    "duration": 657,
    "start_time": "2022-10-18T15:11:47.370Z"
   },
   {
    "duration": 467,
    "start_time": "2022-10-18T15:11:48.029Z"
   },
   {
    "duration": 493,
    "start_time": "2022-10-18T15:11:48.498Z"
   },
   {
    "duration": 950,
    "start_time": "2022-10-18T15:11:48.994Z"
   },
   {
    "duration": 475,
    "start_time": "2022-10-18T15:11:49.945Z"
   },
   {
    "duration": 9,
    "start_time": "2022-10-18T15:11:50.422Z"
   },
   {
    "duration": 6226,
    "start_time": "2022-10-18T15:11:54.322Z"
   },
   {
    "duration": 72,
    "start_time": "2022-10-18T15:13:21.870Z"
   },
   {
    "duration": 306,
    "start_time": "2022-10-18T15:13:27.201Z"
   },
   {
    "duration": 555,
    "start_time": "2022-10-18T15:13:54.778Z"
   },
   {
    "duration": 6,
    "start_time": "2022-10-18T15:14:44.838Z"
   },
   {
    "duration": 6,
    "start_time": "2022-10-18T15:14:55.888Z"
   },
   {
    "duration": 5,
    "start_time": "2022-10-18T15:15:01.942Z"
   },
   {
    "duration": 5,
    "start_time": "2022-10-18T15:15:07.386Z"
   },
   {
    "duration": 5,
    "start_time": "2022-10-18T15:15:56.812Z"
   },
   {
    "duration": 25,
    "start_time": "2022-10-18T15:16:45.830Z"
   },
   {
    "duration": 325,
    "start_time": "2022-10-18T15:16:51.905Z"
   },
   {
    "duration": 57,
    "start_time": "2022-10-18T15:17:49.973Z"
   },
   {
    "duration": 306,
    "start_time": "2022-10-18T15:18:10.298Z"
   },
   {
    "duration": 20,
    "start_time": "2022-10-18T15:18:33.746Z"
   },
   {
    "duration": 345,
    "start_time": "2022-10-18T15:18:36.709Z"
   },
   {
    "duration": 344,
    "start_time": "2022-10-18T15:18:54.406Z"
   },
   {
    "duration": 331,
    "start_time": "2022-10-18T15:19:01.770Z"
   },
   {
    "duration": 537,
    "start_time": "2022-10-18T15:19:18.335Z"
   },
   {
    "duration": 351,
    "start_time": "2022-10-18T15:19:33.318Z"
   },
   {
    "duration": 1789,
    "start_time": "2022-10-18T15:19:48.550Z"
   },
   {
    "duration": 230,
    "start_time": "2022-10-18T15:19:50.341Z"
   },
   {
    "duration": 4,
    "start_time": "2022-10-18T15:19:50.573Z"
   },
   {
    "duration": 37,
    "start_time": "2022-10-18T15:19:50.580Z"
   },
   {
    "duration": 359,
    "start_time": "2022-10-18T15:19:50.619Z"
   },
   {
    "duration": 3,
    "start_time": "2022-10-18T15:19:50.980Z"
   },
   {
    "duration": 10,
    "start_time": "2022-10-18T15:19:50.985Z"
   },
   {
    "duration": 72,
    "start_time": "2022-10-18T15:19:50.996Z"
   },
   {
    "duration": 72,
    "start_time": "2022-10-18T15:19:51.070Z"
   },
   {
    "duration": 29,
    "start_time": "2022-10-18T15:19:51.146Z"
   },
   {
    "duration": 23,
    "start_time": "2022-10-18T15:19:51.177Z"
   },
   {
    "duration": 76,
    "start_time": "2022-10-18T15:19:51.201Z"
   },
   {
    "duration": 58,
    "start_time": "2022-10-18T15:19:51.279Z"
   },
   {
    "duration": 22,
    "start_time": "2022-10-18T15:19:51.339Z"
   },
   {
    "duration": 62,
    "start_time": "2022-10-18T15:19:51.363Z"
   },
   {
    "duration": 95,
    "start_time": "2022-10-18T15:19:51.427Z"
   },
   {
    "duration": 48,
    "start_time": "2022-10-18T15:19:51.525Z"
   },
   {
    "duration": 10,
    "start_time": "2022-10-18T15:19:51.575Z"
   },
   {
    "duration": 9,
    "start_time": "2022-10-18T15:19:51.587Z"
   },
   {
    "duration": 14,
    "start_time": "2022-10-18T15:19:51.598Z"
   },
   {
    "duration": 10,
    "start_time": "2022-10-18T15:19:51.615Z"
   },
   {
    "duration": 35,
    "start_time": "2022-10-18T15:19:51.628Z"
   },
   {
    "duration": 36,
    "start_time": "2022-10-18T15:19:51.666Z"
   },
   {
    "duration": 9,
    "start_time": "2022-10-18T15:19:51.704Z"
   },
   {
    "duration": 518,
    "start_time": "2022-10-18T15:19:51.714Z"
   },
   {
    "duration": 600,
    "start_time": "2022-10-18T15:19:52.235Z"
   },
   {
    "duration": 493,
    "start_time": "2022-10-18T15:19:52.837Z"
   },
   {
    "duration": 938,
    "start_time": "2022-10-18T15:19:53.333Z"
   },
   {
    "duration": 463,
    "start_time": "2022-10-18T15:19:54.272Z"
   },
   {
    "duration": 34,
    "start_time": "2022-10-18T15:19:54.737Z"
   },
   {
    "duration": 302,
    "start_time": "2022-10-18T15:20:19.465Z"
   },
   {
    "duration": 1804,
    "start_time": "2022-10-18T15:20:38.000Z"
   },
   {
    "duration": 227,
    "start_time": "2022-10-18T15:20:39.806Z"
   },
   {
    "duration": 4,
    "start_time": "2022-10-18T15:20:40.035Z"
   },
   {
    "duration": 45,
    "start_time": "2022-10-18T15:20:40.041Z"
   },
   {
    "duration": 332,
    "start_time": "2022-10-18T15:20:40.088Z"
   },
   {
    "duration": 2,
    "start_time": "2022-10-18T15:20:40.422Z"
   },
   {
    "duration": 7,
    "start_time": "2022-10-18T15:20:40.426Z"
   },
   {
    "duration": 68,
    "start_time": "2022-10-18T15:20:40.435Z"
   },
   {
    "duration": 63,
    "start_time": "2022-10-18T15:20:40.505Z"
   },
   {
    "duration": 27,
    "start_time": "2022-10-18T15:20:40.572Z"
   },
   {
    "duration": 23,
    "start_time": "2022-10-18T15:20:40.601Z"
   },
   {
    "duration": 85,
    "start_time": "2022-10-18T15:20:40.626Z"
   },
   {
    "duration": 62,
    "start_time": "2022-10-18T15:20:40.713Z"
   },
   {
    "duration": 14,
    "start_time": "2022-10-18T15:20:40.777Z"
   },
   {
    "duration": 79,
    "start_time": "2022-10-18T15:20:40.793Z"
   },
   {
    "duration": 57,
    "start_time": "2022-10-18T15:20:40.874Z"
   },
   {
    "duration": 41,
    "start_time": "2022-10-18T15:20:40.933Z"
   },
   {
    "duration": 9,
    "start_time": "2022-10-18T15:20:40.976Z"
   },
   {
    "duration": 5,
    "start_time": "2022-10-18T15:20:40.987Z"
   },
   {
    "duration": 30,
    "start_time": "2022-10-18T15:20:40.994Z"
   },
   {
    "duration": 6,
    "start_time": "2022-10-18T15:20:41.025Z"
   },
   {
    "duration": 7,
    "start_time": "2022-10-18T15:20:41.033Z"
   },
   {
    "duration": 24,
    "start_time": "2022-10-18T15:20:41.041Z"
   },
   {
    "duration": 8,
    "start_time": "2022-10-18T15:20:41.067Z"
   },
   {
    "duration": 564,
    "start_time": "2022-10-18T15:20:41.077Z"
   },
   {
    "duration": 646,
    "start_time": "2022-10-18T15:20:41.643Z"
   },
   {
    "duration": 503,
    "start_time": "2022-10-18T15:20:42.291Z"
   },
   {
    "duration": 939,
    "start_time": "2022-10-18T15:20:42.797Z"
   },
   {
    "duration": 380,
    "start_time": "2022-10-18T15:20:43.738Z"
   },
   {
    "duration": 44,
    "start_time": "2022-10-18T15:20:44.121Z"
   },
   {
    "duration": 1832,
    "start_time": "2022-10-18T15:21:04.894Z"
   },
   {
    "duration": 222,
    "start_time": "2022-10-18T15:21:06.728Z"
   },
   {
    "duration": 4,
    "start_time": "2022-10-18T15:21:06.954Z"
   },
   {
    "duration": 35,
    "start_time": "2022-10-18T15:21:06.960Z"
   },
   {
    "duration": 337,
    "start_time": "2022-10-18T15:21:06.997Z"
   },
   {
    "duration": 3,
    "start_time": "2022-10-18T15:21:07.336Z"
   },
   {
    "duration": 16,
    "start_time": "2022-10-18T15:21:07.340Z"
   },
   {
    "duration": 66,
    "start_time": "2022-10-18T15:21:07.357Z"
   },
   {
    "duration": 64,
    "start_time": "2022-10-18T15:21:07.425Z"
   },
   {
    "duration": 29,
    "start_time": "2022-10-18T15:21:07.491Z"
   },
   {
    "duration": 38,
    "start_time": "2022-10-18T15:21:07.521Z"
   },
   {
    "duration": 61,
    "start_time": "2022-10-18T15:21:07.561Z"
   },
   {
    "duration": 77,
    "start_time": "2022-10-18T15:21:07.624Z"
   },
   {
    "duration": 12,
    "start_time": "2022-10-18T15:21:07.703Z"
   },
   {
    "duration": 74,
    "start_time": "2022-10-18T15:21:07.717Z"
   },
   {
    "duration": 62,
    "start_time": "2022-10-18T15:21:07.793Z"
   },
   {
    "duration": 28,
    "start_time": "2022-10-18T15:21:07.857Z"
   },
   {
    "duration": 9,
    "start_time": "2022-10-18T15:21:07.887Z"
   },
   {
    "duration": 6,
    "start_time": "2022-10-18T15:21:07.898Z"
   },
   {
    "duration": 18,
    "start_time": "2022-10-18T15:21:07.906Z"
   },
   {
    "duration": 33,
    "start_time": "2022-10-18T15:21:07.926Z"
   },
   {
    "duration": 9,
    "start_time": "2022-10-18T15:21:07.960Z"
   },
   {
    "duration": 11,
    "start_time": "2022-10-18T15:21:07.970Z"
   },
   {
    "duration": 33,
    "start_time": "2022-10-18T15:21:07.983Z"
   },
   {
    "duration": 507,
    "start_time": "2022-10-18T15:21:08.018Z"
   },
   {
    "duration": 606,
    "start_time": "2022-10-18T15:21:08.528Z"
   },
   {
    "duration": 501,
    "start_time": "2022-10-18T15:21:09.138Z"
   },
   {
    "duration": 948,
    "start_time": "2022-10-18T15:21:09.641Z"
   },
   {
    "duration": 513,
    "start_time": "2022-10-18T15:21:10.590Z"
   },
   {
    "duration": 27,
    "start_time": "2022-10-18T15:21:11.105Z"
   },
   {
    "duration": 346,
    "start_time": "2022-10-18T15:21:29.983Z"
   },
   {
    "duration": 431,
    "start_time": "2022-10-18T15:22:52.052Z"
   },
   {
    "duration": 416,
    "start_time": "2022-10-18T15:23:02.015Z"
   },
   {
    "duration": 21,
    "start_time": "2022-10-18T15:23:21.296Z"
   },
   {
    "duration": 410,
    "start_time": "2022-10-18T15:23:27.456Z"
   },
   {
    "duration": 1865,
    "start_time": "2022-10-18T15:24:55.034Z"
   },
   {
    "duration": 230,
    "start_time": "2022-10-18T15:24:56.901Z"
   },
   {
    "duration": 5,
    "start_time": "2022-10-18T15:24:57.133Z"
   },
   {
    "duration": 32,
    "start_time": "2022-10-18T15:24:57.141Z"
   },
   {
    "duration": 334,
    "start_time": "2022-10-18T15:24:57.175Z"
   },
   {
    "duration": 2,
    "start_time": "2022-10-18T15:24:57.511Z"
   },
   {
    "duration": 21,
    "start_time": "2022-10-18T15:24:57.515Z"
   },
   {
    "duration": 67,
    "start_time": "2022-10-18T15:24:57.538Z"
   },
   {
    "duration": 72,
    "start_time": "2022-10-18T15:24:57.606Z"
   },
   {
    "duration": 28,
    "start_time": "2022-10-18T15:24:57.681Z"
   },
   {
    "duration": 23,
    "start_time": "2022-10-18T15:24:57.710Z"
   },
   {
    "duration": 71,
    "start_time": "2022-10-18T15:24:57.734Z"
   },
   {
    "duration": 70,
    "start_time": "2022-10-18T15:24:57.807Z"
   },
   {
    "duration": 11,
    "start_time": "2022-10-18T15:24:57.879Z"
   },
   {
    "duration": 73,
    "start_time": "2022-10-18T15:24:57.891Z"
   },
   {
    "duration": 56,
    "start_time": "2022-10-18T15:24:57.966Z"
   },
   {
    "duration": 40,
    "start_time": "2022-10-18T15:24:58.024Z"
   },
   {
    "duration": 8,
    "start_time": "2022-10-18T15:24:58.066Z"
   },
   {
    "duration": 5,
    "start_time": "2022-10-18T15:24:58.076Z"
   },
   {
    "duration": 13,
    "start_time": "2022-10-18T15:24:58.082Z"
   },
   {
    "duration": 5,
    "start_time": "2022-10-18T15:24:58.097Z"
   },
   {
    "duration": 8,
    "start_time": "2022-10-18T15:24:58.104Z"
   },
   {
    "duration": 41,
    "start_time": "2022-10-18T15:24:58.113Z"
   },
   {
    "duration": 5,
    "start_time": "2022-10-18T15:24:58.156Z"
   },
   {
    "duration": 499,
    "start_time": "2022-10-18T15:24:58.163Z"
   },
   {
    "duration": 590,
    "start_time": "2022-10-18T15:24:58.664Z"
   },
   {
    "duration": 505,
    "start_time": "2022-10-18T15:24:59.256Z"
   },
   {
    "duration": 974,
    "start_time": "2022-10-18T15:24:59.764Z"
   },
   {
    "duration": 606,
    "start_time": "2022-10-18T15:25:00.740Z"
   },
   {
    "duration": 33,
    "start_time": "2022-10-18T15:25:01.348Z"
   },
   {
    "duration": 176,
    "start_time": "2022-10-18T15:30:50.957Z"
   },
   {
    "duration": 22,
    "start_time": "2022-10-18T15:30:59.583Z"
   },
   {
    "duration": 19,
    "start_time": "2022-10-18T15:31:11.913Z"
   },
   {
    "duration": 419,
    "start_time": "2022-10-18T15:31:26.374Z"
   },
   {
    "duration": 251,
    "start_time": "2022-10-18T15:32:01.342Z"
   },
   {
    "duration": 389,
    "start_time": "2022-10-18T15:32:28.395Z"
   },
   {
    "duration": 1846,
    "start_time": "2022-10-18T15:32:47.124Z"
   },
   {
    "duration": 233,
    "start_time": "2022-10-18T15:32:48.973Z"
   },
   {
    "duration": 5,
    "start_time": "2022-10-18T15:32:49.208Z"
   },
   {
    "duration": 34,
    "start_time": "2022-10-18T15:32:49.215Z"
   },
   {
    "duration": 342,
    "start_time": "2022-10-18T15:32:49.251Z"
   },
   {
    "duration": 2,
    "start_time": "2022-10-18T15:32:49.595Z"
   },
   {
    "duration": 8,
    "start_time": "2022-10-18T15:32:49.599Z"
   },
   {
    "duration": 68,
    "start_time": "2022-10-18T15:32:49.608Z"
   },
   {
    "duration": 78,
    "start_time": "2022-10-18T15:32:49.678Z"
   },
   {
    "duration": 29,
    "start_time": "2022-10-18T15:32:49.760Z"
   },
   {
    "duration": 23,
    "start_time": "2022-10-18T15:32:49.791Z"
   },
   {
    "duration": 96,
    "start_time": "2022-10-18T15:32:49.816Z"
   },
   {
    "duration": 69,
    "start_time": "2022-10-18T15:32:49.914Z"
   },
   {
    "duration": 15,
    "start_time": "2022-10-18T15:32:49.985Z"
   },
   {
    "duration": 95,
    "start_time": "2022-10-18T15:32:50.002Z"
   },
   {
    "duration": 73,
    "start_time": "2022-10-18T15:32:50.099Z"
   },
   {
    "duration": 29,
    "start_time": "2022-10-18T15:32:50.174Z"
   },
   {
    "duration": 9,
    "start_time": "2022-10-18T15:32:50.205Z"
   },
   {
    "duration": 8,
    "start_time": "2022-10-18T15:32:50.216Z"
   },
   {
    "duration": 38,
    "start_time": "2022-10-18T15:32:50.225Z"
   },
   {
    "duration": 6,
    "start_time": "2022-10-18T15:32:50.265Z"
   },
   {
    "duration": 6,
    "start_time": "2022-10-18T15:32:50.273Z"
   },
   {
    "duration": 15,
    "start_time": "2022-10-18T15:32:50.281Z"
   },
   {
    "duration": 4,
    "start_time": "2022-10-18T15:32:50.298Z"
   },
   {
    "duration": 532,
    "start_time": "2022-10-18T15:32:50.304Z"
   },
   {
    "duration": 596,
    "start_time": "2022-10-18T15:32:50.838Z"
   },
   {
    "duration": 584,
    "start_time": "2022-10-18T15:32:51.436Z"
   },
   {
    "duration": 941,
    "start_time": "2022-10-18T15:32:52.023Z"
   },
   {
    "duration": 591,
    "start_time": "2022-10-18T15:32:52.965Z"
   },
   {
    "duration": 26,
    "start_time": "2022-10-18T15:32:53.558Z"
   },
   {
    "duration": 405,
    "start_time": "2022-10-18T15:32:53.586Z"
   },
   {
    "duration": 447,
    "start_time": "2022-10-18T15:34:09.251Z"
   },
   {
    "duration": 1867,
    "start_time": "2022-10-18T15:34:24.068Z"
   },
   {
    "duration": 223,
    "start_time": "2022-10-18T15:34:25.937Z"
   },
   {
    "duration": 5,
    "start_time": "2022-10-18T15:34:26.162Z"
   },
   {
    "duration": 54,
    "start_time": "2022-10-18T15:34:26.169Z"
   },
   {
    "duration": 354,
    "start_time": "2022-10-18T15:34:26.225Z"
   },
   {
    "duration": 3,
    "start_time": "2022-10-18T15:34:26.580Z"
   },
   {
    "duration": 41,
    "start_time": "2022-10-18T15:34:26.585Z"
   },
   {
    "duration": 71,
    "start_time": "2022-10-18T15:34:26.628Z"
   },
   {
    "duration": 65,
    "start_time": "2022-10-18T15:34:26.701Z"
   },
   {
    "duration": 27,
    "start_time": "2022-10-18T15:34:26.771Z"
   },
   {
    "duration": 23,
    "start_time": "2022-10-18T15:34:26.800Z"
   },
   {
    "duration": 86,
    "start_time": "2022-10-18T15:34:26.826Z"
   },
   {
    "duration": 60,
    "start_time": "2022-10-18T15:34:26.914Z"
   },
   {
    "duration": 28,
    "start_time": "2022-10-18T15:34:26.976Z"
   },
   {
    "duration": 74,
    "start_time": "2022-10-18T15:34:27.006Z"
   },
   {
    "duration": 56,
    "start_time": "2022-10-18T15:34:27.082Z"
   },
   {
    "duration": 37,
    "start_time": "2022-10-18T15:34:27.139Z"
   },
   {
    "duration": 21,
    "start_time": "2022-10-18T15:34:27.177Z"
   },
   {
    "duration": 24,
    "start_time": "2022-10-18T15:34:27.199Z"
   },
   {
    "duration": 36,
    "start_time": "2022-10-18T15:34:27.225Z"
   },
   {
    "duration": 19,
    "start_time": "2022-10-18T15:34:27.262Z"
   },
   {
    "duration": 47,
    "start_time": "2022-10-18T15:34:27.283Z"
   },
   {
    "duration": 33,
    "start_time": "2022-10-18T15:34:27.332Z"
   },
   {
    "duration": 29,
    "start_time": "2022-10-18T15:34:27.368Z"
   },
   {
    "duration": 525,
    "start_time": "2022-10-18T15:34:27.399Z"
   },
   {
    "duration": 603,
    "start_time": "2022-10-18T15:34:27.925Z"
   },
   {
    "duration": 509,
    "start_time": "2022-10-18T15:34:28.529Z"
   },
   {
    "duration": 923,
    "start_time": "2022-10-18T15:34:29.041Z"
   },
   {
    "duration": 623,
    "start_time": "2022-10-18T15:34:29.966Z"
   },
   {
    "duration": 29,
    "start_time": "2022-10-18T15:34:30.591Z"
   },
   {
    "duration": 425,
    "start_time": "2022-10-18T15:34:30.622Z"
   },
   {
    "duration": 19,
    "start_time": "2022-10-18T15:50:06.778Z"
   },
   {
    "duration": 11,
    "start_time": "2022-10-18T16:02:05.655Z"
   },
   {
    "duration": 8,
    "start_time": "2022-10-18T16:02:34.061Z"
   },
   {
    "duration": 4,
    "start_time": "2022-10-18T16:03:17.529Z"
   },
   {
    "duration": 4,
    "start_time": "2022-10-18T16:03:26.181Z"
   },
   {
    "duration": 4,
    "start_time": "2022-10-18T16:04:13.636Z"
   },
   {
    "duration": 16,
    "start_time": "2022-10-18T16:04:31.454Z"
   },
   {
    "duration": 6,
    "start_time": "2022-10-18T16:04:37.852Z"
   },
   {
    "duration": 18,
    "start_time": "2022-10-18T16:06:33.701Z"
   },
   {
    "duration": 5,
    "start_time": "2022-10-18T16:07:23.485Z"
   },
   {
    "duration": 5,
    "start_time": "2022-10-18T16:07:30.427Z"
   },
   {
    "duration": 554,
    "start_time": "2022-10-18T16:08:41.225Z"
   },
   {
    "duration": 627,
    "start_time": "2022-10-18T16:09:11.427Z"
   },
   {
    "duration": 736,
    "start_time": "2022-10-18T16:10:01.198Z"
   },
   {
    "duration": 448,
    "start_time": "2022-10-18T16:10:19.556Z"
   },
   {
    "duration": 447,
    "start_time": "2022-10-18T16:10:43.357Z"
   },
   {
    "duration": 1331,
    "start_time": "2022-10-18T16:11:58.133Z"
   },
   {
    "duration": 379,
    "start_time": "2022-10-18T16:12:06.902Z"
   },
   {
    "duration": 632,
    "start_time": "2022-10-18T16:12:37.605Z"
   },
   {
    "duration": 1872,
    "start_time": "2022-10-18T16:12:42.973Z"
   },
   {
    "duration": 300,
    "start_time": "2022-10-18T16:12:44.847Z"
   },
   {
    "duration": 4,
    "start_time": "2022-10-18T16:12:45.149Z"
   },
   {
    "duration": 35,
    "start_time": "2022-10-18T16:12:45.156Z"
   },
   {
    "duration": 341,
    "start_time": "2022-10-18T16:12:45.192Z"
   },
   {
    "duration": 3,
    "start_time": "2022-10-18T16:12:45.534Z"
   },
   {
    "duration": 15,
    "start_time": "2022-10-18T16:12:45.539Z"
   },
   {
    "duration": 78,
    "start_time": "2022-10-18T16:12:45.556Z"
   },
   {
    "duration": 69,
    "start_time": "2022-10-18T16:12:45.635Z"
   },
   {
    "duration": 26,
    "start_time": "2022-10-18T16:12:45.707Z"
   },
   {
    "duration": 33,
    "start_time": "2022-10-18T16:12:45.734Z"
   },
   {
    "duration": 66,
    "start_time": "2022-10-18T16:12:45.769Z"
   },
   {
    "duration": 74,
    "start_time": "2022-10-18T16:12:45.837Z"
   },
   {
    "duration": 12,
    "start_time": "2022-10-18T16:12:45.913Z"
   },
   {
    "duration": 79,
    "start_time": "2022-10-18T16:12:45.927Z"
   },
   {
    "duration": 74,
    "start_time": "2022-10-18T16:12:46.007Z"
   },
   {
    "duration": 29,
    "start_time": "2022-10-18T16:12:46.083Z"
   },
   {
    "duration": 9,
    "start_time": "2022-10-18T16:12:46.114Z"
   },
   {
    "duration": 8,
    "start_time": "2022-10-18T16:12:46.125Z"
   },
   {
    "duration": 30,
    "start_time": "2022-10-18T16:12:46.134Z"
   },
   {
    "duration": 6,
    "start_time": "2022-10-18T16:12:46.165Z"
   },
   {
    "duration": 15,
    "start_time": "2022-10-18T16:12:46.172Z"
   },
   {
    "duration": 11,
    "start_time": "2022-10-18T16:12:46.189Z"
   },
   {
    "duration": 8,
    "start_time": "2022-10-18T16:12:46.202Z"
   },
   {
    "duration": 527,
    "start_time": "2022-10-18T16:12:46.212Z"
   },
   {
    "duration": 598,
    "start_time": "2022-10-18T16:12:46.741Z"
   },
   {
    "duration": 511,
    "start_time": "2022-10-18T16:12:47.341Z"
   },
   {
    "duration": 925,
    "start_time": "2022-10-18T16:12:47.855Z"
   },
   {
    "duration": 645,
    "start_time": "2022-10-18T16:12:48.781Z"
   },
   {
    "duration": 35,
    "start_time": "2022-10-18T16:12:49.429Z"
   },
   {
    "duration": 375,
    "start_time": "2022-10-18T16:12:49.466Z"
   },
   {
    "duration": 24,
    "start_time": "2022-10-18T16:12:49.844Z"
   },
   {
    "duration": 174,
    "start_time": "2022-10-18T16:39:57.243Z"
   },
   {
    "duration": 14,
    "start_time": "2022-10-18T16:40:03.635Z"
   },
   {
    "duration": 4,
    "start_time": "2022-10-18T16:40:43.767Z"
   },
   {
    "duration": 3,
    "start_time": "2022-10-18T16:44:34.427Z"
   },
   {
    "duration": 4,
    "start_time": "2022-10-18T16:47:29.141Z"
   },
   {
    "duration": 4,
    "start_time": "2022-10-18T16:47:37.370Z"
   },
   {
    "duration": 3,
    "start_time": "2022-10-18T16:48:09.809Z"
   },
   {
    "duration": 18,
    "start_time": "2022-10-18T16:48:44.862Z"
   },
   {
    "duration": 6,
    "start_time": "2022-10-18T16:48:58.219Z"
   },
   {
    "duration": 6,
    "start_time": "2022-10-18T16:49:11.839Z"
   },
   {
    "duration": 53,
    "start_time": "2022-10-18T16:49:19.030Z"
   },
   {
    "duration": 19,
    "start_time": "2022-10-18T16:49:24.829Z"
   },
   {
    "duration": 327,
    "start_time": "2022-10-18T16:49:57.540Z"
   },
   {
    "duration": 124,
    "start_time": "2022-10-18T16:50:03.769Z"
   },
   {
    "duration": 309,
    "start_time": "2022-10-18T16:50:20.324Z"
   },
   {
    "duration": 1864,
    "start_time": "2022-10-18T16:50:28.452Z"
   },
   {
    "duration": 251,
    "start_time": "2022-10-18T16:50:30.318Z"
   },
   {
    "duration": 5,
    "start_time": "2022-10-18T16:50:30.571Z"
   },
   {
    "duration": 42,
    "start_time": "2022-10-18T16:50:30.578Z"
   },
   {
    "duration": 360,
    "start_time": "2022-10-18T16:50:30.622Z"
   },
   {
    "duration": 3,
    "start_time": "2022-10-18T16:50:30.984Z"
   },
   {
    "duration": 34,
    "start_time": "2022-10-18T16:50:30.988Z"
   },
   {
    "duration": 98,
    "start_time": "2022-10-18T16:50:31.024Z"
   },
   {
    "duration": 66,
    "start_time": "2022-10-18T16:50:31.124Z"
   },
   {
    "duration": 27,
    "start_time": "2022-10-18T16:50:31.193Z"
   },
   {
    "duration": 34,
    "start_time": "2022-10-18T16:50:31.222Z"
   },
   {
    "duration": 70,
    "start_time": "2022-10-18T16:50:31.258Z"
   },
   {
    "duration": 65,
    "start_time": "2022-10-18T16:50:31.330Z"
   },
   {
    "duration": 24,
    "start_time": "2022-10-18T16:50:31.396Z"
   },
   {
    "duration": 83,
    "start_time": "2022-10-18T16:50:31.422Z"
   },
   {
    "duration": 81,
    "start_time": "2022-10-18T16:50:31.507Z"
   },
   {
    "duration": 26,
    "start_time": "2022-10-18T16:50:31.591Z"
   },
   {
    "duration": 33,
    "start_time": "2022-10-18T16:50:31.619Z"
   },
   {
    "duration": 5,
    "start_time": "2022-10-18T16:50:31.655Z"
   },
   {
    "duration": 22,
    "start_time": "2022-10-18T16:50:31.662Z"
   },
   {
    "duration": 10,
    "start_time": "2022-10-18T16:50:31.687Z"
   },
   {
    "duration": 18,
    "start_time": "2022-10-18T16:50:31.699Z"
   },
   {
    "duration": 12,
    "start_time": "2022-10-18T16:50:31.718Z"
   },
   {
    "duration": 22,
    "start_time": "2022-10-18T16:50:31.732Z"
   },
   {
    "duration": 513,
    "start_time": "2022-10-18T16:50:31.757Z"
   },
   {
    "duration": 602,
    "start_time": "2022-10-18T16:50:32.271Z"
   },
   {
    "duration": 489,
    "start_time": "2022-10-18T16:50:32.874Z"
   },
   {
    "duration": 997,
    "start_time": "2022-10-18T16:50:33.366Z"
   },
   {
    "duration": 659,
    "start_time": "2022-10-18T16:50:34.365Z"
   },
   {
    "duration": 31,
    "start_time": "2022-10-18T16:50:35.025Z"
   },
   {
    "duration": 377,
    "start_time": "2022-10-18T16:50:35.058Z"
   },
   {
    "duration": 3,
    "start_time": "2022-10-18T16:50:35.436Z"
   },
   {
    "duration": 14,
    "start_time": "2022-10-18T16:50:35.441Z"
   },
   {
    "duration": 5,
    "start_time": "2022-10-18T16:50:35.457Z"
   },
   {
    "duration": 8,
    "start_time": "2022-10-18T16:50:35.464Z"
   },
   {
    "duration": 20,
    "start_time": "2022-10-18T16:50:35.473Z"
   },
   {
    "duration": 324,
    "start_time": "2022-10-18T16:51:32.609Z"
   },
   {
    "duration": 1831,
    "start_time": "2022-10-18T16:51:39.971Z"
   },
   {
    "duration": 241,
    "start_time": "2022-10-18T16:51:41.805Z"
   },
   {
    "duration": 4,
    "start_time": "2022-10-18T16:51:42.047Z"
   },
   {
    "duration": 36,
    "start_time": "2022-10-18T16:51:42.054Z"
   },
   {
    "duration": 337,
    "start_time": "2022-10-18T16:51:42.093Z"
   },
   {
    "duration": 3,
    "start_time": "2022-10-18T16:51:42.432Z"
   },
   {
    "duration": 31,
    "start_time": "2022-10-18T16:51:42.437Z"
   },
   {
    "duration": 76,
    "start_time": "2022-10-18T16:51:42.470Z"
   },
   {
    "duration": 61,
    "start_time": "2022-10-18T16:51:42.548Z"
   },
   {
    "duration": 41,
    "start_time": "2022-10-18T16:51:42.613Z"
   },
   {
    "duration": 24,
    "start_time": "2022-10-18T16:51:42.656Z"
   },
   {
    "duration": 73,
    "start_time": "2022-10-18T16:51:42.682Z"
   },
   {
    "duration": 56,
    "start_time": "2022-10-18T16:51:42.756Z"
   },
   {
    "duration": 18,
    "start_time": "2022-10-18T16:51:42.814Z"
   },
   {
    "duration": 65,
    "start_time": "2022-10-18T16:51:42.834Z"
   },
   {
    "duration": 67,
    "start_time": "2022-10-18T16:51:42.901Z"
   },
   {
    "duration": 29,
    "start_time": "2022-10-18T16:51:42.969Z"
   },
   {
    "duration": 17,
    "start_time": "2022-10-18T16:51:43.000Z"
   },
   {
    "duration": 14,
    "start_time": "2022-10-18T16:51:43.019Z"
   },
   {
    "duration": 24,
    "start_time": "2022-10-18T16:51:43.034Z"
   },
   {
    "duration": 25,
    "start_time": "2022-10-18T16:51:43.059Z"
   },
   {
    "duration": 36,
    "start_time": "2022-10-18T16:51:43.086Z"
   },
   {
    "duration": 36,
    "start_time": "2022-10-18T16:51:43.123Z"
   },
   {
    "duration": 25,
    "start_time": "2022-10-18T16:51:43.161Z"
   },
   {
    "duration": 536,
    "start_time": "2022-10-18T16:51:43.187Z"
   },
   {
    "duration": 598,
    "start_time": "2022-10-18T16:51:43.725Z"
   },
   {
    "duration": 517,
    "start_time": "2022-10-18T16:51:44.325Z"
   },
   {
    "duration": 955,
    "start_time": "2022-10-18T16:51:44.845Z"
   },
   {
    "duration": 628,
    "start_time": "2022-10-18T16:51:45.802Z"
   },
   {
    "duration": 32,
    "start_time": "2022-10-18T16:51:46.432Z"
   },
   {
    "duration": 383,
    "start_time": "2022-10-18T16:51:46.465Z"
   },
   {
    "duration": 6,
    "start_time": "2022-10-18T16:51:46.850Z"
   },
   {
    "duration": 7,
    "start_time": "2022-10-18T16:51:46.857Z"
   },
   {
    "duration": 10,
    "start_time": "2022-10-18T16:51:46.865Z"
   },
   {
    "duration": 10,
    "start_time": "2022-10-18T16:51:46.877Z"
   },
   {
    "duration": 19,
    "start_time": "2022-10-18T16:51:46.888Z"
   },
   {
    "duration": 172,
    "start_time": "2022-10-18T16:52:19.529Z"
   },
   {
    "duration": 9,
    "start_time": "2022-10-18T16:52:25.829Z"
   },
   {
    "duration": 13,
    "start_time": "2022-10-18T16:52:28.045Z"
   },
   {
    "duration": 9,
    "start_time": "2022-10-18T16:52:58.197Z"
   },
   {
    "duration": 11,
    "start_time": "2022-10-18T16:53:06.328Z"
   },
   {
    "duration": 16,
    "start_time": "2022-10-18T16:54:01.193Z"
   },
   {
    "duration": 1519,
    "start_time": "2022-10-18T16:54:20.943Z"
   },
   {
    "duration": 3,
    "start_time": "2022-10-18T16:55:06.773Z"
   },
   {
    "duration": 22,
    "start_time": "2022-10-18T16:55:26.728Z"
   },
   {
    "duration": 11,
    "start_time": "2022-10-18T17:00:50.214Z"
   },
   {
    "duration": 22,
    "start_time": "2022-10-18T17:01:49.016Z"
   },
   {
    "duration": 24,
    "start_time": "2022-10-18T17:04:33.131Z"
   },
   {
    "duration": 26,
    "start_time": "2022-10-18T17:04:54.866Z"
   },
   {
    "duration": 3,
    "start_time": "2022-10-18T17:10:58.332Z"
   },
   {
    "duration": 14,
    "start_time": "2022-10-18T17:14:54.053Z"
   },
   {
    "duration": 4,
    "start_time": "2022-10-18T17:14:58.521Z"
   },
   {
    "duration": 3,
    "start_time": "2022-10-18T17:15:04.805Z"
   },
   {
    "duration": 14,
    "start_time": "2022-10-18T17:17:23.320Z"
   },
   {
    "duration": 4,
    "start_time": "2022-10-18T17:17:27.076Z"
   },
   {
    "duration": 4,
    "start_time": "2022-10-18T17:17:31.177Z"
   },
   {
    "duration": 4,
    "start_time": "2022-10-18T17:17:36.718Z"
   },
   {
    "duration": 13,
    "start_time": "2022-10-18T17:18:37.224Z"
   },
   {
    "duration": 5,
    "start_time": "2022-10-18T17:19:15.222Z"
   },
   {
    "duration": 3,
    "start_time": "2022-10-18T17:19:21.081Z"
   },
   {
    "duration": 15,
    "start_time": "2022-10-18T17:19:24.048Z"
   },
   {
    "duration": 4,
    "start_time": "2022-10-18T17:19:38.840Z"
   },
   {
    "duration": 15,
    "start_time": "2022-10-18T17:19:47.468Z"
   },
   {
    "duration": 14,
    "start_time": "2022-10-18T17:19:54.336Z"
   },
   {
    "duration": 23621,
    "start_time": "2022-10-18T17:20:12.152Z"
   },
   {
    "duration": 4414,
    "start_time": "2022-10-18T17:20:49.316Z"
   },
   {
    "duration": 3,
    "start_time": "2022-10-18T17:21:26.319Z"
   },
   {
    "duration": 4377,
    "start_time": "2022-10-18T17:21:35.102Z"
   },
   {
    "duration": 3,
    "start_time": "2022-10-18T17:22:08.011Z"
   },
   {
    "duration": 28478,
    "start_time": "2022-10-18T17:22:18.153Z"
   },
   {
    "duration": 8,
    "start_time": "2022-10-18T17:23:00.605Z"
   },
   {
    "duration": 26434,
    "start_time": "2022-10-18T17:23:02.554Z"
   },
   {
    "duration": 20,
    "start_time": "2022-10-18T17:35:56.724Z"
   },
   {
    "duration": 4,
    "start_time": "2022-10-18T17:36:32.419Z"
   },
   {
    "duration": 57,
    "start_time": "2022-10-18T17:38:17.919Z"
   },
   {
    "duration": 6,
    "start_time": "2022-10-18T17:38:22.216Z"
   },
   {
    "duration": 7,
    "start_time": "2022-10-18T17:38:30.805Z"
   },
   {
    "duration": 6,
    "start_time": "2022-10-18T17:38:43.037Z"
   },
   {
    "duration": 6,
    "start_time": "2022-10-18T17:38:47.743Z"
   },
   {
    "duration": 0,
    "start_time": "2022-10-18T17:39:40.913Z"
   },
   {
    "duration": 27406,
    "start_time": "2022-10-18T17:39:58.814Z"
   },
   {
    "duration": 27137,
    "start_time": "2022-10-18T17:43:58.946Z"
   },
   {
    "duration": 98,
    "start_time": "2022-10-18T17:55:58.387Z"
   },
   {
    "duration": 156,
    "start_time": "2022-10-18T17:56:10.455Z"
   },
   {
    "duration": 122,
    "start_time": "2022-10-18T17:56:34.720Z"
   },
   {
    "duration": 4,
    "start_time": "2022-10-18T17:56:41.974Z"
   },
   {
    "duration": 5,
    "start_time": "2022-10-18T17:57:17.294Z"
   },
   {
    "duration": 3100,
    "start_time": "2022-10-18T17:58:11.593Z"
   },
   {
    "duration": 5,
    "start_time": "2022-10-18T17:58:26.447Z"
   },
   {
    "duration": 95,
    "start_time": "2022-10-18T17:58:30.013Z"
   },
   {
    "duration": 8,
    "start_time": "2022-10-18T17:59:12.239Z"
   },
   {
    "duration": 4,
    "start_time": "2022-10-18T17:59:13.725Z"
   },
   {
    "duration": 2945,
    "start_time": "2022-10-18T17:59:16.737Z"
   },
   {
    "duration": 5,
    "start_time": "2022-10-18T17:59:31.341Z"
   },
   {
    "duration": 3009,
    "start_time": "2022-10-18T17:59:34.209Z"
   },
   {
    "duration": 10,
    "start_time": "2022-10-18T18:00:01.137Z"
   },
   {
    "duration": 10,
    "start_time": "2022-10-18T18:00:13.532Z"
   },
   {
    "duration": 2048,
    "start_time": "2022-10-18T18:00:15.989Z"
   },
   {
    "duration": 7,
    "start_time": "2022-10-18T18:00:36.299Z"
   },
   {
    "duration": 5,
    "start_time": "2022-10-18T18:02:52.583Z"
   },
   {
    "duration": 69,
    "start_time": "2022-10-18T18:02:57.420Z"
   },
   {
    "duration": 5,
    "start_time": "2022-10-18T18:03:15.581Z"
   },
   {
    "duration": 2905,
    "start_time": "2022-10-18T18:03:18.969Z"
   },
   {
    "duration": 4,
    "start_time": "2022-10-18T18:03:55.436Z"
   },
   {
    "duration": 3170,
    "start_time": "2022-10-18T18:03:59.569Z"
   },
   {
    "duration": 9,
    "start_time": "2022-10-18T18:04:29.775Z"
   },
   {
    "duration": 10,
    "start_time": "2022-10-18T18:04:34.898Z"
   },
   {
    "duration": 6,
    "start_time": "2022-10-18T18:04:41.324Z"
   },
   {
    "duration": 4,
    "start_time": "2022-10-18T18:05:26.637Z"
   },
   {
    "duration": 3,
    "start_time": "2022-10-18T18:05:33.382Z"
   },
   {
    "duration": 171,
    "start_time": "2022-10-18T18:05:38.334Z"
   },
   {
    "duration": 4,
    "start_time": "2022-10-18T18:21:31.891Z"
   },
   {
    "duration": 3,
    "start_time": "2022-10-18T18:23:44.872Z"
   },
   {
    "duration": 4,
    "start_time": "2022-10-18T18:28:05.019Z"
   },
   {
    "duration": 148,
    "start_time": "2022-10-18T18:28:12.212Z"
   },
   {
    "duration": 9,
    "start_time": "2022-10-18T18:28:29.558Z"
   },
   {
    "duration": 154,
    "start_time": "2022-10-18T18:28:39.546Z"
   },
   {
    "duration": 4,
    "start_time": "2022-10-18T18:29:06.861Z"
   },
   {
    "duration": 3,
    "start_time": "2022-10-18T18:29:08.632Z"
   },
   {
    "duration": 3,
    "start_time": "2022-10-18T18:29:10.974Z"
   },
   {
    "duration": 5,
    "start_time": "2022-10-18T18:29:11.876Z"
   },
   {
    "duration": 3,
    "start_time": "2022-10-18T18:29:14.403Z"
   },
   {
    "duration": 11,
    "start_time": "2022-10-18T18:29:15.379Z"
   },
   {
    "duration": 5665,
    "start_time": "2022-10-18T18:29:18.688Z"
   },
   {
    "duration": 5,
    "start_time": "2022-10-18T18:33:26.581Z"
   },
   {
    "duration": 5711,
    "start_time": "2022-10-18T18:33:31.272Z"
   },
   {
    "duration": 59240,
    "start_time": "2022-10-18T18:34:09.332Z"
   },
   {
    "duration": 5,
    "start_time": "2022-10-18T18:37:40.565Z"
   },
   {
    "duration": 1884,
    "start_time": "2022-10-18T18:53:02.417Z"
   },
   {
    "duration": 269,
    "start_time": "2022-10-18T18:53:04.303Z"
   },
   {
    "duration": 4,
    "start_time": "2022-10-18T18:53:04.574Z"
   },
   {
    "duration": 35,
    "start_time": "2022-10-18T18:53:04.581Z"
   },
   {
    "duration": 357,
    "start_time": "2022-10-18T18:53:04.617Z"
   },
   {
    "duration": 2,
    "start_time": "2022-10-18T18:53:04.976Z"
   },
   {
    "duration": 14,
    "start_time": "2022-10-18T18:53:04.980Z"
   },
   {
    "duration": 66,
    "start_time": "2022-10-18T18:53:04.996Z"
   },
   {
    "duration": 59,
    "start_time": "2022-10-18T18:53:05.064Z"
   },
   {
    "duration": 46,
    "start_time": "2022-10-18T18:53:05.127Z"
   },
   {
    "duration": 22,
    "start_time": "2022-10-18T18:53:05.174Z"
   },
   {
    "duration": 10,
    "start_time": "2022-10-18T18:53:05.198Z"
   },
   {
    "duration": 13,
    "start_time": "2022-10-18T18:53:05.211Z"
   },
   {
    "duration": 6,
    "start_time": "2022-10-18T18:53:05.226Z"
   },
   {
    "duration": 33,
    "start_time": "2022-10-18T18:53:05.233Z"
   },
   {
    "duration": 7,
    "start_time": "2022-10-18T18:53:05.268Z"
   },
   {
    "duration": 17,
    "start_time": "2022-10-18T18:53:05.277Z"
   },
   {
    "duration": 14,
    "start_time": "2022-10-18T18:53:05.296Z"
   },
   {
    "duration": 14,
    "start_time": "2022-10-18T18:53:05.312Z"
   },
   {
    "duration": 515,
    "start_time": "2022-10-18T18:53:05.328Z"
   },
   {
    "duration": 589,
    "start_time": "2022-10-18T18:53:05.845Z"
   },
   {
    "duration": 502,
    "start_time": "2022-10-18T18:53:06.437Z"
   },
   {
    "duration": 932,
    "start_time": "2022-10-18T18:53:06.941Z"
   },
   {
    "duration": 631,
    "start_time": "2022-10-18T18:53:07.874Z"
   },
   {
    "duration": 28,
    "start_time": "2022-10-18T18:53:08.506Z"
   },
   {
    "duration": 400,
    "start_time": "2022-10-18T18:53:08.537Z"
   },
   {
    "duration": 4,
    "start_time": "2022-10-18T18:53:08.940Z"
   },
   {
    "duration": 24,
    "start_time": "2022-10-18T18:53:08.953Z"
   },
   {
    "duration": 18,
    "start_time": "2022-10-18T18:53:08.979Z"
   },
   {
    "duration": 8,
    "start_time": "2022-10-18T18:53:08.998Z"
   },
   {
    "duration": 13,
    "start_time": "2022-10-18T18:53:09.008Z"
   },
   {
    "duration": 16,
    "start_time": "2022-10-18T18:53:09.023Z"
   },
   {
    "duration": 7,
    "start_time": "2022-10-18T18:53:09.041Z"
   },
   {
    "duration": 1958,
    "start_time": "2022-10-18T18:53:40.559Z"
   },
   {
    "duration": 287,
    "start_time": "2022-10-18T18:53:42.519Z"
   },
   {
    "duration": 5,
    "start_time": "2022-10-18T18:53:42.808Z"
   },
   {
    "duration": 46,
    "start_time": "2022-10-18T18:53:42.816Z"
   },
   {
    "duration": 347,
    "start_time": "2022-10-18T18:53:42.864Z"
   },
   {
    "duration": 4,
    "start_time": "2022-10-18T18:53:43.212Z"
   },
   {
    "duration": 11,
    "start_time": "2022-10-18T18:53:43.218Z"
   },
   {
    "duration": 66,
    "start_time": "2022-10-18T18:53:43.231Z"
   },
   {
    "duration": 74,
    "start_time": "2022-10-18T18:53:43.299Z"
   },
   {
    "duration": 17,
    "start_time": "2022-10-18T18:53:43.376Z"
   },
   {
    "duration": 25,
    "start_time": "2022-10-18T18:53:43.395Z"
   },
   {
    "duration": 4,
    "start_time": "2022-10-18T18:53:43.422Z"
   },
   {
    "duration": 32,
    "start_time": "2022-10-18T18:53:43.427Z"
   },
   {
    "duration": 6,
    "start_time": "2022-10-18T18:53:43.461Z"
   },
   {
    "duration": 14,
    "start_time": "2022-10-18T18:53:43.468Z"
   },
   {
    "duration": 5,
    "start_time": "2022-10-18T18:53:43.484Z"
   },
   {
    "duration": 18,
    "start_time": "2022-10-18T18:53:43.490Z"
   },
   {
    "duration": 17,
    "start_time": "2022-10-18T18:53:43.510Z"
   },
   {
    "duration": 26,
    "start_time": "2022-10-18T18:53:43.528Z"
   },
   {
    "duration": 498,
    "start_time": "2022-10-18T18:53:43.556Z"
   },
   {
    "duration": 600,
    "start_time": "2022-10-18T18:53:44.056Z"
   },
   {
    "duration": 512,
    "start_time": "2022-10-18T18:53:44.658Z"
   },
   {
    "duration": 993,
    "start_time": "2022-10-18T18:53:45.171Z"
   },
   {
    "duration": 639,
    "start_time": "2022-10-18T18:53:46.166Z"
   },
   {
    "duration": 27,
    "start_time": "2022-10-18T18:53:46.807Z"
   },
   {
    "duration": 402,
    "start_time": "2022-10-18T18:53:46.837Z"
   },
   {
    "duration": 4,
    "start_time": "2022-10-18T18:53:47.241Z"
   },
   {
    "duration": 4,
    "start_time": "2022-10-18T18:53:47.253Z"
   },
   {
    "duration": 12,
    "start_time": "2022-10-18T18:53:47.259Z"
   },
   {
    "duration": 10,
    "start_time": "2022-10-18T18:53:47.274Z"
   },
   {
    "duration": 16,
    "start_time": "2022-10-18T18:53:47.285Z"
   },
   {
    "duration": 189,
    "start_time": "2022-10-18T18:53:47.303Z"
   },
   {
    "duration": 0,
    "start_time": "2022-10-18T18:53:47.494Z"
   },
   {
    "duration": 0,
    "start_time": "2022-10-18T18:53:47.496Z"
   },
   {
    "duration": 7,
    "start_time": "2022-10-18T18:56:14.305Z"
   },
   {
    "duration": 7,
    "start_time": "2022-10-18T19:19:09.690Z"
   },
   {
    "duration": 38,
    "start_time": "2022-10-18T19:19:26.260Z"
   },
   {
    "duration": 9746,
    "start_time": "2022-10-18T19:20:14.872Z"
   },
   {
    "duration": 48,
    "start_time": "2022-10-18T19:20:39.550Z"
   },
   {
    "duration": 4,
    "start_time": "2022-10-18T19:20:45.755Z"
   },
   {
    "duration": 4,
    "start_time": "2022-10-18T19:21:14.266Z"
   },
   {
    "duration": 9699,
    "start_time": "2022-10-18T19:21:18.850Z"
   },
   {
    "duration": 5,
    "start_time": "2022-10-18T19:22:32.520Z"
   },
   {
    "duration": 9561,
    "start_time": "2022-10-18T19:22:39.572Z"
   },
   {
    "duration": 7,
    "start_time": "2022-10-18T19:30:48.561Z"
   },
   {
    "duration": 16,
    "start_time": "2022-10-18T19:31:03.893Z"
   },
   {
    "duration": 5,
    "start_time": "2022-10-18T19:31:10.808Z"
   },
   {
    "duration": 3,
    "start_time": "2022-10-18T19:31:40.314Z"
   },
   {
    "duration": 9644,
    "start_time": "2022-10-18T19:31:45.660Z"
   },
   {
    "duration": 94,
    "start_time": "2022-10-18T19:34:30.733Z"
   },
   {
    "duration": 5,
    "start_time": "2022-10-18T19:34:34.678Z"
   },
   {
    "duration": 5,
    "start_time": "2022-10-18T19:35:21.925Z"
   },
   {
    "duration": 9607,
    "start_time": "2022-10-18T19:35:48.700Z"
   },
   {
    "duration": 4,
    "start_time": "2022-10-18T19:35:58.309Z"
   },
   {
    "duration": 5,
    "start_time": "2022-10-18T19:40:55.235Z"
   },
   {
    "duration": 4551,
    "start_time": "2022-10-18T19:41:40.024Z"
   },
   {
    "duration": 18,
    "start_time": "2022-10-18T19:41:56.949Z"
   },
   {
    "duration": 21,
    "start_time": "2022-10-18T19:42:31.208Z"
   },
   {
    "duration": 4,
    "start_time": "2022-10-18T19:43:33.493Z"
   },
   {
    "duration": 24,
    "start_time": "2022-10-18T19:43:39.236Z"
   },
   {
    "duration": 5,
    "start_time": "2022-10-18T19:44:26.704Z"
   },
   {
    "duration": 1581,
    "start_time": "2022-10-18T19:44:33.379Z"
   },
   {
    "duration": 5,
    "start_time": "2022-10-18T19:45:04.381Z"
   },
   {
    "duration": 2843,
    "start_time": "2022-10-18T19:45:09.519Z"
   },
   {
    "duration": 4174,
    "start_time": "2022-10-18T19:47:33.589Z"
   },
   {
    "duration": 4,
    "start_time": "2022-10-18T19:47:46.663Z"
   },
   {
    "duration": 2745,
    "start_time": "2022-10-18T19:47:49.212Z"
   },
   {
    "duration": 3,
    "start_time": "2022-10-18T19:48:08.324Z"
   },
   {
    "duration": 4485,
    "start_time": "2022-10-18T19:48:10.476Z"
   },
   {
    "duration": 3092,
    "start_time": "2022-10-18T19:48:29.766Z"
   },
   {
    "duration": 2378,
    "start_time": "2022-10-18T19:52:56.977Z"
   },
   {
    "duration": 12,
    "start_time": "2022-10-18T19:53:45.325Z"
   },
   {
    "duration": 5,
    "start_time": "2022-10-18T19:53:51.076Z"
   },
   {
    "duration": 5,
    "start_time": "2022-10-18T19:54:24.673Z"
   },
   {
    "duration": 19460,
    "start_time": "2022-10-18T19:56:19.061Z"
   },
   {
    "duration": 52,
    "start_time": "2022-10-18T19:57:21.945Z"
   },
   {
    "duration": 4,
    "start_time": "2022-10-18T19:57:29.784Z"
   },
   {
    "duration": 19731,
    "start_time": "2022-10-18T19:57:37.385Z"
   },
   {
    "duration": 4,
    "start_time": "2022-10-18T19:58:42.900Z"
   },
   {
    "duration": 19835,
    "start_time": "2022-10-18T19:58:47.123Z"
   },
   {
    "duration": 19911,
    "start_time": "2022-10-18T19:59:15.009Z"
   },
   {
    "duration": 5635,
    "start_time": "2022-10-18T19:59:34.922Z"
   },
   {
    "duration": 9398,
    "start_time": "2022-10-18T19:59:40.563Z"
   },
   {
    "duration": 92,
    "start_time": "2022-10-18T19:59:49.964Z"
   },
   {
    "duration": 8,
    "start_time": "2022-10-18T19:59:56.668Z"
   },
   {
    "duration": 47,
    "start_time": "2022-10-18T20:00:59.169Z"
   },
   {
    "duration": 13,
    "start_time": "2022-10-18T20:01:03.360Z"
   },
   {
    "duration": 34,
    "start_time": "2022-10-18T20:01:49.808Z"
   },
   {
    "duration": 6,
    "start_time": "2022-10-18T20:02:03.309Z"
   },
   {
    "duration": 3998,
    "start_time": "2022-10-18T20:02:04.397Z"
   },
   {
    "duration": 2,
    "start_time": "2022-10-18T20:02:10.562Z"
   },
   {
    "duration": 19954,
    "start_time": "2022-10-18T20:02:12.257Z"
   },
   {
    "duration": 54,
    "start_time": "2022-10-18T20:02:32.213Z"
   },
   {
    "duration": 0,
    "start_time": "2022-10-18T20:02:32.269Z"
   },
   {
    "duration": 0,
    "start_time": "2022-10-18T20:02:32.271Z"
   },
   {
    "duration": 33934,
    "start_time": "2022-10-18T20:03:17.663Z"
   },
   {
    "duration": 0,
    "start_time": "2022-10-18T20:03:51.600Z"
   },
   {
    "duration": 0,
    "start_time": "2022-10-18T20:03:51.601Z"
   },
   {
    "duration": 0,
    "start_time": "2022-10-18T20:03:51.604Z"
   },
   {
    "duration": 7,
    "start_time": "2022-10-18T20:03:52.615Z"
   },
   {
    "duration": 3,
    "start_time": "2022-10-18T20:03:56.157Z"
   },
   {
    "duration": 20036,
    "start_time": "2022-10-18T20:03:58.444Z"
   },
   {
    "duration": 54372,
    "start_time": "2022-10-18T20:04:18.482Z"
   },
   {
    "duration": 1,
    "start_time": "2022-10-18T20:05:12.855Z"
   },
   {
    "duration": 0,
    "start_time": "2022-10-18T20:05:12.857Z"
   },
   {
    "duration": 3,
    "start_time": "2022-10-18T20:05:14.859Z"
   },
   {
    "duration": 1799,
    "start_time": "2022-10-18T20:08:25.176Z"
   },
   {
    "duration": 248,
    "start_time": "2022-10-18T20:08:26.977Z"
   },
   {
    "duration": 3,
    "start_time": "2022-10-18T20:08:27.227Z"
   },
   {
    "duration": 35,
    "start_time": "2022-10-18T20:08:27.233Z"
   },
   {
    "duration": 345,
    "start_time": "2022-10-18T20:08:27.270Z"
   },
   {
    "duration": 4,
    "start_time": "2022-10-18T20:08:27.617Z"
   },
   {
    "duration": 10,
    "start_time": "2022-10-18T20:08:27.622Z"
   },
   {
    "duration": 68,
    "start_time": "2022-10-18T20:08:27.633Z"
   },
   {
    "duration": 64,
    "start_time": "2022-10-18T20:08:27.703Z"
   },
   {
    "duration": 18,
    "start_time": "2022-10-18T20:08:27.770Z"
   },
   {
    "duration": 22,
    "start_time": "2022-10-18T20:08:27.789Z"
   },
   {
    "duration": 14,
    "start_time": "2022-10-18T20:08:27.813Z"
   },
   {
    "duration": 26,
    "start_time": "2022-10-18T20:08:27.828Z"
   },
   {
    "duration": 4,
    "start_time": "2022-10-18T20:08:27.856Z"
   },
   {
    "duration": 20,
    "start_time": "2022-10-18T20:08:27.861Z"
   },
   {
    "duration": 15,
    "start_time": "2022-10-18T20:08:27.883Z"
   },
   {
    "duration": 14,
    "start_time": "2022-10-18T20:08:27.899Z"
   },
   {
    "duration": 11,
    "start_time": "2022-10-18T20:08:27.914Z"
   },
   {
    "duration": 23,
    "start_time": "2022-10-18T20:08:27.927Z"
   },
   {
    "duration": 498,
    "start_time": "2022-10-18T20:08:27.952Z"
   },
   {
    "duration": 600,
    "start_time": "2022-10-18T20:08:28.451Z"
   },
   {
    "duration": 518,
    "start_time": "2022-10-18T20:08:29.054Z"
   },
   {
    "duration": 935,
    "start_time": "2022-10-18T20:08:29.574Z"
   },
   {
    "duration": 646,
    "start_time": "2022-10-18T20:08:30.511Z"
   },
   {
    "duration": 27,
    "start_time": "2022-10-18T20:08:31.159Z"
   },
   {
    "duration": 418,
    "start_time": "2022-10-18T20:08:31.188Z"
   },
   {
    "duration": 4,
    "start_time": "2022-10-18T20:08:31.609Z"
   },
   {
    "duration": 18,
    "start_time": "2022-10-18T20:08:31.617Z"
   },
   {
    "duration": 36,
    "start_time": "2022-10-18T20:08:31.637Z"
   },
   {
    "duration": 33,
    "start_time": "2022-10-18T20:08:31.675Z"
   },
   {
    "duration": 27,
    "start_time": "2022-10-18T20:08:31.710Z"
   },
   {
    "duration": 27,
    "start_time": "2022-10-18T20:08:31.739Z"
   },
   {
    "duration": 23,
    "start_time": "2022-10-18T20:08:31.768Z"
   },
   {
    "duration": 28,
    "start_time": "2022-10-18T20:08:31.793Z"
   },
   {
    "duration": 28,
    "start_time": "2022-10-18T20:08:31.822Z"
   },
   {
    "duration": 19639,
    "start_time": "2022-10-18T20:08:31.852Z"
   },
   {
    "duration": 449354,
    "start_time": "2022-10-18T20:08:51.493Z"
   },
   {
    "duration": 0,
    "start_time": "2022-10-18T20:16:20.850Z"
   },
   {
    "duration": 0,
    "start_time": "2022-10-18T20:16:20.851Z"
   },
   {
    "duration": 0,
    "start_time": "2022-10-18T20:16:20.854Z"
   },
   {
    "duration": 0,
    "start_time": "2022-10-18T20:16:20.856Z"
   },
   {
    "duration": 0,
    "start_time": "2022-10-18T20:16:20.857Z"
   },
   {
    "duration": 5819,
    "start_time": "2022-10-18T20:16:24.137Z"
   },
   {
    "duration": 85,
    "start_time": "2022-10-18T20:17:25.150Z"
   },
   {
    "duration": 45,
    "start_time": "2022-10-18T20:17:35.072Z"
   },
   {
    "duration": 50,
    "start_time": "2022-10-18T20:17:49.884Z"
   },
   {
    "duration": 106,
    "start_time": "2022-10-18T20:18:00.899Z"
   },
   {
    "duration": 4,
    "start_time": "2022-10-18T20:18:27.021Z"
   },
   {
    "duration": 2,
    "start_time": "2022-10-18T20:18:34.466Z"
   },
   {
    "duration": 5,
    "start_time": "2022-10-18T20:18:36.039Z"
   },
   {
    "duration": 5843,
    "start_time": "2022-10-18T20:18:41.918Z"
   },
   {
    "duration": 4,
    "start_time": "2022-10-18T20:19:20.740Z"
   },
   {
    "duration": 5,
    "start_time": "2022-10-18T20:19:27.574Z"
   },
   {
    "duration": 4,
    "start_time": "2022-10-18T20:19:35.581Z"
   },
   {
    "duration": 5621,
    "start_time": "2022-10-18T20:19:41.447Z"
   },
   {
    "duration": 4,
    "start_time": "2022-10-18T20:20:00.556Z"
   },
   {
    "duration": 7171,
    "start_time": "2022-10-18T20:20:05.690Z"
   },
   {
    "duration": 4,
    "start_time": "2022-10-18T20:20:20.059Z"
   },
   {
    "duration": 2,
    "start_time": "2022-10-18T20:20:21.138Z"
   },
   {
    "duration": 4,
    "start_time": "2022-10-18T20:20:22.782Z"
   },
   {
    "duration": 5922,
    "start_time": "2022-10-18T20:20:28.543Z"
   },
   {
    "duration": 4,
    "start_time": "2022-10-18T20:21:02.603Z"
   },
   {
    "duration": 45,
    "start_time": "2022-10-18T20:21:07.610Z"
   },
   {
    "duration": 5,
    "start_time": "2022-10-18T20:21:21.361Z"
   },
   {
    "duration": 2924,
    "start_time": "2022-10-18T20:21:26.630Z"
   },
   {
    "duration": 4,
    "start_time": "2022-10-18T20:21:50.751Z"
   },
   {
    "duration": 4,
    "start_time": "2022-10-18T20:21:53.365Z"
   },
   {
    "duration": 2559,
    "start_time": "2022-10-18T20:22:17.802Z"
   },
   {
    "duration": 4,
    "start_time": "2022-10-18T20:22:44.061Z"
   },
   {
    "duration": 2525,
    "start_time": "2022-10-18T20:22:49.830Z"
   },
   {
    "duration": 4,
    "start_time": "2022-10-18T20:22:57.666Z"
   },
   {
    "duration": 3,
    "start_time": "2022-10-18T20:22:59.009Z"
   },
   {
    "duration": 2104,
    "start_time": "2022-10-18T20:23:05.353Z"
   },
   {
    "duration": 4,
    "start_time": "2022-10-18T20:23:33.623Z"
   },
   {
    "duration": 2734,
    "start_time": "2022-10-18T20:23:43.523Z"
   },
   {
    "duration": 3,
    "start_time": "2022-10-18T20:23:50.282Z"
   },
   {
    "duration": 2147,
    "start_time": "2022-10-18T20:23:55.813Z"
   },
   {
    "duration": 5,
    "start_time": "2022-10-18T20:25:14.894Z"
   },
   {
    "duration": 2170,
    "start_time": "2022-10-18T20:25:19.885Z"
   },
   {
    "duration": 5,
    "start_time": "2022-10-18T20:26:33.737Z"
   },
   {
    "duration": 3,
    "start_time": "2022-10-18T20:26:36.010Z"
   },
   {
    "duration": 5634,
    "start_time": "2022-10-18T20:26:40.521Z"
   },
   {
    "duration": 5,
    "start_time": "2022-10-18T20:29:05.190Z"
   },
   {
    "duration": 6796,
    "start_time": "2022-10-18T20:29:14.461Z"
   },
   {
    "duration": 24338,
    "start_time": "2022-10-18T20:29:37.008Z"
   },
   {
    "duration": 3,
    "start_time": "2022-10-18T20:34:06.432Z"
   },
   {
    "duration": 3,
    "start_time": "2022-10-18T20:34:09.371Z"
   },
   {
    "duration": 5,
    "start_time": "2022-10-18T20:34:12.618Z"
   },
   {
    "duration": 6648,
    "start_time": "2022-10-18T20:34:19.607Z"
   },
   {
    "duration": 4,
    "start_time": "2022-10-18T20:34:49.042Z"
   },
   {
    "duration": 4,
    "start_time": "2022-10-18T20:34:52.668Z"
   },
   {
    "duration": 13,
    "start_time": "2022-10-18T20:34:53.762Z"
   },
   {
    "duration": 3,
    "start_time": "2022-10-18T20:37:06.104Z"
   },
   {
    "duration": 5,
    "start_time": "2022-10-18T20:37:07.769Z"
   },
   {
    "duration": 4,
    "start_time": "2022-10-18T20:37:17.865Z"
   },
   {
    "duration": 3,
    "start_time": "2022-10-18T20:37:19.620Z"
   },
   {
    "duration": 7,
    "start_time": "2022-10-18T20:37:20.334Z"
   },
   {
    "duration": 25421,
    "start_time": "2022-10-18T20:37:23.921Z"
   },
   {
    "duration": 4,
    "start_time": "2022-10-18T20:37:50.223Z"
   },
   {
    "duration": 4,
    "start_time": "2022-10-18T20:38:09.953Z"
   },
   {
    "duration": 3,
    "start_time": "2022-10-18T20:38:12.914Z"
   },
   {
    "duration": 6,
    "start_time": "2022-10-18T20:38:14.079Z"
   },
   {
    "duration": 24295,
    "start_time": "2022-10-18T20:38:19.788Z"
   },
   {
    "duration": 2,
    "start_time": "2022-10-18T20:39:43.440Z"
   },
   {
    "duration": 3,
    "start_time": "2022-10-18T20:39:45.003Z"
   },
   {
    "duration": 3,
    "start_time": "2022-10-18T20:39:46.357Z"
   },
   {
    "duration": 5,
    "start_time": "2022-10-18T20:39:58.581Z"
   },
   {
    "duration": 25437,
    "start_time": "2022-10-18T20:40:02.678Z"
   },
   {
    "duration": 5,
    "start_time": "2022-10-18T20:40:36.493Z"
   },
   {
    "duration": 25305,
    "start_time": "2022-10-18T20:40:47.859Z"
   },
   {
    "duration": 2925,
    "start_time": "2022-10-18T20:41:54.667Z"
   },
   {
    "duration": 4,
    "start_time": "2022-10-18T20:42:00.977Z"
   },
   {
    "duration": 3,
    "start_time": "2022-10-18T20:42:02.351Z"
   },
   {
    "duration": 5,
    "start_time": "2022-10-18T20:42:03.560Z"
   },
   {
    "duration": 24570,
    "start_time": "2022-10-18T20:42:08.005Z"
   },
   {
    "duration": 7,
    "start_time": "2022-10-18T20:44:11.486Z"
   },
   {
    "duration": 4,
    "start_time": "2022-10-18T20:44:13.880Z"
   },
   {
    "duration": 3,
    "start_time": "2022-10-18T20:44:15.361Z"
   },
   {
    "duration": 24233,
    "start_time": "2022-10-18T20:44:20.507Z"
   },
   {
    "duration": 5,
    "start_time": "2022-10-18T20:44:48.151Z"
   },
   {
    "duration": 3,
    "start_time": "2022-10-18T20:44:51.844Z"
   },
   {
    "duration": 24310,
    "start_time": "2022-10-18T20:44:53.385Z"
   },
   {
    "duration": 678848,
    "start_time": "2022-10-18T20:45:17.697Z"
   },
   {
    "duration": 0,
    "start_time": "2022-10-18T20:56:36.554Z"
   },
   {
    "duration": 0,
    "start_time": "2022-10-18T20:56:36.556Z"
   },
   {
    "duration": 4,
    "start_time": "2022-10-18T20:57:01.755Z"
   },
   {
    "duration": 9018,
    "start_time": "2022-10-18T20:57:04.146Z"
   },
   {
    "duration": 4,
    "start_time": "2022-10-18T20:57:19.057Z"
   },
   {
    "duration": 109549,
    "start_time": "2022-10-18T20:57:21.714Z"
   },
   {
    "duration": 3,
    "start_time": "2022-10-18T20:59:23.132Z"
   },
   {
    "duration": 5027,
    "start_time": "2022-10-18T20:59:25.844Z"
   },
   {
    "duration": 5,
    "start_time": "2022-10-18T20:59:53.599Z"
   },
   {
    "duration": 5,
    "start_time": "2022-10-18T21:00:00.546Z"
   },
   {
    "duration": 4,
    "start_time": "2022-10-18T21:00:07.929Z"
   },
   {
    "duration": 136541,
    "start_time": "2022-10-18T21:00:10.761Z"
   },
   {
    "duration": 0,
    "start_time": "2022-10-18T21:02:27.304Z"
   },
   {
    "duration": 4,
    "start_time": "2022-10-18T21:02:37.091Z"
   },
   {
    "duration": 87727,
    "start_time": "2022-10-18T21:02:40.221Z"
   },
   {
    "duration": 6,
    "start_time": "2022-10-18T21:04:07.950Z"
   },
   {
    "duration": 1805,
    "start_time": "2022-10-18T21:04:19.531Z"
   },
   {
    "duration": 281,
    "start_time": "2022-10-18T21:04:21.338Z"
   },
   {
    "duration": 3,
    "start_time": "2022-10-18T21:04:21.621Z"
   },
   {
    "duration": 33,
    "start_time": "2022-10-18T21:04:21.627Z"
   },
   {
    "duration": 365,
    "start_time": "2022-10-18T21:04:21.662Z"
   },
   {
    "duration": 3,
    "start_time": "2022-10-18T21:04:22.029Z"
   },
   {
    "duration": 5,
    "start_time": "2022-10-18T21:04:22.033Z"
   },
   {
    "duration": 68,
    "start_time": "2022-10-18T21:04:22.040Z"
   },
   {
    "duration": 65,
    "start_time": "2022-10-18T21:04:22.110Z"
   },
   {
    "duration": 17,
    "start_time": "2022-10-18T21:04:22.177Z"
   },
   {
    "duration": 20,
    "start_time": "2022-10-18T21:04:22.196Z"
   },
   {
    "duration": 2,
    "start_time": "2022-10-18T21:04:22.218Z"
   },
   {
    "duration": 36,
    "start_time": "2022-10-18T21:04:22.222Z"
   },
   {
    "duration": 4,
    "start_time": "2022-10-18T21:04:22.260Z"
   },
   {
    "duration": 10,
    "start_time": "2022-10-18T21:04:22.266Z"
   },
   {
    "duration": 5,
    "start_time": "2022-10-18T21:04:22.277Z"
   },
   {
    "duration": 8,
    "start_time": "2022-10-18T21:04:22.283Z"
   },
   {
    "duration": 11,
    "start_time": "2022-10-18T21:04:22.292Z"
   },
   {
    "duration": 6,
    "start_time": "2022-10-18T21:04:22.304Z"
   },
   {
    "duration": 532,
    "start_time": "2022-10-18T21:04:22.312Z"
   },
   {
    "duration": 574,
    "start_time": "2022-10-18T21:04:22.846Z"
   },
   {
    "duration": 496,
    "start_time": "2022-10-18T21:04:23.422Z"
   },
   {
    "duration": 949,
    "start_time": "2022-10-18T21:04:23.920Z"
   },
   {
    "duration": 653,
    "start_time": "2022-10-18T21:04:24.871Z"
   },
   {
    "duration": 32,
    "start_time": "2022-10-18T21:04:25.525Z"
   },
   {
    "duration": 382,
    "start_time": "2022-10-18T21:04:25.559Z"
   },
   {
    "duration": 4,
    "start_time": "2022-10-18T21:04:25.942Z"
   },
   {
    "duration": 14,
    "start_time": "2022-10-18T21:04:25.955Z"
   },
   {
    "duration": 24,
    "start_time": "2022-10-18T21:04:25.970Z"
   },
   {
    "duration": 11,
    "start_time": "2022-10-18T21:04:25.997Z"
   },
   {
    "duration": 18,
    "start_time": "2022-10-18T21:04:26.009Z"
   },
   {
    "duration": 8,
    "start_time": "2022-10-18T21:04:26.028Z"
   },
   {
    "duration": 9,
    "start_time": "2022-10-18T21:04:26.038Z"
   },
   {
    "duration": 7,
    "start_time": "2022-10-18T21:04:26.048Z"
   },
   {
    "duration": 15,
    "start_time": "2022-10-18T21:04:26.056Z"
   },
   {
    "duration": 24818,
    "start_time": "2022-10-18T21:04:26.073Z"
   },
   {
    "duration": 101733,
    "start_time": "2022-10-18T21:04:50.893Z"
   },
   {
    "duration": 7035,
    "start_time": "2022-10-18T21:06:32.628Z"
   },
   {
    "duration": 11692,
    "start_time": "2022-10-18T21:06:39.666Z"
   },
   {
    "duration": 102,
    "start_time": "2022-10-18T21:06:51.360Z"
   },
   {
    "duration": 6,
    "start_time": "2022-10-18T21:07:25.308Z"
   },
   {
    "duration": 5,
    "start_time": "2022-10-18T21:21:35.131Z"
   },
   {
    "duration": 4,
    "start_time": "2022-10-18T21:23:06.646Z"
   },
   {
    "duration": 893,
    "start_time": "2022-10-18T21:28:49.691Z"
   },
   {
    "duration": 43,
    "start_time": "2022-10-18T21:33:27.902Z"
   },
   {
    "duration": 3,
    "start_time": "2022-10-18T21:33:48.039Z"
   },
   {
    "duration": 1777,
    "start_time": "2022-10-18T21:35:41.198Z"
   },
   {
    "duration": 232,
    "start_time": "2022-10-18T21:35:42.977Z"
   },
   {
    "duration": 4,
    "start_time": "2022-10-18T21:35:43.210Z"
   },
   {
    "duration": 34,
    "start_time": "2022-10-18T21:35:43.216Z"
   },
   {
    "duration": 677,
    "start_time": "2022-10-18T21:35:43.252Z"
   },
   {
    "duration": 3,
    "start_time": "2022-10-18T21:35:43.931Z"
   },
   {
    "duration": 4,
    "start_time": "2022-10-18T21:35:43.936Z"
   },
   {
    "duration": 71,
    "start_time": "2022-10-18T21:35:43.942Z"
   },
   {
    "duration": 65,
    "start_time": "2022-10-18T21:35:44.015Z"
   },
   {
    "duration": 15,
    "start_time": "2022-10-18T21:35:44.083Z"
   },
   {
    "duration": 21,
    "start_time": "2022-10-18T21:35:44.100Z"
   },
   {
    "duration": 4,
    "start_time": "2022-10-18T21:35:44.122Z"
   },
   {
    "duration": 30,
    "start_time": "2022-10-18T21:35:44.128Z"
   },
   {
    "duration": 3,
    "start_time": "2022-10-18T21:35:44.160Z"
   },
   {
    "duration": 10,
    "start_time": "2022-10-18T21:35:44.165Z"
   },
   {
    "duration": 5,
    "start_time": "2022-10-18T21:35:44.176Z"
   },
   {
    "duration": 9,
    "start_time": "2022-10-18T21:35:44.182Z"
   },
   {
    "duration": 10,
    "start_time": "2022-10-18T21:35:44.192Z"
   },
   {
    "duration": 5,
    "start_time": "2022-10-18T21:35:44.203Z"
   },
   {
    "duration": 503,
    "start_time": "2022-10-18T21:35:44.209Z"
   },
   {
    "duration": 579,
    "start_time": "2022-10-18T21:35:44.713Z"
   },
   {
    "duration": 491,
    "start_time": "2022-10-18T21:35:45.294Z"
   },
   {
    "duration": 882,
    "start_time": "2022-10-18T21:35:45.787Z"
   },
   {
    "duration": 647,
    "start_time": "2022-10-18T21:35:46.671Z"
   },
   {
    "duration": 36,
    "start_time": "2022-10-18T21:35:47.320Z"
   },
   {
    "duration": 367,
    "start_time": "2022-10-18T21:35:47.359Z"
   },
   {
    "duration": 4,
    "start_time": "2022-10-18T21:35:47.728Z"
   },
   {
    "duration": 6,
    "start_time": "2022-10-18T21:35:47.735Z"
   },
   {
    "duration": 12,
    "start_time": "2022-10-18T21:35:47.743Z"
   },
   {
    "duration": 7,
    "start_time": "2022-10-18T21:35:47.757Z"
   },
   {
    "duration": 5,
    "start_time": "2022-10-18T21:35:47.765Z"
   },
   {
    "duration": 4,
    "start_time": "2022-10-18T21:35:47.772Z"
   },
   {
    "duration": 15,
    "start_time": "2022-10-18T21:35:47.778Z"
   },
   {
    "duration": 7,
    "start_time": "2022-10-18T21:35:47.795Z"
   },
   {
    "duration": 5,
    "start_time": "2022-10-18T21:35:47.804Z"
   },
   {
    "duration": 23616,
    "start_time": "2022-10-18T21:35:47.811Z"
   },
   {
    "duration": 99533,
    "start_time": "2022-10-18T21:36:11.429Z"
   },
   {
    "duration": 6597,
    "start_time": "2022-10-18T21:37:50.964Z"
   },
   {
    "duration": 11506,
    "start_time": "2022-10-18T21:37:57.563Z"
   },
   {
    "duration": 98,
    "start_time": "2022-10-18T21:38:09.158Z"
   },
   {
    "duration": 8,
    "start_time": "2022-10-18T21:38:09.257Z"
   },
   {
    "duration": 4,
    "start_time": "2022-10-18T21:38:09.267Z"
   },
   {
    "duration": 6,
    "start_time": "2022-10-18T21:38:09.273Z"
   },
   {
    "duration": 185,
    "start_time": "2022-10-18T21:38:09.281Z"
   },
   {
    "duration": 4,
    "start_time": "2022-10-18T21:39:58.140Z"
   },
   {
    "duration": 6,
    "start_time": "2022-10-18T21:40:33.628Z"
   },
   {
    "duration": 1422,
    "start_time": "2022-10-18T21:40:37.820Z"
   },
   {
    "duration": 1369,
    "start_time": "2022-10-18T21:41:02.591Z"
   },
   {
    "duration": 1380,
    "start_time": "2022-10-18T21:41:19.637Z"
   },
   {
    "duration": 1392,
    "start_time": "2022-10-18T21:41:26.880Z"
   },
   {
    "duration": 1394,
    "start_time": "2022-10-18T21:42:02.485Z"
   },
   {
    "duration": 3,
    "start_time": "2022-10-18T21:42:13.006Z"
   },
   {
    "duration": 3,
    "start_time": "2022-10-18T21:42:16.257Z"
   },
   {
    "duration": 1417,
    "start_time": "2022-10-18T21:42:27.848Z"
   },
   {
    "duration": 4,
    "start_time": "2022-10-18T21:42:36.509Z"
   },
   {
    "duration": 14,
    "start_time": "2022-10-18T21:42:47.067Z"
   },
   {
    "duration": 3,
    "start_time": "2022-10-18T21:44:48.592Z"
   },
   {
    "duration": 3,
    "start_time": "2022-10-18T21:44:50.105Z"
   },
   {
    "duration": 53,
    "start_time": "2022-10-18T21:44:55.616Z"
   },
   {
    "duration": 10,
    "start_time": "2022-10-18T21:45:24.733Z"
   },
   {
    "duration": 4,
    "start_time": "2022-10-18T21:47:15.138Z"
   },
   {
    "duration": 14,
    "start_time": "2022-10-18T21:49:58.889Z"
   },
   {
    "duration": 1283,
    "start_time": "2022-10-18T21:50:05.364Z"
   },
   {
    "duration": 8,
    "start_time": "2022-10-18T21:50:08.673Z"
   },
   {
    "duration": 4,
    "start_time": "2022-10-18T21:50:15.541Z"
   },
   {
    "duration": 2,
    "start_time": "2022-10-18T21:56:02.929Z"
   },
   {
    "duration": 3,
    "start_time": "2022-10-18T21:56:29.881Z"
   },
   {
    "duration": 4950,
    "start_time": "2022-10-18T21:57:24.635Z"
   },
   {
    "duration": 5,
    "start_time": "2022-10-18T21:57:37.113Z"
   },
   {
    "duration": 5449,
    "start_time": "2022-10-18T21:57:50.132Z"
   },
   {
    "duration": 15,
    "start_time": "2022-10-18T21:59:37.361Z"
   },
   {
    "duration": 1286,
    "start_time": "2022-10-18T21:59:43.306Z"
   },
   {
    "duration": 7,
    "start_time": "2022-10-18T21:59:45.789Z"
   },
   {
    "duration": 6,
    "start_time": "2022-10-18T21:59:53.103Z"
   },
   {
    "duration": 161,
    "start_time": "2022-10-18T21:59:59.589Z"
   },
   {
    "duration": 161,
    "start_time": "2022-10-18T22:00:05.054Z"
   },
   {
    "duration": 190,
    "start_time": "2022-10-18T22:00:16.968Z"
   },
   {
    "duration": 254,
    "start_time": "2022-10-18T22:01:22.086Z"
   },
   {
    "duration": 14,
    "start_time": "2022-10-18T22:02:18.532Z"
   },
   {
    "duration": 13,
    "start_time": "2022-10-18T22:02:24.113Z"
   },
   {
    "duration": 14,
    "start_time": "2022-10-18T22:02:33.877Z"
   },
   {
    "duration": 262,
    "start_time": "2022-10-18T22:02:56.650Z"
   },
   {
    "duration": 129,
    "start_time": "2022-10-18T22:03:18.059Z"
   },
   {
    "duration": 118,
    "start_time": "2022-10-18T22:03:25.038Z"
   },
   {
    "duration": 475,
    "start_time": "2022-10-18T22:07:43.285Z"
   },
   {
    "duration": 334,
    "start_time": "2022-10-18T22:07:53.623Z"
   },
   {
    "duration": 6,
    "start_time": "2022-10-18T22:07:57.881Z"
   },
   {
    "duration": 260,
    "start_time": "2022-10-18T22:08:08.178Z"
   },
   {
    "duration": 256,
    "start_time": "2022-10-18T22:08:20.913Z"
   },
   {
    "duration": 315,
    "start_time": "2022-10-18T22:08:49.770Z"
   },
   {
    "duration": 299,
    "start_time": "2022-10-18T22:08:54.568Z"
   },
   {
    "duration": 380,
    "start_time": "2022-10-18T22:09:15.575Z"
   },
   {
    "duration": 445,
    "start_time": "2022-10-18T22:09:17.825Z"
   },
   {
    "duration": 1258,
    "start_time": "2022-10-18T22:09:55.064Z"
   },
   {
    "duration": 116,
    "start_time": "2022-10-18T22:15:22.433Z"
   },
   {
    "duration": 14,
    "start_time": "2022-10-18T22:16:26.923Z"
   },
   {
    "duration": 13,
    "start_time": "2022-10-18T22:16:30.537Z"
   },
   {
    "duration": 5,
    "start_time": "2022-10-18T22:16:34.565Z"
   },
   {
    "duration": 16,
    "start_time": "2022-10-18T22:16:46.848Z"
   },
   {
    "duration": 19,
    "start_time": "2022-10-18T22:17:12.016Z"
   },
   {
    "duration": 83,
    "start_time": "2022-10-18T22:18:04.938Z"
   },
   {
    "duration": 10,
    "start_time": "2022-10-18T22:18:25.971Z"
   },
   {
    "duration": 13,
    "start_time": "2022-10-18T22:19:12.917Z"
   },
   {
    "duration": 7,
    "start_time": "2022-10-18T22:19:15.862Z"
   },
   {
    "duration": 19,
    "start_time": "2022-10-18T22:19:17.293Z"
   },
   {
    "duration": 6,
    "start_time": "2022-10-18T22:19:27.322Z"
   },
   {
    "duration": 7,
    "start_time": "2022-10-18T22:19:35.213Z"
   },
   {
    "duration": 6,
    "start_time": "2022-10-18T22:19:39.422Z"
   },
   {
    "duration": 7,
    "start_time": "2022-10-18T22:19:53.183Z"
   },
   {
    "duration": 9,
    "start_time": "2022-10-18T22:20:02.737Z"
   },
   {
    "duration": 6,
    "start_time": "2022-10-18T22:20:09.477Z"
   },
   {
    "duration": 8,
    "start_time": "2022-10-18T22:20:34.728Z"
   },
   {
    "duration": 6,
    "start_time": "2022-10-18T22:20:36.404Z"
   },
   {
    "duration": 7,
    "start_time": "2022-10-18T22:20:37.886Z"
   },
   {
    "duration": 13,
    "start_time": "2022-10-18T22:21:53.172Z"
   },
   {
    "duration": 10,
    "start_time": "2022-10-18T22:21:55.242Z"
   },
   {
    "duration": 7,
    "start_time": "2022-10-18T22:21:56.081Z"
   },
   {
    "duration": 6,
    "start_time": "2022-10-18T22:21:57.027Z"
   },
   {
    "duration": 11,
    "start_time": "2022-10-18T22:24:09.648Z"
   },
   {
    "duration": 6,
    "start_time": "2022-10-18T22:24:11.088Z"
   },
   {
    "duration": 5,
    "start_time": "2022-10-18T22:24:14.028Z"
   },
   {
    "duration": 9,
    "start_time": "2022-10-18T22:25:19.302Z"
   },
   {
    "duration": 82,
    "start_time": "2022-10-18T22:25:43.923Z"
   },
   {
    "duration": 50,
    "start_time": "2022-10-18T22:25:53.256Z"
   },
   {
    "duration": 7,
    "start_time": "2022-10-18T22:29:50.381Z"
   },
   {
    "duration": 4,
    "start_time": "2022-10-18T22:29:55.326Z"
   },
   {
    "duration": 5,
    "start_time": "2022-10-18T22:30:33.492Z"
   },
   {
    "duration": 12,
    "start_time": "2022-10-18T22:34:11.040Z"
   },
   {
    "duration": 6,
    "start_time": "2022-10-18T22:34:23.106Z"
   },
   {
    "duration": 13,
    "start_time": "2022-10-18T22:37:41.902Z"
   },
   {
    "duration": 4,
    "start_time": "2022-10-18T22:37:49.868Z"
   },
   {
    "duration": 254,
    "start_time": "2022-10-18T22:37:51.975Z"
   },
   {
    "duration": 5,
    "start_time": "2022-10-18T22:38:06.544Z"
   },
   {
    "duration": 4,
    "start_time": "2022-10-18T22:38:15.073Z"
   },
   {
    "duration": 17,
    "start_time": "2022-10-18T22:44:31.424Z"
   },
   {
    "duration": 748,
    "start_time": "2022-10-18T22:44:33.505Z"
   },
   {
    "duration": 14,
    "start_time": "2022-10-18T22:44:52.070Z"
   },
   {
    "duration": 4,
    "start_time": "2022-10-18T22:45:00.575Z"
   },
   {
    "duration": 4,
    "start_time": "2022-10-18T22:45:02.657Z"
   },
   {
    "duration": 8,
    "start_time": "2022-10-18T22:45:03.992Z"
   },
   {
    "duration": 5,
    "start_time": "2022-10-18T22:51:15.730Z"
   },
   {
    "duration": 8,
    "start_time": "2022-10-18T22:51:17.707Z"
   },
   {
    "duration": 6,
    "start_time": "2022-10-18T22:51:48.462Z"
   },
   {
    "duration": 150,
    "start_time": "2022-10-18T22:51:54.207Z"
   },
   {
    "duration": 5,
    "start_time": "2022-10-18T22:53:02.290Z"
   },
   {
    "duration": 9,
    "start_time": "2022-10-18T22:56:46.138Z"
   },
   {
    "duration": 7,
    "start_time": "2022-10-18T22:57:03.518Z"
   },
   {
    "duration": 8,
    "start_time": "2022-10-18T22:57:20.556Z"
   },
   {
    "duration": 4,
    "start_time": "2022-10-18T22:57:51.657Z"
   },
   {
    "duration": 3,
    "start_time": "2022-10-18T22:57:55.635Z"
   },
   {
    "duration": 135358,
    "start_time": "2022-10-18T22:57:57.676Z"
   },
   {
    "duration": 0,
    "start_time": "2022-10-18T23:00:13.036Z"
   },
   {
    "duration": 5138,
    "start_time": "2022-10-18T23:00:18.678Z"
   },
   {
    "duration": 279,
    "start_time": "2022-10-18T23:00:30.647Z"
   },
   {
    "duration": 9,
    "start_time": "2022-10-18T23:00:37.998Z"
   },
   {
    "duration": 2572,
    "start_time": "2022-10-18T23:00:48.500Z"
   },
   {
    "duration": 252,
    "start_time": "2022-10-18T23:00:57.765Z"
   },
   {
    "duration": 9,
    "start_time": "2022-10-18T23:01:00.417Z"
   },
   {
    "duration": 4,
    "start_time": "2022-10-18T23:01:12.196Z"
   },
   {
    "duration": 4,
    "start_time": "2022-10-18T23:01:18.412Z"
   },
   {
    "duration": 172413,
    "start_time": "2022-10-18T23:01:20.604Z"
   },
   {
    "duration": 10,
    "start_time": "2022-10-18T23:04:18.130Z"
   },
   {
    "duration": 4,
    "start_time": "2022-10-18T23:05:03.611Z"
   },
   {
    "duration": 402,
    "start_time": "2022-10-18T23:05:10.953Z"
   },
   {
    "duration": 2520,
    "start_time": "2022-10-18T23:05:12.790Z"
   },
   {
    "duration": 291,
    "start_time": "2022-10-18T23:05:17.819Z"
   },
   {
    "duration": 427,
    "start_time": "2022-10-18T23:05:19.773Z"
   },
   {
    "duration": 11,
    "start_time": "2022-10-18T23:05:25.357Z"
   },
   {
    "duration": 8,
    "start_time": "2022-10-18T23:05:26.684Z"
   },
   {
    "duration": 16679,
    "start_time": "2022-10-19T05:35:34.662Z"
   },
   {
    "duration": 242,
    "start_time": "2022-10-19T05:35:51.343Z"
   },
   {
    "duration": 5,
    "start_time": "2022-10-19T05:35:51.587Z"
   },
   {
    "duration": 44,
    "start_time": "2022-10-19T05:35:51.594Z"
   },
   {
    "duration": 1522,
    "start_time": "2022-10-19T05:35:51.639Z"
   },
   {
    "duration": 60921,
    "start_time": "2022-10-19T05:35:53.163Z"
   },
   {
    "duration": 33266,
    "start_time": "2022-10-19T05:36:54.086Z"
   },
   {
    "duration": 108,
    "start_time": "2022-10-19T05:37:27.354Z"
   },
   {
    "duration": 115,
    "start_time": "2022-10-19T05:37:27.464Z"
   },
   {
    "duration": 10,
    "start_time": "2022-10-19T05:37:27.581Z"
   },
   {
    "duration": 22,
    "start_time": "2022-10-19T05:37:27.620Z"
   },
   {
    "duration": 12,
    "start_time": "2022-10-19T05:37:27.644Z"
   },
   {
    "duration": 13,
    "start_time": "2022-10-19T05:37:27.658Z"
   },
   {
    "duration": 6,
    "start_time": "2022-10-19T05:37:27.674Z"
   },
   {
    "duration": 26,
    "start_time": "2022-10-19T05:37:27.681Z"
   },
   {
    "duration": 14,
    "start_time": "2022-10-19T05:37:27.709Z"
   },
   {
    "duration": 17,
    "start_time": "2022-10-19T05:37:27.725Z"
   },
   {
    "duration": 11,
    "start_time": "2022-10-19T05:37:27.745Z"
   },
   {
    "duration": 8,
    "start_time": "2022-10-19T05:37:27.758Z"
   },
   {
    "duration": 533,
    "start_time": "2022-10-19T05:37:27.768Z"
   },
   {
    "duration": 463,
    "start_time": "2022-10-19T05:37:28.303Z"
   },
   {
    "duration": 587,
    "start_time": "2022-10-19T05:37:28.768Z"
   },
   {
    "duration": 929,
    "start_time": "2022-10-19T05:37:29.356Z"
   },
   {
    "duration": 460,
    "start_time": "2022-10-19T05:37:30.287Z"
   },
   {
    "duration": 24,
    "start_time": "2022-10-19T05:37:30.748Z"
   },
   {
    "duration": 381,
    "start_time": "2022-10-19T05:37:30.774Z"
   },
   {
    "duration": 4,
    "start_time": "2022-10-19T05:37:31.157Z"
   },
   {
    "duration": 26,
    "start_time": "2022-10-19T05:37:31.164Z"
   },
   {
    "duration": 36,
    "start_time": "2022-10-19T05:37:31.192Z"
   },
   {
    "duration": 36,
    "start_time": "2022-10-19T05:37:31.231Z"
   },
   {
    "duration": 39,
    "start_time": "2022-10-19T05:37:31.269Z"
   },
   {
    "duration": 5,
    "start_time": "2022-10-19T05:39:39.042Z"
   },
   {
    "duration": 6,
    "start_time": "2022-10-19T05:43:08.495Z"
   },
   {
    "duration": 220,
    "start_time": "2022-10-19T05:43:20.854Z"
   },
   {
    "duration": 6,
    "start_time": "2022-10-19T05:43:25.629Z"
   },
   {
    "duration": 13,
    "start_time": "2022-10-19T05:43:27.484Z"
   },
   {
    "duration": 3,
    "start_time": "2022-10-19T05:43:31.669Z"
   },
   {
    "duration": 7,
    "start_time": "2022-10-19T05:43:32.910Z"
   },
   {
    "duration": 5,
    "start_time": "2022-10-19T05:43:33.987Z"
   },
   {
    "duration": 3,
    "start_time": "2022-10-19T05:43:35.746Z"
   },
   {
    "duration": 13,
    "start_time": "2022-10-19T05:44:48.488Z"
   },
   {
    "duration": 6,
    "start_time": "2022-10-19T05:44:52.041Z"
   },
   {
    "duration": 27,
    "start_time": "2022-10-19T05:44:54.209Z"
   },
   {
    "duration": 5,
    "start_time": "2022-10-19T05:45:08.107Z"
   },
   {
    "duration": 6019,
    "start_time": "2022-10-19T05:45:11.963Z"
   },
   {
    "duration": 13373,
    "start_time": "2022-10-19T05:45:47.559Z"
   },
   {
    "duration": 6,
    "start_time": "2022-10-19T05:46:20.893Z"
   },
   {
    "duration": 14,
    "start_time": "2022-10-19T05:47:59.958Z"
   },
   {
    "duration": 2873,
    "start_time": "2022-10-19T05:48:43.865Z"
   },
   {
    "duration": 407,
    "start_time": "2022-10-19T05:48:46.746Z"
   },
   {
    "duration": 4,
    "start_time": "2022-10-19T05:48:47.163Z"
   },
   {
    "duration": 49,
    "start_time": "2022-10-19T05:48:47.170Z"
   },
   {
    "duration": 1196,
    "start_time": "2022-10-19T05:48:47.223Z"
   },
   {
    "duration": 60179,
    "start_time": "2022-10-19T05:48:48.421Z"
   },
   {
    "duration": 35222,
    "start_time": "2022-10-19T05:49:48.603Z"
   },
   {
    "duration": 137,
    "start_time": "2022-10-19T05:50:23.828Z"
   },
   {
    "duration": 116,
    "start_time": "2022-10-19T05:50:23.970Z"
   },
   {
    "duration": 13,
    "start_time": "2022-10-19T05:50:24.089Z"
   },
   {
    "duration": 54,
    "start_time": "2022-10-19T05:50:24.105Z"
   },
   {
    "duration": 4,
    "start_time": "2022-10-19T05:50:24.162Z"
   },
   {
    "duration": 13,
    "start_time": "2022-10-19T05:50:24.168Z"
   },
   {
    "duration": 5,
    "start_time": "2022-10-19T05:50:24.182Z"
   },
   {
    "duration": 42,
    "start_time": "2022-10-19T05:50:24.188Z"
   },
   {
    "duration": 34,
    "start_time": "2022-10-19T05:50:24.233Z"
   },
   {
    "duration": 10,
    "start_time": "2022-10-19T05:50:24.269Z"
   },
   {
    "duration": 10,
    "start_time": "2022-10-19T05:50:24.282Z"
   },
   {
    "duration": 7,
    "start_time": "2022-10-19T05:50:24.294Z"
   },
   {
    "duration": 556,
    "start_time": "2022-10-19T05:50:24.303Z"
   },
   {
    "duration": 520,
    "start_time": "2022-10-19T05:50:24.861Z"
   },
   {
    "duration": 579,
    "start_time": "2022-10-19T05:50:25.383Z"
   },
   {
    "duration": 1085,
    "start_time": "2022-10-19T05:50:25.964Z"
   },
   {
    "duration": 532,
    "start_time": "2022-10-19T05:50:27.056Z"
   },
   {
    "duration": 57,
    "start_time": "2022-10-19T05:50:27.590Z"
   },
   {
    "duration": 454,
    "start_time": "2022-10-19T05:50:27.653Z"
   },
   {
    "duration": 4,
    "start_time": "2022-10-19T05:50:28.109Z"
   },
   {
    "duration": 38,
    "start_time": "2022-10-19T05:50:28.121Z"
   },
   {
    "duration": 8,
    "start_time": "2022-10-19T05:50:28.163Z"
   },
   {
    "duration": 8,
    "start_time": "2022-10-19T05:50:28.173Z"
   },
   {
    "duration": 6,
    "start_time": "2022-10-19T05:50:28.183Z"
   },
   {
    "duration": 8,
    "start_time": "2022-10-19T05:50:28.191Z"
   },
   {
    "duration": 24,
    "start_time": "2022-10-19T05:50:28.200Z"
   },
   {
    "duration": 38,
    "start_time": "2022-10-19T05:50:28.227Z"
   },
   {
    "duration": 5,
    "start_time": "2022-10-19T05:50:28.267Z"
   },
   {
    "duration": 6,
    "start_time": "2022-10-19T05:50:28.275Z"
   },
   {
    "duration": 6027,
    "start_time": "2022-10-19T05:50:28.283Z"
   },
   {
    "duration": 14892,
    "start_time": "2022-10-19T05:50:34.312Z"
   },
   {
    "duration": 42468,
    "start_time": "2022-10-19T05:50:49.207Z"
   },
   {
    "duration": 103023,
    "start_time": "2022-10-19T05:51:31.680Z"
   },
   {
    "duration": 2919,
    "start_time": "2022-10-19T05:53:14.705Z"
   },
   {
    "duration": 8339,
    "start_time": "2022-10-19T05:53:17.626Z"
   },
   {
    "duration": 6519,
    "start_time": "2022-10-19T05:53:26.026Z"
   },
   {
    "duration": 14616,
    "start_time": "2022-10-19T05:53:32.547Z"
   },
   {
    "duration": 98,
    "start_time": "2022-10-19T05:53:47.239Z"
   },
   {
    "duration": 24,
    "start_time": "2022-10-19T05:53:47.339Z"
   },
   {
    "duration": 1325,
    "start_time": "2022-10-19T05:53:47.365Z"
   },
   {
    "duration": 0,
    "start_time": "2022-10-19T05:53:48.693Z"
   },
   {
    "duration": 0,
    "start_time": "2022-10-19T05:53:48.695Z"
   },
   {
    "duration": 0,
    "start_time": "2022-10-19T05:53:48.697Z"
   },
   {
    "duration": 0,
    "start_time": "2022-10-19T05:53:48.698Z"
   },
   {
    "duration": 0,
    "start_time": "2022-10-19T05:53:48.700Z"
   },
   {
    "duration": 0,
    "start_time": "2022-10-19T05:53:48.701Z"
   },
   {
    "duration": 0,
    "start_time": "2022-10-19T05:53:48.702Z"
   },
   {
    "duration": 0,
    "start_time": "2022-10-19T05:53:48.704Z"
   },
   {
    "duration": 5,
    "start_time": "2022-10-19T05:54:46.191Z"
   },
   {
    "duration": 450,
    "start_time": "2022-10-19T05:55:08.908Z"
   },
   {
    "duration": 8,
    "start_time": "2022-10-19T05:56:08.519Z"
   },
   {
    "duration": 372,
    "start_time": "2022-10-19T05:56:14.260Z"
   },
   {
    "duration": 1127,
    "start_time": "2022-10-19T05:56:36.850Z"
   },
   {
    "duration": 3010,
    "start_time": "2022-10-19T05:56:53.480Z"
   },
   {
    "duration": 346,
    "start_time": "2022-10-19T05:57:13.960Z"
   },
   {
    "duration": 315,
    "start_time": "2022-10-19T05:57:16.998Z"
   },
   {
    "duration": 377,
    "start_time": "2022-10-19T05:57:30.277Z"
   },
   {
    "duration": 12,
    "start_time": "2022-10-19T05:58:07.355Z"
   },
   {
    "duration": 10,
    "start_time": "2022-10-19T05:58:09.360Z"
   },
   {
    "duration": 5,
    "start_time": "2022-10-19T05:59:48.658Z"
   },
   {
    "duration": 517,
    "start_time": "2022-10-19T05:59:49.555Z"
   },
   {
    "duration": 3036,
    "start_time": "2022-10-19T05:59:51.200Z"
   },
   {
    "duration": 361,
    "start_time": "2022-10-19T05:59:55.973Z"
   },
   {
    "duration": 1587,
    "start_time": "2022-10-19T05:59:58.210Z"
   },
   {
    "duration": 13,
    "start_time": "2022-10-19T06:00:01.799Z"
   },
   {
    "duration": 12,
    "start_time": "2022-10-19T06:00:02.655Z"
   },
   {
    "duration": 6,
    "start_time": "2022-10-19T06:00:04.860Z"
   },
   {
    "duration": 4,
    "start_time": "2022-10-19T06:00:07.258Z"
   },
   {
    "duration": 20,
    "start_time": "2022-10-19T06:00:09.012Z"
   },
   {
    "duration": 3,
    "start_time": "2022-10-19T06:37:15.306Z"
   },
   {
    "duration": 1860,
    "start_time": "2022-10-19T06:38:27.037Z"
   },
   {
    "duration": 353,
    "start_time": "2022-10-19T06:38:28.899Z"
   },
   {
    "duration": 4,
    "start_time": "2022-10-19T06:38:29.254Z"
   },
   {
    "duration": 41,
    "start_time": "2022-10-19T06:38:29.262Z"
   },
   {
    "duration": 712,
    "start_time": "2022-10-19T06:38:29.304Z"
   },
   {
    "duration": 63178,
    "start_time": "2022-10-19T06:38:30.018Z"
   },
   {
    "duration": 36581,
    "start_time": "2022-10-19T06:39:33.198Z"
   },
   {
    "duration": 117,
    "start_time": "2022-10-19T06:40:09.781Z"
   },
   {
    "duration": 90,
    "start_time": "2022-10-19T06:40:09.900Z"
   },
   {
    "duration": 12,
    "start_time": "2022-10-19T06:40:09.993Z"
   },
   {
    "duration": 40,
    "start_time": "2022-10-19T06:40:10.007Z"
   },
   {
    "duration": 16,
    "start_time": "2022-10-19T06:40:10.049Z"
   },
   {
    "duration": 34,
    "start_time": "2022-10-19T06:40:10.067Z"
   },
   {
    "duration": 4,
    "start_time": "2022-10-19T06:40:10.103Z"
   },
   {
    "duration": 31,
    "start_time": "2022-10-19T06:40:10.109Z"
   },
   {
    "duration": 21,
    "start_time": "2022-10-19T06:40:10.143Z"
   },
   {
    "duration": 12,
    "start_time": "2022-10-19T06:40:10.167Z"
   },
   {
    "duration": 12,
    "start_time": "2022-10-19T06:40:10.181Z"
   },
   {
    "duration": 8,
    "start_time": "2022-10-19T06:40:10.195Z"
   },
   {
    "duration": 1142,
    "start_time": "2022-10-19T06:40:10.206Z"
   },
   {
    "duration": 899,
    "start_time": "2022-10-19T06:40:11.351Z"
   },
   {
    "duration": 579,
    "start_time": "2022-10-19T06:40:12.252Z"
   },
   {
    "duration": 1049,
    "start_time": "2022-10-19T06:40:12.832Z"
   },
   {
    "duration": 521,
    "start_time": "2022-10-19T06:40:13.883Z"
   },
   {
    "duration": 34,
    "start_time": "2022-10-19T06:40:14.406Z"
   },
   {
    "duration": 427,
    "start_time": "2022-10-19T06:40:14.443Z"
   },
   {
    "duration": 6,
    "start_time": "2022-10-19T06:40:14.872Z"
   },
   {
    "duration": 4,
    "start_time": "2022-10-19T06:40:14.883Z"
   },
   {
    "duration": 21,
    "start_time": "2022-10-19T06:40:14.889Z"
   },
   {
    "duration": 26,
    "start_time": "2022-10-19T06:40:14.912Z"
   },
   {
    "duration": 16,
    "start_time": "2022-10-19T06:40:14.940Z"
   },
   {
    "duration": 11,
    "start_time": "2022-10-19T06:40:14.958Z"
   },
   {
    "duration": 10,
    "start_time": "2022-10-19T06:40:14.971Z"
   },
   {
    "duration": 19,
    "start_time": "2022-10-19T06:40:14.983Z"
   },
   {
    "duration": 8,
    "start_time": "2022-10-19T06:40:15.003Z"
   },
   {
    "duration": 37,
    "start_time": "2022-10-19T06:40:15.013Z"
   },
   {
    "duration": 22,
    "start_time": "2022-10-19T06:40:15.052Z"
   },
   {
    "duration": 0,
    "start_time": "2022-10-19T06:40:15.076Z"
   },
   {
    "duration": 0,
    "start_time": "2022-10-19T06:40:15.077Z"
   },
   {
    "duration": 0,
    "start_time": "2022-10-19T06:40:15.079Z"
   },
   {
    "duration": 0,
    "start_time": "2022-10-19T06:40:15.080Z"
   },
   {
    "duration": 0,
    "start_time": "2022-10-19T06:40:15.082Z"
   },
   {
    "duration": 0,
    "start_time": "2022-10-19T06:40:15.082Z"
   },
   {
    "duration": 0,
    "start_time": "2022-10-19T06:40:15.084Z"
   },
   {
    "duration": 0,
    "start_time": "2022-10-19T06:40:15.086Z"
   },
   {
    "duration": 0,
    "start_time": "2022-10-19T06:40:15.089Z"
   },
   {
    "duration": 0,
    "start_time": "2022-10-19T06:40:15.091Z"
   },
   {
    "duration": 0,
    "start_time": "2022-10-19T06:40:15.092Z"
   },
   {
    "duration": 0,
    "start_time": "2022-10-19T06:40:15.094Z"
   },
   {
    "duration": 0,
    "start_time": "2022-10-19T06:40:15.095Z"
   },
   {
    "duration": 0,
    "start_time": "2022-10-19T06:40:15.097Z"
   },
   {
    "duration": 0,
    "start_time": "2022-10-19T06:40:15.099Z"
   },
   {
    "duration": 0,
    "start_time": "2022-10-19T06:40:15.100Z"
   },
   {
    "duration": 0,
    "start_time": "2022-10-19T06:40:15.102Z"
   },
   {
    "duration": 0,
    "start_time": "2022-10-19T06:40:15.103Z"
   },
   {
    "duration": 0,
    "start_time": "2022-10-19T06:40:15.107Z"
   },
   {
    "duration": 0,
    "start_time": "2022-10-19T06:40:15.108Z"
   },
   {
    "duration": 5770,
    "start_time": "2022-10-19T06:40:47.106Z"
   },
   {
    "duration": 5716,
    "start_time": "2022-10-19T06:40:57.238Z"
   },
   {
    "duration": 13144,
    "start_time": "2022-10-19T06:41:02.956Z"
   },
   {
    "duration": 40821,
    "start_time": "2022-10-19T06:41:16.103Z"
   },
   {
    "duration": 102017,
    "start_time": "2022-10-19T06:41:56.926Z"
   },
   {
    "duration": 2818,
    "start_time": "2022-10-19T06:43:38.947Z"
   },
   {
    "duration": 7057,
    "start_time": "2022-10-19T06:43:41.777Z"
   },
   {
    "duration": 7589,
    "start_time": "2022-10-19T06:43:48.843Z"
   },
   {
    "duration": 8499,
    "start_time": "2022-10-19T06:43:56.434Z"
   },
   {
    "duration": 82,
    "start_time": "2022-10-19T06:44:04.953Z"
   },
   {
    "duration": 23,
    "start_time": "2022-10-19T06:44:05.037Z"
   },
   {
    "duration": 49,
    "start_time": "2022-10-19T06:44:05.063Z"
   },
   {
    "duration": 340,
    "start_time": "2022-10-19T06:44:05.114Z"
   },
   {
    "duration": 3183,
    "start_time": "2022-10-19T06:44:05.545Z"
   },
   {
    "duration": 499,
    "start_time": "2022-10-19T06:44:08.736Z"
   },
   {
    "duration": 519,
    "start_time": "2022-10-19T06:44:09.237Z"
   },
   {
    "duration": 18,
    "start_time": "2022-10-19T06:44:09.758Z"
   },
   {
    "duration": 52,
    "start_time": "2022-10-19T06:44:09.779Z"
   },
   {
    "duration": 55,
    "start_time": "2022-10-19T06:44:09.834Z"
   },
   {
    "duration": 31,
    "start_time": "2022-10-19T06:44:09.891Z"
   },
   {
    "duration": 57,
    "start_time": "2022-10-19T06:44:09.926Z"
   },
   {
    "duration": 34,
    "start_time": "2022-10-19T06:44:09.985Z"
   },
   {
    "duration": 2001,
    "start_time": "2022-10-19T06:45:28.410Z"
   },
   {
    "duration": 289,
    "start_time": "2022-10-19T06:45:30.413Z"
   },
   {
    "duration": 5,
    "start_time": "2022-10-19T06:45:30.704Z"
   },
   {
    "duration": 65,
    "start_time": "2022-10-19T06:45:30.728Z"
   },
   {
    "duration": 748,
    "start_time": "2022-10-19T06:45:30.795Z"
   },
   {
    "duration": 63794,
    "start_time": "2022-10-19T06:45:31.545Z"
   },
   {
    "duration": 36448,
    "start_time": "2022-10-19T06:46:35.341Z"
   },
   {
    "duration": 156,
    "start_time": "2022-10-19T06:47:11.792Z"
   },
   {
    "duration": 105,
    "start_time": "2022-10-19T06:47:11.950Z"
   },
   {
    "duration": 12,
    "start_time": "2022-10-19T06:47:12.059Z"
   },
   {
    "duration": 32,
    "start_time": "2022-10-19T06:47:12.073Z"
   },
   {
    "duration": 33,
    "start_time": "2022-10-19T06:47:12.107Z"
   },
   {
    "duration": 21,
    "start_time": "2022-10-19T06:47:12.142Z"
   },
   {
    "duration": 15,
    "start_time": "2022-10-19T06:47:12.165Z"
   },
   {
    "duration": 21,
    "start_time": "2022-10-19T06:47:12.183Z"
   },
   {
    "duration": 6,
    "start_time": "2022-10-19T06:47:12.206Z"
   },
   {
    "duration": 35,
    "start_time": "2022-10-19T06:47:12.214Z"
   },
   {
    "duration": 16,
    "start_time": "2022-10-19T06:47:12.251Z"
   },
   {
    "duration": 8,
    "start_time": "2022-10-19T06:47:12.270Z"
   },
   {
    "duration": 562,
    "start_time": "2022-10-19T06:47:12.280Z"
   },
   {
    "duration": 528,
    "start_time": "2022-10-19T06:47:12.844Z"
   },
   {
    "duration": 539,
    "start_time": "2022-10-19T06:47:13.374Z"
   },
   {
    "duration": 1038,
    "start_time": "2022-10-19T06:47:13.915Z"
   },
   {
    "duration": 520,
    "start_time": "2022-10-19T06:47:14.955Z"
   },
   {
    "duration": 25,
    "start_time": "2022-10-19T06:47:15.478Z"
   },
   {
    "duration": 440,
    "start_time": "2022-10-19T06:47:15.505Z"
   },
   {
    "duration": 4,
    "start_time": "2022-10-19T06:47:15.948Z"
   },
   {
    "duration": 17,
    "start_time": "2022-10-19T06:47:15.958Z"
   },
   {
    "duration": 17,
    "start_time": "2022-10-19T06:47:15.977Z"
   },
   {
    "duration": 11,
    "start_time": "2022-10-19T06:47:15.996Z"
   },
   {
    "duration": 9,
    "start_time": "2022-10-19T06:47:16.009Z"
   },
   {
    "duration": 30,
    "start_time": "2022-10-19T06:47:16.020Z"
   },
   {
    "duration": 12,
    "start_time": "2022-10-19T06:47:16.052Z"
   },
   {
    "duration": 18,
    "start_time": "2022-10-19T06:47:16.067Z"
   },
   {
    "duration": 17,
    "start_time": "2022-10-19T06:47:16.087Z"
   },
   {
    "duration": 6,
    "start_time": "2022-10-19T06:47:16.107Z"
   },
   {
    "duration": 5743,
    "start_time": "2022-10-19T06:47:16.115Z"
   },
   {
    "duration": 13200,
    "start_time": "2022-10-19T06:47:21.861Z"
   },
   {
    "duration": 40960,
    "start_time": "2022-10-19T06:47:35.064Z"
   },
   {
    "duration": 98449,
    "start_time": "2022-10-19T06:48:16.026Z"
   },
   {
    "duration": 2647,
    "start_time": "2022-10-19T06:49:54.478Z"
   },
   {
    "duration": 7019,
    "start_time": "2022-10-19T06:49:57.137Z"
   },
   {
    "duration": 5978,
    "start_time": "2022-10-19T06:50:04.159Z"
   },
   {
    "duration": 10280,
    "start_time": "2022-10-19T06:50:10.152Z"
   },
   {
    "duration": 97,
    "start_time": "2022-10-19T06:50:20.434Z"
   },
   {
    "duration": 112,
    "start_time": "2022-10-19T06:50:20.537Z"
   },
   {
    "duration": 6,
    "start_time": "2022-10-19T06:50:20.651Z"
   },
   {
    "duration": 368,
    "start_time": "2022-10-19T06:50:20.658Z"
   },
   {
    "duration": 3088,
    "start_time": "2022-10-19T06:50:21.029Z"
   },
   {
    "duration": 380,
    "start_time": "2022-10-19T06:50:24.119Z"
   },
   {
    "duration": 407,
    "start_time": "2022-10-19T06:50:24.502Z"
   },
   {
    "duration": 35,
    "start_time": "2022-10-19T06:50:24.912Z"
   },
   {
    "duration": 41,
    "start_time": "2022-10-19T06:50:24.952Z"
   },
   {
    "duration": 16,
    "start_time": "2022-10-19T06:50:24.996Z"
   },
   {
    "duration": 57,
    "start_time": "2022-10-19T06:50:25.015Z"
   },
   {
    "duration": 39,
    "start_time": "2022-10-19T06:50:25.080Z"
   },
   {
    "duration": 49,
    "start_time": "2022-10-19T06:50:25.122Z"
   },
   {
    "duration": 15496,
    "start_time": "2022-10-19T11:35:50.890Z"
   },
   {
    "duration": 311,
    "start_time": "2022-10-19T11:36:06.388Z"
   },
   {
    "duration": 4,
    "start_time": "2022-10-19T11:36:06.701Z"
   },
   {
    "duration": 39,
    "start_time": "2022-10-19T11:36:06.707Z"
   },
   {
    "duration": 1439,
    "start_time": "2022-10-19T11:36:06.747Z"
   },
   {
    "duration": 56398,
    "start_time": "2022-10-19T11:36:08.188Z"
   },
   {
    "duration": 30197,
    "start_time": "2022-10-19T11:37:04.587Z"
   },
   {
    "duration": 88,
    "start_time": "2022-10-19T11:37:34.786Z"
   },
   {
    "duration": 107,
    "start_time": "2022-10-19T11:37:34.876Z"
   },
   {
    "duration": 10,
    "start_time": "2022-10-19T11:37:34.985Z"
   },
   {
    "duration": 52,
    "start_time": "2022-10-19T11:41:38.854Z"
   },
   {
    "duration": 159,
    "start_time": "2022-10-19T11:42:33.162Z"
   },
   {
    "duration": 4,
    "start_time": "2022-10-19T11:42:35.986Z"
   },
   {
    "duration": 4,
    "start_time": "2022-10-19T11:42:39.134Z"
   },
   {
    "duration": 4,
    "start_time": "2022-10-19T11:43:13.876Z"
   },
   {
    "duration": 56,
    "start_time": "2022-10-19T11:43:27.873Z"
   },
   {
    "duration": 4,
    "start_time": "2022-10-19T11:43:34.101Z"
   },
   {
    "duration": 3,
    "start_time": "2022-10-19T11:44:44.233Z"
   },
   {
    "duration": 4,
    "start_time": "2022-10-19T11:44:50.060Z"
   },
   {
    "duration": 4,
    "start_time": "2022-10-19T11:45:17.192Z"
   },
   {
    "duration": 67,
    "start_time": "2022-10-19T11:45:40.902Z"
   },
   {
    "duration": 14899,
    "start_time": "2022-11-06T10:23:33.667Z"
   },
   {
    "duration": 232,
    "start_time": "2022-11-06T10:23:48.568Z"
   },
   {
    "duration": 4,
    "start_time": "2022-11-06T10:23:48.801Z"
   },
   {
    "duration": 43,
    "start_time": "2022-11-06T10:23:48.807Z"
   },
   {
    "duration": 1739,
    "start_time": "2022-11-06T10:23:48.852Z"
   },
   {
    "duration": 53964,
    "start_time": "2022-11-06T10:23:50.592Z"
   },
   {
    "duration": 30846,
    "start_time": "2022-11-06T10:24:44.558Z"
   },
   {
    "duration": 139,
    "start_time": "2022-11-06T10:25:15.406Z"
   },
   {
    "duration": 52,
    "start_time": "2022-11-06T10:25:15.547Z"
   },
   {
    "duration": 30,
    "start_time": "2022-11-06T10:25:15.602Z"
   },
   {
    "duration": 22,
    "start_time": "2022-11-06T10:25:15.633Z"
   },
   {
    "duration": 11,
    "start_time": "2022-11-06T10:25:15.657Z"
   },
   {
    "duration": 6,
    "start_time": "2022-11-06T10:25:15.669Z"
   },
   {
    "duration": 13,
    "start_time": "2022-11-06T10:25:15.676Z"
   },
   {
    "duration": 4,
    "start_time": "2022-11-06T10:25:15.691Z"
   },
   {
    "duration": 30,
    "start_time": "2022-11-06T10:25:15.697Z"
   },
   {
    "duration": 6,
    "start_time": "2022-11-06T10:25:15.729Z"
   },
   {
    "duration": 11,
    "start_time": "2022-11-06T10:25:15.737Z"
   },
   {
    "duration": 13,
    "start_time": "2022-11-06T10:25:15.750Z"
   },
   {
    "duration": 6,
    "start_time": "2022-11-06T10:25:15.765Z"
   },
   {
    "duration": 597,
    "start_time": "2022-11-06T10:25:15.773Z"
   },
   {
    "duration": 450,
    "start_time": "2022-11-06T10:25:16.372Z"
   },
   {
    "duration": 486,
    "start_time": "2022-11-06T10:25:16.823Z"
   },
   {
    "duration": 872,
    "start_time": "2022-11-06T10:25:17.310Z"
   },
   {
    "duration": 381,
    "start_time": "2022-11-06T10:25:18.184Z"
   },
   {
    "duration": 21,
    "start_time": "2022-11-06T10:25:18.566Z"
   },
   {
    "duration": 310,
    "start_time": "2022-11-06T10:25:18.588Z"
   },
   {
    "duration": 3,
    "start_time": "2022-11-06T10:25:18.901Z"
   },
   {
    "duration": 6,
    "start_time": "2022-11-06T10:25:18.905Z"
   },
   {
    "duration": 9,
    "start_time": "2022-11-06T10:25:18.912Z"
   },
   {
    "duration": 7,
    "start_time": "2022-11-06T10:25:18.922Z"
   },
   {
    "duration": 5,
    "start_time": "2022-11-06T10:25:18.930Z"
   },
   {
    "duration": 6,
    "start_time": "2022-11-06T10:25:18.936Z"
   },
   {
    "duration": 7,
    "start_time": "2022-11-06T10:25:18.943Z"
   },
   {
    "duration": 6,
    "start_time": "2022-11-06T10:25:18.952Z"
   },
   {
    "duration": 5,
    "start_time": "2022-11-06T10:25:18.960Z"
   },
   {
    "duration": 7,
    "start_time": "2022-11-06T10:25:18.966Z"
   },
   {
    "duration": 4914,
    "start_time": "2022-11-06T10:25:18.974Z"
   },
   {
    "duration": 10698,
    "start_time": "2022-11-06T10:25:23.890Z"
   },
   {
    "duration": 33193,
    "start_time": "2022-11-06T10:25:34.590Z"
   },
   {
    "duration": 79787,
    "start_time": "2022-11-06T10:26:07.784Z"
   },
   {
    "duration": 2362,
    "start_time": "2022-11-06T10:27:27.573Z"
   },
   {
    "duration": 3585,
    "start_time": "2022-11-06T10:27:29.936Z"
   },
   {
    "duration": 3597,
    "start_time": "2022-11-06T10:27:33.526Z"
   },
   {
    "duration": 6604,
    "start_time": "2022-11-06T10:27:37.127Z"
   },
   {
    "duration": 190,
    "start_time": "2022-11-06T10:27:43.734Z"
   },
   {
    "duration": 9,
    "start_time": "2022-11-06T10:27:43.926Z"
   },
   {
    "duration": 5,
    "start_time": "2022-11-06T10:27:43.937Z"
   },
   {
    "duration": 384,
    "start_time": "2022-11-06T10:27:43.944Z"
   },
   {
    "duration": 2641,
    "start_time": "2022-11-06T10:27:44.330Z"
   },
   {
    "duration": 263,
    "start_time": "2022-11-06T10:27:46.973Z"
   },
   {
    "duration": 313,
    "start_time": "2022-11-06T10:27:47.237Z"
   },
   {
    "duration": 9,
    "start_time": "2022-11-06T10:27:47.552Z"
   },
   {
    "duration": 9,
    "start_time": "2022-11-06T10:27:47.563Z"
   },
   {
    "duration": 4,
    "start_time": "2022-11-06T10:27:47.573Z"
   },
   {
    "duration": 7,
    "start_time": "2022-11-06T10:27:47.578Z"
   },
   {
    "duration": 9,
    "start_time": "2022-11-06T10:27:47.586Z"
   },
   {
    "duration": 4,
    "start_time": "2022-11-06T10:27:47.596Z"
   }
  ],
  "kernelspec": {
   "display_name": "Python 3 (ipykernel)",
   "language": "python",
   "name": "python3"
  },
  "language_info": {
   "codemirror_mode": {
    "name": "ipython",
    "version": 3
   },
   "file_extension": ".py",
   "mimetype": "text/x-python",
   "name": "python",
   "nbconvert_exporter": "python",
   "pygments_lexer": "ipython3",
   "version": "3.9.7"
  },
  "toc": {
   "base_numbering": 1,
   "nav_menu": {},
   "number_sections": true,
   "sideBar": true,
   "skip_h1_title": true,
   "title_cell": "Содержание",
   "title_sidebar": "Contents",
   "toc_cell": true,
   "toc_position": {
    "height": "calc(100% - 180px)",
    "left": "10px",
    "top": "150px",
    "width": "165px"
   },
   "toc_section_display": true,
   "toc_window_display": true
  }
 },
 "nbformat": 4,
 "nbformat_minor": 2
}
