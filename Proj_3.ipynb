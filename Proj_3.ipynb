{
 "cells": [
  {
   "cell_type": "markdown",
   "metadata": {},
   "source": [
    "# Рекомендация тарифов"
   ]
  },
  {
   "cell_type": "markdown",
   "metadata": {},
   "source": [
    "В вашем распоряжении данные о поведении клиентов, которые уже перешли на эти тарифы (из проекта курса «Статистический анализ данных»). Нужно построить модель для задачи классификации, которая выберет подходящий тариф. Предобработка данных не понадобится — вы её уже сделали.\n",
    "\n",
    "Постройте модель с максимально большим значением *accuracy*. Чтобы сдать проект успешно, нужно довести долю правильных ответов по крайней мере до 0.75. Проверьте *accuracy* на тестовой выборке самостоятельно."
   ]
  },
  {
   "cell_type": "markdown",
   "metadata": {},
   "source": [
    "## Изучение данных"
   ]
  },
  {
   "cell_type": "code",
   "execution_count": 1,
   "metadata": {},
   "outputs": [],
   "source": [
    "import pandas as pd\n",
    "import numpy as np\n",
    "import matplotlib.pyplot as plt\n",
    "from collections import namedtuple\n",
    "\n",
    "from sklearn.ensemble import RandomForestClassifier\n",
    "from sklearn.linear_model import LogisticRegression \n",
    "from sklearn.tree import DecisionTreeClassifier, plot_tree\n",
    "from sklearn.model_selection import train_test_split\n",
    "from sklearn.metrics import confusion_matrix, accuracy_score\n",
    "from sklearn.model_selection import GridSearchCV \n",
    "from sklearn.dummy import DummyClassifier"
   ]
  },
  {
   "cell_type": "code",
   "execution_count": 2,
   "metadata": {},
   "outputs": [],
   "source": [
    "RANDOM_NUM = 171"
   ]
  },
  {
   "cell_type": "code",
   "execution_count": 3,
   "metadata": {},
   "outputs": [
    {
     "name": "stdout",
     "output_type": "stream",
     "text": [
      "<class 'pandas.core.frame.DataFrame'>\n",
      "RangeIndex: 3214 entries, 0 to 3213\n",
      "Data columns (total 5 columns):\n",
      " #   Column    Non-Null Count  Dtype  \n",
      "---  ------    --------------  -----  \n",
      " 0   calls     3214 non-null   float64\n",
      " 1   minutes   3214 non-null   float64\n",
      " 2   messages  3214 non-null   float64\n",
      " 3   mb_used   3214 non-null   float64\n",
      " 4   is_ultra  3214 non-null   int64  \n",
      "dtypes: float64(4), int64(1)\n",
      "memory usage: 125.7 KB\n"
     ]
    },
    {
     "data": {
      "text/html": [
       "<div>\n",
       "<style scoped>\n",
       "    .dataframe tbody tr th:only-of-type {\n",
       "        vertical-align: middle;\n",
       "    }\n",
       "\n",
       "    .dataframe tbody tr th {\n",
       "        vertical-align: top;\n",
       "    }\n",
       "\n",
       "    .dataframe thead th {\n",
       "        text-align: right;\n",
       "    }\n",
       "</style>\n",
       "<table border=\"1\" class=\"dataframe\">\n",
       "  <thead>\n",
       "    <tr style=\"text-align: right;\">\n",
       "      <th></th>\n",
       "      <th>calls</th>\n",
       "      <th>minutes</th>\n",
       "      <th>messages</th>\n",
       "      <th>mb_used</th>\n",
       "      <th>is_ultra</th>\n",
       "    </tr>\n",
       "  </thead>\n",
       "  <tbody>\n",
       "    <tr>\n",
       "      <th>count</th>\n",
       "      <td>3214.000000</td>\n",
       "      <td>3214.000000</td>\n",
       "      <td>3214.000000</td>\n",
       "      <td>3214.000000</td>\n",
       "      <td>3214.000000</td>\n",
       "    </tr>\n",
       "    <tr>\n",
       "      <th>mean</th>\n",
       "      <td>63.038892</td>\n",
       "      <td>438.208787</td>\n",
       "      <td>38.281269</td>\n",
       "      <td>17207.673836</td>\n",
       "      <td>0.306472</td>\n",
       "    </tr>\n",
       "    <tr>\n",
       "      <th>std</th>\n",
       "      <td>33.236368</td>\n",
       "      <td>234.569872</td>\n",
       "      <td>36.148326</td>\n",
       "      <td>7570.968246</td>\n",
       "      <td>0.461100</td>\n",
       "    </tr>\n",
       "    <tr>\n",
       "      <th>min</th>\n",
       "      <td>0.000000</td>\n",
       "      <td>0.000000</td>\n",
       "      <td>0.000000</td>\n",
       "      <td>0.000000</td>\n",
       "      <td>0.000000</td>\n",
       "    </tr>\n",
       "    <tr>\n",
       "      <th>25%</th>\n",
       "      <td>40.000000</td>\n",
       "      <td>274.575000</td>\n",
       "      <td>9.000000</td>\n",
       "      <td>12491.902500</td>\n",
       "      <td>0.000000</td>\n",
       "    </tr>\n",
       "    <tr>\n",
       "      <th>50%</th>\n",
       "      <td>62.000000</td>\n",
       "      <td>430.600000</td>\n",
       "      <td>30.000000</td>\n",
       "      <td>16943.235000</td>\n",
       "      <td>0.000000</td>\n",
       "    </tr>\n",
       "    <tr>\n",
       "      <th>75%</th>\n",
       "      <td>82.000000</td>\n",
       "      <td>571.927500</td>\n",
       "      <td>57.000000</td>\n",
       "      <td>21424.700000</td>\n",
       "      <td>1.000000</td>\n",
       "    </tr>\n",
       "    <tr>\n",
       "      <th>max</th>\n",
       "      <td>244.000000</td>\n",
       "      <td>1632.060000</td>\n",
       "      <td>224.000000</td>\n",
       "      <td>49745.730000</td>\n",
       "      <td>1.000000</td>\n",
       "    </tr>\n",
       "  </tbody>\n",
       "</table>\n",
       "</div>"
      ],
      "text/plain": [
       "             calls      minutes     messages       mb_used     is_ultra\n",
       "count  3214.000000  3214.000000  3214.000000   3214.000000  3214.000000\n",
       "mean     63.038892   438.208787    38.281269  17207.673836     0.306472\n",
       "std      33.236368   234.569872    36.148326   7570.968246     0.461100\n",
       "min       0.000000     0.000000     0.000000      0.000000     0.000000\n",
       "25%      40.000000   274.575000     9.000000  12491.902500     0.000000\n",
       "50%      62.000000   430.600000    30.000000  16943.235000     0.000000\n",
       "75%      82.000000   571.927500    57.000000  21424.700000     1.000000\n",
       "max     244.000000  1632.060000   224.000000  49745.730000     1.000000"
      ]
     },
     "execution_count": 3,
     "metadata": {},
     "output_type": "execute_result"
    },
    {
     "data": {
      "image/png": "[encoded data removed]",
      "text/plain": [
       "<Figure size 1080x576 with 6 Axes>"
      ]
     },
     "metadata": {
      "needs_background": "light"
     },
     "output_type": "display_data"
    }
   ],
   "source": [
    "df_full = pd.read_csv('/datasets/users_behavior.csv')\n",
    "df_full.info()\n",
    "df_full.hist(figsize=(15,8));\n",
    "df_full.describe()"
   ]
  },
  {
   "cell_type": "markdown",
   "metadata": {},
   "source": [
    "- `сalls` — количество звонков,\n",
    "-    `minutes` — суммарная длительность звонков в минутах,\n",
    "-    `messages` — количество sms-сообщений,\n",
    "- `mb_used` — израсходованный интернет-трафик в Мб,\n",
    "- `is_ultra` — каким тарифом пользовался в течение месяца («Ультра» — 1, «Смарт» — 0)."
   ]
  },
  {
   "cell_type": "markdown",
   "metadata": {},
   "source": [
    "Всего 3214 строки. Пропущенных значений нет. Предобработка данных выполнена по условию. \n",
    "\n",
    "\n",
    "Можно обратить внимание, что основная часть `mb_user` содержит достаточно большие значения и значительно отличается от остальных. Переведем значения этого столбца в гигабайты.  "
   ]
  },
  {
   "cell_type": "code",
   "execution_count": 4,
   "metadata": {},
   "outputs": [],
   "source": [
    "df_full['mb_used'] = df_full['mb_used'] / 1024\n",
    "df_full.rename(columns={'mb_used': 'gb_used'}, inplace=True)"
   ]
  },
  {
   "cell_type": "code",
   "execution_count": 5,
   "metadata": {},
   "outputs": [
    {
     "data": {
      "text/plain": [
       "count    3214.000000\n",
       "mean       16.804369\n",
       "std         7.393524\n",
       "min         0.000000\n",
       "25%        12.199124\n",
       "50%        16.546128\n",
       "75%        20.922559\n",
       "max        48.579814\n",
       "Name: gb_used, dtype: float64"
      ]
     },
     "execution_count": 5,
     "metadata": {},
     "output_type": "execute_result"
    }
   ],
   "source": [
    "df_full['gb_used'].describe()"
   ]
  },
  {
   "cell_type": "markdown",
   "metadata": {},
   "source": [
    "Целью исследования является определить тариф, в данных это определяется параметром `is_ultra`. Рассмотрим его подробнее"
   ]
  },
  {
   "cell_type": "code",
   "execution_count": 6,
   "metadata": {},
   "outputs": [
    {
     "data": {
      "image/png": "[encoded data removed]",
      "text/plain": [
       "<Figure size 432x288 with 1 Axes>"
      ]
     },
     "metadata": {},
     "output_type": "display_data"
    }
   ],
   "source": [
    "df_full['is_ultra'].value_counts().plot.pie(title='Используемый тариф', autopct='%1.0f%%')\n",
    "plt.legend(['Смарт','Ультра']);"
   ]
  },
  {
   "cell_type": "markdown",
   "metadata": {},
   "source": [
    "В данных есть информации всего по 2 тарифам - Смарт (`is_ultra` = 0) и Ультра (`is_ultra` = 1). Тарифом Ультра пользовалось 31% пользователей, а тарифом Смарт - 69%. \n",
    "\n",
    "Попробуем оценить, какие значения параметров \"характерны\" для каждого из тарифов. "
   ]
  },
  {
   "cell_type": "code",
   "execution_count": 7,
   "metadata": {},
   "outputs": [
    {
     "data": {
      "image/png": "[encoded data removed]",
      "text/plain": [
       "<Figure size 1080x216 with 1 Axes>"
      ]
     },
     "metadata": {
      "needs_background": "light"
     },
     "output_type": "display_data"
    },
    {
     "data": {
      "image/png": "[encoded data removed]",
      "text/plain": [
       "<Figure size 1080x216 with 1 Axes>"
      ]
     },
     "metadata": {
      "needs_background": "light"
     },
     "output_type": "display_data"
    },
    {
     "data": {
      "image/png": "[encoded data removed]",
      "text/plain": [
       "<Figure size 1080x216 with 1 Axes>"
      ]
     },
     "metadata": {
      "needs_background": "light"
     },
     "output_type": "display_data"
    },
    {
     "data": {
      "image/png": "[encoded data removed]",
      "text/plain": [
       "<Figure size 1080x216 with 1 Axes>"
      ]
     },
     "metadata": {
      "needs_background": "light"
     },
     "output_type": "display_data"
    }
   ],
   "source": [
    "for col_name in df_full.columns[:-1]:\n",
    "    df_full.boxplot(column=col_name, by='is_ultra', vert=False, figsize=(15,3), showmeans=True)\n",
    "    plt.xlabel(col_name)\n",
    "    plt.ylabel('is_ultra')\n",
    "    plt.title(f'Диаграммы размаха для {col_name} в зависимости от значения is_ultra')\n",
    "    plt.suptitle('');"
   ]
  },
  {
   "cell_type": "markdown",
   "metadata": {},
   "source": [
    "По диаграммам размаха можно оценить, что пользователи, которые больше пользуются связью(все параметры) выбирают тариф \"Ультра\", т.е. можно предположить, что выбор тарифа не является случайным и зависит от того, как много пользователь тратит минут/сообщений/мегабайт. Это значит, что имеет смысл попробовать построить модель."
   ]
  },
  {
   "cell_type": "markdown",
   "metadata": {},
   "source": [
    "## Разбиение на выборки"
   ]
  },
  {
   "cell_type": "markdown",
   "metadata": {},
   "source": [
    "Целью исследования является выбор подходящего тарифа, значит, целевой признак - `is_ultra` - категориальный, который  имеет только два значения. <br>\n",
    "\n",
    "\n",
    "Сначала разобьем данные на целевой признак и остальные признаки."
   ]
  },
  {
   "cell_type": "code",
   "execution_count": 8,
   "metadata": {},
   "outputs": [],
   "source": [
    "full_features = df_full.drop('is_ultra', axis=1) # X\n",
    "full_target = df_full['is_ultra'] # y"
   ]
  },
  {
   "cell_type": "markdown",
   "metadata": {},
   "source": [
    "На качество модели может негативно влиять мультиколлинеарность признаков. Проверим"
   ]
  },
  {
   "cell_type": "code",
   "execution_count": 9,
   "metadata": {},
   "outputs": [
    {
     "data": {
      "text/html": [
       "<div>\n",
       "<style scoped>\n",
       "    .dataframe tbody tr th:only-of-type {\n",
       "        vertical-align: middle;\n",
       "    }\n",
       "\n",
       "    .dataframe tbody tr th {\n",
       "        vertical-align: top;\n",
       "    }\n",
       "\n",
       "    .dataframe thead th {\n",
       "        text-align: right;\n",
       "    }\n",
       "</style>\n",
       "<table border=\"1\" class=\"dataframe\">\n",
       "  <thead>\n",
       "    <tr style=\"text-align: right;\">\n",
       "      <th></th>\n",
       "      <th>calls</th>\n",
       "      <th>minutes</th>\n",
       "      <th>messages</th>\n",
       "      <th>gb_used</th>\n",
       "    </tr>\n",
       "  </thead>\n",
       "  <tbody>\n",
       "    <tr>\n",
       "      <th>calls</th>\n",
       "      <td>1.000000</td>\n",
       "      <td>0.982083</td>\n",
       "      <td>0.177385</td>\n",
       "      <td>0.286442</td>\n",
       "    </tr>\n",
       "    <tr>\n",
       "      <th>minutes</th>\n",
       "      <td>0.982083</td>\n",
       "      <td>1.000000</td>\n",
       "      <td>0.173110</td>\n",
       "      <td>0.280967</td>\n",
       "    </tr>\n",
       "    <tr>\n",
       "      <th>messages</th>\n",
       "      <td>0.177385</td>\n",
       "      <td>0.173110</td>\n",
       "      <td>1.000000</td>\n",
       "      <td>0.195721</td>\n",
       "    </tr>\n",
       "    <tr>\n",
       "      <th>gb_used</th>\n",
       "      <td>0.286442</td>\n",
       "      <td>0.280967</td>\n",
       "      <td>0.195721</td>\n",
       "      <td>1.000000</td>\n",
       "    </tr>\n",
       "  </tbody>\n",
       "</table>\n",
       "</div>"
      ],
      "text/plain": [
       "             calls   minutes  messages   gb_used\n",
       "calls     1.000000  0.982083  0.177385  0.286442\n",
       "minutes   0.982083  1.000000  0.173110  0.280967\n",
       "messages  0.177385  0.173110  1.000000  0.195721\n",
       "gb_used   0.286442  0.280967  0.195721  1.000000"
      ]
     },
     "execution_count": 9,
     "metadata": {},
     "output_type": "execute_result"
    }
   ],
   "source": [
    "full_features.corr()"
   ]
  },
  {
   "cell_type": "markdown",
   "metadata": {},
   "source": [
    "Параметры `calls` и `minutes` имеют очень высокую положительную корреляцию. Исключим призак `calls` (т.к. в тарифах обычно платят за количество минут, логичнее оставить этот параметр именно в минутах)."
   ]
  },
  {
   "cell_type": "code",
   "execution_count": 10,
   "metadata": {},
   "outputs": [],
   "source": [
    "full_features = full_features.drop('calls', axis=1)"
   ]
  },
  {
   "cell_type": "markdown",
   "metadata": {},
   "source": [
    "Будем разбивать наши данные на три выборки:\n",
    "- обучающая 60%\n",
    "- валидационная 20%\n",
    "- тестовая 20%"
   ]
  },
  {
   "cell_type": "code",
   "execution_count": 11,
   "metadata": {},
   "outputs": [],
   "source": [
    "train = namedtuple('features', 'target')\n",
    "validate = namedtuple('features', 'target')\n",
    "test = namedtuple('features', 'target')"
   ]
  },
  {
   "cell_type": "code",
   "execution_count": 12,
   "metadata": {},
   "outputs": [],
   "source": [
    "train.features, test.features, train.target, test.target = train_test_split(full_features, \n",
    "                                                                            full_target, \n",
    "                                                                            test_size=0.2,\n",
    "                                                                            random_state=RANDOM_NUM,\n",
    "                                                                            stratify=full_target)\n",
    "\n",
    "train.features, validate.features, train.target, validate.target = train_test_split(train.features, \n",
    "                                                                                    train.target,\n",
    "                                                                                    test_size=0.25,\n",
    "                                                                                    random_state=RANDOM_NUM,\n",
    "                                                                                    stratify=train.target)"
   ]
  },
  {
   "cell_type": "markdown",
   "metadata": {},
   "source": [
    "Проверим размер получившихся выборок:"
   ]
  },
  {
   "cell_type": "code",
   "execution_count": 13,
   "metadata": {},
   "outputs": [
    {
     "name": "stdout",
     "output_type": "stream",
     "text": [
      "Размер обучающей выборки 1928, процент от общей 60%\n",
      "Размер валидационной выборки 643, процент от общей 20%\n",
      "Размер тестовой выборки 643, процент от общей 20%\n"
     ]
    }
   ],
   "source": [
    "print(f\"Размер обучающей выборки {len(train.features)}, процент от общей {len(train.features)/len(full_features):.0%}\")\n",
    "print(f\"Размер валидационной выборки {len(validate.features)}, процент от общей {len(validate.features)/len(full_features):.0%}\")\n",
    "print(f\"Размер тестовой выборки {len(test.features)}, процент от общей {len(test.features)/len(full_features):.0%}\")"
   ]
  },
  {
   "cell_type": "markdown",
   "metadata": {},
   "source": [
    "Размер полученных выборок соответствует необходимому, можно переходить к постоению и исследованию моделей."
   ]
  },
  {
   "cell_type": "markdown",
   "metadata": {},
   "source": [
    "## Исследование моделей"
   ]
  },
  {
   "cell_type": "markdown",
   "metadata": {},
   "source": [
    "**Используемая функция:**"
   ]
  },
  {
   "cell_type": "code",
   "execution_count": 14,
   "metadata": {},
   "outputs": [],
   "source": [
    "def create_model(model_name: str, \n",
    "                 data: namedtuple = train, \n",
    "                 pred: namedtuple = validate, \n",
    "                 random_state_ : int = RANDOM_NUM,\n",
    "                 show_tree: bool = False,\n",
    "                 **kwargs) -> list:\n",
    "    \n",
    "    model = eval(model_name)(random_state=random_state_, **kwargs)\n",
    "    model.fit(data.features, data.target) \n",
    "    accur = model.score(pred.features, pred.target)\n",
    "    if show_tree and depth < 5:\n",
    "        plt.figure(figsize=(20,depth*2))\n",
    "        plot_tree(model, \n",
    "                  fontsize=8, \n",
    "                  filled=True, \n",
    "                  feature_names=data.features.columns,\n",
    "                  class_names=['Смарт', 'Ультра']\n",
    "                 )\n",
    "        plt.title(f'Дерево решений при глубине {depth}')\n",
    "        plt.show()\n",
    "    return [accur, model_name, kwargs]"
   ]
  },
  {
   "cell_type": "markdown",
   "metadata": {},
   "source": [
    "Т.к. целевой параметр может принимать только два значения, стоит задача бинарной классификации. <br>\n",
    "Будем использовать три алгоритма:\n",
    "- DecisionTreeClassifier (дерево решений) - будем использовать с различной глубиной дерева (max_depth)\n",
    "- RandomForestClassifier (случайный лес) - будем использовать с различной глубиной дерева (max_depth) и количеством деревьев(n_estimators)\n",
    "- LogisticRegression (логистическая регрессия) - будем использовать с стандартным решателем (solver) 'lbfgs' \n",
    "\n",
    "\n",
    "Для оценки модели будем использовать валидационный набор данных и метод `score()` для оценки модели. Полученную информацию внесем в список"
   ]
  },
  {
   "cell_type": "code",
   "execution_count": 15,
   "metadata": {},
   "outputs": [],
   "source": [
    "models = []"
   ]
  },
  {
   "cell_type": "markdown",
   "metadata": {},
   "source": [
    "**Дерево решений**\n",
    "- глубина дерева от 1 до 9"
   ]
  },
  {
   "cell_type": "code",
   "execution_count": 16,
   "metadata": {},
   "outputs": [
    {
     "data": {
      "image/png": "[encoded data removed]",
      "text/plain": [
       "<Figure size 1440x144 with 1 Axes>"
      ]
     },
     "metadata": {
      "needs_background": "light"
     },
     "output_type": "display_data"
    },
    {
     "data": {
      "image/png": "[encoded data removed]",
      "text/plain": [
       "<Figure size 1440x288 with 1 Axes>"
      ]
     },
     "metadata": {
      "needs_background": "light"
     },
     "output_type": "display_data"
    },
    {
     "data": {
      "image/png": "[encoded data removed]",
      "text/plain": [
       "<Figure size 1440x432 with 1 Axes>"
      ]
     },
     "metadata": {
      "needs_background": "light"
     },
     "output_type": "display_data"
    },
    {
     "data": {
      "image/png": "[encoded data removed]",
      "text/plain": [
       "<Figure size 1440x576 with 1 Axes>"
      ]
     },
     "metadata": {
      "needs_background": "light"
     },
     "output_type": "display_data"
    }
   ],
   "source": [
    "for depth in range(1,10):\n",
    "    models.append(create_model('DecisionTreeClassifier', show_tree=True, max_depth=depth))"
   ]
  },
  {
   "cell_type": "markdown",
   "metadata": {},
   "source": [
    "**Случайный лес**\n",
    "- глубина дерева от 1 до 8\n",
    "- количество деревьев от 2 до 40, 100, 150, 200"
   ]
  },
  {
   "cell_type": "code",
   "execution_count": 17,
   "metadata": {},
   "outputs": [
    {
     "name": "stdout",
     "output_type": "stream",
     "text": [
      "CPU times: user 19.6 s, sys: 137 ms, total: 19.8 s\n",
      "Wall time: 19.9 s\n"
     ]
    }
   ],
   "source": [
    "%%time\n",
    "for depth in range(1,9):\n",
    "    for estim in [*range(2,41), 100, 150, 200]:\n",
    "        models.append(create_model('RandomForestClassifier', n_estimators=estim, max_depth=depth))"
   ]
  },
  {
   "cell_type": "markdown",
   "metadata": {},
   "source": [
    "**Логистическая регрессия**\n",
    "- максимальное количество итераций 1000"
   ]
  },
  {
   "cell_type": "code",
   "execution_count": 19,
   "metadata": {},
   "outputs": [],
   "source": [
    "models.append(create_model('LogisticRegression', max_iter=1000))"
   ]
  },
  {
   "cell_type": "markdown",
   "metadata": {},
   "source": [
    "Посмотрим, какие модели показали лучшие результаты:"
   ]
  },
  {
   "cell_type": "code",
   "execution_count": 20,
   "metadata": {},
   "outputs": [],
   "source": [
    "models = pd.DataFrame(models, columns=['accuracy','model_type','arrgs'])"
   ]
  },
  {
   "cell_type": "code",
   "execution_count": 21,
   "metadata": {},
   "outputs": [
    {
     "data": {
      "text/html": [
       "<div>\n",
       "<style scoped>\n",
       "    .dataframe tbody tr th:only-of-type {\n",
       "        vertical-align: middle;\n",
       "    }\n",
       "\n",
       "    .dataframe tbody tr th {\n",
       "        vertical-align: top;\n",
       "    }\n",
       "\n",
       "    .dataframe thead th {\n",
       "        text-align: right;\n",
       "    }\n",
       "</style>\n",
       "<table border=\"1\" class=\"dataframe\">\n",
       "  <thead>\n",
       "    <tr style=\"text-align: right;\">\n",
       "      <th></th>\n",
       "      <th>accuracy</th>\n",
       "      <th>model_type</th>\n",
       "      <th>arrgs</th>\n",
       "    </tr>\n",
       "  </thead>\n",
       "  <tbody>\n",
       "    <tr>\n",
       "      <th>345</th>\n",
       "      <td>0.772939</td>\n",
       "      <td>LogisticRegression</td>\n",
       "      <td>{'max_iter': 1000}</td>\n",
       "    </tr>\n",
       "    <tr>\n",
       "      <th>5</th>\n",
       "      <td>0.786936</td>\n",
       "      <td>DecisionTreeClassifier</td>\n",
       "      <td>{'max_depth': 6}</td>\n",
       "    </tr>\n",
       "    <tr>\n",
       "      <th>7</th>\n",
       "      <td>0.790047</td>\n",
       "      <td>DecisionTreeClassifier</td>\n",
       "      <td>{'max_depth': 8}</td>\n",
       "    </tr>\n",
       "    <tr>\n",
       "      <th>2</th>\n",
       "      <td>0.797823</td>\n",
       "      <td>DecisionTreeClassifier</td>\n",
       "      <td>{'max_depth': 3}</td>\n",
       "    </tr>\n",
       "    <tr>\n",
       "      <th>4</th>\n",
       "      <td>0.799378</td>\n",
       "      <td>DecisionTreeClassifier</td>\n",
       "      <td>{'max_depth': 5}</td>\n",
       "    </tr>\n",
       "    <tr>\n",
       "      <th>3</th>\n",
       "      <td>0.802488</td>\n",
       "      <td>DecisionTreeClassifier</td>\n",
       "      <td>{'max_depth': 4}</td>\n",
       "    </tr>\n",
       "    <tr>\n",
       "      <th>185</th>\n",
       "      <td>0.813375</td>\n",
       "      <td>RandomForestClassifier</td>\n",
       "      <td>{'n_estimators': 10, 'max_depth': 5}</td>\n",
       "    </tr>\n",
       "    <tr>\n",
       "      <th>266</th>\n",
       "      <td>0.813375</td>\n",
       "      <td>RandomForestClassifier</td>\n",
       "      <td>{'n_estimators': 7, 'max_depth': 7}</td>\n",
       "    </tr>\n",
       "    <tr>\n",
       "      <th>182</th>\n",
       "      <td>0.814930</td>\n",
       "      <td>RandomForestClassifier</td>\n",
       "      <td>{'n_estimators': 7, 'max_depth': 5}</td>\n",
       "    </tr>\n",
       "    <tr>\n",
       "      <th>262</th>\n",
       "      <td>0.816485</td>\n",
       "      <td>RandomForestClassifier</td>\n",
       "      <td>{'n_estimators': 3, 'max_depth': 7}</td>\n",
       "    </tr>\n",
       "    <tr>\n",
       "      <th>265</th>\n",
       "      <td>0.816485</td>\n",
       "      <td>RandomForestClassifier</td>\n",
       "      <td>{'n_estimators': 6, 'max_depth': 7}</td>\n",
       "    </tr>\n",
       "  </tbody>\n",
       "</table>\n",
       "</div>"
      ],
      "text/plain": [
       "     accuracy              model_type                                 arrgs\n",
       "345  0.772939      LogisticRegression                    {'max_iter': 1000}\n",
       "5    0.786936  DecisionTreeClassifier                      {'max_depth': 6}\n",
       "7    0.790047  DecisionTreeClassifier                      {'max_depth': 8}\n",
       "2    0.797823  DecisionTreeClassifier                      {'max_depth': 3}\n",
       "4    0.799378  DecisionTreeClassifier                      {'max_depth': 5}\n",
       "3    0.802488  DecisionTreeClassifier                      {'max_depth': 4}\n",
       "185  0.813375  RandomForestClassifier  {'n_estimators': 10, 'max_depth': 5}\n",
       "266  0.813375  RandomForestClassifier   {'n_estimators': 7, 'max_depth': 7}\n",
       "182  0.814930  RandomForestClassifier   {'n_estimators': 7, 'max_depth': 5}\n",
       "262  0.816485  RandomForestClassifier   {'n_estimators': 3, 'max_depth': 7}\n",
       "265  0.816485  RandomForestClassifier   {'n_estimators': 6, 'max_depth': 7}"
      ]
     },
     "execution_count": 21,
     "metadata": {},
     "output_type": "execute_result"
    }
   ],
   "source": [
    "models.sort_values(by='accuracy').groupby('model_type').tail()"
   ]
  },
  {
   "cell_type": "markdown",
   "metadata": {},
   "source": [
    "Среди всех моделей самый плохой результат у **логистической регрессии** - 0.773. <br>\n",
    "Второй результат у **дерева решений** точность при глубине 4  - 0.802 <br>\n",
    "Самый лучший результат показала модель **случайный лес** - одинаковый результат 0.816 при глубине 7 и количестве деревьев 6 и глубине 7 и количестве деревьев 3."
   ]
  },
  {
   "cell_type": "markdown",
   "metadata": {},
   "source": [
    "## Проверка модели на тестовой выборке"
   ]
  },
  {
   "cell_type": "markdown",
   "metadata": {},
   "source": [
    "Для проверки на тестовых данных будем использовть модель, которая показала лучшие результаты на валидационных данных (**случайный лес** при глубине 7 и количестве деревьев 6)\n",
    "\n",
    "\n",
    "Построим модель"
   ]
  },
  {
   "cell_type": "code",
   "execution_count": 22,
   "metadata": {},
   "outputs": [
    {
     "data": {
      "text/plain": [
       "array([0, 0, 0, 0, 0, 0, 0, 0, 0, 0, 0, 0, 1, 0, 0, 0, 1, 1, 1, 1])"
      ]
     },
     "execution_count": 22,
     "metadata": {},
     "output_type": "execute_result"
    }
   ],
   "source": [
    "final_model = RandomForestClassifier(random_state=RANDOM_NUM, n_estimators=6, max_depth=7)\n",
    "final_model.fit(train.features, train.target) \n",
    "pred = final_model.predict(test.features) \n",
    "pred[:20]"
   ]
  },
  {
   "cell_type": "markdown",
   "metadata": {},
   "source": [
    "Затем проверим ее на тестовых данных"
   ]
  },
  {
   "cell_type": "code",
   "execution_count": 23,
   "metadata": {},
   "outputs": [
    {
     "data": {
      "text/plain": [
       "0.8149300155520995"
      ]
     },
     "execution_count": 23,
     "metadata": {},
     "output_type": "execute_result"
    }
   ],
   "source": [
    "final_model.score(test.features, test.target)"
   ]
  },
  {
   "cell_type": "markdown",
   "metadata": {},
   "source": [
    "Точность составила **0.815**. Можно сказать, что модель показала хороший результат на тестовых данных."
   ]
  },
  {
   "cell_type": "markdown",
   "metadata": {},
   "source": [
    "Попробуем переобучить нашу модель на большей выборке."
   ]
  },
  {
   "cell_type": "code",
   "execution_count": 24,
   "metadata": {},
   "outputs": [
    {
     "data": {
      "text/plain": [
       "[0.8009331259720062,\n",
       " 'RandomForestClassifier',\n",
       " {'n_estimators': 6, 'max_depth': 7}]"
      ]
     },
     "execution_count": 24,
     "metadata": {},
     "output_type": "execute_result"
    }
   ],
   "source": [
    "train_big = namedtuple('features', 'target')\n",
    "train_big.features = pd.concat([train.features, validate.features])\n",
    "train_big.target = pd.concat([train.target, validate.target])\n",
    "\n",
    "create_model('RandomForestClassifier', data=train_big, pred=test, n_estimators=6, max_depth=7)"
   ]
  },
  {
   "cell_type": "markdown",
   "metadata": {},
   "source": [
    "Модель так же показала хороший результат (точность **0.801**)"
   ]
  },
  {
   "cell_type": "markdown",
   "metadata": {},
   "source": [
    "## Проверка модели на адекватность"
   ]
  },
  {
   "cell_type": "markdown",
   "metadata": {},
   "source": [
    "Для проверки модели на адекватность необходимо, чтоб она она показывала лучший результат, чем случайная генерация."
   ]
  },
  {
   "cell_type": "markdown",
   "metadata": {},
   "source": [
    "Используем три разных стратегии для генерации ответов:\n",
    "- один вариант, который встречается чаще всего\n",
    "- равномерное распределение\n",
    "- стратифицированная"
   ]
  },
  {
   "cell_type": "code",
   "execution_count": 25,
   "metadata": {},
   "outputs": [
    {
     "name": "stdout",
     "output_type": "stream",
     "text": [
      "Для стратегии most_frequent точность 0.6936236391912908\n",
      "Для стратегии uniform точность 0.5132192846034215\n",
      "Для стратегии stratified точность 0.5629860031104199\n"
     ]
    }
   ],
   "source": [
    "for strat in ['most_frequent', 'uniform', 'stratified']:\n",
    "    dummy = DummyClassifier(strategy=strat, random_state=RANDOM_NUM).fit(train.features, train.target)\n",
    "    dummy_pred = dummy.predict(test.features)\n",
    "    print(f\"Для стратегии {strat} точность {accuracy_score(test.target, dummy_pred)}\")"
   ]
  },
  {
   "cell_type": "markdown",
   "metadata": {},
   "source": [
    "Самая большая точность у стратегии `most_frequent` - сгенерированы ответы, состоящие только из нулей. Это достаточно большая точность, но несколько абсурдная, т.к., по сути, не содержит реальных рекомендации, а просто предлагает наиболее популярное. Точность стратифицированных ответов около **56%**.\n",
    "\n",
    "Можно сделать вывод, что выбранная модель значительно лучше прогнозирует (для тестовой выборки точность **81.5%**)"
   ]
  },
  {
   "cell_type": "markdown",
   "metadata": {},
   "source": [
    "## Общий вывод"
   ]
  },
  {
   "cell_type": "markdown",
   "metadata": {},
   "source": [
    "Было проведено исследование и построение модели с целью определения, какой тариф подойдет пользователю в зависимости от количества используемых минут, сообщений и израсходованного интернет-трафика. <br>\n",
    "Было рассмотрено три алгоритма (дерево решений, случайный лес и логистическая регрессия) для построения моделей с разными гиперпараметрами. <br>\n",
    "По итогу была выбрана модель, построенная по алгоритму `RandomForestClassifier (случайный лес)` с гиперпараметрами глубина дерева `7` и число деревьев `6`. <br>\n",
    "На валидационной выборке модель показала результат в **81.6%** точности, на тестовой выборке **81.5%** точности. Оба результата значительно лучше, чем точность при случайном подборе (**69%**).<br>\n",
    "\n",
    "\n",
    "Таким образом, модель можно рекомендовать для внедрения для решения задачи по выбору подходящего тарифного плана для клиентов."
   ]
  }
 ],
 "metadata": {
  "ExecuteTimeLog": [
   {
    "duration": 43,
    "start_time": "2022-09-05T21:28:51.000Z"
   },
   {
    "duration": 384,
    "start_time": "2022-09-05T21:28:55.372Z"
   },
   {
    "duration": 125,
    "start_time": "2022-09-05T21:28:56.651Z"
   },
   {
    "duration": 37,
    "start_time": "2022-09-05T21:29:44.472Z"
   },
   {
    "duration": 35,
    "start_time": "2022-09-05T21:29:50.698Z"
   },
   {
    "duration": 725,
    "start_time": "2022-09-05T21:29:58.533Z"
   },
   {
    "duration": 36,
    "start_time": "2022-09-05T21:45:32.626Z"
   },
   {
    "duration": 140,
    "start_time": "2022-09-05T21:47:26.002Z"
   },
   {
    "duration": 5,
    "start_time": "2022-09-05T21:48:33.053Z"
   },
   {
    "duration": 6,
    "start_time": "2022-09-05T21:48:51.853Z"
   },
   {
    "duration": 184,
    "start_time": "2022-09-05T21:49:04.023Z"
   },
   {
    "duration": 4,
    "start_time": "2022-09-05T21:49:15.673Z"
   },
   {
    "duration": 170,
    "start_time": "2022-09-05T21:49:17.146Z"
   },
   {
    "duration": 46,
    "start_time": "2022-09-05T21:50:39.258Z"
   },
   {
    "duration": 369,
    "start_time": "2022-09-05T21:52:02.217Z"
   },
   {
    "duration": 412,
    "start_time": "2022-09-05T21:52:18.699Z"
   },
   {
    "duration": 571,
    "start_time": "2022-09-05T21:52:24.066Z"
   },
   {
    "duration": 22,
    "start_time": "2022-09-05T21:53:18.406Z"
   },
   {
    "duration": 34,
    "start_time": "2022-09-05T21:54:05.655Z"
   },
   {
    "duration": 553,
    "start_time": "2022-09-05T21:54:08.607Z"
   },
   {
    "duration": 20,
    "start_time": "2022-09-05T21:54:10.836Z"
   },
   {
    "duration": 10,
    "start_time": "2022-09-05T22:01:46.994Z"
   },
   {
    "duration": 2,
    "start_time": "2022-09-05T22:03:01.116Z"
   },
   {
    "duration": 7,
    "start_time": "2022-09-05T22:06:44.188Z"
   },
   {
    "duration": 2,
    "start_time": "2022-09-05T22:06:46.960Z"
   },
   {
    "duration": 6,
    "start_time": "2022-09-05T22:06:47.850Z"
   },
   {
    "duration": 3,
    "start_time": "2022-09-05T22:07:56.856Z"
   },
   {
    "duration": 4,
    "start_time": "2022-09-05T22:08:03.950Z"
   },
   {
    "duration": 2,
    "start_time": "2022-09-05T22:08:08.663Z"
   },
   {
    "duration": 5,
    "start_time": "2022-09-05T22:08:11.783Z"
   },
   {
    "duration": 9,
    "start_time": "2022-09-05T22:08:23.997Z"
   },
   {
    "duration": 7,
    "start_time": "2022-09-05T22:08:29.557Z"
   },
   {
    "duration": 6,
    "start_time": "2022-09-05T22:08:35.401Z"
   },
   {
    "duration": 2,
    "start_time": "2022-09-05T22:08:39.089Z"
   },
   {
    "duration": 4,
    "start_time": "2022-09-05T22:08:41.252Z"
   },
   {
    "duration": 3,
    "start_time": "2022-09-05T22:08:47.986Z"
   },
   {
    "duration": 5,
    "start_time": "2022-09-05T22:08:49.101Z"
   },
   {
    "duration": 3,
    "start_time": "2022-09-05T22:08:51.154Z"
   },
   {
    "duration": 4,
    "start_time": "2022-09-05T22:08:53.184Z"
   },
   {
    "duration": 393,
    "start_time": "2022-09-05T22:08:57.969Z"
   },
   {
    "duration": 35,
    "start_time": "2022-09-05T22:08:58.363Z"
   },
   {
    "duration": 701,
    "start_time": "2022-09-05T22:08:58.399Z"
   },
   {
    "duration": 24,
    "start_time": "2022-09-05T22:08:59.102Z"
   },
   {
    "duration": 2,
    "start_time": "2022-09-05T22:08:59.127Z"
   },
   {
    "duration": 81,
    "start_time": "2022-09-05T22:08:59.131Z"
   },
   {
    "duration": 2,
    "start_time": "2022-09-05T22:10:43.073Z"
   },
   {
    "duration": 3,
    "start_time": "2022-09-05T22:10:46.494Z"
   },
   {
    "duration": 3,
    "start_time": "2022-09-05T22:10:56.714Z"
   },
   {
    "duration": 4,
    "start_time": "2022-09-05T22:10:58.700Z"
   },
   {
    "duration": 3,
    "start_time": "2022-09-05T22:14:19.669Z"
   },
   {
    "duration": 5,
    "start_time": "2022-09-05T22:17:35.528Z"
   },
   {
    "duration": 6,
    "start_time": "2022-09-05T22:17:43.426Z"
   },
   {
    "duration": 4,
    "start_time": "2022-09-05T22:17:54.954Z"
   },
   {
    "duration": 9,
    "start_time": "2022-09-05T22:17:57.118Z"
   },
   {
    "duration": 3,
    "start_time": "2022-09-05T22:18:06.042Z"
   },
   {
    "duration": 55,
    "start_time": "2022-09-05T22:18:31.772Z"
   },
   {
    "duration": 679,
    "start_time": "2022-09-05T22:18:48.243Z"
   },
   {
    "duration": 3,
    "start_time": "2022-09-05T22:18:51.665Z"
   },
   {
    "duration": 574,
    "start_time": "2022-09-05T22:18:52.478Z"
   },
   {
    "duration": 152,
    "start_time": "2022-09-05T22:20:24.034Z"
   },
   {
    "duration": 60,
    "start_time": "2022-09-05T22:20:26.120Z"
   },
   {
    "duration": 3,
    "start_time": "2022-09-05T22:20:30.724Z"
   },
   {
    "duration": 339,
    "start_time": "2022-09-05T22:20:33.948Z"
   },
   {
    "duration": 3,
    "start_time": "2022-09-05T22:20:55.486Z"
   },
   {
    "duration": 27,
    "start_time": "2022-09-05T22:21:15.996Z"
   },
   {
    "duration": 4,
    "start_time": "2022-09-05T22:21:28.356Z"
   },
   {
    "duration": 4,
    "start_time": "2022-09-05T22:21:30.655Z"
   },
   {
    "duration": 547,
    "start_time": "2022-09-05T22:21:31.812Z"
   },
   {
    "duration": 1058,
    "start_time": "2022-09-05T22:21:34.339Z"
   },
   {
    "duration": 21,
    "start_time": "2022-09-05T22:21:37.215Z"
   },
   {
    "duration": 8,
    "start_time": "2022-09-05T22:22:38.206Z"
   },
   {
    "duration": 3,
    "start_time": "2022-09-05T22:22:40.974Z"
   },
   {
    "duration": 110,
    "start_time": "2022-09-05T22:22:42.341Z"
   },
   {
    "duration": 151,
    "start_time": "2022-09-05T22:22:47.610Z"
   },
   {
    "duration": 213,
    "start_time": "2022-09-05T22:22:52.450Z"
   },
   {
    "duration": 43,
    "start_time": "2022-09-06T06:01:01.528Z"
   },
   {
    "duration": 5,
    "start_time": "2022-09-06T06:01:05.425Z"
   },
   {
    "duration": 1090,
    "start_time": "2022-09-06T06:01:07.574Z"
   },
   {
    "duration": 284,
    "start_time": "2022-09-06T06:01:17.628Z"
   },
   {
    "duration": 3,
    "start_time": "2022-09-06T06:01:19.778Z"
   },
   {
    "duration": 125,
    "start_time": "2022-09-06T06:01:23.033Z"
   },
   {
    "duration": 3,
    "start_time": "2022-09-06T06:01:26.729Z"
   },
   {
    "duration": 5,
    "start_time": "2022-09-06T06:03:02.633Z"
   },
   {
    "duration": 19,
    "start_time": "2022-09-06T06:03:09.727Z"
   },
   {
    "duration": 10,
    "start_time": "2022-09-06T06:03:28.121Z"
   },
   {
    "duration": 7,
    "start_time": "2022-09-06T06:05:46.728Z"
   },
   {
    "duration": 12,
    "start_time": "2022-09-06T06:05:52.949Z"
   },
   {
    "duration": 2,
    "start_time": "2022-09-06T06:06:31.497Z"
   },
   {
    "duration": 11,
    "start_time": "2022-09-06T06:06:38.336Z"
   },
   {
    "duration": 2885,
    "start_time": "2022-09-06T06:06:52.833Z"
   },
   {
    "duration": 6,
    "start_time": "2022-09-06T06:06:59.170Z"
   },
   {
    "duration": 4,
    "start_time": "2022-09-06T06:07:06.173Z"
   },
   {
    "duration": 3,
    "start_time": "2022-09-06T06:08:49.919Z"
   },
   {
    "duration": 3,
    "start_time": "2022-09-06T06:09:02.730Z"
   },
   {
    "duration": 9,
    "start_time": "2022-09-06T06:09:06.839Z"
   },
   {
    "duration": 3,
    "start_time": "2022-09-06T06:10:32.451Z"
   },
   {
    "duration": 4,
    "start_time": "2022-09-06T06:10:38.833Z"
   },
   {
    "duration": 14,
    "start_time": "2022-09-06T06:10:52.852Z"
   },
   {
    "duration": 3,
    "start_time": "2022-09-06T06:12:39.224Z"
   },
   {
    "duration": 3,
    "start_time": "2022-09-06T06:13:14.431Z"
   },
   {
    "duration": 8,
    "start_time": "2022-09-06T06:13:24.310Z"
   },
   {
    "duration": 9,
    "start_time": "2022-09-06T06:29:32.670Z"
   },
   {
    "duration": 2,
    "start_time": "2022-09-06T06:29:39.797Z"
   },
   {
    "duration": 3,
    "start_time": "2022-09-06T06:29:44.746Z"
   },
   {
    "duration": 4,
    "start_time": "2022-09-06T06:29:47.854Z"
   },
   {
    "duration": 5,
    "start_time": "2022-09-06T06:29:52.666Z"
   },
   {
    "duration": 7,
    "start_time": "2022-09-06T06:29:56.854Z"
   },
   {
    "duration": 5,
    "start_time": "2022-09-06T06:30:01.100Z"
   },
   {
    "duration": 3,
    "start_time": "2022-09-06T06:38:22.233Z"
   },
   {
    "duration": 10,
    "start_time": "2022-09-06T06:39:55.030Z"
   },
   {
    "duration": 7,
    "start_time": "2022-09-06T06:40:26.332Z"
   },
   {
    "duration": 86,
    "start_time": "2022-09-06T06:40:43.353Z"
   },
   {
    "duration": 3,
    "start_time": "2022-09-06T06:41:05.856Z"
   },
   {
    "duration": 8,
    "start_time": "2022-09-06T06:42:09.260Z"
   },
   {
    "duration": 8,
    "start_time": "2022-09-06T06:42:19.420Z"
   },
   {
    "duration": 5,
    "start_time": "2022-09-06T06:42:30.670Z"
   },
   {
    "duration": 8,
    "start_time": "2022-09-06T06:42:34.913Z"
   },
   {
    "duration": 8,
    "start_time": "2022-09-06T06:42:38.796Z"
   },
   {
    "duration": 8,
    "start_time": "2022-09-06T06:43:03.272Z"
   },
   {
    "duration": 8,
    "start_time": "2022-09-06T06:43:09.437Z"
   },
   {
    "duration": 7,
    "start_time": "2022-09-06T06:44:23.998Z"
   },
   {
    "duration": 3,
    "start_time": "2022-09-06T06:44:28.420Z"
   },
   {
    "duration": 7,
    "start_time": "2022-09-06T06:44:29.619Z"
   },
   {
    "duration": 8,
    "start_time": "2022-09-06T06:44:30.601Z"
   },
   {
    "duration": 3,
    "start_time": "2022-09-06T06:44:36.218Z"
   },
   {
    "duration": 5,
    "start_time": "2022-09-06T06:44:51.398Z"
   },
   {
    "duration": 12,
    "start_time": "2022-09-06T06:45:21.693Z"
   },
   {
    "duration": 4,
    "start_time": "2022-09-06T06:45:29.396Z"
   },
   {
    "duration": 4,
    "start_time": "2022-09-06T06:45:39.297Z"
   },
   {
    "duration": 4,
    "start_time": "2022-09-06T06:45:52.390Z"
   },
   {
    "duration": 7,
    "start_time": "2022-09-06T06:46:06.459Z"
   },
   {
    "duration": 4,
    "start_time": "2022-09-06T06:46:09.149Z"
   },
   {
    "duration": 4,
    "start_time": "2022-09-06T06:46:10.324Z"
   },
   {
    "duration": 5,
    "start_time": "2022-09-06T06:46:11.369Z"
   },
   {
    "duration": 3,
    "start_time": "2022-09-06T06:49:30.625Z"
   },
   {
    "duration": 4,
    "start_time": "2022-09-06T06:50:21.271Z"
   },
   {
    "duration": 3,
    "start_time": "2022-09-06T07:07:49.338Z"
   },
   {
    "duration": 10,
    "start_time": "2022-09-06T07:08:10.581Z"
   },
   {
    "duration": 3,
    "start_time": "2022-09-06T07:08:21.911Z"
   },
   {
    "duration": 8,
    "start_time": "2022-09-06T07:08:23.613Z"
   },
   {
    "duration": 8,
    "start_time": "2022-09-06T07:08:56.822Z"
   },
   {
    "duration": 160,
    "start_time": "2022-09-06T07:09:09.612Z"
   },
   {
    "duration": 5,
    "start_time": "2022-09-06T07:09:12.713Z"
   },
   {
    "duration": 145,
    "start_time": "2022-09-06T07:09:14.716Z"
   },
   {
    "duration": 149,
    "start_time": "2022-09-06T07:09:17.949Z"
   },
   {
    "duration": 76,
    "start_time": "2022-09-06T07:09:34.620Z"
   },
   {
    "duration": 146,
    "start_time": "2022-09-06T07:09:42.152Z"
   },
   {
    "duration": 3,
    "start_time": "2022-09-06T07:12:33.813Z"
   },
   {
    "duration": 3,
    "start_time": "2022-09-06T07:12:55.319Z"
   },
   {
    "duration": 145,
    "start_time": "2022-09-06T07:12:58.177Z"
   },
   {
    "duration": 4,
    "start_time": "2022-09-06T07:13:12.077Z"
   },
   {
    "duration": 27,
    "start_time": "2022-09-06T07:13:24.668Z"
   },
   {
    "duration": 13,
    "start_time": "2022-09-06T07:13:38.038Z"
   },
   {
    "duration": 9,
    "start_time": "2022-09-06T07:13:54.770Z"
   },
   {
    "duration": 12,
    "start_time": "2022-09-06T07:14:04.197Z"
   },
   {
    "duration": 4,
    "start_time": "2022-09-06T07:14:12.289Z"
   },
   {
    "duration": 11,
    "start_time": "2022-09-06T07:15:08.429Z"
   },
   {
    "duration": 5,
    "start_time": "2022-09-06T07:15:15.266Z"
   },
   {
    "duration": 158,
    "start_time": "2022-09-06T07:15:16.765Z"
   },
   {
    "duration": 8,
    "start_time": "2022-09-06T07:16:18.556Z"
   },
   {
    "duration": 5,
    "start_time": "2022-09-06T07:16:26.029Z"
   },
   {
    "duration": 9,
    "start_time": "2022-09-06T07:16:43.788Z"
   },
   {
    "duration": 4,
    "start_time": "2022-09-06T07:16:50.950Z"
   },
   {
    "duration": 4,
    "start_time": "2022-09-06T07:47:21.012Z"
   },
   {
    "duration": 152,
    "start_time": "2022-09-06T07:47:23.160Z"
   },
   {
    "duration": 156,
    "start_time": "2022-09-06T07:47:35.048Z"
   },
   {
    "duration": 3,
    "start_time": "2022-09-06T07:47:42.396Z"
   },
   {
    "duration": 166,
    "start_time": "2022-09-06T07:47:44.188Z"
   },
   {
    "duration": 48,
    "start_time": "2022-09-06T07:47:46.424Z"
   },
   {
    "duration": 20,
    "start_time": "2022-09-06T07:47:48.328Z"
   },
   {
    "duration": 45,
    "start_time": "2022-09-06T07:47:51.506Z"
   },
   {
    "duration": 25,
    "start_time": "2022-09-06T07:47:57.044Z"
   },
   {
    "duration": 27,
    "start_time": "2022-09-06T07:48:02.724Z"
   },
   {
    "duration": 4,
    "start_time": "2022-09-06T07:49:42.959Z"
   },
   {
    "duration": 70,
    "start_time": "2022-09-06T07:50:14.325Z"
   },
   {
    "duration": 4,
    "start_time": "2022-09-06T07:50:17.720Z"
   },
   {
    "duration": 27,
    "start_time": "2022-09-06T07:50:20.624Z"
   },
   {
    "duration": 25,
    "start_time": "2022-09-06T07:52:04.959Z"
   },
   {
    "duration": 28,
    "start_time": "2022-09-06T07:52:14.610Z"
   },
   {
    "duration": 28,
    "start_time": "2022-09-06T07:52:17.992Z"
   },
   {
    "duration": 73,
    "start_time": "2022-09-06T07:52:37.729Z"
   },
   {
    "duration": 11,
    "start_time": "2022-09-06T07:52:59.566Z"
   },
   {
    "duration": 3,
    "start_time": "2022-09-06T07:53:14.231Z"
   },
   {
    "duration": 37,
    "start_time": "2022-09-06T07:53:15.992Z"
   },
   {
    "duration": 40,
    "start_time": "2022-09-06T07:53:18.859Z"
   },
   {
    "duration": 33,
    "start_time": "2022-09-06T07:53:21.269Z"
   },
   {
    "duration": 393,
    "start_time": "2022-09-06T07:53:27.214Z"
   },
   {
    "duration": 17,
    "start_time": "2022-09-06T07:53:34.713Z"
   },
   {
    "duration": 16,
    "start_time": "2022-09-06T07:53:39.728Z"
   },
   {
    "duration": 47,
    "start_time": "2022-09-06T07:53:55.474Z"
   },
   {
    "duration": 12,
    "start_time": "2022-09-06T07:53:58.893Z"
   },
   {
    "duration": 387,
    "start_time": "2022-09-06T07:54:06.692Z"
   },
   {
    "duration": 4,
    "start_time": "2022-09-06T07:54:41.727Z"
   },
   {
    "duration": 33,
    "start_time": "2022-09-06T07:54:43.668Z"
   },
   {
    "duration": 41,
    "start_time": "2022-09-06T07:54:48.174Z"
   },
   {
    "duration": 3,
    "start_time": "2022-09-06T07:54:52.863Z"
   },
   {
    "duration": 35,
    "start_time": "2022-09-06T07:54:54.778Z"
   },
   {
    "duration": 3,
    "start_time": "2022-09-06T07:55:01.652Z"
   },
   {
    "duration": 29,
    "start_time": "2022-09-06T07:55:03.192Z"
   },
   {
    "duration": 382,
    "start_time": "2022-09-06T07:55:15.428Z"
   },
   {
    "duration": 14,
    "start_time": "2022-09-06T07:55:23.028Z"
   },
   {
    "duration": 63,
    "start_time": "2022-09-06T07:55:46.054Z"
   },
   {
    "duration": 402,
    "start_time": "2022-09-06T07:55:50.142Z"
   },
   {
    "duration": 3,
    "start_time": "2022-09-06T07:56:26.936Z"
   },
   {
    "duration": 28,
    "start_time": "2022-09-06T07:56:37.378Z"
   },
   {
    "duration": 12,
    "start_time": "2022-09-06T07:56:39.435Z"
   },
   {
    "duration": 43,
    "start_time": "2022-09-06T07:56:43.093Z"
   },
   {
    "duration": 5,
    "start_time": "2022-09-06T07:56:46.574Z"
   },
   {
    "duration": 4,
    "start_time": "2022-09-06T07:56:50.130Z"
   },
   {
    "duration": 85,
    "start_time": "2022-09-06T07:56:55.465Z"
   },
   {
    "duration": 8,
    "start_time": "2022-09-06T07:56:58.827Z"
   },
   {
    "duration": 5,
    "start_time": "2022-09-06T07:57:02.833Z"
   },
   {
    "duration": 10,
    "start_time": "2022-09-06T07:58:29.247Z"
   },
   {
    "duration": 9,
    "start_time": "2022-09-06T07:58:34.464Z"
   },
   {
    "duration": 12,
    "start_time": "2022-09-06T07:59:42.323Z"
   },
   {
    "duration": 60,
    "start_time": "2022-09-06T07:59:49.623Z"
   },
   {
    "duration": 9,
    "start_time": "2022-09-06T08:00:37.180Z"
   },
   {
    "duration": 3,
    "start_time": "2022-09-06T08:00:45.730Z"
   },
   {
    "duration": 4,
    "start_time": "2022-09-06T08:00:49.262Z"
   },
   {
    "duration": 13,
    "start_time": "2022-09-06T08:00:51.840Z"
   },
   {
    "duration": 34,
    "start_time": "2022-09-06T08:01:34.127Z"
   },
   {
    "duration": 4,
    "start_time": "2022-09-06T08:01:37.058Z"
   },
   {
    "duration": 32,
    "start_time": "2022-09-06T08:01:40.476Z"
   },
   {
    "duration": 5,
    "start_time": "2022-09-06T08:01:42.368Z"
   },
   {
    "duration": 47,
    "start_time": "2022-09-06T08:01:48.313Z"
   },
   {
    "duration": 6,
    "start_time": "2022-09-06T08:01:50.265Z"
   },
   {
    "duration": 10,
    "start_time": "2022-09-06T08:01:56.921Z"
   },
   {
    "duration": 4,
    "start_time": "2022-09-06T08:01:59.895Z"
   },
   {
    "duration": 3,
    "start_time": "2022-09-06T08:02:10.797Z"
   },
   {
    "duration": 46,
    "start_time": "2022-09-06T08:02:17.729Z"
   },
   {
    "duration": 3,
    "start_time": "2022-09-06T08:02:47.826Z"
   },
   {
    "duration": 40,
    "start_time": "2022-09-06T08:02:50.362Z"
   },
   {
    "duration": 23,
    "start_time": "2022-09-06T08:02:54.641Z"
   },
   {
    "duration": 22,
    "start_time": "2022-09-06T08:02:57.564Z"
   },
   {
    "duration": 38,
    "start_time": "2022-09-06T08:03:03.147Z"
   },
   {
    "duration": 3,
    "start_time": "2022-09-06T08:03:08.385Z"
   },
   {
    "duration": 4,
    "start_time": "2022-09-06T08:03:12.633Z"
   },
   {
    "duration": 12,
    "start_time": "2022-09-06T08:03:17.875Z"
   },
   {
    "duration": 4,
    "start_time": "2022-09-06T08:03:25.344Z"
   },
   {
    "duration": 4,
    "start_time": "2022-09-06T08:03:30.856Z"
   },
   {
    "duration": 5,
    "start_time": "2022-09-06T08:03:36.470Z"
   },
   {
    "duration": 5,
    "start_time": "2022-09-06T08:03:41.195Z"
   },
   {
    "duration": 9,
    "start_time": "2022-09-06T08:03:46.724Z"
   },
   {
    "duration": 4,
    "start_time": "2022-09-06T08:04:37.925Z"
   },
   {
    "duration": 4,
    "start_time": "2022-09-06T08:04:46.777Z"
   },
   {
    "duration": 2,
    "start_time": "2022-09-06T08:07:42.962Z"
   },
   {
    "duration": 3,
    "start_time": "2022-09-06T08:08:09.871Z"
   },
   {
    "duration": 15,
    "start_time": "2022-09-06T08:08:10.598Z"
   },
   {
    "duration": 78,
    "start_time": "2022-09-06T08:08:19.497Z"
   },
   {
    "duration": 8,
    "start_time": "2022-09-06T08:10:48.767Z"
   },
   {
    "duration": 11,
    "start_time": "2022-09-06T08:10:51.894Z"
   },
   {
    "duration": 4,
    "start_time": "2022-09-06T08:10:56.524Z"
   },
   {
    "duration": 87,
    "start_time": "2022-09-06T08:11:21.644Z"
   },
   {
    "duration": 6,
    "start_time": "2022-09-06T08:11:23.286Z"
   },
   {
    "duration": 2,
    "start_time": "2022-09-06T08:11:46.627Z"
   },
   {
    "duration": 3,
    "start_time": "2022-09-06T08:11:53.367Z"
   },
   {
    "duration": 55,
    "start_time": "2022-09-06T08:11:54.046Z"
   },
   {
    "duration": 14,
    "start_time": "2022-09-06T08:11:55.728Z"
   },
   {
    "duration": 12,
    "start_time": "2022-09-06T08:12:08.086Z"
   },
   {
    "duration": 10,
    "start_time": "2022-09-06T08:12:35.472Z"
   },
   {
    "duration": 3,
    "start_time": "2022-09-06T08:12:44.267Z"
   },
   {
    "duration": 13,
    "start_time": "2022-09-06T08:12:48.188Z"
   },
   {
    "duration": 4,
    "start_time": "2022-09-06T08:12:51.181Z"
   },
   {
    "duration": 11,
    "start_time": "2022-09-06T08:12:55.272Z"
   },
   {
    "duration": 5,
    "start_time": "2022-09-06T08:24:17.428Z"
   },
   {
    "duration": 11,
    "start_time": "2022-09-06T08:24:28.058Z"
   },
   {
    "duration": 10,
    "start_time": "2022-09-06T08:24:31.832Z"
   },
   {
    "duration": 3,
    "start_time": "2022-09-06T08:24:36.786Z"
   },
   {
    "duration": 51,
    "start_time": "2022-09-06T08:24:37.965Z"
   },
   {
    "duration": 9,
    "start_time": "2022-09-06T08:24:40.574Z"
   },
   {
    "duration": 5,
    "start_time": "2022-09-06T08:24:42.547Z"
   },
   {
    "duration": 12,
    "start_time": "2022-09-06T08:24:43.862Z"
   },
   {
    "duration": 1054,
    "start_time": "2022-09-06T10:52:13.240Z"
   },
   {
    "duration": 2,
    "start_time": "2022-09-06T10:52:14.296Z"
   },
   {
    "duration": 140,
    "start_time": "2022-09-06T10:52:14.300Z"
   },
   {
    "duration": 983,
    "start_time": "2022-09-06T10:52:14.442Z"
   },
   {
    "duration": 27,
    "start_time": "2022-09-06T10:52:15.427Z"
   },
   {
    "duration": 13,
    "start_time": "2022-09-06T10:52:15.456Z"
   },
   {
    "duration": 5,
    "start_time": "2022-09-06T10:52:15.484Z"
   },
   {
    "duration": 11,
    "start_time": "2022-09-06T10:52:15.490Z"
   },
   {
    "duration": 16,
    "start_time": "2022-09-06T10:52:15.503Z"
   },
   {
    "duration": 5,
    "start_time": "2022-09-06T10:52:15.520Z"
   },
   {
    "duration": 4,
    "start_time": "2022-09-06T10:52:15.527Z"
   },
   {
    "duration": 12,
    "start_time": "2022-09-06T10:52:15.533Z"
   },
   {
    "duration": 67,
    "start_time": "2022-09-06T10:52:15.547Z"
   },
   {
    "duration": 2,
    "start_time": "2022-09-06T10:52:15.617Z"
   },
   {
    "duration": 13,
    "start_time": "2022-09-06T10:52:15.620Z"
   },
   {
    "duration": 32,
    "start_time": "2022-09-06T10:52:15.634Z"
   },
   {
    "duration": 118,
    "start_time": "2022-09-06T10:52:15.668Z"
   },
   {
    "duration": 0,
    "start_time": "2022-09-06T10:52:15.788Z"
   },
   {
    "duration": 0,
    "start_time": "2022-09-06T10:52:15.789Z"
   },
   {
    "duration": 173,
    "start_time": "2022-09-06T10:52:25.709Z"
   },
   {
    "duration": 590,
    "start_time": "2022-09-06T10:52:34.064Z"
   },
   {
    "duration": 458,
    "start_time": "2022-09-06T10:52:37.979Z"
   },
   {
    "duration": 4,
    "start_time": "2022-09-06T10:54:32.437Z"
   },
   {
    "duration": 10,
    "start_time": "2022-09-06T10:55:08.933Z"
   },
   {
    "duration": 129,
    "start_time": "2022-09-06T10:56:04.871Z"
   },
   {
    "duration": 118,
    "start_time": "2022-09-06T10:56:24.790Z"
   },
   {
    "duration": 80,
    "start_time": "2022-09-06T10:57:42.391Z"
   },
   {
    "duration": 423,
    "start_time": "2022-09-06T10:57:47.373Z"
   },
   {
    "duration": 464,
    "start_time": "2022-09-06T10:58:10.676Z"
   },
   {
    "duration": 3,
    "start_time": "2022-09-06T10:58:21.686Z"
   },
   {
    "duration": 455,
    "start_time": "2022-09-06T10:58:37.741Z"
   },
   {
    "duration": 51,
    "start_time": "2022-09-06T11:03:04.226Z"
   },
   {
    "duration": 467,
    "start_time": "2022-09-06T11:04:09.143Z"
   },
   {
    "duration": 454,
    "start_time": "2022-09-06T11:16:02.659Z"
   },
   {
    "duration": 466,
    "start_time": "2022-09-06T11:16:29.098Z"
   },
   {
    "duration": 102,
    "start_time": "2022-09-06T11:16:38.200Z"
   },
   {
    "duration": 452,
    "start_time": "2022-09-06T11:16:59.084Z"
   },
   {
    "duration": 853,
    "start_time": "2022-09-06T11:17:28.235Z"
   },
   {
    "duration": 829,
    "start_time": "2022-09-06T11:17:34.764Z"
   },
   {
    "duration": 1023,
    "start_time": "2022-09-06T11:17:38.621Z"
   },
   {
    "duration": 779,
    "start_time": "2022-09-06T11:17:46.529Z"
   },
   {
    "duration": 808,
    "start_time": "2022-09-06T11:17:50.312Z"
   },
   {
    "duration": 10,
    "start_time": "2022-09-06T11:18:03.945Z"
   },
   {
    "duration": 13228,
    "start_time": "2022-09-06T11:18:24.821Z"
   },
   {
    "duration": 6,
    "start_time": "2022-09-06T11:18:53.960Z"
   },
   {
    "duration": 10,
    "start_time": "2022-09-06T11:19:12.617Z"
   },
   {
    "duration": 19865,
    "start_time": "2022-09-06T11:19:27.500Z"
   },
   {
    "duration": 5,
    "start_time": "2022-09-06T11:20:02.901Z"
   },
   {
    "duration": 5,
    "start_time": "2022-09-06T11:20:24.737Z"
   },
   {
    "duration": 59,
    "start_time": "2022-09-06T11:20:30.952Z"
   },
   {
    "duration": 59,
    "start_time": "2022-09-06T11:20:38.321Z"
   },
   {
    "duration": 432,
    "start_time": "2022-09-06T11:21:17.732Z"
   },
   {
    "duration": 443,
    "start_time": "2022-09-06T11:21:30.547Z"
   },
   {
    "duration": 450,
    "start_time": "2022-09-06T11:21:47.754Z"
   },
   {
    "duration": 467,
    "start_time": "2022-09-06T11:22:48.921Z"
   },
   {
    "duration": 512,
    "start_time": "2022-09-06T11:23:03.787Z"
   },
   {
    "duration": 64,
    "start_time": "2022-09-06T11:23:27.373Z"
   },
   {
    "duration": 61,
    "start_time": "2022-09-06T11:23:30.554Z"
   },
   {
    "duration": 67,
    "start_time": "2022-09-06T11:24:06.740Z"
   },
   {
    "duration": 75,
    "start_time": "2022-09-06T11:24:30.275Z"
   },
   {
    "duration": 117,
    "start_time": "2022-09-06T11:25:42.426Z"
   },
   {
    "duration": 123,
    "start_time": "2022-09-06T11:26:04.551Z"
   },
   {
    "duration": 116,
    "start_time": "2022-09-06T11:26:18.333Z"
   },
   {
    "duration": 114,
    "start_time": "2022-09-06T11:40:35.924Z"
   },
   {
    "duration": 8,
    "start_time": "2022-09-06T12:14:19.420Z"
   },
   {
    "duration": 9,
    "start_time": "2022-09-06T12:14:27.355Z"
   },
   {
    "duration": 545,
    "start_time": "2022-09-06T12:24:41.935Z"
   },
   {
    "duration": 574,
    "start_time": "2022-09-06T12:24:52.228Z"
   },
   {
    "duration": 1283,
    "start_time": "2022-09-06T12:25:42.324Z"
   },
   {
    "duration": 2,
    "start_time": "2022-09-06T12:25:43.609Z"
   },
   {
    "duration": 565,
    "start_time": "2022-09-06T12:25:43.612Z"
   },
   {
    "duration": 112,
    "start_time": "2022-09-06T12:25:44.178Z"
   },
   {
    "duration": 604,
    "start_time": "2022-09-06T12:25:44.292Z"
   },
   {
    "duration": 4,
    "start_time": "2022-09-06T12:25:44.897Z"
   },
   {
    "duration": 20,
    "start_time": "2022-09-06T12:25:44.902Z"
   },
   {
    "duration": 3,
    "start_time": "2022-09-06T12:25:44.923Z"
   },
   {
    "duration": 10,
    "start_time": "2022-09-06T12:25:44.927Z"
   },
   {
    "duration": 5,
    "start_time": "2022-09-06T12:25:44.938Z"
   },
   {
    "duration": 8,
    "start_time": "2022-09-06T12:25:44.944Z"
   },
   {
    "duration": 12,
    "start_time": "2022-09-06T12:25:44.954Z"
   },
   {
    "duration": 63,
    "start_time": "2022-09-06T12:25:44.967Z"
   },
   {
    "duration": 27,
    "start_time": "2022-09-06T12:25:45.033Z"
   },
   {
    "duration": 8,
    "start_time": "2022-09-06T12:25:45.062Z"
   },
   {
    "duration": 14,
    "start_time": "2022-09-06T12:25:45.072Z"
   },
   {
    "duration": 11,
    "start_time": "2022-09-06T12:25:45.088Z"
   },
   {
    "duration": 4,
    "start_time": "2022-09-06T12:36:15.830Z"
   },
   {
    "duration": 1470,
    "start_time": "2022-09-06T12:36:28.243Z"
   },
   {
    "duration": 777,
    "start_time": "2022-09-06T12:36:34.326Z"
   },
   {
    "duration": 603,
    "start_time": "2022-09-06T12:36:40.764Z"
   },
   {
    "duration": 15,
    "start_time": "2022-09-06T12:36:44.129Z"
   },
   {
    "duration": 6,
    "start_time": "2022-09-06T12:36:51.761Z"
   },
   {
    "duration": 1356,
    "start_time": "2022-09-06T12:36:59.035Z"
   },
   {
    "duration": 528,
    "start_time": "2022-09-06T12:37:06.394Z"
   },
   {
    "duration": 109,
    "start_time": "2022-09-06T12:37:09.109Z"
   },
   {
    "duration": 11,
    "start_time": "2022-09-06T12:37:48.137Z"
   },
   {
    "duration": 7,
    "start_time": "2022-09-06T12:38:13.427Z"
   },
   {
    "duration": 571,
    "start_time": "2022-09-06T12:38:45.498Z"
   },
   {
    "duration": 1163,
    "start_time": "2022-09-06T12:39:05.516Z"
   },
   {
    "duration": 0,
    "start_time": "2022-09-06T12:39:06.681Z"
   },
   {
    "duration": 0,
    "start_time": "2022-09-06T12:39:06.682Z"
   },
   {
    "duration": 0,
    "start_time": "2022-09-06T12:39:06.683Z"
   },
   {
    "duration": 0,
    "start_time": "2022-09-06T12:39:06.683Z"
   },
   {
    "duration": 0,
    "start_time": "2022-09-06T12:39:06.684Z"
   },
   {
    "duration": 0,
    "start_time": "2022-09-06T12:39:06.686Z"
   },
   {
    "duration": 0,
    "start_time": "2022-09-06T12:39:06.686Z"
   },
   {
    "duration": 0,
    "start_time": "2022-09-06T12:39:06.687Z"
   },
   {
    "duration": 0,
    "start_time": "2022-09-06T12:39:06.688Z"
   },
   {
    "duration": 0,
    "start_time": "2022-09-06T12:39:06.689Z"
   },
   {
    "duration": 0,
    "start_time": "2022-09-06T12:39:06.689Z"
   },
   {
    "duration": 0,
    "start_time": "2022-09-06T12:39:06.690Z"
   },
   {
    "duration": 0,
    "start_time": "2022-09-06T12:39:06.691Z"
   },
   {
    "duration": 0,
    "start_time": "2022-09-06T12:39:06.692Z"
   },
   {
    "duration": 0,
    "start_time": "2022-09-06T12:39:06.693Z"
   },
   {
    "duration": 0,
    "start_time": "2022-09-06T12:39:06.693Z"
   },
   {
    "duration": 0,
    "start_time": "2022-09-06T12:39:06.695Z"
   },
   {
    "duration": 0,
    "start_time": "2022-09-06T12:39:06.695Z"
   },
   {
    "duration": 248,
    "start_time": "2022-09-06T12:39:25.403Z"
   },
   {
    "duration": 1310,
    "start_time": "2022-09-06T12:39:32.094Z"
   },
   {
    "duration": 3,
    "start_time": "2022-09-06T12:39:33.406Z"
   },
   {
    "duration": 574,
    "start_time": "2022-09-06T12:39:33.410Z"
   },
   {
    "duration": 6,
    "start_time": "2022-09-06T12:39:33.986Z"
   },
   {
    "duration": 11,
    "start_time": "2022-09-06T12:39:33.994Z"
   },
   {
    "duration": 144,
    "start_time": "2022-09-06T12:39:34.009Z"
   },
   {
    "duration": 562,
    "start_time": "2022-09-06T12:39:34.154Z"
   },
   {
    "duration": 3,
    "start_time": "2022-09-06T12:39:34.718Z"
   },
   {
    "duration": 11,
    "start_time": "2022-09-06T12:39:34.723Z"
   },
   {
    "duration": 4,
    "start_time": "2022-09-06T12:39:34.735Z"
   },
   {
    "duration": 7,
    "start_time": "2022-09-06T12:39:34.741Z"
   },
   {
    "duration": 4,
    "start_time": "2022-09-06T12:39:34.750Z"
   },
   {
    "duration": 6,
    "start_time": "2022-09-06T12:39:34.755Z"
   },
   {
    "duration": 2,
    "start_time": "2022-09-06T12:39:34.787Z"
   },
   {
    "duration": 59,
    "start_time": "2022-09-06T12:39:34.791Z"
   },
   {
    "duration": 22,
    "start_time": "2022-09-06T12:39:34.851Z"
   },
   {
    "duration": 11,
    "start_time": "2022-09-06T12:39:34.885Z"
   },
   {
    "duration": 6,
    "start_time": "2022-09-06T12:39:34.897Z"
   },
   {
    "duration": 12,
    "start_time": "2022-09-06T12:39:34.904Z"
   },
   {
    "duration": 7549,
    "start_time": "2022-09-06T12:44:41.787Z"
   },
   {
    "duration": 7717,
    "start_time": "2022-09-06T12:45:00.030Z"
   },
   {
    "duration": 709,
    "start_time": "2022-09-06T12:45:36.132Z"
   },
   {
    "duration": 2,
    "start_time": "2022-09-06T12:59:59.897Z"
   },
   {
    "duration": 26,
    "start_time": "2022-09-06T13:01:27.758Z"
   },
   {
    "duration": 682,
    "start_time": "2022-09-06T13:01:31.620Z"
   },
   {
    "duration": 4,
    "start_time": "2022-09-06T13:01:36.485Z"
   },
   {
    "duration": 17,
    "start_time": "2022-09-06T13:01:38.817Z"
   },
   {
    "duration": 1202,
    "start_time": "2022-09-06T13:02:43.128Z"
   },
   {
    "duration": 13,
    "start_time": "2022-09-06T13:02:47.716Z"
   },
   {
    "duration": 4,
    "start_time": "2022-09-06T13:03:32.963Z"
   },
   {
    "duration": 2116,
    "start_time": "2022-09-06T13:03:50.427Z"
   },
   {
    "duration": 7,
    "start_time": "2022-09-06T13:03:55.320Z"
   },
   {
    "duration": 3,
    "start_time": "2022-09-06T13:04:00.669Z"
   },
   {
    "duration": 32,
    "start_time": "2022-09-06T13:04:01.595Z"
   },
   {
    "duration": 22,
    "start_time": "2022-09-06T13:11:58.473Z"
   },
   {
    "duration": 41,
    "start_time": "2022-09-06T13:13:51.712Z"
   },
   {
    "duration": 34,
    "start_time": "2022-09-06T13:14:29.640Z"
   },
   {
    "duration": 31,
    "start_time": "2022-09-06T13:14:34.428Z"
   },
   {
    "duration": 22,
    "start_time": "2022-09-06T13:14:40.238Z"
   },
   {
    "duration": 23,
    "start_time": "2022-09-06T13:14:46.960Z"
   },
   {
    "duration": 22,
    "start_time": "2022-09-06T13:14:50.992Z"
   },
   {
    "duration": 20,
    "start_time": "2022-09-06T13:15:04.065Z"
   },
   {
    "duration": 3,
    "start_time": "2022-09-06T13:19:57.315Z"
   },
   {
    "duration": 26,
    "start_time": "2022-09-06T13:19:58.600Z"
   },
   {
    "duration": 1415,
    "start_time": "2022-09-06T13:20:01.264Z"
   },
   {
    "duration": 61,
    "start_time": "2022-09-06T13:20:04.565Z"
   },
   {
    "duration": 4,
    "start_time": "2022-09-06T13:20:16.079Z"
   },
   {
    "duration": 18,
    "start_time": "2022-09-06T13:20:17.049Z"
   },
   {
    "duration": 57,
    "start_time": "2022-09-06T13:20:36.226Z"
   },
   {
    "duration": 58,
    "start_time": "2022-09-06T13:20:40.487Z"
   },
   {
    "duration": 18,
    "start_time": "2022-09-06T13:20:43.554Z"
   },
   {
    "duration": 4,
    "start_time": "2022-09-06T13:20:50.167Z"
   },
   {
    "duration": 2,
    "start_time": "2022-09-06T13:20:53.001Z"
   },
   {
    "duration": 55,
    "start_time": "2022-09-06T13:20:54.669Z"
   },
   {
    "duration": 3,
    "start_time": "2022-09-06T13:20:56.375Z"
   },
   {
    "duration": 14,
    "start_time": "2022-09-06T13:20:57.020Z"
   },
   {
    "duration": 30,
    "start_time": "2022-09-06T13:21:12.584Z"
   },
   {
    "duration": 2,
    "start_time": "2022-09-06T13:21:16.703Z"
   },
   {
    "duration": 33,
    "start_time": "2022-09-06T13:21:17.593Z"
   },
   {
    "duration": 1304,
    "start_time": "2022-09-06T13:21:18.562Z"
   },
   {
    "duration": 22,
    "start_time": "2022-09-06T13:21:19.868Z"
   },
   {
    "duration": 7,
    "start_time": "2022-09-06T13:21:24.388Z"
   },
   {
    "duration": 17,
    "start_time": "2022-09-06T13:21:25.240Z"
   },
   {
    "duration": 5394,
    "start_time": "2022-09-06T13:24:22.944Z"
   },
   {
    "duration": 3,
    "start_time": "2022-09-06T13:24:30.765Z"
   },
   {
    "duration": 50,
    "start_time": "2022-09-06T13:24:32.655Z"
   },
   {
    "duration": 18829,
    "start_time": "2022-09-06T13:24:36.741Z"
   },
   {
    "duration": 21,
    "start_time": "2022-09-06T13:25:22.021Z"
   },
   {
    "duration": 7,
    "start_time": "2022-09-06T13:25:23.674Z"
   },
   {
    "duration": 13,
    "start_time": "2022-09-06T13:25:24.826Z"
   },
   {
    "duration": 15,
    "start_time": "2022-09-06T13:26:02.666Z"
   },
   {
    "duration": 13,
    "start_time": "2022-09-06T13:26:48.218Z"
   },
   {
    "duration": 4,
    "start_time": "2022-09-06T13:29:46.519Z"
   },
   {
    "duration": 2,
    "start_time": "2022-09-06T13:29:50.557Z"
   },
   {
    "duration": 54,
    "start_time": "2022-09-06T13:29:51.717Z"
   },
   {
    "duration": 19288,
    "start_time": "2022-09-06T13:29:53.630Z"
   },
   {
    "duration": 31,
    "start_time": "2022-09-06T13:30:20.748Z"
   },
   {
    "duration": 4,
    "start_time": "2022-09-06T13:30:22.720Z"
   },
   {
    "duration": 13,
    "start_time": "2022-09-06T13:30:24.035Z"
   },
   {
    "duration": 10,
    "start_time": "2022-09-06T13:30:27.960Z"
   },
   {
    "duration": 1228,
    "start_time": "2022-09-06T13:30:43.148Z"
   },
   {
    "duration": 0,
    "start_time": "2022-09-06T13:30:44.378Z"
   },
   {
    "duration": 0,
    "start_time": "2022-09-06T13:30:44.379Z"
   },
   {
    "duration": 0,
    "start_time": "2022-09-06T13:30:44.381Z"
   },
   {
    "duration": 0,
    "start_time": "2022-09-06T13:30:44.384Z"
   },
   {
    "duration": 0,
    "start_time": "2022-09-06T13:30:44.385Z"
   },
   {
    "duration": 0,
    "start_time": "2022-09-06T13:30:44.386Z"
   },
   {
    "duration": 0,
    "start_time": "2022-09-06T13:30:44.388Z"
   },
   {
    "duration": 0,
    "start_time": "2022-09-06T13:30:44.389Z"
   },
   {
    "duration": 0,
    "start_time": "2022-09-06T13:30:44.390Z"
   },
   {
    "duration": 0,
    "start_time": "2022-09-06T13:30:44.390Z"
   },
   {
    "duration": 0,
    "start_time": "2022-09-06T13:30:44.392Z"
   },
   {
    "duration": 0,
    "start_time": "2022-09-06T13:30:44.393Z"
   },
   {
    "duration": 0,
    "start_time": "2022-09-06T13:30:44.394Z"
   },
   {
    "duration": 0,
    "start_time": "2022-09-06T13:30:44.397Z"
   },
   {
    "duration": 0,
    "start_time": "2022-09-06T13:30:44.397Z"
   },
   {
    "duration": 0,
    "start_time": "2022-09-06T13:30:44.399Z"
   },
   {
    "duration": 0,
    "start_time": "2022-09-06T13:30:44.400Z"
   },
   {
    "duration": 0,
    "start_time": "2022-09-06T13:30:44.401Z"
   },
   {
    "duration": 0,
    "start_time": "2022-09-06T13:30:44.403Z"
   },
   {
    "duration": 0,
    "start_time": "2022-09-06T13:30:44.404Z"
   },
   {
    "duration": 0,
    "start_time": "2022-09-06T13:30:44.405Z"
   },
   {
    "duration": 1356,
    "start_time": "2022-09-06T13:31:24.359Z"
   },
   {
    "duration": 3,
    "start_time": "2022-09-06T13:31:25.717Z"
   },
   {
    "duration": 609,
    "start_time": "2022-09-06T13:31:25.721Z"
   },
   {
    "duration": 4,
    "start_time": "2022-09-06T13:31:26.332Z"
   },
   {
    "duration": 8,
    "start_time": "2022-09-06T13:31:26.338Z"
   },
   {
    "duration": 87,
    "start_time": "2022-09-06T13:31:26.347Z"
   },
   {
    "duration": 0,
    "start_time": "2022-09-06T13:31:26.436Z"
   },
   {
    "duration": 0,
    "start_time": "2022-09-06T13:31:26.438Z"
   },
   {
    "duration": 0,
    "start_time": "2022-09-06T13:31:26.439Z"
   },
   {
    "duration": 0,
    "start_time": "2022-09-06T13:31:26.441Z"
   },
   {
    "duration": 0,
    "start_time": "2022-09-06T13:31:26.442Z"
   },
   {
    "duration": 0,
    "start_time": "2022-09-06T13:31:26.444Z"
   },
   {
    "duration": 0,
    "start_time": "2022-09-06T13:31:26.445Z"
   },
   {
    "duration": 0,
    "start_time": "2022-09-06T13:31:26.446Z"
   },
   {
    "duration": 0,
    "start_time": "2022-09-06T13:31:26.447Z"
   },
   {
    "duration": 0,
    "start_time": "2022-09-06T13:31:26.448Z"
   },
   {
    "duration": 0,
    "start_time": "2022-09-06T13:31:26.449Z"
   },
   {
    "duration": 0,
    "start_time": "2022-09-06T13:31:26.450Z"
   },
   {
    "duration": 0,
    "start_time": "2022-09-06T13:31:26.451Z"
   },
   {
    "duration": 0,
    "start_time": "2022-09-06T13:31:26.452Z"
   },
   {
    "duration": 0,
    "start_time": "2022-09-06T13:31:26.453Z"
   },
   {
    "duration": 0,
    "start_time": "2022-09-06T13:31:26.454Z"
   },
   {
    "duration": 19,
    "start_time": "2022-09-06T13:32:19.318Z"
   },
   {
    "duration": 3,
    "start_time": "2022-09-06T13:36:10.066Z"
   },
   {
    "duration": 1378,
    "start_time": "2022-09-06T13:36:16.618Z"
   },
   {
    "duration": 2,
    "start_time": "2022-09-06T13:36:17.998Z"
   },
   {
    "duration": 671,
    "start_time": "2022-09-06T13:36:18.002Z"
   },
   {
    "duration": 13,
    "start_time": "2022-09-06T13:36:18.675Z"
   },
   {
    "duration": 10,
    "start_time": "2022-09-06T13:36:18.689Z"
   },
   {
    "duration": 148,
    "start_time": "2022-09-06T13:36:18.700Z"
   },
   {
    "duration": 636,
    "start_time": "2022-09-06T13:36:18.850Z"
   },
   {
    "duration": 4,
    "start_time": "2022-09-06T13:36:19.488Z"
   },
   {
    "duration": 15,
    "start_time": "2022-09-06T13:36:19.494Z"
   },
   {
    "duration": 4,
    "start_time": "2022-09-06T13:36:19.511Z"
   },
   {
    "duration": 17,
    "start_time": "2022-09-06T13:36:19.516Z"
   },
   {
    "duration": 11,
    "start_time": "2022-09-06T13:36:19.534Z"
   },
   {
    "duration": 9,
    "start_time": "2022-09-06T13:36:19.547Z"
   },
   {
    "duration": 29,
    "start_time": "2022-09-06T13:36:19.558Z"
   },
   {
    "duration": 12,
    "start_time": "2022-09-06T13:36:19.589Z"
   },
   {
    "duration": 41,
    "start_time": "2022-09-06T13:36:19.603Z"
   },
   {
    "duration": 14228,
    "start_time": "2022-09-06T13:36:19.646Z"
   },
   {
    "duration": 29,
    "start_time": "2022-09-06T13:36:33.876Z"
   },
   {
    "duration": 4,
    "start_time": "2022-09-06T13:36:33.906Z"
   },
   {
    "duration": 23,
    "start_time": "2022-09-06T13:36:33.912Z"
   },
   {
    "duration": 24,
    "start_time": "2022-09-06T13:36:33.936Z"
   },
   {
    "duration": 5,
    "start_time": "2022-09-06T13:37:35.017Z"
   },
   {
    "duration": 4,
    "start_time": "2022-09-06T13:37:36.095Z"
   },
   {
    "duration": 7,
    "start_time": "2022-09-06T13:37:37.097Z"
   },
   {
    "duration": 5,
    "start_time": "2022-09-06T13:37:38.838Z"
   },
   {
    "duration": 5,
    "start_time": "2022-09-06T13:37:40.552Z"
   },
   {
    "duration": 2,
    "start_time": "2022-09-06T13:37:42.422Z"
   },
   {
    "duration": 57,
    "start_time": "2022-09-06T13:37:43.533Z"
   },
   {
    "duration": 4,
    "start_time": "2022-09-06T13:37:46.318Z"
   },
   {
    "duration": 15,
    "start_time": "2022-09-06T13:37:47.338Z"
   },
   {
    "duration": 4,
    "start_time": "2022-09-06T13:37:57.827Z"
   },
   {
    "duration": 3,
    "start_time": "2022-09-06T13:37:59.467Z"
   },
   {
    "duration": 652,
    "start_time": "2022-09-06T13:38:01.195Z"
   },
   {
    "duration": 5,
    "start_time": "2022-09-06T13:38:07.801Z"
   },
   {
    "duration": 9,
    "start_time": "2022-09-06T13:38:09.009Z"
   },
   {
    "duration": 122,
    "start_time": "2022-09-06T13:38:10.937Z"
   },
   {
    "duration": 520,
    "start_time": "2022-09-06T13:38:13.356Z"
   },
   {
    "duration": 4,
    "start_time": "2022-09-06T13:38:17.003Z"
   },
   {
    "duration": 10,
    "start_time": "2022-09-06T13:38:17.921Z"
   },
   {
    "duration": 5,
    "start_time": "2022-09-06T13:38:21.126Z"
   },
   {
    "duration": 3,
    "start_time": "2022-09-06T13:38:22.857Z"
   },
   {
    "duration": 10,
    "start_time": "2022-09-06T13:38:24.101Z"
   },
   {
    "duration": 5,
    "start_time": "2022-09-06T13:38:26.362Z"
   },
   {
    "duration": 109,
    "start_time": "2022-09-06T13:38:51.069Z"
   },
   {
    "duration": 7,
    "start_time": "2022-09-06T13:39:04.117Z"
   },
   {
    "duration": 12,
    "start_time": "2022-09-06T13:39:27.191Z"
   },
   {
    "duration": 159,
    "start_time": "2022-09-06T13:39:33.992Z"
   },
   {
    "duration": 3,
    "start_time": "2022-09-06T13:39:36.874Z"
   },
   {
    "duration": 10,
    "start_time": "2022-09-06T13:39:37.662Z"
   },
   {
    "duration": 1355,
    "start_time": "2022-09-06T13:39:44.093Z"
   },
   {
    "duration": 3,
    "start_time": "2022-09-06T13:39:45.450Z"
   },
   {
    "duration": 615,
    "start_time": "2022-09-06T13:39:45.454Z"
   },
   {
    "duration": 5,
    "start_time": "2022-09-06T13:39:46.071Z"
   },
   {
    "duration": 7,
    "start_time": "2022-09-06T13:39:46.085Z"
   },
   {
    "duration": 147,
    "start_time": "2022-09-06T13:39:46.094Z"
   },
   {
    "duration": 575,
    "start_time": "2022-09-06T13:39:46.243Z"
   },
   {
    "duration": 4,
    "start_time": "2022-09-06T13:39:46.821Z"
   },
   {
    "duration": 12,
    "start_time": "2022-09-06T13:39:46.827Z"
   },
   {
    "duration": 4,
    "start_time": "2022-09-06T13:39:46.841Z"
   },
   {
    "duration": 6,
    "start_time": "2022-09-06T13:39:46.846Z"
   },
   {
    "duration": 10,
    "start_time": "2022-09-06T13:39:46.854Z"
   },
   {
    "duration": 5,
    "start_time": "2022-09-06T13:39:46.884Z"
   },
   {
    "duration": 3,
    "start_time": "2022-09-06T13:39:46.892Z"
   },
   {
    "duration": 6,
    "start_time": "2022-09-06T13:39:46.897Z"
   },
   {
    "duration": 22,
    "start_time": "2022-09-06T13:39:46.905Z"
   },
   {
    "duration": 39,
    "start_time": "2022-09-06T13:39:46.929Z"
   },
   {
    "duration": 13509,
    "start_time": "2022-09-06T13:39:46.970Z"
   },
   {
    "duration": 29,
    "start_time": "2022-09-06T13:40:00.480Z"
   },
   {
    "duration": 4,
    "start_time": "2022-09-06T13:40:00.511Z"
   },
   {
    "duration": 18,
    "start_time": "2022-09-06T13:40:00.516Z"
   },
   {
    "duration": 14,
    "start_time": "2022-09-06T13:40:00.536Z"
   },
   {
    "duration": 52,
    "start_time": "2022-09-06T13:40:30.646Z"
   },
   {
    "duration": 4,
    "start_time": "2022-09-06T13:40:33.033Z"
   },
   {
    "duration": 3,
    "start_time": "2022-09-06T13:40:36.254Z"
   },
   {
    "duration": 4,
    "start_time": "2022-09-06T13:40:43.543Z"
   },
   {
    "duration": 28,
    "start_time": "2022-09-06T13:40:46.790Z"
   },
   {
    "duration": 3,
    "start_time": "2022-09-06T13:40:48.400Z"
   },
   {
    "duration": 5,
    "start_time": "2022-09-06T13:41:04.499Z"
   },
   {
    "duration": 2,
    "start_time": "2022-09-06T13:41:07.395Z"
   },
   {
    "duration": 102,
    "start_time": "2022-09-06T13:41:08.924Z"
   },
   {
    "duration": 4,
    "start_time": "2022-09-06T13:42:00.297Z"
   },
   {
    "duration": 13,
    "start_time": "2022-09-06T13:42:02.958Z"
   },
   {
    "duration": 39,
    "start_time": "2022-09-06T13:42:05.140Z"
   },
   {
    "duration": 5,
    "start_time": "2022-09-06T13:42:08.119Z"
   },
   {
    "duration": 1289,
    "start_time": "2022-09-06T13:43:49.815Z"
   },
   {
    "duration": 3,
    "start_time": "2022-09-06T13:43:51.106Z"
   },
   {
    "duration": 664,
    "start_time": "2022-09-06T13:43:51.111Z"
   },
   {
    "duration": 13,
    "start_time": "2022-09-06T13:43:51.777Z"
   },
   {
    "duration": 12,
    "start_time": "2022-09-06T13:43:51.793Z"
   },
   {
    "duration": 141,
    "start_time": "2022-09-06T13:43:51.807Z"
   },
   {
    "duration": 630,
    "start_time": "2022-09-06T13:43:51.950Z"
   },
   {
    "duration": 4,
    "start_time": "2022-09-06T13:43:52.581Z"
   },
   {
    "duration": 12,
    "start_time": "2022-09-06T13:43:52.586Z"
   },
   {
    "duration": 3,
    "start_time": "2022-09-06T13:43:52.600Z"
   },
   {
    "duration": 4,
    "start_time": "2022-09-06T13:43:52.605Z"
   },
   {
    "duration": 12,
    "start_time": "2022-09-06T13:43:52.611Z"
   },
   {
    "duration": 6,
    "start_time": "2022-09-06T13:43:52.625Z"
   },
   {
    "duration": 8,
    "start_time": "2022-09-06T13:43:52.633Z"
   },
   {
    "duration": 42,
    "start_time": "2022-09-06T13:43:52.643Z"
   },
   {
    "duration": 11,
    "start_time": "2022-09-06T13:43:52.687Z"
   },
   {
    "duration": 38,
    "start_time": "2022-09-06T13:43:52.699Z"
   },
   {
    "duration": 13869,
    "start_time": "2022-09-06T13:43:52.739Z"
   },
   {
    "duration": 27,
    "start_time": "2022-09-06T13:44:06.610Z"
   },
   {
    "duration": 4,
    "start_time": "2022-09-06T13:44:06.639Z"
   },
   {
    "duration": 20,
    "start_time": "2022-09-06T13:44:06.645Z"
   },
   {
    "duration": 24,
    "start_time": "2022-09-06T13:44:06.667Z"
   },
   {
    "duration": 3,
    "start_time": "2022-09-06T13:44:24.694Z"
   },
   {
    "duration": 3,
    "start_time": "2022-09-06T13:44:30.956Z"
   },
   {
    "duration": 8,
    "start_time": "2022-09-06T13:44:31.893Z"
   },
   {
    "duration": 4,
    "start_time": "2022-09-06T13:44:34.244Z"
   },
   {
    "duration": 3,
    "start_time": "2022-09-06T13:44:37.220Z"
   },
   {
    "duration": 3,
    "start_time": "2022-09-06T13:44:41.660Z"
   },
   {
    "duration": 16,
    "start_time": "2022-09-06T13:44:43.392Z"
   },
   {
    "duration": 56,
    "start_time": "2022-09-06T13:44:45.548Z"
   },
   {
    "duration": 5,
    "start_time": "2022-09-06T13:44:49.092Z"
   },
   {
    "duration": 4,
    "start_time": "2022-09-06T13:45:19.960Z"
   },
   {
    "duration": 3,
    "start_time": "2022-09-06T13:45:23.333Z"
   },
   {
    "duration": 9,
    "start_time": "2022-09-06T13:45:26.037Z"
   },
   {
    "duration": 6,
    "start_time": "2022-09-06T13:45:31.118Z"
   },
   {
    "duration": 4,
    "start_time": "2022-09-06T13:45:32.364Z"
   },
   {
    "duration": 3,
    "start_time": "2022-09-06T13:45:34.521Z"
   },
   {
    "duration": 12,
    "start_time": "2022-09-06T13:45:35.850Z"
   },
   {
    "duration": 53,
    "start_time": "2022-09-06T13:45:38.236Z"
   },
   {
    "duration": 6,
    "start_time": "2022-09-06T13:45:40.415Z"
   },
   {
    "duration": 12,
    "start_time": "2022-09-06T13:46:21.247Z"
   },
   {
    "duration": 6,
    "start_time": "2022-09-06T13:46:38.320Z"
   },
   {
    "duration": 16,
    "start_time": "2022-09-06T13:46:39.696Z"
   },
   {
    "duration": 1304,
    "start_time": "2022-09-06T13:46:48.457Z"
   },
   {
    "duration": 2,
    "start_time": "2022-09-06T13:46:49.763Z"
   },
   {
    "duration": 619,
    "start_time": "2022-09-06T13:46:49.767Z"
   },
   {
    "duration": 5,
    "start_time": "2022-09-06T13:46:50.388Z"
   },
   {
    "duration": 18,
    "start_time": "2022-09-06T13:46:50.395Z"
   },
   {
    "duration": 135,
    "start_time": "2022-09-06T13:46:50.415Z"
   },
   {
    "duration": 592,
    "start_time": "2022-09-06T13:46:50.552Z"
   },
   {
    "duration": 3,
    "start_time": "2022-09-06T13:46:51.146Z"
   },
   {
    "duration": 12,
    "start_time": "2022-09-06T13:46:51.151Z"
   },
   {
    "duration": 3,
    "start_time": "2022-09-06T13:46:51.166Z"
   },
   {
    "duration": 3,
    "start_time": "2022-09-06T13:46:51.185Z"
   },
   {
    "duration": 13,
    "start_time": "2022-09-06T13:46:51.190Z"
   },
   {
    "duration": 6,
    "start_time": "2022-09-06T13:46:51.205Z"
   },
   {
    "duration": 5,
    "start_time": "2022-09-06T13:46:51.213Z"
   },
   {
    "duration": 7,
    "start_time": "2022-09-06T13:46:51.220Z"
   },
   {
    "duration": 21,
    "start_time": "2022-09-06T13:46:51.229Z"
   },
   {
    "duration": 93,
    "start_time": "2022-09-06T13:46:51.252Z"
   },
   {
    "duration": 15736,
    "start_time": "2022-09-06T13:46:51.347Z"
   },
   {
    "duration": 20,
    "start_time": "2022-09-06T13:47:07.085Z"
   },
   {
    "duration": 4,
    "start_time": "2022-09-06T13:47:07.106Z"
   },
   {
    "duration": 13,
    "start_time": "2022-09-06T13:47:07.112Z"
   },
   {
    "duration": 11,
    "start_time": "2022-09-06T13:47:07.127Z"
   },
   {
    "duration": 2,
    "start_time": "2022-09-06T14:01:50.054Z"
   },
   {
    "duration": 35,
    "start_time": "2022-09-06T14:01:52.148Z"
   },
   {
    "duration": 2,
    "start_time": "2022-09-06T14:02:35.518Z"
   },
   {
    "duration": 38,
    "start_time": "2022-09-06T14:02:37.065Z"
   },
   {
    "duration": 11594,
    "start_time": "2022-09-06T14:03:57.078Z"
   },
   {
    "duration": 20,
    "start_time": "2022-09-06T14:05:07.724Z"
   },
   {
    "duration": 3,
    "start_time": "2022-09-06T14:05:09.082Z"
   },
   {
    "duration": 12,
    "start_time": "2022-09-06T14:05:10.156Z"
   },
   {
    "duration": 10,
    "start_time": "2022-09-06T14:05:19.130Z"
   },
   {
    "duration": 99,
    "start_time": "2022-09-06T14:06:43.480Z"
   },
   {
    "duration": 9,
    "start_time": "2022-09-06T14:06:50.948Z"
   },
   {
    "duration": 3,
    "start_time": "2022-09-06T14:07:08.521Z"
   },
   {
    "duration": 12,
    "start_time": "2022-09-06T14:07:19.228Z"
   },
   {
    "duration": 7,
    "start_time": "2022-09-06T14:07:28.604Z"
   },
   {
    "duration": 9,
    "start_time": "2022-09-06T14:07:39.359Z"
   },
   {
    "duration": 8,
    "start_time": "2022-09-06T14:07:42.268Z"
   },
   {
    "duration": 9,
    "start_time": "2022-09-06T14:07:48.148Z"
   },
   {
    "duration": 11,
    "start_time": "2022-09-06T14:07:53.744Z"
   },
   {
    "duration": 10,
    "start_time": "2022-09-06T14:07:58.208Z"
   },
   {
    "duration": 2,
    "start_time": "2022-09-06T14:08:16.229Z"
   },
   {
    "duration": 51,
    "start_time": "2022-09-06T14:08:18.140Z"
   },
   {
    "duration": 10505,
    "start_time": "2022-09-06T14:08:19.890Z"
   },
   {
    "duration": 4,
    "start_time": "2022-09-06T14:09:29.431Z"
   },
   {
    "duration": 11,
    "start_time": "2022-09-06T14:09:30.530Z"
   },
   {
    "duration": 10,
    "start_time": "2022-09-06T14:09:33.044Z"
   },
   {
    "duration": 19417,
    "start_time": "2022-09-06T14:09:54.804Z"
   },
   {
    "duration": 2,
    "start_time": "2022-09-06T14:10:16.680Z"
   },
   {
    "duration": 31409,
    "start_time": "2022-09-06T14:10:18.924Z"
   },
   {
    "duration": 4,
    "start_time": "2022-09-06T14:10:54.118Z"
   },
   {
    "duration": 13,
    "start_time": "2022-09-06T14:10:55.356Z"
   },
   {
    "duration": 14,
    "start_time": "2022-09-06T14:10:58.784Z"
   },
   {
    "duration": 14,
    "start_time": "2022-09-06T14:11:36.661Z"
   },
   {
    "duration": 3,
    "start_time": "2022-09-06T14:12:08.125Z"
   },
   {
    "duration": 16413,
    "start_time": "2022-09-06T14:12:10.077Z"
   },
   {
    "duration": 3,
    "start_time": "2022-09-06T14:14:41.051Z"
   },
   {
    "duration": 14,
    "start_time": "2022-09-06T14:14:41.933Z"
   },
   {
    "duration": 10,
    "start_time": "2022-09-06T14:14:46.445Z"
   },
   {
    "duration": 8,
    "start_time": "2022-09-06T14:14:49.101Z"
   },
   {
    "duration": 3,
    "start_time": "2022-09-06T14:17:39.422Z"
   },
   {
    "duration": 4,
    "start_time": "2022-09-06T14:17:49.891Z"
   },
   {
    "duration": 4,
    "start_time": "2022-09-06T14:17:54.187Z"
   },
   {
    "duration": 2,
    "start_time": "2022-09-06T14:18:48.621Z"
   },
   {
    "duration": 47,
    "start_time": "2022-09-06T14:18:50.763Z"
   },
   {
    "duration": 21197,
    "start_time": "2022-09-06T14:18:58.819Z"
   },
   {
    "duration": 21,
    "start_time": "2022-09-06T14:19:41.336Z"
   },
   {
    "duration": 4,
    "start_time": "2022-09-06T14:19:44.964Z"
   },
   {
    "duration": 11,
    "start_time": "2022-09-06T14:19:46.083Z"
   },
   {
    "duration": 9,
    "start_time": "2022-09-06T14:19:53.558Z"
   },
   {
    "duration": 9,
    "start_time": "2022-09-06T14:19:55.688Z"
   },
   {
    "duration": 8,
    "start_time": "2022-09-06T14:20:14.370Z"
   },
   {
    "duration": 15,
    "start_time": "2022-09-06T14:20:22.892Z"
   },
   {
    "duration": 13,
    "start_time": "2022-09-06T14:20:31.160Z"
   },
   {
    "duration": 9,
    "start_time": "2022-09-06T14:20:42.570Z"
   },
   {
    "duration": 2,
    "start_time": "2022-09-06T14:22:07.239Z"
   },
   {
    "duration": 4948,
    "start_time": "2022-09-06T14:22:08.386Z"
   },
   {
    "duration": 7,
    "start_time": "2022-09-06T14:22:22.697Z"
   },
   {
    "duration": 15,
    "start_time": "2022-09-06T14:22:39.744Z"
   },
   {
    "duration": 11,
    "start_time": "2022-09-06T14:24:31.759Z"
   },
   {
    "duration": 12,
    "start_time": "2022-09-06T14:25:14.523Z"
   },
   {
    "duration": 11,
    "start_time": "2022-09-06T14:35:51.120Z"
   },
   {
    "duration": 3,
    "start_time": "2022-09-06T14:48:06.722Z"
   },
   {
    "duration": 12,
    "start_time": "2022-09-06T14:48:08.104Z"
   },
   {
    "duration": 3,
    "start_time": "2022-09-06T14:49:09.920Z"
   },
   {
    "duration": 18493,
    "start_time": "2022-09-06T14:49:16.804Z"
   },
   {
    "duration": 4,
    "start_time": "2022-09-06T14:49:47.155Z"
   },
   {
    "duration": 10,
    "start_time": "2022-09-06T14:49:48.478Z"
   },
   {
    "duration": 2,
    "start_time": "2022-09-06T14:50:07.364Z"
   },
   {
    "duration": 48,
    "start_time": "2022-09-06T14:50:09.717Z"
   },
   {
    "duration": 18602,
    "start_time": "2022-09-06T14:50:29.820Z"
   },
   {
    "duration": 20,
    "start_time": "2022-09-06T14:50:53.292Z"
   },
   {
    "duration": 4,
    "start_time": "2022-09-06T14:50:54.718Z"
   },
   {
    "duration": 12,
    "start_time": "2022-09-06T14:50:56.580Z"
   },
   {
    "duration": 3,
    "start_time": "2022-09-06T15:01:22.423Z"
   },
   {
    "duration": 4,
    "start_time": "2022-09-06T15:01:26.915Z"
   },
   {
    "duration": 1313,
    "start_time": "2022-09-06T15:02:13.600Z"
   },
   {
    "duration": 3,
    "start_time": "2022-09-06T15:02:14.914Z"
   },
   {
    "duration": 603,
    "start_time": "2022-09-06T15:02:14.919Z"
   },
   {
    "duration": 5,
    "start_time": "2022-09-06T15:02:15.523Z"
   },
   {
    "duration": 9,
    "start_time": "2022-09-06T15:02:15.529Z"
   },
   {
    "duration": 130,
    "start_time": "2022-09-06T15:02:15.539Z"
   },
   {
    "duration": 544,
    "start_time": "2022-09-06T15:02:15.671Z"
   },
   {
    "duration": 4,
    "start_time": "2022-09-06T15:02:16.216Z"
   },
   {
    "duration": 12,
    "start_time": "2022-09-06T15:02:16.221Z"
   },
   {
    "duration": 3,
    "start_time": "2022-09-06T15:02:16.235Z"
   },
   {
    "duration": 6,
    "start_time": "2022-09-06T15:02:16.239Z"
   },
   {
    "duration": 10,
    "start_time": "2022-09-06T15:02:16.246Z"
   },
   {
    "duration": 4,
    "start_time": "2022-09-06T15:02:16.258Z"
   },
   {
    "duration": 25,
    "start_time": "2022-09-06T15:02:16.263Z"
   },
   {
    "duration": 5,
    "start_time": "2022-09-06T15:02:16.290Z"
   },
   {
    "duration": 56,
    "start_time": "2022-09-06T15:02:16.296Z"
   },
   {
    "duration": 18983,
    "start_time": "2022-09-06T15:02:16.354Z"
   },
   {
    "duration": 18,
    "start_time": "2022-09-06T15:02:35.339Z"
   },
   {
    "duration": 4,
    "start_time": "2022-09-06T15:02:35.358Z"
   },
   {
    "duration": 24,
    "start_time": "2022-09-06T15:02:35.363Z"
   },
   {
    "duration": 9,
    "start_time": "2022-09-06T15:02:35.389Z"
   },
   {
    "duration": 5,
    "start_time": "2022-09-06T15:02:35.399Z"
   },
   {
    "duration": 6,
    "start_time": "2022-09-06T15:02:35.405Z"
   },
   {
    "duration": 5102,
    "start_time": "2022-09-06T15:02:35.412Z"
   },
   {
    "duration": 17,
    "start_time": "2022-09-06T15:02:40.516Z"
   },
   {
    "duration": 1219,
    "start_time": "2022-09-06T15:03:12.641Z"
   },
   {
    "duration": 3,
    "start_time": "2022-09-06T15:03:13.862Z"
   },
   {
    "duration": 696,
    "start_time": "2022-09-06T15:03:13.866Z"
   },
   {
    "duration": 6,
    "start_time": "2022-09-06T15:03:14.565Z"
   },
   {
    "duration": 20,
    "start_time": "2022-09-06T15:03:14.573Z"
   },
   {
    "duration": 137,
    "start_time": "2022-09-06T15:03:14.595Z"
   },
   {
    "duration": 559,
    "start_time": "2022-09-06T15:03:14.733Z"
   },
   {
    "duration": 4,
    "start_time": "2022-09-06T15:03:15.293Z"
   },
   {
    "duration": 13,
    "start_time": "2022-09-06T15:03:15.298Z"
   },
   {
    "duration": 3,
    "start_time": "2022-09-06T15:03:15.315Z"
   },
   {
    "duration": 11,
    "start_time": "2022-09-06T15:03:15.319Z"
   },
   {
    "duration": 18,
    "start_time": "2022-09-06T15:03:15.332Z"
   },
   {
    "duration": 6,
    "start_time": "2022-09-06T15:03:15.351Z"
   },
   {
    "duration": 7,
    "start_time": "2022-09-06T15:03:15.358Z"
   },
   {
    "duration": 9,
    "start_time": "2022-09-06T15:03:15.367Z"
   },
   {
    "duration": 54,
    "start_time": "2022-09-06T15:03:15.384Z"
   },
   {
    "duration": 18444,
    "start_time": "2022-09-06T15:03:15.439Z"
   },
   {
    "duration": 17,
    "start_time": "2022-09-06T15:03:33.884Z"
   },
   {
    "duration": 3,
    "start_time": "2022-09-06T15:03:33.903Z"
   },
   {
    "duration": 20,
    "start_time": "2022-09-06T15:03:33.907Z"
   },
   {
    "duration": 14,
    "start_time": "2022-09-06T15:03:33.929Z"
   },
   {
    "duration": 16,
    "start_time": "2022-09-06T15:03:33.944Z"
   },
   {
    "duration": 6,
    "start_time": "2022-09-06T15:03:33.962Z"
   },
   {
    "duration": 5120,
    "start_time": "2022-09-06T15:03:33.970Z"
   },
   {
    "duration": 15,
    "start_time": "2022-09-06T15:03:39.092Z"
   },
   {
    "duration": 1322,
    "start_time": "2022-09-06T15:11:41.450Z"
   },
   {
    "duration": 2,
    "start_time": "2022-09-06T15:11:42.775Z"
   },
   {
    "duration": 742,
    "start_time": "2022-09-06T15:11:42.785Z"
   },
   {
    "duration": 5,
    "start_time": "2022-09-06T15:11:43.529Z"
   },
   {
    "duration": 11,
    "start_time": "2022-09-06T15:11:43.535Z"
   },
   {
    "duration": 128,
    "start_time": "2022-09-06T15:11:43.547Z"
   },
   {
    "duration": 580,
    "start_time": "2022-09-06T15:11:43.677Z"
   },
   {
    "duration": 4,
    "start_time": "2022-09-06T15:11:44.258Z"
   },
   {
    "duration": 19,
    "start_time": "2022-09-06T15:11:44.263Z"
   },
   {
    "duration": 3,
    "start_time": "2022-09-06T15:11:44.284Z"
   },
   {
    "duration": 14,
    "start_time": "2022-09-06T15:11:44.288Z"
   },
   {
    "duration": 8,
    "start_time": "2022-09-06T15:11:44.303Z"
   },
   {
    "duration": 6,
    "start_time": "2022-09-06T15:11:44.312Z"
   },
   {
    "duration": 11,
    "start_time": "2022-09-06T15:11:44.319Z"
   },
   {
    "duration": 10,
    "start_time": "2022-09-06T15:11:44.331Z"
   },
   {
    "duration": 58,
    "start_time": "2022-09-06T15:11:44.342Z"
   },
   {
    "duration": 18555,
    "start_time": "2022-09-06T15:11:44.402Z"
   },
   {
    "duration": 27,
    "start_time": "2022-09-06T15:12:02.958Z"
   },
   {
    "duration": 4,
    "start_time": "2022-09-06T15:12:02.987Z"
   },
   {
    "duration": 15,
    "start_time": "2022-09-06T15:12:02.992Z"
   },
   {
    "duration": 3,
    "start_time": "2022-09-06T15:12:03.009Z"
   },
   {
    "duration": 5049,
    "start_time": "2022-09-06T15:12:03.014Z"
   },
   {
    "duration": 20,
    "start_time": "2022-09-06T15:12:08.065Z"
   },
   {
    "duration": 2,
    "start_time": "2022-09-06T15:17:31.233Z"
   },
   {
    "duration": 3,
    "start_time": "2022-09-06T15:17:48.537Z"
   },
   {
    "duration": 3,
    "start_time": "2022-09-06T15:20:15.336Z"
   },
   {
    "duration": 37,
    "start_time": "2022-09-06T15:20:16.571Z"
   },
   {
    "duration": 876,
    "start_time": "2022-09-06T15:20:18.896Z"
   },
   {
    "duration": 9,
    "start_time": "2022-09-06T15:20:21.617Z"
   },
   {
    "duration": 895,
    "start_time": "2022-09-06T15:20:42.943Z"
   },
   {
    "duration": 10,
    "start_time": "2022-09-06T15:20:45.783Z"
   },
   {
    "duration": 10,
    "start_time": "2022-09-06T15:31:06.608Z"
   },
   {
    "duration": 3,
    "start_time": "2022-09-06T15:32:23.594Z"
   },
   {
    "duration": 718,
    "start_time": "2022-09-06T15:35:13.231Z"
   },
   {
    "duration": 769,
    "start_time": "2022-09-06T15:35:31.326Z"
   },
   {
    "duration": 12,
    "start_time": "2022-09-06T15:36:44.925Z"
   },
   {
    "duration": 11,
    "start_time": "2022-09-06T15:37:21.919Z"
   },
   {
    "duration": 10,
    "start_time": "2022-09-06T15:37:45.390Z"
   },
   {
    "duration": 582,
    "start_time": "2022-09-06T15:37:55.504Z"
   },
   {
    "duration": 1314,
    "start_time": "2022-09-06T15:38:03.302Z"
   },
   {
    "duration": 11,
    "start_time": "2022-09-06T15:39:11.044Z"
   },
   {
    "duration": 10,
    "start_time": "2022-09-06T15:39:13.742Z"
   },
   {
    "duration": 9,
    "start_time": "2022-09-06T15:39:14.846Z"
   },
   {
    "duration": 10,
    "start_time": "2022-09-06T15:39:21.261Z"
   },
   {
    "duration": 668,
    "start_time": "2022-09-06T15:39:29.735Z"
   },
   {
    "duration": 11,
    "start_time": "2022-09-06T15:40:11.570Z"
   },
   {
    "duration": 11,
    "start_time": "2022-09-06T15:40:23.908Z"
   },
   {
    "duration": 14,
    "start_time": "2022-09-06T15:40:47.305Z"
   },
   {
    "duration": 13,
    "start_time": "2022-09-06T15:41:01.189Z"
   },
   {
    "duration": 6,
    "start_time": "2022-09-06T15:42:08.219Z"
   },
   {
    "duration": 4,
    "start_time": "2022-09-06T15:42:11.702Z"
   },
   {
    "duration": 16,
    "start_time": "2022-09-06T15:42:14.518Z"
   },
   {
    "duration": 7,
    "start_time": "2022-09-06T15:42:31.827Z"
   },
   {
    "duration": 3,
    "start_time": "2022-09-06T15:42:34.640Z"
   },
   {
    "duration": 35,
    "start_time": "2022-09-06T15:42:35.796Z"
   },
   {
    "duration": 934,
    "start_time": "2022-09-06T15:42:38.171Z"
   },
   {
    "duration": 5,
    "start_time": "2022-09-06T15:42:41.846Z"
   },
   {
    "duration": 10,
    "start_time": "2022-09-06T15:42:43.896Z"
   },
   {
    "duration": 1440,
    "start_time": "2022-09-06T15:43:25.604Z"
   },
   {
    "duration": 3,
    "start_time": "2022-09-06T15:43:27.046Z"
   },
   {
    "duration": 658,
    "start_time": "2022-09-06T15:43:27.050Z"
   },
   {
    "duration": 5,
    "start_time": "2022-09-06T15:43:27.710Z"
   },
   {
    "duration": 18,
    "start_time": "2022-09-06T15:43:27.717Z"
   },
   {
    "duration": 122,
    "start_time": "2022-09-06T15:43:27.736Z"
   },
   {
    "duration": 603,
    "start_time": "2022-09-06T15:43:27.860Z"
   },
   {
    "duration": 3,
    "start_time": "2022-09-06T15:43:28.465Z"
   },
   {
    "duration": 20,
    "start_time": "2022-09-06T15:43:28.470Z"
   },
   {
    "duration": 4,
    "start_time": "2022-09-06T15:43:28.492Z"
   },
   {
    "duration": 11,
    "start_time": "2022-09-06T15:43:28.498Z"
   },
   {
    "duration": 8,
    "start_time": "2022-09-06T15:43:28.511Z"
   },
   {
    "duration": 7,
    "start_time": "2022-09-06T15:43:28.521Z"
   },
   {
    "duration": 4,
    "start_time": "2022-09-06T15:43:28.530Z"
   },
   {
    "duration": 5,
    "start_time": "2022-09-06T15:43:28.535Z"
   },
   {
    "duration": 66,
    "start_time": "2022-09-06T15:43:28.542Z"
   },
   {
    "duration": 19664,
    "start_time": "2022-09-06T15:43:28.610Z"
   },
   {
    "duration": 26,
    "start_time": "2022-09-06T15:43:48.275Z"
   },
   {
    "duration": 4,
    "start_time": "2022-09-06T15:43:48.302Z"
   },
   {
    "duration": 19,
    "start_time": "2022-09-06T15:43:48.307Z"
   },
   {
    "duration": 3,
    "start_time": "2022-09-06T15:43:48.327Z"
   },
   {
    "duration": 36,
    "start_time": "2022-09-06T15:43:48.331Z"
   },
   {
    "duration": 913,
    "start_time": "2022-09-06T15:43:48.368Z"
   },
   {
    "duration": 16,
    "start_time": "2022-09-06T15:43:49.283Z"
   },
   {
    "duration": 15,
    "start_time": "2022-09-06T15:43:49.301Z"
   },
   {
    "duration": 11,
    "start_time": "2022-09-06T15:43:49.317Z"
   },
   {
    "duration": 1282,
    "start_time": "2022-09-06T15:44:39.723Z"
   },
   {
    "duration": 2,
    "start_time": "2022-09-06T15:44:41.007Z"
   },
   {
    "duration": 639,
    "start_time": "2022-09-06T15:44:41.011Z"
   },
   {
    "duration": 5,
    "start_time": "2022-09-06T15:44:41.652Z"
   },
   {
    "duration": 19,
    "start_time": "2022-09-06T15:44:41.658Z"
   },
   {
    "duration": 126,
    "start_time": "2022-09-06T15:44:41.684Z"
   },
   {
    "duration": 658,
    "start_time": "2022-09-06T15:44:41.812Z"
   },
   {
    "duration": 17,
    "start_time": "2022-09-06T15:44:42.472Z"
   },
   {
    "duration": 23,
    "start_time": "2022-09-06T15:44:42.495Z"
   },
   {
    "duration": 4,
    "start_time": "2022-09-06T15:44:42.520Z"
   },
   {
    "duration": 10,
    "start_time": "2022-09-06T15:44:42.525Z"
   },
   {
    "duration": 15,
    "start_time": "2022-09-06T15:44:42.536Z"
   },
   {
    "duration": 4,
    "start_time": "2022-09-06T15:44:42.553Z"
   },
   {
    "duration": 6,
    "start_time": "2022-09-06T15:44:42.558Z"
   },
   {
    "duration": 4,
    "start_time": "2022-09-06T15:44:42.566Z"
   },
   {
    "duration": 56,
    "start_time": "2022-09-06T15:44:42.572Z"
   },
   {
    "duration": 18972,
    "start_time": "2022-09-06T15:44:42.630Z"
   },
   {
    "duration": 22,
    "start_time": "2022-09-06T15:45:01.604Z"
   },
   {
    "duration": 22,
    "start_time": "2022-09-06T15:45:01.628Z"
   },
   {
    "duration": 31,
    "start_time": "2022-09-06T15:45:01.651Z"
   },
   {
    "duration": 27,
    "start_time": "2022-09-06T15:45:01.685Z"
   },
   {
    "duration": 127,
    "start_time": "2022-09-06T15:45:01.714Z"
   },
   {
    "duration": 925,
    "start_time": "2022-09-06T15:45:01.843Z"
   },
   {
    "duration": 6,
    "start_time": "2022-09-06T15:45:02.770Z"
   },
   {
    "duration": 45,
    "start_time": "2022-09-06T15:45:02.777Z"
   },
   {
    "duration": 1278,
    "start_time": "2022-09-06T15:45:30.057Z"
   },
   {
    "duration": 3,
    "start_time": "2022-09-06T15:45:31.337Z"
   },
   {
    "duration": 608,
    "start_time": "2022-09-06T15:45:31.344Z"
   },
   {
    "duration": 5,
    "start_time": "2022-09-06T15:45:31.954Z"
   },
   {
    "duration": 22,
    "start_time": "2022-09-06T15:45:31.960Z"
   },
   {
    "duration": 140,
    "start_time": "2022-09-06T15:45:31.983Z"
   },
   {
    "duration": 574,
    "start_time": "2022-09-06T15:45:32.125Z"
   },
   {
    "duration": 3,
    "start_time": "2022-09-06T15:45:32.701Z"
   },
   {
    "duration": 15,
    "start_time": "2022-09-06T15:45:32.707Z"
   },
   {
    "duration": 3,
    "start_time": "2022-09-06T15:45:32.723Z"
   },
   {
    "duration": 6,
    "start_time": "2022-09-06T15:45:32.728Z"
   },
   {
    "duration": 9,
    "start_time": "2022-09-06T15:45:32.735Z"
   },
   {
    "duration": 4,
    "start_time": "2022-09-06T15:45:32.745Z"
   },
   {
    "duration": 6,
    "start_time": "2022-09-06T15:45:32.751Z"
   },
   {
    "duration": 6,
    "start_time": "2022-09-06T15:45:32.758Z"
   },
   {
    "duration": 56,
    "start_time": "2022-09-06T15:45:32.796Z"
   },
   {
    "duration": 19049,
    "start_time": "2022-09-06T15:45:32.853Z"
   },
   {
    "duration": 18,
    "start_time": "2022-09-06T15:45:51.904Z"
   },
   {
    "duration": 4,
    "start_time": "2022-09-06T15:45:51.923Z"
   },
   {
    "duration": 13,
    "start_time": "2022-09-06T15:45:51.928Z"
   },
   {
    "duration": 2,
    "start_time": "2022-09-06T15:45:51.943Z"
   },
   {
    "duration": 56,
    "start_time": "2022-09-06T15:45:51.946Z"
   },
   {
    "duration": 899,
    "start_time": "2022-09-06T15:45:52.004Z"
   },
   {
    "duration": 7,
    "start_time": "2022-09-06T15:45:52.905Z"
   },
   {
    "duration": 12,
    "start_time": "2022-09-06T15:45:52.913Z"
   },
   {
    "duration": 1375,
    "start_time": "2022-09-06T15:46:20.130Z"
   },
   {
    "duration": 3,
    "start_time": "2022-09-06T15:46:21.507Z"
   },
   {
    "duration": 683,
    "start_time": "2022-09-06T15:46:21.511Z"
   },
   {
    "duration": 6,
    "start_time": "2022-09-06T15:46:22.196Z"
   },
   {
    "duration": 11,
    "start_time": "2022-09-06T15:46:22.205Z"
   },
   {
    "duration": 149,
    "start_time": "2022-09-06T15:46:22.218Z"
   },
   {
    "duration": 656,
    "start_time": "2022-09-06T15:46:22.368Z"
   },
   {
    "duration": 3,
    "start_time": "2022-09-06T15:46:23.026Z"
   },
   {
    "duration": 18,
    "start_time": "2022-09-06T15:46:23.031Z"
   },
   {
    "duration": 3,
    "start_time": "2022-09-06T15:46:23.053Z"
   },
   {
    "duration": 5,
    "start_time": "2022-09-06T15:46:23.059Z"
   },
   {
    "duration": 30,
    "start_time": "2022-09-06T15:46:23.066Z"
   },
   {
    "duration": 8,
    "start_time": "2022-09-06T15:46:23.098Z"
   },
   {
    "duration": 12,
    "start_time": "2022-09-06T15:46:23.108Z"
   },
   {
    "duration": 12,
    "start_time": "2022-09-06T15:46:23.121Z"
   },
   {
    "duration": 61,
    "start_time": "2022-09-06T15:46:23.134Z"
   },
   {
    "duration": 19422,
    "start_time": "2022-09-06T15:46:23.198Z"
   },
   {
    "duration": 19,
    "start_time": "2022-09-06T15:46:42.621Z"
   },
   {
    "duration": 4,
    "start_time": "2022-09-06T15:46:42.641Z"
   },
   {
    "duration": 12,
    "start_time": "2022-09-06T15:46:42.646Z"
   },
   {
    "duration": 2,
    "start_time": "2022-09-06T15:46:42.659Z"
   },
   {
    "duration": 51,
    "start_time": "2022-09-06T15:46:42.662Z"
   },
   {
    "duration": 892,
    "start_time": "2022-09-06T15:46:42.715Z"
   },
   {
    "duration": 4,
    "start_time": "2022-09-06T15:46:43.609Z"
   },
   {
    "duration": 16,
    "start_time": "2022-09-06T15:46:43.615Z"
   },
   {
    "duration": 1344,
    "start_time": "2022-09-06T15:47:08.502Z"
   },
   {
    "duration": 3,
    "start_time": "2022-09-06T15:47:09.848Z"
   },
   {
    "duration": 630,
    "start_time": "2022-09-06T15:47:09.852Z"
   },
   {
    "duration": 15,
    "start_time": "2022-09-06T15:47:10.484Z"
   },
   {
    "duration": 15,
    "start_time": "2022-09-06T15:47:10.500Z"
   },
   {
    "duration": 116,
    "start_time": "2022-09-06T15:47:10.517Z"
   },
   {
    "duration": 604,
    "start_time": "2022-09-06T15:47:10.635Z"
   },
   {
    "duration": 4,
    "start_time": "2022-09-06T15:47:11.240Z"
   },
   {
    "duration": 14,
    "start_time": "2022-09-06T15:47:11.245Z"
   },
   {
    "duration": 3,
    "start_time": "2022-09-06T15:47:11.261Z"
   },
   {
    "duration": 7,
    "start_time": "2022-09-06T15:47:11.265Z"
   },
   {
    "duration": 7,
    "start_time": "2022-09-06T15:47:11.295Z"
   },
   {
    "duration": 4,
    "start_time": "2022-09-06T15:47:11.303Z"
   },
   {
    "duration": 8,
    "start_time": "2022-09-06T15:47:11.309Z"
   },
   {
    "duration": 5,
    "start_time": "2022-09-06T15:47:11.318Z"
   },
   {
    "duration": 51,
    "start_time": "2022-09-06T15:47:11.324Z"
   },
   {
    "duration": 18807,
    "start_time": "2022-09-06T15:47:11.377Z"
   },
   {
    "duration": 18,
    "start_time": "2022-09-06T15:47:30.195Z"
   },
   {
    "duration": 8,
    "start_time": "2022-09-06T15:47:30.214Z"
   },
   {
    "duration": 17,
    "start_time": "2022-09-06T15:47:30.223Z"
   },
   {
    "duration": 65,
    "start_time": "2022-09-06T15:47:30.241Z"
   },
   {
    "duration": 67,
    "start_time": "2022-09-06T15:47:30.307Z"
   },
   {
    "duration": 831,
    "start_time": "2022-09-06T15:47:30.376Z"
   },
   {
    "duration": 5,
    "start_time": "2022-09-06T15:47:31.208Z"
   },
   {
    "duration": 23,
    "start_time": "2022-09-06T15:47:31.214Z"
   },
   {
    "duration": 1196,
    "start_time": "2022-09-06T15:47:47.949Z"
   },
   {
    "duration": 2,
    "start_time": "2022-09-06T15:47:49.147Z"
   },
   {
    "duration": 631,
    "start_time": "2022-09-06T15:47:49.150Z"
   },
   {
    "duration": 8,
    "start_time": "2022-09-06T15:47:49.785Z"
   },
   {
    "duration": 26,
    "start_time": "2022-09-06T15:47:49.795Z"
   },
   {
    "duration": 131,
    "start_time": "2022-09-06T15:47:49.822Z"
   },
   {
    "duration": 564,
    "start_time": "2022-09-06T15:47:49.955Z"
   },
   {
    "duration": 3,
    "start_time": "2022-09-06T15:47:50.521Z"
   },
   {
    "duration": 35,
    "start_time": "2022-09-06T15:47:50.526Z"
   },
   {
    "duration": 3,
    "start_time": "2022-09-06T15:47:50.564Z"
   },
   {
    "duration": 6,
    "start_time": "2022-09-06T15:47:50.568Z"
   },
   {
    "duration": 8,
    "start_time": "2022-09-06T15:47:50.576Z"
   },
   {
    "duration": 14,
    "start_time": "2022-09-06T15:47:50.589Z"
   },
   {
    "duration": 4,
    "start_time": "2022-09-06T15:47:50.604Z"
   },
   {
    "duration": 7,
    "start_time": "2022-09-06T15:47:50.609Z"
   },
   {
    "duration": 58,
    "start_time": "2022-09-06T15:47:50.618Z"
   },
   {
    "duration": 19129,
    "start_time": "2022-09-06T15:47:50.677Z"
   },
   {
    "duration": 20,
    "start_time": "2022-09-06T15:48:09.807Z"
   },
   {
    "duration": 11,
    "start_time": "2022-09-06T15:48:09.828Z"
   },
   {
    "duration": 26,
    "start_time": "2022-09-06T15:48:09.840Z"
   },
   {
    "duration": 19,
    "start_time": "2022-09-06T15:48:09.867Z"
   },
   {
    "duration": 55,
    "start_time": "2022-09-06T15:48:09.887Z"
   },
   {
    "duration": 959,
    "start_time": "2022-09-06T15:48:09.943Z"
   },
   {
    "duration": 7,
    "start_time": "2022-09-06T15:48:10.904Z"
   },
   {
    "duration": 24,
    "start_time": "2022-09-06T15:48:10.912Z"
   },
   {
    "duration": 1300,
    "start_time": "2022-09-06T15:48:45.881Z"
   },
   {
    "duration": 20,
    "start_time": "2022-09-06T15:48:47.182Z"
   },
   {
    "duration": 619,
    "start_time": "2022-09-06T15:48:47.204Z"
   },
   {
    "duration": 5,
    "start_time": "2022-09-06T15:48:47.825Z"
   },
   {
    "duration": 7,
    "start_time": "2022-09-06T15:48:47.832Z"
   },
   {
    "duration": 140,
    "start_time": "2022-09-06T15:48:47.840Z"
   },
   {
    "duration": 628,
    "start_time": "2022-09-06T15:48:47.982Z"
   },
   {
    "duration": 4,
    "start_time": "2022-09-06T15:48:48.612Z"
   },
   {
    "duration": 15,
    "start_time": "2022-09-06T15:48:48.618Z"
   },
   {
    "duration": 4,
    "start_time": "2022-09-06T15:48:48.635Z"
   },
   {
    "duration": 13,
    "start_time": "2022-09-06T15:48:48.641Z"
   },
   {
    "duration": 13,
    "start_time": "2022-09-06T15:48:48.656Z"
   },
   {
    "duration": 11,
    "start_time": "2022-09-06T15:48:48.684Z"
   },
   {
    "duration": 4,
    "start_time": "2022-09-06T15:48:48.701Z"
   },
   {
    "duration": 7,
    "start_time": "2022-09-06T15:48:48.708Z"
   },
   {
    "duration": 59,
    "start_time": "2022-09-06T15:48:48.717Z"
   },
   {
    "duration": 19317,
    "start_time": "2022-09-06T15:48:48.788Z"
   },
   {
    "duration": 22,
    "start_time": "2022-09-06T15:49:08.107Z"
   },
   {
    "duration": 3,
    "start_time": "2022-09-06T15:49:08.131Z"
   },
   {
    "duration": 15,
    "start_time": "2022-09-06T15:49:08.135Z"
   },
   {
    "duration": 5,
    "start_time": "2022-09-06T15:49:08.151Z"
   },
   {
    "duration": 54,
    "start_time": "2022-09-06T15:49:08.157Z"
   },
   {
    "duration": 911,
    "start_time": "2022-09-06T15:49:08.212Z"
   },
   {
    "duration": 5,
    "start_time": "2022-09-06T15:49:09.124Z"
   },
   {
    "duration": 15,
    "start_time": "2022-09-06T15:49:09.131Z"
   },
   {
    "duration": 105,
    "start_time": "2022-09-06T16:01:56.018Z"
   },
   {
    "duration": 9,
    "start_time": "2022-09-06T16:02:09.106Z"
   },
   {
    "duration": 40,
    "start_time": "2022-09-06T16:02:19.901Z"
   },
   {
    "duration": 49,
    "start_time": "2022-09-06T16:14:02.151Z"
   },
   {
    "duration": 61,
    "start_time": "2022-09-06T16:14:18.840Z"
   },
   {
    "duration": 54,
    "start_time": "2022-09-06T16:14:33.151Z"
   },
   {
    "duration": 53,
    "start_time": "2022-09-06T16:14:37.527Z"
   },
   {
    "duration": 4,
    "start_time": "2022-09-06T16:15:41.348Z"
   },
   {
    "duration": 9,
    "start_time": "2022-09-06T16:25:47.324Z"
   },
   {
    "duration": 3,
    "start_time": "2022-09-06T16:25:50.000Z"
   },
   {
    "duration": 3,
    "start_time": "2022-09-06T16:25:50.898Z"
   },
   {
    "duration": 4,
    "start_time": "2022-09-06T16:25:54.953Z"
   },
   {
    "duration": 3,
    "start_time": "2022-09-06T16:26:36.631Z"
   },
   {
    "duration": 3,
    "start_time": "2022-09-06T16:26:37.434Z"
   },
   {
    "duration": 3,
    "start_time": "2022-09-06T16:27:09.127Z"
   },
   {
    "duration": 4,
    "start_time": "2022-09-06T16:27:11.114Z"
   },
   {
    "duration": 3,
    "start_time": "2022-09-06T16:27:25.832Z"
   },
   {
    "duration": 5,
    "start_time": "2022-09-06T16:27:28.023Z"
   },
   {
    "duration": 3,
    "start_time": "2022-09-06T16:42:43.747Z"
   },
   {
    "duration": 52,
    "start_time": "2022-09-06T16:42:53.673Z"
   },
   {
    "duration": 5,
    "start_time": "2022-09-06T16:42:54.745Z"
   },
   {
    "duration": 14,
    "start_time": "2022-09-06T16:46:05.382Z"
   },
   {
    "duration": 4,
    "start_time": "2022-09-06T16:55:18.937Z"
   },
   {
    "duration": 4,
    "start_time": "2022-09-06T16:55:24.779Z"
   },
   {
    "duration": 5,
    "start_time": "2022-09-06T16:55:30.881Z"
   },
   {
    "duration": 4,
    "start_time": "2022-09-06T16:55:36.297Z"
   },
   {
    "duration": 6,
    "start_time": "2022-09-06T16:55:51.366Z"
   },
   {
    "duration": 5,
    "start_time": "2022-09-06T16:56:13.998Z"
   },
   {
    "duration": 4,
    "start_time": "2022-09-06T16:56:48.094Z"
   },
   {
    "duration": 4,
    "start_time": "2022-09-06T16:58:33.006Z"
   },
   {
    "duration": 3,
    "start_time": "2022-09-06T16:58:41.867Z"
   },
   {
    "duration": 3,
    "start_time": "2022-09-06T16:58:46.707Z"
   },
   {
    "duration": 3,
    "start_time": "2022-09-06T16:59:14.802Z"
   },
   {
    "duration": 9,
    "start_time": "2022-09-06T17:00:26.321Z"
   },
   {
    "duration": 9,
    "start_time": "2022-09-06T17:00:39.942Z"
   },
   {
    "duration": 4,
    "start_time": "2022-09-06T17:02:55.576Z"
   },
   {
    "duration": 10,
    "start_time": "2022-09-06T17:03:04.119Z"
   },
   {
    "duration": 4,
    "start_time": "2022-09-06T17:03:42.029Z"
   },
   {
    "duration": 9,
    "start_time": "2022-09-06T17:03:52.597Z"
   },
   {
    "duration": 5,
    "start_time": "2022-09-06T17:04:05.362Z"
   },
   {
    "duration": 6,
    "start_time": "2022-09-06T17:04:14.151Z"
   },
   {
    "duration": 68,
    "start_time": "2022-09-06T17:04:20.953Z"
   },
   {
    "duration": 65,
    "start_time": "2022-09-06T17:04:24.896Z"
   },
   {
    "duration": 133,
    "start_time": "2022-09-06T17:04:49.701Z"
   },
   {
    "duration": 135,
    "start_time": "2022-09-06T17:05:02.337Z"
   },
   {
    "duration": 5,
    "start_time": "2022-09-06T17:05:57.402Z"
   },
   {
    "duration": 126,
    "start_time": "2022-09-06T17:06:07.902Z"
   },
   {
    "duration": 132,
    "start_time": "2022-09-06T17:06:39.315Z"
   },
   {
    "duration": 163,
    "start_time": "2022-09-06T17:06:41.837Z"
   },
   {
    "duration": 181,
    "start_time": "2022-09-06T17:06:44.532Z"
   },
   {
    "duration": 51,
    "start_time": "2022-09-06T17:06:54.147Z"
   },
   {
    "duration": 18,
    "start_time": "2022-09-06T17:07:46.583Z"
   },
   {
    "duration": 16,
    "start_time": "2022-09-06T17:08:26.018Z"
   },
   {
    "duration": 219,
    "start_time": "2022-09-06T17:08:45.622Z"
   },
   {
    "duration": 293,
    "start_time": "2022-09-06T17:09:10.123Z"
   },
   {
    "duration": 175,
    "start_time": "2022-09-06T17:09:23.257Z"
   },
   {
    "duration": 178,
    "start_time": "2022-09-06T17:09:26.732Z"
   },
   {
    "duration": 167,
    "start_time": "2022-09-06T17:09:34.803Z"
   },
   {
    "duration": 261,
    "start_time": "2022-09-06T17:09:50.216Z"
   },
   {
    "duration": 174,
    "start_time": "2022-09-06T17:10:05.273Z"
   },
   {
    "duration": 177,
    "start_time": "2022-09-06T17:11:44.142Z"
   },
   {
    "duration": 159,
    "start_time": "2022-09-06T17:11:51.197Z"
   },
   {
    "duration": 242,
    "start_time": "2022-09-06T17:11:55.610Z"
   },
   {
    "duration": 233,
    "start_time": "2022-09-06T17:12:30.364Z"
   },
   {
    "duration": 122,
    "start_time": "2022-09-06T17:12:48.985Z"
   },
   {
    "duration": 361,
    "start_time": "2022-09-06T17:12:55.562Z"
   },
   {
    "duration": 192,
    "start_time": "2022-09-06T17:13:03.587Z"
   },
   {
    "duration": 236,
    "start_time": "2022-09-06T17:13:34.485Z"
   },
   {
    "duration": 200,
    "start_time": "2022-09-06T17:14:02.584Z"
   },
   {
    "duration": 211,
    "start_time": "2022-09-06T17:14:09.601Z"
   },
   {
    "duration": 210,
    "start_time": "2022-09-06T17:14:17.584Z"
   },
   {
    "duration": 198,
    "start_time": "2022-09-06T17:14:33.407Z"
   },
   {
    "duration": 215,
    "start_time": "2022-09-06T17:14:49.841Z"
   },
   {
    "duration": 206,
    "start_time": "2022-09-06T17:14:55.217Z"
   },
   {
    "duration": 3,
    "start_time": "2022-09-06T17:39:13.301Z"
   },
   {
    "duration": 4,
    "start_time": "2022-09-06T17:39:28.237Z"
   },
   {
    "duration": 3,
    "start_time": "2022-09-06T17:49:51.442Z"
   },
   {
    "duration": 127,
    "start_time": "2022-09-06T17:50:01.802Z"
   },
   {
    "duration": 4,
    "start_time": "2022-09-06T17:50:48.357Z"
   },
   {
    "duration": 5,
    "start_time": "2022-09-06T17:51:14.036Z"
   },
   {
    "duration": 5,
    "start_time": "2022-09-06T17:51:21.141Z"
   },
   {
    "duration": 11,
    "start_time": "2022-09-06T17:52:48.455Z"
   },
   {
    "duration": 3,
    "start_time": "2022-09-06T17:52:51.536Z"
   },
   {
    "duration": 6,
    "start_time": "2022-09-06T17:52:52.830Z"
   },
   {
    "duration": 5,
    "start_time": "2022-09-06T17:53:12.079Z"
   },
   {
    "duration": 5,
    "start_time": "2022-09-06T17:54:09.139Z"
   },
   {
    "duration": 4,
    "start_time": "2022-09-06T17:54:12.160Z"
   },
   {
    "duration": 5,
    "start_time": "2022-09-06T17:54:14.063Z"
   },
   {
    "duration": 5,
    "start_time": "2022-09-06T17:54:17.762Z"
   },
   {
    "duration": 7,
    "start_time": "2022-09-06T17:54:55.579Z"
   },
   {
    "duration": 5,
    "start_time": "2022-09-06T17:55:02.755Z"
   },
   {
    "duration": 51,
    "start_time": "2022-09-06T17:58:37.432Z"
   },
   {
    "duration": 1191,
    "start_time": "2022-09-06T17:59:05.435Z"
   },
   {
    "duration": 2,
    "start_time": "2022-09-06T17:59:06.628Z"
   },
   {
    "duration": 616,
    "start_time": "2022-09-06T17:59:06.632Z"
   },
   {
    "duration": 5,
    "start_time": "2022-09-06T17:59:07.250Z"
   },
   {
    "duration": 9,
    "start_time": "2022-09-06T17:59:07.256Z"
   },
   {
    "duration": 122,
    "start_time": "2022-09-06T17:59:07.266Z"
   },
   {
    "duration": 529,
    "start_time": "2022-09-06T17:59:07.390Z"
   },
   {
    "duration": 3,
    "start_time": "2022-09-06T17:59:07.920Z"
   },
   {
    "duration": 13,
    "start_time": "2022-09-06T17:59:07.925Z"
   },
   {
    "duration": 3,
    "start_time": "2022-09-06T17:59:07.941Z"
   },
   {
    "duration": 6,
    "start_time": "2022-09-06T17:59:07.945Z"
   },
   {
    "duration": 8,
    "start_time": "2022-09-06T17:59:07.952Z"
   },
   {
    "duration": 23,
    "start_time": "2022-09-06T17:59:07.962Z"
   },
   {
    "duration": 3,
    "start_time": "2022-09-06T17:59:07.986Z"
   },
   {
    "duration": 12,
    "start_time": "2022-09-06T17:59:07.991Z"
   },
   {
    "duration": 55,
    "start_time": "2022-09-06T17:59:08.004Z"
   },
   {
    "duration": 18196,
    "start_time": "2022-09-06T17:59:08.060Z"
   },
   {
    "duration": 37,
    "start_time": "2022-09-06T17:59:26.257Z"
   },
   {
    "duration": 4,
    "start_time": "2022-09-06T17:59:26.296Z"
   },
   {
    "duration": 13,
    "start_time": "2022-09-06T17:59:26.301Z"
   },
   {
    "duration": 3,
    "start_time": "2022-09-06T17:59:26.316Z"
   },
   {
    "duration": 31,
    "start_time": "2022-09-06T17:59:26.321Z"
   },
   {
    "duration": 912,
    "start_time": "2022-09-06T17:59:26.353Z"
   },
   {
    "duration": 5,
    "start_time": "2022-09-06T17:59:27.267Z"
   },
   {
    "duration": 20,
    "start_time": "2022-09-06T17:59:27.284Z"
   },
   {
    "duration": 50,
    "start_time": "2022-09-06T17:59:27.306Z"
   },
   {
    "duration": 4,
    "start_time": "2022-09-06T17:59:27.358Z"
   },
   {
    "duration": 236,
    "start_time": "2022-09-06T17:59:27.364Z"
   },
   {
    "duration": 6,
    "start_time": "2022-09-06T17:59:27.602Z"
   },
   {
    "duration": 6,
    "start_time": "2022-09-06T17:59:27.609Z"
   },
   {
    "duration": 1329,
    "start_time": "2022-09-06T18:16:26.553Z"
   },
   {
    "duration": 3,
    "start_time": "2022-09-06T18:16:27.884Z"
   },
   {
    "duration": 678,
    "start_time": "2022-09-06T18:16:27.889Z"
   },
   {
    "duration": 16,
    "start_time": "2022-09-06T18:16:28.569Z"
   },
   {
    "duration": 9,
    "start_time": "2022-09-06T18:16:28.588Z"
   },
   {
    "duration": 191,
    "start_time": "2022-09-06T18:16:28.599Z"
   },
   {
    "duration": 613,
    "start_time": "2022-09-06T18:16:28.792Z"
   },
   {
    "duration": 4,
    "start_time": "2022-09-06T18:16:29.407Z"
   },
   {
    "duration": 16,
    "start_time": "2022-09-06T18:16:29.413Z"
   },
   {
    "duration": 4,
    "start_time": "2022-09-06T18:16:29.430Z"
   },
   {
    "duration": 5,
    "start_time": "2022-09-06T18:16:29.436Z"
   },
   {
    "duration": 8,
    "start_time": "2022-09-06T18:16:29.442Z"
   },
   {
    "duration": 32,
    "start_time": "2022-09-06T18:16:29.452Z"
   },
   {
    "duration": 6,
    "start_time": "2022-09-06T18:16:29.488Z"
   },
   {
    "duration": 5,
    "start_time": "2022-09-06T18:16:29.496Z"
   },
   {
    "duration": 53,
    "start_time": "2022-09-06T18:16:29.502Z"
   },
   {
    "duration": 19636,
    "start_time": "2022-09-06T18:16:29.557Z"
   },
   {
    "duration": 20,
    "start_time": "2022-09-06T18:16:49.194Z"
   },
   {
    "duration": 3,
    "start_time": "2022-09-06T18:16:49.216Z"
   },
   {
    "duration": 17,
    "start_time": "2022-09-06T18:16:49.221Z"
   },
   {
    "duration": 11,
    "start_time": "2022-09-06T18:16:49.239Z"
   },
   {
    "duration": 52,
    "start_time": "2022-09-06T18:16:49.252Z"
   },
   {
    "duration": 907,
    "start_time": "2022-09-06T18:16:49.306Z"
   },
   {
    "duration": 6,
    "start_time": "2022-09-06T18:16:50.214Z"
   },
   {
    "duration": 14,
    "start_time": "2022-09-06T18:16:50.221Z"
   },
   {
    "duration": 59,
    "start_time": "2022-09-06T18:16:50.236Z"
   },
   {
    "duration": 5,
    "start_time": "2022-09-06T18:16:50.296Z"
   },
   {
    "duration": 231,
    "start_time": "2022-09-06T18:16:50.302Z"
   },
   {
    "duration": 7,
    "start_time": "2022-09-06T18:16:50.534Z"
   },
   {
    "duration": 4,
    "start_time": "2022-09-06T18:16:50.543Z"
   },
   {
    "duration": 1418,
    "start_time": "2022-09-07T04:09:21.415Z"
   },
   {
    "duration": 3,
    "start_time": "2022-09-07T04:09:22.834Z"
   },
   {
    "duration": 668,
    "start_time": "2022-09-07T04:09:22.838Z"
   },
   {
    "duration": 5,
    "start_time": "2022-09-07T04:09:23.508Z"
   },
   {
    "duration": 9,
    "start_time": "2022-09-07T04:09:23.515Z"
   },
   {
    "duration": 136,
    "start_time": "2022-09-07T04:09:23.525Z"
   },
   {
    "duration": 559,
    "start_time": "2022-09-07T04:09:23.663Z"
   },
   {
    "duration": 3,
    "start_time": "2022-09-07T04:09:24.224Z"
   },
   {
    "duration": 11,
    "start_time": "2022-09-07T04:09:24.229Z"
   },
   {
    "duration": 16,
    "start_time": "2022-09-07T04:09:24.256Z"
   },
   {
    "duration": 5,
    "start_time": "2022-09-07T04:09:24.274Z"
   },
   {
    "duration": 8,
    "start_time": "2022-09-07T04:09:24.280Z"
   },
   {
    "duration": 6,
    "start_time": "2022-09-07T04:09:24.290Z"
   },
   {
    "duration": 5,
    "start_time": "2022-09-07T04:09:24.297Z"
   },
   {
    "duration": 6,
    "start_time": "2022-09-07T04:09:24.303Z"
   },
   {
    "duration": 54,
    "start_time": "2022-09-07T04:09:24.310Z"
   },
   {
    "duration": 19135,
    "start_time": "2022-09-07T04:09:24.365Z"
   },
   {
    "duration": 18,
    "start_time": "2022-09-07T04:09:43.501Z"
   },
   {
    "duration": 3,
    "start_time": "2022-09-07T04:09:43.521Z"
   },
   {
    "duration": 13,
    "start_time": "2022-09-07T04:09:43.526Z"
   },
   {
    "duration": 17,
    "start_time": "2022-09-07T04:09:43.540Z"
   },
   {
    "duration": 32,
    "start_time": "2022-09-07T04:09:43.559Z"
   },
   {
    "duration": 890,
    "start_time": "2022-09-07T04:09:43.593Z"
   },
   {
    "duration": 6,
    "start_time": "2022-09-07T04:09:44.485Z"
   },
   {
    "duration": 13,
    "start_time": "2022-09-07T04:09:44.492Z"
   },
   {
    "duration": 61,
    "start_time": "2022-09-07T04:09:44.506Z"
   },
   {
    "duration": 5,
    "start_time": "2022-09-07T04:09:44.569Z"
   },
   {
    "duration": 224,
    "start_time": "2022-09-07T04:09:44.578Z"
   },
   {
    "duration": 11,
    "start_time": "2022-09-07T04:09:44.803Z"
   },
   {
    "duration": 17,
    "start_time": "2022-09-07T04:09:44.815Z"
   },
   {
    "duration": 1253,
    "start_time": "2022-09-07T04:20:06.283Z"
   },
   {
    "duration": 2,
    "start_time": "2022-09-07T04:20:07.538Z"
   },
   {
    "duration": 594,
    "start_time": "2022-09-07T04:20:07.542Z"
   },
   {
    "duration": 4,
    "start_time": "2022-09-07T04:20:08.138Z"
   },
   {
    "duration": 23,
    "start_time": "2022-09-07T04:20:08.143Z"
   },
   {
    "duration": 126,
    "start_time": "2022-09-07T04:20:08.167Z"
   },
   {
    "duration": 557,
    "start_time": "2022-09-07T04:20:08.294Z"
   },
   {
    "duration": 4,
    "start_time": "2022-09-07T04:20:08.857Z"
   },
   {
    "duration": 14,
    "start_time": "2022-09-07T04:20:08.863Z"
   },
   {
    "duration": 13,
    "start_time": "2022-09-07T04:20:08.880Z"
   },
   {
    "duration": 20,
    "start_time": "2022-09-07T04:20:08.894Z"
   },
   {
    "duration": 25,
    "start_time": "2022-09-07T04:20:08.915Z"
   },
   {
    "duration": 31,
    "start_time": "2022-09-07T04:20:08.942Z"
   },
   {
    "duration": 6,
    "start_time": "2022-09-07T04:20:08.974Z"
   },
   {
    "duration": 23,
    "start_time": "2022-09-07T04:20:08.982Z"
   },
   {
    "duration": 18536,
    "start_time": "2022-09-07T04:20:09.007Z"
   },
   {
    "duration": 25,
    "start_time": "2022-09-07T04:20:27.545Z"
   },
   {
    "duration": 4,
    "start_time": "2022-09-07T04:20:27.571Z"
   },
   {
    "duration": 11,
    "start_time": "2022-09-07T04:20:27.577Z"
   },
   {
    "duration": 2,
    "start_time": "2022-09-07T04:20:27.590Z"
   },
   {
    "duration": 32,
    "start_time": "2022-09-07T04:20:27.594Z"
   },
   {
    "duration": 880,
    "start_time": "2022-09-07T04:20:27.627Z"
   },
   {
    "duration": 6,
    "start_time": "2022-09-07T04:20:28.508Z"
   },
   {
    "duration": 12,
    "start_time": "2022-09-07T04:20:28.516Z"
   },
   {
    "duration": 59,
    "start_time": "2022-09-07T04:20:28.530Z"
   },
   {
    "duration": 5,
    "start_time": "2022-09-07T04:20:28.591Z"
   },
   {
    "duration": 226,
    "start_time": "2022-09-07T04:20:28.597Z"
   },
   {
    "duration": 5,
    "start_time": "2022-09-07T04:20:28.826Z"
   },
   {
    "duration": 6,
    "start_time": "2022-09-07T04:20:28.833Z"
   },
   {
    "duration": 150,
    "start_time": "2022-09-07T07:15:20.506Z"
   },
   {
    "duration": 1881,
    "start_time": "2022-09-07T07:21:14.741Z"
   },
   {
    "duration": 4,
    "start_time": "2022-09-07T07:21:16.624Z"
   },
   {
    "duration": 818,
    "start_time": "2022-09-07T07:21:16.629Z"
   },
   {
    "duration": 5,
    "start_time": "2022-09-07T07:21:17.449Z"
   },
   {
    "duration": 10,
    "start_time": "2022-09-07T07:21:17.455Z"
   },
   {
    "duration": 251,
    "start_time": "2022-09-07T07:21:17.467Z"
   },
   {
    "duration": 690,
    "start_time": "2022-09-07T07:21:17.719Z"
   },
   {
    "duration": 10,
    "start_time": "2022-09-07T07:21:18.417Z"
   },
   {
    "duration": 13,
    "start_time": "2022-09-07T07:21:18.430Z"
   },
   {
    "duration": 4,
    "start_time": "2022-09-07T07:21:18.447Z"
   },
   {
    "duration": 8,
    "start_time": "2022-09-07T07:21:18.453Z"
   },
   {
    "duration": 12,
    "start_time": "2022-09-07T07:21:18.463Z"
   },
   {
    "duration": 9,
    "start_time": "2022-09-07T07:21:18.476Z"
   },
   {
    "duration": 20,
    "start_time": "2022-09-07T07:21:18.486Z"
   },
   {
    "duration": 19,
    "start_time": "2022-09-07T07:21:18.514Z"
   },
   {
    "duration": 82,
    "start_time": "2022-09-07T07:21:18.534Z"
   },
   {
    "duration": 25177,
    "start_time": "2022-09-07T07:21:18.623Z"
   },
   {
    "duration": 39,
    "start_time": "2022-09-07T07:21:43.802Z"
   },
   {
    "duration": 5,
    "start_time": "2022-09-07T07:21:43.848Z"
   },
   {
    "duration": 21,
    "start_time": "2022-09-07T07:21:43.855Z"
   },
   {
    "duration": 8,
    "start_time": "2022-09-07T07:21:43.877Z"
   },
   {
    "duration": 39,
    "start_time": "2022-09-07T07:21:43.887Z"
   },
   {
    "duration": 6,
    "start_time": "2022-09-07T07:21:43.928Z"
   },
   {
    "duration": 7,
    "start_time": "2022-09-07T07:21:43.935Z"
   },
   {
    "duration": 7,
    "start_time": "2022-09-07T07:21:43.944Z"
   },
   {
    "duration": 74,
    "start_time": "2022-09-07T07:21:43.952Z"
   },
   {
    "duration": 1778,
    "start_time": "2022-09-07T07:26:40.702Z"
   },
   {
    "duration": 3,
    "start_time": "2022-09-07T07:26:42.483Z"
   },
   {
    "duration": 896,
    "start_time": "2022-09-07T07:26:42.488Z"
   },
   {
    "duration": 10,
    "start_time": "2022-09-07T07:26:43.398Z"
   },
   {
    "duration": 46,
    "start_time": "2022-09-07T07:26:43.418Z"
   },
   {
    "duration": 192,
    "start_time": "2022-09-07T07:26:43.466Z"
   },
   {
    "duration": 793,
    "start_time": "2022-09-07T07:26:43.659Z"
   },
   {
    "duration": 4,
    "start_time": "2022-09-07T07:26:44.455Z"
   },
   {
    "duration": 26,
    "start_time": "2022-09-07T07:26:44.462Z"
   },
   {
    "duration": 39,
    "start_time": "2022-09-07T07:26:44.492Z"
   },
   {
    "duration": 32,
    "start_time": "2022-09-07T07:26:44.533Z"
   },
   {
    "duration": 47,
    "start_time": "2022-09-07T07:26:44.567Z"
   },
   {
    "duration": 16,
    "start_time": "2022-09-07T07:26:44.622Z"
   },
   {
    "duration": 30,
    "start_time": "2022-09-07T07:26:44.641Z"
   },
   {
    "duration": 15,
    "start_time": "2022-09-07T07:26:44.673Z"
   },
   {
    "duration": 118,
    "start_time": "2022-09-07T07:26:44.690Z"
   },
   {
    "duration": 25679,
    "start_time": "2022-09-07T07:26:44.819Z"
   },
   {
    "duration": 29,
    "start_time": "2022-09-07T07:27:10.500Z"
   },
   {
    "duration": 7,
    "start_time": "2022-09-07T07:27:10.542Z"
   },
   {
    "duration": 20,
    "start_time": "2022-09-07T07:27:10.552Z"
   },
   {
    "duration": 6,
    "start_time": "2022-09-07T07:27:10.574Z"
   },
   {
    "duration": 23,
    "start_time": "2022-09-07T07:27:10.582Z"
   },
   {
    "duration": 45,
    "start_time": "2022-09-07T07:27:10.608Z"
   },
   {
    "duration": 8,
    "start_time": "2022-09-07T07:27:10.657Z"
   },
   {
    "duration": 9,
    "start_time": "2022-09-07T07:27:10.668Z"
   },
   {
    "duration": 94,
    "start_time": "2022-09-07T07:27:10.679Z"
   },
   {
    "duration": 73,
    "start_time": "2022-09-07T07:37:53.764Z"
   },
   {
    "duration": 9,
    "start_time": "2022-09-07T07:37:55.309Z"
   },
   {
    "duration": 126,
    "start_time": "2022-09-07T07:37:59.505Z"
   },
   {
    "duration": 21,
    "start_time": "2022-09-07T07:38:05.290Z"
   },
   {
    "duration": 4,
    "start_time": "2022-09-07T07:41:43.131Z"
   },
   {
    "duration": 16,
    "start_time": "2022-09-07T07:42:00.320Z"
   },
   {
    "duration": 12,
    "start_time": "2022-09-07T07:42:06.940Z"
   },
   {
    "duration": 5,
    "start_time": "2022-09-07T07:42:19.125Z"
   },
   {
    "duration": 83,
    "start_time": "2022-09-07T07:42:22.527Z"
   },
   {
    "duration": 15,
    "start_time": "2022-09-07T07:42:30.363Z"
   },
   {
    "duration": 8016,
    "start_time": "2022-09-07T07:42:50.473Z"
   },
   {
    "duration": 4,
    "start_time": "2022-09-07T07:43:05.231Z"
   },
   {
    "duration": 8004,
    "start_time": "2022-09-07T07:43:08.504Z"
   },
   {
    "duration": 190,
    "start_time": "2022-09-07T07:46:12.052Z"
   },
   {
    "duration": 349,
    "start_time": "2022-09-07T07:46:22.732Z"
   },
   {
    "duration": 4,
    "start_time": "2022-09-07T07:46:46.304Z"
   },
   {
    "duration": 4,
    "start_time": "2022-09-07T07:46:48.767Z"
   },
   {
    "duration": 487,
    "start_time": "2022-09-07T07:46:51.521Z"
   },
   {
    "duration": 7,
    "start_time": "2022-09-07T07:47:54.433Z"
   },
   {
    "duration": 235,
    "start_time": "2022-09-07T07:47:58.623Z"
   },
   {
    "duration": 6,
    "start_time": "2022-09-07T07:48:46.077Z"
   },
   {
    "duration": 24859,
    "start_time": "2022-09-07T07:48:49.714Z"
   },
   {
    "duration": 6,
    "start_time": "2022-09-07T07:51:15.165Z"
   },
   {
    "duration": 3650,
    "start_time": "2022-09-07T07:51:20.558Z"
   },
   {
    "duration": 6,
    "start_time": "2022-09-07T07:52:11.420Z"
   },
   {
    "duration": 3690,
    "start_time": "2022-09-07T07:52:14.859Z"
   },
   {
    "duration": 15,
    "start_time": "2022-09-07T07:52:59.287Z"
   },
   {
    "duration": 3348,
    "start_time": "2022-09-07T07:53:03.286Z"
   },
   {
    "duration": 5,
    "start_time": "2022-09-07T07:53:32.842Z"
   },
   {
    "duration": 4021,
    "start_time": "2022-09-07T07:53:36.390Z"
   },
   {
    "duration": 5,
    "start_time": "2022-09-07T07:53:58.570Z"
   },
   {
    "duration": 3795,
    "start_time": "2022-09-07T07:54:01.726Z"
   },
   {
    "duration": 5,
    "start_time": "2022-09-07T07:54:22.325Z"
   },
   {
    "duration": 3810,
    "start_time": "2022-09-07T07:54:25.674Z"
   },
   {
    "duration": 6,
    "start_time": "2022-09-07T07:54:37.364Z"
   },
   {
    "duration": 4059,
    "start_time": "2022-09-07T07:54:39.782Z"
   },
   {
    "duration": 5,
    "start_time": "2022-09-07T07:55:08.182Z"
   },
   {
    "duration": 2103,
    "start_time": "2022-09-07T07:55:10.849Z"
   },
   {
    "duration": 11,
    "start_time": "2022-09-07T07:56:40.589Z"
   },
   {
    "duration": 1851,
    "start_time": "2022-09-07T07:56:43.763Z"
   },
   {
    "duration": 5,
    "start_time": "2022-09-07T07:58:47.339Z"
   },
   {
    "duration": 22,
    "start_time": "2022-09-07T07:58:50.621Z"
   },
   {
    "duration": 6,
    "start_time": "2022-09-07T07:58:57.579Z"
   },
   {
    "duration": 41,
    "start_time": "2022-09-07T07:59:00.774Z"
   },
   {
    "duration": 7,
    "start_time": "2022-09-07T07:59:10.891Z"
   },
   {
    "duration": 2226,
    "start_time": "2022-09-07T07:59:13.252Z"
   },
   {
    "duration": 7,
    "start_time": "2022-09-07T08:00:26.136Z"
   },
   {
    "duration": 2162,
    "start_time": "2022-09-07T08:00:29.351Z"
   },
   {
    "duration": 5,
    "start_time": "2022-09-07T08:00:52.472Z"
   },
   {
    "duration": 2060,
    "start_time": "2022-09-07T08:00:56.561Z"
   },
   {
    "duration": 5,
    "start_time": "2022-09-07T08:02:49.679Z"
   },
   {
    "duration": 2216,
    "start_time": "2022-09-07T08:02:52.840Z"
   },
   {
    "duration": 8,
    "start_time": "2022-09-07T08:03:13.891Z"
   },
   {
    "duration": 2375,
    "start_time": "2022-09-07T08:03:16.523Z"
   },
   {
    "duration": 6,
    "start_time": "2022-09-07T08:03:31.070Z"
   },
   {
    "duration": 2428,
    "start_time": "2022-09-07T08:03:33.829Z"
   },
   {
    "duration": 5,
    "start_time": "2022-09-07T08:04:52.538Z"
   },
   {
    "duration": 26,
    "start_time": "2022-09-07T08:04:55.753Z"
   },
   {
    "duration": 5,
    "start_time": "2022-09-07T08:06:20.723Z"
   },
   {
    "duration": 2055,
    "start_time": "2022-09-07T08:06:24.218Z"
   },
   {
    "duration": 4,
    "start_time": "2022-09-07T08:06:52.882Z"
   },
   {
    "duration": 2093,
    "start_time": "2022-09-07T08:06:56.349Z"
   },
   {
    "duration": 6,
    "start_time": "2022-09-07T08:15:40.270Z"
   },
   {
    "duration": 2145,
    "start_time": "2022-09-07T08:15:43.518Z"
   },
   {
    "duration": 6,
    "start_time": "2022-09-07T08:16:04.638Z"
   },
   {
    "duration": 2114,
    "start_time": "2022-09-07T08:16:07.604Z"
   },
   {
    "duration": 6,
    "start_time": "2022-09-07T08:16:18.571Z"
   },
   {
    "duration": 2276,
    "start_time": "2022-09-07T08:16:21.751Z"
   },
   {
    "duration": 7,
    "start_time": "2022-09-07T08:16:38.256Z"
   },
   {
    "duration": 2213,
    "start_time": "2022-09-07T08:16:41.603Z"
   },
   {
    "duration": 6,
    "start_time": "2022-09-07T08:16:52.041Z"
   },
   {
    "duration": 2129,
    "start_time": "2022-09-07T08:16:54.540Z"
   },
   {
    "duration": 13,
    "start_time": "2022-09-07T08:37:32.232Z"
   },
   {
    "duration": 4068,
    "start_time": "2022-09-07T08:37:48.491Z"
   },
   {
    "duration": 4330,
    "start_time": "2022-09-07T08:38:11.132Z"
   },
   {
    "duration": 939,
    "start_time": "2022-09-07T10:12:52.813Z"
   },
   {
    "duration": 1502,
    "start_time": "2022-09-07T10:13:00.089Z"
   },
   {
    "duration": 3,
    "start_time": "2022-09-07T10:13:01.593Z"
   },
   {
    "duration": 707,
    "start_time": "2022-09-07T10:13:01.598Z"
   },
   {
    "duration": 5,
    "start_time": "2022-09-07T10:13:02.306Z"
   },
   {
    "duration": 12,
    "start_time": "2022-09-07T10:13:02.314Z"
   },
   {
    "duration": 120,
    "start_time": "2022-09-07T10:13:02.328Z"
   },
   {
    "duration": 570,
    "start_time": "2022-09-07T10:13:02.450Z"
   },
   {
    "duration": 4,
    "start_time": "2022-09-07T10:13:03.022Z"
   },
   {
    "duration": 12,
    "start_time": "2022-09-07T10:13:03.028Z"
   },
   {
    "duration": 3,
    "start_time": "2022-09-07T10:13:03.042Z"
   },
   {
    "duration": 4,
    "start_time": "2022-09-07T10:13:03.047Z"
   },
   {
    "duration": 8,
    "start_time": "2022-09-07T10:13:03.053Z"
   },
   {
    "duration": 4,
    "start_time": "2022-09-07T10:13:03.063Z"
   },
   {
    "duration": 5,
    "start_time": "2022-09-07T10:13:03.099Z"
   },
   {
    "duration": 7,
    "start_time": "2022-09-07T10:13:03.105Z"
   },
   {
    "duration": 1764,
    "start_time": "2022-09-07T10:13:03.113Z"
   },
   {
    "duration": 18154,
    "start_time": "2022-09-07T10:13:04.878Z"
   },
   {
    "duration": 4000,
    "start_time": "2022-09-07T10:13:23.034Z"
   },
   {
    "duration": 16,
    "start_time": "2022-09-07T10:13:27.036Z"
   },
   {
    "duration": 4,
    "start_time": "2022-09-07T10:13:27.053Z"
   },
   {
    "duration": 14,
    "start_time": "2022-09-07T10:13:27.058Z"
   },
   {
    "duration": 4,
    "start_time": "2022-09-07T10:13:27.073Z"
   },
   {
    "duration": 8,
    "start_time": "2022-09-07T10:13:27.078Z"
   },
   {
    "duration": 3,
    "start_time": "2022-09-07T10:13:27.098Z"
   },
   {
    "duration": 6,
    "start_time": "2022-09-07T10:13:27.102Z"
   },
   {
    "duration": 8,
    "start_time": "2022-09-07T10:13:27.109Z"
   },
   {
    "duration": 50,
    "start_time": "2022-09-07T10:13:27.118Z"
   },
   {
    "duration": 8,
    "start_time": "2022-09-07T10:13:27.169Z"
   },
   {
    "duration": 3,
    "start_time": "2022-09-07T10:16:54.214Z"
   },
   {
    "duration": 1443,
    "start_time": "2022-09-07T10:19:28.881Z"
   },
   {
    "duration": 3,
    "start_time": "2022-09-07T10:19:30.326Z"
   },
   {
    "duration": 601,
    "start_time": "2022-09-07T10:19:30.330Z"
   },
   {
    "duration": 5,
    "start_time": "2022-09-07T10:19:30.932Z"
   },
   {
    "duration": 16,
    "start_time": "2022-09-07T10:19:30.939Z"
   },
   {
    "duration": 119,
    "start_time": "2022-09-07T10:19:30.957Z"
   },
   {
    "duration": 535,
    "start_time": "2022-09-07T10:19:31.078Z"
   },
   {
    "duration": 4,
    "start_time": "2022-09-07T10:19:31.615Z"
   },
   {
    "duration": 20,
    "start_time": "2022-09-07T10:19:31.620Z"
   },
   {
    "duration": 31,
    "start_time": "2022-09-07T10:19:31.642Z"
   },
   {
    "duration": 5,
    "start_time": "2022-09-07T10:19:31.675Z"
   },
   {
    "duration": 10,
    "start_time": "2022-09-07T10:19:31.681Z"
   },
   {
    "duration": 3,
    "start_time": "2022-09-07T10:19:31.693Z"
   },
   {
    "duration": 7,
    "start_time": "2022-09-07T10:19:31.699Z"
   },
   {
    "duration": 5,
    "start_time": "2022-09-07T10:19:31.707Z"
   },
   {
    "duration": 1757,
    "start_time": "2022-09-07T10:19:31.714Z"
   },
   {
    "duration": 18037,
    "start_time": "2022-09-07T10:19:33.472Z"
   },
   {
    "duration": 3984,
    "start_time": "2022-09-07T10:19:51.510Z"
   },
   {
    "duration": 15,
    "start_time": "2022-09-07T10:19:55.495Z"
   },
   {
    "duration": 10,
    "start_time": "2022-09-07T10:19:55.512Z"
   },
   {
    "duration": 34,
    "start_time": "2022-09-07T10:19:55.523Z"
   },
   {
    "duration": 19,
    "start_time": "2022-09-07T10:19:55.558Z"
   },
   {
    "duration": 18,
    "start_time": "2022-09-07T10:19:55.578Z"
   },
   {
    "duration": 9,
    "start_time": "2022-09-07T10:19:55.598Z"
   },
   {
    "duration": 17,
    "start_time": "2022-09-07T10:19:55.608Z"
   },
   {
    "duration": 5,
    "start_time": "2022-09-07T10:19:55.626Z"
   },
   {
    "duration": 50,
    "start_time": "2022-09-07T10:19:55.633Z"
   },
   {
    "duration": 7,
    "start_time": "2022-09-07T10:19:55.685Z"
   },
   {
    "duration": 20,
    "start_time": "2022-09-07T10:22:05.844Z"
   },
   {
    "duration": 6,
    "start_time": "2022-09-07T10:22:10.589Z"
   },
   {
    "duration": 7,
    "start_time": "2022-09-07T10:27:29.561Z"
   },
   {
    "duration": 20,
    "start_time": "2022-09-07T10:27:33.852Z"
   },
   {
    "duration": 113,
    "start_time": "2022-09-07T10:29:08.054Z"
   },
   {
    "duration": 11,
    "start_time": "2022-09-07T10:29:16.924Z"
   },
   {
    "duration": 4,
    "start_time": "2022-09-07T10:30:31.024Z"
   },
   {
    "duration": 17,
    "start_time": "2022-09-07T10:31:34.893Z"
   },
   {
    "duration": 29,
    "start_time": "2022-09-07T10:31:55.392Z"
   },
   {
    "duration": 16,
    "start_time": "2022-09-07T10:32:18.563Z"
   },
   {
    "duration": 23,
    "start_time": "2022-09-07T10:32:23.470Z"
   },
   {
    "duration": 24,
    "start_time": "2022-09-07T10:32:38.238Z"
   },
   {
    "duration": 31,
    "start_time": "2022-09-07T10:33:02.294Z"
   },
   {
    "duration": 19,
    "start_time": "2022-09-07T10:33:05.920Z"
   },
   {
    "duration": 24,
    "start_time": "2022-09-07T10:33:12.130Z"
   },
   {
    "duration": 12,
    "start_time": "2022-09-07T10:55:59.066Z"
   },
   {
    "duration": 3,
    "start_time": "2022-09-07T10:56:16.344Z"
   },
   {
    "duration": 6,
    "start_time": "2022-09-07T10:56:22.160Z"
   },
   {
    "duration": 6,
    "start_time": "2022-09-07T10:57:09.826Z"
   },
   {
    "duration": 14,
    "start_time": "2022-09-07T10:57:23.300Z"
   },
   {
    "duration": 6,
    "start_time": "2022-09-07T10:57:29.523Z"
   },
   {
    "duration": 20,
    "start_time": "2022-09-07T10:57:34.099Z"
   },
   {
    "duration": 5,
    "start_time": "2022-09-07T10:57:38.432Z"
   },
   {
    "duration": 7,
    "start_time": "2022-09-07T10:57:44.750Z"
   },
   {
    "duration": 5,
    "start_time": "2022-09-07T10:59:25.724Z"
   },
   {
    "duration": 182,
    "start_time": "2022-09-07T11:03:46.821Z"
   },
   {
    "duration": 14,
    "start_time": "2022-09-07T11:03:51.231Z"
   },
   {
    "duration": 8,
    "start_time": "2022-09-07T11:04:00.449Z"
   },
   {
    "duration": 22,
    "start_time": "2022-09-07T11:16:46.540Z"
   },
   {
    "duration": 31,
    "start_time": "2022-09-07T11:16:54.518Z"
   },
   {
    "duration": 4,
    "start_time": "2022-09-07T11:17:29.912Z"
   },
   {
    "duration": 7,
    "start_time": "2022-09-07T11:19:10.050Z"
   },
   {
    "duration": 8,
    "start_time": "2022-09-07T11:20:06.217Z"
   },
   {
    "duration": 5,
    "start_time": "2022-09-07T11:21:48.120Z"
   },
   {
    "duration": 8,
    "start_time": "2022-09-07T11:21:53.409Z"
   },
   {
    "duration": 7,
    "start_time": "2022-09-07T11:21:57.634Z"
   },
   {
    "duration": 4,
    "start_time": "2022-09-07T11:22:39.019Z"
   },
   {
    "duration": 4,
    "start_time": "2022-09-07T11:22:46.517Z"
   },
   {
    "duration": 8,
    "start_time": "2022-09-07T11:23:44.538Z"
   },
   {
    "duration": 7,
    "start_time": "2022-09-07T11:24:29.136Z"
   },
   {
    "duration": 7,
    "start_time": "2022-09-07T11:28:35.313Z"
   },
   {
    "duration": 4,
    "start_time": "2022-09-07T11:28:41.256Z"
   },
   {
    "duration": 4,
    "start_time": "2022-09-07T11:28:42.288Z"
   },
   {
    "duration": 3,
    "start_time": "2022-09-07T11:28:53.029Z"
   },
   {
    "duration": 7,
    "start_time": "2022-09-07T11:29:34.709Z"
   },
   {
    "duration": 3,
    "start_time": "2022-09-07T11:29:36.019Z"
   },
   {
    "duration": 3,
    "start_time": "2022-09-07T11:29:37.017Z"
   },
   {
    "duration": 7,
    "start_time": "2022-09-07T11:29:42.316Z"
   },
   {
    "duration": 4,
    "start_time": "2022-09-07T11:29:43.556Z"
   },
   {
    "duration": 4,
    "start_time": "2022-09-07T11:29:44.517Z"
   },
   {
    "duration": 6,
    "start_time": "2022-09-07T11:49:38.089Z"
   },
   {
    "duration": 1442,
    "start_time": "2022-09-07T11:55:34.347Z"
   },
   {
    "duration": 4,
    "start_time": "2022-09-07T11:55:35.791Z"
   },
   {
    "duration": 647,
    "start_time": "2022-09-07T11:55:35.796Z"
   },
   {
    "duration": 5,
    "start_time": "2022-09-07T11:55:36.445Z"
   },
   {
    "duration": 10,
    "start_time": "2022-09-07T11:55:36.451Z"
   },
   {
    "duration": 129,
    "start_time": "2022-09-07T11:55:36.462Z"
   },
   {
    "duration": 619,
    "start_time": "2022-09-07T11:55:36.598Z"
   },
   {
    "duration": 4,
    "start_time": "2022-09-07T11:55:37.219Z"
   },
   {
    "duration": 30,
    "start_time": "2022-09-07T11:55:37.225Z"
   },
   {
    "duration": 3,
    "start_time": "2022-09-07T11:55:37.259Z"
   },
   {
    "duration": 9,
    "start_time": "2022-09-07T11:55:37.264Z"
   },
   {
    "duration": 12,
    "start_time": "2022-09-07T11:55:37.275Z"
   },
   {
    "duration": 11,
    "start_time": "2022-09-07T11:55:37.289Z"
   },
   {
    "duration": 8,
    "start_time": "2022-09-07T11:55:37.301Z"
   },
   {
    "duration": 7,
    "start_time": "2022-09-07T11:55:37.311Z"
   },
   {
    "duration": 1874,
    "start_time": "2022-09-07T11:55:37.319Z"
   },
   {
    "duration": 18691,
    "start_time": "2022-09-07T11:55:39.198Z"
   },
   {
    "duration": 4049,
    "start_time": "2022-09-07T11:55:57.891Z"
   },
   {
    "duration": 16,
    "start_time": "2022-09-07T11:56:01.942Z"
   },
   {
    "duration": 36,
    "start_time": "2022-09-07T11:56:01.960Z"
   },
   {
    "duration": 33,
    "start_time": "2022-09-07T11:56:01.997Z"
   },
   {
    "duration": 22,
    "start_time": "2022-09-07T11:56:02.032Z"
   },
   {
    "duration": 8,
    "start_time": "2022-09-07T11:56:02.055Z"
   },
   {
    "duration": 34,
    "start_time": "2022-09-07T11:56:02.065Z"
   },
   {
    "duration": 7,
    "start_time": "2022-09-07T11:56:02.100Z"
   },
   {
    "duration": 16,
    "start_time": "2022-09-07T12:09:37.826Z"
   },
   {
    "duration": 466,
    "start_time": "2022-09-07T12:10:03.459Z"
   },
   {
    "duration": 437,
    "start_time": "2022-09-07T12:10:28.119Z"
   },
   {
    "duration": 462,
    "start_time": "2022-09-07T12:10:39.939Z"
   },
   {
    "duration": 456,
    "start_time": "2022-09-07T12:10:51.122Z"
   },
   {
    "duration": 485,
    "start_time": "2022-09-07T12:10:57.469Z"
   },
   {
    "duration": 1319,
    "start_time": "2022-09-07T12:17:18.883Z"
   },
   {
    "duration": 3,
    "start_time": "2022-09-07T12:17:20.204Z"
   },
   {
    "duration": 588,
    "start_time": "2022-09-07T12:17:20.208Z"
   },
   {
    "duration": 7,
    "start_time": "2022-09-07T12:17:20.799Z"
   },
   {
    "duration": 35,
    "start_time": "2022-09-07T12:17:20.808Z"
   },
   {
    "duration": 118,
    "start_time": "2022-09-07T12:17:20.845Z"
   },
   {
    "duration": 585,
    "start_time": "2022-09-07T12:17:20.965Z"
   },
   {
    "duration": 3,
    "start_time": "2022-09-07T12:17:21.552Z"
   },
   {
    "duration": 19,
    "start_time": "2022-09-07T12:17:21.556Z"
   },
   {
    "duration": 5,
    "start_time": "2022-09-07T12:17:21.577Z"
   },
   {
    "duration": 10,
    "start_time": "2022-09-07T12:17:21.583Z"
   },
   {
    "duration": 11,
    "start_time": "2022-09-07T12:17:21.595Z"
   },
   {
    "duration": 5,
    "start_time": "2022-09-07T12:17:21.607Z"
   },
   {
    "duration": 11,
    "start_time": "2022-09-07T12:17:21.613Z"
   },
   {
    "duration": 4,
    "start_time": "2022-09-07T12:17:21.625Z"
   },
   {
    "duration": 1828,
    "start_time": "2022-09-07T12:17:21.631Z"
   },
   {
    "duration": 19902,
    "start_time": "2022-09-07T12:17:23.460Z"
   },
   {
    "duration": 4606,
    "start_time": "2022-09-07T12:17:43.364Z"
   },
   {
    "duration": 18,
    "start_time": "2022-09-07T12:17:47.971Z"
   },
   {
    "duration": 7,
    "start_time": "2022-09-07T12:17:48.004Z"
   },
   {
    "duration": 20,
    "start_time": "2022-09-07T12:17:48.014Z"
   },
   {
    "duration": 24,
    "start_time": "2022-09-07T12:17:48.036Z"
   },
   {
    "duration": 6,
    "start_time": "2022-09-07T12:17:48.062Z"
   },
   {
    "duration": 48,
    "start_time": "2022-09-07T12:17:48.069Z"
   },
   {
    "duration": 9,
    "start_time": "2022-09-07T12:17:48.119Z"
   }
  ],
  "kernelspec": {
   "display_name": "Python 3 (ipykernel)",
   "language": "python",
   "name": "python3"
  },
  "language_info": {
   "codemirror_mode": {
    "name": "ipython",
    "version": 3
   },
   "file_extension": ".py",
   "mimetype": "text/x-python",
   "name": "python",
   "nbconvert_exporter": "python",
   "pygments_lexer": "ipython3",
   "version": "3.9.5"
  },
  "toc": {
   "base_numbering": 1,
   "nav_menu": {},
   "number_sections": true,
   "sideBar": true,
   "skip_h1_title": true,
   "title_cell": "Table of Contents",
   "title_sidebar": "Contents",
   "toc_cell": false,
   "toc_position": {},
   "toc_section_display": true,
   "toc_window_display": true
  }
 },
 "nbformat": 4,
 "nbformat_minor": 2
}
