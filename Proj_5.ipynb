{
 "cells": [
  {
   "cell_type": "markdown",
   "metadata": {},
   "source": [
    "# Выбор локации для скважины"
   ]
  },
  {
   "cell_type": "markdown",
   "metadata": {},
   "source": [
    "Допустим, вы работаете в добывающей компании «ГлавРосГосНефть». Нужно решить, где бурить новую скважину.\n",
    "\n",
    "Вам предоставлены пробы нефти в трёх регионах: в каждом 10 000 месторождений, где измерили качество нефти и объём её запасов. Постройте модель машинного обучения, которая поможет определить регион, где добыча принесёт наибольшую прибыль. Проанализируйте возможную прибыль и риски техникой *Bootstrap.*\n",
    "\n",
    "Шаги для выбора локации:\n",
    "\n",
    "- В избранном регионе ищут месторождения, для каждого определяют значения признаков;\n",
    "- Строят модель и оценивают объём запасов;\n",
    "- Выбирают месторождения с самым высокими оценками значений. Количество месторождений зависит от бюджета компании и стоимости разработки одной скважины;\n",
    "- Прибыль равна суммарной прибыли отобранных месторождений."
   ]
  },
  {
   "cell_type": "markdown",
   "metadata": {},
   "source": [
    "## Загрузка и подготовка данных"
   ]
  },
  {
   "cell_type": "code",
   "execution_count": 1,
   "metadata": {},
   "outputs": [],
   "source": [
    "import glob\n",
    "import math\n",
    "import os\n",
    "from collections import namedtuple\n",
    "\n",
    "import matplotlib.pyplot as plt\n",
    "import numpy as np\n",
    "import pandas as pd\n",
    "import seaborn as sns\n",
    "from scipy import stats as st\n",
    "from sklearn.linear_model import LinearRegression\n",
    "from sklearn.metrics import mean_squared_error\n",
    "from sklearn.model_selection import train_test_split\n",
    "from sklearn.preprocessing import StandardScaler\n",
    "from tqdm.notebook import tqdm, trange"
   ]
  },
  {
   "cell_type": "code",
   "execution_count": 2,
   "metadata": {},
   "outputs": [],
   "source": [
    "TARGET = 'product'\n",
    "state = np.random.RandomState(777)"
   ]
  },
  {
   "cell_type": "markdown",
   "metadata": {},
   "source": [
    "_____________\n",
    "**Используемые функции**"
   ]
  },
  {
   "cell_type": "code",
   "execution_count": 3,
   "metadata": {},
   "outputs": [],
   "source": [
    "# read file in DataFrame and show information about data \n",
    "def df_info(file_path: str,\n",
    "            target: str = TARGET,\n",
    "            **kwagrs) -> pd.DataFrame:\n",
    "    print(f'File: {file_path} \\n')\n",
    "    data =  pd.read_csv(file_path, **kwagrs)\n",
    "    data.info()\n",
    "    \n",
    "    print('─' * 40)\n",
    "    print('Data head')\n",
    "    display(data.head(3))\n",
    "    \n",
    "    print('─' * 40)\n",
    "    print('Data describe')\n",
    "    display(data.describe())\n",
    "    \n",
    "    print('─' * 40)\n",
    "    print(f'Duplicates {\"not\" if data.duplicated().sum()==0 else \"\"} detected')\n",
    "    print(f'Zero in target {(data[target] == 0).sum()}')\n",
    "    \n",
    "    print('─' * 40)\n",
    "    ax = pd.plotting.scatter_matrix(data, alpha=0.01, figsize=(15,6))\n",
    "    corr = data.corr().to_numpy()\n",
    "    for i in tqdm(range(4)):\n",
    "        for j in range(i+1,4):\n",
    "            ax[i, j].clear()\n",
    "            size_ = 10 if abs(corr[i,j]) < 0.2 else 50*abs(corr[i,j])\n",
    "            ax[i, j].annotate(f\"{corr[i,j]:.3f}\", (0.5, 0.5), xycoords='axes fraction',\n",
    "                              ha='center', va='center', size=size_)\n",
    "    plt.suptitle('Correlation information')\n",
    "    plt.show()\n",
    "    \n",
    "    \n",
    "    print('─' * 40)\n",
    "    _, ax = plt.subplots(nrows=2, figsize=(15,6))\n",
    "    data.loc[:, data.columns != target].plot(kind='box', vert=False, ax=ax[0], grid=True, title='Features')\n",
    "    data.loc[:, data.columns == target].plot(kind='box', vert=False, ax=ax[1], grid=True, title='Target')\n",
    "    plt.suptitle(\"Boxplotes\")\n",
    "    return data"
   ]
  },
  {
   "cell_type": "code",
   "execution_count": 4,
   "metadata": {},
   "outputs": [],
   "source": [
    "# split data to features and target \n",
    "def split_features_target(data: pd.DataFrame, target: str = TARGET) -> namedtuple:\n",
    "    result = namedtuple('features', 'target')\n",
    "    result.features = data.drop(columns= [target, 'id'])\n",
    "    result.target = data[target]\n",
    "    return result"
   ]
  },
  {
   "cell_type": "code",
   "execution_count": 5,
   "metadata": {},
   "outputs": [],
   "source": [
    "def standartiz(data: pd.DataFrame) -> pd.DataFrame:\n",
    "    scaler = StandardScaler()\n",
    "    result = pd.DataFrame(scaler.fit_transform(data), columns=data.columns)\n",
    "    display(result.head())\n",
    "    return result"
   ]
  },
  {
   "cell_type": "markdown",
   "metadata": {},
   "source": [
    "______________________"
   ]
  },
  {
   "cell_type": "markdown",
   "metadata": {},
   "source": [
    "Получим имена доступных файлов по шаблону."
   ]
  },
  {
   "cell_type": "code",
   "execution_count": 6,
   "metadata": {},
   "outputs": [
    {
     "data": {
      "text/plain": [
       "['/datasets/geo_data_0.csv',\n",
       " '/datasets/geo_data_1.csv',\n",
       " '/datasets/geo_data_2.csv']"
      ]
     },
     "execution_count": 6,
     "metadata": {},
     "output_type": "execute_result"
    }
   ],
   "source": [
    "file_names = glob.glob(os.path.join(\"/datasets\", \"geo_data*.csv\"))\n",
    "file_names"
   ]
  },
  {
   "cell_type": "markdown",
   "metadata": {},
   "source": [
    "Доступны 3 файла -  информация по 3 различным регионам. Загрузим данные по каждому из регионов в DataFrame и оценим полученные данные."
   ]
  },
  {
   "cell_type": "markdown",
   "metadata": {},
   "source": [
    "### Регион 1"
   ]
  },
  {
   "cell_type": "code",
   "execution_count": 7,
   "metadata": {},
   "outputs": [
    {
     "name": "stdout",
     "output_type": "stream",
     "text": [
      "File: /datasets/geo_data_0.csv \n",
      "\n",
      "<class 'pandas.core.frame.DataFrame'>\n",
      "RangeIndex: 100000 entries, 0 to 99999\n",
      "Data columns (total 5 columns):\n",
      " #   Column   Non-Null Count   Dtype  \n",
      "---  ------   --------------   -----  \n",
      " 0   id       100000 non-null  object \n",
      " 1   f0       100000 non-null  float64\n",
      " 2   f1       100000 non-null  float64\n",
      " 3   f2       100000 non-null  float64\n",
      " 4   product  100000 non-null  float64\n",
      "dtypes: float64(4), object(1)\n",
      "memory usage: 3.8+ MB\n",
      "────────────────────────────────────────\n",
      "Data head\n"
     ]
    },
    {
     "data": {
      "text/html": [
       "<div>\n",
       "<style scoped>\n",
       "    .dataframe tbody tr th:only-of-type {\n",
       "        vertical-align: middle;\n",
       "    }\n",
       "\n",
       "    .dataframe tbody tr th {\n",
       "        vertical-align: top;\n",
       "    }\n",
       "\n",
       "    .dataframe thead th {\n",
       "        text-align: right;\n",
       "    }\n",
       "</style>\n",
       "<table border=\"1\" class=\"dataframe\">\n",
       "  <thead>\n",
       "    <tr style=\"text-align: right;\">\n",
       "      <th></th>\n",
       "      <th>id</th>\n",
       "      <th>f0</th>\n",
       "      <th>f1</th>\n",
       "      <th>f2</th>\n",
       "      <th>product</th>\n",
       "    </tr>\n",
       "  </thead>\n",
       "  <tbody>\n",
       "    <tr>\n",
       "      <th>0</th>\n",
       "      <td>txEyH</td>\n",
       "      <td>0.705745</td>\n",
       "      <td>-0.497823</td>\n",
       "      <td>1.221170</td>\n",
       "      <td>105.280062</td>\n",
       "    </tr>\n",
       "    <tr>\n",
       "      <th>1</th>\n",
       "      <td>2acmU</td>\n",
       "      <td>1.334711</td>\n",
       "      <td>-0.340164</td>\n",
       "      <td>4.365080</td>\n",
       "      <td>73.037750</td>\n",
       "    </tr>\n",
       "    <tr>\n",
       "      <th>2</th>\n",
       "      <td>409Wp</td>\n",
       "      <td>1.022732</td>\n",
       "      <td>0.151990</td>\n",
       "      <td>1.419926</td>\n",
       "      <td>85.265647</td>\n",
       "    </tr>\n",
       "  </tbody>\n",
       "</table>\n",
       "</div>"
      ],
      "text/plain": [
       "      id        f0        f1        f2     product\n",
       "0  txEyH  0.705745 -0.497823  1.221170  105.280062\n",
       "1  2acmU  1.334711 -0.340164  4.365080   73.037750\n",
       "2  409Wp  1.022732  0.151990  1.419926   85.265647"
      ]
     },
     "metadata": {},
     "output_type": "display_data"
    },
    {
     "name": "stdout",
     "output_type": "stream",
     "text": [
      "────────────────────────────────────────\n",
      "Data describe\n"
     ]
    },
    {
     "data": {
      "text/html": [
       "<div>\n",
       "<style scoped>\n",
       "    .dataframe tbody tr th:only-of-type {\n",
       "        vertical-align: middle;\n",
       "    }\n",
       "\n",
       "    .dataframe tbody tr th {\n",
       "        vertical-align: top;\n",
       "    }\n",
       "\n",
       "    .dataframe thead th {\n",
       "        text-align: right;\n",
       "    }\n",
       "</style>\n",
       "<table border=\"1\" class=\"dataframe\">\n",
       "  <thead>\n",
       "    <tr style=\"text-align: right;\">\n",
       "      <th></th>\n",
       "      <th>f0</th>\n",
       "      <th>f1</th>\n",
       "      <th>f2</th>\n",
       "      <th>product</th>\n",
       "    </tr>\n",
       "  </thead>\n",
       "  <tbody>\n",
       "    <tr>\n",
       "      <th>count</th>\n",
       "      <td>100000.000000</td>\n",
       "      <td>100000.000000</td>\n",
       "      <td>100000.000000</td>\n",
       "      <td>100000.000000</td>\n",
       "    </tr>\n",
       "    <tr>\n",
       "      <th>mean</th>\n",
       "      <td>0.500419</td>\n",
       "      <td>0.250143</td>\n",
       "      <td>2.502647</td>\n",
       "      <td>92.500000</td>\n",
       "    </tr>\n",
       "    <tr>\n",
       "      <th>std</th>\n",
       "      <td>0.871832</td>\n",
       "      <td>0.504433</td>\n",
       "      <td>3.248248</td>\n",
       "      <td>44.288691</td>\n",
       "    </tr>\n",
       "    <tr>\n",
       "      <th>min</th>\n",
       "      <td>-1.408605</td>\n",
       "      <td>-0.848218</td>\n",
       "      <td>-12.088328</td>\n",
       "      <td>0.000000</td>\n",
       "    </tr>\n",
       "    <tr>\n",
       "      <th>25%</th>\n",
       "      <td>-0.072580</td>\n",
       "      <td>-0.200881</td>\n",
       "      <td>0.287748</td>\n",
       "      <td>56.497507</td>\n",
       "    </tr>\n",
       "    <tr>\n",
       "      <th>50%</th>\n",
       "      <td>0.502360</td>\n",
       "      <td>0.250252</td>\n",
       "      <td>2.515969</td>\n",
       "      <td>91.849972</td>\n",
       "    </tr>\n",
       "    <tr>\n",
       "      <th>75%</th>\n",
       "      <td>1.073581</td>\n",
       "      <td>0.700646</td>\n",
       "      <td>4.715088</td>\n",
       "      <td>128.564089</td>\n",
       "    </tr>\n",
       "    <tr>\n",
       "      <th>max</th>\n",
       "      <td>2.362331</td>\n",
       "      <td>1.343769</td>\n",
       "      <td>16.003790</td>\n",
       "      <td>185.364347</td>\n",
       "    </tr>\n",
       "  </tbody>\n",
       "</table>\n",
       "</div>"
      ],
      "text/plain": [
       "                  f0             f1             f2        product\n",
       "count  100000.000000  100000.000000  100000.000000  100000.000000\n",
       "mean        0.500419       0.250143       2.502647      92.500000\n",
       "std         0.871832       0.504433       3.248248      44.288691\n",
       "min        -1.408605      -0.848218     -12.088328       0.000000\n",
       "25%        -0.072580      -0.200881       0.287748      56.497507\n",
       "50%         0.502360       0.250252       2.515969      91.849972\n",
       "75%         1.073581       0.700646       4.715088     128.564089\n",
       "max         2.362331       1.343769      16.003790     185.364347"
      ]
     },
     "metadata": {},
     "output_type": "display_data"
    },
    {
     "name": "stdout",
     "output_type": "stream",
     "text": [
      "────────────────────────────────────────\n",
      "Duplicates not detected\n",
      "Zero in target 1\n",
      "────────────────────────────────────────\n"
     ]
    },
    {
     "data": {
      "application/vnd.jupyter.widget-view+json": {
       "model_id": "ca0f155a105042d0a776078e11a966ab",
       "version_major": 2,
       "version_minor": 0
      },
      "text/plain": [
       "  0%|          | 0/4 [00:00<?, ?it/s]"
      ]
     },
     "metadata": {},
     "output_type": "display_data"
    },
    {
     "data": {
      "image/png": "[encoded data removed]",
      "text/plain": [
       "<Figure size 1080x432 with 16 Axes>"
      ]
     },
     "metadata": {
      "needs_background": "light"
     },
     "output_type": "display_data"
    },
    {
     "name": "stdout",
     "output_type": "stream",
     "text": [
      "────────────────────────────────────────\n"
     ]
    },
    {
     "data": {
      "image/png": "[encoded data removed]",
      "text/plain": [
       "<Figure size 1080x432 with 2 Axes>"
      ]
     },
     "metadata": {
      "needs_background": "light"
     },
     "output_type": "display_data"
    }
   ],
   "source": [
    "df_region_1 = df_info(file_names[0])"
   ]
  },
  {
   "cell_type": "markdown",
   "metadata": {},
   "source": [
    "### Регион 2"
   ]
  },
  {
   "cell_type": "code",
   "execution_count": 8,
   "metadata": {},
   "outputs": [
    {
     "name": "stdout",
     "output_type": "stream",
     "text": [
      "File: /datasets/geo_data_1.csv \n",
      "\n",
      "<class 'pandas.core.frame.DataFrame'>\n",
      "RangeIndex: 100000 entries, 0 to 99999\n",
      "Data columns (total 5 columns):\n",
      " #   Column   Non-Null Count   Dtype  \n",
      "---  ------   --------------   -----  \n",
      " 0   id       100000 non-null  object \n",
      " 1   f0       100000 non-null  float64\n",
      " 2   f1       100000 non-null  float64\n",
      " 3   f2       100000 non-null  float64\n",
      " 4   product  100000 non-null  float64\n",
      "dtypes: float64(4), object(1)\n",
      "memory usage: 3.8+ MB\n",
      "────────────────────────────────────────\n",
      "Data head\n"
     ]
    },
    {
     "data": {
      "text/html": [
       "<div>\n",
       "<style scoped>\n",
       "    .dataframe tbody tr th:only-of-type {\n",
       "        vertical-align: middle;\n",
       "    }\n",
       "\n",
       "    .dataframe tbody tr th {\n",
       "        vertical-align: top;\n",
       "    }\n",
       "\n",
       "    .dataframe thead th {\n",
       "        text-align: right;\n",
       "    }\n",
       "</style>\n",
       "<table border=\"1\" class=\"dataframe\">\n",
       "  <thead>\n",
       "    <tr style=\"text-align: right;\">\n",
       "      <th></th>\n",
       "      <th>id</th>\n",
       "      <th>f0</th>\n",
       "      <th>f1</th>\n",
       "      <th>f2</th>\n",
       "      <th>product</th>\n",
       "    </tr>\n",
       "  </thead>\n",
       "  <tbody>\n",
       "    <tr>\n",
       "      <th>0</th>\n",
       "      <td>kBEdx</td>\n",
       "      <td>-15.001348</td>\n",
       "      <td>-8.276000</td>\n",
       "      <td>-0.005876</td>\n",
       "      <td>3.179103</td>\n",
       "    </tr>\n",
       "    <tr>\n",
       "      <th>1</th>\n",
       "      <td>62mP7</td>\n",
       "      <td>14.272088</td>\n",
       "      <td>-3.475083</td>\n",
       "      <td>0.999183</td>\n",
       "      <td>26.953261</td>\n",
       "    </tr>\n",
       "    <tr>\n",
       "      <th>2</th>\n",
       "      <td>vyE1P</td>\n",
       "      <td>6.263187</td>\n",
       "      <td>-5.948386</td>\n",
       "      <td>5.001160</td>\n",
       "      <td>134.766305</td>\n",
       "    </tr>\n",
       "  </tbody>\n",
       "</table>\n",
       "</div>"
      ],
      "text/plain": [
       "      id         f0        f1        f2     product\n",
       "0  kBEdx -15.001348 -8.276000 -0.005876    3.179103\n",
       "1  62mP7  14.272088 -3.475083  0.999183   26.953261\n",
       "2  vyE1P   6.263187 -5.948386  5.001160  134.766305"
      ]
     },
     "metadata": {},
     "output_type": "display_data"
    },
    {
     "name": "stdout",
     "output_type": "stream",
     "text": [
      "────────────────────────────────────────\n",
      "Data describe\n"
     ]
    },
    {
     "data": {
      "text/html": [
       "<div>\n",
       "<style scoped>\n",
       "    .dataframe tbody tr th:only-of-type {\n",
       "        vertical-align: middle;\n",
       "    }\n",
       "\n",
       "    .dataframe tbody tr th {\n",
       "        vertical-align: top;\n",
       "    }\n",
       "\n",
       "    .dataframe thead th {\n",
       "        text-align: right;\n",
       "    }\n",
       "</style>\n",
       "<table border=\"1\" class=\"dataframe\">\n",
       "  <thead>\n",
       "    <tr style=\"text-align: right;\">\n",
       "      <th></th>\n",
       "      <th>f0</th>\n",
       "      <th>f1</th>\n",
       "      <th>f2</th>\n",
       "      <th>product</th>\n",
       "    </tr>\n",
       "  </thead>\n",
       "  <tbody>\n",
       "    <tr>\n",
       "      <th>count</th>\n",
       "      <td>100000.000000</td>\n",
       "      <td>100000.000000</td>\n",
       "      <td>100000.000000</td>\n",
       "      <td>100000.000000</td>\n",
       "    </tr>\n",
       "    <tr>\n",
       "      <th>mean</th>\n",
       "      <td>1.141296</td>\n",
       "      <td>-4.796579</td>\n",
       "      <td>2.494541</td>\n",
       "      <td>68.825000</td>\n",
       "    </tr>\n",
       "    <tr>\n",
       "      <th>std</th>\n",
       "      <td>8.965932</td>\n",
       "      <td>5.119872</td>\n",
       "      <td>1.703572</td>\n",
       "      <td>45.944423</td>\n",
       "    </tr>\n",
       "    <tr>\n",
       "      <th>min</th>\n",
       "      <td>-31.609576</td>\n",
       "      <td>-26.358598</td>\n",
       "      <td>-0.018144</td>\n",
       "      <td>0.000000</td>\n",
       "    </tr>\n",
       "    <tr>\n",
       "      <th>25%</th>\n",
       "      <td>-6.298551</td>\n",
       "      <td>-8.267985</td>\n",
       "      <td>1.000021</td>\n",
       "      <td>26.953261</td>\n",
       "    </tr>\n",
       "    <tr>\n",
       "      <th>50%</th>\n",
       "      <td>1.153055</td>\n",
       "      <td>-4.813172</td>\n",
       "      <td>2.011479</td>\n",
       "      <td>57.085625</td>\n",
       "    </tr>\n",
       "    <tr>\n",
       "      <th>75%</th>\n",
       "      <td>8.621015</td>\n",
       "      <td>-1.332816</td>\n",
       "      <td>3.999904</td>\n",
       "      <td>107.813044</td>\n",
       "    </tr>\n",
       "    <tr>\n",
       "      <th>max</th>\n",
       "      <td>29.421755</td>\n",
       "      <td>18.734063</td>\n",
       "      <td>5.019721</td>\n",
       "      <td>137.945408</td>\n",
       "    </tr>\n",
       "  </tbody>\n",
       "</table>\n",
       "</div>"
      ],
      "text/plain": [
       "                  f0             f1             f2        product\n",
       "count  100000.000000  100000.000000  100000.000000  100000.000000\n",
       "mean        1.141296      -4.796579       2.494541      68.825000\n",
       "std         8.965932       5.119872       1.703572      45.944423\n",
       "min       -31.609576     -26.358598      -0.018144       0.000000\n",
       "25%        -6.298551      -8.267985       1.000021      26.953261\n",
       "50%         1.153055      -4.813172       2.011479      57.085625\n",
       "75%         8.621015      -1.332816       3.999904     107.813044\n",
       "max        29.421755      18.734063       5.019721     137.945408"
      ]
     },
     "metadata": {},
     "output_type": "display_data"
    },
    {
     "name": "stdout",
     "output_type": "stream",
     "text": [
      "────────────────────────────────────────\n",
      "Duplicates not detected\n",
      "Zero in target 8235\n",
      "────────────────────────────────────────\n"
     ]
    },
    {
     "data": {
      "application/vnd.jupyter.widget-view+json": {
       "model_id": "9539c852c2194e76b8f7aaed70ab95ae",
       "version_major": 2,
       "version_minor": 0
      },
      "text/plain": [
       "  0%|          | 0/4 [00:00<?, ?it/s]"
      ]
     },
     "metadata": {},
     "output_type": "display_data"
    },
    {
     "data": {
      "image/png": "[encoded data removed]",
      "text/plain": [
       "<Figure size 1080x432 with 16 Axes>"
      ]
     },
     "metadata": {
      "needs_background": "light"
     },
     "output_type": "display_data"
    },
    {
     "name": "stdout",
     "output_type": "stream",
     "text": [
      "────────────────────────────────────────\n"
     ]
    },
    {
     "data": {
      "image/png": "[encoded data removed]",
      "text/plain": [
       "<Figure size 1080x432 with 2 Axes>"
      ]
     },
     "metadata": {
      "needs_background": "light"
     },
     "output_type": "display_data"
    }
   ],
   "source": [
    "df_region_2 = df_info(file_names[1])"
   ]
  },
  {
   "cell_type": "markdown",
   "metadata": {},
   "source": [
    "### Регион 3"
   ]
  },
  {
   "cell_type": "code",
   "execution_count": 9,
   "metadata": {},
   "outputs": [
    {
     "name": "stdout",
     "output_type": "stream",
     "text": [
      "File: /datasets/geo_data_2.csv \n",
      "\n",
      "<class 'pandas.core.frame.DataFrame'>\n",
      "RangeIndex: 100000 entries, 0 to 99999\n",
      "Data columns (total 5 columns):\n",
      " #   Column   Non-Null Count   Dtype  \n",
      "---  ------   --------------   -----  \n",
      " 0   id       100000 non-null  object \n",
      " 1   f0       100000 non-null  float64\n",
      " 2   f1       100000 non-null  float64\n",
      " 3   f2       100000 non-null  float64\n",
      " 4   product  100000 non-null  float64\n",
      "dtypes: float64(4), object(1)\n",
      "memory usage: 3.8+ MB\n",
      "────────────────────────────────────────\n",
      "Data head\n"
     ]
    },
    {
     "data": {
      "text/html": [
       "<div>\n",
       "<style scoped>\n",
       "    .dataframe tbody tr th:only-of-type {\n",
       "        vertical-align: middle;\n",
       "    }\n",
       "\n",
       "    .dataframe tbody tr th {\n",
       "        vertical-align: top;\n",
       "    }\n",
       "\n",
       "    .dataframe thead th {\n",
       "        text-align: right;\n",
       "    }\n",
       "</style>\n",
       "<table border=\"1\" class=\"dataframe\">\n",
       "  <thead>\n",
       "    <tr style=\"text-align: right;\">\n",
       "      <th></th>\n",
       "      <th>id</th>\n",
       "      <th>f0</th>\n",
       "      <th>f1</th>\n",
       "      <th>f2</th>\n",
       "      <th>product</th>\n",
       "    </tr>\n",
       "  </thead>\n",
       "  <tbody>\n",
       "    <tr>\n",
       "      <th>0</th>\n",
       "      <td>fwXo0</td>\n",
       "      <td>-1.146987</td>\n",
       "      <td>0.963328</td>\n",
       "      <td>-0.828965</td>\n",
       "      <td>27.758673</td>\n",
       "    </tr>\n",
       "    <tr>\n",
       "      <th>1</th>\n",
       "      <td>WJtFt</td>\n",
       "      <td>0.262778</td>\n",
       "      <td>0.269839</td>\n",
       "      <td>-2.530187</td>\n",
       "      <td>56.069697</td>\n",
       "    </tr>\n",
       "    <tr>\n",
       "      <th>2</th>\n",
       "      <td>ovLUW</td>\n",
       "      <td>0.194587</td>\n",
       "      <td>0.289035</td>\n",
       "      <td>-5.586433</td>\n",
       "      <td>62.871910</td>\n",
       "    </tr>\n",
       "  </tbody>\n",
       "</table>\n",
       "</div>"
      ],
      "text/plain": [
       "      id        f0        f1        f2    product\n",
       "0  fwXo0 -1.146987  0.963328 -0.828965  27.758673\n",
       "1  WJtFt  0.262778  0.269839 -2.530187  56.069697\n",
       "2  ovLUW  0.194587  0.289035 -5.586433  62.871910"
      ]
     },
     "metadata": {},
     "output_type": "display_data"
    },
    {
     "name": "stdout",
     "output_type": "stream",
     "text": [
      "────────────────────────────────────────\n",
      "Data describe\n"
     ]
    },
    {
     "data": {
      "text/html": [
       "<div>\n",
       "<style scoped>\n",
       "    .dataframe tbody tr th:only-of-type {\n",
       "        vertical-align: middle;\n",
       "    }\n",
       "\n",
       "    .dataframe tbody tr th {\n",
       "        vertical-align: top;\n",
       "    }\n",
       "\n",
       "    .dataframe thead th {\n",
       "        text-align: right;\n",
       "    }\n",
       "</style>\n",
       "<table border=\"1\" class=\"dataframe\">\n",
       "  <thead>\n",
       "    <tr style=\"text-align: right;\">\n",
       "      <th></th>\n",
       "      <th>f0</th>\n",
       "      <th>f1</th>\n",
       "      <th>f2</th>\n",
       "      <th>product</th>\n",
       "    </tr>\n",
       "  </thead>\n",
       "  <tbody>\n",
       "    <tr>\n",
       "      <th>count</th>\n",
       "      <td>100000.000000</td>\n",
       "      <td>100000.000000</td>\n",
       "      <td>100000.000000</td>\n",
       "      <td>100000.000000</td>\n",
       "    </tr>\n",
       "    <tr>\n",
       "      <th>mean</th>\n",
       "      <td>0.002023</td>\n",
       "      <td>-0.002081</td>\n",
       "      <td>2.495128</td>\n",
       "      <td>95.000000</td>\n",
       "    </tr>\n",
       "    <tr>\n",
       "      <th>std</th>\n",
       "      <td>1.732045</td>\n",
       "      <td>1.730417</td>\n",
       "      <td>3.473445</td>\n",
       "      <td>44.749921</td>\n",
       "    </tr>\n",
       "    <tr>\n",
       "      <th>min</th>\n",
       "      <td>-8.760004</td>\n",
       "      <td>-7.084020</td>\n",
       "      <td>-11.970335</td>\n",
       "      <td>0.000000</td>\n",
       "    </tr>\n",
       "    <tr>\n",
       "      <th>25%</th>\n",
       "      <td>-1.162288</td>\n",
       "      <td>-1.174820</td>\n",
       "      <td>0.130359</td>\n",
       "      <td>59.450441</td>\n",
       "    </tr>\n",
       "    <tr>\n",
       "      <th>50%</th>\n",
       "      <td>0.009424</td>\n",
       "      <td>-0.009482</td>\n",
       "      <td>2.484236</td>\n",
       "      <td>94.925613</td>\n",
       "    </tr>\n",
       "    <tr>\n",
       "      <th>75%</th>\n",
       "      <td>1.158535</td>\n",
       "      <td>1.163678</td>\n",
       "      <td>4.858794</td>\n",
       "      <td>130.595027</td>\n",
       "    </tr>\n",
       "    <tr>\n",
       "      <th>max</th>\n",
       "      <td>7.238262</td>\n",
       "      <td>7.844801</td>\n",
       "      <td>16.739402</td>\n",
       "      <td>190.029838</td>\n",
       "    </tr>\n",
       "  </tbody>\n",
       "</table>\n",
       "</div>"
      ],
      "text/plain": [
       "                  f0             f1             f2        product\n",
       "count  100000.000000  100000.000000  100000.000000  100000.000000\n",
       "mean        0.002023      -0.002081       2.495128      95.000000\n",
       "std         1.732045       1.730417       3.473445      44.749921\n",
       "min        -8.760004      -7.084020     -11.970335       0.000000\n",
       "25%        -1.162288      -1.174820       0.130359      59.450441\n",
       "50%         0.009424      -0.009482       2.484236      94.925613\n",
       "75%         1.158535       1.163678       4.858794     130.595027\n",
       "max         7.238262       7.844801      16.739402     190.029838"
      ]
     },
     "metadata": {},
     "output_type": "display_data"
    },
    {
     "name": "stdout",
     "output_type": "stream",
     "text": [
      "────────────────────────────────────────\n",
      "Duplicates not detected\n",
      "Zero in target 1\n",
      "────────────────────────────────────────\n"
     ]
    },
    {
     "data": {
      "application/vnd.jupyter.widget-view+json": {
       "model_id": "b430a91594ae447ca581d592e19e9b4c",
       "version_major": 2,
       "version_minor": 0
      },
      "text/plain": [
       "  0%|          | 0/4 [00:00<?, ?it/s]"
      ]
     },
     "metadata": {},
     "output_type": "display_data"
    },
    {
     "data": {
      "image/png": "[encoded data removed]",
      "text/plain": [
       "<Figure size 1080x432 with 16 Axes>"
      ]
     },
     "metadata": {
      "needs_background": "light"
     },
     "output_type": "display_data"
    },
    {
     "name": "stdout",
     "output_type": "stream",
     "text": [
      "────────────────────────────────────────\n"
     ]
    },
    {
     "data": {
      "image/png": "[encoded data removed]",
      "text/plain": [
       "<Figure size 1080x432 with 2 Axes>"
      ]
     },
     "metadata": {
      "needs_background": "light"
     },
     "output_type": "display_data"
    }
   ],
   "source": [
    "df_region_3 = df_info(file_names[2])"
   ]
  },
  {
   "cell_type": "markdown",
   "metadata": {},
   "source": [
    "**Вывод:**"
   ]
  },
  {
   "cell_type": "markdown",
   "metadata": {},
   "source": [
    "Во всех данных пропущенных значений нет, аномальных значений нет, дубликатов нет. <br>\n",
    "В 1 и 3 регионе распределение целевого признака похоже на нормальное, тогда как во 2 регионе ближе к равномерному. <br>\n",
    "Во 2 регионе есть **8235** нулевых целевых значений, это 8% от общего. Возможно, в этих данных содержится ошибка или же данные скважины действительно пустые. Оставим их."
   ]
  },
  {
   "cell_type": "markdown",
   "metadata": {},
   "source": [
    "______________________"
   ]
  },
  {
   "cell_type": "markdown",
   "metadata": {},
   "source": [
    "### Подготовка данных"
   ]
  },
  {
   "cell_type": "markdown",
   "metadata": {},
   "source": [
    "**Разделим** данные на целевой признак и признаки."
   ]
  },
  {
   "cell_type": "code",
   "execution_count": 10,
   "metadata": {},
   "outputs": [],
   "source": [
    "for i in range(1,4):\n",
    "    exec(f'region_{i} = split_features_target(df_region_{i})')"
   ]
  },
  {
   "cell_type": "markdown",
   "metadata": {},
   "source": [
    "Стандартизируем значения признаков."
   ]
  },
  {
   "cell_type": "code",
   "execution_count": 11,
   "metadata": {},
   "outputs": [
    {
     "name": "stdout",
     "output_type": "stream",
     "text": [
      "\n",
      "Region 1\n"
     ]
    },
    {
     "data": {
      "text/html": [
       "<div>\n",
       "<style scoped>\n",
       "    .dataframe tbody tr th:only-of-type {\n",
       "        vertical-align: middle;\n",
       "    }\n",
       "\n",
       "    .dataframe tbody tr th {\n",
       "        vertical-align: top;\n",
       "    }\n",
       "\n",
       "    .dataframe thead th {\n",
       "        text-align: right;\n",
       "    }\n",
       "</style>\n",
       "<table border=\"1\" class=\"dataframe\">\n",
       "  <thead>\n",
       "    <tr style=\"text-align: right;\">\n",
       "      <th></th>\n",
       "      <th>f0</th>\n",
       "      <th>f1</th>\n",
       "      <th>f2</th>\n",
       "    </tr>\n",
       "  </thead>\n",
       "  <tbody>\n",
       "    <tr>\n",
       "      <th>0</th>\n",
       "      <td>0.235512</td>\n",
       "      <td>-1.482793</td>\n",
       "      <td>-0.394515</td>\n",
       "    </tr>\n",
       "    <tr>\n",
       "      <th>1</th>\n",
       "      <td>0.956946</td>\n",
       "      <td>-1.170246</td>\n",
       "      <td>0.573368</td>\n",
       "    </tr>\n",
       "    <tr>\n",
       "      <th>2</th>\n",
       "      <td>0.599101</td>\n",
       "      <td>-0.194581</td>\n",
       "      <td>-0.333326</td>\n",
       "    </tr>\n",
       "    <tr>\n",
       "      <th>3</th>\n",
       "      <td>-0.610890</td>\n",
       "      <td>-0.220269</td>\n",
       "      <td>0.146516</td>\n",
       "    </tr>\n",
       "    <tr>\n",
       "      <th>4</th>\n",
       "      <td>1.706773</td>\n",
       "      <td>-0.187797</td>\n",
       "      <td>0.692414</td>\n",
       "    </tr>\n",
       "  </tbody>\n",
       "</table>\n",
       "</div>"
      ],
      "text/plain": [
       "         f0        f1        f2\n",
       "0  0.235512 -1.482793 -0.394515\n",
       "1  0.956946 -1.170246  0.573368\n",
       "2  0.599101 -0.194581 -0.333326\n",
       "3 -0.610890 -0.220269  0.146516\n",
       "4  1.706773 -0.187797  0.692414"
      ]
     },
     "metadata": {},
     "output_type": "display_data"
    },
    {
     "name": "stdout",
     "output_type": "stream",
     "text": [
      "\n",
      "Region 2\n"
     ]
    },
    {
     "data": {
      "text/html": [
       "<div>\n",
       "<style scoped>\n",
       "    .dataframe tbody tr th:only-of-type {\n",
       "        vertical-align: middle;\n",
       "    }\n",
       "\n",
       "    .dataframe tbody tr th {\n",
       "        vertical-align: top;\n",
       "    }\n",
       "\n",
       "    .dataframe thead th {\n",
       "        text-align: right;\n",
       "    }\n",
       "</style>\n",
       "<table border=\"1\" class=\"dataframe\">\n",
       "  <thead>\n",
       "    <tr style=\"text-align: right;\">\n",
       "      <th></th>\n",
       "      <th>f0</th>\n",
       "      <th>f1</th>\n",
       "      <th>f2</th>\n",
       "    </tr>\n",
       "  </thead>\n",
       "  <tbody>\n",
       "    <tr>\n",
       "      <th>0</th>\n",
       "      <td>-1.800451</td>\n",
       "      <td>-0.679595</td>\n",
       "      <td>-1.467757</td>\n",
       "    </tr>\n",
       "    <tr>\n",
       "      <th>1</th>\n",
       "      <td>1.464528</td>\n",
       "      <td>0.258112</td>\n",
       "      <td>-0.877783</td>\n",
       "    </tr>\n",
       "    <tr>\n",
       "      <th>2</th>\n",
       "      <td>0.571264</td>\n",
       "      <td>-0.224969</td>\n",
       "      <td>1.471398</td>\n",
       "    </tr>\n",
       "    <tr>\n",
       "      <th>3</th>\n",
       "      <td>-1.586290</td>\n",
       "      <td>-1.310484</td>\n",
       "      <td>1.470373</td>\n",
       "    </tr>\n",
       "    <tr>\n",
       "      <th>4</th>\n",
       "      <td>1.289432</td>\n",
       "      <td>-0.654483</td>\n",
       "      <td>1.473278</td>\n",
       "    </tr>\n",
       "  </tbody>\n",
       "</table>\n",
       "</div>"
      ],
      "text/plain": [
       "         f0        f1        f2\n",
       "0 -1.800451 -0.679595 -1.467757\n",
       "1  1.464528  0.258112 -0.877783\n",
       "2  0.571264 -0.224969  1.471398\n",
       "3 -1.586290 -1.310484  1.470373\n",
       "4  1.289432 -0.654483  1.473278"
      ]
     },
     "metadata": {},
     "output_type": "display_data"
    },
    {
     "name": "stdout",
     "output_type": "stream",
     "text": [
      "\n",
      "Region 3\n"
     ]
    },
    {
     "data": {
      "text/html": [
       "<div>\n",
       "<style scoped>\n",
       "    .dataframe tbody tr th:only-of-type {\n",
       "        vertical-align: middle;\n",
       "    }\n",
       "\n",
       "    .dataframe tbody tr th {\n",
       "        vertical-align: top;\n",
       "    }\n",
       "\n",
       "    .dataframe thead th {\n",
       "        text-align: right;\n",
       "    }\n",
       "</style>\n",
       "<table border=\"1\" class=\"dataframe\">\n",
       "  <thead>\n",
       "    <tr style=\"text-align: right;\">\n",
       "      <th></th>\n",
       "      <th>f0</th>\n",
       "      <th>f1</th>\n",
       "      <th>f2</th>\n",
       "    </tr>\n",
       "  </thead>\n",
       "  <tbody>\n",
       "    <tr>\n",
       "      <th>0</th>\n",
       "      <td>-0.663387</td>\n",
       "      <td>0.557908</td>\n",
       "      <td>-0.957007</td>\n",
       "    </tr>\n",
       "    <tr>\n",
       "      <th>1</th>\n",
       "      <td>0.150548</td>\n",
       "      <td>0.157142</td>\n",
       "      <td>-1.446788</td>\n",
       "    </tr>\n",
       "    <tr>\n",
       "      <th>2</th>\n",
       "      <td>0.111178</td>\n",
       "      <td>0.168235</td>\n",
       "      <td>-2.326682</td>\n",
       "    </tr>\n",
       "    <tr>\n",
       "      <th>3</th>\n",
       "      <td>1.289833</td>\n",
       "      <td>-0.318815</td>\n",
       "      <td>-0.450590</td>\n",
       "    </tr>\n",
       "    <tr>\n",
       "      <th>4</th>\n",
       "      <td>-0.299079</td>\n",
       "      <td>0.993029</td>\n",
       "      <td>0.979978</td>\n",
       "    </tr>\n",
       "  </tbody>\n",
       "</table>\n",
       "</div>"
      ],
      "text/plain": [
       "         f0        f1        f2\n",
       "0 -0.663387  0.557908 -0.957007\n",
       "1  0.150548  0.157142 -1.446788\n",
       "2  0.111178  0.168235 -2.326682\n",
       "3  1.289833 -0.318815 -0.450590\n",
       "4 -0.299079  0.993029  0.979978"
      ]
     },
     "metadata": {},
     "output_type": "display_data"
    }
   ],
   "source": [
    "for i in range(1,4):\n",
    "    print(f'\\nRegion {i}')\n",
    "    exec(f'region_{i}.features = standartiz(region_{i}.features)')"
   ]
  },
  {
   "cell_type": "markdown",
   "metadata": {},
   "source": [
    "**Вывод:**"
   ]
  },
  {
   "cell_type": "markdown",
   "metadata": {},
   "source": [
    "- загружены данные из файлов\n",
    "- проведена проверка на пропуски, дубликаты и аномальные значения\n",
    "- данные разбиты на целевой признак и признаки\n",
    "- произведена стандартизация признаков"
   ]
  },
  {
   "cell_type": "markdown",
   "metadata": {},
   "source": [
    "## Обучение и проверка модели"
   ]
  },
  {
   "cell_type": "markdown",
   "metadata": {},
   "source": [
    "_____________\n",
    "**Используемые функции**"
   ]
  },
  {
   "cell_type": "code",
   "execution_count": 12,
   "metadata": {},
   "outputs": [],
   "source": [
    "def split_train_validate(data: pd.DataFrame, \n",
    "                         test_size: float = 0.25) -> namedtuple:\n",
    "    train = namedtuple('features', 'target')\n",
    "    valid = namedtuple('features', 'target')\n",
    "    train.features, valid.features, train.target, valid.target = train_test_split(data.features, \n",
    "                                                                                  data.target, \n",
    "                                                                                  test_size=0.25,\n",
    "                                                                                  random_state=state)\n",
    "    print(f\"Training sample size {len(train.features)}, percentage of total {len(train.features)/len(data.features):.0%}\")\n",
    "    print(f\"Validation sample size {len(valid.features)}, percentage of total {len(valid.features)/len(data.features):.0%}\")\n",
    "    return train, valid"
   ]
  },
  {
   "cell_type": "code",
   "execution_count": 13,
   "metadata": {},
   "outputs": [],
   "source": [
    "def create_model(data: pd.DataFrame, \n",
    "                 test_size: float = 0.25) -> namedtuple:\n",
    "    #split data\n",
    "    train, valid = split_train_validate(data, test_size)\n",
    "    \n",
    "    print('─' * 40)\n",
    "    result = namedtuple('pred','real')\n",
    "    #create model \n",
    "    model = LinearRegression()\n",
    "    model.fit(train.features, train.target)\n",
    "    print(f'Model coeffitients: {model.coef_}')\n",
    "    #predict\n",
    "    result.pred = pd.Series(model.predict(valid.features))\n",
    "    #metrics\n",
    "    rmse = mean_squared_error(valid.target, result.pred)**0.5\n",
    "    print(f'Model RMSE =  {rmse:.3f}')\n",
    "    print(f'Model normalized RMSE =  {rmse / (max(result.pred) - min(result.pred)):.3f}')\n",
    "    #mean of predict\n",
    "    print(f'Average reserve = {result.pred.mean():.3f}')\n",
    "    \n",
    "    print('\\n\\nGraphs of real and predicted values')\n",
    "    res = pd.concat([result.pred, valid.target.reset_index(drop=True)], axis=1)\n",
    "    res.columns = ['predict', 'real']\n",
    "    sns.boxplot(data=res, orient=\"h\", showmeans=True)\n",
    "    plt.show()\n",
    "    res = res.sample(n=200, random_state=state).sort_values(by='predict').reset_index(drop=True)\n",
    "    res['predict'].plot.line(figsize=(15,5))\n",
    "    res['real'].plot(style='.')\n",
    "    plt.legend(['pridict','real'])\n",
    "    plt.xticks([])\n",
    "    result.real = valid.target\n",
    "    result.pred.index = result.real.index \n",
    "    return result"
   ]
  },
  {
   "cell_type": "markdown",
   "metadata": {},
   "source": [
    "_______________"
   ]
  },
  {
   "cell_type": "markdown",
   "metadata": {},
   "source": [
    "Для каждого региона: \n",
    "- разобьем данные на тестовую и валидационные выборки\n",
    "- построим модель линейной регрессии \n",
    "- выведем RMSE для валидационной выборки\n",
    "- выведем средний запас топлива\n",
    "- сохраним предсказанные значения"
   ]
  },
  {
   "cell_type": "markdown",
   "metadata": {},
   "source": [
    "### Регион 1"
   ]
  },
  {
   "cell_type": "code",
   "execution_count": 14,
   "metadata": {},
   "outputs": [
    {
     "name": "stdout",
     "output_type": "stream",
     "text": [
      "Training sample size 75000, percentage of total 75%\n",
      "Validation sample size 25000, percentage of total 25%\n",
      "────────────────────────────────────────\n",
      "Model coeffitients: [ 3.32116379 -7.07942373 21.43679354]\n",
      "Model RMSE =  37.992\n",
      "Model normalized RMSE =  0.210\n",
      "Average reserve = 92.717\n",
      "\n",
      "\n",
      "Graphs of real and predicted values\n"
     ]
    },
    {
     "data": {
      "image/png": "[encoded data removed]",
      "text/plain": [
       "<Figure size 432x288 with 1 Axes>"
      ]
     },
     "metadata": {
      "needs_background": "light"
     },
     "output_type": "display_data"
    },
    {
     "data": {
      "image/png": "[encoded data removed]",
      "text/plain": [
       "<Figure size 1080x360 with 1 Axes>"
      ]
     },
     "metadata": {
      "needs_background": "light"
     },
     "output_type": "display_data"
    }
   ],
   "source": [
    "result_region_1 = create_model(region_1)"
   ]
  },
  {
   "cell_type": "markdown",
   "metadata": {},
   "source": [
    "### Регион 2"
   ]
  },
  {
   "cell_type": "code",
   "execution_count": 15,
   "metadata": {},
   "outputs": [
    {
     "name": "stdout",
     "output_type": "stream",
     "text": [
      "Training sample size 75000, percentage of total 75%\n",
      "Validation sample size 25000, percentage of total 25%\n",
      "────────────────────────────────────────\n",
      "Model coeffitients: [-1.29764706 -0.11123277 45.91539614]\n",
      "Model RMSE =  0.887\n",
      "Model normalized RMSE =  0.006\n",
      "Average reserve = 68.945\n",
      "\n",
      "\n",
      "Graphs of real and predicted values\n"
     ]
    },
    {
     "data": {
      "image/png": "[encoded data removed]",
      "text/plain": [
       "<Figure size 432x288 with 1 Axes>"
      ]
     },
     "metadata": {
      "needs_background": "light"
     },
     "output_type": "display_data"
    },
    {
     "data": {
      "image/png": "[encoded data removed]",
      "text/plain": [
       "<Figure size 1080x360 with 1 Axes>"
      ]
     },
     "metadata": {
      "needs_background": "light"
     },
     "output_type": "display_data"
    }
   ],
   "source": [
    "result_region_2 = create_model(region_2)"
   ]
  },
  {
   "cell_type": "markdown",
   "metadata": {},
   "source": [
    "### Регион 3"
   ]
  },
  {
   "cell_type": "code",
   "execution_count": 16,
   "metadata": {},
   "outputs": [
    {
     "name": "stdout",
     "output_type": "stream",
     "text": [
      "Training sample size 75000, percentage of total 75%\n",
      "Validation sample size 25000, percentage of total 25%\n",
      "────────────────────────────────────────\n",
      "Model coeffitients: [-0.07826637 -0.14395221 20.02736027]\n",
      "Model RMSE =  39.954\n",
      "Model normalized RMSE =  0.253\n",
      "Average reserve = 94.853\n",
      "\n",
      "\n",
      "Graphs of real and predicted values\n"
     ]
    },
    {
     "data": {
      "image/png": "[encoded data removed]",
      "text/plain": [
       "<Figure size 432x288 with 1 Axes>"
      ]
     },
     "metadata": {
      "needs_background": "light"
     },
     "output_type": "display_data"
    },
    {
     "data": {
      "image/png": "[encoded data removed]",
      "text/plain": [
       "<Figure size 1080x360 with 1 Axes>"
      ]
     },
     "metadata": {
      "needs_background": "light"
     },
     "output_type": "display_data"
    }
   ],
   "source": [
    "result_region_3 = create_model(region_3)"
   ]
  },
  {
   "cell_type": "markdown",
   "metadata": {},
   "source": [
    "### Вывод"
   ]
  },
  {
   "cell_type": "markdown",
   "metadata": {},
   "source": [
    "Средние запасы топлива в скважине практически равны во 1 и 3 регионах (**92.7** и **94.8** соответственно), во 2 регионе средние запасы значительно меньше (**69**) <br>\n",
    "При этом RMSE модели для второго региона минимальный - **0.9** (нормализованный RMSE близок к нулю - **0.006**), что говорит о хорошей предсказательной способности модели. <br>\n",
    "Тогда как RMSE для первого и третьего региона **37.9** и **40**, что при диапазоне целевого признака от 0 до ~200 не так мало(нормализованные RMSE ~**0.2**) => у моделей не очень хорошая предсказательная способность."
   ]
  },
  {
   "cell_type": "markdown",
   "metadata": {},
   "source": [
    "## Подготовка к расчёту прибыли"
   ]
  },
  {
   "cell_type": "markdown",
   "metadata": {},
   "source": [
    "\n",
    "- При разведке региона исследуют 500 точек, из которых с помощью машинного обучения выбирают 200 лучших для разработки.\n",
    "-    Бюджет на разработку скважин в регионе — 10 млрд рублей.\n",
    "-    При нынешних ценах один баррель сырья приносит 450 рублей дохода. Доход с каждой единицы продукта составляет 450 тыс. рублей, поскольку объём указан в тысячах баррелей."
   ]
  },
  {
   "cell_type": "markdown",
   "metadata": {},
   "source": [
    "Будем считать в тыс. рублей."
   ]
  },
  {
   "cell_type": "code",
   "execution_count": 17,
   "metadata": {},
   "outputs": [],
   "source": [
    "MAX_WELLS = 500\n",
    "CHOOSE_WELLS = 200\n",
    "REGION_BUDGET = 10 ** 7\n",
    "PROFIT_PER_UNIT = 450"
   ]
  },
  {
   "cell_type": "code",
   "execution_count": 18,
   "metadata": {},
   "outputs": [
    {
     "name": "stdout",
     "output_type": "stream",
     "text": [
      "Min barrel per region: 22 223\n",
      "Average barrel per well: 111.115\n"
     ]
    }
   ],
   "source": [
    "min_barrel = math.ceil(REGION_BUDGET / PROFIT_PER_UNIT)\n",
    "mean_well_barrel = min_barrel / CHOOSE_WELLS\n",
    "print(f'Min barrel per region: {min_barrel:_}'.replace('_',' '))\n",
    "print(f'Average barrel per well: {mean_well_barrel}')"
   ]
  },
  {
   "cell_type": "markdown",
   "metadata": {},
   "source": [
    "**Вывод:**"
   ]
  },
  {
   "cell_type": "markdown",
   "metadata": {},
   "source": [
    "При разработке 200 скважин в регионе средний запас сырья должен быть **111** единиц. На всем объеме данных ни один из регионов не обладает подобным средним запасом. Но т.к. разрабатывать планируется не все точки региона, а только 200 лучших, то и данные про среднее могут значительно измениться. <br>\n",
    "Минимальное количество баррелей в регионе должно быть не менее **22 223** единиц для безубыточной разработки."
   ]
  },
  {
   "cell_type": "markdown",
   "metadata": {},
   "source": [
    "## Расчёт прибыли и рисков "
   ]
  },
  {
   "cell_type": "markdown",
   "metadata": {},
   "source": [
    "**Используемые функции**"
   ]
  },
  {
   "cell_type": "code",
   "execution_count": 19,
   "metadata": {},
   "outputs": [],
   "source": [
    "def find_profit(data: pd.Series) -> float:\n",
    "    return (data.sum() * PROFIT_PER_UNIT - REGION_BUDGET)"
   ]
  },
  {
   "cell_type": "code",
   "execution_count": 20,
   "metadata": {},
   "outputs": [],
   "source": [
    "def bootstrapping(data: namedtuple, n_samples: int = 1_000) -> None:\n",
    "    profit = []\n",
    "    mean_barrel = []\n",
    "    for i in trange(n_samples):\n",
    "        #supsample 500 spot and choose 200 better\n",
    "        subsample = data.pred.sample(n=MAX_WELLS, replace=True, random_state=state)\n",
    "        sub_better = subsample.sort_values().tail(CHOOSE_WELLS) \n",
    "        \n",
    "        #change to real\n",
    "        sub_better = data.real.loc[sub_better.index]\n",
    "          \n",
    "        #mean barrel and profit\n",
    "        mean_barrel.append(sub_better.mean())\n",
    "        profit.append(find_profit(sub_better))\n",
    "    \n",
    "    mean_barrel = pd.Series(mean_barrel)\n",
    "    profit = pd.Series(profit)\n",
    "    \n",
    "    print(f'Average barrel per well in region: {mean_barrel.mean():.3f}')\n",
    "\n",
    "    print('─' * 40)\n",
    "    profit.hist()\n",
    "    plt.xlabel(\"Profit\")\n",
    "    plt.ylabel(\"Count\")\n",
    "    plt.title('Profit Histogram')\n",
    "    plt.show()\n",
    "    #confidence interval profit\n",
    "    lower = profit.quantile(0.025)\n",
    "    upper =  profit.quantile(0.975) \n",
    "    print(f'Confidence interval profit: {lower:,.2f} — {upper:,.2f} thousand rubles')\n",
    "    print(f'Mean profit {profit.mean():,.2f} thousand rubles')\n",
    "    \n",
    "    print('─' * 40)\n",
    "    #find with negative profit\n",
    "    print(f'Count of sample with negative profit: {(profit < 0).sum()}')\n",
    "    print(f'Negative profit chance: {(profit < 0).mean():.2%}')"
   ]
  },
  {
   "cell_type": "markdown",
   "metadata": {},
   "source": [
    "_____________________"
   ]
  },
  {
   "cell_type": "markdown",
   "metadata": {},
   "source": [
    "С помощью Bootstrap на 1000 повторений для каждого региона выберем по 500 скважин, из которых отберем 200 лучших. <br>\n",
    "Для отобранных скважин посчитаем прибыль и вероятность убытков."
   ]
  },
  {
   "cell_type": "markdown",
   "metadata": {},
   "source": [
    "### Регион 1"
   ]
  },
  {
   "cell_type": "code",
   "execution_count": 21,
   "metadata": {},
   "outputs": [
    {
     "data": {
      "application/vnd.jupyter.widget-view+json": {
       "model_id": "9420fbe5956c4069b512170f76ea3312",
       "version_major": 2,
       "version_minor": 0
      },
      "text/plain": [
       "  0%|          | 0/1000 [00:00<?, ?it/s]"
      ]
     },
     "metadata": {},
     "output_type": "display_data"
    },
    {
     "name": "stdout",
     "output_type": "stream",
     "text": [
      "Average barrel per well in region: 116.089\n",
      "────────────────────────────────────────\n"
     ]
    },
    {
     "data": {
      "image/png": "[encoded data removed]",
      "text/plain": [
       "<Figure size 432x288 with 1 Axes>"
      ]
     },
     "metadata": {
      "needs_background": "light"
     },
     "output_type": "display_data"
    },
    {
     "name": "stdout",
     "output_type": "stream",
     "text": [
      "Confidence interval profit: -95,155.65 — 954,120.67 thousand rubles\n",
      "Mean profit 448,053.15 thousand rubles\n",
      "────────────────────────────────────────\n",
      "Count of sample with negative profit: 53\n",
      "Negative profit chance: 5.30%\n"
     ]
    }
   ],
   "source": [
    "bootstrapping(result_region_1)"
   ]
  },
  {
   "cell_type": "markdown",
   "metadata": {},
   "source": [
    "### Регион 2"
   ]
  },
  {
   "cell_type": "code",
   "execution_count": 22,
   "metadata": {},
   "outputs": [
    {
     "data": {
      "application/vnd.jupyter.widget-view+json": {
       "model_id": "912b38e46edb41c38fe0b27cf4d3e3ba",
       "version_major": 2,
       "version_minor": 0
      },
      "text/plain": [
       "  0%|          | 0/1000 [00:00<?, ?it/s]"
      ]
     },
     "metadata": {},
     "output_type": "display_data"
    },
    {
     "name": "stdout",
     "output_type": "stream",
     "text": [
      "Average barrel per well in region: 116.349\n",
      "────────────────────────────────────────\n"
     ]
    },
    {
     "data": {
      "image/png": "[encoded data removed]",
      "text/plain": [
       "<Figure size 432x288 with 1 Axes>"
      ]
     },
     "metadata": {
      "needs_background": "light"
     },
     "output_type": "display_data"
    },
    {
     "name": "stdout",
     "output_type": "stream",
     "text": [
      "Confidence interval profit: 46,748.74 — 859,440.88 thousand rubles\n",
      "Mean profit 471,452.07 thousand rubles\n",
      "────────────────────────────────────────\n",
      "Count of sample with negative profit: 14\n",
      "Negative profit chance: 1.40%\n"
     ]
    }
   ],
   "source": [
    "bootstrapping(result_region_2)"
   ]
  },
  {
   "cell_type": "markdown",
   "metadata": {},
   "source": [
    "### Регион 3"
   ]
  },
  {
   "cell_type": "code",
   "execution_count": 23,
   "metadata": {},
   "outputs": [
    {
     "data": {
      "application/vnd.jupyter.widget-view+json": {
       "model_id": "d5566a59b4294905aa6d2047aa6a6312",
       "version_major": 2,
       "version_minor": 0
      },
      "text/plain": [
       "  0%|          | 0/1000 [00:00<?, ?it/s]"
      ]
     },
     "metadata": {},
     "output_type": "display_data"
    },
    {
     "name": "stdout",
     "output_type": "stream",
     "text": [
      "Average barrel per well in region: 114.887\n",
      "────────────────────────────────────────\n"
     ]
    },
    {
     "data": {
      "image/png": "[encoded data removed]",
      "text/plain": [
       "<Figure size 432x288 with 1 Axes>"
      ]
     },
     "metadata": {
      "needs_background": "light"
     },
     "output_type": "display_data"
    },
    {
     "name": "stdout",
     "output_type": "stream",
     "text": [
      "Confidence interval profit: -179,592.00 — 870,507.23 thousand rubles\n",
      "Mean profit 339,830.07 thousand rubles\n",
      "────────────────────────────────────────\n",
      "Count of sample with negative profit: 95\n",
      "Negative profit chance: 9.50%\n"
     ]
    }
   ],
   "source": [
    "bootstrapping(result_region_3)"
   ]
  },
  {
   "cell_type": "markdown",
   "metadata": {},
   "source": [
    "**Вывод**"
   ]
  },
  {
   "cell_type": "markdown",
   "metadata": {},
   "source": [
    "- для каждого региона средний запас ресурса в точке не меньше необходимого для безубыточности, равном **111**\n",
    "- вероятность убытков в 1 и 3 регионах **5.3%** и **9.5%** соответственно, что больше необходимых **2.5%**\n",
    "- во втором регионе вероятность убытков **1.4%** \n",
    "- максимальный средний профит у второго региона **471,452.07** тыс.рублей"
   ]
  },
  {
   "cell_type": "markdown",
   "metadata": {},
   "source": [
    "## Общий вывод"
   ]
  },
  {
   "cell_type": "markdown",
   "metadata": {},
   "source": [
    "**Было сделано:**\n",
    "- получены и обработаны данные\n",
    "- построена линейная модель для каждого из регионов и сделаны предсказания\n",
    "- подсчитаны необходимые экономические величины\n",
    "- расчитана прибыль и вероятность убытков для каждого из регионов"
   ]
  },
  {
   "cell_type": "markdown",
   "metadata": {},
   "source": [
    "**Сводка**"
   ]
  },
  {
   "cell_type": "markdown",
   "metadata": {},
   "source": [
    "***1 Регион:***\n",
    "- средний запас ресурса в скважине **116.089**\n",
    "- средняя прибыль **448,053.15** тыс.рублей\n",
    "- вероятность убытков **5.3%**\n",
    "\n",
    "\n",
    "***2 Регион:***\n",
    "- средний запас ресурса в скважине **116.349**\n",
    "- средняя прибыль **471,452.07** тыс.рублей\n",
    "- вероятность убытков **1.4%**\n",
    "\n",
    "\n",
    "***3 Регион:***\n",
    "- средний запас ресурса в скважине **114.887**\n",
    "- средняя прибыль **339,830.07** тыс.рублей\n",
    "- вероятность убытков **9.5%**"
   ]
  },
  {
   "cell_type": "markdown",
   "metadata": {},
   "source": [
    "**Рекомендации:**\n",
    "\n",
    "Для разработки можно рекомендовать **второй регион**:\n",
    "- для него самое высокое качество модели и предсказательная способность. \n",
    "- только этот регион имеет вероятность убытков менее **2.5%**\n",
    "- средняя прибыль по нему максимальна."
   ]
  }
 ],
 "metadata": {
  "ExecuteTimeLog": [
   {
    "duration": 378,
    "start_time": "2022-10-03T20:53:12.809Z"
   },
   {
    "duration": 52,
    "start_time": "2022-10-03T20:54:33.930Z"
   },
   {
    "duration": 252,
    "start_time": "2022-10-03T20:54:41.672Z"
   },
   {
    "duration": 53,
    "start_time": "2022-10-03T20:55:01.243Z"
   },
   {
    "duration": 5,
    "start_time": "2022-10-03T20:56:11.318Z"
   },
   {
    "duration": 4,
    "start_time": "2022-10-03T20:56:19.825Z"
   },
   {
    "duration": 65,
    "start_time": "2022-10-03T20:57:08.746Z"
   },
   {
    "duration": 393,
    "start_time": "2022-10-03T20:57:14.770Z"
   },
   {
    "duration": 20,
    "start_time": "2022-10-03T20:57:19.758Z"
   },
   {
    "duration": 221,
    "start_time": "2022-10-03T20:57:32.814Z"
   },
   {
    "duration": 13,
    "start_time": "2022-10-03T20:57:35.075Z"
   },
   {
    "duration": 4,
    "start_time": "2022-10-03T20:59:33.114Z"
   },
   {
    "duration": 4,
    "start_time": "2022-10-03T20:59:40.078Z"
   },
   {
    "duration": 85,
    "start_time": "2022-10-03T21:00:15.533Z"
   },
   {
    "duration": 84,
    "start_time": "2022-10-03T21:00:20.635Z"
   },
   {
    "duration": 82,
    "start_time": "2022-10-03T21:00:57.943Z"
   },
   {
    "duration": 3,
    "start_time": "2022-10-03T21:02:20.285Z"
   },
   {
    "duration": 82,
    "start_time": "2022-10-03T21:02:21.571Z"
   },
   {
    "duration": 507,
    "start_time": "2022-10-03T21:02:23.187Z"
   },
   {
    "duration": 437,
    "start_time": "2022-10-03T21:02:30.686Z"
   },
   {
    "duration": 393,
    "start_time": "2022-10-03T21:03:14.403Z"
   },
   {
    "duration": 479,
    "start_time": "2022-10-03T21:06:41.638Z"
   },
   {
    "duration": 74,
    "start_time": "2022-10-04T07:29:03.166Z"
   },
   {
    "duration": 418,
    "start_time": "2022-10-04T07:29:06.516Z"
   },
   {
    "duration": 91,
    "start_time": "2022-10-04T07:29:07.900Z"
   },
   {
    "duration": 376,
    "start_time": "2022-10-04T07:29:10.225Z"
   },
   {
    "duration": 1018,
    "start_time": "2022-10-04T07:30:04.261Z"
   },
   {
    "duration": 615,
    "start_time": "2022-10-04T07:30:24.724Z"
   },
   {
    "duration": 617,
    "start_time": "2022-10-04T07:30:37.233Z"
   },
   {
    "duration": 639,
    "start_time": "2022-10-04T07:31:45.509Z"
   },
   {
    "duration": 3,
    "start_time": "2022-10-04T07:32:32.618Z"
   },
   {
    "duration": 3,
    "start_time": "2022-10-04T07:33:00.816Z"
   },
   {
    "duration": 3,
    "start_time": "2022-10-04T07:33:46.288Z"
   },
   {
    "duration": 4,
    "start_time": "2022-10-04T07:34:20.787Z"
   },
   {
    "duration": 518,
    "start_time": "2022-10-04T07:34:42.721Z"
   },
   {
    "duration": 3,
    "start_time": "2022-10-04T07:34:53.902Z"
   },
   {
    "duration": 3,
    "start_time": "2022-10-04T07:34:57.128Z"
   },
   {
    "duration": 514,
    "start_time": "2022-10-04T07:34:59.265Z"
   },
   {
    "duration": 3,
    "start_time": "2022-10-04T07:35:06.105Z"
   },
   {
    "duration": 3,
    "start_time": "2022-10-04T07:35:15.160Z"
   },
   {
    "duration": 544,
    "start_time": "2022-10-04T07:35:17.079Z"
   },
   {
    "duration": 3,
    "start_time": "2022-10-04T07:35:44.692Z"
   },
   {
    "duration": 573,
    "start_time": "2022-10-04T07:35:46.890Z"
   },
   {
    "duration": 3,
    "start_time": "2022-10-04T07:35:57.587Z"
   },
   {
    "duration": 679,
    "start_time": "2022-10-04T07:36:00.804Z"
   },
   {
    "duration": 39,
    "start_time": "2022-10-04T07:37:00.970Z"
   },
   {
    "duration": 572,
    "start_time": "2022-10-04T07:37:06.748Z"
   },
   {
    "duration": 3,
    "start_time": "2022-10-04T07:37:48.454Z"
   },
   {
    "duration": 595,
    "start_time": "2022-10-04T07:37:50.721Z"
   },
   {
    "duration": 4,
    "start_time": "2022-10-04T07:37:56.491Z"
   },
   {
    "duration": 4,
    "start_time": "2022-10-04T07:37:59.624Z"
   },
   {
    "duration": 569,
    "start_time": "2022-10-04T07:38:01.597Z"
   },
   {
    "duration": 3,
    "start_time": "2022-10-04T07:38:11.968Z"
   },
   {
    "duration": 610,
    "start_time": "2022-10-04T07:38:14.224Z"
   },
   {
    "duration": 3,
    "start_time": "2022-10-04T07:38:59.105Z"
   },
   {
    "duration": 651,
    "start_time": "2022-10-04T07:39:02.073Z"
   },
   {
    "duration": 3,
    "start_time": "2022-10-04T07:39:14.879Z"
   },
   {
    "duration": 588,
    "start_time": "2022-10-04T07:39:16.929Z"
   },
   {
    "duration": 3,
    "start_time": "2022-10-04T07:39:36.373Z"
   },
   {
    "duration": 3,
    "start_time": "2022-10-04T07:39:39.698Z"
   },
   {
    "duration": 568,
    "start_time": "2022-10-04T07:39:40.845Z"
   },
   {
    "duration": 4,
    "start_time": "2022-10-04T07:40:36.740Z"
   },
   {
    "duration": 557,
    "start_time": "2022-10-04T07:40:45.498Z"
   },
   {
    "duration": 4,
    "start_time": "2022-10-04T08:10:37.344Z"
   },
   {
    "duration": 905,
    "start_time": "2022-10-04T08:10:39.495Z"
   },
   {
    "duration": 4,
    "start_time": "2022-10-04T08:10:52.021Z"
   },
   {
    "duration": 548,
    "start_time": "2022-10-04T08:10:55.941Z"
   },
   {
    "duration": 4,
    "start_time": "2022-10-04T08:11:50.491Z"
   },
   {
    "duration": 454,
    "start_time": "2022-10-04T08:11:54.673Z"
   },
   {
    "duration": 4,
    "start_time": "2022-10-04T08:12:45.804Z"
   },
   {
    "duration": 4,
    "start_time": "2022-10-04T08:12:49.504Z"
   },
   {
    "duration": 562,
    "start_time": "2022-10-04T08:12:53.643Z"
   },
   {
    "duration": 3,
    "start_time": "2022-10-04T08:13:22.633Z"
   },
   {
    "duration": 480,
    "start_time": "2022-10-04T08:13:26.051Z"
   },
   {
    "duration": 4,
    "start_time": "2022-10-04T08:13:33.416Z"
   },
   {
    "duration": 465,
    "start_time": "2022-10-04T08:13:35.069Z"
   },
   {
    "duration": 90,
    "start_time": "2022-10-04T08:18:30.769Z"
   },
   {
    "duration": 4,
    "start_time": "2022-10-04T08:18:34.449Z"
   },
   {
    "duration": 443,
    "start_time": "2022-10-04T08:18:35.630Z"
   },
   {
    "duration": 4,
    "start_time": "2022-10-04T08:19:25.526Z"
   },
   {
    "duration": 476,
    "start_time": "2022-10-04T08:19:27.363Z"
   },
   {
    "duration": 4,
    "start_time": "2022-10-04T08:19:48.966Z"
   },
   {
    "duration": 275,
    "start_time": "2022-10-04T08:19:51.601Z"
   },
   {
    "duration": 4,
    "start_time": "2022-10-04T08:20:01.530Z"
   },
   {
    "duration": 308,
    "start_time": "2022-10-04T08:20:03.631Z"
   },
   {
    "duration": 4,
    "start_time": "2022-10-04T08:20:09.187Z"
   },
   {
    "duration": 493,
    "start_time": "2022-10-04T08:20:11.485Z"
   },
   {
    "duration": 5,
    "start_time": "2022-10-04T08:20:32.466Z"
   },
   {
    "duration": 179,
    "start_time": "2022-10-04T08:20:34.783Z"
   },
   {
    "duration": 4,
    "start_time": "2022-10-04T08:20:40.596Z"
   },
   {
    "duration": 271,
    "start_time": "2022-10-04T08:20:42.554Z"
   },
   {
    "duration": 4,
    "start_time": "2022-10-04T08:21:03.863Z"
   },
   {
    "duration": 300,
    "start_time": "2022-10-04T08:21:05.690Z"
   },
   {
    "duration": 4,
    "start_time": "2022-10-04T08:21:21.545Z"
   },
   {
    "duration": 4,
    "start_time": "2022-10-04T08:21:22.659Z"
   },
   {
    "duration": 171,
    "start_time": "2022-10-04T08:21:23.998Z"
   },
   {
    "duration": 4,
    "start_time": "2022-10-04T08:22:59.681Z"
   },
   {
    "duration": 265,
    "start_time": "2022-10-04T08:23:01.623Z"
   },
   {
    "duration": 11,
    "start_time": "2022-10-04T08:23:56.830Z"
   },
   {
    "duration": 8,
    "start_time": "2022-10-04T08:24:02.184Z"
   },
   {
    "duration": 4,
    "start_time": "2022-10-04T08:24:03.835Z"
   },
   {
    "duration": 3,
    "start_time": "2022-10-04T08:24:22.656Z"
   },
   {
    "duration": 4,
    "start_time": "2022-10-04T08:24:39.573Z"
   },
   {
    "duration": 4,
    "start_time": "2022-10-04T08:26:29.646Z"
   },
   {
    "duration": 647,
    "start_time": "2022-10-04T08:26:31.696Z"
   },
   {
    "duration": 4,
    "start_time": "2022-10-04T08:26:40.377Z"
   },
   {
    "duration": 454,
    "start_time": "2022-10-04T08:26:42.043Z"
   },
   {
    "duration": 611,
    "start_time": "2022-10-04T08:27:40.737Z"
   },
   {
    "duration": 4,
    "start_time": "2022-10-04T08:29:41.318Z"
   },
   {
    "duration": 4,
    "start_time": "2022-10-04T08:29:43.608Z"
   },
   {
    "duration": 727,
    "start_time": "2022-10-04T08:29:44.739Z"
   },
   {
    "duration": 64,
    "start_time": "2022-10-04T08:30:08.113Z"
   },
   {
    "duration": 4,
    "start_time": "2022-10-04T08:30:13.761Z"
   },
   {
    "duration": 601,
    "start_time": "2022-10-04T08:30:15.372Z"
   },
   {
    "duration": 6,
    "start_time": "2022-10-04T08:30:55.180Z"
   },
   {
    "duration": 916,
    "start_time": "2022-10-04T08:30:57.413Z"
   },
   {
    "duration": 7,
    "start_time": "2022-10-04T08:31:08.970Z"
   },
   {
    "duration": 918,
    "start_time": "2022-10-04T08:31:10.482Z"
   },
   {
    "duration": 4,
    "start_time": "2022-10-04T08:31:26.451Z"
   },
   {
    "duration": 1235,
    "start_time": "2022-10-04T08:31:28.468Z"
   },
   {
    "duration": 5,
    "start_time": "2022-10-04T08:32:00.096Z"
   },
   {
    "duration": 769,
    "start_time": "2022-10-04T08:32:01.726Z"
   },
   {
    "duration": 5,
    "start_time": "2022-10-04T08:32:22.274Z"
   },
   {
    "duration": 763,
    "start_time": "2022-10-04T08:32:23.771Z"
   },
   {
    "duration": 8,
    "start_time": "2022-10-04T08:35:53.366Z"
   },
   {
    "duration": 866,
    "start_time": "2022-10-04T08:35:55.789Z"
   },
   {
    "duration": 5,
    "start_time": "2022-10-04T08:36:07.857Z"
   },
   {
    "duration": 899,
    "start_time": "2022-10-04T08:36:09.581Z"
   },
   {
    "duration": 7,
    "start_time": "2022-10-04T08:37:04.680Z"
   },
   {
    "duration": 747,
    "start_time": "2022-10-04T08:37:06.739Z"
   },
   {
    "duration": 5,
    "start_time": "2022-10-04T08:37:56.486Z"
   },
   {
    "duration": 790,
    "start_time": "2022-10-04T08:37:59.743Z"
   },
   {
    "duration": 5,
    "start_time": "2022-10-04T08:38:11.210Z"
   },
   {
    "duration": 890,
    "start_time": "2022-10-04T08:38:13.102Z"
   },
   {
    "duration": 757,
    "start_time": "2022-10-04T08:38:31.740Z"
   },
   {
    "duration": 781,
    "start_time": "2022-10-04T08:38:53.282Z"
   },
   {
    "duration": 851,
    "start_time": "2022-10-04T08:39:14.212Z"
   },
   {
    "duration": 853,
    "start_time": "2022-10-04T08:39:18.213Z"
   },
   {
    "duration": 9,
    "start_time": "2022-10-04T08:39:52.041Z"
   },
   {
    "duration": 4,
    "start_time": "2022-10-04T08:40:54.330Z"
   },
   {
    "duration": 85,
    "start_time": "2022-10-04T08:40:57.419Z"
   },
   {
    "duration": 5,
    "start_time": "2022-10-04T08:41:04.480Z"
   },
   {
    "duration": 852,
    "start_time": "2022-10-04T08:41:06.195Z"
   },
   {
    "duration": 9,
    "start_time": "2022-10-04T08:41:18.279Z"
   },
   {
    "duration": 3,
    "start_time": "2022-10-04T08:41:39.785Z"
   },
   {
    "duration": 3,
    "start_time": "2022-10-04T08:52:37.641Z"
   },
   {
    "duration": 8,
    "start_time": "2022-10-04T08:52:57.553Z"
   },
   {
    "duration": 6,
    "start_time": "2022-10-04T08:53:45.688Z"
   },
   {
    "duration": 14,
    "start_time": "2022-10-04T08:53:56.216Z"
   },
   {
    "duration": 5,
    "start_time": "2022-10-04T08:54:40.007Z"
   },
   {
    "duration": 783,
    "start_time": "2022-10-04T08:54:42.278Z"
   },
   {
    "duration": 5,
    "start_time": "2022-10-04T08:54:58.206Z"
   },
   {
    "duration": 801,
    "start_time": "2022-10-04T08:54:59.212Z"
   },
   {
    "duration": 6,
    "start_time": "2022-10-04T08:55:05.482Z"
   },
   {
    "duration": 5,
    "start_time": "2022-10-04T08:55:40.188Z"
   },
   {
    "duration": 808,
    "start_time": "2022-10-04T08:55:42.238Z"
   },
   {
    "duration": 789,
    "start_time": "2022-10-04T08:59:47.781Z"
   },
   {
    "duration": 1016,
    "start_time": "2022-10-04T08:59:53.033Z"
   },
   {
    "duration": 797,
    "start_time": "2022-10-04T08:59:58.813Z"
   },
   {
    "duration": 5,
    "start_time": "2022-10-04T09:00:22.334Z"
   },
   {
    "duration": 799,
    "start_time": "2022-10-04T09:00:25.272Z"
   },
   {
    "duration": 5,
    "start_time": "2022-10-04T09:01:41.749Z"
   },
   {
    "duration": 5,
    "start_time": "2022-10-04T09:02:03.316Z"
   },
   {
    "duration": 5,
    "start_time": "2022-10-04T09:02:09.877Z"
   },
   {
    "duration": 5,
    "start_time": "2022-10-04T09:02:34.297Z"
   },
   {
    "duration": 800,
    "start_time": "2022-10-04T09:02:36.312Z"
   },
   {
    "duration": 5,
    "start_time": "2022-10-04T09:03:02.619Z"
   },
   {
    "duration": 5,
    "start_time": "2022-10-04T09:03:08.543Z"
   },
   {
    "duration": 5,
    "start_time": "2022-10-04T09:03:42.347Z"
   },
   {
    "duration": 799,
    "start_time": "2022-10-04T09:03:44.617Z"
   },
   {
    "duration": 67,
    "start_time": "2022-10-04T09:03:56.059Z"
   },
   {
    "duration": 5,
    "start_time": "2022-10-04T09:04:04.067Z"
   },
   {
    "duration": 5,
    "start_time": "2022-10-04T09:04:12.467Z"
   },
   {
    "duration": 135,
    "start_time": "2022-10-04T09:04:18.479Z"
   },
   {
    "duration": 5,
    "start_time": "2022-10-04T09:04:22.951Z"
   },
   {
    "duration": 5,
    "start_time": "2022-10-04T09:06:02.339Z"
   },
   {
    "duration": 5,
    "start_time": "2022-10-04T09:06:10.158Z"
   },
   {
    "duration": 824,
    "start_time": "2022-10-04T09:06:12.312Z"
   },
   {
    "duration": 241,
    "start_time": "2022-10-04T09:06:34.733Z"
   },
   {
    "duration": 203,
    "start_time": "2022-10-04T09:06:36.987Z"
   },
   {
    "duration": 5,
    "start_time": "2022-10-04T09:06:47.498Z"
   },
   {
    "duration": 833,
    "start_time": "2022-10-04T09:06:50.185Z"
   },
   {
    "duration": 7,
    "start_time": "2022-10-04T09:07:08.932Z"
   },
   {
    "duration": 5,
    "start_time": "2022-10-04T09:07:14.363Z"
   },
   {
    "duration": 862,
    "start_time": "2022-10-04T09:07:15.556Z"
   },
   {
    "duration": 27,
    "start_time": "2022-10-04T09:08:26.883Z"
   },
   {
    "duration": 12,
    "start_time": "2022-10-04T09:08:46.095Z"
   },
   {
    "duration": 10,
    "start_time": "2022-10-04T09:08:49.203Z"
   },
   {
    "duration": 3,
    "start_time": "2022-10-04T09:08:57.393Z"
   },
   {
    "duration": 15,
    "start_time": "2022-10-04T09:09:07.843Z"
   },
   {
    "duration": 12,
    "start_time": "2022-10-04T09:09:09.517Z"
   },
   {
    "duration": 9,
    "start_time": "2022-10-04T09:09:13.335Z"
   },
   {
    "duration": 4,
    "start_time": "2022-10-04T09:09:14.661Z"
   },
   {
    "duration": 3,
    "start_time": "2022-10-04T09:09:23.155Z"
   },
   {
    "duration": 4,
    "start_time": "2022-10-04T09:09:28.026Z"
   },
   {
    "duration": 10,
    "start_time": "2022-10-04T09:09:41.113Z"
   },
   {
    "duration": 4,
    "start_time": "2022-10-04T09:09:45.845Z"
   },
   {
    "duration": 8,
    "start_time": "2022-10-04T09:20:25.384Z"
   },
   {
    "duration": 7,
    "start_time": "2022-10-04T09:20:55.372Z"
   },
   {
    "duration": 10,
    "start_time": "2022-10-04T09:20:57.197Z"
   },
   {
    "duration": 10,
    "start_time": "2022-10-04T09:34:11.988Z"
   },
   {
    "duration": 4,
    "start_time": "2022-10-04T09:34:16.232Z"
   },
   {
    "duration": 13,
    "start_time": "2022-10-04T09:34:20.904Z"
   },
   {
    "duration": 10,
    "start_time": "2022-10-04T09:34:44.911Z"
   },
   {
    "duration": 11,
    "start_time": "2022-10-04T09:34:53.563Z"
   },
   {
    "duration": 94,
    "start_time": "2022-10-04T09:34:57.417Z"
   },
   {
    "duration": 9,
    "start_time": "2022-10-04T09:36:13.591Z"
   },
   {
    "duration": 14,
    "start_time": "2022-10-04T09:36:19.346Z"
   },
   {
    "duration": 19,
    "start_time": "2022-10-04T09:36:48.946Z"
   },
   {
    "duration": 15,
    "start_time": "2022-10-04T09:37:08.180Z"
   },
   {
    "duration": 11,
    "start_time": "2022-10-04T09:37:13.222Z"
   },
   {
    "duration": 19,
    "start_time": "2022-10-04T09:37:15.270Z"
   },
   {
    "duration": 3,
    "start_time": "2022-10-04T09:39:03.318Z"
   },
   {
    "duration": 2,
    "start_time": "2022-10-04T09:39:20.653Z"
   },
   {
    "duration": 3,
    "start_time": "2022-10-04T09:42:26.225Z"
   },
   {
    "duration": 10,
    "start_time": "2022-10-04T09:42:41.071Z"
   },
   {
    "duration": 4,
    "start_time": "2022-10-04T09:42:48.216Z"
   },
   {
    "duration": 14,
    "start_time": "2022-10-04T09:42:49.597Z"
   },
   {
    "duration": 11,
    "start_time": "2022-10-04T09:52:59.571Z"
   },
   {
    "duration": 3,
    "start_time": "2022-10-04T09:53:05.288Z"
   },
   {
    "duration": 4,
    "start_time": "2022-10-04T09:53:08.292Z"
   },
   {
    "duration": 11,
    "start_time": "2022-10-04T09:53:09.521Z"
   },
   {
    "duration": 3,
    "start_time": "2022-10-04T09:59:45.876Z"
   },
   {
    "duration": 2,
    "start_time": "2022-10-04T10:02:56.380Z"
   },
   {
    "duration": 17,
    "start_time": "2022-10-04T10:02:57.512Z"
   },
   {
    "duration": 3,
    "start_time": "2022-10-04T10:03:09.675Z"
   },
   {
    "duration": 248,
    "start_time": "2022-10-04T10:03:22.924Z"
   },
   {
    "duration": 9,
    "start_time": "2022-10-04T10:04:15.326Z"
   },
   {
    "duration": 9,
    "start_time": "2022-10-04T10:35:21.372Z"
   },
   {
    "duration": 9,
    "start_time": "2022-10-04T10:35:26.720Z"
   },
   {
    "duration": 9,
    "start_time": "2022-10-04T10:35:27.740Z"
   },
   {
    "duration": 5,
    "start_time": "2022-10-04T10:42:14.501Z"
   },
   {
    "duration": 3,
    "start_time": "2022-10-04T10:43:26.164Z"
   },
   {
    "duration": 15,
    "start_time": "2022-10-04T10:43:41.547Z"
   },
   {
    "duration": 4,
    "start_time": "2022-10-04T10:43:47.171Z"
   },
   {
    "duration": 12,
    "start_time": "2022-10-04T10:43:51.652Z"
   },
   {
    "duration": 4,
    "start_time": "2022-10-04T10:43:52.689Z"
   },
   {
    "duration": 12,
    "start_time": "2022-10-04T10:43:53.658Z"
   },
   {
    "duration": 4,
    "start_time": "2022-10-04T10:44:02.597Z"
   },
   {
    "duration": 11,
    "start_time": "2022-10-04T10:44:04.590Z"
   },
   {
    "duration": 4,
    "start_time": "2022-10-04T10:44:32.491Z"
   },
   {
    "duration": 11,
    "start_time": "2022-10-04T10:44:34.185Z"
   },
   {
    "duration": 79,
    "start_time": "2022-10-04T10:44:43.407Z"
   },
   {
    "duration": 3,
    "start_time": "2022-10-04T10:44:48.884Z"
   },
   {
    "duration": 3,
    "start_time": "2022-10-04T10:45:07.842Z"
   },
   {
    "duration": 9,
    "start_time": "2022-10-04T10:45:09.886Z"
   },
   {
    "duration": 4,
    "start_time": "2022-10-04T10:45:25.414Z"
   },
   {
    "duration": 9,
    "start_time": "2022-10-04T10:45:26.938Z"
   },
   {
    "duration": 65,
    "start_time": "2022-10-04T10:45:31.169Z"
   },
   {
    "duration": 51,
    "start_time": "2022-10-04T10:45:35.991Z"
   },
   {
    "duration": 125,
    "start_time": "2022-10-04T10:45:47.661Z"
   },
   {
    "duration": 4,
    "start_time": "2022-10-04T10:46:00.333Z"
   },
   {
    "duration": 16,
    "start_time": "2022-10-04T10:46:01.914Z"
   },
   {
    "duration": 4,
    "start_time": "2022-10-04T10:46:14.967Z"
   },
   {
    "duration": 17,
    "start_time": "2022-10-04T10:46:33.677Z"
   },
   {
    "duration": 2,
    "start_time": "2022-10-04T10:49:13.454Z"
   },
   {
    "duration": 9,
    "start_time": "2022-10-04T10:49:25.312Z"
   },
   {
    "duration": 3,
    "start_time": "2022-10-04T10:49:30.249Z"
   },
   {
    "duration": 2,
    "start_time": "2022-10-04T10:49:33.884Z"
   },
   {
    "duration": 3,
    "start_time": "2022-10-04T10:49:36.810Z"
   },
   {
    "duration": 5,
    "start_time": "2022-10-04T10:49:57.826Z"
   },
   {
    "duration": 4,
    "start_time": "2022-10-04T10:49:58.812Z"
   },
   {
    "duration": 4,
    "start_time": "2022-10-04T10:53:10.985Z"
   },
   {
    "duration": 4,
    "start_time": "2022-10-04T10:53:15.042Z"
   },
   {
    "duration": 5,
    "start_time": "2022-10-04T10:53:28.096Z"
   },
   {
    "duration": 3,
    "start_time": "2022-10-04T10:55:17.014Z"
   },
   {
    "duration": 82,
    "start_time": "2022-10-04T10:55:20.661Z"
   },
   {
    "duration": 5,
    "start_time": "2022-10-04T10:55:22.776Z"
   },
   {
    "duration": 874,
    "start_time": "2022-10-04T10:55:24.477Z"
   },
   {
    "duration": 834,
    "start_time": "2022-10-04T10:55:27.200Z"
   },
   {
    "duration": 3,
    "start_time": "2022-10-04T10:55:31.431Z"
   },
   {
    "duration": 12,
    "start_time": "2022-10-04T10:55:32.314Z"
   },
   {
    "duration": 4,
    "start_time": "2022-10-04T10:55:34.866Z"
   },
   {
    "duration": 12,
    "start_time": "2022-10-04T10:55:36.882Z"
   },
   {
    "duration": 10,
    "start_time": "2022-10-04T10:58:15.030Z"
   },
   {
    "duration": 22,
    "start_time": "2022-10-04T10:58:19.293Z"
   },
   {
    "duration": 15,
    "start_time": "2022-10-04T10:58:29.867Z"
   },
   {
    "duration": 494,
    "start_time": "2022-10-04T10:58:37.233Z"
   },
   {
    "duration": 254,
    "start_time": "2022-10-04T10:58:40.712Z"
   },
   {
    "duration": 19,
    "start_time": "2022-10-04T10:58:56.908Z"
   },
   {
    "duration": 16,
    "start_time": "2022-10-04T10:58:59.437Z"
   },
   {
    "duration": 8,
    "start_time": "2022-10-04T10:59:10.466Z"
   },
   {
    "duration": 3,
    "start_time": "2022-10-04T10:59:47.429Z"
   },
   {
    "duration": 4,
    "start_time": "2022-10-04T11:00:45.601Z"
   },
   {
    "duration": 10,
    "start_time": "2022-10-04T11:00:48.030Z"
   },
   {
    "duration": 9,
    "start_time": "2022-10-04T11:01:23.824Z"
   },
   {
    "duration": 3,
    "start_time": "2022-10-04T11:09:45.693Z"
   },
   {
    "duration": 8,
    "start_time": "2022-10-04T11:10:25.874Z"
   },
   {
    "duration": 3,
    "start_time": "2022-10-04T11:10:30.327Z"
   },
   {
    "duration": 11,
    "start_time": "2022-10-04T11:16:35.872Z"
   },
   {
    "duration": 14,
    "start_time": "2022-10-04T11:16:47.378Z"
   },
   {
    "duration": 16,
    "start_time": "2022-10-04T11:16:55.833Z"
   },
   {
    "duration": 18,
    "start_time": "2022-10-04T11:17:10.713Z"
   },
   {
    "duration": 1283,
    "start_time": "2022-10-04T11:17:38.578Z"
   },
   {
    "duration": 3,
    "start_time": "2022-10-04T11:17:39.862Z"
   },
   {
    "duration": 86,
    "start_time": "2022-10-04T11:17:39.866Z"
   },
   {
    "duration": 5,
    "start_time": "2022-10-04T11:17:39.955Z"
   },
   {
    "duration": 808,
    "start_time": "2022-10-04T11:17:39.961Z"
   },
   {
    "duration": 4,
    "start_time": "2022-10-04T11:17:40.771Z"
   },
   {
    "duration": 15,
    "start_time": "2022-10-04T11:17:40.776Z"
   },
   {
    "duration": 17,
    "start_time": "2022-10-04T11:17:40.792Z"
   },
   {
    "duration": 138,
    "start_time": "2022-10-04T11:17:40.811Z"
   },
   {
    "duration": 0,
    "start_time": "2022-10-04T11:17:40.951Z"
   },
   {
    "duration": 0,
    "start_time": "2022-10-04T11:17:40.952Z"
   },
   {
    "duration": 0,
    "start_time": "2022-10-04T11:17:40.954Z"
   },
   {
    "duration": 1332,
    "start_time": "2022-10-04T11:18:13.993Z"
   },
   {
    "duration": 3,
    "start_time": "2022-10-04T11:18:15.327Z"
   },
   {
    "duration": 87,
    "start_time": "2022-10-04T11:18:15.331Z"
   },
   {
    "duration": 6,
    "start_time": "2022-10-04T11:18:15.420Z"
   },
   {
    "duration": 801,
    "start_time": "2022-10-04T11:18:15.427Z"
   },
   {
    "duration": 4,
    "start_time": "2022-10-04T11:18:16.230Z"
   },
   {
    "duration": 20,
    "start_time": "2022-10-04T11:18:16.235Z"
   },
   {
    "duration": 7,
    "start_time": "2022-10-04T11:18:16.257Z"
   },
   {
    "duration": 127,
    "start_time": "2022-10-04T11:18:16.265Z"
   },
   {
    "duration": 0,
    "start_time": "2022-10-04T11:18:16.394Z"
   },
   {
    "duration": 0,
    "start_time": "2022-10-04T11:18:16.395Z"
   },
   {
    "duration": 0,
    "start_time": "2022-10-04T11:18:16.396Z"
   },
   {
    "duration": 3,
    "start_time": "2022-10-04T11:18:31.352Z"
   },
   {
    "duration": 13,
    "start_time": "2022-10-04T11:18:32.437Z"
   },
   {
    "duration": 3,
    "start_time": "2022-10-04T11:19:26.258Z"
   },
   {
    "duration": 12,
    "start_time": "2022-10-04T11:19:28.521Z"
   },
   {
    "duration": 12,
    "start_time": "2022-10-04T11:19:30.313Z"
   },
   {
    "duration": 13,
    "start_time": "2022-10-04T11:19:51.702Z"
   },
   {
    "duration": 2,
    "start_time": "2022-10-04T11:19:52.739Z"
   },
   {
    "duration": 12,
    "start_time": "2022-10-04T11:19:53.856Z"
   },
   {
    "duration": 3,
    "start_time": "2022-10-04T11:20:10.714Z"
   },
   {
    "duration": 17,
    "start_time": "2022-10-04T11:20:11.555Z"
   },
   {
    "duration": 9,
    "start_time": "2022-10-04T11:20:24.754Z"
   },
   {
    "duration": 3,
    "start_time": "2022-10-04T11:20:26.650Z"
   },
   {
    "duration": 12,
    "start_time": "2022-10-04T11:20:27.924Z"
   },
   {
    "duration": 4,
    "start_time": "2022-10-04T11:20:41.400Z"
   },
   {
    "duration": 7,
    "start_time": "2022-10-04T11:20:49.349Z"
   },
   {
    "duration": 10,
    "start_time": "2022-10-04T11:20:55.600Z"
   },
   {
    "duration": 3,
    "start_time": "2022-10-04T11:21:17.004Z"
   },
   {
    "duration": 15,
    "start_time": "2022-10-04T11:21:18.229Z"
   },
   {
    "duration": 12,
    "start_time": "2022-10-04T11:21:28.341Z"
   },
   {
    "duration": 3,
    "start_time": "2022-10-04T11:21:37.214Z"
   },
   {
    "duration": 24,
    "start_time": "2022-10-04T11:21:38.178Z"
   },
   {
    "duration": 3,
    "start_time": "2022-10-04T11:21:47.100Z"
   },
   {
    "duration": 16,
    "start_time": "2022-10-04T11:21:52.621Z"
   },
   {
    "duration": 13,
    "start_time": "2022-10-04T11:22:00.688Z"
   },
   {
    "duration": 10,
    "start_time": "2022-10-04T11:22:05.952Z"
   },
   {
    "duration": 3,
    "start_time": "2022-10-04T11:22:07.254Z"
   },
   {
    "duration": 12,
    "start_time": "2022-10-04T11:22:08.060Z"
   },
   {
    "duration": 10,
    "start_time": "2022-10-04T11:22:26.309Z"
   },
   {
    "duration": 17,
    "start_time": "2022-10-04T11:22:37.036Z"
   },
   {
    "duration": 10,
    "start_time": "2022-10-04T11:22:49.227Z"
   },
   {
    "duration": 26,
    "start_time": "2022-10-04T11:22:53.961Z"
   },
   {
    "duration": 14,
    "start_time": "2022-10-04T11:23:02.571Z"
   },
   {
    "duration": 11,
    "start_time": "2022-10-04T11:23:33.498Z"
   },
   {
    "duration": 10,
    "start_time": "2022-10-04T11:23:39.267Z"
   },
   {
    "duration": 11,
    "start_time": "2022-10-04T11:23:40.539Z"
   },
   {
    "duration": 16,
    "start_time": "2022-10-04T11:23:46.026Z"
   },
   {
    "duration": 1285,
    "start_time": "2022-10-04T11:23:53.736Z"
   },
   {
    "duration": 3,
    "start_time": "2022-10-04T11:23:55.023Z"
   },
   {
    "duration": 85,
    "start_time": "2022-10-04T11:23:55.027Z"
   },
   {
    "duration": 6,
    "start_time": "2022-10-04T11:23:55.114Z"
   },
   {
    "duration": 816,
    "start_time": "2022-10-04T11:23:55.121Z"
   },
   {
    "duration": 3,
    "start_time": "2022-10-04T11:23:55.939Z"
   },
   {
    "duration": 11,
    "start_time": "2022-10-04T11:23:55.943Z"
   },
   {
    "duration": 4,
    "start_time": "2022-10-04T11:23:55.956Z"
   },
   {
    "duration": 18,
    "start_time": "2022-10-04T11:23:55.962Z"
   },
   {
    "duration": 3,
    "start_time": "2022-10-04T11:23:55.982Z"
   },
   {
    "duration": 32,
    "start_time": "2022-10-04T11:23:55.987Z"
   },
   {
    "duration": 15,
    "start_time": "2022-10-04T11:23:56.021Z"
   },
   {
    "duration": 3,
    "start_time": "2022-10-04T11:32:01.263Z"
   },
   {
    "duration": 250,
    "start_time": "2022-10-04T11:32:19.060Z"
   },
   {
    "duration": 13,
    "start_time": "2022-10-04T11:32:37.580Z"
   },
   {
    "duration": 13,
    "start_time": "2022-10-04T11:33:02.734Z"
   },
   {
    "duration": 4,
    "start_time": "2022-10-04T11:33:07.440Z"
   },
   {
    "duration": 5,
    "start_time": "2022-10-04T11:34:26.202Z"
   },
   {
    "duration": 5,
    "start_time": "2022-10-04T11:35:36.409Z"
   },
   {
    "duration": 4,
    "start_time": "2022-10-04T11:35:37.842Z"
   },
   {
    "duration": 1241,
    "start_time": "2022-10-04T11:37:28.375Z"
   },
   {
    "duration": 2,
    "start_time": "2022-10-04T11:37:29.618Z"
   },
   {
    "duration": 90,
    "start_time": "2022-10-04T11:37:29.622Z"
   },
   {
    "duration": 5,
    "start_time": "2022-10-04T11:37:29.714Z"
   },
   {
    "duration": 827,
    "start_time": "2022-10-04T11:37:29.721Z"
   },
   {
    "duration": 3,
    "start_time": "2022-10-04T11:37:30.550Z"
   },
   {
    "duration": 36,
    "start_time": "2022-10-04T11:37:30.555Z"
   },
   {
    "duration": 21,
    "start_time": "2022-10-04T11:37:30.592Z"
   },
   {
    "duration": 29,
    "start_time": "2022-10-04T11:37:30.614Z"
   },
   {
    "duration": 7,
    "start_time": "2022-10-04T11:37:30.645Z"
   },
   {
    "duration": 25,
    "start_time": "2022-10-04T11:37:30.653Z"
   },
   {
    "duration": 313,
    "start_time": "2022-10-04T11:37:30.680Z"
   },
   {
    "duration": 0,
    "start_time": "2022-10-04T11:37:30.994Z"
   },
   {
    "duration": 0,
    "start_time": "2022-10-04T11:37:30.996Z"
   },
   {
    "duration": 4,
    "start_time": "2022-10-04T11:37:46.361Z"
   },
   {
    "duration": 21,
    "start_time": "2022-10-04T11:37:52.118Z"
   },
   {
    "duration": 13,
    "start_time": "2022-10-04T11:38:08.925Z"
   },
   {
    "duration": 1258,
    "start_time": "2022-10-04T11:38:19.541Z"
   },
   {
    "duration": 3,
    "start_time": "2022-10-04T11:38:20.801Z"
   },
   {
    "duration": 90,
    "start_time": "2022-10-04T11:38:20.805Z"
   },
   {
    "duration": 5,
    "start_time": "2022-10-04T11:38:20.897Z"
   },
   {
    "duration": 808,
    "start_time": "2022-10-04T11:38:20.903Z"
   },
   {
    "duration": 3,
    "start_time": "2022-10-04T11:38:21.712Z"
   },
   {
    "duration": 11,
    "start_time": "2022-10-04T11:38:21.717Z"
   },
   {
    "duration": 6,
    "start_time": "2022-10-04T11:38:21.730Z"
   },
   {
    "duration": 20,
    "start_time": "2022-10-04T11:38:21.737Z"
   },
   {
    "duration": 4,
    "start_time": "2022-10-04T11:38:21.759Z"
   },
   {
    "duration": 15,
    "start_time": "2022-10-04T11:38:21.764Z"
   },
   {
    "duration": 37,
    "start_time": "2022-10-04T11:38:21.780Z"
   },
   {
    "duration": 94,
    "start_time": "2022-10-04T11:38:21.819Z"
   },
   {
    "duration": 1287,
    "start_time": "2022-10-04T11:39:03.748Z"
   },
   {
    "duration": 3,
    "start_time": "2022-10-04T11:39:05.036Z"
   },
   {
    "duration": 86,
    "start_time": "2022-10-04T11:39:05.040Z"
   },
   {
    "duration": 6,
    "start_time": "2022-10-04T11:39:05.128Z"
   },
   {
    "duration": 822,
    "start_time": "2022-10-04T11:39:05.135Z"
   },
   {
    "duration": 3,
    "start_time": "2022-10-04T11:39:05.959Z"
   },
   {
    "duration": 13,
    "start_time": "2022-10-04T11:39:05.964Z"
   },
   {
    "duration": 4,
    "start_time": "2022-10-04T11:39:05.979Z"
   },
   {
    "duration": 37,
    "start_time": "2022-10-04T11:39:05.984Z"
   },
   {
    "duration": 4,
    "start_time": "2022-10-04T11:39:06.023Z"
   },
   {
    "duration": 17,
    "start_time": "2022-10-04T11:39:06.028Z"
   },
   {
    "duration": 15,
    "start_time": "2022-10-04T11:39:06.046Z"
   },
   {
    "duration": 50,
    "start_time": "2022-10-04T11:39:06.063Z"
   },
   {
    "duration": 899,
    "start_time": "2022-10-04T11:39:12.583Z"
   },
   {
    "duration": 1198,
    "start_time": "2022-10-04T11:39:18.064Z"
   },
   {
    "duration": 2,
    "start_time": "2022-10-04T11:39:19.265Z"
   },
   {
    "duration": 86,
    "start_time": "2022-10-04T11:39:19.269Z"
   },
   {
    "duration": 5,
    "start_time": "2022-10-04T11:39:19.358Z"
   },
   {
    "duration": 803,
    "start_time": "2022-10-04T11:39:19.365Z"
   },
   {
    "duration": 3,
    "start_time": "2022-10-04T11:39:20.169Z"
   },
   {
    "duration": 15,
    "start_time": "2022-10-04T11:39:20.174Z"
   },
   {
    "duration": 17,
    "start_time": "2022-10-04T11:39:20.191Z"
   },
   {
    "duration": 22,
    "start_time": "2022-10-04T11:39:20.209Z"
   },
   {
    "duration": 4,
    "start_time": "2022-10-04T11:39:20.233Z"
   },
   {
    "duration": 33,
    "start_time": "2022-10-04T11:39:20.238Z"
   },
   {
    "duration": 42,
    "start_time": "2022-10-04T11:39:20.272Z"
   },
   {
    "duration": 103,
    "start_time": "2022-10-04T11:39:20.315Z"
   },
   {
    "duration": 5,
    "start_time": "2022-10-04T11:42:30.065Z"
   },
   {
    "duration": 4,
    "start_time": "2022-10-04T11:42:34.171Z"
   },
   {
    "duration": 3,
    "start_time": "2022-10-04T11:43:49.056Z"
   },
   {
    "duration": 107,
    "start_time": "2022-10-04T11:56:57.778Z"
   },
   {
    "duration": 10,
    "start_time": "2022-10-04T11:57:05.590Z"
   },
   {
    "duration": 11,
    "start_time": "2022-10-04T11:57:14.071Z"
   },
   {
    "duration": 11,
    "start_time": "2022-10-04T11:57:21.803Z"
   },
   {
    "duration": 125,
    "start_time": "2022-10-04T11:57:33.995Z"
   },
   {
    "duration": 135,
    "start_time": "2022-10-04T11:58:19.923Z"
   },
   {
    "duration": 103,
    "start_time": "2022-10-04T11:58:45.263Z"
   },
   {
    "duration": 85,
    "start_time": "2022-10-04T11:58:48.288Z"
   },
   {
    "duration": 97,
    "start_time": "2022-10-04T11:59:29.888Z"
   },
   {
    "duration": 98,
    "start_time": "2022-10-04T12:01:50.630Z"
   },
   {
    "duration": 98,
    "start_time": "2022-10-04T12:01:53.793Z"
   },
   {
    "duration": 115,
    "start_time": "2022-10-04T12:02:50.786Z"
   },
   {
    "duration": 101,
    "start_time": "2022-10-04T12:02:59.987Z"
   },
   {
    "duration": 113,
    "start_time": "2022-10-04T12:03:08.216Z"
   },
   {
    "duration": 136,
    "start_time": "2022-10-04T12:03:47.244Z"
   },
   {
    "duration": 136,
    "start_time": "2022-10-04T12:03:51.734Z"
   },
   {
    "duration": 169,
    "start_time": "2022-10-04T12:04:01.022Z"
   },
   {
    "duration": 0,
    "start_time": "2022-10-04T12:04:38.971Z"
   },
   {
    "duration": 21,
    "start_time": "2022-10-04T12:06:29.960Z"
   },
   {
    "duration": 20,
    "start_time": "2022-10-04T12:06:49.380Z"
   },
   {
    "duration": 22,
    "start_time": "2022-10-04T12:06:53.486Z"
   },
   {
    "duration": 112,
    "start_time": "2022-10-04T12:07:29.923Z"
   },
   {
    "duration": 10,
    "start_time": "2022-10-04T12:09:00.059Z"
   },
   {
    "duration": 116,
    "start_time": "2022-10-04T12:10:46.001Z"
   },
   {
    "duration": 4,
    "start_time": "2022-10-04T12:11:14.975Z"
   },
   {
    "duration": 6,
    "start_time": "2022-10-04T12:11:27.126Z"
   },
   {
    "duration": 21,
    "start_time": "2022-10-04T12:12:27.912Z"
   },
   {
    "duration": 14,
    "start_time": "2022-10-04T12:12:59.227Z"
   },
   {
    "duration": 216,
    "start_time": "2022-10-04T12:13:56.360Z"
   },
   {
    "duration": 237,
    "start_time": "2022-10-04T12:14:06.060Z"
   },
   {
    "duration": 1689,
    "start_time": "2022-10-04T12:14:23.921Z"
   },
   {
    "duration": 3,
    "start_time": "2022-10-04T12:14:25.613Z"
   },
   {
    "duration": 104,
    "start_time": "2022-10-04T12:14:25.618Z"
   },
   {
    "duration": 9,
    "start_time": "2022-10-04T12:14:25.725Z"
   },
   {
    "duration": 1217,
    "start_time": "2022-10-04T12:14:25.736Z"
   },
   {
    "duration": 4,
    "start_time": "2022-10-04T12:14:26.955Z"
   },
   {
    "duration": 26,
    "start_time": "2022-10-04T12:14:26.961Z"
   },
   {
    "duration": 34,
    "start_time": "2022-10-04T12:14:26.988Z"
   },
   {
    "duration": 42,
    "start_time": "2022-10-04T12:14:27.024Z"
   },
   {
    "duration": 5,
    "start_time": "2022-10-04T12:14:27.069Z"
   },
   {
    "duration": 54,
    "start_time": "2022-10-04T12:14:27.076Z"
   },
   {
    "duration": 183,
    "start_time": "2022-10-04T12:14:27.132Z"
   },
   {
    "duration": 261,
    "start_time": "2022-10-04T12:14:27.317Z"
   },
   {
    "duration": 178,
    "start_time": "2022-10-04T12:14:27.580Z"
   },
   {
    "duration": 167,
    "start_time": "2022-10-04T12:14:27.760Z"
   },
   {
    "duration": 6,
    "start_time": "2022-10-04T12:15:23.153Z"
   },
   {
    "duration": 143,
    "start_time": "2022-10-04T12:15:27.175Z"
   },
   {
    "duration": 123,
    "start_time": "2022-10-04T12:15:31.121Z"
   },
   {
    "duration": 123,
    "start_time": "2022-10-04T12:15:53.395Z"
   },
   {
    "duration": 13,
    "start_time": "2022-10-04T12:15:56.526Z"
   },
   {
    "duration": 4,
    "start_time": "2022-10-04T12:16:19.337Z"
   },
   {
    "duration": 4,
    "start_time": "2022-10-04T12:16:23.021Z"
   },
   {
    "duration": 5,
    "start_time": "2022-10-04T12:16:26.687Z"
   },
   {
    "duration": 6,
    "start_time": "2022-10-04T12:16:33.000Z"
   },
   {
    "duration": 109,
    "start_time": "2022-10-04T12:16:35.940Z"
   },
   {
    "duration": 892,
    "start_time": "2022-10-04T12:17:05.384Z"
   },
   {
    "duration": 1393,
    "start_time": "2022-10-04T12:17:09.313Z"
   },
   {
    "duration": 3,
    "start_time": "2022-10-04T12:17:10.707Z"
   },
   {
    "duration": 87,
    "start_time": "2022-10-04T12:17:10.712Z"
   },
   {
    "duration": 7,
    "start_time": "2022-10-04T12:17:10.801Z"
   },
   {
    "duration": 999,
    "start_time": "2022-10-04T12:17:10.810Z"
   },
   {
    "duration": 8,
    "start_time": "2022-10-04T12:17:11.811Z"
   },
   {
    "duration": 18,
    "start_time": "2022-10-04T12:17:11.821Z"
   },
   {
    "duration": 5,
    "start_time": "2022-10-04T12:17:11.841Z"
   },
   {
    "duration": 25,
    "start_time": "2022-10-04T12:17:11.848Z"
   },
   {
    "duration": 5,
    "start_time": "2022-10-04T12:17:11.876Z"
   },
   {
    "duration": 36,
    "start_time": "2022-10-04T12:17:11.884Z"
   },
   {
    "duration": 259,
    "start_time": "2022-10-04T12:17:11.922Z"
   },
   {
    "duration": 5,
    "start_time": "2022-10-04T12:17:12.183Z"
   },
   {
    "duration": 124,
    "start_time": "2022-10-04T12:17:12.190Z"
   },
   {
    "duration": 348,
    "start_time": "2022-10-04T12:17:41.364Z"
   },
   {
    "duration": 7,
    "start_time": "2022-10-04T12:17:53.036Z"
   },
   {
    "duration": 128,
    "start_time": "2022-10-04T12:17:55.099Z"
   },
   {
    "duration": 7,
    "start_time": "2022-10-04T12:18:08.465Z"
   },
   {
    "duration": 1145,
    "start_time": "2022-10-04T12:18:19.551Z"
   },
   {
    "duration": 6,
    "start_time": "2022-10-04T12:18:21.678Z"
   },
   {
    "duration": 1023,
    "start_time": "2022-10-04T12:18:22.643Z"
   },
   {
    "duration": 106,
    "start_time": "2022-10-04T12:18:27.062Z"
   },
   {
    "duration": 15,
    "start_time": "2022-10-04T12:18:29.951Z"
   },
   {
    "duration": 13,
    "start_time": "2022-10-04T12:18:51.523Z"
   },
   {
    "duration": 116,
    "start_time": "2022-10-04T12:18:56.456Z"
   },
   {
    "duration": 4,
    "start_time": "2022-10-04T12:19:25.357Z"
   },
   {
    "duration": 6,
    "start_time": "2022-10-04T12:19:27.164Z"
   },
   {
    "duration": 102,
    "start_time": "2022-10-04T12:19:31.620Z"
   },
   {
    "duration": 95,
    "start_time": "2022-10-04T12:21:34.615Z"
   },
   {
    "duration": 12,
    "start_time": "2022-10-04T12:21:58.070Z"
   },
   {
    "duration": 130,
    "start_time": "2022-10-04T12:22:12.480Z"
   },
   {
    "duration": 105,
    "start_time": "2022-10-04T12:22:52.278Z"
   },
   {
    "duration": 48,
    "start_time": "2022-10-04T14:44:18.305Z"
   },
   {
    "duration": 1679,
    "start_time": "2022-10-04T14:44:24.538Z"
   },
   {
    "duration": 3,
    "start_time": "2022-10-04T14:44:26.219Z"
   },
   {
    "duration": 15,
    "start_time": "2022-10-04T14:44:26.224Z"
   },
   {
    "duration": 13,
    "start_time": "2022-10-04T14:44:26.241Z"
   },
   {
    "duration": 106,
    "start_time": "2022-10-04T14:44:26.256Z"
   },
   {
    "duration": 1166,
    "start_time": "2022-10-04T14:44:26.364Z"
   },
   {
    "duration": 10,
    "start_time": "2022-10-04T14:44:27.532Z"
   },
   {
    "duration": 14,
    "start_time": "2022-10-04T14:44:27.543Z"
   },
   {
    "duration": 22,
    "start_time": "2022-10-04T14:44:27.559Z"
   },
   {
    "duration": 3,
    "start_time": "2022-10-04T14:44:27.584Z"
   },
   {
    "duration": 22,
    "start_time": "2022-10-04T14:44:27.589Z"
   },
   {
    "duration": 4,
    "start_time": "2022-10-04T14:44:27.613Z"
   },
   {
    "duration": 113,
    "start_time": "2022-10-04T14:44:27.619Z"
   },
   {
    "duration": 5,
    "start_time": "2022-10-04T14:44:27.777Z"
   },
   {
    "duration": 209,
    "start_time": "2022-10-04T14:44:27.783Z"
   },
   {
    "duration": 111,
    "start_time": "2022-10-04T14:44:27.994Z"
   },
   {
    "duration": 4,
    "start_time": "2022-10-04T14:44:52.735Z"
   },
   {
    "duration": 4,
    "start_time": "2022-10-04T14:45:03.267Z"
   },
   {
    "duration": 4,
    "start_time": "2022-10-04T14:45:12.253Z"
   },
   {
    "duration": 4,
    "start_time": "2022-10-04T14:45:26.090Z"
   },
   {
    "duration": 9,
    "start_time": "2022-10-04T14:45:40.606Z"
   },
   {
    "duration": 12,
    "start_time": "2022-10-04T14:48:22.501Z"
   },
   {
    "duration": 6,
    "start_time": "2022-10-04T14:48:27.102Z"
   },
   {
    "duration": 6,
    "start_time": "2022-10-04T14:48:43.128Z"
   },
   {
    "duration": 4,
    "start_time": "2022-10-04T14:48:49.841Z"
   },
   {
    "duration": 102,
    "start_time": "2022-10-04T14:49:06.501Z"
   },
   {
    "duration": 5,
    "start_time": "2022-10-04T14:52:19.738Z"
   },
   {
    "duration": 297,
    "start_time": "2022-10-04T14:52:34.482Z"
   },
   {
    "duration": 3,
    "start_time": "2022-10-04T15:00:10.477Z"
   },
   {
    "duration": 4,
    "start_time": "2022-10-04T15:00:27.592Z"
   },
   {
    "duration": 2,
    "start_time": "2022-10-04T15:01:27.893Z"
   },
   {
    "duration": 4,
    "start_time": "2022-10-04T15:01:36.815Z"
   },
   {
    "duration": 3,
    "start_time": "2022-10-04T15:02:41.617Z"
   },
   {
    "duration": 4,
    "start_time": "2022-10-04T15:03:00.407Z"
   },
   {
    "duration": 4,
    "start_time": "2022-10-04T15:09:00.649Z"
   },
   {
    "duration": 3,
    "start_time": "2022-10-04T15:09:25.879Z"
   },
   {
    "duration": 4,
    "start_time": "2022-10-04T15:09:28.321Z"
   },
   {
    "duration": 9,
    "start_time": "2022-10-04T15:10:16.621Z"
   },
   {
    "duration": 9,
    "start_time": "2022-10-04T15:10:24.125Z"
   },
   {
    "duration": 3,
    "start_time": "2022-10-04T15:10:25.797Z"
   },
   {
    "duration": 2,
    "start_time": "2022-10-04T15:10:26.629Z"
   },
   {
    "duration": 4,
    "start_time": "2022-10-04T15:10:31.659Z"
   },
   {
    "duration": 9,
    "start_time": "2022-10-04T15:23:54.678Z"
   },
   {
    "duration": 11,
    "start_time": "2022-10-04T15:24:03.041Z"
   },
   {
    "duration": 10224,
    "start_time": "2022-10-04T15:24:29.803Z"
   },
   {
    "duration": 4531,
    "start_time": "2022-10-04T15:24:57.460Z"
   },
   {
    "duration": 4391,
    "start_time": "2022-10-04T15:25:07.627Z"
   },
   {
    "duration": 4375,
    "start_time": "2022-10-04T15:25:35.708Z"
   },
   {
    "duration": 18,
    "start_time": "2022-10-04T15:26:04.451Z"
   },
   {
    "duration": 1144,
    "start_time": "2022-10-04T15:26:47.634Z"
   },
   {
    "duration": 4485,
    "start_time": "2022-10-04T15:26:55.248Z"
   },
   {
    "duration": 1043,
    "start_time": "2022-10-04T15:27:23.466Z"
   },
   {
    "duration": 4541,
    "start_time": "2022-10-04T15:27:28.660Z"
   },
   {
    "duration": 16,
    "start_time": "2022-10-04T15:27:33.204Z"
   },
   {
    "duration": 6,
    "start_time": "2022-10-04T15:49:36.843Z"
   },
   {
    "duration": 892,
    "start_time": "2022-10-04T15:49:38.787Z"
   },
   {
    "duration": 6,
    "start_time": "2022-10-04T15:50:02.877Z"
   },
   {
    "duration": 998,
    "start_time": "2022-10-04T15:50:05.542Z"
   },
   {
    "duration": 6,
    "start_time": "2022-10-04T15:50:12.477Z"
   },
   {
    "duration": 1106,
    "start_time": "2022-10-04T15:50:15.205Z"
   },
   {
    "duration": 6,
    "start_time": "2022-10-04T15:50:33.414Z"
   },
   {
    "duration": 925,
    "start_time": "2022-10-04T15:50:36.079Z"
   },
   {
    "duration": 6,
    "start_time": "2022-10-04T15:51:09.352Z"
   },
   {
    "duration": 928,
    "start_time": "2022-10-04T15:51:12.444Z"
   },
   {
    "duration": 6,
    "start_time": "2022-10-04T15:51:59.494Z"
   },
   {
    "duration": 976,
    "start_time": "2022-10-04T15:52:01.020Z"
   },
   {
    "duration": 169,
    "start_time": "2022-10-04T15:52:26.546Z"
   },
   {
    "duration": 909,
    "start_time": "2022-10-04T15:52:29.987Z"
   },
   {
    "duration": 7,
    "start_time": "2022-10-04T15:52:43.023Z"
   },
   {
    "duration": 973,
    "start_time": "2022-10-04T15:52:44.882Z"
   },
   {
    "duration": 7,
    "start_time": "2022-10-04T15:53:38.965Z"
   },
   {
    "duration": 5373,
    "start_time": "2022-10-04T15:53:41.569Z"
   },
   {
    "duration": 6,
    "start_time": "2022-10-04T15:54:22.726Z"
   },
   {
    "duration": 5166,
    "start_time": "2022-10-04T15:54:25.098Z"
   },
   {
    "duration": 7,
    "start_time": "2022-10-04T15:55:39.641Z"
   },
   {
    "duration": 5335,
    "start_time": "2022-10-04T15:55:41.185Z"
   },
   {
    "duration": 6,
    "start_time": "2022-10-04T15:56:03.858Z"
   },
   {
    "duration": 5064,
    "start_time": "2022-10-04T15:56:05.392Z"
   },
   {
    "duration": 5122,
    "start_time": "2022-10-04T15:56:48.389Z"
   },
   {
    "duration": 4970,
    "start_time": "2022-10-04T15:57:09.615Z"
   },
   {
    "duration": 5202,
    "start_time": "2022-10-04T16:06:17.961Z"
   },
   {
    "duration": 5343,
    "start_time": "2022-10-04T16:08:01.399Z"
   },
   {
    "duration": 5074,
    "start_time": "2022-10-04T16:09:13.457Z"
   },
   {
    "duration": 6,
    "start_time": "2022-10-04T16:10:55.340Z"
   },
   {
    "duration": 308,
    "start_time": "2022-10-04T16:10:58.769Z"
   },
   {
    "duration": 1411,
    "start_time": "2022-10-04T16:11:21.600Z"
   },
   {
    "duration": 2,
    "start_time": "2022-10-04T16:11:23.013Z"
   },
   {
    "duration": 11,
    "start_time": "2022-10-04T16:11:23.017Z"
   },
   {
    "duration": 11,
    "start_time": "2022-10-04T16:11:23.030Z"
   },
   {
    "duration": 100,
    "start_time": "2022-10-04T16:11:23.042Z"
   },
   {
    "duration": 5269,
    "start_time": "2022-10-04T16:11:23.143Z"
   },
   {
    "duration": 9,
    "start_time": "2022-10-04T16:11:28.413Z"
   },
   {
    "duration": 5,
    "start_time": "2022-10-04T16:11:28.424Z"
   },
   {
    "duration": 23,
    "start_time": "2022-10-04T16:11:28.431Z"
   },
   {
    "duration": 20,
    "start_time": "2022-10-04T16:11:28.457Z"
   },
   {
    "duration": 20,
    "start_time": "2022-10-04T16:11:28.478Z"
   },
   {
    "duration": 4,
    "start_time": "2022-10-04T16:11:28.499Z"
   },
   {
    "duration": 78,
    "start_time": "2022-10-04T16:11:28.505Z"
   },
   {
    "duration": 5,
    "start_time": "2022-10-04T16:11:28.585Z"
   },
   {
    "duration": 392,
    "start_time": "2022-10-04T16:11:28.591Z"
   },
   {
    "duration": 113,
    "start_time": "2022-10-04T16:11:28.985Z"
   },
   {
    "duration": 109,
    "start_time": "2022-10-04T16:11:29.100Z"
   },
   {
    "duration": 0,
    "start_time": "2022-10-04T16:11:29.210Z"
   },
   {
    "duration": 0,
    "start_time": "2022-10-04T16:11:29.212Z"
   },
   {
    "duration": 1,
    "start_time": "2022-10-04T16:11:29.213Z"
   },
   {
    "duration": 86,
    "start_time": "2022-10-04T16:12:49.141Z"
   },
   {
    "duration": 82,
    "start_time": "2022-10-04T16:13:03.928Z"
   },
   {
    "duration": 4,
    "start_time": "2022-10-04T16:14:29.360Z"
   },
   {
    "duration": 369,
    "start_time": "2022-10-04T16:14:31.682Z"
   },
   {
    "duration": 4,
    "start_time": "2022-10-04T16:14:41.104Z"
   },
   {
    "duration": 249,
    "start_time": "2022-10-04T16:14:44.529Z"
   },
   {
    "duration": 4,
    "start_time": "2022-10-04T16:14:59.937Z"
   },
   {
    "duration": 275,
    "start_time": "2022-10-04T16:15:01.840Z"
   },
   {
    "duration": 5,
    "start_time": "2022-10-04T16:15:09.269Z"
   },
   {
    "duration": 273,
    "start_time": "2022-10-04T16:15:10.611Z"
   },
   {
    "duration": 4,
    "start_time": "2022-10-04T16:15:14.353Z"
   },
   {
    "duration": 322,
    "start_time": "2022-10-04T16:15:16.455Z"
   },
   {
    "duration": 6,
    "start_time": "2022-10-04T16:15:35.893Z"
   },
   {
    "duration": 5126,
    "start_time": "2022-10-04T16:15:38.102Z"
   },
   {
    "duration": 7,
    "start_time": "2022-10-04T16:16:18.820Z"
   },
   {
    "duration": 5291,
    "start_time": "2022-10-04T16:16:20.364Z"
   },
   {
    "duration": 8,
    "start_time": "2022-10-04T16:16:35.183Z"
   },
   {
    "duration": 4943,
    "start_time": "2022-10-04T16:16:38.457Z"
   },
   {
    "duration": 162,
    "start_time": "2022-10-04T16:19:05.279Z"
   },
   {
    "duration": 221,
    "start_time": "2022-10-04T16:19:07.456Z"
   },
   {
    "duration": 9,
    "start_time": "2022-10-04T16:19:15.887Z"
   },
   {
    "duration": 237,
    "start_time": "2022-10-04T16:19:18.979Z"
   },
   {
    "duration": 8,
    "start_time": "2022-10-04T16:19:33.344Z"
   },
   {
    "duration": 4619,
    "start_time": "2022-10-04T16:19:36.306Z"
   },
   {
    "duration": 8,
    "start_time": "2022-10-04T16:19:46.152Z"
   },
   {
    "duration": 4853,
    "start_time": "2022-10-04T16:19:51.968Z"
   },
   {
    "duration": 112,
    "start_time": "2022-10-04T16:22:04.894Z"
   },
   {
    "duration": 4625,
    "start_time": "2022-10-04T16:22:07.295Z"
   },
   {
    "duration": 7,
    "start_time": "2022-10-04T16:29:12.059Z"
   },
   {
    "duration": 5278,
    "start_time": "2022-10-04T16:29:14.485Z"
   },
   {
    "duration": 7,
    "start_time": "2022-10-04T16:29:50.377Z"
   },
   {
    "duration": 4962,
    "start_time": "2022-10-04T16:29:52.794Z"
   },
   {
    "duration": 7,
    "start_time": "2022-10-04T16:31:11.251Z"
   },
   {
    "duration": 5143,
    "start_time": "2022-10-04T16:31:13.318Z"
   },
   {
    "duration": 7,
    "start_time": "2022-10-04T16:31:29.419Z"
   },
   {
    "duration": 4891,
    "start_time": "2022-10-04T16:31:35.973Z"
   },
   {
    "duration": 8,
    "start_time": "2022-10-04T16:35:25.266Z"
   },
   {
    "duration": 4693,
    "start_time": "2022-10-04T16:35:28.378Z"
   },
   {
    "duration": 8,
    "start_time": "2022-10-04T16:35:37.488Z"
   },
   {
    "duration": 4607,
    "start_time": "2022-10-04T16:35:40.364Z"
   },
   {
    "duration": 8,
    "start_time": "2022-10-04T16:36:10.218Z"
   },
   {
    "duration": 7,
    "start_time": "2022-10-04T16:36:12.932Z"
   },
   {
    "duration": 5061,
    "start_time": "2022-10-04T16:36:14.643Z"
   },
   {
    "duration": 6,
    "start_time": "2022-10-04T16:36:37.408Z"
   },
   {
    "duration": 5257,
    "start_time": "2022-10-04T16:36:40.251Z"
   },
   {
    "duration": 7,
    "start_time": "2022-10-04T16:37:32.421Z"
   },
   {
    "duration": 5522,
    "start_time": "2022-10-04T16:37:39.201Z"
   },
   {
    "duration": 8,
    "start_time": "2022-10-04T16:37:56.006Z"
   },
   {
    "duration": 5792,
    "start_time": "2022-10-04T16:38:01.491Z"
   },
   {
    "duration": 7,
    "start_time": "2022-10-04T16:39:16.827Z"
   },
   {
    "duration": 5179,
    "start_time": "2022-10-04T16:39:19.636Z"
   },
   {
    "duration": 7,
    "start_time": "2022-10-04T16:40:17.946Z"
   },
   {
    "duration": 5599,
    "start_time": "2022-10-04T16:40:21.461Z"
   },
   {
    "duration": 7,
    "start_time": "2022-10-04T16:40:59.257Z"
   },
   {
    "duration": 5149,
    "start_time": "2022-10-04T16:41:01.751Z"
   },
   {
    "duration": 141,
    "start_time": "2022-10-04T16:41:09.426Z"
   },
   {
    "duration": 7,
    "start_time": "2022-10-04T16:41:11.132Z"
   },
   {
    "duration": 5193,
    "start_time": "2022-10-04T16:41:12.821Z"
   },
   {
    "duration": 7,
    "start_time": "2022-10-04T16:42:08.832Z"
   },
   {
    "duration": 5344,
    "start_time": "2022-10-04T16:42:11.727Z"
   },
   {
    "duration": 9,
    "start_time": "2022-10-04T17:09:17.041Z"
   },
   {
    "duration": 3591,
    "start_time": "2022-10-04T17:09:19.072Z"
   },
   {
    "duration": 7,
    "start_time": "2022-10-04T17:09:41.236Z"
   },
   {
    "duration": 4914,
    "start_time": "2022-10-04T17:09:46.482Z"
   },
   {
    "duration": 7,
    "start_time": "2022-10-04T17:10:54.544Z"
   },
   {
    "duration": 3542,
    "start_time": "2022-10-04T17:10:56.156Z"
   },
   {
    "duration": 7,
    "start_time": "2022-10-04T17:11:19.886Z"
   },
   {
    "duration": 3743,
    "start_time": "2022-10-04T17:11:22.496Z"
   },
   {
    "duration": 7,
    "start_time": "2022-10-04T17:11:30.090Z"
   },
   {
    "duration": 3579,
    "start_time": "2022-10-04T17:11:33.184Z"
   },
   {
    "duration": 8,
    "start_time": "2022-10-04T17:13:03.495Z"
   },
   {
    "duration": 3396,
    "start_time": "2022-10-04T17:13:06.488Z"
   },
   {
    "duration": 153,
    "start_time": "2022-10-04T17:13:26.996Z"
   },
   {
    "duration": 3472,
    "start_time": "2022-10-04T17:13:33.675Z"
   },
   {
    "duration": 8,
    "start_time": "2022-10-04T17:13:50.829Z"
   },
   {
    "duration": 3530,
    "start_time": "2022-10-04T17:13:54.166Z"
   },
   {
    "duration": 8,
    "start_time": "2022-10-04T17:15:18.938Z"
   },
   {
    "duration": 3677,
    "start_time": "2022-10-04T17:15:22.152Z"
   },
   {
    "duration": 12,
    "start_time": "2022-10-04T17:15:30.541Z"
   },
   {
    "duration": 3664,
    "start_time": "2022-10-04T17:15:34.631Z"
   },
   {
    "duration": 7,
    "start_time": "2022-10-04T17:16:09.299Z"
   },
   {
    "duration": 3466,
    "start_time": "2022-10-04T17:16:11.927Z"
   },
   {
    "duration": 9,
    "start_time": "2022-10-04T17:16:37.299Z"
   },
   {
    "duration": 3553,
    "start_time": "2022-10-04T17:16:40.021Z"
   },
   {
    "duration": 3584,
    "start_time": "2022-10-04T17:16:55.684Z"
   },
   {
    "duration": 8,
    "start_time": "2022-10-04T17:17:13.480Z"
   },
   {
    "duration": 3590,
    "start_time": "2022-10-04T17:17:16.550Z"
   },
   {
    "duration": 8,
    "start_time": "2022-10-04T17:17:39.210Z"
   },
   {
    "duration": 82,
    "start_time": "2022-10-04T17:17:50.722Z"
   },
   {
    "duration": 3495,
    "start_time": "2022-10-04T17:17:52.608Z"
   },
   {
    "duration": 139,
    "start_time": "2022-10-04T17:18:27.132Z"
   },
   {
    "duration": 3405,
    "start_time": "2022-10-04T17:18:29.503Z"
   },
   {
    "duration": 9,
    "start_time": "2022-10-04T17:19:34.904Z"
   },
   {
    "duration": 3575,
    "start_time": "2022-10-04T17:19:38.384Z"
   },
   {
    "duration": 8,
    "start_time": "2022-10-04T17:20:12.712Z"
   },
   {
    "duration": 3576,
    "start_time": "2022-10-04T17:20:18.344Z"
   },
   {
    "duration": 7,
    "start_time": "2022-10-04T17:21:03.355Z"
   },
   {
    "duration": 3454,
    "start_time": "2022-10-04T17:21:05.961Z"
   },
   {
    "duration": 279,
    "start_time": "2022-10-04T17:26:24.012Z"
   },
   {
    "duration": 1270,
    "start_time": "2022-10-04T17:26:38.136Z"
   },
   {
    "duration": 3,
    "start_time": "2022-10-04T17:26:39.408Z"
   },
   {
    "duration": 6,
    "start_time": "2022-10-04T17:26:39.412Z"
   },
   {
    "duration": 12,
    "start_time": "2022-10-04T17:26:39.420Z"
   },
   {
    "duration": 84,
    "start_time": "2022-10-04T17:26:39.434Z"
   },
   {
    "duration": 3764,
    "start_time": "2022-10-04T17:26:39.519Z"
   },
   {
    "duration": 11,
    "start_time": "2022-10-04T17:26:43.285Z"
   },
   {
    "duration": 5,
    "start_time": "2022-10-04T17:26:43.298Z"
   },
   {
    "duration": 19,
    "start_time": "2022-10-04T17:26:43.305Z"
   },
   {
    "duration": 4,
    "start_time": "2022-10-04T17:26:43.328Z"
   },
   {
    "duration": 43,
    "start_time": "2022-10-04T17:26:43.334Z"
   },
   {
    "duration": 5,
    "start_time": "2022-10-04T17:26:43.379Z"
   },
   {
    "duration": 292,
    "start_time": "2022-10-04T17:26:43.386Z"
   },
   {
    "duration": 0,
    "start_time": "2022-10-04T17:26:43.680Z"
   },
   {
    "duration": 0,
    "start_time": "2022-10-04T17:26:43.681Z"
   },
   {
    "duration": 0,
    "start_time": "2022-10-04T17:26:43.682Z"
   },
   {
    "duration": 0,
    "start_time": "2022-10-04T17:26:43.683Z"
   },
   {
    "duration": 4,
    "start_time": "2022-10-04T17:54:12.241Z"
   },
   {
    "duration": 53,
    "start_time": "2022-10-04T17:54:13.527Z"
   },
   {
    "duration": 4,
    "start_time": "2022-10-04T17:54:20.349Z"
   },
   {
    "duration": 249,
    "start_time": "2022-10-04T17:54:21.527Z"
   },
   {
    "duration": 262,
    "start_time": "2022-10-04T17:58:53.316Z"
   },
   {
    "duration": 9,
    "start_time": "2022-10-04T17:58:58.251Z"
   },
   {
    "duration": 10,
    "start_time": "2022-10-04T17:59:11.138Z"
   },
   {
    "duration": 3,
    "start_time": "2022-10-04T17:59:26.252Z"
   },
   {
    "duration": 3,
    "start_time": "2022-10-04T17:59:30.197Z"
   },
   {
    "duration": 336,
    "start_time": "2022-10-04T17:59:35.056Z"
   },
   {
    "duration": 3,
    "start_time": "2022-10-04T17:59:37.047Z"
   },
   {
    "duration": 4,
    "start_time": "2022-10-04T17:59:45.862Z"
   },
   {
    "duration": 282,
    "start_time": "2022-10-04T17:59:47.102Z"
   },
   {
    "duration": 5,
    "start_time": "2022-10-04T17:59:49.074Z"
   },
   {
    "duration": 6,
    "start_time": "2022-10-04T17:59:51.002Z"
   },
   {
    "duration": 6,
    "start_time": "2022-10-04T18:00:03.764Z"
   },
   {
    "duration": 8,
    "start_time": "2022-10-04T18:00:25.193Z"
   },
   {
    "duration": 4,
    "start_time": "2022-10-04T18:00:42.063Z"
   },
   {
    "duration": 6,
    "start_time": "2022-10-04T18:00:50.149Z"
   },
   {
    "duration": 6,
    "start_time": "2022-10-04T18:00:58.612Z"
   },
   {
    "duration": 1465,
    "start_time": "2022-10-04T18:02:46.252Z"
   },
   {
    "duration": 2,
    "start_time": "2022-10-04T18:02:47.720Z"
   },
   {
    "duration": 10,
    "start_time": "2022-10-04T18:02:47.724Z"
   },
   {
    "duration": 10,
    "start_time": "2022-10-04T18:02:47.737Z"
   },
   {
    "duration": 93,
    "start_time": "2022-10-04T18:02:47.749Z"
   },
   {
    "duration": 3611,
    "start_time": "2022-10-04T18:02:47.844Z"
   },
   {
    "duration": 18,
    "start_time": "2022-10-04T18:02:51.458Z"
   },
   {
    "duration": 4,
    "start_time": "2022-10-04T18:02:51.478Z"
   },
   {
    "duration": 22,
    "start_time": "2022-10-04T18:02:51.483Z"
   },
   {
    "duration": 5,
    "start_time": "2022-10-04T18:02:51.508Z"
   },
   {
    "duration": 14,
    "start_time": "2022-10-04T18:02:51.515Z"
   },
   {
    "duration": 5,
    "start_time": "2022-10-04T18:02:51.532Z"
   },
   {
    "duration": 356,
    "start_time": "2022-10-04T18:02:51.538Z"
   },
   {
    "duration": 5,
    "start_time": "2022-10-04T18:02:51.896Z"
   },
   {
    "duration": 8,
    "start_time": "2022-10-04T18:02:51.903Z"
   },
   {
    "duration": 4,
    "start_time": "2022-10-04T18:02:51.912Z"
   },
   {
    "duration": 7,
    "start_time": "2022-10-04T18:02:51.917Z"
   },
   {
    "duration": 17,
    "start_time": "2022-10-04T18:02:51.925Z"
   },
   {
    "duration": 6,
    "start_time": "2022-10-04T18:03:07.893Z"
   },
   {
    "duration": 5,
    "start_time": "2022-10-04T18:04:10.177Z"
   },
   {
    "duration": 306,
    "start_time": "2022-10-04T18:04:11.870Z"
   },
   {
    "duration": 5,
    "start_time": "2022-10-04T18:04:16.276Z"
   },
   {
    "duration": 107,
    "start_time": "2022-10-04T18:04:18.252Z"
   },
   {
    "duration": 10,
    "start_time": "2022-10-04T18:05:19.257Z"
   },
   {
    "duration": 3,
    "start_time": "2022-10-04T18:05:25.572Z"
   },
   {
    "duration": 6,
    "start_time": "2022-10-04T18:05:27.514Z"
   },
   {
    "duration": 3,
    "start_time": "2022-10-04T18:06:17.855Z"
   },
   {
    "duration": 7,
    "start_time": "2022-10-04T18:06:19.442Z"
   },
   {
    "duration": 239,
    "start_time": "2022-10-04T18:06:24.225Z"
   },
   {
    "duration": 7,
    "start_time": "2022-10-04T18:06:26.971Z"
   },
   {
    "duration": 1608,
    "start_time": "2022-10-05T09:39:26.160Z"
   },
   {
    "duration": 3,
    "start_time": "2022-10-05T09:39:27.770Z"
   },
   {
    "duration": 25,
    "start_time": "2022-10-05T09:39:27.774Z"
   },
   {
    "duration": 16,
    "start_time": "2022-10-05T09:39:27.801Z"
   },
   {
    "duration": 34,
    "start_time": "2022-10-05T09:39:27.819Z"
   },
   {
    "duration": 100,
    "start_time": "2022-10-05T09:39:27.855Z"
   },
   {
    "duration": 3775,
    "start_time": "2022-10-05T09:39:27.957Z"
   },
   {
    "duration": 11,
    "start_time": "2022-10-05T09:39:31.738Z"
   },
   {
    "duration": 26,
    "start_time": "2022-10-05T09:39:31.751Z"
   },
   {
    "duration": 4,
    "start_time": "2022-10-05T09:39:31.780Z"
   },
   {
    "duration": 46,
    "start_time": "2022-10-05T09:39:31.786Z"
   },
   {
    "duration": 6,
    "start_time": "2022-10-05T09:39:31.834Z"
   },
   {
    "duration": 290,
    "start_time": "2022-10-05T09:39:31.842Z"
   },
   {
    "duration": 116,
    "start_time": "2022-10-05T09:39:32.139Z"
   },
   {
    "duration": 0,
    "start_time": "2022-10-05T09:39:32.257Z"
   },
   {
    "duration": 0,
    "start_time": "2022-10-05T09:39:32.258Z"
   },
   {
    "duration": 0,
    "start_time": "2022-10-05T09:39:32.259Z"
   },
   {
    "duration": 0,
    "start_time": "2022-10-05T09:39:32.260Z"
   },
   {
    "duration": 6,
    "start_time": "2022-10-05T09:40:22.868Z"
   },
   {
    "duration": 3,
    "start_time": "2022-10-05T09:40:25.119Z"
   },
   {
    "duration": 3,
    "start_time": "2022-10-05T09:40:26.765Z"
   },
   {
    "duration": 5,
    "start_time": "2022-10-05T09:41:37.441Z"
   },
   {
    "duration": 4,
    "start_time": "2022-10-05T09:41:55.243Z"
   },
   {
    "duration": 3,
    "start_time": "2022-10-05T09:42:10.668Z"
   },
   {
    "duration": 5,
    "start_time": "2022-10-05T09:43:31.692Z"
   },
   {
    "duration": 4,
    "start_time": "2022-10-05T09:43:53.914Z"
   },
   {
    "duration": 5,
    "start_time": "2022-10-05T09:44:01.276Z"
   },
   {
    "duration": 9,
    "start_time": "2022-10-05T09:44:08.599Z"
   },
   {
    "duration": 4,
    "start_time": "2022-10-05T09:44:14.159Z"
   },
   {
    "duration": 10,
    "start_time": "2022-10-05T09:52:54.120Z"
   },
   {
    "duration": 3,
    "start_time": "2022-10-05T10:03:37.489Z"
   },
   {
    "duration": 60,
    "start_time": "2022-10-05T10:03:49.677Z"
   },
   {
    "duration": 3,
    "start_time": "2022-10-05T10:03:55.564Z"
   },
   {
    "duration": 5,
    "start_time": "2022-10-05T10:10:37.735Z"
   },
   {
    "duration": 4,
    "start_time": "2022-10-05T10:10:51.103Z"
   },
   {
    "duration": 283,
    "start_time": "2022-10-05T10:10:52.908Z"
   },
   {
    "duration": 6,
    "start_time": "2022-10-05T10:10:55.827Z"
   },
   {
    "duration": 10,
    "start_time": "2022-10-05T10:10:59.730Z"
   },
   {
    "duration": 12,
    "start_time": "2022-10-05T10:11:07.155Z"
   },
   {
    "duration": 10,
    "start_time": "2022-10-05T10:11:16.278Z"
   },
   {
    "duration": 3,
    "start_time": "2022-10-05T10:11:21.675Z"
   },
   {
    "duration": 6,
    "start_time": "2022-10-05T10:11:25.620Z"
   },
   {
    "duration": 225,
    "start_time": "2022-10-05T10:11:30.603Z"
   },
   {
    "duration": 6,
    "start_time": "2022-10-05T10:11:33.948Z"
   },
   {
    "duration": 4,
    "start_time": "2022-10-05T10:11:41.195Z"
   },
   {
    "duration": 6,
    "start_time": "2022-10-05T10:11:43.385Z"
   },
   {
    "duration": 6,
    "start_time": "2022-10-05T10:11:56.836Z"
   },
   {
    "duration": 9,
    "start_time": "2022-10-05T10:12:47.305Z"
   },
   {
    "duration": 4,
    "start_time": "2022-10-05T10:12:53.388Z"
   },
   {
    "duration": 5,
    "start_time": "2022-10-05T10:13:20.562Z"
   },
   {
    "duration": 4,
    "start_time": "2022-10-05T10:13:47.979Z"
   },
   {
    "duration": 4,
    "start_time": "2022-10-05T10:13:55.972Z"
   },
   {
    "duration": 10,
    "start_time": "2022-10-05T10:14:51.115Z"
   },
   {
    "duration": 8,
    "start_time": "2022-10-05T10:14:54.425Z"
   },
   {
    "duration": 61,
    "start_time": "2022-10-05T10:14:56.432Z"
   },
   {
    "duration": 25,
    "start_time": "2022-10-05T10:15:18.394Z"
   },
   {
    "duration": 111,
    "start_time": "2022-10-05T10:15:36.454Z"
   },
   {
    "duration": 3,
    "start_time": "2022-10-05T10:15:44.482Z"
   },
   {
    "duration": 9820,
    "start_time": "2022-10-05T10:15:46.356Z"
   },
   {
    "duration": 3,
    "start_time": "2022-10-05T10:15:59.109Z"
   },
   {
    "duration": 45361,
    "start_time": "2022-10-05T10:15:59.930Z"
   },
   {
    "duration": 5691,
    "start_time": "2022-10-05T10:16:48.027Z"
   },
   {
    "duration": 3,
    "start_time": "2022-10-05T10:16:59.613Z"
   },
   {
    "duration": 3,
    "start_time": "2022-10-05T10:17:03.224Z"
   },
   {
    "duration": 96,
    "start_time": "2022-10-05T10:17:05.297Z"
   },
   {
    "duration": 10,
    "start_time": "2022-10-05T10:18:00.937Z"
   },
   {
    "duration": 3614,
    "start_time": "2022-10-05T10:18:04.451Z"
   },
   {
    "duration": 10,
    "start_time": "2022-10-05T10:19:20.820Z"
   },
   {
    "duration": 4,
    "start_time": "2022-10-05T10:19:26.021Z"
   },
   {
    "duration": 114,
    "start_time": "2022-10-05T10:19:34.274Z"
   },
   {
    "duration": 4,
    "start_time": "2022-10-05T10:19:38.566Z"
   },
   {
    "duration": 8038,
    "start_time": "2022-10-05T10:19:40.639Z"
   },
   {
    "duration": 3,
    "start_time": "2022-10-05T10:19:48.679Z"
   },
   {
    "duration": 293,
    "start_time": "2022-10-05T10:20:08.752Z"
   },
   {
    "duration": 5,
    "start_time": "2022-10-05T10:20:23.131Z"
   },
   {
    "duration": 3,
    "start_time": "2022-10-05T10:20:26.552Z"
   },
   {
    "duration": 2,
    "start_time": "2022-10-05T10:22:07.966Z"
   },
   {
    "duration": 1023,
    "start_time": "2022-10-05T10:28:57.205Z"
   },
   {
    "duration": 16,
    "start_time": "2022-10-05T10:29:05.802Z"
   },
   {
    "duration": 17,
    "start_time": "2022-10-05T10:29:24.065Z"
   },
   {
    "duration": 11,
    "start_time": "2022-10-05T10:29:30.311Z"
   },
   {
    "duration": 10,
    "start_time": "2022-10-05T10:29:37.530Z"
   },
   {
    "duration": 6,
    "start_time": "2022-10-05T10:29:51.050Z"
   },
   {
    "duration": 9,
    "start_time": "2022-10-05T10:29:57.379Z"
   },
   {
    "duration": 6,
    "start_time": "2022-10-05T10:30:25.789Z"
   },
   {
    "duration": 6,
    "start_time": "2022-10-05T10:30:40.583Z"
   },
   {
    "duration": 7,
    "start_time": "2022-10-05T10:31:21.120Z"
   },
   {
    "duration": 6,
    "start_time": "2022-10-05T10:31:28.972Z"
   },
   {
    "duration": 10,
    "start_time": "2022-10-05T10:32:04.581Z"
   },
   {
    "duration": 7,
    "start_time": "2022-10-05T10:32:14.984Z"
   },
   {
    "duration": 5,
    "start_time": "2022-10-05T10:32:27.964Z"
   },
   {
    "duration": 494,
    "start_time": "2022-10-05T10:35:18.357Z"
   },
   {
    "duration": 493,
    "start_time": "2022-10-05T10:35:57.625Z"
   },
   {
    "duration": 476,
    "start_time": "2022-10-05T10:36:15.381Z"
   },
   {
    "duration": 516,
    "start_time": "2022-10-05T10:36:29.933Z"
   },
   {
    "duration": 492,
    "start_time": "2022-10-05T10:37:02.432Z"
   },
   {
    "duration": 471,
    "start_time": "2022-10-05T10:37:07.543Z"
   },
   {
    "duration": 496,
    "start_time": "2022-10-05T10:37:56.578Z"
   },
   {
    "duration": 526,
    "start_time": "2022-10-05T10:38:12.155Z"
   },
   {
    "duration": 503,
    "start_time": "2022-10-05T10:38:39.607Z"
   },
   {
    "duration": 501,
    "start_time": "2022-10-05T10:38:40.797Z"
   },
   {
    "duration": 543,
    "start_time": "2022-10-05T10:38:41.916Z"
   },
   {
    "duration": 806,
    "start_time": "2022-10-05T10:38:56.810Z"
   },
   {
    "duration": 723,
    "start_time": "2022-10-05T10:38:59.999Z"
   },
   {
    "duration": 758,
    "start_time": "2022-10-05T10:39:02.242Z"
   },
   {
    "duration": 753,
    "start_time": "2022-10-05T10:39:03.646Z"
   },
   {
    "duration": 3,
    "start_time": "2022-10-05T10:39:13.867Z"
   },
   {
    "duration": 539,
    "start_time": "2022-10-05T10:39:24.549Z"
   },
   {
    "duration": 524,
    "start_time": "2022-10-05T10:39:25.892Z"
   },
   {
    "duration": 610,
    "start_time": "2022-10-05T10:39:27.073Z"
   },
   {
    "duration": 3,
    "start_time": "2022-10-05T10:39:47.227Z"
   },
   {
    "duration": 3,
    "start_time": "2022-10-05T10:40:26.618Z"
   },
   {
    "duration": 3,
    "start_time": "2022-10-05T10:40:36.357Z"
   },
   {
    "duration": 561,
    "start_time": "2022-10-05T10:40:41.999Z"
   },
   {
    "duration": 533,
    "start_time": "2022-10-05T10:40:43.399Z"
   },
   {
    "duration": 552,
    "start_time": "2022-10-05T10:40:44.598Z"
   },
   {
    "duration": 5,
    "start_time": "2022-10-05T10:40:48.577Z"
   },
   {
    "duration": 3,
    "start_time": "2022-10-05T10:40:50.871Z"
   },
   {
    "duration": 4,
    "start_time": "2022-10-05T10:40:51.603Z"
   },
   {
    "duration": 4,
    "start_time": "2022-10-05T10:40:52.259Z"
   },
   {
    "duration": 1175,
    "start_time": "2022-10-05T10:41:07.125Z"
   },
   {
    "duration": 1022,
    "start_time": "2022-10-05T10:41:11.079Z"
   },
   {
    "duration": 1343,
    "start_time": "2022-10-05T10:41:32.471Z"
   },
   {
    "duration": 1289,
    "start_time": "2022-10-05T10:41:36.116Z"
   },
   {
    "duration": 1269,
    "start_time": "2022-10-05T10:41:38.318Z"
   },
   {
    "duration": 1272,
    "start_time": "2022-10-05T10:41:40.375Z"
   },
   {
    "duration": 1295,
    "start_time": "2022-10-05T10:42:19.452Z"
   },
   {
    "duration": 4,
    "start_time": "2022-10-05T10:42:35.480Z"
   },
   {
    "duration": 6,
    "start_time": "2022-10-05T10:42:52.217Z"
   },
   {
    "duration": 6,
    "start_time": "2022-10-05T10:42:54.193Z"
   },
   {
    "duration": 8,
    "start_time": "2022-10-05T10:42:54.774Z"
   },
   {
    "duration": 7,
    "start_time": "2022-10-05T10:43:09.706Z"
   },
   {
    "duration": 8,
    "start_time": "2022-10-05T10:43:15.685Z"
   },
   {
    "duration": 7,
    "start_time": "2022-10-05T10:43:21.829Z"
   },
   {
    "duration": 1538,
    "start_time": "2022-10-05T10:43:47.499Z"
   },
   {
    "duration": 5,
    "start_time": "2022-10-05T10:43:49.040Z"
   },
   {
    "duration": 24,
    "start_time": "2022-10-05T10:43:49.046Z"
   },
   {
    "duration": 9,
    "start_time": "2022-10-05T10:43:49.073Z"
   },
   {
    "duration": 13,
    "start_time": "2022-10-05T10:43:49.084Z"
   },
   {
    "duration": 87,
    "start_time": "2022-10-05T10:43:49.099Z"
   },
   {
    "duration": 3893,
    "start_time": "2022-10-05T10:43:49.188Z"
   },
   {
    "duration": 10,
    "start_time": "2022-10-05T10:43:53.083Z"
   },
   {
    "duration": 63,
    "start_time": "2022-10-05T10:43:53.094Z"
   },
   {
    "duration": 15,
    "start_time": "2022-10-05T10:43:53.161Z"
   },
   {
    "duration": 46,
    "start_time": "2022-10-05T10:43:53.178Z"
   },
   {
    "duration": 19,
    "start_time": "2022-10-05T10:43:53.226Z"
   },
   {
    "duration": 307,
    "start_time": "2022-10-05T10:43:53.247Z"
   },
   {
    "duration": 139,
    "start_time": "2022-10-05T10:43:53.557Z"
   },
   {
    "duration": 0,
    "start_time": "2022-10-05T10:43:53.698Z"
   },
   {
    "duration": 0,
    "start_time": "2022-10-05T10:43:53.699Z"
   },
   {
    "duration": 0,
    "start_time": "2022-10-05T10:43:53.700Z"
   },
   {
    "duration": 0,
    "start_time": "2022-10-05T10:43:53.701Z"
   },
   {
    "duration": 0,
    "start_time": "2022-10-05T10:43:53.703Z"
   },
   {
    "duration": 0,
    "start_time": "2022-10-05T10:43:53.705Z"
   },
   {
    "duration": 0,
    "start_time": "2022-10-05T10:43:53.706Z"
   },
   {
    "duration": 0,
    "start_time": "2022-10-05T10:43:53.708Z"
   },
   {
    "duration": 0,
    "start_time": "2022-10-05T10:43:53.709Z"
   },
   {
    "duration": 2,
    "start_time": "2022-10-05T10:44:12.013Z"
   },
   {
    "duration": 11,
    "start_time": "2022-10-05T10:44:13.103Z"
   },
   {
    "duration": 3,
    "start_time": "2022-10-05T10:44:25.049Z"
   },
   {
    "duration": 6,
    "start_time": "2022-10-05T10:44:26.704Z"
   },
   {
    "duration": 3,
    "start_time": "2022-10-05T10:44:28.649Z"
   },
   {
    "duration": 1211,
    "start_time": "2022-10-05T10:44:29.975Z"
   },
   {
    "duration": 11,
    "start_time": "2022-10-05T10:44:34.628Z"
   },
   {
    "duration": 980,
    "start_time": "2022-10-05T10:44:40.903Z"
   },
   {
    "duration": 1467,
    "start_time": "2022-10-05T10:44:58.434Z"
   },
   {
    "duration": 3,
    "start_time": "2022-10-05T10:44:59.906Z"
   },
   {
    "duration": 7,
    "start_time": "2022-10-05T10:44:59.912Z"
   },
   {
    "duration": 19,
    "start_time": "2022-10-05T10:44:59.920Z"
   },
   {
    "duration": 7,
    "start_time": "2022-10-05T10:44:59.941Z"
   },
   {
    "duration": 84,
    "start_time": "2022-10-05T10:44:59.949Z"
   },
   {
    "duration": 3874,
    "start_time": "2022-10-05T10:45:00.035Z"
   },
   {
    "duration": 26,
    "start_time": "2022-10-05T10:45:03.911Z"
   },
   {
    "duration": 18,
    "start_time": "2022-10-05T10:45:03.940Z"
   },
   {
    "duration": 5,
    "start_time": "2022-10-05T10:45:03.960Z"
   },
   {
    "duration": 22,
    "start_time": "2022-10-05T10:45:03.967Z"
   },
   {
    "duration": 5,
    "start_time": "2022-10-05T10:45:03.991Z"
   },
   {
    "duration": 357,
    "start_time": "2022-10-05T10:45:03.998Z"
   },
   {
    "duration": 6,
    "start_time": "2022-10-05T10:45:04.357Z"
   },
   {
    "duration": 8,
    "start_time": "2022-10-05T10:45:04.365Z"
   },
   {
    "duration": 18,
    "start_time": "2022-10-05T10:45:04.375Z"
   },
   {
    "duration": 5,
    "start_time": "2022-10-05T10:45:04.395Z"
   },
   {
    "duration": 1098,
    "start_time": "2022-10-05T10:45:04.402Z"
   },
   {
    "duration": 8,
    "start_time": "2022-10-05T10:45:05.502Z"
   },
   {
    "duration": 1475,
    "start_time": "2022-10-05T10:45:13.436Z"
   },
   {
    "duration": 3,
    "start_time": "2022-10-05T10:45:14.913Z"
   },
   {
    "duration": 30,
    "start_time": "2022-10-05T10:45:14.917Z"
   },
   {
    "duration": 32,
    "start_time": "2022-10-05T10:45:14.950Z"
   },
   {
    "duration": 60,
    "start_time": "2022-10-05T10:45:14.984Z"
   },
   {
    "duration": 118,
    "start_time": "2022-10-05T10:45:15.046Z"
   },
   {
    "duration": 3912,
    "start_time": "2022-10-05T10:45:15.165Z"
   },
   {
    "duration": 11,
    "start_time": "2022-10-05T10:45:19.078Z"
   },
   {
    "duration": 20,
    "start_time": "2022-10-05T10:45:19.091Z"
   },
   {
    "duration": 4,
    "start_time": "2022-10-05T10:45:19.115Z"
   },
   {
    "duration": 29,
    "start_time": "2022-10-05T10:45:19.121Z"
   },
   {
    "duration": 5,
    "start_time": "2022-10-05T10:45:19.152Z"
   },
   {
    "duration": 289,
    "start_time": "2022-10-05T10:45:19.159Z"
   },
   {
    "duration": 3,
    "start_time": "2022-10-05T10:45:19.449Z"
   },
   {
    "duration": 35,
    "start_time": "2022-10-05T10:45:19.454Z"
   },
   {
    "duration": 10,
    "start_time": "2022-10-05T10:45:19.491Z"
   },
   {
    "duration": 3,
    "start_time": "2022-10-05T10:45:19.503Z"
   },
   {
    "duration": 991,
    "start_time": "2022-10-05T10:45:19.507Z"
   },
   {
    "duration": 6,
    "start_time": "2022-10-05T10:45:20.500Z"
   },
   {
    "duration": 1524,
    "start_time": "2022-10-05T10:47:03.203Z"
   },
   {
    "duration": 3,
    "start_time": "2022-10-05T10:47:04.729Z"
   },
   {
    "duration": 24,
    "start_time": "2022-10-05T10:47:04.733Z"
   },
   {
    "duration": 33,
    "start_time": "2022-10-05T10:47:04.759Z"
   },
   {
    "duration": 51,
    "start_time": "2022-10-05T10:47:04.794Z"
   },
   {
    "duration": 100,
    "start_time": "2022-10-05T10:47:04.847Z"
   },
   {
    "duration": 3992,
    "start_time": "2022-10-05T10:47:04.949Z"
   },
   {
    "duration": 9,
    "start_time": "2022-10-05T10:47:08.943Z"
   },
   {
    "duration": 39,
    "start_time": "2022-10-05T10:47:08.954Z"
   },
   {
    "duration": 23,
    "start_time": "2022-10-05T10:47:08.995Z"
   },
   {
    "duration": 115,
    "start_time": "2022-10-05T10:47:09.020Z"
   },
   {
    "duration": 20,
    "start_time": "2022-10-05T10:47:09.137Z"
   },
   {
    "duration": 291,
    "start_time": "2022-10-05T10:47:09.159Z"
   },
   {
    "duration": 3,
    "start_time": "2022-10-05T10:47:09.452Z"
   },
   {
    "duration": 20,
    "start_time": "2022-10-05T10:47:09.456Z"
   },
   {
    "duration": 28,
    "start_time": "2022-10-05T10:47:09.477Z"
   },
   {
    "duration": 13,
    "start_time": "2022-10-05T10:47:09.507Z"
   },
   {
    "duration": 1066,
    "start_time": "2022-10-05T10:47:09.522Z"
   },
   {
    "duration": 7,
    "start_time": "2022-10-05T10:47:10.590Z"
   },
   {
    "duration": 45,
    "start_time": "2022-10-05T12:24:03.878Z"
   },
   {
    "duration": 1573,
    "start_time": "2022-10-05T12:24:10.586Z"
   },
   {
    "duration": 3,
    "start_time": "2022-10-05T12:24:12.161Z"
   },
   {
    "duration": 7,
    "start_time": "2022-10-05T12:24:12.165Z"
   },
   {
    "duration": 10,
    "start_time": "2022-10-05T12:24:12.174Z"
   },
   {
    "duration": 11,
    "start_time": "2022-10-05T12:24:12.185Z"
   },
   {
    "duration": 94,
    "start_time": "2022-10-05T12:24:12.197Z"
   },
   {
    "duration": 3530,
    "start_time": "2022-10-05T12:24:12.293Z"
   },
   {
    "duration": 9,
    "start_time": "2022-10-05T12:24:15.825Z"
   },
   {
    "duration": 17,
    "start_time": "2022-10-05T12:24:15.836Z"
   },
   {
    "duration": 4,
    "start_time": "2022-10-05T12:24:15.855Z"
   },
   {
    "duration": 18,
    "start_time": "2022-10-05T12:24:15.861Z"
   },
   {
    "duration": 4,
    "start_time": "2022-10-05T12:24:15.901Z"
   },
   {
    "duration": 297,
    "start_time": "2022-10-05T12:24:15.907Z"
   },
   {
    "duration": 3,
    "start_time": "2022-10-05T12:24:16.206Z"
   },
   {
    "duration": 10,
    "start_time": "2022-10-05T12:24:16.211Z"
   },
   {
    "duration": 8,
    "start_time": "2022-10-05T12:24:16.222Z"
   },
   {
    "duration": 5,
    "start_time": "2022-10-05T12:24:16.232Z"
   },
   {
    "duration": 4,
    "start_time": "2022-10-05T12:24:16.239Z"
   },
   {
    "duration": 948,
    "start_time": "2022-10-05T12:24:16.244Z"
   },
   {
    "duration": 111,
    "start_time": "2022-10-05T12:24:17.200Z"
   },
   {
    "duration": 330,
    "start_time": "2022-10-05T12:24:44.793Z"
   },
   {
    "duration": 10,
    "start_time": "2022-10-05T12:25:02.037Z"
   },
   {
    "duration": 133,
    "start_time": "2022-10-05T12:25:10.036Z"
   },
   {
    "duration": 8,
    "start_time": "2022-10-05T12:25:21.270Z"
   },
   {
    "duration": 10,
    "start_time": "2022-10-05T12:25:41.522Z"
   },
   {
    "duration": 123,
    "start_time": "2022-10-05T12:25:50.931Z"
   },
   {
    "duration": 111,
    "start_time": "2022-10-05T12:25:58.877Z"
   },
   {
    "duration": 6,
    "start_time": "2022-10-05T12:27:21.791Z"
   },
   {
    "duration": 7,
    "start_time": "2022-10-05T12:27:50.757Z"
   },
   {
    "duration": 15,
    "start_time": "2022-10-05T12:28:02.033Z"
   },
   {
    "duration": 8,
    "start_time": "2022-10-05T12:28:37.785Z"
   },
   {
    "duration": 12,
    "start_time": "2022-10-05T12:28:45.246Z"
   },
   {
    "duration": 13,
    "start_time": "2022-10-05T12:28:59.033Z"
   },
   {
    "duration": 12,
    "start_time": "2022-10-05T12:29:04.297Z"
   },
   {
    "duration": 312,
    "start_time": "2022-10-05T12:30:10.602Z"
   },
   {
    "duration": 167,
    "start_time": "2022-10-05T12:30:23.512Z"
   },
   {
    "duration": 194,
    "start_time": "2022-10-05T12:30:46.616Z"
   },
   {
    "duration": 1335,
    "start_time": "2022-10-05T12:31:09.446Z"
   },
   {
    "duration": 3,
    "start_time": "2022-10-05T12:31:10.783Z"
   },
   {
    "duration": 6,
    "start_time": "2022-10-05T12:31:10.787Z"
   },
   {
    "duration": 8,
    "start_time": "2022-10-05T12:31:10.801Z"
   },
   {
    "duration": 8,
    "start_time": "2022-10-05T12:31:10.810Z"
   },
   {
    "duration": 89,
    "start_time": "2022-10-05T12:31:10.820Z"
   },
   {
    "duration": 3769,
    "start_time": "2022-10-05T12:31:10.910Z"
   },
   {
    "duration": 20,
    "start_time": "2022-10-05T12:31:14.681Z"
   },
   {
    "duration": 17,
    "start_time": "2022-10-05T12:31:14.703Z"
   },
   {
    "duration": 4,
    "start_time": "2022-10-05T12:31:14.722Z"
   },
   {
    "duration": 20,
    "start_time": "2022-10-05T12:31:14.727Z"
   },
   {
    "duration": 5,
    "start_time": "2022-10-05T12:31:14.749Z"
   },
   {
    "duration": 294,
    "start_time": "2022-10-05T12:31:14.755Z"
   },
   {
    "duration": 472,
    "start_time": "2022-10-05T12:31:15.051Z"
   },
   {
    "duration": 3,
    "start_time": "2022-10-05T12:31:15.526Z"
   },
   {
    "duration": 33,
    "start_time": "2022-10-05T12:31:15.531Z"
   },
   {
    "duration": 25,
    "start_time": "2022-10-05T12:31:15.565Z"
   },
   {
    "duration": 25,
    "start_time": "2022-10-05T12:31:15.592Z"
   },
   {
    "duration": 864,
    "start_time": "2022-10-05T12:31:15.619Z"
   },
   {
    "duration": 120,
    "start_time": "2022-10-05T12:31:16.485Z"
   },
   {
    "duration": 7,
    "start_time": "2022-10-05T12:31:55.071Z"
   },
   {
    "duration": 3,
    "start_time": "2022-10-05T12:32:00.069Z"
   },
   {
    "duration": 4,
    "start_time": "2022-10-05T12:32:02.949Z"
   },
   {
    "duration": 8,
    "start_time": "2022-10-05T12:32:14.792Z"
   },
   {
    "duration": 10,
    "start_time": "2022-10-05T12:32:17.988Z"
   },
   {
    "duration": 11,
    "start_time": "2022-10-05T12:32:23.894Z"
   },
   {
    "duration": 131,
    "start_time": "2022-10-05T12:32:35.425Z"
   },
   {
    "duration": 13,
    "start_time": "2022-10-05T12:32:53.923Z"
   },
   {
    "duration": 131,
    "start_time": "2022-10-05T12:32:58.214Z"
   },
   {
    "duration": 1296,
    "start_time": "2022-10-05T12:33:18.524Z"
   },
   {
    "duration": 406,
    "start_time": "2022-10-05T12:33:29.053Z"
   },
   {
    "duration": 229,
    "start_time": "2022-10-05T12:34:12.829Z"
   },
   {
    "duration": 225,
    "start_time": "2022-10-05T12:34:20.795Z"
   },
   {
    "duration": 48,
    "start_time": "2022-10-05T12:34:57.084Z"
   },
   {
    "duration": 171,
    "start_time": "2022-10-05T12:35:00.509Z"
   },
   {
    "duration": 162,
    "start_time": "2022-10-05T12:35:10.141Z"
   },
   {
    "duration": 162,
    "start_time": "2022-10-05T12:35:31.387Z"
   },
   {
    "duration": 5,
    "start_time": "2022-10-05T12:38:48.952Z"
   },
   {
    "duration": 1437,
    "start_time": "2022-10-05T12:38:50.606Z"
   },
   {
    "duration": 6,
    "start_time": "2022-10-05T12:39:14.928Z"
   },
   {
    "duration": 279,
    "start_time": "2022-10-05T12:39:18.622Z"
   },
   {
    "duration": 5,
    "start_time": "2022-10-05T12:39:33.072Z"
   },
   {
    "duration": 1657,
    "start_time": "2022-10-05T12:39:34.236Z"
   },
   {
    "duration": 5,
    "start_time": "2022-10-05T12:39:48.155Z"
   },
   {
    "duration": 383,
    "start_time": "2022-10-05T12:39:50.935Z"
   },
   {
    "duration": 3399,
    "start_time": "2022-10-05T12:40:10.848Z"
   },
   {
    "duration": 1421,
    "start_time": "2022-10-05T12:40:22.927Z"
   },
   {
    "duration": 5,
    "start_time": "2022-10-05T12:40:24.349Z"
   },
   {
    "duration": 10,
    "start_time": "2022-10-05T12:40:24.355Z"
   },
   {
    "duration": 11,
    "start_time": "2022-10-05T12:40:24.367Z"
   },
   {
    "duration": 14,
    "start_time": "2022-10-05T12:40:24.382Z"
   },
   {
    "duration": 93,
    "start_time": "2022-10-05T12:40:24.398Z"
   },
   {
    "duration": 3422,
    "start_time": "2022-10-05T12:40:24.493Z"
   },
   {
    "duration": 9,
    "start_time": "2022-10-05T12:40:27.917Z"
   },
   {
    "duration": 16,
    "start_time": "2022-10-05T12:40:27.928Z"
   },
   {
    "duration": 4,
    "start_time": "2022-10-05T12:40:27.946Z"
   },
   {
    "duration": 17,
    "start_time": "2022-10-05T12:40:27.951Z"
   },
   {
    "duration": 5,
    "start_time": "2022-10-05T12:40:27.970Z"
   },
   {
    "duration": 438,
    "start_time": "2022-10-05T12:40:27.977Z"
   },
   {
    "duration": 150,
    "start_time": "2022-10-05T12:40:28.417Z"
   },
   {
    "duration": 9,
    "start_time": "2022-10-05T12:40:28.568Z"
   },
   {
    "duration": 4,
    "start_time": "2022-10-05T12:40:28.579Z"
   },
   {
    "duration": 18,
    "start_time": "2022-10-05T12:40:28.584Z"
   },
   {
    "duration": 9,
    "start_time": "2022-10-05T12:40:28.604Z"
   },
   {
    "duration": 11,
    "start_time": "2022-10-05T12:40:28.614Z"
   },
   {
    "duration": 913,
    "start_time": "2022-10-05T12:40:28.626Z"
   },
   {
    "duration": 115,
    "start_time": "2022-10-05T12:40:29.541Z"
   },
   {
    "duration": 5,
    "start_time": "2022-10-05T12:41:59.008Z"
   },
   {
    "duration": 441,
    "start_time": "2022-10-05T12:42:00.981Z"
   },
   {
    "duration": 5,
    "start_time": "2022-10-05T12:42:17.391Z"
   },
   {
    "duration": 581,
    "start_time": "2022-10-05T12:42:21.308Z"
   },
   {
    "duration": 4,
    "start_time": "2022-10-05T12:42:37.871Z"
   },
   {
    "duration": 441,
    "start_time": "2022-10-05T12:42:40.587Z"
   },
   {
    "duration": 128,
    "start_time": "2022-10-05T12:43:26.041Z"
   },
   {
    "duration": 5,
    "start_time": "2022-10-05T12:43:29.905Z"
   },
   {
    "duration": 348,
    "start_time": "2022-10-05T12:43:32.562Z"
   },
   {
    "duration": 7,
    "start_time": "2022-10-05T12:43:58.282Z"
   },
   {
    "duration": 430,
    "start_time": "2022-10-05T12:44:01.713Z"
   },
   {
    "duration": 1381,
    "start_time": "2022-10-05T12:44:42.093Z"
   },
   {
    "duration": 2,
    "start_time": "2022-10-05T12:44:43.476Z"
   },
   {
    "duration": 7,
    "start_time": "2022-10-05T12:44:43.480Z"
   },
   {
    "duration": 7,
    "start_time": "2022-10-05T12:44:43.489Z"
   },
   {
    "duration": 8,
    "start_time": "2022-10-05T12:44:43.498Z"
   },
   {
    "duration": 83,
    "start_time": "2022-10-05T12:44:43.507Z"
   },
   {
    "duration": 3554,
    "start_time": "2022-10-05T12:44:43.592Z"
   },
   {
    "duration": 9,
    "start_time": "2022-10-05T12:44:47.148Z"
   },
   {
    "duration": 19,
    "start_time": "2022-10-05T12:44:47.159Z"
   },
   {
    "duration": 3,
    "start_time": "2022-10-05T12:44:47.180Z"
   },
   {
    "duration": 9,
    "start_time": "2022-10-05T12:44:47.200Z"
   },
   {
    "duration": 4,
    "start_time": "2022-10-05T12:44:47.211Z"
   },
   {
    "duration": 407,
    "start_time": "2022-10-05T12:44:47.217Z"
   },
   {
    "duration": 154,
    "start_time": "2022-10-05T12:44:47.626Z"
   },
   {
    "duration": 12,
    "start_time": "2022-10-05T12:44:47.782Z"
   },
   {
    "duration": 7,
    "start_time": "2022-10-05T12:44:47.801Z"
   },
   {
    "duration": 6,
    "start_time": "2022-10-05T12:44:47.810Z"
   },
   {
    "duration": 11,
    "start_time": "2022-10-05T12:44:47.817Z"
   },
   {
    "duration": 3,
    "start_time": "2022-10-05T12:44:47.830Z"
   },
   {
    "duration": 967,
    "start_time": "2022-10-05T12:44:47.834Z"
   },
   {
    "duration": 109,
    "start_time": "2022-10-05T12:44:48.803Z"
   },
   {
    "duration": 3,
    "start_time": "2022-10-05T12:48:20.763Z"
   },
   {
    "duration": 977,
    "start_time": "2022-10-05T12:48:22.005Z"
   },
   {
    "duration": 1002,
    "start_time": "2022-10-05T12:48:40.689Z"
   },
   {
    "duration": 969,
    "start_time": "2022-10-05T12:48:58.964Z"
   },
   {
    "duration": 972,
    "start_time": "2022-10-05T12:49:19.494Z"
   },
   {
    "duration": 936,
    "start_time": "2022-10-05T12:49:26.725Z"
   },
   {
    "duration": 975,
    "start_time": "2022-10-05T12:49:32.674Z"
   },
   {
    "duration": 999,
    "start_time": "2022-10-05T12:49:36.348Z"
   },
   {
    "duration": 990,
    "start_time": "2022-10-05T12:49:38.580Z"
   },
   {
    "duration": 951,
    "start_time": "2022-10-05T12:49:40.586Z"
   },
   {
    "duration": 1323,
    "start_time": "2022-10-05T12:50:21.890Z"
   },
   {
    "duration": 3,
    "start_time": "2022-10-05T12:50:23.215Z"
   },
   {
    "duration": 14,
    "start_time": "2022-10-05T12:50:23.220Z"
   },
   {
    "duration": 11,
    "start_time": "2022-10-05T12:50:23.235Z"
   },
   {
    "duration": 10,
    "start_time": "2022-10-05T12:50:23.248Z"
   },
   {
    "duration": 81,
    "start_time": "2022-10-05T12:50:23.260Z"
   },
   {
    "duration": 3438,
    "start_time": "2022-10-05T12:50:23.343Z"
   },
   {
    "duration": 9,
    "start_time": "2022-10-05T12:50:26.782Z"
   },
   {
    "duration": 14,
    "start_time": "2022-10-05T12:50:26.800Z"
   },
   {
    "duration": 3,
    "start_time": "2022-10-05T12:50:26.816Z"
   },
   {
    "duration": 17,
    "start_time": "2022-10-05T12:50:26.821Z"
   },
   {
    "duration": 5,
    "start_time": "2022-10-05T12:50:26.840Z"
   },
   {
    "duration": 404,
    "start_time": "2022-10-05T12:50:26.846Z"
   },
   {
    "duration": 2,
    "start_time": "2022-10-05T12:50:27.253Z"
   },
   {
    "duration": 12,
    "start_time": "2022-10-05T12:50:27.257Z"
   },
   {
    "duration": 17,
    "start_time": "2022-10-05T12:50:27.271Z"
   },
   {
    "duration": 3,
    "start_time": "2022-10-05T12:50:27.290Z"
   },
   {
    "duration": 1057,
    "start_time": "2022-10-05T12:50:27.294Z"
   },
   {
    "duration": 113,
    "start_time": "2022-10-05T12:50:28.353Z"
   },
   {
    "duration": 1030,
    "start_time": "2022-10-05T12:51:33.239Z"
   },
   {
    "duration": 1001,
    "start_time": "2022-10-05T12:51:39.023Z"
   },
   {
    "duration": 971,
    "start_time": "2022-10-05T12:51:44.529Z"
   },
   {
    "duration": 906,
    "start_time": "2022-10-05T12:51:58.177Z"
   },
   {
    "duration": 3519,
    "start_time": "2022-10-05T13:01:04.270Z"
   },
   {
    "duration": 3,
    "start_time": "2022-10-05T13:04:35.659Z"
   },
   {
    "duration": 1412,
    "start_time": "2022-10-05T13:04:42.836Z"
   },
   {
    "duration": 2,
    "start_time": "2022-10-05T13:04:44.250Z"
   },
   {
    "duration": 9,
    "start_time": "2022-10-05T13:04:44.254Z"
   },
   {
    "duration": 10,
    "start_time": "2022-10-05T13:04:44.264Z"
   },
   {
    "duration": 5,
    "start_time": "2022-10-05T13:04:44.275Z"
   },
   {
    "duration": 84,
    "start_time": "2022-10-05T13:04:44.282Z"
   },
   {
    "duration": 3491,
    "start_time": "2022-10-05T13:04:44.368Z"
   },
   {
    "duration": 9,
    "start_time": "2022-10-05T13:04:47.860Z"
   },
   {
    "duration": 18,
    "start_time": "2022-10-05T13:04:47.871Z"
   },
   {
    "duration": 4,
    "start_time": "2022-10-05T13:04:47.902Z"
   },
   {
    "duration": 7,
    "start_time": "2022-10-05T13:04:47.908Z"
   },
   {
    "duration": 16,
    "start_time": "2022-10-05T13:04:47.917Z"
   },
   {
    "duration": 408,
    "start_time": "2022-10-05T13:04:47.934Z"
   },
   {
    "duration": 3,
    "start_time": "2022-10-05T13:04:48.344Z"
   },
   {
    "duration": 8,
    "start_time": "2022-10-05T13:04:48.349Z"
   },
   {
    "duration": 8,
    "start_time": "2022-10-05T13:04:48.359Z"
   },
   {
    "duration": 5,
    "start_time": "2022-10-05T13:04:48.368Z"
   },
   {
    "duration": 991,
    "start_time": "2022-10-05T13:04:48.375Z"
   },
   {
    "duration": 117,
    "start_time": "2022-10-05T13:04:49.368Z"
   },
   {
    "duration": 6,
    "start_time": "2022-10-05T13:07:58.868Z"
   },
   {
    "duration": 421,
    "start_time": "2022-10-05T13:08:03.167Z"
   },
   {
    "duration": 5,
    "start_time": "2022-10-05T13:08:12.034Z"
   },
   {
    "duration": 412,
    "start_time": "2022-10-05T13:08:15.531Z"
   },
   {
    "duration": 5,
    "start_time": "2022-10-05T13:08:35.345Z"
   },
   {
    "duration": 512,
    "start_time": "2022-10-05T13:08:38.667Z"
   },
   {
    "duration": 5,
    "start_time": "2022-10-05T13:08:45.781Z"
   },
   {
    "duration": 456,
    "start_time": "2022-10-05T13:08:47.992Z"
   },
   {
    "duration": 5,
    "start_time": "2022-10-05T13:09:07.720Z"
   },
   {
    "duration": 5,
    "start_time": "2022-10-05T13:09:10.164Z"
   },
   {
    "duration": 467,
    "start_time": "2022-10-05T13:09:12.872Z"
   },
   {
    "duration": 10,
    "start_time": "2022-10-05T13:13:36.011Z"
   },
   {
    "duration": 2,
    "start_time": "2022-10-05T13:13:50.049Z"
   },
   {
    "duration": 3,
    "start_time": "2022-10-05T13:14:04.052Z"
   },
   {
    "duration": 8,
    "start_time": "2022-10-05T13:14:10.327Z"
   },
   {
    "duration": 4,
    "start_time": "2022-10-05T13:14:16.468Z"
   },
   {
    "duration": 3,
    "start_time": "2022-10-05T13:14:17.935Z"
   },
   {
    "duration": 4,
    "start_time": "2022-10-05T13:14:20.162Z"
   },
   {
    "duration": 14,
    "start_time": "2022-10-05T13:14:22.301Z"
   },
   {
    "duration": 39,
    "start_time": "2022-10-05T13:16:06.234Z"
   },
   {
    "duration": 64,
    "start_time": "2022-10-05T13:16:59.921Z"
   },
   {
    "duration": 6,
    "start_time": "2022-10-05T13:19:16.935Z"
   },
   {
    "duration": 19,
    "start_time": "2022-10-05T13:19:21.438Z"
   },
   {
    "duration": 4,
    "start_time": "2022-10-05T13:19:27.919Z"
   },
   {
    "duration": 13,
    "start_time": "2022-10-05T13:19:30.039Z"
   },
   {
    "duration": 9,
    "start_time": "2022-10-05T13:19:33.939Z"
   },
   {
    "duration": 20,
    "start_time": "2022-10-05T13:19:35.442Z"
   },
   {
    "duration": 11,
    "start_time": "2022-10-05T13:19:38.058Z"
   },
   {
    "duration": 86,
    "start_time": "2022-10-05T13:19:42.125Z"
   },
   {
    "duration": 6,
    "start_time": "2022-10-05T13:19:53.259Z"
   },
   {
    "duration": 5,
    "start_time": "2022-10-05T13:19:56.880Z"
   },
   {
    "duration": 452,
    "start_time": "2022-10-05T13:19:58.877Z"
   },
   {
    "duration": 4,
    "start_time": "2022-10-05T13:20:25.917Z"
   },
   {
    "duration": 5,
    "start_time": "2022-10-05T13:23:16.411Z"
   },
   {
    "duration": 3417,
    "start_time": "2022-10-05T14:23:00.862Z"
   },
   {
    "duration": 3405,
    "start_time": "2022-10-05T14:23:04.282Z"
   },
   {
    "duration": 10,
    "start_time": "2022-10-05T14:35:05.912Z"
   },
   {
    "duration": 247,
    "start_time": "2022-10-05T14:35:42.504Z"
   },
   {
    "duration": 127,
    "start_time": "2022-10-05T14:36:45.412Z"
   },
   {
    "duration": 1371,
    "start_time": "2022-10-05T14:37:36.485Z"
   },
   {
    "duration": 3,
    "start_time": "2022-10-05T14:37:37.858Z"
   },
   {
    "duration": 7,
    "start_time": "2022-10-05T14:37:37.863Z"
   },
   {
    "duration": 5,
    "start_time": "2022-10-05T14:37:37.872Z"
   },
   {
    "duration": 9,
    "start_time": "2022-10-05T14:37:37.879Z"
   },
   {
    "duration": 81,
    "start_time": "2022-10-05T14:37:37.890Z"
   },
   {
    "duration": 3483,
    "start_time": "2022-10-05T14:37:37.973Z"
   },
   {
    "duration": 3575,
    "start_time": "2022-10-05T14:37:41.457Z"
   },
   {
    "duration": 3224,
    "start_time": "2022-10-05T14:37:45.034Z"
   },
   {
    "duration": 8,
    "start_time": "2022-10-05T14:37:48.261Z"
   },
   {
    "duration": 32,
    "start_time": "2022-10-05T14:37:48.271Z"
   },
   {
    "duration": 134,
    "start_time": "2022-10-05T14:37:48.305Z"
   },
   {
    "duration": 8,
    "start_time": "2022-10-05T14:37:48.440Z"
   },
   {
    "duration": 16,
    "start_time": "2022-10-05T14:37:48.450Z"
   },
   {
    "duration": 449,
    "start_time": "2022-10-05T14:37:48.467Z"
   },
   {
    "duration": 4,
    "start_time": "2022-10-05T14:37:48.917Z"
   },
   {
    "duration": 7,
    "start_time": "2022-10-05T14:37:48.922Z"
   },
   {
    "duration": 8,
    "start_time": "2022-10-05T14:37:48.930Z"
   },
   {
    "duration": 112,
    "start_time": "2022-10-05T14:37:48.939Z"
   },
   {
    "duration": 0,
    "start_time": "2022-10-05T14:37:49.053Z"
   },
   {
    "duration": 0,
    "start_time": "2022-10-05T14:37:49.054Z"
   },
   {
    "duration": 0,
    "start_time": "2022-10-05T14:37:49.055Z"
   },
   {
    "duration": 8,
    "start_time": "2022-10-05T14:38:39.226Z"
   },
   {
    "duration": 3,
    "start_time": "2022-10-05T14:38:55.919Z"
   },
   {
    "duration": 96,
    "start_time": "2022-10-05T14:39:04.987Z"
   },
   {
    "duration": 3,
    "start_time": "2022-10-05T14:41:16.545Z"
   },
   {
    "duration": 4,
    "start_time": "2022-10-05T14:41:22.270Z"
   },
   {
    "duration": 7,
    "start_time": "2022-10-05T14:43:26.396Z"
   },
   {
    "duration": 23,
    "start_time": "2022-10-05T14:43:27.453Z"
   },
   {
    "duration": 15,
    "start_time": "2022-10-05T14:43:45.119Z"
   },
   {
    "duration": 5,
    "start_time": "2022-10-05T14:45:32.878Z"
   },
   {
    "duration": 42,
    "start_time": "2022-10-05T14:45:40.128Z"
   },
   {
    "duration": 4,
    "start_time": "2022-10-05T14:45:51.435Z"
   },
   {
    "duration": 53,
    "start_time": "2022-10-05T14:45:58.891Z"
   },
   {
    "duration": 7,
    "start_time": "2022-10-05T14:53:29.427Z"
   },
   {
    "duration": 3,
    "start_time": "2022-10-05T14:55:08.552Z"
   },
   {
    "duration": 5,
    "start_time": "2022-10-05T14:55:09.734Z"
   },
   {
    "duration": 391,
    "start_time": "2022-10-05T14:55:11.755Z"
   },
   {
    "duration": 6,
    "start_time": "2022-10-05T14:55:49.474Z"
   },
   {
    "duration": 14,
    "start_time": "2022-10-05T14:55:51.600Z"
   },
   {
    "duration": 16,
    "start_time": "2022-10-05T14:55:53.361Z"
   },
   {
    "duration": 44,
    "start_time": "2022-10-06T08:39:09.979Z"
   },
   {
    "duration": 1458,
    "start_time": "2022-10-06T08:39:15.420Z"
   },
   {
    "duration": 3,
    "start_time": "2022-10-06T08:39:16.880Z"
   },
   {
    "duration": 11,
    "start_time": "2022-10-06T08:39:16.884Z"
   },
   {
    "duration": 13,
    "start_time": "2022-10-06T08:39:16.897Z"
   },
   {
    "duration": 14,
    "start_time": "2022-10-06T08:39:16.911Z"
   },
   {
    "duration": 47,
    "start_time": "2022-10-06T08:39:16.926Z"
   },
   {
    "duration": 3651,
    "start_time": "2022-10-06T08:39:16.974Z"
   },
   {
    "duration": 3948,
    "start_time": "2022-10-06T08:39:20.626Z"
   },
   {
    "duration": 3692,
    "start_time": "2022-10-06T08:39:24.576Z"
   },
   {
    "duration": 7,
    "start_time": "2022-10-06T08:39:28.270Z"
   },
   {
    "duration": 48,
    "start_time": "2022-10-06T08:39:28.278Z"
   },
   {
    "duration": 108,
    "start_time": "2022-10-06T08:39:28.328Z"
   },
   {
    "duration": 22,
    "start_time": "2022-10-06T08:39:28.438Z"
   },
   {
    "duration": 109,
    "start_time": "2022-10-06T08:39:28.461Z"
   },
   {
    "duration": 0,
    "start_time": "2022-10-06T08:39:28.572Z"
   },
   {
    "duration": 0,
    "start_time": "2022-10-06T08:39:28.573Z"
   },
   {
    "duration": 0,
    "start_time": "2022-10-06T08:39:28.574Z"
   },
   {
    "duration": 0,
    "start_time": "2022-10-06T08:39:28.575Z"
   },
   {
    "duration": 0,
    "start_time": "2022-10-06T08:39:28.576Z"
   },
   {
    "duration": 26,
    "start_time": "2022-10-06T08:40:26.594Z"
   },
   {
    "duration": 5,
    "start_time": "2022-10-06T08:40:46.970Z"
   },
   {
    "duration": 428,
    "start_time": "2022-10-06T08:40:48.948Z"
   },
   {
    "duration": 411,
    "start_time": "2022-10-06T08:44:07.272Z"
   },
   {
    "duration": 5,
    "start_time": "2022-10-06T08:45:47.907Z"
   },
   {
    "duration": 376,
    "start_time": "2022-10-06T08:45:51.411Z"
   },
   {
    "duration": 6,
    "start_time": "2022-10-06T08:46:00.655Z"
   },
   {
    "duration": 6,
    "start_time": "2022-10-06T08:46:19.336Z"
   },
   {
    "duration": 417,
    "start_time": "2022-10-06T08:46:22.621Z"
   },
   {
    "duration": 349,
    "start_time": "2022-10-06T08:47:04.275Z"
   },
   {
    "duration": 485,
    "start_time": "2022-10-06T08:47:18.787Z"
   },
   {
    "duration": 6,
    "start_time": "2022-10-06T08:59:19.522Z"
   },
   {
    "duration": 388,
    "start_time": "2022-10-06T08:59:21.839Z"
   },
   {
    "duration": 385,
    "start_time": "2022-10-06T08:59:33.940Z"
   },
   {
    "duration": 421,
    "start_time": "2022-10-06T08:59:43.804Z"
   },
   {
    "duration": 2,
    "start_time": "2022-10-06T09:17:23.051Z"
   },
   {
    "duration": 4,
    "start_time": "2022-10-06T09:17:25.026Z"
   },
   {
    "duration": 10,
    "start_time": "2022-10-06T09:20:42.089Z"
   },
   {
    "duration": 2,
    "start_time": "2022-10-06T09:20:44.686Z"
   },
   {
    "duration": 3,
    "start_time": "2022-10-06T09:20:45.855Z"
   },
   {
    "duration": 81,
    "start_time": "2022-10-06T09:32:09.882Z"
   },
   {
    "duration": 2,
    "start_time": "2022-10-06T09:33:04.883Z"
   },
   {
    "duration": 6,
    "start_time": "2022-10-06T09:33:24.341Z"
   },
   {
    "duration": 13,
    "start_time": "2022-10-06T09:33:34.524Z"
   },
   {
    "duration": 3,
    "start_time": "2022-10-06T09:33:40.299Z"
   },
   {
    "duration": 7,
    "start_time": "2022-10-06T09:33:41.138Z"
   },
   {
    "duration": 4,
    "start_time": "2022-10-06T09:50:58.615Z"
   },
   {
    "duration": 2,
    "start_time": "2022-10-06T09:52:38.169Z"
   },
   {
    "duration": 3,
    "start_time": "2022-10-06T09:52:40.774Z"
   },
   {
    "duration": 7,
    "start_time": "2022-10-06T09:52:54.033Z"
   },
   {
    "duration": 8,
    "start_time": "2022-10-06T09:54:09.622Z"
   },
   {
    "duration": 6,
    "start_time": "2022-10-06T09:54:24.875Z"
   },
   {
    "duration": 3,
    "start_time": "2022-10-06T09:54:56.616Z"
   },
   {
    "duration": 7,
    "start_time": "2022-10-06T09:54:59.258Z"
   },
   {
    "duration": 3,
    "start_time": "2022-10-06T09:56:58.856Z"
   },
   {
    "duration": 2,
    "start_time": "2022-10-06T09:57:03.264Z"
   },
   {
    "duration": 3,
    "start_time": "2022-10-06T09:57:12.573Z"
   },
   {
    "duration": 3,
    "start_time": "2022-10-06T09:59:07.094Z"
   },
   {
    "duration": 8,
    "start_time": "2022-10-06T09:59:46.228Z"
   },
   {
    "duration": 25,
    "start_time": "2022-10-06T09:59:48.450Z"
   },
   {
    "duration": 6,
    "start_time": "2022-10-06T10:00:01.980Z"
   },
   {
    "duration": 25,
    "start_time": "2022-10-06T10:00:03.980Z"
   },
   {
    "duration": 5,
    "start_time": "2022-10-06T10:00:09.054Z"
   },
   {
    "duration": 372,
    "start_time": "2022-10-06T10:00:13.178Z"
   },
   {
    "duration": 7,
    "start_time": "2022-10-06T10:00:28.040Z"
   },
   {
    "duration": 431,
    "start_time": "2022-10-06T10:00:31.990Z"
   },
   {
    "duration": 7,
    "start_time": "2022-10-06T10:01:23.369Z"
   },
   {
    "duration": 6,
    "start_time": "2022-10-06T10:01:35.298Z"
   },
   {
    "duration": 7,
    "start_time": "2022-10-06T10:01:47.608Z"
   },
   {
    "duration": 32,
    "start_time": "2022-10-06T10:03:01.072Z"
   },
   {
    "duration": 91,
    "start_time": "2022-10-06T10:03:26.201Z"
   },
   {
    "duration": 38,
    "start_time": "2022-10-06T10:03:30.491Z"
   },
   {
    "duration": 3,
    "start_time": "2022-10-06T10:03:38.224Z"
   },
   {
    "duration": 7,
    "start_time": "2022-10-06T10:04:24.848Z"
   },
   {
    "duration": 3,
    "start_time": "2022-10-06T10:04:27.337Z"
   },
   {
    "duration": 3,
    "start_time": "2022-10-06T10:04:28.282Z"
   },
   {
    "duration": 5,
    "start_time": "2022-10-06T10:04:30.096Z"
   },
   {
    "duration": 919,
    "start_time": "2022-10-06T10:04:31.234Z"
   },
   {
    "duration": 979,
    "start_time": "2022-10-06T10:04:53.176Z"
   },
   {
    "duration": 921,
    "start_time": "2022-10-06T10:04:58.509Z"
   },
   {
    "duration": 8,
    "start_time": "2022-10-06T10:21:01.154Z"
   },
   {
    "duration": 3316,
    "start_time": "2022-10-06T10:21:04.737Z"
   },
   {
    "duration": 3205,
    "start_time": "2022-10-06T10:21:10.884Z"
   },
   {
    "duration": 3224,
    "start_time": "2022-10-06T10:21:17.265Z"
   },
   {
    "duration": 77,
    "start_time": "2022-10-06T10:33:43.000Z"
   },
   {
    "duration": 4,
    "start_time": "2022-10-06T10:34:17.707Z"
   },
   {
    "duration": 915,
    "start_time": "2022-10-06T10:34:20.941Z"
   },
   {
    "duration": 5,
    "start_time": "2022-10-06T10:34:44.474Z"
   },
   {
    "duration": 1034,
    "start_time": "2022-10-06T10:34:47.098Z"
   },
   {
    "duration": 5,
    "start_time": "2022-10-06T10:34:52.960Z"
   },
   {
    "duration": 1176,
    "start_time": "2022-10-06T10:34:55.578Z"
   },
   {
    "duration": 6,
    "start_time": "2022-10-06T10:35:41.615Z"
   },
   {
    "duration": 6,
    "start_time": "2022-10-06T10:41:45.515Z"
   },
   {
    "duration": 6,
    "start_time": "2022-10-06T10:42:16.064Z"
   },
   {
    "duration": 1006,
    "start_time": "2022-10-06T10:42:18.502Z"
   },
   {
    "duration": 71,
    "start_time": "2022-10-06T10:49:31.880Z"
   },
   {
    "duration": 5,
    "start_time": "2022-10-06T10:49:36.437Z"
   },
   {
    "duration": 904,
    "start_time": "2022-10-06T10:49:39.260Z"
   },
   {
    "duration": 5,
    "start_time": "2022-10-06T10:50:15.247Z"
   },
   {
    "duration": 944,
    "start_time": "2022-10-06T10:50:20.459Z"
   },
   {
    "duration": 6,
    "start_time": "2022-10-06T10:50:27.862Z"
   },
   {
    "duration": 877,
    "start_time": "2022-10-06T10:50:29.702Z"
   },
   {
    "duration": 5,
    "start_time": "2022-10-06T10:53:20.748Z"
   },
   {
    "duration": 5,
    "start_time": "2022-10-06T10:53:33.765Z"
   },
   {
    "duration": 865,
    "start_time": "2022-10-06T10:53:39.870Z"
   },
   {
    "duration": 6,
    "start_time": "2022-10-06T10:54:01.877Z"
   },
   {
    "duration": 7,
    "start_time": "2022-10-06T10:54:07.676Z"
   },
   {
    "duration": 883,
    "start_time": "2022-10-06T10:54:13.798Z"
   },
   {
    "duration": 923,
    "start_time": "2022-10-06T10:54:19.484Z"
   },
   {
    "duration": 885,
    "start_time": "2022-10-06T10:54:23.358Z"
   },
   {
    "duration": 3,
    "start_time": "2022-10-06T10:54:31.650Z"
   },
   {
    "duration": 952,
    "start_time": "2022-10-06T10:54:36.109Z"
   },
   {
    "duration": 3,
    "start_time": "2022-10-06T10:56:04.668Z"
   },
   {
    "duration": 4,
    "start_time": "2022-10-06T10:56:12.320Z"
   },
   {
    "duration": 3,
    "start_time": "2022-10-06T10:57:02.388Z"
   },
   {
    "duration": 3,
    "start_time": "2022-10-06T10:57:05.227Z"
   },
   {
    "duration": 3,
    "start_time": "2022-10-06T10:57:34.075Z"
   },
   {
    "duration": 4,
    "start_time": "2022-10-06T10:57:35.587Z"
   },
   {
    "duration": 3,
    "start_time": "2022-10-06T10:58:26.636Z"
   },
   {
    "duration": 6,
    "start_time": "2022-10-06T10:58:33.479Z"
   },
   {
    "duration": 3,
    "start_time": "2022-10-06T10:58:47.033Z"
   },
   {
    "duration": 7,
    "start_time": "2022-10-06T10:58:49.800Z"
   },
   {
    "duration": 6,
    "start_time": "2022-10-06T10:59:13.757Z"
   },
   {
    "duration": 7,
    "start_time": "2022-10-06T10:59:49.718Z"
   },
   {
    "duration": 5,
    "start_time": "2022-10-06T11:00:19.180Z"
   },
   {
    "duration": 1509,
    "start_time": "2022-10-06T11:00:22.217Z"
   },
   {
    "duration": 2,
    "start_time": "2022-10-06T11:00:28.839Z"
   },
   {
    "duration": 5,
    "start_time": "2022-10-06T11:00:30.000Z"
   },
   {
    "duration": 1036,
    "start_time": "2022-10-06T11:00:31.676Z"
   },
   {
    "duration": 5,
    "start_time": "2022-10-06T11:01:18.264Z"
   },
   {
    "duration": 1065,
    "start_time": "2022-10-06T11:01:20.241Z"
   },
   {
    "duration": 1026,
    "start_time": "2022-10-06T11:01:24.912Z"
   },
   {
    "duration": 3,
    "start_time": "2022-10-06T11:01:40.053Z"
   },
   {
    "duration": 3,
    "start_time": "2022-10-06T11:01:41.559Z"
   },
   {
    "duration": 5,
    "start_time": "2022-10-06T11:02:00.056Z"
   },
   {
    "duration": 1018,
    "start_time": "2022-10-06T11:02:03.749Z"
   },
   {
    "duration": 5,
    "start_time": "2022-10-06T11:02:28.425Z"
   },
   {
    "duration": 7,
    "start_time": "2022-10-06T11:02:36.163Z"
   },
   {
    "duration": 1044,
    "start_time": "2022-10-06T11:02:38.633Z"
   },
   {
    "duration": 6,
    "start_time": "2022-10-06T11:02:47.552Z"
   },
   {
    "duration": 1015,
    "start_time": "2022-10-06T11:02:50.206Z"
   },
   {
    "duration": 103,
    "start_time": "2022-10-06T11:04:40.091Z"
   },
   {
    "duration": 1008,
    "start_time": "2022-10-06T11:04:43.256Z"
   },
   {
    "duration": 8,
    "start_time": "2022-10-06T11:05:15.980Z"
   },
   {
    "duration": 1049,
    "start_time": "2022-10-06T11:05:19.540Z"
   },
   {
    "duration": 5,
    "start_time": "2022-10-06T11:05:39.039Z"
   },
   {
    "duration": 1185,
    "start_time": "2022-10-06T11:05:40.716Z"
   },
   {
    "duration": 5,
    "start_time": "2022-10-06T11:05:58.125Z"
   },
   {
    "duration": 5,
    "start_time": "2022-10-06T11:06:01.249Z"
   },
   {
    "duration": 1025,
    "start_time": "2022-10-06T11:06:03.902Z"
   },
   {
    "duration": 7,
    "start_time": "2022-10-06T11:07:07.629Z"
   },
   {
    "duration": 1030,
    "start_time": "2022-10-06T11:07:10.202Z"
   },
   {
    "duration": 6,
    "start_time": "2022-10-06T11:08:40.813Z"
   },
   {
    "duration": 1008,
    "start_time": "2022-10-06T11:08:43.282Z"
   },
   {
    "duration": 6,
    "start_time": "2022-10-06T11:09:43.519Z"
   },
   {
    "duration": 1157,
    "start_time": "2022-10-06T11:09:45.853Z"
   },
   {
    "duration": 995,
    "start_time": "2022-10-06T11:12:31.253Z"
   },
   {
    "duration": 1370,
    "start_time": "2022-10-06T11:14:18.795Z"
   },
   {
    "duration": 3,
    "start_time": "2022-10-06T11:14:20.167Z"
   },
   {
    "duration": 8,
    "start_time": "2022-10-06T11:14:20.172Z"
   },
   {
    "duration": 8,
    "start_time": "2022-10-06T11:14:20.182Z"
   },
   {
    "duration": 5,
    "start_time": "2022-10-06T11:14:20.191Z"
   },
   {
    "duration": 46,
    "start_time": "2022-10-06T11:14:20.198Z"
   },
   {
    "duration": 3272,
    "start_time": "2022-10-06T11:14:20.246Z"
   },
   {
    "duration": 3250,
    "start_time": "2022-10-06T11:14:23.522Z"
   },
   {
    "duration": 3386,
    "start_time": "2022-10-06T11:14:26.773Z"
   },
   {
    "duration": 8,
    "start_time": "2022-10-06T11:14:30.162Z"
   },
   {
    "duration": 75,
    "start_time": "2022-10-06T11:14:30.172Z"
   },
   {
    "duration": 143,
    "start_time": "2022-10-06T11:14:30.248Z"
   },
   {
    "duration": 70,
    "start_time": "2022-10-06T11:14:30.393Z"
   },
   {
    "duration": 475,
    "start_time": "2022-10-06T11:14:30.465Z"
   },
   {
    "duration": 395,
    "start_time": "2022-10-06T11:14:30.942Z"
   },
   {
    "duration": 416,
    "start_time": "2022-10-06T11:14:31.338Z"
   },
   {
    "duration": 3,
    "start_time": "2022-10-06T11:14:31.756Z"
   },
   {
    "duration": 12,
    "start_time": "2022-10-06T11:14:31.760Z"
   },
   {
    "duration": 10,
    "start_time": "2022-10-06T11:14:31.774Z"
   },
   {
    "duration": 15,
    "start_time": "2022-10-06T11:14:31.785Z"
   },
   {
    "duration": 159,
    "start_time": "2022-10-06T11:14:31.801Z"
   },
   {
    "duration": 0,
    "start_time": "2022-10-06T11:14:31.962Z"
   },
   {
    "duration": 0,
    "start_time": "2022-10-06T11:14:31.963Z"
   },
   {
    "duration": 6,
    "start_time": "2022-10-06T11:18:24.352Z"
   },
   {
    "duration": 1215,
    "start_time": "2022-10-06T11:18:27.284Z"
   },
   {
    "duration": 1145,
    "start_time": "2022-10-06T11:18:35.080Z"
   },
   {
    "duration": 1068,
    "start_time": "2022-10-06T11:18:38.282Z"
   },
   {
    "duration": 1423,
    "start_time": "2022-10-06T11:20:19.636Z"
   },
   {
    "duration": 3,
    "start_time": "2022-10-06T11:20:21.060Z"
   },
   {
    "duration": 8,
    "start_time": "2022-10-06T11:20:21.065Z"
   },
   {
    "duration": 15,
    "start_time": "2022-10-06T11:20:21.075Z"
   },
   {
    "duration": 7,
    "start_time": "2022-10-06T11:20:21.092Z"
   },
   {
    "duration": 56,
    "start_time": "2022-10-06T11:20:21.100Z"
   },
   {
    "duration": 3406,
    "start_time": "2022-10-06T11:20:21.157Z"
   },
   {
    "duration": 3482,
    "start_time": "2022-10-06T11:20:24.564Z"
   },
   {
    "duration": 3278,
    "start_time": "2022-10-06T11:20:28.048Z"
   },
   {
    "duration": 7,
    "start_time": "2022-10-06T11:20:31.328Z"
   },
   {
    "duration": 42,
    "start_time": "2022-10-06T11:20:31.337Z"
   },
   {
    "duration": 131,
    "start_time": "2022-10-06T11:20:31.381Z"
   },
   {
    "duration": 20,
    "start_time": "2022-10-06T11:20:31.514Z"
   },
   {
    "duration": 401,
    "start_time": "2022-10-06T11:20:31.536Z"
   },
   {
    "duration": 394,
    "start_time": "2022-10-06T11:20:31.939Z"
   },
   {
    "duration": 418,
    "start_time": "2022-10-06T11:20:32.334Z"
   },
   {
    "duration": 3,
    "start_time": "2022-10-06T11:20:32.753Z"
   },
   {
    "duration": 9,
    "start_time": "2022-10-06T11:20:32.757Z"
   },
   {
    "duration": 6,
    "start_time": "2022-10-06T11:20:32.767Z"
   },
   {
    "duration": 7,
    "start_time": "2022-10-06T11:20:32.774Z"
   },
   {
    "duration": 1070,
    "start_time": "2022-10-06T11:20:32.782Z"
   },
   {
    "duration": 1051,
    "start_time": "2022-10-06T11:20:33.854Z"
   },
   {
    "duration": 1075,
    "start_time": "2022-10-06T11:20:34.906Z"
   },
   {
    "duration": 6,
    "start_time": "2022-10-06T11:22:00.198Z"
   },
   {
    "duration": 1026,
    "start_time": "2022-10-06T11:22:10.179Z"
   },
   {
    "duration": 1430,
    "start_time": "2022-10-06T11:22:20.072Z"
   },
   {
    "duration": 3,
    "start_time": "2022-10-06T11:22:21.504Z"
   },
   {
    "duration": 29,
    "start_time": "2022-10-06T11:22:21.508Z"
   },
   {
    "duration": 106,
    "start_time": "2022-10-06T11:22:21.539Z"
   },
   {
    "duration": 25,
    "start_time": "2022-10-06T11:22:21.647Z"
   },
   {
    "duration": 57,
    "start_time": "2022-10-06T11:22:21.674Z"
   },
   {
    "duration": 3533,
    "start_time": "2022-10-06T11:22:21.732Z"
   },
   {
    "duration": 3502,
    "start_time": "2022-10-06T11:22:25.267Z"
   },
   {
    "duration": 3155,
    "start_time": "2022-10-06T11:22:28.770Z"
   },
   {
    "duration": 7,
    "start_time": "2022-10-06T11:22:31.928Z"
   },
   {
    "duration": 44,
    "start_time": "2022-10-06T11:22:31.937Z"
   },
   {
    "duration": 157,
    "start_time": "2022-10-06T11:22:31.982Z"
   },
   {
    "duration": 14,
    "start_time": "2022-10-06T11:22:32.140Z"
   },
   {
    "duration": 404,
    "start_time": "2022-10-06T11:22:32.156Z"
   },
   {
    "duration": 404,
    "start_time": "2022-10-06T11:22:32.562Z"
   },
   {
    "duration": 371,
    "start_time": "2022-10-06T11:22:32.968Z"
   },
   {
    "duration": 3,
    "start_time": "2022-10-06T11:22:33.340Z"
   },
   {
    "duration": 7,
    "start_time": "2022-10-06T11:22:33.344Z"
   },
   {
    "duration": 9,
    "start_time": "2022-10-06T11:22:33.352Z"
   },
   {
    "duration": 8,
    "start_time": "2022-10-06T11:22:33.363Z"
   },
   {
    "duration": 1121,
    "start_time": "2022-10-06T11:22:33.372Z"
   },
   {
    "duration": 1094,
    "start_time": "2022-10-06T11:22:34.495Z"
   },
   {
    "duration": 1163,
    "start_time": "2022-10-06T11:22:35.591Z"
   },
   {
    "duration": 3,
    "start_time": "2022-10-06T11:23:23.286Z"
   },
   {
    "duration": 1237,
    "start_time": "2022-10-06T11:23:27.776Z"
   },
   {
    "duration": 2,
    "start_time": "2022-10-06T11:23:29.015Z"
   },
   {
    "duration": 14,
    "start_time": "2022-10-06T11:23:29.019Z"
   },
   {
    "duration": 21,
    "start_time": "2022-10-06T11:23:29.034Z"
   },
   {
    "duration": 13,
    "start_time": "2022-10-06T11:23:29.056Z"
   },
   {
    "duration": 41,
    "start_time": "2022-10-06T11:23:29.071Z"
   },
   {
    "duration": 3322,
    "start_time": "2022-10-06T11:23:29.113Z"
   },
   {
    "duration": 3199,
    "start_time": "2022-10-06T11:23:32.436Z"
   },
   {
    "duration": 3118,
    "start_time": "2022-10-06T11:23:35.637Z"
   },
   {
    "duration": 7,
    "start_time": "2022-10-06T11:23:38.757Z"
   },
   {
    "duration": 38,
    "start_time": "2022-10-06T11:23:38.765Z"
   },
   {
    "duration": 112,
    "start_time": "2022-10-06T11:23:38.822Z"
   },
   {
    "duration": 9,
    "start_time": "2022-10-06T11:23:38.936Z"
   },
   {
    "duration": 405,
    "start_time": "2022-10-06T11:23:38.946Z"
   },
   {
    "duration": 391,
    "start_time": "2022-10-06T11:23:39.353Z"
   },
   {
    "duration": 383,
    "start_time": "2022-10-06T11:23:39.746Z"
   },
   {
    "duration": 3,
    "start_time": "2022-10-06T11:23:40.130Z"
   },
   {
    "duration": 12,
    "start_time": "2022-10-06T11:23:40.134Z"
   },
   {
    "duration": 9,
    "start_time": "2022-10-06T11:23:40.147Z"
   },
   {
    "duration": 6,
    "start_time": "2022-10-06T11:23:40.157Z"
   },
   {
    "duration": 1026,
    "start_time": "2022-10-06T11:23:40.165Z"
   },
   {
    "duration": 1074,
    "start_time": "2022-10-06T11:23:41.193Z"
   },
   {
    "duration": 1040,
    "start_time": "2022-10-06T11:23:42.269Z"
   },
   {
    "duration": 1253,
    "start_time": "2022-10-06T11:26:38.758Z"
   },
   {
    "duration": 3,
    "start_time": "2022-10-06T11:26:40.013Z"
   },
   {
    "duration": 25,
    "start_time": "2022-10-06T11:26:40.017Z"
   },
   {
    "duration": 37,
    "start_time": "2022-10-06T11:26:40.043Z"
   },
   {
    "duration": 18,
    "start_time": "2022-10-06T11:26:40.082Z"
   },
   {
    "duration": 51,
    "start_time": "2022-10-06T11:26:40.101Z"
   },
   {
    "duration": 3414,
    "start_time": "2022-10-06T11:26:40.153Z"
   },
   {
    "duration": 3254,
    "start_time": "2022-10-06T11:26:43.569Z"
   },
   {
    "duration": 3122,
    "start_time": "2022-10-06T11:26:46.824Z"
   },
   {
    "duration": 8,
    "start_time": "2022-10-06T11:26:49.948Z"
   },
   {
    "duration": 48,
    "start_time": "2022-10-06T11:26:49.957Z"
   },
   {
    "duration": 128,
    "start_time": "2022-10-06T11:26:50.006Z"
   },
   {
    "duration": 16,
    "start_time": "2022-10-06T11:26:50.136Z"
   },
   {
    "duration": 386,
    "start_time": "2022-10-06T11:26:50.154Z"
   },
   {
    "duration": 394,
    "start_time": "2022-10-06T11:26:50.542Z"
   },
   {
    "duration": 400,
    "start_time": "2022-10-06T11:26:50.937Z"
   },
   {
    "duration": 3,
    "start_time": "2022-10-06T11:26:51.339Z"
   },
   {
    "duration": 31,
    "start_time": "2022-10-06T11:26:51.343Z"
   },
   {
    "duration": 21,
    "start_time": "2022-10-06T11:26:51.376Z"
   },
   {
    "duration": 26,
    "start_time": "2022-10-06T11:26:51.399Z"
   },
   {
    "duration": 1109,
    "start_time": "2022-10-06T11:26:51.426Z"
   },
   {
    "duration": 1152,
    "start_time": "2022-10-06T11:26:52.536Z"
   },
   {
    "duration": 1159,
    "start_time": "2022-10-06T11:26:53.690Z"
   },
   {
    "duration": 1323,
    "start_time": "2022-10-06T11:27:13.489Z"
   },
   {
    "duration": 3,
    "start_time": "2022-10-06T11:27:14.814Z"
   },
   {
    "duration": 7,
    "start_time": "2022-10-06T11:27:14.819Z"
   },
   {
    "duration": 8,
    "start_time": "2022-10-06T11:27:14.828Z"
   },
   {
    "duration": 6,
    "start_time": "2022-10-06T11:27:14.837Z"
   },
   {
    "duration": 44,
    "start_time": "2022-10-06T11:27:14.844Z"
   },
   {
    "duration": 3339,
    "start_time": "2022-10-06T11:27:14.889Z"
   },
   {
    "duration": 3349,
    "start_time": "2022-10-06T11:27:18.230Z"
   },
   {
    "duration": 3131,
    "start_time": "2022-10-06T11:27:21.580Z"
   },
   {
    "duration": 14,
    "start_time": "2022-10-06T11:27:24.714Z"
   },
   {
    "duration": 42,
    "start_time": "2022-10-06T11:27:24.729Z"
   },
   {
    "duration": 124,
    "start_time": "2022-10-06T11:27:24.772Z"
   },
   {
    "duration": 10,
    "start_time": "2022-10-06T11:27:24.897Z"
   },
   {
    "duration": 426,
    "start_time": "2022-10-06T11:27:24.908Z"
   },
   {
    "duration": 395,
    "start_time": "2022-10-06T11:27:25.335Z"
   },
   {
    "duration": 453,
    "start_time": "2022-10-06T11:27:25.731Z"
   },
   {
    "duration": 3,
    "start_time": "2022-10-06T11:27:26.186Z"
   },
   {
    "duration": 15,
    "start_time": "2022-10-06T11:27:26.191Z"
   },
   {
    "duration": 12,
    "start_time": "2022-10-06T11:27:26.208Z"
   },
   {
    "duration": 7,
    "start_time": "2022-10-06T11:27:26.221Z"
   },
   {
    "duration": 1127,
    "start_time": "2022-10-06T11:27:26.230Z"
   },
   {
    "duration": 1095,
    "start_time": "2022-10-06T11:27:27.359Z"
   },
   {
    "duration": 1025,
    "start_time": "2022-10-06T11:27:28.456Z"
   },
   {
    "duration": 8,
    "start_time": "2022-10-06T11:28:05.435Z"
   },
   {
    "duration": 644,
    "start_time": "2022-10-06T11:28:09.866Z"
   },
   {
    "duration": 612,
    "start_time": "2022-10-06T11:28:18.680Z"
   },
   {
    "duration": 710,
    "start_time": "2022-10-06T11:28:25.271Z"
   },
   {
    "duration": 9,
    "start_time": "2022-10-06T11:28:54.594Z"
   },
   {
    "duration": 666,
    "start_time": "2022-10-06T11:28:56.211Z"
   },
   {
    "duration": 615,
    "start_time": "2022-10-06T11:29:02.811Z"
   },
   {
    "duration": 611,
    "start_time": "2022-10-06T11:29:09.289Z"
   },
   {
    "duration": 6,
    "start_time": "2022-10-06T11:29:19.056Z"
   },
   {
    "duration": 1019,
    "start_time": "2022-10-06T11:29:22.721Z"
   },
   {
    "duration": 1040,
    "start_time": "2022-10-06T11:29:27.734Z"
   },
   {
    "duration": 1041,
    "start_time": "2022-10-06T11:29:41.738Z"
   },
   {
    "duration": 7,
    "start_time": "2022-10-06T11:38:55.887Z"
   },
   {
    "duration": 110,
    "start_time": "2022-10-06T11:38:58.719Z"
   },
   {
    "duration": 7,
    "start_time": "2022-10-06T11:39:17.379Z"
   },
   {
    "duration": 20,
    "start_time": "2022-10-06T11:39:20.103Z"
   },
   {
    "duration": 7,
    "start_time": "2022-10-06T11:39:30.329Z"
   },
   {
    "duration": 462,
    "start_time": "2022-10-06T11:39:32.490Z"
   },
   {
    "duration": 5,
    "start_time": "2022-10-06T11:42:37.259Z"
   },
   {
    "duration": 7,
    "start_time": "2022-10-06T11:52:28.441Z"
   },
   {
    "duration": 405,
    "start_time": "2022-10-06T11:52:36.860Z"
   },
   {
    "duration": 97,
    "start_time": "2022-10-06T11:53:07.456Z"
   },
   {
    "duration": 378,
    "start_time": "2022-10-06T11:53:09.665Z"
   },
   {
    "duration": 6,
    "start_time": "2022-10-06T11:53:24.704Z"
   },
   {
    "duration": 11,
    "start_time": "2022-10-06T11:55:14.493Z"
   },
   {
    "duration": 9,
    "start_time": "2022-10-06T11:55:17.693Z"
   },
   {
    "duration": 13,
    "start_time": "2022-10-06T11:55:22.627Z"
   },
   {
    "duration": 5,
    "start_time": "2022-10-06T11:55:37.888Z"
   },
   {
    "duration": 6,
    "start_time": "2022-10-06T11:56:27.555Z"
   },
   {
    "duration": 58,
    "start_time": "2022-10-06T11:56:33.719Z"
   },
   {
    "duration": 6,
    "start_time": "2022-10-06T11:57:21.292Z"
   },
   {
    "duration": 39,
    "start_time": "2022-10-06T11:57:24.671Z"
   },
   {
    "duration": 8,
    "start_time": "2022-10-06T11:57:37.962Z"
   },
   {
    "duration": 37,
    "start_time": "2022-10-06T11:57:43.662Z"
   },
   {
    "duration": 6,
    "start_time": "2022-10-06T11:58:15.109Z"
   },
   {
    "duration": 3606,
    "start_time": "2022-10-06T11:58:18.601Z"
   },
   {
    "duration": 9,
    "start_time": "2022-10-06T11:58:34.832Z"
   },
   {
    "duration": 2658,
    "start_time": "2022-10-06T11:58:38.485Z"
   },
   {
    "duration": 29,
    "start_time": "2022-10-06T11:59:57.818Z"
   },
   {
    "duration": 6,
    "start_time": "2022-10-06T12:00:05.352Z"
   },
   {
    "duration": 15,
    "start_time": "2022-10-06T12:00:22.138Z"
   },
   {
    "duration": 17,
    "start_time": "2022-10-06T12:00:27.850Z"
   },
   {
    "duration": 12,
    "start_time": "2022-10-06T12:00:34.684Z"
   },
   {
    "duration": 6,
    "start_time": "2022-10-06T12:01:27.668Z"
   },
   {
    "duration": 6,
    "start_time": "2022-10-06T12:01:32.577Z"
   },
   {
    "duration": 6,
    "start_time": "2022-10-06T12:02:12.503Z"
   },
   {
    "duration": 10,
    "start_time": "2022-10-06T12:02:54.427Z"
   },
   {
    "duration": 7,
    "start_time": "2022-10-06T12:03:16.416Z"
   },
   {
    "duration": 1512,
    "start_time": "2022-10-06T12:03:20.710Z"
   },
   {
    "duration": 43,
    "start_time": "2022-10-06T12:03:28.699Z"
   },
   {
    "duration": 47,
    "start_time": "2022-10-06T12:03:37.352Z"
   },
   {
    "duration": 1510,
    "start_time": "2022-10-06T12:03:49.122Z"
   },
   {
    "duration": 7,
    "start_time": "2022-10-06T12:03:50.634Z"
   },
   {
    "duration": 12,
    "start_time": "2022-10-06T12:03:50.643Z"
   },
   {
    "duration": 7,
    "start_time": "2022-10-06T12:03:50.657Z"
   },
   {
    "duration": 13,
    "start_time": "2022-10-06T12:03:50.665Z"
   },
   {
    "duration": 59,
    "start_time": "2022-10-06T12:03:50.680Z"
   },
   {
    "duration": 4133,
    "start_time": "2022-10-06T12:03:50.740Z"
   },
   {
    "duration": 4090,
    "start_time": "2022-10-06T12:03:54.875Z"
   },
   {
    "duration": 3737,
    "start_time": "2022-10-06T12:03:58.966Z"
   },
   {
    "duration": 17,
    "start_time": "2022-10-06T12:04:02.706Z"
   },
   {
    "duration": 51,
    "start_time": "2022-10-06T12:04:02.725Z"
   },
   {
    "duration": 144,
    "start_time": "2022-10-06T12:04:02.778Z"
   },
   {
    "duration": 23,
    "start_time": "2022-10-06T12:04:02.925Z"
   },
   {
    "duration": 432,
    "start_time": "2022-10-06T12:04:02.951Z"
   },
   {
    "duration": 414,
    "start_time": "2022-10-06T12:04:03.385Z"
   },
   {
    "duration": 494,
    "start_time": "2022-10-06T12:04:03.801Z"
   },
   {
    "duration": 3,
    "start_time": "2022-10-06T12:04:04.297Z"
   },
   {
    "duration": 10,
    "start_time": "2022-10-06T12:04:04.301Z"
   },
   {
    "duration": 10,
    "start_time": "2022-10-06T12:04:04.313Z"
   },
   {
    "duration": 32,
    "start_time": "2022-10-06T12:04:04.326Z"
   },
   {
    "duration": 1450,
    "start_time": "2022-10-06T12:04:04.360Z"
   },
   {
    "duration": 1693,
    "start_time": "2022-10-06T12:04:05.811Z"
   },
   {
    "duration": 1660,
    "start_time": "2022-10-06T12:04:07.505Z"
   },
   {
    "duration": 6,
    "start_time": "2022-10-06T12:05:00.382Z"
   },
   {
    "duration": 1448,
    "start_time": "2022-10-06T12:05:23.111Z"
   },
   {
    "duration": 3,
    "start_time": "2022-10-06T12:05:24.561Z"
   },
   {
    "duration": 12,
    "start_time": "2022-10-06T12:05:24.565Z"
   },
   {
    "duration": 9,
    "start_time": "2022-10-06T12:05:24.579Z"
   },
   {
    "duration": 7,
    "start_time": "2022-10-06T12:05:24.590Z"
   },
   {
    "duration": 46,
    "start_time": "2022-10-06T12:05:24.599Z"
   },
   {
    "duration": 3868,
    "start_time": "2022-10-06T12:05:24.646Z"
   },
   {
    "duration": 3643,
    "start_time": "2022-10-06T12:05:28.516Z"
   },
   {
    "duration": 3573,
    "start_time": "2022-10-06T12:05:32.160Z"
   },
   {
    "duration": 9,
    "start_time": "2022-10-06T12:05:35.737Z"
   },
   {
    "duration": 43,
    "start_time": "2022-10-06T12:05:35.748Z"
   },
   {
    "duration": 171,
    "start_time": "2022-10-06T12:05:35.793Z"
   },
   {
    "duration": 13,
    "start_time": "2022-10-06T12:05:35.966Z"
   },
   {
    "duration": 472,
    "start_time": "2022-10-06T12:05:35.980Z"
   },
   {
    "duration": 428,
    "start_time": "2022-10-06T12:05:36.454Z"
   },
   {
    "duration": 482,
    "start_time": "2022-10-06T12:05:36.884Z"
   },
   {
    "duration": 3,
    "start_time": "2022-10-06T12:05:37.368Z"
   },
   {
    "duration": 9,
    "start_time": "2022-10-06T12:05:37.373Z"
   },
   {
    "duration": 5,
    "start_time": "2022-10-06T12:05:37.384Z"
   },
   {
    "duration": 7,
    "start_time": "2022-10-06T12:05:37.391Z"
   },
   {
    "duration": 1659,
    "start_time": "2022-10-06T12:05:37.400Z"
   },
   {
    "duration": 1490,
    "start_time": "2022-10-06T12:05:39.061Z"
   },
   {
    "duration": 1619,
    "start_time": "2022-10-06T12:05:40.553Z"
   },
   {
    "duration": 5,
    "start_time": "2022-10-06T12:10:01.848Z"
   },
   {
    "duration": 1154,
    "start_time": "2022-10-06T12:10:03.933Z"
   },
   {
    "duration": 1343,
    "start_time": "2022-10-06T12:10:12.522Z"
   },
   {
    "duration": 1302,
    "start_time": "2022-10-06T12:10:23.879Z"
   },
   {
    "duration": 6,
    "start_time": "2022-10-06T12:10:35.669Z"
   },
   {
    "duration": 1434,
    "start_time": "2022-10-06T12:14:49.752Z"
   },
   {
    "duration": 4,
    "start_time": "2022-10-06T12:14:51.188Z"
   },
   {
    "duration": 14,
    "start_time": "2022-10-06T12:14:51.193Z"
   },
   {
    "duration": 9,
    "start_time": "2022-10-06T12:14:51.209Z"
   },
   {
    "duration": 38,
    "start_time": "2022-10-06T12:14:51.220Z"
   },
   {
    "duration": 43,
    "start_time": "2022-10-06T12:14:51.259Z"
   },
   {
    "duration": 4105,
    "start_time": "2022-10-06T12:14:51.304Z"
   },
   {
    "duration": 4160,
    "start_time": "2022-10-06T12:14:55.411Z"
   },
   {
    "duration": 3813,
    "start_time": "2022-10-06T12:14:59.572Z"
   },
   {
    "duration": 7,
    "start_time": "2022-10-06T12:15:03.387Z"
   },
   {
    "duration": 68,
    "start_time": "2022-10-06T12:15:03.395Z"
   },
   {
    "duration": 3,
    "start_time": "2022-10-06T12:15:03.465Z"
   },
   {
    "duration": 114,
    "start_time": "2022-10-06T12:15:03.470Z"
   },
   {
    "duration": 495,
    "start_time": "2022-10-06T12:15:03.587Z"
   },
   {
    "duration": 473,
    "start_time": "2022-10-06T12:15:04.084Z"
   },
   {
    "duration": 400,
    "start_time": "2022-10-06T12:15:04.559Z"
   },
   {
    "duration": 2,
    "start_time": "2022-10-06T12:15:04.962Z"
   },
   {
    "duration": 8,
    "start_time": "2022-10-06T12:15:04.966Z"
   },
   {
    "duration": 7,
    "start_time": "2022-10-06T12:15:04.976Z"
   },
   {
    "duration": 9,
    "start_time": "2022-10-06T12:15:04.984Z"
   },
   {
    "duration": 1626,
    "start_time": "2022-10-06T12:15:04.995Z"
   },
   {
    "duration": 1784,
    "start_time": "2022-10-06T12:15:06.636Z"
   },
   {
    "duration": 1558,
    "start_time": "2022-10-06T12:15:08.428Z"
   },
   {
    "duration": 3289,
    "start_time": "2022-10-06T12:45:54.773Z"
   },
   {
    "duration": 3,
    "start_time": "2022-10-06T12:45:58.065Z"
   },
   {
    "duration": 14,
    "start_time": "2022-10-06T12:45:58.070Z"
   },
   {
    "duration": 9,
    "start_time": "2022-10-06T12:45:58.086Z"
   },
   {
    "duration": 15,
    "start_time": "2022-10-06T12:45:58.097Z"
   },
   {
    "duration": 90,
    "start_time": "2022-10-06T12:45:58.114Z"
   },
   {
    "duration": 4316,
    "start_time": "2022-10-06T12:45:58.206Z"
   },
   {
    "duration": 3913,
    "start_time": "2022-10-06T12:46:02.523Z"
   },
   {
    "duration": 3858,
    "start_time": "2022-10-06T12:46:06.438Z"
   },
   {
    "duration": 9,
    "start_time": "2022-10-06T12:46:10.298Z"
   },
   {
    "duration": 91,
    "start_time": "2022-10-06T12:46:10.308Z"
   },
   {
    "duration": 5,
    "start_time": "2022-10-06T12:46:10.401Z"
   },
   {
    "duration": 135,
    "start_time": "2022-10-06T12:46:10.408Z"
   },
   {
    "duration": 557,
    "start_time": "2022-10-06T12:46:10.546Z"
   },
   {
    "duration": 509,
    "start_time": "2022-10-06T12:46:11.104Z"
   },
   {
    "duration": 471,
    "start_time": "2022-10-06T12:46:11.614Z"
   },
   {
    "duration": 3,
    "start_time": "2022-10-06T12:46:12.087Z"
   },
   {
    "duration": 10,
    "start_time": "2022-10-06T12:46:12.092Z"
   },
   {
    "duration": 5,
    "start_time": "2022-10-06T12:46:12.104Z"
   },
   {
    "duration": 9,
    "start_time": "2022-10-06T12:46:12.122Z"
   },
   {
    "duration": 1566,
    "start_time": "2022-10-06T12:46:12.133Z"
   },
   {
    "duration": 1589,
    "start_time": "2022-10-06T12:46:13.701Z"
   },
   {
    "duration": 1604,
    "start_time": "2022-10-06T12:46:15.292Z"
   },
   {
    "duration": 4,
    "start_time": "2022-10-06T12:52:10.050Z"
   },
   {
    "duration": 4,
    "start_time": "2022-10-06T12:52:28.130Z"
   },
   {
    "duration": 57,
    "start_time": "2022-10-06T12:52:31.150Z"
   },
   {
    "duration": 4,
    "start_time": "2022-10-06T12:52:52.071Z"
   },
   {
    "duration": 4,
    "start_time": "2022-10-06T12:52:54.430Z"
   },
   {
    "duration": 6,
    "start_time": "2022-10-06T12:52:59.831Z"
   },
   {
    "duration": 6,
    "start_time": "2022-10-06T12:53:01.259Z"
   },
   {
    "duration": 8,
    "start_time": "2022-10-06T12:57:16.297Z"
   },
   {
    "duration": 2984,
    "start_time": "2022-10-06T12:57:18.550Z"
   },
   {
    "duration": 7,
    "start_time": "2022-10-06T13:50:39.670Z"
   },
   {
    "duration": 1609,
    "start_time": "2022-10-06T13:50:40.591Z"
   },
   {
    "duration": 1680,
    "start_time": "2022-10-06T13:50:42.202Z"
   },
   {
    "duration": 1615,
    "start_time": "2022-10-06T13:50:43.883Z"
   },
   {
    "duration": 54,
    "start_time": "2022-10-06T14:37:50.425Z"
   },
   {
    "duration": 1491,
    "start_time": "2022-10-06T14:37:55.432Z"
   },
   {
    "duration": 3,
    "start_time": "2022-10-06T14:37:56.925Z"
   },
   {
    "duration": 8,
    "start_time": "2022-10-06T14:37:56.929Z"
   },
   {
    "duration": 8,
    "start_time": "2022-10-06T14:37:56.939Z"
   },
   {
    "duration": 8,
    "start_time": "2022-10-06T14:37:56.948Z"
   },
   {
    "duration": 83,
    "start_time": "2022-10-06T14:37:56.957Z"
   },
   {
    "duration": 4025,
    "start_time": "2022-10-06T14:37:57.041Z"
   },
   {
    "duration": 3788,
    "start_time": "2022-10-06T14:38:01.068Z"
   },
   {
    "duration": 3401,
    "start_time": "2022-10-06T14:38:04.857Z"
   },
   {
    "duration": 7,
    "start_time": "2022-10-06T14:38:08.261Z"
   },
   {
    "duration": 53,
    "start_time": "2022-10-06T14:38:08.270Z"
   },
   {
    "duration": 110,
    "start_time": "2022-10-06T14:38:08.324Z"
   },
   {
    "duration": 8,
    "start_time": "2022-10-06T14:38:08.436Z"
   },
   {
    "duration": 407,
    "start_time": "2022-10-06T14:38:08.445Z"
   },
   {
    "duration": 382,
    "start_time": "2022-10-06T14:38:08.854Z"
   },
   {
    "duration": 394,
    "start_time": "2022-10-06T14:38:09.238Z"
   },
   {
    "duration": 3,
    "start_time": "2022-10-06T14:38:09.633Z"
   },
   {
    "duration": 8,
    "start_time": "2022-10-06T14:38:09.637Z"
   },
   {
    "duration": 9,
    "start_time": "2022-10-06T14:38:09.646Z"
   },
   {
    "duration": 18,
    "start_time": "2022-10-06T14:38:09.656Z"
   },
   {
    "duration": 745,
    "start_time": "2022-10-06T14:38:09.675Z"
   },
   {
    "duration": 761,
    "start_time": "2022-10-06T14:38:10.421Z"
   },
   {
    "duration": 786,
    "start_time": "2022-10-06T14:38:11.184Z"
   },
   {
    "duration": 6,
    "start_time": "2022-10-06T14:45:45.069Z"
   },
   {
    "duration": 751,
    "start_time": "2022-10-06T14:45:47.716Z"
   },
   {
    "duration": 1389,
    "start_time": "2022-10-06T14:46:04.439Z"
   },
   {
    "duration": 2,
    "start_time": "2022-10-06T14:46:05.832Z"
   },
   {
    "duration": 8,
    "start_time": "2022-10-06T14:46:05.836Z"
   },
   {
    "duration": 11,
    "start_time": "2022-10-06T14:46:05.845Z"
   },
   {
    "duration": 5,
    "start_time": "2022-10-06T14:46:05.857Z"
   },
   {
    "duration": 81,
    "start_time": "2022-10-06T14:46:05.863Z"
   },
   {
    "duration": 3483,
    "start_time": "2022-10-06T14:46:05.946Z"
   },
   {
    "duration": 3395,
    "start_time": "2022-10-06T14:46:09.431Z"
   },
   {
    "duration": 3387,
    "start_time": "2022-10-06T14:46:12.828Z"
   },
   {
    "duration": 8,
    "start_time": "2022-10-06T14:46:16.217Z"
   },
   {
    "duration": 47,
    "start_time": "2022-10-06T14:46:16.227Z"
   },
   {
    "duration": 4,
    "start_time": "2022-10-06T14:46:16.276Z"
   },
   {
    "duration": 119,
    "start_time": "2022-10-06T14:46:16.282Z"
   },
   {
    "duration": 420,
    "start_time": "2022-10-06T14:46:16.409Z"
   },
   {
    "duration": 393,
    "start_time": "2022-10-06T14:46:16.830Z"
   },
   {
    "duration": 403,
    "start_time": "2022-10-06T14:46:17.224Z"
   },
   {
    "duration": 2,
    "start_time": "2022-10-06T14:46:17.629Z"
   },
   {
    "duration": 5,
    "start_time": "2022-10-06T14:46:17.633Z"
   },
   {
    "duration": 9,
    "start_time": "2022-10-06T14:46:17.640Z"
   },
   {
    "duration": 6,
    "start_time": "2022-10-06T14:46:17.650Z"
   },
   {
    "duration": 787,
    "start_time": "2022-10-06T14:46:17.657Z"
   },
   {
    "duration": 775,
    "start_time": "2022-10-06T14:46:18.445Z"
   },
   {
    "duration": 768,
    "start_time": "2022-10-06T14:46:19.222Z"
   },
   {
    "duration": 1313,
    "start_time": "2022-10-06T14:51:37.891Z"
   },
   {
    "duration": 3,
    "start_time": "2022-10-06T14:51:39.206Z"
   },
   {
    "duration": 8,
    "start_time": "2022-10-06T14:51:39.210Z"
   },
   {
    "duration": 11,
    "start_time": "2022-10-06T14:51:39.220Z"
   },
   {
    "duration": 9,
    "start_time": "2022-10-06T14:51:39.232Z"
   },
   {
    "duration": 84,
    "start_time": "2022-10-06T14:51:39.242Z"
   },
   {
    "duration": 3470,
    "start_time": "2022-10-06T14:51:39.328Z"
   },
   {
    "duration": 3495,
    "start_time": "2022-10-06T14:51:42.800Z"
   },
   {
    "duration": 3286,
    "start_time": "2022-10-06T14:51:46.297Z"
   },
   {
    "duration": 6,
    "start_time": "2022-10-06T14:51:49.586Z"
   },
   {
    "duration": 51,
    "start_time": "2022-10-06T14:51:49.593Z"
   },
   {
    "duration": 107,
    "start_time": "2022-10-06T14:51:49.645Z"
   },
   {
    "duration": 7,
    "start_time": "2022-10-06T14:51:49.753Z"
   },
   {
    "duration": 375,
    "start_time": "2022-10-06T14:51:49.761Z"
   },
   {
    "duration": 400,
    "start_time": "2022-10-06T14:51:50.137Z"
   },
   {
    "duration": 391,
    "start_time": "2022-10-06T14:51:50.539Z"
   },
   {
    "duration": 3,
    "start_time": "2022-10-06T14:51:50.932Z"
   },
   {
    "duration": 19,
    "start_time": "2022-10-06T14:51:50.937Z"
   },
   {
    "duration": 17,
    "start_time": "2022-10-06T14:51:50.958Z"
   },
   {
    "duration": 15,
    "start_time": "2022-10-06T14:51:50.976Z"
   },
   {
    "duration": 784,
    "start_time": "2022-10-06T14:51:50.993Z"
   },
   {
    "duration": 798,
    "start_time": "2022-10-06T14:51:51.778Z"
   },
   {
    "duration": 771,
    "start_time": "2022-10-06T14:51:52.578Z"
   },
   {
    "duration": 69,
    "start_time": "2022-10-06T14:55:21.094Z"
   },
   {
    "duration": 736,
    "start_time": "2022-10-06T14:57:11.678Z"
   },
   {
    "duration": 1379,
    "start_time": "2022-10-06T14:57:17.856Z"
   },
   {
    "duration": 4,
    "start_time": "2022-10-06T14:57:19.237Z"
   },
   {
    "duration": 10,
    "start_time": "2022-10-06T14:57:19.242Z"
   },
   {
    "duration": 5,
    "start_time": "2022-10-06T14:57:19.254Z"
   },
   {
    "duration": 6,
    "start_time": "2022-10-06T14:57:19.261Z"
   },
   {
    "duration": 80,
    "start_time": "2022-10-06T14:57:19.268Z"
   },
   {
    "duration": 3502,
    "start_time": "2022-10-06T14:57:19.350Z"
   },
   {
    "duration": 3505,
    "start_time": "2022-10-06T14:57:22.853Z"
   },
   {
    "duration": 3366,
    "start_time": "2022-10-06T14:57:26.359Z"
   },
   {
    "duration": 7,
    "start_time": "2022-10-06T14:57:29.727Z"
   },
   {
    "duration": 35,
    "start_time": "2022-10-06T14:57:29.735Z"
   },
   {
    "duration": 112,
    "start_time": "2022-10-06T14:57:29.772Z"
   },
   {
    "duration": 6,
    "start_time": "2022-10-06T14:57:29.885Z"
   },
   {
    "duration": 442,
    "start_time": "2022-10-06T14:57:29.893Z"
   },
   {
    "duration": 394,
    "start_time": "2022-10-06T14:57:30.336Z"
   },
   {
    "duration": 405,
    "start_time": "2022-10-06T14:57:30.732Z"
   },
   {
    "duration": 2,
    "start_time": "2022-10-06T14:57:31.138Z"
   },
   {
    "duration": 18,
    "start_time": "2022-10-06T14:57:31.142Z"
   },
   {
    "duration": 6,
    "start_time": "2022-10-06T14:57:31.161Z"
   },
   {
    "duration": 8,
    "start_time": "2022-10-06T14:57:31.168Z"
   },
   {
    "duration": 757,
    "start_time": "2022-10-06T14:57:31.177Z"
   },
   {
    "duration": 756,
    "start_time": "2022-10-06T14:57:31.935Z"
   },
   {
    "duration": 764,
    "start_time": "2022-10-06T14:57:32.692Z"
   },
   {
    "duration": 6,
    "start_time": "2022-10-06T14:59:41.246Z"
   },
   {
    "duration": 1251,
    "start_time": "2022-11-06T10:14:51.959Z"
   },
   {
    "duration": 3,
    "start_time": "2022-11-06T10:14:53.211Z"
   },
   {
    "duration": 14,
    "start_time": "2022-11-06T10:14:53.216Z"
   },
   {
    "duration": 7,
    "start_time": "2022-11-06T10:14:53.232Z"
   },
   {
    "duration": 8,
    "start_time": "2022-11-06T10:14:53.240Z"
   },
   {
    "duration": 50,
    "start_time": "2022-11-06T10:14:53.250Z"
   },
   {
    "duration": 3705,
    "start_time": "2022-11-06T10:14:53.301Z"
   },
   {
    "duration": 3685,
    "start_time": "2022-11-06T10:14:57.008Z"
   },
   {
    "duration": 3943,
    "start_time": "2022-11-06T10:15:00.694Z"
   },
   {
    "duration": 7,
    "start_time": "2022-11-06T10:15:04.639Z"
   },
   {
    "duration": 75,
    "start_time": "2022-11-06T10:15:04.648Z"
   },
   {
    "duration": 5,
    "start_time": "2022-11-06T10:15:04.725Z"
   },
   {
    "duration": 20,
    "start_time": "2022-11-06T10:15:04.732Z"
   },
   {
    "duration": 438,
    "start_time": "2022-11-06T10:15:04.753Z"
   },
   {
    "duration": 531,
    "start_time": "2022-11-06T10:15:05.192Z"
   },
   {
    "duration": 446,
    "start_time": "2022-11-06T10:15:05.725Z"
   },
   {
    "duration": 2,
    "start_time": "2022-11-06T10:15:06.173Z"
   },
   {
    "duration": 20,
    "start_time": "2022-11-06T10:15:06.177Z"
   },
   {
    "duration": 9,
    "start_time": "2022-11-06T10:15:06.199Z"
   },
   {
    "duration": 15,
    "start_time": "2022-11-06T10:15:06.211Z"
   },
   {
    "duration": 873,
    "start_time": "2022-11-06T10:15:06.228Z"
   },
   {
    "duration": 921,
    "start_time": "2022-11-06T10:15:07.103Z"
   },
   {
    "duration": 882,
    "start_time": "2022-11-06T10:15:08.026Z"
   },
   {
    "duration": 1357,
    "start_time": "2022-11-06T10:16:05.103Z"
   },
   {
    "duration": 3,
    "start_time": "2022-11-06T10:16:06.461Z"
   },
   {
    "duration": 8,
    "start_time": "2022-11-06T10:16:06.465Z"
   },
   {
    "duration": 12,
    "start_time": "2022-11-06T10:16:06.475Z"
   },
   {
    "duration": 11,
    "start_time": "2022-11-06T10:16:06.488Z"
   },
   {
    "duration": 49,
    "start_time": "2022-11-06T10:16:06.501Z"
   },
   {
    "duration": 3208,
    "start_time": "2022-11-06T10:16:06.551Z"
   },
   {
    "duration": 3250,
    "start_time": "2022-11-06T10:16:09.761Z"
   },
   {
    "duration": 3217,
    "start_time": "2022-11-06T10:16:13.013Z"
   },
   {
    "duration": 18,
    "start_time": "2022-11-06T10:16:16.233Z"
   },
   {
    "duration": 45,
    "start_time": "2022-11-06T10:16:16.253Z"
   },
   {
    "duration": 3,
    "start_time": "2022-11-06T10:16:16.300Z"
   },
   {
    "duration": 13,
    "start_time": "2022-11-06T10:16:16.305Z"
   },
   {
    "duration": 418,
    "start_time": "2022-11-06T10:16:16.319Z"
   },
   {
    "duration": 499,
    "start_time": "2022-11-06T10:16:16.739Z"
   },
   {
    "duration": 395,
    "start_time": "2022-11-06T10:16:17.240Z"
   },
   {
    "duration": 3,
    "start_time": "2022-11-06T10:16:17.637Z"
   },
   {
    "duration": 16,
    "start_time": "2022-11-06T10:16:17.641Z"
   },
   {
    "duration": 8,
    "start_time": "2022-11-06T10:16:17.659Z"
   },
   {
    "duration": 9,
    "start_time": "2022-11-06T10:16:17.669Z"
   },
   {
    "duration": 914,
    "start_time": "2022-11-06T10:16:17.679Z"
   },
   {
    "duration": 878,
    "start_time": "2022-11-06T10:16:18.595Z"
   },
   {
    "duration": 878,
    "start_time": "2022-11-06T10:16:19.475Z"
   }
  ],
  "kernelspec": {
   "display_name": "Python 3 (ipykernel)",
   "language": "python",
   "name": "python3"
  },
  "language_info": {
   "codemirror_mode": {
    "name": "ipython",
    "version": 3
   },
   "file_extension": ".py",
   "mimetype": "text/x-python",
   "name": "python",
   "nbconvert_exporter": "python",
   "pygments_lexer": "ipython3",
   "version": "3.9.5"
  },
  "toc": {
   "base_numbering": 1,
   "nav_menu": {},
   "number_sections": true,
   "sideBar": true,
   "skip_h1_title": true,
   "title_cell": "Table of Contents",
   "title_sidebar": "Contents",
   "toc_cell": false,
   "toc_position": {},
   "toc_section_display": true,
   "toc_window_display": false
  }
 },
 "nbformat": 4,
 "nbformat_minor": 2
}
