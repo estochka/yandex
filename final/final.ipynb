{
 "cells": [
  {
   "cell_type": "markdown",
   "metadata": {},
   "source": [
    "# Телеком. Предсказание оттока клиентов."
   ]
  },
  {
   "cell_type": "markdown",
   "metadata": {},
   "source": [
    "Оператор связи «Ниединогоразрыва.ком» хочет научиться прогнозировать отток клиентов. Если выяснится, что пользователь планирует уйти, ему будут предложены промокоды и специальные условия. Команда оператора собрала персональные данные о некоторых клиентах, информацию об их тарифах и договорах."
   ]
  },
  {
   "cell_type": "markdown",
   "metadata": {},
   "source": [
    "**Цель:** предсказать вероятность ухода клиента\n"
   ]
  },
  {
   "cell_type": "markdown",
   "metadata": {},
   "source": [
    "**Описание услуг**\n",
    "\n",
    "Оператор предоставляет два основных типа услуг: \n",
    "\n",
    "1. Стационарную телефонную связь. Возможно подключение телефонного аппарата к нескольким линиям одновременно.\n",
    "2. Интернет. Подключение может быть двух типов: через телефонную линию (DSL*,* от англ. *digital subscriber line*, «цифровая абонентская линия») или оптоволоконный кабель (*Fiber optic*).  \n",
    "\n",
    "**Также доступны такие услуги:**\n",
    "\n",
    "- Интернет-безопасность: антивирус (*DeviceProtection*) и блокировка небезопасных сайтов (*OnlineSecurity*);\n",
    "- Выделенная линия технической поддержки (*TechSupport*);\n",
    "- Облачное хранилище файлов для резервного копирования данных (*OnlineBackup*);\n",
    "- Стриминговое телевидение (*StreamingTV*) и каталог фильмов (*StreamingMovies*).\n",
    "\n",
    "За услуги клиенты могут платить каждый месяц или заключить договор на 1–2 года. Доступны различные способы расчёта и возможность получения электронного чека."
   ]
  },
  {
   "cell_type": "markdown",
   "metadata": {},
   "source": [
    "**Описание данных**\n",
    "\n",
    "Данные состоят из файлов, полученных из разных источников:\n",
    "\n",
    "- `contract.csv` — информация о договоре;\n",
    "- `personal.csv` — персональные данные клиента;\n",
    "- `internet.csv` — информация об интернет-услугах;\n",
    "- `phone.csv` — информация об услугах телефонии.\n",
    "\n",
    "Во всех файлах столбец `customerID` содержит код клиента.\n",
    "\n",
    "Информация о договорах актуальна на 1 февраля 2020."
   ]
  },
  {
   "cell_type": "markdown",
   "metadata": {},
   "source": [
    "**Описание полей данных:**\n",
    "\n",
    "- `BeginDate` – дата начала пользования услугами,\n",
    "- `EndDate` – дата окончания пользования услугами,\n",
    "- `Type` – тип оплаты: ежемесячный, годовой и тд,\n",
    "- `PaperlessBilling` –  безналичный расчет,\n",
    "- `PaymentMethod` – способ оплаты,\n",
    "- `MonthlyCharges` – ежемесячные траты на услуги,\n",
    "- `TotalCharges` – всего потрачено денег на услуги\n",
    "- `Dependents` – наличие иждивенцев\n",
    "- `Senior Citizen` – наличие пенсионного статуса по возрасту\n",
    "- `Partner` – наличие супруга(и)\n",
    "- `MultipleLines` – наличие возможности ведения параллельных линий во время звонка\n",
    "\n",
    "\n"
   ]
  },
  {
   "cell_type": "markdown",
   "metadata": {},
   "source": [
    "**План работы**\n",
    "\n",
    "1. **Загрузка данных:** Загрузить данные и провести первоначальное знакомство с данными. Выделить целевой признак.\n",
    "2. **Предобработка и исследовательский анализ данных:** Провести предобработку и исследовательский анализ данных.  При необходимости преобразовать и/или добавить новые признаки.\n",
    "3. **Моделирование:** Подготовить данные для моделирования: разделить данные на тренировочную и тестовую выборки, провести необходимые преобразования. Построить модели и провести подбор гиперпараметров.\n",
    "4. **Тестирование и выводы:** Провести тестировыние выбранной модели\n",
    "\n",
    "\n",
    "\n"
   ]
  },
  {
   "cell_type": "code",
   "execution_count": 1,
   "metadata": {
    "scrolled": true
   },
   "outputs": [],
   "source": [
    "#!pip install pandas_profiling\n",
    "#!pip install scikit-learn==1.2.1\n",
    "#!pip install imblearn"
   ]
  },
  {
   "cell_type": "code",
   "execution_count": 2,
   "metadata": {},
   "outputs": [],
   "source": [
    "import glob\n",
    "\n",
    "import pandas as pd\n",
    "import numpy as np\n",
    "import ydata_profiling \n",
    "\n",
    "import matplotlib.pyplot as plt\n",
    "import seaborn as sns\n",
    "\n",
    "from sklearn.base import TransformerMixin, BaseEstimator\n",
    "from sklearn.pipeline import make_pipeline\n",
    "from sklearn.compose import make_column_transformer, make_column_selector\n",
    "from sklearn.preprocessing import OneHotEncoder, StandardScaler, OrdinalEncoder\n",
    "\n",
    "from sklearn.model_selection import train_test_split, GridSearchCV\n",
    "from sklearn.metrics import roc_auc_score, roc_curve, auc, classification_report\n",
    "\n",
    "from sklearn.linear_model import LogisticRegression\n",
    "from sklearn.ensemble import StackingClassifier, RandomForestClassifier, VotingClassifier\n",
    "from sklearn.neighbors import KNeighborsClassifier\n",
    "from sklearn.dummy import DummyClassifier\n",
    "\n",
    "from imblearn.pipeline import Pipeline \n",
    "from imblearn.over_sampling import SMOTE\n",
    "\n",
    "\n",
    "\n",
    "from catboost import CatBoostClassifier, Pool"
   ]
  },
  {
   "cell_type": "code",
   "execution_count": 3,
   "metadata": {},
   "outputs": [],
   "source": [
    "RAND = 130223 \n",
    "\n",
    "plt.rcParams['figure.figsize'] = (20,5)\n",
    "pd.set_option('mode.chained_assignment', None)"
   ]
  },
  {
   "cell_type": "markdown",
   "metadata": {},
   "source": [
    "## Загрузка данных"
   ]
  },
  {
   "cell_type": "code",
   "execution_count": 4,
   "metadata": {},
   "outputs": [
    {
     "data": {
      "text/plain": [
       "['/datasets/final_provider/internet.csv',\n",
       " '/datasets/final_provider/phone.csv',\n",
       " '/datasets/final_provider/personal.csv',\n",
       " '/datasets/final_provider/contract.csv']"
      ]
     },
     "execution_count": 4,
     "metadata": {},
     "output_type": "execute_result"
    }
   ],
   "source": [
    "files = glob.glob('/datasets/final_provider/*')\n",
    "files"
   ]
  },
  {
   "cell_type": "markdown",
   "metadata": {},
   "source": [
    "Проверим, какие есть данные в файлах:"
   ]
  },
  {
   "cell_type": "code",
   "execution_count": 5,
   "metadata": {},
   "outputs": [
    {
     "name": "stdout",
     "output_type": "stream",
     "text": [
      "File /datasets/final_provider/internet.csv\n"
     ]
    },
    {
     "data": {
      "text/html": [
       "<div>\n",
       "<style scoped>\n",
       "    .dataframe tbody tr th:only-of-type {\n",
       "        vertical-align: middle;\n",
       "    }\n",
       "\n",
       "    .dataframe tbody tr th {\n",
       "        vertical-align: top;\n",
       "    }\n",
       "\n",
       "    .dataframe thead th {\n",
       "        text-align: right;\n",
       "    }\n",
       "</style>\n",
       "<table border=\"1\" class=\"dataframe\">\n",
       "  <thead>\n",
       "    <tr style=\"text-align: right;\">\n",
       "      <th></th>\n",
       "      <th>customerID</th>\n",
       "      <th>InternetService</th>\n",
       "      <th>OnlineSecurity</th>\n",
       "      <th>OnlineBackup</th>\n",
       "      <th>DeviceProtection</th>\n",
       "      <th>TechSupport</th>\n",
       "      <th>StreamingTV</th>\n",
       "      <th>StreamingMovies</th>\n",
       "    </tr>\n",
       "  </thead>\n",
       "  <tbody>\n",
       "    <tr>\n",
       "      <th>0</th>\n",
       "      <td>7590-VHVEG</td>\n",
       "      <td>DSL</td>\n",
       "      <td>No</td>\n",
       "      <td>Yes</td>\n",
       "      <td>No</td>\n",
       "      <td>No</td>\n",
       "      <td>No</td>\n",
       "      <td>No</td>\n",
       "    </tr>\n",
       "    <tr>\n",
       "      <th>1</th>\n",
       "      <td>5575-GNVDE</td>\n",
       "      <td>DSL</td>\n",
       "      <td>Yes</td>\n",
       "      <td>No</td>\n",
       "      <td>Yes</td>\n",
       "      <td>No</td>\n",
       "      <td>No</td>\n",
       "      <td>No</td>\n",
       "    </tr>\n",
       "    <tr>\n",
       "      <th>2</th>\n",
       "      <td>3668-QPYBK</td>\n",
       "      <td>DSL</td>\n",
       "      <td>Yes</td>\n",
       "      <td>Yes</td>\n",
       "      <td>No</td>\n",
       "      <td>No</td>\n",
       "      <td>No</td>\n",
       "      <td>No</td>\n",
       "    </tr>\n",
       "  </tbody>\n",
       "</table>\n",
       "</div>"
      ],
      "text/plain": [
       "   customerID InternetService OnlineSecurity OnlineBackup DeviceProtection  \\\n",
       "0  7590-VHVEG             DSL             No          Yes               No   \n",
       "1  5575-GNVDE             DSL            Yes           No              Yes   \n",
       "2  3668-QPYBK             DSL            Yes          Yes               No   \n",
       "\n",
       "  TechSupport StreamingTV StreamingMovies  \n",
       "0          No          No              No  \n",
       "1          No          No              No  \n",
       "2          No          No              No  "
      ]
     },
     "metadata": {},
     "output_type": "display_data"
    },
    {
     "name": "stdout",
     "output_type": "stream",
     "text": [
      "(5517, 8)\n",
      "ID duple False\n",
      "_______________________\n",
      "File /datasets/final_provider/phone.csv\n"
     ]
    },
    {
     "data": {
      "text/html": [
       "<div>\n",
       "<style scoped>\n",
       "    .dataframe tbody tr th:only-of-type {\n",
       "        vertical-align: middle;\n",
       "    }\n",
       "\n",
       "    .dataframe tbody tr th {\n",
       "        vertical-align: top;\n",
       "    }\n",
       "\n",
       "    .dataframe thead th {\n",
       "        text-align: right;\n",
       "    }\n",
       "</style>\n",
       "<table border=\"1\" class=\"dataframe\">\n",
       "  <thead>\n",
       "    <tr style=\"text-align: right;\">\n",
       "      <th></th>\n",
       "      <th>customerID</th>\n",
       "      <th>MultipleLines</th>\n",
       "    </tr>\n",
       "  </thead>\n",
       "  <tbody>\n",
       "    <tr>\n",
       "      <th>0</th>\n",
       "      <td>5575-GNVDE</td>\n",
       "      <td>No</td>\n",
       "    </tr>\n",
       "    <tr>\n",
       "      <th>1</th>\n",
       "      <td>3668-QPYBK</td>\n",
       "      <td>No</td>\n",
       "    </tr>\n",
       "    <tr>\n",
       "      <th>2</th>\n",
       "      <td>9237-HQITU</td>\n",
       "      <td>No</td>\n",
       "    </tr>\n",
       "  </tbody>\n",
       "</table>\n",
       "</div>"
      ],
      "text/plain": [
       "   customerID MultipleLines\n",
       "0  5575-GNVDE            No\n",
       "1  3668-QPYBK            No\n",
       "2  9237-HQITU            No"
      ]
     },
     "metadata": {},
     "output_type": "display_data"
    },
    {
     "name": "stdout",
     "output_type": "stream",
     "text": [
      "(6361, 2)\n",
      "ID duple False\n",
      "_______________________\n",
      "File /datasets/final_provider/personal.csv\n"
     ]
    },
    {
     "data": {
      "text/html": [
       "<div>\n",
       "<style scoped>\n",
       "    .dataframe tbody tr th:only-of-type {\n",
       "        vertical-align: middle;\n",
       "    }\n",
       "\n",
       "    .dataframe tbody tr th {\n",
       "        vertical-align: top;\n",
       "    }\n",
       "\n",
       "    .dataframe thead th {\n",
       "        text-align: right;\n",
       "    }\n",
       "</style>\n",
       "<table border=\"1\" class=\"dataframe\">\n",
       "  <thead>\n",
       "    <tr style=\"text-align: right;\">\n",
       "      <th></th>\n",
       "      <th>customerID</th>\n",
       "      <th>gender</th>\n",
       "      <th>SeniorCitizen</th>\n",
       "      <th>Partner</th>\n",
       "      <th>Dependents</th>\n",
       "    </tr>\n",
       "  </thead>\n",
       "  <tbody>\n",
       "    <tr>\n",
       "      <th>0</th>\n",
       "      <td>7590-VHVEG</td>\n",
       "      <td>Female</td>\n",
       "      <td>0</td>\n",
       "      <td>Yes</td>\n",
       "      <td>No</td>\n",
       "    </tr>\n",
       "    <tr>\n",
       "      <th>1</th>\n",
       "      <td>5575-GNVDE</td>\n",
       "      <td>Male</td>\n",
       "      <td>0</td>\n",
       "      <td>No</td>\n",
       "      <td>No</td>\n",
       "    </tr>\n",
       "    <tr>\n",
       "      <th>2</th>\n",
       "      <td>3668-QPYBK</td>\n",
       "      <td>Male</td>\n",
       "      <td>0</td>\n",
       "      <td>No</td>\n",
       "      <td>No</td>\n",
       "    </tr>\n",
       "  </tbody>\n",
       "</table>\n",
       "</div>"
      ],
      "text/plain": [
       "   customerID  gender  SeniorCitizen Partner Dependents\n",
       "0  7590-VHVEG  Female              0     Yes         No\n",
       "1  5575-GNVDE    Male              0      No         No\n",
       "2  3668-QPYBK    Male              0      No         No"
      ]
     },
     "metadata": {},
     "output_type": "display_data"
    },
    {
     "name": "stdout",
     "output_type": "stream",
     "text": [
      "(7043, 5)\n",
      "ID duple False\n",
      "_______________________\n",
      "File /datasets/final_provider/contract.csv\n"
     ]
    },
    {
     "data": {
      "text/html": [
       "<div>\n",
       "<style scoped>\n",
       "    .dataframe tbody tr th:only-of-type {\n",
       "        vertical-align: middle;\n",
       "    }\n",
       "\n",
       "    .dataframe tbody tr th {\n",
       "        vertical-align: top;\n",
       "    }\n",
       "\n",
       "    .dataframe thead th {\n",
       "        text-align: right;\n",
       "    }\n",
       "</style>\n",
       "<table border=\"1\" class=\"dataframe\">\n",
       "  <thead>\n",
       "    <tr style=\"text-align: right;\">\n",
       "      <th></th>\n",
       "      <th>customerID</th>\n",
       "      <th>BeginDate</th>\n",
       "      <th>EndDate</th>\n",
       "      <th>Type</th>\n",
       "      <th>PaperlessBilling</th>\n",
       "      <th>PaymentMethod</th>\n",
       "      <th>MonthlyCharges</th>\n",
       "      <th>TotalCharges</th>\n",
       "    </tr>\n",
       "  </thead>\n",
       "  <tbody>\n",
       "    <tr>\n",
       "      <th>0</th>\n",
       "      <td>7590-VHVEG</td>\n",
       "      <td>2020-01-01</td>\n",
       "      <td>No</td>\n",
       "      <td>Month-to-month</td>\n",
       "      <td>Yes</td>\n",
       "      <td>Electronic check</td>\n",
       "      <td>29.85</td>\n",
       "      <td>29.85</td>\n",
       "    </tr>\n",
       "    <tr>\n",
       "      <th>1</th>\n",
       "      <td>5575-GNVDE</td>\n",
       "      <td>2017-04-01</td>\n",
       "      <td>No</td>\n",
       "      <td>One year</td>\n",
       "      <td>No</td>\n",
       "      <td>Mailed check</td>\n",
       "      <td>56.95</td>\n",
       "      <td>1889.5</td>\n",
       "    </tr>\n",
       "    <tr>\n",
       "      <th>2</th>\n",
       "      <td>3668-QPYBK</td>\n",
       "      <td>2019-10-01</td>\n",
       "      <td>2019-12-01 00:00:00</td>\n",
       "      <td>Month-to-month</td>\n",
       "      <td>Yes</td>\n",
       "      <td>Mailed check</td>\n",
       "      <td>53.85</td>\n",
       "      <td>108.15</td>\n",
       "    </tr>\n",
       "  </tbody>\n",
       "</table>\n",
       "</div>"
      ],
      "text/plain": [
       "   customerID   BeginDate              EndDate            Type  \\\n",
       "0  7590-VHVEG  2020-01-01                   No  Month-to-month   \n",
       "1  5575-GNVDE  2017-04-01                   No        One year   \n",
       "2  3668-QPYBK  2019-10-01  2019-12-01 00:00:00  Month-to-month   \n",
       "\n",
       "  PaperlessBilling     PaymentMethod  MonthlyCharges TotalCharges  \n",
       "0              Yes  Electronic check           29.85        29.85  \n",
       "1               No      Mailed check           56.95       1889.5  \n",
       "2              Yes      Mailed check           53.85       108.15  "
      ]
     },
     "metadata": {},
     "output_type": "display_data"
    },
    {
     "name": "stdout",
     "output_type": "stream",
     "text": [
      "(7043, 8)\n",
      "ID duple False\n",
      "_______________________\n"
     ]
    }
   ],
   "source": [
    "for itm in files:\n",
    "    print(f'File {itm}')\n",
    "    temp_df = pd.read_csv(itm)\n",
    "    display(temp_df.head(3))\n",
    "    print(temp_df.shape)\n",
    "    print(f'ID duple {any(temp_df[\"customerID\"].duplicated())}\\n_______________________')\n",
    "del temp_df"
   ]
  },
  {
   "cell_type": "markdown",
   "metadata": {},
   "source": [
    "Во всех файлах есть уникальный customerID, по которому можно их соединить."
   ]
  },
  {
   "cell_type": "code",
   "execution_count": 6,
   "metadata": {},
   "outputs": [],
   "source": [
    "df_telecom = pd.read_csv(files[0], index_col='customerID')"
   ]
  },
  {
   "cell_type": "code",
   "execution_count": 7,
   "metadata": {},
   "outputs": [
    {
     "data": {
      "text/html": [
       "<div>\n",
       "<style scoped>\n",
       "    .dataframe tbody tr th:only-of-type {\n",
       "        vertical-align: middle;\n",
       "    }\n",
       "\n",
       "    .dataframe tbody tr th {\n",
       "        vertical-align: top;\n",
       "    }\n",
       "\n",
       "    .dataframe thead th {\n",
       "        text-align: right;\n",
       "    }\n",
       "</style>\n",
       "<table border=\"1\" class=\"dataframe\">\n",
       "  <thead>\n",
       "    <tr style=\"text-align: right;\">\n",
       "      <th></th>\n",
       "      <th>InternetService</th>\n",
       "      <th>OnlineSecurity</th>\n",
       "      <th>OnlineBackup</th>\n",
       "      <th>DeviceProtection</th>\n",
       "      <th>TechSupport</th>\n",
       "      <th>StreamingTV</th>\n",
       "      <th>StreamingMovies</th>\n",
       "      <th>MultipleLines</th>\n",
       "      <th>gender</th>\n",
       "      <th>SeniorCitizen</th>\n",
       "      <th>Partner</th>\n",
       "      <th>Dependents</th>\n",
       "      <th>BeginDate</th>\n",
       "      <th>EndDate</th>\n",
       "      <th>Type</th>\n",
       "      <th>PaperlessBilling</th>\n",
       "      <th>PaymentMethod</th>\n",
       "      <th>MonthlyCharges</th>\n",
       "      <th>TotalCharges</th>\n",
       "    </tr>\n",
       "    <tr>\n",
       "      <th>customerID</th>\n",
       "      <th></th>\n",
       "      <th></th>\n",
       "      <th></th>\n",
       "      <th></th>\n",
       "      <th></th>\n",
       "      <th></th>\n",
       "      <th></th>\n",
       "      <th></th>\n",
       "      <th></th>\n",
       "      <th></th>\n",
       "      <th></th>\n",
       "      <th></th>\n",
       "      <th></th>\n",
       "      <th></th>\n",
       "      <th></th>\n",
       "      <th></th>\n",
       "      <th></th>\n",
       "      <th></th>\n",
       "      <th></th>\n",
       "    </tr>\n",
       "  </thead>\n",
       "  <tbody>\n",
       "    <tr>\n",
       "      <th>7590-VHVEG</th>\n",
       "      <td>DSL</td>\n",
       "      <td>No</td>\n",
       "      <td>Yes</td>\n",
       "      <td>No</td>\n",
       "      <td>No</td>\n",
       "      <td>No</td>\n",
       "      <td>No</td>\n",
       "      <td>NaN</td>\n",
       "      <td>Female</td>\n",
       "      <td>0</td>\n",
       "      <td>Yes</td>\n",
       "      <td>No</td>\n",
       "      <td>2020-01-01</td>\n",
       "      <td>No</td>\n",
       "      <td>Month-to-month</td>\n",
       "      <td>Yes</td>\n",
       "      <td>Electronic check</td>\n",
       "      <td>29.85</td>\n",
       "      <td>29.85</td>\n",
       "    </tr>\n",
       "    <tr>\n",
       "      <th>5575-GNVDE</th>\n",
       "      <td>DSL</td>\n",
       "      <td>Yes</td>\n",
       "      <td>No</td>\n",
       "      <td>Yes</td>\n",
       "      <td>No</td>\n",
       "      <td>No</td>\n",
       "      <td>No</td>\n",
       "      <td>No</td>\n",
       "      <td>Male</td>\n",
       "      <td>0</td>\n",
       "      <td>No</td>\n",
       "      <td>No</td>\n",
       "      <td>2017-04-01</td>\n",
       "      <td>No</td>\n",
       "      <td>One year</td>\n",
       "      <td>No</td>\n",
       "      <td>Mailed check</td>\n",
       "      <td>56.95</td>\n",
       "      <td>1889.5</td>\n",
       "    </tr>\n",
       "    <tr>\n",
       "      <th>3668-QPYBK</th>\n",
       "      <td>DSL</td>\n",
       "      <td>Yes</td>\n",
       "      <td>Yes</td>\n",
       "      <td>No</td>\n",
       "      <td>No</td>\n",
       "      <td>No</td>\n",
       "      <td>No</td>\n",
       "      <td>No</td>\n",
       "      <td>Male</td>\n",
       "      <td>0</td>\n",
       "      <td>No</td>\n",
       "      <td>No</td>\n",
       "      <td>2019-10-01</td>\n",
       "      <td>2019-12-01 00:00:00</td>\n",
       "      <td>Month-to-month</td>\n",
       "      <td>Yes</td>\n",
       "      <td>Mailed check</td>\n",
       "      <td>53.85</td>\n",
       "      <td>108.15</td>\n",
       "    </tr>\n",
       "  </tbody>\n",
       "</table>\n",
       "</div>"
      ],
      "text/plain": [
       "           InternetService OnlineSecurity OnlineBackup DeviceProtection  \\\n",
       "customerID                                                                \n",
       "7590-VHVEG             DSL             No          Yes               No   \n",
       "5575-GNVDE             DSL            Yes           No              Yes   \n",
       "3668-QPYBK             DSL            Yes          Yes               No   \n",
       "\n",
       "           TechSupport StreamingTV StreamingMovies MultipleLines  gender  \\\n",
       "customerID                                                                 \n",
       "7590-VHVEG          No          No              No           NaN  Female   \n",
       "5575-GNVDE          No          No              No            No    Male   \n",
       "3668-QPYBK          No          No              No            No    Male   \n",
       "\n",
       "            SeniorCitizen Partner Dependents   BeginDate              EndDate  \\\n",
       "customerID                                                                      \n",
       "7590-VHVEG              0     Yes         No  2020-01-01                   No   \n",
       "5575-GNVDE              0      No         No  2017-04-01                   No   \n",
       "3668-QPYBK              0      No         No  2019-10-01  2019-12-01 00:00:00   \n",
       "\n",
       "                      Type PaperlessBilling     PaymentMethod  MonthlyCharges  \\\n",
       "customerID                                                                      \n",
       "7590-VHVEG  Month-to-month              Yes  Electronic check           29.85   \n",
       "5575-GNVDE        One year               No      Mailed check           56.95   \n",
       "3668-QPYBK  Month-to-month              Yes      Mailed check           53.85   \n",
       "\n",
       "           TotalCharges  \n",
       "customerID               \n",
       "7590-VHVEG        29.85  \n",
       "5575-GNVDE       1889.5  \n",
       "3668-QPYBK       108.15  "
      ]
     },
     "execution_count": 7,
     "metadata": {},
     "output_type": "execute_result"
    }
   ],
   "source": [
    "for itm in files[1:]:\n",
    "    df_telecom = pd.concat([df_telecom, pd.read_csv(itm, index_col='customerID')], axis=1)\n",
    "df_telecom.head(3)"
   ]
  },
  {
   "cell_type": "code",
   "execution_count": 8,
   "metadata": {},
   "outputs": [],
   "source": [
    "df_telecom.columns = df_telecom.columns.str.replace(r'(.)([A-Z].)', r'\\1_\\2', regex=True).str.lower()"
   ]
  },
  {
   "cell_type": "code",
   "execution_count": 9,
   "metadata": {},
   "outputs": [
    {
     "data": {
      "text/plain": [
       "False"
      ]
     },
     "execution_count": 9,
     "metadata": {},
     "output_type": "execute_result"
    }
   ],
   "source": [
    "# ID duple\n",
    "any(df_telecom.index.duplicated())"
   ]
  },
  {
   "cell_type": "code",
   "execution_count": 10,
   "metadata": {},
   "outputs": [
    {
     "name": "stdout",
     "output_type": "stream",
     "text": [
      "<class 'pandas.core.frame.DataFrame'>\n",
      "Index: 7043 entries, 7590-VHVEG to 2569-WGERO\n",
      "Data columns (total 19 columns):\n",
      " #   Column             Non-Null Count  Dtype  \n",
      "---  ------             --------------  -----  \n",
      " 0   internet_service   5517 non-null   object \n",
      " 1   online_security    5517 non-null   object \n",
      " 2   online_backup      5517 non-null   object \n",
      " 3   device_protection  5517 non-null   object \n",
      " 4   tech_support       5517 non-null   object \n",
      " 5   streaming_tv       5517 non-null   object \n",
      " 6   streaming_movies   5517 non-null   object \n",
      " 7   multiple_lines     6361 non-null   object \n",
      " 8   gender             7043 non-null   object \n",
      " 9   senior_citizen     7043 non-null   int64  \n",
      " 10  partner            7043 non-null   object \n",
      " 11  dependents         7043 non-null   object \n",
      " 12  begin_date         7043 non-null   object \n",
      " 13  end_date           7043 non-null   object \n",
      " 14  type               7043 non-null   object \n",
      " 15  paperless_billing  7043 non-null   object \n",
      " 16  payment_method     7043 non-null   object \n",
      " 17  monthly_charges    7043 non-null   float64\n",
      " 18  total_charges      7043 non-null   object \n",
      "dtypes: float64(1), int64(1), object(17)\n",
      "memory usage: 1.3+ MB\n"
     ]
    }
   ],
   "source": [
    "df_telecom.info()"
   ]
  },
  {
   "cell_type": "code",
   "execution_count": 11,
   "metadata": {},
   "outputs": [],
   "source": [
    "df_telecom['target'] = (df_telecom['end_date'] != 'No').astype(int)"
   ]
  },
  {
   "cell_type": "markdown",
   "metadata": {},
   "source": [
    "**Вывод:** данные загружены, соединены в один датафрейм. Создан целевой признак. <br>\n",
    "Данные содержат 7043 строки и 19 признаков(не считая целевой), имеются пропуски. 5517 пользователей интернета, 6361 телефонии. <br> Все ID пользователей уникальны.<br>\n",
    "Данные готовы к предобработке и исследовательскому анализу"
   ]
  },
  {
   "cell_type": "markdown",
   "metadata": {},
   "source": [
    "## Предобработка и исследовательский анализ данных"
   ]
  },
  {
   "cell_type": "code",
   "execution_count": 12,
   "metadata": {},
   "outputs": [
    {
     "data": {
      "text/html": [
       "<div>\n",
       "<style scoped>\n",
       "    .dataframe tbody tr th:only-of-type {\n",
       "        vertical-align: middle;\n",
       "    }\n",
       "\n",
       "    .dataframe tbody tr th {\n",
       "        vertical-align: top;\n",
       "    }\n",
       "\n",
       "    .dataframe thead th {\n",
       "        text-align: right;\n",
       "    }\n",
       "</style>\n",
       "<table border=\"1\" class=\"dataframe\">\n",
       "  <thead>\n",
       "    <tr style=\"text-align: right;\">\n",
       "      <th></th>\n",
       "      <th>internet_service</th>\n",
       "      <th>online_security</th>\n",
       "      <th>online_backup</th>\n",
       "      <th>device_protection</th>\n",
       "      <th>tech_support</th>\n",
       "      <th>streaming_tv</th>\n",
       "      <th>streaming_movies</th>\n",
       "      <th>multiple_lines</th>\n",
       "      <th>gender</th>\n",
       "      <th>senior_citizen</th>\n",
       "      <th>partner</th>\n",
       "      <th>dependents</th>\n",
       "      <th>begin_date</th>\n",
       "      <th>end_date</th>\n",
       "      <th>type</th>\n",
       "      <th>paperless_billing</th>\n",
       "      <th>payment_method</th>\n",
       "      <th>monthly_charges</th>\n",
       "      <th>total_charges</th>\n",
       "      <th>target</th>\n",
       "    </tr>\n",
       "  </thead>\n",
       "  <tbody>\n",
       "    <tr>\n",
       "      <th>count</th>\n",
       "      <td>5517</td>\n",
       "      <td>5517</td>\n",
       "      <td>5517</td>\n",
       "      <td>5517</td>\n",
       "      <td>5517</td>\n",
       "      <td>5517</td>\n",
       "      <td>5517</td>\n",
       "      <td>6361</td>\n",
       "      <td>7043</td>\n",
       "      <td>7043.000000</td>\n",
       "      <td>7043</td>\n",
       "      <td>7043</td>\n",
       "      <td>7043</td>\n",
       "      <td>7043</td>\n",
       "      <td>7043</td>\n",
       "      <td>7043</td>\n",
       "      <td>7043</td>\n",
       "      <td>7043.000000</td>\n",
       "      <td>7043</td>\n",
       "      <td>7043.000000</td>\n",
       "    </tr>\n",
       "    <tr>\n",
       "      <th>unique</th>\n",
       "      <td>2</td>\n",
       "      <td>2</td>\n",
       "      <td>2</td>\n",
       "      <td>2</td>\n",
       "      <td>2</td>\n",
       "      <td>2</td>\n",
       "      <td>2</td>\n",
       "      <td>2</td>\n",
       "      <td>2</td>\n",
       "      <td>NaN</td>\n",
       "      <td>2</td>\n",
       "      <td>2</td>\n",
       "      <td>77</td>\n",
       "      <td>5</td>\n",
       "      <td>3</td>\n",
       "      <td>2</td>\n",
       "      <td>4</td>\n",
       "      <td>NaN</td>\n",
       "      <td>6531</td>\n",
       "      <td>NaN</td>\n",
       "    </tr>\n",
       "    <tr>\n",
       "      <th>top</th>\n",
       "      <td>Fiber optic</td>\n",
       "      <td>No</td>\n",
       "      <td>No</td>\n",
       "      <td>No</td>\n",
       "      <td>No</td>\n",
       "      <td>No</td>\n",
       "      <td>No</td>\n",
       "      <td>No</td>\n",
       "      <td>Male</td>\n",
       "      <td>NaN</td>\n",
       "      <td>No</td>\n",
       "      <td>No</td>\n",
       "      <td>2014-02-01</td>\n",
       "      <td>No</td>\n",
       "      <td>Month-to-month</td>\n",
       "      <td>Yes</td>\n",
       "      <td>Electronic check</td>\n",
       "      <td>NaN</td>\n",
       "      <td></td>\n",
       "      <td>NaN</td>\n",
       "    </tr>\n",
       "    <tr>\n",
       "      <th>freq</th>\n",
       "      <td>3096</td>\n",
       "      <td>3498</td>\n",
       "      <td>3088</td>\n",
       "      <td>3095</td>\n",
       "      <td>3473</td>\n",
       "      <td>2810</td>\n",
       "      <td>2785</td>\n",
       "      <td>3390</td>\n",
       "      <td>3555</td>\n",
       "      <td>NaN</td>\n",
       "      <td>3641</td>\n",
       "      <td>4933</td>\n",
       "      <td>366</td>\n",
       "      <td>5174</td>\n",
       "      <td>3875</td>\n",
       "      <td>4171</td>\n",
       "      <td>2365</td>\n",
       "      <td>NaN</td>\n",
       "      <td>11</td>\n",
       "      <td>NaN</td>\n",
       "    </tr>\n",
       "    <tr>\n",
       "      <th>mean</th>\n",
       "      <td>NaN</td>\n",
       "      <td>NaN</td>\n",
       "      <td>NaN</td>\n",
       "      <td>NaN</td>\n",
       "      <td>NaN</td>\n",
       "      <td>NaN</td>\n",
       "      <td>NaN</td>\n",
       "      <td>NaN</td>\n",
       "      <td>NaN</td>\n",
       "      <td>0.162147</td>\n",
       "      <td>NaN</td>\n",
       "      <td>NaN</td>\n",
       "      <td>NaN</td>\n",
       "      <td>NaN</td>\n",
       "      <td>NaN</td>\n",
       "      <td>NaN</td>\n",
       "      <td>NaN</td>\n",
       "      <td>64.761692</td>\n",
       "      <td>NaN</td>\n",
       "      <td>0.265370</td>\n",
       "    </tr>\n",
       "    <tr>\n",
       "      <th>std</th>\n",
       "      <td>NaN</td>\n",
       "      <td>NaN</td>\n",
       "      <td>NaN</td>\n",
       "      <td>NaN</td>\n",
       "      <td>NaN</td>\n",
       "      <td>NaN</td>\n",
       "      <td>NaN</td>\n",
       "      <td>NaN</td>\n",
       "      <td>NaN</td>\n",
       "      <td>0.368612</td>\n",
       "      <td>NaN</td>\n",
       "      <td>NaN</td>\n",
       "      <td>NaN</td>\n",
       "      <td>NaN</td>\n",
       "      <td>NaN</td>\n",
       "      <td>NaN</td>\n",
       "      <td>NaN</td>\n",
       "      <td>30.090047</td>\n",
       "      <td>NaN</td>\n",
       "      <td>0.441561</td>\n",
       "    </tr>\n",
       "    <tr>\n",
       "      <th>min</th>\n",
       "      <td>NaN</td>\n",
       "      <td>NaN</td>\n",
       "      <td>NaN</td>\n",
       "      <td>NaN</td>\n",
       "      <td>NaN</td>\n",
       "      <td>NaN</td>\n",
       "      <td>NaN</td>\n",
       "      <td>NaN</td>\n",
       "      <td>NaN</td>\n",
       "      <td>0.000000</td>\n",
       "      <td>NaN</td>\n",
       "      <td>NaN</td>\n",
       "      <td>NaN</td>\n",
       "      <td>NaN</td>\n",
       "      <td>NaN</td>\n",
       "      <td>NaN</td>\n",
       "      <td>NaN</td>\n",
       "      <td>18.250000</td>\n",
       "      <td>NaN</td>\n",
       "      <td>0.000000</td>\n",
       "    </tr>\n",
       "    <tr>\n",
       "      <th>25%</th>\n",
       "      <td>NaN</td>\n",
       "      <td>NaN</td>\n",
       "      <td>NaN</td>\n",
       "      <td>NaN</td>\n",
       "      <td>NaN</td>\n",
       "      <td>NaN</td>\n",
       "      <td>NaN</td>\n",
       "      <td>NaN</td>\n",
       "      <td>NaN</td>\n",
       "      <td>0.000000</td>\n",
       "      <td>NaN</td>\n",
       "      <td>NaN</td>\n",
       "      <td>NaN</td>\n",
       "      <td>NaN</td>\n",
       "      <td>NaN</td>\n",
       "      <td>NaN</td>\n",
       "      <td>NaN</td>\n",
       "      <td>35.500000</td>\n",
       "      <td>NaN</td>\n",
       "      <td>0.000000</td>\n",
       "    </tr>\n",
       "    <tr>\n",
       "      <th>50%</th>\n",
       "      <td>NaN</td>\n",
       "      <td>NaN</td>\n",
       "      <td>NaN</td>\n",
       "      <td>NaN</td>\n",
       "      <td>NaN</td>\n",
       "      <td>NaN</td>\n",
       "      <td>NaN</td>\n",
       "      <td>NaN</td>\n",
       "      <td>NaN</td>\n",
       "      <td>0.000000</td>\n",
       "      <td>NaN</td>\n",
       "      <td>NaN</td>\n",
       "      <td>NaN</td>\n",
       "      <td>NaN</td>\n",
       "      <td>NaN</td>\n",
       "      <td>NaN</td>\n",
       "      <td>NaN</td>\n",
       "      <td>70.350000</td>\n",
       "      <td>NaN</td>\n",
       "      <td>0.000000</td>\n",
       "    </tr>\n",
       "    <tr>\n",
       "      <th>75%</th>\n",
       "      <td>NaN</td>\n",
       "      <td>NaN</td>\n",
       "      <td>NaN</td>\n",
       "      <td>NaN</td>\n",
       "      <td>NaN</td>\n",
       "      <td>NaN</td>\n",
       "      <td>NaN</td>\n",
       "      <td>NaN</td>\n",
       "      <td>NaN</td>\n",
       "      <td>0.000000</td>\n",
       "      <td>NaN</td>\n",
       "      <td>NaN</td>\n",
       "      <td>NaN</td>\n",
       "      <td>NaN</td>\n",
       "      <td>NaN</td>\n",
       "      <td>NaN</td>\n",
       "      <td>NaN</td>\n",
       "      <td>89.850000</td>\n",
       "      <td>NaN</td>\n",
       "      <td>1.000000</td>\n",
       "    </tr>\n",
       "    <tr>\n",
       "      <th>max</th>\n",
       "      <td>NaN</td>\n",
       "      <td>NaN</td>\n",
       "      <td>NaN</td>\n",
       "      <td>NaN</td>\n",
       "      <td>NaN</td>\n",
       "      <td>NaN</td>\n",
       "      <td>NaN</td>\n",
       "      <td>NaN</td>\n",
       "      <td>NaN</td>\n",
       "      <td>1.000000</td>\n",
       "      <td>NaN</td>\n",
       "      <td>NaN</td>\n",
       "      <td>NaN</td>\n",
       "      <td>NaN</td>\n",
       "      <td>NaN</td>\n",
       "      <td>NaN</td>\n",
       "      <td>NaN</td>\n",
       "      <td>118.750000</td>\n",
       "      <td>NaN</td>\n",
       "      <td>1.000000</td>\n",
       "    </tr>\n",
       "  </tbody>\n",
       "</table>\n",
       "</div>"
      ],
      "text/plain": [
       "       internet_service online_security online_backup device_protection  \\\n",
       "count              5517            5517          5517              5517   \n",
       "unique                2               2             2                 2   \n",
       "top         Fiber optic              No            No                No   \n",
       "freq               3096            3498          3088              3095   \n",
       "mean                NaN             NaN           NaN               NaN   \n",
       "std                 NaN             NaN           NaN               NaN   \n",
       "min                 NaN             NaN           NaN               NaN   \n",
       "25%                 NaN             NaN           NaN               NaN   \n",
       "50%                 NaN             NaN           NaN               NaN   \n",
       "75%                 NaN             NaN           NaN               NaN   \n",
       "max                 NaN             NaN           NaN               NaN   \n",
       "\n",
       "       tech_support streaming_tv streaming_movies multiple_lines gender  \\\n",
       "count          5517         5517             5517           6361   7043   \n",
       "unique            2            2                2              2      2   \n",
       "top              No           No               No             No   Male   \n",
       "freq           3473         2810             2785           3390   3555   \n",
       "mean            NaN          NaN              NaN            NaN    NaN   \n",
       "std             NaN          NaN              NaN            NaN    NaN   \n",
       "min             NaN          NaN              NaN            NaN    NaN   \n",
       "25%             NaN          NaN              NaN            NaN    NaN   \n",
       "50%             NaN          NaN              NaN            NaN    NaN   \n",
       "75%             NaN          NaN              NaN            NaN    NaN   \n",
       "max             NaN          NaN              NaN            NaN    NaN   \n",
       "\n",
       "        senior_citizen partner dependents  begin_date end_date  \\\n",
       "count      7043.000000    7043       7043        7043     7043   \n",
       "unique             NaN       2          2          77        5   \n",
       "top                NaN      No         No  2014-02-01       No   \n",
       "freq               NaN    3641       4933         366     5174   \n",
       "mean          0.162147     NaN        NaN         NaN      NaN   \n",
       "std           0.368612     NaN        NaN         NaN      NaN   \n",
       "min           0.000000     NaN        NaN         NaN      NaN   \n",
       "25%           0.000000     NaN        NaN         NaN      NaN   \n",
       "50%           0.000000     NaN        NaN         NaN      NaN   \n",
       "75%           0.000000     NaN        NaN         NaN      NaN   \n",
       "max           1.000000     NaN        NaN         NaN      NaN   \n",
       "\n",
       "                  type paperless_billing    payment_method  monthly_charges  \\\n",
       "count             7043              7043              7043      7043.000000   \n",
       "unique               3                 2                 4              NaN   \n",
       "top     Month-to-month               Yes  Electronic check              NaN   \n",
       "freq              3875              4171              2365              NaN   \n",
       "mean               NaN               NaN               NaN        64.761692   \n",
       "std                NaN               NaN               NaN        30.090047   \n",
       "min                NaN               NaN               NaN        18.250000   \n",
       "25%                NaN               NaN               NaN        35.500000   \n",
       "50%                NaN               NaN               NaN        70.350000   \n",
       "75%                NaN               NaN               NaN        89.850000   \n",
       "max                NaN               NaN               NaN       118.750000   \n",
       "\n",
       "       total_charges       target  \n",
       "count           7043  7043.000000  \n",
       "unique          6531          NaN  \n",
       "top                           NaN  \n",
       "freq              11          NaN  \n",
       "mean             NaN     0.265370  \n",
       "std              NaN     0.441561  \n",
       "min              NaN     0.000000  \n",
       "25%              NaN     0.000000  \n",
       "50%              NaN     0.000000  \n",
       "75%              NaN     1.000000  \n",
       "max              NaN     1.000000  "
      ]
     },
     "execution_count": 12,
     "metadata": {},
     "output_type": "execute_result"
    }
   ],
   "source": [
    "df_telecom.describe(include='all')"
   ]
  },
  {
   "cell_type": "markdown",
   "metadata": {},
   "source": [
    "Выделяется `total_charges`, который describe определил, как категориальный, а должен быть числовым, проверим:"
   ]
  },
  {
   "cell_type": "code",
   "execution_count": 13,
   "metadata": {},
   "outputs": [
    {
     "data": {
      "text/html": [
       "<div>\n",
       "<style scoped>\n",
       "    .dataframe tbody tr th:only-of-type {\n",
       "        vertical-align: middle;\n",
       "    }\n",
       "\n",
       "    .dataframe tbody tr th {\n",
       "        vertical-align: top;\n",
       "    }\n",
       "\n",
       "    .dataframe thead th {\n",
       "        text-align: right;\n",
       "    }\n",
       "</style>\n",
       "<table border=\"1\" class=\"dataframe\">\n",
       "  <thead>\n",
       "    <tr style=\"text-align: right;\">\n",
       "      <th></th>\n",
       "      <th>internet_service</th>\n",
       "      <th>online_security</th>\n",
       "      <th>online_backup</th>\n",
       "      <th>device_protection</th>\n",
       "      <th>tech_support</th>\n",
       "      <th>streaming_tv</th>\n",
       "      <th>streaming_movies</th>\n",
       "      <th>multiple_lines</th>\n",
       "      <th>gender</th>\n",
       "      <th>senior_citizen</th>\n",
       "      <th>partner</th>\n",
       "      <th>dependents</th>\n",
       "      <th>begin_date</th>\n",
       "      <th>end_date</th>\n",
       "      <th>type</th>\n",
       "      <th>paperless_billing</th>\n",
       "      <th>payment_method</th>\n",
       "      <th>monthly_charges</th>\n",
       "      <th>total_charges</th>\n",
       "      <th>target</th>\n",
       "    </tr>\n",
       "    <tr>\n",
       "      <th>customerID</th>\n",
       "      <th></th>\n",
       "      <th></th>\n",
       "      <th></th>\n",
       "      <th></th>\n",
       "      <th></th>\n",
       "      <th></th>\n",
       "      <th></th>\n",
       "      <th></th>\n",
       "      <th></th>\n",
       "      <th></th>\n",
       "      <th></th>\n",
       "      <th></th>\n",
       "      <th></th>\n",
       "      <th></th>\n",
       "      <th></th>\n",
       "      <th></th>\n",
       "      <th></th>\n",
       "      <th></th>\n",
       "      <th></th>\n",
       "      <th></th>\n",
       "    </tr>\n",
       "  </thead>\n",
       "  <tbody>\n",
       "    <tr>\n",
       "      <th>4472-LVYGI</th>\n",
       "      <td>DSL</td>\n",
       "      <td>Yes</td>\n",
       "      <td>No</td>\n",
       "      <td>Yes</td>\n",
       "      <td>Yes</td>\n",
       "      <td>Yes</td>\n",
       "      <td>No</td>\n",
       "      <td>NaN</td>\n",
       "      <td>Female</td>\n",
       "      <td>0</td>\n",
       "      <td>Yes</td>\n",
       "      <td>Yes</td>\n",
       "      <td>2020-02-01</td>\n",
       "      <td>No</td>\n",
       "      <td>Two year</td>\n",
       "      <td>Yes</td>\n",
       "      <td>Bank transfer (automatic)</td>\n",
       "      <td>52.55</td>\n",
       "      <td></td>\n",
       "      <td>0</td>\n",
       "    </tr>\n",
       "    <tr>\n",
       "      <th>5709-LVOEQ</th>\n",
       "      <td>DSL</td>\n",
       "      <td>Yes</td>\n",
       "      <td>Yes</td>\n",
       "      <td>Yes</td>\n",
       "      <td>No</td>\n",
       "      <td>Yes</td>\n",
       "      <td>Yes</td>\n",
       "      <td>No</td>\n",
       "      <td>Female</td>\n",
       "      <td>0</td>\n",
       "      <td>Yes</td>\n",
       "      <td>Yes</td>\n",
       "      <td>2020-02-01</td>\n",
       "      <td>No</td>\n",
       "      <td>Two year</td>\n",
       "      <td>No</td>\n",
       "      <td>Mailed check</td>\n",
       "      <td>80.85</td>\n",
       "      <td></td>\n",
       "      <td>0</td>\n",
       "    </tr>\n",
       "    <tr>\n",
       "      <th>1371-DWPAZ</th>\n",
       "      <td>DSL</td>\n",
       "      <td>Yes</td>\n",
       "      <td>Yes</td>\n",
       "      <td>Yes</td>\n",
       "      <td>Yes</td>\n",
       "      <td>Yes</td>\n",
       "      <td>No</td>\n",
       "      <td>NaN</td>\n",
       "      <td>Female</td>\n",
       "      <td>0</td>\n",
       "      <td>Yes</td>\n",
       "      <td>Yes</td>\n",
       "      <td>2020-02-01</td>\n",
       "      <td>No</td>\n",
       "      <td>Two year</td>\n",
       "      <td>No</td>\n",
       "      <td>Credit card (automatic)</td>\n",
       "      <td>56.05</td>\n",
       "      <td></td>\n",
       "      <td>0</td>\n",
       "    </tr>\n",
       "    <tr>\n",
       "      <th>4075-WKNIU</th>\n",
       "      <td>DSL</td>\n",
       "      <td>No</td>\n",
       "      <td>Yes</td>\n",
       "      <td>Yes</td>\n",
       "      <td>Yes</td>\n",
       "      <td>Yes</td>\n",
       "      <td>No</td>\n",
       "      <td>Yes</td>\n",
       "      <td>Female</td>\n",
       "      <td>0</td>\n",
       "      <td>Yes</td>\n",
       "      <td>Yes</td>\n",
       "      <td>2020-02-01</td>\n",
       "      <td>No</td>\n",
       "      <td>Two year</td>\n",
       "      <td>No</td>\n",
       "      <td>Mailed check</td>\n",
       "      <td>73.35</td>\n",
       "      <td></td>\n",
       "      <td>0</td>\n",
       "    </tr>\n",
       "    <tr>\n",
       "      <th>2775-SEFEE</th>\n",
       "      <td>DSL</td>\n",
       "      <td>Yes</td>\n",
       "      <td>Yes</td>\n",
       "      <td>No</td>\n",
       "      <td>Yes</td>\n",
       "      <td>No</td>\n",
       "      <td>No</td>\n",
       "      <td>Yes</td>\n",
       "      <td>Male</td>\n",
       "      <td>0</td>\n",
       "      <td>No</td>\n",
       "      <td>Yes</td>\n",
       "      <td>2020-02-01</td>\n",
       "      <td>No</td>\n",
       "      <td>Two year</td>\n",
       "      <td>Yes</td>\n",
       "      <td>Bank transfer (automatic)</td>\n",
       "      <td>61.90</td>\n",
       "      <td></td>\n",
       "      <td>0</td>\n",
       "    </tr>\n",
       "    <tr>\n",
       "      <th>3115-CZMZD</th>\n",
       "      <td>NaN</td>\n",
       "      <td>NaN</td>\n",
       "      <td>NaN</td>\n",
       "      <td>NaN</td>\n",
       "      <td>NaN</td>\n",
       "      <td>NaN</td>\n",
       "      <td>NaN</td>\n",
       "      <td>No</td>\n",
       "      <td>Male</td>\n",
       "      <td>0</td>\n",
       "      <td>No</td>\n",
       "      <td>Yes</td>\n",
       "      <td>2020-02-01</td>\n",
       "      <td>No</td>\n",
       "      <td>Two year</td>\n",
       "      <td>No</td>\n",
       "      <td>Mailed check</td>\n",
       "      <td>20.25</td>\n",
       "      <td></td>\n",
       "      <td>0</td>\n",
       "    </tr>\n",
       "    <tr>\n",
       "      <th>4367-NUYAO</th>\n",
       "      <td>NaN</td>\n",
       "      <td>NaN</td>\n",
       "      <td>NaN</td>\n",
       "      <td>NaN</td>\n",
       "      <td>NaN</td>\n",
       "      <td>NaN</td>\n",
       "      <td>NaN</td>\n",
       "      <td>Yes</td>\n",
       "      <td>Male</td>\n",
       "      <td>0</td>\n",
       "      <td>Yes</td>\n",
       "      <td>Yes</td>\n",
       "      <td>2020-02-01</td>\n",
       "      <td>No</td>\n",
       "      <td>Two year</td>\n",
       "      <td>No</td>\n",
       "      <td>Mailed check</td>\n",
       "      <td>25.75</td>\n",
       "      <td></td>\n",
       "      <td>0</td>\n",
       "    </tr>\n",
       "    <tr>\n",
       "      <th>7644-OMVMY</th>\n",
       "      <td>NaN</td>\n",
       "      <td>NaN</td>\n",
       "      <td>NaN</td>\n",
       "      <td>NaN</td>\n",
       "      <td>NaN</td>\n",
       "      <td>NaN</td>\n",
       "      <td>NaN</td>\n",
       "      <td>No</td>\n",
       "      <td>Male</td>\n",
       "      <td>0</td>\n",
       "      <td>Yes</td>\n",
       "      <td>Yes</td>\n",
       "      <td>2020-02-01</td>\n",
       "      <td>No</td>\n",
       "      <td>Two year</td>\n",
       "      <td>No</td>\n",
       "      <td>Mailed check</td>\n",
       "      <td>19.85</td>\n",
       "      <td></td>\n",
       "      <td>0</td>\n",
       "    </tr>\n",
       "    <tr>\n",
       "      <th>3213-VVOLG</th>\n",
       "      <td>NaN</td>\n",
       "      <td>NaN</td>\n",
       "      <td>NaN</td>\n",
       "      <td>NaN</td>\n",
       "      <td>NaN</td>\n",
       "      <td>NaN</td>\n",
       "      <td>NaN</td>\n",
       "      <td>Yes</td>\n",
       "      <td>Male</td>\n",
       "      <td>0</td>\n",
       "      <td>Yes</td>\n",
       "      <td>Yes</td>\n",
       "      <td>2020-02-01</td>\n",
       "      <td>No</td>\n",
       "      <td>Two year</td>\n",
       "      <td>No</td>\n",
       "      <td>Mailed check</td>\n",
       "      <td>25.35</td>\n",
       "      <td></td>\n",
       "      <td>0</td>\n",
       "    </tr>\n",
       "    <tr>\n",
       "      <th>2520-SGTTA</th>\n",
       "      <td>NaN</td>\n",
       "      <td>NaN</td>\n",
       "      <td>NaN</td>\n",
       "      <td>NaN</td>\n",
       "      <td>NaN</td>\n",
       "      <td>NaN</td>\n",
       "      <td>NaN</td>\n",
       "      <td>No</td>\n",
       "      <td>Female</td>\n",
       "      <td>0</td>\n",
       "      <td>Yes</td>\n",
       "      <td>Yes</td>\n",
       "      <td>2020-02-01</td>\n",
       "      <td>No</td>\n",
       "      <td>Two year</td>\n",
       "      <td>No</td>\n",
       "      <td>Mailed check</td>\n",
       "      <td>20.00</td>\n",
       "      <td></td>\n",
       "      <td>0</td>\n",
       "    </tr>\n",
       "    <tr>\n",
       "      <th>2923-ARZLG</th>\n",
       "      <td>NaN</td>\n",
       "      <td>NaN</td>\n",
       "      <td>NaN</td>\n",
       "      <td>NaN</td>\n",
       "      <td>NaN</td>\n",
       "      <td>NaN</td>\n",
       "      <td>NaN</td>\n",
       "      <td>No</td>\n",
       "      <td>Male</td>\n",
       "      <td>0</td>\n",
       "      <td>Yes</td>\n",
       "      <td>Yes</td>\n",
       "      <td>2020-02-01</td>\n",
       "      <td>No</td>\n",
       "      <td>One year</td>\n",
       "      <td>Yes</td>\n",
       "      <td>Mailed check</td>\n",
       "      <td>19.70</td>\n",
       "      <td></td>\n",
       "      <td>0</td>\n",
       "    </tr>\n",
       "  </tbody>\n",
       "</table>\n",
       "</div>"
      ],
      "text/plain": [
       "           internet_service online_security online_backup device_protection  \\\n",
       "customerID                                                                    \n",
       "4472-LVYGI              DSL             Yes            No               Yes   \n",
       "5709-LVOEQ              DSL             Yes           Yes               Yes   \n",
       "1371-DWPAZ              DSL             Yes           Yes               Yes   \n",
       "4075-WKNIU              DSL              No           Yes               Yes   \n",
       "2775-SEFEE              DSL             Yes           Yes                No   \n",
       "3115-CZMZD              NaN             NaN           NaN               NaN   \n",
       "4367-NUYAO              NaN             NaN           NaN               NaN   \n",
       "7644-OMVMY              NaN             NaN           NaN               NaN   \n",
       "3213-VVOLG              NaN             NaN           NaN               NaN   \n",
       "2520-SGTTA              NaN             NaN           NaN               NaN   \n",
       "2923-ARZLG              NaN             NaN           NaN               NaN   \n",
       "\n",
       "           tech_support streaming_tv streaming_movies multiple_lines  gender  \\\n",
       "customerID                                                                     \n",
       "4472-LVYGI          Yes          Yes               No            NaN  Female   \n",
       "5709-LVOEQ           No          Yes              Yes             No  Female   \n",
       "1371-DWPAZ          Yes          Yes               No            NaN  Female   \n",
       "4075-WKNIU          Yes          Yes               No            Yes  Female   \n",
       "2775-SEFEE          Yes           No               No            Yes    Male   \n",
       "3115-CZMZD          NaN          NaN              NaN             No    Male   \n",
       "4367-NUYAO          NaN          NaN              NaN            Yes    Male   \n",
       "7644-OMVMY          NaN          NaN              NaN             No    Male   \n",
       "3213-VVOLG          NaN          NaN              NaN            Yes    Male   \n",
       "2520-SGTTA          NaN          NaN              NaN             No  Female   \n",
       "2923-ARZLG          NaN          NaN              NaN             No    Male   \n",
       "\n",
       "            senior_citizen partner dependents  begin_date end_date      type  \\\n",
       "customerID                                                                     \n",
       "4472-LVYGI               0     Yes        Yes  2020-02-01       No  Two year   \n",
       "5709-LVOEQ               0     Yes        Yes  2020-02-01       No  Two year   \n",
       "1371-DWPAZ               0     Yes        Yes  2020-02-01       No  Two year   \n",
       "4075-WKNIU               0     Yes        Yes  2020-02-01       No  Two year   \n",
       "2775-SEFEE               0      No        Yes  2020-02-01       No  Two year   \n",
       "3115-CZMZD               0      No        Yes  2020-02-01       No  Two year   \n",
       "4367-NUYAO               0     Yes        Yes  2020-02-01       No  Two year   \n",
       "7644-OMVMY               0     Yes        Yes  2020-02-01       No  Two year   \n",
       "3213-VVOLG               0     Yes        Yes  2020-02-01       No  Two year   \n",
       "2520-SGTTA               0     Yes        Yes  2020-02-01       No  Two year   \n",
       "2923-ARZLG               0     Yes        Yes  2020-02-01       No  One year   \n",
       "\n",
       "           paperless_billing             payment_method  monthly_charges  \\\n",
       "customerID                                                                 \n",
       "4472-LVYGI               Yes  Bank transfer (automatic)            52.55   \n",
       "5709-LVOEQ                No               Mailed check            80.85   \n",
       "1371-DWPAZ                No    Credit card (automatic)            56.05   \n",
       "4075-WKNIU                No               Mailed check            73.35   \n",
       "2775-SEFEE               Yes  Bank transfer (automatic)            61.90   \n",
       "3115-CZMZD                No               Mailed check            20.25   \n",
       "4367-NUYAO                No               Mailed check            25.75   \n",
       "7644-OMVMY                No               Mailed check            19.85   \n",
       "3213-VVOLG                No               Mailed check            25.35   \n",
       "2520-SGTTA                No               Mailed check            20.00   \n",
       "2923-ARZLG               Yes               Mailed check            19.70   \n",
       "\n",
       "           total_charges  target  \n",
       "customerID                        \n",
       "4472-LVYGI                     0  \n",
       "5709-LVOEQ                     0  \n",
       "1371-DWPAZ                     0  \n",
       "4075-WKNIU                     0  \n",
       "2775-SEFEE                     0  \n",
       "3115-CZMZD                     0  \n",
       "4367-NUYAO                     0  \n",
       "7644-OMVMY                     0  \n",
       "3213-VVOLG                     0  \n",
       "2520-SGTTA                     0  \n",
       "2923-ARZLG                     0  "
      ]
     },
     "execution_count": 13,
     "metadata": {},
     "output_type": "execute_result"
    }
   ],
   "source": [
    "df_telecom[df_telecom['total_charges'].apply(pd.to_numeric, errors=\"coerce\").isna()]"
   ]
  },
  {
   "cell_type": "markdown",
   "metadata": {},
   "source": [
    "Таким образом определили, что в столбце `total_charges` есть \"не явные\" пропущенные значения для пользователей, которые пришли в компанию только что. Этих данных мало и использовать подобные данные для обучения сомнительная идея, удалим их и приведем столбец `total_charges` к типу float"
   ]
  },
  {
   "cell_type": "code",
   "execution_count": 14,
   "metadata": {},
   "outputs": [],
   "source": [
    "df_telecom = df_telecom[df_telecom['total_charges'] != ' ']\n",
    "df_telecom['total_charges'] = df_telecom['total_charges'].astype('float')"
   ]
  },
  {
   "cell_type": "code",
   "execution_count": 2,
   "metadata": {},
   "outputs": [],
   "source": [
    "#ydata_profiling.ProfileReport(df_telecom,  \n",
    "#                              title=\"Телеком\",            \n",
    "#                              correlations={\"auto\": {\"calculate\": False},\n",
    "#                                            \"cramers\": {\"calculate\": True},\n",
    "#                                            \"phi_k\": {\"calculate\": True},})"
   ]
  },
  {
   "cell_type": "markdown",
   "metadata": {},
   "source": [
    "Перед предварительными выводами по данным рассмотрим некоторые интересные моменты из отчета отдельно:"
   ]
  },
  {
   "cell_type": "code",
   "execution_count": 16,
   "metadata": {},
   "outputs": [
    {
     "data": {
      "text/plain": [
       "0    0.925658\n",
       "1    0.074342\n",
       "Name: target, dtype: float64"
      ]
     },
     "execution_count": 16,
     "metadata": {},
     "output_type": "execute_result"
    }
   ],
   "source": [
    "df_telecom[df_telecom['internet_service'].isna()]['target'].value_counts(normalize=True)"
   ]
  },
  {
   "cell_type": "code",
   "execution_count": 17,
   "metadata": {},
   "outputs": [
    {
     "data": {
      "text/plain": [
       "0    0.75\n",
       "1    0.25\n",
       "Name: target, dtype: float64"
      ]
     },
     "execution_count": 17,
     "metadata": {},
     "output_type": "execute_result"
    }
   ],
   "source": [
    "df_telecom[df_telecom['multiple_lines'].isna()]['target'].value_counts(normalize=True)"
   ]
  },
  {
   "cell_type": "code",
   "execution_count": 18,
   "metadata": {},
   "outputs": [
    {
     "data": {
      "text/plain": [
       "0    0.671772\n",
       "1    0.328228\n",
       "Name: target, dtype: float64"
      ]
     },
     "execution_count": 18,
     "metadata": {},
     "output_type": "execute_result"
    }
   ],
   "source": [
    "df_telecom.dropna()['target'].value_counts(normalize=True)"
   ]
  },
  {
   "cell_type": "code",
   "execution_count": 19,
   "metadata": {},
   "outputs": [],
   "source": [
    "# временные\n",
    "df_dates = df_telecom[df_telecom['total_charges'] != ' ']\n",
    "df_dates['payed'] = df_dates['total_charges'].astype('float') / df_dates['monthly_charges']\n",
    "df_dates.loc[df_dates['end_date'] == \"No\",'end_date'] = '2020-02-01'\n",
    "df_dates['activ'] = (pd.to_datetime(df_dates['end_date']) - pd.to_datetime(df_dates['begin_date'])).dt.days // 30"
   ]
  },
  {
   "cell_type": "code",
   "execution_count": 20,
   "metadata": {},
   "outputs": [
    {
     "data": {
      "text/plain": [
       "(851, 22)"
      ]
     },
     "execution_count": 20,
     "metadata": {},
     "output_type": "execute_result"
    }
   ],
   "source": [
    "# пользователи активностью менее 3 мес\n",
    "df_dates[df_dates['activ'] < 3].shape"
   ]
  },
  {
   "cell_type": "code",
   "execution_count": 21,
   "metadata": {},
   "outputs": [
    {
     "data": {
      "text/plain": [
       "(131, 22)"
      ]
     },
     "execution_count": 21,
     "metadata": {},
     "output_type": "execute_result"
    }
   ],
   "source": [
    "# пользователи, активные менее 11 месяцев с оплатой год и 2\n",
    "df_dates.query('activ < 11 and type != \"Month-to-month\"').shape"
   ]
  },
  {
   "cell_type": "code",
   "execution_count": 22,
   "metadata": {},
   "outputs": [
    {
     "data": {
      "text/html": [
       "<div>\n",
       "<style scoped>\n",
       "    .dataframe tbody tr th:only-of-type {\n",
       "        vertical-align: middle;\n",
       "    }\n",
       "\n",
       "    .dataframe tbody tr th {\n",
       "        vertical-align: top;\n",
       "    }\n",
       "\n",
       "    .dataframe thead th {\n",
       "        text-align: right;\n",
       "    }\n",
       "</style>\n",
       "<table border=\"1\" class=\"dataframe\">\n",
       "  <thead>\n",
       "    <tr style=\"text-align: right;\">\n",
       "      <th></th>\n",
       "      <th>payed</th>\n",
       "      <th>activ</th>\n",
       "    </tr>\n",
       "    <tr>\n",
       "      <th>customerID</th>\n",
       "      <th></th>\n",
       "      <th></th>\n",
       "    </tr>\n",
       "  </thead>\n",
       "  <tbody>\n",
       "    <tr>\n",
       "      <th>7590-VHVEG</th>\n",
       "      <td>1.000000</td>\n",
       "      <td>1</td>\n",
       "    </tr>\n",
       "    <tr>\n",
       "      <th>5575-GNVDE</th>\n",
       "      <td>33.178227</td>\n",
       "      <td>34</td>\n",
       "    </tr>\n",
       "    <tr>\n",
       "      <th>3668-QPYBK</th>\n",
       "      <td>2.008357</td>\n",
       "      <td>2</td>\n",
       "    </tr>\n",
       "    <tr>\n",
       "      <th>7795-CFOCW</th>\n",
       "      <td>43.516548</td>\n",
       "      <td>45</td>\n",
       "    </tr>\n",
       "    <tr>\n",
       "      <th>9237-HQITU</th>\n",
       "      <td>2.144979</td>\n",
       "      <td>2</td>\n",
       "    </tr>\n",
       "  </tbody>\n",
       "</table>\n",
       "</div>"
      ],
      "text/plain": [
       "                payed  activ\n",
       "customerID                  \n",
       "7590-VHVEG   1.000000      1\n",
       "5575-GNVDE  33.178227     34\n",
       "3668-QPYBK   2.008357      2\n",
       "7795-CFOCW  43.516548     45\n",
       "9237-HQITU   2.144979      2"
      ]
     },
     "execution_count": 22,
     "metadata": {},
     "output_type": "execute_result"
    }
   ],
   "source": [
    "df_dates[['payed','activ']].head()"
   ]
  },
  {
   "cell_type": "code",
   "execution_count": 23,
   "metadata": {},
   "outputs": [
    {
     "data": {
      "text/plain": [
       "customerID\n",
       "8395-ETZKQ   -7.792308\n",
       "4821-WQOYN   -7.017413\n",
       "2525-GVKQU   -6.941748\n",
       "2560-WBWXF   -6.935818\n",
       "4277-BWBML   -6.691729\n",
       "                ...   \n",
       "6010-DDPPW    6.170974\n",
       "8207-VVMYB    6.190385\n",
       "5893-KCLGT    6.341772\n",
       "1399-OUPJN    7.407595\n",
       "8241-JUIQO    7.706941\n",
       "Length: 7032, dtype: float64"
      ]
     },
     "execution_count": 23,
     "metadata": {},
     "output_type": "execute_result"
    }
   ],
   "source": [
    "(df_dates['payed'] - df_dates['activ']).sort_values()"
   ]
  },
  {
   "cell_type": "code",
   "execution_count": 24,
   "metadata": {},
   "outputs": [
    {
     "data": {
      "text/plain": [
       "0.13353242320819111"
      ]
     },
     "execution_count": 24,
     "metadata": {},
     "output_type": "execute_result"
    }
   ],
   "source": [
    "((df_dates['payed'] - df_dates['activ']) > 0.9).mean()"
   ]
  },
  {
   "cell_type": "code",
   "execution_count": 25,
   "metadata": {},
   "outputs": [],
   "source": [
    "del df_dates"
   ]
  },
  {
   "cell_type": "markdown",
   "metadata": {},
   "source": [
    "**Первый взгляд:**\n",
    "\n",
    "1. Пропущенные значения у данных категории инета. В целом, вполне смело можно в internet_service ввести категорию типа \"not use\" и остальные стобики сделать No. Инет не подключен, услуг нет, логично - но данная штука может дать кривую оценку, т.к. сознательно нарушаем баланс у параметров - скорей всего, стоит и в услугах сделать отдельную категорию.\n",
    "\n",
    "\n",
    "2. Для телефонных услуг почти аналогично, но там будет 3 категории стиля \"не подключено, одна, несколько\".\n",
    "\n",
    "\n",
    "3. Но так же интересно попробовать идею \"разбить\" на два разных датасета и 2 модели. Отдельно делать предсказания для интернет-услуг и отдельно для телефона. Между собой таблички можно \"связать\" через булин \"пользуется инетом/телефоном: да/нет\". Компания должна быть заинтересована, чтоб клиент не отказывался от части услуг в том числе. Ну и у них немного разное соотношение по целевому, люди, которые не используют инет от услуг практически не отказываются, 7% (а тут, кстати, тоже можно будет проверить и оставить только людей с инетом, но это 21% потеря, многовато будет :))\n",
    "\n",
    "\n",
    "4. Столбики даты. end_date идет для определения целевого, в признаки попасть не должен. begin_date может быть полезен, но его стоит попробовать перевести в признак типа \"сколько месяцев клиент в компании\" на текущий момент. \n",
    "\n",
    "\n",
    "5. total_charges - содержит псевдо-пропущенные значения для новых пользователей, их мало, можно удалить (плюс еще предсказывать на новых пользователях сомнительно так :)). Было проверено, что плата за месяц значение не постоянное и не получится достоверно определить, сколько человек имеют оплату \"наперед\". По дате было определено, что 131 человек в компании менее 11 месяцев, но оплата на год или 2, для создания нового признака это слишком мало. \n",
    "<br/>Но можно попробовать что-то намутить типа (total_charges / \"сколько месяцев клиент в компании\") - от родственного monthly_charges будет отличаться. И разница их может быть полезна :)\n",
    "\n",
    "\n",
    "6. Неплохо может смотреться признак \"количество подключенных услуг\".\n",
    "\n",
    "\n",
    "7. Остальное пока смотрится вполне нормально. Мусорных не наблюдается. В процессе может еще что накопается :)"
   ]
  },
  {
   "cell_type": "markdown",
   "metadata": {},
   "source": [
    "Рассмотрим немного подробнее целевой признак:"
   ]
  },
  {
   "cell_type": "code",
   "execution_count": 26,
   "metadata": {
    "scrolled": true
   },
   "outputs": [
    {
     "data": {
      "image/png": "[encoded data removed]",
      "text/plain": [
       "<Figure size 1440x360 with 1 Axes>"
      ]
     },
     "metadata": {},
     "output_type": "display_data"
    }
   ],
   "source": [
    "df_telecom['target'].value_counts().plot(kind='pie', \n",
    "                                         title='Целевой признак: клиент покинул компанию',\n",
    "                                         autopct='%.1f%%',\n",
    "                                         labels=['Нет', 'Да']);"
   ]
  },
  {
   "cell_type": "markdown",
   "metadata": {},
   "source": [
    "Целевой признак распределен неравномерно: остается клиентов больше, чем уходит."
   ]
  },
  {
   "cell_type": "markdown",
   "metadata": {},
   "source": [
    "Построим графики целевого в зависимости от других признаков:"
   ]
  },
  {
   "cell_type": "code",
   "execution_count": 27,
   "metadata": {},
   "outputs": [],
   "source": [
    "def plot_hists(data: pd.DataFrame,\n",
    "               nrow: int, \n",
    "               ncol: int,    \n",
    "               suptitle_: str,\n",
    "               depend: str = 'target',\n",
    "               figsize_: tuple = (20, 30)) -> None:\n",
    "    \n",
    "    fig = plt.figure(figsize=figsize_)\n",
    "    fig.suptitle(suptitle_, fontsize=30)\n",
    "    plt.subplots_adjust(top=0.95, hspace=0.4)\n",
    "    \n",
    "    for i, itm in enumerate(data.columns.drop(depend), 1):\n",
    "        fig.add_subplot(nrow, ncol, i)\n",
    "        sns.histplot(data[[itm, depend]].fillna('NAN Cat'), x=itm, hue=depend, \n",
    "                     alpha=0.4, stat='probability', palette='terrain_r')\n",
    "        plt.xlabel('')\n",
    "        plt.title(itm, fontsize=15)\n",
    "        plt.legend(['Ушел', 'Остался'], loc='upper right')"
   ]
  },
  {
   "cell_type": "code",
   "execution_count": 28,
   "metadata": {
    "scrolled": true
   },
   "outputs": [
    {
     "data": {
      "image/png": "[encoded data removed]",
      "text/plain": [
       "<Figure size 1440x2160 with 17 Axes>"
      ]
     },
     "metadata": {
      "needs_background": "light"
     },
     "output_type": "display_data"
    }
   ],
   "source": [
    "plot_hists(df_telecom.drop(['end_date', 'begin_date'], axis=1),\n",
    "          nrow = 9,\n",
    "          ncol = 2,\n",
    "          suptitle_ = 'Процент ушедших в зависимости от разных параметров')"
   ]
  },
  {
   "cell_type": "markdown",
   "metadata": {},
   "source": [
    "Можно обратить внимание, что для некоторых параметров (например, `gender`) %% ушедших в зависимости от категории не изменяется(что может означать, что признак не значим/мало значим), а для некоторых есть достаточно большие отличия (например, `type`) есть значимые отличия.\n",
    "\n",
    "На данном этапе не будем удалять признаки и посмотрим их \"в деле\"."
   ]
  },
  {
   "cell_type": "markdown",
   "metadata": {},
   "source": [
    "**Обработка признаков:** <br>\n",
    "\n",
    "\n",
    "Пропущенные значения будем обрабатывать с учетом планов построить несколько вариантов моделей:\n",
    "- заполнить пропуски в  дополнительных услугах значением **'No'(0)** и заполнить основные услуги **'Not Used'(-1)**\n",
    "- заполнить все пропуски **'Not Used'(-1)**\n",
    "- не заполнять пропущенные значения (для варианта разбиения на 2 модели)"
   ]
  },
  {
   "cell_type": "markdown",
   "metadata": {},
   "source": [
    "Новые признаки:\n",
    "- количество подключенных услуг\n",
    "- сколько времени клиент в компании\n",
    "- дополнительные - \"дублирующие\" признак `total_charges`, для теста - возможно, они покажут себя лучше при построении модели\n",
    "    - средняя плата: total_charges / \"сколько месяцев клиент в компании\" \n",
    "    - разница средней платы и monthly_charges"
   ]
  },
  {
   "cell_type": "markdown",
   "metadata": {},
   "source": [
    "Все необходимые преобразования типа OHE, OrderEnc будут сделаны в разделе моделирования, в зависимости от модели."
   ]
  },
  {
   "cell_type": "markdown",
   "metadata": {},
   "source": [
    "**Классы для обработки через Pipeline:**"
   ]
  },
  {
   "cell_type": "code",
   "execution_count": 29,
   "metadata": {},
   "outputs": [],
   "source": [
    "class DummyTrans(BaseEstimator, TransformerMixin):\n",
    "    def __init__(self):\n",
    "        return None\n",
    "    \n",
    "    def fit(self, X=None, y=None):\n",
    "        return self\n",
    "    \n",
    "    def transform(self, X=None):\n",
    "        return self"
   ]
  },
  {
   "cell_type": "code",
   "execution_count": 30,
   "metadata": {},
   "outputs": [],
   "source": [
    "#before yesno transform in Pipe\n",
    "class DateDelta(DummyTrans):\n",
    "\n",
    "    def __init__(self, last_date: str = ''):\n",
    "        if last_date:\n",
    "            self.last_date = pd.to_datetime(last_date).normalize()\n",
    "        else:\n",
    "            self.last_date = pd.to_datetime('today').normalize()\n",
    "\n",
    "    def transform(self, X, y=None):\n",
    "        X = X.copy()\n",
    "        #create col if not exist\n",
    "        if 'end_date' not in X:\n",
    "            X['end_date'] = 'No'\n",
    "        #replace 'No' and Nan\n",
    "        X['end_date'] = X['end_date'].apply(pd.to_datetime, errors=\"coerce\").fillna(self.last_date)\n",
    "        X['date_delta'] = np.round((X['end_date'] - pd.to_datetime(X['begin_date'])).dt.days / 30) \n",
    "        X = X.drop(['end_date','begin_date'], axis=1)\n",
    "        return X"
   ]
  },
  {
   "cell_type": "code",
   "execution_count": 31,
   "metadata": {},
   "outputs": [],
   "source": [
    "class ChangeYesNo(DummyTrans):\n",
    "    \n",
    "    def transform(self, X, y=None):\n",
    "        X = X.copy()\n",
    "        X = X.replace(r'^Yes$', 1, regex=True)\n",
    "        X = X.replace(r'^No$', 0, regex=True)\n",
    "        return X"
   ]
  },
  {
   "cell_type": "code",
   "execution_count": 32,
   "metadata": {},
   "outputs": [],
   "source": [
    "class ServiceCount(DummyTrans):\n",
    "    \n",
    "    def __init__(self, service_columns):\n",
    "        self.service_columns = service_columns\n",
    "\n",
    "    def transform(self, X, y=None):\n",
    "        X = X.copy()\n",
    "        X['service_sum'] = X[self.service_columns].sum(axis=1).astype(int)\n",
    "        \n",
    "        X['use_web'] = (X['internet_service'].notna()).astype(int)\n",
    "        return X"
   ]
  },
  {
   "cell_type": "code",
   "execution_count": 33,
   "metadata": {},
   "outputs": [],
   "source": [
    "#after DateDelta in Pipe\n",
    "class AvgCharges(DummyTrans):\n",
    "    \n",
    "    def transform(self, X, y=None):\n",
    "        X = X.copy()\n",
    "        self.avg = np.round(X['total_charges'] / X['date_delta'], 2).fillna(0)\n",
    "        X['delta_charges'] = np.round(X['monthly_charges'] - self.avg, 2)\n",
    "        return X"
   ]
  },
  {
   "cell_type": "code",
   "execution_count": 34,
   "metadata": {},
   "outputs": [],
   "source": [
    "#not SimpleImputer :))\n",
    "class CleverFill(DummyTrans):\n",
    "    \n",
    "    def __init__(self, fill_value, not_clever_cols: list = []):\n",
    "        self.fill_value = fill_value\n",
    "        self.not_clever_cols = not_clever_cols\n",
    "    \n",
    "    def transform(self, X, y=None):\n",
    "        X = X.copy()\n",
    "        if self.not_clever_cols:\n",
    "            X[self.not_clever_cols] = X[self.not_clever_cols].fillna(0)\n",
    "        X = X.apply(lambda x: x.fillna(self.fill_value) if x.dtype.kind in 'biufc' else x.fillna('Not Use'))\n",
    "        #  biufc : b bool, i int (signed), u unsigned int, f float, c complex\n",
    "        return X"
   ]
  },
  {
   "cell_type": "markdown",
   "metadata": {},
   "source": [
    "Классы подготовлены. Выделим колонки дополнительных услуг и напишем Pipeline. <br>\n",
    "Подготовим вариант без заполнения пропусков, будут заполнены чуть позже."
   ]
  },
  {
   "cell_type": "code",
   "execution_count": 35,
   "metadata": {},
   "outputs": [],
   "source": [
    "service_columns = ['online_security', 'online_backup',\n",
    "                   'device_protection', 'tech_support', \n",
    "                   'streaming_tv', 'streaming_movies']"
   ]
  },
  {
   "cell_type": "code",
   "execution_count": 36,
   "metadata": {},
   "outputs": [],
   "source": [
    "prepresessor_pipe = make_pipeline(DateDelta('02-01-2020'),\n",
    "                                  ChangeYesNo(),\n",
    "                                  ServiceCount(service_columns), \n",
    "                                  AvgCharges()\n",
    "                                 )"
   ]
  },
  {
   "cell_type": "code",
   "execution_count": 37,
   "metadata": {},
   "outputs": [
    {
     "name": "stdout",
     "output_type": "stream",
     "text": [
      "<class 'pandas.core.frame.DataFrame'>\n",
      "Index: 7032 entries, 7590-VHVEG to 2569-WGERO\n",
      "Data columns (total 22 columns):\n",
      " #   Column             Non-Null Count  Dtype  \n",
      "---  ------             --------------  -----  \n",
      " 0   internet_service   5512 non-null   object \n",
      " 1   online_security    5512 non-null   float64\n",
      " 2   online_backup      5512 non-null   float64\n",
      " 3   device_protection  5512 non-null   float64\n",
      " 4   tech_support       5512 non-null   float64\n",
      " 5   streaming_tv       5512 non-null   float64\n",
      " 6   streaming_movies   5512 non-null   float64\n",
      " 7   multiple_lines     6352 non-null   float64\n",
      " 8   gender             7032 non-null   object \n",
      " 9   senior_citizen     7032 non-null   int64  \n",
      " 10  partner            7032 non-null   int64  \n",
      " 11  dependents         7032 non-null   int64  \n",
      " 12  type               7032 non-null   object \n",
      " 13  paperless_billing  7032 non-null   int64  \n",
      " 14  payment_method     7032 non-null   object \n",
      " 15  monthly_charges    7032 non-null   float64\n",
      " 16  total_charges      7032 non-null   float64\n",
      " 17  target             7032 non-null   int64  \n",
      " 18  date_delta         7032 non-null   float64\n",
      " 19  service_sum        7032 non-null   int64  \n",
      " 20  use_web            7032 non-null   int64  \n",
      " 21  delta_charges      7032 non-null   float64\n",
      "dtypes: float64(11), int64(7), object(4)\n",
      "memory usage: 1.5+ MB\n"
     ]
    }
   ],
   "source": [
    "df_telecom_adv = prepresessor_pipe.fit_transform(df_telecom)\n",
    "df_telecom_adv.info()"
   ]
  },
  {
   "cell_type": "code",
   "execution_count": 38,
   "metadata": {},
   "outputs": [
    {
     "data": {
      "text/html": [
       "<div>\n",
       "<style scoped>\n",
       "    .dataframe tbody tr th:only-of-type {\n",
       "        vertical-align: middle;\n",
       "    }\n",
       "\n",
       "    .dataframe tbody tr th {\n",
       "        vertical-align: top;\n",
       "    }\n",
       "\n",
       "    .dataframe thead th {\n",
       "        text-align: right;\n",
       "    }\n",
       "</style>\n",
       "<table border=\"1\" class=\"dataframe\">\n",
       "  <thead>\n",
       "    <tr style=\"text-align: right;\">\n",
       "      <th></th>\n",
       "      <th>internet_service</th>\n",
       "      <th>online_security</th>\n",
       "      <th>online_backup</th>\n",
       "      <th>device_protection</th>\n",
       "      <th>tech_support</th>\n",
       "      <th>streaming_tv</th>\n",
       "      <th>streaming_movies</th>\n",
       "      <th>multiple_lines</th>\n",
       "      <th>gender</th>\n",
       "      <th>senior_citizen</th>\n",
       "      <th>...</th>\n",
       "      <th>type</th>\n",
       "      <th>paperless_billing</th>\n",
       "      <th>payment_method</th>\n",
       "      <th>monthly_charges</th>\n",
       "      <th>total_charges</th>\n",
       "      <th>target</th>\n",
       "      <th>date_delta</th>\n",
       "      <th>service_sum</th>\n",
       "      <th>use_web</th>\n",
       "      <th>delta_charges</th>\n",
       "    </tr>\n",
       "    <tr>\n",
       "      <th>customerID</th>\n",
       "      <th></th>\n",
       "      <th></th>\n",
       "      <th></th>\n",
       "      <th></th>\n",
       "      <th></th>\n",
       "      <th></th>\n",
       "      <th></th>\n",
       "      <th></th>\n",
       "      <th></th>\n",
       "      <th></th>\n",
       "      <th></th>\n",
       "      <th></th>\n",
       "      <th></th>\n",
       "      <th></th>\n",
       "      <th></th>\n",
       "      <th></th>\n",
       "      <th></th>\n",
       "      <th></th>\n",
       "      <th></th>\n",
       "      <th></th>\n",
       "      <th></th>\n",
       "    </tr>\n",
       "  </thead>\n",
       "  <tbody>\n",
       "    <tr>\n",
       "      <th>2495-TTHBQ</th>\n",
       "      <td>NaN</td>\n",
       "      <td>NaN</td>\n",
       "      <td>NaN</td>\n",
       "      <td>NaN</td>\n",
       "      <td>NaN</td>\n",
       "      <td>NaN</td>\n",
       "      <td>NaN</td>\n",
       "      <td>0.0</td>\n",
       "      <td>Female</td>\n",
       "      <td>0</td>\n",
       "      <td>...</td>\n",
       "      <td>One year</td>\n",
       "      <td>1</td>\n",
       "      <td>Mailed check</td>\n",
       "      <td>20.4</td>\n",
       "      <td>84.75</td>\n",
       "      <td>0</td>\n",
       "      <td>4.0</td>\n",
       "      <td>0</td>\n",
       "      <td>0</td>\n",
       "      <td>-0.79</td>\n",
       "    </tr>\n",
       "    <tr>\n",
       "      <th>5288-AHOUP</th>\n",
       "      <td>Fiber optic</td>\n",
       "      <td>0.0</td>\n",
       "      <td>0.0</td>\n",
       "      <td>0.0</td>\n",
       "      <td>0.0</td>\n",
       "      <td>0.0</td>\n",
       "      <td>1.0</td>\n",
       "      <td>0.0</td>\n",
       "      <td>Male</td>\n",
       "      <td>1</td>\n",
       "      <td>...</td>\n",
       "      <td>Month-to-month</td>\n",
       "      <td>1</td>\n",
       "      <td>Electronic check</td>\n",
       "      <td>78.5</td>\n",
       "      <td>874.20</td>\n",
       "      <td>0</td>\n",
       "      <td>11.0</td>\n",
       "      <td>1</td>\n",
       "      <td>1</td>\n",
       "      <td>-0.97</td>\n",
       "    </tr>\n",
       "    <tr>\n",
       "      <th>6496-JDSSB</th>\n",
       "      <td>Fiber optic</td>\n",
       "      <td>0.0</td>\n",
       "      <td>0.0</td>\n",
       "      <td>0.0</td>\n",
       "      <td>0.0</td>\n",
       "      <td>1.0</td>\n",
       "      <td>0.0</td>\n",
       "      <td>0.0</td>\n",
       "      <td>Female</td>\n",
       "      <td>0</td>\n",
       "      <td>...</td>\n",
       "      <td>Month-to-month</td>\n",
       "      <td>1</td>\n",
       "      <td>Bank transfer (automatic)</td>\n",
       "      <td>80.0</td>\n",
       "      <td>624.60</td>\n",
       "      <td>0</td>\n",
       "      <td>8.0</td>\n",
       "      <td>1</td>\n",
       "      <td>1</td>\n",
       "      <td>1.92</td>\n",
       "    </tr>\n",
       "  </tbody>\n",
       "</table>\n",
       "<p>3 rows × 22 columns</p>\n",
       "</div>"
      ],
      "text/plain": [
       "           internet_service  online_security  online_backup  \\\n",
       "customerID                                                    \n",
       "2495-TTHBQ              NaN              NaN            NaN   \n",
       "5288-AHOUP      Fiber optic              0.0            0.0   \n",
       "6496-JDSSB      Fiber optic              0.0            0.0   \n",
       "\n",
       "            device_protection  tech_support  streaming_tv  streaming_movies  \\\n",
       "customerID                                                                    \n",
       "2495-TTHBQ                NaN           NaN           NaN               NaN   \n",
       "5288-AHOUP                0.0           0.0           0.0               1.0   \n",
       "6496-JDSSB                0.0           0.0           1.0               0.0   \n",
       "\n",
       "            multiple_lines  gender  senior_citizen  ...            type  \\\n",
       "customerID                                          ...                   \n",
       "2495-TTHBQ             0.0  Female               0  ...        One year   \n",
       "5288-AHOUP             0.0    Male               1  ...  Month-to-month   \n",
       "6496-JDSSB             0.0  Female               0  ...  Month-to-month   \n",
       "\n",
       "            paperless_billing             payment_method  monthly_charges  \\\n",
       "customerID                                                                  \n",
       "2495-TTHBQ                  1               Mailed check             20.4   \n",
       "5288-AHOUP                  1           Electronic check             78.5   \n",
       "6496-JDSSB                  1  Bank transfer (automatic)             80.0   \n",
       "\n",
       "           total_charges  target  date_delta  service_sum  use_web  \\\n",
       "customerID                                                           \n",
       "2495-TTHBQ         84.75       0         4.0            0        0   \n",
       "5288-AHOUP        874.20       0        11.0            1        1   \n",
       "6496-JDSSB        624.60       0         8.0            1        1   \n",
       "\n",
       "            delta_charges  \n",
       "customerID                 \n",
       "2495-TTHBQ          -0.79  \n",
       "5288-AHOUP          -0.97  \n",
       "6496-JDSSB           1.92  \n",
       "\n",
       "[3 rows x 22 columns]"
      ]
     },
     "execution_count": 38,
     "metadata": {},
     "output_type": "execute_result"
    }
   ],
   "source": [
    "df_telecom_adv.sample(3, random_state=RAND)"
   ]
  },
  {
   "cell_type": "markdown",
   "metadata": {},
   "source": [
    "Все хорошо, новые признаки добавлены.\n",
    "\n",
    "Построим графики для добавленных признаков:\n"
   ]
  },
  {
   "cell_type": "code",
   "execution_count": 39,
   "metadata": {
    "scrolled": true
   },
   "outputs": [
    {
     "data": {
      "image/png": "[encoded data removed]",
      "text/plain": [
       "<Figure size 1440x2160 with 4 Axes>"
      ]
     },
     "metadata": {
      "needs_background": "light"
     },
     "output_type": "display_data"
    }
   ],
   "source": [
    "plot_hists(df_telecom_adv[['date_delta', 'service_sum', 'use_web', \n",
    "                           'delta_charges','target']],\n",
    "           nrow = 4,\n",
    "           ncol = 1,\n",
    "           suptitle_ = 'Процент ушедших в зависимости от новых признаков')"
   ]
  },
  {
   "cell_type": "markdown",
   "metadata": {},
   "source": [
    "Новые признаки выглядят достаточно интересно и могут быть полезны при моделировании."
   ]
  },
  {
   "cell_type": "markdown",
   "metadata": {},
   "source": [
    "**Вывод:**  \n",
    "\n",
    "- изучены данные, обнаружен дисбаланс в целевом признаке\n",
    "- удалены строки с аномальными значениями\n",
    "- удалены признаки даты\n",
    "- заменены пропущенные значения\n",
    "- построены новые признаки\n"
   ]
  },
  {
   "cell_type": "markdown",
   "metadata": {},
   "source": [
    "____________________________"
   ]
  },
  {
   "cell_type": "markdown",
   "metadata": {},
   "source": [
    "## Моделирование\n"
   ]
  },
  {
   "cell_type": "markdown",
   "metadata": {},
   "source": [
    "______________________\n",
    "***Используемые функции***"
   ]
  },
  {
   "cell_type": "code",
   "execution_count": 40,
   "metadata": {},
   "outputs": [],
   "source": [
    "def fast_test(data: pd.DataFrame, \n",
    "              cat_features: list[str], \n",
    "              rand_: int = RAND, \n",
    "              plot_: bool = False,\n",
    "              show_importance: bool = False,\n",
    "              **kwargs) -> None:\n",
    "    \n",
    "    # split\n",
    "    train, val = train_test_split(data, test_size=0.25, random_state=rand_, stratify=data['target'])\n",
    "    \n",
    "    \n",
    "    # create train and valid Pool for CatBoostClassifier\n",
    "    train_pool = Pool(\n",
    "        train.drop('target', axis=1),\n",
    "        train['target'],\n",
    "        cat_features = cat_features\n",
    "    )\n",
    "\n",
    "    val_pool = Pool(\n",
    "        val.drop('target', axis=1),\n",
    "        val['target'],\n",
    "        cat_features = cat_features\n",
    "    )\n",
    "    \n",
    "        \n",
    "    # Model and results\n",
    "    fast_model = CatBoostClassifier(random_state=rand_, \n",
    "                                    eval_metric='AUC', \n",
    "                                    **kwargs)   \n",
    " \n",
    "    fast_model.fit(train_pool, \n",
    "                   eval_set=val_pool, \n",
    "                   verbose=False, \n",
    "                   plot=plot_, \n",
    "                   early_stopping_rounds=50)\n",
    "    \n",
    "    print(f'Score = {fast_model.best_score_}')\n",
    "    if show_importance:\n",
    "        display(fast_model.get_feature_importance(prettified=True).head(7))"
   ]
  },
  {
   "cell_type": "code",
   "execution_count": 41,
   "metadata": {},
   "outputs": [],
   "source": [
    "def model_finder(name: str,\n",
    "                 features: pd.DataFrame, \n",
    "                 target: pd.Series, \n",
    "                 estimator: object, \n",
    "                 grid_params: dict = {},\n",
    "                 cv_: int=5, \n",
    "                 scoring_: str = 'roc_auc',\n",
    "                 **kwargs) -> list:\n",
    "    \n",
    "    # griiiid\n",
    "    grid = GridSearchCV(estimator, grid_params, cv=cv_, scoring=scoring_, **kwargs)\n",
    "    grid.fit(features, target)\n",
    "\n",
    "    print(f'Score = {grid.best_score_}')\n",
    "    return [name, grid.best_score_, grid.best_params_, grid.best_estimator_]"
   ]
  },
  {
   "cell_type": "markdown",
   "metadata": {},
   "source": [
    "_______________\n",
    "### Предварительная оценка"
   ]
  },
  {
   "cell_type": "markdown",
   "metadata": {},
   "source": [
    "Т.к. было предположено 3 варианта подготовки данных проведем быструю проверку и выберем наиболее перспективный вариант. Проверку проводим на CatBoost модели без допонительной обработки данных:"
   ]
  },
  {
   "cell_type": "code",
   "execution_count": 42,
   "metadata": {},
   "outputs": [],
   "source": [
    "cat_features = ['type', 'paperless_billing', 'payment_method', \n",
    "               'internet_service', 'online_security', 'online_backup',\n",
    "               'device_protection', 'tech_support', 'streaming_tv', 'streaming_movies',\n",
    "               'gender', 'senior_citizen', 'partner', 'dependents', 'use_web']"
   ]
  },
  {
   "cell_type": "markdown",
   "metadata": {},
   "source": [
    "**Вариант 1:** сделать отдельные модели для пользователей интернета и телефона. Пока проверяем только для пользователей интернета."
   ]
  },
  {
   "cell_type": "code",
   "execution_count": 43,
   "metadata": {},
   "outputs": [],
   "source": [
    "df_inet = df_telecom_adv[df_telecom['internet_service'].notna()]\n",
    "df_inet = df_inet.drop(['multiple_lines'], axis=1)\n",
    "df_inet[service_columns] = df_inet[service_columns].astype('int')"
   ]
  },
  {
   "cell_type": "code",
   "execution_count": 44,
   "metadata": {},
   "outputs": [
    {
     "data": {
      "application/vnd.jupyter.widget-view+json": {
       "model_id": "81b0953e02b6467bb0ff8a46506c1f87",
       "version_major": 2,
       "version_minor": 0
      },
      "text/plain": [
       "MetricVisualizer(layout=Layout(align_self='stretch', height='500px'))"
      ]
     },
     "metadata": {},
     "output_type": "display_data"
    },
    {
     "name": "stdout",
     "output_type": "stream",
     "text": [
      "Score = {'learn': {'Logloss': 0.4083619569836636}, 'validation': {'Logloss': 0.4706182877530223, 'AUC': 0.8238808794311789}}\n",
      "CPU times: user 1.09 s, sys: 63.8 ms, total: 1.15 s\n",
      "Wall time: 1.81 s\n"
     ]
    }
   ],
   "source": [
    "%%time\n",
    "fast_test(df_inet, cat_features, plot_=True)"
   ]
  },
  {
   "cell_type": "markdown",
   "metadata": {},
   "source": [
    "**Вариант 2:** заполнить все пропуски значением -1 или \"Not Use\" (новая категория для всех пропусков)"
   ]
  },
  {
   "cell_type": "code",
   "execution_count": 45,
   "metadata": {},
   "outputs": [],
   "source": [
    "cat_features.append('multiple_lines')\n",
    "df_new_cat = CleverFill(-1).fit_transform(df_telecom_adv)\n",
    "df_new_cat[cat_features] = df_new_cat[cat_features].astype('str')"
   ]
  },
  {
   "cell_type": "code",
   "execution_count": 46,
   "metadata": {},
   "outputs": [
    {
     "data": {
      "application/vnd.jupyter.widget-view+json": {
       "model_id": "492ec087171c48bb8a95d4541ee592e0",
       "version_major": 2,
       "version_minor": 0
      },
      "text/plain": [
       "MetricVisualizer(layout=Layout(align_self='stretch', height='500px'))"
      ]
     },
     "metadata": {},
     "output_type": "display_data"
    },
    {
     "name": "stdout",
     "output_type": "stream",
     "text": [
      "Score = {'learn': {'Logloss': 0.3501085800604245}, 'validation': {'Logloss': 0.40428949045593604, 'AUC': 0.8563353275932705}}\n",
      "CPU times: user 4.37 s, sys: 139 ms, total: 4.51 s\n",
      "Wall time: 5.26 s\n"
     ]
    }
   ],
   "source": [
    "%%time\n",
    "fast_test(df_new_cat, cat_features, plot_=True)"
   ]
  },
  {
   "cell_type": "markdown",
   "metadata": {},
   "source": [
    "**Вариант 3:** заполнить пропуски в дополнительных услугах значением 0, для остальных ввести новую категорию"
   ]
  },
  {
   "cell_type": "code",
   "execution_count": 47,
   "metadata": {},
   "outputs": [],
   "source": [
    "df_zeros = CleverFill(-1, service_columns).fit_transform(df_telecom_adv)\n",
    "df_zeros[cat_features] = df_zeros[cat_features].astype('str')"
   ]
  },
  {
   "cell_type": "code",
   "execution_count": 48,
   "metadata": {},
   "outputs": [
    {
     "data": {
      "application/vnd.jupyter.widget-view+json": {
       "model_id": "d1154d81685e48b68ecd571070870f49",
       "version_major": 2,
       "version_minor": 0
      },
      "text/plain": [
       "MetricVisualizer(layout=Layout(align_self='stretch', height='500px'))"
      ]
     },
     "metadata": {},
     "output_type": "display_data"
    },
    {
     "name": "stdout",
     "output_type": "stream",
     "text": [
      "Score = {'learn': {'Logloss': 0.3588371616473191}, 'validation': {'Logloss': 0.40476829801172215, 'AUC': 0.8555715155325039}}\n",
      "CPU times: user 2.06 s, sys: 64.2 ms, total: 2.12 s\n",
      "Wall time: 2.96 s\n"
     ]
    }
   ],
   "source": [
    "%%time\n",
    "fast_test(df_zeros, cat_features, plot_=True)"
   ]
  },
  {
   "cell_type": "markdown",
   "metadata": {},
   "source": [
    "**Таким образом**, для дальнейшего моделирования выбираем данные из варианта 2.<br>\n",
    "Метрики у вариантов 2 и 3 практически не отличаются, что может косвенно говорить о значимости параметров допонлительных услуг. <br>\n",
    "У 1 варианта метрика хуже и стоит учитывать, что про совмещении моделей может стать еще хуже."
   ]
  },
  {
   "cell_type": "markdown",
   "metadata": {},
   "source": [
    "**Небольшой подбор важности параметров:**"
   ]
  },
  {
   "cell_type": "code",
   "execution_count": 49,
   "metadata": {},
   "outputs": [
    {
     "data": {
      "text/html": [
       "<div>\n",
       "<style scoped>\n",
       "    .dataframe tbody tr th:only-of-type {\n",
       "        vertical-align: middle;\n",
       "    }\n",
       "\n",
       "    .dataframe tbody tr th {\n",
       "        vertical-align: top;\n",
       "    }\n",
       "\n",
       "    .dataframe thead th {\n",
       "        text-align: right;\n",
       "    }\n",
       "</style>\n",
       "<table border=\"1\" class=\"dataframe\">\n",
       "  <thead>\n",
       "    <tr style=\"text-align: right;\">\n",
       "      <th></th>\n",
       "      <th>monthly_charges</th>\n",
       "      <th>total_charges</th>\n",
       "      <th>target</th>\n",
       "      <th>date_delta</th>\n",
       "      <th>service_sum</th>\n",
       "      <th>delta_charges</th>\n",
       "    </tr>\n",
       "  </thead>\n",
       "  <tbody>\n",
       "    <tr>\n",
       "      <th>monthly_charges</th>\n",
       "      <td>1.000000</td>\n",
       "      <td>0.651065</td>\n",
       "      <td>0.192858</td>\n",
       "      <td>0.246516</td>\n",
       "      <td>0.724768</td>\n",
       "      <td>0.147786</td>\n",
       "    </tr>\n",
       "    <tr>\n",
       "      <th>total_charges</th>\n",
       "      <td>0.651065</td>\n",
       "      <td>1.000000</td>\n",
       "      <td>-0.199484</td>\n",
       "      <td>0.825636</td>\n",
       "      <td>0.746101</td>\n",
       "      <td>0.202915</td>\n",
       "    </tr>\n",
       "    <tr>\n",
       "      <th>target</th>\n",
       "      <td>0.192858</td>\n",
       "      <td>-0.199484</td>\n",
       "      <td>1.000000</td>\n",
       "      <td>-0.354050</td>\n",
       "      <td>-0.087882</td>\n",
       "      <td>-0.053987</td>\n",
       "    </tr>\n",
       "    <tr>\n",
       "      <th>date_delta</th>\n",
       "      <td>0.246516</td>\n",
       "      <td>0.825636</td>\n",
       "      <td>-0.354050</td>\n",
       "      <td>1.000000</td>\n",
       "      <td>0.494920</td>\n",
       "      <td>0.192332</td>\n",
       "    </tr>\n",
       "    <tr>\n",
       "      <th>service_sum</th>\n",
       "      <td>0.724768</td>\n",
       "      <td>0.746101</td>\n",
       "      <td>-0.087882</td>\n",
       "      <td>0.494920</td>\n",
       "      <td>1.000000</td>\n",
       "      <td>0.159864</td>\n",
       "    </tr>\n",
       "    <tr>\n",
       "      <th>delta_charges</th>\n",
       "      <td>0.147786</td>\n",
       "      <td>0.202915</td>\n",
       "      <td>-0.053987</td>\n",
       "      <td>0.192332</td>\n",
       "      <td>0.159864</td>\n",
       "      <td>1.000000</td>\n",
       "    </tr>\n",
       "  </tbody>\n",
       "</table>\n",
       "</div>"
      ],
      "text/plain": [
       "                 monthly_charges  total_charges    target  date_delta  \\\n",
       "monthly_charges         1.000000       0.651065  0.192858    0.246516   \n",
       "total_charges           0.651065       1.000000 -0.199484    0.825636   \n",
       "target                  0.192858      -0.199484  1.000000   -0.354050   \n",
       "date_delta              0.246516       0.825636 -0.354050    1.000000   \n",
       "service_sum             0.724768       0.746101 -0.087882    0.494920   \n",
       "delta_charges           0.147786       0.202915 -0.053987    0.192332   \n",
       "\n",
       "                 service_sum  delta_charges  \n",
       "monthly_charges     0.724768       0.147786  \n",
       "total_charges       0.746101       0.202915  \n",
       "target             -0.087882      -0.053987  \n",
       "date_delta          0.494920       0.192332  \n",
       "service_sum         1.000000       0.159864  \n",
       "delta_charges       0.159864       1.000000  "
      ]
     },
     "execution_count": 49,
     "metadata": {},
     "output_type": "execute_result"
    }
   ],
   "source": [
    "df_new_cat.corr()"
   ]
  },
  {
   "cell_type": "code",
   "execution_count": 50,
   "metadata": {},
   "outputs": [
    {
     "name": "stdout",
     "output_type": "stream",
     "text": [
      "Score = {'learn': {'Logloss': 0.3536970110025576}, 'validation': {'Logloss': 0.40618542545044817, 'AUC': 0.8546136404725848}}\n"
     ]
    },
    {
     "data": {
      "text/html": [
       "<div>\n",
       "<style scoped>\n",
       "    .dataframe tbody tr th:only-of-type {\n",
       "        vertical-align: middle;\n",
       "    }\n",
       "\n",
       "    .dataframe tbody tr th {\n",
       "        vertical-align: top;\n",
       "    }\n",
       "\n",
       "    .dataframe thead th {\n",
       "        text-align: right;\n",
       "    }\n",
       "</style>\n",
       "<table border=\"1\" class=\"dataframe\">\n",
       "  <thead>\n",
       "    <tr style=\"text-align: right;\">\n",
       "      <th></th>\n",
       "      <th>Feature Id</th>\n",
       "      <th>Importances</th>\n",
       "    </tr>\n",
       "  </thead>\n",
       "  <tbody>\n",
       "    <tr>\n",
       "      <th>0</th>\n",
       "      <td>date_delta</td>\n",
       "      <td>21.166637</td>\n",
       "    </tr>\n",
       "    <tr>\n",
       "      <th>1</th>\n",
       "      <td>type</td>\n",
       "      <td>16.840491</td>\n",
       "    </tr>\n",
       "    <tr>\n",
       "      <th>2</th>\n",
       "      <td>internet_service</td>\n",
       "      <td>13.645105</td>\n",
       "    </tr>\n",
       "    <tr>\n",
       "      <th>3</th>\n",
       "      <td>payment_method</td>\n",
       "      <td>6.299884</td>\n",
       "    </tr>\n",
       "    <tr>\n",
       "      <th>4</th>\n",
       "      <td>delta_charges</td>\n",
       "      <td>6.249984</td>\n",
       "    </tr>\n",
       "    <tr>\n",
       "      <th>5</th>\n",
       "      <td>multiple_lines</td>\n",
       "      <td>5.546510</td>\n",
       "    </tr>\n",
       "    <tr>\n",
       "      <th>6</th>\n",
       "      <td>online_security</td>\n",
       "      <td>5.341254</td>\n",
       "    </tr>\n",
       "  </tbody>\n",
       "</table>\n",
       "</div>"
      ],
      "text/plain": [
       "         Feature Id  Importances\n",
       "0        date_delta    21.166637\n",
       "1              type    16.840491\n",
       "2  internet_service    13.645105\n",
       "3    payment_method     6.299884\n",
       "4     delta_charges     6.249984\n",
       "5    multiple_lines     5.546510\n",
       "6   online_security     5.341254"
      ]
     },
     "metadata": {},
     "output_type": "display_data"
    },
    {
     "name": "stdout",
     "output_type": "stream",
     "text": [
      "\n",
      "__________\n",
      "Score = {'learn': {'Logloss': 0.3577694183026084}, 'validation': {'Logloss': 0.4037224041137042, 'AUC': 0.8569034179967723}}\n"
     ]
    },
    {
     "data": {
      "text/html": [
       "<div>\n",
       "<style scoped>\n",
       "    .dataframe tbody tr th:only-of-type {\n",
       "        vertical-align: middle;\n",
       "    }\n",
       "\n",
       "    .dataframe tbody tr th {\n",
       "        vertical-align: top;\n",
       "    }\n",
       "\n",
       "    .dataframe thead th {\n",
       "        text-align: right;\n",
       "    }\n",
       "</style>\n",
       "<table border=\"1\" class=\"dataframe\">\n",
       "  <thead>\n",
       "    <tr style=\"text-align: right;\">\n",
       "      <th></th>\n",
       "      <th>Feature Id</th>\n",
       "      <th>Importances</th>\n",
       "    </tr>\n",
       "  </thead>\n",
       "  <tbody>\n",
       "    <tr>\n",
       "      <th>0</th>\n",
       "      <td>type</td>\n",
       "      <td>19.464814</td>\n",
       "    </tr>\n",
       "    <tr>\n",
       "      <th>1</th>\n",
       "      <td>date_delta</td>\n",
       "      <td>19.133720</td>\n",
       "    </tr>\n",
       "    <tr>\n",
       "      <th>2</th>\n",
       "      <td>monthly_charges</td>\n",
       "      <td>9.325510</td>\n",
       "    </tr>\n",
       "    <tr>\n",
       "      <th>3</th>\n",
       "      <td>multiple_lines</td>\n",
       "      <td>6.323402</td>\n",
       "    </tr>\n",
       "    <tr>\n",
       "      <th>4</th>\n",
       "      <td>tech_support</td>\n",
       "      <td>5.965732</td>\n",
       "    </tr>\n",
       "    <tr>\n",
       "      <th>5</th>\n",
       "      <td>internet_service</td>\n",
       "      <td>5.697742</td>\n",
       "    </tr>\n",
       "    <tr>\n",
       "      <th>6</th>\n",
       "      <td>delta_charges</td>\n",
       "      <td>5.388442</td>\n",
       "    </tr>\n",
       "  </tbody>\n",
       "</table>\n",
       "</div>"
      ],
      "text/plain": [
       "         Feature Id  Importances\n",
       "0              type    19.464814\n",
       "1        date_delta    19.133720\n",
       "2   monthly_charges     9.325510\n",
       "3    multiple_lines     6.323402\n",
       "4      tech_support     5.965732\n",
       "5  internet_service     5.697742\n",
       "6     delta_charges     5.388442"
      ]
     },
     "metadata": {},
     "output_type": "display_data"
    }
   ],
   "source": [
    "fast_test(df_new_cat, cat_features, show_importance=True, \n",
    "              ignored_features=['total_charges', 'monthly_charges'])\n",
    "print('\\n__________')\n",
    "fast_test(df_new_cat, cat_features, show_importance=True, \n",
    "              ignored_features=['total_charges', 'service_sum'])"
   ]
  },
  {
   "cell_type": "markdown",
   "metadata": {},
   "source": [
    "**Таким образом**, уберем 'total_charges', 'service_sum'"
   ]
  },
  {
   "cell_type": "markdown",
   "metadata": {},
   "source": [
    "___________________________________________\n",
    "### Построение моделей"
   ]
  },
  {
   "cell_type": "markdown",
   "metadata": {},
   "source": [
    "Отделим выборку для теста:"
   ]
  },
  {
   "cell_type": "code",
   "execution_count": 51,
   "metadata": {},
   "outputs": [],
   "source": [
    "train, test = train_test_split(df_new_cat, \n",
    "                               test_size=0.25, \n",
    "                               random_state=RAND, \n",
    "                               stratify=df_new_cat['target'])"
   ]
  },
  {
   "cell_type": "code",
   "execution_count": 52,
   "metadata": {},
   "outputs": [],
   "source": [
    "X_train = train.drop(['target', 'total_charges', 'service_sum'], axis=1)\n",
    "y_train = train['target']"
   ]
  },
  {
   "cell_type": "markdown",
   "metadata": {},
   "source": [
    "Будем строить модели:\n",
    "\n",
    "- LogisticRegression\n",
    "- RandomForestClassifier\n",
    "- CatBoostClassifier\n",
    "- KNeighborsClassifier\n",
    "- StackingClassifier и VotingClassifier\n",
    "\n",
    "Т.к. целевой признак несбалансирован, для некоторых моделей попробуем SMOTE.  \n",
    "Для разных моделей понадобится разная предобработка данных, OHE и Ordinal."
   ]
  },
  {
   "cell_type": "code",
   "execution_count": 53,
   "metadata": {},
   "outputs": [],
   "source": [
    "ohe = make_column_transformer((StandardScaler(), make_column_selector(dtype_include=np.number)),\n",
    "                              (OneHotEncoder(drop='first', handle_unknown='ignore'), cat_features), \n",
    "                              remainder='passthrough')"
   ]
  },
  {
   "cell_type": "code",
   "execution_count": 54,
   "metadata": {},
   "outputs": [],
   "source": [
    "ordinal = make_column_transformer((OrdinalEncoder(handle_unknown='use_encoded_value', \n",
    "                                                  unknown_value=-1), cat_features), \n",
    "                                  remainder='passthrough')"
   ]
  },
  {
   "cell_type": "code",
   "execution_count": 55,
   "metadata": {},
   "outputs": [],
   "source": [
    "models = []"
   ]
  },
  {
   "cell_type": "markdown",
   "metadata": {},
   "source": [
    "**LogisticRegression:**\n",
    "- ohe\n",
    "- ohe + SMOTE"
   ]
  },
  {
   "cell_type": "code",
   "execution_count": 56,
   "metadata": {},
   "outputs": [],
   "source": [
    "# params for grid\n",
    "lr_params = {'model__max_iter': [200, 500],\n",
    "             'model__solver': ['liblinear', 'lbfgs'],\n",
    "             'model__C': [1, 5, 15]\n",
    "}"
   ]
  },
  {
   "cell_type": "code",
   "execution_count": 57,
   "metadata": {},
   "outputs": [
    {
     "name": "stdout",
     "output_type": "stream",
     "text": [
      "Score = 0.8406952349000656\n",
      "CPU times: user 15.6 s, sys: 25.3 s, total: 40.8 s\n",
      "Wall time: 40.8 s\n"
     ]
    }
   ],
   "source": [
    "%%time\n",
    "lr_model = Pipeline([('prep', ohe), \n",
    "                     ('model', LogisticRegression(random_state=RAND))])\n",
    "\n",
    "models.append(model_finder('LogReg', X_train, y_train, lr_model, lr_params))"
   ]
  },
  {
   "cell_type": "code",
   "execution_count": 58,
   "metadata": {},
   "outputs": [
    {
     "name": "stdout",
     "output_type": "stream",
     "text": [
      "Score = 0.8397999288290128\n",
      "CPU times: user 22 s, sys: 35.7 s, total: 57.7 s\n",
      "Wall time: 58.3 s\n"
     ]
    }
   ],
   "source": [
    "%%time\n",
    "lr_model_smote = Pipeline([('prep', ohe),\n",
    "                           ('SMOTE', SMOTE(random_state=RAND)),\n",
    "                           ('model', LogisticRegression(random_state=RAND))])\n",
    "\n",
    "models.append(model_finder('LogRegSM', X_train, y_train, lr_model_smote, lr_params))"
   ]
  },
  {
   "cell_type": "markdown",
   "metadata": {},
   "source": [
    "**RandomForestClassifier**\n",
    "- ordinal\n",
    "- ordinal + SMOTE"
   ]
  },
  {
   "cell_type": "code",
   "execution_count": 59,
   "metadata": {},
   "outputs": [],
   "source": [
    "rfc_params = {\n",
    "    'model__n_estimators' : [300, 1000],\n",
    "    'model__max_depth': [5, 15],\n",
    "    'model__min_samples_split': [50, 100]    \n",
    "}"
   ]
  },
  {
   "cell_type": "code",
   "execution_count": 60,
   "metadata": {},
   "outputs": [
    {
     "name": "stdout",
     "output_type": "stream",
     "text": [
      "Score = 0.8431993994177243\n",
      "CPU times: user 1min 28s, sys: 1.39 s, total: 1min 30s\n",
      "Wall time: 1min 30s\n"
     ]
    }
   ],
   "source": [
    "%%time\n",
    "rfc_model =  Pipeline([('prep', ordinal), \n",
    "                       ('model',RandomForestClassifier(random_state=RAND))])\n",
    "\n",
    "models.append(model_finder('RForest', X_train, y_train, rfc_model, rfc_params))"
   ]
  },
  {
   "cell_type": "code",
   "execution_count": 61,
   "metadata": {},
   "outputs": [
    {
     "name": "stdout",
     "output_type": "stream",
     "text": [
      "Score = 0.8396724383773456\n",
      "CPU times: user 2min 24s, sys: 1.08 s, total: 2min 25s\n",
      "Wall time: 2min 26s\n"
     ]
    }
   ],
   "source": [
    "%%time\n",
    "rfc_model_smote =  Pipeline([('prep', ordinal), \n",
    "                             ('SMOTE', SMOTE(random_state=RAND)),\n",
    "                             ('model',RandomForestClassifier(random_state=RAND))])\n",
    "\n",
    "models.append(model_finder('RForestSM', X_train, y_train, rfc_model_smote, rfc_params))"
   ]
  },
  {
   "cell_type": "markdown",
   "metadata": {},
   "source": [
    "**KNeighborsClassifier**"
   ]
  },
  {
   "cell_type": "code",
   "execution_count": 62,
   "metadata": {},
   "outputs": [],
   "source": [
    "knn_params = {\n",
    "    'model__n_neighbors': [5, 50, 70],\n",
    "    'model__leaf_size': [1, 5]\n",
    "}"
   ]
  },
  {
   "cell_type": "code",
   "execution_count": 63,
   "metadata": {},
   "outputs": [
    {
     "name": "stdout",
     "output_type": "stream",
     "text": [
      "Score = 0.8306352351687313\n",
      "CPU times: user 3.07 s, sys: 23.2 ms, total: 3.09 s\n",
      "Wall time: 3.1 s\n"
     ]
    }
   ],
   "source": [
    "%%time\n",
    "knn_model = Pipeline([('prep', ohe), \n",
    "                     ('model', KNeighborsClassifier())])\n",
    "\n",
    "models.append(model_finder('KNN', X_train, y_train, knn_model, knn_params))"
   ]
  },
  {
   "cell_type": "markdown",
   "metadata": {},
   "source": [
    "**CatBoost**"
   ]
  },
  {
   "cell_type": "markdown",
   "metadata": {},
   "source": [
    "У CatBoost есть свой grid_search (с красивыми графиками :)), но для единообразия воспользуемся sklearn."
   ]
  },
  {
   "cell_type": "code",
   "execution_count": 64,
   "metadata": {},
   "outputs": [],
   "source": [
    "cat_params = {\n",
    "    'eta': [0.03, 0.07],\n",
    "    'l2_leaf_reg': [5, 20],\n",
    "    'iterations': [300, 400]\n",
    "}"
   ]
  },
  {
   "cell_type": "code",
   "execution_count": 65,
   "metadata": {},
   "outputs": [],
   "source": [
    "cat_model = CatBoostClassifier(random_state=RAND, \n",
    "                               cat_features=cat_features,\n",
    "                               verbose=False, \n",
    "                               eval_metric='AUC',                     \n",
    "                               min_data_in_leaf=50,\n",
    "                               subsample=0.6,\n",
    "                               eta=0.03,\n",
    "                               boosting_type='Ordered'\n",
    "                              )"
   ]
  },
  {
   "cell_type": "code",
   "execution_count": 66,
   "metadata": {},
   "outputs": [
    {
     "name": "stdout",
     "output_type": "stream",
     "text": [
      "Score = 0.847495006420164\n"
     ]
    }
   ],
   "source": [
    "models.append(model_finder('Cat', X_train, y_train, cat_model, cat_params, cv_=3))"
   ]
  },
  {
   "cell_type": "markdown",
   "metadata": {},
   "source": [
    "Посмотрим получившиеся результаты:"
   ]
  },
  {
   "cell_type": "code",
   "execution_count": 67,
   "metadata": {},
   "outputs": [
    {
     "data": {
      "text/html": [
       "<div>\n",
       "<style scoped>\n",
       "    .dataframe tbody tr th:only-of-type {\n",
       "        vertical-align: middle;\n",
       "    }\n",
       "\n",
       "    .dataframe tbody tr th {\n",
       "        vertical-align: top;\n",
       "    }\n",
       "\n",
       "    .dataframe thead th {\n",
       "        text-align: right;\n",
       "    }\n",
       "</style>\n",
       "<table border=\"1\" class=\"dataframe\">\n",
       "  <thead>\n",
       "    <tr style=\"text-align: right;\">\n",
       "      <th></th>\n",
       "      <th>0</th>\n",
       "      <th>1</th>\n",
       "      <th>2</th>\n",
       "      <th>3</th>\n",
       "    </tr>\n",
       "  </thead>\n",
       "  <tbody>\n",
       "    <tr>\n",
       "      <th>0</th>\n",
       "      <td>LogReg</td>\n",
       "      <td>0.840695</td>\n",
       "      <td>{'model__C': 15, 'model__max_iter': 200, 'mode...</td>\n",
       "      <td>(ColumnTransformer(remainder='passthrough',\\n ...</td>\n",
       "    </tr>\n",
       "    <tr>\n",
       "      <th>1</th>\n",
       "      <td>LogRegSM</td>\n",
       "      <td>0.839800</td>\n",
       "      <td>{'model__C': 15, 'model__max_iter': 200, 'mode...</td>\n",
       "      <td>(ColumnTransformer(remainder='passthrough',\\n ...</td>\n",
       "    </tr>\n",
       "    <tr>\n",
       "      <th>2</th>\n",
       "      <td>RForest</td>\n",
       "      <td>0.843199</td>\n",
       "      <td>{'model__max_depth': 15, 'model__min_samples_s...</td>\n",
       "      <td>(ColumnTransformer(remainder='passthrough',\\n ...</td>\n",
       "    </tr>\n",
       "    <tr>\n",
       "      <th>3</th>\n",
       "      <td>RForestSM</td>\n",
       "      <td>0.839672</td>\n",
       "      <td>{'model__max_depth': 15, 'model__min_samples_s...</td>\n",
       "      <td>(ColumnTransformer(remainder='passthrough',\\n ...</td>\n",
       "    </tr>\n",
       "    <tr>\n",
       "      <th>4</th>\n",
       "      <td>KNN</td>\n",
       "      <td>0.830635</td>\n",
       "      <td>{'model__leaf_size': 1, 'model__n_neighbors': 70}</td>\n",
       "      <td>(ColumnTransformer(remainder='passthrough',\\n ...</td>\n",
       "    </tr>\n",
       "    <tr>\n",
       "      <th>5</th>\n",
       "      <td>Cat</td>\n",
       "      <td>0.847495</td>\n",
       "      <td>{'eta': 0.03, 'iterations': 400, 'l2_leaf_reg'...</td>\n",
       "      <td>&lt;catboost.core.CatBoostClassifier object at 0x...</td>\n",
       "    </tr>\n",
       "  </tbody>\n",
       "</table>\n",
       "</div>"
      ],
      "text/plain": [
       "           0         1                                                  2  \\\n",
       "0     LogReg  0.840695  {'model__C': 15, 'model__max_iter': 200, 'mode...   \n",
       "1   LogRegSM  0.839800  {'model__C': 15, 'model__max_iter': 200, 'mode...   \n",
       "2    RForest  0.843199  {'model__max_depth': 15, 'model__min_samples_s...   \n",
       "3  RForestSM  0.839672  {'model__max_depth': 15, 'model__min_samples_s...   \n",
       "4        KNN  0.830635  {'model__leaf_size': 1, 'model__n_neighbors': 70}   \n",
       "5        Cat  0.847495  {'eta': 0.03, 'iterations': 400, 'l2_leaf_reg'...   \n",
       "\n",
       "                                                   3  \n",
       "0  (ColumnTransformer(remainder='passthrough',\\n ...  \n",
       "1  (ColumnTransformer(remainder='passthrough',\\n ...  \n",
       "2  (ColumnTransformer(remainder='passthrough',\\n ...  \n",
       "3  (ColumnTransformer(remainder='passthrough',\\n ...  \n",
       "4  (ColumnTransformer(remainder='passthrough',\\n ...  \n",
       "5  <catboost.core.CatBoostClassifier object at 0x...  "
      ]
     },
     "execution_count": 67,
     "metadata": {},
     "output_type": "execute_result"
    }
   ],
   "source": [
    "pd.DataFrame(models)"
   ]
  },
  {
   "cell_type": "markdown",
   "metadata": {},
   "source": [
    "SMOTE не оказывает особого влияния."
   ]
  },
  {
   "cell_type": "markdown",
   "metadata": {},
   "source": [
    "**VotingClassifier и StackingClassifier**"
   ]
  },
  {
   "cell_type": "markdown",
   "metadata": {},
   "source": [
    "Для этих моделей не будет подбирать гиперпараметры. Для \"базы\" возьмем 3 лучшие модели:"
   ]
  },
  {
   "cell_type": "code",
   "execution_count": 68,
   "metadata": {},
   "outputs": [
    {
     "data": {
      "text/html": [
       "<div>\n",
       "<style scoped>\n",
       "    .dataframe tbody tr th:only-of-type {\n",
       "        vertical-align: middle;\n",
       "    }\n",
       "\n",
       "    .dataframe tbody tr th {\n",
       "        vertical-align: top;\n",
       "    }\n",
       "\n",
       "    .dataframe thead th {\n",
       "        text-align: right;\n",
       "    }\n",
       "</style>\n",
       "<table border=\"1\" class=\"dataframe\">\n",
       "  <thead>\n",
       "    <tr style=\"text-align: right;\">\n",
       "      <th></th>\n",
       "      <th>0</th>\n",
       "      <th>1</th>\n",
       "    </tr>\n",
       "  </thead>\n",
       "  <tbody>\n",
       "    <tr>\n",
       "      <th>0</th>\n",
       "      <td>LogReg</td>\n",
       "      <td>(ColumnTransformer(remainder='passthrough',\\n ...</td>\n",
       "    </tr>\n",
       "    <tr>\n",
       "      <th>1</th>\n",
       "      <td>RForest</td>\n",
       "      <td>(ColumnTransformer(remainder='passthrough',\\n ...</td>\n",
       "    </tr>\n",
       "    <tr>\n",
       "      <th>2</th>\n",
       "      <td>Cat</td>\n",
       "      <td>&lt;catboost.core.CatBoostClassifier object at 0x...</td>\n",
       "    </tr>\n",
       "  </tbody>\n",
       "</table>\n",
       "</div>"
      ],
      "text/plain": [
       "         0                                                  1\n",
       "0   LogReg  (ColumnTransformer(remainder='passthrough',\\n ...\n",
       "1  RForest  (ColumnTransformer(remainder='passthrough',\\n ...\n",
       "2      Cat  <catboost.core.CatBoostClassifier object at 0x..."
      ]
     },
     "execution_count": 68,
     "metadata": {},
     "output_type": "execute_result"
    }
   ],
   "source": [
    "estimators = [(itm[0], itm[3]) for i, itm in enumerate(models) if i in[0, 2, 5]]\n",
    "pd.DataFrame(estimators)"
   ]
  },
  {
   "cell_type": "code",
   "execution_count": 69,
   "metadata": {},
   "outputs": [],
   "source": [
    "vot_model = VotingClassifier(estimators=estimators, voting='soft')"
   ]
  },
  {
   "cell_type": "code",
   "execution_count": 70,
   "metadata": {},
   "outputs": [
    {
     "name": "stdout",
     "output_type": "stream",
     "text": [
      "Score = 0.847173341520211\n",
      "CPU times: user 33.9 s, sys: 9.82 s, total: 43.8 s\n",
      "Wall time: 45.7 s\n"
     ]
    }
   ],
   "source": [
    "%%time\n",
    "models.append(model_finder('Vot', X_train, y_train, vot_model, cv_=3))"
   ]
  },
  {
   "cell_type": "code",
   "execution_count": 71,
   "metadata": {},
   "outputs": [],
   "source": [
    "st_model = StackingClassifier(estimators=estimators, \n",
    "                              final_estimator=LogisticRegression(random_state=RAND, max_iter=500))"
   ]
  },
  {
   "cell_type": "code",
   "execution_count": 72,
   "metadata": {},
   "outputs": [
    {
     "name": "stdout",
     "output_type": "stream",
     "text": [
      "Score = 0.8473611810769013\n",
      "CPU times: user 3min 13s, sys: 1min 3s, total: 4min 16s\n",
      "Wall time: 4min 30s\n"
     ]
    }
   ],
   "source": [
    "%%time\n",
    "models.append(model_finder('Stack', X_train, y_train, st_model, cv_=3))"
   ]
  },
  {
   "cell_type": "markdown",
   "metadata": {},
   "source": [
    "**Результаты**"
   ]
  },
  {
   "cell_type": "code",
   "execution_count": 73,
   "metadata": {},
   "outputs": [
    {
     "data": {
      "text/html": [
       "<div>\n",
       "<style scoped>\n",
       "    .dataframe tbody tr th:only-of-type {\n",
       "        vertical-align: middle;\n",
       "    }\n",
       "\n",
       "    .dataframe tbody tr th {\n",
       "        vertical-align: top;\n",
       "    }\n",
       "\n",
       "    .dataframe thead th {\n",
       "        text-align: right;\n",
       "    }\n",
       "</style>\n",
       "<table border=\"1\" class=\"dataframe\">\n",
       "  <thead>\n",
       "    <tr style=\"text-align: right;\">\n",
       "      <th></th>\n",
       "      <th>name</th>\n",
       "      <th>roc_auc</th>\n",
       "      <th>best_params</th>\n",
       "      <th>model</th>\n",
       "    </tr>\n",
       "  </thead>\n",
       "  <tbody>\n",
       "    <tr>\n",
       "      <th>0</th>\n",
       "      <td>LogReg</td>\n",
       "      <td>0.840695</td>\n",
       "      <td>{'model__C': 15, 'model__max_iter': 200, 'mode...</td>\n",
       "      <td>(ColumnTransformer(remainder='passthrough',\\n ...</td>\n",
       "    </tr>\n",
       "    <tr>\n",
       "      <th>1</th>\n",
       "      <td>LogRegSM</td>\n",
       "      <td>0.839800</td>\n",
       "      <td>{'model__C': 15, 'model__max_iter': 200, 'mode...</td>\n",
       "      <td>(ColumnTransformer(remainder='passthrough',\\n ...</td>\n",
       "    </tr>\n",
       "    <tr>\n",
       "      <th>2</th>\n",
       "      <td>RForest</td>\n",
       "      <td>0.843199</td>\n",
       "      <td>{'model__max_depth': 15, 'model__min_samples_s...</td>\n",
       "      <td>(ColumnTransformer(remainder='passthrough',\\n ...</td>\n",
       "    </tr>\n",
       "    <tr>\n",
       "      <th>3</th>\n",
       "      <td>RForestSM</td>\n",
       "      <td>0.839672</td>\n",
       "      <td>{'model__max_depth': 15, 'model__min_samples_s...</td>\n",
       "      <td>(ColumnTransformer(remainder='passthrough',\\n ...</td>\n",
       "    </tr>\n",
       "    <tr>\n",
       "      <th>4</th>\n",
       "      <td>KNN</td>\n",
       "      <td>0.830635</td>\n",
       "      <td>{'model__leaf_size': 1, 'model__n_neighbors': 70}</td>\n",
       "      <td>(ColumnTransformer(remainder='passthrough',\\n ...</td>\n",
       "    </tr>\n",
       "    <tr>\n",
       "      <th>5</th>\n",
       "      <td>Cat</td>\n",
       "      <td>0.847495</td>\n",
       "      <td>{'eta': 0.03, 'iterations': 400, 'l2_leaf_reg'...</td>\n",
       "      <td>&lt;catboost.core.CatBoostClassifier object at 0x...</td>\n",
       "    </tr>\n",
       "    <tr>\n",
       "      <th>6</th>\n",
       "      <td>Vot</td>\n",
       "      <td>0.847173</td>\n",
       "      <td>{}</td>\n",
       "      <td>VotingClassifier(estimators=[('LogReg',\\n     ...</td>\n",
       "    </tr>\n",
       "    <tr>\n",
       "      <th>7</th>\n",
       "      <td>Stack</td>\n",
       "      <td>0.847361</td>\n",
       "      <td>{}</td>\n",
       "      <td>StackingClassifier(estimators=[('LogReg',\\n   ...</td>\n",
       "    </tr>\n",
       "  </tbody>\n",
       "</table>\n",
       "</div>"
      ],
      "text/plain": [
       "        name   roc_auc                                        best_params  \\\n",
       "0     LogReg  0.840695  {'model__C': 15, 'model__max_iter': 200, 'mode...   \n",
       "1   LogRegSM  0.839800  {'model__C': 15, 'model__max_iter': 200, 'mode...   \n",
       "2    RForest  0.843199  {'model__max_depth': 15, 'model__min_samples_s...   \n",
       "3  RForestSM  0.839672  {'model__max_depth': 15, 'model__min_samples_s...   \n",
       "4        KNN  0.830635  {'model__leaf_size': 1, 'model__n_neighbors': 70}   \n",
       "5        Cat  0.847495  {'eta': 0.03, 'iterations': 400, 'l2_leaf_reg'...   \n",
       "6        Vot  0.847173                                                 {}   \n",
       "7      Stack  0.847361                                                 {}   \n",
       "\n",
       "                                               model  \n",
       "0  (ColumnTransformer(remainder='passthrough',\\n ...  \n",
       "1  (ColumnTransformer(remainder='passthrough',\\n ...  \n",
       "2  (ColumnTransformer(remainder='passthrough',\\n ...  \n",
       "3  (ColumnTransformer(remainder='passthrough',\\n ...  \n",
       "4  (ColumnTransformer(remainder='passthrough',\\n ...  \n",
       "5  <catboost.core.CatBoostClassifier object at 0x...  \n",
       "6  VotingClassifier(estimators=[('LogReg',\\n     ...  \n",
       "7  StackingClassifier(estimators=[('LogReg',\\n   ...  "
      ]
     },
     "execution_count": 73,
     "metadata": {},
     "output_type": "execute_result"
    }
   ],
   "source": [
    "pd.DataFrame(models, columns=['name', 'roc_auc', 'best_params', 'model'])"
   ]
  },
  {
   "cell_type": "markdown",
   "metadata": {},
   "source": [
    "**Вывод:**\n",
    "Были рассмотрены несколько вариантов моделей. Использовались обычные несбалансированные данные и данные со SMOTE. Практически все модели показали хорошие результаты.\n",
    "\n",
    "Лучший вариант на кроссвалидации показал CatBoost. Выбираем эту модель для тестирования."
   ]
  },
  {
   "cell_type": "markdown",
   "metadata": {},
   "source": [
    "## Тестирование"
   ]
  },
  {
   "cell_type": "markdown",
   "metadata": {},
   "source": [
    "Подготовим модель и данные:"
   ]
  },
  {
   "cell_type": "code",
   "execution_count": 74,
   "metadata": {},
   "outputs": [],
   "source": [
    "final_model = models[5][3]\n",
    "X_test = test.drop(['target', 'total_charges', 'service_sum'], axis=1)\n",
    "y_test = test['target']"
   ]
  },
  {
   "cell_type": "markdown",
   "metadata": {},
   "source": [
    "**Проверка на адекватность**"
   ]
  },
  {
   "cell_type": "markdown",
   "metadata": {},
   "source": [
    "Сравним с наивной моделью. Стратегии типа most_frequent ожидаемо вернут 0.5 ROC-AUC, проверим на стратифицированной. "
   ]
  },
  {
   "cell_type": "code",
   "execution_count": 75,
   "metadata": {},
   "outputs": [
    {
     "name": "stdout",
     "output_type": "stream",
     "text": [
      "ROC-AUC 0.5078014984317387\n"
     ]
    }
   ],
   "source": [
    "dm_model = DummyClassifier(random_state=RAND, strategy='stratified').fit(X_train, y_train)\n",
    "print(f'ROC-AUC {roc_auc_score(y_test, dm_model.predict_proba(X_test)[:,1])}')"
   ]
  },
  {
   "cell_type": "markdown",
   "metadata": {},
   "source": [
    "Для стратегии stratified значение чуть выше 0.5. Это значительно меньше, чем у нашей модели. Можно сделать вывод, что выбранная модель адекватна."
   ]
  },
  {
   "cell_type": "markdown",
   "metadata": {},
   "source": [
    "**Анализ модели**"
   ]
  },
  {
   "cell_type": "markdown",
   "metadata": {},
   "source": [
    "Построим ROC кривую"
   ]
  },
  {
   "cell_type": "code",
   "execution_count": 76,
   "metadata": {},
   "outputs": [
    {
     "data": {
      "image/png": "[encoded data removed]",
      "text/plain": [
       "<Figure size 1440x360 with 1 Axes>"
      ]
     },
     "metadata": {
      "needs_background": "light"
     },
     "output_type": "display_data"
    }
   ],
   "source": [
    "fpr, tpr, treshold = roc_curve(y_test, final_model.predict_proba(X_test)[:,1])\n",
    "roc_auc = auc(fpr, tpr)\n",
    "\n",
    "plt.plot(fpr, tpr, color='darkorange', label=f'ROC (area={roc_auc:.2f})')\n",
    "plt.plot([0, 1], [0, 1], color='navy', linestyle='--', label='ROC (area=0.5)')\n",
    "plt.xlim([0.0, 1.0])\n",
    "plt.ylim([0.0, 1.05])\n",
    "plt.xlabel('False Positive Rate')\n",
    "plt.ylabel('True Positive Rate')\n",
    "plt.title('ROC кривая для модели CatBoost')\n",
    "plt.grid()\n",
    "plt.legend(loc=\"lower right\");"
   ]
  },
  {
   "cell_type": "markdown",
   "metadata": {},
   "source": [
    "И посмотрим метрику:"
   ]
  },
  {
   "cell_type": "code",
   "execution_count": 77,
   "metadata": {},
   "outputs": [
    {
     "name": "stdout",
     "output_type": "stream",
     "text": [
      "ROC-AUC 0.8573695009263606\n"
     ]
    }
   ],
   "source": [
    "print(f'ROC-AUC {roc_auc_score(y_test, final_model.predict_proba(X_test)[:,1])}')"
   ]
  },
  {
   "cell_type": "markdown",
   "metadata": {},
   "source": [
    "0.857 на тестовой - неплохо, немного выше, чем оценка кроссвалидации. Результат выше необходимого минимума."
   ]
  },
  {
   "cell_type": "markdown",
   "metadata": {},
   "source": [
    "*Основные метрики классификации*"
   ]
  },
  {
   "cell_type": "code",
   "execution_count": 78,
   "metadata": {},
   "outputs": [
    {
     "name": "stdout",
     "output_type": "stream",
     "text": [
      "              precision    recall  f1-score   support\n",
      "\n",
      "           0       0.84      0.91      0.87      1291\n",
      "           1       0.68      0.52      0.59       467\n",
      "\n",
      "    accuracy                           0.81      1758\n",
      "   macro avg       0.76      0.72      0.73      1758\n",
      "weighted avg       0.80      0.81      0.80      1758\n",
      "\n"
     ]
    }
   ],
   "source": [
    "print(classification_report(y_test, final_model.predict(X_test)))"
   ]
  },
  {
   "cell_type": "markdown",
   "metadata": {},
   "source": [
    "Можно обратить внимание, что модель достаточно неплохо предсказывает, что клиент не уйдет. Для клиентов, которые собираются уходить, точность не особо высокая."
   ]
  },
  {
   "cell_type": "markdown",
   "metadata": {},
   "source": [
    "**Важность признаков**"
   ]
  },
  {
   "cell_type": "code",
   "execution_count": 79,
   "metadata": {},
   "outputs": [
    {
     "data": {
      "text/html": [
       "<div>\n",
       "<style scoped>\n",
       "    .dataframe tbody tr th:only-of-type {\n",
       "        vertical-align: middle;\n",
       "    }\n",
       "\n",
       "    .dataframe tbody tr th {\n",
       "        vertical-align: top;\n",
       "    }\n",
       "\n",
       "    .dataframe thead th {\n",
       "        text-align: right;\n",
       "    }\n",
       "</style>\n",
       "<table border=\"1\" class=\"dataframe\">\n",
       "  <thead>\n",
       "    <tr style=\"text-align: right;\">\n",
       "      <th></th>\n",
       "      <th>Feature Id</th>\n",
       "      <th>Importances</th>\n",
       "    </tr>\n",
       "  </thead>\n",
       "  <tbody>\n",
       "    <tr>\n",
       "      <th>0</th>\n",
       "      <td>type</td>\n",
       "      <td>27.486966</td>\n",
       "    </tr>\n",
       "    <tr>\n",
       "      <th>1</th>\n",
       "      <td>date_delta</td>\n",
       "      <td>23.241440</td>\n",
       "    </tr>\n",
       "    <tr>\n",
       "      <th>2</th>\n",
       "      <td>monthly_charges</td>\n",
       "      <td>11.491574</td>\n",
       "    </tr>\n",
       "    <tr>\n",
       "      <th>3</th>\n",
       "      <td>internet_service</td>\n",
       "      <td>6.740288</td>\n",
       "    </tr>\n",
       "    <tr>\n",
       "      <th>4</th>\n",
       "      <td>tech_support</td>\n",
       "      <td>5.137694</td>\n",
       "    </tr>\n",
       "    <tr>\n",
       "      <th>5</th>\n",
       "      <td>delta_charges</td>\n",
       "      <td>4.257429</td>\n",
       "    </tr>\n",
       "    <tr>\n",
       "      <th>6</th>\n",
       "      <td>multiple_lines</td>\n",
       "      <td>4.095657</td>\n",
       "    </tr>\n",
       "    <tr>\n",
       "      <th>7</th>\n",
       "      <td>streaming_tv</td>\n",
       "      <td>3.728045</td>\n",
       "    </tr>\n",
       "    <tr>\n",
       "      <th>8</th>\n",
       "      <td>online_security</td>\n",
       "      <td>3.247995</td>\n",
       "    </tr>\n",
       "    <tr>\n",
       "      <th>9</th>\n",
       "      <td>payment_method</td>\n",
       "      <td>2.880993</td>\n",
       "    </tr>\n",
       "    <tr>\n",
       "      <th>10</th>\n",
       "      <td>paperless_billing</td>\n",
       "      <td>1.660342</td>\n",
       "    </tr>\n",
       "    <tr>\n",
       "      <th>11</th>\n",
       "      <td>streaming_movies</td>\n",
       "      <td>1.635763</td>\n",
       "    </tr>\n",
       "    <tr>\n",
       "      <th>12</th>\n",
       "      <td>online_backup</td>\n",
       "      <td>1.435849</td>\n",
       "    </tr>\n",
       "    <tr>\n",
       "      <th>13</th>\n",
       "      <td>dependents</td>\n",
       "      <td>0.872163</td>\n",
       "    </tr>\n",
       "    <tr>\n",
       "      <th>14</th>\n",
       "      <td>device_protection</td>\n",
       "      <td>0.625093</td>\n",
       "    </tr>\n",
       "    <tr>\n",
       "      <th>15</th>\n",
       "      <td>senior_citizen</td>\n",
       "      <td>0.588479</td>\n",
       "    </tr>\n",
       "    <tr>\n",
       "      <th>16</th>\n",
       "      <td>use_web</td>\n",
       "      <td>0.539227</td>\n",
       "    </tr>\n",
       "    <tr>\n",
       "      <th>17</th>\n",
       "      <td>gender</td>\n",
       "      <td>0.265612</td>\n",
       "    </tr>\n",
       "    <tr>\n",
       "      <th>18</th>\n",
       "      <td>partner</td>\n",
       "      <td>0.069391</td>\n",
       "    </tr>\n",
       "  </tbody>\n",
       "</table>\n",
       "</div>"
      ],
      "text/plain": [
       "           Feature Id  Importances\n",
       "0                type    27.486966\n",
       "1          date_delta    23.241440\n",
       "2     monthly_charges    11.491574\n",
       "3    internet_service     6.740288\n",
       "4        tech_support     5.137694\n",
       "5       delta_charges     4.257429\n",
       "6      multiple_lines     4.095657\n",
       "7        streaming_tv     3.728045\n",
       "8     online_security     3.247995\n",
       "9      payment_method     2.880993\n",
       "10  paperless_billing     1.660342\n",
       "11   streaming_movies     1.635763\n",
       "12      online_backup     1.435849\n",
       "13         dependents     0.872163\n",
       "14  device_protection     0.625093\n",
       "15     senior_citizen     0.588479\n",
       "16            use_web     0.539227\n",
       "17             gender     0.265612\n",
       "18            partner     0.069391"
      ]
     },
     "execution_count": 79,
     "metadata": {},
     "output_type": "execute_result"
    }
   ],
   "source": [
    "feature_importance = final_model.get_feature_importance(prettified=True)\n",
    "feature_importance"
   ]
  },
  {
   "cell_type": "code",
   "execution_count": 80,
   "metadata": {},
   "outputs": [
    {
     "data": {
      "image/png": "[encoded data removed]",
      "text/plain": [
       "<Figure size 1440x360 with 1 Axes>"
      ]
     },
     "metadata": {
      "needs_background": "light"
     },
     "output_type": "display_data"
    }
   ],
   "source": [
    "sns.barplot(data=feature_importance, x='Importances', y='Feature Id',  palette='terrain')\n",
    "plt.title('Feature importance');"
   ]
  },
  {
   "cell_type": "markdown",
   "metadata": {},
   "source": [
    "Наиболее важные признаки:\n",
    "- type\n",
    "- date_delta\n",
    "- mountly_charges"
   ]
  },
  {
   "cell_type": "markdown",
   "metadata": {},
   "source": [
    "Есть достаточно много признаков с небольшим уровнем значимости. Иногда их удаление улучшает качество модели. "
   ]
  },
  {
   "cell_type": "markdown",
   "id": "de367533",
   "metadata": {},
   "source": [
    "## Общий вывод"
   ]
  },
  {
   "cell_type": "markdown",
   "id": "20a3ca86",
   "metadata": {},
   "source": [
    "Цель исследования -  создание модели, предсказывающей вероятность ухода клиента из компании. Целевая метрика - ROC-AUC.\n",
    "\n",
    "При выполнении работы были выполнены следущие пункты:  \n",
    "\n",
    "### Загрузка данных  \n",
    "Было проверно, что файлы с данными\n",
    "- contract.csv  — информация о договоре\n",
    "- personal.csv — персональные данные клиента\n",
    "- internet.csv — информация об интернет-услугах\n",
    "- phone.csv — информация об услугах телефонии   \n",
    "\n",
    "содержат уникальные `customerID`, после чего по этому ID объединены в один датафрейм.\n",
    "\n",
    "По параметру `end_date` был создан целевой признак - ушел клиент или нет. В случае, если поле не заполнено датой - клиент на текущий момент остается в компании.\n",
    "\n",
    "Всего 7043 клиентов, из них 5517 пользователей интернета и 6361 телефонии. Для пользователей изветно 19 признаков(не считая целевой)."
   ]
  },
  {
   "cell_type": "markdown",
   "id": "52ff0b01",
   "metadata": {},
   "source": [
    "### Предобработка данных и исследовательский анализ\n",
    "\n",
    "В процессе первоначальной оценки данных была выявлена аномалия в столбце `total_charges` (всего потрачено денег на услуги) - для пользователей, только что присоединившихся к компании значения были `' '`. Подобных записей мало, было принято решение удалить эти строки - данные пользователи бесполезны для обучения модели, т.к. только пришли в компанию, для оценки \"ушел-остался\" необходим, как минимум, месяц.  \n",
    "Средствами `pandas_profiling` проведены анализ всех параметров, корреляции, дубликатов и пропусков.  \n",
    "- были обнаружены пропуски, которые образовались при слиянии данных. это пропуски в параметрах, связанных с интернет услугами и телефонной связью\n",
    "- было обнаружено несколько дубликатов, но т.к. все ID уникальные их можно оставить\n",
    "\n",
    "Все пропуски в категориальных переменных, их заполним новой категорией \"Не использует\" (\"Not Use\", -1).  \n",
    "Принято решение сформировать несколько новых признаков:  \n",
    "- сколько месяцев человек в компании \n",
    "- какая разница между тем, сколько человек платит сейчас и сколько он платил в среднем за все время пользования услугами\n",
    "- каким количеством дополнительных услуг он пользуется.\n",
    "\n",
    "Был обнаружен дисбаланс в целевом признаке   \n",
    "![](target.jpg)  \n",
    "остается клиентов больше, чем уходит.  \n",
    "Было обнаружено, что некоторые параметры практически не влияют на целевой признак (например, gender - люди любого пола уходят примерно одинаково).  \n",
    "Некоторые параметры сильно влияют на целевой. \n",
    "- уходят много людей, которые пользуются `Fiber Optic` (параметр `internet_service`)\n",
    "- уходят много людей, у которых нет выделенной линии техподдержки(`tech_support`) и блокировки небезопасных сайтов(`online_security`) \n",
    "- типа оплаты `type` - большинство ушедших платили только за месяц\n",
    "- очень много ушедших оплачивало услуги `payment_method` - \"Electronic Check\"\n",
    "- `total_charges` и `date_delta` - чем больше времени человек в компании, тем больше шанс, что он останется\n",
    "\n",
    "Ежемесячная оплата `monthly_charges` имеет мультимодальное распределение, визуально можно выделить три группы. Большинство ушедших платило достаточно много."
   ]
  },
  {
   "cell_type": "markdown",
   "metadata": {},
   "source": [
    "### Моделирование\n",
    "\n",
    "Была отделена тестовая выборка.\n",
    "\n",
    "Для предварительной оценки использовался CatBoostClassifier с построением графика процесса обучения - было определено приблизительное необходимое количество итераций, проверены несколько наборов данных с разными признаками. В итоге было принято решение удалить признаки `total_charges` и созданный `service_sum`.\n",
    "\n",
    "Выбраны модели:\n",
    "\n",
    "- LogisticRegression (предобработка OHE + StandartScaler)\n",
    "- RandomForestClassifier (Ordinal)\n",
    "- CatBoostClassifier (данные без обработки)\n",
    "- KNeighborsClassifier (предобработка OHE + StandartScaler)\n",
    "- StackingClassifier и VotingClassifier (топ-3 лучших моделей из полученных выше)\n",
    "\n",
    "Для регрессии и леса проверен вариант с устранением дисбаланса целевого с помощью SMOTE.\n",
    "\n",
    "Полученные результаты:\n",
    "\n",
    "|    | Модель      |   roc_auc |\n",
    "|---:|:----------|----------:|\n",
    "|  0 | LogReg    |  0.840695 |\n",
    "|  1 | LogRegSM  |  0.8398   |\n",
    "|  2 | RForest   |  0.843199 |\n",
    "|  3 | RForestSM |  0.839672 |\n",
    "|  4 | KNN       |  0.830635 |\n",
    "|  5 | Cat       |  0.847495 |\n",
    "|  6 | Vot       |  0.847173 |\n",
    "|  7 | Stack     |  0.847361 |\n",
    "\n",
    "\n",
    "Лучший результат показала модель на основе CatBoostClassifier с гиперпараметрами: eta = 0.03, iterations=400, l2_leaf_reg=20, min_data_in_leaf=50, subsample=0.6."
   ]
  },
  {
   "cell_type": "markdown",
   "metadata": {},
   "source": [
    "### Тестирование модели\n",
    "\n",
    "Полученная модель была проверена на тестовой выборке и показала результат ROC-AUC = 0.857.  \n",
    "Проведена проверка на адекватность модели - сравнение с DummyClassifier (результат ~0.5). Выбранная модель адекватна.  \n",
    "\n",
    "Исследована значимость признаков, топ-5:  \n",
    "\n",
    "|    | Feature Id       |   Importances |\n",
    "|---:|:-----------------|--------------:|\n",
    "| Тип оплаты  | type             |      27.487   |\n",
    "|  Сколько человек в компании | date_delta       |      23.2414  |\n",
    "|  Ежемесячный платеж | monthly_charges  |      11.4916  |\n",
    "|  Интернет | internet_service |       6.74029 |\n",
    "|  Выделенная линия поддержки | tech_support     |       5.13769 |\n",
    "\n"
   ]
  },
  {
   "cell_type": "markdown",
   "metadata": {},
   "source": [
    "### Ввод модели в продакшн\n",
    "\n",
    "На основе Flask была разработана и запущена модель http://evil-bird.ru/ "
   ]
  },
  {
   "cell_type": "markdown",
   "metadata": {},
   "source": [
    "![](flask.png)"
   ]
  },
  {
   "cell_type": "markdown",
   "metadata": {},
   "source": [
    "### Результат\n",
    "В процессе исследования были изучены данные и разработана модель, которая предсказывает вероятность ухода клиента.  Был достигнут результат по целевой метрике 0.85. Можно рекомендовать модель для внедрения."
   ]
  }
 ],
 "metadata": {
  "ExecuteTimeLog": [
   {
    "duration": 424,
    "start_time": "2023-02-13T09:01:09.807Z"
   },
   {
    "duration": 82,
    "start_time": "2023-02-13T09:01:31.525Z"
   },
   {
    "duration": 3,
    "start_time": "2023-02-13T09:01:34.106Z"
   },
   {
    "duration": 41,
    "start_time": "2023-02-13T09:01:37.540Z"
   },
   {
    "duration": 46,
    "start_time": "2023-02-13T09:01:41.743Z"
   },
   {
    "duration": 45,
    "start_time": "2023-02-13T09:01:47.565Z"
   },
   {
    "duration": 8,
    "start_time": "2023-02-13T09:02:00.971Z"
   },
   {
    "duration": 22328,
    "start_time": "2023-02-13T09:02:15.815Z"
   },
   {
    "duration": 2445,
    "start_time": "2023-02-13T09:02:38.147Z"
   },
   {
    "duration": 53,
    "start_time": "2023-02-13T09:02:40.595Z"
   },
   {
    "duration": 221,
    "start_time": "2023-02-13T09:03:37.231Z"
   },
   {
    "duration": 46,
    "start_time": "2023-02-13T09:03:39.256Z"
   },
   {
    "duration": 157,
    "start_time": "2023-02-13T09:03:50.994Z"
   },
   {
    "duration": 56,
    "start_time": "2023-02-13T09:04:06.956Z"
   },
   {
    "duration": 48,
    "start_time": "2023-02-13T09:04:22.571Z"
   },
   {
    "duration": 3335,
    "start_time": "2023-02-13T09:05:22.338Z"
   },
   {
    "duration": 42,
    "start_time": "2023-02-13T09:05:49.300Z"
   },
   {
    "duration": 3181,
    "start_time": "2023-02-13T09:05:51.340Z"
   },
   {
    "duration": 2761,
    "start_time": "2023-02-13T09:06:11.177Z"
   },
   {
    "duration": 43,
    "start_time": "2023-02-13T09:06:18.867Z"
   },
   {
    "duration": 2572,
    "start_time": "2023-02-13T09:06:19.852Z"
   },
   {
    "duration": 70,
    "start_time": "2023-02-13T09:08:39.378Z"
   },
   {
    "duration": 108,
    "start_time": "2023-02-13T09:08:42.922Z"
   },
   {
    "duration": 139,
    "start_time": "2023-02-13T09:08:47.980Z"
   },
   {
    "duration": 127,
    "start_time": "2023-02-13T09:08:56.168Z"
   },
   {
    "duration": 137,
    "start_time": "2023-02-13T09:14:44.174Z"
   },
   {
    "duration": 46,
    "start_time": "2023-02-13T09:16:30.345Z"
   },
   {
    "duration": 128,
    "start_time": "2023-02-13T09:17:04.126Z"
   },
   {
    "duration": 33,
    "start_time": "2023-02-13T09:17:10.019Z"
   },
   {
    "duration": 20,
    "start_time": "2023-02-13T09:17:29.771Z"
   },
   {
    "duration": 66,
    "start_time": "2023-02-13T09:17:52.977Z"
   },
   {
    "duration": 6,
    "start_time": "2023-02-13T09:19:19.332Z"
   },
   {
    "duration": 6,
    "start_time": "2023-02-13T09:19:24.172Z"
   },
   {
    "duration": 6,
    "start_time": "2023-02-13T09:19:33.638Z"
   },
   {
    "duration": 6,
    "start_time": "2023-02-13T09:19:45.649Z"
   },
   {
    "duration": 5,
    "start_time": "2023-02-13T09:19:56.340Z"
   },
   {
    "duration": 5,
    "start_time": "2023-02-13T09:20:02.507Z"
   },
   {
    "duration": 21,
    "start_time": "2023-02-13T09:20:04.839Z"
   },
   {
    "duration": 11,
    "start_time": "2023-02-13T09:20:49.409Z"
   },
   {
    "duration": 8,
    "start_time": "2023-02-13T09:21:08.947Z"
   },
   {
    "duration": 5,
    "start_time": "2023-02-13T09:21:40.095Z"
   },
   {
    "duration": 74261,
    "start_time": "2023-02-13T09:21:49.563Z"
   },
   {
    "duration": 3865,
    "start_time": "2023-02-13T09:23:47.424Z"
   },
   {
    "duration": 3871,
    "start_time": "2023-02-13T09:27:27.640Z"
   },
   {
    "duration": 53,
    "start_time": "2023-02-13T09:27:31.514Z"
   },
   {
    "duration": 963,
    "start_time": "2023-02-13T09:27:31.569Z"
   },
   {
    "duration": 1569,
    "start_time": "2023-02-13T09:27:32.534Z"
   },
   {
    "duration": 905,
    "start_time": "2023-02-13T09:27:34.105Z"
   },
   {
    "duration": 1463,
    "start_time": "2023-02-13T09:27:35.012Z"
   },
   {
    "duration": 2922,
    "start_time": "2023-02-13T09:27:36.477Z"
   },
   {
    "duration": 2923,
    "start_time": "2023-02-13T09:27:39.400Z"
   },
   {
    "duration": 157,
    "start_time": "2023-02-13T09:28:36.642Z"
   },
   {
    "duration": 354,
    "start_time": "2023-02-13T09:28:37.623Z"
   },
   {
    "duration": 46,
    "start_time": "2023-02-13T09:28:42.006Z"
   },
   {
    "duration": 835,
    "start_time": "2023-02-13T09:28:43.168Z"
   },
   {
    "duration": 45,
    "start_time": "2023-02-13T09:28:53.824Z"
   },
   {
    "duration": 106,
    "start_time": "2023-02-13T09:28:55.404Z"
   },
   {
    "duration": 17,
    "start_time": "2023-02-13T09:28:56.542Z"
   },
   {
    "duration": 4,
    "start_time": "2023-02-13T09:29:08.038Z"
   },
   {
    "duration": 17,
    "start_time": "2023-02-13T09:29:09.073Z"
   },
   {
    "duration": 5,
    "start_time": "2023-02-13T09:29:13.707Z"
   },
   {
    "duration": 216027,
    "start_time": "2023-02-13T09:29:16.982Z"
   },
   {
    "duration": 4,
    "start_time": "2023-02-13T09:49:15.873Z"
   },
   {
    "duration": 4,
    "start_time": "2023-02-13T09:50:00.073Z"
   },
   {
    "duration": 4,
    "start_time": "2023-02-13T09:50:09.488Z"
   },
   {
    "duration": 5,
    "start_time": "2023-02-13T09:50:19.869Z"
   },
   {
    "duration": 4,
    "start_time": "2023-02-13T09:50:27.135Z"
   },
   {
    "duration": 130,
    "start_time": "2023-02-13T09:52:29.191Z"
   },
   {
    "duration": 132,
    "start_time": "2023-02-13T09:52:46.857Z"
   },
   {
    "duration": 136,
    "start_time": "2023-02-13T09:53:03.350Z"
   },
   {
    "duration": 128,
    "start_time": "2023-02-13T09:53:10.450Z"
   },
   {
    "duration": 128,
    "start_time": "2023-02-13T09:53:40.247Z"
   },
   {
    "duration": 146,
    "start_time": "2023-02-13T09:57:22.723Z"
   },
   {
    "duration": 130,
    "start_time": "2023-02-13T09:58:00.073Z"
   },
   {
    "duration": 131,
    "start_time": "2023-02-13T09:58:32.585Z"
   },
   {
    "duration": 104,
    "start_time": "2023-02-13T09:59:26.860Z"
   },
   {
    "duration": 137,
    "start_time": "2023-02-13T09:59:36.790Z"
   },
   {
    "duration": 142,
    "start_time": "2023-02-13T09:59:50.212Z"
   },
   {
    "duration": 141,
    "start_time": "2023-02-13T09:59:57.663Z"
   },
   {
    "duration": 152,
    "start_time": "2023-02-13T10:01:31.334Z"
   },
   {
    "duration": 135,
    "start_time": "2023-02-13T10:14:55.384Z"
   },
   {
    "duration": 7,
    "start_time": "2023-02-13T11:01:28.592Z"
   },
   {
    "duration": 6,
    "start_time": "2023-02-13T11:01:34.411Z"
   },
   {
    "duration": 25,
    "start_time": "2023-02-13T11:01:40.169Z"
   },
   {
    "duration": 9,
    "start_time": "2023-02-13T11:01:59.573Z"
   },
   {
    "duration": 8,
    "start_time": "2023-02-13T11:02:07.824Z"
   },
   {
    "duration": 8,
    "start_time": "2023-02-13T11:02:57.004Z"
   },
   {
    "duration": 170,
    "start_time": "2023-02-13T11:03:25.491Z"
   },
   {
    "duration": 39,
    "start_time": "2023-02-13T11:03:28.121Z"
   },
   {
    "duration": 14,
    "start_time": "2023-02-13T11:03:34.901Z"
   },
   {
    "duration": 9,
    "start_time": "2023-02-13T11:14:33.931Z"
   },
   {
    "duration": 12,
    "start_time": "2023-02-13T11:14:36.079Z"
   },
   {
    "duration": 21,
    "start_time": "2023-02-13T11:14:39.935Z"
   },
   {
    "duration": 377,
    "start_time": "2023-02-13T11:17:01.484Z"
   },
   {
    "duration": 986,
    "start_time": "2023-02-13T11:17:13.998Z"
   },
   {
    "duration": 550,
    "start_time": "2023-02-13T11:17:22.060Z"
   },
   {
    "duration": 10,
    "start_time": "2023-02-13T11:17:27.360Z"
   },
   {
    "duration": 8603,
    "start_time": "2023-02-13T11:17:36.869Z"
   },
   {
    "duration": 6,
    "start_time": "2023-02-13T11:17:47.144Z"
   },
   {
    "duration": 4,
    "start_time": "2023-02-13T11:18:00.897Z"
   },
   {
    "duration": 130,
    "start_time": "2023-02-13T11:18:09.490Z"
   },
   {
    "duration": 171,
    "start_time": "2023-02-13T11:18:26.478Z"
   },
   {
    "duration": 8,
    "start_time": "2023-02-13T11:24:40.696Z"
   },
   {
    "duration": 14,
    "start_time": "2023-02-13T11:24:50.303Z"
   },
   {
    "duration": 8,
    "start_time": "2023-02-13T11:24:51.821Z"
   },
   {
    "duration": 6,
    "start_time": "2023-02-13T11:38:30.090Z"
   },
   {
    "duration": 30,
    "start_time": "2023-02-13T11:38:32.598Z"
   },
   {
    "duration": 32,
    "start_time": "2023-02-13T11:40:00.184Z"
   },
   {
    "duration": 24,
    "start_time": "2023-02-13T11:40:21.688Z"
   },
   {
    "duration": 41,
    "start_time": "2023-02-13T11:40:41.457Z"
   },
   {
    "duration": 18,
    "start_time": "2023-02-13T11:41:14.984Z"
   },
   {
    "duration": 8,
    "start_time": "2023-02-13T11:41:48.372Z"
   },
   {
    "duration": 10,
    "start_time": "2023-02-13T11:42:02.137Z"
   },
   {
    "duration": 22,
    "start_time": "2023-02-13T11:42:28.528Z"
   },
   {
    "duration": 15,
    "start_time": "2023-02-13T11:43:02.403Z"
   },
   {
    "duration": 18,
    "start_time": "2023-02-13T11:43:10.225Z"
   },
   {
    "duration": 28,
    "start_time": "2023-02-13T11:43:12.458Z"
   },
   {
    "duration": 25,
    "start_time": "2023-02-13T11:43:18.227Z"
   },
   {
    "duration": 21,
    "start_time": "2023-02-13T11:43:25.830Z"
   },
   {
    "duration": 11,
    "start_time": "2023-02-13T11:43:27.435Z"
   },
   {
    "duration": 5,
    "start_time": "2023-02-13T11:43:50.804Z"
   },
   {
    "duration": 9,
    "start_time": "2023-02-13T11:43:52.669Z"
   },
   {
    "duration": 11,
    "start_time": "2023-02-13T11:43:54.734Z"
   },
   {
    "duration": 1258,
    "start_time": "2023-02-13T11:44:11.171Z"
   },
   {
    "duration": 7,
    "start_time": "2023-02-13T11:44:16.079Z"
   },
   {
    "duration": 11,
    "start_time": "2023-02-13T11:44:17.760Z"
   },
   {
    "duration": 10,
    "start_time": "2023-02-13T11:44:19.960Z"
   },
   {
    "duration": 1734,
    "start_time": "2023-02-13T11:44:27.519Z"
   },
   {
    "duration": 1306,
    "start_time": "2023-02-13T11:44:42.124Z"
   },
   {
    "duration": 7,
    "start_time": "2023-02-13T11:44:45.764Z"
   },
   {
    "duration": 12,
    "start_time": "2023-02-13T11:44:50.539Z"
   },
   {
    "duration": 12,
    "start_time": "2023-02-13T11:44:52.652Z"
   },
   {
    "duration": 11,
    "start_time": "2023-02-13T11:44:54.874Z"
   },
   {
    "duration": 1319,
    "start_time": "2023-02-13T11:45:06.986Z"
   },
   {
    "duration": 5,
    "start_time": "2023-02-13T11:45:09.694Z"
   },
   {
    "duration": 9,
    "start_time": "2023-02-13T11:45:10.656Z"
   },
   {
    "duration": 15,
    "start_time": "2023-02-13T11:45:12.393Z"
   },
   {
    "duration": 17,
    "start_time": "2023-02-13T11:45:15.456Z"
   },
   {
    "duration": 23,
    "start_time": "2023-02-13T11:45:25.964Z"
   },
   {
    "duration": 11,
    "start_time": "2023-02-13T11:45:32.017Z"
   },
   {
    "duration": 17,
    "start_time": "2023-02-13T11:46:58.043Z"
   },
   {
    "duration": 20,
    "start_time": "2023-02-13T11:47:01.380Z"
   },
   {
    "duration": 12,
    "start_time": "2023-02-13T11:47:07.129Z"
   },
   {
    "duration": 17,
    "start_time": "2023-02-13T11:47:20.755Z"
   },
   {
    "duration": 19,
    "start_time": "2023-02-13T11:47:22.819Z"
   },
   {
    "duration": 13,
    "start_time": "2023-02-13T11:47:29.409Z"
   },
   {
    "duration": 6,
    "start_time": "2023-02-13T11:48:12.918Z"
   },
   {
    "duration": 7,
    "start_time": "2023-02-13T11:48:20.352Z"
   },
   {
    "duration": 14,
    "start_time": "2023-02-13T11:48:21.095Z"
   },
   {
    "duration": 10,
    "start_time": "2023-02-13T11:48:23.672Z"
   },
   {
    "duration": 7,
    "start_time": "2023-02-13T11:48:54.672Z"
   },
   {
    "duration": 9,
    "start_time": "2023-02-13T11:49:13.999Z"
   },
   {
    "duration": 1461,
    "start_time": "2023-02-13T11:52:10.723Z"
   },
   {
    "duration": 6,
    "start_time": "2023-02-13T11:52:18.293Z"
   },
   {
    "duration": 33,
    "start_time": "2023-02-13T11:52:19.074Z"
   },
   {
    "duration": 21,
    "start_time": "2023-02-13T11:52:52.412Z"
   },
   {
    "duration": 11,
    "start_time": "2023-02-13T11:52:59.017Z"
   },
   {
    "duration": 20,
    "start_time": "2023-02-13T11:56:22.590Z"
   },
   {
    "duration": 35,
    "start_time": "2023-02-13T11:56:37.006Z"
   },
   {
    "duration": 35,
    "start_time": "2023-02-13T11:56:40.862Z"
   },
   {
    "duration": 32,
    "start_time": "2023-02-13T11:56:53.467Z"
   },
   {
    "duration": 38,
    "start_time": "2023-02-13T11:57:19.111Z"
   },
   {
    "duration": 39,
    "start_time": "2023-02-13T11:57:46.313Z"
   },
   {
    "duration": 7,
    "start_time": "2023-02-13T11:57:55.582Z"
   },
   {
    "duration": 179,
    "start_time": "2023-02-13T11:59:34.594Z"
   },
   {
    "duration": 41,
    "start_time": "2023-02-13T11:59:41.906Z"
   },
   {
    "duration": 41,
    "start_time": "2023-02-13T11:59:58.336Z"
   },
   {
    "duration": 40,
    "start_time": "2023-02-13T12:00:07.397Z"
   },
   {
    "duration": 36,
    "start_time": "2023-02-13T12:01:24.760Z"
   },
   {
    "duration": 9,
    "start_time": "2023-02-13T12:01:34.214Z"
   },
   {
    "duration": 24,
    "start_time": "2023-02-13T12:01:59.154Z"
   },
   {
    "duration": 7,
    "start_time": "2023-02-13T12:10:23.664Z"
   },
   {
    "duration": 14,
    "start_time": "2023-02-13T12:10:30.909Z"
   },
   {
    "duration": 6,
    "start_time": "2023-02-13T12:10:34.016Z"
   },
   {
    "duration": 6,
    "start_time": "2023-02-13T12:10:38.354Z"
   },
   {
    "duration": 8,
    "start_time": "2023-02-13T12:10:47.269Z"
   },
   {
    "duration": 675,
    "start_time": "2023-02-13T12:11:03.621Z"
   },
   {
    "duration": 6,
    "start_time": "2023-02-13T12:11:09.562Z"
   },
   {
    "duration": 7,
    "start_time": "2023-02-13T12:11:16.576Z"
   },
   {
    "duration": 5,
    "start_time": "2023-02-13T12:11:29.020Z"
   },
   {
    "duration": 6,
    "start_time": "2023-02-13T12:11:34.693Z"
   },
   {
    "duration": 10,
    "start_time": "2023-02-13T12:13:50.424Z"
   },
   {
    "duration": 10,
    "start_time": "2023-02-13T12:14:03.582Z"
   },
   {
    "duration": 9,
    "start_time": "2023-02-13T12:14:29.503Z"
   },
   {
    "duration": 6,
    "start_time": "2023-02-13T12:14:32.738Z"
   },
   {
    "duration": 9,
    "start_time": "2023-02-13T12:14:33.676Z"
   },
   {
    "duration": 9,
    "start_time": "2023-02-13T12:14:34.627Z"
   },
   {
    "duration": 97,
    "start_time": "2023-02-13T12:31:52.481Z"
   },
   {
    "duration": 7,
    "start_time": "2023-02-14T10:11:08.936Z"
   },
   {
    "duration": 51,
    "start_time": "2023-02-14T10:11:25.000Z"
   },
   {
    "duration": 59,
    "start_time": "2023-02-14T10:17:08.979Z"
   },
   {
    "duration": 49,
    "start_time": "2023-02-14T10:17:20.369Z"
   },
   {
    "duration": 51,
    "start_time": "2023-02-14T10:25:53.881Z"
   },
   {
    "duration": 59,
    "start_time": "2023-02-14T10:26:46.372Z"
   },
   {
    "duration": 76,
    "start_time": "2023-02-14T10:29:35.119Z"
   },
   {
    "duration": 72,
    "start_time": "2023-02-14T10:30:01.138Z"
   },
   {
    "duration": 43,
    "start_time": "2023-02-14T10:30:09.186Z"
   },
   {
    "duration": 74,
    "start_time": "2023-02-14T10:31:40.752Z"
   },
   {
    "duration": 93,
    "start_time": "2023-02-14T10:32:30.319Z"
   },
   {
    "duration": 12909,
    "start_time": "2023-02-15T08:44:44.603Z"
   },
   {
    "duration": 1893,
    "start_time": "2023-02-15T08:44:57.514Z"
   },
   {
    "duration": 10,
    "start_time": "2023-02-15T08:44:59.413Z"
   },
   {
    "duration": 2455,
    "start_time": "2023-02-15T08:45:09.218Z"
   },
   {
    "duration": 3,
    "start_time": "2023-02-15T08:46:39.763Z"
   },
   {
    "duration": 61,
    "start_time": "2023-02-15T08:46:40.635Z"
   },
   {
    "duration": 421,
    "start_time": "2023-02-15T08:46:42.135Z"
   },
   {
    "duration": 60,
    "start_time": "2023-02-15T08:46:46.529Z"
   },
   {
    "duration": 92,
    "start_time": "2023-02-15T08:46:47.248Z"
   },
   {
    "duration": 4,
    "start_time": "2023-02-15T08:46:49.279Z"
   },
   {
    "duration": 44,
    "start_time": "2023-02-15T09:07:30.399Z"
   },
   {
    "duration": 87,
    "start_time": "2023-02-15T09:07:31.289Z"
   },
   {
    "duration": 22,
    "start_time": "2023-02-15T09:12:02.918Z"
   },
   {
    "duration": 167,
    "start_time": "2023-02-15T09:16:35.776Z"
   },
   {
    "duration": 15,
    "start_time": "2023-02-15T09:16:43.597Z"
   },
   {
    "duration": 9089,
    "start_time": "2023-02-15T09:17:55.638Z"
   },
   {
    "duration": 14,
    "start_time": "2023-02-15T09:22:39.981Z"
   },
   {
    "duration": 23,
    "start_time": "2023-02-15T09:23:04.917Z"
   },
   {
    "duration": 62,
    "start_time": "2023-02-15T09:23:07.625Z"
   },
   {
    "duration": 48,
    "start_time": "2023-02-15T09:23:18.156Z"
   },
   {
    "duration": 129,
    "start_time": "2023-02-15T09:23:19.401Z"
   },
   {
    "duration": 42,
    "start_time": "2023-02-15T09:23:22.724Z"
   },
   {
    "duration": 89,
    "start_time": "2023-02-15T09:23:23.488Z"
   },
   {
    "duration": 4,
    "start_time": "2023-02-15T09:23:25.100Z"
   },
   {
    "duration": 16,
    "start_time": "2023-02-15T09:23:26.074Z"
   },
   {
    "duration": 57,
    "start_time": "2023-02-15T09:23:28.061Z"
   },
   {
    "duration": 6,
    "start_time": "2023-02-15T09:31:33.779Z"
   },
   {
    "duration": 5,
    "start_time": "2023-02-15T09:31:42.726Z"
   },
   {
    "duration": 12,
    "start_time": "2023-02-15T09:31:56.849Z"
   },
   {
    "duration": 4,
    "start_time": "2023-02-15T09:32:04.797Z"
   },
   {
    "duration": 12,
    "start_time": "2023-02-15T09:33:09.422Z"
   },
   {
    "duration": 5,
    "start_time": "2023-02-15T09:33:17.367Z"
   },
   {
    "duration": 12,
    "start_time": "2023-02-15T09:33:50.553Z"
   },
   {
    "duration": 76,
    "start_time": "2023-02-15T09:35:14.109Z"
   },
   {
    "duration": 82,
    "start_time": "2023-02-15T09:35:22.837Z"
   },
   {
    "duration": 94,
    "start_time": "2023-02-15T09:35:33.291Z"
   },
   {
    "duration": 83,
    "start_time": "2023-02-15T09:39:07.232Z"
   },
   {
    "duration": 7,
    "start_time": "2023-02-15T09:55:21.691Z"
   },
   {
    "duration": 22,
    "start_time": "2023-02-15T09:55:28.428Z"
   },
   {
    "duration": 15,
    "start_time": "2023-02-15T09:55:39.019Z"
   },
   {
    "duration": 23,
    "start_time": "2023-02-15T09:55:48.020Z"
   },
   {
    "duration": 14,
    "start_time": "2023-02-15T09:55:54.229Z"
   },
   {
    "duration": 22,
    "start_time": "2023-02-15T09:56:07.262Z"
   },
   {
    "duration": 10079,
    "start_time": "2023-02-15T09:58:43.643Z"
   },
   {
    "duration": 3637,
    "start_time": "2023-02-15T10:05:00.532Z"
   },
   {
    "duration": 9483,
    "start_time": "2023-02-15T10:13:15.319Z"
   },
   {
    "duration": 8,
    "start_time": "2023-02-15T10:14:14.131Z"
   },
   {
    "duration": 16,
    "start_time": "2023-02-15T10:17:43.984Z"
   },
   {
    "duration": 11,
    "start_time": "2023-02-15T10:17:57.796Z"
   },
   {
    "duration": 3,
    "start_time": "2023-02-15T10:20:18.791Z"
   },
   {
    "duration": 331,
    "start_time": "2023-02-15T10:20:30.043Z"
   },
   {
    "duration": 3,
    "start_time": "2023-02-15T10:22:18.472Z"
   },
   {
    "duration": 1154,
    "start_time": "2023-02-15T10:24:14.586Z"
   },
   {
    "duration": 30648,
    "start_time": "2023-02-15T10:29:31.923Z"
   },
   {
    "duration": 30504,
    "start_time": "2023-02-15T10:30:22.074Z"
   },
   {
    "duration": 2,
    "start_time": "2023-02-15T10:33:07.474Z"
   },
   {
    "duration": 2,
    "start_time": "2023-02-15T10:33:08.948Z"
   },
   {
    "duration": 9377,
    "start_time": "2023-02-15T10:33:15.026Z"
   },
   {
    "duration": 30218,
    "start_time": "2023-02-15T10:33:24.405Z"
   },
   {
    "duration": 12617,
    "start_time": "2023-02-15T10:37:04.392Z"
   },
   {
    "duration": 13146,
    "start_time": "2023-02-15T10:38:29.604Z"
   },
   {
    "duration": 14381,
    "start_time": "2023-02-15T10:40:51.298Z"
   },
   {
    "duration": 13191,
    "start_time": "2023-02-15T11:09:42.739Z"
   },
   {
    "duration": 6,
    "start_time": "2023-02-15T11:12:47.001Z"
   },
   {
    "duration": 4,
    "start_time": "2023-02-15T11:12:57.146Z"
   },
   {
    "duration": 23,
    "start_time": "2023-02-15T11:13:01.962Z"
   },
   {
    "duration": 4,
    "start_time": "2023-02-15T11:13:19.833Z"
   },
   {
    "duration": 12822,
    "start_time": "2023-02-15T11:13:21.563Z"
   },
   {
    "duration": 4,
    "start_time": "2023-02-15T11:15:59.615Z"
   },
   {
    "duration": 12721,
    "start_time": "2023-02-15T11:16:02.137Z"
   },
   {
    "duration": 10197,
    "start_time": "2023-02-15T11:19:51.966Z"
   },
   {
    "duration": 13,
    "start_time": "2023-02-15T11:26:06.222Z"
   },
   {
    "duration": 5,
    "start_time": "2023-02-15T11:26:11.169Z"
   },
   {
    "duration": 4,
    "start_time": "2023-02-15T11:26:18.342Z"
   },
   {
    "duration": 3,
    "start_time": "2023-02-15T11:28:27.077Z"
   },
   {
    "duration": 3,
    "start_time": "2023-02-15T11:28:28.599Z"
   },
   {
    "duration": 48,
    "start_time": "2023-02-15T11:28:29.460Z"
   },
   {
    "duration": 138,
    "start_time": "2023-02-15T11:28:31.178Z"
   },
   {
    "duration": 55,
    "start_time": "2023-02-15T11:28:34.324Z"
   },
   {
    "duration": 107,
    "start_time": "2023-02-15T11:28:35.087Z"
   },
   {
    "duration": 4,
    "start_time": "2023-02-15T11:28:37.197Z"
   },
   {
    "duration": 6,
    "start_time": "2023-02-15T11:28:38.671Z"
   },
   {
    "duration": 6,
    "start_time": "2023-02-15T11:28:41.877Z"
   },
   {
    "duration": 76,
    "start_time": "2023-02-15T11:28:43.521Z"
   },
   {
    "duration": 92,
    "start_time": "2023-02-15T11:28:52.914Z"
   },
   {
    "duration": 9,
    "start_time": "2023-02-15T11:28:59.010Z"
   },
   {
    "duration": 12532,
    "start_time": "2023-02-15T11:29:02.768Z"
   },
   {
    "duration": 4,
    "start_time": "2023-02-15T11:32:49.521Z"
   },
   {
    "duration": 14,
    "start_time": "2023-02-15T11:33:00.603Z"
   },
   {
    "duration": 6,
    "start_time": "2023-02-15T11:33:02.570Z"
   },
   {
    "duration": 14,
    "start_time": "2023-02-15T11:33:03.563Z"
   },
   {
    "duration": 8,
    "start_time": "2023-02-15T11:33:06.294Z"
   },
   {
    "duration": 8,
    "start_time": "2023-02-15T11:33:09.564Z"
   },
   {
    "duration": 8,
    "start_time": "2023-02-15T11:33:11.768Z"
   },
   {
    "duration": 2,
    "start_time": "2023-02-15T12:17:44.727Z"
   },
   {
    "duration": 6,
    "start_time": "2023-02-15T12:18:00.353Z"
   },
   {
    "duration": 11,
    "start_time": "2023-02-15T12:18:04.660Z"
   },
   {
    "duration": 25,
    "start_time": "2023-02-15T12:18:10.527Z"
   },
   {
    "duration": 5,
    "start_time": "2023-02-15T12:18:41.656Z"
   },
   {
    "duration": 140,
    "start_time": "2023-02-15T12:19:08.826Z"
   },
   {
    "duration": 71,
    "start_time": "2023-02-15T12:19:19.239Z"
   },
   {
    "duration": 3,
    "start_time": "2023-02-15T12:20:44.785Z"
   },
   {
    "duration": 4,
    "start_time": "2023-02-15T12:20:51.429Z"
   },
   {
    "duration": 120,
    "start_time": "2023-02-15T12:21:09.032Z"
   },
   {
    "duration": 130,
    "start_time": "2023-02-15T12:21:12.584Z"
   },
   {
    "duration": 3,
    "start_time": "2023-02-15T12:21:18.434Z"
   },
   {
    "duration": 132,
    "start_time": "2023-02-15T12:21:19.984Z"
   },
   {
    "duration": 3,
    "start_time": "2023-02-15T12:21:25.171Z"
   },
   {
    "duration": 121,
    "start_time": "2023-02-15T12:21:27.326Z"
   },
   {
    "duration": 3,
    "start_time": "2023-02-15T12:22:16.618Z"
   },
   {
    "duration": 1912,
    "start_time": "2023-02-15T12:24:44.615Z"
   },
   {
    "duration": 10,
    "start_time": "2023-02-15T12:24:47.588Z"
   },
   {
    "duration": 76,
    "start_time": "2023-02-15T12:25:14.028Z"
   },
   {
    "duration": 73,
    "start_time": "2023-02-15T12:26:10.825Z"
   },
   {
    "duration": 66,
    "start_time": "2023-02-15T12:26:14.688Z"
   },
   {
    "duration": 68,
    "start_time": "2023-02-15T12:26:21.212Z"
   },
   {
    "duration": 73,
    "start_time": "2023-02-15T12:26:40.811Z"
   },
   {
    "duration": 78,
    "start_time": "2023-02-15T12:27:02.872Z"
   },
   {
    "duration": 82,
    "start_time": "2023-02-15T12:27:17.893Z"
   },
   {
    "duration": 16,
    "start_time": "2023-02-15T12:27:41.546Z"
   },
   {
    "duration": 80,
    "start_time": "2023-02-15T12:27:56.604Z"
   },
   {
    "duration": 80,
    "start_time": "2023-02-15T12:28:28.707Z"
   },
   {
    "duration": 16,
    "start_time": "2023-02-15T12:32:22.634Z"
   },
   {
    "duration": 144,
    "start_time": "2023-02-15T12:32:41.085Z"
   },
   {
    "duration": 143,
    "start_time": "2023-02-15T12:32:46.887Z"
   },
   {
    "duration": 124,
    "start_time": "2023-02-15T12:33:18.272Z"
   },
   {
    "duration": 10,
    "start_time": "2023-02-15T12:34:06.311Z"
   },
   {
    "duration": 3412,
    "start_time": "2023-02-15T12:34:11.160Z"
   },
   {
    "duration": 4148,
    "start_time": "2023-02-15T12:34:19.012Z"
   },
   {
    "duration": 159,
    "start_time": "2023-02-15T12:36:55.038Z"
   },
   {
    "duration": 159,
    "start_time": "2023-02-15T12:36:59.108Z"
   },
   {
    "duration": 3,
    "start_time": "2023-02-15T12:47:58.251Z"
   },
   {
    "duration": 3,
    "start_time": "2023-02-15T12:48:04.182Z"
   },
   {
    "duration": 28,
    "start_time": "2023-02-15T12:50:07.303Z"
   },
   {
    "duration": 106,
    "start_time": "2023-02-15T12:51:01.230Z"
   },
   {
    "duration": 3853,
    "start_time": "2023-02-15T12:54:12.004Z"
   },
   {
    "duration": 3015,
    "start_time": "2023-02-15T12:54:17.014Z"
   },
   {
    "duration": 4,
    "start_time": "2023-02-15T12:54:51.303Z"
   },
   {
    "duration": 4555,
    "start_time": "2023-02-15T12:55:39.403Z"
   },
   {
    "duration": 4058,
    "start_time": "2023-02-15T12:55:50.016Z"
   },
   {
    "duration": 4134,
    "start_time": "2023-02-15T12:56:10.198Z"
   },
   {
    "duration": 111,
    "start_time": "2023-02-15T12:58:31.863Z"
   },
   {
    "duration": 3947,
    "start_time": "2023-02-15T12:58:43.059Z"
   },
   {
    "duration": 5320,
    "start_time": "2023-02-15T13:00:10.657Z"
   },
   {
    "duration": 4102,
    "start_time": "2023-02-15T13:00:21.369Z"
   },
   {
    "duration": 2,
    "start_time": "2023-02-15T13:00:33.871Z"
   },
   {
    "duration": 11,
    "start_time": "2023-02-15T13:01:10.936Z"
   },
   {
    "duration": 5,
    "start_time": "2023-02-15T13:01:25.422Z"
   },
   {
    "duration": 5,
    "start_time": "2023-02-15T13:01:51.178Z"
   },
   {
    "duration": 2680,
    "start_time": "2023-02-15T13:02:10.488Z"
   },
   {
    "duration": 2682,
    "start_time": "2023-02-15T13:02:59.621Z"
   },
   {
    "duration": 3709,
    "start_time": "2023-02-15T13:04:11.339Z"
   },
   {
    "duration": 104,
    "start_time": "2023-02-15T13:05:05.603Z"
   },
   {
    "duration": 2502,
    "start_time": "2023-02-15T13:05:20.557Z"
   },
   {
    "duration": 154,
    "start_time": "2023-02-15T13:06:29.189Z"
   },
   {
    "duration": 132,
    "start_time": "2023-02-15T13:06:31.966Z"
   },
   {
    "duration": 2518,
    "start_time": "2023-02-15T13:06:54.664Z"
   },
   {
    "duration": 2413,
    "start_time": "2023-02-15T13:07:00.866Z"
   },
   {
    "duration": 95,
    "start_time": "2023-02-15T13:08:23.795Z"
   },
   {
    "duration": 2421,
    "start_time": "2023-02-15T13:08:44.308Z"
   },
   {
    "duration": 3808,
    "start_time": "2023-02-15T13:09:28.660Z"
   },
   {
    "duration": 2433,
    "start_time": "2023-02-15T13:09:47.329Z"
   },
   {
    "duration": 2536,
    "start_time": "2023-02-15T13:09:59.870Z"
   },
   {
    "duration": 4,
    "start_time": "2023-02-15T13:10:35.332Z"
   },
   {
    "duration": 2396,
    "start_time": "2023-02-15T13:10:39.021Z"
   },
   {
    "duration": 2439,
    "start_time": "2023-02-15T13:11:16.138Z"
   },
   {
    "duration": 27,
    "start_time": "2023-02-15T13:12:11.823Z"
   },
   {
    "duration": 2594,
    "start_time": "2023-02-15T13:13:06.289Z"
   },
   {
    "duration": 17,
    "start_time": "2023-02-15T13:13:15.302Z"
   },
   {
    "duration": 3742,
    "start_time": "2023-02-15T13:13:18.785Z"
   },
   {
    "duration": 2925,
    "start_time": "2023-02-15T13:13:28.742Z"
   },
   {
    "duration": 2696,
    "start_time": "2023-02-15T13:13:38.131Z"
   },
   {
    "duration": 2837,
    "start_time": "2023-02-15T13:13:43.922Z"
   },
   {
    "duration": 2903,
    "start_time": "2023-02-15T13:17:14.104Z"
   },
   {
    "duration": 4247,
    "start_time": "2023-02-15T13:17:25.587Z"
   },
   {
    "duration": 2713,
    "start_time": "2023-02-15T13:18:20.246Z"
   },
   {
    "duration": 2602,
    "start_time": "2023-02-15T13:18:26.403Z"
   },
   {
    "duration": 2814,
    "start_time": "2023-02-15T13:18:32.556Z"
   },
   {
    "duration": 2673,
    "start_time": "2023-02-15T13:18:42.398Z"
   },
   {
    "duration": 2386,
    "start_time": "2023-02-15T13:19:13.287Z"
   },
   {
    "duration": 3693,
    "start_time": "2023-02-15T13:19:20.411Z"
   },
   {
    "duration": 2450,
    "start_time": "2023-02-15T13:20:41.641Z"
   },
   {
    "duration": 2413,
    "start_time": "2023-02-15T13:22:09.353Z"
   },
   {
    "duration": 2602,
    "start_time": "2023-02-15T13:22:19.918Z"
   },
   {
    "duration": 5,
    "start_time": "2023-02-15T13:24:09.992Z"
   },
   {
    "duration": 2224,
    "start_time": "2023-02-15T13:24:17.572Z"
   },
   {
    "duration": 2193,
    "start_time": "2023-02-15T13:25:07.599Z"
   },
   {
    "duration": 119,
    "start_time": "2023-02-15T13:25:32.074Z"
   },
   {
    "duration": 3276,
    "start_time": "2023-02-15T13:25:42.073Z"
   },
   {
    "duration": 1932,
    "start_time": "2023-02-15T13:25:59.961Z"
   },
   {
    "duration": 134,
    "start_time": "2023-02-15T13:26:41.948Z"
   },
   {
    "duration": 1805,
    "start_time": "2023-02-15T13:26:51.497Z"
   },
   {
    "duration": 1927,
    "start_time": "2023-02-15T13:27:01.104Z"
   },
   {
    "duration": 1860,
    "start_time": "2023-02-15T13:27:21.624Z"
   },
   {
    "duration": 5,
    "start_time": "2023-02-15T13:28:35.246Z"
   },
   {
    "duration": 6,
    "start_time": "2023-02-15T13:28:38.313Z"
   },
   {
    "duration": 73,
    "start_time": "2023-02-15T13:28:45.815Z"
   },
   {
    "duration": 2029,
    "start_time": "2023-02-15T13:28:52.887Z"
   },
   {
    "duration": 2064,
    "start_time": "2023-02-15T13:29:39.025Z"
   },
   {
    "duration": 6,
    "start_time": "2023-02-15T13:31:04.578Z"
   },
   {
    "duration": 4,
    "start_time": "2023-02-15T13:31:08.882Z"
   },
   {
    "duration": 2061,
    "start_time": "2023-02-15T13:31:24.078Z"
   },
   {
    "duration": 3,
    "start_time": "2023-02-15T13:32:05.709Z"
   },
   {
    "duration": 5,
    "start_time": "2023-02-15T13:32:12.563Z"
   },
   {
    "duration": 2251,
    "start_time": "2023-02-15T13:32:21.803Z"
   },
   {
    "duration": 1923,
    "start_time": "2023-02-15T13:32:24.057Z"
   },
   {
    "duration": 3,
    "start_time": "2023-02-15T13:32:25.981Z"
   },
   {
    "duration": 54,
    "start_time": "2023-02-15T13:32:25.986Z"
   },
   {
    "duration": 127,
    "start_time": "2023-02-15T13:32:26.041Z"
   },
   {
    "duration": 14,
    "start_time": "2023-02-15T13:32:26.169Z"
   },
   {
    "duration": 64,
    "start_time": "2023-02-15T13:32:26.185Z"
   },
   {
    "duration": 3,
    "start_time": "2023-02-15T13:32:26.251Z"
   },
   {
    "duration": 11,
    "start_time": "2023-02-15T13:32:26.255Z"
   },
   {
    "duration": 16,
    "start_time": "2023-02-15T13:32:26.269Z"
   },
   {
    "duration": 4,
    "start_time": "2023-02-15T13:32:26.286Z"
   },
   {
    "duration": 79,
    "start_time": "2023-02-15T13:32:26.291Z"
   },
   {
    "duration": 89,
    "start_time": "2023-02-15T13:32:26.371Z"
   },
   {
    "duration": 7,
    "start_time": "2023-02-15T13:32:26.462Z"
   },
   {
    "duration": 5,
    "start_time": "2023-02-15T13:32:26.470Z"
   },
   {
    "duration": 9,
    "start_time": "2023-02-15T13:32:26.477Z"
   },
   {
    "duration": 11584,
    "start_time": "2023-02-15T13:32:26.487Z"
   },
   {
    "duration": 9,
    "start_time": "2023-02-15T13:32:38.073Z"
   },
   {
    "duration": 11,
    "start_time": "2023-02-15T13:32:38.084Z"
   },
   {
    "duration": 52,
    "start_time": "2023-02-15T13:32:38.098Z"
   },
   {
    "duration": 14,
    "start_time": "2023-02-15T13:32:38.151Z"
   },
   {
    "duration": 18,
    "start_time": "2023-02-15T13:32:38.166Z"
   },
   {
    "duration": 13,
    "start_time": "2023-02-15T13:32:38.185Z"
   },
   {
    "duration": 10,
    "start_time": "2023-02-15T13:32:38.200Z"
   },
   {
    "duration": 9,
    "start_time": "2023-02-15T13:32:38.211Z"
   },
   {
    "duration": 4,
    "start_time": "2023-02-15T13:32:38.221Z"
   },
   {
    "duration": 3,
    "start_time": "2023-02-15T13:32:38.247Z"
   },
   {
    "duration": 76,
    "start_time": "2023-02-15T13:32:38.252Z"
   },
   {
    "duration": 2342,
    "start_time": "2023-02-15T13:32:38.347Z"
   },
   {
    "duration": 2290,
    "start_time": "2023-02-15T13:34:16.072Z"
   },
   {
    "duration": 1943,
    "start_time": "2023-02-15T13:34:18.365Z"
   },
   {
    "duration": 3,
    "start_time": "2023-02-15T13:34:20.310Z"
   },
   {
    "duration": 55,
    "start_time": "2023-02-15T13:34:20.314Z"
   },
   {
    "duration": 114,
    "start_time": "2023-02-15T13:34:20.370Z"
   },
   {
    "duration": 13,
    "start_time": "2023-02-15T13:34:20.485Z"
   },
   {
    "duration": 57,
    "start_time": "2023-02-15T13:34:20.499Z"
   },
   {
    "duration": 3,
    "start_time": "2023-02-15T13:34:20.558Z"
   },
   {
    "duration": 10,
    "start_time": "2023-02-15T13:34:20.562Z"
   },
   {
    "duration": 15,
    "start_time": "2023-02-15T13:34:20.574Z"
   },
   {
    "duration": 4,
    "start_time": "2023-02-15T13:34:20.590Z"
   },
   {
    "duration": 79,
    "start_time": "2023-02-15T13:34:20.595Z"
   },
   {
    "duration": 85,
    "start_time": "2023-02-15T13:34:20.676Z"
   },
   {
    "duration": 6,
    "start_time": "2023-02-15T13:34:20.763Z"
   },
   {
    "duration": 12013,
    "start_time": "2023-02-15T13:34:20.771Z"
   },
   {
    "duration": 7,
    "start_time": "2023-02-15T13:34:32.786Z"
   },
   {
    "duration": 15,
    "start_time": "2023-02-15T13:34:32.795Z"
   },
   {
    "duration": 35,
    "start_time": "2023-02-15T13:34:32.814Z"
   },
   {
    "duration": 22,
    "start_time": "2023-02-15T13:34:32.852Z"
   },
   {
    "duration": 9,
    "start_time": "2023-02-15T13:34:32.876Z"
   },
   {
    "duration": 18,
    "start_time": "2023-02-15T13:34:32.887Z"
   },
   {
    "duration": 11,
    "start_time": "2023-02-15T13:34:32.907Z"
   },
   {
    "duration": 31,
    "start_time": "2023-02-15T13:34:32.920Z"
   },
   {
    "duration": 5,
    "start_time": "2023-02-15T13:34:32.953Z"
   },
   {
    "duration": 9,
    "start_time": "2023-02-15T13:34:32.959Z"
   },
   {
    "duration": 93,
    "start_time": "2023-02-15T13:34:32.970Z"
   },
   {
    "duration": 2294,
    "start_time": "2023-02-15T13:34:33.065Z"
   },
   {
    "duration": 2809,
    "start_time": "2023-02-15T13:37:51.480Z"
   },
   {
    "duration": 2750,
    "start_time": "2023-02-15T13:38:08.245Z"
   },
   {
    "duration": 164,
    "start_time": "2023-02-15T13:38:49.991Z"
   },
   {
    "duration": 2471,
    "start_time": "2023-02-15T13:38:58.135Z"
   },
   {
    "duration": 2949,
    "start_time": "2023-02-15T13:39:42.483Z"
   },
   {
    "duration": 2956,
    "start_time": "2023-02-15T13:39:54.044Z"
   },
   {
    "duration": 2431,
    "start_time": "2023-02-15T13:44:49.354Z"
   },
   {
    "duration": 2858,
    "start_time": "2023-02-15T13:45:03.033Z"
   },
   {
    "duration": 4298,
    "start_time": "2023-02-15T13:45:14.040Z"
   },
   {
    "duration": 3096,
    "start_time": "2023-02-15T13:48:14.326Z"
   },
   {
    "duration": 5189,
    "start_time": "2023-02-15T13:48:27.785Z"
   },
   {
    "duration": 2623,
    "start_time": "2023-02-15T13:56:30.825Z"
   },
   {
    "duration": 2803,
    "start_time": "2023-02-15T13:57:25.660Z"
   },
   {
    "duration": 2752,
    "start_time": "2023-02-15T13:57:37.676Z"
   },
   {
    "duration": 2158,
    "start_time": "2023-02-15T13:58:09.102Z"
   },
   {
    "duration": 2657,
    "start_time": "2023-02-15T13:58:17.958Z"
   },
   {
    "duration": 2746,
    "start_time": "2023-02-15T13:58:30.378Z"
   },
   {
    "duration": 2491,
    "start_time": "2023-02-15T13:58:37.757Z"
   },
   {
    "duration": 2891,
    "start_time": "2023-02-15T13:59:02.763Z"
   },
   {
    "duration": 2874,
    "start_time": "2023-02-15T13:59:34.368Z"
   },
   {
    "duration": 2250,
    "start_time": "2023-02-15T13:59:49.152Z"
   },
   {
    "duration": 2947,
    "start_time": "2023-02-15T14:00:01.613Z"
   },
   {
    "duration": 2639,
    "start_time": "2023-02-15T14:00:09.776Z"
   },
   {
    "duration": 2392,
    "start_time": "2023-02-15T14:00:16.385Z"
   },
   {
    "duration": 2749,
    "start_time": "2023-02-15T14:00:24.638Z"
   },
   {
    "duration": 4,
    "start_time": "2023-02-15T14:14:53.034Z"
   },
   {
    "duration": 2708,
    "start_time": "2023-02-15T14:14:54.383Z"
   },
   {
    "duration": 6,
    "start_time": "2023-02-15T14:15:08.740Z"
   },
   {
    "duration": 2636,
    "start_time": "2023-02-15T14:15:10.266Z"
   },
   {
    "duration": 13531,
    "start_time": "2023-02-15T17:02:22.931Z"
   },
   {
    "duration": 1870,
    "start_time": "2023-02-15T17:02:36.466Z"
   },
   {
    "duration": 4,
    "start_time": "2023-02-15T17:02:38.338Z"
   },
   {
    "duration": 51,
    "start_time": "2023-02-15T17:02:38.344Z"
   },
   {
    "duration": 301,
    "start_time": "2023-02-15T17:02:38.397Z"
   },
   {
    "duration": 17,
    "start_time": "2023-02-15T17:02:38.700Z"
   },
   {
    "duration": 57,
    "start_time": "2023-02-15T17:02:38.719Z"
   },
   {
    "duration": 16,
    "start_time": "2023-02-15T17:02:38.778Z"
   },
   {
    "duration": 7,
    "start_time": "2023-02-15T17:02:38.796Z"
   },
   {
    "duration": 23,
    "start_time": "2023-02-15T17:02:38.806Z"
   },
   {
    "duration": 4,
    "start_time": "2023-02-15T17:02:38.831Z"
   },
   {
    "duration": 77,
    "start_time": "2023-02-15T17:02:38.837Z"
   },
   {
    "duration": 105,
    "start_time": "2023-02-15T17:02:38.916Z"
   },
   {
    "duration": 8,
    "start_time": "2023-02-15T17:02:39.022Z"
   },
   {
    "duration": 12660,
    "start_time": "2023-02-15T17:02:39.031Z"
   },
   {
    "duration": 11,
    "start_time": "2023-02-15T17:02:51.692Z"
   },
   {
    "duration": 18,
    "start_time": "2023-02-15T17:02:51.705Z"
   },
   {
    "duration": 15,
    "start_time": "2023-02-15T17:02:51.725Z"
   },
   {
    "duration": 14,
    "start_time": "2023-02-15T17:02:51.741Z"
   },
   {
    "duration": 6,
    "start_time": "2023-02-15T17:02:51.794Z"
   },
   {
    "duration": 9,
    "start_time": "2023-02-15T17:02:51.802Z"
   },
   {
    "duration": 8,
    "start_time": "2023-02-15T17:02:51.813Z"
   },
   {
    "duration": 12,
    "start_time": "2023-02-15T17:02:51.822Z"
   },
   {
    "duration": 9,
    "start_time": "2023-02-15T17:02:51.835Z"
   },
   {
    "duration": 6,
    "start_time": "2023-02-15T17:02:51.845Z"
   },
   {
    "duration": 117,
    "start_time": "2023-02-15T17:02:51.852Z"
   },
   {
    "duration": 2908,
    "start_time": "2023-02-15T17:02:51.970Z"
   },
   {
    "duration": 221,
    "start_time": "2023-02-15T17:05:04.793Z"
   },
   {
    "duration": 5,
    "start_time": "2023-02-15T17:06:57.558Z"
   },
   {
    "duration": 3,
    "start_time": "2023-02-15T17:07:44.913Z"
   },
   {
    "duration": 191,
    "start_time": "2023-02-15T17:09:01.174Z"
   },
   {
    "duration": 4,
    "start_time": "2023-02-15T17:09:06.760Z"
   },
   {
    "duration": 7,
    "start_time": "2023-02-15T17:11:14.924Z"
   },
   {
    "duration": 43,
    "start_time": "2023-02-15T17:11:22.736Z"
   },
   {
    "duration": 3,
    "start_time": "2023-02-15T17:11:39.695Z"
   },
   {
    "duration": 3,
    "start_time": "2023-02-15T17:12:11.402Z"
   },
   {
    "duration": 6,
    "start_time": "2023-02-15T17:12:14.694Z"
   },
   {
    "duration": 6,
    "start_time": "2023-02-15T17:12:17.384Z"
   },
   {
    "duration": 3,
    "start_time": "2023-02-15T17:13:55.488Z"
   },
   {
    "duration": 4,
    "start_time": "2023-02-15T17:14:02.754Z"
   },
   {
    "duration": 5,
    "start_time": "2023-02-15T17:16:32.190Z"
   },
   {
    "duration": 1249,
    "start_time": "2023-02-15T17:16:46.455Z"
   },
   {
    "duration": 626,
    "start_time": "2023-02-15T17:17:09.452Z"
   },
   {
    "duration": 6,
    "start_time": "2023-02-15T17:17:28.865Z"
   },
   {
    "duration": 13,
    "start_time": "2023-02-15T17:18:11.180Z"
   },
   {
    "duration": 10,
    "start_time": "2023-02-15T17:18:17.966Z"
   },
   {
    "duration": 6,
    "start_time": "2023-02-15T17:18:24.331Z"
   },
   {
    "duration": 6,
    "start_time": "2023-02-15T17:18:58.522Z"
   },
   {
    "duration": 6,
    "start_time": "2023-02-15T17:19:06.025Z"
   },
   {
    "duration": 623,
    "start_time": "2023-02-15T17:19:11.623Z"
   },
   {
    "duration": 646,
    "start_time": "2023-02-15T17:19:17.388Z"
   },
   {
    "duration": 6,
    "start_time": "2023-02-15T17:19:22.010Z"
   },
   {
    "duration": 5,
    "start_time": "2023-02-15T17:19:26.510Z"
   },
   {
    "duration": 10,
    "start_time": "2023-02-15T17:19:41.467Z"
   },
   {
    "duration": 4,
    "start_time": "2023-02-15T17:19:43.665Z"
   },
   {
    "duration": 7,
    "start_time": "2023-02-15T17:19:45.007Z"
   },
   {
    "duration": 629,
    "start_time": "2023-02-15T17:20:34.238Z"
   },
   {
    "duration": 26,
    "start_time": "2023-02-15T17:20:36.797Z"
   },
   {
    "duration": 6,
    "start_time": "2023-02-15T17:20:42.458Z"
   },
   {
    "duration": 8,
    "start_time": "2023-02-15T17:24:11.723Z"
   },
   {
    "duration": 15,
    "start_time": "2023-02-15T17:24:22.478Z"
   },
   {
    "duration": 13,
    "start_time": "2023-02-15T17:24:33.414Z"
   },
   {
    "duration": 14,
    "start_time": "2023-02-15T17:24:36.712Z"
   },
   {
    "duration": 18,
    "start_time": "2023-02-15T17:24:49.470Z"
   },
   {
    "duration": 9,
    "start_time": "2023-02-15T17:27:10.178Z"
   },
   {
    "duration": 8,
    "start_time": "2023-02-15T17:27:17.736Z"
   },
   {
    "duration": 10,
    "start_time": "2023-02-15T17:28:12.559Z"
   },
   {
    "duration": 10,
    "start_time": "2023-02-15T17:28:16.421Z"
   },
   {
    "duration": 10,
    "start_time": "2023-02-15T17:28:20.072Z"
   },
   {
    "duration": 5,
    "start_time": "2023-02-15T17:28:52.379Z"
   },
   {
    "duration": 5,
    "start_time": "2023-02-15T17:29:19.640Z"
   },
   {
    "duration": 5,
    "start_time": "2023-02-15T17:29:26.755Z"
   },
   {
    "duration": 55,
    "start_time": "2023-02-15T17:29:40.261Z"
   },
   {
    "duration": 5,
    "start_time": "2023-02-15T17:30:11.777Z"
   },
   {
    "duration": 26,
    "start_time": "2023-02-15T17:30:15.688Z"
   },
   {
    "duration": 4,
    "start_time": "2023-02-15T17:30:28.570Z"
   },
   {
    "duration": 22,
    "start_time": "2023-02-15T17:30:31.164Z"
   },
   {
    "duration": 4,
    "start_time": "2023-02-15T17:30:49.893Z"
   },
   {
    "duration": 23,
    "start_time": "2023-02-15T17:30:51.502Z"
   },
   {
    "duration": 3,
    "start_time": "2023-02-15T17:30:54.407Z"
   },
   {
    "duration": 19,
    "start_time": "2023-02-15T17:30:55.874Z"
   },
   {
    "duration": 4,
    "start_time": "2023-02-15T17:30:59.136Z"
   },
   {
    "duration": 21,
    "start_time": "2023-02-15T17:31:00.358Z"
   },
   {
    "duration": 3,
    "start_time": "2023-02-15T17:31:03.469Z"
   },
   {
    "duration": 22,
    "start_time": "2023-02-15T17:31:05.162Z"
   },
   {
    "duration": 4,
    "start_time": "2023-02-15T17:31:07.762Z"
   },
   {
    "duration": 21,
    "start_time": "2023-02-15T17:31:09.433Z"
   },
   {
    "duration": 4,
    "start_time": "2023-02-15T17:32:04.918Z"
   },
   {
    "duration": 25,
    "start_time": "2023-02-15T17:32:26.212Z"
   },
   {
    "duration": 4,
    "start_time": "2023-02-15T17:32:31.129Z"
   },
   {
    "duration": 5,
    "start_time": "2023-02-15T17:32:37.278Z"
   },
   {
    "duration": 17,
    "start_time": "2023-02-15T17:32:37.926Z"
   },
   {
    "duration": 13,
    "start_time": "2023-02-15T17:33:16.274Z"
   },
   {
    "duration": 25,
    "start_time": "2023-02-15T17:33:22.919Z"
   },
   {
    "duration": 24,
    "start_time": "2023-02-15T17:33:34.072Z"
   },
   {
    "duration": 26,
    "start_time": "2023-02-15T17:33:54.669Z"
   },
   {
    "duration": 5,
    "start_time": "2023-02-15T17:34:19.182Z"
   },
   {
    "duration": 25,
    "start_time": "2023-02-15T17:34:23.381Z"
   },
   {
    "duration": 27,
    "start_time": "2023-02-15T17:34:34.256Z"
   },
   {
    "duration": 5,
    "start_time": "2023-02-15T17:34:48.053Z"
   },
   {
    "duration": 5,
    "start_time": "2023-02-15T17:34:49.603Z"
   },
   {
    "duration": 28,
    "start_time": "2023-02-15T17:34:51.605Z"
   },
   {
    "duration": 24,
    "start_time": "2023-02-15T17:34:58.673Z"
   },
   {
    "duration": 6,
    "start_time": "2023-02-15T17:35:19.063Z"
   },
   {
    "duration": 5,
    "start_time": "2023-02-15T17:35:22.825Z"
   },
   {
    "duration": 29,
    "start_time": "2023-02-15T17:35:27.189Z"
   },
   {
    "duration": 5,
    "start_time": "2023-02-15T17:35:59.805Z"
   },
   {
    "duration": 27,
    "start_time": "2023-02-15T17:36:03.495Z"
   },
   {
    "duration": 5,
    "start_time": "2023-02-15T17:36:44.635Z"
   },
   {
    "duration": 12,
    "start_time": "2023-02-15T17:36:48.263Z"
   },
   {
    "duration": 5,
    "start_time": "2023-02-15T17:37:24.491Z"
   },
   {
    "duration": 27,
    "start_time": "2023-02-15T17:37:27.154Z"
   },
   {
    "duration": 3,
    "start_time": "2023-02-15T17:37:45.543Z"
   },
   {
    "duration": 3,
    "start_time": "2023-02-15T17:37:46.688Z"
   },
   {
    "duration": 34,
    "start_time": "2023-02-15T17:37:47.384Z"
   },
   {
    "duration": 39,
    "start_time": "2023-02-15T17:37:51.677Z"
   },
   {
    "duration": 89,
    "start_time": "2023-02-15T17:37:52.334Z"
   },
   {
    "duration": 4,
    "start_time": "2023-02-15T17:37:53.714Z"
   },
   {
    "duration": 5,
    "start_time": "2023-02-15T17:37:56.688Z"
   },
   {
    "duration": 85,
    "start_time": "2023-02-15T17:37:59.157Z"
   },
   {
    "duration": 9,
    "start_time": "2023-02-15T17:38:01.762Z"
   },
   {
    "duration": 5,
    "start_time": "2023-02-15T17:38:18.084Z"
   },
   {
    "duration": 17,
    "start_time": "2023-02-15T17:38:18.933Z"
   },
   {
    "duration": 25,
    "start_time": "2023-02-15T17:38:26.268Z"
   },
   {
    "duration": 25,
    "start_time": "2023-02-15T17:38:50.993Z"
   },
   {
    "duration": 5,
    "start_time": "2023-02-15T17:39:06.349Z"
   },
   {
    "duration": 25,
    "start_time": "2023-02-15T17:39:12.273Z"
   },
   {
    "duration": 5,
    "start_time": "2023-02-15T17:39:51.110Z"
   },
   {
    "duration": 5,
    "start_time": "2023-02-15T17:40:03.317Z"
   },
   {
    "duration": 5,
    "start_time": "2023-02-15T17:40:13.772Z"
   },
   {
    "duration": 13,
    "start_time": "2023-02-15T17:40:24.721Z"
   },
   {
    "duration": 5,
    "start_time": "2023-02-15T17:40:38.670Z"
   },
   {
    "duration": 11,
    "start_time": "2023-02-15T17:40:40.220Z"
   },
   {
    "duration": 31,
    "start_time": "2023-02-15T17:40:53.369Z"
   },
   {
    "duration": 2,
    "start_time": "2023-02-15T17:41:04.622Z"
   },
   {
    "duration": 9,
    "start_time": "2023-02-15T17:42:02.394Z"
   },
   {
    "duration": 25,
    "start_time": "2023-02-15T17:42:07.237Z"
   },
   {
    "duration": 15,
    "start_time": "2023-02-15T17:43:48.393Z"
   },
   {
    "duration": 4,
    "start_time": "2023-02-15T17:43:54.335Z"
   },
   {
    "duration": 3,
    "start_time": "2023-02-15T17:43:57.606Z"
   },
   {
    "duration": 4,
    "start_time": "2023-02-15T17:44:02.485Z"
   },
   {
    "duration": 5,
    "start_time": "2023-02-15T17:44:05.359Z"
   },
   {
    "duration": 14,
    "start_time": "2023-02-15T17:44:24.154Z"
   },
   {
    "duration": 18,
    "start_time": "2023-02-15T17:44:33.090Z"
   },
   {
    "duration": 13,
    "start_time": "2023-02-15T17:44:56.557Z"
   },
   {
    "duration": 35,
    "start_time": "2023-02-15T17:45:18.706Z"
   },
   {
    "duration": 3,
    "start_time": "2023-02-15T17:45:27.431Z"
   },
   {
    "duration": 3,
    "start_time": "2023-02-15T17:45:29.588Z"
   },
   {
    "duration": 35,
    "start_time": "2023-02-15T17:45:30.485Z"
   },
   {
    "duration": 3,
    "start_time": "2023-02-15T17:45:48.207Z"
   },
   {
    "duration": 37,
    "start_time": "2023-02-15T17:45:49.377Z"
   },
   {
    "duration": 5,
    "start_time": "2023-02-15T17:50:12.933Z"
   },
   {
    "duration": 48,
    "start_time": "2023-02-15T17:52:47.917Z"
   },
   {
    "duration": 45,
    "start_time": "2023-02-15T17:52:57.053Z"
   },
   {
    "duration": 3,
    "start_time": "2023-02-15T17:53:01.944Z"
   },
   {
    "duration": 45,
    "start_time": "2023-02-15T17:53:12.145Z"
   },
   {
    "duration": 44,
    "start_time": "2023-02-15T17:53:17.035Z"
   },
   {
    "duration": 4,
    "start_time": "2023-02-15T17:53:37.944Z"
   },
   {
    "duration": 6,
    "start_time": "2023-02-15T17:53:55.031Z"
   },
   {
    "duration": 3,
    "start_time": "2023-02-15T17:54:10.824Z"
   },
   {
    "duration": 6,
    "start_time": "2023-02-15T17:54:16.625Z"
   },
   {
    "duration": 4,
    "start_time": "2023-02-15T17:54:36.255Z"
   },
   {
    "duration": 3,
    "start_time": "2023-02-15T17:55:40.143Z"
   },
   {
    "duration": 3,
    "start_time": "2023-02-15T17:55:46.677Z"
   },
   {
    "duration": 3,
    "start_time": "2023-02-15T17:55:57.884Z"
   },
   {
    "duration": 14,
    "start_time": "2023-02-15T17:56:05.478Z"
   },
   {
    "duration": 29,
    "start_time": "2023-02-15T17:56:16.514Z"
   },
   {
    "duration": 13,
    "start_time": "2023-02-15T17:59:18.298Z"
   },
   {
    "duration": 3,
    "start_time": "2023-02-15T17:59:53.200Z"
   },
   {
    "duration": 23,
    "start_time": "2023-02-15T18:00:44.711Z"
   },
   {
    "duration": 3,
    "start_time": "2023-02-15T18:01:09.951Z"
   },
   {
    "duration": 44,
    "start_time": "2023-02-15T18:01:13.462Z"
   },
   {
    "duration": 12,
    "start_time": "2023-02-15T18:02:15.047Z"
   },
   {
    "duration": 10,
    "start_time": "2023-02-15T18:03:48.888Z"
   },
   {
    "duration": 14,
    "start_time": "2023-02-15T18:03:54.062Z"
   },
   {
    "duration": 27,
    "start_time": "2023-02-15T18:07:00.491Z"
   },
   {
    "duration": 25,
    "start_time": "2023-02-15T18:07:09.890Z"
   },
   {
    "duration": 25,
    "start_time": "2023-02-15T18:07:18.557Z"
   },
   {
    "duration": 11,
    "start_time": "2023-02-15T18:11:37.822Z"
   },
   {
    "duration": 3,
    "start_time": "2023-02-15T18:11:40.140Z"
   },
   {
    "duration": 11,
    "start_time": "2023-02-15T18:11:41.079Z"
   },
   {
    "duration": 23,
    "start_time": "2023-02-15T18:11:45.310Z"
   },
   {
    "duration": 9,
    "start_time": "2023-02-15T18:11:52.176Z"
   },
   {
    "duration": 17,
    "start_time": "2023-02-15T18:12:06.623Z"
   },
   {
    "duration": 12,
    "start_time": "2023-02-15T18:12:12.335Z"
   },
   {
    "duration": 10,
    "start_time": "2023-02-15T18:12:18.501Z"
   },
   {
    "duration": 10,
    "start_time": "2023-02-15T18:12:36.124Z"
   },
   {
    "duration": 11,
    "start_time": "2023-02-15T18:12:41.881Z"
   },
   {
    "duration": 11,
    "start_time": "2023-02-15T18:12:44.917Z"
   },
   {
    "duration": 10,
    "start_time": "2023-02-15T18:12:57.237Z"
   },
   {
    "duration": 11,
    "start_time": "2023-02-15T18:13:01.560Z"
   },
   {
    "duration": 12,
    "start_time": "2023-02-15T18:13:12.923Z"
   },
   {
    "duration": 11,
    "start_time": "2023-02-15T18:13:15.671Z"
   },
   {
    "duration": 11,
    "start_time": "2023-02-15T18:13:51.571Z"
   },
   {
    "duration": 10,
    "start_time": "2023-02-15T18:13:55.750Z"
   },
   {
    "duration": 12,
    "start_time": "2023-02-15T18:13:57.621Z"
   },
   {
    "duration": 12,
    "start_time": "2023-02-15T18:14:09.472Z"
   },
   {
    "duration": 11,
    "start_time": "2023-02-15T18:14:11.543Z"
   },
   {
    "duration": 11,
    "start_time": "2023-02-15T18:14:16.633Z"
   },
   {
    "duration": 29,
    "start_time": "2023-02-15T18:14:45.162Z"
   },
   {
    "duration": 25,
    "start_time": "2023-02-15T18:14:57.023Z"
   },
   {
    "duration": 3,
    "start_time": "2023-02-15T18:16:05.193Z"
   },
   {
    "duration": 3,
    "start_time": "2023-02-15T18:16:06.432Z"
   },
   {
    "duration": 32,
    "start_time": "2023-02-15T18:16:07.777Z"
   },
   {
    "duration": 3,
    "start_time": "2023-02-15T18:16:28.895Z"
   },
   {
    "duration": 29,
    "start_time": "2023-02-15T18:16:30.686Z"
   },
   {
    "duration": 3,
    "start_time": "2023-02-15T18:33:37.880Z"
   },
   {
    "duration": 2,
    "start_time": "2023-02-15T18:34:28.323Z"
   },
   {
    "duration": 12,
    "start_time": "2023-02-15T18:34:31.304Z"
   },
   {
    "duration": 4,
    "start_time": "2023-02-15T18:34:40.632Z"
   },
   {
    "duration": 16,
    "start_time": "2023-02-15T18:34:44.189Z"
   },
   {
    "duration": 10,
    "start_time": "2023-02-15T18:34:49.500Z"
   },
   {
    "duration": 15,
    "start_time": "2023-02-15T18:35:16.467Z"
   },
   {
    "duration": 15,
    "start_time": "2023-02-15T18:35:20.444Z"
   },
   {
    "duration": 15,
    "start_time": "2023-02-15T18:35:22.549Z"
   },
   {
    "duration": 221,
    "start_time": "2023-02-15T18:35:42.525Z"
   },
   {
    "duration": 3,
    "start_time": "2023-02-15T18:36:07.457Z"
   },
   {
    "duration": 10,
    "start_time": "2023-02-15T18:36:09.310Z"
   },
   {
    "duration": 10,
    "start_time": "2023-02-15T18:36:25.422Z"
   },
   {
    "duration": 10,
    "start_time": "2023-02-15T18:36:39.971Z"
   },
   {
    "duration": 9,
    "start_time": "2023-02-15T18:37:13.133Z"
   },
   {
    "duration": 11,
    "start_time": "2023-02-15T18:37:18.156Z"
   },
   {
    "duration": 19,
    "start_time": "2023-02-15T18:37:31.561Z"
   },
   {
    "duration": 21,
    "start_time": "2023-02-15T18:37:55.878Z"
   },
   {
    "duration": 16,
    "start_time": "2023-02-15T18:38:00.293Z"
   },
   {
    "duration": 9,
    "start_time": "2023-02-15T18:39:09.609Z"
   },
   {
    "duration": 10,
    "start_time": "2023-02-15T18:39:16.352Z"
   },
   {
    "duration": 10,
    "start_time": "2023-02-15T18:39:42.916Z"
   },
   {
    "duration": 12,
    "start_time": "2023-02-15T18:39:49.506Z"
   },
   {
    "duration": 2,
    "start_time": "2023-02-15T18:40:50.530Z"
   },
   {
    "duration": 15,
    "start_time": "2023-02-15T18:41:23.414Z"
   },
   {
    "duration": 11,
    "start_time": "2023-02-15T18:41:30.592Z"
   },
   {
    "duration": 27,
    "start_time": "2023-02-15T18:41:39.940Z"
   },
   {
    "duration": 3,
    "start_time": "2023-02-15T18:42:00.364Z"
   },
   {
    "duration": 26,
    "start_time": "2023-02-15T18:42:02.322Z"
   },
   {
    "duration": 3,
    "start_time": "2023-02-15T18:42:13.258Z"
   },
   {
    "duration": 42,
    "start_time": "2023-02-15T18:42:15.296Z"
   },
   {
    "duration": 3,
    "start_time": "2023-02-15T18:42:28.809Z"
   },
   {
    "duration": 20,
    "start_time": "2023-02-15T18:42:30.276Z"
   },
   {
    "duration": 3,
    "start_time": "2023-02-15T18:42:35.242Z"
   },
   {
    "duration": 3,
    "start_time": "2023-02-15T18:42:44.726Z"
   },
   {
    "duration": 25,
    "start_time": "2023-02-15T18:42:46.423Z"
   },
   {
    "duration": 4,
    "start_time": "2023-02-15T18:43:20.004Z"
   },
   {
    "duration": 10,
    "start_time": "2023-02-15T18:43:30.089Z"
   },
   {
    "duration": 3,
    "start_time": "2023-02-15T18:43:53.311Z"
   },
   {
    "duration": 36,
    "start_time": "2023-02-15T18:44:07.366Z"
   },
   {
    "duration": 4,
    "start_time": "2023-02-15T18:55:19.795Z"
   },
   {
    "duration": 5,
    "start_time": "2023-02-15T18:55:20.931Z"
   },
   {
    "duration": 3,
    "start_time": "2023-02-15T18:57:30.179Z"
   },
   {
    "duration": 5,
    "start_time": "2023-02-15T18:57:32.353Z"
   },
   {
    "duration": 10,
    "start_time": "2023-02-15T18:57:39.307Z"
   },
   {
    "duration": 4,
    "start_time": "2023-02-15T18:57:58.622Z"
   },
   {
    "duration": 13,
    "start_time": "2023-02-15T18:58:15.431Z"
   },
   {
    "duration": 12,
    "start_time": "2023-02-15T18:58:25.182Z"
   },
   {
    "duration": 3,
    "start_time": "2023-02-15T18:58:28.853Z"
   },
   {
    "duration": 18,
    "start_time": "2023-02-15T18:58:30.074Z"
   },
   {
    "duration": 4,
    "start_time": "2023-02-15T18:59:04.385Z"
   },
   {
    "duration": 3,
    "start_time": "2023-02-15T18:59:21.535Z"
   },
   {
    "duration": 16,
    "start_time": "2023-02-15T18:59:23.881Z"
   },
   {
    "duration": 4,
    "start_time": "2023-02-15T19:00:43.402Z"
   },
   {
    "duration": 24,
    "start_time": "2023-02-15T19:00:45.542Z"
   },
   {
    "duration": 3,
    "start_time": "2023-02-15T19:01:53.993Z"
   },
   {
    "duration": 30,
    "start_time": "2023-02-15T19:01:56.415Z"
   },
   {
    "duration": 6,
    "start_time": "2023-02-15T19:03:32.166Z"
   },
   {
    "duration": 7,
    "start_time": "2023-02-15T19:03:46.131Z"
   },
   {
    "duration": 27,
    "start_time": "2023-02-15T19:03:49.647Z"
   },
   {
    "duration": 5,
    "start_time": "2023-02-15T19:04:07.053Z"
   },
   {
    "duration": 737,
    "start_time": "2023-02-15T19:05:39.646Z"
   },
   {
    "duration": 14,
    "start_time": "2023-02-15T19:05:50.797Z"
   },
   {
    "duration": 750,
    "start_time": "2023-02-15T19:06:00.107Z"
   },
   {
    "duration": 11,
    "start_time": "2023-02-15T19:06:08.706Z"
   },
   {
    "duration": 10,
    "start_time": "2023-02-15T19:06:12.105Z"
   },
   {
    "duration": 6,
    "start_time": "2023-02-15T19:06:15.039Z"
   },
   {
    "duration": 7,
    "start_time": "2023-02-15T19:06:19.388Z"
   },
   {
    "duration": 4,
    "start_time": "2023-02-15T19:06:45.957Z"
   },
   {
    "duration": 5,
    "start_time": "2023-02-15T19:06:57.463Z"
   },
   {
    "duration": 4,
    "start_time": "2023-02-15T19:07:16.932Z"
   },
   {
    "duration": 4,
    "start_time": "2023-02-15T19:07:37.237Z"
   },
   {
    "duration": 4,
    "start_time": "2023-02-15T19:07:39.090Z"
   },
   {
    "duration": 34,
    "start_time": "2023-02-15T19:07:46.749Z"
   },
   {
    "duration": 4,
    "start_time": "2023-02-15T19:08:18.488Z"
   },
   {
    "duration": 5,
    "start_time": "2023-02-15T19:08:20.501Z"
   },
   {
    "duration": 32,
    "start_time": "2023-02-15T19:08:23.161Z"
   },
   {
    "duration": 3,
    "start_time": "2023-02-15T19:08:38.190Z"
   },
   {
    "duration": 32,
    "start_time": "2023-02-15T19:08:39.930Z"
   },
   {
    "duration": 12,
    "start_time": "2023-02-15T19:09:05.512Z"
   },
   {
    "duration": 116,
    "start_time": "2023-02-15T19:09:23.258Z"
   },
   {
    "duration": 75,
    "start_time": "2023-02-15T19:09:29.405Z"
   },
   {
    "duration": 73,
    "start_time": "2023-02-15T19:09:33.526Z"
   },
   {
    "duration": 84,
    "start_time": "2023-02-15T19:09:41.670Z"
   },
   {
    "duration": 77,
    "start_time": "2023-02-15T19:10:03.231Z"
   },
   {
    "duration": 83,
    "start_time": "2023-02-15T19:10:14.448Z"
   },
   {
    "duration": 82,
    "start_time": "2023-02-15T19:10:17.606Z"
   },
   {
    "duration": 84,
    "start_time": "2023-02-15T19:10:22.301Z"
   },
   {
    "duration": 84,
    "start_time": "2023-02-15T19:10:25.864Z"
   },
   {
    "duration": 4,
    "start_time": "2023-02-15T19:10:30.034Z"
   },
   {
    "duration": 34,
    "start_time": "2023-02-15T19:10:32.378Z"
   },
   {
    "duration": 3,
    "start_time": "2023-02-15T19:10:49.050Z"
   },
   {
    "duration": 5,
    "start_time": "2023-02-15T19:10:50.437Z"
   },
   {
    "duration": 25,
    "start_time": "2023-02-15T19:13:33.213Z"
   },
   {
    "duration": 5,
    "start_time": "2023-02-15T19:13:38.625Z"
   },
   {
    "duration": 5,
    "start_time": "2023-02-15T19:13:43.697Z"
   },
   {
    "duration": 6,
    "start_time": "2023-02-15T19:13:50.349Z"
   },
   {
    "duration": 6,
    "start_time": "2023-02-15T19:13:58.011Z"
   },
   {
    "duration": 4,
    "start_time": "2023-02-15T19:14:43.674Z"
   },
   {
    "duration": 36,
    "start_time": "2023-02-15T19:14:45.802Z"
   },
   {
    "duration": 7,
    "start_time": "2023-02-15T19:15:13.622Z"
   },
   {
    "duration": 19,
    "start_time": "2023-02-15T19:15:50.260Z"
   },
   {
    "duration": 20,
    "start_time": "2023-02-15T19:16:12.415Z"
   },
   {
    "duration": 4,
    "start_time": "2023-02-15T19:16:55.893Z"
   },
   {
    "duration": 4,
    "start_time": "2023-02-15T19:17:17.974Z"
   },
   {
    "duration": 27,
    "start_time": "2023-02-15T19:17:23.544Z"
   },
   {
    "duration": 6,
    "start_time": "2023-02-15T19:17:34.544Z"
   },
   {
    "duration": 6,
    "start_time": "2023-02-15T19:17:37.888Z"
   },
   {
    "duration": 33,
    "start_time": "2023-02-15T19:17:39.530Z"
   },
   {
    "duration": 5,
    "start_time": "2023-02-15T19:17:59.897Z"
   },
   {
    "duration": 35,
    "start_time": "2023-02-15T19:18:04.547Z"
   },
   {
    "duration": 9,
    "start_time": "2023-02-15T19:18:25.265Z"
   },
   {
    "duration": 3,
    "start_time": "2023-02-15T19:18:35.021Z"
   },
   {
    "duration": 4,
    "start_time": "2023-02-15T19:18:36.602Z"
   },
   {
    "duration": 5,
    "start_time": "2023-02-15T19:18:49.278Z"
   },
   {
    "duration": 5,
    "start_time": "2023-02-15T19:18:56.000Z"
   },
   {
    "duration": 9,
    "start_time": "2023-02-15T19:18:58.268Z"
   },
   {
    "duration": 4,
    "start_time": "2023-02-15T19:19:52.559Z"
   },
   {
    "duration": 9,
    "start_time": "2023-02-15T19:19:55.398Z"
   },
   {
    "duration": 4,
    "start_time": "2023-02-15T19:20:18.577Z"
   },
   {
    "duration": 11,
    "start_time": "2023-02-15T19:20:22.159Z"
   },
   {
    "duration": 4,
    "start_time": "2023-02-15T19:20:41.867Z"
   },
   {
    "duration": 16,
    "start_time": "2023-02-15T19:20:44.144Z"
   },
   {
    "duration": 10,
    "start_time": "2023-02-15T19:20:58.633Z"
   },
   {
    "duration": 35,
    "start_time": "2023-02-15T19:21:06.163Z"
   },
   {
    "duration": 15,
    "start_time": "2023-02-15T19:21:30.505Z"
   },
   {
    "duration": 4,
    "start_time": "2023-02-15T19:21:49.912Z"
   },
   {
    "duration": 14,
    "start_time": "2023-02-15T19:21:52.869Z"
   },
   {
    "duration": 4,
    "start_time": "2023-02-15T19:22:15.568Z"
   },
   {
    "duration": 14,
    "start_time": "2023-02-15T19:22:20.094Z"
   },
   {
    "duration": 5,
    "start_time": "2023-02-15T19:22:34.041Z"
   },
   {
    "duration": 12,
    "start_time": "2023-02-15T19:22:36.814Z"
   },
   {
    "duration": 5,
    "start_time": "2023-02-15T19:22:48.429Z"
   },
   {
    "duration": 14,
    "start_time": "2023-02-15T19:22:51.665Z"
   },
   {
    "duration": 5,
    "start_time": "2023-02-15T19:23:01.227Z"
   },
   {
    "duration": 17,
    "start_time": "2023-02-15T19:23:04.186Z"
   },
   {
    "duration": 4,
    "start_time": "2023-02-15T19:23:32.863Z"
   },
   {
    "duration": 15,
    "start_time": "2023-02-15T19:23:36.595Z"
   },
   {
    "duration": 16,
    "start_time": "2023-02-15T19:24:48.910Z"
   },
   {
    "duration": 5,
    "start_time": "2023-02-15T19:24:57.273Z"
   },
   {
    "duration": 21,
    "start_time": "2023-02-15T19:25:04.202Z"
   },
   {
    "duration": 4,
    "start_time": "2023-02-15T19:25:22.375Z"
   },
   {
    "duration": 17,
    "start_time": "2023-02-15T19:25:25.215Z"
   },
   {
    "duration": 197,
    "start_time": "2023-02-15T19:25:29.768Z"
   },
   {
    "duration": 15,
    "start_time": "2023-02-15T19:25:33.907Z"
   },
   {
    "duration": 32,
    "start_time": "2023-02-15T19:25:39.387Z"
   },
   {
    "duration": 17,
    "start_time": "2023-02-15T19:26:23.053Z"
   },
   {
    "duration": 3,
    "start_time": "2023-02-15T19:26:24.436Z"
   },
   {
    "duration": 5,
    "start_time": "2023-02-15T19:26:25.028Z"
   },
   {
    "duration": 4,
    "start_time": "2023-02-15T19:26:26.286Z"
   },
   {
    "duration": 4,
    "start_time": "2023-02-15T19:26:26.957Z"
   },
   {
    "duration": 10,
    "start_time": "2023-02-15T19:26:44.285Z"
   },
   {
    "duration": 7,
    "start_time": "2023-02-15T19:26:46.065Z"
   },
   {
    "duration": 3,
    "start_time": "2023-02-15T19:26:46.764Z"
   },
   {
    "duration": 7,
    "start_time": "2023-02-15T19:26:50.676Z"
   },
   {
    "duration": 32,
    "start_time": "2023-02-15T19:26:57.903Z"
   },
   {
    "duration": 4,
    "start_time": "2023-02-15T19:32:04.793Z"
   },
   {
    "duration": 35,
    "start_time": "2023-02-15T19:32:31.836Z"
   },
   {
    "duration": 3,
    "start_time": "2023-02-15T19:33:17.367Z"
   },
   {
    "duration": 3,
    "start_time": "2023-02-15T19:33:50.132Z"
   },
   {
    "duration": 32,
    "start_time": "2023-02-15T19:33:53.842Z"
   },
   {
    "duration": 18,
    "start_time": "2023-02-15T19:34:22.868Z"
   },
   {
    "duration": 3,
    "start_time": "2023-02-15T19:34:24.804Z"
   },
   {
    "duration": 5,
    "start_time": "2023-02-15T19:34:25.450Z"
   },
   {
    "duration": 4,
    "start_time": "2023-02-15T19:34:26.863Z"
   },
   {
    "duration": 4,
    "start_time": "2023-02-15T19:34:27.983Z"
   },
   {
    "duration": 4,
    "start_time": "2023-02-15T19:34:29.206Z"
   },
   {
    "duration": 11,
    "start_time": "2023-02-15T19:34:30.388Z"
   },
   {
    "duration": 6,
    "start_time": "2023-02-15T19:34:31.234Z"
   },
   {
    "duration": 2,
    "start_time": "2023-02-15T19:34:32.639Z"
   },
   {
    "duration": 7,
    "start_time": "2023-02-15T19:34:33.355Z"
   },
   {
    "duration": 46,
    "start_time": "2023-02-15T19:34:34.162Z"
   },
   {
    "duration": 5,
    "start_time": "2023-02-15T19:37:05.864Z"
   },
   {
    "duration": 16,
    "start_time": "2023-02-15T19:37:18.829Z"
   },
   {
    "duration": 5,
    "start_time": "2023-02-15T19:37:21.013Z"
   },
   {
    "duration": 10,
    "start_time": "2023-02-15T19:37:23.618Z"
   },
   {
    "duration": 30,
    "start_time": "2023-02-15T19:37:25.341Z"
   },
   {
    "duration": 3,
    "start_time": "2023-02-15T19:37:58.223Z"
   },
   {
    "duration": 19,
    "start_time": "2023-02-15T19:38:02.253Z"
   },
   {
    "duration": 4,
    "start_time": "2023-02-15T19:38:03.770Z"
   },
   {
    "duration": 4,
    "start_time": "2023-02-15T19:38:07.318Z"
   },
   {
    "duration": 4,
    "start_time": "2023-02-15T19:38:09.517Z"
   },
   {
    "duration": 8,
    "start_time": "2023-02-15T19:38:12.323Z"
   },
   {
    "duration": 18,
    "start_time": "2023-02-15T19:38:50.688Z"
   },
   {
    "duration": 18,
    "start_time": "2023-02-15T19:39:17.786Z"
   },
   {
    "duration": 18,
    "start_time": "2023-02-15T19:40:43.353Z"
   },
   {
    "duration": 8,
    "start_time": "2023-02-15T19:40:46.854Z"
   },
   {
    "duration": 19,
    "start_time": "2023-02-15T19:40:48.185Z"
   },
   {
    "duration": 3,
    "start_time": "2023-02-15T19:46:45.639Z"
   },
   {
    "duration": 2,
    "start_time": "2023-02-15T19:46:55.009Z"
   },
   {
    "duration": 3,
    "start_time": "2023-02-15T19:53:12.038Z"
   },
   {
    "duration": 52,
    "start_time": "2023-02-15T20:00:52.316Z"
   },
   {
    "duration": 5,
    "start_time": "2023-02-15T20:01:12.434Z"
   },
   {
    "duration": 21,
    "start_time": "2023-02-15T20:01:25.283Z"
   },
   {
    "duration": 23,
    "start_time": "2023-02-15T20:01:35.298Z"
   },
   {
    "duration": 6,
    "start_time": "2023-02-15T20:01:53.097Z"
   },
   {
    "duration": 2455,
    "start_time": "2023-02-15T20:01:54.733Z"
   },
   {
    "duration": 5,
    "start_time": "2023-02-15T20:02:38.734Z"
   },
   {
    "duration": 2646,
    "start_time": "2023-02-15T20:02:39.633Z"
   },
   {
    "duration": 4,
    "start_time": "2023-02-15T20:03:14.902Z"
   },
   {
    "duration": 4,
    "start_time": "2023-02-15T20:04:31.222Z"
   },
   {
    "duration": 3,
    "start_time": "2023-02-15T20:04:31.889Z"
   },
   {
    "duration": 5,
    "start_time": "2023-02-15T20:04:32.825Z"
   },
   {
    "duration": 4,
    "start_time": "2023-02-15T20:04:34.296Z"
   },
   {
    "duration": 4,
    "start_time": "2023-02-15T20:04:34.954Z"
   },
   {
    "duration": 3,
    "start_time": "2023-02-15T20:04:36.036Z"
   },
   {
    "duration": 9,
    "start_time": "2023-02-15T20:04:37.887Z"
   },
   {
    "duration": 6,
    "start_time": "2023-02-15T20:04:38.680Z"
   },
   {
    "duration": 3,
    "start_time": "2023-02-15T20:04:39.369Z"
   },
   {
    "duration": 8,
    "start_time": "2023-02-15T20:04:40.613Z"
   },
   {
    "duration": 17,
    "start_time": "2023-02-15T20:04:41.413Z"
   },
   {
    "duration": 7,
    "start_time": "2023-02-15T20:05:53.587Z"
   },
   {
    "duration": 3,
    "start_time": "2023-02-15T20:06:02.820Z"
   },
   {
    "duration": 6,
    "start_time": "2023-02-15T20:06:06.695Z"
   },
   {
    "duration": 712,
    "start_time": "2023-02-15T20:06:13.494Z"
   },
   {
    "duration": 4,
    "start_time": "2023-02-15T20:06:22.404Z"
   },
   {
    "duration": 42,
    "start_time": "2023-02-15T20:06:25.296Z"
   },
   {
    "duration": 4,
    "start_time": "2023-02-15T20:07:06.529Z"
   },
   {
    "duration": 45,
    "start_time": "2023-02-15T20:07:07.859Z"
   },
   {
    "duration": 23,
    "start_time": "2023-02-15T20:09:43.576Z"
   },
   {
    "duration": 40,
    "start_time": "2023-02-15T20:09:47.637Z"
   },
   {
    "duration": 692,
    "start_time": "2023-02-15T20:09:51.553Z"
   },
   {
    "duration": 2,
    "start_time": "2023-02-15T20:10:31.623Z"
   },
   {
    "duration": 3,
    "start_time": "2023-02-15T20:10:38.009Z"
   },
   {
    "duration": 3,
    "start_time": "2023-02-15T20:12:14.547Z"
   },
   {
    "duration": 4,
    "start_time": "2023-02-15T20:12:29.244Z"
   },
   {
    "duration": 4,
    "start_time": "2023-02-15T20:12:30.959Z"
   },
   {
    "duration": 15,
    "start_time": "2023-02-15T20:12:42.208Z"
   },
   {
    "duration": 3,
    "start_time": "2023-02-15T20:13:08.710Z"
   },
   {
    "duration": 18,
    "start_time": "2023-02-15T20:13:10.740Z"
   },
   {
    "duration": 4,
    "start_time": "2023-02-15T20:13:20.363Z"
   },
   {
    "duration": 4,
    "start_time": "2023-02-15T20:13:21.769Z"
   },
   {
    "duration": 23,
    "start_time": "2023-02-15T20:13:22.933Z"
   },
   {
    "duration": 26,
    "start_time": "2023-02-15T20:13:57.607Z"
   },
   {
    "duration": 4,
    "start_time": "2023-02-15T20:14:23.478Z"
   },
   {
    "duration": 4,
    "start_time": "2023-02-15T20:14:26.699Z"
   },
   {
    "duration": 52,
    "start_time": "2023-02-15T20:14:28.485Z"
   },
   {
    "duration": 20,
    "start_time": "2023-02-15T20:14:55.273Z"
   },
   {
    "duration": 12,
    "start_time": "2023-02-15T20:15:05.919Z"
   },
   {
    "duration": 11,
    "start_time": "2023-02-15T20:15:19.060Z"
   },
   {
    "duration": 4,
    "start_time": "2023-02-15T20:18:30.822Z"
   },
   {
    "duration": 838,
    "start_time": "2023-02-15T20:18:51.818Z"
   },
   {
    "duration": 820,
    "start_time": "2023-02-15T20:19:22.880Z"
   },
   {
    "duration": 22,
    "start_time": "2023-02-15T20:19:41.746Z"
   },
   {
    "duration": 1355,
    "start_time": "2023-02-15T20:20:57.767Z"
   },
   {
    "duration": 2335,
    "start_time": "2023-02-15T20:21:42.173Z"
   },
   {
    "duration": 1810,
    "start_time": "2023-02-15T20:21:44.510Z"
   },
   {
    "duration": 3,
    "start_time": "2023-02-15T20:21:46.321Z"
   },
   {
    "duration": 38,
    "start_time": "2023-02-15T20:21:46.326Z"
   },
   {
    "duration": 104,
    "start_time": "2023-02-15T20:21:46.366Z"
   },
   {
    "duration": 12,
    "start_time": "2023-02-15T20:21:46.472Z"
   },
   {
    "duration": 51,
    "start_time": "2023-02-15T20:21:46.485Z"
   },
   {
    "duration": 3,
    "start_time": "2023-02-15T20:21:46.537Z"
   },
   {
    "duration": 7,
    "start_time": "2023-02-15T20:21:46.542Z"
   },
   {
    "duration": 15,
    "start_time": "2023-02-15T20:21:46.551Z"
   },
   {
    "duration": 3,
    "start_time": "2023-02-15T20:21:46.568Z"
   },
   {
    "duration": 74,
    "start_time": "2023-02-15T20:21:46.572Z"
   },
   {
    "duration": 80,
    "start_time": "2023-02-15T20:21:46.647Z"
   },
   {
    "duration": 7,
    "start_time": "2023-02-15T20:21:46.728Z"
   },
   {
    "duration": 11295,
    "start_time": "2023-02-15T20:21:46.736Z"
   },
   {
    "duration": 9,
    "start_time": "2023-02-15T20:21:58.033Z"
   },
   {
    "duration": 9,
    "start_time": "2023-02-15T20:21:58.043Z"
   },
   {
    "duration": 12,
    "start_time": "2023-02-15T20:21:58.054Z"
   },
   {
    "duration": 35,
    "start_time": "2023-02-15T20:21:58.068Z"
   },
   {
    "duration": 6,
    "start_time": "2023-02-15T20:21:58.104Z"
   },
   {
    "duration": 9,
    "start_time": "2023-02-15T20:21:58.111Z"
   },
   {
    "duration": 8,
    "start_time": "2023-02-15T20:21:58.122Z"
   },
   {
    "duration": 10,
    "start_time": "2023-02-15T20:21:58.131Z"
   },
   {
    "duration": 5,
    "start_time": "2023-02-15T20:21:58.142Z"
   },
   {
    "duration": 5,
    "start_time": "2023-02-15T20:21:58.148Z"
   },
   {
    "duration": 113,
    "start_time": "2023-02-15T20:21:58.154Z"
   },
   {
    "duration": 5,
    "start_time": "2023-02-15T20:21:58.268Z"
   },
   {
    "duration": 2566,
    "start_time": "2023-02-15T20:21:58.276Z"
   },
   {
    "duration": 4,
    "start_time": "2023-02-15T20:22:00.844Z"
   },
   {
    "duration": 33,
    "start_time": "2023-02-15T20:22:00.849Z"
   },
   {
    "duration": 18,
    "start_time": "2023-02-15T20:22:00.884Z"
   },
   {
    "duration": 26,
    "start_time": "2023-02-15T20:22:00.904Z"
   },
   {
    "duration": 40,
    "start_time": "2023-02-15T20:22:00.932Z"
   },
   {
    "duration": 24,
    "start_time": "2023-02-15T20:22:00.974Z"
   },
   {
    "duration": 22,
    "start_time": "2023-02-15T20:22:01.000Z"
   },
   {
    "duration": 18,
    "start_time": "2023-02-15T20:22:01.023Z"
   },
   {
    "duration": 32,
    "start_time": "2023-02-15T20:22:01.042Z"
   },
   {
    "duration": 843,
    "start_time": "2023-02-15T20:22:01.076Z"
   },
   {
    "duration": 158,
    "start_time": "2023-02-15T20:27:22.586Z"
   },
   {
    "duration": 27,
    "start_time": "2023-02-15T20:27:32.159Z"
   },
   {
    "duration": 877,
    "start_time": "2023-02-15T20:27:44.127Z"
   },
   {
    "duration": 13,
    "start_time": "2023-02-15T20:28:08.789Z"
   },
   {
    "duration": 24,
    "start_time": "2023-02-15T20:28:12.452Z"
   },
   {
    "duration": 28,
    "start_time": "2023-02-15T20:28:23.491Z"
   },
   {
    "duration": 24,
    "start_time": "2023-02-15T20:28:41.366Z"
   },
   {
    "duration": 3,
    "start_time": "2023-02-15T20:30:01.806Z"
   },
   {
    "duration": 4,
    "start_time": "2023-02-15T20:30:02.451Z"
   },
   {
    "duration": 786,
    "start_time": "2023-02-15T20:30:04.317Z"
   },
   {
    "duration": 23,
    "start_time": "2023-02-15T20:30:08.094Z"
   },
   {
    "duration": 11,
    "start_time": "2023-02-15T20:31:36.654Z"
   },
   {
    "duration": 4,
    "start_time": "2023-02-15T20:31:39.493Z"
   },
   {
    "duration": 62,
    "start_time": "2023-02-15T20:32:46.393Z"
   },
   {
    "duration": 42,
    "start_time": "2023-02-15T20:33:07.887Z"
   },
   {
    "duration": 52,
    "start_time": "2023-02-15T20:33:18.326Z"
   },
   {
    "duration": 45,
    "start_time": "2023-02-15T20:33:35.643Z"
   },
   {
    "duration": 1599,
    "start_time": "2023-02-15T20:33:55.088Z"
   },
   {
    "duration": 1831,
    "start_time": "2023-02-15T20:37:11.472Z"
   },
   {
    "duration": 2223,
    "start_time": "2023-02-15T20:47:39.978Z"
   },
   {
    "duration": 1871,
    "start_time": "2023-02-15T20:47:42.203Z"
   },
   {
    "duration": 3,
    "start_time": "2023-02-15T20:47:44.076Z"
   },
   {
    "duration": 39,
    "start_time": "2023-02-15T20:47:44.080Z"
   },
   {
    "duration": 124,
    "start_time": "2023-02-15T20:47:44.121Z"
   },
   {
    "duration": 13,
    "start_time": "2023-02-15T20:47:44.246Z"
   },
   {
    "duration": 57,
    "start_time": "2023-02-15T20:47:44.260Z"
   },
   {
    "duration": 3,
    "start_time": "2023-02-15T20:47:44.318Z"
   },
   {
    "duration": 10,
    "start_time": "2023-02-15T20:47:44.323Z"
   },
   {
    "duration": 22,
    "start_time": "2023-02-15T20:47:44.335Z"
   },
   {
    "duration": 6,
    "start_time": "2023-02-15T20:47:44.358Z"
   },
   {
    "duration": 70,
    "start_time": "2023-02-15T20:47:44.366Z"
   },
   {
    "duration": 88,
    "start_time": "2023-02-15T20:47:44.438Z"
   },
   {
    "duration": 7,
    "start_time": "2023-02-15T20:47:44.528Z"
   },
   {
    "duration": 11893,
    "start_time": "2023-02-15T20:47:44.537Z"
   },
   {
    "duration": 8,
    "start_time": "2023-02-15T20:47:56.432Z"
   },
   {
    "duration": 10,
    "start_time": "2023-02-15T20:47:56.442Z"
   },
   {
    "duration": 14,
    "start_time": "2023-02-15T20:47:56.454Z"
   },
   {
    "duration": 35,
    "start_time": "2023-02-15T20:47:56.470Z"
   },
   {
    "duration": 5,
    "start_time": "2023-02-15T20:47:56.506Z"
   },
   {
    "duration": 8,
    "start_time": "2023-02-15T20:47:56.513Z"
   },
   {
    "duration": 13,
    "start_time": "2023-02-15T20:47:56.522Z"
   },
   {
    "duration": 13,
    "start_time": "2023-02-15T20:47:56.536Z"
   },
   {
    "duration": 6,
    "start_time": "2023-02-15T20:47:56.551Z"
   },
   {
    "duration": 25,
    "start_time": "2023-02-15T20:47:56.558Z"
   },
   {
    "duration": 86,
    "start_time": "2023-02-15T20:47:56.584Z"
   },
   {
    "duration": 5,
    "start_time": "2023-02-15T20:47:56.671Z"
   },
   {
    "duration": 2613,
    "start_time": "2023-02-15T20:47:56.677Z"
   },
   {
    "duration": 4,
    "start_time": "2023-02-15T20:47:59.291Z"
   },
   {
    "duration": 5,
    "start_time": "2023-02-15T20:47:59.297Z"
   },
   {
    "duration": 5,
    "start_time": "2023-02-15T20:47:59.304Z"
   },
   {
    "duration": 5,
    "start_time": "2023-02-15T20:47:59.310Z"
   },
   {
    "duration": 6,
    "start_time": "2023-02-15T20:47:59.317Z"
   },
   {
    "duration": 5,
    "start_time": "2023-02-15T20:47:59.325Z"
   },
   {
    "duration": 5,
    "start_time": "2023-02-15T20:47:59.332Z"
   },
   {
    "duration": 6,
    "start_time": "2023-02-15T20:47:59.338Z"
   },
   {
    "duration": 6,
    "start_time": "2023-02-15T20:47:59.345Z"
   },
   {
    "duration": 801,
    "start_time": "2023-02-15T20:47:59.353Z"
   },
   {
    "duration": 23,
    "start_time": "2023-02-15T20:48:00.156Z"
   },
   {
    "duration": 1827,
    "start_time": "2023-02-15T20:48:00.181Z"
   },
   {
    "duration": 3,
    "start_time": "2023-02-15T20:49:18.836Z"
   },
   {
    "duration": 2269,
    "start_time": "2023-02-15T20:49:24.060Z"
   },
   {
    "duration": 1846,
    "start_time": "2023-02-15T20:49:26.331Z"
   },
   {
    "duration": 3,
    "start_time": "2023-02-15T20:49:28.178Z"
   },
   {
    "duration": 39,
    "start_time": "2023-02-15T20:49:28.183Z"
   },
   {
    "duration": 107,
    "start_time": "2023-02-15T20:49:28.223Z"
   },
   {
    "duration": 14,
    "start_time": "2023-02-15T20:49:28.332Z"
   },
   {
    "duration": 66,
    "start_time": "2023-02-15T20:49:28.347Z"
   },
   {
    "duration": 4,
    "start_time": "2023-02-15T20:49:28.414Z"
   },
   {
    "duration": 14,
    "start_time": "2023-02-15T20:49:28.420Z"
   },
   {
    "duration": 17,
    "start_time": "2023-02-15T20:49:28.436Z"
   },
   {
    "duration": 4,
    "start_time": "2023-02-15T20:49:28.454Z"
   },
   {
    "duration": 78,
    "start_time": "2023-02-15T20:49:28.460Z"
   },
   {
    "duration": 96,
    "start_time": "2023-02-15T20:49:28.539Z"
   },
   {
    "duration": 6,
    "start_time": "2023-02-15T20:49:28.637Z"
   },
   {
    "duration": 12109,
    "start_time": "2023-02-15T20:49:28.645Z"
   },
   {
    "duration": 10,
    "start_time": "2023-02-15T20:49:40.757Z"
   },
   {
    "duration": 29,
    "start_time": "2023-02-15T20:49:40.769Z"
   },
   {
    "duration": 15,
    "start_time": "2023-02-15T20:49:40.800Z"
   },
   {
    "duration": 18,
    "start_time": "2023-02-15T20:49:40.817Z"
   },
   {
    "duration": 7,
    "start_time": "2023-02-15T20:49:40.837Z"
   },
   {
    "duration": 9,
    "start_time": "2023-02-15T20:49:40.846Z"
   },
   {
    "duration": 39,
    "start_time": "2023-02-15T20:49:40.857Z"
   },
   {
    "duration": 11,
    "start_time": "2023-02-15T20:49:40.897Z"
   },
   {
    "duration": 4,
    "start_time": "2023-02-15T20:49:40.910Z"
   },
   {
    "duration": 14,
    "start_time": "2023-02-15T20:49:40.916Z"
   },
   {
    "duration": 91,
    "start_time": "2023-02-15T20:49:40.931Z"
   },
   {
    "duration": 4,
    "start_time": "2023-02-15T20:49:41.024Z"
   },
   {
    "duration": 2677,
    "start_time": "2023-02-15T20:49:41.031Z"
   },
   {
    "duration": 4,
    "start_time": "2023-02-15T20:49:43.710Z"
   },
   {
    "duration": 7,
    "start_time": "2023-02-15T20:49:43.715Z"
   },
   {
    "duration": 7,
    "start_time": "2023-02-15T20:49:43.723Z"
   },
   {
    "duration": 6,
    "start_time": "2023-02-15T20:49:43.731Z"
   },
   {
    "duration": 7,
    "start_time": "2023-02-15T20:49:43.738Z"
   },
   {
    "duration": 5,
    "start_time": "2023-02-15T20:49:43.747Z"
   },
   {
    "duration": 5,
    "start_time": "2023-02-15T20:49:43.754Z"
   },
   {
    "duration": 6,
    "start_time": "2023-02-15T20:49:43.760Z"
   },
   {
    "duration": 27,
    "start_time": "2023-02-15T20:49:43.767Z"
   },
   {
    "duration": 907,
    "start_time": "2023-02-15T20:49:43.795Z"
   },
   {
    "duration": 22,
    "start_time": "2023-02-15T20:49:44.704Z"
   },
   {
    "duration": 1825,
    "start_time": "2023-02-15T20:49:44.728Z"
   },
   {
    "duration": 153,
    "start_time": "2023-02-15T21:07:30.798Z"
   },
   {
    "duration": 202,
    "start_time": "2023-02-15T21:07:44.919Z"
   },
   {
    "duration": 154,
    "start_time": "2023-02-15T21:08:11.927Z"
   },
   {
    "duration": 14,
    "start_time": "2023-02-15T21:08:14.856Z"
   },
   {
    "duration": 369,
    "start_time": "2023-02-15T21:08:29.652Z"
   },
   {
    "duration": 5,
    "start_time": "2023-02-15T21:20:22.705Z"
   },
   {
    "duration": 4,
    "start_time": "2023-02-15T21:20:32.319Z"
   },
   {
    "duration": 4,
    "start_time": "2023-02-15T21:20:34.980Z"
   },
   {
    "duration": 16,
    "start_time": "2023-02-15T21:21:27.284Z"
   },
   {
    "duration": 213,
    "start_time": "2023-02-15T21:21:33.301Z"
   },
   {
    "duration": 421,
    "start_time": "2023-02-15T21:21:43.675Z"
   },
   {
    "duration": 394,
    "start_time": "2023-02-15T21:23:29.052Z"
   },
   {
    "duration": 125,
    "start_time": "2023-02-15T21:23:43.410Z"
   },
   {
    "duration": 374,
    "start_time": "2023-02-15T21:23:47.547Z"
   },
   {
    "duration": 601,
    "start_time": "2023-02-15T21:23:57.779Z"
   },
   {
    "duration": 350,
    "start_time": "2023-02-15T21:24:06.222Z"
   },
   {
    "duration": 40,
    "start_time": "2023-02-15T21:25:08.091Z"
   },
   {
    "duration": 46,
    "start_time": "2023-02-15T21:25:13.793Z"
   },
   {
    "duration": 144,
    "start_time": "2023-02-15T21:26:00.059Z"
   },
   {
    "duration": 11,
    "start_time": "2023-02-15T21:27:24.434Z"
   },
   {
    "duration": 4,
    "start_time": "2023-02-15T21:27:28.406Z"
   },
   {
    "duration": 4,
    "start_time": "2023-02-15T21:27:31.606Z"
   },
   {
    "duration": 15,
    "start_time": "2023-02-15T21:27:46.446Z"
   },
   {
    "duration": 261,
    "start_time": "2023-02-15T21:28:10.096Z"
   },
   {
    "duration": 379,
    "start_time": "2023-02-15T21:28:19.640Z"
   },
   {
    "duration": 335,
    "start_time": "2023-02-15T21:28:30.696Z"
   },
   {
    "duration": 342,
    "start_time": "2023-02-15T21:28:41.452Z"
   },
   {
    "duration": 337,
    "start_time": "2023-02-15T21:28:54.173Z"
   },
   {
    "duration": 612,
    "start_time": "2023-02-15T21:29:03.551Z"
   },
   {
    "duration": 369,
    "start_time": "2023-02-15T21:31:12.108Z"
   },
   {
    "duration": 279,
    "start_time": "2023-02-15T21:31:29.347Z"
   },
   {
    "duration": 200,
    "start_time": "2023-02-15T21:31:33.651Z"
   },
   {
    "duration": 210,
    "start_time": "2023-02-15T21:31:48.188Z"
   },
   {
    "duration": 350,
    "start_time": "2023-02-15T21:31:54.859Z"
   },
   {
    "duration": 2189,
    "start_time": "2023-02-15T21:37:11.500Z"
   },
   {
    "duration": 1948,
    "start_time": "2023-02-15T21:37:13.691Z"
   },
   {
    "duration": 3,
    "start_time": "2023-02-15T21:37:15.640Z"
   },
   {
    "duration": 44,
    "start_time": "2023-02-15T21:37:15.645Z"
   },
   {
    "duration": 109,
    "start_time": "2023-02-15T21:37:15.690Z"
   },
   {
    "duration": 14,
    "start_time": "2023-02-15T21:37:15.801Z"
   },
   {
    "duration": 56,
    "start_time": "2023-02-15T21:37:15.816Z"
   },
   {
    "duration": 4,
    "start_time": "2023-02-15T21:37:15.873Z"
   },
   {
    "duration": 20,
    "start_time": "2023-02-15T21:37:15.878Z"
   },
   {
    "duration": 19,
    "start_time": "2023-02-15T21:37:15.901Z"
   },
   {
    "duration": 4,
    "start_time": "2023-02-15T21:37:15.921Z"
   },
   {
    "duration": 73,
    "start_time": "2023-02-15T21:37:15.927Z"
   },
   {
    "duration": 95,
    "start_time": "2023-02-15T21:37:16.001Z"
   },
   {
    "duration": 7,
    "start_time": "2023-02-15T21:37:16.098Z"
   },
   {
    "duration": 11559,
    "start_time": "2023-02-15T21:37:16.107Z"
   },
   {
    "duration": 8,
    "start_time": "2023-02-15T21:37:27.667Z"
   },
   {
    "duration": 21,
    "start_time": "2023-02-15T21:37:27.676Z"
   },
   {
    "duration": 13,
    "start_time": "2023-02-15T21:37:27.698Z"
   },
   {
    "duration": 13,
    "start_time": "2023-02-15T21:37:27.712Z"
   },
   {
    "duration": 8,
    "start_time": "2023-02-15T21:37:27.726Z"
   },
   {
    "duration": 9,
    "start_time": "2023-02-15T21:37:27.735Z"
   },
   {
    "duration": 49,
    "start_time": "2023-02-15T21:37:27.746Z"
   },
   {
    "duration": 7,
    "start_time": "2023-02-15T21:37:27.797Z"
   },
   {
    "duration": 4,
    "start_time": "2023-02-15T21:37:27.806Z"
   },
   {
    "duration": 5,
    "start_time": "2023-02-15T21:37:27.811Z"
   },
   {
    "duration": 96,
    "start_time": "2023-02-15T21:37:27.817Z"
   },
   {
    "duration": 4,
    "start_time": "2023-02-15T21:37:27.914Z"
   },
   {
    "duration": 2656,
    "start_time": "2023-02-15T21:37:27.921Z"
   },
   {
    "duration": 4,
    "start_time": "2023-02-15T21:37:30.578Z"
   },
   {
    "duration": 24,
    "start_time": "2023-02-15T21:37:30.592Z"
   },
   {
    "duration": 23,
    "start_time": "2023-02-15T21:37:30.617Z"
   },
   {
    "duration": 22,
    "start_time": "2023-02-15T21:37:30.642Z"
   },
   {
    "duration": 16,
    "start_time": "2023-02-15T21:37:30.665Z"
   },
   {
    "duration": 40,
    "start_time": "2023-02-15T21:37:30.683Z"
   },
   {
    "duration": 23,
    "start_time": "2023-02-15T21:37:30.724Z"
   },
   {
    "duration": 21,
    "start_time": "2023-02-15T21:37:30.749Z"
   },
   {
    "duration": 994,
    "start_time": "2023-02-15T21:37:30.772Z"
   },
   {
    "duration": 32,
    "start_time": "2023-02-15T21:37:31.767Z"
   },
   {
    "duration": 1590,
    "start_time": "2023-02-15T21:37:31.800Z"
   },
   {
    "duration": 64,
    "start_time": "2023-02-16T10:15:18.630Z"
   },
   {
    "duration": 45,
    "start_time": "2023-02-16T10:15:37.655Z"
   },
   {
    "duration": 54,
    "start_time": "2023-02-16T10:15:53.938Z"
   },
   {
    "duration": 72,
    "start_time": "2023-02-16T10:16:48.070Z"
   },
   {
    "duration": 46,
    "start_time": "2023-02-16T10:17:20.651Z"
   },
   {
    "duration": 86,
    "start_time": "2023-02-16T10:18:14.779Z"
   },
   {
    "duration": 56,
    "start_time": "2023-02-16T10:19:47.752Z"
   },
   {
    "duration": 64,
    "start_time": "2023-02-16T10:23:38.151Z"
   },
   {
    "duration": 54,
    "start_time": "2023-02-16T10:23:56.436Z"
   },
   {
    "duration": 73,
    "start_time": "2023-02-16T10:26:23.374Z"
   },
   {
    "duration": 54,
    "start_time": "2023-02-16T10:27:18.047Z"
   },
   {
    "duration": 63,
    "start_time": "2023-02-16T10:27:40.039Z"
   },
   {
    "duration": 13892,
    "start_time": "2023-02-17T07:54:47.930Z"
   },
   {
    "duration": 2394,
    "start_time": "2023-02-17T07:55:01.824Z"
   },
   {
    "duration": 3,
    "start_time": "2023-02-17T07:55:04.220Z"
   },
   {
    "duration": 51,
    "start_time": "2023-02-17T07:55:04.226Z"
   },
   {
    "duration": 294,
    "start_time": "2023-02-17T07:55:04.278Z"
   },
   {
    "duration": 13,
    "start_time": "2023-02-17T07:55:04.574Z"
   },
   {
    "duration": 58,
    "start_time": "2023-02-17T07:55:04.589Z"
   },
   {
    "duration": 4,
    "start_time": "2023-02-17T07:55:04.649Z"
   },
   {
    "duration": 9,
    "start_time": "2023-02-17T07:55:04.655Z"
   },
   {
    "duration": 31,
    "start_time": "2023-02-17T07:55:04.666Z"
   },
   {
    "duration": 4,
    "start_time": "2023-02-17T07:55:04.699Z"
   },
   {
    "duration": 59,
    "start_time": "2023-02-17T07:55:04.705Z"
   },
   {
    "duration": 108,
    "start_time": "2023-02-17T07:55:04.766Z"
   },
   {
    "duration": 7,
    "start_time": "2023-02-17T07:55:04.875Z"
   },
   {
    "duration": 12080,
    "start_time": "2023-02-17T07:55:04.884Z"
   },
   {
    "duration": 10,
    "start_time": "2023-02-17T07:55:16.966Z"
   },
   {
    "duration": 10,
    "start_time": "2023-02-17T07:55:16.978Z"
   },
   {
    "duration": 12,
    "start_time": "2023-02-17T07:55:16.989Z"
   },
   {
    "duration": 34,
    "start_time": "2023-02-17T07:55:17.003Z"
   },
   {
    "duration": 6,
    "start_time": "2023-02-17T07:55:17.038Z"
   },
   {
    "duration": 9,
    "start_time": "2023-02-17T07:55:17.045Z"
   },
   {
    "duration": 8,
    "start_time": "2023-02-17T07:55:17.055Z"
   },
   {
    "duration": 10,
    "start_time": "2023-02-17T07:55:17.064Z"
   },
   {
    "duration": 5,
    "start_time": "2023-02-17T07:55:17.075Z"
   },
   {
    "duration": 5,
    "start_time": "2023-02-17T07:55:17.081Z"
   },
   {
    "duration": 115,
    "start_time": "2023-02-17T07:55:17.088Z"
   },
   {
    "duration": 5,
    "start_time": "2023-02-17T07:55:17.204Z"
   },
   {
    "duration": 2721,
    "start_time": "2023-02-17T07:55:17.212Z"
   },
   {
    "duration": 3,
    "start_time": "2023-02-17T07:55:19.935Z"
   },
   {
    "duration": 8,
    "start_time": "2023-02-17T07:55:19.939Z"
   },
   {
    "duration": 6,
    "start_time": "2023-02-17T07:55:19.948Z"
   },
   {
    "duration": 6,
    "start_time": "2023-02-17T07:55:19.955Z"
   },
   {
    "duration": 5,
    "start_time": "2023-02-17T07:55:19.962Z"
   },
   {
    "duration": 7,
    "start_time": "2023-02-17T07:55:19.968Z"
   },
   {
    "duration": 4,
    "start_time": "2023-02-17T07:55:19.976Z"
   },
   {
    "duration": 6,
    "start_time": "2023-02-17T07:55:19.982Z"
   },
   {
    "duration": 930,
    "start_time": "2023-02-17T07:55:19.990Z"
   },
   {
    "duration": 24,
    "start_time": "2023-02-17T07:55:20.926Z"
   },
   {
    "duration": 1846,
    "start_time": "2023-02-17T07:55:20.952Z"
   },
   {
    "duration": 6,
    "start_time": "2023-02-17T13:49:22.460Z"
   },
   {
    "duration": 14160,
    "start_time": "2023-02-17T13:49:27.406Z"
   },
   {
    "duration": 2111,
    "start_time": "2023-02-17T13:49:41.568Z"
   },
   {
    "duration": 3,
    "start_time": "2023-02-17T13:49:43.681Z"
   },
   {
    "duration": 76,
    "start_time": "2023-02-17T13:49:43.686Z"
   },
   {
    "duration": 549,
    "start_time": "2023-02-17T13:49:43.764Z"
   },
   {
    "duration": 13,
    "start_time": "2023-02-17T13:49:44.315Z"
   },
   {
    "duration": 58,
    "start_time": "2023-02-17T13:49:44.330Z"
   },
   {
    "duration": 4,
    "start_time": "2023-02-17T13:49:44.389Z"
   },
   {
    "duration": 9,
    "start_time": "2023-02-17T13:49:44.394Z"
   },
   {
    "duration": 17,
    "start_time": "2023-02-17T13:49:44.406Z"
   },
   {
    "duration": 4,
    "start_time": "2023-02-17T13:49:44.424Z"
   },
   {
    "duration": 71,
    "start_time": "2023-02-17T13:49:44.430Z"
   },
   {
    "duration": 94,
    "start_time": "2023-02-17T13:49:44.502Z"
   },
   {
    "duration": 8,
    "start_time": "2023-02-17T13:49:44.597Z"
   },
   {
    "duration": 11924,
    "start_time": "2023-02-17T13:49:44.607Z"
   },
   {
    "duration": 7,
    "start_time": "2023-02-17T13:49:56.533Z"
   },
   {
    "duration": 13,
    "start_time": "2023-02-17T13:49:56.541Z"
   },
   {
    "duration": 23,
    "start_time": "2023-02-17T13:49:56.555Z"
   },
   {
    "duration": 16,
    "start_time": "2023-02-17T13:49:56.580Z"
   },
   {
    "duration": 5,
    "start_time": "2023-02-17T13:49:56.598Z"
   },
   {
    "duration": 47,
    "start_time": "2023-02-17T13:49:56.604Z"
   },
   {
    "duration": 9,
    "start_time": "2023-02-17T13:49:56.653Z"
   },
   {
    "duration": 16,
    "start_time": "2023-02-17T13:49:56.664Z"
   },
   {
    "duration": 23,
    "start_time": "2023-02-17T13:49:56.682Z"
   },
   {
    "duration": 5,
    "start_time": "2023-02-17T13:49:56.707Z"
   },
   {
    "duration": 88,
    "start_time": "2023-02-17T13:49:56.713Z"
   },
   {
    "duration": 6,
    "start_time": "2023-02-17T13:49:56.803Z"
   },
   {
    "duration": 2691,
    "start_time": "2023-02-17T13:49:56.812Z"
   },
   {
    "duration": 3,
    "start_time": "2023-02-17T13:49:59.505Z"
   },
   {
    "duration": 44,
    "start_time": "2023-02-17T13:49:59.510Z"
   },
   {
    "duration": 6,
    "start_time": "2023-02-17T13:49:59.556Z"
   },
   {
    "duration": 24,
    "start_time": "2023-02-17T13:49:59.563Z"
   },
   {
    "duration": 13,
    "start_time": "2023-02-17T13:49:59.589Z"
   },
   {
    "duration": 24,
    "start_time": "2023-02-17T13:49:59.604Z"
   },
   {
    "duration": 19,
    "start_time": "2023-02-17T13:49:59.630Z"
   },
   {
    "duration": 15,
    "start_time": "2023-02-17T13:49:59.651Z"
   },
   {
    "duration": 800,
    "start_time": "2023-02-17T13:49:59.668Z"
   },
   {
    "duration": 20,
    "start_time": "2023-02-17T13:50:00.470Z"
   },
   {
    "duration": 1901,
    "start_time": "2023-02-17T13:50:00.491Z"
   },
   {
    "duration": 40,
    "start_time": "2023-02-17T13:50:02.394Z"
   },
   {
    "duration": 3,
    "start_time": "2023-02-17T13:51:35.095Z"
   },
   {
    "duration": 156,
    "start_time": "2023-02-17T13:52:06.722Z"
   },
   {
    "duration": 4,
    "start_time": "2023-02-17T13:52:29.713Z"
   },
   {
    "duration": 36,
    "start_time": "2023-02-17T13:53:31.662Z"
   },
   {
    "duration": 27,
    "start_time": "2023-02-17T13:54:01.282Z"
   },
   {
    "duration": 28,
    "start_time": "2023-02-17T13:54:27.464Z"
   },
   {
    "duration": 5,
    "start_time": "2023-02-17T13:54:32.682Z"
   },
   {
    "duration": 12,
    "start_time": "2023-02-17T13:54:34.445Z"
   },
   {
    "duration": 3,
    "start_time": "2023-02-17T13:54:37.035Z"
   },
   {
    "duration": 1246,
    "start_time": "2023-02-17T13:54:38.674Z"
   },
   {
    "duration": 16,
    "start_time": "2023-02-17T13:54:48.623Z"
   },
   {
    "duration": 3,
    "start_time": "2023-02-17T13:54:51.270Z"
   },
   {
    "duration": 880,
    "start_time": "2023-02-17T13:54:54.689Z"
   },
   {
    "duration": 2,
    "start_time": "2023-02-17T13:54:58.130Z"
   },
   {
    "duration": 5,
    "start_time": "2023-02-17T13:54:59.222Z"
   },
   {
    "duration": 9,
    "start_time": "2023-02-17T13:55:00.679Z"
   },
   {
    "duration": 27,
    "start_time": "2023-02-17T13:55:11.035Z"
   },
   {
    "duration": 3,
    "start_time": "2023-02-17T13:56:49.044Z"
   },
   {
    "duration": 29,
    "start_time": "2023-02-17T13:57:03.934Z"
   },
   {
    "duration": 4,
    "start_time": "2023-02-17T13:58:22.107Z"
   },
   {
    "duration": 4,
    "start_time": "2023-02-17T13:59:18.046Z"
   },
   {
    "duration": 5,
    "start_time": "2023-02-17T13:59:45.256Z"
   },
   {
    "duration": 37,
    "start_time": "2023-02-17T14:00:02.017Z"
   },
   {
    "duration": 13,
    "start_time": "2023-02-17T14:00:26.954Z"
   },
   {
    "duration": 35,
    "start_time": "2023-02-17T14:01:07.600Z"
   },
   {
    "duration": 33,
    "start_time": "2023-02-17T14:01:09.066Z"
   },
   {
    "duration": 30,
    "start_time": "2023-02-17T14:02:03.003Z"
   },
   {
    "duration": 42,
    "start_time": "2023-02-17T14:02:15.448Z"
   },
   {
    "duration": 24,
    "start_time": "2023-02-17T14:02:36.251Z"
   },
   {
    "duration": 6483,
    "start_time": "2023-02-17T14:03:25.634Z"
   },
   {
    "duration": 27,
    "start_time": "2023-02-17T14:04:19.853Z"
   },
   {
    "duration": 12,
    "start_time": "2023-02-17T14:04:25.019Z"
   },
   {
    "duration": 27,
    "start_time": "2023-02-17T14:04:33.716Z"
   },
   {
    "duration": 3,
    "start_time": "2023-02-17T14:04:43.677Z"
   },
   {
    "duration": 35,
    "start_time": "2023-02-17T14:04:45.523Z"
   },
   {
    "duration": 2250,
    "start_time": "2023-02-17T14:05:02.894Z"
   },
   {
    "duration": 3,
    "start_time": "2023-02-17T14:05:12.015Z"
   },
   {
    "duration": 34,
    "start_time": "2023-02-17T14:05:14.036Z"
   },
   {
    "duration": 38,
    "start_time": "2023-02-17T14:05:19.354Z"
   },
   {
    "duration": 5731,
    "start_time": "2023-02-17T14:05:40.875Z"
   },
   {
    "duration": 39,
    "start_time": "2023-02-17T14:05:47.729Z"
   },
   {
    "duration": 17,
    "start_time": "2023-02-17T14:05:54.067Z"
   },
   {
    "duration": 1248,
    "start_time": "2023-02-17T14:06:05.771Z"
   },
   {
    "duration": 3,
    "start_time": "2023-02-17T14:06:16.760Z"
   },
   {
    "duration": 2086,
    "start_time": "2023-02-17T14:06:22.973Z"
   },
   {
    "duration": 18,
    "start_time": "2023-02-17T14:06:29.800Z"
   },
   {
    "duration": 28,
    "start_time": "2023-02-17T14:06:32.931Z"
   },
   {
    "duration": 39,
    "start_time": "2023-02-17T14:06:37.539Z"
   },
   {
    "duration": 12,
    "start_time": "2023-02-17T14:07:07.350Z"
   },
   {
    "duration": 34,
    "start_time": "2023-02-17T14:07:13.035Z"
   },
   {
    "duration": 2240,
    "start_time": "2023-02-17T14:07:22.095Z"
   },
   {
    "duration": 1854,
    "start_time": "2023-02-17T14:07:24.337Z"
   },
   {
    "duration": 3,
    "start_time": "2023-02-17T14:07:26.192Z"
   },
   {
    "duration": 67,
    "start_time": "2023-02-17T14:07:26.198Z"
   },
   {
    "duration": 73,
    "start_time": "2023-02-17T14:07:26.267Z"
   },
   {
    "duration": 17,
    "start_time": "2023-02-17T14:07:26.341Z"
   },
   {
    "duration": 62,
    "start_time": "2023-02-17T14:07:26.360Z"
   },
   {
    "duration": 4,
    "start_time": "2023-02-17T14:07:26.423Z"
   },
   {
    "duration": 15,
    "start_time": "2023-02-17T14:07:26.428Z"
   },
   {
    "duration": 17,
    "start_time": "2023-02-17T14:07:26.449Z"
   },
   {
    "duration": 4,
    "start_time": "2023-02-17T14:07:26.468Z"
   },
   {
    "duration": 79,
    "start_time": "2023-02-17T14:07:26.473Z"
   },
   {
    "duration": 98,
    "start_time": "2023-02-17T14:07:26.554Z"
   },
   {
    "duration": 8,
    "start_time": "2023-02-17T14:07:26.653Z"
   },
   {
    "duration": 11813,
    "start_time": "2023-02-17T14:07:26.663Z"
   },
   {
    "duration": 7,
    "start_time": "2023-02-17T14:07:38.478Z"
   },
   {
    "duration": 9,
    "start_time": "2023-02-17T14:07:38.487Z"
   },
   {
    "duration": 13,
    "start_time": "2023-02-17T14:07:38.498Z"
   },
   {
    "duration": 41,
    "start_time": "2023-02-17T14:07:38.512Z"
   },
   {
    "duration": 6,
    "start_time": "2023-02-17T14:07:38.554Z"
   },
   {
    "duration": 10,
    "start_time": "2023-02-17T14:07:38.561Z"
   },
   {
    "duration": 9,
    "start_time": "2023-02-17T14:07:38.572Z"
   },
   {
    "duration": 8,
    "start_time": "2023-02-17T14:07:38.583Z"
   },
   {
    "duration": 5,
    "start_time": "2023-02-17T14:07:38.593Z"
   },
   {
    "duration": 8,
    "start_time": "2023-02-17T14:07:38.600Z"
   },
   {
    "duration": 121,
    "start_time": "2023-02-17T14:07:38.610Z"
   },
   {
    "duration": 5,
    "start_time": "2023-02-17T14:07:38.732Z"
   },
   {
    "duration": 2694,
    "start_time": "2023-02-17T14:07:38.747Z"
   },
   {
    "duration": 4,
    "start_time": "2023-02-17T14:07:41.447Z"
   },
   {
    "duration": 7,
    "start_time": "2023-02-17T14:07:41.452Z"
   },
   {
    "duration": 6,
    "start_time": "2023-02-17T14:07:41.460Z"
   },
   {
    "duration": 6,
    "start_time": "2023-02-17T14:07:41.467Z"
   },
   {
    "duration": 5,
    "start_time": "2023-02-17T14:07:41.474Z"
   },
   {
    "duration": 7,
    "start_time": "2023-02-17T14:07:41.480Z"
   },
   {
    "duration": 5,
    "start_time": "2023-02-17T14:07:41.488Z"
   },
   {
    "duration": 6,
    "start_time": "2023-02-17T14:07:41.494Z"
   },
   {
    "duration": 808,
    "start_time": "2023-02-17T14:07:41.501Z"
   },
   {
    "duration": 22,
    "start_time": "2023-02-17T14:07:42.311Z"
   },
   {
    "duration": 1646,
    "start_time": "2023-02-17T14:07:42.335Z"
   },
   {
    "duration": 45,
    "start_time": "2023-02-17T14:07:43.983Z"
   },
   {
    "duration": 4,
    "start_time": "2023-02-17T14:07:44.029Z"
   },
   {
    "duration": 21,
    "start_time": "2023-02-17T14:07:44.034Z"
   },
   {
    "duration": 3,
    "start_time": "2023-02-17T14:07:44.056Z"
   },
   {
    "duration": 31,
    "start_time": "2023-02-17T14:07:44.061Z"
   },
   {
    "duration": 3,
    "start_time": "2023-02-17T14:07:44.093Z"
   },
   {
    "duration": 52,
    "start_time": "2023-02-17T14:07:44.097Z"
   },
   {
    "duration": 2,
    "start_time": "2023-02-17T14:07:44.151Z"
   },
   {
    "duration": 174,
    "start_time": "2023-02-17T14:07:44.155Z"
   },
   {
    "duration": 36,
    "start_time": "2023-02-17T14:07:57.568Z"
   },
   {
    "duration": 34,
    "start_time": "2023-02-17T14:08:00.259Z"
   },
   {
    "duration": 12,
    "start_time": "2023-02-17T14:08:08.849Z"
   },
   {
    "duration": 64,
    "start_time": "2023-02-17T14:08:13.911Z"
   },
   {
    "duration": 63,
    "start_time": "2023-02-17T14:08:18.892Z"
   },
   {
    "duration": 42,
    "start_time": "2023-02-17T14:08:33.475Z"
   },
   {
    "duration": 34,
    "start_time": "2023-02-17T14:08:44.718Z"
   },
   {
    "duration": 31,
    "start_time": "2023-02-17T14:09:04.779Z"
   },
   {
    "duration": 36,
    "start_time": "2023-02-17T14:09:24.727Z"
   },
   {
    "duration": 45,
    "start_time": "2023-02-17T14:09:26.534Z"
   },
   {
    "duration": 34,
    "start_time": "2023-02-17T14:09:33.996Z"
   },
   {
    "duration": 5,
    "start_time": "2023-02-17T14:09:39.687Z"
   },
   {
    "duration": 12,
    "start_time": "2023-02-17T14:10:24.450Z"
   },
   {
    "duration": 16,
    "start_time": "2023-02-17T14:10:39.019Z"
   },
   {
    "duration": 35,
    "start_time": "2023-02-17T14:10:59.099Z"
   },
   {
    "duration": 29,
    "start_time": "2023-02-17T14:10:59.949Z"
   },
   {
    "duration": 4,
    "start_time": "2023-02-17T14:11:01.333Z"
   },
   {
    "duration": 16,
    "start_time": "2023-02-17T14:11:35.601Z"
   },
   {
    "duration": 732,
    "start_time": "2023-02-17T14:11:39.923Z"
   },
   {
    "duration": 953,
    "start_time": "2023-02-17T14:11:50.401Z"
   },
   {
    "duration": 32,
    "start_time": "2023-02-17T14:12:38.802Z"
   },
   {
    "duration": 19,
    "start_time": "2023-02-17T14:13:17.329Z"
   },
   {
    "duration": 36,
    "start_time": "2023-02-17T14:13:19.216Z"
   },
   {
    "duration": 30,
    "start_time": "2023-02-17T14:13:21.296Z"
   },
   {
    "duration": 5,
    "start_time": "2023-02-17T14:13:21.975Z"
   },
   {
    "duration": 733,
    "start_time": "2023-02-17T14:13:22.715Z"
   },
   {
    "duration": 79,
    "start_time": "2023-02-17T14:13:25.569Z"
   },
   {
    "duration": 76,
    "start_time": "2023-02-17T14:14:19.589Z"
   },
   {
    "duration": 78,
    "start_time": "2023-02-17T14:14:29.764Z"
   },
   {
    "duration": 75,
    "start_time": "2023-02-17T14:14:59.186Z"
   },
   {
    "duration": 60,
    "start_time": "2023-02-17T14:15:07.996Z"
   },
   {
    "duration": 1091,
    "start_time": "2023-02-17T14:15:44.360Z"
   },
   {
    "duration": 1724,
    "start_time": "2023-02-17T14:15:48.626Z"
   },
   {
    "duration": 21,
    "start_time": "2023-02-17T14:15:52.628Z"
   },
   {
    "duration": 169,
    "start_time": "2023-02-17T14:15:53.984Z"
   },
   {
    "duration": 96,
    "start_time": "2023-02-17T14:16:45.063Z"
   },
   {
    "duration": 3,
    "start_time": "2023-02-17T14:18:43.061Z"
   },
   {
    "duration": 22,
    "start_time": "2023-02-17T14:18:44.378Z"
   },
   {
    "duration": 2,
    "start_time": "2023-02-17T14:20:22.611Z"
   },
   {
    "duration": 97,
    "start_time": "2023-02-17T14:20:39.454Z"
   },
   {
    "duration": 13,
    "start_time": "2023-02-17T14:21:01.161Z"
   },
   {
    "duration": 44,
    "start_time": "2023-02-17T14:21:08.313Z"
   },
   {
    "duration": 4,
    "start_time": "2023-02-17T14:21:49.446Z"
   },
   {
    "duration": 322,
    "start_time": "2023-02-17T14:21:53.536Z"
   },
   {
    "duration": 30,
    "start_time": "2023-02-17T14:22:25.623Z"
   },
   {
    "duration": 4,
    "start_time": "2023-02-17T14:22:34.435Z"
   },
   {
    "duration": 21,
    "start_time": "2023-02-17T14:23:33.382Z"
   },
   {
    "duration": 24,
    "start_time": "2023-02-17T14:23:39.131Z"
   },
   {
    "duration": 23,
    "start_time": "2023-02-17T14:23:45.552Z"
   },
   {
    "duration": 14,
    "start_time": "2023-02-17T14:24:30.214Z"
   },
   {
    "duration": 17,
    "start_time": "2023-02-17T14:24:44.185Z"
   },
   {
    "duration": 4,
    "start_time": "2023-02-17T14:25:27.327Z"
   },
   {
    "duration": 4,
    "start_time": "2023-02-17T14:26:05.710Z"
   },
   {
    "duration": 19,
    "start_time": "2023-02-17T14:26:08.739Z"
   },
   {
    "duration": 3,
    "start_time": "2023-02-17T14:26:52.057Z"
   },
   {
    "duration": 3,
    "start_time": "2023-02-17T14:27:00.126Z"
   },
   {
    "duration": 12,
    "start_time": "2023-02-17T14:27:35.639Z"
   },
   {
    "duration": 16,
    "start_time": "2023-02-17T14:28:01.399Z"
   },
   {
    "duration": 15,
    "start_time": "2023-02-17T14:28:04.151Z"
   },
   {
    "duration": 65,
    "start_time": "2023-02-17T14:28:16.364Z"
   },
   {
    "duration": 69,
    "start_time": "2023-02-17T14:28:18.187Z"
   },
   {
    "duration": 138,
    "start_time": "2023-02-17T14:29:18.122Z"
   },
   {
    "duration": 172,
    "start_time": "2023-02-17T14:29:19.878Z"
   },
   {
    "duration": 349,
    "start_time": "2023-02-17T14:29:33.291Z"
   },
   {
    "duration": 94,
    "start_time": "2023-02-17T14:29:35.259Z"
   },
   {
    "duration": 81,
    "start_time": "2023-02-17T14:29:52.278Z"
   },
   {
    "duration": 146,
    "start_time": "2023-02-17T14:29:53.621Z"
   },
   {
    "duration": 3,
    "start_time": "2023-02-17T14:30:02.298Z"
   },
   {
    "duration": 12,
    "start_time": "2023-02-17T14:31:06.940Z"
   },
   {
    "duration": 38,
    "start_time": "2023-02-17T14:31:13.235Z"
   },
   {
    "duration": 3,
    "start_time": "2023-02-17T14:39:26.147Z"
   },
   {
    "duration": 3,
    "start_time": "2023-02-17T14:39:38.171Z"
   },
   {
    "duration": 18,
    "start_time": "2023-02-17T14:39:58.468Z"
   },
   {
    "duration": 16,
    "start_time": "2023-02-17T14:51:23.034Z"
   },
   {
    "duration": 4,
    "start_time": "2023-02-17T14:51:30.101Z"
   },
   {
    "duration": 12,
    "start_time": "2023-02-17T14:52:49.800Z"
   },
   {
    "duration": 12,
    "start_time": "2023-02-17T14:52:58.066Z"
   },
   {
    "duration": 12,
    "start_time": "2023-02-17T14:56:45.998Z"
   },
   {
    "duration": 12,
    "start_time": "2023-02-17T14:57:07.084Z"
   },
   {
    "duration": 14,
    "start_time": "2023-02-17T14:57:33.809Z"
   },
   {
    "duration": 16,
    "start_time": "2023-02-17T14:57:46.889Z"
   },
   {
    "duration": 16,
    "start_time": "2023-02-17T14:58:00.024Z"
   },
   {
    "duration": 71,
    "start_time": "2023-02-17T14:58:06.535Z"
   },
   {
    "duration": 15,
    "start_time": "2023-02-17T14:58:09.806Z"
   },
   {
    "duration": 16,
    "start_time": "2023-02-17T14:58:41.658Z"
   },
   {
    "duration": 13,
    "start_time": "2023-02-17T14:59:56.572Z"
   },
   {
    "duration": 20986,
    "start_time": "2023-02-17T15:00:07.571Z"
   },
   {
    "duration": 93,
    "start_time": "2023-02-17T15:00:28.560Z"
   },
   {
    "duration": 67,
    "start_time": "2023-02-17T15:03:39.081Z"
   },
   {
    "duration": 173,
    "start_time": "2023-02-17T15:04:04.776Z"
   },
   {
    "duration": 13,
    "start_time": "2023-02-17T15:04:17.509Z"
   },
   {
    "duration": 13,
    "start_time": "2023-02-17T15:05:39.830Z"
   },
   {
    "duration": 15,
    "start_time": "2023-02-17T15:06:32.675Z"
   },
   {
    "duration": 13,
    "start_time": "2023-02-17T15:06:39.726Z"
   },
   {
    "duration": 14,
    "start_time": "2023-02-17T15:06:44.424Z"
   },
   {
    "duration": 91,
    "start_time": "2023-02-17T15:07:04.346Z"
   },
   {
    "duration": 4,
    "start_time": "2023-02-17T15:07:06.575Z"
   },
   {
    "duration": 99,
    "start_time": "2023-02-17T15:07:36.651Z"
   },
   {
    "duration": 86,
    "start_time": "2023-02-17T15:07:42.265Z"
   },
   {
    "duration": 45,
    "start_time": "2023-02-17T15:07:44.403Z"
   },
   {
    "duration": 27,
    "start_time": "2023-02-17T15:07:51.212Z"
   },
   {
    "duration": 67,
    "start_time": "2023-02-17T15:07:52.884Z"
   },
   {
    "duration": 30,
    "start_time": "2023-02-17T15:08:11.570Z"
   },
   {
    "duration": 3,
    "start_time": "2023-02-17T15:08:13.210Z"
   },
   {
    "duration": 65,
    "start_time": "2023-02-17T15:08:14.090Z"
   },
   {
    "duration": 42,
    "start_time": "2023-02-17T15:12:50.972Z"
   },
   {
    "duration": 64,
    "start_time": "2023-02-17T15:12:52.784Z"
   },
   {
    "duration": 721,
    "start_time": "2023-02-17T15:13:26.305Z"
   },
   {
    "duration": 3,
    "start_time": "2023-02-17T15:13:28.484Z"
   },
   {
    "duration": 13,
    "start_time": "2023-02-17T15:13:29.501Z"
   },
   {
    "duration": 23,
    "start_time": "2023-02-17T15:14:16.637Z"
   },
   {
    "duration": 15,
    "start_time": "2023-02-17T15:14:32.736Z"
   },
   {
    "duration": 24,
    "start_time": "2023-02-17T15:14:57.739Z"
   },
   {
    "duration": 697,
    "start_time": "2023-02-17T15:15:06.625Z"
   },
   {
    "duration": 67,
    "start_time": "2023-02-17T15:15:09.584Z"
   },
   {
    "duration": 3,
    "start_time": "2023-02-17T15:16:22.502Z"
   },
   {
    "duration": 8,
    "start_time": "2023-02-17T15:20:29.743Z"
   },
   {
    "duration": 2,
    "start_time": "2023-02-17T15:21:15.937Z"
   },
   {
    "duration": 4,
    "start_time": "2023-02-17T15:21:37.435Z"
   },
   {
    "duration": 22,
    "start_time": "2023-02-17T15:21:52.002Z"
   },
   {
    "duration": 57,
    "start_time": "2023-02-17T15:22:24.111Z"
   },
   {
    "duration": 37,
    "start_time": "2023-02-17T15:22:26.383Z"
   },
   {
    "duration": 32,
    "start_time": "2023-02-17T15:24:54.416Z"
   },
   {
    "duration": 31,
    "start_time": "2023-02-17T15:25:02.566Z"
   },
   {
    "duration": 42,
    "start_time": "2023-02-17T15:25:07.809Z"
   },
   {
    "duration": 7,
    "start_time": "2023-02-17T15:25:13.270Z"
   },
   {
    "duration": 25,
    "start_time": "2023-02-17T15:26:10.935Z"
   },
   {
    "duration": 3,
    "start_time": "2023-02-17T15:28:30.228Z"
   },
   {
    "duration": 505,
    "start_time": "2023-02-17T15:29:08.662Z"
   },
   {
    "duration": 11,
    "start_time": "2023-02-17T15:30:16.133Z"
   },
   {
    "duration": 13,
    "start_time": "2023-02-17T15:30:19.606Z"
   },
   {
    "duration": 23,
    "start_time": "2023-02-17T15:30:20.689Z"
   },
   {
    "duration": 100,
    "start_time": "2023-02-17T15:30:36.962Z"
   },
   {
    "duration": 2460,
    "start_time": "2023-02-17T15:30:59.041Z"
   },
   {
    "duration": 463,
    "start_time": "2023-02-17T15:31:01.502Z"
   },
   {
    "duration": 1533,
    "start_time": "2023-02-17T15:31:20.184Z"
   },
   {
    "duration": 317,
    "start_time": "2023-02-17T15:31:23.351Z"
   },
   {
    "duration": 1451,
    "start_time": "2023-02-17T15:31:27.921Z"
   },
   {
    "duration": 287,
    "start_time": "2023-02-17T15:31:29.764Z"
   },
   {
    "duration": 1125,
    "start_time": "2023-02-17T15:31:51.284Z"
   },
   {
    "duration": 247,
    "start_time": "2023-02-17T15:31:54.207Z"
   },
   {
    "duration": 976,
    "start_time": "2023-02-17T15:31:58.980Z"
   },
   {
    "duration": 200,
    "start_time": "2023-02-17T15:32:01.195Z"
   },
   {
    "duration": 1388,
    "start_time": "2023-02-17T15:32:04.851Z"
   },
   {
    "duration": 264,
    "start_time": "2023-02-17T15:32:07.846Z"
   },
   {
    "duration": 1309,
    "start_time": "2023-02-17T15:32:19.528Z"
   },
   {
    "duration": 236,
    "start_time": "2023-02-17T15:32:22.235Z"
   },
   {
    "duration": 1276,
    "start_time": "2023-02-17T15:32:26.332Z"
   },
   {
    "duration": 261,
    "start_time": "2023-02-17T15:32:29.274Z"
   },
   {
    "duration": 1270,
    "start_time": "2023-02-17T15:32:59.351Z"
   },
   {
    "duration": 461,
    "start_time": "2023-02-17T15:33:01.872Z"
   },
   {
    "duration": 1446,
    "start_time": "2023-02-17T15:33:25.909Z"
   },
   {
    "duration": 270,
    "start_time": "2023-02-17T15:33:28.897Z"
   },
   {
    "duration": 1786,
    "start_time": "2023-02-17T15:36:33.870Z"
   },
   {
    "duration": 12,
    "start_time": "2023-02-17T15:36:50.671Z"
   },
   {
    "duration": 349,
    "start_time": "2023-02-17T15:37:05.794Z"
   },
   {
    "duration": 3414,
    "start_time": "2023-02-17T15:37:27.284Z"
   },
   {
    "duration": 741,
    "start_time": "2023-02-17T15:37:35.593Z"
   },
   {
    "duration": 1083,
    "start_time": "2023-02-17T15:37:40.935Z"
   },
   {
    "duration": 229,
    "start_time": "2023-02-17T15:37:46.253Z"
   },
   {
    "duration": 62,
    "start_time": "2023-02-17T15:37:49.603Z"
   },
   {
    "duration": 454,
    "start_time": "2023-02-17T15:37:55.434Z"
   },
   {
    "duration": 373,
    "start_time": "2023-02-17T15:38:23.375Z"
   },
   {
    "duration": 183,
    "start_time": "2023-02-17T15:38:26.897Z"
   },
   {
    "duration": 317,
    "start_time": "2023-02-17T15:39:54.120Z"
   },
   {
    "duration": 384,
    "start_time": "2023-02-17T15:39:57.852Z"
   },
   {
    "duration": 6,
    "start_time": "2023-02-17T15:40:22.440Z"
   },
   {
    "duration": 4,
    "start_time": "2023-02-17T15:40:28.944Z"
   },
   {
    "duration": 12,
    "start_time": "2023-02-17T15:40:34.124Z"
   },
   {
    "duration": 4,
    "start_time": "2023-02-17T15:40:36.801Z"
   },
   {
    "duration": 37,
    "start_time": "2023-02-17T15:41:13.124Z"
   },
   {
    "duration": 2653,
    "start_time": "2023-02-17T15:41:26.853Z"
   },
   {
    "duration": 2254,
    "start_time": "2023-02-17T15:44:42.014Z"
   },
   {
    "duration": 2160,
    "start_time": "2023-02-17T15:44:57.316Z"
   },
   {
    "duration": 14,
    "start_time": "2023-02-17T15:50:08.695Z"
   },
   {
    "duration": 441,
    "start_time": "2023-02-17T15:50:13.189Z"
   },
   {
    "duration": 118,
    "start_time": "2023-02-17T15:50:32.234Z"
   },
   {
    "duration": 131,
    "start_time": "2023-02-17T15:50:35.428Z"
   },
   {
    "duration": 152,
    "start_time": "2023-02-17T15:50:38.847Z"
   },
   {
    "duration": 300,
    "start_time": "2023-02-17T15:50:43.293Z"
   },
   {
    "duration": 203,
    "start_time": "2023-02-17T15:50:46.155Z"
   },
   {
    "duration": 142,
    "start_time": "2023-02-17T15:50:50.046Z"
   },
   {
    "duration": 138,
    "start_time": "2023-02-17T15:51:17.915Z"
   },
   {
    "duration": 134,
    "start_time": "2023-02-17T15:51:20.924Z"
   },
   {
    "duration": 132,
    "start_time": "2023-02-17T15:51:24.607Z"
   },
   {
    "duration": 3,
    "start_time": "2023-02-17T15:53:04.682Z"
   },
   {
    "duration": 3,
    "start_time": "2023-02-17T15:53:18.176Z"
   },
   {
    "duration": 97,
    "start_time": "2023-02-17T15:55:42.931Z"
   },
   {
    "duration": 4,
    "start_time": "2023-02-17T15:55:46.811Z"
   },
   {
    "duration": 24,
    "start_time": "2023-02-17T15:56:44.825Z"
   },
   {
    "duration": 7,
    "start_time": "2023-02-17T15:57:32.636Z"
   },
   {
    "duration": 6,
    "start_time": "2023-02-17T15:57:39.272Z"
   },
   {
    "duration": 5,
    "start_time": "2023-02-17T15:57:52.510Z"
   },
   {
    "duration": 6,
    "start_time": "2023-02-17T15:57:57.916Z"
   },
   {
    "duration": 3,
    "start_time": "2023-02-17T15:58:58.945Z"
   },
   {
    "duration": 78,
    "start_time": "2023-02-17T15:59:42.379Z"
   },
   {
    "duration": 3,
    "start_time": "2023-02-17T15:59:46.866Z"
   },
   {
    "duration": 3,
    "start_time": "2023-02-17T16:00:03.480Z"
   },
   {
    "duration": 3,
    "start_time": "2023-02-17T16:01:14.295Z"
   },
   {
    "duration": 3,
    "start_time": "2023-02-17T16:01:15.877Z"
   },
   {
    "duration": 3,
    "start_time": "2023-02-17T16:01:16.652Z"
   },
   {
    "duration": 23,
    "start_time": "2023-02-17T16:01:36.860Z"
   },
   {
    "duration": 36,
    "start_time": "2023-02-17T16:02:23.573Z"
   },
   {
    "duration": 5,
    "start_time": "2023-02-17T16:02:55.775Z"
   },
   {
    "duration": 27,
    "start_time": "2023-02-17T16:02:58.027Z"
   },
   {
    "duration": 12,
    "start_time": "2023-02-17T16:03:10.121Z"
   },
   {
    "duration": 10,
    "start_time": "2023-02-17T16:03:16.615Z"
   },
   {
    "duration": 4,
    "start_time": "2023-02-17T16:03:26.323Z"
   },
   {
    "duration": 4,
    "start_time": "2023-02-17T16:03:40.076Z"
   },
   {
    "duration": 37,
    "start_time": "2023-02-17T16:03:43.378Z"
   },
   {
    "duration": 17,
    "start_time": "2023-02-17T16:04:11.509Z"
   },
   {
    "duration": 3,
    "start_time": "2023-02-17T16:04:38.328Z"
   },
   {
    "duration": 6,
    "start_time": "2023-02-17T16:04:48.642Z"
   },
   {
    "duration": 15,
    "start_time": "2023-02-17T16:04:57.540Z"
   },
   {
    "duration": 2,
    "start_time": "2023-02-17T16:05:03.939Z"
   },
   {
    "duration": 13,
    "start_time": "2023-02-17T16:05:06.275Z"
   },
   {
    "duration": 3,
    "start_time": "2023-02-17T16:05:11.800Z"
   },
   {
    "duration": 894,
    "start_time": "2023-02-17T16:05:12.556Z"
   },
   {
    "duration": 4073,
    "start_time": "2023-02-17T16:05:24.076Z"
   },
   {
    "duration": 20,
    "start_time": "2023-02-17T16:07:18.097Z"
   },
   {
    "duration": 4,
    "start_time": "2023-02-17T16:07:22.917Z"
   },
   {
    "duration": 16,
    "start_time": "2023-02-17T16:07:58.701Z"
   },
   {
    "duration": 12,
    "start_time": "2023-02-17T16:08:22.908Z"
   },
   {
    "duration": 3,
    "start_time": "2023-02-17T16:08:27.325Z"
   },
   {
    "duration": 3,
    "start_time": "2023-02-17T16:08:56.470Z"
   },
   {
    "duration": 3,
    "start_time": "2023-02-17T16:09:33.931Z"
   },
   {
    "duration": 21,
    "start_time": "2023-02-17T16:09:35.619Z"
   },
   {
    "duration": 3,
    "start_time": "2023-02-17T16:09:57.875Z"
   },
   {
    "duration": 3607,
    "start_time": "2023-02-17T16:09:59.843Z"
   },
   {
    "duration": 93625,
    "start_time": "2023-02-17T16:10:09.667Z"
   },
   {
    "duration": 0,
    "start_time": "2023-02-17T16:11:43.294Z"
   },
   {
    "duration": 4,
    "start_time": "2023-02-17T16:11:47.451Z"
   },
   {
    "duration": 72889,
    "start_time": "2023-02-17T16:11:50.275Z"
   },
   {
    "duration": 4,
    "start_time": "2023-02-17T16:13:17.843Z"
   },
   {
    "duration": 3440,
    "start_time": "2023-02-17T16:13:21.565Z"
   },
   {
    "duration": 3,
    "start_time": "2023-02-17T16:13:25.777Z"
   },
   {
    "duration": 75907,
    "start_time": "2023-02-17T16:13:26.996Z"
   },
   {
    "duration": 74,
    "start_time": "2023-02-17T16:15:53.522Z"
   },
   {
    "duration": 3,
    "start_time": "2023-02-17T16:15:57.612Z"
   },
   {
    "duration": 37,
    "start_time": "2023-02-17T16:16:00.762Z"
   },
   {
    "duration": 4,
    "start_time": "2023-02-17T16:17:24.171Z"
   },
   {
    "duration": 53,
    "start_time": "2023-02-17T16:17:25.322Z"
   },
   {
    "duration": 4,
    "start_time": "2023-02-17T16:17:56.895Z"
   },
   {
    "duration": 74641,
    "start_time": "2023-02-17T16:17:58.835Z"
   },
   {
    "duration": 5,
    "start_time": "2023-02-17T16:19:17.765Z"
   },
   {
    "duration": 153623,
    "start_time": "2023-02-17T16:19:21.509Z"
   },
   {
    "duration": 908,
    "start_time": "2023-02-17T16:29:29.004Z"
   },
   {
    "duration": 15,
    "start_time": "2023-02-17T16:29:32.554Z"
   },
   {
    "duration": 87,
    "start_time": "2023-02-17T16:30:25.999Z"
   },
   {
    "duration": 3,
    "start_time": "2023-02-17T16:30:29.152Z"
   },
   {
    "duration": 69307,
    "start_time": "2023-02-17T16:30:31.791Z"
   },
   {
    "duration": 3,
    "start_time": "2023-02-17T16:35:01.670Z"
   },
   {
    "duration": 22499,
    "start_time": "2023-02-17T16:35:03.256Z"
   },
   {
    "duration": 3,
    "start_time": "2023-02-17T16:35:48.787Z"
   },
   {
    "duration": 3,
    "start_time": "2023-02-17T16:35:52.268Z"
   },
   {
    "duration": 22722,
    "start_time": "2023-02-17T16:35:53.772Z"
   },
   {
    "duration": 4,
    "start_time": "2023-02-17T16:36:24.492Z"
   },
   {
    "duration": 12915,
    "start_time": "2023-02-17T16:36:25.677Z"
   },
   {
    "duration": 877,
    "start_time": "2023-02-17T16:36:52.535Z"
   },
   {
    "duration": 13,
    "start_time": "2023-02-17T16:36:55.900Z"
   },
   {
    "duration": 2,
    "start_time": "2023-02-17T16:37:09.720Z"
   },
   {
    "duration": 3676,
    "start_time": "2023-02-17T16:37:11.564Z"
   },
   {
    "duration": 4,
    "start_time": "2023-02-17T16:37:21.927Z"
   },
   {
    "duration": 3838,
    "start_time": "2023-02-17T16:37:24.104Z"
   },
   {
    "duration": 2,
    "start_time": "2023-02-17T16:37:38.475Z"
   },
   {
    "duration": 9466,
    "start_time": "2023-02-17T16:37:40.323Z"
   },
   {
    "duration": 4,
    "start_time": "2023-02-17T16:38:37.768Z"
   },
   {
    "duration": 29312,
    "start_time": "2023-02-17T16:38:39.658Z"
   },
   {
    "duration": 3,
    "start_time": "2023-02-17T16:39:53.046Z"
   },
   {
    "duration": 80,
    "start_time": "2023-02-17T16:39:56.361Z"
   },
   {
    "duration": 4,
    "start_time": "2023-02-17T16:40:35.791Z"
   },
   {
    "duration": 73,
    "start_time": "2023-02-17T16:40:40.099Z"
   },
   {
    "duration": 4,
    "start_time": "2023-02-17T16:41:04.792Z"
   },
   {
    "duration": 3,
    "start_time": "2023-02-17T16:41:08.337Z"
   },
   {
    "duration": 4266,
    "start_time": "2023-02-17T16:41:09.875Z"
   },
   {
    "duration": 2,
    "start_time": "2023-02-17T16:41:23.626Z"
   },
   {
    "duration": 3,
    "start_time": "2023-02-17T16:41:29.164Z"
   },
   {
    "duration": 38990,
    "start_time": "2023-02-17T16:41:30.890Z"
   },
   {
    "duration": 3,
    "start_time": "2023-02-17T16:43:08.616Z"
   },
   {
    "duration": 14,
    "start_time": "2023-02-17T16:43:12.642Z"
   },
   {
    "duration": 77,
    "start_time": "2023-02-17T16:46:32.258Z"
   },
   {
    "duration": 2,
    "start_time": "2023-02-17T16:46:37.336Z"
   },
   {
    "duration": 14,
    "start_time": "2023-02-17T16:46:53.407Z"
   },
   {
    "duration": 3,
    "start_time": "2023-02-17T16:46:56.358Z"
   },
   {
    "duration": 2415,
    "start_time": "2023-02-17T16:46:57.459Z"
   },
   {
    "duration": 3,
    "start_time": "2023-02-17T16:47:15.159Z"
   },
   {
    "duration": 6059,
    "start_time": "2023-02-17T16:47:17.918Z"
   },
   {
    "duration": 3,
    "start_time": "2023-02-17T16:49:08.296Z"
   },
   {
    "duration": 2490,
    "start_time": "2023-02-17T16:49:11.594Z"
   },
   {
    "duration": 93,
    "start_time": "2023-02-17T16:50:03.999Z"
   },
   {
    "duration": 3,
    "start_time": "2023-02-17T16:50:07.405Z"
   },
   {
    "duration": 4842,
    "start_time": "2023-02-17T16:50:09.822Z"
   },
   {
    "duration": 4,
    "start_time": "2023-02-17T16:50:42.822Z"
   },
   {
    "duration": 7279,
    "start_time": "2023-02-17T16:50:44.509Z"
   },
   {
    "duration": 3,
    "start_time": "2023-02-17T16:50:58.199Z"
   },
   {
    "duration": 7301,
    "start_time": "2023-02-17T16:50:59.484Z"
   },
   {
    "duration": 2,
    "start_time": "2023-02-17T16:51:11.818Z"
   },
   {
    "duration": 7246,
    "start_time": "2023-02-17T16:51:13.531Z"
   },
   {
    "duration": 3,
    "start_time": "2023-02-17T16:51:36.000Z"
   },
   {
    "duration": 10807,
    "start_time": "2023-02-17T16:51:38.163Z"
   },
   {
    "duration": 3,
    "start_time": "2023-02-17T16:52:13.166Z"
   },
   {
    "duration": 5421,
    "start_time": "2023-02-17T16:52:15.063Z"
   },
   {
    "duration": 3,
    "start_time": "2023-02-17T16:53:08.531Z"
   },
   {
    "duration": 16760,
    "start_time": "2023-02-17T16:53:10.437Z"
   },
   {
    "duration": 3,
    "start_time": "2023-02-17T16:54:19.972Z"
   },
   {
    "duration": 3,
    "start_time": "2023-02-17T16:55:02.823Z"
   },
   {
    "duration": 4,
    "start_time": "2023-02-17T16:58:40.165Z"
   },
   {
    "duration": 130,
    "start_time": "2023-02-17T16:58:41.516Z"
   },
   {
    "duration": 4,
    "start_time": "2023-02-17T16:58:52.466Z"
   },
   {
    "duration": 117,
    "start_time": "2023-02-17T16:58:54.215Z"
   },
   {
    "duration": 3,
    "start_time": "2023-02-17T16:59:10.416Z"
   },
   {
    "duration": 3,
    "start_time": "2023-02-17T16:59:11.541Z"
   },
   {
    "duration": 10871,
    "start_time": "2023-02-17T16:59:12.464Z"
   },
   {
    "duration": 4,
    "start_time": "2023-02-17T16:59:30.414Z"
   },
   {
    "duration": 42784,
    "start_time": "2023-02-17T16:59:34.945Z"
   },
   {
    "duration": 3,
    "start_time": "2023-02-17T17:02:12.876Z"
   },
   {
    "duration": 39743,
    "start_time": "2023-02-17T17:02:16.450Z"
   },
   {
    "duration": 3,
    "start_time": "2023-02-17T17:04:40.292Z"
   },
   {
    "duration": 80692,
    "start_time": "2023-02-17T17:04:42.313Z"
   },
   {
    "duration": 34,
    "start_time": "2023-02-17T17:17:48.359Z"
   },
   {
    "duration": 3214,
    "start_time": "2023-02-17T17:18:02.210Z"
   },
   {
    "duration": 43,
    "start_time": "2023-02-17T17:18:20.299Z"
   },
   {
    "duration": 3,
    "start_time": "2023-02-17T17:19:53.581Z"
   },
   {
    "duration": 3,
    "start_time": "2023-02-17T17:20:29.971Z"
   },
   {
    "duration": 24,
    "start_time": "2023-02-17T17:20:35.537Z"
   },
   {
    "duration": 4,
    "start_time": "2023-02-17T17:21:29.162Z"
   },
   {
    "duration": 13,
    "start_time": "2023-02-17T17:21:30.028Z"
   },
   {
    "duration": 130714,
    "start_time": "2023-02-17T17:21:56.005Z"
   },
   {
    "duration": 3,
    "start_time": "2023-02-17T17:25:20.340Z"
   },
   {
    "duration": 128274,
    "start_time": "2023-02-17T17:25:21.833Z"
   },
   {
    "duration": 2305,
    "start_time": "2023-02-17T17:49:15.120Z"
   },
   {
    "duration": 3,
    "start_time": "2023-02-17T17:49:21.178Z"
   },
   {
    "duration": 4,
    "start_time": "2023-02-17T17:49:49.198Z"
   },
   {
    "duration": 38,
    "start_time": "2023-02-17T17:52:05.706Z"
   },
   {
    "duration": 3,
    "start_time": "2023-02-17T17:52:08.434Z"
   },
   {
    "duration": 4,
    "start_time": "2023-02-17T17:52:11.720Z"
   },
   {
    "duration": 43997,
    "start_time": "2023-02-17T17:52:12.514Z"
   },
   {
    "duration": 4,
    "start_time": "2023-02-17T17:54:32.805Z"
   },
   {
    "duration": 4,
    "start_time": "2023-02-17T17:54:33.889Z"
   },
   {
    "duration": 13666,
    "start_time": "2023-02-17T17:54:36.166Z"
   },
   {
    "duration": 4,
    "start_time": "2023-02-17T17:54:50.699Z"
   },
   {
    "duration": 46062,
    "start_time": "2023-02-17T17:54:51.886Z"
   },
   {
    "duration": 3,
    "start_time": "2023-02-17T17:58:16.720Z"
   },
   {
    "duration": 44262,
    "start_time": "2023-02-17T17:58:19.469Z"
   },
   {
    "duration": 3,
    "start_time": "2023-02-17T18:00:29.937Z"
   },
   {
    "duration": 16289,
    "start_time": "2023-02-17T18:00:39.305Z"
   },
   {
    "duration": 16240,
    "start_time": "2023-02-17T18:01:15.246Z"
   },
   {
    "duration": 5,
    "start_time": "2023-02-17T18:03:38.669Z"
   },
   {
    "duration": 16437,
    "start_time": "2023-02-17T18:03:44.357Z"
   },
   {
    "duration": 4,
    "start_time": "2023-02-17T18:26:37.318Z"
   },
   {
    "duration": 855,
    "start_time": "2023-02-17T18:26:40.341Z"
   },
   {
    "duration": 22,
    "start_time": "2023-02-17T18:26:43.327Z"
   },
   {
    "duration": 3,
    "start_time": "2023-02-17T18:27:18.197Z"
   },
   {
    "duration": 8,
    "start_time": "2023-02-17T18:28:02.601Z"
   },
   {
    "duration": 6,
    "start_time": "2023-02-17T18:28:12.483Z"
   },
   {
    "duration": 45,
    "start_time": "2023-02-17T18:28:16.931Z"
   },
   {
    "duration": 6,
    "start_time": "2023-02-17T18:29:18.417Z"
   },
   {
    "duration": 40,
    "start_time": "2023-02-17T18:29:50.639Z"
   },
   {
    "duration": 3,
    "start_time": "2023-02-17T18:31:37.197Z"
   },
   {
    "duration": 5,
    "start_time": "2023-02-17T18:33:18.724Z"
   },
   {
    "duration": 6,
    "start_time": "2023-02-17T18:33:51.188Z"
   },
   {
    "duration": 19,
    "start_time": "2023-02-17T18:34:00.642Z"
   },
   {
    "duration": 27,
    "start_time": "2023-02-17T18:34:36.290Z"
   },
   {
    "duration": 14,
    "start_time": "2023-02-17T18:35:12.188Z"
   },
   {
    "duration": 15,
    "start_time": "2023-02-17T18:35:32.600Z"
   },
   {
    "duration": 6,
    "start_time": "2023-02-17T18:38:25.132Z"
   },
   {
    "duration": 3,
    "start_time": "2023-02-17T18:38:32.384Z"
   },
   {
    "duration": 2273,
    "start_time": "2023-02-17T18:38:32.903Z"
   },
   {
    "duration": 4,
    "start_time": "2023-02-17T18:38:57.903Z"
   },
   {
    "duration": 9,
    "start_time": "2023-02-17T18:39:29.749Z"
   },
   {
    "duration": 32,
    "start_time": "2023-02-17T18:39:49.235Z"
   },
   {
    "duration": 6,
    "start_time": "2023-02-17T18:39:54.804Z"
   },
   {
    "duration": 5,
    "start_time": "2023-02-17T18:40:33.030Z"
   },
   {
    "duration": 9,
    "start_time": "2023-02-17T18:40:38.032Z"
   },
   {
    "duration": 5,
    "start_time": "2023-02-17T18:40:39.495Z"
   },
   {
    "duration": 2493,
    "start_time": "2023-02-17T18:40:42.719Z"
   },
   {
    "duration": 39,
    "start_time": "2023-02-17T18:41:00.875Z"
   },
   {
    "duration": 7,
    "start_time": "2023-02-17T18:41:12.594Z"
   },
   {
    "duration": 2288,
    "start_time": "2023-02-17T18:41:22.994Z"
   },
   {
    "duration": 6,
    "start_time": "2023-02-17T18:41:35.101Z"
   },
   {
    "duration": 8,
    "start_time": "2023-02-17T18:41:38.729Z"
   },
   {
    "duration": 2282,
    "start_time": "2023-02-17T18:41:42.450Z"
   },
   {
    "duration": 6,
    "start_time": "2023-02-17T18:44:31.360Z"
   },
   {
    "duration": 44,
    "start_time": "2023-02-17T18:44:34.714Z"
   },
   {
    "duration": 6,
    "start_time": "2023-02-17T18:45:10.336Z"
   },
   {
    "duration": 8,
    "start_time": "2023-02-17T18:45:11.181Z"
   },
   {
    "duration": 5,
    "start_time": "2023-02-17T18:45:12.164Z"
   },
   {
    "duration": 7,
    "start_time": "2023-02-17T18:45:20.658Z"
   },
   {
    "duration": 2259,
    "start_time": "2023-02-17T18:45:22.633Z"
   },
   {
    "duration": 2273,
    "start_time": "2023-02-17T18:45:50.721Z"
   },
   {
    "duration": 1714,
    "start_time": "2023-02-17T18:45:52.996Z"
   },
   {
    "duration": 2,
    "start_time": "2023-02-17T18:45:54.712Z"
   },
   {
    "duration": 53,
    "start_time": "2023-02-17T18:45:54.716Z"
   },
   {
    "duration": 69,
    "start_time": "2023-02-17T18:45:54.771Z"
   },
   {
    "duration": 20,
    "start_time": "2023-02-17T18:45:54.842Z"
   },
   {
    "duration": 55,
    "start_time": "2023-02-17T18:45:54.863Z"
   },
   {
    "duration": 3,
    "start_time": "2023-02-17T18:45:54.919Z"
   },
   {
    "duration": 10,
    "start_time": "2023-02-17T18:45:54.924Z"
   },
   {
    "duration": 26,
    "start_time": "2023-02-17T18:45:54.935Z"
   },
   {
    "duration": 7,
    "start_time": "2023-02-17T18:45:54.962Z"
   },
   {
    "duration": 61,
    "start_time": "2023-02-17T18:45:54.971Z"
   },
   {
    "duration": 106,
    "start_time": "2023-02-17T18:45:55.033Z"
   },
   {
    "duration": 20,
    "start_time": "2023-02-17T18:45:55.142Z"
   },
   {
    "duration": 12036,
    "start_time": "2023-02-17T18:45:55.164Z"
   },
   {
    "duration": 9,
    "start_time": "2023-02-17T18:46:07.201Z"
   },
   {
    "duration": 9,
    "start_time": "2023-02-17T18:46:07.211Z"
   },
   {
    "duration": 42,
    "start_time": "2023-02-17T18:46:07.221Z"
   },
   {
    "duration": 14,
    "start_time": "2023-02-17T18:46:07.265Z"
   },
   {
    "duration": 6,
    "start_time": "2023-02-17T18:46:07.280Z"
   },
   {
    "duration": 9,
    "start_time": "2023-02-17T18:46:07.287Z"
   },
   {
    "duration": 7,
    "start_time": "2023-02-17T18:46:07.297Z"
   },
   {
    "duration": 8,
    "start_time": "2023-02-17T18:46:07.306Z"
   },
   {
    "duration": 46,
    "start_time": "2023-02-17T18:46:07.315Z"
   },
   {
    "duration": 4,
    "start_time": "2023-02-17T18:46:07.363Z"
   },
   {
    "duration": 78,
    "start_time": "2023-02-17T18:46:07.369Z"
   },
   {
    "duration": 17,
    "start_time": "2023-02-17T18:46:07.449Z"
   },
   {
    "duration": 2609,
    "start_time": "2023-02-17T18:46:07.467Z"
   },
   {
    "duration": 4,
    "start_time": "2023-02-17T18:46:10.077Z"
   },
   {
    "duration": 7,
    "start_time": "2023-02-17T18:46:10.082Z"
   },
   {
    "duration": 7,
    "start_time": "2023-02-17T18:46:10.090Z"
   },
   {
    "duration": 8,
    "start_time": "2023-02-17T18:46:10.098Z"
   },
   {
    "duration": 5,
    "start_time": "2023-02-17T18:46:10.107Z"
   },
   {
    "duration": 6,
    "start_time": "2023-02-17T18:46:10.113Z"
   },
   {
    "duration": 10,
    "start_time": "2023-02-17T18:46:10.121Z"
   },
   {
    "duration": 16,
    "start_time": "2023-02-17T18:46:10.132Z"
   },
   {
    "duration": 867,
    "start_time": "2023-02-17T18:46:10.151Z"
   },
   {
    "duration": 33,
    "start_time": "2023-02-17T18:46:11.020Z"
   },
   {
    "duration": 1909,
    "start_time": "2023-02-17T18:46:11.058Z"
   },
   {
    "duration": 18,
    "start_time": "2023-02-17T18:46:12.969Z"
   },
   {
    "duration": 2,
    "start_time": "2023-02-17T18:46:12.992Z"
   },
   {
    "duration": 15,
    "start_time": "2023-02-17T18:46:12.995Z"
   },
   {
    "duration": 168,
    "start_time": "2023-02-17T18:46:13.011Z"
   },
   {
    "duration": 0,
    "start_time": "2023-02-17T18:46:13.180Z"
   },
   {
    "duration": 0,
    "start_time": "2023-02-17T18:46:13.182Z"
   },
   {
    "duration": 0,
    "start_time": "2023-02-17T18:46:13.183Z"
   },
   {
    "duration": 0,
    "start_time": "2023-02-17T18:46:13.184Z"
   },
   {
    "duration": 0,
    "start_time": "2023-02-17T18:46:13.185Z"
   },
   {
    "duration": 0,
    "start_time": "2023-02-17T18:46:13.186Z"
   },
   {
    "duration": 0,
    "start_time": "2023-02-17T18:46:13.187Z"
   },
   {
    "duration": 0,
    "start_time": "2023-02-17T18:46:13.188Z"
   },
   {
    "duration": 0,
    "start_time": "2023-02-17T18:46:13.188Z"
   },
   {
    "duration": 0,
    "start_time": "2023-02-17T18:46:13.189Z"
   },
   {
    "duration": 0,
    "start_time": "2023-02-17T18:46:13.191Z"
   },
   {
    "duration": 0,
    "start_time": "2023-02-17T18:46:13.192Z"
   },
   {
    "duration": 0,
    "start_time": "2023-02-17T18:46:13.193Z"
   },
   {
    "duration": 0,
    "start_time": "2023-02-17T18:46:13.194Z"
   },
   {
    "duration": 0,
    "start_time": "2023-02-17T18:46:13.195Z"
   },
   {
    "duration": 0,
    "start_time": "2023-02-17T18:46:13.196Z"
   },
   {
    "duration": 0,
    "start_time": "2023-02-17T18:46:13.197Z"
   },
   {
    "duration": 0,
    "start_time": "2023-02-17T18:46:13.198Z"
   },
   {
    "duration": 0,
    "start_time": "2023-02-17T18:46:13.199Z"
   },
   {
    "duration": 0,
    "start_time": "2023-02-17T18:46:13.200Z"
   },
   {
    "duration": 0,
    "start_time": "2023-02-17T18:46:13.202Z"
   },
   {
    "duration": 0,
    "start_time": "2023-02-17T18:46:13.203Z"
   },
   {
    "duration": 0,
    "start_time": "2023-02-17T18:46:13.204Z"
   },
   {
    "duration": 0,
    "start_time": "2023-02-17T18:46:13.205Z"
   },
   {
    "duration": 0,
    "start_time": "2023-02-17T18:46:13.206Z"
   },
   {
    "duration": 0,
    "start_time": "2023-02-17T18:46:13.256Z"
   },
   {
    "duration": 0,
    "start_time": "2023-02-17T18:46:13.257Z"
   },
   {
    "duration": 0,
    "start_time": "2023-02-17T18:46:13.258Z"
   },
   {
    "duration": 0,
    "start_time": "2023-02-17T18:46:13.258Z"
   },
   {
    "duration": 0,
    "start_time": "2023-02-17T18:46:13.259Z"
   },
   {
    "duration": 0,
    "start_time": "2023-02-17T18:46:13.260Z"
   },
   {
    "duration": 0,
    "start_time": "2023-02-17T18:46:13.260Z"
   },
   {
    "duration": 0,
    "start_time": "2023-02-17T18:46:13.261Z"
   },
   {
    "duration": 0,
    "start_time": "2023-02-17T18:46:13.261Z"
   },
   {
    "duration": 0,
    "start_time": "2023-02-17T18:46:13.262Z"
   },
   {
    "duration": 0,
    "start_time": "2023-02-17T18:46:13.262Z"
   },
   {
    "duration": 0,
    "start_time": "2023-02-17T18:46:13.263Z"
   },
   {
    "duration": 0,
    "start_time": "2023-02-17T18:46:13.264Z"
   },
   {
    "duration": 0,
    "start_time": "2023-02-17T18:46:13.264Z"
   },
   {
    "duration": 0,
    "start_time": "2023-02-17T18:46:13.265Z"
   },
   {
    "duration": 0,
    "start_time": "2023-02-17T18:46:13.266Z"
   },
   {
    "duration": 0,
    "start_time": "2023-02-17T18:46:13.268Z"
   },
   {
    "duration": 0,
    "start_time": "2023-02-17T18:46:13.269Z"
   },
   {
    "duration": 0,
    "start_time": "2023-02-17T18:46:13.270Z"
   },
   {
    "duration": 0,
    "start_time": "2023-02-17T18:46:13.271Z"
   },
   {
    "duration": 0,
    "start_time": "2023-02-17T18:46:13.272Z"
   },
   {
    "duration": 0,
    "start_time": "2023-02-17T18:46:13.273Z"
   },
   {
    "duration": 0,
    "start_time": "2023-02-17T18:46:13.274Z"
   },
   {
    "duration": 0,
    "start_time": "2023-02-17T18:46:13.275Z"
   },
   {
    "duration": 0,
    "start_time": "2023-02-17T18:46:13.276Z"
   },
   {
    "duration": 0,
    "start_time": "2023-02-17T18:46:13.277Z"
   },
   {
    "duration": 0,
    "start_time": "2023-02-17T18:46:13.278Z"
   },
   {
    "duration": 0,
    "start_time": "2023-02-17T18:46:13.279Z"
   },
   {
    "duration": 0,
    "start_time": "2023-02-17T18:46:13.280Z"
   },
   {
    "duration": 0,
    "start_time": "2023-02-17T18:46:13.282Z"
   },
   {
    "duration": 19,
    "start_time": "2023-02-17T18:46:48.504Z"
   },
   {
    "duration": 7,
    "start_time": "2023-02-17T18:46:50.533Z"
   },
   {
    "duration": 15,
    "start_time": "2023-02-17T18:46:51.759Z"
   },
   {
    "duration": 3,
    "start_time": "2023-02-17T18:47:04.000Z"
   },
   {
    "duration": 3,
    "start_time": "2023-02-17T18:47:25.760Z"
   },
   {
    "duration": 2298,
    "start_time": "2023-02-17T18:47:31.122Z"
   },
   {
    "duration": 33,
    "start_time": "2023-02-17T18:47:51.382Z"
   },
   {
    "duration": 15,
    "start_time": "2023-02-17T18:48:02.959Z"
   },
   {
    "duration": 6,
    "start_time": "2023-02-17T18:48:17.707Z"
   },
   {
    "duration": 2692,
    "start_time": "2023-02-17T18:48:19.347Z"
   },
   {
    "duration": 3,
    "start_time": "2023-02-17T18:49:19.659Z"
   },
   {
    "duration": 17,
    "start_time": "2023-02-17T18:49:21.702Z"
   },
   {
    "duration": 3,
    "start_time": "2023-02-17T18:49:28.364Z"
   },
   {
    "duration": 26,
    "start_time": "2023-02-17T18:49:29.840Z"
   },
   {
    "duration": 7,
    "start_time": "2023-02-17T18:50:32.925Z"
   },
   {
    "duration": 2425,
    "start_time": "2023-02-17T18:50:34.575Z"
   },
   {
    "duration": 7,
    "start_time": "2023-02-17T18:50:57.786Z"
   },
   {
    "duration": 26,
    "start_time": "2023-02-17T18:50:59.477Z"
   },
   {
    "duration": 8,
    "start_time": "2023-02-17T18:51:26.648Z"
   },
   {
    "duration": 7334,
    "start_time": "2023-02-17T18:51:53.075Z"
   },
   {
    "duration": 93,
    "start_time": "2023-02-17T18:53:43.215Z"
   },
   {
    "duration": 3,
    "start_time": "2023-02-17T18:53:50.373Z"
   },
   {
    "duration": 5,
    "start_time": "2023-02-17T18:54:05.077Z"
   },
   {
    "duration": 11,
    "start_time": "2023-02-17T18:54:23.111Z"
   },
   {
    "duration": 8563,
    "start_time": "2023-02-17T18:54:32.722Z"
   },
   {
    "duration": 4,
    "start_time": "2023-02-17T18:55:47.505Z"
   },
   {
    "duration": 2294,
    "start_time": "2023-02-17T18:55:58.598Z"
   },
   {
    "duration": 7,
    "start_time": "2023-02-17T18:56:17.776Z"
   },
   {
    "duration": 7425,
    "start_time": "2023-02-17T18:56:20.461Z"
   },
   {
    "duration": 7,
    "start_time": "2023-02-17T18:57:35.893Z"
   },
   {
    "duration": 37,
    "start_time": "2023-02-17T18:57:39.142Z"
   },
   {
    "duration": 7,
    "start_time": "2023-02-17T18:58:09.825Z"
   },
   {
    "duration": 40,
    "start_time": "2023-02-17T18:58:11.429Z"
   },
   {
    "duration": 4,
    "start_time": "2023-02-17T18:58:23.885Z"
   },
   {
    "duration": 7,
    "start_time": "2023-02-17T18:58:27.158Z"
   },
   {
    "duration": 47,
    "start_time": "2023-02-17T18:58:27.871Z"
   },
   {
    "duration": 4,
    "start_time": "2023-02-17T18:58:44.696Z"
   },
   {
    "duration": 2151,
    "start_time": "2023-02-17T18:58:47.550Z"
   },
   {
    "duration": 71,
    "start_time": "2023-02-17T18:59:21.580Z"
   },
   {
    "duration": 13,
    "start_time": "2023-02-17T18:59:27.351Z"
   },
   {
    "duration": 2184,
    "start_time": "2023-02-17T18:59:29.150Z"
   },
   {
    "duration": 32,
    "start_time": "2023-02-17T18:59:45.773Z"
   },
   {
    "duration": 19,
    "start_time": "2023-02-17T19:00:41.757Z"
   },
   {
    "duration": 37,
    "start_time": "2023-02-17T19:00:56.807Z"
   },
   {
    "duration": 16640,
    "start_time": "2023-02-17T19:00:58.431Z"
   },
   {
    "duration": 47,
    "start_time": "2023-02-17T19:02:11.445Z"
   },
   {
    "duration": 44,
    "start_time": "2023-02-17T19:02:15.567Z"
   },
   {
    "duration": 11081,
    "start_time": "2023-02-17T19:02:30.850Z"
   },
   {
    "duration": 5,
    "start_time": "2023-02-17T19:03:21.739Z"
   },
   {
    "duration": 4,
    "start_time": "2023-02-17T19:03:25.480Z"
   },
   {
    "duration": 785,
    "start_time": "2023-02-17T19:03:28.549Z"
   },
   {
    "duration": 47,
    "start_time": "2023-02-17T19:03:40.411Z"
   },
   {
    "duration": 16986,
    "start_time": "2023-02-17T19:03:41.491Z"
   },
   {
    "duration": 41,
    "start_time": "2023-02-17T19:03:58.479Z"
   },
   {
    "duration": 9930,
    "start_time": "2023-02-17T19:03:58.522Z"
   },
   {
    "duration": 4,
    "start_time": "2023-02-17T19:04:52.061Z"
   },
   {
    "duration": 17273,
    "start_time": "2023-02-17T19:04:56.276Z"
   },
   {
    "duration": 10877,
    "start_time": "2023-02-17T19:05:13.551Z"
   },
   {
    "duration": 6,
    "start_time": "2023-02-17T19:05:32.875Z"
   },
   {
    "duration": 16596,
    "start_time": "2023-02-17T19:05:38.722Z"
   },
   {
    "duration": 10273,
    "start_time": "2023-02-17T19:05:55.320Z"
   },
   {
    "duration": 4,
    "start_time": "2023-02-17T19:06:23.408Z"
   },
   {
    "duration": 3,
    "start_time": "2023-02-17T19:06:26.839Z"
   },
   {
    "duration": 851,
    "start_time": "2023-02-17T19:06:29.741Z"
   },
   {
    "duration": 23,
    "start_time": "2023-02-17T19:06:32.890Z"
   },
   {
    "duration": 22,
    "start_time": "2023-02-17T19:06:51.037Z"
   },
   {
    "duration": 3,
    "start_time": "2023-02-17T19:07:15.652Z"
   },
   {
    "duration": 6,
    "start_time": "2023-02-17T19:07:16.980Z"
   },
   {
    "duration": 8,
    "start_time": "2023-02-17T19:07:18.680Z"
   },
   {
    "duration": 7503,
    "start_time": "2023-02-17T19:07:23.790Z"
   },
   {
    "duration": 4,
    "start_time": "2023-02-17T19:09:35.765Z"
   },
   {
    "duration": 7146,
    "start_time": "2023-02-17T19:09:39.350Z"
   },
   {
    "duration": 2,
    "start_time": "2023-02-17T19:09:58.147Z"
   },
   {
    "duration": 17201,
    "start_time": "2023-02-17T19:10:00.327Z"
   },
   {
    "duration": 10307,
    "start_time": "2023-02-17T19:10:17.531Z"
   },
   {
    "duration": 63,
    "start_time": "2023-02-17T19:11:28.276Z"
   },
   {
    "duration": 2358,
    "start_time": "2023-02-17T19:11:45.349Z"
   },
   {
    "duration": 1700,
    "start_time": "2023-02-17T19:11:47.709Z"
   },
   {
    "duration": 4,
    "start_time": "2023-02-17T19:11:49.411Z"
   },
   {
    "duration": 50,
    "start_time": "2023-02-17T19:11:49.417Z"
   },
   {
    "duration": 70,
    "start_time": "2023-02-17T19:11:49.468Z"
   },
   {
    "duration": 13,
    "start_time": "2023-02-17T19:11:49.540Z"
   },
   {
    "duration": 53,
    "start_time": "2023-02-17T19:11:49.555Z"
   },
   {
    "duration": 3,
    "start_time": "2023-02-17T19:11:49.609Z"
   },
   {
    "duration": 8,
    "start_time": "2023-02-17T19:11:49.614Z"
   },
   {
    "duration": 32,
    "start_time": "2023-02-17T19:11:49.625Z"
   },
   {
    "duration": 4,
    "start_time": "2023-02-17T19:11:49.658Z"
   },
   {
    "duration": 58,
    "start_time": "2023-02-17T19:11:49.663Z"
   },
   {
    "duration": 95,
    "start_time": "2023-02-17T19:11:49.723Z"
   },
   {
    "duration": 6,
    "start_time": "2023-02-17T19:11:49.819Z"
   },
   {
    "duration": 11473,
    "start_time": "2023-02-17T19:11:49.827Z"
   },
   {
    "duration": 7,
    "start_time": "2023-02-17T19:12:01.302Z"
   },
   {
    "duration": 18,
    "start_time": "2023-02-17T19:12:01.310Z"
   },
   {
    "duration": 29,
    "start_time": "2023-02-17T19:12:01.330Z"
   },
   {
    "duration": 20,
    "start_time": "2023-02-17T19:12:01.361Z"
   },
   {
    "duration": 5,
    "start_time": "2023-02-17T19:12:01.383Z"
   },
   {
    "duration": 10,
    "start_time": "2023-02-17T19:12:01.389Z"
   },
   {
    "duration": 17,
    "start_time": "2023-02-17T19:12:01.400Z"
   },
   {
    "duration": 9,
    "start_time": "2023-02-17T19:12:01.449Z"
   },
   {
    "duration": 21,
    "start_time": "2023-02-17T19:12:01.460Z"
   },
   {
    "duration": 28,
    "start_time": "2023-02-17T19:12:01.483Z"
   },
   {
    "duration": 131,
    "start_time": "2023-02-17T19:12:01.513Z"
   },
   {
    "duration": 6,
    "start_time": "2023-02-17T19:12:01.645Z"
   },
   {
    "duration": 2771,
    "start_time": "2023-02-17T19:12:01.656Z"
   },
   {
    "duration": 4,
    "start_time": "2023-02-17T19:12:04.429Z"
   },
   {
    "duration": 18,
    "start_time": "2023-02-17T19:12:04.434Z"
   },
   {
    "duration": 9,
    "start_time": "2023-02-17T19:12:04.454Z"
   },
   {
    "duration": 6,
    "start_time": "2023-02-17T19:12:04.465Z"
   },
   {
    "duration": 9,
    "start_time": "2023-02-17T19:12:04.472Z"
   },
   {
    "duration": 6,
    "start_time": "2023-02-17T19:12:04.483Z"
   },
   {
    "duration": 11,
    "start_time": "2023-02-17T19:12:04.491Z"
   },
   {
    "duration": 6,
    "start_time": "2023-02-17T19:12:04.504Z"
   },
   {
    "duration": 828,
    "start_time": "2023-02-17T19:12:04.511Z"
   },
   {
    "duration": 27,
    "start_time": "2023-02-17T19:12:05.347Z"
   },
   {
    "duration": 1565,
    "start_time": "2023-02-17T19:12:05.377Z"
   },
   {
    "duration": 7,
    "start_time": "2023-02-17T19:12:06.944Z"
   },
   {
    "duration": 253,
    "start_time": "2023-02-17T19:12:06.952Z"
   },
   {
    "duration": 4,
    "start_time": "2023-02-17T19:12:07.206Z"
   },
   {
    "duration": 9,
    "start_time": "2023-02-17T19:12:07.211Z"
   },
   {
    "duration": 7,
    "start_time": "2023-02-17T19:12:07.221Z"
   },
   {
    "duration": 6829,
    "start_time": "2023-02-17T19:12:07.229Z"
   },
   {
    "duration": 41,
    "start_time": "2023-02-17T19:12:14.060Z"
   },
   {
    "duration": 16709,
    "start_time": "2023-02-17T19:12:14.103Z"
   },
   {
    "duration": 41,
    "start_time": "2023-02-17T19:12:30.814Z"
   },
   {
    "duration": 10704,
    "start_time": "2023-02-17T19:12:30.856Z"
   },
   {
    "duration": 151,
    "start_time": "2023-02-17T19:12:41.561Z"
   },
   {
    "duration": 0,
    "start_time": "2023-02-17T19:12:41.714Z"
   },
   {
    "duration": 0,
    "start_time": "2023-02-17T19:12:41.715Z"
   },
   {
    "duration": 0,
    "start_time": "2023-02-17T19:12:41.717Z"
   },
   {
    "duration": 0,
    "start_time": "2023-02-17T19:12:41.717Z"
   },
   {
    "duration": 0,
    "start_time": "2023-02-17T19:12:41.718Z"
   },
   {
    "duration": 0,
    "start_time": "2023-02-17T19:12:41.720Z"
   },
   {
    "duration": 0,
    "start_time": "2023-02-17T19:12:41.721Z"
   },
   {
    "duration": 0,
    "start_time": "2023-02-17T19:12:41.721Z"
   },
   {
    "duration": 0,
    "start_time": "2023-02-17T19:12:41.722Z"
   },
   {
    "duration": 0,
    "start_time": "2023-02-17T19:12:41.724Z"
   },
   {
    "duration": 0,
    "start_time": "2023-02-17T19:12:41.725Z"
   },
   {
    "duration": 0,
    "start_time": "2023-02-17T19:12:41.726Z"
   },
   {
    "duration": 0,
    "start_time": "2023-02-17T19:12:41.727Z"
   },
   {
    "duration": 0,
    "start_time": "2023-02-17T19:12:41.728Z"
   },
   {
    "duration": 0,
    "start_time": "2023-02-17T19:12:41.748Z"
   },
   {
    "duration": 0,
    "start_time": "2023-02-17T19:12:41.749Z"
   },
   {
    "duration": 0,
    "start_time": "2023-02-17T19:12:41.750Z"
   },
   {
    "duration": 0,
    "start_time": "2023-02-17T19:12:41.751Z"
   },
   {
    "duration": 0,
    "start_time": "2023-02-17T19:12:41.752Z"
   },
   {
    "duration": 0,
    "start_time": "2023-02-17T19:12:41.753Z"
   },
   {
    "duration": 0,
    "start_time": "2023-02-17T19:12:41.755Z"
   },
   {
    "duration": 0,
    "start_time": "2023-02-17T19:12:41.756Z"
   },
   {
    "duration": 0,
    "start_time": "2023-02-17T19:12:41.758Z"
   },
   {
    "duration": 0,
    "start_time": "2023-02-17T19:12:41.759Z"
   },
   {
    "duration": 0,
    "start_time": "2023-02-17T19:12:41.761Z"
   },
   {
    "duration": 0,
    "start_time": "2023-02-17T19:12:41.761Z"
   },
   {
    "duration": 0,
    "start_time": "2023-02-17T19:12:41.763Z"
   },
   {
    "duration": 0,
    "start_time": "2023-02-17T19:12:41.764Z"
   },
   {
    "duration": 0,
    "start_time": "2023-02-17T19:12:41.765Z"
   },
   {
    "duration": 0,
    "start_time": "2023-02-17T19:12:41.766Z"
   },
   {
    "duration": 0,
    "start_time": "2023-02-17T19:12:41.767Z"
   },
   {
    "duration": 0,
    "start_time": "2023-02-17T19:12:41.768Z"
   },
   {
    "duration": 0,
    "start_time": "2023-02-17T19:12:41.769Z"
   },
   {
    "duration": 0,
    "start_time": "2023-02-17T19:12:41.770Z"
   },
   {
    "duration": 0,
    "start_time": "2023-02-17T19:12:41.772Z"
   },
   {
    "duration": 0,
    "start_time": "2023-02-17T19:12:41.772Z"
   },
   {
    "duration": 0,
    "start_time": "2023-02-17T19:12:41.773Z"
   },
   {
    "duration": 0,
    "start_time": "2023-02-17T19:12:41.774Z"
   },
   {
    "duration": 0,
    "start_time": "2023-02-17T19:12:41.775Z"
   },
   {
    "duration": 0,
    "start_time": "2023-02-17T19:12:41.777Z"
   },
   {
    "duration": 0,
    "start_time": "2023-02-17T19:12:41.777Z"
   },
   {
    "duration": 0,
    "start_time": "2023-02-17T19:12:41.779Z"
   },
   {
    "duration": 0,
    "start_time": "2023-02-17T19:12:41.780Z"
   },
   {
    "duration": 0,
    "start_time": "2023-02-17T19:12:41.781Z"
   },
   {
    "duration": 0,
    "start_time": "2023-02-17T19:12:41.782Z"
   },
   {
    "duration": 0,
    "start_time": "2023-02-17T19:12:41.783Z"
   },
   {
    "duration": 0,
    "start_time": "2023-02-17T19:12:41.783Z"
   },
   {
    "duration": 0,
    "start_time": "2023-02-17T19:12:41.784Z"
   },
   {
    "duration": 0,
    "start_time": "2023-02-17T19:12:41.785Z"
   },
   {
    "duration": 0,
    "start_time": "2023-02-17T19:12:41.848Z"
   },
   {
    "duration": 0,
    "start_time": "2023-02-17T19:12:41.849Z"
   },
   {
    "duration": 0,
    "start_time": "2023-02-17T19:12:41.850Z"
   },
   {
    "duration": 3,
    "start_time": "2023-02-17T19:13:15.085Z"
   },
   {
    "duration": 2437,
    "start_time": "2023-02-17T19:13:19.504Z"
   },
   {
    "duration": 1770,
    "start_time": "2023-02-17T19:13:21.943Z"
   },
   {
    "duration": 2,
    "start_time": "2023-02-17T19:13:23.715Z"
   },
   {
    "duration": 53,
    "start_time": "2023-02-17T19:13:23.719Z"
   },
   {
    "duration": 72,
    "start_time": "2023-02-17T19:13:23.774Z"
   },
   {
    "duration": 12,
    "start_time": "2023-02-17T19:13:23.847Z"
   },
   {
    "duration": 59,
    "start_time": "2023-02-17T19:13:23.860Z"
   },
   {
    "duration": 14,
    "start_time": "2023-02-17T19:13:23.921Z"
   },
   {
    "duration": 15,
    "start_time": "2023-02-17T19:13:23.937Z"
   },
   {
    "duration": 16,
    "start_time": "2023-02-17T19:13:23.955Z"
   },
   {
    "duration": 4,
    "start_time": "2023-02-17T19:13:23.972Z"
   },
   {
    "duration": 71,
    "start_time": "2023-02-17T19:13:23.978Z"
   },
   {
    "duration": 98,
    "start_time": "2023-02-17T19:13:24.051Z"
   },
   {
    "duration": 7,
    "start_time": "2023-02-17T19:13:24.151Z"
   },
   {
    "duration": 11816,
    "start_time": "2023-02-17T19:13:24.160Z"
   },
   {
    "duration": 7,
    "start_time": "2023-02-17T19:13:35.977Z"
   },
   {
    "duration": 6,
    "start_time": "2023-02-17T19:13:35.986Z"
   },
   {
    "duration": 14,
    "start_time": "2023-02-17T19:13:35.993Z"
   },
   {
    "duration": 14,
    "start_time": "2023-02-17T19:13:36.008Z"
   },
   {
    "duration": 28,
    "start_time": "2023-02-17T19:13:36.023Z"
   },
   {
    "duration": 11,
    "start_time": "2023-02-17T19:13:36.052Z"
   },
   {
    "duration": 16,
    "start_time": "2023-02-17T19:13:36.065Z"
   },
   {
    "duration": 10,
    "start_time": "2023-02-17T19:13:36.082Z"
   },
   {
    "duration": 5,
    "start_time": "2023-02-17T19:13:36.094Z"
   },
   {
    "duration": 8,
    "start_time": "2023-02-17T19:13:36.100Z"
   },
   {
    "duration": 88,
    "start_time": "2023-02-17T19:13:36.110Z"
   },
   {
    "duration": 4,
    "start_time": "2023-02-17T19:13:36.199Z"
   },
   {
    "duration": 2548,
    "start_time": "2023-02-17T19:13:36.207Z"
   },
   {
    "duration": 3,
    "start_time": "2023-02-17T19:13:38.756Z"
   },
   {
    "duration": 6,
    "start_time": "2023-02-17T19:13:38.761Z"
   },
   {
    "duration": 16,
    "start_time": "2023-02-17T19:13:38.769Z"
   },
   {
    "duration": 11,
    "start_time": "2023-02-17T19:13:38.786Z"
   },
   {
    "duration": 6,
    "start_time": "2023-02-17T19:13:38.799Z"
   },
   {
    "duration": 7,
    "start_time": "2023-02-17T19:13:38.806Z"
   },
   {
    "duration": 16,
    "start_time": "2023-02-17T19:13:38.815Z"
   },
   {
    "duration": 6,
    "start_time": "2023-02-17T19:13:38.833Z"
   },
   {
    "duration": 787,
    "start_time": "2023-02-17T19:13:38.841Z"
   },
   {
    "duration": 27,
    "start_time": "2023-02-17T19:13:39.629Z"
   },
   {
    "duration": 1760,
    "start_time": "2023-02-17T19:13:39.657Z"
   },
   {
    "duration": 4,
    "start_time": "2023-02-17T19:13:41.419Z"
   },
   {
    "duration": 45,
    "start_time": "2023-02-17T19:13:41.425Z"
   },
   {
    "duration": 3,
    "start_time": "2023-02-17T19:13:41.471Z"
   },
   {
    "duration": 8,
    "start_time": "2023-02-17T19:13:41.476Z"
   },
   {
    "duration": 8,
    "start_time": "2023-02-17T19:13:41.485Z"
   },
   {
    "duration": 6769,
    "start_time": "2023-02-17T19:13:41.495Z"
   },
   {
    "duration": 45,
    "start_time": "2023-02-17T19:13:48.265Z"
   },
   {
    "duration": 16653,
    "start_time": "2023-02-17T19:13:48.312Z"
   },
   {
    "duration": 42,
    "start_time": "2023-02-17T19:14:04.966Z"
   },
   {
    "duration": 10185,
    "start_time": "2023-02-17T19:14:05.010Z"
   },
   {
    "duration": 155,
    "start_time": "2023-02-17T19:14:15.197Z"
   },
   {
    "duration": 0,
    "start_time": "2023-02-17T19:14:15.354Z"
   },
   {
    "duration": 0,
    "start_time": "2023-02-17T19:14:15.355Z"
   },
   {
    "duration": 0,
    "start_time": "2023-02-17T19:14:15.356Z"
   },
   {
    "duration": 0,
    "start_time": "2023-02-17T19:14:15.357Z"
   },
   {
    "duration": 0,
    "start_time": "2023-02-17T19:14:15.358Z"
   },
   {
    "duration": 0,
    "start_time": "2023-02-17T19:14:15.360Z"
   },
   {
    "duration": 0,
    "start_time": "2023-02-17T19:14:15.361Z"
   },
   {
    "duration": 0,
    "start_time": "2023-02-17T19:14:15.362Z"
   },
   {
    "duration": 0,
    "start_time": "2023-02-17T19:14:15.363Z"
   },
   {
    "duration": 0,
    "start_time": "2023-02-17T19:14:15.364Z"
   },
   {
    "duration": 0,
    "start_time": "2023-02-17T19:14:15.365Z"
   },
   {
    "duration": 0,
    "start_time": "2023-02-17T19:14:15.366Z"
   },
   {
    "duration": 0,
    "start_time": "2023-02-17T19:14:15.367Z"
   },
   {
    "duration": 0,
    "start_time": "2023-02-17T19:14:15.368Z"
   },
   {
    "duration": 0,
    "start_time": "2023-02-17T19:14:15.369Z"
   },
   {
    "duration": 0,
    "start_time": "2023-02-17T19:14:15.370Z"
   },
   {
    "duration": 0,
    "start_time": "2023-02-17T19:14:15.371Z"
   },
   {
    "duration": 0,
    "start_time": "2023-02-17T19:14:15.372Z"
   },
   {
    "duration": 0,
    "start_time": "2023-02-17T19:14:15.373Z"
   },
   {
    "duration": 0,
    "start_time": "2023-02-17T19:14:15.374Z"
   },
   {
    "duration": 0,
    "start_time": "2023-02-17T19:14:15.375Z"
   },
   {
    "duration": 0,
    "start_time": "2023-02-17T19:14:15.376Z"
   },
   {
    "duration": 0,
    "start_time": "2023-02-17T19:14:15.378Z"
   },
   {
    "duration": 0,
    "start_time": "2023-02-17T19:14:15.379Z"
   },
   {
    "duration": 0,
    "start_time": "2023-02-17T19:14:15.380Z"
   },
   {
    "duration": 0,
    "start_time": "2023-02-17T19:14:15.381Z"
   },
   {
    "duration": 0,
    "start_time": "2023-02-17T19:14:15.383Z"
   },
   {
    "duration": 0,
    "start_time": "2023-02-17T19:14:15.384Z"
   },
   {
    "duration": 0,
    "start_time": "2023-02-17T19:14:15.385Z"
   },
   {
    "duration": 0,
    "start_time": "2023-02-17T19:14:15.386Z"
   },
   {
    "duration": 0,
    "start_time": "2023-02-17T19:14:15.387Z"
   },
   {
    "duration": 0,
    "start_time": "2023-02-17T19:14:15.388Z"
   },
   {
    "duration": 0,
    "start_time": "2023-02-17T19:14:15.389Z"
   },
   {
    "duration": 0,
    "start_time": "2023-02-17T19:14:15.448Z"
   },
   {
    "duration": 0,
    "start_time": "2023-02-17T19:14:15.449Z"
   },
   {
    "duration": 0,
    "start_time": "2023-02-17T19:14:15.450Z"
   },
   {
    "duration": 0,
    "start_time": "2023-02-17T19:14:15.451Z"
   },
   {
    "duration": 0,
    "start_time": "2023-02-17T19:14:15.451Z"
   },
   {
    "duration": 0,
    "start_time": "2023-02-17T19:14:15.452Z"
   },
   {
    "duration": 0,
    "start_time": "2023-02-17T19:14:15.454Z"
   },
   {
    "duration": 0,
    "start_time": "2023-02-17T19:14:15.455Z"
   },
   {
    "duration": 0,
    "start_time": "2023-02-17T19:14:15.455Z"
   },
   {
    "duration": 0,
    "start_time": "2023-02-17T19:14:15.456Z"
   },
   {
    "duration": 0,
    "start_time": "2023-02-17T19:14:15.457Z"
   },
   {
    "duration": 0,
    "start_time": "2023-02-17T19:14:15.458Z"
   },
   {
    "duration": 0,
    "start_time": "2023-02-17T19:14:15.459Z"
   },
   {
    "duration": 0,
    "start_time": "2023-02-17T19:14:15.460Z"
   },
   {
    "duration": 0,
    "start_time": "2023-02-17T19:14:15.461Z"
   },
   {
    "duration": 0,
    "start_time": "2023-02-17T19:14:15.462Z"
   },
   {
    "duration": 0,
    "start_time": "2023-02-17T19:14:15.463Z"
   },
   {
    "duration": 0,
    "start_time": "2023-02-17T19:14:15.464Z"
   },
   {
    "duration": 0,
    "start_time": "2023-02-17T19:14:15.465Z"
   },
   {
    "duration": 16686,
    "start_time": "2023-02-17T19:14:34.363Z"
   },
   {
    "duration": 23,
    "start_time": "2023-02-17T19:25:55.520Z"
   },
   {
    "duration": 1562,
    "start_time": "2023-02-17T19:26:16.496Z"
   },
   {
    "duration": 1476,
    "start_time": "2023-02-17T19:26:28.740Z"
   },
   {
    "duration": 1526,
    "start_time": "2023-02-17T19:26:36.469Z"
   },
   {
    "duration": 1644,
    "start_time": "2023-02-17T19:26:59.594Z"
   },
   {
    "duration": 5,
    "start_time": "2023-02-17T19:27:40.361Z"
   },
   {
    "duration": 11073,
    "start_time": "2023-02-17T19:27:46.371Z"
   },
   {
    "duration": 2,
    "start_time": "2023-02-17T19:28:25.185Z"
   },
   {
    "duration": 10362,
    "start_time": "2023-02-17T19:28:32.840Z"
   },
   {
    "duration": 17330,
    "start_time": "2023-02-17T19:28:55.912Z"
   },
   {
    "duration": 4,
    "start_time": "2023-02-17T19:29:39.362Z"
   },
   {
    "duration": 17332,
    "start_time": "2023-02-17T19:29:41.161Z"
   },
   {
    "duration": 2,
    "start_time": "2023-02-17T19:30:07.986Z"
   },
   {
    "duration": 17556,
    "start_time": "2023-02-17T19:30:10.469Z"
   },
   {
    "duration": 4,
    "start_time": "2023-02-17T19:30:49.093Z"
   },
   {
    "duration": 7,
    "start_time": "2023-02-17T19:30:57.074Z"
   },
   {
    "duration": 3,
    "start_time": "2023-02-17T19:31:01.840Z"
   },
   {
    "duration": 9,
    "start_time": "2023-02-17T19:31:02.545Z"
   },
   {
    "duration": 7,
    "start_time": "2023-02-17T19:31:03.296Z"
   },
   {
    "duration": 2097,
    "start_time": "2023-02-17T19:31:04.163Z"
   },
   {
    "duration": 41,
    "start_time": "2023-02-17T19:31:08.265Z"
   },
   {
    "duration": 4176,
    "start_time": "2023-02-17T19:31:09.343Z"
   },
   {
    "duration": 46,
    "start_time": "2023-02-17T19:31:16.767Z"
   },
   {
    "duration": 2913,
    "start_time": "2023-02-17T19:31:17.671Z"
   },
   {
    "duration": 4,
    "start_time": "2023-02-17T19:31:31.817Z"
   },
   {
    "duration": 25,
    "start_time": "2023-02-17T19:31:35.675Z"
   },
   {
    "duration": 7,
    "start_time": "2023-02-17T19:31:37.462Z"
   },
   {
    "duration": 6,
    "start_time": "2023-02-17T19:31:38.141Z"
   },
   {
    "duration": 29,
    "start_time": "2023-02-17T19:31:38.858Z"
   },
   {
    "duration": 3,
    "start_time": "2023-02-17T19:31:40.441Z"
   },
   {
    "duration": 7,
    "start_time": "2023-02-17T19:31:41.237Z"
   },
   {
    "duration": 6,
    "start_time": "2023-02-17T19:31:41.893Z"
   },
   {
    "duration": 1994,
    "start_time": "2023-02-17T19:31:42.528Z"
   },
   {
    "duration": 43,
    "start_time": "2023-02-17T19:31:45.563Z"
   },
   {
    "duration": 3982,
    "start_time": "2023-02-17T19:31:46.363Z"
   },
   {
    "duration": 55,
    "start_time": "2023-02-17T19:31:50.347Z"
   },
   {
    "duration": 3017,
    "start_time": "2023-02-17T19:31:50.404Z"
   },
   {
    "duration": 4,
    "start_time": "2023-02-17T19:35:37.853Z"
   },
   {
    "duration": 3,
    "start_time": "2023-02-17T19:35:40.476Z"
   },
   {
    "duration": 8,
    "start_time": "2023-02-17T19:35:41.153Z"
   },
   {
    "duration": 7,
    "start_time": "2023-02-17T19:35:41.934Z"
   },
   {
    "duration": 1928,
    "start_time": "2023-02-17T19:35:42.670Z"
   },
   {
    "duration": 40,
    "start_time": "2023-02-17T19:35:44.599Z"
   },
   {
    "duration": 4029,
    "start_time": "2023-02-17T19:35:46.478Z"
   },
   {
    "duration": 47,
    "start_time": "2023-02-17T19:35:50.509Z"
   },
   {
    "duration": 2554,
    "start_time": "2023-02-17T19:35:50.559Z"
   },
   {
    "duration": 4,
    "start_time": "2023-02-17T19:40:06.495Z"
   },
   {
    "duration": 3,
    "start_time": "2023-02-17T19:40:10.598Z"
   },
   {
    "duration": 943,
    "start_time": "2023-02-17T19:40:12.485Z"
   },
   {
    "duration": 8,
    "start_time": "2023-02-17T19:40:15.065Z"
   },
   {
    "duration": 2,
    "start_time": "2023-02-17T19:40:16.336Z"
   },
   {
    "duration": 3,
    "start_time": "2023-02-17T19:40:16.901Z"
   },
   {
    "duration": 23,
    "start_time": "2023-02-17T19:40:18.713Z"
   },
   {
    "duration": 8,
    "start_time": "2023-02-17T19:40:30.584Z"
   },
   {
    "duration": 8,
    "start_time": "2023-02-17T19:40:32.630Z"
   },
   {
    "duration": 2285,
    "start_time": "2023-02-17T19:40:33.525Z"
   },
   {
    "duration": 43,
    "start_time": "2023-02-17T19:40:56.498Z"
   },
   {
    "duration": 4330,
    "start_time": "2023-02-17T19:40:58.407Z"
   },
   {
    "duration": 57,
    "start_time": "2023-02-17T19:41:02.739Z"
   },
   {
    "duration": 2609,
    "start_time": "2023-02-17T19:41:08.394Z"
   },
   {
    "duration": 7,
    "start_time": "2023-02-17T19:41:48.446Z"
   },
   {
    "duration": 4418,
    "start_time": "2023-02-17T19:41:50.489Z"
   },
   {
    "duration": 3,
    "start_time": "2023-02-17T19:42:18.946Z"
   },
   {
    "duration": 3899,
    "start_time": "2023-02-17T19:42:21.091Z"
   },
   {
    "duration": 3,
    "start_time": "2023-02-17T19:42:46.289Z"
   },
   {
    "duration": 4142,
    "start_time": "2023-02-17T19:42:48.056Z"
   },
   {
    "duration": 3,
    "start_time": "2023-02-17T19:43:02.107Z"
   },
   {
    "duration": 4158,
    "start_time": "2023-02-17T19:43:04.305Z"
   },
   {
    "duration": 2,
    "start_time": "2023-02-17T19:43:21.296Z"
   },
   {
    "duration": 4268,
    "start_time": "2023-02-17T19:43:22.372Z"
   },
   {
    "duration": 4,
    "start_time": "2023-02-17T19:43:38.342Z"
   },
   {
    "duration": 4,
    "start_time": "2023-02-17T19:43:43.961Z"
   },
   {
    "duration": 14603,
    "start_time": "2023-02-17T19:43:49.411Z"
   },
   {
    "duration": 3,
    "start_time": "2023-02-17T19:44:17.001Z"
   },
   {
    "duration": 8,
    "start_time": "2023-02-17T19:44:18.432Z"
   },
   {
    "duration": 8,
    "start_time": "2023-02-17T19:44:19.162Z"
   },
   {
    "duration": 6033,
    "start_time": "2023-02-17T19:44:19.850Z"
   },
   {
    "duration": 44,
    "start_time": "2023-02-17T19:44:25.885Z"
   },
   {
    "duration": 15850,
    "start_time": "2023-02-17T19:44:25.931Z"
   },
   {
    "duration": 41,
    "start_time": "2023-02-17T19:44:41.783Z"
   },
   {
    "duration": 8719,
    "start_time": "2023-02-17T19:44:41.826Z"
   },
   {
    "duration": 4,
    "start_time": "2023-02-17T19:45:02.393Z"
   },
   {
    "duration": 4,
    "start_time": "2023-02-17T19:45:10.826Z"
   },
   {
    "duration": 3,
    "start_time": "2023-02-17T19:45:13.010Z"
   },
   {
    "duration": 11,
    "start_time": "2023-02-17T19:45:13.874Z"
   },
   {
    "duration": 6,
    "start_time": "2023-02-17T19:45:14.497Z"
   },
   {
    "duration": 4334,
    "start_time": "2023-02-17T19:45:15.133Z"
   },
   {
    "duration": 59,
    "start_time": "2023-02-17T19:45:19.470Z"
   },
   {
    "duration": 9300,
    "start_time": "2023-02-17T19:45:19.531Z"
   },
   {
    "duration": 55,
    "start_time": "2023-02-17T19:45:28.833Z"
   },
   {
    "duration": 5864,
    "start_time": "2023-02-17T19:45:28.890Z"
   },
   {
    "duration": 5,
    "start_time": "2023-02-17T19:46:05.889Z"
   },
   {
    "duration": 58,
    "start_time": "2023-02-17T19:46:14.443Z"
   },
   {
    "duration": 9206,
    "start_time": "2023-02-17T19:46:15.785Z"
   },
   {
    "duration": 50,
    "start_time": "2023-02-17T19:46:24.993Z"
   },
   {
    "duration": 5966,
    "start_time": "2023-02-17T19:46:25.044Z"
   },
   {
    "duration": 8,
    "start_time": "2023-02-17T19:46:44.465Z"
   },
   {
    "duration": 9,
    "start_time": "2023-02-17T19:46:46.945Z"
   },
   {
    "duration": 8,
    "start_time": "2023-02-17T19:46:47.744Z"
   },
   {
    "duration": 3,
    "start_time": "2023-02-17T19:46:48.684Z"
   },
   {
    "duration": 4793,
    "start_time": "2023-02-17T19:46:49.640Z"
   },
   {
    "duration": 56,
    "start_time": "2023-02-17T19:46:54.435Z"
   },
   {
    "duration": 10833,
    "start_time": "2023-02-17T19:46:54.493Z"
   },
   {
    "duration": 73,
    "start_time": "2023-02-17T19:47:05.329Z"
   },
   {
    "duration": 6607,
    "start_time": "2023-02-17T19:47:05.404Z"
   },
   {
    "duration": 3,
    "start_time": "2023-02-17T19:47:12.013Z"
   },
   {
    "duration": 3,
    "start_time": "2023-02-17T19:47:47.575Z"
   },
   {
    "duration": 9925,
    "start_time": "2023-02-17T19:47:48.822Z"
   },
   {
    "duration": 4,
    "start_time": "2023-02-17T19:48:04.775Z"
   },
   {
    "duration": 10252,
    "start_time": "2023-02-17T19:48:06.225Z"
   },
   {
    "duration": 3,
    "start_time": "2023-02-17T19:48:32.686Z"
   },
   {
    "duration": 10478,
    "start_time": "2023-02-17T19:48:33.629Z"
   },
   {
    "duration": 2,
    "start_time": "2023-02-17T19:48:50.183Z"
   },
   {
    "duration": 9916,
    "start_time": "2023-02-17T19:48:51.494Z"
   },
   {
    "duration": 3,
    "start_time": "2023-02-17T19:49:11.119Z"
   },
   {
    "duration": 10860,
    "start_time": "2023-02-17T19:49:12.870Z"
   },
   {
    "duration": 12,
    "start_time": "2023-02-17T19:50:00.713Z"
   },
   {
    "duration": 8,
    "start_time": "2023-02-17T19:50:02.766Z"
   },
   {
    "duration": 10338,
    "start_time": "2023-02-17T19:50:03.664Z"
   },
   {
    "duration": 12,
    "start_time": "2023-02-17T19:51:01.997Z"
   },
   {
    "duration": 4,
    "start_time": "2023-02-17T19:51:04.997Z"
   },
   {
    "duration": 3,
    "start_time": "2023-02-17T19:51:46.713Z"
   },
   {
    "duration": 10155,
    "start_time": "2023-02-17T19:51:54.038Z"
   },
   {
    "duration": 10176,
    "start_time": "2023-02-17T19:52:04.195Z"
   },
   {
    "duration": 25238,
    "start_time": "2023-02-17T19:53:54.656Z"
   },
   {
    "duration": 28020,
    "start_time": "2023-02-17T19:54:41.571Z"
   },
   {
    "duration": 5,
    "start_time": "2023-02-17T20:09:10.450Z"
   },
   {
    "duration": 8,
    "start_time": "2023-02-17T20:09:59.403Z"
   },
   {
    "duration": 11,
    "start_time": "2023-02-17T20:10:54.013Z"
   },
   {
    "duration": 4,
    "start_time": "2023-02-17T20:11:07.422Z"
   },
   {
    "duration": 4,
    "start_time": "2023-02-17T20:11:34.075Z"
   },
   {
    "duration": 25235,
    "start_time": "2023-02-17T20:11:56.233Z"
   },
   {
    "duration": 3,
    "start_time": "2023-02-17T20:13:31.016Z"
   },
   {
    "duration": 4,
    "start_time": "2023-02-17T20:14:55.493Z"
   },
   {
    "duration": 15,
    "start_time": "2023-02-17T20:15:15.333Z"
   },
   {
    "duration": 43,
    "start_time": "2023-02-17T20:19:45.727Z"
   },
   {
    "duration": 4,
    "start_time": "2023-02-17T20:24:30.933Z"
   },
   {
    "duration": 4,
    "start_time": "2023-02-17T20:24:36.511Z"
   },
   {
    "duration": 12,
    "start_time": "2023-02-17T20:24:50.738Z"
   },
   {
    "duration": 37,
    "start_time": "2023-02-17T20:24:56.165Z"
   },
   {
    "duration": 2129,
    "start_time": "2023-02-17T20:25:03.056Z"
   },
   {
    "duration": 5,
    "start_time": "2023-02-17T20:25:37.070Z"
   },
   {
    "duration": 6,
    "start_time": "2023-02-17T20:25:43.053Z"
   },
   {
    "duration": 4,
    "start_time": "2023-02-17T20:25:45.597Z"
   },
   {
    "duration": 845,
    "start_time": "2023-02-17T20:25:46.317Z"
   },
   {
    "duration": 23,
    "start_time": "2023-02-17T20:25:52.155Z"
   },
   {
    "duration": 15,
    "start_time": "2023-02-17T20:26:01.615Z"
   },
   {
    "duration": 39,
    "start_time": "2023-02-17T20:26:02.384Z"
   },
   {
    "duration": 2013,
    "start_time": "2023-02-17T20:26:09.019Z"
   },
   {
    "duration": 6,
    "start_time": "2023-02-17T20:27:36.747Z"
   },
   {
    "duration": 14,
    "start_time": "2023-02-17T20:27:46.514Z"
   },
   {
    "duration": 48,
    "start_time": "2023-02-17T20:27:47.566Z"
   },
   {
    "duration": 84,
    "start_time": "2023-02-17T20:28:03.570Z"
   },
   {
    "duration": 8934,
    "start_time": "2023-02-17T20:28:05.068Z"
   },
   {
    "duration": 11,
    "start_time": "2023-02-17T20:30:00.487Z"
   },
   {
    "duration": 37,
    "start_time": "2023-02-17T20:30:04.634Z"
   },
   {
    "duration": 13989,
    "start_time": "2023-02-18T13:14:34.066Z"
   },
   {
    "duration": 2126,
    "start_time": "2023-02-18T13:14:48.057Z"
   },
   {
    "duration": 3,
    "start_time": "2023-02-18T13:14:50.185Z"
   },
   {
    "duration": 48,
    "start_time": "2023-02-18T13:14:50.192Z"
   },
   {
    "duration": 483,
    "start_time": "2023-02-18T13:14:50.242Z"
   },
   {
    "duration": 13,
    "start_time": "2023-02-18T13:14:50.727Z"
   },
   {
    "duration": 57,
    "start_time": "2023-02-18T13:14:50.742Z"
   },
   {
    "duration": 4,
    "start_time": "2023-02-18T13:14:50.801Z"
   },
   {
    "duration": 23,
    "start_time": "2023-02-18T13:14:50.807Z"
   },
   {
    "duration": 25,
    "start_time": "2023-02-18T13:14:50.833Z"
   },
   {
    "duration": 5,
    "start_time": "2023-02-18T13:14:50.859Z"
   },
   {
    "duration": 67,
    "start_time": "2023-02-18T13:14:50.865Z"
   },
   {
    "duration": 114,
    "start_time": "2023-02-18T13:14:50.937Z"
   },
   {
    "duration": 11,
    "start_time": "2023-02-18T13:14:51.053Z"
   },
   {
    "duration": 21,
    "start_time": "2023-02-18T13:14:51.065Z"
   },
   {
    "duration": 13376,
    "start_time": "2023-02-18T13:14:51.087Z"
   },
   {
    "duration": 9,
    "start_time": "2023-02-18T13:15:04.465Z"
   },
   {
    "duration": 9,
    "start_time": "2023-02-18T13:15:04.475Z"
   },
   {
    "duration": 13,
    "start_time": "2023-02-18T13:15:04.486Z"
   },
   {
    "duration": 36,
    "start_time": "2023-02-18T13:15:04.501Z"
   },
   {
    "duration": 6,
    "start_time": "2023-02-18T13:15:04.539Z"
   },
   {
    "duration": 15,
    "start_time": "2023-02-18T13:15:04.547Z"
   },
   {
    "duration": 9,
    "start_time": "2023-02-18T13:15:04.564Z"
   },
   {
    "duration": 11,
    "start_time": "2023-02-18T13:15:04.575Z"
   },
   {
    "duration": 5,
    "start_time": "2023-02-18T13:15:04.588Z"
   },
   {
    "duration": 6,
    "start_time": "2023-02-18T13:15:04.595Z"
   },
   {
    "duration": 122,
    "start_time": "2023-02-18T13:15:04.603Z"
   },
   {
    "duration": 6,
    "start_time": "2023-02-18T13:15:04.736Z"
   },
   {
    "duration": 2855,
    "start_time": "2023-02-18T13:15:04.744Z"
   },
   {
    "duration": 3,
    "start_time": "2023-02-18T13:15:07.601Z"
   },
   {
    "duration": 7,
    "start_time": "2023-02-18T13:15:07.606Z"
   },
   {
    "duration": 5,
    "start_time": "2023-02-18T13:15:07.614Z"
   },
   {
    "duration": 18,
    "start_time": "2023-02-18T13:15:07.620Z"
   },
   {
    "duration": 21,
    "start_time": "2023-02-18T13:15:07.640Z"
   },
   {
    "duration": 6,
    "start_time": "2023-02-18T13:15:07.663Z"
   },
   {
    "duration": 6,
    "start_time": "2023-02-18T13:15:07.671Z"
   },
   {
    "duration": 9,
    "start_time": "2023-02-18T13:15:07.679Z"
   },
   {
    "duration": 910,
    "start_time": "2023-02-18T13:15:07.689Z"
   },
   {
    "duration": 36,
    "start_time": "2023-02-18T13:15:08.601Z"
   },
   {
    "duration": 184,
    "start_time": "2023-02-18T13:15:08.646Z"
   },
   {
    "duration": 0,
    "start_time": "2023-02-18T13:15:08.832Z"
   },
   {
    "duration": 0,
    "start_time": "2023-02-18T13:15:08.834Z"
   },
   {
    "duration": 0,
    "start_time": "2023-02-18T13:15:08.837Z"
   },
   {
    "duration": 0,
    "start_time": "2023-02-18T13:15:08.837Z"
   },
   {
    "duration": 0,
    "start_time": "2023-02-18T13:15:08.838Z"
   },
   {
    "duration": 0,
    "start_time": "2023-02-18T13:15:08.839Z"
   },
   {
    "duration": 0,
    "start_time": "2023-02-18T13:15:08.840Z"
   },
   {
    "duration": 0,
    "start_time": "2023-02-18T13:15:08.840Z"
   },
   {
    "duration": 0,
    "start_time": "2023-02-18T13:15:08.841Z"
   },
   {
    "duration": 0,
    "start_time": "2023-02-18T13:15:08.842Z"
   },
   {
    "duration": 0,
    "start_time": "2023-02-18T13:15:08.843Z"
   },
   {
    "duration": 0,
    "start_time": "2023-02-18T13:15:08.843Z"
   },
   {
    "duration": 0,
    "start_time": "2023-02-18T13:15:08.844Z"
   },
   {
    "duration": 0,
    "start_time": "2023-02-18T13:15:08.845Z"
   },
   {
    "duration": 0,
    "start_time": "2023-02-18T13:15:08.845Z"
   },
   {
    "duration": 0,
    "start_time": "2023-02-18T13:15:08.846Z"
   },
   {
    "duration": 0,
    "start_time": "2023-02-18T13:15:08.847Z"
   },
   {
    "duration": 0,
    "start_time": "2023-02-18T13:15:08.848Z"
   },
   {
    "duration": 0,
    "start_time": "2023-02-18T13:15:08.849Z"
   },
   {
    "duration": 0,
    "start_time": "2023-02-18T13:15:08.850Z"
   },
   {
    "duration": 0,
    "start_time": "2023-02-18T13:15:08.851Z"
   },
   {
    "duration": 0,
    "start_time": "2023-02-18T13:15:08.852Z"
   },
   {
    "duration": 0,
    "start_time": "2023-02-18T13:15:08.854Z"
   },
   {
    "duration": 0,
    "start_time": "2023-02-18T13:15:08.855Z"
   },
   {
    "duration": 0,
    "start_time": "2023-02-18T13:15:08.856Z"
   },
   {
    "duration": 0,
    "start_time": "2023-02-18T13:15:08.857Z"
   },
   {
    "duration": 0,
    "start_time": "2023-02-18T13:15:08.858Z"
   },
   {
    "duration": 0,
    "start_time": "2023-02-18T13:15:08.859Z"
   },
   {
    "duration": 0,
    "start_time": "2023-02-18T13:15:08.860Z"
   },
   {
    "duration": 0,
    "start_time": "2023-02-18T13:15:08.861Z"
   },
   {
    "duration": 0,
    "start_time": "2023-02-18T13:15:08.862Z"
   },
   {
    "duration": 0,
    "start_time": "2023-02-18T13:15:08.863Z"
   },
   {
    "duration": 0,
    "start_time": "2023-02-18T13:15:08.864Z"
   },
   {
    "duration": 0,
    "start_time": "2023-02-18T13:15:08.865Z"
   },
   {
    "duration": 0,
    "start_time": "2023-02-18T13:15:08.867Z"
   },
   {
    "duration": 0,
    "start_time": "2023-02-18T13:15:08.868Z"
   },
   {
    "duration": 0,
    "start_time": "2023-02-18T13:15:08.870Z"
   },
   {
    "duration": 0,
    "start_time": "2023-02-18T13:15:08.871Z"
   },
   {
    "duration": 0,
    "start_time": "2023-02-18T13:15:08.872Z"
   },
   {
    "duration": 0,
    "start_time": "2023-02-18T13:15:08.874Z"
   },
   {
    "duration": 0,
    "start_time": "2023-02-18T13:15:08.875Z"
   },
   {
    "duration": 0,
    "start_time": "2023-02-18T13:15:08.876Z"
   },
   {
    "duration": 0,
    "start_time": "2023-02-18T13:15:08.877Z"
   },
   {
    "duration": 0,
    "start_time": "2023-02-18T13:15:08.878Z"
   },
   {
    "duration": 0,
    "start_time": "2023-02-18T13:15:08.880Z"
   },
   {
    "duration": 0,
    "start_time": "2023-02-18T13:15:08.880Z"
   },
   {
    "duration": 0,
    "start_time": "2023-02-18T13:15:08.941Z"
   },
   {
    "duration": 0,
    "start_time": "2023-02-18T13:15:08.943Z"
   },
   {
    "duration": 0,
    "start_time": "2023-02-18T13:15:08.945Z"
   },
   {
    "duration": 0,
    "start_time": "2023-02-18T13:15:08.945Z"
   },
   {
    "duration": 0,
    "start_time": "2023-02-18T13:15:08.946Z"
   },
   {
    "duration": 0,
    "start_time": "2023-02-18T13:15:08.948Z"
   },
   {
    "duration": 0,
    "start_time": "2023-02-18T13:15:08.949Z"
   },
   {
    "duration": 0,
    "start_time": "2023-02-18T13:15:08.950Z"
   },
   {
    "duration": 0,
    "start_time": "2023-02-18T13:15:08.951Z"
   },
   {
    "duration": 0,
    "start_time": "2023-02-18T13:15:08.953Z"
   },
   {
    "duration": 0,
    "start_time": "2023-02-18T13:15:08.955Z"
   },
   {
    "duration": 0,
    "start_time": "2023-02-18T13:15:08.956Z"
   },
   {
    "duration": 0,
    "start_time": "2023-02-18T13:15:08.957Z"
   },
   {
    "duration": 0,
    "start_time": "2023-02-18T13:15:08.959Z"
   },
   {
    "duration": 0,
    "start_time": "2023-02-18T13:15:08.960Z"
   },
   {
    "duration": 0,
    "start_time": "2023-02-18T13:15:08.962Z"
   },
   {
    "duration": 0,
    "start_time": "2023-02-18T13:15:08.963Z"
   },
   {
    "duration": 0,
    "start_time": "2023-02-18T13:15:08.964Z"
   },
   {
    "duration": 0,
    "start_time": "2023-02-18T13:15:08.966Z"
   },
   {
    "duration": 2281,
    "start_time": "2023-02-18T13:16:15.080Z"
   },
   {
    "duration": 1963,
    "start_time": "2023-02-18T13:16:17.363Z"
   },
   {
    "duration": 4,
    "start_time": "2023-02-18T13:16:19.328Z"
   },
   {
    "duration": 54,
    "start_time": "2023-02-18T13:16:19.334Z"
   },
   {
    "duration": 77,
    "start_time": "2023-02-18T13:16:19.390Z"
   },
   {
    "duration": 14,
    "start_time": "2023-02-18T13:16:19.469Z"
   },
   {
    "duration": 77,
    "start_time": "2023-02-18T13:16:19.484Z"
   },
   {
    "duration": 3,
    "start_time": "2023-02-18T13:16:19.562Z"
   },
   {
    "duration": 6,
    "start_time": "2023-02-18T13:16:19.567Z"
   },
   {
    "duration": 16,
    "start_time": "2023-02-18T13:16:19.576Z"
   },
   {
    "duration": 4,
    "start_time": "2023-02-18T13:16:19.593Z"
   },
   {
    "duration": 93,
    "start_time": "2023-02-18T13:16:19.599Z"
   },
   {
    "duration": 89,
    "start_time": "2023-02-18T13:16:19.694Z"
   },
   {
    "duration": 10,
    "start_time": "2023-02-18T13:16:19.784Z"
   },
   {
    "duration": 8,
    "start_time": "2023-02-18T13:16:19.796Z"
   },
   {
    "duration": 1053,
    "start_time": "2023-02-18T13:16:19.805Z"
   },
   {
    "duration": 0,
    "start_time": "2023-02-18T13:16:20.861Z"
   },
   {
    "duration": 0,
    "start_time": "2023-02-18T13:16:20.862Z"
   },
   {
    "duration": 0,
    "start_time": "2023-02-18T13:16:20.864Z"
   },
   {
    "duration": 0,
    "start_time": "2023-02-18T13:16:20.865Z"
   },
   {
    "duration": 0,
    "start_time": "2023-02-18T13:16:20.865Z"
   },
   {
    "duration": 0,
    "start_time": "2023-02-18T13:16:20.867Z"
   },
   {
    "duration": 0,
    "start_time": "2023-02-18T13:16:20.868Z"
   },
   {
    "duration": 0,
    "start_time": "2023-02-18T13:16:20.869Z"
   },
   {
    "duration": 0,
    "start_time": "2023-02-18T13:16:20.869Z"
   },
   {
    "duration": 0,
    "start_time": "2023-02-18T13:16:20.870Z"
   },
   {
    "duration": 0,
    "start_time": "2023-02-18T13:16:20.871Z"
   },
   {
    "duration": 0,
    "start_time": "2023-02-18T13:16:20.873Z"
   },
   {
    "duration": 0,
    "start_time": "2023-02-18T13:16:20.873Z"
   },
   {
    "duration": 0,
    "start_time": "2023-02-18T13:16:20.874Z"
   },
   {
    "duration": 0,
    "start_time": "2023-02-18T13:16:20.875Z"
   },
   {
    "duration": 0,
    "start_time": "2023-02-18T13:16:20.876Z"
   },
   {
    "duration": 0,
    "start_time": "2023-02-18T13:16:20.877Z"
   },
   {
    "duration": 0,
    "start_time": "2023-02-18T13:16:20.878Z"
   },
   {
    "duration": 0,
    "start_time": "2023-02-18T13:16:20.879Z"
   },
   {
    "duration": 0,
    "start_time": "2023-02-18T13:16:20.880Z"
   },
   {
    "duration": 0,
    "start_time": "2023-02-18T13:16:20.881Z"
   },
   {
    "duration": 0,
    "start_time": "2023-02-18T13:16:20.882Z"
   },
   {
    "duration": 0,
    "start_time": "2023-02-18T13:16:20.883Z"
   },
   {
    "duration": 0,
    "start_time": "2023-02-18T13:16:20.884Z"
   },
   {
    "duration": 1,
    "start_time": "2023-02-18T13:16:20.884Z"
   },
   {
    "duration": 0,
    "start_time": "2023-02-18T13:16:20.885Z"
   },
   {
    "duration": 0,
    "start_time": "2023-02-18T13:16:20.886Z"
   },
   {
    "duration": 0,
    "start_time": "2023-02-18T13:16:20.888Z"
   },
   {
    "duration": 0,
    "start_time": "2023-02-18T13:16:20.889Z"
   },
   {
    "duration": 0,
    "start_time": "2023-02-18T13:16:20.890Z"
   },
   {
    "duration": 0,
    "start_time": "2023-02-18T13:16:20.937Z"
   },
   {
    "duration": 0,
    "start_time": "2023-02-18T13:16:20.938Z"
   },
   {
    "duration": 0,
    "start_time": "2023-02-18T13:16:20.940Z"
   },
   {
    "duration": 0,
    "start_time": "2023-02-18T13:16:20.941Z"
   },
   {
    "duration": 0,
    "start_time": "2023-02-18T13:16:20.942Z"
   },
   {
    "duration": 0,
    "start_time": "2023-02-18T13:16:20.942Z"
   },
   {
    "duration": 0,
    "start_time": "2023-02-18T13:16:20.943Z"
   },
   {
    "duration": 0,
    "start_time": "2023-02-18T13:16:20.944Z"
   },
   {
    "duration": 0,
    "start_time": "2023-02-18T13:16:20.945Z"
   },
   {
    "duration": 0,
    "start_time": "2023-02-18T13:16:20.947Z"
   },
   {
    "duration": 0,
    "start_time": "2023-02-18T13:16:20.948Z"
   },
   {
    "duration": 0,
    "start_time": "2023-02-18T13:16:20.949Z"
   },
   {
    "duration": 0,
    "start_time": "2023-02-18T13:16:20.950Z"
   },
   {
    "duration": 0,
    "start_time": "2023-02-18T13:16:20.951Z"
   },
   {
    "duration": 0,
    "start_time": "2023-02-18T13:16:20.952Z"
   },
   {
    "duration": 0,
    "start_time": "2023-02-18T13:16:20.953Z"
   },
   {
    "duration": 0,
    "start_time": "2023-02-18T13:16:20.954Z"
   },
   {
    "duration": 0,
    "start_time": "2023-02-18T13:16:20.955Z"
   },
   {
    "duration": 0,
    "start_time": "2023-02-18T13:16:20.957Z"
   },
   {
    "duration": 0,
    "start_time": "2023-02-18T13:16:20.958Z"
   },
   {
    "duration": 0,
    "start_time": "2023-02-18T13:16:20.958Z"
   },
   {
    "duration": 0,
    "start_time": "2023-02-18T13:16:20.959Z"
   },
   {
    "duration": 0,
    "start_time": "2023-02-18T13:16:20.960Z"
   },
   {
    "duration": 0,
    "start_time": "2023-02-18T13:16:20.961Z"
   },
   {
    "duration": 0,
    "start_time": "2023-02-18T13:16:20.963Z"
   },
   {
    "duration": 0,
    "start_time": "2023-02-18T13:16:20.965Z"
   },
   {
    "duration": 0,
    "start_time": "2023-02-18T13:16:20.967Z"
   },
   {
    "duration": 0,
    "start_time": "2023-02-18T13:16:20.968Z"
   },
   {
    "duration": 0,
    "start_time": "2023-02-18T13:16:20.969Z"
   },
   {
    "duration": 0,
    "start_time": "2023-02-18T13:16:20.971Z"
   },
   {
    "duration": 0,
    "start_time": "2023-02-18T13:16:20.972Z"
   },
   {
    "duration": 0,
    "start_time": "2023-02-18T13:16:20.973Z"
   },
   {
    "duration": 0,
    "start_time": "2023-02-18T13:16:20.974Z"
   },
   {
    "duration": 0,
    "start_time": "2023-02-18T13:16:20.975Z"
   },
   {
    "duration": 0,
    "start_time": "2023-02-18T13:16:20.976Z"
   },
   {
    "duration": 0,
    "start_time": "2023-02-18T13:16:20.977Z"
   },
   {
    "duration": 0,
    "start_time": "2023-02-18T13:16:21.038Z"
   },
   {
    "duration": 0,
    "start_time": "2023-02-18T13:16:21.039Z"
   },
   {
    "duration": 0,
    "start_time": "2023-02-18T13:16:21.039Z"
   },
   {
    "duration": 0,
    "start_time": "2023-02-18T13:16:21.040Z"
   },
   {
    "duration": 0,
    "start_time": "2023-02-18T13:16:21.040Z"
   },
   {
    "duration": 0,
    "start_time": "2023-02-18T13:16:21.041Z"
   },
   {
    "duration": 0,
    "start_time": "2023-02-18T13:16:21.041Z"
   },
   {
    "duration": 0,
    "start_time": "2023-02-18T13:16:21.042Z"
   },
   {
    "duration": 0,
    "start_time": "2023-02-18T13:16:21.043Z"
   },
   {
    "duration": 0,
    "start_time": "2023-02-18T13:16:21.043Z"
   },
   {
    "duration": 0,
    "start_time": "2023-02-18T13:16:21.044Z"
   },
   {
    "duration": 0,
    "start_time": "2023-02-18T13:16:21.045Z"
   },
   {
    "duration": 0,
    "start_time": "2023-02-18T13:16:21.045Z"
   },
   {
    "duration": 0,
    "start_time": "2023-02-18T13:16:21.046Z"
   },
   {
    "duration": 0,
    "start_time": "2023-02-18T13:16:21.048Z"
   },
   {
    "duration": 0,
    "start_time": "2023-02-18T13:16:21.049Z"
   },
   {
    "duration": 0,
    "start_time": "2023-02-18T13:16:21.050Z"
   },
   {
    "duration": 0,
    "start_time": "2023-02-18T13:16:21.051Z"
   },
   {
    "duration": 0,
    "start_time": "2023-02-18T13:16:21.052Z"
   },
   {
    "duration": 0,
    "start_time": "2023-02-18T13:16:21.053Z"
   },
   {
    "duration": 0,
    "start_time": "2023-02-18T13:16:21.054Z"
   },
   {
    "duration": 0,
    "start_time": "2023-02-18T13:16:21.055Z"
   },
   {
    "duration": 1,
    "start_time": "2023-02-18T13:16:21.055Z"
   },
   {
    "duration": 16,
    "start_time": "2023-02-18T13:17:02.594Z"
   },
   {
    "duration": 2521,
    "start_time": "2023-02-18T13:17:09.912Z"
   },
   {
    "duration": 2054,
    "start_time": "2023-02-18T13:17:12.438Z"
   },
   {
    "duration": 3,
    "start_time": "2023-02-18T13:17:14.494Z"
   },
   {
    "duration": 42,
    "start_time": "2023-02-18T13:17:14.499Z"
   },
   {
    "duration": 74,
    "start_time": "2023-02-18T13:17:14.543Z"
   },
   {
    "duration": 36,
    "start_time": "2023-02-18T13:17:14.619Z"
   },
   {
    "duration": 54,
    "start_time": "2023-02-18T13:17:14.657Z"
   },
   {
    "duration": 3,
    "start_time": "2023-02-18T13:17:14.713Z"
   },
   {
    "duration": 23,
    "start_time": "2023-02-18T13:17:14.718Z"
   },
   {
    "duration": 24,
    "start_time": "2023-02-18T13:17:14.744Z"
   },
   {
    "duration": 5,
    "start_time": "2023-02-18T13:17:14.769Z"
   },
   {
    "duration": 86,
    "start_time": "2023-02-18T13:17:14.775Z"
   },
   {
    "duration": 102,
    "start_time": "2023-02-18T13:17:14.863Z"
   },
   {
    "duration": 20,
    "start_time": "2023-02-18T13:17:14.967Z"
   },
   {
    "duration": 13,
    "start_time": "2023-02-18T13:17:14.988Z"
   },
   {
    "duration": 31,
    "start_time": "2023-02-18T13:17:15.003Z"
   },
   {
    "duration": 13,
    "start_time": "2023-02-18T13:17:15.036Z"
   },
   {
    "duration": 31,
    "start_time": "2023-02-18T13:17:15.050Z"
   },
   {
    "duration": 13,
    "start_time": "2023-02-18T13:17:15.083Z"
   },
   {
    "duration": 6,
    "start_time": "2023-02-18T13:17:15.097Z"
   },
   {
    "duration": 27,
    "start_time": "2023-02-18T13:17:15.104Z"
   },
   {
    "duration": 31,
    "start_time": "2023-02-18T13:17:15.133Z"
   },
   {
    "duration": 11,
    "start_time": "2023-02-18T13:17:15.166Z"
   },
   {
    "duration": 8,
    "start_time": "2023-02-18T13:17:15.178Z"
   },
   {
    "duration": 5,
    "start_time": "2023-02-18T13:17:15.187Z"
   },
   {
    "duration": 103,
    "start_time": "2023-02-18T13:17:15.193Z"
   },
   {
    "duration": 5,
    "start_time": "2023-02-18T13:17:15.297Z"
   },
   {
    "duration": 2667,
    "start_time": "2023-02-18T13:17:15.413Z"
   },
   {
    "duration": 3,
    "start_time": "2023-02-18T13:17:18.081Z"
   },
   {
    "duration": 8,
    "start_time": "2023-02-18T13:17:18.085Z"
   },
   {
    "duration": 9,
    "start_time": "2023-02-18T13:17:18.094Z"
   },
   {
    "duration": 7,
    "start_time": "2023-02-18T13:17:18.104Z"
   },
   {
    "duration": 5,
    "start_time": "2023-02-18T13:17:18.112Z"
   },
   {
    "duration": 6,
    "start_time": "2023-02-18T13:17:18.119Z"
   },
   {
    "duration": 27,
    "start_time": "2023-02-18T13:17:18.127Z"
   },
   {
    "duration": 9,
    "start_time": "2023-02-18T13:17:18.156Z"
   },
   {
    "duration": 883,
    "start_time": "2023-02-18T13:17:18.167Z"
   },
   {
    "duration": 33,
    "start_time": "2023-02-18T13:17:19.052Z"
   },
   {
    "duration": 206,
    "start_time": "2023-02-18T13:17:19.087Z"
   },
   {
    "duration": 0,
    "start_time": "2023-02-18T13:17:19.296Z"
   },
   {
    "duration": 0,
    "start_time": "2023-02-18T13:17:19.297Z"
   },
   {
    "duration": 0,
    "start_time": "2023-02-18T13:17:19.298Z"
   },
   {
    "duration": 0,
    "start_time": "2023-02-18T13:17:19.299Z"
   },
   {
    "duration": 0,
    "start_time": "2023-02-18T13:17:19.300Z"
   },
   {
    "duration": 0,
    "start_time": "2023-02-18T13:17:19.301Z"
   },
   {
    "duration": 0,
    "start_time": "2023-02-18T13:17:19.302Z"
   },
   {
    "duration": 0,
    "start_time": "2023-02-18T13:17:19.302Z"
   },
   {
    "duration": 0,
    "start_time": "2023-02-18T13:17:19.303Z"
   },
   {
    "duration": 0,
    "start_time": "2023-02-18T13:17:19.304Z"
   },
   {
    "duration": 0,
    "start_time": "2023-02-18T13:17:19.305Z"
   },
   {
    "duration": 0,
    "start_time": "2023-02-18T13:17:19.306Z"
   },
   {
    "duration": 0,
    "start_time": "2023-02-18T13:17:19.307Z"
   },
   {
    "duration": 0,
    "start_time": "2023-02-18T13:17:19.308Z"
   },
   {
    "duration": 0,
    "start_time": "2023-02-18T13:17:19.309Z"
   },
   {
    "duration": 0,
    "start_time": "2023-02-18T13:17:19.310Z"
   },
   {
    "duration": 0,
    "start_time": "2023-02-18T13:17:19.339Z"
   },
   {
    "duration": 0,
    "start_time": "2023-02-18T13:17:19.340Z"
   },
   {
    "duration": 0,
    "start_time": "2023-02-18T13:17:19.341Z"
   },
   {
    "duration": 0,
    "start_time": "2023-02-18T13:17:19.342Z"
   },
   {
    "duration": 0,
    "start_time": "2023-02-18T13:17:19.343Z"
   },
   {
    "duration": 0,
    "start_time": "2023-02-18T13:17:19.345Z"
   },
   {
    "duration": 0,
    "start_time": "2023-02-18T13:17:19.346Z"
   },
   {
    "duration": 0,
    "start_time": "2023-02-18T13:17:19.347Z"
   },
   {
    "duration": 0,
    "start_time": "2023-02-18T13:17:19.348Z"
   },
   {
    "duration": 0,
    "start_time": "2023-02-18T13:17:19.349Z"
   },
   {
    "duration": 0,
    "start_time": "2023-02-18T13:17:19.350Z"
   },
   {
    "duration": 0,
    "start_time": "2023-02-18T13:17:19.353Z"
   },
   {
    "duration": 0,
    "start_time": "2023-02-18T13:17:19.354Z"
   },
   {
    "duration": 0,
    "start_time": "2023-02-18T13:17:19.356Z"
   },
   {
    "duration": 0,
    "start_time": "2023-02-18T13:17:19.357Z"
   },
   {
    "duration": 0,
    "start_time": "2023-02-18T13:17:19.358Z"
   },
   {
    "duration": 0,
    "start_time": "2023-02-18T13:17:19.359Z"
   },
   {
    "duration": 0,
    "start_time": "2023-02-18T13:17:19.361Z"
   },
   {
    "duration": 0,
    "start_time": "2023-02-18T13:17:19.362Z"
   },
   {
    "duration": 0,
    "start_time": "2023-02-18T13:17:19.363Z"
   },
   {
    "duration": 0,
    "start_time": "2023-02-18T13:17:19.365Z"
   },
   {
    "duration": 0,
    "start_time": "2023-02-18T13:17:19.366Z"
   },
   {
    "duration": 0,
    "start_time": "2023-02-18T13:17:19.367Z"
   },
   {
    "duration": 0,
    "start_time": "2023-02-18T13:17:19.368Z"
   },
   {
    "duration": 0,
    "start_time": "2023-02-18T13:17:19.369Z"
   },
   {
    "duration": 0,
    "start_time": "2023-02-18T13:17:19.370Z"
   },
   {
    "duration": 0,
    "start_time": "2023-02-18T13:17:19.372Z"
   },
   {
    "duration": 0,
    "start_time": "2023-02-18T13:17:19.373Z"
   },
   {
    "duration": 0,
    "start_time": "2023-02-18T13:17:19.374Z"
   },
   {
    "duration": 0,
    "start_time": "2023-02-18T13:17:19.375Z"
   },
   {
    "duration": 0,
    "start_time": "2023-02-18T13:17:19.377Z"
   },
   {
    "duration": 0,
    "start_time": "2023-02-18T13:17:19.378Z"
   },
   {
    "duration": 0,
    "start_time": "2023-02-18T13:17:19.379Z"
   },
   {
    "duration": 0,
    "start_time": "2023-02-18T13:17:19.380Z"
   },
   {
    "duration": 0,
    "start_time": "2023-02-18T13:17:19.381Z"
   },
   {
    "duration": 0,
    "start_time": "2023-02-18T13:17:19.382Z"
   },
   {
    "duration": 0,
    "start_time": "2023-02-18T13:17:19.437Z"
   },
   {
    "duration": 0,
    "start_time": "2023-02-18T13:17:19.439Z"
   },
   {
    "duration": 0,
    "start_time": "2023-02-18T13:17:19.440Z"
   },
   {
    "duration": 0,
    "start_time": "2023-02-18T13:17:19.441Z"
   },
   {
    "duration": 0,
    "start_time": "2023-02-18T13:17:19.442Z"
   },
   {
    "duration": 0,
    "start_time": "2023-02-18T13:17:19.443Z"
   },
   {
    "duration": 0,
    "start_time": "2023-02-18T13:17:19.445Z"
   },
   {
    "duration": 0,
    "start_time": "2023-02-18T13:17:19.445Z"
   },
   {
    "duration": 0,
    "start_time": "2023-02-18T13:17:19.446Z"
   },
   {
    "duration": 0,
    "start_time": "2023-02-18T13:17:19.447Z"
   },
   {
    "duration": 0,
    "start_time": "2023-02-18T13:17:19.448Z"
   },
   {
    "duration": 0,
    "start_time": "2023-02-18T13:17:19.449Z"
   },
   {
    "duration": 0,
    "start_time": "2023-02-18T13:17:19.450Z"
   },
   {
    "duration": 1266,
    "start_time": "2023-02-18T13:33:03.582Z"
   },
   {
    "duration": 1345,
    "start_time": "2023-02-18T13:33:13.453Z"
   },
   {
    "duration": 5,
    "start_time": "2023-02-18T13:34:33.740Z"
   },
   {
    "duration": 7,
    "start_time": "2023-02-18T13:36:25.257Z"
   },
   {
    "duration": 3,
    "start_time": "2023-02-18T13:36:27.778Z"
   },
   {
    "duration": 8,
    "start_time": "2023-02-18T13:36:29.724Z"
   },
   {
    "duration": 6,
    "start_time": "2023-02-18T13:36:31.127Z"
   },
   {
    "duration": 5317,
    "start_time": "2023-02-18T13:36:31.956Z"
   },
   {
    "duration": 6,
    "start_time": "2023-02-18T13:37:44.477Z"
   },
   {
    "duration": 4754,
    "start_time": "2023-02-18T13:37:47.874Z"
   },
   {
    "duration": 45,
    "start_time": "2023-02-18T13:40:45.799Z"
   },
   {
    "duration": 10858,
    "start_time": "2023-02-18T13:40:46.953Z"
   },
   {
    "duration": 78,
    "start_time": "2023-02-18T13:42:33.480Z"
   },
   {
    "duration": 7309,
    "start_time": "2023-02-18T13:42:34.142Z"
   },
   {
    "duration": 4,
    "start_time": "2023-02-18T13:48:28.742Z"
   },
   {
    "duration": 103,
    "start_time": "2023-02-18T13:50:39.132Z"
   },
   {
    "duration": 7,
    "start_time": "2023-02-18T13:51:29.749Z"
   },
   {
    "duration": 82,
    "start_time": "2023-02-18T13:51:34.328Z"
   },
   {
    "duration": 84,
    "start_time": "2023-02-18T13:51:43.327Z"
   },
   {
    "duration": 7,
    "start_time": "2023-02-18T13:51:48.668Z"
   },
   {
    "duration": 15,
    "start_time": "2023-02-18T13:51:50.628Z"
   },
   {
    "duration": 98,
    "start_time": "2023-02-18T13:51:51.453Z"
   },
   {
    "duration": 4490,
    "start_time": "2023-02-18T13:52:06.786Z"
   },
   {
    "duration": 9,
    "start_time": "2023-02-18T13:52:15.940Z"
   },
   {
    "duration": 4877,
    "start_time": "2023-02-18T13:52:19.657Z"
   },
   {
    "duration": 7,
    "start_time": "2023-02-18T13:53:11.232Z"
   },
   {
    "duration": 4315,
    "start_time": "2023-02-18T13:53:14.260Z"
   },
   {
    "duration": 75,
    "start_time": "2023-02-18T13:53:28.694Z"
   },
   {
    "duration": 10415,
    "start_time": "2023-02-18T13:53:29.629Z"
   },
   {
    "duration": 78,
    "start_time": "2023-02-18T13:53:47.786Z"
   },
   {
    "duration": 8273,
    "start_time": "2023-02-18T13:53:48.774Z"
   },
   {
    "duration": 7,
    "start_time": "2023-02-18T13:57:35.537Z"
   },
   {
    "duration": 4,
    "start_time": "2023-02-18T13:57:40.844Z"
   },
   {
    "duration": 11,
    "start_time": "2023-02-18T13:57:42.238Z"
   },
   {
    "duration": 1898,
    "start_time": "2023-02-18T13:57:43.235Z"
   },
   {
    "duration": 44,
    "start_time": "2023-02-18T13:57:54.170Z"
   },
   {
    "duration": 6759,
    "start_time": "2023-02-18T13:57:54.887Z"
   },
   {
    "duration": 60,
    "start_time": "2023-02-18T13:58:01.649Z"
   },
   {
    "duration": 3808,
    "start_time": "2023-02-18T13:58:01.712Z"
   },
   {
    "duration": 128,
    "start_time": "2023-02-18T13:58:59.934Z"
   },
   {
    "duration": 5,
    "start_time": "2023-02-18T13:59:03.776Z"
   },
   {
    "duration": 6661,
    "start_time": "2023-02-18T13:59:15.032Z"
   },
   {
    "duration": 52,
    "start_time": "2023-02-18T13:59:21.695Z"
   },
   {
    "duration": 3066,
    "start_time": "2023-02-18T13:59:21.749Z"
   },
   {
    "duration": 3159,
    "start_time": "2023-02-18T13:59:40.685Z"
   },
   {
    "duration": 18,
    "start_time": "2023-02-18T14:02:10.427Z"
   },
   {
    "duration": 15956,
    "start_time": "2023-02-18T14:02:31.856Z"
   },
   {
    "duration": 4029,
    "start_time": "2023-02-18T14:05:03.808Z"
   },
   {
    "duration": 4708,
    "start_time": "2023-02-18T14:05:28.654Z"
   },
   {
    "duration": 4515,
    "start_time": "2023-02-18T14:05:52.235Z"
   },
   {
    "duration": 4164,
    "start_time": "2023-02-18T14:06:21.234Z"
   },
   {
    "duration": 4173,
    "start_time": "2023-02-18T14:08:42.874Z"
   },
   {
    "duration": 5584,
    "start_time": "2023-02-18T14:09:03.044Z"
   },
   {
    "duration": 6,
    "start_time": "2023-02-18T14:14:13.762Z"
   },
   {
    "duration": 15963,
    "start_time": "2023-02-18T14:14:46.569Z"
   },
   {
    "duration": 5,
    "start_time": "2023-02-18T14:15:55.020Z"
   },
   {
    "duration": 6,
    "start_time": "2023-02-18T14:16:10.825Z"
   },
   {
    "duration": 14849,
    "start_time": "2023-02-18T14:16:15.664Z"
   },
   {
    "duration": 5,
    "start_time": "2023-02-18T14:16:47.335Z"
   },
   {
    "duration": 14874,
    "start_time": "2023-02-18T14:16:52.761Z"
   },
   {
    "duration": 15088,
    "start_time": "2023-02-18T14:17:24.629Z"
   },
   {
    "duration": 7,
    "start_time": "2023-02-18T14:17:59.949Z"
   },
   {
    "duration": 14883,
    "start_time": "2023-02-18T14:18:05.571Z"
   },
   {
    "duration": 6,
    "start_time": "2023-02-18T14:19:51.131Z"
   },
   {
    "duration": 3,
    "start_time": "2023-02-18T14:19:54.971Z"
   },
   {
    "duration": 15,
    "start_time": "2023-02-18T14:19:55.596Z"
   },
   {
    "duration": 2188,
    "start_time": "2023-02-18T14:19:57.236Z"
   },
   {
    "duration": 64,
    "start_time": "2023-02-18T14:19:59.431Z"
   },
   {
    "duration": 8654,
    "start_time": "2023-02-18T14:20:01.247Z"
   },
   {
    "duration": 44,
    "start_time": "2023-02-18T14:20:09.903Z"
   },
   {
    "duration": 6150,
    "start_time": "2023-02-18T14:20:09.949Z"
   },
   {
    "duration": 25963,
    "start_time": "2023-02-18T14:20:16.102Z"
   },
   {
    "duration": 6,
    "start_time": "2023-02-18T14:22:21.453Z"
   },
   {
    "duration": 3,
    "start_time": "2023-02-18T14:22:27.667Z"
   },
   {
    "duration": 11,
    "start_time": "2023-02-18T14:22:28.464Z"
   },
   {
    "duration": 92,
    "start_time": "2023-02-18T14:22:29.834Z"
   },
   {
    "duration": 6,
    "start_time": "2023-02-18T14:22:56.946Z"
   },
   {
    "duration": 5,
    "start_time": "2023-02-18T14:22:59.175Z"
   },
   {
    "duration": 5,
    "start_time": "2023-02-18T14:23:00.891Z"
   },
   {
    "duration": 3,
    "start_time": "2023-02-18T14:23:02.421Z"
   },
   {
    "duration": 16,
    "start_time": "2023-02-18T14:23:03.846Z"
   },
   {
    "duration": 2458,
    "start_time": "2023-02-18T14:23:04.684Z"
   },
   {
    "duration": 44,
    "start_time": "2023-02-18T14:23:14.656Z"
   },
   {
    "duration": 8532,
    "start_time": "2023-02-18T14:23:15.567Z"
   },
   {
    "duration": 44,
    "start_time": "2023-02-18T14:23:33.908Z"
   },
   {
    "duration": 4921,
    "start_time": "2023-02-18T14:23:35.132Z"
   },
   {
    "duration": 21053,
    "start_time": "2023-02-18T14:23:48.259Z"
   },
   {
    "duration": 5,
    "start_time": "2023-02-18T14:24:31.330Z"
   },
   {
    "duration": 3,
    "start_time": "2023-02-18T14:24:33.899Z"
   },
   {
    "duration": 16,
    "start_time": "2023-02-18T14:24:34.563Z"
   },
   {
    "duration": 2188,
    "start_time": "2023-02-18T14:24:35.292Z"
   },
   {
    "duration": 53,
    "start_time": "2023-02-18T14:24:37.482Z"
   },
   {
    "duration": 4939,
    "start_time": "2023-02-18T14:24:39.168Z"
   },
   {
    "duration": 64,
    "start_time": "2023-02-18T14:24:44.110Z"
   },
   {
    "duration": 2489,
    "start_time": "2023-02-18T14:24:44.176Z"
   },
   {
    "duration": 13771,
    "start_time": "2023-02-18T14:24:46.667Z"
   },
   {
    "duration": 13394,
    "start_time": "2023-02-18T14:25:36.492Z"
   },
   {
    "duration": 6,
    "start_time": "2023-02-18T14:26:08.918Z"
   },
   {
    "duration": 3,
    "start_time": "2023-02-18T14:26:11.983Z"
   },
   {
    "duration": 11,
    "start_time": "2023-02-18T14:26:12.719Z"
   },
   {
    "duration": 3702,
    "start_time": "2023-02-18T14:26:13.381Z"
   },
   {
    "duration": 55,
    "start_time": "2023-02-18T14:26:17.085Z"
   },
   {
    "duration": 5193,
    "start_time": "2023-02-18T14:26:17.141Z"
   },
   {
    "duration": 57,
    "start_time": "2023-02-18T14:26:22.338Z"
   },
   {
    "duration": 5350,
    "start_time": "2023-02-18T14:26:22.400Z"
   },
   {
    "duration": 6,
    "start_time": "2023-02-18T14:26:45.853Z"
   },
   {
    "duration": 3,
    "start_time": "2023-02-18T14:26:48.784Z"
   },
   {
    "duration": 15,
    "start_time": "2023-02-18T14:26:49.619Z"
   },
   {
    "duration": 1060,
    "start_time": "2023-02-18T14:26:50.299Z"
   },
   {
    "duration": 54,
    "start_time": "2023-02-18T14:26:56.894Z"
   },
   {
    "duration": 8771,
    "start_time": "2023-02-18T14:26:57.870Z"
   },
   {
    "duration": 60,
    "start_time": "2023-02-18T14:27:10.885Z"
   },
   {
    "duration": 1878,
    "start_time": "2023-02-18T14:27:11.577Z"
   },
   {
    "duration": 6,
    "start_time": "2023-02-18T14:27:31.319Z"
   },
   {
    "duration": 12,
    "start_time": "2023-02-18T14:27:33.487Z"
   },
   {
    "duration": 4,
    "start_time": "2023-02-18T14:27:34.536Z"
   },
   {
    "duration": 1156,
    "start_time": "2023-02-18T14:27:35.550Z"
   },
   {
    "duration": 82,
    "start_time": "2023-02-18T14:27:45.680Z"
   },
   {
    "duration": 1707,
    "start_time": "2023-02-18T14:27:46.398Z"
   },
   {
    "duration": 5,
    "start_time": "2023-02-18T14:28:03.440Z"
   },
   {
    "duration": 3,
    "start_time": "2023-02-18T14:28:06.131Z"
   },
   {
    "duration": 11,
    "start_time": "2023-02-18T14:28:06.723Z"
   },
   {
    "duration": 924,
    "start_time": "2023-02-18T14:28:07.429Z"
   },
   {
    "duration": 6,
    "start_time": "2023-02-18T14:28:23.836Z"
   },
   {
    "duration": 3,
    "start_time": "2023-02-18T14:28:26.228Z"
   },
   {
    "duration": 11,
    "start_time": "2023-02-18T14:28:26.800Z"
   },
   {
    "duration": 984,
    "start_time": "2023-02-18T14:28:27.643Z"
   },
   {
    "duration": 5,
    "start_time": "2023-02-18T14:28:43.939Z"
   },
   {
    "duration": 4,
    "start_time": "2023-02-18T14:28:45.961Z"
   },
   {
    "duration": 10,
    "start_time": "2023-02-18T14:28:46.691Z"
   },
   {
    "duration": 1062,
    "start_time": "2023-02-18T14:28:47.617Z"
   },
   {
    "duration": 8,
    "start_time": "2023-02-18T14:28:59.270Z"
   },
   {
    "duration": 2,
    "start_time": "2023-02-18T14:29:02.058Z"
   },
   {
    "duration": 10,
    "start_time": "2023-02-18T14:29:02.672Z"
   },
   {
    "duration": 1046,
    "start_time": "2023-02-18T14:29:03.678Z"
   },
   {
    "duration": 42,
    "start_time": "2023-02-18T14:29:08.385Z"
   },
   {
    "duration": 1797,
    "start_time": "2023-02-18T14:29:08.996Z"
   },
   {
    "duration": 8,
    "start_time": "2023-02-18T14:29:27.315Z"
   },
   {
    "duration": 2,
    "start_time": "2023-02-18T14:29:29.811Z"
   },
   {
    "duration": 15,
    "start_time": "2023-02-18T14:29:30.435Z"
   },
   {
    "duration": 1514,
    "start_time": "2023-02-18T14:29:31.015Z"
   },
   {
    "duration": 46,
    "start_time": "2023-02-18T14:29:33.898Z"
   },
   {
    "duration": 3255,
    "start_time": "2023-02-18T14:29:34.779Z"
   },
   {
    "duration": 44,
    "start_time": "2023-02-18T14:29:43.891Z"
   },
   {
    "duration": 2197,
    "start_time": "2023-02-18T14:29:44.545Z"
   },
   {
    "duration": 6,
    "start_time": "2023-02-18T14:29:56.831Z"
   },
   {
    "duration": 3,
    "start_time": "2023-02-18T14:29:59.875Z"
   },
   {
    "duration": 14,
    "start_time": "2023-02-18T14:30:00.993Z"
   },
   {
    "duration": 1845,
    "start_time": "2023-02-18T14:30:01.800Z"
   },
   {
    "duration": 54,
    "start_time": "2023-02-18T14:30:03.647Z"
   },
   {
    "duration": 3288,
    "start_time": "2023-02-18T14:30:04.735Z"
   },
   {
    "duration": 51,
    "start_time": "2023-02-18T14:30:08.025Z"
   },
   {
    "duration": 2250,
    "start_time": "2023-02-18T14:30:08.078Z"
   },
   {
    "duration": 6,
    "start_time": "2023-02-18T14:30:29.185Z"
   },
   {
    "duration": 6,
    "start_time": "2023-02-18T14:30:34.790Z"
   },
   {
    "duration": 3,
    "start_time": "2023-02-18T14:30:37.127Z"
   },
   {
    "duration": 12,
    "start_time": "2023-02-18T14:30:37.717Z"
   },
   {
    "duration": 1708,
    "start_time": "2023-02-18T14:30:38.418Z"
   },
   {
    "duration": 68,
    "start_time": "2023-02-18T14:30:40.287Z"
   },
   {
    "duration": 3076,
    "start_time": "2023-02-18T14:30:42.396Z"
   },
   {
    "duration": 43,
    "start_time": "2023-02-18T14:30:45.474Z"
   },
   {
    "duration": 3122,
    "start_time": "2023-02-18T14:30:45.519Z"
   },
   {
    "duration": 11804,
    "start_time": "2023-02-18T14:47:32.827Z"
   },
   {
    "duration": 6,
    "start_time": "2023-02-18T14:48:18.359Z"
   },
   {
    "duration": 3,
    "start_time": "2023-02-18T14:48:26.664Z"
   },
   {
    "duration": 17,
    "start_time": "2023-02-18T14:48:27.357Z"
   },
   {
    "duration": 3104,
    "start_time": "2023-02-18T14:48:28.001Z"
   },
   {
    "duration": 47,
    "start_time": "2023-02-18T14:48:31.107Z"
   },
   {
    "duration": 6333,
    "start_time": "2023-02-18T14:48:31.156Z"
   },
   {
    "duration": 44,
    "start_time": "2023-02-18T14:48:37.491Z"
   },
   {
    "duration": 3720,
    "start_time": "2023-02-18T14:48:37.537Z"
   },
   {
    "duration": 5,
    "start_time": "2023-02-18T14:49:29.870Z"
   },
   {
    "duration": 3,
    "start_time": "2023-02-18T14:49:32.257Z"
   },
   {
    "duration": 15,
    "start_time": "2023-02-18T14:49:32.851Z"
   },
   {
    "duration": 1785,
    "start_time": "2023-02-18T14:49:33.537Z"
   },
   {
    "duration": 43,
    "start_time": "2023-02-18T14:49:37.340Z"
   },
   {
    "duration": 4238,
    "start_time": "2023-02-18T14:49:37.952Z"
   },
   {
    "duration": 43,
    "start_time": "2023-02-18T14:49:46.936Z"
   },
   {
    "duration": 3183,
    "start_time": "2023-02-18T14:49:47.768Z"
   },
   {
    "duration": 7443,
    "start_time": "2023-02-18T14:52:15.735Z"
   },
   {
    "duration": 6807,
    "start_time": "2023-02-18T14:55:31.293Z"
   },
   {
    "duration": 7062,
    "start_time": "2023-02-18T14:55:56.633Z"
   },
   {
    "duration": 6595,
    "start_time": "2023-02-18T14:56:37.549Z"
   },
   {
    "duration": 6614,
    "start_time": "2023-02-18T14:56:48.704Z"
   },
   {
    "duration": 7112,
    "start_time": "2023-02-18T14:57:06.601Z"
   },
   {
    "duration": 7259,
    "start_time": "2023-02-18T14:57:56.328Z"
   },
   {
    "duration": 6918,
    "start_time": "2023-02-18T14:58:28.460Z"
   },
   {
    "duration": 4810,
    "start_time": "2023-02-18T14:58:54.652Z"
   },
   {
    "duration": 8222,
    "start_time": "2023-02-18T14:59:24.389Z"
   },
   {
    "duration": 4,
    "start_time": "2023-02-18T15:00:10.061Z"
   },
   {
    "duration": 5,
    "start_time": "2023-02-18T15:00:35.748Z"
   },
   {
    "duration": 4766,
    "start_time": "2023-02-18T15:05:13.027Z"
   },
   {
    "duration": 10,
    "start_time": "2023-02-18T15:06:43.000Z"
   },
   {
    "duration": 6,
    "start_time": "2023-02-18T15:06:44.235Z"
   },
   {
    "duration": 34,
    "start_time": "2023-02-18T15:06:46.946Z"
   },
   {
    "duration": 9481,
    "start_time": "2023-02-18T15:11:45.867Z"
   },
   {
    "duration": 4,
    "start_time": "2023-02-18T15:11:55.350Z"
   },
   {
    "duration": 3,
    "start_time": "2023-02-18T15:15:13.765Z"
   },
   {
    "duration": 4,
    "start_time": "2023-02-18T15:15:27.959Z"
   },
   {
    "duration": 3,
    "start_time": "2023-02-18T15:15:30.949Z"
   },
   {
    "duration": 19,
    "start_time": "2023-02-18T15:16:04.850Z"
   },
   {
    "duration": 14,
    "start_time": "2023-02-18T15:16:55.464Z"
   },
   {
    "duration": 15,
    "start_time": "2023-02-18T15:17:02.892Z"
   },
   {
    "duration": 13,
    "start_time": "2023-02-18T15:17:10.365Z"
   },
   {
    "duration": 26,
    "start_time": "2023-02-18T15:18:21.825Z"
   },
   {
    "duration": 4296,
    "start_time": "2023-02-18T15:18:28.591Z"
   },
   {
    "duration": 25,
    "start_time": "2023-02-18T15:18:32.890Z"
   },
   {
    "duration": 4078,
    "start_time": "2023-02-18T15:18:42.457Z"
   },
   {
    "duration": 1752,
    "start_time": "2023-02-18T15:18:46.538Z"
   },
   {
    "duration": 3,
    "start_time": "2023-02-18T15:18:48.292Z"
   },
   {
    "duration": 39,
    "start_time": "2023-02-18T15:18:48.297Z"
   },
   {
    "duration": 77,
    "start_time": "2023-02-18T15:18:48.338Z"
   },
   {
    "duration": 32,
    "start_time": "2023-02-18T15:18:48.416Z"
   },
   {
    "duration": 54,
    "start_time": "2023-02-18T15:18:48.450Z"
   },
   {
    "duration": 3,
    "start_time": "2023-02-18T15:18:48.506Z"
   },
   {
    "duration": 29,
    "start_time": "2023-02-18T15:18:48.511Z"
   },
   {
    "duration": 23,
    "start_time": "2023-02-18T15:18:48.544Z"
   },
   {
    "duration": 4,
    "start_time": "2023-02-18T15:18:48.569Z"
   },
   {
    "duration": 77,
    "start_time": "2023-02-18T15:18:48.575Z"
   },
   {
    "duration": 97,
    "start_time": "2023-02-18T15:18:48.655Z"
   },
   {
    "duration": 8,
    "start_time": "2023-02-18T15:18:48.754Z"
   },
   {
    "duration": 12453,
    "start_time": "2023-02-18T15:18:48.764Z"
   },
   {
    "duration": 8,
    "start_time": "2023-02-18T15:19:01.220Z"
   },
   {
    "duration": 32,
    "start_time": "2023-02-18T15:19:01.230Z"
   },
   {
    "duration": 39,
    "start_time": "2023-02-18T15:19:01.263Z"
   },
   {
    "duration": 25,
    "start_time": "2023-02-18T15:19:01.304Z"
   },
   {
    "duration": 6,
    "start_time": "2023-02-18T15:19:01.331Z"
   },
   {
    "duration": 24,
    "start_time": "2023-02-18T15:19:01.338Z"
   },
   {
    "duration": 32,
    "start_time": "2023-02-18T15:19:01.365Z"
   },
   {
    "duration": 20,
    "start_time": "2023-02-18T15:19:01.400Z"
   },
   {
    "duration": 12,
    "start_time": "2023-02-18T15:19:01.422Z"
   },
   {
    "duration": 15,
    "start_time": "2023-02-18T15:19:01.436Z"
   },
   {
    "duration": 91,
    "start_time": "2023-02-18T15:19:01.453Z"
   },
   {
    "duration": 5,
    "start_time": "2023-02-18T15:19:01.546Z"
   },
   {
    "duration": 3311,
    "start_time": "2023-02-18T15:19:01.556Z"
   },
   {
    "duration": 3,
    "start_time": "2023-02-18T15:19:04.869Z"
   },
   {
    "duration": 10,
    "start_time": "2023-02-18T15:19:04.874Z"
   },
   {
    "duration": 11,
    "start_time": "2023-02-18T15:19:04.886Z"
   },
   {
    "duration": 10,
    "start_time": "2023-02-18T15:19:04.899Z"
   },
   {
    "duration": 6,
    "start_time": "2023-02-18T15:19:04.911Z"
   },
   {
    "duration": 10,
    "start_time": "2023-02-18T15:19:04.920Z"
   },
   {
    "duration": 8,
    "start_time": "2023-02-18T15:19:04.932Z"
   },
   {
    "duration": 5,
    "start_time": "2023-02-18T15:19:04.942Z"
   },
   {
    "duration": 890,
    "start_time": "2023-02-18T15:19:04.949Z"
   },
   {
    "duration": 23,
    "start_time": "2023-02-18T15:19:05.840Z"
   },
   {
    "duration": 1439,
    "start_time": "2023-02-18T15:19:05.864Z"
   },
   {
    "duration": 5,
    "start_time": "2023-02-18T15:19:07.305Z"
   },
   {
    "duration": 6,
    "start_time": "2023-02-18T15:19:07.312Z"
   },
   {
    "duration": 17,
    "start_time": "2023-02-18T15:19:07.320Z"
   },
   {
    "duration": 9,
    "start_time": "2023-02-18T15:19:07.339Z"
   },
   {
    "duration": 161,
    "start_time": "2023-02-18T15:19:07.350Z"
   },
   {
    "duration": 0,
    "start_time": "2023-02-18T15:19:07.513Z"
   },
   {
    "duration": 0,
    "start_time": "2023-02-18T15:19:07.514Z"
   },
   {
    "duration": 0,
    "start_time": "2023-02-18T15:19:07.515Z"
   },
   {
    "duration": 0,
    "start_time": "2023-02-18T15:19:07.516Z"
   },
   {
    "duration": 0,
    "start_time": "2023-02-18T15:19:07.517Z"
   },
   {
    "duration": 0,
    "start_time": "2023-02-18T15:19:07.518Z"
   },
   {
    "duration": 0,
    "start_time": "2023-02-18T15:19:07.519Z"
   },
   {
    "duration": 0,
    "start_time": "2023-02-18T15:19:07.520Z"
   },
   {
    "duration": 0,
    "start_time": "2023-02-18T15:19:07.521Z"
   },
   {
    "duration": 0,
    "start_time": "2023-02-18T15:19:07.537Z"
   },
   {
    "duration": 0,
    "start_time": "2023-02-18T15:19:07.538Z"
   },
   {
    "duration": 1,
    "start_time": "2023-02-18T15:19:07.538Z"
   },
   {
    "duration": 0,
    "start_time": "2023-02-18T15:19:07.539Z"
   },
   {
    "duration": 0,
    "start_time": "2023-02-18T15:19:07.540Z"
   },
   {
    "duration": 0,
    "start_time": "2023-02-18T15:19:07.541Z"
   },
   {
    "duration": 0,
    "start_time": "2023-02-18T15:19:07.542Z"
   },
   {
    "duration": 0,
    "start_time": "2023-02-18T15:19:07.543Z"
   },
   {
    "duration": 0,
    "start_time": "2023-02-18T15:19:07.545Z"
   },
   {
    "duration": 0,
    "start_time": "2023-02-18T15:19:07.546Z"
   },
   {
    "duration": 0,
    "start_time": "2023-02-18T15:19:07.547Z"
   },
   {
    "duration": 0,
    "start_time": "2023-02-18T15:19:07.548Z"
   },
   {
    "duration": 0,
    "start_time": "2023-02-18T15:19:07.549Z"
   },
   {
    "duration": 0,
    "start_time": "2023-02-18T15:19:07.549Z"
   },
   {
    "duration": 0,
    "start_time": "2023-02-18T15:19:07.551Z"
   },
   {
    "duration": 0,
    "start_time": "2023-02-18T15:19:07.551Z"
   },
   {
    "duration": 0,
    "start_time": "2023-02-18T15:19:07.552Z"
   },
   {
    "duration": 0,
    "start_time": "2023-02-18T15:19:07.553Z"
   },
   {
    "duration": 0,
    "start_time": "2023-02-18T15:19:07.554Z"
   },
   {
    "duration": 0,
    "start_time": "2023-02-18T15:19:07.555Z"
   },
   {
    "duration": 0,
    "start_time": "2023-02-18T15:19:07.557Z"
   },
   {
    "duration": 0,
    "start_time": "2023-02-18T15:19:07.557Z"
   },
   {
    "duration": 0,
    "start_time": "2023-02-18T15:19:07.558Z"
   },
   {
    "duration": 0,
    "start_time": "2023-02-18T15:19:07.559Z"
   },
   {
    "duration": 0,
    "start_time": "2023-02-18T15:19:07.560Z"
   },
   {
    "duration": 0,
    "start_time": "2023-02-18T15:19:07.562Z"
   },
   {
    "duration": 0,
    "start_time": "2023-02-18T15:19:07.562Z"
   },
   {
    "duration": 0,
    "start_time": "2023-02-18T15:19:07.563Z"
   },
   {
    "duration": 0,
    "start_time": "2023-02-18T15:19:07.564Z"
   },
   {
    "duration": 0,
    "start_time": "2023-02-18T15:19:07.565Z"
   },
   {
    "duration": 0,
    "start_time": "2023-02-18T15:19:07.566Z"
   },
   {
    "duration": 0,
    "start_time": "2023-02-18T15:19:07.569Z"
   },
   {
    "duration": 0,
    "start_time": "2023-02-18T15:19:07.570Z"
   },
   {
    "duration": 0,
    "start_time": "2023-02-18T15:19:07.571Z"
   },
   {
    "duration": 0,
    "start_time": "2023-02-18T15:19:07.572Z"
   },
   {
    "duration": 0,
    "start_time": "2023-02-18T15:19:07.573Z"
   },
   {
    "duration": 0,
    "start_time": "2023-02-18T15:19:07.574Z"
   },
   {
    "duration": 0,
    "start_time": "2023-02-18T15:19:07.575Z"
   },
   {
    "duration": 0,
    "start_time": "2023-02-18T15:19:07.637Z"
   },
   {
    "duration": 0,
    "start_time": "2023-02-18T15:19:07.638Z"
   },
   {
    "duration": 0,
    "start_time": "2023-02-18T15:19:07.639Z"
   },
   {
    "duration": 0,
    "start_time": "2023-02-18T15:19:07.640Z"
   },
   {
    "duration": 0,
    "start_time": "2023-02-18T15:19:07.641Z"
   },
   {
    "duration": 0,
    "start_time": "2023-02-18T15:19:07.642Z"
   },
   {
    "duration": 0,
    "start_time": "2023-02-18T15:19:07.643Z"
   },
   {
    "duration": 0,
    "start_time": "2023-02-18T15:19:07.644Z"
   },
   {
    "duration": 0,
    "start_time": "2023-02-18T15:19:07.645Z"
   },
   {
    "duration": 11,
    "start_time": "2023-02-18T15:19:50.373Z"
   },
   {
    "duration": 65,
    "start_time": "2023-02-18T15:19:52.486Z"
   },
   {
    "duration": 1881,
    "start_time": "2023-02-18T15:19:59.098Z"
   },
   {
    "duration": 42,
    "start_time": "2023-02-18T15:20:04.923Z"
   },
   {
    "duration": 4235,
    "start_time": "2023-02-18T15:20:05.998Z"
   },
   {
    "duration": 42,
    "start_time": "2023-02-18T15:20:10.235Z"
   },
   {
    "duration": 3278,
    "start_time": "2023-02-18T15:20:10.278Z"
   },
   {
    "duration": 4912,
    "start_time": "2023-02-18T15:20:19.723Z"
   },
   {
    "duration": 10,
    "start_time": "2023-02-18T15:20:28.633Z"
   },
   {
    "duration": 5,
    "start_time": "2023-02-18T15:20:29.234Z"
   },
   {
    "duration": 3,
    "start_time": "2023-02-18T15:20:30.886Z"
   },
   {
    "duration": 36,
    "start_time": "2023-02-18T15:21:07.767Z"
   },
   {
    "duration": 34,
    "start_time": "2023-02-18T15:21:16.779Z"
   },
   {
    "duration": 18,
    "start_time": "2023-02-18T15:21:35.787Z"
   },
   {
    "duration": 46,
    "start_time": "2023-02-18T15:21:41.633Z"
   },
   {
    "duration": 12,
    "start_time": "2023-02-18T15:23:45.237Z"
   },
   {
    "duration": 29,
    "start_time": "2023-02-18T15:23:57.052Z"
   },
   {
    "duration": 3,
    "start_time": "2023-02-18T15:23:59.099Z"
   },
   {
    "duration": 19,
    "start_time": "2023-02-18T15:24:31.357Z"
   },
   {
    "duration": 2,
    "start_time": "2023-02-18T15:24:48.322Z"
   },
   {
    "duration": 72149,
    "start_time": "2023-02-18T15:24:53.470Z"
   },
   {
    "duration": 3,
    "start_time": "2023-02-18T15:26:43.084Z"
   },
   {
    "duration": 3,
    "start_time": "2023-02-18T15:26:44.352Z"
   },
   {
    "duration": 42690,
    "start_time": "2023-02-18T15:26:45.553Z"
   },
   {
    "duration": 3,
    "start_time": "2023-02-18T15:28:46.855Z"
   },
   {
    "duration": 3,
    "start_time": "2023-02-18T15:28:53.428Z"
   },
   {
    "duration": 38,
    "start_time": "2023-02-18T15:29:02.000Z"
   },
   {
    "duration": 18,
    "start_time": "2023-02-18T15:29:07.077Z"
   },
   {
    "duration": 13,
    "start_time": "2023-02-18T15:29:55.983Z"
   },
   {
    "duration": 4,
    "start_time": "2023-02-18T15:30:17.861Z"
   },
   {
    "duration": 4,
    "start_time": "2023-02-18T15:30:20.778Z"
   },
   {
    "duration": 4,
    "start_time": "2023-02-18T15:30:22.125Z"
   },
   {
    "duration": 47,
    "start_time": "2023-02-18T15:30:29.326Z"
   },
   {
    "duration": 3,
    "start_time": "2023-02-18T15:30:42.190Z"
   },
   {
    "duration": 24716,
    "start_time": "2023-02-18T15:30:44.527Z"
   },
   {
    "duration": 3,
    "start_time": "2023-02-18T15:31:47.927Z"
   },
   {
    "duration": 13661,
    "start_time": "2023-02-18T15:31:49.783Z"
   },
   {
    "duration": 4,
    "start_time": "2023-02-18T15:32:23.661Z"
   },
   {
    "duration": 42966,
    "start_time": "2023-02-18T15:32:26.174Z"
   },
   {
    "duration": 3,
    "start_time": "2023-02-18T15:33:38.628Z"
   },
   {
    "duration": 22709,
    "start_time": "2023-02-18T15:33:41.431Z"
   },
   {
    "duration": 12,
    "start_time": "2023-02-18T15:34:18.028Z"
   },
   {
    "duration": 12,
    "start_time": "2023-02-18T15:35:25.692Z"
   },
   {
    "duration": 2850,
    "start_time": "2023-02-18T15:35:35.607Z"
   },
   {
    "duration": 4,
    "start_time": "2023-02-18T15:36:05.770Z"
   },
   {
    "duration": 88,
    "start_time": "2023-02-18T15:36:56.097Z"
   },
   {
    "duration": 4,
    "start_time": "2023-02-18T15:37:01.736Z"
   },
   {
    "duration": 23440,
    "start_time": "2023-02-18T15:37:03.699Z"
   },
   {
    "duration": 4,
    "start_time": "2023-02-18T15:37:27.142Z"
   },
   {
    "duration": 6205,
    "start_time": "2023-02-18T15:37:32.029Z"
   },
   {
    "duration": 1824,
    "start_time": "2023-02-18T15:37:38.237Z"
   },
   {
    "duration": 3,
    "start_time": "2023-02-18T15:37:40.063Z"
   },
   {
    "duration": 42,
    "start_time": "2023-02-18T15:37:40.069Z"
   },
   {
    "duration": 97,
    "start_time": "2023-02-18T15:37:40.114Z"
   },
   {
    "duration": 36,
    "start_time": "2023-02-18T15:37:40.214Z"
   },
   {
    "duration": 62,
    "start_time": "2023-02-18T15:37:40.252Z"
   },
   {
    "duration": 5,
    "start_time": "2023-02-18T15:37:40.316Z"
   },
   {
    "duration": 21,
    "start_time": "2023-02-18T15:37:40.323Z"
   },
   {
    "duration": 29,
    "start_time": "2023-02-18T15:37:40.346Z"
   },
   {
    "duration": 5,
    "start_time": "2023-02-18T15:37:40.376Z"
   },
   {
    "duration": 71,
    "start_time": "2023-02-18T15:37:40.382Z"
   },
   {
    "duration": 96,
    "start_time": "2023-02-18T15:37:40.455Z"
   },
   {
    "duration": 7,
    "start_time": "2023-02-18T15:37:40.554Z"
   },
   {
    "duration": 12725,
    "start_time": "2023-02-18T15:37:40.563Z"
   },
   {
    "duration": 9,
    "start_time": "2023-02-18T15:37:53.290Z"
   },
   {
    "duration": 38,
    "start_time": "2023-02-18T15:37:53.300Z"
   },
   {
    "duration": 13,
    "start_time": "2023-02-18T15:37:53.342Z"
   },
   {
    "duration": 13,
    "start_time": "2023-02-18T15:37:53.357Z"
   },
   {
    "duration": 6,
    "start_time": "2023-02-18T15:37:53.372Z"
   },
   {
    "duration": 12,
    "start_time": "2023-02-18T15:37:53.380Z"
   },
   {
    "duration": 17,
    "start_time": "2023-02-18T15:37:53.395Z"
   },
   {
    "duration": 29,
    "start_time": "2023-02-18T15:37:53.414Z"
   },
   {
    "duration": 6,
    "start_time": "2023-02-18T15:37:53.444Z"
   },
   {
    "duration": 4,
    "start_time": "2023-02-18T15:37:53.452Z"
   },
   {
    "duration": 102,
    "start_time": "2023-02-18T15:37:53.458Z"
   },
   {
    "duration": 5,
    "start_time": "2023-02-18T15:37:53.561Z"
   },
   {
    "duration": 2852,
    "start_time": "2023-02-18T15:37:53.568Z"
   },
   {
    "duration": 4,
    "start_time": "2023-02-18T15:37:56.422Z"
   },
   {
    "duration": 17,
    "start_time": "2023-02-18T15:37:56.429Z"
   },
   {
    "duration": 6,
    "start_time": "2023-02-18T15:37:56.448Z"
   },
   {
    "duration": 9,
    "start_time": "2023-02-18T15:37:56.456Z"
   },
   {
    "duration": 7,
    "start_time": "2023-02-18T15:37:56.467Z"
   },
   {
    "duration": 5,
    "start_time": "2023-02-18T15:37:56.476Z"
   },
   {
    "duration": 4,
    "start_time": "2023-02-18T15:37:56.483Z"
   },
   {
    "duration": 6,
    "start_time": "2023-02-18T15:37:56.488Z"
   },
   {
    "duration": 868,
    "start_time": "2023-02-18T15:37:56.495Z"
   },
   {
    "duration": 25,
    "start_time": "2023-02-18T15:37:57.365Z"
   },
   {
    "duration": 1452,
    "start_time": "2023-02-18T15:37:57.392Z"
   },
   {
    "duration": 6,
    "start_time": "2023-02-18T15:37:58.845Z"
   },
   {
    "duration": 4,
    "start_time": "2023-02-18T15:37:58.855Z"
   },
   {
    "duration": 5,
    "start_time": "2023-02-18T15:37:58.861Z"
   },
   {
    "duration": 6,
    "start_time": "2023-02-18T15:37:58.867Z"
   },
   {
    "duration": 10,
    "start_time": "2023-02-18T15:37:58.875Z"
   },
   {
    "duration": 1830,
    "start_time": "2023-02-18T15:37:58.887Z"
   },
   {
    "duration": 41,
    "start_time": "2023-02-18T15:38:00.721Z"
   },
   {
    "duration": 4208,
    "start_time": "2023-02-18T15:38:00.763Z"
   },
   {
    "duration": 43,
    "start_time": "2023-02-18T15:38:04.973Z"
   },
   {
    "duration": 3135,
    "start_time": "2023-02-18T15:38:05.018Z"
   },
   {
    "duration": 4751,
    "start_time": "2023-02-18T15:38:08.156Z"
   },
   {
    "duration": 103,
    "start_time": "2023-02-18T15:38:12.909Z"
   },
   {
    "duration": 12,
    "start_time": "2023-02-18T15:38:13.015Z"
   },
   {
    "duration": 6,
    "start_time": "2023-02-18T15:38:13.036Z"
   },
   {
    "duration": 5,
    "start_time": "2023-02-18T15:38:13.044Z"
   },
   {
    "duration": 8,
    "start_time": "2023-02-18T15:38:13.051Z"
   },
   {
    "duration": 7,
    "start_time": "2023-02-18T15:38:13.061Z"
   },
   {
    "duration": 19969,
    "start_time": "2023-02-18T15:38:13.070Z"
   },
   {
    "duration": 255,
    "start_time": "2023-02-18T15:38:33.041Z"
   },
   {
    "duration": 0,
    "start_time": "2023-02-18T15:38:33.298Z"
   },
   {
    "duration": 0,
    "start_time": "2023-02-18T15:38:33.298Z"
   },
   {
    "duration": 0,
    "start_time": "2023-02-18T15:38:33.299Z"
   },
   {
    "duration": 0,
    "start_time": "2023-02-18T15:38:33.301Z"
   },
   {
    "duration": 0,
    "start_time": "2023-02-18T15:38:33.302Z"
   },
   {
    "duration": 0,
    "start_time": "2023-02-18T15:38:33.303Z"
   },
   {
    "duration": 0,
    "start_time": "2023-02-18T15:38:33.304Z"
   },
   {
    "duration": 0,
    "start_time": "2023-02-18T15:38:33.305Z"
   },
   {
    "duration": 0,
    "start_time": "2023-02-18T15:38:33.306Z"
   },
   {
    "duration": 0,
    "start_time": "2023-02-18T15:38:33.307Z"
   },
   {
    "duration": 0,
    "start_time": "2023-02-18T15:38:33.308Z"
   },
   {
    "duration": 0,
    "start_time": "2023-02-18T15:38:33.309Z"
   },
   {
    "duration": 0,
    "start_time": "2023-02-18T15:38:33.310Z"
   },
   {
    "duration": 0,
    "start_time": "2023-02-18T15:38:33.337Z"
   },
   {
    "duration": 0,
    "start_time": "2023-02-18T15:38:33.338Z"
   },
   {
    "duration": 0,
    "start_time": "2023-02-18T15:38:33.339Z"
   },
   {
    "duration": 0,
    "start_time": "2023-02-18T15:38:33.340Z"
   },
   {
    "duration": 0,
    "start_time": "2023-02-18T15:38:33.341Z"
   },
   {
    "duration": 0,
    "start_time": "2023-02-18T15:38:33.342Z"
   },
   {
    "duration": 0,
    "start_time": "2023-02-18T15:38:33.343Z"
   },
   {
    "duration": 0,
    "start_time": "2023-02-18T15:38:33.344Z"
   },
   {
    "duration": 0,
    "start_time": "2023-02-18T15:38:33.345Z"
   },
   {
    "duration": 0,
    "start_time": "2023-02-18T15:38:33.346Z"
   },
   {
    "duration": 0,
    "start_time": "2023-02-18T15:38:33.348Z"
   },
   {
    "duration": 0,
    "start_time": "2023-02-18T15:38:33.348Z"
   },
   {
    "duration": 0,
    "start_time": "2023-02-18T15:38:33.349Z"
   },
   {
    "duration": 0,
    "start_time": "2023-02-18T15:38:33.350Z"
   },
   {
    "duration": 0,
    "start_time": "2023-02-18T15:38:33.351Z"
   },
   {
    "duration": 0,
    "start_time": "2023-02-18T15:38:33.352Z"
   },
   {
    "duration": 0,
    "start_time": "2023-02-18T15:38:33.353Z"
   },
   {
    "duration": 0,
    "start_time": "2023-02-18T15:38:33.354Z"
   },
   {
    "duration": 0,
    "start_time": "2023-02-18T15:38:33.355Z"
   },
   {
    "duration": 0,
    "start_time": "2023-02-18T15:38:33.356Z"
   },
   {
    "duration": 0,
    "start_time": "2023-02-18T15:38:33.357Z"
   },
   {
    "duration": 0,
    "start_time": "2023-02-18T15:38:33.358Z"
   },
   {
    "duration": 0,
    "start_time": "2023-02-18T15:38:33.359Z"
   },
   {
    "duration": 3,
    "start_time": "2023-02-18T15:41:54.722Z"
   },
   {
    "duration": 3,
    "start_time": "2023-02-18T15:42:01.091Z"
   },
   {
    "duration": 24957,
    "start_time": "2023-02-18T15:42:01.880Z"
   },
   {
    "duration": 99,
    "start_time": "2023-02-18T15:42:26.839Z"
   },
   {
    "duration": 2,
    "start_time": "2023-02-18T15:42:45.557Z"
   },
   {
    "duration": 24277,
    "start_time": "2023-02-18T15:42:51.246Z"
   },
   {
    "duration": 3,
    "start_time": "2023-02-18T15:43:41.789Z"
   },
   {
    "duration": 28820,
    "start_time": "2023-02-18T15:43:43.818Z"
   },
   {
    "duration": 3,
    "start_time": "2023-02-18T15:44:12.640Z"
   },
   {
    "duration": 34349,
    "start_time": "2023-02-18T15:44:12.645Z"
   },
   {
    "duration": 8,
    "start_time": "2023-02-18T15:44:47.000Z"
   },
   {
    "duration": 3,
    "start_time": "2023-02-18T15:44:51.527Z"
   },
   {
    "duration": 3,
    "start_time": "2023-02-18T15:44:52.195Z"
   },
   {
    "duration": 21001,
    "start_time": "2023-02-18T15:44:53.037Z"
   },
   {
    "duration": 3,
    "start_time": "2023-02-18T15:45:14.040Z"
   },
   {
    "duration": 24167,
    "start_time": "2023-02-18T15:45:14.045Z"
   },
   {
    "duration": 3,
    "start_time": "2023-02-18T15:48:07.638Z"
   },
   {
    "duration": 24,
    "start_time": "2023-02-18T15:48:09.046Z"
   },
   {
    "duration": 3,
    "start_time": "2023-02-18T15:48:44.761Z"
   },
   {
    "duration": 2,
    "start_time": "2023-02-18T15:48:49.153Z"
   },
   {
    "duration": 92264,
    "start_time": "2023-02-18T15:49:16.685Z"
   },
   {
    "duration": 4,
    "start_time": "2023-02-18T15:53:12.588Z"
   },
   {
    "duration": 225984,
    "start_time": "2023-02-18T15:53:13.627Z"
   },
   {
    "duration": 3,
    "start_time": "2023-02-18T15:59:21.409Z"
   },
   {
    "duration": 3,
    "start_time": "2023-02-18T15:59:35.232Z"
   },
   {
    "duration": 559066,
    "start_time": "2023-02-18T15:59:36.264Z"
   },
   {
    "duration": 882695,
    "start_time": "2023-02-18T16:08:55.332Z"
   },
   {
    "duration": 3,
    "start_time": "2023-02-18T16:28:55.871Z"
   },
   {
    "duration": 5,
    "start_time": "2023-02-18T16:44:54.036Z"
   },
   {
    "duration": 11,
    "start_time": "2023-02-18T16:44:56.113Z"
   },
   {
    "duration": 4,
    "start_time": "2023-02-18T16:45:12.770Z"
   },
   {
    "duration": 3,
    "start_time": "2023-02-18T16:45:20.087Z"
   },
   {
    "duration": 3,
    "start_time": "2023-02-18T16:45:30.162Z"
   },
   {
    "duration": 6065,
    "start_time": "2023-02-18T16:46:35.568Z"
   },
   {
    "duration": 2867,
    "start_time": "2023-02-18T16:46:41.635Z"
   },
   {
    "duration": 3,
    "start_time": "2023-02-18T16:46:44.504Z"
   },
   {
    "duration": 46,
    "start_time": "2023-02-18T16:46:44.509Z"
   },
   {
    "duration": 381,
    "start_time": "2023-02-18T16:46:44.557Z"
   },
   {
    "duration": 13,
    "start_time": "2023-02-18T16:46:44.940Z"
   },
   {
    "duration": 58,
    "start_time": "2023-02-18T16:46:44.954Z"
   },
   {
    "duration": 24,
    "start_time": "2023-02-18T16:46:45.014Z"
   },
   {
    "duration": 10,
    "start_time": "2023-02-18T16:46:45.040Z"
   },
   {
    "duration": 17,
    "start_time": "2023-02-18T16:46:45.052Z"
   },
   {
    "duration": 11,
    "start_time": "2023-02-18T16:46:45.070Z"
   },
   {
    "duration": 77,
    "start_time": "2023-02-18T16:46:45.083Z"
   },
   {
    "duration": 97,
    "start_time": "2023-02-18T16:46:45.162Z"
   },
   {
    "duration": 8,
    "start_time": "2023-02-18T16:46:45.261Z"
   },
   {
    "duration": 12567,
    "start_time": "2023-02-18T16:46:45.270Z"
   },
   {
    "duration": 8,
    "start_time": "2023-02-18T16:46:57.839Z"
   },
   {
    "duration": 14,
    "start_time": "2023-02-18T16:46:57.849Z"
   },
   {
    "duration": 15,
    "start_time": "2023-02-18T16:46:57.865Z"
   },
   {
    "duration": 57,
    "start_time": "2023-02-18T16:46:57.881Z"
   },
   {
    "duration": 5,
    "start_time": "2023-02-18T16:46:57.940Z"
   },
   {
    "duration": 10,
    "start_time": "2023-02-18T16:46:57.947Z"
   },
   {
    "duration": 9,
    "start_time": "2023-02-18T16:46:57.959Z"
   },
   {
    "duration": 11,
    "start_time": "2023-02-18T16:46:57.969Z"
   },
   {
    "duration": 5,
    "start_time": "2023-02-18T16:46:57.981Z"
   },
   {
    "duration": 5,
    "start_time": "2023-02-18T16:46:57.988Z"
   },
   {
    "duration": 77,
    "start_time": "2023-02-18T16:46:58.038Z"
   },
   {
    "duration": 4,
    "start_time": "2023-02-18T16:46:58.117Z"
   },
   {
    "duration": 2709,
    "start_time": "2023-02-18T16:46:58.136Z"
   },
   {
    "duration": 4,
    "start_time": "2023-02-18T16:47:00.846Z"
   },
   {
    "duration": 15,
    "start_time": "2023-02-18T16:47:00.851Z"
   },
   {
    "duration": 20,
    "start_time": "2023-02-18T16:47:00.868Z"
   },
   {
    "duration": 10,
    "start_time": "2023-02-18T16:47:00.890Z"
   },
   {
    "duration": 12,
    "start_time": "2023-02-18T16:47:00.902Z"
   },
   {
    "duration": 22,
    "start_time": "2023-02-18T16:47:00.915Z"
   },
   {
    "duration": 25,
    "start_time": "2023-02-18T16:47:00.939Z"
   },
   {
    "duration": 24,
    "start_time": "2023-02-18T16:47:00.966Z"
   },
   {
    "duration": 812,
    "start_time": "2023-02-18T16:47:00.992Z"
   },
   {
    "duration": 35,
    "start_time": "2023-02-18T16:47:01.806Z"
   },
   {
    "duration": 1476,
    "start_time": "2023-02-18T16:47:01.842Z"
   },
   {
    "duration": 5,
    "start_time": "2023-02-18T16:47:03.321Z"
   },
   {
    "duration": 4,
    "start_time": "2023-02-18T16:47:03.336Z"
   },
   {
    "duration": 4,
    "start_time": "2023-02-18T16:47:03.342Z"
   },
   {
    "duration": 7,
    "start_time": "2023-02-18T16:47:03.348Z"
   },
   {
    "duration": 10,
    "start_time": "2023-02-18T16:47:03.357Z"
   },
   {
    "duration": 2161,
    "start_time": "2023-02-18T16:47:03.369Z"
   },
   {
    "duration": 56,
    "start_time": "2023-02-18T16:47:05.533Z"
   },
   {
    "duration": 4165,
    "start_time": "2023-02-18T16:47:05.591Z"
   },
   {
    "duration": 45,
    "start_time": "2023-02-18T16:47:09.757Z"
   },
   {
    "duration": 3119,
    "start_time": "2023-02-18T16:47:09.804Z"
   },
   {
    "duration": 4987,
    "start_time": "2023-02-18T16:47:12.924Z"
   },
   {
    "duration": 548,
    "start_time": "2023-02-18T16:47:17.913Z"
   },
   {
    "duration": 10,
    "start_time": "2023-02-18T16:47:18.462Z"
   },
   {
    "duration": 11,
    "start_time": "2023-02-18T16:47:18.474Z"
   },
   {
    "duration": 28,
    "start_time": "2023-02-18T16:47:18.486Z"
   },
   {
    "duration": 15,
    "start_time": "2023-02-18T16:47:18.515Z"
   },
   {
    "duration": 168,
    "start_time": "2023-02-18T16:47:18.531Z"
   },
   {
    "duration": 0,
    "start_time": "2023-02-18T16:47:18.701Z"
   },
   {
    "duration": 0,
    "start_time": "2023-02-18T16:47:18.702Z"
   },
   {
    "duration": 0,
    "start_time": "2023-02-18T16:47:18.703Z"
   },
   {
    "duration": 0,
    "start_time": "2023-02-18T16:47:18.704Z"
   },
   {
    "duration": 0,
    "start_time": "2023-02-18T16:47:18.706Z"
   },
   {
    "duration": 0,
    "start_time": "2023-02-18T16:47:18.707Z"
   },
   {
    "duration": 0,
    "start_time": "2023-02-18T16:47:18.709Z"
   },
   {
    "duration": 0,
    "start_time": "2023-02-18T16:47:18.710Z"
   },
   {
    "duration": 0,
    "start_time": "2023-02-18T16:47:18.711Z"
   },
   {
    "duration": 0,
    "start_time": "2023-02-18T16:47:18.713Z"
   },
   {
    "duration": 0,
    "start_time": "2023-02-18T16:47:18.713Z"
   },
   {
    "duration": 0,
    "start_time": "2023-02-18T16:47:18.715Z"
   },
   {
    "duration": 0,
    "start_time": "2023-02-18T16:47:18.738Z"
   },
   {
    "duration": 0,
    "start_time": "2023-02-18T16:47:18.739Z"
   },
   {
    "duration": 0,
    "start_time": "2023-02-18T16:47:18.740Z"
   },
   {
    "duration": 0,
    "start_time": "2023-02-18T16:47:18.741Z"
   },
   {
    "duration": 0,
    "start_time": "2023-02-18T16:47:18.743Z"
   },
   {
    "duration": 5,
    "start_time": "2023-02-18T16:49:37.563Z"
   },
   {
    "duration": 2,
    "start_time": "2023-02-18T16:49:39.489Z"
   },
   {
    "duration": 6424,
    "start_time": "2023-02-18T16:49:46.836Z"
   },
   {
    "duration": 8195,
    "start_time": "2023-02-18T16:50:04.070Z"
   },
   {
    "duration": 3,
    "start_time": "2023-02-18T16:50:53.940Z"
   },
   {
    "duration": 22322,
    "start_time": "2023-02-18T16:50:55.629Z"
   },
   {
    "duration": 3,
    "start_time": "2023-02-18T16:51:22.132Z"
   },
   {
    "duration": 29875,
    "start_time": "2023-02-18T16:51:23.887Z"
   },
   {
    "duration": 4,
    "start_time": "2023-02-18T16:52:18.765Z"
   },
   {
    "duration": 3,
    "start_time": "2023-02-18T16:52:20.443Z"
   },
   {
    "duration": 82266,
    "start_time": "2023-02-18T16:52:21.507Z"
   },
   {
    "duration": 3,
    "start_time": "2023-02-18T16:53:55.832Z"
   },
   {
    "duration": 18160,
    "start_time": "2023-02-18T16:53:57.628Z"
   },
   {
    "duration": 9975595,
    "start_time": "2023-02-18T16:54:21.154Z"
   },
   {
    "duration": 4,
    "start_time": "2023-02-18T19:41:13.576Z"
   },
   {
    "duration": 3,
    "start_time": "2023-02-18T19:41:14.542Z"
   },
   {
    "duration": 7788,
    "start_time": "2023-02-18T19:41:15.383Z"
   },
   {
    "duration": 3,
    "start_time": "2023-02-18T19:41:31.261Z"
   },
   {
    "duration": 2548093,
    "start_time": "2023-02-18T19:41:32.240Z"
   },
   {
    "duration": 3,
    "start_time": "2023-02-18T20:24:51.968Z"
   },
   {
    "duration": 3,
    "start_time": "2023-02-18T20:24:57.121Z"
   },
   {
    "duration": 4,
    "start_time": "2023-02-18T20:25:14.948Z"
   },
   {
    "duration": 4461,
    "start_time": "2023-02-18T20:25:22.574Z"
   },
   {
    "duration": 3,
    "start_time": "2023-02-18T20:25:31.250Z"
   },
   {
    "duration": 160344,
    "start_time": "2023-02-18T20:25:33.956Z"
   },
   {
    "duration": 5,
    "start_time": "2023-02-18T20:31:50.908Z"
   },
   {
    "duration": 3,
    "start_time": "2023-02-18T20:31:52.399Z"
   },
   {
    "duration": 129346,
    "start_time": "2023-02-18T20:31:54.493Z"
   },
   {
    "duration": 3,
    "start_time": "2023-02-18T20:36:24.232Z"
   },
   {
    "duration": 115088,
    "start_time": "2023-02-18T20:36:26.656Z"
   },
   {
    "duration": 4,
    "start_time": "2023-02-18T20:38:21.746Z"
   },
   {
    "duration": 4,
    "start_time": "2023-02-18T20:39:01.500Z"
   },
   {
    "duration": 4,
    "start_time": "2023-02-18T20:39:49.597Z"
   },
   {
    "duration": 4,
    "start_time": "2023-02-18T20:39:56.686Z"
   },
   {
    "duration": 52,
    "start_time": "2023-02-18T20:40:58.961Z"
   },
   {
    "duration": 20,
    "start_time": "2023-02-18T20:41:04.897Z"
   },
   {
    "duration": 18,
    "start_time": "2023-02-18T20:41:12.390Z"
   },
   {
    "duration": 3,
    "start_time": "2023-02-18T20:41:18.232Z"
   },
   {
    "duration": 15,
    "start_time": "2023-02-18T20:41:19.915Z"
   },
   {
    "duration": 2,
    "start_time": "2023-02-18T20:41:35.514Z"
   },
   {
    "duration": 4,
    "start_time": "2023-02-18T20:41:37.235Z"
   },
   {
    "duration": 605,
    "start_time": "2023-02-18T20:42:08.966Z"
   },
   {
    "duration": 1561,
    "start_time": "2023-02-18T20:42:28.566Z"
   },
   {
    "duration": 1584,
    "start_time": "2023-02-18T20:42:49.117Z"
   },
   {
    "duration": 0,
    "start_time": "2023-02-18T20:42:50.703Z"
   },
   {
    "duration": 5,
    "start_time": "2023-02-18T20:42:52.070Z"
   },
   {
    "duration": 10143,
    "start_time": "2023-02-18T20:42:53.357Z"
   },
   {
    "duration": 4,
    "start_time": "2023-02-18T20:43:29.674Z"
   },
   {
    "duration": 123133,
    "start_time": "2023-02-18T20:43:31.113Z"
   },
   {
    "duration": 37589,
    "start_time": "2023-02-18T20:45:34.249Z"
   },
   {
    "duration": 4,
    "start_time": "2023-02-18T20:46:58.683Z"
   },
   {
    "duration": 4,
    "start_time": "2023-02-18T20:47:00.149Z"
   },
   {
    "duration": 382686,
    "start_time": "2023-02-18T20:47:02.979Z"
   },
   {
    "duration": 46,
    "start_time": "2023-02-18T21:00:02.694Z"
   },
   {
    "duration": 3,
    "start_time": "2023-02-18T21:00:06.907Z"
   },
   {
    "duration": 55,
    "start_time": "2023-02-18T21:00:08.228Z"
   },
   {
    "duration": 3,
    "start_time": "2023-02-18T21:00:29.817Z"
   },
   {
    "duration": 91,
    "start_time": "2023-02-18T21:00:33.737Z"
   },
   {
    "duration": 4,
    "start_time": "2023-02-18T21:00:50.259Z"
   },
   {
    "duration": 57,
    "start_time": "2023-02-18T21:00:51.514Z"
   },
   {
    "duration": 5452,
    "start_time": "2023-02-18T21:01:00.612Z"
   },
   {
    "duration": 3,
    "start_time": "2023-02-18T21:01:38.749Z"
   },
   {
    "duration": 2531,
    "start_time": "2023-02-18T21:01:39.855Z"
   },
   {
    "duration": 5,
    "start_time": "2023-02-18T21:02:00.606Z"
   },
   {
    "duration": 3,
    "start_time": "2023-02-18T21:02:36.092Z"
   },
   {
    "duration": 2636,
    "start_time": "2023-02-18T21:02:37.381Z"
   },
   {
    "duration": 3,
    "start_time": "2023-02-18T21:03:03.082Z"
   },
   {
    "duration": 1599,
    "start_time": "2023-02-18T21:03:04.452Z"
   },
   {
    "duration": 3,
    "start_time": "2023-02-18T21:03:16.650Z"
   },
   {
    "duration": 3,
    "start_time": "2023-02-18T21:03:21.750Z"
   },
   {
    "duration": 1970,
    "start_time": "2023-02-18T21:03:23.684Z"
   },
   {
    "duration": 3,
    "start_time": "2023-02-18T21:03:42.316Z"
   },
   {
    "duration": 27962,
    "start_time": "2023-02-18T21:03:42.877Z"
   },
   {
    "duration": 28680,
    "start_time": "2023-02-18T21:04:10.844Z"
   },
   {
    "duration": 3,
    "start_time": "2023-02-18T21:04:39.525Z"
   },
   {
    "duration": 574916,
    "start_time": "2023-02-18T21:04:39.536Z"
   },
   {
    "duration": 193055,
    "start_time": "2023-02-18T21:14:14.454Z"
   },
   {
    "duration": 4,
    "start_time": "2023-02-18T21:17:27.510Z"
   },
   {
    "duration": 17,
    "start_time": "2023-02-18T21:17:32.441Z"
   },
   {
    "duration": 4,
    "start_time": "2023-02-18T21:17:40.113Z"
   },
   {
    "duration": 5880,
    "start_time": "2023-02-18T21:17:55.233Z"
   },
   {
    "duration": 4,
    "start_time": "2023-02-18T21:18:09.268Z"
   },
   {
    "duration": 202183,
    "start_time": "2023-02-18T21:18:11.253Z"
   },
   {
    "duration": 6023,
    "start_time": "2023-02-18T21:24:14.476Z"
   },
   {
    "duration": 4,
    "start_time": "2023-02-18T21:24:20.501Z"
   },
   {
    "duration": 7,
    "start_time": "2023-02-18T21:24:20.507Z"
   },
   {
    "duration": 41,
    "start_time": "2023-02-18T21:24:20.515Z"
   },
   {
    "duration": 137,
    "start_time": "2023-02-18T21:24:21.959Z"
   },
   {
    "duration": 38,
    "start_time": "2023-02-18T21:24:24.687Z"
   },
   {
    "duration": 85,
    "start_time": "2023-02-18T21:24:25.273Z"
   },
   {
    "duration": 4,
    "start_time": "2023-02-18T21:24:27.514Z"
   },
   {
    "duration": 5,
    "start_time": "2023-02-18T21:24:29.483Z"
   },
   {
    "duration": 16,
    "start_time": "2023-02-18T21:24:31.278Z"
   },
   {
    "duration": 5,
    "start_time": "2023-02-18T21:24:33.194Z"
   },
   {
    "duration": 62,
    "start_time": "2023-02-18T21:24:53.109Z"
   },
   {
    "duration": 89,
    "start_time": "2023-02-18T21:25:06.690Z"
   },
   {
    "duration": 9,
    "start_time": "2023-02-18T21:25:08.743Z"
   },
   {
    "duration": 19,
    "start_time": "2023-02-18T21:25:26.467Z"
   },
   {
    "duration": 17,
    "start_time": "2023-02-18T21:25:29.896Z"
   },
   {
    "duration": 20,
    "start_time": "2023-02-18T21:25:33.874Z"
   },
   {
    "duration": 28,
    "start_time": "2023-02-18T21:25:55.147Z"
   },
   {
    "duration": 27,
    "start_time": "2023-02-18T21:26:10.458Z"
   },
   {
    "duration": 24,
    "start_time": "2023-02-18T21:26:58.635Z"
   },
   {
    "duration": 17,
    "start_time": "2023-02-18T21:27:09.260Z"
   },
   {
    "duration": 17,
    "start_time": "2023-02-18T21:27:14.425Z"
   },
   {
    "duration": 8,
    "start_time": "2023-02-18T21:27:22.261Z"
   },
   {
    "duration": 9,
    "start_time": "2023-02-18T21:27:23.553Z"
   },
   {
    "duration": 12,
    "start_time": "2023-02-18T21:27:24.661Z"
   },
   {
    "duration": 14,
    "start_time": "2023-02-18T21:27:27.427Z"
   },
   {
    "duration": 6,
    "start_time": "2023-02-18T21:27:28.223Z"
   },
   {
    "duration": 8,
    "start_time": "2023-02-18T21:27:29.146Z"
   },
   {
    "duration": 9,
    "start_time": "2023-02-18T21:27:30.931Z"
   },
   {
    "duration": 9,
    "start_time": "2023-02-18T21:27:32.981Z"
   },
   {
    "duration": 6,
    "start_time": "2023-02-18T21:27:35.143Z"
   },
   {
    "duration": 3,
    "start_time": "2023-02-18T21:27:36.880Z"
   },
   {
    "duration": 79,
    "start_time": "2023-02-18T21:27:40.954Z"
   },
   {
    "duration": 6,
    "start_time": "2023-02-18T21:27:42.674Z"
   },
   {
    "duration": 2680,
    "start_time": "2023-02-18T21:27:44.254Z"
   },
   {
    "duration": 3,
    "start_time": "2023-02-18T21:32:00.787Z"
   },
   {
    "duration": 4,
    "start_time": "2023-02-18T21:32:01.420Z"
   },
   {
    "duration": 3,
    "start_time": "2023-02-18T21:32:02.409Z"
   },
   {
    "duration": 3,
    "start_time": "2023-02-18T21:32:03.321Z"
   },
   {
    "duration": 3,
    "start_time": "2023-02-18T21:32:04.290Z"
   },
   {
    "duration": 4,
    "start_time": "2023-02-18T21:32:05.855Z"
   },
   {
    "duration": 2,
    "start_time": "2023-02-18T21:32:08.325Z"
   },
   {
    "duration": 4,
    "start_time": "2023-02-18T21:32:09.036Z"
   },
   {
    "duration": 760,
    "start_time": "2023-02-18T21:32:11.031Z"
   },
   {
    "duration": 6,
    "start_time": "2023-02-18T21:32:18.172Z"
   },
   {
    "duration": 4,
    "start_time": "2023-02-18T21:32:19.748Z"
   },
   {
    "duration": 3,
    "start_time": "2023-02-18T21:32:20.966Z"
   },
   {
    "duration": 4,
    "start_time": "2023-02-18T21:32:22.439Z"
   },
   {
    "duration": 10,
    "start_time": "2023-02-18T21:32:23.636Z"
   },
   {
    "duration": 1662,
    "start_time": "2023-02-18T21:32:25.124Z"
   },
   {
    "duration": 44,
    "start_time": "2023-02-18T21:32:36.695Z"
   },
   {
    "duration": 4041,
    "start_time": "2023-02-18T21:32:37.609Z"
   },
   {
    "duration": 44,
    "start_time": "2023-02-18T21:32:41.652Z"
   },
   {
    "duration": 2982,
    "start_time": "2023-02-18T21:32:41.698Z"
   },
   {
    "duration": 5,
    "start_time": "2023-02-18T21:33:38.689Z"
   },
   {
    "duration": 9,
    "start_time": "2023-02-18T21:33:43.049Z"
   },
   {
    "duration": 75,
    "start_time": "2023-02-18T21:33:43.811Z"
   },
   {
    "duration": 2,
    "start_time": "2023-02-18T21:33:46.683Z"
   },
   {
    "duration": 8,
    "start_time": "2023-02-18T21:33:47.766Z"
   },
   {
    "duration": 1739,
    "start_time": "2023-02-18T21:33:48.581Z"
   },
   {
    "duration": 44,
    "start_time": "2023-02-18T21:33:51.364Z"
   },
   {
    "duration": 3485,
    "start_time": "2023-02-18T21:33:52.085Z"
   },
   {
    "duration": 49,
    "start_time": "2023-02-18T21:33:55.572Z"
   },
   {
    "duration": 1635,
    "start_time": "2023-02-18T21:33:55.623Z"
   },
   {
    "duration": 3956,
    "start_time": "2023-02-18T21:34:06.917Z"
   },
   {
    "duration": 3710,
    "start_time": "2023-02-18T21:34:52.859Z"
   },
   {
    "duration": 4585,
    "start_time": "2023-02-18T21:35:03.078Z"
   },
   {
    "duration": 13,
    "start_time": "2023-02-18T21:35:32.030Z"
   },
   {
    "duration": 7893,
    "start_time": "2023-02-18T21:35:50.167Z"
   },
   {
    "duration": 6442,
    "start_time": "2023-02-18T21:36:27.529Z"
   },
   {
    "duration": 6,
    "start_time": "2023-02-18T21:39:05.600Z"
   },
   {
    "duration": 12,
    "start_time": "2023-02-18T21:39:25.271Z"
   },
   {
    "duration": 8,
    "start_time": "2023-02-18T21:39:27.192Z"
   },
   {
    "duration": 3,
    "start_time": "2023-02-18T21:39:29.812Z"
   },
   {
    "duration": 3,
    "start_time": "2023-02-18T21:39:30.673Z"
   },
   {
    "duration": 3,
    "start_time": "2023-02-18T21:39:32.231Z"
   },
   {
    "duration": 21304,
    "start_time": "2023-02-18T21:39:33.336Z"
   },
   {
    "duration": 24370,
    "start_time": "2023-02-18T21:39:54.643Z"
   },
   {
    "duration": 3,
    "start_time": "2023-02-18T21:40:19.014Z"
   },
   {
    "duration": 4,
    "start_time": "2023-02-18T21:40:59.264Z"
   },
   {
    "duration": 3,
    "start_time": "2023-02-18T21:41:17.248Z"
   },
   {
    "duration": 22046,
    "start_time": "2023-02-18T21:41:22.198Z"
   },
   {
    "duration": 191,
    "start_time": "2023-02-18T21:41:44.246Z"
   },
   {
    "duration": 24653,
    "start_time": "2023-02-18T21:41:54.668Z"
   },
   {
    "duration": 16,
    "start_time": "2023-02-18T21:42:19.336Z"
   },
   {
    "duration": 3,
    "start_time": "2023-02-18T21:42:41.020Z"
   },
   {
    "duration": 4,
    "start_time": "2023-02-18T21:42:45.462Z"
   },
   {
    "duration": 3,
    "start_time": "2023-02-18T21:42:57.259Z"
   },
   {
    "duration": 2,
    "start_time": "2023-02-18T21:43:29.277Z"
   },
   {
    "duration": 21881,
    "start_time": "2023-02-18T21:43:30.357Z"
   },
   {
    "duration": 24770,
    "start_time": "2023-02-18T21:43:52.240Z"
   },
   {
    "duration": 26,
    "start_time": "2023-02-18T21:44:17.012Z"
   },
   {
    "duration": 3,
    "start_time": "2023-02-18T21:45:26.874Z"
   },
   {
    "duration": 48425,
    "start_time": "2023-02-18T21:46:04.712Z"
   },
   {
    "duration": 78578,
    "start_time": "2023-02-18T21:46:53.139Z"
   },
   {
    "duration": 108,
    "start_time": "2023-02-18T21:48:11.719Z"
   },
   {
    "duration": 2015,
    "start_time": "2023-02-18T21:48:11.836Z"
   },
   {
    "duration": 114,
    "start_time": "2023-02-18T21:48:38.516Z"
   },
   {
    "duration": 3,
    "start_time": "2023-02-18T21:48:55.309Z"
   },
   {
    "duration": 3,
    "start_time": "2023-02-18T21:48:56.877Z"
   },
   {
    "duration": 218016,
    "start_time": "2023-02-18T21:49:10.983Z"
   },
   {
    "duration": 49,
    "start_time": "2023-02-18T21:52:49.001Z"
   },
   {
    "duration": 110,
    "start_time": "2023-02-18T21:52:56.975Z"
   },
   {
    "duration": 3,
    "start_time": "2023-02-18T21:53:25.159Z"
   },
   {
    "duration": 3,
    "start_time": "2023-02-18T21:53:26.039Z"
   },
   {
    "duration": 631189,
    "start_time": "2023-02-18T21:53:28.494Z"
   },
   {
    "duration": 111,
    "start_time": "2023-02-18T22:03:59.685Z"
   },
   {
    "duration": 113,
    "start_time": "2023-02-18T22:08:25.459Z"
   },
   {
    "duration": 5,
    "start_time": "2023-02-18T22:08:59.029Z"
   },
   {
    "duration": 3,
    "start_time": "2023-02-18T22:10:43.715Z"
   },
   {
    "duration": 2,
    "start_time": "2023-02-18T22:10:46.435Z"
   },
   {
    "duration": 3411,
    "start_time": "2023-02-18T22:10:48.183Z"
   },
   {
    "duration": 3,
    "start_time": "2023-02-18T22:11:09.497Z"
   },
   {
    "duration": 569654,
    "start_time": "2023-02-18T22:11:10.895Z"
   },
   {
    "duration": 3,
    "start_time": "2023-02-18T22:20:40.551Z"
   },
   {
    "duration": 56,
    "start_time": "2023-02-18T22:21:20.004Z"
   },
   {
    "duration": 10,
    "start_time": "2023-02-18T22:21:44.012Z"
   },
   {
    "duration": 11,
    "start_time": "2023-02-18T22:21:46.858Z"
   },
   {
    "duration": 6,
    "start_time": "2023-02-18T22:21:47.837Z"
   },
   {
    "duration": 2,
    "start_time": "2023-02-18T22:21:49.428Z"
   },
   {
    "duration": 2,
    "start_time": "2023-02-18T22:21:49.885Z"
   },
   {
    "duration": 3,
    "start_time": "2023-02-18T22:21:50.494Z"
   },
   {
    "duration": 3,
    "start_time": "2023-02-18T22:21:53.445Z"
   },
   {
    "duration": 16024,
    "start_time": "2023-02-18T22:21:55.156Z"
   },
   {
    "duration": 17023,
    "start_time": "2023-02-18T22:22:11.183Z"
   },
   {
    "duration": 16,
    "start_time": "2023-02-18T22:22:28.207Z"
   },
   {
    "duration": 2,
    "start_time": "2023-02-18T22:22:44.149Z"
   },
   {
    "duration": 45217,
    "start_time": "2023-02-18T22:22:44.887Z"
   },
   {
    "duration": 67798,
    "start_time": "2023-02-18T22:23:30.106Z"
   },
   {
    "duration": 4,
    "start_time": "2023-02-18T22:24:37.906Z"
   },
   {
    "duration": 1937,
    "start_time": "2023-02-18T22:24:37.911Z"
   },
   {
    "duration": 119,
    "start_time": "2023-02-18T22:24:39.849Z"
   },
   {
    "duration": 56,
    "start_time": "2023-02-18T22:25:15.942Z"
   },
   {
    "duration": 8,
    "start_time": "2023-02-18T22:25:32.942Z"
   },
   {
    "duration": 19,
    "start_time": "2023-02-18T22:26:22.820Z"
   },
   {
    "duration": 58,
    "start_time": "2023-02-18T22:26:27.763Z"
   },
   {
    "duration": 8,
    "start_time": "2023-02-18T22:26:31.102Z"
   },
   {
    "duration": 13,
    "start_time": "2023-02-18T22:26:33.716Z"
   },
   {
    "duration": 8,
    "start_time": "2023-02-18T22:26:34.406Z"
   },
   {
    "duration": 3,
    "start_time": "2023-02-18T22:26:36.004Z"
   },
   {
    "duration": 3,
    "start_time": "2023-02-18T22:26:38.228Z"
   },
   {
    "duration": 23285,
    "start_time": "2023-02-18T22:26:38.757Z"
   },
   {
    "duration": 27576,
    "start_time": "2023-02-18T22:27:02.046Z"
   },
   {
    "duration": 3,
    "start_time": "2023-02-18T22:27:29.623Z"
   },
   {
    "duration": 46536,
    "start_time": "2023-02-18T22:27:29.637Z"
   },
   {
    "duration": 2,
    "start_time": "2023-02-18T22:28:16.175Z"
   },
   {
    "duration": 2005,
    "start_time": "2023-02-18T22:28:16.179Z"
   },
   {
    "duration": 72,
    "start_time": "2023-02-18T22:28:18.186Z"
   },
   {
    "duration": 6,
    "start_time": "2023-02-18T22:30:46.235Z"
   },
   {
    "duration": 3,
    "start_time": "2023-02-18T22:30:49.603Z"
   },
   {
    "duration": 9,
    "start_time": "2023-02-18T22:30:50.350Z"
   },
   {
    "duration": 2027,
    "start_time": "2023-02-18T22:30:51.491Z"
   },
   {
    "duration": 45,
    "start_time": "2023-02-18T22:31:04.019Z"
   },
   {
    "duration": 4397,
    "start_time": "2023-02-18T22:31:05.491Z"
   },
   {
    "duration": 41,
    "start_time": "2023-02-18T22:31:09.890Z"
   },
   {
    "duration": 2261,
    "start_time": "2023-02-18T22:31:09.933Z"
   },
   {
    "duration": 4387,
    "start_time": "2023-02-18T22:31:35.839Z"
   },
   {
    "duration": 4574,
    "start_time": "2023-02-18T22:32:01.486Z"
   },
   {
    "duration": 4908,
    "start_time": "2023-02-18T22:32:35.128Z"
   },
   {
    "duration": 5278,
    "start_time": "2023-02-18T22:32:49.972Z"
   },
   {
    "duration": 2,
    "start_time": "2023-02-18T22:33:21.049Z"
   },
   {
    "duration": 9,
    "start_time": "2023-02-18T22:33:21.693Z"
   },
   {
    "duration": 1974,
    "start_time": "2023-02-18T22:33:22.219Z"
   },
   {
    "duration": 46,
    "start_time": "2023-02-18T22:33:24.195Z"
   },
   {
    "duration": 4377,
    "start_time": "2023-02-18T22:33:25.486Z"
   },
   {
    "duration": 43,
    "start_time": "2023-02-18T22:33:29.864Z"
   },
   {
    "duration": 2397,
    "start_time": "2023-02-18T22:33:29.908Z"
   },
   {
    "duration": 5,
    "start_time": "2023-02-18T22:33:48.895Z"
   },
   {
    "duration": 5,
    "start_time": "2023-02-18T22:33:53.011Z"
   },
   {
    "duration": 4,
    "start_time": "2023-02-18T22:33:54.087Z"
   },
   {
    "duration": 4,
    "start_time": "2023-02-18T22:33:56.001Z"
   },
   {
    "duration": 9,
    "start_time": "2023-02-18T22:33:56.700Z"
   },
   {
    "duration": 1163,
    "start_time": "2023-02-18T22:33:57.712Z"
   },
   {
    "duration": 1140,
    "start_time": "2023-02-18T22:33:59.192Z"
   },
   {
    "duration": 49,
    "start_time": "2023-02-18T22:34:00.437Z"
   },
   {
    "duration": 2965,
    "start_time": "2023-02-18T22:34:01.797Z"
   },
   {
    "duration": 43,
    "start_time": "2023-02-18T22:34:04.764Z"
   },
   {
    "duration": 1734,
    "start_time": "2023-02-18T22:34:05.729Z"
   },
   {
    "duration": 3644,
    "start_time": "2023-02-18T22:34:14.330Z"
   },
   {
    "duration": 3627,
    "start_time": "2023-02-18T22:35:59.876Z"
   },
   {
    "duration": 3452,
    "start_time": "2023-02-18T22:36:09.142Z"
   },
   {
    "duration": 3256,
    "start_time": "2023-02-18T22:36:17.440Z"
   },
   {
    "duration": 3035,
    "start_time": "2023-02-18T22:36:49.342Z"
   },
   {
    "duration": 3294,
    "start_time": "2023-02-18T22:37:01.679Z"
   },
   {
    "duration": 3604,
    "start_time": "2023-02-18T22:37:13.735Z"
   },
   {
    "duration": 13,
    "start_time": "2023-02-18T22:38:12.190Z"
   },
   {
    "duration": 2551,
    "start_time": "2023-02-18T22:40:28.463Z"
   },
   {
    "duration": 2437,
    "start_time": "2023-02-18T22:40:51.206Z"
   },
   {
    "duration": 4094,
    "start_time": "2023-02-18T22:41:10.450Z"
   },
   {
    "duration": 12,
    "start_time": "2023-02-18T22:41:28.708Z"
   },
   {
    "duration": 15,
    "start_time": "2023-02-18T22:41:36.319Z"
   },
   {
    "duration": 12,
    "start_time": "2023-02-18T22:41:42.985Z"
   },
   {
    "duration": 4172,
    "start_time": "2023-02-18T22:42:31.198Z"
   },
   {
    "duration": 3725,
    "start_time": "2023-02-18T22:43:22.002Z"
   },
   {
    "duration": 4053,
    "start_time": "2023-02-18T22:43:29.052Z"
   },
   {
    "duration": 4153,
    "start_time": "2023-02-18T22:43:59.111Z"
   },
   {
    "duration": 4270,
    "start_time": "2023-02-18T22:44:21.354Z"
   },
   {
    "duration": 4,
    "start_time": "2023-02-18T22:45:22.773Z"
   },
   {
    "duration": 3,
    "start_time": "2023-02-18T22:45:28.247Z"
   },
   {
    "duration": 3,
    "start_time": "2023-02-18T22:45:29.666Z"
   },
   {
    "duration": 782,
    "start_time": "2023-02-18T22:45:31.886Z"
   },
   {
    "duration": 7,
    "start_time": "2023-02-18T22:46:50.760Z"
   },
   {
    "duration": 771,
    "start_time": "2023-02-18T22:46:55.949Z"
   },
   {
    "duration": 2,
    "start_time": "2023-02-18T22:47:01.167Z"
   },
   {
    "duration": 9,
    "start_time": "2023-02-18T22:47:02.219Z"
   },
   {
    "duration": 1910,
    "start_time": "2023-02-18T22:47:03.016Z"
   },
   {
    "duration": 46,
    "start_time": "2023-02-18T22:47:04.959Z"
   },
   {
    "duration": 3903,
    "start_time": "2023-02-18T22:47:06.675Z"
   },
   {
    "duration": 43,
    "start_time": "2023-02-18T22:47:20.996Z"
   },
   {
    "duration": 3416,
    "start_time": "2023-02-18T22:47:22.069Z"
   },
   {
    "duration": 11,
    "start_time": "2023-02-18T22:47:28.311Z"
   },
   {
    "duration": 12,
    "start_time": "2023-02-18T22:47:38.612Z"
   },
   {
    "duration": 388,
    "start_time": "2023-02-18T22:48:07.947Z"
   },
   {
    "duration": 8777,
    "start_time": "2023-02-18T22:48:27.042Z"
   },
   {
    "duration": 7959,
    "start_time": "2023-02-18T22:48:51.429Z"
   },
   {
    "duration": 7808,
    "start_time": "2023-02-18T22:49:08.917Z"
   },
   {
    "duration": 6728,
    "start_time": "2023-02-18T22:49:34.130Z"
   },
   {
    "duration": 7364,
    "start_time": "2023-02-18T22:49:54.236Z"
   },
   {
    "duration": 8879,
    "start_time": "2023-02-18T22:50:12.085Z"
   },
   {
    "duration": 8512,
    "start_time": "2023-02-18T22:50:43.390Z"
   },
   {
    "duration": 8975,
    "start_time": "2023-02-18T22:50:58.047Z"
   },
   {
    "duration": 9337,
    "start_time": "2023-02-18T22:51:11.327Z"
   },
   {
    "duration": 12,
    "start_time": "2023-02-18T22:51:59.391Z"
   },
   {
    "duration": 8,
    "start_time": "2023-02-18T22:52:00.261Z"
   },
   {
    "duration": 2,
    "start_time": "2023-02-18T22:52:02.585Z"
   },
   {
    "duration": 2,
    "start_time": "2023-02-18T22:52:04.111Z"
   },
   {
    "duration": 25619,
    "start_time": "2023-02-18T22:52:04.819Z"
   },
   {
    "duration": 31698,
    "start_time": "2023-02-18T22:52:30.441Z"
   },
   {
    "duration": 3,
    "start_time": "2023-02-18T22:53:02.141Z"
   },
   {
    "duration": 49336,
    "start_time": "2023-02-18T22:53:02.147Z"
   },
   {
    "duration": 3,
    "start_time": "2023-02-18T22:53:51.485Z"
   },
   {
    "duration": 1997,
    "start_time": "2023-02-18T22:53:51.489Z"
   },
   {
    "duration": 72,
    "start_time": "2023-02-18T22:53:53.488Z"
   },
   {
    "duration": 3,
    "start_time": "2023-02-18T22:57:07.178Z"
   },
   {
    "duration": 3,
    "start_time": "2023-02-18T22:57:07.859Z"
   },
   {
    "duration": 17001,
    "start_time": "2023-02-18T22:57:19.465Z"
   },
   {
    "duration": 2,
    "start_time": "2023-02-18T22:57:59.049Z"
   },
   {
    "duration": 3,
    "start_time": "2023-02-18T22:58:01.216Z"
   },
   {
    "duration": 41344,
    "start_time": "2023-02-18T22:58:02.034Z"
   },
   {
    "duration": 3,
    "start_time": "2023-02-18T22:58:50.485Z"
   },
   {
    "duration": 20276,
    "start_time": "2023-02-18T22:58:52.123Z"
   },
   {
    "duration": 3,
    "start_time": "2023-02-18T22:59:31.867Z"
   },
   {
    "duration": 5158,
    "start_time": "2023-02-18T22:59:33.864Z"
   },
   {
    "duration": 2,
    "start_time": "2023-02-18T22:59:57.182Z"
   },
   {
    "duration": 42810,
    "start_time": "2023-02-18T22:59:58.415Z"
   },
   {
    "duration": 31,
    "start_time": "2023-02-18T23:00:46.819Z"
   },
   {
    "duration": 180389,
    "start_time": "2023-02-18T23:00:52.600Z"
   },
   {
    "duration": 69,
    "start_time": "2023-02-18T23:04:01.412Z"
   },
   {
    "duration": 4,
    "start_time": "2023-02-18T23:04:15.447Z"
   },
   {
    "duration": 3,
    "start_time": "2023-02-18T23:05:45.536Z"
   },
   {
    "duration": 3,
    "start_time": "2023-02-18T23:05:50.505Z"
   },
   {
    "duration": 3,
    "start_time": "2023-02-18T23:05:51.279Z"
   },
   {
    "duration": 22902,
    "start_time": "2023-02-18T23:05:53.342Z"
   },
   {
    "duration": 2,
    "start_time": "2023-02-18T23:07:50.641Z"
   },
   {
    "duration": 3,
    "start_time": "2023-02-18T23:07:51.589Z"
   },
   {
    "duration": 23720,
    "start_time": "2023-02-18T23:07:53.097Z"
   },
   {
    "duration": 3,
    "start_time": "2023-02-18T23:08:27.372Z"
   },
   {
    "duration": 2,
    "start_time": "2023-02-18T23:08:27.952Z"
   },
   {
    "duration": 253625,
    "start_time": "2023-02-18T23:08:29.229Z"
   },
   {
    "duration": 4,
    "start_time": "2023-02-18T23:12:42.856Z"
   },
   {
    "duration": 3,
    "start_time": "2023-02-18T23:13:14.651Z"
   },
   {
    "duration": 3,
    "start_time": "2023-02-18T23:13:15.542Z"
   },
   {
    "duration": 3,
    "start_time": "2023-02-18T23:13:27.232Z"
   },
   {
    "duration": 3,
    "start_time": "2023-02-18T23:13:28.121Z"
   },
   {
    "duration": 451559,
    "start_time": "2023-02-18T23:13:29.330Z"
   },
   {
    "duration": 5,
    "start_time": "2023-02-18T23:22:40.337Z"
   },
   {
    "duration": 3,
    "start_time": "2023-02-18T23:23:10.785Z"
   },
   {
    "duration": 3,
    "start_time": "2023-02-18T23:23:13.297Z"
   },
   {
    "duration": 3,
    "start_time": "2023-02-18T23:23:20.556Z"
   },
   {
    "duration": 3,
    "start_time": "2023-02-18T23:23:21.602Z"
   },
   {
    "duration": 222636,
    "start_time": "2023-02-18T23:23:22.685Z"
   },
   {
    "duration": 4,
    "start_time": "2023-02-18T23:27:05.323Z"
   },
   {
    "duration": 4,
    "start_time": "2023-02-18T23:27:27.862Z"
   },
   {
    "duration": 3,
    "start_time": "2023-02-18T23:27:35.560Z"
   },
   {
    "duration": 3,
    "start_time": "2023-02-18T23:27:36.315Z"
   },
   {
    "duration": 124637,
    "start_time": "2023-02-18T23:27:37.207Z"
   },
   {
    "duration": 4,
    "start_time": "2023-02-18T23:30:33.087Z"
   },
   {
    "duration": 3,
    "start_time": "2023-02-18T23:30:47.507Z"
   },
   {
    "duration": 3,
    "start_time": "2023-02-18T23:30:50.729Z"
   },
   {
    "duration": 233422,
    "start_time": "2023-02-18T23:30:54.828Z"
   },
   {
    "duration": 13,
    "start_time": "2023-02-18T23:34:51.071Z"
   },
   {
    "duration": 4,
    "start_time": "2023-02-18T23:34:56.967Z"
   },
   {
    "duration": 3,
    "start_time": "2023-02-18T23:35:05.588Z"
   },
   {
    "duration": 94002,
    "start_time": "2023-02-18T23:35:06.784Z"
   },
   {
    "duration": 4,
    "start_time": "2023-02-18T23:36:51.101Z"
   },
   {
    "duration": 6,
    "start_time": "2023-02-18T23:37:33.113Z"
   },
   {
    "duration": 11560,
    "start_time": "2023-02-18T23:37:38.743Z"
   },
   {
    "duration": 6,
    "start_time": "2023-02-18T23:38:09.349Z"
   },
   {
    "duration": 13721,
    "start_time": "2023-02-18T23:38:14.060Z"
   },
   {
    "duration": 6,
    "start_time": "2023-02-18T23:38:54.960Z"
   },
   {
    "duration": 18977,
    "start_time": "2023-02-18T23:38:59.523Z"
   },
   {
    "duration": 5,
    "start_time": "2023-02-18T23:39:32.499Z"
   },
   {
    "duration": 19528,
    "start_time": "2023-02-18T23:39:37.208Z"
   },
   {
    "duration": 5,
    "start_time": "2023-02-18T23:40:14.075Z"
   },
   {
    "duration": 4311,
    "start_time": "2023-02-18T23:40:20.241Z"
   },
   {
    "duration": 6,
    "start_time": "2023-02-18T23:40:39.382Z"
   },
   {
    "duration": 3181,
    "start_time": "2023-02-18T23:40:42.877Z"
   },
   {
    "duration": 5,
    "start_time": "2023-02-18T23:40:52.558Z"
   },
   {
    "duration": 6391,
    "start_time": "2023-02-18T23:40:57.888Z"
   },
   {
    "duration": 6,
    "start_time": "2023-02-18T23:41:26.829Z"
   },
   {
    "duration": 2603,
    "start_time": "2023-02-18T23:41:28.187Z"
   },
   {
    "duration": 5,
    "start_time": "2023-02-18T23:41:44.588Z"
   },
   {
    "duration": 25471,
    "start_time": "2023-02-18T23:41:45.745Z"
   },
   {
    "duration": 5,
    "start_time": "2023-02-18T23:42:30.923Z"
   },
   {
    "duration": 124,
    "start_time": "2023-02-18T23:42:32.373Z"
   },
   {
    "duration": 5,
    "start_time": "2023-02-18T23:42:38.080Z"
   },
   {
    "duration": 36531,
    "start_time": "2023-02-18T23:42:39.441Z"
   },
   {
    "duration": 6,
    "start_time": "2023-02-18T23:44:04.480Z"
   },
   {
    "duration": 19358,
    "start_time": "2023-02-18T23:44:06.088Z"
   },
   {
    "duration": 5,
    "start_time": "2023-02-18T23:44:44.495Z"
   },
   {
    "duration": 19699,
    "start_time": "2023-02-18T23:44:45.788Z"
   },
   {
    "duration": 6,
    "start_time": "2023-02-18T23:45:18.149Z"
   },
   {
    "duration": 14976,
    "start_time": "2023-02-18T23:45:19.200Z"
   },
   {
    "duration": 6,
    "start_time": "2023-02-18T23:45:44.378Z"
   },
   {
    "duration": 15398,
    "start_time": "2023-02-18T23:45:45.838Z"
   },
   {
    "duration": 5,
    "start_time": "2023-02-18T23:46:08.216Z"
   },
   {
    "duration": 17422,
    "start_time": "2023-02-18T23:46:09.855Z"
   },
   {
    "duration": 5,
    "start_time": "2023-02-18T23:46:49.388Z"
   },
   {
    "duration": 16893,
    "start_time": "2023-02-18T23:46:52.256Z"
   },
   {
    "duration": 6,
    "start_time": "2023-02-18T23:47:23.559Z"
   },
   {
    "duration": 4446,
    "start_time": "2023-02-18T23:47:25.216Z"
   },
   {
    "duration": 5,
    "start_time": "2023-02-18T23:47:49.608Z"
   },
   {
    "duration": 472,
    "start_time": "2023-02-18T23:47:51.089Z"
   },
   {
    "duration": 6,
    "start_time": "2023-02-18T23:48:00.953Z"
   },
   {
    "duration": 5410,
    "start_time": "2023-02-18T23:48:02.775Z"
   },
   {
    "duration": 6,
    "start_time": "2023-02-18T23:49:10.433Z"
   },
   {
    "duration": 17290,
    "start_time": "2023-02-18T23:49:12.589Z"
   },
   {
    "duration": 5,
    "start_time": "2023-02-18T23:50:44.657Z"
   },
   {
    "duration": 430,
    "start_time": "2023-02-18T23:50:46.920Z"
   },
   {
    "duration": 5,
    "start_time": "2023-02-18T23:50:57.107Z"
   },
   {
    "duration": 4316,
    "start_time": "2023-02-18T23:50:58.874Z"
   },
   {
    "duration": 8,
    "start_time": "2023-02-18T23:51:21.872Z"
   },
   {
    "duration": 3214,
    "start_time": "2023-02-18T23:51:23.510Z"
   },
   {
    "duration": 5,
    "start_time": "2023-02-18T23:53:01.624Z"
   },
   {
    "duration": 11153,
    "start_time": "2023-02-18T23:53:03.312Z"
   },
   {
    "duration": 6,
    "start_time": "2023-02-18T23:53:19.665Z"
   },
   {
    "duration": 14687,
    "start_time": "2023-02-18T23:53:21.412Z"
   },
   {
    "duration": 6,
    "start_time": "2023-02-18T23:53:51.768Z"
   },
   {
    "duration": 18210,
    "start_time": "2023-02-18T23:53:52.991Z"
   },
   {
    "duration": 5,
    "start_time": "2023-02-18T23:54:16.430Z"
   },
   {
    "duration": 10477,
    "start_time": "2023-02-18T23:54:17.741Z"
   },
   {
    "duration": 5,
    "start_time": "2023-02-18T23:55:39.388Z"
   },
   {
    "duration": 11400,
    "start_time": "2023-02-18T23:55:40.778Z"
   },
   {
    "duration": 5,
    "start_time": "2023-02-18T23:56:02.160Z"
   },
   {
    "duration": 18512,
    "start_time": "2023-02-18T23:56:03.580Z"
   },
   {
    "duration": 5,
    "start_time": "2023-02-18T23:56:33.562Z"
   },
   {
    "duration": 12215,
    "start_time": "2023-02-18T23:56:34.972Z"
   },
   {
    "duration": 8,
    "start_time": "2023-02-18T23:56:56.003Z"
   },
   {
    "duration": 17136,
    "start_time": "2023-02-18T23:56:57.357Z"
   },
   {
    "duration": 6,
    "start_time": "2023-02-18T23:57:33.828Z"
   },
   {
    "duration": 16750,
    "start_time": "2023-02-18T23:57:35.402Z"
   },
   {
    "duration": 6,
    "start_time": "2023-02-18T23:58:20.348Z"
   },
   {
    "duration": 16887,
    "start_time": "2023-02-18T23:58:21.461Z"
   },
   {
    "duration": 5,
    "start_time": "2023-02-18T23:58:44.807Z"
   },
   {
    "duration": 16249,
    "start_time": "2023-02-18T23:58:46.015Z"
   },
   {
    "duration": 6,
    "start_time": "2023-02-18T23:59:14.721Z"
   },
   {
    "duration": 13657,
    "start_time": "2023-02-18T23:59:15.878Z"
   },
   {
    "duration": 6,
    "start_time": "2023-02-18T23:59:52.117Z"
   },
   {
    "duration": 18650,
    "start_time": "2023-02-18T23:59:53.279Z"
   },
   {
    "duration": 5,
    "start_time": "2023-02-19T00:00:30.364Z"
   },
   {
    "duration": 16909,
    "start_time": "2023-02-19T00:00:32.037Z"
   },
   {
    "duration": 6,
    "start_time": "2023-02-19T00:00:55.606Z"
   },
   {
    "duration": 17643,
    "start_time": "2023-02-19T00:00:56.936Z"
   },
   {
    "duration": 2,
    "start_time": "2023-02-19T00:03:37.534Z"
   },
   {
    "duration": 3,
    "start_time": "2023-02-19T00:03:38.801Z"
   },
   {
    "duration": 2,
    "start_time": "2023-02-19T00:03:46.081Z"
   },
   {
    "duration": 3,
    "start_time": "2023-02-19T00:03:46.834Z"
   },
   {
    "duration": 24771,
    "start_time": "2023-02-19T00:03:49.168Z"
   },
   {
    "duration": 3,
    "start_time": "2023-02-19T00:04:17.126Z"
   },
   {
    "duration": 111214,
    "start_time": "2023-02-19T00:04:17.970Z"
   },
   {
    "duration": 2,
    "start_time": "2023-02-19T00:06:10.650Z"
   },
   {
    "duration": 2,
    "start_time": "2023-02-19T00:06:30.768Z"
   },
   {
    "duration": 3,
    "start_time": "2023-02-19T00:06:31.397Z"
   },
   {
    "duration": 352481,
    "start_time": "2023-02-19T00:06:32.458Z"
   },
   {
    "duration": 3,
    "start_time": "2023-02-19T00:12:35.413Z"
   },
   {
    "duration": 3,
    "start_time": "2023-02-19T00:12:36.317Z"
   },
   {
    "duration": 25225,
    "start_time": "2023-02-19T00:12:37.219Z"
   },
   {
    "duration": 3,
    "start_time": "2023-02-19T00:13:06.760Z"
   },
   {
    "duration": 3,
    "start_time": "2023-02-19T00:13:08.045Z"
   },
   {
    "duration": 45171,
    "start_time": "2023-02-19T00:13:09.159Z"
   },
   {
    "duration": 2,
    "start_time": "2023-02-19T00:14:00.335Z"
   },
   {
    "duration": 3,
    "start_time": "2023-02-19T00:14:03.428Z"
   },
   {
    "duration": 12302,
    "start_time": "2023-02-19T00:14:04.671Z"
   },
   {
    "duration": 3,
    "start_time": "2023-02-19T00:14:41.067Z"
   },
   {
    "duration": 163770,
    "start_time": "2023-02-19T00:14:43.641Z"
   },
   {
    "duration": 2,
    "start_time": "2023-02-19T00:19:27.330Z"
   },
   {
    "duration": 3,
    "start_time": "2023-02-19T00:19:28.803Z"
   },
   {
    "duration": 12807,
    "start_time": "2023-02-19T00:19:29.431Z"
   },
   {
    "duration": 3,
    "start_time": "2023-02-19T00:19:51.534Z"
   },
   {
    "duration": 3,
    "start_time": "2023-02-19T00:20:05.895Z"
   },
   {
    "duration": 3,
    "start_time": "2023-02-19T00:20:06.778Z"
   },
   {
    "duration": 91143,
    "start_time": "2023-02-19T00:20:07.778Z"
   },
   {
    "duration": 4,
    "start_time": "2023-02-19T00:21:38.923Z"
   },
   {
    "duration": 4,
    "start_time": "2023-02-19T00:21:54.663Z"
   },
   {
    "duration": 91927,
    "start_time": "2023-02-19T00:22:04.254Z"
   },
   {
    "duration": 69,
    "start_time": "2023-02-19T00:23:45.247Z"
   },
   {
    "duration": 4,
    "start_time": "2023-02-19T00:24:18.511Z"
   },
   {
    "duration": 4,
    "start_time": "2023-02-19T00:24:58.073Z"
   },
   {
    "duration": 4,
    "start_time": "2023-02-19T00:25:15.274Z"
   },
   {
    "duration": 117641,
    "start_time": "2023-02-19T00:25:26.402Z"
   },
   {
    "duration": 67,
    "start_time": "2023-02-19T00:27:27.020Z"
   },
   {
    "duration": 27,
    "start_time": "2023-02-19T00:27:30.999Z"
   },
   {
    "duration": 4,
    "start_time": "2023-02-19T00:28:11.686Z"
   },
   {
    "duration": 3,
    "start_time": "2023-02-19T00:28:37.213Z"
   },
   {
    "duration": 3,
    "start_time": "2023-02-19T00:28:40.002Z"
   },
   {
    "duration": 74789,
    "start_time": "2023-02-19T00:28:40.857Z"
   },
   {
    "duration": 74,
    "start_time": "2023-02-19T00:29:55.648Z"
   },
   {
    "duration": 3,
    "start_time": "2023-02-19T00:30:00.449Z"
   },
   {
    "duration": 76011,
    "start_time": "2023-02-19T00:30:01.971Z"
   },
   {
    "duration": 82,
    "start_time": "2023-02-19T00:31:22.036Z"
   },
   {
    "duration": 3,
    "start_time": "2023-02-19T00:31:27.393Z"
   },
   {
    "duration": 4,
    "start_time": "2023-02-19T00:31:36.096Z"
   },
   {
    "duration": 13,
    "start_time": "2023-02-19T00:31:44.507Z"
   },
   {
    "duration": 5,
    "start_time": "2023-02-19T00:32:14.146Z"
   },
   {
    "duration": 3,
    "start_time": "2023-02-19T00:33:23.643Z"
   },
   {
    "duration": 3,
    "start_time": "2023-02-19T00:33:24.455Z"
   },
   {
    "duration": 248,
    "start_time": "2023-02-19T00:33:26.070Z"
   },
   {
    "duration": 3,
    "start_time": "2023-02-19T00:33:38.172Z"
   },
   {
    "duration": 38487,
    "start_time": "2023-02-19T00:33:39.123Z"
   },
   {
    "duration": 72,
    "start_time": "2023-02-19T00:34:18.525Z"
   },
   {
    "duration": 4,
    "start_time": "2023-02-19T00:34:28.786Z"
   },
   {
    "duration": 21512,
    "start_time": "2023-02-19T07:23:10.185Z"
   },
   {
    "duration": 1953,
    "start_time": "2023-02-19T07:23:31.699Z"
   },
   {
    "duration": 3,
    "start_time": "2023-02-19T07:23:33.654Z"
   },
   {
    "duration": 53,
    "start_time": "2023-02-19T07:23:33.660Z"
   },
   {
    "duration": 418,
    "start_time": "2023-02-19T07:23:33.715Z"
   },
   {
    "duration": 12,
    "start_time": "2023-02-19T07:23:34.135Z"
   },
   {
    "duration": 52,
    "start_time": "2023-02-19T07:23:34.148Z"
   },
   {
    "duration": 4,
    "start_time": "2023-02-19T07:23:34.201Z"
   },
   {
    "duration": 9,
    "start_time": "2023-02-19T07:23:34.207Z"
   },
   {
    "duration": 15,
    "start_time": "2023-02-19T07:23:46.825Z"
   },
   {
    "duration": 5,
    "start_time": "2023-02-19T07:23:50.489Z"
   },
   {
    "duration": 58,
    "start_time": "2023-02-19T07:23:53.563Z"
   },
   {
    "duration": 85,
    "start_time": "2023-02-19T07:23:58.997Z"
   },
   {
    "duration": 7,
    "start_time": "2023-02-19T07:24:03.212Z"
   },
   {
    "duration": 8,
    "start_time": "2023-02-19T07:25:24.639Z"
   },
   {
    "duration": 10,
    "start_time": "2023-02-19T07:25:25.601Z"
   },
   {
    "duration": 12,
    "start_time": "2023-02-19T07:25:27.294Z"
   },
   {
    "duration": 13,
    "start_time": "2023-02-19T07:25:29.174Z"
   },
   {
    "duration": 6,
    "start_time": "2023-02-19T07:25:29.828Z"
   },
   {
    "duration": 9,
    "start_time": "2023-02-19T07:25:31.058Z"
   },
   {
    "duration": 10,
    "start_time": "2023-02-19T07:25:31.857Z"
   },
   {
    "duration": 11,
    "start_time": "2023-02-19T07:25:33.446Z"
   },
   {
    "duration": 5,
    "start_time": "2023-02-19T07:25:34.835Z"
   },
   {
    "duration": 95,
    "start_time": "2023-02-19T07:25:38.915Z"
   },
   {
    "duration": 5,
    "start_time": "2023-02-19T07:25:40.533Z"
   },
   {
    "duration": 2576,
    "start_time": "2023-02-19T07:25:42.464Z"
   },
   {
    "duration": 4,
    "start_time": "2023-02-19T07:25:51.333Z"
   },
   {
    "duration": 19,
    "start_time": "2023-02-19T07:25:52.993Z"
   },
   {
    "duration": 3,
    "start_time": "2023-02-19T07:25:54.469Z"
   },
   {
    "duration": 3,
    "start_time": "2023-02-19T07:25:56.032Z"
   },
   {
    "duration": 4,
    "start_time": "2023-02-19T07:25:59.446Z"
   },
   {
    "duration": 4,
    "start_time": "2023-02-19T07:26:03.529Z"
   },
   {
    "duration": 3,
    "start_time": "2023-02-19T07:26:05.508Z"
   },
   {
    "duration": 3,
    "start_time": "2023-02-19T07:26:06.146Z"
   },
   {
    "duration": 814,
    "start_time": "2023-02-19T07:26:11.163Z"
   },
   {
    "duration": 28,
    "start_time": "2023-02-19T07:26:14.791Z"
   },
   {
    "duration": 155,
    "start_time": "2023-02-19T07:26:24.161Z"
   },
   {
    "duration": 1137,
    "start_time": "2023-02-19T07:26:33.396Z"
   },
   {
    "duration": 1027,
    "start_time": "2023-02-19T07:26:43.000Z"
   },
   {
    "duration": 1134,
    "start_time": "2023-02-19T07:26:52.903Z"
   },
   {
    "duration": 6,
    "start_time": "2023-02-19T07:30:56.078Z"
   },
   {
    "duration": 6,
    "start_time": "2023-02-19T07:31:01.255Z"
   },
   {
    "duration": 3,
    "start_time": "2023-02-19T07:31:05.034Z"
   },
   {
    "duration": 9,
    "start_time": "2023-02-19T07:31:06.342Z"
   },
   {
    "duration": 2090,
    "start_time": "2023-02-19T07:31:09.356Z"
   },
   {
    "duration": 47,
    "start_time": "2023-02-19T07:31:19.729Z"
   },
   {
    "duration": 4379,
    "start_time": "2023-02-19T07:31:20.965Z"
   },
   {
    "duration": 44,
    "start_time": "2023-02-19T07:31:25.346Z"
   },
   {
    "duration": 3549,
    "start_time": "2023-02-19T07:31:25.572Z"
   },
   {
    "duration": 5,
    "start_time": "2023-02-19T07:32:01.873Z"
   },
   {
    "duration": 3,
    "start_time": "2023-02-19T07:32:05.586Z"
   },
   {
    "duration": 10,
    "start_time": "2023-02-19T07:32:06.278Z"
   },
   {
    "duration": 1633,
    "start_time": "2023-02-19T07:32:07.140Z"
   },
   {
    "duration": 64,
    "start_time": "2023-02-19T07:32:11.464Z"
   },
   {
    "duration": 4233,
    "start_time": "2023-02-19T07:32:12.659Z"
   },
   {
    "duration": 52,
    "start_time": "2023-02-19T07:32:22.293Z"
   },
   {
    "duration": 2403,
    "start_time": "2023-02-19T07:32:23.146Z"
   },
   {
    "duration": 6,
    "start_time": "2023-02-19T07:32:58.824Z"
   },
   {
    "duration": 3,
    "start_time": "2023-02-19T07:33:01.382Z"
   },
   {
    "duration": 10,
    "start_time": "2023-02-19T07:33:01.996Z"
   },
   {
    "duration": 1125,
    "start_time": "2023-02-19T07:33:02.970Z"
   },
   {
    "duration": 44,
    "start_time": "2023-02-19T07:33:05.359Z"
   },
   {
    "duration": 2980,
    "start_time": "2023-02-19T07:33:06.649Z"
   },
   {
    "duration": 43,
    "start_time": "2023-02-19T07:33:12.764Z"
   },
   {
    "duration": 1682,
    "start_time": "2023-02-19T07:33:13.721Z"
   },
   {
    "duration": 5,
    "start_time": "2023-02-19T07:33:27.785Z"
   },
   {
    "duration": 3,
    "start_time": "2023-02-19T07:33:33.164Z"
   },
   {
    "duration": 8,
    "start_time": "2023-02-19T07:33:34.388Z"
   },
   {
    "duration": 1677,
    "start_time": "2023-02-19T07:33:35.368Z"
   },
   {
    "duration": 45,
    "start_time": "2023-02-19T07:33:37.164Z"
   },
   {
    "duration": 4073,
    "start_time": "2023-02-19T07:33:38.349Z"
   },
   {
    "duration": 55,
    "start_time": "2023-02-19T07:33:42.424Z"
   },
   {
    "duration": 2378,
    "start_time": "2023-02-19T07:33:42.481Z"
   },
   {
    "duration": 6,
    "start_time": "2023-02-19T07:34:14.348Z"
   },
   {
    "duration": 3,
    "start_time": "2023-02-19T07:34:17.177Z"
   },
   {
    "duration": 9,
    "start_time": "2023-02-19T07:34:18.602Z"
   },
   {
    "duration": 1306,
    "start_time": "2023-02-19T07:34:19.255Z"
   },
   {
    "duration": 42,
    "start_time": "2023-02-19T07:34:21.542Z"
   },
   {
    "duration": 3133,
    "start_time": "2023-02-19T07:34:22.822Z"
   },
   {
    "duration": 55,
    "start_time": "2023-02-19T07:34:25.957Z"
   },
   {
    "duration": 1853,
    "start_time": "2023-02-19T07:34:26.014Z"
   },
   {
    "duration": 8,
    "start_time": "2023-02-19T07:35:21.682Z"
   },
   {
    "duration": 5,
    "start_time": "2023-02-19T07:35:57.903Z"
   },
   {
    "duration": 1643,
    "start_time": "2023-02-19T07:36:02.461Z"
   },
   {
    "duration": 5,
    "start_time": "2023-02-19T07:36:20.575Z"
   },
   {
    "duration": 4220,
    "start_time": "2023-02-19T07:36:26.239Z"
   },
   {
    "duration": 3825,
    "start_time": "2023-02-19T07:36:30.462Z"
   },
   {
    "duration": 5,
    "start_time": "2023-02-19T07:36:46.254Z"
   },
   {
    "duration": 3,
    "start_time": "2023-02-19T07:36:49.218Z"
   },
   {
    "duration": 8,
    "start_time": "2023-02-19T07:36:49.957Z"
   },
   {
    "duration": 1744,
    "start_time": "2023-02-19T07:36:51.532Z"
   },
   {
    "duration": 62,
    "start_time": "2023-02-19T07:36:54.879Z"
   },
   {
    "duration": 4040,
    "start_time": "2023-02-19T07:36:55.649Z"
   },
   {
    "duration": 46,
    "start_time": "2023-02-19T07:36:59.690Z"
   },
   {
    "duration": 2699,
    "start_time": "2023-02-19T07:36:59.738Z"
   },
   {
    "duration": 13,
    "start_time": "2023-02-19T07:37:09.990Z"
   },
   {
    "duration": 8336,
    "start_time": "2023-02-19T07:37:34.862Z"
   },
   {
    "duration": 7953,
    "start_time": "2023-02-19T07:38:17.988Z"
   },
   {
    "duration": 8,
    "start_time": "2023-02-19T07:38:56.027Z"
   },
   {
    "duration": 6,
    "start_time": "2023-02-19T07:38:59.086Z"
   },
   {
    "duration": 11,
    "start_time": "2023-02-19T07:38:59.710Z"
   },
   {
    "duration": 1314,
    "start_time": "2023-02-19T07:39:00.530Z"
   },
   {
    "duration": 43,
    "start_time": "2023-02-19T07:39:04.088Z"
   },
   {
    "duration": 1749,
    "start_time": "2023-02-19T07:39:05.000Z"
   },
   {
    "duration": 43,
    "start_time": "2023-02-19T07:39:12.056Z"
   },
   {
    "duration": 1195,
    "start_time": "2023-02-19T07:39:13.116Z"
   },
   {
    "duration": 2819,
    "start_time": "2023-02-19T07:39:27.217Z"
   },
   {
    "duration": 3132,
    "start_time": "2023-02-19T07:39:36.967Z"
   },
   {
    "duration": 12,
    "start_time": "2023-02-19T07:41:14.319Z"
   },
   {
    "duration": 5,
    "start_time": "2023-02-19T07:42:00.928Z"
   },
   {
    "duration": 1967,
    "start_time": "2023-02-19T07:42:04.688Z"
   },
   {
    "duration": 7,
    "start_time": "2023-02-19T07:42:16.035Z"
   },
   {
    "duration": 3,
    "start_time": "2023-02-19T07:42:20.157Z"
   },
   {
    "duration": 9,
    "start_time": "2023-02-19T07:42:21.121Z"
   },
   {
    "duration": 2461,
    "start_time": "2023-02-19T07:42:21.981Z"
   },
   {
    "duration": 44,
    "start_time": "2023-02-19T07:42:24.443Z"
   },
   {
    "duration": 4409,
    "start_time": "2023-02-19T07:42:26.695Z"
   },
   {
    "duration": 55,
    "start_time": "2023-02-19T07:42:34.299Z"
   },
   {
    "duration": 3983,
    "start_time": "2023-02-19T07:42:35.237Z"
   },
   {
    "duration": 13,
    "start_time": "2023-02-19T07:42:44.695Z"
   },
   {
    "duration": 9656,
    "start_time": "2023-02-19T07:42:46.093Z"
   },
   {
    "duration": 9285,
    "start_time": "2023-02-19T07:43:10.437Z"
   },
   {
    "duration": 8199,
    "start_time": "2023-02-19T07:43:48.365Z"
   },
   {
    "duration": 9451,
    "start_time": "2023-02-19T07:44:11.182Z"
   },
   {
    "duration": 10,
    "start_time": "2023-02-19T07:44:22.205Z"
   },
   {
    "duration": 5,
    "start_time": "2023-02-19T07:44:24.047Z"
   },
   {
    "duration": 12,
    "start_time": "2023-02-19T07:44:25.891Z"
   },
   {
    "duration": 12,
    "start_time": "2023-02-19T07:44:54.432Z"
   },
   {
    "duration": 2,
    "start_time": "2023-02-19T07:44:57.381Z"
   },
   {
    "duration": 13,
    "start_time": "2023-02-19T07:44:58.937Z"
   },
   {
    "duration": 3,
    "start_time": "2023-02-19T07:45:06.104Z"
   },
   {
    "duration": 3,
    "start_time": "2023-02-19T07:45:08.068Z"
   },
   {
    "duration": 3,
    "start_time": "2023-02-19T07:45:11.288Z"
   },
   {
    "duration": 3,
    "start_time": "2023-02-19T07:45:14.840Z"
   },
   {
    "duration": 3,
    "start_time": "2023-02-19T07:45:16.536Z"
   },
   {
    "duration": 61,
    "start_time": "2023-02-19T07:45:18.515Z"
   },
   {
    "duration": 99,
    "start_time": "2023-02-19T07:45:38.673Z"
   },
   {
    "duration": 26554,
    "start_time": "2023-02-19T07:45:44.587Z"
   },
   {
    "duration": 32706,
    "start_time": "2023-02-19T07:46:11.143Z"
   },
   {
    "duration": 22,
    "start_time": "2023-02-19T07:47:08.343Z"
   },
   {
    "duration": 3,
    "start_time": "2023-02-19T07:47:12.764Z"
   },
   {
    "duration": 52816,
    "start_time": "2023-02-19T07:47:14.011Z"
   },
   {
    "duration": 86831,
    "start_time": "2023-02-19T07:48:06.829Z"
   },
   {
    "duration": 3,
    "start_time": "2023-02-19T07:49:33.661Z"
   },
   {
    "duration": 2021,
    "start_time": "2023-02-19T07:49:33.666Z"
   },
   {
    "duration": 4,
    "start_time": "2023-02-19T07:49:35.689Z"
   },
   {
    "duration": 29,
    "start_time": "2023-02-19T07:49:35.695Z"
   },
   {
    "duration": 130131,
    "start_time": "2023-02-19T07:49:35.726Z"
   },
   {
    "duration": 128,
    "start_time": "2023-02-19T07:51:45.858Z"
   },
   {
    "duration": 2,
    "start_time": "2023-02-19T07:51:55.826Z"
   },
   {
    "duration": 46406,
    "start_time": "2023-02-19T07:51:58.999Z"
   },
   {
    "duration": 3,
    "start_time": "2023-02-19T07:52:51.515Z"
   },
   {
    "duration": 29372,
    "start_time": "2023-02-19T07:52:52.430Z"
   },
   {
    "duration": 3,
    "start_time": "2023-02-19T07:54:35.239Z"
   },
   {
    "duration": 3,
    "start_time": "2023-02-19T07:54:37.914Z"
   },
   {
    "duration": 15170,
    "start_time": "2023-02-19T07:54:38.802Z"
   },
   {
    "duration": 2,
    "start_time": "2023-02-19T07:55:04.116Z"
   },
   {
    "duration": 5,
    "start_time": "2023-02-19T07:55:05.603Z"
   },
   {
    "duration": 139222,
    "start_time": "2023-02-19T07:55:06.829Z"
   },
   {
    "duration": 3,
    "start_time": "2023-02-19T07:57:37.422Z"
   },
   {
    "duration": 54523,
    "start_time": "2023-02-19T07:57:38.532Z"
   },
   {
    "duration": 8,
    "start_time": "2023-02-19T07:59:06.368Z"
   },
   {
    "duration": 101,
    "start_time": "2023-02-19T07:59:08.987Z"
   },
   {
    "duration": 7213,
    "start_time": "2023-02-19T07:59:13.028Z"
   },
   {
    "duration": 5,
    "start_time": "2023-02-19T07:59:35.307Z"
   },
   {
    "duration": 5,
    "start_time": "2023-02-19T07:59:45.048Z"
   },
   {
    "duration": 81982,
    "start_time": "2023-02-19T07:59:47.952Z"
   },
   {
    "duration": 118,
    "start_time": "2023-02-19T08:03:10.411Z"
   },
   {
    "duration": 4,
    "start_time": "2023-02-19T08:03:57.075Z"
   },
   {
    "duration": 3,
    "start_time": "2023-02-19T08:04:33.248Z"
   },
   {
    "duration": 3,
    "start_time": "2023-02-19T08:04:39.788Z"
   },
   {
    "duration": 439058,
    "start_time": "2023-02-19T08:04:42.917Z"
   },
   {
    "duration": 119,
    "start_time": "2023-02-19T08:12:16.640Z"
   },
   {
    "duration": 4,
    "start_time": "2023-02-19T08:12:24.912Z"
   },
   {
    "duration": 3,
    "start_time": "2023-02-19T08:13:12.224Z"
   },
   {
    "duration": 116,
    "start_time": "2023-02-19T08:13:14.493Z"
   },
   {
    "duration": 3,
    "start_time": "2023-02-19T08:14:14.690Z"
   },
   {
    "duration": 3,
    "start_time": "2023-02-19T08:14:16.021Z"
   },
   {
    "duration": 9404,
    "start_time": "2023-02-19T08:14:26.506Z"
   },
   {
    "duration": 230438,
    "start_time": "2023-02-19T08:14:38.049Z"
   },
   {
    "duration": 112,
    "start_time": "2023-02-19T08:21:10.612Z"
   },
   {
    "duration": 3,
    "start_time": "2023-02-19T08:21:18.616Z"
   },
   {
    "duration": 3,
    "start_time": "2023-02-19T08:21:19.456Z"
   },
   {
    "duration": 413449,
    "start_time": "2023-02-19T08:21:20.880Z"
   },
   {
    "duration": 127,
    "start_time": "2023-02-19T08:30:04.540Z"
   },
   {
    "duration": 4,
    "start_time": "2023-02-19T08:30:24.209Z"
   },
   {
    "duration": 4,
    "start_time": "2023-02-19T08:30:29.776Z"
   },
   {
    "duration": 5,
    "start_time": "2023-02-19T08:30:37.988Z"
   },
   {
    "duration": 4,
    "start_time": "2023-02-19T08:31:01.601Z"
   },
   {
    "duration": 3,
    "start_time": "2023-02-19T08:31:17.835Z"
   },
   {
    "duration": 3,
    "start_time": "2023-02-19T08:31:18.646Z"
   },
   {
    "duration": 117388,
    "start_time": "2023-02-19T08:31:20.264Z"
   },
   {
    "duration": 130,
    "start_time": "2023-02-19T08:36:38.959Z"
   },
   {
    "duration": 4,
    "start_time": "2023-02-19T08:36:46.800Z"
   },
   {
    "duration": 4,
    "start_time": "2023-02-19T08:36:57.357Z"
   },
   {
    "duration": 3,
    "start_time": "2023-02-19T08:37:38.031Z"
   },
   {
    "duration": 4,
    "start_time": "2023-02-19T08:37:39.278Z"
   },
   {
    "duration": 384699,
    "start_time": "2023-02-19T08:37:42.472Z"
   },
   {
    "duration": 123,
    "start_time": "2023-02-19T08:44:07.173Z"
   },
   {
    "duration": 118,
    "start_time": "2023-02-19T08:47:26.190Z"
   },
   {
    "duration": 4,
    "start_time": "2023-02-19T08:47:44.821Z"
   },
   {
    "duration": 3,
    "start_time": "2023-02-19T08:48:48.292Z"
   },
   {
    "duration": 3,
    "start_time": "2023-02-19T08:48:50.008Z"
   },
   {
    "duration": 258288,
    "start_time": "2023-02-19T08:48:51.374Z"
   },
   {
    "duration": 164,
    "start_time": "2023-02-19T08:53:12.968Z"
   },
   {
    "duration": 4,
    "start_time": "2023-02-19T08:53:20.793Z"
   },
   {
    "duration": 172,
    "start_time": "2023-02-19T08:54:02.412Z"
   },
   {
    "duration": 3,
    "start_time": "2023-02-19T08:54:07.826Z"
   },
   {
    "duration": 5,
    "start_time": "2023-02-19T08:54:14.634Z"
   },
   {
    "duration": 3,
    "start_time": "2023-02-19T08:54:15.215Z"
   },
   {
    "duration": 17697,
    "start_time": "2023-02-19T08:54:16.615Z"
   },
   {
    "duration": 263682,
    "start_time": "2023-02-19T08:54:36.269Z"
   },
   {
    "duration": 132,
    "start_time": "2023-02-19T08:58:59.954Z"
   },
   {
    "duration": 5,
    "start_time": "2023-02-19T09:03:21.815Z"
   },
   {
    "duration": 18,
    "start_time": "2023-02-19T09:07:19.174Z"
   },
   {
    "duration": 3,
    "start_time": "2023-02-19T09:08:14.745Z"
   },
   {
    "duration": 3,
    "start_time": "2023-02-19T09:08:20.555Z"
   },
   {
    "duration": 301,
    "start_time": "2023-02-19T09:08:34.351Z"
   },
   {
    "duration": 3,
    "start_time": "2023-02-19T09:09:09.839Z"
   },
   {
    "duration": 247,
    "start_time": "2023-02-19T09:09:13.819Z"
   },
   {
    "duration": 4,
    "start_time": "2023-02-19T09:09:44.381Z"
   },
   {
    "duration": 4,
    "start_time": "2023-02-19T09:09:45.523Z"
   },
   {
    "duration": 4,
    "start_time": "2023-02-19T09:09:46.409Z"
   },
   {
    "duration": 4,
    "start_time": "2023-02-19T09:09:47.022Z"
   },
   {
    "duration": 311,
    "start_time": "2023-02-19T09:09:59.281Z"
   },
   {
    "duration": 3,
    "start_time": "2023-02-19T09:10:31.188Z"
   },
   {
    "duration": 5,
    "start_time": "2023-02-19T09:10:50.166Z"
   },
   {
    "duration": 4,
    "start_time": "2023-02-19T09:11:06.349Z"
   },
   {
    "duration": 3,
    "start_time": "2023-02-19T09:11:06.892Z"
   },
   {
    "duration": 3,
    "start_time": "2023-02-19T09:11:07.847Z"
   },
   {
    "duration": 244,
    "start_time": "2023-02-19T09:11:09.444Z"
   },
   {
    "duration": 39,
    "start_time": "2023-02-19T09:11:28.176Z"
   },
   {
    "duration": 3,
    "start_time": "2023-02-19T09:11:32.812Z"
   },
   {
    "duration": 185,
    "start_time": "2023-02-19T09:11:38.826Z"
   },
   {
    "duration": 9,
    "start_time": "2023-02-19T09:11:58.947Z"
   },
   {
    "duration": 197,
    "start_time": "2023-02-19T09:12:00.815Z"
   },
   {
    "duration": 3,
    "start_time": "2023-02-19T09:12:34.755Z"
   },
   {
    "duration": 3,
    "start_time": "2023-02-19T09:12:37.307Z"
   },
   {
    "duration": 191,
    "start_time": "2023-02-19T09:12:38.758Z"
   },
   {
    "duration": 4,
    "start_time": "2023-02-19T09:13:07.289Z"
   },
   {
    "duration": 3,
    "start_time": "2023-02-19T09:13:14.697Z"
   },
   {
    "duration": 152,
    "start_time": "2023-02-19T09:13:16.974Z"
   },
   {
    "duration": 4,
    "start_time": "2023-02-19T09:13:35.330Z"
   },
   {
    "duration": 3,
    "start_time": "2023-02-19T09:13:42.872Z"
   },
   {
    "duration": 5,
    "start_time": "2023-02-19T09:13:44.198Z"
   },
   {
    "duration": 13,
    "start_time": "2023-02-19T09:13:45.735Z"
   },
   {
    "duration": 270,
    "start_time": "2023-02-19T09:13:47.233Z"
   },
   {
    "duration": 3,
    "start_time": "2023-02-19T09:15:21.362Z"
   },
   {
    "duration": 13,
    "start_time": "2023-02-19T09:15:50.093Z"
   },
   {
    "duration": 16,
    "start_time": "2023-02-19T09:16:07.769Z"
   },
   {
    "duration": 44,
    "start_time": "2023-02-19T09:16:15.752Z"
   },
   {
    "duration": 12,
    "start_time": "2023-02-19T09:16:23.066Z"
   },
   {
    "duration": 24,
    "start_time": "2023-02-19T09:16:27.434Z"
   },
   {
    "duration": 3,
    "start_time": "2023-02-19T09:18:26.665Z"
   },
   {
    "duration": 2,
    "start_time": "2023-02-19T09:18:34.228Z"
   },
   {
    "duration": 30,
    "start_time": "2023-02-19T09:18:37.054Z"
   },
   {
    "duration": 12,
    "start_time": "2023-02-19T09:18:47.417Z"
   },
   {
    "duration": 14,
    "start_time": "2023-02-19T09:18:52.879Z"
   },
   {
    "duration": 60,
    "start_time": "2023-02-19T09:19:40.914Z"
   },
   {
    "duration": 33,
    "start_time": "2023-02-19T09:21:26.369Z"
   },
   {
    "duration": 3,
    "start_time": "2023-02-19T09:21:58.394Z"
   },
   {
    "duration": 17,
    "start_time": "2023-02-19T09:22:05.566Z"
   },
   {
    "duration": 3,
    "start_time": "2023-02-19T09:22:18.470Z"
   },
   {
    "duration": 11,
    "start_time": "2023-02-19T09:22:19.489Z"
   },
   {
    "duration": 470086,
    "start_time": "2023-02-19T09:22:31.681Z"
   },
   {
    "duration": 3,
    "start_time": "2023-02-19T09:33:14.915Z"
   },
   {
    "duration": 655530,
    "start_time": "2023-02-19T09:33:16.797Z"
   },
   {
    "duration": 4,
    "start_time": "2023-02-19T09:44:12.329Z"
   },
   {
    "duration": 80,
    "start_time": "2023-02-19T09:44:12.335Z"
   },
   {
    "duration": 41096,
    "start_time": "2023-02-19T09:44:12.418Z"
   },
   {
    "duration": 4,
    "start_time": "2023-02-19T09:45:33.024Z"
   },
   {
    "duration": 83,
    "start_time": "2023-02-19T09:45:49.075Z"
   },
   {
    "duration": 36,
    "start_time": "2023-02-19T09:46:30.630Z"
   },
   {
    "duration": 10,
    "start_time": "2023-02-19T09:46:50.634Z"
   },
   {
    "duration": 3,
    "start_time": "2023-02-19T09:47:12.180Z"
   },
   {
    "duration": 3,
    "start_time": "2023-02-19T09:47:14.810Z"
   },
   {
    "duration": 3,
    "start_time": "2023-02-19T09:47:15.777Z"
   },
   {
    "duration": 2,
    "start_time": "2023-02-19T09:47:16.685Z"
   },
   {
    "duration": 3,
    "start_time": "2023-02-19T09:47:18.705Z"
   },
   {
    "duration": 5,
    "start_time": "2023-02-19T09:47:19.558Z"
   },
   {
    "duration": 56627,
    "start_time": "2023-02-19T09:47:26.787Z"
   },
   {
    "duration": 0,
    "start_time": "2023-02-19T09:48:23.417Z"
   },
   {
    "duration": 3,
    "start_time": "2023-02-19T09:48:29.923Z"
   },
   {
    "duration": 3,
    "start_time": "2023-02-19T09:48:31.109Z"
   },
   {
    "duration": 3,
    "start_time": "2023-02-19T09:48:32.477Z"
   },
   {
    "duration": 4,
    "start_time": "2023-02-19T09:48:33.161Z"
   },
   {
    "duration": 77978,
    "start_time": "2023-02-19T09:48:34.416Z"
   },
   {
    "duration": 301229,
    "start_time": "2023-02-19T09:49:52.405Z"
   },
   {
    "duration": 3,
    "start_time": "2023-02-19T09:55:12.123Z"
   },
   {
    "duration": 26,
    "start_time": "2023-02-19T09:55:18.987Z"
   },
   {
    "duration": 97,
    "start_time": "2023-02-19T09:55:27.705Z"
   },
   {
    "duration": 3,
    "start_time": "2023-02-19T09:56:21.615Z"
   },
   {
    "duration": 2,
    "start_time": "2023-02-19T09:56:25.921Z"
   },
   {
    "duration": 4,
    "start_time": "2023-02-19T09:56:29.876Z"
   },
   {
    "duration": 3,
    "start_time": "2023-02-19T09:57:25.426Z"
   },
   {
    "duration": 84,
    "start_time": "2023-02-19T09:57:26.270Z"
   },
   {
    "duration": 3,
    "start_time": "2023-02-19T09:57:28.318Z"
   },
   {
    "duration": 6,
    "start_time": "2023-02-19T09:57:29.768Z"
   },
   {
    "duration": 7,
    "start_time": "2023-02-19T09:57:30.763Z"
   },
   {
    "duration": 385174,
    "start_time": "2023-02-19T09:57:31.788Z"
   },
   {
    "duration": 69628,
    "start_time": "2023-02-19T10:03:56.964Z"
   },
   {
    "duration": 2,
    "start_time": "2023-02-19T10:11:11.732Z"
   },
   {
    "duration": 396339,
    "start_time": "2023-02-19T10:11:23.582Z"
   },
   {
    "duration": 3,
    "start_time": "2023-02-19T10:30:41.237Z"
   },
   {
    "duration": 88,
    "start_time": "2023-02-19T10:30:43.008Z"
   },
   {
    "duration": 6,
    "start_time": "2023-02-19T10:30:50.650Z"
   },
   {
    "duration": 8,
    "start_time": "2023-02-19T10:30:54.388Z"
   },
   {
    "duration": 74886,
    "start_time": "2023-02-19T10:31:18.313Z"
   },
   {
    "duration": 7,
    "start_time": "2023-02-19T10:34:36.787Z"
   },
   {
    "duration": 390138,
    "start_time": "2023-02-19T10:34:48.667Z"
   },
   {
    "duration": 3,
    "start_time": "2023-02-19T10:41:18.807Z"
   },
   {
    "duration": 401720,
    "start_time": "2023-02-19T10:41:18.812Z"
   },
   {
    "duration": 13,
    "start_time": "2023-02-19T10:48:00.534Z"
   },
   {
    "duration": 381332,
    "start_time": "2023-02-19T10:48:00.556Z"
   },
   {
    "duration": 10,
    "start_time": "2023-02-19T10:55:58.781Z"
   },
   {
    "duration": 3,
    "start_time": "2023-02-19T10:56:41.103Z"
   },
   {
    "duration": 360023,
    "start_time": "2023-02-19T10:56:42.884Z"
   },
   {
    "duration": 2,
    "start_time": "2023-02-19T11:05:49.427Z"
   },
   {
    "duration": 241376,
    "start_time": "2023-02-19T11:05:50.500Z"
   },
   {
    "duration": 12,
    "start_time": "2023-02-19T11:11:38.227Z"
   },
   {
    "duration": 3,
    "start_time": "2023-02-19T11:11:47.951Z"
   },
   {
    "duration": 21,
    "start_time": "2023-02-19T11:11:59.483Z"
   },
   {
    "duration": 3,
    "start_time": "2023-02-19T11:13:03.040Z"
   },
   {
    "duration": 36,
    "start_time": "2023-02-19T11:13:07.604Z"
   },
   {
    "duration": 25,
    "start_time": "2023-02-19T11:13:15.984Z"
   },
   {
    "duration": 4,
    "start_time": "2023-02-19T11:13:27.308Z"
   },
   {
    "duration": 309,
    "start_time": "2023-02-19T11:13:28.536Z"
   },
   {
    "duration": 4,
    "start_time": "2023-02-19T11:13:46.323Z"
   },
   {
    "duration": 2209,
    "start_time": "2023-02-19T11:13:47.679Z"
   },
   {
    "duration": 3,
    "start_time": "2023-02-19T11:14:13.812Z"
   },
   {
    "duration": 235430,
    "start_time": "2023-02-19T11:14:15.106Z"
   },
   {
    "duration": 252,
    "start_time": "2023-02-19T11:18:10.539Z"
   },
   {
    "duration": 3201,
    "start_time": "2023-02-19T11:19:54.364Z"
   },
   {
    "duration": 43467,
    "start_time": "2023-02-19T11:20:15.988Z"
   },
   {
    "duration": 3,
    "start_time": "2023-02-19T11:20:59.457Z"
   },
   {
    "duration": 235279,
    "start_time": "2023-02-19T11:20:59.461Z"
   },
   {
    "duration": 366,
    "start_time": "2023-02-19T11:24:54.744Z"
   },
   {
    "duration": 5012,
    "start_time": "2023-02-19T11:25:24.112Z"
   },
   {
    "duration": 56352,
    "start_time": "2023-02-19T11:25:39.135Z"
   },
   {
    "duration": 111069,
    "start_time": "2023-02-19T11:27:11.308Z"
   },
   {
    "duration": 3,
    "start_time": "2023-02-19T11:29:50.666Z"
   },
   {
    "duration": 3,
    "start_time": "2023-02-19T11:29:51.843Z"
   },
   {
    "duration": 3349,
    "start_time": "2023-02-19T11:29:52.534Z"
   },
   {
    "duration": 51,
    "start_time": "2023-02-19T11:30:09.127Z"
   },
   {
    "duration": 14,
    "start_time": "2023-02-19T11:30:15.698Z"
   },
   {
    "duration": 85786,
    "start_time": "2023-02-19T11:30:23.488Z"
   },
   {
    "duration": 11,
    "start_time": "2023-02-19T11:31:57.875Z"
   },
   {
    "duration": 43,
    "start_time": "2023-02-19T11:32:02.947Z"
   },
   {
    "duration": 11,
    "start_time": "2023-02-19T11:32:05.907Z"
   },
   {
    "duration": 11,
    "start_time": "2023-02-19T11:32:26.115Z"
   },
   {
    "duration": 13,
    "start_time": "2023-02-19T11:32:33.691Z"
   },
   {
    "duration": 14,
    "start_time": "2023-02-19T11:32:38.840Z"
   },
   {
    "duration": 3,
    "start_time": "2023-02-19T11:37:07.964Z"
   },
   {
    "duration": 4,
    "start_time": "2023-02-19T11:37:11.135Z"
   },
   {
    "duration": 18,
    "start_time": "2023-02-19T11:37:13.844Z"
   },
   {
    "duration": 2,
    "start_time": "2023-02-19T11:37:23.801Z"
   },
   {
    "duration": 15,
    "start_time": "2023-02-19T11:37:25.684Z"
   },
   {
    "duration": 3,
    "start_time": "2023-02-19T11:37:39.073Z"
   },
   {
    "duration": 399,
    "start_time": "2023-02-19T11:37:40.315Z"
   },
   {
    "duration": 3,
    "start_time": "2023-02-19T11:37:50.654Z"
   },
   {
    "duration": 9016,
    "start_time": "2023-02-19T11:37:52.661Z"
   },
   {
    "duration": 4,
    "start_time": "2023-02-19T11:38:27.041Z"
   },
   {
    "duration": 3,
    "start_time": "2023-02-19T11:38:35.028Z"
   },
   {
    "duration": 4,
    "start_time": "2023-02-19T11:38:38.768Z"
   },
   {
    "duration": 286421,
    "start_time": "2023-02-19T11:38:39.872Z"
   },
   {
    "duration": 19,
    "start_time": "2023-02-19T11:45:26.640Z"
   },
   {
    "duration": 5,
    "start_time": "2023-02-19T11:45:37.056Z"
   },
   {
    "duration": 3,
    "start_time": "2023-02-19T11:46:26.952Z"
   },
   {
    "duration": 5,
    "start_time": "2023-02-19T11:46:27.697Z"
   },
   {
    "duration": 108936,
    "start_time": "2023-02-19T11:46:34.110Z"
   },
   {
    "duration": 17,
    "start_time": "2023-02-19T11:48:23.050Z"
   },
   {
    "duration": 8,
    "start_time": "2023-02-19T11:48:23.069Z"
   },
   {
    "duration": 5,
    "start_time": "2023-02-19T11:49:56.531Z"
   },
   {
    "duration": 90697,
    "start_time": "2023-02-19T11:49:58.589Z"
   },
   {
    "duration": 0,
    "start_time": "2023-02-19T11:51:29.288Z"
   },
   {
    "duration": 0,
    "start_time": "2023-02-19T11:51:29.290Z"
   },
   {
    "duration": 3,
    "start_time": "2023-02-19T11:51:30.575Z"
   },
   {
    "duration": 4,
    "start_time": "2023-02-19T11:51:32.068Z"
   },
   {
    "duration": 184335,
    "start_time": "2023-02-19T11:51:33.035Z"
   },
   {
    "duration": 16,
    "start_time": "2023-02-19T11:55:30.918Z"
   },
   {
    "duration": 3,
    "start_time": "2023-02-19T11:55:34.129Z"
   },
   {
    "duration": 3,
    "start_time": "2023-02-19T11:56:03.708Z"
   },
   {
    "duration": 4,
    "start_time": "2023-02-19T11:56:04.274Z"
   },
   {
    "duration": 81930,
    "start_time": "2023-02-19T11:56:07.549Z"
   },
   {
    "duration": 25,
    "start_time": "2023-02-19T11:58:07.126Z"
   },
   {
    "duration": 4,
    "start_time": "2023-02-19T11:58:09.749Z"
   },
   {
    "duration": 5,
    "start_time": "2023-02-19T11:58:57.869Z"
   },
   {
    "duration": 23,
    "start_time": "2023-02-19T11:59:06.719Z"
   },
   {
    "duration": 21,
    "start_time": "2023-02-19T11:59:17.544Z"
   },
   {
    "duration": 23,
    "start_time": "2023-02-19T11:59:29.632Z"
   },
   {
    "duration": 7278,
    "start_time": "2023-02-19T11:59:41.192Z"
   },
   {
    "duration": 293,
    "start_time": "2023-02-19T11:59:50.681Z"
   },
   {
    "duration": 4,
    "start_time": "2023-02-19T12:00:21.888Z"
   },
   {
    "duration": 4,
    "start_time": "2023-02-19T12:00:23.315Z"
   },
   {
    "duration": 94767,
    "start_time": "2023-02-19T12:00:25.663Z"
   },
   {
    "duration": 4,
    "start_time": "2023-02-19T12:02:00.432Z"
   },
   {
    "duration": 15,
    "start_time": "2023-02-19T12:02:45.882Z"
   },
   {
    "duration": 4,
    "start_time": "2023-02-19T12:02:48.266Z"
   },
   {
    "duration": 50,
    "start_time": "2023-02-19T12:03:39.702Z"
   },
   {
    "duration": 3,
    "start_time": "2023-02-19T12:03:44.490Z"
   },
   {
    "duration": 5,
    "start_time": "2023-02-19T12:03:46.073Z"
   },
   {
    "duration": 3,
    "start_time": "2023-02-19T12:03:52.793Z"
   },
   {
    "duration": 492,
    "start_time": "2023-02-19T12:03:54.091Z"
   },
   {
    "duration": 2,
    "start_time": "2023-02-19T12:04:38.026Z"
   },
   {
    "duration": 3,
    "start_time": "2023-02-19T12:04:39.694Z"
   },
   {
    "duration": 122732,
    "start_time": "2023-02-19T12:04:40.276Z"
   },
   {
    "duration": 25,
    "start_time": "2023-02-19T12:07:47.327Z"
   },
   {
    "duration": 18,
    "start_time": "2023-02-19T12:07:52.433Z"
   },
   {
    "duration": 347,
    "start_time": "2023-02-19T12:10:02.552Z"
   },
   {
    "duration": 3,
    "start_time": "2023-02-19T12:10:18.486Z"
   },
   {
    "duration": 13,
    "start_time": "2023-02-19T12:10:19.381Z"
   },
   {
    "duration": 3,
    "start_time": "2023-02-19T12:10:20.466Z"
   },
   {
    "duration": 45701,
    "start_time": "2023-02-19T12:10:21.756Z"
   },
   {
    "duration": 56283,
    "start_time": "2023-02-19T12:11:07.461Z"
   },
   {
    "duration": 100,
    "start_time": "2023-02-19T12:12:03.746Z"
   },
   {
    "duration": 22,
    "start_time": "2023-02-19T12:12:03.848Z"
   },
   {
    "duration": 42682,
    "start_time": "2023-02-19T12:12:03.872Z"
   },
   {
    "duration": 50785,
    "start_time": "2023-02-19T12:12:46.558Z"
   },
   {
    "duration": 110,
    "start_time": "2023-02-19T12:13:37.348Z"
   },
   {
    "duration": 15,
    "start_time": "2023-02-19T12:13:37.460Z"
   },
   {
    "duration": 32378,
    "start_time": "2023-02-19T12:13:37.476Z"
   },
   {
    "duration": 38014,
    "start_time": "2023-02-19T12:14:09.936Z"
   },
   {
    "duration": 201,
    "start_time": "2023-02-19T12:14:47.951Z"
   },
   {
    "duration": 14,
    "start_time": "2023-02-19T12:14:48.155Z"
   },
   {
    "duration": 38370,
    "start_time": "2023-02-19T12:14:48.171Z"
   },
   {
    "duration": 50004,
    "start_time": "2023-02-19T12:15:26.542Z"
   },
   {
    "duration": 131,
    "start_time": "2023-02-19T12:16:16.548Z"
   },
   {
    "duration": 3,
    "start_time": "2023-02-19T12:16:16.681Z"
   },
   {
    "duration": 73471,
    "start_time": "2023-02-19T12:16:16.686Z"
   },
   {
    "duration": 81779,
    "start_time": "2023-02-19T12:17:30.159Z"
   },
   {
    "duration": 137,
    "start_time": "2023-02-19T12:18:51.943Z"
   },
   {
    "duration": 11,
    "start_time": "2023-02-19T12:18:52.081Z"
   },
   {
    "duration": 6,
    "start_time": "2023-02-19T12:18:52.093Z"
   },
   {
    "duration": 15,
    "start_time": "2023-02-19T12:20:11.548Z"
   },
   {
    "duration": 6,
    "start_time": "2023-02-19T12:20:12.153Z"
   },
   {
    "duration": 3,
    "start_time": "2023-02-19T12:20:18.192Z"
   },
   {
    "duration": 80659,
    "start_time": "2023-02-19T12:20:18.890Z"
   },
   {
    "duration": 100287,
    "start_time": "2023-02-19T12:21:39.553Z"
   },
   {
    "duration": 139,
    "start_time": "2023-02-19T12:23:19.842Z"
   },
   {
    "duration": 9,
    "start_time": "2023-02-19T12:25:10.305Z"
   },
   {
    "duration": 6348,
    "start_time": "2023-02-19T12:27:38.103Z"
   },
   {
    "duration": 1935,
    "start_time": "2023-02-19T12:27:44.454Z"
   },
   {
    "duration": 3,
    "start_time": "2023-02-19T12:27:46.390Z"
   },
   {
    "duration": 42,
    "start_time": "2023-02-19T12:27:46.395Z"
   },
   {
    "duration": 101,
    "start_time": "2023-02-19T12:27:46.443Z"
   },
   {
    "duration": 15,
    "start_time": "2023-02-19T12:27:46.546Z"
   },
   {
    "duration": 55,
    "start_time": "2023-02-19T12:27:46.563Z"
   },
   {
    "duration": 3,
    "start_time": "2023-02-19T12:27:46.620Z"
   },
   {
    "duration": 18,
    "start_time": "2023-02-19T12:27:46.624Z"
   },
   {
    "duration": 29,
    "start_time": "2023-02-19T12:27:46.644Z"
   },
   {
    "duration": 5,
    "start_time": "2023-02-19T12:27:46.675Z"
   },
   {
    "duration": 73,
    "start_time": "2023-02-19T12:27:46.681Z"
   },
   {
    "duration": 100,
    "start_time": "2023-02-19T12:27:46.756Z"
   },
   {
    "duration": 9,
    "start_time": "2023-02-19T12:27:46.858Z"
   },
   {
    "duration": 12341,
    "start_time": "2023-02-19T12:27:46.868Z"
   },
   {
    "duration": 9,
    "start_time": "2023-02-19T12:27:59.211Z"
   },
   {
    "duration": 12,
    "start_time": "2023-02-19T12:27:59.221Z"
   },
   {
    "duration": 28,
    "start_time": "2023-02-19T12:27:59.237Z"
   },
   {
    "duration": 13,
    "start_time": "2023-02-19T12:27:59.267Z"
   },
   {
    "duration": 6,
    "start_time": "2023-02-19T12:27:59.281Z"
   },
   {
    "duration": 8,
    "start_time": "2023-02-19T12:27:59.288Z"
   },
   {
    "duration": 13,
    "start_time": "2023-02-19T12:27:59.298Z"
   },
   {
    "duration": 27,
    "start_time": "2023-02-19T12:27:59.313Z"
   },
   {
    "duration": 14,
    "start_time": "2023-02-19T12:27:59.341Z"
   },
   {
    "duration": 5,
    "start_time": "2023-02-19T12:27:59.357Z"
   },
   {
    "duration": 319,
    "start_time": "2023-02-19T12:27:59.363Z"
   },
   {
    "duration": 4,
    "start_time": "2023-02-19T12:27:59.684Z"
   },
   {
    "duration": 2549,
    "start_time": "2023-02-19T12:27:59.692Z"
   },
   {
    "duration": 11,
    "start_time": "2023-02-19T12:28:02.243Z"
   },
   {
    "duration": 6,
    "start_time": "2023-02-19T12:28:02.256Z"
   },
   {
    "duration": 23,
    "start_time": "2023-02-19T12:28:02.264Z"
   },
   {
    "duration": 8,
    "start_time": "2023-02-19T12:28:02.288Z"
   },
   {
    "duration": 9,
    "start_time": "2023-02-19T12:28:02.297Z"
   },
   {
    "duration": 11,
    "start_time": "2023-02-19T12:28:02.308Z"
   },
   {
    "duration": 17,
    "start_time": "2023-02-19T12:28:02.321Z"
   },
   {
    "duration": 19,
    "start_time": "2023-02-19T12:28:02.345Z"
   },
   {
    "duration": 990,
    "start_time": "2023-02-19T12:28:02.367Z"
   },
   {
    "duration": 25,
    "start_time": "2023-02-19T12:28:03.359Z"
   },
   {
    "duration": 1346,
    "start_time": "2023-02-19T12:28:03.386Z"
   },
   {
    "duration": 21,
    "start_time": "2023-02-19T12:28:04.734Z"
   },
   {
    "duration": 10,
    "start_time": "2023-02-19T12:28:04.763Z"
   },
   {
    "duration": 7,
    "start_time": "2023-02-19T12:28:04.775Z"
   },
   {
    "duration": 18,
    "start_time": "2023-02-19T12:28:04.783Z"
   },
   {
    "duration": 2208,
    "start_time": "2023-02-19T12:28:04.803Z"
   },
   {
    "duration": 50,
    "start_time": "2023-02-19T12:28:07.013Z"
   },
   {
    "duration": 4850,
    "start_time": "2023-02-19T12:28:07.065Z"
   },
   {
    "duration": 51,
    "start_time": "2023-02-19T12:28:11.917Z"
   },
   {
    "duration": 3916,
    "start_time": "2023-02-19T12:28:11.970Z"
   },
   {
    "duration": 12,
    "start_time": "2023-02-19T12:28:15.888Z"
   },
   {
    "duration": 10043,
    "start_time": "2023-02-19T12:28:15.901Z"
   },
   {
    "duration": 189,
    "start_time": "2023-02-19T12:28:25.946Z"
   },
   {
    "duration": 0,
    "start_time": "2023-02-19T12:28:26.141Z"
   },
   {
    "duration": 0,
    "start_time": "2023-02-19T12:28:26.141Z"
   },
   {
    "duration": 0,
    "start_time": "2023-02-19T12:28:26.142Z"
   },
   {
    "duration": 0,
    "start_time": "2023-02-19T12:28:26.143Z"
   },
   {
    "duration": 0,
    "start_time": "2023-02-19T12:28:26.143Z"
   },
   {
    "duration": 0,
    "start_time": "2023-02-19T12:28:26.144Z"
   },
   {
    "duration": 0,
    "start_time": "2023-02-19T12:28:26.144Z"
   },
   {
    "duration": 0,
    "start_time": "2023-02-19T12:28:26.145Z"
   },
   {
    "duration": 0,
    "start_time": "2023-02-19T12:28:26.145Z"
   },
   {
    "duration": 0,
    "start_time": "2023-02-19T12:28:26.146Z"
   },
   {
    "duration": 0,
    "start_time": "2023-02-19T12:28:26.147Z"
   },
   {
    "duration": 0,
    "start_time": "2023-02-19T12:28:26.147Z"
   },
   {
    "duration": 0,
    "start_time": "2023-02-19T12:28:26.148Z"
   },
   {
    "duration": 0,
    "start_time": "2023-02-19T12:28:26.149Z"
   },
   {
    "duration": 0,
    "start_time": "2023-02-19T12:28:26.149Z"
   },
   {
    "duration": 0,
    "start_time": "2023-02-19T12:28:26.150Z"
   },
   {
    "duration": 0,
    "start_time": "2023-02-19T12:28:26.150Z"
   },
   {
    "duration": 0,
    "start_time": "2023-02-19T12:28:26.151Z"
   },
   {
    "duration": 0,
    "start_time": "2023-02-19T12:28:26.152Z"
   },
   {
    "duration": 0,
    "start_time": "2023-02-19T12:28:26.153Z"
   },
   {
    "duration": 0,
    "start_time": "2023-02-19T12:28:26.155Z"
   },
   {
    "duration": 0,
    "start_time": "2023-02-19T12:28:26.156Z"
   },
   {
    "duration": 0,
    "start_time": "2023-02-19T12:28:26.157Z"
   },
   {
    "duration": 0,
    "start_time": "2023-02-19T12:28:26.158Z"
   },
   {
    "duration": 0,
    "start_time": "2023-02-19T12:28:26.159Z"
   },
   {
    "duration": 0,
    "start_time": "2023-02-19T12:28:26.160Z"
   },
   {
    "duration": 0,
    "start_time": "2023-02-19T12:28:26.160Z"
   },
   {
    "duration": 0,
    "start_time": "2023-02-19T12:28:26.161Z"
   },
   {
    "duration": 0,
    "start_time": "2023-02-19T12:28:26.162Z"
   },
   {
    "duration": 0,
    "start_time": "2023-02-19T12:28:26.163Z"
   },
   {
    "duration": 0,
    "start_time": "2023-02-19T12:28:26.164Z"
   },
   {
    "duration": 6279,
    "start_time": "2023-02-19T12:29:58.977Z"
   },
   {
    "duration": 1884,
    "start_time": "2023-02-19T12:30:05.258Z"
   },
   {
    "duration": 4,
    "start_time": "2023-02-19T12:30:07.143Z"
   },
   {
    "duration": 38,
    "start_time": "2023-02-19T12:30:07.152Z"
   },
   {
    "duration": 77,
    "start_time": "2023-02-19T12:30:07.192Z"
   },
   {
    "duration": 15,
    "start_time": "2023-02-19T12:30:07.270Z"
   },
   {
    "duration": 77,
    "start_time": "2023-02-19T12:30:07.287Z"
   },
   {
    "duration": 4,
    "start_time": "2023-02-19T12:30:07.365Z"
   },
   {
    "duration": 7,
    "start_time": "2023-02-19T12:30:07.370Z"
   },
   {
    "duration": 25,
    "start_time": "2023-02-19T12:30:07.379Z"
   },
   {
    "duration": 4,
    "start_time": "2023-02-19T12:30:07.405Z"
   },
   {
    "duration": 67,
    "start_time": "2023-02-19T12:30:07.410Z"
   },
   {
    "duration": 105,
    "start_time": "2023-02-19T12:30:07.479Z"
   },
   {
    "duration": 7,
    "start_time": "2023-02-19T12:30:07.585Z"
   },
   {
    "duration": 12567,
    "start_time": "2023-02-19T12:30:07.593Z"
   },
   {
    "duration": 7,
    "start_time": "2023-02-19T12:30:20.162Z"
   },
   {
    "duration": 7,
    "start_time": "2023-02-19T12:30:20.171Z"
   },
   {
    "duration": 17,
    "start_time": "2023-02-19T12:30:20.180Z"
   },
   {
    "duration": 45,
    "start_time": "2023-02-19T12:30:20.199Z"
   },
   {
    "duration": 6,
    "start_time": "2023-02-19T12:30:20.246Z"
   },
   {
    "duration": 22,
    "start_time": "2023-02-19T12:30:20.254Z"
   },
   {
    "duration": 19,
    "start_time": "2023-02-19T12:30:20.277Z"
   },
   {
    "duration": 13,
    "start_time": "2023-02-19T12:30:20.297Z"
   },
   {
    "duration": 12,
    "start_time": "2023-02-19T12:30:20.311Z"
   },
   {
    "duration": 23,
    "start_time": "2023-02-19T12:30:20.324Z"
   },
   {
    "duration": 86,
    "start_time": "2023-02-19T12:30:20.352Z"
   },
   {
    "duration": 8,
    "start_time": "2023-02-19T12:30:20.443Z"
   },
   {
    "duration": 2685,
    "start_time": "2023-02-19T12:30:20.692Z"
   },
   {
    "duration": 4,
    "start_time": "2023-02-19T12:30:23.379Z"
   },
   {
    "duration": 10,
    "start_time": "2023-02-19T12:30:23.384Z"
   },
   {
    "duration": 5,
    "start_time": "2023-02-19T12:30:23.396Z"
   },
   {
    "duration": 9,
    "start_time": "2023-02-19T12:30:23.403Z"
   },
   {
    "duration": 11,
    "start_time": "2023-02-19T12:30:23.413Z"
   },
   {
    "duration": 16,
    "start_time": "2023-02-19T12:30:23.439Z"
   },
   {
    "duration": 4,
    "start_time": "2023-02-19T12:30:23.456Z"
   },
   {
    "duration": 9,
    "start_time": "2023-02-19T12:30:23.461Z"
   },
   {
    "duration": 830,
    "start_time": "2023-02-19T12:30:23.472Z"
   },
   {
    "duration": 23,
    "start_time": "2023-02-19T12:30:24.304Z"
   },
   {
    "duration": 1316,
    "start_time": "2023-02-19T12:30:24.337Z"
   },
   {
    "duration": 7,
    "start_time": "2023-02-19T12:30:25.655Z"
   },
   {
    "duration": 17,
    "start_time": "2023-02-19T12:30:25.663Z"
   },
   {
    "duration": 6,
    "start_time": "2023-02-19T12:30:25.683Z"
   },
   {
    "duration": 24,
    "start_time": "2023-02-19T12:30:25.692Z"
   },
   {
    "duration": 2187,
    "start_time": "2023-02-19T12:30:25.718Z"
   },
   {
    "duration": 50,
    "start_time": "2023-02-19T12:30:27.907Z"
   },
   {
    "duration": 4466,
    "start_time": "2023-02-19T12:30:27.958Z"
   },
   {
    "duration": 56,
    "start_time": "2023-02-19T12:30:32.428Z"
   },
   {
    "duration": 3722,
    "start_time": "2023-02-19T12:30:32.485Z"
   },
   {
    "duration": 12,
    "start_time": "2023-02-19T12:30:36.208Z"
   },
   {
    "duration": 9498,
    "start_time": "2023-02-19T12:30:36.221Z"
   },
   {
    "duration": 9,
    "start_time": "2023-02-19T12:30:45.721Z"
   },
   {
    "duration": 9,
    "start_time": "2023-02-19T12:30:45.732Z"
   },
   {
    "duration": 181,
    "start_time": "2023-02-19T12:30:45.746Z"
   },
   {
    "duration": 0,
    "start_time": "2023-02-19T12:30:45.929Z"
   },
   {
    "duration": 0,
    "start_time": "2023-02-19T12:30:45.930Z"
   },
   {
    "duration": 0,
    "start_time": "2023-02-19T12:30:45.931Z"
   },
   {
    "duration": 0,
    "start_time": "2023-02-19T12:30:45.937Z"
   },
   {
    "duration": 0,
    "start_time": "2023-02-19T12:30:45.945Z"
   },
   {
    "duration": 0,
    "start_time": "2023-02-19T12:30:45.949Z"
   },
   {
    "duration": 0,
    "start_time": "2023-02-19T12:30:45.950Z"
   },
   {
    "duration": 0,
    "start_time": "2023-02-19T12:30:45.951Z"
   },
   {
    "duration": 0,
    "start_time": "2023-02-19T12:30:45.952Z"
   },
   {
    "duration": 0,
    "start_time": "2023-02-19T12:30:45.953Z"
   },
   {
    "duration": 0,
    "start_time": "2023-02-19T12:30:45.955Z"
   },
   {
    "duration": 0,
    "start_time": "2023-02-19T12:30:45.956Z"
   },
   {
    "duration": 0,
    "start_time": "2023-02-19T12:30:45.957Z"
   },
   {
    "duration": 0,
    "start_time": "2023-02-19T12:30:45.958Z"
   },
   {
    "duration": 0,
    "start_time": "2023-02-19T12:30:45.959Z"
   },
   {
    "duration": 0,
    "start_time": "2023-02-19T12:30:45.960Z"
   },
   {
    "duration": 0,
    "start_time": "2023-02-19T12:30:45.961Z"
   },
   {
    "duration": 0,
    "start_time": "2023-02-19T12:30:45.962Z"
   },
   {
    "duration": 0,
    "start_time": "2023-02-19T12:30:45.963Z"
   },
   {
    "duration": 0,
    "start_time": "2023-02-19T12:30:45.964Z"
   },
   {
    "duration": 0,
    "start_time": "2023-02-19T12:30:45.965Z"
   },
   {
    "duration": 0,
    "start_time": "2023-02-19T12:30:45.966Z"
   },
   {
    "duration": 0,
    "start_time": "2023-02-19T12:30:45.967Z"
   },
   {
    "duration": 0,
    "start_time": "2023-02-19T12:30:45.969Z"
   },
   {
    "duration": 0,
    "start_time": "2023-02-19T12:30:45.970Z"
   },
   {
    "duration": 0,
    "start_time": "2023-02-19T12:30:45.971Z"
   },
   {
    "duration": 0,
    "start_time": "2023-02-19T12:30:45.973Z"
   },
   {
    "duration": 0,
    "start_time": "2023-02-19T12:30:45.975Z"
   },
   {
    "duration": 5,
    "start_time": "2023-02-19T12:39:16.072Z"
   },
   {
    "duration": 5,
    "start_time": "2023-02-19T12:39:24.352Z"
   },
   {
    "duration": 3,
    "start_time": "2023-02-19T12:39:25.129Z"
   },
   {
    "duration": 2,
    "start_time": "2023-02-19T12:39:25.888Z"
   },
   {
    "duration": 3,
    "start_time": "2023-02-19T12:39:26.987Z"
   },
   {
    "duration": 78168,
    "start_time": "2023-02-19T12:39:27.489Z"
   },
   {
    "duration": 81479,
    "start_time": "2023-02-19T12:40:45.662Z"
   },
   {
    "duration": 8,
    "start_time": "2023-02-19T12:42:07.143Z"
   },
   {
    "duration": 77259,
    "start_time": "2023-02-19T12:42:07.153Z"
   },
   {
    "duration": 123096,
    "start_time": "2023-02-19T12:43:24.414Z"
   },
   {
    "duration": 3,
    "start_time": "2023-02-19T12:45:27.512Z"
   },
   {
    "duration": 2462,
    "start_time": "2023-02-19T12:45:27.517Z"
   },
   {
    "duration": 3,
    "start_time": "2023-02-19T12:45:29.982Z"
   },
   {
    "duration": 6,
    "start_time": "2023-02-19T12:45:29.987Z"
   },
   {
    "duration": 85433,
    "start_time": "2023-02-19T12:45:29.996Z"
   },
   {
    "duration": 22,
    "start_time": "2023-02-19T12:46:55.432Z"
   },
   {
    "duration": 27,
    "start_time": "2023-02-19T12:46:55.461Z"
   },
   {
    "duration": 4,
    "start_time": "2023-02-19T12:48:04.000Z"
   },
   {
    "duration": 60948,
    "start_time": "2023-02-19T12:48:09.903Z"
   },
   {
    "duration": 123,
    "start_time": "2023-02-19T12:49:10.855Z"
   },
   {
    "duration": 2,
    "start_time": "2023-02-19T12:51:17.113Z"
   },
   {
    "duration": 3,
    "start_time": "2023-02-19T12:51:19.072Z"
   },
   {
    "duration": 45109,
    "start_time": "2023-02-19T12:51:20.289Z"
   },
   {
    "duration": 4,
    "start_time": "2023-02-19T12:52:05.400Z"
   },
   {
    "duration": 4,
    "start_time": "2023-02-19T12:53:47.320Z"
   },
   {
    "duration": 44,
    "start_time": "2023-02-19T12:53:58.366Z"
   },
   {
    "duration": 26,
    "start_time": "2023-02-19T12:54:06.230Z"
   },
   {
    "duration": 51864,
    "start_time": "2023-02-19T12:54:15.354Z"
   },
   {
    "duration": 124,
    "start_time": "2023-02-19T12:55:11.401Z"
   },
   {
    "duration": 53,
    "start_time": "2023-02-19T12:57:43.062Z"
   },
   {
    "duration": 2,
    "start_time": "2023-02-19T12:57:46.911Z"
   },
   {
    "duration": 3,
    "start_time": "2023-02-19T12:58:05.494Z"
   },
   {
    "duration": 56741,
    "start_time": "2023-02-19T12:58:06.391Z"
   },
   {
    "duration": 3,
    "start_time": "2023-02-19T13:03:30.260Z"
   },
   {
    "duration": 3,
    "start_time": "2023-02-19T13:03:30.931Z"
   },
   {
    "duration": 335666,
    "start_time": "2023-02-19T13:03:32.696Z"
   },
   {
    "duration": 138,
    "start_time": "2023-02-19T13:09:08.365Z"
   },
   {
    "duration": 232896,
    "start_time": "2023-02-19T13:12:08.494Z"
   },
   {
    "duration": 5980,
    "start_time": "2023-02-19T13:17:05.295Z"
   },
   {
    "duration": 1867,
    "start_time": "2023-02-19T13:17:11.277Z"
   },
   {
    "duration": 3,
    "start_time": "2023-02-19T13:17:13.146Z"
   },
   {
    "duration": 39,
    "start_time": "2023-02-19T13:17:13.151Z"
   },
   {
    "duration": 77,
    "start_time": "2023-02-19T13:17:13.192Z"
   },
   {
    "duration": 22,
    "start_time": "2023-02-19T13:17:13.271Z"
   },
   {
    "duration": 75,
    "start_time": "2023-02-19T13:17:13.294Z"
   },
   {
    "duration": 4,
    "start_time": "2023-02-19T13:17:13.371Z"
   },
   {
    "duration": 8,
    "start_time": "2023-02-19T13:17:13.376Z"
   },
   {
    "duration": 26,
    "start_time": "2023-02-19T13:17:13.386Z"
   },
   {
    "duration": 15,
    "start_time": "2023-02-19T13:17:13.414Z"
   },
   {
    "duration": 66,
    "start_time": "2023-02-19T13:17:13.431Z"
   },
   {
    "duration": 99,
    "start_time": "2023-02-19T13:17:13.499Z"
   },
   {
    "duration": 6,
    "start_time": "2023-02-19T13:17:13.600Z"
   },
   {
    "duration": 12089,
    "start_time": "2023-02-19T13:17:13.608Z"
   },
   {
    "duration": 7,
    "start_time": "2023-02-19T13:17:25.700Z"
   },
   {
    "duration": 13,
    "start_time": "2023-02-19T13:17:25.708Z"
   },
   {
    "duration": 24,
    "start_time": "2023-02-19T13:17:25.722Z"
   },
   {
    "duration": 13,
    "start_time": "2023-02-19T13:17:25.748Z"
   },
   {
    "duration": 22,
    "start_time": "2023-02-19T13:17:25.763Z"
   },
   {
    "duration": 9,
    "start_time": "2023-02-19T13:17:25.787Z"
   },
   {
    "duration": 8,
    "start_time": "2023-02-19T13:17:25.798Z"
   },
   {
    "duration": 32,
    "start_time": "2023-02-19T13:17:25.808Z"
   },
   {
    "duration": 6,
    "start_time": "2023-02-19T13:17:25.842Z"
   },
   {
    "duration": 4,
    "start_time": "2023-02-19T13:17:25.850Z"
   },
   {
    "duration": 89,
    "start_time": "2023-02-19T13:17:25.856Z"
   },
   {
    "duration": 6,
    "start_time": "2023-02-19T13:17:25.948Z"
   },
   {
    "duration": 2420,
    "start_time": "2023-02-19T13:17:26.217Z"
   },
   {
    "duration": 3,
    "start_time": "2023-02-19T13:17:28.639Z"
   },
   {
    "duration": 7,
    "start_time": "2023-02-19T13:17:28.644Z"
   },
   {
    "duration": 7,
    "start_time": "2023-02-19T13:17:28.652Z"
   },
   {
    "duration": 15,
    "start_time": "2023-02-19T13:17:28.660Z"
   },
   {
    "duration": 8,
    "start_time": "2023-02-19T13:17:28.676Z"
   },
   {
    "duration": 425,
    "start_time": "2023-02-19T13:17:28.686Z"
   },
   {
    "duration": 30,
    "start_time": "2023-02-19T13:17:29.113Z"
   },
   {
    "duration": 8,
    "start_time": "2023-02-19T13:17:29.144Z"
   },
   {
    "duration": 787,
    "start_time": "2023-02-19T13:17:29.154Z"
   },
   {
    "duration": 23,
    "start_time": "2023-02-19T13:17:29.943Z"
   },
   {
    "duration": 1264,
    "start_time": "2023-02-19T13:17:29.968Z"
   },
   {
    "duration": 6,
    "start_time": "2023-02-19T13:17:31.235Z"
   },
   {
    "duration": 11,
    "start_time": "2023-02-19T13:17:31.243Z"
   },
   {
    "duration": 12,
    "start_time": "2023-02-19T13:17:31.256Z"
   },
   {
    "duration": 17,
    "start_time": "2023-02-19T13:17:31.269Z"
   },
   {
    "duration": 2720,
    "start_time": "2023-02-19T13:17:31.288Z"
   },
   {
    "duration": 42,
    "start_time": "2023-02-19T13:17:34.009Z"
   },
   {
    "duration": 4101,
    "start_time": "2023-02-19T13:17:34.052Z"
   },
   {
    "duration": 43,
    "start_time": "2023-02-19T13:17:38.154Z"
   },
   {
    "duration": 3294,
    "start_time": "2023-02-19T13:17:38.198Z"
   },
   {
    "duration": 11,
    "start_time": "2023-02-19T13:17:41.493Z"
   },
   {
    "duration": 9105,
    "start_time": "2023-02-19T13:17:41.505Z"
   },
   {
    "duration": 10,
    "start_time": "2023-02-19T13:17:50.611Z"
   },
   {
    "duration": 5,
    "start_time": "2023-02-19T13:17:50.624Z"
   },
   {
    "duration": 5,
    "start_time": "2023-02-19T13:17:50.631Z"
   },
   {
    "duration": 4,
    "start_time": "2023-02-19T13:17:50.637Z"
   },
   {
    "duration": 14,
    "start_time": "2023-02-19T13:17:50.643Z"
   },
   {
    "duration": 5,
    "start_time": "2023-02-19T13:17:50.658Z"
   },
   {
    "duration": 36528,
    "start_time": "2023-02-19T13:17:50.664Z"
   },
   {
    "duration": 41816,
    "start_time": "2023-02-19T13:18:27.194Z"
   },
   {
    "duration": 3,
    "start_time": "2023-02-19T13:19:09.013Z"
   },
   {
    "duration": 85016,
    "start_time": "2023-02-19T13:19:09.017Z"
   },
   {
    "duration": 134103,
    "start_time": "2023-02-19T13:20:34.036Z"
   },
   {
    "duration": 3,
    "start_time": "2023-02-19T13:22:48.140Z"
   },
   {
    "duration": 2636,
    "start_time": "2023-02-19T13:22:48.144Z"
   },
   {
    "duration": 3,
    "start_time": "2023-02-19T13:22:50.781Z"
   },
   {
    "duration": 10,
    "start_time": "2023-02-19T13:22:50.785Z"
   },
   {
    "duration": 207502,
    "start_time": "2023-02-19T13:22:50.797Z"
   },
   {
    "duration": 129,
    "start_time": "2023-02-19T13:26:18.301Z"
   },
   {
    "duration": 184,
    "start_time": "2023-02-19T13:26:18.437Z"
   },
   {
    "duration": 0,
    "start_time": "2023-02-19T13:26:18.623Z"
   },
   {
    "duration": 0,
    "start_time": "2023-02-19T13:26:18.624Z"
   },
   {
    "duration": 0,
    "start_time": "2023-02-19T13:26:18.625Z"
   },
   {
    "duration": 0,
    "start_time": "2023-02-19T13:26:18.636Z"
   },
   {
    "duration": 0,
    "start_time": "2023-02-19T13:26:18.637Z"
   },
   {
    "duration": 0,
    "start_time": "2023-02-19T13:26:18.638Z"
   },
   {
    "duration": 0,
    "start_time": "2023-02-19T13:26:18.639Z"
   },
   {
    "duration": 0,
    "start_time": "2023-02-19T13:26:18.640Z"
   },
   {
    "duration": 0,
    "start_time": "2023-02-19T13:26:18.641Z"
   },
   {
    "duration": 218550,
    "start_time": "2023-02-19T13:26:46.494Z"
   },
   {
    "duration": 118,
    "start_time": "2023-02-19T13:30:25.046Z"
   },
   {
    "duration": 113,
    "start_time": "2023-02-19T13:36:59.767Z"
   },
   {
    "duration": 3,
    "start_time": "2023-02-19T13:37:02.870Z"
   },
   {
    "duration": 57,
    "start_time": "2023-02-19T13:37:04.456Z"
   },
   {
    "duration": 4,
    "start_time": "2023-02-19T13:37:07.098Z"
   },
   {
    "duration": 3,
    "start_time": "2023-02-19T13:37:08.125Z"
   },
   {
    "duration": 50150,
    "start_time": "2023-02-19T13:37:09.348Z"
   },
   {
    "duration": 2,
    "start_time": "2023-02-19T13:37:59.500Z"
   },
   {
    "duration": 284337,
    "start_time": "2023-02-19T13:37:59.504Z"
   },
   {
    "duration": 316,
    "start_time": "2023-02-19T13:42:43.843Z"
   },
   {
    "duration": 4,
    "start_time": "2023-02-19T13:42:44.160Z"
   },
   {
    "duration": 4072,
    "start_time": "2023-02-19T13:42:44.165Z"
   },
   {
    "duration": 36,
    "start_time": "2023-02-19T13:43:25.625Z"
   },
   {
    "duration": 28,
    "start_time": "2023-02-19T13:43:38.250Z"
   },
   {
    "duration": 46,
    "start_time": "2023-02-19T13:43:41.121Z"
   },
   {
    "duration": 43,
    "start_time": "2023-02-19T13:43:46.135Z"
   },
   {
    "duration": 16,
    "start_time": "2023-02-19T13:43:50.740Z"
   },
   {
    "duration": 18,
    "start_time": "2023-02-19T13:43:57.456Z"
   },
   {
    "duration": 22,
    "start_time": "2023-02-19T13:43:59.923Z"
   },
   {
    "duration": 13,
    "start_time": "2023-02-19T13:44:02.420Z"
   },
   {
    "duration": 20,
    "start_time": "2023-02-19T13:44:31.434Z"
   },
   {
    "duration": 19,
    "start_time": "2023-02-19T13:44:41.754Z"
   },
   {
    "duration": 11,
    "start_time": "2023-02-19T13:44:52.402Z"
   },
   {
    "duration": 42,
    "start_time": "2023-02-19T13:46:44.081Z"
   },
   {
    "duration": 18,
    "start_time": "2023-02-19T13:46:46.518Z"
   },
   {
    "duration": 10,
    "start_time": "2023-02-19T13:47:14.806Z"
   },
   {
    "duration": 18,
    "start_time": "2023-02-19T13:48:27.856Z"
   },
   {
    "duration": 11,
    "start_time": "2023-02-19T13:48:31.969Z"
   },
   {
    "duration": 3,
    "start_time": "2023-02-19T13:49:29.348Z"
   },
   {
    "duration": 59,
    "start_time": "2023-02-19T13:50:18.633Z"
   },
   {
    "duration": 56,
    "start_time": "2023-02-19T13:51:48.838Z"
   },
   {
    "duration": 3,
    "start_time": "2023-02-19T13:53:37.852Z"
   },
   {
    "duration": 4491,
    "start_time": "2023-02-19T13:53:42.142Z"
   },
   {
    "duration": 5,
    "start_time": "2023-02-19T13:54:43.532Z"
   },
   {
    "duration": 5990,
    "start_time": "2023-02-19T13:55:14.356Z"
   },
   {
    "duration": 1794,
    "start_time": "2023-02-19T13:55:20.349Z"
   },
   {
    "duration": 3,
    "start_time": "2023-02-19T13:55:22.144Z"
   },
   {
    "duration": 38,
    "start_time": "2023-02-19T13:55:22.149Z"
   },
   {
    "duration": 75,
    "start_time": "2023-02-19T13:55:22.190Z"
   },
   {
    "duration": 14,
    "start_time": "2023-02-19T13:55:22.266Z"
   },
   {
    "duration": 78,
    "start_time": "2023-02-19T13:55:22.282Z"
   },
   {
    "duration": 4,
    "start_time": "2023-02-19T13:55:22.362Z"
   },
   {
    "duration": 14,
    "start_time": "2023-02-19T13:55:22.367Z"
   },
   {
    "duration": 29,
    "start_time": "2023-02-19T13:55:22.383Z"
   },
   {
    "duration": 5,
    "start_time": "2023-02-19T13:55:22.414Z"
   },
   {
    "duration": 99,
    "start_time": "2023-02-19T13:55:22.421Z"
   },
   {
    "duration": 122,
    "start_time": "2023-02-19T13:55:22.522Z"
   },
   {
    "duration": 9,
    "start_time": "2023-02-19T13:55:22.647Z"
   },
   {
    "duration": 11619,
    "start_time": "2023-02-19T13:55:22.658Z"
   },
   {
    "duration": 7,
    "start_time": "2023-02-19T13:55:34.279Z"
   },
   {
    "duration": 8,
    "start_time": "2023-02-19T13:55:34.288Z"
   },
   {
    "duration": 12,
    "start_time": "2023-02-19T13:55:34.298Z"
   },
   {
    "duration": 15,
    "start_time": "2023-02-19T13:55:34.338Z"
   },
   {
    "duration": 5,
    "start_time": "2023-02-19T13:55:34.355Z"
   },
   {
    "duration": 13,
    "start_time": "2023-02-19T13:55:34.361Z"
   },
   {
    "duration": 14,
    "start_time": "2023-02-19T13:55:34.376Z"
   },
   {
    "duration": 13,
    "start_time": "2023-02-19T13:55:34.438Z"
   },
   {
    "duration": 6,
    "start_time": "2023-02-19T13:55:34.452Z"
   },
   {
    "duration": 7,
    "start_time": "2023-02-19T13:55:34.460Z"
   },
   {
    "duration": 320,
    "start_time": "2023-02-19T13:55:34.469Z"
   },
   {
    "duration": 5,
    "start_time": "2023-02-19T13:55:34.792Z"
   },
   {
    "duration": 2517,
    "start_time": "2023-02-19T13:55:34.798Z"
   },
   {
    "duration": 4,
    "start_time": "2023-02-19T13:55:37.316Z"
   },
   {
    "duration": 17,
    "start_time": "2023-02-19T13:55:37.321Z"
   },
   {
    "duration": 12,
    "start_time": "2023-02-19T13:55:37.340Z"
   },
   {
    "duration": 8,
    "start_time": "2023-02-19T13:55:37.354Z"
   },
   {
    "duration": 10,
    "start_time": "2023-02-19T13:55:37.364Z"
   },
   {
    "duration": 13,
    "start_time": "2023-02-19T13:55:37.376Z"
   },
   {
    "duration": 11,
    "start_time": "2023-02-19T13:55:37.391Z"
   },
   {
    "duration": 7,
    "start_time": "2023-02-19T13:55:37.404Z"
   },
   {
    "duration": 904,
    "start_time": "2023-02-19T13:55:37.413Z"
   },
   {
    "duration": 37,
    "start_time": "2023-02-19T13:55:38.319Z"
   },
   {
    "duration": 1247,
    "start_time": "2023-02-19T13:55:38.358Z"
   },
   {
    "duration": 5,
    "start_time": "2023-02-19T13:55:39.607Z"
   },
   {
    "duration": 5,
    "start_time": "2023-02-19T13:55:39.616Z"
   },
   {
    "duration": 15,
    "start_time": "2023-02-19T13:55:39.623Z"
   },
   {
    "duration": 13,
    "start_time": "2023-02-19T13:55:39.640Z"
   },
   {
    "duration": 2010,
    "start_time": "2023-02-19T13:55:39.654Z"
   },
   {
    "duration": 42,
    "start_time": "2023-02-19T13:55:41.665Z"
   },
   {
    "duration": 4255,
    "start_time": "2023-02-19T13:55:41.709Z"
   },
   {
    "duration": 47,
    "start_time": "2023-02-19T13:55:45.966Z"
   },
   {
    "duration": 3322,
    "start_time": "2023-02-19T13:55:46.015Z"
   },
   {
    "duration": 12,
    "start_time": "2023-02-19T13:55:49.338Z"
   },
   {
    "duration": 9062,
    "start_time": "2023-02-19T13:55:49.351Z"
   },
   {
    "duration": 15,
    "start_time": "2023-02-19T13:55:58.414Z"
   },
   {
    "duration": 7,
    "start_time": "2023-02-19T13:55:58.431Z"
   },
   {
    "duration": 4,
    "start_time": "2023-02-19T13:55:58.440Z"
   },
   {
    "duration": 4,
    "start_time": "2023-02-19T13:55:58.446Z"
   },
   {
    "duration": 6,
    "start_time": "2023-02-19T13:55:58.452Z"
   },
   {
    "duration": 4,
    "start_time": "2023-02-19T13:55:58.460Z"
   },
   {
    "duration": 38528,
    "start_time": "2023-02-19T13:55:58.466Z"
   },
   {
    "duration": 42918,
    "start_time": "2023-02-19T13:56:36.996Z"
   },
   {
    "duration": 3,
    "start_time": "2023-02-19T13:57:19.917Z"
   },
   {
    "duration": 84055,
    "start_time": "2023-02-19T13:57:19.921Z"
   },
   {
    "duration": 133508,
    "start_time": "2023-02-19T13:58:43.978Z"
   },
   {
    "duration": 2,
    "start_time": "2023-02-19T14:00:57.488Z"
   },
   {
    "duration": 2781,
    "start_time": "2023-02-19T14:00:57.492Z"
   },
   {
    "duration": 3,
    "start_time": "2023-02-19T14:01:00.275Z"
   },
   {
    "duration": 71,
    "start_time": "2023-02-19T14:01:00.279Z"
   },
   {
    "duration": 215368,
    "start_time": "2023-02-19T14:01:00.352Z"
   },
   {
    "duration": 126,
    "start_time": "2023-02-19T14:04:35.722Z"
   },
   {
    "duration": 60,
    "start_time": "2023-02-19T14:04:35.850Z"
   },
   {
    "duration": 4,
    "start_time": "2023-02-19T14:04:35.911Z"
   },
   {
    "duration": 51009,
    "start_time": "2023-02-19T14:04:35.916Z"
   },
   {
    "duration": 3,
    "start_time": "2023-02-19T14:05:26.926Z"
   },
   {
    "duration": 291935,
    "start_time": "2023-02-19T14:05:26.931Z"
   },
   {
    "duration": 387,
    "start_time": "2023-02-19T14:10:18.948Z"
   },
   {
    "duration": 5,
    "start_time": "2023-02-19T14:10:19.337Z"
   },
   {
    "duration": 4326,
    "start_time": "2023-02-19T14:10:19.344Z"
   },
   {
    "duration": 6265,
    "start_time": "2023-02-19T14:11:45.753Z"
   },
   {
    "duration": 1944,
    "start_time": "2023-02-19T14:11:52.021Z"
   },
   {
    "duration": 3,
    "start_time": "2023-02-19T14:11:53.966Z"
   },
   {
    "duration": 36,
    "start_time": "2023-02-19T14:11:53.970Z"
   },
   {
    "duration": 72,
    "start_time": "2023-02-19T14:11:54.008Z"
   },
   {
    "duration": 13,
    "start_time": "2023-02-19T14:11:54.082Z"
   },
   {
    "duration": 75,
    "start_time": "2023-02-19T14:11:54.097Z"
   },
   {
    "duration": 4,
    "start_time": "2023-02-19T14:11:54.173Z"
   },
   {
    "duration": 8,
    "start_time": "2023-02-19T14:11:54.178Z"
   },
   {
    "duration": 23,
    "start_time": "2023-02-19T14:11:54.188Z"
   },
   {
    "duration": 4,
    "start_time": "2023-02-19T14:11:54.213Z"
   },
   {
    "duration": 69,
    "start_time": "2023-02-19T14:11:54.243Z"
   },
   {
    "duration": 106,
    "start_time": "2023-02-19T14:11:54.314Z"
   },
   {
    "duration": 7,
    "start_time": "2023-02-19T14:11:54.422Z"
   },
   {
    "duration": 12455,
    "start_time": "2023-02-19T14:11:54.430Z"
   },
   {
    "duration": 9,
    "start_time": "2023-02-19T14:12:06.888Z"
   },
   {
    "duration": 25,
    "start_time": "2023-02-19T14:12:06.899Z"
   },
   {
    "duration": 23,
    "start_time": "2023-02-19T14:12:06.925Z"
   },
   {
    "duration": 38,
    "start_time": "2023-02-19T14:12:06.950Z"
   },
   {
    "duration": 8,
    "start_time": "2023-02-19T14:12:06.989Z"
   },
   {
    "duration": 9,
    "start_time": "2023-02-19T14:12:06.999Z"
   },
   {
    "duration": 33,
    "start_time": "2023-02-19T14:12:07.009Z"
   },
   {
    "duration": 26,
    "start_time": "2023-02-19T14:12:07.043Z"
   },
   {
    "duration": 6,
    "start_time": "2023-02-19T14:12:07.071Z"
   },
   {
    "duration": 3,
    "start_time": "2023-02-19T14:12:07.079Z"
   },
   {
    "duration": 92,
    "start_time": "2023-02-19T14:12:07.084Z"
   },
   {
    "duration": 5,
    "start_time": "2023-02-19T14:12:07.178Z"
   },
   {
    "duration": 2940,
    "start_time": "2023-02-19T14:12:07.184Z"
   },
   {
    "duration": 18,
    "start_time": "2023-02-19T14:12:10.126Z"
   },
   {
    "duration": 12,
    "start_time": "2023-02-19T14:12:10.146Z"
   },
   {
    "duration": 7,
    "start_time": "2023-02-19T14:12:10.160Z"
   },
   {
    "duration": 11,
    "start_time": "2023-02-19T14:12:10.169Z"
   },
   {
    "duration": 6,
    "start_time": "2023-02-19T14:12:10.181Z"
   },
   {
    "duration": 6,
    "start_time": "2023-02-19T14:12:10.188Z"
   },
   {
    "duration": 9,
    "start_time": "2023-02-19T14:12:10.196Z"
   },
   {
    "duration": 6,
    "start_time": "2023-02-19T14:12:10.207Z"
   },
   {
    "duration": 877,
    "start_time": "2023-02-19T14:12:10.214Z"
   },
   {
    "duration": 29,
    "start_time": "2023-02-19T14:12:11.092Z"
   },
   {
    "duration": 1455,
    "start_time": "2023-02-19T14:12:11.123Z"
   },
   {
    "duration": 9,
    "start_time": "2023-02-19T14:12:12.580Z"
   },
   {
    "duration": 9,
    "start_time": "2023-02-19T14:12:12.595Z"
   },
   {
    "duration": 14,
    "start_time": "2023-02-19T14:12:12.606Z"
   },
   {
    "duration": 33,
    "start_time": "2023-02-19T14:12:12.623Z"
   },
   {
    "duration": 2525,
    "start_time": "2023-02-19T14:12:12.659Z"
   },
   {
    "duration": 41,
    "start_time": "2023-02-19T14:12:15.185Z"
   },
   {
    "duration": 4571,
    "start_time": "2023-02-19T14:12:15.228Z"
   },
   {
    "duration": 52,
    "start_time": "2023-02-19T14:12:19.801Z"
   },
   {
    "duration": 4001,
    "start_time": "2023-02-19T14:12:19.855Z"
   },
   {
    "duration": 12,
    "start_time": "2023-02-19T14:12:23.858Z"
   },
   {
    "duration": 9704,
    "start_time": "2023-02-19T14:12:23.872Z"
   },
   {
    "duration": 11,
    "start_time": "2023-02-19T14:12:33.578Z"
   },
   {
    "duration": 10,
    "start_time": "2023-02-19T14:12:33.590Z"
   },
   {
    "duration": 9,
    "start_time": "2023-02-19T14:12:33.602Z"
   },
   {
    "duration": 5,
    "start_time": "2023-02-19T14:12:33.613Z"
   },
   {
    "duration": 9,
    "start_time": "2023-02-19T14:12:33.619Z"
   },
   {
    "duration": 6,
    "start_time": "2023-02-19T14:12:33.629Z"
   },
   {
    "duration": 95822,
    "start_time": "2023-02-19T14:12:33.637Z"
   },
   {
    "duration": 146874,
    "start_time": "2023-02-19T14:14:09.464Z"
   },
   {
    "duration": 10,
    "start_time": "2023-02-19T14:16:36.340Z"
   },
   {
    "duration": 100661,
    "start_time": "2023-02-19T14:16:36.357Z"
   },
   {
    "duration": 157396,
    "start_time": "2023-02-19T14:18:17.019Z"
   },
   {
    "duration": 3,
    "start_time": "2023-02-19T14:20:54.417Z"
   },
   {
    "duration": 2830,
    "start_time": "2023-02-19T14:20:54.422Z"
   },
   {
    "duration": 3,
    "start_time": "2023-02-19T14:20:57.255Z"
   },
   {
    "duration": 8,
    "start_time": "2023-02-19T14:20:57.259Z"
   },
   {
    "duration": 251025,
    "start_time": "2023-02-19T14:20:57.269Z"
   },
   {
    "duration": 164,
    "start_time": "2023-02-19T14:25:08.296Z"
   },
   {
    "duration": 113,
    "start_time": "2023-02-19T14:25:08.462Z"
   },
   {
    "duration": 4,
    "start_time": "2023-02-19T14:25:08.577Z"
   },
   {
    "duration": 60232,
    "start_time": "2023-02-19T14:25:08.583Z"
   },
   {
    "duration": 3,
    "start_time": "2023-02-19T14:26:08.816Z"
   },
   {
    "duration": 302720,
    "start_time": "2023-02-19T14:26:08.821Z"
   },
   {
    "duration": 323,
    "start_time": "2023-02-19T14:31:11.551Z"
   },
   {
    "duration": 3,
    "start_time": "2023-02-19T14:31:11.877Z"
   },
   {
    "duration": 4372,
    "start_time": "2023-02-19T14:31:11.881Z"
   },
   {
    "duration": 54,
    "start_time": "2023-02-19T14:32:18.376Z"
   },
   {
    "duration": 178,
    "start_time": "2023-02-19T14:32:24.896Z"
   },
   {
    "duration": 59,
    "start_time": "2023-02-19T14:33:04.209Z"
   },
   {
    "duration": 2540,
    "start_time": "2023-02-19T14:33:08.614Z"
   },
   {
    "duration": 2040,
    "start_time": "2023-02-19T14:33:33.553Z"
   },
   {
    "duration": 4,
    "start_time": "2023-02-19T14:33:39.382Z"
   },
   {
    "duration": 11,
    "start_time": "2023-02-19T14:34:51.156Z"
   },
   {
    "duration": 6173,
    "start_time": "2023-02-19T14:34:51.169Z"
   },
   {
    "duration": 1908,
    "start_time": "2023-02-19T14:34:57.344Z"
   },
   {
    "duration": 3,
    "start_time": "2023-02-19T14:34:59.254Z"
   },
   {
    "duration": 39,
    "start_time": "2023-02-19T14:34:59.259Z"
   },
   {
    "duration": 74,
    "start_time": "2023-02-19T14:34:59.300Z"
   },
   {
    "duration": 15,
    "start_time": "2023-02-19T14:34:59.375Z"
   },
   {
    "duration": 79,
    "start_time": "2023-02-19T14:34:59.392Z"
   },
   {
    "duration": 4,
    "start_time": "2023-02-19T14:34:59.473Z"
   },
   {
    "duration": 8,
    "start_time": "2023-02-19T14:34:59.478Z"
   },
   {
    "duration": 16,
    "start_time": "2023-02-19T14:34:59.487Z"
   },
   {
    "duration": 5,
    "start_time": "2023-02-19T14:34:59.505Z"
   },
   {
    "duration": 84,
    "start_time": "2023-02-19T14:34:59.511Z"
   },
   {
    "duration": 101,
    "start_time": "2023-02-19T14:34:59.598Z"
   },
   {
    "duration": 173,
    "start_time": "2023-02-19T14:34:59.701Z"
   },
   {
    "duration": 0,
    "start_time": "2023-02-19T14:34:59.876Z"
   },
   {
    "duration": 0,
    "start_time": "2023-02-19T14:34:59.877Z"
   },
   {
    "duration": 0,
    "start_time": "2023-02-19T14:34:59.879Z"
   },
   {
    "duration": 0,
    "start_time": "2023-02-19T14:34:59.880Z"
   },
   {
    "duration": 0,
    "start_time": "2023-02-19T14:34:59.881Z"
   },
   {
    "duration": 0,
    "start_time": "2023-02-19T14:34:59.882Z"
   },
   {
    "duration": 0,
    "start_time": "2023-02-19T14:34:59.882Z"
   },
   {
    "duration": 1,
    "start_time": "2023-02-19T14:34:59.883Z"
   },
   {
    "duration": 0,
    "start_time": "2023-02-19T14:34:59.885Z"
   },
   {
    "duration": 0,
    "start_time": "2023-02-19T14:34:59.886Z"
   },
   {
    "duration": 0,
    "start_time": "2023-02-19T14:34:59.886Z"
   },
   {
    "duration": 0,
    "start_time": "2023-02-19T14:34:59.887Z"
   },
   {
    "duration": 0,
    "start_time": "2023-02-19T14:34:59.888Z"
   },
   {
    "duration": 0,
    "start_time": "2023-02-19T14:34:59.890Z"
   },
   {
    "duration": 0,
    "start_time": "2023-02-19T14:34:59.890Z"
   },
   {
    "duration": 0,
    "start_time": "2023-02-19T14:34:59.891Z"
   },
   {
    "duration": 0,
    "start_time": "2023-02-19T14:34:59.892Z"
   },
   {
    "duration": 0,
    "start_time": "2023-02-19T14:34:59.892Z"
   },
   {
    "duration": 0,
    "start_time": "2023-02-19T14:34:59.894Z"
   },
   {
    "duration": 0,
    "start_time": "2023-02-19T14:34:59.895Z"
   },
   {
    "duration": 0,
    "start_time": "2023-02-19T14:34:59.898Z"
   },
   {
    "duration": 1,
    "start_time": "2023-02-19T14:34:59.899Z"
   },
   {
    "duration": 0,
    "start_time": "2023-02-19T14:34:59.937Z"
   },
   {
    "duration": 0,
    "start_time": "2023-02-19T14:34:59.938Z"
   },
   {
    "duration": 0,
    "start_time": "2023-02-19T14:34:59.939Z"
   },
   {
    "duration": 0,
    "start_time": "2023-02-19T14:34:59.940Z"
   },
   {
    "duration": 0,
    "start_time": "2023-02-19T14:34:59.941Z"
   },
   {
    "duration": 0,
    "start_time": "2023-02-19T14:34:59.942Z"
   },
   {
    "duration": 0,
    "start_time": "2023-02-19T14:34:59.943Z"
   },
   {
    "duration": 0,
    "start_time": "2023-02-19T14:34:59.944Z"
   },
   {
    "duration": 0,
    "start_time": "2023-02-19T14:34:59.945Z"
   },
   {
    "duration": 0,
    "start_time": "2023-02-19T14:34:59.945Z"
   },
   {
    "duration": 0,
    "start_time": "2023-02-19T14:34:59.946Z"
   },
   {
    "duration": 0,
    "start_time": "2023-02-19T14:34:59.947Z"
   },
   {
    "duration": 0,
    "start_time": "2023-02-19T14:34:59.948Z"
   },
   {
    "duration": 0,
    "start_time": "2023-02-19T14:34:59.949Z"
   },
   {
    "duration": 0,
    "start_time": "2023-02-19T14:34:59.950Z"
   },
   {
    "duration": 0,
    "start_time": "2023-02-19T14:34:59.951Z"
   },
   {
    "duration": 0,
    "start_time": "2023-02-19T14:34:59.952Z"
   },
   {
    "duration": 0,
    "start_time": "2023-02-19T14:34:59.953Z"
   },
   {
    "duration": 0,
    "start_time": "2023-02-19T14:34:59.953Z"
   },
   {
    "duration": 0,
    "start_time": "2023-02-19T14:34:59.955Z"
   },
   {
    "duration": 0,
    "start_time": "2023-02-19T14:34:59.956Z"
   },
   {
    "duration": 0,
    "start_time": "2023-02-19T14:34:59.957Z"
   },
   {
    "duration": 0,
    "start_time": "2023-02-19T14:34:59.958Z"
   },
   {
    "duration": 0,
    "start_time": "2023-02-19T14:35:00.114Z"
   },
   {
    "duration": 0,
    "start_time": "2023-02-19T14:35:00.116Z"
   },
   {
    "duration": 0,
    "start_time": "2023-02-19T14:35:00.117Z"
   },
   {
    "duration": 0,
    "start_time": "2023-02-19T14:35:00.117Z"
   },
   {
    "duration": 0,
    "start_time": "2023-02-19T14:35:00.118Z"
   },
   {
    "duration": 0,
    "start_time": "2023-02-19T14:35:00.136Z"
   },
   {
    "duration": 0,
    "start_time": "2023-02-19T14:35:00.138Z"
   },
   {
    "duration": 0,
    "start_time": "2023-02-19T14:35:00.139Z"
   },
   {
    "duration": 0,
    "start_time": "2023-02-19T14:35:00.140Z"
   },
   {
    "duration": 0,
    "start_time": "2023-02-19T14:35:00.141Z"
   },
   {
    "duration": 0,
    "start_time": "2023-02-19T14:35:00.142Z"
   },
   {
    "duration": 0,
    "start_time": "2023-02-19T14:35:00.143Z"
   },
   {
    "duration": 0,
    "start_time": "2023-02-19T14:35:00.144Z"
   },
   {
    "duration": 0,
    "start_time": "2023-02-19T14:35:00.145Z"
   },
   {
    "duration": 0,
    "start_time": "2023-02-19T14:35:00.146Z"
   },
   {
    "duration": 0,
    "start_time": "2023-02-19T14:35:00.147Z"
   },
   {
    "duration": 0,
    "start_time": "2023-02-19T14:35:00.148Z"
   },
   {
    "duration": 31,
    "start_time": "2023-02-19T14:35:14.314Z"
   },
   {
    "duration": 10,
    "start_time": "2023-02-19T14:35:21.572Z"
   },
   {
    "duration": 7,
    "start_time": "2023-02-19T14:35:27.031Z"
   },
   {
    "duration": 5,
    "start_time": "2023-02-19T14:35:30.534Z"
   },
   {
    "duration": 10,
    "start_time": "2023-02-19T14:36:13.942Z"
   },
   {
    "duration": 5989,
    "start_time": "2023-02-19T14:36:13.959Z"
   },
   {
    "duration": 1779,
    "start_time": "2023-02-19T14:36:19.951Z"
   },
   {
    "duration": 6,
    "start_time": "2023-02-19T14:36:21.731Z"
   },
   {
    "duration": 36,
    "start_time": "2023-02-19T14:36:21.739Z"
   },
   {
    "duration": 73,
    "start_time": "2023-02-19T14:36:21.776Z"
   },
   {
    "duration": 13,
    "start_time": "2023-02-19T14:36:21.850Z"
   },
   {
    "duration": 56,
    "start_time": "2023-02-19T14:36:21.864Z"
   },
   {
    "duration": 17,
    "start_time": "2023-02-19T14:36:21.922Z"
   },
   {
    "duration": 8,
    "start_time": "2023-02-19T14:36:21.940Z"
   },
   {
    "duration": 19,
    "start_time": "2023-02-19T14:36:21.951Z"
   },
   {
    "duration": 5,
    "start_time": "2023-02-19T14:36:21.971Z"
   },
   {
    "duration": 92,
    "start_time": "2023-02-19T14:36:21.978Z"
   },
   {
    "duration": 109,
    "start_time": "2023-02-19T14:36:22.072Z"
   },
   {
    "duration": 203,
    "start_time": "2023-02-19T14:36:22.182Z"
   },
   {
    "duration": 0,
    "start_time": "2023-02-19T14:36:22.389Z"
   },
   {
    "duration": 0,
    "start_time": "2023-02-19T14:36:22.391Z"
   },
   {
    "duration": 0,
    "start_time": "2023-02-19T14:36:22.392Z"
   },
   {
    "duration": 0,
    "start_time": "2023-02-19T14:36:22.393Z"
   },
   {
    "duration": 0,
    "start_time": "2023-02-19T14:36:22.394Z"
   },
   {
    "duration": 0,
    "start_time": "2023-02-19T14:36:22.395Z"
   },
   {
    "duration": 0,
    "start_time": "2023-02-19T14:36:22.396Z"
   },
   {
    "duration": 0,
    "start_time": "2023-02-19T14:36:22.398Z"
   },
   {
    "duration": 0,
    "start_time": "2023-02-19T14:36:22.400Z"
   },
   {
    "duration": 0,
    "start_time": "2023-02-19T14:36:22.401Z"
   },
   {
    "duration": 0,
    "start_time": "2023-02-19T14:36:22.402Z"
   },
   {
    "duration": 0,
    "start_time": "2023-02-19T14:36:22.403Z"
   },
   {
    "duration": 0,
    "start_time": "2023-02-19T14:36:22.405Z"
   },
   {
    "duration": 0,
    "start_time": "2023-02-19T14:36:22.406Z"
   },
   {
    "duration": 0,
    "start_time": "2023-02-19T14:36:22.436Z"
   },
   {
    "duration": 0,
    "start_time": "2023-02-19T14:36:22.438Z"
   },
   {
    "duration": 0,
    "start_time": "2023-02-19T14:36:22.439Z"
   },
   {
    "duration": 0,
    "start_time": "2023-02-19T14:36:22.441Z"
   },
   {
    "duration": 0,
    "start_time": "2023-02-19T14:36:22.442Z"
   },
   {
    "duration": 0,
    "start_time": "2023-02-19T14:36:22.444Z"
   },
   {
    "duration": 0,
    "start_time": "2023-02-19T14:36:22.445Z"
   },
   {
    "duration": 0,
    "start_time": "2023-02-19T14:36:22.447Z"
   },
   {
    "duration": 0,
    "start_time": "2023-02-19T14:36:22.448Z"
   },
   {
    "duration": 0,
    "start_time": "2023-02-19T14:36:22.452Z"
   },
   {
    "duration": 0,
    "start_time": "2023-02-19T14:36:22.453Z"
   },
   {
    "duration": 0,
    "start_time": "2023-02-19T14:36:22.455Z"
   },
   {
    "duration": 0,
    "start_time": "2023-02-19T14:36:22.456Z"
   },
   {
    "duration": 0,
    "start_time": "2023-02-19T14:36:22.458Z"
   },
   {
    "duration": 0,
    "start_time": "2023-02-19T14:36:22.459Z"
   },
   {
    "duration": 0,
    "start_time": "2023-02-19T14:36:22.460Z"
   },
   {
    "duration": 0,
    "start_time": "2023-02-19T14:36:22.461Z"
   },
   {
    "duration": 0,
    "start_time": "2023-02-19T14:36:22.463Z"
   },
   {
    "duration": 0,
    "start_time": "2023-02-19T14:36:22.464Z"
   },
   {
    "duration": 0,
    "start_time": "2023-02-19T14:36:22.466Z"
   },
   {
    "duration": 0,
    "start_time": "2023-02-19T14:36:22.467Z"
   },
   {
    "duration": 0,
    "start_time": "2023-02-19T14:36:22.468Z"
   },
   {
    "duration": 0,
    "start_time": "2023-02-19T14:36:22.469Z"
   },
   {
    "duration": 0,
    "start_time": "2023-02-19T14:36:22.471Z"
   },
   {
    "duration": 0,
    "start_time": "2023-02-19T14:36:22.472Z"
   },
   {
    "duration": 0,
    "start_time": "2023-02-19T14:36:22.474Z"
   },
   {
    "duration": 0,
    "start_time": "2023-02-19T14:36:22.475Z"
   },
   {
    "duration": 0,
    "start_time": "2023-02-19T14:36:22.538Z"
   },
   {
    "duration": 0,
    "start_time": "2023-02-19T14:36:22.539Z"
   },
   {
    "duration": 0,
    "start_time": "2023-02-19T14:36:22.541Z"
   },
   {
    "duration": 0,
    "start_time": "2023-02-19T14:36:22.542Z"
   },
   {
    "duration": 0,
    "start_time": "2023-02-19T14:36:22.543Z"
   },
   {
    "duration": 0,
    "start_time": "2023-02-19T14:36:22.544Z"
   },
   {
    "duration": 0,
    "start_time": "2023-02-19T14:36:22.545Z"
   },
   {
    "duration": 0,
    "start_time": "2023-02-19T14:36:22.709Z"
   },
   {
    "duration": 0,
    "start_time": "2023-02-19T14:36:22.711Z"
   },
   {
    "duration": 0,
    "start_time": "2023-02-19T14:36:22.712Z"
   },
   {
    "duration": 1,
    "start_time": "2023-02-19T14:36:22.713Z"
   },
   {
    "duration": 0,
    "start_time": "2023-02-19T14:36:22.715Z"
   },
   {
    "duration": 0,
    "start_time": "2023-02-19T14:36:22.738Z"
   },
   {
    "duration": 0,
    "start_time": "2023-02-19T14:36:22.740Z"
   },
   {
    "duration": 0,
    "start_time": "2023-02-19T14:36:22.741Z"
   },
   {
    "duration": 0,
    "start_time": "2023-02-19T14:36:22.742Z"
   },
   {
    "duration": 0,
    "start_time": "2023-02-19T14:36:22.744Z"
   },
   {
    "duration": 0,
    "start_time": "2023-02-19T14:36:22.746Z"
   },
   {
    "duration": 0,
    "start_time": "2023-02-19T14:36:22.747Z"
   },
   {
    "duration": 0,
    "start_time": "2023-02-19T14:36:22.749Z"
   },
   {
    "duration": 89,
    "start_time": "2023-02-19T14:47:09.203Z"
   },
   {
    "duration": 18,
    "start_time": "2023-02-19T14:47:28.998Z"
   },
   {
    "duration": 6,
    "start_time": "2023-02-19T14:47:46.808Z"
   },
   {
    "duration": 6,
    "start_time": "2023-02-19T14:47:51.192Z"
   },
   {
    "duration": 373,
    "start_time": "2023-02-19T14:47:56.713Z"
   },
   {
    "duration": 7,
    "start_time": "2023-02-19T14:48:08.921Z"
   },
   {
    "duration": 9,
    "start_time": "2023-02-19T14:48:12.543Z"
   },
   {
    "duration": 6,
    "start_time": "2023-02-19T14:48:16.022Z"
   },
   {
    "duration": 8,
    "start_time": "2023-02-19T14:48:23.193Z"
   },
   {
    "duration": 10,
    "start_time": "2023-02-19T14:48:32.548Z"
   },
   {
    "duration": 5848,
    "start_time": "2023-02-19T14:48:32.573Z"
   },
   {
    "duration": 1792,
    "start_time": "2023-02-19T14:48:38.423Z"
   },
   {
    "duration": 4,
    "start_time": "2023-02-19T14:48:40.216Z"
   },
   {
    "duration": 45,
    "start_time": "2023-02-19T14:48:40.223Z"
   },
   {
    "duration": 73,
    "start_time": "2023-02-19T14:48:40.270Z"
   },
   {
    "duration": 16,
    "start_time": "2023-02-19T14:48:40.345Z"
   },
   {
    "duration": 52,
    "start_time": "2023-02-19T14:48:40.363Z"
   },
   {
    "duration": 22,
    "start_time": "2023-02-19T14:48:40.417Z"
   },
   {
    "duration": 6,
    "start_time": "2023-02-19T14:48:40.441Z"
   },
   {
    "duration": 15,
    "start_time": "2023-02-19T14:48:40.450Z"
   },
   {
    "duration": 6,
    "start_time": "2023-02-19T14:48:40.466Z"
   },
   {
    "duration": 78,
    "start_time": "2023-02-19T14:48:40.473Z"
   },
   {
    "duration": 103,
    "start_time": "2023-02-19T14:48:40.553Z"
   },
   {
    "duration": 5,
    "start_time": "2023-02-19T14:48:40.658Z"
   },
   {
    "duration": 11712,
    "start_time": "2023-02-19T14:48:40.665Z"
   },
   {
    "duration": 8,
    "start_time": "2023-02-19T14:48:52.379Z"
   },
   {
    "duration": 7,
    "start_time": "2023-02-19T14:48:52.389Z"
   },
   {
    "duration": 53,
    "start_time": "2023-02-19T14:48:52.398Z"
   },
   {
    "duration": 16,
    "start_time": "2023-02-19T14:48:52.453Z"
   },
   {
    "duration": 7,
    "start_time": "2023-02-19T14:48:52.471Z"
   },
   {
    "duration": 16,
    "start_time": "2023-02-19T14:48:52.480Z"
   },
   {
    "duration": 50,
    "start_time": "2023-02-19T14:48:52.497Z"
   },
   {
    "duration": 17,
    "start_time": "2023-02-19T14:48:52.550Z"
   },
   {
    "duration": 7,
    "start_time": "2023-02-19T14:48:52.569Z"
   },
   {
    "duration": 7,
    "start_time": "2023-02-19T14:48:52.578Z"
   },
   {
    "duration": 113,
    "start_time": "2023-02-19T14:48:52.587Z"
   },
   {
    "duration": 5,
    "start_time": "2023-02-19T14:48:52.702Z"
   },
   {
    "duration": 2359,
    "start_time": "2023-02-19T14:48:52.711Z"
   },
   {
    "duration": 5,
    "start_time": "2023-02-19T14:48:55.072Z"
   },
   {
    "duration": 6,
    "start_time": "2023-02-19T14:48:55.079Z"
   },
   {
    "duration": 7,
    "start_time": "2023-02-19T14:48:55.087Z"
   },
   {
    "duration": 8,
    "start_time": "2023-02-19T14:48:55.096Z"
   },
   {
    "duration": 8,
    "start_time": "2023-02-19T14:48:55.105Z"
   },
   {
    "duration": 5,
    "start_time": "2023-02-19T14:48:55.136Z"
   },
   {
    "duration": 5,
    "start_time": "2023-02-19T14:48:55.143Z"
   },
   {
    "duration": 7,
    "start_time": "2023-02-19T14:48:55.150Z"
   },
   {
    "duration": 820,
    "start_time": "2023-02-19T14:48:55.159Z"
   },
   {
    "duration": 26,
    "start_time": "2023-02-19T14:48:55.981Z"
   },
   {
    "duration": 850,
    "start_time": "2023-02-19T14:48:56.009Z"
   },
   {
    "duration": 0,
    "start_time": "2023-02-19T14:48:56.860Z"
   },
   {
    "duration": 0,
    "start_time": "2023-02-19T14:48:56.861Z"
   },
   {
    "duration": 0,
    "start_time": "2023-02-19T14:48:56.862Z"
   },
   {
    "duration": 0,
    "start_time": "2023-02-19T14:48:56.863Z"
   },
   {
    "duration": 0,
    "start_time": "2023-02-19T14:48:56.864Z"
   },
   {
    "duration": 0,
    "start_time": "2023-02-19T14:48:56.866Z"
   },
   {
    "duration": 0,
    "start_time": "2023-02-19T14:48:56.866Z"
   },
   {
    "duration": 0,
    "start_time": "2023-02-19T14:48:56.868Z"
   },
   {
    "duration": 0,
    "start_time": "2023-02-19T14:48:56.869Z"
   },
   {
    "duration": 0,
    "start_time": "2023-02-19T14:48:56.869Z"
   },
   {
    "duration": 0,
    "start_time": "2023-02-19T14:48:56.871Z"
   },
   {
    "duration": 0,
    "start_time": "2023-02-19T14:48:56.872Z"
   },
   {
    "duration": 0,
    "start_time": "2023-02-19T14:48:56.872Z"
   },
   {
    "duration": 0,
    "start_time": "2023-02-19T14:48:56.873Z"
   },
   {
    "duration": 0,
    "start_time": "2023-02-19T14:48:56.874Z"
   },
   {
    "duration": 0,
    "start_time": "2023-02-19T14:48:56.875Z"
   },
   {
    "duration": 0,
    "start_time": "2023-02-19T14:48:56.876Z"
   },
   {
    "duration": 0,
    "start_time": "2023-02-19T14:48:56.877Z"
   },
   {
    "duration": 0,
    "start_time": "2023-02-19T14:48:56.878Z"
   },
   {
    "duration": 0,
    "start_time": "2023-02-19T14:48:56.879Z"
   },
   {
    "duration": 0,
    "start_time": "2023-02-19T14:48:56.880Z"
   },
   {
    "duration": 0,
    "start_time": "2023-02-19T14:48:56.881Z"
   },
   {
    "duration": 0,
    "start_time": "2023-02-19T14:48:56.882Z"
   },
   {
    "duration": 0,
    "start_time": "2023-02-19T14:48:56.883Z"
   },
   {
    "duration": 0,
    "start_time": "2023-02-19T14:48:56.884Z"
   },
   {
    "duration": 0,
    "start_time": "2023-02-19T14:48:56.885Z"
   },
   {
    "duration": 0,
    "start_time": "2023-02-19T14:48:56.886Z"
   },
   {
    "duration": 0,
    "start_time": "2023-02-19T14:48:56.887Z"
   },
   {
    "duration": 0,
    "start_time": "2023-02-19T14:48:56.888Z"
   },
   {
    "duration": 0,
    "start_time": "2023-02-19T14:48:56.938Z"
   },
   {
    "duration": 0,
    "start_time": "2023-02-19T14:48:56.939Z"
   },
   {
    "duration": 0,
    "start_time": "2023-02-19T14:48:56.940Z"
   },
   {
    "duration": 0,
    "start_time": "2023-02-19T14:48:56.941Z"
   },
   {
    "duration": 0,
    "start_time": "2023-02-19T14:48:56.942Z"
   },
   {
    "duration": 0,
    "start_time": "2023-02-19T14:48:56.943Z"
   },
   {
    "duration": 0,
    "start_time": "2023-02-19T14:48:56.944Z"
   },
   {
    "duration": 9,
    "start_time": "2023-02-19T14:56:51.704Z"
   },
   {
    "duration": 5973,
    "start_time": "2023-02-19T14:56:51.715Z"
   },
   {
    "duration": 1715,
    "start_time": "2023-02-19T14:56:57.690Z"
   },
   {
    "duration": 3,
    "start_time": "2023-02-19T14:56:59.407Z"
   },
   {
    "duration": 36,
    "start_time": "2023-02-19T14:56:59.411Z"
   },
   {
    "duration": 71,
    "start_time": "2023-02-19T14:56:59.449Z"
   },
   {
    "duration": 28,
    "start_time": "2023-02-19T14:56:59.522Z"
   },
   {
    "duration": 64,
    "start_time": "2023-02-19T14:56:59.552Z"
   },
   {
    "duration": 5,
    "start_time": "2023-02-19T14:56:59.636Z"
   },
   {
    "duration": 8,
    "start_time": "2023-02-19T14:56:59.643Z"
   },
   {
    "duration": 20,
    "start_time": "2023-02-19T14:56:59.654Z"
   },
   {
    "duration": 5,
    "start_time": "2023-02-19T14:56:59.675Z"
   },
   {
    "duration": 84,
    "start_time": "2023-02-19T14:56:59.683Z"
   },
   {
    "duration": 103,
    "start_time": "2023-02-19T14:56:59.769Z"
   },
   {
    "duration": 8,
    "start_time": "2023-02-19T14:56:59.874Z"
   },
   {
    "duration": 11685,
    "start_time": "2023-02-19T14:56:59.884Z"
   },
   {
    "duration": 7,
    "start_time": "2023-02-19T14:57:11.571Z"
   },
   {
    "duration": 8,
    "start_time": "2023-02-19T14:57:11.580Z"
   },
   {
    "duration": 12,
    "start_time": "2023-02-19T14:57:11.590Z"
   },
   {
    "duration": 45,
    "start_time": "2023-02-19T14:57:11.603Z"
   },
   {
    "duration": 6,
    "start_time": "2023-02-19T14:57:11.650Z"
   },
   {
    "duration": 10,
    "start_time": "2023-02-19T14:57:11.657Z"
   },
   {
    "duration": 11,
    "start_time": "2023-02-19T14:57:11.668Z"
   },
   {
    "duration": 14,
    "start_time": "2023-02-19T14:57:11.681Z"
   },
   {
    "duration": 5,
    "start_time": "2023-02-19T14:57:11.697Z"
   },
   {
    "duration": 4,
    "start_time": "2023-02-19T14:57:11.737Z"
   },
   {
    "duration": 97,
    "start_time": "2023-02-19T14:57:11.742Z"
   },
   {
    "duration": 5,
    "start_time": "2023-02-19T14:57:11.841Z"
   },
   {
    "duration": 2964,
    "start_time": "2023-02-19T14:57:11.849Z"
   },
   {
    "duration": 3,
    "start_time": "2023-02-19T14:57:14.815Z"
   },
   {
    "duration": 18,
    "start_time": "2023-02-19T14:57:14.820Z"
   },
   {
    "duration": 5,
    "start_time": "2023-02-19T14:57:14.839Z"
   },
   {
    "duration": 12,
    "start_time": "2023-02-19T14:57:14.845Z"
   },
   {
    "duration": 13,
    "start_time": "2023-02-19T14:57:14.859Z"
   },
   {
    "duration": 9,
    "start_time": "2023-02-19T14:57:14.874Z"
   },
   {
    "duration": 8,
    "start_time": "2023-02-19T14:57:14.885Z"
   },
   {
    "duration": 9,
    "start_time": "2023-02-19T14:57:14.895Z"
   },
   {
    "duration": 833,
    "start_time": "2023-02-19T14:57:14.907Z"
   },
   {
    "duration": 24,
    "start_time": "2023-02-19T14:57:15.741Z"
   },
   {
    "duration": 888,
    "start_time": "2023-02-19T14:57:15.767Z"
   },
   {
    "duration": 0,
    "start_time": "2023-02-19T14:57:16.657Z"
   },
   {
    "duration": 0,
    "start_time": "2023-02-19T14:57:16.658Z"
   },
   {
    "duration": 0,
    "start_time": "2023-02-19T14:57:16.660Z"
   },
   {
    "duration": 0,
    "start_time": "2023-02-19T14:57:16.661Z"
   },
   {
    "duration": 0,
    "start_time": "2023-02-19T14:57:16.662Z"
   },
   {
    "duration": 0,
    "start_time": "2023-02-19T14:57:16.664Z"
   },
   {
    "duration": 0,
    "start_time": "2023-02-19T14:57:16.665Z"
   },
   {
    "duration": 0,
    "start_time": "2023-02-19T14:57:16.666Z"
   },
   {
    "duration": 0,
    "start_time": "2023-02-19T14:57:16.668Z"
   },
   {
    "duration": 0,
    "start_time": "2023-02-19T14:57:16.670Z"
   },
   {
    "duration": 0,
    "start_time": "2023-02-19T14:57:16.671Z"
   },
   {
    "duration": 0,
    "start_time": "2023-02-19T14:57:16.672Z"
   },
   {
    "duration": 0,
    "start_time": "2023-02-19T14:57:16.674Z"
   },
   {
    "duration": 0,
    "start_time": "2023-02-19T14:57:16.675Z"
   },
   {
    "duration": 0,
    "start_time": "2023-02-19T14:57:16.676Z"
   },
   {
    "duration": 0,
    "start_time": "2023-02-19T14:57:16.678Z"
   },
   {
    "duration": 0,
    "start_time": "2023-02-19T14:57:16.679Z"
   },
   {
    "duration": 0,
    "start_time": "2023-02-19T14:57:16.681Z"
   },
   {
    "duration": 0,
    "start_time": "2023-02-19T14:57:16.682Z"
   },
   {
    "duration": 0,
    "start_time": "2023-02-19T14:57:16.684Z"
   },
   {
    "duration": 0,
    "start_time": "2023-02-19T14:57:16.685Z"
   },
   {
    "duration": 0,
    "start_time": "2023-02-19T14:57:16.686Z"
   },
   {
    "duration": 0,
    "start_time": "2023-02-19T14:57:16.688Z"
   },
   {
    "duration": 0,
    "start_time": "2023-02-19T14:57:16.737Z"
   },
   {
    "duration": 0,
    "start_time": "2023-02-19T14:57:16.739Z"
   },
   {
    "duration": 0,
    "start_time": "2023-02-19T14:57:16.741Z"
   },
   {
    "duration": 0,
    "start_time": "2023-02-19T14:57:16.742Z"
   },
   {
    "duration": 0,
    "start_time": "2023-02-19T14:57:16.743Z"
   },
   {
    "duration": 0,
    "start_time": "2023-02-19T14:57:16.745Z"
   },
   {
    "duration": 0,
    "start_time": "2023-02-19T14:57:16.746Z"
   },
   {
    "duration": 0,
    "start_time": "2023-02-19T14:57:16.748Z"
   },
   {
    "duration": 0,
    "start_time": "2023-02-19T14:57:16.749Z"
   },
   {
    "duration": 0,
    "start_time": "2023-02-19T14:57:16.750Z"
   },
   {
    "duration": 0,
    "start_time": "2023-02-19T14:57:16.751Z"
   },
   {
    "duration": 0,
    "start_time": "2023-02-19T14:57:16.752Z"
   },
   {
    "duration": 0,
    "start_time": "2023-02-19T14:57:16.752Z"
   },
   {
    "duration": 10,
    "start_time": "2023-02-19T15:02:23.766Z"
   },
   {
    "duration": 6069,
    "start_time": "2023-02-19T15:02:23.785Z"
   },
   {
    "duration": 1857,
    "start_time": "2023-02-19T15:02:29.856Z"
   },
   {
    "duration": 3,
    "start_time": "2023-02-19T15:02:31.714Z"
   },
   {
    "duration": 41,
    "start_time": "2023-02-19T15:02:31.719Z"
   },
   {
    "duration": 69,
    "start_time": "2023-02-19T15:02:31.762Z"
   },
   {
    "duration": 14,
    "start_time": "2023-02-19T15:02:31.832Z"
   },
   {
    "duration": 52,
    "start_time": "2023-02-19T15:02:31.848Z"
   },
   {
    "duration": 4,
    "start_time": "2023-02-19T15:02:31.902Z"
   },
   {
    "duration": 5,
    "start_time": "2023-02-19T15:02:31.937Z"
   },
   {
    "duration": 18,
    "start_time": "2023-02-19T15:02:31.944Z"
   },
   {
    "duration": 5,
    "start_time": "2023-02-19T15:02:31.964Z"
   },
   {
    "duration": 86,
    "start_time": "2023-02-19T15:02:31.970Z"
   },
   {
    "duration": 107,
    "start_time": "2023-02-19T15:02:32.057Z"
   },
   {
    "duration": 6,
    "start_time": "2023-02-19T15:02:32.166Z"
   },
   {
    "duration": 12131,
    "start_time": "2023-02-19T15:02:32.174Z"
   },
   {
    "duration": 8,
    "start_time": "2023-02-19T15:02:44.307Z"
   },
   {
    "duration": 21,
    "start_time": "2023-02-19T15:02:44.317Z"
   },
   {
    "duration": 13,
    "start_time": "2023-02-19T15:02:44.340Z"
   },
   {
    "duration": 16,
    "start_time": "2023-02-19T15:02:44.355Z"
   },
   {
    "duration": 5,
    "start_time": "2023-02-19T15:02:44.373Z"
   },
   {
    "duration": 59,
    "start_time": "2023-02-19T15:02:44.380Z"
   },
   {
    "duration": 9,
    "start_time": "2023-02-19T15:02:44.440Z"
   },
   {
    "duration": 15,
    "start_time": "2023-02-19T15:02:44.450Z"
   },
   {
    "duration": 21,
    "start_time": "2023-02-19T15:02:44.467Z"
   },
   {
    "duration": 11,
    "start_time": "2023-02-19T15:02:44.489Z"
   },
   {
    "duration": 343,
    "start_time": "2023-02-19T15:02:44.502Z"
   },
   {
    "duration": 5,
    "start_time": "2023-02-19T15:02:44.847Z"
   },
   {
    "duration": 2560,
    "start_time": "2023-02-19T15:02:44.856Z"
   },
   {
    "duration": 4,
    "start_time": "2023-02-19T15:02:47.418Z"
   },
   {
    "duration": 17,
    "start_time": "2023-02-19T15:02:47.424Z"
   },
   {
    "duration": 8,
    "start_time": "2023-02-19T15:02:47.443Z"
   },
   {
    "duration": 8,
    "start_time": "2023-02-19T15:02:47.453Z"
   },
   {
    "duration": 8,
    "start_time": "2023-02-19T15:02:47.463Z"
   },
   {
    "duration": 7,
    "start_time": "2023-02-19T15:02:47.472Z"
   },
   {
    "duration": 7,
    "start_time": "2023-02-19T15:02:47.480Z"
   },
   {
    "duration": 8,
    "start_time": "2023-02-19T15:02:47.488Z"
   },
   {
    "duration": 877,
    "start_time": "2023-02-19T15:02:47.497Z"
   },
   {
    "duration": 25,
    "start_time": "2023-02-19T15:02:48.377Z"
   },
   {
    "duration": 1807,
    "start_time": "2023-02-19T15:02:48.404Z"
   },
   {
    "duration": 7,
    "start_time": "2023-02-19T15:02:50.214Z"
   },
   {
    "duration": 6,
    "start_time": "2023-02-19T15:02:50.236Z"
   },
   {
    "duration": 9,
    "start_time": "2023-02-19T15:02:50.243Z"
   },
   {
    "duration": 15,
    "start_time": "2023-02-19T15:02:50.253Z"
   },
   {
    "duration": 1241,
    "start_time": "2023-02-19T15:02:50.269Z"
   },
   {
    "duration": 45,
    "start_time": "2023-02-19T15:02:51.511Z"
   },
   {
    "duration": 4566,
    "start_time": "2023-02-19T15:02:51.558Z"
   },
   {
    "duration": 61,
    "start_time": "2023-02-19T15:02:56.126Z"
   },
   {
    "duration": 2106,
    "start_time": "2023-02-19T15:02:56.189Z"
   },
   {
    "duration": 13,
    "start_time": "2023-02-19T15:02:58.297Z"
   },
   {
    "duration": 6896,
    "start_time": "2023-02-19T15:02:58.312Z"
   },
   {
    "duration": 10,
    "start_time": "2023-02-19T15:03:05.210Z"
   },
   {
    "duration": 7,
    "start_time": "2023-02-19T15:03:05.222Z"
   },
   {
    "duration": 9,
    "start_time": "2023-02-19T15:03:05.231Z"
   },
   {
    "duration": 10,
    "start_time": "2023-02-19T15:03:05.242Z"
   },
   {
    "duration": 9,
    "start_time": "2023-02-19T15:03:05.254Z"
   },
   {
    "duration": 6,
    "start_time": "2023-02-19T15:03:05.265Z"
   },
   {
    "duration": 34911,
    "start_time": "2023-02-19T15:03:05.272Z"
   },
   {
    "duration": 41058,
    "start_time": "2023-02-19T15:03:40.184Z"
   },
   {
    "duration": 92,
    "start_time": "2023-02-19T15:04:21.245Z"
   },
   {
    "duration": 87044,
    "start_time": "2023-02-19T15:04:21.339Z"
   },
   {
    "duration": 136012,
    "start_time": "2023-02-19T15:05:48.384Z"
   },
   {
    "duration": 3,
    "start_time": "2023-02-19T15:08:04.398Z"
   },
   {
    "duration": 2880,
    "start_time": "2023-02-19T15:08:04.403Z"
   },
   {
    "duration": 3,
    "start_time": "2023-02-19T15:08:07.285Z"
   },
   {
    "duration": 8,
    "start_time": "2023-02-19T15:08:07.291Z"
   },
   {
    "duration": 220210,
    "start_time": "2023-02-19T15:08:07.301Z"
   },
   {
    "duration": 141,
    "start_time": "2023-02-19T15:11:47.514Z"
   },
   {
    "duration": 61,
    "start_time": "2023-02-19T15:11:47.657Z"
   },
   {
    "duration": 8,
    "start_time": "2023-02-19T15:11:47.720Z"
   },
   {
    "duration": 53322,
    "start_time": "2023-02-19T15:11:47.729Z"
   },
   {
    "duration": 3,
    "start_time": "2023-02-19T15:12:41.053Z"
   },
   {
    "duration": 294490,
    "start_time": "2023-02-19T15:12:41.058Z"
   },
   {
    "duration": 412,
    "start_time": "2023-02-19T15:17:35.550Z"
   },
   {
    "duration": 5,
    "start_time": "2023-02-19T15:17:35.964Z"
   },
   {
    "duration": 4190,
    "start_time": "2023-02-19T15:17:35.971Z"
   },
   {
    "duration": 5,
    "start_time": "2023-02-19T15:17:40.165Z"
   },
   {
    "duration": 8,
    "start_time": "2023-02-19T15:18:52.825Z"
   },
   {
    "duration": 6185,
    "start_time": "2023-02-19T15:18:52.843Z"
   },
   {
    "duration": 1828,
    "start_time": "2023-02-19T15:18:59.030Z"
   },
   {
    "duration": 4,
    "start_time": "2023-02-19T15:19:00.859Z"
   },
   {
    "duration": 60,
    "start_time": "2023-02-19T15:19:00.864Z"
   },
   {
    "duration": 72,
    "start_time": "2023-02-19T15:19:00.925Z"
   },
   {
    "duration": 14,
    "start_time": "2023-02-19T15:19:00.998Z"
   },
   {
    "duration": 82,
    "start_time": "2023-02-19T15:19:01.013Z"
   },
   {
    "duration": 4,
    "start_time": "2023-02-19T15:19:01.096Z"
   },
   {
    "duration": 34,
    "start_time": "2023-02-19T15:19:01.102Z"
   },
   {
    "duration": 42,
    "start_time": "2023-02-19T15:19:01.142Z"
   },
   {
    "duration": 24,
    "start_time": "2023-02-19T15:19:01.185Z"
   },
   {
    "duration": 92,
    "start_time": "2023-02-19T15:19:01.211Z"
   },
   {
    "duration": 96,
    "start_time": "2023-02-19T15:19:01.305Z"
   },
   {
    "duration": 6,
    "start_time": "2023-02-19T15:19:01.403Z"
   },
   {
    "duration": 12692,
    "start_time": "2023-02-19T15:19:01.410Z"
   },
   {
    "duration": 8,
    "start_time": "2023-02-19T15:19:14.104Z"
   },
   {
    "duration": 9,
    "start_time": "2023-02-19T15:19:14.113Z"
   },
   {
    "duration": 16,
    "start_time": "2023-02-19T15:19:14.145Z"
   },
   {
    "duration": 15,
    "start_time": "2023-02-19T15:19:14.163Z"
   },
   {
    "duration": 7,
    "start_time": "2023-02-19T15:19:14.179Z"
   },
   {
    "duration": 50,
    "start_time": "2023-02-19T15:19:14.188Z"
   },
   {
    "duration": 13,
    "start_time": "2023-02-19T15:19:14.241Z"
   },
   {
    "duration": 10,
    "start_time": "2023-02-19T15:19:14.256Z"
   },
   {
    "duration": 5,
    "start_time": "2023-02-19T15:19:14.268Z"
   },
   {
    "duration": 6,
    "start_time": "2023-02-19T15:19:14.275Z"
   },
   {
    "duration": 104,
    "start_time": "2023-02-19T15:19:14.282Z"
   },
   {
    "duration": 6,
    "start_time": "2023-02-19T15:19:14.389Z"
   },
   {
    "duration": 2813,
    "start_time": "2023-02-19T15:19:14.400Z"
   },
   {
    "duration": 4,
    "start_time": "2023-02-19T15:19:17.215Z"
   },
   {
    "duration": 18,
    "start_time": "2023-02-19T15:19:17.220Z"
   },
   {
    "duration": 7,
    "start_time": "2023-02-19T15:19:17.252Z"
   },
   {
    "duration": 8,
    "start_time": "2023-02-19T15:19:17.260Z"
   },
   {
    "duration": 6,
    "start_time": "2023-02-19T15:19:17.270Z"
   },
   {
    "duration": 6,
    "start_time": "2023-02-19T15:19:17.277Z"
   },
   {
    "duration": 11,
    "start_time": "2023-02-19T15:19:17.284Z"
   },
   {
    "duration": 10,
    "start_time": "2023-02-19T15:19:17.296Z"
   },
   {
    "duration": 880,
    "start_time": "2023-02-19T15:19:17.308Z"
   },
   {
    "duration": 23,
    "start_time": "2023-02-19T15:19:18.190Z"
   },
   {
    "duration": 1789,
    "start_time": "2023-02-19T15:19:18.215Z"
   },
   {
    "duration": 7,
    "start_time": "2023-02-19T15:19:20.006Z"
   },
   {
    "duration": 19,
    "start_time": "2023-02-19T15:19:20.014Z"
   },
   {
    "duration": 19,
    "start_time": "2023-02-19T15:19:20.037Z"
   },
   {
    "duration": 314,
    "start_time": "2023-02-19T15:19:20.058Z"
   },
   {
    "duration": 1427,
    "start_time": "2023-02-19T15:19:20.373Z"
   },
   {
    "duration": 49,
    "start_time": "2023-02-19T15:19:21.801Z"
   },
   {
    "duration": 5206,
    "start_time": "2023-02-19T15:19:21.852Z"
   },
   {
    "duration": 42,
    "start_time": "2023-02-19T15:19:27.060Z"
   },
   {
    "duration": 2234,
    "start_time": "2023-02-19T15:19:27.103Z"
   },
   {
    "duration": 15,
    "start_time": "2023-02-19T15:19:29.338Z"
   },
   {
    "duration": 7147,
    "start_time": "2023-02-19T15:19:29.355Z"
   },
   {
    "duration": 11,
    "start_time": "2023-02-19T15:19:36.503Z"
   },
   {
    "duration": 5,
    "start_time": "2023-02-19T15:19:36.515Z"
   },
   {
    "duration": 6,
    "start_time": "2023-02-19T15:19:36.522Z"
   },
   {
    "duration": 15,
    "start_time": "2023-02-19T15:19:36.530Z"
   },
   {
    "duration": 9,
    "start_time": "2023-02-19T15:19:36.548Z"
   },
   {
    "duration": 5,
    "start_time": "2023-02-19T15:19:36.559Z"
   },
   {
    "duration": 74282,
    "start_time": "2023-02-19T15:19:36.565Z"
   },
   {
    "duration": 86276,
    "start_time": "2023-02-19T15:20:50.848Z"
   },
   {
    "duration": 12,
    "start_time": "2023-02-19T15:22:17.126Z"
   },
   {
    "duration": 95008,
    "start_time": "2023-02-19T15:22:17.144Z"
   },
   {
    "duration": 153959,
    "start_time": "2023-02-19T15:23:52.154Z"
   },
   {
    "duration": 3,
    "start_time": "2023-02-19T15:26:26.115Z"
   },
   {
    "duration": 2795,
    "start_time": "2023-02-19T15:26:26.119Z"
   },
   {
    "duration": 3,
    "start_time": "2023-02-19T15:26:28.916Z"
   },
   {
    "duration": 17,
    "start_time": "2023-02-19T15:26:28.920Z"
   },
   {
    "duration": 245242,
    "start_time": "2023-02-19T15:26:28.949Z"
   },
   {
    "duration": 150,
    "start_time": "2023-02-19T15:30:34.193Z"
   },
   {
    "duration": 66,
    "start_time": "2023-02-19T15:30:34.345Z"
   },
   {
    "duration": 4,
    "start_time": "2023-02-19T15:30:34.412Z"
   },
   {
    "duration": 55163,
    "start_time": "2023-02-19T15:30:34.417Z"
   },
   {
    "duration": 3,
    "start_time": "2023-02-19T15:31:29.582Z"
   },
   {
    "duration": 310268,
    "start_time": "2023-02-19T15:31:29.587Z"
   },
   {
    "duration": 308,
    "start_time": "2023-02-19T15:36:39.936Z"
   },
   {
    "duration": 3,
    "start_time": "2023-02-19T15:36:40.246Z"
   },
   {
    "duration": 4060,
    "start_time": "2023-02-19T15:36:40.251Z"
   },
   {
    "duration": 3,
    "start_time": "2023-02-19T15:36:44.313Z"
   },
   {
    "duration": 9,
    "start_time": "2023-02-19T15:38:21.794Z"
   },
   {
    "duration": 5997,
    "start_time": "2023-02-19T15:38:21.821Z"
   },
   {
    "duration": 1791,
    "start_time": "2023-02-19T15:38:27.820Z"
   },
   {
    "duration": 4,
    "start_time": "2023-02-19T15:38:29.613Z"
   },
   {
    "duration": 36,
    "start_time": "2023-02-19T15:38:29.619Z"
   },
   {
    "duration": 72,
    "start_time": "2023-02-19T15:38:29.657Z"
   },
   {
    "duration": 18,
    "start_time": "2023-02-19T15:38:29.731Z"
   },
   {
    "duration": 56,
    "start_time": "2023-02-19T15:38:29.750Z"
   },
   {
    "duration": 4,
    "start_time": "2023-02-19T15:38:29.807Z"
   },
   {
    "duration": 25,
    "start_time": "2023-02-19T15:38:29.813Z"
   },
   {
    "duration": 18,
    "start_time": "2023-02-19T15:38:29.841Z"
   },
   {
    "duration": 5,
    "start_time": "2023-02-19T15:38:29.860Z"
   },
   {
    "duration": 83,
    "start_time": "2023-02-19T15:38:29.866Z"
   },
   {
    "duration": 93,
    "start_time": "2023-02-19T15:38:29.951Z"
   },
   {
    "duration": 6,
    "start_time": "2023-02-19T15:38:30.045Z"
   },
   {
    "duration": 11794,
    "start_time": "2023-02-19T15:38:30.052Z"
   },
   {
    "duration": 9,
    "start_time": "2023-02-19T15:38:41.847Z"
   },
   {
    "duration": 9,
    "start_time": "2023-02-19T15:38:41.857Z"
   },
   {
    "duration": 13,
    "start_time": "2023-02-19T15:38:41.868Z"
   },
   {
    "duration": 64,
    "start_time": "2023-02-19T15:38:41.883Z"
   },
   {
    "duration": 7,
    "start_time": "2023-02-19T15:38:41.949Z"
   },
   {
    "duration": 11,
    "start_time": "2023-02-19T15:38:41.957Z"
   },
   {
    "duration": 10,
    "start_time": "2023-02-19T15:38:41.969Z"
   },
   {
    "duration": 9,
    "start_time": "2023-02-19T15:38:41.981Z"
   },
   {
    "duration": 5,
    "start_time": "2023-02-19T15:38:41.992Z"
   },
   {
    "duration": 3,
    "start_time": "2023-02-19T15:38:42.038Z"
   },
   {
    "duration": 99,
    "start_time": "2023-02-19T15:38:42.043Z"
   },
   {
    "duration": 6,
    "start_time": "2023-02-19T15:38:42.143Z"
   },
   {
    "duration": 2746,
    "start_time": "2023-02-19T15:38:42.152Z"
   },
   {
    "duration": 4,
    "start_time": "2023-02-19T15:38:44.900Z"
   },
   {
    "duration": 16,
    "start_time": "2023-02-19T15:38:44.905Z"
   },
   {
    "duration": 8,
    "start_time": "2023-02-19T15:38:44.922Z"
   },
   {
    "duration": 13,
    "start_time": "2023-02-19T15:38:44.931Z"
   },
   {
    "duration": 5,
    "start_time": "2023-02-19T15:38:44.946Z"
   },
   {
    "duration": 6,
    "start_time": "2023-02-19T15:38:44.953Z"
   },
   {
    "duration": 6,
    "start_time": "2023-02-19T15:38:44.961Z"
   },
   {
    "duration": 6,
    "start_time": "2023-02-19T15:38:44.969Z"
   },
   {
    "duration": 862,
    "start_time": "2023-02-19T15:38:44.976Z"
   },
   {
    "duration": 24,
    "start_time": "2023-02-19T15:38:45.839Z"
   },
   {
    "duration": 1761,
    "start_time": "2023-02-19T15:38:45.864Z"
   },
   {
    "duration": 12,
    "start_time": "2023-02-19T15:38:47.627Z"
   },
   {
    "duration": 5,
    "start_time": "2023-02-19T15:38:47.640Z"
   },
   {
    "duration": 7,
    "start_time": "2023-02-19T15:38:47.647Z"
   },
   {
    "duration": 13,
    "start_time": "2023-02-19T15:38:47.655Z"
   },
   {
    "duration": 1225,
    "start_time": "2023-02-19T15:38:47.669Z"
   },
   {
    "duration": 42,
    "start_time": "2023-02-19T15:38:48.896Z"
   },
   {
    "duration": 4391,
    "start_time": "2023-02-19T15:38:48.940Z"
   },
   {
    "duration": 51,
    "start_time": "2023-02-19T15:38:53.332Z"
   },
   {
    "duration": 2185,
    "start_time": "2023-02-19T15:38:53.384Z"
   },
   {
    "duration": 15,
    "start_time": "2023-02-19T15:38:55.571Z"
   },
   {
    "duration": 4241,
    "start_time": "2023-02-19T15:38:55.588Z"
   },
   {
    "duration": 10,
    "start_time": "2023-02-19T15:38:59.830Z"
   },
   {
    "duration": 6,
    "start_time": "2023-02-19T15:38:59.841Z"
   },
   {
    "duration": 7,
    "start_time": "2023-02-19T15:38:59.848Z"
   },
   {
    "duration": 5,
    "start_time": "2023-02-19T15:38:59.857Z"
   },
   {
    "duration": 10,
    "start_time": "2023-02-19T15:38:59.863Z"
   },
   {
    "duration": 8,
    "start_time": "2023-02-19T15:38:59.874Z"
   },
   {
    "duration": 32955,
    "start_time": "2023-02-19T15:38:59.883Z"
   },
   {
    "duration": 36370,
    "start_time": "2023-02-19T15:39:32.840Z"
   },
   {
    "duration": 4,
    "start_time": "2023-02-19T15:40:09.212Z"
   },
   {
    "duration": 92166,
    "start_time": "2023-02-19T15:40:09.218Z"
   },
   {
    "duration": 147516,
    "start_time": "2023-02-19T15:41:41.386Z"
   },
   {
    "duration": 4,
    "start_time": "2023-02-19T15:44:08.903Z"
   },
   {
    "duration": 2699,
    "start_time": "2023-02-19T15:44:08.909Z"
   },
   {
    "duration": 3,
    "start_time": "2023-02-19T15:44:11.610Z"
   },
   {
    "duration": 13,
    "start_time": "2023-02-19T15:44:11.615Z"
   },
   {
    "duration": 131459,
    "start_time": "2023-02-19T15:44:11.630Z"
   },
   {
    "duration": 133,
    "start_time": "2023-02-19T15:46:23.091Z"
   },
   {
    "duration": 70,
    "start_time": "2023-02-19T15:46:23.226Z"
   },
   {
    "duration": 3,
    "start_time": "2023-02-19T15:46:23.297Z"
   },
   {
    "duration": 39059,
    "start_time": "2023-02-19T15:46:23.302Z"
   },
   {
    "duration": 3,
    "start_time": "2023-02-19T15:47:02.363Z"
   },
   {
    "duration": 218079,
    "start_time": "2023-02-19T15:47:02.367Z"
   },
   {
    "duration": 385,
    "start_time": "2023-02-19T15:50:40.448Z"
   },
   {
    "duration": 4,
    "start_time": "2023-02-19T15:50:40.837Z"
   },
   {
    "duration": 4291,
    "start_time": "2023-02-19T15:50:40.843Z"
   },
   {
    "duration": 9,
    "start_time": "2023-02-19T15:50:45.140Z"
   },
   {
    "duration": 25,
    "start_time": "2023-02-19T15:50:45.151Z"
   },
   {
    "duration": 219,
    "start_time": "2023-02-19T15:50:45.177Z"
   },
   {
    "duration": 55,
    "start_time": "2023-02-19T15:50:45.397Z"
   },
   {
    "duration": 4841,
    "start_time": "2023-02-19T15:50:45.453Z"
   },
   {
    "duration": 59,
    "start_time": "2023-02-19T15:50:50.295Z"
   },
   {
    "duration": 2323,
    "start_time": "2023-02-19T15:50:50.355Z"
   },
   {
    "duration": 61,
    "start_time": "2023-02-19T15:52:23.469Z"
   },
   {
    "duration": 4736,
    "start_time": "2023-02-19T15:52:24.306Z"
   },
   {
    "duration": 58,
    "start_time": "2023-02-19T15:52:29.044Z"
   },
   {
    "duration": 2189,
    "start_time": "2023-02-19T15:52:29.104Z"
   },
   {
    "duration": 9,
    "start_time": "2023-02-19T15:56:52.907Z"
   },
   {
    "duration": 5986,
    "start_time": "2023-02-19T15:56:52.927Z"
   },
   {
    "duration": 1817,
    "start_time": "2023-02-19T15:56:58.915Z"
   },
   {
    "duration": 5,
    "start_time": "2023-02-19T15:57:00.734Z"
   },
   {
    "duration": 54,
    "start_time": "2023-02-19T15:57:00.741Z"
   },
   {
    "duration": 75,
    "start_time": "2023-02-19T15:57:00.796Z"
   },
   {
    "duration": 13,
    "start_time": "2023-02-19T15:57:00.873Z"
   },
   {
    "duration": 72,
    "start_time": "2023-02-19T15:57:00.888Z"
   },
   {
    "duration": 4,
    "start_time": "2023-02-19T15:57:00.962Z"
   },
   {
    "duration": 24,
    "start_time": "2023-02-19T15:57:00.967Z"
   },
   {
    "duration": 23,
    "start_time": "2023-02-19T15:57:00.994Z"
   },
   {
    "duration": 28,
    "start_time": "2023-02-19T15:57:01.019Z"
   },
   {
    "duration": 70,
    "start_time": "2023-02-19T15:57:01.049Z"
   },
   {
    "duration": 86,
    "start_time": "2023-02-19T15:57:01.121Z"
   },
   {
    "duration": 7,
    "start_time": "2023-02-19T15:57:01.209Z"
   },
   {
    "duration": 12151,
    "start_time": "2023-02-19T15:57:01.218Z"
   },
   {
    "duration": 8,
    "start_time": "2023-02-19T15:57:13.370Z"
   },
   {
    "duration": 8,
    "start_time": "2023-02-19T15:57:13.380Z"
   },
   {
    "duration": 50,
    "start_time": "2023-02-19T15:57:13.389Z"
   },
   {
    "duration": 16,
    "start_time": "2023-02-19T15:57:13.441Z"
   },
   {
    "duration": 6,
    "start_time": "2023-02-19T15:57:13.459Z"
   },
   {
    "duration": 12,
    "start_time": "2023-02-19T15:57:13.467Z"
   },
   {
    "duration": 12,
    "start_time": "2023-02-19T15:57:13.481Z"
   },
   {
    "duration": 47,
    "start_time": "2023-02-19T15:57:13.495Z"
   },
   {
    "duration": 6,
    "start_time": "2023-02-19T15:57:13.544Z"
   },
   {
    "duration": 8,
    "start_time": "2023-02-19T15:57:13.552Z"
   },
   {
    "duration": 114,
    "start_time": "2023-02-19T15:57:13.561Z"
   },
   {
    "duration": 5,
    "start_time": "2023-02-19T15:57:13.677Z"
   },
   {
    "duration": 2780,
    "start_time": "2023-02-19T15:57:13.687Z"
   },
   {
    "duration": 3,
    "start_time": "2023-02-19T15:57:16.469Z"
   },
   {
    "duration": 7,
    "start_time": "2023-02-19T15:57:16.474Z"
   },
   {
    "duration": 13,
    "start_time": "2023-02-19T15:57:16.483Z"
   },
   {
    "duration": 8,
    "start_time": "2023-02-19T15:57:16.498Z"
   },
   {
    "duration": 6,
    "start_time": "2023-02-19T15:57:16.507Z"
   },
   {
    "duration": 23,
    "start_time": "2023-02-19T15:57:16.514Z"
   },
   {
    "duration": 3,
    "start_time": "2023-02-19T15:57:16.539Z"
   },
   {
    "duration": 6,
    "start_time": "2023-02-19T15:57:16.543Z"
   },
   {
    "duration": 816,
    "start_time": "2023-02-19T15:57:16.551Z"
   },
   {
    "duration": 28,
    "start_time": "2023-02-19T15:57:17.369Z"
   },
   {
    "duration": 1262,
    "start_time": "2023-02-19T15:57:17.399Z"
   },
   {
    "duration": 6,
    "start_time": "2023-02-19T15:57:18.663Z"
   },
   {
    "duration": 8,
    "start_time": "2023-02-19T15:57:18.671Z"
   },
   {
    "duration": 9,
    "start_time": "2023-02-19T15:57:18.681Z"
   },
   {
    "duration": 13,
    "start_time": "2023-02-19T15:57:18.692Z"
   },
   {
    "duration": 1683,
    "start_time": "2023-02-19T15:57:18.707Z"
   },
   {
    "duration": 47,
    "start_time": "2023-02-19T15:57:20.392Z"
   },
   {
    "duration": 5600,
    "start_time": "2023-02-19T15:57:20.441Z"
   },
   {
    "duration": 50,
    "start_time": "2023-02-19T15:57:26.043Z"
   },
   {
    "duration": 2500,
    "start_time": "2023-02-19T15:57:26.095Z"
   },
   {
    "duration": 12,
    "start_time": "2023-02-19T15:57:28.596Z"
   },
   {
    "duration": 8323,
    "start_time": "2023-02-19T15:57:28.610Z"
   },
   {
    "duration": 10,
    "start_time": "2023-02-19T15:57:36.935Z"
   },
   {
    "duration": 5,
    "start_time": "2023-02-19T15:57:36.947Z"
   },
   {
    "duration": 5,
    "start_time": "2023-02-19T15:57:36.954Z"
   },
   {
    "duration": 5,
    "start_time": "2023-02-19T15:57:36.961Z"
   },
   {
    "duration": 5,
    "start_time": "2023-02-19T15:57:36.967Z"
   },
   {
    "duration": 5,
    "start_time": "2023-02-19T15:57:36.973Z"
   },
   {
    "duration": 45258,
    "start_time": "2023-02-19T15:57:36.979Z"
   },
   {
    "duration": 56403,
    "start_time": "2023-02-19T15:58:22.243Z"
   },
   {
    "duration": 5,
    "start_time": "2023-02-19T15:59:18.738Z"
   },
   {
    "duration": 89497,
    "start_time": "2023-02-19T15:59:18.744Z"
   },
   {
    "duration": 149099,
    "start_time": "2023-02-19T16:00:48.243Z"
   },
   {
    "duration": 3,
    "start_time": "2023-02-19T16:03:17.343Z"
   },
   {
    "duration": 2885,
    "start_time": "2023-02-19T16:03:17.348Z"
   },
   {
    "duration": 4,
    "start_time": "2023-02-19T16:03:20.236Z"
   },
   {
    "duration": 9,
    "start_time": "2023-02-19T16:03:20.241Z"
   },
   {
    "duration": 235955,
    "start_time": "2023-02-19T16:03:20.251Z"
   },
   {
    "duration": 120,
    "start_time": "2023-02-19T16:07:16.207Z"
   },
   {
    "duration": 61,
    "start_time": "2023-02-19T16:07:16.329Z"
   },
   {
    "duration": 3,
    "start_time": "2023-02-19T16:07:16.392Z"
   },
   {
    "duration": 48979,
    "start_time": "2023-02-19T16:07:16.397Z"
   },
   {
    "duration": 3,
    "start_time": "2023-02-19T16:08:05.378Z"
   },
   {
    "duration": 284656,
    "start_time": "2023-02-19T16:08:05.382Z"
   },
   {
    "duration": 331,
    "start_time": "2023-02-19T16:12:50.041Z"
   },
   {
    "duration": 4,
    "start_time": "2023-02-19T16:12:50.373Z"
   },
   {
    "duration": 3262,
    "start_time": "2023-02-19T16:12:50.379Z"
   },
   {
    "duration": 4,
    "start_time": "2023-02-19T16:17:01.653Z"
   },
   {
    "duration": 23,
    "start_time": "2023-02-19T16:17:19.687Z"
   },
   {
    "duration": 167,
    "start_time": "2023-02-19T16:18:26.588Z"
   },
   {
    "duration": 1237,
    "start_time": "2023-02-19T16:22:44.056Z"
   },
   {
    "duration": 9,
    "start_time": "2023-02-19T16:24:04.190Z"
   },
   {
    "duration": 6003,
    "start_time": "2023-02-19T16:24:04.208Z"
   },
   {
    "duration": 1833,
    "start_time": "2023-02-19T16:24:10.213Z"
   },
   {
    "duration": 3,
    "start_time": "2023-02-19T16:24:12.048Z"
   },
   {
    "duration": 43,
    "start_time": "2023-02-19T16:24:12.053Z"
   },
   {
    "duration": 71,
    "start_time": "2023-02-19T16:24:12.098Z"
   },
   {
    "duration": 13,
    "start_time": "2023-02-19T16:24:12.170Z"
   },
   {
    "duration": 73,
    "start_time": "2023-02-19T16:24:12.185Z"
   },
   {
    "duration": 4,
    "start_time": "2023-02-19T16:24:12.260Z"
   },
   {
    "duration": 7,
    "start_time": "2023-02-19T16:24:12.265Z"
   },
   {
    "duration": 16,
    "start_time": "2023-02-19T16:24:12.274Z"
   },
   {
    "duration": 5,
    "start_time": "2023-02-19T16:24:12.292Z"
   },
   {
    "duration": 113,
    "start_time": "2023-02-19T16:24:12.298Z"
   },
   {
    "duration": 124,
    "start_time": "2023-02-19T16:24:12.413Z"
   },
   {
    "duration": 11,
    "start_time": "2023-02-19T16:24:12.539Z"
   },
   {
    "duration": 12368,
    "start_time": "2023-02-19T16:24:12.552Z"
   },
   {
    "duration": 15,
    "start_time": "2023-02-19T16:24:24.922Z"
   },
   {
    "duration": 20,
    "start_time": "2023-02-19T16:24:24.939Z"
   },
   {
    "duration": 17,
    "start_time": "2023-02-19T16:24:24.961Z"
   },
   {
    "duration": 15,
    "start_time": "2023-02-19T16:24:24.980Z"
   },
   {
    "duration": 46,
    "start_time": "2023-02-19T16:24:24.997Z"
   },
   {
    "duration": 16,
    "start_time": "2023-02-19T16:24:25.045Z"
   },
   {
    "duration": 11,
    "start_time": "2023-02-19T16:24:25.062Z"
   },
   {
    "duration": 13,
    "start_time": "2023-02-19T16:24:25.074Z"
   },
   {
    "duration": 6,
    "start_time": "2023-02-19T16:24:25.088Z"
   },
   {
    "duration": 8,
    "start_time": "2023-02-19T16:24:25.096Z"
   },
   {
    "duration": 352,
    "start_time": "2023-02-19T16:24:25.105Z"
   },
   {
    "duration": 5,
    "start_time": "2023-02-19T16:24:25.459Z"
   },
   {
    "duration": 2498,
    "start_time": "2023-02-19T16:24:25.469Z"
   },
   {
    "duration": 4,
    "start_time": "2023-02-19T16:24:27.968Z"
   },
   {
    "duration": 9,
    "start_time": "2023-02-19T16:24:27.973Z"
   },
   {
    "duration": 7,
    "start_time": "2023-02-19T16:24:27.983Z"
   },
   {
    "duration": 10,
    "start_time": "2023-02-19T16:24:27.992Z"
   },
   {
    "duration": 8,
    "start_time": "2023-02-19T16:24:28.004Z"
   },
   {
    "duration": 25,
    "start_time": "2023-02-19T16:24:28.014Z"
   },
   {
    "duration": 9,
    "start_time": "2023-02-19T16:24:28.040Z"
   },
   {
    "duration": 7,
    "start_time": "2023-02-19T16:24:28.051Z"
   },
   {
    "duration": 818,
    "start_time": "2023-02-19T16:24:28.060Z"
   },
   {
    "duration": 25,
    "start_time": "2023-02-19T16:24:28.879Z"
   },
   {
    "duration": 1539,
    "start_time": "2023-02-19T16:24:28.906Z"
   },
   {
    "duration": 6,
    "start_time": "2023-02-19T16:24:30.447Z"
   },
   {
    "duration": 32,
    "start_time": "2023-02-19T16:24:30.455Z"
   },
   {
    "duration": 24,
    "start_time": "2023-02-19T16:24:30.489Z"
   },
   {
    "duration": 34,
    "start_time": "2023-02-19T16:24:30.515Z"
   },
   {
    "duration": 2093,
    "start_time": "2023-02-19T16:24:30.551Z"
   },
   {
    "duration": 46,
    "start_time": "2023-02-19T16:24:32.646Z"
   },
   {
    "duration": 4997,
    "start_time": "2023-02-19T16:24:32.693Z"
   },
   {
    "duration": 49,
    "start_time": "2023-02-19T16:24:37.692Z"
   },
   {
    "duration": 2576,
    "start_time": "2023-02-19T16:24:37.743Z"
   },
   {
    "duration": 14,
    "start_time": "2023-02-19T16:24:40.321Z"
   },
   {
    "duration": 8371,
    "start_time": "2023-02-19T16:24:40.337Z"
   },
   {
    "duration": 14,
    "start_time": "2023-02-19T16:24:48.710Z"
   },
   {
    "duration": 11,
    "start_time": "2023-02-19T16:24:48.726Z"
   },
   {
    "duration": 6,
    "start_time": "2023-02-19T16:24:48.739Z"
   },
   {
    "duration": 16,
    "start_time": "2023-02-19T16:24:48.747Z"
   },
   {
    "duration": 6,
    "start_time": "2023-02-19T16:24:48.765Z"
   },
   {
    "duration": 5,
    "start_time": "2023-02-19T16:24:48.772Z"
   },
   {
    "duration": 35459,
    "start_time": "2023-02-19T16:24:48.778Z"
   },
   {
    "duration": 41607,
    "start_time": "2023-02-19T16:25:24.239Z"
   },
   {
    "duration": 92,
    "start_time": "2023-02-19T16:26:05.848Z"
   },
   {
    "duration": 83520,
    "start_time": "2023-02-19T16:26:05.942Z"
   },
   {
    "duration": 136618,
    "start_time": "2023-02-19T16:27:29.464Z"
   },
   {
    "duration": 4,
    "start_time": "2023-02-19T16:29:46.084Z"
   },
   {
    "duration": 2854,
    "start_time": "2023-02-19T16:29:46.090Z"
   },
   {
    "duration": 3,
    "start_time": "2023-02-19T16:29:48.946Z"
   },
   {
    "duration": 10,
    "start_time": "2023-02-19T16:29:48.951Z"
   },
   {
    "duration": 209945,
    "start_time": "2023-02-19T16:29:48.962Z"
   },
   {
    "duration": 118,
    "start_time": "2023-02-19T16:33:18.910Z"
   },
   {
    "duration": 74,
    "start_time": "2023-02-19T16:33:19.029Z"
   },
   {
    "duration": 4,
    "start_time": "2023-02-19T16:33:19.104Z"
   },
   {
    "duration": 42766,
    "start_time": "2023-02-19T16:33:19.109Z"
   },
   {
    "duration": 5,
    "start_time": "2023-02-19T16:34:01.877Z"
   },
   {
    "duration": 243655,
    "start_time": "2023-02-19T16:34:01.883Z"
   },
   {
    "duration": 318,
    "start_time": "2023-02-19T16:38:05.540Z"
   },
   {
    "duration": 5,
    "start_time": "2023-02-19T16:38:05.859Z"
   },
   {
    "duration": 3076,
    "start_time": "2023-02-19T16:38:05.865Z"
   },
   {
    "duration": 26,
    "start_time": "2023-02-19T17:00:50.825Z"
   },
   {
    "duration": 5,
    "start_time": "2023-02-19T17:01:46.678Z"
   },
   {
    "duration": 827,
    "start_time": "2023-02-19T17:01:56.498Z"
   },
   {
    "duration": 700,
    "start_time": "2023-02-19T17:02:06.176Z"
   },
   {
    "duration": 36,
    "start_time": "2023-02-19T17:02:09.463Z"
   },
   {
    "duration": 4,
    "start_time": "2023-02-19T17:02:36.132Z"
   },
   {
    "duration": 7,
    "start_time": "2023-02-19T17:02:39.514Z"
   },
   {
    "duration": 5,
    "start_time": "2023-02-19T17:02:48.414Z"
   },
   {
    "duration": 10,
    "start_time": "2023-02-19T17:03:12.253Z"
   },
   {
    "duration": 690,
    "start_time": "2023-02-19T17:03:14.810Z"
   },
   {
    "duration": 4,
    "start_time": "2023-02-19T17:03:30.098Z"
   },
   {
    "duration": 6,
    "start_time": "2023-02-19T17:03:47.627Z"
   },
   {
    "duration": 5,
    "start_time": "2023-02-19T17:03:52.862Z"
   },
   {
    "duration": 5,
    "start_time": "2023-02-19T17:05:48.068Z"
   },
   {
    "duration": 13,
    "start_time": "2023-02-19T17:05:51.323Z"
   },
   {
    "duration": 5,
    "start_time": "2023-02-19T17:05:54.006Z"
   },
   {
    "duration": 3,
    "start_time": "2023-02-19T17:06:01.404Z"
   },
   {
    "duration": 3,
    "start_time": "2023-02-19T17:06:14.899Z"
   },
   {
    "duration": 108,
    "start_time": "2023-02-19T17:07:01.782Z"
   },
   {
    "duration": 19,
    "start_time": "2023-02-19T17:13:16.847Z"
   },
   {
    "duration": 14,
    "start_time": "2023-02-19T17:13:22.801Z"
   },
   {
    "duration": 15,
    "start_time": "2023-02-19T17:13:26.324Z"
   },
   {
    "duration": 13,
    "start_time": "2023-02-19T17:13:29.227Z"
   },
   {
    "duration": 4,
    "start_time": "2023-02-19T17:14:09.508Z"
   },
   {
    "duration": 34,
    "start_time": "2023-02-19T17:20:09.273Z"
   },
   {
    "duration": 5,
    "start_time": "2023-02-19T17:20:15.860Z"
   },
   {
    "duration": 7,
    "start_time": "2023-02-19T17:20:32.021Z"
   },
   {
    "duration": 12,
    "start_time": "2023-02-19T17:33:16.398Z"
   },
   {
    "duration": 32,
    "start_time": "2023-02-19T17:33:38.833Z"
   },
   {
    "duration": 121,
    "start_time": "2023-02-19T17:33:40.441Z"
   },
   {
    "duration": 39,
    "start_time": "2023-02-19T17:33:43.803Z"
   },
   {
    "duration": 82,
    "start_time": "2023-02-19T17:33:44.542Z"
   },
   {
    "duration": 5,
    "start_time": "2023-02-19T17:33:46.730Z"
   },
   {
    "duration": 6,
    "start_time": "2023-02-19T17:33:48.844Z"
   },
   {
    "duration": 16,
    "start_time": "2023-02-19T17:33:49.966Z"
   },
   {
    "duration": 5,
    "start_time": "2023-02-19T17:34:04.393Z"
   },
   {
    "duration": 253,
    "start_time": "2023-02-19T17:50:18.445Z"
   },
   {
    "duration": 254,
    "start_time": "2023-02-19T17:57:58.066Z"
   },
   {
    "duration": 44,
    "start_time": "2023-02-19T17:58:24.964Z"
   },
   {
    "duration": 220,
    "start_time": "2023-02-19T17:58:30.285Z"
   },
   {
    "duration": 3,
    "start_time": "2023-02-19T18:20:36.935Z"
   },
   {
    "duration": 4,
    "start_time": "2023-02-19T18:21:35.887Z"
   },
   {
    "duration": 5,
    "start_time": "2023-02-19T18:21:40.912Z"
   },
   {
    "duration": 3,
    "start_time": "2023-02-19T18:21:43.865Z"
   },
   {
    "duration": 14,
    "start_time": "2023-02-19T18:23:23.731Z"
   },
   {
    "duration": 6,
    "start_time": "2023-02-19T18:23:26.827Z"
   },
   {
    "duration": 23,
    "start_time": "2023-02-19T18:23:28.273Z"
   },
   {
    "duration": 21,
    "start_time": "2023-02-19T18:23:39.032Z"
   },
   {
    "duration": 4,
    "start_time": "2023-02-19T18:27:32.601Z"
   },
   {
    "duration": 26,
    "start_time": "2023-02-19T18:28:21.102Z"
   },
   {
    "duration": 27,
    "start_time": "2023-02-19T18:28:28.218Z"
   },
   {
    "duration": 15,
    "start_time": "2023-02-19T18:28:37.839Z"
   },
   {
    "duration": 32,
    "start_time": "2023-02-19T18:31:16.850Z"
   },
   {
    "duration": 3,
    "start_time": "2023-02-19T18:32:04.455Z"
   },
   {
    "duration": 142,
    "start_time": "2023-02-19T18:32:05.180Z"
   },
   {
    "duration": 165,
    "start_time": "2023-02-19T18:32:33.770Z"
   },
   {
    "duration": 13,
    "start_time": "2023-02-19T18:40:04.756Z"
   },
   {
    "duration": 3,
    "start_time": "2023-02-19T18:40:07.997Z"
   },
   {
    "duration": 14,
    "start_time": "2023-02-19T18:40:08.992Z"
   },
   {
    "duration": 13,
    "start_time": "2023-02-19T18:40:17.732Z"
   },
   {
    "duration": 19,
    "start_time": "2023-02-19T18:40:20.281Z"
   },
   {
    "duration": 8,
    "start_time": "2023-02-19T18:40:32.575Z"
   },
   {
    "duration": 7,
    "start_time": "2023-02-19T18:40:45.867Z"
   },
   {
    "duration": 6,
    "start_time": "2023-02-19T18:40:52.957Z"
   },
   {
    "duration": 8,
    "start_time": "2023-02-19T18:41:00.781Z"
   },
   {
    "duration": 15,
    "start_time": "2023-02-19T18:41:07.338Z"
   },
   {
    "duration": 7,
    "start_time": "2023-02-19T18:41:13.629Z"
   },
   {
    "duration": 7,
    "start_time": "2023-02-19T18:44:50.558Z"
   },
   {
    "duration": 4,
    "start_time": "2023-02-19T18:47:20.435Z"
   },
   {
    "duration": 17,
    "start_time": "2023-02-19T18:48:10.340Z"
   },
   {
    "duration": 28,
    "start_time": "2023-02-19T18:48:52.657Z"
   },
   {
    "duration": 18,
    "start_time": "2023-02-19T18:48:59.106Z"
   },
   {
    "duration": 18,
    "start_time": "2023-02-19T18:49:07.933Z"
   },
   {
    "duration": 20,
    "start_time": "2023-02-19T18:51:22.033Z"
   },
   {
    "duration": 17,
    "start_time": "2023-02-19T18:51:29.661Z"
   },
   {
    "duration": 17,
    "start_time": "2023-02-19T18:51:34.821Z"
   },
   {
    "duration": 4,
    "start_time": "2023-02-19T18:52:32.002Z"
   },
   {
    "duration": 25,
    "start_time": "2023-02-19T18:52:38.149Z"
   },
   {
    "duration": 21,
    "start_time": "2023-02-19T18:52:45.358Z"
   },
   {
    "duration": 22,
    "start_time": "2023-02-19T18:56:49.082Z"
   },
   {
    "duration": 2537,
    "start_time": "2023-02-19T18:56:57.676Z"
   },
   {
    "duration": 5,
    "start_time": "2023-02-19T18:57:18.679Z"
   },
   {
    "duration": 244,
    "start_time": "2023-02-19T18:57:21.057Z"
   },
   {
    "duration": 258,
    "start_time": "2023-02-19T18:59:52.482Z"
   },
   {
    "duration": 7,
    "start_time": "2023-02-19T19:01:36.930Z"
   },
   {
    "duration": 22,
    "start_time": "2023-02-19T19:02:48.093Z"
   },
   {
    "duration": 28,
    "start_time": "2023-02-19T19:06:28.717Z"
   },
   {
    "duration": 17,
    "start_time": "2023-02-19T19:06:32.801Z"
   },
   {
    "duration": 16,
    "start_time": "2023-02-19T19:06:40.659Z"
   },
   {
    "duration": 4,
    "start_time": "2023-02-19T19:09:04.856Z"
   },
   {
    "duration": 18,
    "start_time": "2023-02-19T19:09:06.809Z"
   },
   {
    "duration": 177,
    "start_time": "2023-02-19T19:16:16.304Z"
   },
   {
    "duration": 220,
    "start_time": "2023-02-19T19:17:02.484Z"
   },
   {
    "duration": 182,
    "start_time": "2023-02-19T19:17:15.829Z"
   },
   {
    "duration": 160,
    "start_time": "2023-02-19T19:17:38.545Z"
   },
   {
    "duration": 174,
    "start_time": "2023-02-19T19:17:47.168Z"
   },
   {
    "duration": 198,
    "start_time": "2023-02-19T19:18:13.177Z"
   },
   {
    "duration": 460,
    "start_time": "2023-02-19T19:19:13.442Z"
   },
   {
    "duration": 6043,
    "start_time": "2023-02-19T19:20:34.861Z"
   },
   {
    "duration": 1902,
    "start_time": "2023-02-19T19:20:40.906Z"
   },
   {
    "duration": 3,
    "start_time": "2023-02-19T19:20:42.809Z"
   },
   {
    "duration": 39,
    "start_time": "2023-02-19T19:20:42.813Z"
   },
   {
    "duration": 109,
    "start_time": "2023-02-19T19:20:42.854Z"
   },
   {
    "duration": 14,
    "start_time": "2023-02-19T19:20:42.966Z"
   },
   {
    "duration": 67,
    "start_time": "2023-02-19T19:20:42.981Z"
   },
   {
    "duration": 4,
    "start_time": "2023-02-19T19:20:43.049Z"
   },
   {
    "duration": 13,
    "start_time": "2023-02-19T19:20:43.054Z"
   },
   {
    "duration": 20,
    "start_time": "2023-02-19T19:20:43.068Z"
   },
   {
    "duration": 4,
    "start_time": "2023-02-19T19:20:43.089Z"
   },
   {
    "duration": 75,
    "start_time": "2023-02-19T19:20:43.095Z"
   },
   {
    "duration": 96,
    "start_time": "2023-02-19T19:20:43.171Z"
   },
   {
    "duration": 7,
    "start_time": "2023-02-19T19:20:43.271Z"
   },
   {
    "duration": 12050,
    "start_time": "2023-02-19T19:20:43.279Z"
   },
   {
    "duration": 8,
    "start_time": "2023-02-19T19:20:55.330Z"
   },
   {
    "duration": 9,
    "start_time": "2023-02-19T19:20:55.339Z"
   },
   {
    "duration": 13,
    "start_time": "2023-02-19T19:20:55.349Z"
   },
   {
    "duration": 13,
    "start_time": "2023-02-19T19:20:55.363Z"
   },
   {
    "duration": 5,
    "start_time": "2023-02-19T19:20:55.377Z"
   },
   {
    "duration": 55,
    "start_time": "2023-02-19T19:20:55.383Z"
   },
   {
    "duration": 8,
    "start_time": "2023-02-19T19:20:55.440Z"
   },
   {
    "duration": 17,
    "start_time": "2023-02-19T19:20:55.450Z"
   },
   {
    "duration": 14,
    "start_time": "2023-02-19T19:20:55.469Z"
   },
   {
    "duration": 6,
    "start_time": "2023-02-19T19:20:55.485Z"
   },
   {
    "duration": 86,
    "start_time": "2023-02-19T19:20:55.492Z"
   },
   {
    "duration": 5,
    "start_time": "2023-02-19T19:20:55.580Z"
   },
   {
    "duration": 2816,
    "start_time": "2023-02-19T19:20:55.586Z"
   },
   {
    "duration": 3,
    "start_time": "2023-02-19T19:20:58.404Z"
   },
   {
    "duration": 4,
    "start_time": "2023-02-19T19:20:58.409Z"
   },
   {
    "duration": 7,
    "start_time": "2023-02-19T19:20:58.415Z"
   },
   {
    "duration": 16,
    "start_time": "2023-02-19T19:20:58.423Z"
   },
   {
    "duration": 5,
    "start_time": "2023-02-19T19:20:58.440Z"
   },
   {
    "duration": 4,
    "start_time": "2023-02-19T19:20:58.446Z"
   },
   {
    "duration": 6,
    "start_time": "2023-02-19T19:20:58.452Z"
   },
   {
    "duration": 5,
    "start_time": "2023-02-19T19:20:58.459Z"
   },
   {
    "duration": 815,
    "start_time": "2023-02-19T19:20:58.465Z"
   },
   {
    "duration": 24,
    "start_time": "2023-02-19T19:20:59.282Z"
   },
   {
    "duration": 1297,
    "start_time": "2023-02-19T19:20:59.308Z"
   },
   {
    "duration": 5,
    "start_time": "2023-02-19T19:21:00.607Z"
   },
   {
    "duration": 26,
    "start_time": "2023-02-19T19:21:00.616Z"
   },
   {
    "duration": 15,
    "start_time": "2023-02-19T19:21:00.644Z"
   },
   {
    "duration": 28,
    "start_time": "2023-02-19T19:21:00.660Z"
   },
   {
    "duration": 1823,
    "start_time": "2023-02-19T19:21:00.690Z"
   },
   {
    "duration": 57,
    "start_time": "2023-02-19T19:21:02.515Z"
   },
   {
    "duration": 4964,
    "start_time": "2023-02-19T19:21:02.574Z"
   },
   {
    "duration": 47,
    "start_time": "2023-02-19T19:21:07.540Z"
   },
   {
    "duration": 2629,
    "start_time": "2023-02-19T19:21:07.588Z"
   },
   {
    "duration": 12,
    "start_time": "2023-02-19T19:21:10.218Z"
   },
   {
    "duration": 8799,
    "start_time": "2023-02-19T19:21:10.231Z"
   },
   {
    "duration": 10,
    "start_time": "2023-02-19T19:21:19.031Z"
   },
   {
    "duration": 5,
    "start_time": "2023-02-19T19:21:19.042Z"
   },
   {
    "duration": 6,
    "start_time": "2023-02-19T19:21:19.048Z"
   },
   {
    "duration": 5,
    "start_time": "2023-02-19T19:21:19.055Z"
   },
   {
    "duration": 6,
    "start_time": "2023-02-19T19:21:19.062Z"
   },
   {
    "duration": 5,
    "start_time": "2023-02-19T19:21:19.069Z"
   },
   {
    "duration": 36364,
    "start_time": "2023-02-19T19:21:19.075Z"
   },
   {
    "duration": 43201,
    "start_time": "2023-02-19T19:21:55.441Z"
   },
   {
    "duration": 93,
    "start_time": "2023-02-19T19:22:38.647Z"
   },
   {
    "duration": 81926,
    "start_time": "2023-02-19T19:22:38.743Z"
   },
   {
    "duration": 133324,
    "start_time": "2023-02-19T19:24:00.672Z"
   },
   {
    "duration": 3,
    "start_time": "2023-02-19T19:26:13.998Z"
   },
   {
    "duration": 2871,
    "start_time": "2023-02-19T19:26:14.003Z"
   },
   {
    "duration": 3,
    "start_time": "2023-02-19T19:26:16.876Z"
   },
   {
    "duration": 7,
    "start_time": "2023-02-19T19:26:16.880Z"
   },
   {
    "duration": 224556,
    "start_time": "2023-02-19T19:26:16.889Z"
   },
   {
    "duration": 122,
    "start_time": "2023-02-19T19:30:01.447Z"
   },
   {
    "duration": 60,
    "start_time": "2023-02-19T19:30:01.571Z"
   },
   {
    "duration": 5,
    "start_time": "2023-02-19T19:30:01.637Z"
   },
   {
    "duration": 43910,
    "start_time": "2023-02-19T19:30:01.643Z"
   },
   {
    "duration": 3,
    "start_time": "2023-02-19T19:30:45.555Z"
   },
   {
    "duration": 245181,
    "start_time": "2023-02-19T19:30:45.560Z"
   },
   {
    "duration": 310,
    "start_time": "2023-02-19T19:34:50.747Z"
   },
   {
    "duration": 5,
    "start_time": "2023-02-19T19:34:51.060Z"
   },
   {
    "duration": 10,
    "start_time": "2023-02-19T19:34:51.068Z"
   },
   {
    "duration": 205,
    "start_time": "2023-02-19T19:34:51.080Z"
   },
   {
    "duration": 15,
    "start_time": "2023-02-19T19:34:51.287Z"
   },
   {
    "duration": 20,
    "start_time": "2023-02-19T19:34:51.304Z"
   },
   {
    "duration": 96,
    "start_time": "2023-02-20T13:11:52.923Z"
   },
   {
    "duration": 86,
    "start_time": "2023-02-20T13:12:23.924Z"
   },
   {
    "duration": 84,
    "start_time": "2023-02-20T13:14:01.414Z"
   },
   {
    "duration": 127,
    "start_time": "2023-02-20T13:14:50.558Z"
   },
   {
    "duration": 121,
    "start_time": "2023-02-20T13:15:28.258Z"
   },
   {
    "duration": 118,
    "start_time": "2023-02-20T13:16:02.204Z"
   },
   {
    "duration": 74,
    "start_time": "2023-02-20T13:16:20.753Z"
   },
   {
    "duration": 87,
    "start_time": "2023-02-20T13:16:30.752Z"
   },
   {
    "duration": 94,
    "start_time": "2023-02-20T13:16:55.540Z"
   },
   {
    "duration": 128,
    "start_time": "2023-02-20T13:17:28.003Z"
   },
   {
    "duration": 98,
    "start_time": "2023-02-20T13:18:25.632Z"
   },
   {
    "duration": 90,
    "start_time": "2023-02-20T13:18:52.473Z"
   },
   {
    "duration": 95,
    "start_time": "2023-02-20T13:19:33.671Z"
   },
   {
    "duration": 121,
    "start_time": "2023-02-20T13:19:46.227Z"
   },
   {
    "duration": 98,
    "start_time": "2023-02-20T13:19:55.140Z"
   },
   {
    "duration": 71,
    "start_time": "2023-02-20T13:22:31.528Z"
   },
   {
    "duration": 25795,
    "start_time": "2023-02-20T18:48:16.003Z"
   },
   {
    "duration": 2221,
    "start_time": "2023-02-20T18:48:41.801Z"
   },
   {
    "duration": 3,
    "start_time": "2023-02-20T18:48:44.024Z"
   },
   {
    "duration": 65,
    "start_time": "2023-02-20T18:48:44.029Z"
   },
   {
    "duration": 360,
    "start_time": "2023-02-20T18:48:44.095Z"
   },
   {
    "duration": 13,
    "start_time": "2023-02-20T18:48:44.457Z"
   },
   {
    "duration": 56,
    "start_time": "2023-02-20T18:48:44.471Z"
   },
   {
    "duration": 4,
    "start_time": "2023-02-20T18:48:44.528Z"
   },
   {
    "duration": 7,
    "start_time": "2023-02-20T18:48:44.534Z"
   },
   {
    "duration": 17,
    "start_time": "2023-02-20T18:48:44.544Z"
   },
   {
    "duration": 5,
    "start_time": "2023-02-20T18:48:44.562Z"
   },
   {
    "duration": 90,
    "start_time": "2023-02-20T18:48:44.569Z"
   },
   {
    "duration": 101,
    "start_time": "2023-02-20T18:48:44.661Z"
   },
   {
    "duration": 7,
    "start_time": "2023-02-20T18:48:44.764Z"
   },
   {
    "duration": 12748,
    "start_time": "2023-02-20T18:48:44.773Z"
   },
   {
    "duration": 8,
    "start_time": "2023-02-20T18:48:57.522Z"
   },
   {
    "duration": 9,
    "start_time": "2023-02-20T18:48:57.532Z"
   },
   {
    "duration": 14,
    "start_time": "2023-02-20T18:48:57.542Z"
   },
   {
    "duration": 47,
    "start_time": "2023-02-20T18:48:57.557Z"
   },
   {
    "duration": 6,
    "start_time": "2023-02-20T18:48:57.605Z"
   },
   {
    "duration": 9,
    "start_time": "2023-02-20T18:48:57.613Z"
   },
   {
    "duration": 9,
    "start_time": "2023-02-20T18:48:57.623Z"
   },
   {
    "duration": 14,
    "start_time": "2023-02-20T18:48:57.634Z"
   },
   {
    "duration": 7,
    "start_time": "2023-02-20T18:48:57.649Z"
   },
   {
    "duration": 55,
    "start_time": "2023-02-20T18:48:57.657Z"
   },
   {
    "duration": 88,
    "start_time": "2023-02-20T18:48:57.713Z"
   },
   {
    "duration": 5,
    "start_time": "2023-02-20T18:48:57.803Z"
   },
   {
    "duration": 2567,
    "start_time": "2023-02-20T18:48:57.814Z"
   },
   {
    "duration": 4,
    "start_time": "2023-02-20T18:49:00.383Z"
   },
   {
    "duration": 29,
    "start_time": "2023-02-20T18:49:00.388Z"
   },
   {
    "duration": 26,
    "start_time": "2023-02-20T18:49:00.419Z"
   },
   {
    "duration": 22,
    "start_time": "2023-02-20T18:49:00.446Z"
   },
   {
    "duration": 18,
    "start_time": "2023-02-20T18:49:00.469Z"
   },
   {
    "duration": 8,
    "start_time": "2023-02-20T18:49:00.489Z"
   },
   {
    "duration": 53,
    "start_time": "2023-02-20T18:49:00.498Z"
   },
   {
    "duration": 23,
    "start_time": "2023-02-20T18:49:00.553Z"
   },
   {
    "duration": 894,
    "start_time": "2023-02-20T18:49:00.578Z"
   },
   {
    "duration": 22,
    "start_time": "2023-02-20T18:49:01.473Z"
   },
   {
    "duration": 1392,
    "start_time": "2023-02-20T18:49:01.503Z"
   },
   {
    "duration": 8,
    "start_time": "2023-02-20T18:49:02.898Z"
   },
   {
    "duration": 5,
    "start_time": "2023-02-20T18:49:02.908Z"
   },
   {
    "duration": 6,
    "start_time": "2023-02-20T18:49:02.915Z"
   },
   {
    "duration": 399,
    "start_time": "2023-02-20T18:49:02.922Z"
   },
   {
    "duration": 1960,
    "start_time": "2023-02-20T18:49:03.323Z"
   },
   {
    "duration": 52,
    "start_time": "2023-02-20T18:49:05.285Z"
   },
   {
    "duration": 5326,
    "start_time": "2023-02-20T18:49:05.339Z"
   },
   {
    "duration": 47,
    "start_time": "2023-02-20T18:49:10.667Z"
   },
   {
    "duration": 2853,
    "start_time": "2023-02-20T18:49:10.715Z"
   },
   {
    "duration": 12,
    "start_time": "2023-02-20T18:49:13.570Z"
   },
   {
    "duration": 9570,
    "start_time": "2023-02-20T18:49:13.584Z"
   },
   {
    "duration": 16,
    "start_time": "2023-02-20T18:49:23.156Z"
   },
   {
    "duration": 15,
    "start_time": "2023-02-20T18:49:23.175Z"
   },
   {
    "duration": 12,
    "start_time": "2023-02-20T18:49:23.192Z"
   },
   {
    "duration": 12,
    "start_time": "2023-02-20T18:49:23.207Z"
   },
   {
    "duration": 9,
    "start_time": "2023-02-20T18:49:23.221Z"
   },
   {
    "duration": 22,
    "start_time": "2023-02-20T18:49:23.231Z"
   },
   {
    "duration": 48354,
    "start_time": "2023-02-20T18:49:23.255Z"
   },
   {
    "duration": 4647,
    "start_time": "2023-02-20T18:50:11.612Z"
   },
   {
    "duration": 14,
    "start_time": "2023-02-20T18:50:16.261Z"
   },
   {
    "duration": 0,
    "start_time": "2023-02-20T18:50:16.277Z"
   },
   {
    "duration": 0,
    "start_time": "2023-02-20T18:50:16.278Z"
   },
   {
    "duration": 0,
    "start_time": "2023-02-20T18:50:16.279Z"
   },
   {
    "duration": 0,
    "start_time": "2023-02-20T18:50:16.280Z"
   },
   {
    "duration": 0,
    "start_time": "2023-02-20T18:50:16.282Z"
   },
   {
    "duration": 0,
    "start_time": "2023-02-20T18:50:16.283Z"
   },
   {
    "duration": 0,
    "start_time": "2023-02-20T18:50:16.284Z"
   },
   {
    "duration": 0,
    "start_time": "2023-02-20T18:50:16.285Z"
   },
   {
    "duration": 0,
    "start_time": "2023-02-20T18:50:16.286Z"
   },
   {
    "duration": 0,
    "start_time": "2023-02-20T18:50:16.287Z"
   },
   {
    "duration": 0,
    "start_time": "2023-02-20T18:50:16.289Z"
   },
   {
    "duration": 0,
    "start_time": "2023-02-20T18:50:16.303Z"
   },
   {
    "duration": 0,
    "start_time": "2023-02-20T18:50:16.304Z"
   },
   {
    "duration": 0,
    "start_time": "2023-02-20T18:50:16.305Z"
   },
   {
    "duration": 0,
    "start_time": "2023-02-20T18:50:16.306Z"
   },
   {
    "duration": 0,
    "start_time": "2023-02-20T18:50:16.307Z"
   },
   {
    "duration": 0,
    "start_time": "2023-02-20T18:50:16.308Z"
   },
   {
    "duration": 0,
    "start_time": "2023-02-20T18:50:16.309Z"
   },
   {
    "duration": 0,
    "start_time": "2023-02-20T18:50:16.311Z"
   },
   {
    "duration": 0,
    "start_time": "2023-02-20T18:50:16.312Z"
   },
   {
    "duration": 0,
    "start_time": "2023-02-20T18:50:16.313Z"
   },
   {
    "duration": 3,
    "start_time": "2023-02-20T18:50:21.364Z"
   },
   {
    "duration": 19,
    "start_time": "2023-02-20T18:50:23.233Z"
   },
   {
    "duration": 13,
    "start_time": "2023-02-20T18:50:30.144Z"
   },
   {
    "duration": 18,
    "start_time": "2023-02-20T18:50:36.388Z"
   },
   {
    "duration": 6,
    "start_time": "2023-02-20T18:50:59.266Z"
   },
   {
    "duration": 8,
    "start_time": "2023-02-20T18:51:03.840Z"
   },
   {
    "duration": 4,
    "start_time": "2023-02-20T18:51:08.043Z"
   },
   {
    "duration": 5,
    "start_time": "2023-02-20T18:51:12.688Z"
   },
   {
    "duration": 5,
    "start_time": "2023-02-20T18:52:40.988Z"
   },
   {
    "duration": 16,
    "start_time": "2023-02-20T18:53:42.971Z"
   },
   {
    "duration": 71,
    "start_time": "2023-02-20T21:22:47.075Z"
   },
   {
    "duration": 6791,
    "start_time": "2023-02-20T21:23:03.546Z"
   },
   {
    "duration": 1882,
    "start_time": "2023-02-20T21:23:10.339Z"
   },
   {
    "duration": 3,
    "start_time": "2023-02-20T21:23:12.223Z"
   },
   {
    "duration": 57,
    "start_time": "2023-02-20T21:23:12.228Z"
   },
   {
    "duration": 72,
    "start_time": "2023-02-20T21:23:12.287Z"
   },
   {
    "duration": 12,
    "start_time": "2023-02-20T21:23:12.360Z"
   },
   {
    "duration": 77,
    "start_time": "2023-02-20T21:23:12.373Z"
   },
   {
    "duration": 4,
    "start_time": "2023-02-20T21:23:12.452Z"
   },
   {
    "duration": 9,
    "start_time": "2023-02-20T21:23:12.457Z"
   },
   {
    "duration": 18,
    "start_time": "2023-02-20T21:23:12.469Z"
   },
   {
    "duration": 5,
    "start_time": "2023-02-20T21:23:12.503Z"
   },
   {
    "duration": 67,
    "start_time": "2023-02-20T21:23:12.509Z"
   },
   {
    "duration": 110,
    "start_time": "2023-02-20T21:23:12.578Z"
   },
   {
    "duration": 17,
    "start_time": "2023-02-20T21:23:12.689Z"
   },
   {
    "duration": 12577,
    "start_time": "2023-02-20T21:23:12.708Z"
   },
   {
    "duration": 8,
    "start_time": "2023-02-20T21:23:25.287Z"
   },
   {
    "duration": 8,
    "start_time": "2023-02-20T21:23:25.296Z"
   },
   {
    "duration": 15,
    "start_time": "2023-02-20T21:23:25.305Z"
   },
   {
    "duration": 14,
    "start_time": "2023-02-20T21:23:25.322Z"
   },
   {
    "duration": 5,
    "start_time": "2023-02-20T21:23:25.338Z"
   },
   {
    "duration": 60,
    "start_time": "2023-02-20T21:23:25.345Z"
   },
   {
    "duration": 8,
    "start_time": "2023-02-20T21:23:25.407Z"
   },
   {
    "duration": 14,
    "start_time": "2023-02-20T21:23:25.417Z"
   },
   {
    "duration": 58,
    "start_time": "2023-02-20T21:23:25.432Z"
   },
   {
    "duration": 4,
    "start_time": "2023-02-20T21:23:25.492Z"
   },
   {
    "duration": 290,
    "start_time": "2023-02-20T21:23:25.497Z"
   },
   {
    "duration": 5,
    "start_time": "2023-02-20T21:23:25.788Z"
   },
   {
    "duration": 2561,
    "start_time": "2023-02-20T21:23:25.803Z"
   },
   {
    "duration": 3,
    "start_time": "2023-02-20T21:23:28.366Z"
   },
   {
    "duration": 6,
    "start_time": "2023-02-20T21:23:28.370Z"
   },
   {
    "duration": 5,
    "start_time": "2023-02-20T21:23:28.378Z"
   },
   {
    "duration": 7,
    "start_time": "2023-02-20T21:23:28.385Z"
   },
   {
    "duration": 3,
    "start_time": "2023-02-20T21:23:28.404Z"
   },
   {
    "duration": 5,
    "start_time": "2023-02-20T21:23:28.409Z"
   },
   {
    "duration": 5,
    "start_time": "2023-02-20T21:23:28.415Z"
   },
   {
    "duration": 4,
    "start_time": "2023-02-20T21:23:28.421Z"
   },
   {
    "duration": 847,
    "start_time": "2023-02-20T21:23:28.426Z"
   },
   {
    "duration": 31,
    "start_time": "2023-02-20T21:23:29.274Z"
   },
   {
    "duration": 1515,
    "start_time": "2023-02-20T21:23:29.306Z"
   },
   {
    "duration": 5,
    "start_time": "2023-02-20T21:23:30.823Z"
   },
   {
    "duration": 29,
    "start_time": "2023-02-20T21:23:30.830Z"
   },
   {
    "duration": 13,
    "start_time": "2023-02-20T21:23:30.860Z"
   },
   {
    "duration": 26,
    "start_time": "2023-02-20T21:23:30.875Z"
   },
   {
    "duration": 1974,
    "start_time": "2023-02-20T21:23:30.903Z"
   },
   {
    "duration": 46,
    "start_time": "2023-02-20T21:23:32.879Z"
   },
   {
    "duration": 5320,
    "start_time": "2023-02-20T21:23:32.926Z"
   },
   {
    "duration": 46,
    "start_time": "2023-02-20T21:23:38.248Z"
   },
   {
    "duration": 2850,
    "start_time": "2023-02-20T21:23:38.295Z"
   },
   {
    "duration": 14,
    "start_time": "2023-02-20T21:23:41.147Z"
   },
   {
    "duration": 8802,
    "start_time": "2023-02-20T21:23:41.163Z"
   },
   {
    "duration": 10,
    "start_time": "2023-02-20T21:23:49.967Z"
   },
   {
    "duration": 5,
    "start_time": "2023-02-20T21:23:49.978Z"
   },
   {
    "duration": 5,
    "start_time": "2023-02-20T21:23:49.984Z"
   },
   {
    "duration": 4,
    "start_time": "2023-02-20T21:23:49.990Z"
   },
   {
    "duration": 12,
    "start_time": "2023-02-20T21:23:49.995Z"
   },
   {
    "duration": 9,
    "start_time": "2023-02-20T21:23:50.008Z"
   },
   {
    "duration": 45184,
    "start_time": "2023-02-20T21:23:50.019Z"
   },
   {
    "duration": 56698,
    "start_time": "2023-02-20T21:24:35.206Z"
   },
   {
    "duration": 4,
    "start_time": "2023-02-20T21:25:31.907Z"
   },
   {
    "duration": 86215,
    "start_time": "2023-02-20T21:25:31.913Z"
   },
   {
    "duration": 139642,
    "start_time": "2023-02-20T21:26:58.130Z"
   },
   {
    "duration": 3,
    "start_time": "2023-02-20T21:29:17.774Z"
   },
   {
    "duration": 2738,
    "start_time": "2023-02-20T21:29:17.779Z"
   },
   {
    "duration": 4,
    "start_time": "2023-02-20T21:29:20.519Z"
   },
   {
    "duration": 19,
    "start_time": "2023-02-20T21:29:20.524Z"
   },
   {
    "duration": 219137,
    "start_time": "2023-02-20T21:29:20.544Z"
   },
   {
    "duration": 122,
    "start_time": "2023-02-20T21:32:59.683Z"
   },
   {
    "duration": 63,
    "start_time": "2023-02-20T21:32:59.807Z"
   },
   {
    "duration": 3,
    "start_time": "2023-02-20T21:32:59.871Z"
   },
   {
    "duration": 46917,
    "start_time": "2023-02-20T21:32:59.875Z"
   },
   {
    "duration": 3,
    "start_time": "2023-02-20T21:33:46.794Z"
   },
   {
    "duration": 276320,
    "start_time": "2023-02-20T21:33:46.798Z"
   },
   {
    "duration": 401,
    "start_time": "2023-02-20T21:38:23.120Z"
   },
   {
    "duration": 5,
    "start_time": "2023-02-20T21:38:23.523Z"
   },
   {
    "duration": 9,
    "start_time": "2023-02-20T21:38:23.529Z"
   },
   {
    "duration": 207,
    "start_time": "2023-02-20T21:38:23.539Z"
   },
   {
    "duration": 17,
    "start_time": "2023-02-20T21:38:23.748Z"
   },
   {
    "duration": 19,
    "start_time": "2023-02-20T21:38:23.767Z"
   },
   {
    "duration": 5,
    "start_time": "2023-02-20T21:47:14.571Z"
   },
   {
    "duration": 177,
    "start_time": "2023-02-20T21:47:17.625Z"
   },
   {
    "duration": 4,
    "start_time": "2023-02-20T21:47:27.135Z"
   },
   {
    "duration": 10,
    "start_time": "2023-02-20T21:47:54.942Z"
   },
   {
    "duration": 6,
    "start_time": "2023-02-20T21:48:42.347Z"
   },
   {
    "duration": 206,
    "start_time": "2023-02-20T21:48:51.038Z"
   },
   {
    "duration": 160,
    "start_time": "2023-02-20T21:48:54.623Z"
   },
   {
    "duration": 24,
    "start_time": "2023-02-20T21:49:25.081Z"
   },
   {
    "duration": 15,
    "start_time": "2023-02-20T21:49:29.240Z"
   },
   {
    "duration": 21,
    "start_time": "2023-02-20T21:49:33.756Z"
   },
   {
    "duration": 174,
    "start_time": "2023-02-20T21:49:48.862Z"
   },
   {
    "duration": 192,
    "start_time": "2023-02-20T21:49:59.899Z"
   },
   {
    "duration": 5,
    "start_time": "2023-02-20T21:51:39.984Z"
   },
   {
    "duration": 11,
    "start_time": "2023-02-20T21:51:44.969Z"
   },
   {
    "duration": 143,
    "start_time": "2023-02-20T21:52:04.236Z"
   },
   {
    "duration": 201,
    "start_time": "2023-02-20T21:52:46.377Z"
   },
   {
    "duration": 219,
    "start_time": "2023-02-20T21:54:05.700Z"
   },
   {
    "duration": 1237,
    "start_time": "2023-02-20T21:59:30.188Z"
   },
   {
    "duration": 9,
    "start_time": "2023-02-20T21:59:39.283Z"
   },
   {
    "duration": 1189,
    "start_time": "2023-02-20T21:59:41.359Z"
   },
   {
    "duration": 20,
    "start_time": "2023-02-20T21:59:48.170Z"
   },
   {
    "duration": 120,
    "start_time": "2023-02-20T21:59:59.876Z"
   },
   {
    "duration": 262,
    "start_time": "2023-02-20T22:00:44.608Z"
   },
   {
    "duration": 249,
    "start_time": "2023-02-20T22:00:48.713Z"
   },
   {
    "duration": 141,
    "start_time": "2023-02-20T22:01:20.736Z"
   },
   {
    "duration": 254,
    "start_time": "2023-02-20T22:01:43.290Z"
   },
   {
    "duration": 256,
    "start_time": "2023-02-20T22:01:51.996Z"
   },
   {
    "duration": 251,
    "start_time": "2023-02-20T22:02:07.619Z"
   },
   {
    "duration": 24332,
    "start_time": "2023-02-21T07:06:17.113Z"
   },
   {
    "duration": 2209,
    "start_time": "2023-02-21T07:06:41.448Z"
   },
   {
    "duration": 3,
    "start_time": "2023-02-21T07:06:43.659Z"
   },
   {
    "duration": 52,
    "start_time": "2023-02-21T07:06:43.664Z"
   },
   {
    "duration": 308,
    "start_time": "2023-02-21T07:06:43.717Z"
   },
   {
    "duration": 18,
    "start_time": "2023-02-21T07:06:44.027Z"
   },
   {
    "duration": 77,
    "start_time": "2023-02-21T07:06:44.047Z"
   },
   {
    "duration": 5,
    "start_time": "2023-02-21T07:06:44.126Z"
   },
   {
    "duration": 16,
    "start_time": "2023-02-21T07:06:44.133Z"
   },
   {
    "duration": 26,
    "start_time": "2023-02-21T07:06:44.152Z"
   },
   {
    "duration": 5,
    "start_time": "2023-02-21T07:06:44.180Z"
   },
   {
    "duration": 85,
    "start_time": "2023-02-21T07:06:44.187Z"
   },
   {
    "duration": 96,
    "start_time": "2023-02-21T07:06:44.274Z"
   },
   {
    "duration": 8,
    "start_time": "2023-02-21T07:06:44.372Z"
   },
   {
    "duration": 12573,
    "start_time": "2023-02-21T07:06:44.381Z"
   },
   {
    "duration": 8,
    "start_time": "2023-02-21T07:06:56.956Z"
   },
   {
    "duration": 14,
    "start_time": "2023-02-21T07:06:56.965Z"
   },
   {
    "duration": 31,
    "start_time": "2023-02-21T07:06:56.981Z"
   },
   {
    "duration": 14,
    "start_time": "2023-02-21T07:06:57.014Z"
   },
   {
    "duration": 6,
    "start_time": "2023-02-21T07:06:57.029Z"
   },
   {
    "duration": 12,
    "start_time": "2023-02-21T07:06:57.036Z"
   },
   {
    "duration": 15,
    "start_time": "2023-02-21T07:06:57.049Z"
   },
   {
    "duration": 11,
    "start_time": "2023-02-21T07:06:57.066Z"
   },
   {
    "duration": 6,
    "start_time": "2023-02-21T07:06:57.103Z"
   },
   {
    "duration": 10,
    "start_time": "2023-02-21T07:06:57.111Z"
   },
   {
    "duration": 97,
    "start_time": "2023-02-21T07:06:57.123Z"
   },
   {
    "duration": 6,
    "start_time": "2023-02-21T07:06:57.222Z"
   },
   {
    "duration": 2529,
    "start_time": "2023-02-21T07:06:57.234Z"
   },
   {
    "duration": 3,
    "start_time": "2023-02-21T07:06:59.764Z"
   },
   {
    "duration": 7,
    "start_time": "2023-02-21T07:06:59.769Z"
   },
   {
    "duration": 8,
    "start_time": "2023-02-21T07:06:59.777Z"
   },
   {
    "duration": 18,
    "start_time": "2023-02-21T07:06:59.787Z"
   },
   {
    "duration": 26,
    "start_time": "2023-02-21T07:06:59.806Z"
   },
   {
    "duration": 7,
    "start_time": "2023-02-21T07:06:59.833Z"
   },
   {
    "duration": 8,
    "start_time": "2023-02-21T07:06:59.841Z"
   },
   {
    "duration": 11,
    "start_time": "2023-02-21T07:06:59.851Z"
   },
   {
    "duration": 869,
    "start_time": "2023-02-21T07:06:59.864Z"
   },
   {
    "duration": 24,
    "start_time": "2023-02-21T07:07:00.735Z"
   },
   {
    "duration": 2053,
    "start_time": "2023-02-21T07:07:00.760Z"
   },
   {
    "duration": 6,
    "start_time": "2023-02-21T07:07:02.815Z"
   },
   {
    "duration": 9,
    "start_time": "2023-02-21T07:07:02.822Z"
   },
   {
    "duration": 7,
    "start_time": "2023-02-21T07:07:02.833Z"
   },
   {
    "duration": 19,
    "start_time": "2023-02-21T07:07:02.841Z"
   },
   {
    "duration": 2517,
    "start_time": "2023-02-21T07:07:02.861Z"
   },
   {
    "duration": 51,
    "start_time": "2023-02-21T07:07:05.379Z"
   },
   {
    "duration": 6326,
    "start_time": "2023-02-21T07:07:05.432Z"
   },
   {
    "duration": 51,
    "start_time": "2023-02-21T07:07:11.760Z"
   },
   {
    "duration": 2802,
    "start_time": "2023-02-21T07:07:11.813Z"
   },
   {
    "duration": 13,
    "start_time": "2023-02-21T07:07:14.618Z"
   },
   {
    "duration": 9013,
    "start_time": "2023-02-21T07:07:14.632Z"
   },
   {
    "duration": 12,
    "start_time": "2023-02-21T07:07:23.646Z"
   },
   {
    "duration": 9,
    "start_time": "2023-02-21T07:07:23.659Z"
   },
   {
    "duration": 12,
    "start_time": "2023-02-21T07:07:23.669Z"
   },
   {
    "duration": 18,
    "start_time": "2023-02-21T07:07:23.683Z"
   },
   {
    "duration": 26,
    "start_time": "2023-02-21T07:07:23.703Z"
   },
   {
    "duration": 17,
    "start_time": "2023-02-21T07:07:23.730Z"
   },
   {
    "duration": 39368,
    "start_time": "2023-02-21T07:07:23.749Z"
   },
   {
    "duration": 7109,
    "start_time": "2023-02-21T07:08:03.128Z"
   },
   {
    "duration": 3,
    "start_time": "2023-02-21T07:08:10.239Z"
   },
   {
    "duration": 584,
    "start_time": "2023-02-21T07:08:10.243Z"
   },
   {
    "duration": 254,
    "start_time": "2023-02-21T07:08:10.828Z"
   },
   {
    "duration": 3,
    "start_time": "2023-02-21T07:08:11.084Z"
   },
   {
    "duration": 155,
    "start_time": "2023-02-21T07:08:11.089Z"
   },
   {
    "duration": 3,
    "start_time": "2023-02-21T07:08:11.245Z"
   },
   {
    "duration": 14,
    "start_time": "2023-02-21T07:08:11.251Z"
   },
   {
    "duration": 10954,
    "start_time": "2023-02-21T07:08:11.266Z"
   },
   {
    "duration": 0,
    "start_time": "2023-02-21T07:08:22.222Z"
   },
   {
    "duration": 1,
    "start_time": "2023-02-21T07:08:22.223Z"
   },
   {
    "duration": 0,
    "start_time": "2023-02-21T07:08:22.225Z"
   },
   {
    "duration": 0,
    "start_time": "2023-02-21T07:08:22.227Z"
   },
   {
    "duration": 0,
    "start_time": "2023-02-21T07:08:22.228Z"
   },
   {
    "duration": 0,
    "start_time": "2023-02-21T07:08:22.230Z"
   },
   {
    "duration": 0,
    "start_time": "2023-02-21T07:08:22.231Z"
   },
   {
    "duration": 0,
    "start_time": "2023-02-21T07:08:22.232Z"
   },
   {
    "duration": 0,
    "start_time": "2023-02-21T07:08:22.234Z"
   },
   {
    "duration": 0,
    "start_time": "2023-02-21T07:08:22.236Z"
   },
   {
    "duration": 0,
    "start_time": "2023-02-21T07:08:22.237Z"
   },
   {
    "duration": 0,
    "start_time": "2023-02-21T07:08:22.239Z"
   },
   {
    "duration": 0,
    "start_time": "2023-02-21T07:08:22.240Z"
   },
   {
    "duration": 0,
    "start_time": "2023-02-21T07:08:22.242Z"
   },
   {
    "duration": 17,
    "start_time": "2023-02-21T07:09:00.409Z"
   },
   {
    "duration": 12,
    "start_time": "2023-02-21T07:09:14.194Z"
   },
   {
    "duration": 4,
    "start_time": "2023-02-21T07:09:19.376Z"
   },
   {
    "duration": 3,
    "start_time": "2023-02-21T07:11:01.229Z"
   },
   {
    "duration": 4,
    "start_time": "2023-02-21T07:11:07.084Z"
   },
   {
    "duration": 48,
    "start_time": "2023-02-21T07:11:41.073Z"
   },
   {
    "duration": 12,
    "start_time": "2023-02-21T07:11:48.167Z"
   },
   {
    "duration": 4,
    "start_time": "2023-02-21T07:11:55.360Z"
   },
   {
    "duration": 4,
    "start_time": "2023-02-21T07:12:31.451Z"
   },
   {
    "duration": 4,
    "start_time": "2023-02-21T07:12:33.488Z"
   },
   {
    "duration": 5,
    "start_time": "2023-02-21T07:12:41.632Z"
   },
   {
    "duration": 4,
    "start_time": "2023-02-21T07:12:47.529Z"
   },
   {
    "duration": 6,
    "start_time": "2023-02-21T07:13:03.675Z"
   },
   {
    "duration": 5,
    "start_time": "2023-02-21T07:13:07.710Z"
   },
   {
    "duration": 6,
    "start_time": "2023-02-21T07:13:27.467Z"
   },
   {
    "duration": 4,
    "start_time": "2023-02-21T07:13:48.502Z"
   },
   {
    "duration": 4,
    "start_time": "2023-02-21T07:13:58.075Z"
   },
   {
    "duration": 25,
    "start_time": "2023-02-21T07:14:04.561Z"
   },
   {
    "duration": 5,
    "start_time": "2023-02-21T07:14:10.870Z"
   },
   {
    "duration": 5,
    "start_time": "2023-02-21T07:14:42.872Z"
   },
   {
    "duration": 19,
    "start_time": "2023-02-21T07:14:53.539Z"
   },
   {
    "duration": 20,
    "start_time": "2023-02-21T07:14:56.548Z"
   },
   {
    "duration": 5,
    "start_time": "2023-02-21T07:15:03.836Z"
   },
   {
    "duration": 14,
    "start_time": "2023-02-21T07:15:23.988Z"
   },
   {
    "duration": 5,
    "start_time": "2023-02-21T07:15:30.326Z"
   },
   {
    "duration": 6,
    "start_time": "2023-02-21T07:15:42.752Z"
   },
   {
    "duration": 6,
    "start_time": "2023-02-21T07:15:49.614Z"
   },
   {
    "duration": 5,
    "start_time": "2023-02-21T07:16:01.033Z"
   },
   {
    "duration": 4,
    "start_time": "2023-02-21T07:16:04.866Z"
   },
   {
    "duration": 5,
    "start_time": "2023-02-21T07:16:42.965Z"
   },
   {
    "duration": 5,
    "start_time": "2023-02-21T07:16:48.166Z"
   },
   {
    "duration": 4,
    "start_time": "2023-02-21T07:16:52.598Z"
   },
   {
    "duration": 4,
    "start_time": "2023-02-21T07:16:56.977Z"
   },
   {
    "duration": 5,
    "start_time": "2023-02-21T07:17:02.621Z"
   },
   {
    "duration": 4,
    "start_time": "2023-02-21T07:17:07.866Z"
   },
   {
    "duration": 4,
    "start_time": "2023-02-21T07:17:11.467Z"
   },
   {
    "duration": 5,
    "start_time": "2023-02-21T07:17:14.552Z"
   },
   {
    "duration": 4,
    "start_time": "2023-02-21T07:17:20.569Z"
   },
   {
    "duration": 4,
    "start_time": "2023-02-21T07:17:23.907Z"
   },
   {
    "duration": 5,
    "start_time": "2023-02-21T07:18:56.806Z"
   },
   {
    "duration": 6851,
    "start_time": "2023-02-21T07:24:39.249Z"
   },
   {
    "duration": 2000,
    "start_time": "2023-02-21T07:24:46.103Z"
   },
   {
    "duration": 3,
    "start_time": "2023-02-21T07:24:48.104Z"
   },
   {
    "duration": 38,
    "start_time": "2023-02-21T07:24:48.109Z"
   },
   {
    "duration": 79,
    "start_time": "2023-02-21T07:24:48.149Z"
   },
   {
    "duration": 15,
    "start_time": "2023-02-21T07:24:48.229Z"
   },
   {
    "duration": 81,
    "start_time": "2023-02-21T07:24:48.246Z"
   },
   {
    "duration": 5,
    "start_time": "2023-02-21T07:24:48.329Z"
   },
   {
    "duration": 8,
    "start_time": "2023-02-21T07:24:48.336Z"
   },
   {
    "duration": 20,
    "start_time": "2023-02-21T07:24:48.347Z"
   },
   {
    "duration": 5,
    "start_time": "2023-02-21T07:24:48.368Z"
   },
   {
    "duration": 99,
    "start_time": "2023-02-21T07:24:48.375Z"
   },
   {
    "duration": 97,
    "start_time": "2023-02-21T07:24:48.476Z"
   },
   {
    "duration": 8,
    "start_time": "2023-02-21T07:24:48.575Z"
   },
   {
    "duration": 13341,
    "start_time": "2023-02-21T07:24:48.585Z"
   },
   {
    "duration": 11,
    "start_time": "2023-02-21T07:25:01.929Z"
   },
   {
    "duration": 24,
    "start_time": "2023-02-21T07:25:01.943Z"
   },
   {
    "duration": 36,
    "start_time": "2023-02-21T07:25:01.969Z"
   },
   {
    "duration": 41,
    "start_time": "2023-02-21T07:25:02.006Z"
   },
   {
    "duration": 19,
    "start_time": "2023-02-21T07:25:02.049Z"
   },
   {
    "duration": 21,
    "start_time": "2023-02-21T07:25:02.070Z"
   },
   {
    "duration": 42,
    "start_time": "2023-02-21T07:25:02.093Z"
   },
   {
    "duration": 20,
    "start_time": "2023-02-21T07:25:02.137Z"
   },
   {
    "duration": 26,
    "start_time": "2023-02-21T07:25:02.159Z"
   },
   {
    "duration": 13,
    "start_time": "2023-02-21T07:25:02.189Z"
   },
   {
    "duration": 361,
    "start_time": "2023-02-21T07:25:02.204Z"
   },
   {
    "duration": 5,
    "start_time": "2023-02-21T07:25:02.567Z"
   },
   {
    "duration": 2859,
    "start_time": "2023-02-21T07:25:02.576Z"
   },
   {
    "duration": 4,
    "start_time": "2023-02-21T07:25:05.436Z"
   },
   {
    "duration": 14,
    "start_time": "2023-02-21T07:25:05.441Z"
   },
   {
    "duration": 8,
    "start_time": "2023-02-21T07:25:05.457Z"
   },
   {
    "duration": 6,
    "start_time": "2023-02-21T07:25:05.468Z"
   },
   {
    "duration": 10,
    "start_time": "2023-02-21T07:25:05.476Z"
   },
   {
    "duration": 17,
    "start_time": "2023-02-21T07:25:05.488Z"
   },
   {
    "duration": 8,
    "start_time": "2023-02-21T07:25:05.507Z"
   },
   {
    "duration": 19,
    "start_time": "2023-02-21T07:25:05.517Z"
   },
   {
    "duration": 920,
    "start_time": "2023-02-21T07:25:05.538Z"
   },
   {
    "duration": 27,
    "start_time": "2023-02-21T07:25:06.461Z"
   },
   {
    "duration": 1630,
    "start_time": "2023-02-21T07:25:06.502Z"
   },
   {
    "duration": 7,
    "start_time": "2023-02-21T07:25:08.134Z"
   },
   {
    "duration": 11,
    "start_time": "2023-02-21T07:25:08.143Z"
   },
   {
    "duration": 6,
    "start_time": "2023-02-21T07:25:08.156Z"
   },
   {
    "duration": 12,
    "start_time": "2023-02-21T07:25:08.164Z"
   },
   {
    "duration": 1870,
    "start_time": "2023-02-21T07:25:08.178Z"
   },
   {
    "duration": 49,
    "start_time": "2023-02-21T07:25:10.049Z"
   },
   {
    "duration": 5275,
    "start_time": "2023-02-21T07:25:10.100Z"
   },
   {
    "duration": 51,
    "start_time": "2023-02-21T07:25:15.377Z"
   },
   {
    "duration": 2777,
    "start_time": "2023-02-21T07:25:15.431Z"
   },
   {
    "duration": 13,
    "start_time": "2023-02-21T07:25:18.209Z"
   },
   {
    "duration": 9320,
    "start_time": "2023-02-21T07:25:18.224Z"
   },
   {
    "duration": 10,
    "start_time": "2023-02-21T07:25:27.546Z"
   },
   {
    "duration": 6,
    "start_time": "2023-02-21T07:25:27.558Z"
   },
   {
    "duration": 6,
    "start_time": "2023-02-21T07:25:27.566Z"
   },
   {
    "duration": 6,
    "start_time": "2023-02-21T07:25:27.573Z"
   },
   {
    "duration": 7,
    "start_time": "2023-02-21T07:25:27.581Z"
   },
   {
    "duration": 8,
    "start_time": "2023-02-21T07:25:27.590Z"
   },
   {
    "duration": 43306,
    "start_time": "2023-02-21T07:25:27.601Z"
   },
   {
    "duration": 53802,
    "start_time": "2023-02-21T07:26:10.909Z"
   },
   {
    "duration": 93,
    "start_time": "2023-02-21T07:27:04.713Z"
   },
   {
    "duration": 91454,
    "start_time": "2023-02-21T07:27:04.808Z"
   },
   {
    "duration": 153559,
    "start_time": "2023-02-21T07:28:36.264Z"
   },
   {
    "duration": 4,
    "start_time": "2023-02-21T07:31:09.825Z"
   },
   {
    "duration": 3214,
    "start_time": "2023-02-21T07:31:09.831Z"
   },
   {
    "duration": 4,
    "start_time": "2023-02-21T07:31:13.047Z"
   },
   {
    "duration": 6,
    "start_time": "2023-02-21T07:31:13.052Z"
   },
   {
    "duration": 235890,
    "start_time": "2023-02-21T07:31:13.060Z"
   },
   {
    "duration": 131,
    "start_time": "2023-02-21T07:35:08.952Z"
   },
   {
    "duration": 72,
    "start_time": "2023-02-21T07:35:09.084Z"
   },
   {
    "duration": 3,
    "start_time": "2023-02-21T07:35:09.157Z"
   },
   {
    "duration": 49488,
    "start_time": "2023-02-21T07:35:09.162Z"
   },
   {
    "duration": 3,
    "start_time": "2023-02-21T07:35:58.654Z"
   },
   {
    "duration": 270350,
    "start_time": "2023-02-21T07:35:58.658Z"
   },
   {
    "duration": 425,
    "start_time": "2023-02-21T07:40:29.009Z"
   },
   {
    "duration": 6,
    "start_time": "2023-02-21T07:40:29.436Z"
   },
   {
    "duration": 16,
    "start_time": "2023-02-21T07:40:29.445Z"
   },
   {
    "duration": 221,
    "start_time": "2023-02-21T07:40:29.464Z"
   },
   {
    "duration": 26,
    "start_time": "2023-02-21T07:40:29.686Z"
   },
   {
    "duration": 22,
    "start_time": "2023-02-21T07:40:29.714Z"
   },
   {
    "duration": 10,
    "start_time": "2023-02-21T07:40:29.737Z"
   },
   {
    "duration": 280,
    "start_time": "2023-02-21T07:40:29.749Z"
   },
   {
    "duration": 35,
    "start_time": "2023-02-21T07:43:04.111Z"
   },
   {
    "duration": 5,
    "start_time": "2023-02-21T07:44:38.078Z"
   },
   {
    "duration": 275,
    "start_time": "2023-02-21T07:44:43.793Z"
   },
   {
    "duration": 5,
    "start_time": "2023-02-21T07:45:42.240Z"
   },
   {
    "duration": 3,
    "start_time": "2023-02-21T07:46:05.784Z"
   },
   {
    "duration": 3,
    "start_time": "2023-02-21T07:46:09.506Z"
   },
   {
    "duration": 12,
    "start_time": "2023-02-21T07:46:11.209Z"
   },
   {
    "duration": 4,
    "start_time": "2023-02-21T07:46:15.920Z"
   },
   {
    "duration": 199170,
    "start_time": "2023-02-21T07:46:16.930Z"
   },
   {
    "duration": 200,
    "start_time": "2023-02-21T07:56:04.525Z"
   },
   {
    "duration": 83,
    "start_time": "2023-02-21T07:56:09.459Z"
   },
   {
    "duration": 243,
    "start_time": "2023-02-21T07:58:12.493Z"
   },
   {
    "duration": 229,
    "start_time": "2023-02-21T07:59:16.607Z"
   },
   {
    "duration": 82,
    "start_time": "2023-02-21T07:59:28.169Z"
   },
   {
    "duration": 35,
    "start_time": "2023-02-21T08:04:44.268Z"
   },
   {
    "duration": 4,
    "start_time": "2023-02-21T08:05:07.940Z"
   },
   {
    "duration": 203799,
    "start_time": "2023-02-21T08:05:16.935Z"
   },
   {
    "duration": 287,
    "start_time": "2023-02-21T08:08:40.736Z"
   },
   {
    "duration": 471,
    "start_time": "2023-02-21T08:09:15.833Z"
   },
   {
    "duration": 18,
    "start_time": "2023-02-21T08:09:32.977Z"
   },
   {
    "duration": 14,
    "start_time": "2023-02-21T08:09:44.376Z"
   },
   {
    "duration": 12,
    "start_time": "2023-02-21T08:09:55.486Z"
   },
   {
    "duration": 12,
    "start_time": "2023-02-21T08:10:05.991Z"
   },
   {
    "duration": 4,
    "start_time": "2023-02-21T08:10:09.593Z"
   },
   {
    "duration": 43,
    "start_time": "2023-02-21T08:10:13.052Z"
   },
   {
    "duration": 3,
    "start_time": "2023-02-21T08:10:16.114Z"
   },
   {
    "duration": 4,
    "start_time": "2023-02-21T08:10:18.490Z"
   },
   {
    "duration": 17,
    "start_time": "2023-02-21T08:10:21.926Z"
   },
   {
    "duration": 7,
    "start_time": "2023-02-21T08:11:52.547Z"
   },
   {
    "duration": 5,
    "start_time": "2023-02-21T08:11:53.200Z"
   },
   {
    "duration": 4,
    "start_time": "2023-02-21T08:11:54.546Z"
   },
   {
    "duration": 3,
    "start_time": "2023-02-21T08:12:05.355Z"
   },
   {
    "duration": 3,
    "start_time": "2023-02-21T08:12:06.499Z"
   },
   {
    "duration": 153620,
    "start_time": "2023-02-21T08:12:07.466Z"
   },
   {
    "duration": 5,
    "start_time": "2023-02-21T08:14:41.088Z"
   },
   {
    "duration": 27,
    "start_time": "2023-02-21T08:14:41.095Z"
   },
   {
    "duration": 228,
    "start_time": "2023-02-21T08:20:25.410Z"
   },
   {
    "duration": 192,
    "start_time": "2023-02-21T08:20:31.888Z"
   },
   {
    "duration": 181,
    "start_time": "2023-02-21T08:20:34.505Z"
   },
   {
    "duration": 87,
    "start_time": "2023-02-21T08:20:41.073Z"
   },
   {
    "duration": 270,
    "start_time": "2023-02-21T08:34:16.318Z"
   },
   {
    "duration": 747,
    "start_time": "2023-02-21T08:34:28.597Z"
   },
   {
    "duration": 11,
    "start_time": "2023-02-21T08:34:33.315Z"
   },
   {
    "duration": 17,
    "start_time": "2023-02-21T08:34:45.273Z"
   },
   {
    "duration": 23,
    "start_time": "2023-02-21T08:35:07.939Z"
   },
   {
    "duration": 3289,
    "start_time": "2023-02-21T08:35:09.832Z"
   },
   {
    "duration": 24,
    "start_time": "2023-02-21T08:35:15.433Z"
   },
   {
    "duration": 7,
    "start_time": "2023-02-21T08:35:21.508Z"
   },
   {
    "duration": 8,
    "start_time": "2023-02-21T08:35:56.723Z"
   },
   {
    "duration": 181,
    "start_time": "2023-02-21T08:50:41.769Z"
   },
   {
    "duration": 184,
    "start_time": "2023-02-21T08:50:51.085Z"
   },
   {
    "duration": 206,
    "start_time": "2023-02-21T08:51:22.711Z"
   },
   {
    "duration": 6,
    "start_time": "2023-02-21T08:59:45.911Z"
   },
   {
    "duration": 3,
    "start_time": "2023-02-21T09:00:01.758Z"
   },
   {
    "duration": 5,
    "start_time": "2023-02-21T09:00:05.401Z"
   },
   {
    "duration": 6828,
    "start_time": "2023-02-21T09:12:30.361Z"
   },
   {
    "duration": 1989,
    "start_time": "2023-02-21T09:12:37.191Z"
   },
   {
    "duration": 4,
    "start_time": "2023-02-21T09:12:39.182Z"
   },
   {
    "duration": 41,
    "start_time": "2023-02-21T09:12:39.188Z"
   },
   {
    "duration": 75,
    "start_time": "2023-02-21T09:12:39.231Z"
   },
   {
    "duration": 13,
    "start_time": "2023-02-21T09:12:39.308Z"
   },
   {
    "duration": 56,
    "start_time": "2023-02-21T09:12:39.322Z"
   },
   {
    "duration": 4,
    "start_time": "2023-02-21T09:12:39.380Z"
   },
   {
    "duration": 6,
    "start_time": "2023-02-21T09:12:39.403Z"
   },
   {
    "duration": 17,
    "start_time": "2023-02-21T09:12:39.412Z"
   },
   {
    "duration": 17,
    "start_time": "2023-02-21T09:12:39.430Z"
   },
   {
    "duration": 78,
    "start_time": "2023-02-21T09:12:39.449Z"
   },
   {
    "duration": 104,
    "start_time": "2023-02-21T09:12:39.529Z"
   },
   {
    "duration": 7,
    "start_time": "2023-02-21T09:12:39.635Z"
   },
   {
    "duration": 13058,
    "start_time": "2023-02-21T09:12:39.644Z"
   },
   {
    "duration": 8,
    "start_time": "2023-02-21T09:12:52.704Z"
   },
   {
    "duration": 11,
    "start_time": "2023-02-21T09:12:52.714Z"
   },
   {
    "duration": 19,
    "start_time": "2023-02-21T09:12:52.727Z"
   },
   {
    "duration": 63,
    "start_time": "2023-02-21T09:12:52.748Z"
   },
   {
    "duration": 6,
    "start_time": "2023-02-21T09:12:52.813Z"
   },
   {
    "duration": 16,
    "start_time": "2023-02-21T09:12:52.820Z"
   },
   {
    "duration": 11,
    "start_time": "2023-02-21T09:12:52.838Z"
   },
   {
    "duration": 11,
    "start_time": "2023-02-21T09:12:52.850Z"
   },
   {
    "duration": 5,
    "start_time": "2023-02-21T09:12:52.863Z"
   },
   {
    "duration": 39,
    "start_time": "2023-02-21T09:12:52.869Z"
   },
   {
    "duration": 360,
    "start_time": "2023-02-21T09:12:52.910Z"
   },
   {
    "duration": 5,
    "start_time": "2023-02-21T09:12:53.272Z"
   },
   {
    "duration": 2840,
    "start_time": "2023-02-21T09:12:53.281Z"
   },
   {
    "duration": 4,
    "start_time": "2023-02-21T09:12:56.123Z"
   },
   {
    "duration": 17,
    "start_time": "2023-02-21T09:12:56.128Z"
   },
   {
    "duration": 21,
    "start_time": "2023-02-21T09:12:56.147Z"
   },
   {
    "duration": 10,
    "start_time": "2023-02-21T09:12:56.169Z"
   },
   {
    "duration": 7,
    "start_time": "2023-02-21T09:12:56.181Z"
   },
   {
    "duration": 7,
    "start_time": "2023-02-21T09:12:56.190Z"
   },
   {
    "duration": 13,
    "start_time": "2023-02-21T09:12:56.199Z"
   },
   {
    "duration": 27,
    "start_time": "2023-02-21T09:12:56.214Z"
   },
   {
    "duration": 910,
    "start_time": "2023-02-21T09:12:56.243Z"
   },
   {
    "duration": 24,
    "start_time": "2023-02-21T09:12:57.155Z"
   },
   {
    "duration": 1655,
    "start_time": "2023-02-21T09:12:57.181Z"
   },
   {
    "duration": 7,
    "start_time": "2023-02-21T09:12:58.838Z"
   },
   {
    "duration": 13,
    "start_time": "2023-02-21T09:12:58.847Z"
   },
   {
    "duration": 10,
    "start_time": "2023-02-21T09:12:58.861Z"
   },
   {
    "duration": 18,
    "start_time": "2023-02-21T09:12:58.874Z"
   },
   {
    "duration": 1986,
    "start_time": "2023-02-21T09:12:58.894Z"
   },
   {
    "duration": 50,
    "start_time": "2023-02-21T09:13:00.882Z"
   },
   {
    "duration": 5526,
    "start_time": "2023-02-21T09:13:00.934Z"
   },
   {
    "duration": 51,
    "start_time": "2023-02-21T09:13:06.462Z"
   },
   {
    "duration": 2813,
    "start_time": "2023-02-21T09:13:06.515Z"
   },
   {
    "duration": 14,
    "start_time": "2023-02-21T09:13:09.330Z"
   },
   {
    "duration": 9253,
    "start_time": "2023-02-21T09:13:09.346Z"
   },
   {
    "duration": 11,
    "start_time": "2023-02-21T09:13:18.601Z"
   },
   {
    "duration": 5,
    "start_time": "2023-02-21T09:13:18.614Z"
   },
   {
    "duration": 8,
    "start_time": "2023-02-21T09:13:18.622Z"
   },
   {
    "duration": 17,
    "start_time": "2023-02-21T09:13:18.632Z"
   },
   {
    "duration": 6,
    "start_time": "2023-02-21T09:13:18.651Z"
   },
   {
    "duration": 5,
    "start_time": "2023-02-21T09:13:18.659Z"
   },
   {
    "duration": 38245,
    "start_time": "2023-02-21T09:13:18.666Z"
   },
   {
    "duration": 45396,
    "start_time": "2023-02-21T09:13:56.913Z"
   },
   {
    "duration": 4,
    "start_time": "2023-02-21T09:14:42.311Z"
   },
   {
    "duration": 90223,
    "start_time": "2023-02-21T09:14:42.404Z"
   },
   {
    "duration": 148227,
    "start_time": "2023-02-21T09:16:12.628Z"
   },
   {
    "duration": 3,
    "start_time": "2023-02-21T09:18:40.857Z"
   },
   {
    "duration": 3107,
    "start_time": "2023-02-21T09:18:40.861Z"
   },
   {
    "duration": 3,
    "start_time": "2023-02-21T09:18:43.969Z"
   },
   {
    "duration": 7,
    "start_time": "2023-02-21T09:18:43.974Z"
   },
   {
    "duration": 232488,
    "start_time": "2023-02-21T09:18:43.982Z"
   },
   {
    "duration": 140,
    "start_time": "2023-02-21T09:22:36.472Z"
   },
   {
    "duration": 69,
    "start_time": "2023-02-21T09:22:36.615Z"
   },
   {
    "duration": 11,
    "start_time": "2023-02-21T09:22:36.692Z"
   },
   {
    "duration": 47440,
    "start_time": "2023-02-21T09:22:36.706Z"
   },
   {
    "duration": 3,
    "start_time": "2023-02-21T09:23:24.148Z"
   },
   {
    "duration": 265252,
    "start_time": "2023-02-21T09:23:24.153Z"
   },
   {
    "duration": 408,
    "start_time": "2023-02-21T09:27:49.407Z"
   },
   {
    "duration": 10,
    "start_time": "2023-02-21T09:27:49.818Z"
   },
   {
    "duration": 8,
    "start_time": "2023-02-21T09:27:49.830Z"
   },
   {
    "duration": 16,
    "start_time": "2023-02-21T09:27:49.839Z"
   },
   {
    "duration": 216,
    "start_time": "2023-02-21T09:27:49.857Z"
   },
   {
    "duration": 31,
    "start_time": "2023-02-21T09:27:50.075Z"
   },
   {
    "duration": 23,
    "start_time": "2023-02-21T09:27:50.108Z"
   },
   {
    "duration": 10,
    "start_time": "2023-02-21T09:27:50.133Z"
   },
   {
    "duration": 298,
    "start_time": "2023-02-21T09:27:50.145Z"
   },
   {
    "duration": 22509,
    "start_time": "2023-02-21T11:22:14.367Z"
   },
   {
    "duration": 1940,
    "start_time": "2023-02-21T11:22:36.878Z"
   },
   {
    "duration": 3,
    "start_time": "2023-02-21T11:22:38.820Z"
   },
   {
    "duration": 62,
    "start_time": "2023-02-21T11:22:38.826Z"
   },
   {
    "duration": 359,
    "start_time": "2023-02-21T11:22:38.890Z"
   },
   {
    "duration": 13,
    "start_time": "2023-02-21T11:22:39.250Z"
   },
   {
    "duration": 54,
    "start_time": "2023-02-21T11:22:39.265Z"
   },
   {
    "duration": 3,
    "start_time": "2023-02-21T11:22:39.321Z"
   },
   {
    "duration": 10,
    "start_time": "2023-02-21T11:22:39.326Z"
   },
   {
    "duration": 15,
    "start_time": "2023-02-21T11:22:39.340Z"
   },
   {
    "duration": 4,
    "start_time": "2023-02-21T11:22:39.356Z"
   },
   {
    "duration": 71,
    "start_time": "2023-02-21T11:22:39.362Z"
   },
   {
    "duration": 95,
    "start_time": "2023-02-21T11:22:39.435Z"
   },
   {
    "duration": 7,
    "start_time": "2023-02-21T11:22:39.531Z"
   },
   {
    "duration": 11965,
    "start_time": "2023-02-21T11:22:39.539Z"
   },
   {
    "duration": 8,
    "start_time": "2023-02-21T11:22:51.506Z"
   },
   {
    "duration": 14,
    "start_time": "2023-02-21T11:22:51.515Z"
   },
   {
    "duration": 14,
    "start_time": "2023-02-21T11:22:51.530Z"
   },
   {
    "duration": 68,
    "start_time": "2023-02-21T11:22:51.545Z"
   },
   {
    "duration": 6,
    "start_time": "2023-02-21T11:22:51.614Z"
   },
   {
    "duration": 10,
    "start_time": "2023-02-21T11:22:51.621Z"
   },
   {
    "duration": 17,
    "start_time": "2023-02-21T11:22:51.633Z"
   },
   {
    "duration": 20,
    "start_time": "2023-02-21T11:22:51.651Z"
   },
   {
    "duration": 4,
    "start_time": "2023-02-21T11:22:51.673Z"
   },
   {
    "duration": 4,
    "start_time": "2023-02-21T11:22:51.679Z"
   },
   {
    "duration": 94,
    "start_time": "2023-02-21T11:22:51.685Z"
   },
   {
    "duration": 4,
    "start_time": "2023-02-21T11:22:51.781Z"
   },
   {
    "duration": 2463,
    "start_time": "2023-02-21T11:22:52.013Z"
   },
   {
    "duration": 3,
    "start_time": "2023-02-21T11:22:54.477Z"
   },
   {
    "duration": 7,
    "start_time": "2023-02-21T11:22:54.482Z"
   },
   {
    "duration": 13,
    "start_time": "2023-02-21T11:22:54.491Z"
   },
   {
    "duration": 12,
    "start_time": "2023-02-21T11:22:54.506Z"
   },
   {
    "duration": 15,
    "start_time": "2023-02-21T11:22:54.519Z"
   },
   {
    "duration": 10,
    "start_time": "2023-02-21T11:22:54.535Z"
   },
   {
    "duration": 11,
    "start_time": "2023-02-21T11:22:54.548Z"
   },
   {
    "duration": 7,
    "start_time": "2023-02-21T11:22:54.560Z"
   },
   {
    "duration": 889,
    "start_time": "2023-02-21T11:22:54.569Z"
   },
   {
    "duration": 25,
    "start_time": "2023-02-21T11:22:55.461Z"
   },
   {
    "duration": 1603,
    "start_time": "2023-02-21T11:22:55.488Z"
   },
   {
    "duration": 7,
    "start_time": "2023-02-21T11:22:57.093Z"
   },
   {
    "duration": 388,
    "start_time": "2023-02-21T11:22:57.104Z"
   },
   {
    "duration": 22,
    "start_time": "2023-02-21T11:22:57.494Z"
   },
   {
    "duration": 12,
    "start_time": "2023-02-21T11:22:57.518Z"
   },
   {
    "duration": 2022,
    "start_time": "2023-02-21T11:22:57.533Z"
   },
   {
    "duration": 47,
    "start_time": "2023-02-21T11:22:59.556Z"
   },
   {
    "duration": 5273,
    "start_time": "2023-02-21T11:22:59.605Z"
   },
   {
    "duration": 48,
    "start_time": "2023-02-21T11:23:04.879Z"
   },
   {
    "duration": 2930,
    "start_time": "2023-02-21T11:23:04.928Z"
   },
   {
    "duration": 12,
    "start_time": "2023-02-21T11:23:07.859Z"
   },
   {
    "duration": 9775,
    "start_time": "2023-02-21T11:23:07.873Z"
   },
   {
    "duration": 11,
    "start_time": "2023-02-21T11:23:17.649Z"
   },
   {
    "duration": 5,
    "start_time": "2023-02-21T11:23:17.661Z"
   },
   {
    "duration": 7,
    "start_time": "2023-02-21T11:23:17.668Z"
   },
   {
    "duration": 21,
    "start_time": "2023-02-21T11:23:17.676Z"
   },
   {
    "duration": 8,
    "start_time": "2023-02-21T11:23:17.698Z"
   },
   {
    "duration": 8,
    "start_time": "2023-02-21T11:23:17.708Z"
   },
   {
    "duration": 47191,
    "start_time": "2023-02-21T11:23:17.717Z"
   },
   {
    "duration": 57592,
    "start_time": "2023-02-21T11:24:04.915Z"
   },
   {
    "duration": 92,
    "start_time": "2023-02-21T11:25:02.512Z"
   },
   {
    "duration": 87452,
    "start_time": "2023-02-21T11:25:02.606Z"
   },
   {
    "duration": 140812,
    "start_time": "2023-02-21T11:26:30.060Z"
   },
   {
    "duration": 2,
    "start_time": "2023-02-21T11:28:50.874Z"
   },
   {
    "duration": 2978,
    "start_time": "2023-02-21T11:28:50.878Z"
   },
   {
    "duration": 3,
    "start_time": "2023-02-21T11:28:53.858Z"
   },
   {
    "duration": 7,
    "start_time": "2023-02-21T11:28:53.862Z"
   },
   {
    "duration": 218176,
    "start_time": "2023-02-21T11:28:53.871Z"
   },
   {
    "duration": 142,
    "start_time": "2023-02-21T11:32:32.049Z"
   },
   {
    "duration": 71,
    "start_time": "2023-02-21T11:32:32.193Z"
   },
   {
    "duration": 4,
    "start_time": "2023-02-21T11:32:32.266Z"
   },
   {
    "duration": 44810,
    "start_time": "2023-02-21T11:32:32.272Z"
   },
   {
    "duration": 4,
    "start_time": "2023-02-21T11:33:17.084Z"
   },
   {
    "duration": 257824,
    "start_time": "2023-02-21T11:33:17.089Z"
   },
   {
    "duration": 427,
    "start_time": "2023-02-21T11:37:34.916Z"
   },
   {
    "duration": 204,
    "start_time": "2023-02-21T11:37:35.345Z"
   },
   {
    "duration": 0,
    "start_time": "2023-02-21T11:37:35.551Z"
   },
   {
    "duration": 0,
    "start_time": "2023-02-21T11:37:35.552Z"
   },
   {
    "duration": 0,
    "start_time": "2023-02-21T11:37:35.553Z"
   },
   {
    "duration": 0,
    "start_time": "2023-02-21T11:37:35.554Z"
   },
   {
    "duration": 0,
    "start_time": "2023-02-21T11:37:35.556Z"
   },
   {
    "duration": 0,
    "start_time": "2023-02-21T11:37:35.556Z"
   },
   {
    "duration": 0,
    "start_time": "2023-02-21T11:37:35.557Z"
   },
   {
    "duration": 16,
    "start_time": "2023-02-21T11:44:52.888Z"
   },
   {
    "duration": 5,
    "start_time": "2023-02-21T11:44:57.066Z"
   },
   {
    "duration": 7,
    "start_time": "2023-02-21T11:44:57.826Z"
   },
   {
    "duration": 186,
    "start_time": "2023-02-21T11:44:58.800Z"
   },
   {
    "duration": 15,
    "start_time": "2023-02-21T11:44:59.394Z"
   },
   {
    "duration": 22,
    "start_time": "2023-02-21T11:44:59.966Z"
   },
   {
    "duration": 11,
    "start_time": "2023-02-21T11:45:00.752Z"
   },
   {
    "duration": 277,
    "start_time": "2023-02-21T11:45:00.942Z"
   },
   {
    "duration": 16,
    "start_time": "2023-02-21T11:45:32.135Z"
   },
   {
    "duration": 80,
    "start_time": "2023-02-21T11:45:49.740Z"
   },
   {
    "duration": 73,
    "start_time": "2023-02-21T11:46:23.188Z"
   },
   {
    "duration": 25693,
    "start_time": "2023-02-21T12:40:53.272Z"
   },
   {
    "duration": 2337,
    "start_time": "2023-02-21T12:41:18.967Z"
   },
   {
    "duration": 4,
    "start_time": "2023-02-21T12:41:21.306Z"
   },
   {
    "duration": 53,
    "start_time": "2023-02-21T12:41:21.312Z"
   },
   {
    "duration": 306,
    "start_time": "2023-02-21T12:41:21.367Z"
   },
   {
    "duration": 19,
    "start_time": "2023-02-21T12:41:21.675Z"
   },
   {
    "duration": 67,
    "start_time": "2023-02-21T12:41:21.696Z"
   },
   {
    "duration": 4,
    "start_time": "2023-02-21T12:41:21.765Z"
   },
   {
    "duration": 8,
    "start_time": "2023-02-21T12:41:21.771Z"
   },
   {
    "duration": 17,
    "start_time": "2023-02-21T12:41:21.783Z"
   },
   {
    "duration": 5,
    "start_time": "2023-02-21T12:41:21.802Z"
   },
   {
    "duration": 99,
    "start_time": "2023-02-21T12:41:21.809Z"
   },
   {
    "duration": 96,
    "start_time": "2023-02-21T12:41:21.911Z"
   },
   {
    "duration": 16,
    "start_time": "2023-02-21T12:41:22.010Z"
   },
   {
    "duration": 13477,
    "start_time": "2023-02-21T12:41:22.028Z"
   },
   {
    "duration": 12,
    "start_time": "2023-02-21T12:41:35.508Z"
   },
   {
    "duration": 8,
    "start_time": "2023-02-21T12:41:35.528Z"
   },
   {
    "duration": 25,
    "start_time": "2023-02-21T12:41:35.538Z"
   },
   {
    "duration": 21,
    "start_time": "2023-02-21T12:41:35.566Z"
   },
   {
    "duration": 43,
    "start_time": "2023-02-21T12:41:35.589Z"
   },
   {
    "duration": 12,
    "start_time": "2023-02-21T12:41:35.633Z"
   },
   {
    "duration": 12,
    "start_time": "2023-02-21T12:41:35.647Z"
   },
   {
    "duration": 10,
    "start_time": "2023-02-21T12:41:35.661Z"
   },
   {
    "duration": 6,
    "start_time": "2023-02-21T12:41:35.673Z"
   },
   {
    "duration": 5,
    "start_time": "2023-02-21T12:41:35.680Z"
   },
   {
    "duration": 123,
    "start_time": "2023-02-21T12:41:35.687Z"
   },
   {
    "duration": 16,
    "start_time": "2023-02-21T12:41:35.812Z"
   },
   {
    "duration": 2679,
    "start_time": "2023-02-21T12:41:35.831Z"
   },
   {
    "duration": 3,
    "start_time": "2023-02-21T12:41:38.512Z"
   },
   {
    "duration": 32,
    "start_time": "2023-02-21T12:41:38.517Z"
   },
   {
    "duration": 26,
    "start_time": "2023-02-21T12:41:38.551Z"
   },
   {
    "duration": 24,
    "start_time": "2023-02-21T12:41:38.579Z"
   },
   {
    "duration": 14,
    "start_time": "2023-02-21T12:41:38.605Z"
   },
   {
    "duration": 19,
    "start_time": "2023-02-21T12:41:38.621Z"
   },
   {
    "duration": 25,
    "start_time": "2023-02-21T12:41:38.643Z"
   },
   {
    "duration": 15,
    "start_time": "2023-02-21T12:41:38.669Z"
   },
   {
    "duration": 913,
    "start_time": "2023-02-21T12:41:38.686Z"
   },
   {
    "duration": 34,
    "start_time": "2023-02-21T12:41:39.601Z"
   },
   {
    "duration": 1814,
    "start_time": "2023-02-21T12:41:39.636Z"
   },
   {
    "duration": 6,
    "start_time": "2023-02-21T12:41:41.451Z"
   },
   {
    "duration": 12,
    "start_time": "2023-02-21T12:41:41.459Z"
   },
   {
    "duration": 5,
    "start_time": "2023-02-21T12:41:41.473Z"
   },
   {
    "duration": 18,
    "start_time": "2023-02-21T12:41:41.479Z"
   },
   {
    "duration": 1977,
    "start_time": "2023-02-21T12:41:41.499Z"
   },
   {
    "duration": 63,
    "start_time": "2023-02-21T12:41:43.479Z"
   },
   {
    "duration": 5644,
    "start_time": "2023-02-21T12:41:43.544Z"
   },
   {
    "duration": 86,
    "start_time": "2023-02-21T12:41:49.191Z"
   },
   {
    "duration": 3389,
    "start_time": "2023-02-21T12:41:49.280Z"
   },
   {
    "duration": 16,
    "start_time": "2023-02-21T12:41:52.671Z"
   },
   {
    "duration": 10333,
    "start_time": "2023-02-21T12:41:52.689Z"
   },
   {
    "duration": 11,
    "start_time": "2023-02-21T12:42:03.024Z"
   },
   {
    "duration": 6,
    "start_time": "2023-02-21T12:42:03.037Z"
   },
   {
    "duration": 6,
    "start_time": "2023-02-21T12:42:03.044Z"
   },
   {
    "duration": 6,
    "start_time": "2023-02-21T12:42:03.052Z"
   },
   {
    "duration": 8,
    "start_time": "2023-02-21T12:42:03.060Z"
   },
   {
    "duration": 34,
    "start_time": "2023-02-21T12:42:03.070Z"
   },
   {
    "duration": 41927,
    "start_time": "2023-02-21T12:42:03.106Z"
   },
   {
    "duration": 43405,
    "start_time": "2023-02-21T12:42:45.035Z"
   },
   {
    "duration": 84,
    "start_time": "2023-02-21T12:43:28.443Z"
   },
   {
    "duration": 91762,
    "start_time": "2023-02-21T12:43:28.529Z"
   },
   {
    "duration": 147700,
    "start_time": "2023-02-21T12:45:00.293Z"
   },
   {
    "duration": 3,
    "start_time": "2023-02-21T12:47:27.996Z"
   },
   {
    "duration": 3178,
    "start_time": "2023-02-21T12:47:28.001Z"
   },
   {
    "duration": 3,
    "start_time": "2023-02-21T12:47:31.182Z"
   },
   {
    "duration": 13,
    "start_time": "2023-02-21T12:47:31.187Z"
   },
   {
    "duration": 221050,
    "start_time": "2023-02-21T12:47:31.202Z"
   },
   {
    "duration": 133,
    "start_time": "2023-02-21T12:51:12.254Z"
   },
   {
    "duration": 65,
    "start_time": "2023-02-21T12:51:12.388Z"
   },
   {
    "duration": 3,
    "start_time": "2023-02-21T12:51:12.455Z"
   },
   {
    "duration": 45553,
    "start_time": "2023-02-21T12:51:12.460Z"
   },
   {
    "duration": 4,
    "start_time": "2023-02-21T12:51:58.015Z"
   },
   {
    "duration": 263612,
    "start_time": "2023-02-21T12:51:58.021Z"
   },
   {
    "duration": 411,
    "start_time": "2023-02-21T12:56:21.635Z"
   },
   {
    "duration": 5,
    "start_time": "2023-02-21T12:56:22.048Z"
   },
   {
    "duration": 13,
    "start_time": "2023-02-21T12:56:22.055Z"
   },
   {
    "duration": 226,
    "start_time": "2023-02-21T12:56:22.070Z"
   },
   {
    "duration": 29,
    "start_time": "2023-02-21T12:56:22.298Z"
   },
   {
    "duration": 24,
    "start_time": "2023-02-21T12:56:22.329Z"
   },
   {
    "duration": 11,
    "start_time": "2023-02-21T12:56:22.355Z"
   },
   {
    "duration": 301,
    "start_time": "2023-02-21T12:56:22.368Z"
   },
   {
    "duration": 5,
    "start_time": "2023-02-21T12:58:32.109Z"
   },
   {
    "duration": 99862,
    "start_time": "2023-02-21T15:56:31.112Z"
   },
   {
    "duration": 9225,
    "start_time": "2023-02-21T15:58:10.977Z"
   },
   {
    "duration": 6,
    "start_time": "2023-02-21T15:58:20.210Z"
   },
   {
    "duration": 308,
    "start_time": "2023-02-21T15:58:20.270Z"
   },
   {
    "duration": 410,
    "start_time": "2023-02-21T15:58:20.596Z"
   },
   {
    "duration": 126,
    "start_time": "2023-02-21T15:58:21.068Z"
   },
   {
    "duration": 418,
    "start_time": "2023-02-21T15:58:21.196Z"
   },
   {
    "duration": 10,
    "start_time": "2023-02-21T15:58:21.668Z"
   },
   {
    "duration": 321,
    "start_time": "2023-02-21T15:58:21.690Z"
   },
   {
    "duration": 264,
    "start_time": "2023-02-21T15:58:22.017Z"
   },
   {
    "duration": 31,
    "start_time": "2023-02-21T15:58:22.288Z"
   },
   {
    "duration": 695,
    "start_time": "2023-02-21T15:58:22.321Z"
   },
   {
    "duration": 532,
    "start_time": "2023-02-21T15:58:23.066Z"
   },
   {
    "duration": 67,
    "start_time": "2023-02-21T15:58:23.607Z"
   },
   {
    "duration": 60719,
    "start_time": "2023-02-21T15:58:23.676Z"
   },
   {
    "duration": 17,
    "start_time": "2023-02-21T15:59:24.397Z"
   },
   {
    "duration": 93,
    "start_time": "2023-02-21T15:59:24.417Z"
   },
   {
    "duration": 78,
    "start_time": "2023-02-21T15:59:24.526Z"
   },
   {
    "duration": 173,
    "start_time": "2023-02-21T15:59:24.606Z"
   },
   {
    "duration": 88,
    "start_time": "2023-02-21T15:59:24.783Z"
   },
   {
    "duration": 191,
    "start_time": "2023-02-21T15:59:24.882Z"
   },
   {
    "duration": 141,
    "start_time": "2023-02-21T15:59:25.081Z"
   },
   {
    "duration": 141,
    "start_time": "2023-02-21T15:59:25.231Z"
   },
   {
    "duration": 110,
    "start_time": "2023-02-21T15:59:25.397Z"
   },
   {
    "duration": 58,
    "start_time": "2023-02-21T15:59:25.527Z"
   },
   {
    "duration": 1211,
    "start_time": "2023-02-21T15:59:25.587Z"
   },
   {
    "duration": 63,
    "start_time": "2023-02-21T15:59:26.806Z"
   },
   {
    "duration": 13144,
    "start_time": "2023-02-21T15:59:26.881Z"
   },
   {
    "duration": 8,
    "start_time": "2023-02-21T15:59:40.032Z"
   },
   {
    "duration": 100,
    "start_time": "2023-02-21T15:59:40.074Z"
   },
   {
    "duration": 88,
    "start_time": "2023-02-21T15:59:40.194Z"
   },
   {
    "duration": 92,
    "start_time": "2023-02-21T15:59:40.292Z"
   },
   {
    "duration": 211,
    "start_time": "2023-02-21T15:59:40.391Z"
   },
   {
    "duration": 70,
    "start_time": "2023-02-21T15:59:40.604Z"
   },
   {
    "duration": 206,
    "start_time": "2023-02-21T15:59:40.676Z"
   },
   {
    "duration": 84,
    "start_time": "2023-02-21T15:59:40.894Z"
   },
   {
    "duration": 4931,
    "start_time": "2023-02-21T15:59:40.984Z"
   },
   {
    "duration": 88,
    "start_time": "2023-02-21T15:59:45.921Z"
   },
   {
    "duration": 6761,
    "start_time": "2023-02-21T15:59:46.029Z"
   },
   {
    "duration": 12,
    "start_time": "2023-02-21T15:59:52.797Z"
   },
   {
    "duration": 56,
    "start_time": "2023-02-21T15:59:52.816Z"
   },
   {
    "duration": 140,
    "start_time": "2023-02-21T15:59:52.876Z"
   },
   {
    "duration": 162,
    "start_time": "2023-02-21T15:59:53.018Z"
   },
   {
    "duration": 10399,
    "start_time": "2023-02-21T15:59:53.182Z"
   },
   {
    "duration": 326,
    "start_time": "2023-02-21T16:00:03.584Z"
   },
   {
    "duration": 26723,
    "start_time": "2023-02-21T16:00:03.985Z"
   },
   {
    "duration": 366,
    "start_time": "2023-02-21T16:00:30.710Z"
   },
   {
    "duration": 13122,
    "start_time": "2023-02-21T16:00:31.081Z"
   },
   {
    "duration": 80,
    "start_time": "2023-02-21T16:00:44.208Z"
   },
   {
    "duration": 45582,
    "start_time": "2023-02-21T16:00:44.297Z"
   },
   {
    "duration": 31,
    "start_time": "2023-02-21T16:01:29.883Z"
   },
   {
    "duration": 103,
    "start_time": "2023-02-21T16:01:29.969Z"
   },
   {
    "duration": 193,
    "start_time": "2023-02-21T16:01:30.077Z"
   },
   {
    "duration": 103,
    "start_time": "2023-02-21T16:01:30.272Z"
   },
   {
    "duration": 125,
    "start_time": "2023-02-21T16:01:30.377Z"
   },
   {
    "duration": 212,
    "start_time": "2023-02-21T16:01:30.504Z"
   },
   {
    "duration": 253093,
    "start_time": "2023-02-21T16:01:30.718Z"
   },
   {
    "duration": 256525,
    "start_time": "2023-02-21T16:05:43.868Z"
   },
   {
    "duration": 8,
    "start_time": "2023-02-21T16:10:00.411Z"
   },
   {
    "duration": 427188,
    "start_time": "2023-02-21T16:10:00.485Z"
   },
   {
    "duration": 681655,
    "start_time": "2023-02-21T16:17:07.688Z"
   },
   {
    "duration": 3,
    "start_time": "2023-02-21T16:28:29.345Z"
   },
   {
    "duration": 3278,
    "start_time": "2023-02-21T16:28:29.350Z"
   },
   {
    "duration": 3,
    "start_time": "2023-02-21T16:28:32.630Z"
   },
   {
    "duration": 23,
    "start_time": "2023-02-21T16:28:32.634Z"
   },
   {
    "duration": 233238,
    "start_time": "2023-02-22T12:57:30.365Z"
   },
   {
    "duration": 253,
    "start_time": "2023-02-22T13:01:23.606Z"
   },
   {
    "duration": 109,
    "start_time": "2023-02-22T13:01:23.862Z"
   },
   {
    "duration": 3,
    "start_time": "2023-02-22T13:01:23.973Z"
   },
   {
    "duration": 56157,
    "start_time": "2023-02-22T13:01:23.978Z"
   },
   {
    "duration": 4,
    "start_time": "2023-02-22T13:02:20.136Z"
   },
   {
    "duration": 326262,
    "start_time": "2023-02-22T13:02:20.142Z"
   },
   {
    "duration": 491,
    "start_time": "2023-02-22T13:07:46.406Z"
   },
   {
    "duration": 7,
    "start_time": "2023-02-22T13:07:46.898Z"
   },
   {
    "duration": 10,
    "start_time": "2023-02-22T13:07:46.907Z"
   },
   {
    "duration": 209,
    "start_time": "2023-02-22T13:07:46.919Z"
   },
   {
    "duration": 19,
    "start_time": "2023-02-22T13:07:47.129Z"
   },
   {
    "duration": 23,
    "start_time": "2023-02-22T13:07:47.150Z"
   },
   {
    "duration": 37,
    "start_time": "2023-02-22T13:07:47.175Z"
   },
   {
    "duration": 311,
    "start_time": "2023-02-22T13:07:47.214Z"
   },
   {
    "duration": 6949,
    "start_time": "2023-02-22T13:08:47.871Z"
   },
   {
    "duration": 1933,
    "start_time": "2023-02-22T13:08:54.823Z"
   },
   {
    "duration": 3,
    "start_time": "2023-02-22T13:08:56.758Z"
   },
   {
    "duration": 38,
    "start_time": "2023-02-22T13:08:56.764Z"
   },
   {
    "duration": 79,
    "start_time": "2023-02-22T13:08:56.804Z"
   },
   {
    "duration": 32,
    "start_time": "2023-02-22T13:08:56.884Z"
   },
   {
    "duration": 68,
    "start_time": "2023-02-22T13:08:56.918Z"
   },
   {
    "duration": 5,
    "start_time": "2023-02-22T13:08:57.004Z"
   },
   {
    "duration": 9,
    "start_time": "2023-02-22T13:08:57.010Z"
   },
   {
    "duration": 18,
    "start_time": "2023-02-22T13:08:57.022Z"
   },
   {
    "duration": 4,
    "start_time": "2023-02-22T13:08:57.041Z"
   },
   {
    "duration": 87,
    "start_time": "2023-02-22T13:08:57.047Z"
   },
   {
    "duration": 115,
    "start_time": "2023-02-22T13:08:57.136Z"
   },
   {
    "duration": 10,
    "start_time": "2023-02-22T13:08:57.254Z"
   },
   {
    "duration": 13050,
    "start_time": "2023-02-22T13:08:57.266Z"
   },
   {
    "duration": 9,
    "start_time": "2023-02-22T13:09:10.318Z"
   },
   {
    "duration": 9,
    "start_time": "2023-02-22T13:09:10.329Z"
   },
   {
    "duration": 17,
    "start_time": "2023-02-22T13:09:10.340Z"
   },
   {
    "duration": 57,
    "start_time": "2023-02-22T13:09:10.359Z"
   },
   {
    "duration": 6,
    "start_time": "2023-02-22T13:09:10.417Z"
   },
   {
    "duration": 16,
    "start_time": "2023-02-22T13:09:10.425Z"
   },
   {
    "duration": 8,
    "start_time": "2023-02-22T13:09:10.443Z"
   },
   {
    "duration": 10,
    "start_time": "2023-02-22T13:09:10.453Z"
   },
   {
    "duration": 38,
    "start_time": "2023-02-22T13:09:10.465Z"
   },
   {
    "duration": 3,
    "start_time": "2023-02-22T13:09:10.505Z"
   },
   {
    "duration": 98,
    "start_time": "2023-02-22T13:09:10.510Z"
   },
   {
    "duration": 5,
    "start_time": "2023-02-22T13:09:10.610Z"
   },
   {
    "duration": 2680,
    "start_time": "2023-02-22T13:09:10.884Z"
   },
   {
    "duration": 3,
    "start_time": "2023-02-22T13:09:13.566Z"
   },
   {
    "duration": 8,
    "start_time": "2023-02-22T13:09:13.570Z"
   },
   {
    "duration": 10,
    "start_time": "2023-02-22T13:09:13.579Z"
   },
   {
    "duration": 14,
    "start_time": "2023-02-22T13:09:13.590Z"
   },
   {
    "duration": 5,
    "start_time": "2023-02-22T13:09:13.606Z"
   },
   {
    "duration": 9,
    "start_time": "2023-02-22T13:09:13.612Z"
   },
   {
    "duration": 7,
    "start_time": "2023-02-22T13:09:13.623Z"
   },
   {
    "duration": 9,
    "start_time": "2023-02-22T13:09:13.632Z"
   },
   {
    "duration": 1014,
    "start_time": "2023-02-22T13:09:13.643Z"
   },
   {
    "duration": 31,
    "start_time": "2023-02-22T13:09:14.659Z"
   },
   {
    "duration": 1592,
    "start_time": "2023-02-22T13:09:14.703Z"
   },
   {
    "duration": 6,
    "start_time": "2023-02-22T13:09:16.297Z"
   },
   {
    "duration": 11,
    "start_time": "2023-02-22T13:09:16.305Z"
   },
   {
    "duration": 7,
    "start_time": "2023-02-22T13:09:16.318Z"
   },
   {
    "duration": 13,
    "start_time": "2023-02-22T13:09:16.326Z"
   },
   {
    "duration": 1813,
    "start_time": "2023-02-22T13:09:16.341Z"
   },
   {
    "duration": 51,
    "start_time": "2023-02-22T13:09:18.156Z"
   },
   {
    "duration": 5264,
    "start_time": "2023-02-22T13:09:18.209Z"
   },
   {
    "duration": 52,
    "start_time": "2023-02-22T13:09:23.475Z"
   },
   {
    "duration": 2961,
    "start_time": "2023-02-22T13:09:23.528Z"
   },
   {
    "duration": 12,
    "start_time": "2023-02-22T13:09:26.491Z"
   },
   {
    "duration": 9415,
    "start_time": "2023-02-22T13:09:26.505Z"
   },
   {
    "duration": 11,
    "start_time": "2023-02-22T13:09:35.922Z"
   },
   {
    "duration": 7,
    "start_time": "2023-02-22T13:09:35.935Z"
   },
   {
    "duration": 15,
    "start_time": "2023-02-22T13:09:35.944Z"
   },
   {
    "duration": 12,
    "start_time": "2023-02-22T13:09:35.961Z"
   },
   {
    "duration": 34,
    "start_time": "2023-02-22T13:09:35.975Z"
   },
   {
    "duration": 7,
    "start_time": "2023-02-22T13:09:36.011Z"
   },
   {
    "duration": 40794,
    "start_time": "2023-02-22T13:09:36.020Z"
   },
   {
    "duration": 58297,
    "start_time": "2023-02-22T13:10:16.816Z"
   },
   {
    "duration": 94,
    "start_time": "2023-02-22T13:11:15.115Z"
   },
   {
    "duration": 90447,
    "start_time": "2023-02-22T13:11:15.214Z"
   },
   {
    "duration": 146558,
    "start_time": "2023-02-22T13:12:45.663Z"
   },
   {
    "duration": 3,
    "start_time": "2023-02-22T13:15:12.223Z"
   },
   {
    "duration": 3109,
    "start_time": "2023-02-22T13:15:12.227Z"
   },
   {
    "duration": 3,
    "start_time": "2023-02-22T13:15:15.338Z"
   },
   {
    "duration": 13,
    "start_time": "2023-02-22T13:15:15.342Z"
   },
   {
    "duration": 232666,
    "start_time": "2023-02-22T13:15:15.356Z"
   },
   {
    "duration": 123,
    "start_time": "2023-02-22T13:19:08.024Z"
   },
   {
    "duration": 69,
    "start_time": "2023-02-22T13:19:08.149Z"
   },
   {
    "duration": 3,
    "start_time": "2023-02-22T13:19:08.220Z"
   },
   {
    "duration": 45754,
    "start_time": "2023-02-22T13:19:08.224Z"
   },
   {
    "duration": 3,
    "start_time": "2023-02-22T13:19:53.980Z"
   },
   {
    "duration": 270226,
    "start_time": "2023-02-22T13:19:53.984Z"
   },
   {
    "duration": 414,
    "start_time": "2023-02-22T13:24:24.212Z"
   },
   {
    "duration": 6,
    "start_time": "2023-02-22T13:24:24.628Z"
   },
   {
    "duration": 10,
    "start_time": "2023-02-22T13:24:24.637Z"
   },
   {
    "duration": 226,
    "start_time": "2023-02-22T13:24:24.649Z"
   },
   {
    "duration": 18,
    "start_time": "2023-02-22T13:24:24.876Z"
   },
   {
    "duration": 21,
    "start_time": "2023-02-22T13:24:24.904Z"
   },
   {
    "duration": 15,
    "start_time": "2023-02-22T13:24:24.927Z"
   },
   {
    "duration": 323,
    "start_time": "2023-02-22T13:24:24.944Z"
   },
   {
    "duration": 5,
    "start_time": "2023-02-25T16:03:10.401Z"
   },
   {
    "duration": 2,
    "start_time": "2023-02-25T16:03:48.650Z"
   }
  ],
  "kernelspec": {
   "display_name": "Python 3 (ipykernel)",
   "language": "python",
   "name": "python3"
  },
  "language_info": {
   "codemirror_mode": {
    "name": "ipython",
    "version": 3
   },
   "file_extension": ".py",
   "mimetype": "text/x-python",
   "name": "python",
   "nbconvert_exporter": "python",
   "pygments_lexer": "ipython3",
   "version": "3.9.5"
  },
  "toc": {
   "base_numbering": 1,
   "nav_menu": {},
   "number_sections": true,
   "sideBar": true,
   "skip_h1_title": true,
   "title_cell": "Table of Contents",
   "title_sidebar": "Contents",
   "toc_cell": false,
   "toc_position": {},
   "toc_section_display": true,
   "toc_window_display": false
  }
 },
 "nbformat": 4,
 "nbformat_minor": 2
}
