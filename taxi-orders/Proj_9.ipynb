{
 "cells": [
  {
   "cell_type": "markdown",
   "metadata": {
    "toc": true
   },
   "source": [
    "<h1>Содержание<span class=\"tocSkip\"></span></h1>\n",
    "<div class=\"toc\"><ul class=\"toc-item\"><li><span><a href=\"#Подготовка\" data-toc-modified-id=\"Подготовка-1\"><span class=\"toc-item-num\">1&nbsp;&nbsp;</span>Подготовка</a></span></li><li><span><a href=\"#Анализ\" data-toc-modified-id=\"Анализ-2\"><span class=\"toc-item-num\">2&nbsp;&nbsp;</span>Анализ</a></span></li><li><span><a href=\"#Обучение\" data-toc-modified-id=\"Обучение-3\"><span class=\"toc-item-num\">3&nbsp;&nbsp;</span>Обучение</a></span></li><li><span><a href=\"#Тестирование\" data-toc-modified-id=\"Тестирование-4\"><span class=\"toc-item-num\">4&nbsp;&nbsp;</span>Тестирование</a></span></li><li><span><a href=\"#Вывод\" data-toc-modified-id=\"Вывод-5\"><span class=\"toc-item-num\">5&nbsp;&nbsp;</span>Вывод</a></span></li></ul></div>"
   ]
  },
  {
   "cell_type": "markdown",
   "metadata": {},
   "source": [
    "#  Прогнозирование заказов такси"
   ]
  },
  {
   "cell_type": "markdown",
   "metadata": {},
   "source": [
    "Компания «Чётенькое такси» собрала исторические данные о заказах такси в аэропортах. Чтобы привлекать больше водителей в период пиковой нагрузки, нужно спрогнозировать количество заказов такси на следующий час. Постройте модель для такого предсказания.\n",
    "\n",
    "Значение метрики *RMSE* на тестовой выборке должно быть не больше 48.\n",
    "\n",
    "Вам нужно:\n",
    "\n",
    "1. Загрузить данные и выполнить их ресемплирование по одному часу.\n",
    "2. Проанализировать данные.\n",
    "3. Обучить разные модели с различными гиперпараметрами. Сделать тестовую выборку размером 10% от исходных данных.\n",
    "4. Проверить данные на тестовой выборке и сделать выводы.\n",
    "\n",
    "\n",
    "Данные лежат в файле `taxi.csv`. Количество заказов находится в столбце `num_orders` (от англ. *number of orders*, «число заказов»)."
   ]
  },
  {
   "cell_type": "markdown",
   "metadata": {},
   "source": [
    "Определения, используемые в работе\n",
    "- период - временной отрезок постоянной для всего ряда длины, на концах которого ряд принимает близкие значения,\n",
    "- сезонность - свойство периодичности (сезон=период),\n",
    "- тренд - тенденция к долгосрочному увеличению или уменьшению значений ряда."
   ]
  },
  {
   "cell_type": "markdown",
   "metadata": {},
   "source": [
    "## Подготовка"
   ]
  },
  {
   "cell_type": "code",
   "execution_count": 1,
   "metadata": {},
   "outputs": [],
   "source": [
    "import pandas as pd\n",
    "import matplotlib.pyplot as plt\n",
    "from collections import namedtuple\n",
    "\n",
    "from statsmodels.tsa.seasonal import seasonal_decompose\n",
    "from statsmodels.tsa.stattools import adfuller\n",
    "from statsmodels.graphics.tsaplots import plot_acf\n",
    "from statsmodels.tsa.stattools import adfuller\n",
    "\n",
    "from sklearn.model_selection import train_test_split, GridSearchCV, TimeSeriesSplit\n",
    "from sklearn.metrics import mean_squared_error\n",
    "from sklearn.linear_model import LinearRegression\n",
    "from sklearn.ensemble import RandomForestRegressor\n",
    "\n",
    "from catboost import CatBoostRegressor"
   ]
  },
  {
   "cell_type": "code",
   "execution_count": 2,
   "metadata": {},
   "outputs": [],
   "source": [
    "plt.rcParams[\"figure.figsize\"] = (15, 6)\n",
    "STATE = sum(ord(x) for x in 'NEVER SURRENDER')"
   ]
  },
  {
   "cell_type": "markdown",
   "metadata": {},
   "source": [
    "_______________________________"
   ]
  },
  {
   "cell_type": "markdown",
   "metadata": {},
   "source": [
    "Загрузим данные, отсортируем по времени и посмотрим основную информацию."
   ]
  },
  {
   "cell_type": "code",
   "execution_count": 3,
   "metadata": {},
   "outputs": [],
   "source": [
    "df_taxi = pd.read_csv('/datasets/taxi.csv', index_col='datetime', parse_dates=['datetime'])"
   ]
  },
  {
   "cell_type": "code",
   "execution_count": 4,
   "metadata": {},
   "outputs": [
    {
     "name": "stdout",
     "output_type": "stream",
     "text": [
      "<class 'pandas.core.frame.DataFrame'>\n",
      "DatetimeIndex: 26496 entries, 2018-03-01 00:00:00 to 2018-08-31 23:50:00\n",
      "Data columns (total 1 columns):\n",
      " #   Column      Non-Null Count  Dtype\n",
      "---  ------      --------------  -----\n",
      " 0   num_orders  26496 non-null  int64\n",
      "dtypes: int64(1)\n",
      "memory usage: 414.0 KB\n"
     ]
    }
   ],
   "source": [
    "# df_taxi.index.is_monotonic\n",
    "df_taxi.sort_index(inplace=True)\n",
    "df_taxi.info()"
   ]
  },
  {
   "cell_type": "markdown",
   "metadata": {},
   "source": [
    "Данные загружены, в них содержится информация о заказах такси с марта по август(включительно) 2018 года. Всего 26496 записей, пропущенных значений нет.\n",
    "\n",
    "Т.к. нам важно предсказание для каждого часа, можно сделать ресемплирование по 1 часу."
   ]
  },
  {
   "cell_type": "code",
   "execution_count": 5,
   "metadata": {},
   "outputs": [],
   "source": [
    "df_taxi = df_taxi.resample('1H').sum()"
   ]
  },
  {
   "cell_type": "markdown",
   "metadata": {},
   "source": [
    "Оценим, какие данные у нас есть:"
   ]
  },
  {
   "cell_type": "code",
   "execution_count": 6,
   "metadata": {},
   "outputs": [
    {
     "data": {
      "text/html": [
       "<div>\n",
       "<style scoped>\n",
       "    .dataframe tbody tr th:only-of-type {\n",
       "        vertical-align: middle;\n",
       "    }\n",
       "\n",
       "    .dataframe tbody tr th {\n",
       "        vertical-align: top;\n",
       "    }\n",
       "\n",
       "    .dataframe thead th {\n",
       "        text-align: right;\n",
       "    }\n",
       "</style>\n",
       "<table border=\"1\" class=\"dataframe\">\n",
       "  <thead>\n",
       "    <tr style=\"text-align: right;\">\n",
       "      <th></th>\n",
       "      <th>num_orders</th>\n",
       "    </tr>\n",
       "  </thead>\n",
       "  <tbody>\n",
       "    <tr>\n",
       "      <th>count</th>\n",
       "      <td>4416.000000</td>\n",
       "    </tr>\n",
       "    <tr>\n",
       "      <th>mean</th>\n",
       "      <td>84.422781</td>\n",
       "    </tr>\n",
       "    <tr>\n",
       "      <th>std</th>\n",
       "      <td>45.023853</td>\n",
       "    </tr>\n",
       "    <tr>\n",
       "      <th>min</th>\n",
       "      <td>0.000000</td>\n",
       "    </tr>\n",
       "    <tr>\n",
       "      <th>25%</th>\n",
       "      <td>54.000000</td>\n",
       "    </tr>\n",
       "    <tr>\n",
       "      <th>50%</th>\n",
       "      <td>78.000000</td>\n",
       "    </tr>\n",
       "    <tr>\n",
       "      <th>75%</th>\n",
       "      <td>107.000000</td>\n",
       "    </tr>\n",
       "    <tr>\n",
       "      <th>max</th>\n",
       "      <td>462.000000</td>\n",
       "    </tr>\n",
       "  </tbody>\n",
       "</table>\n",
       "</div>"
      ],
      "text/plain": [
       "        num_orders\n",
       "count  4416.000000\n",
       "mean     84.422781\n",
       "std      45.023853\n",
       "min       0.000000\n",
       "25%      54.000000\n",
       "50%      78.000000\n",
       "75%     107.000000\n",
       "max     462.000000"
      ]
     },
     "execution_count": 6,
     "metadata": {},
     "output_type": "execute_result"
    },
    {
     "data": {
      "image/png": "[encoded data removed]",
      "text/plain": [
       "<Figure size 1080x432 with 1 Axes>"
      ]
     },
     "metadata": {
      "needs_background": "light"
     },
     "output_type": "display_data"
    },
    {
     "data": {
      "image/png": "[encoded data removed]",
      "text/plain": [
       "<Figure size 1080x432 with 1 Axes>"
      ]
     },
     "metadata": {
      "needs_background": "light"
     },
     "output_type": "display_data"
    },
    {
     "data": {
      "image/png": "[encoded data removed]",
      "text/plain": [
       "<Figure size 1080x432 with 1 Axes>"
      ]
     },
     "metadata": {
      "needs_background": "light"
     },
     "output_type": "display_data"
    }
   ],
   "source": [
    "df_taxi.plot()\n",
    "df_taxi.hist(bins=100)  \n",
    "df_taxi.plot.box(vert=False);\n",
    "df_taxi.describe()"
   ]
  },
  {
   "cell_type": "markdown",
   "metadata": {},
   "source": [
    "Медианное количество заказов 78.\n",
    "\n",
    "Странным выглядит количество заказов более 280. Возможно, это ошибка данных или повышение спроса, связанное с праздничными днями и пр. Рассмотрим подробнее:"
   ]
  },
  {
   "cell_type": "code",
   "execution_count": 7,
   "metadata": {},
   "outputs": [
    {
     "data": {
      "text/html": [
       "<div>\n",
       "<style scoped>\n",
       "    .dataframe tbody tr th:only-of-type {\n",
       "        vertical-align: middle;\n",
       "    }\n",
       "\n",
       "    .dataframe tbody tr th {\n",
       "        vertical-align: top;\n",
       "    }\n",
       "\n",
       "    .dataframe thead th {\n",
       "        text-align: right;\n",
       "    }\n",
       "</style>\n",
       "<table border=\"1\" class=\"dataframe\">\n",
       "  <thead>\n",
       "    <tr style=\"text-align: right;\">\n",
       "      <th></th>\n",
       "      <th>num_orders</th>\n",
       "    </tr>\n",
       "    <tr>\n",
       "      <th>datetime</th>\n",
       "      <th></th>\n",
       "    </tr>\n",
       "  </thead>\n",
       "  <tbody>\n",
       "    <tr>\n",
       "      <th>2018-08-13 02:00:00</th>\n",
       "      <td>437</td>\n",
       "    </tr>\n",
       "    <tr>\n",
       "      <th>2018-08-18 00:00:00</th>\n",
       "      <td>281</td>\n",
       "    </tr>\n",
       "    <tr>\n",
       "      <th>2018-08-20 02:00:00</th>\n",
       "      <td>462</td>\n",
       "    </tr>\n",
       "    <tr>\n",
       "      <th>2018-08-26 00:00:00</th>\n",
       "      <td>281</td>\n",
       "    </tr>\n",
       "    <tr>\n",
       "      <th>2018-08-27 02:00:00</th>\n",
       "      <td>408</td>\n",
       "    </tr>\n",
       "    <tr>\n",
       "      <th>2018-08-27 04:00:00</th>\n",
       "      <td>295</td>\n",
       "    </tr>\n",
       "    <tr>\n",
       "      <th>2018-08-30 17:00:00</th>\n",
       "      <td>342</td>\n",
       "    </tr>\n",
       "  </tbody>\n",
       "</table>\n",
       "</div>"
      ],
      "text/plain": [
       "                     num_orders\n",
       "datetime                       \n",
       "2018-08-13 02:00:00         437\n",
       "2018-08-18 00:00:00         281\n",
       "2018-08-20 02:00:00         462\n",
       "2018-08-26 00:00:00         281\n",
       "2018-08-27 02:00:00         408\n",
       "2018-08-27 04:00:00         295\n",
       "2018-08-30 17:00:00         342"
      ]
     },
     "execution_count": 7,
     "metadata": {},
     "output_type": "execute_result"
    }
   ],
   "source": [
    "df_taxi.query('num_orders > 280')"
   ]
  },
  {
   "cell_type": "markdown",
   "metadata": {},
   "source": [
    "Можно заметить, что все значения относятся к августу 2018 года, в основном в ночное время. По графику plot можно заметить, что есть тенденция к общему увеличению количества заказов, предварительно будем считать, что все эти значения допустимы и ошибок нет. "
   ]
  },
  {
   "cell_type": "markdown",
   "metadata": {},
   "source": [
    "Проверим стационарность ряда по критерию Дики-Фуллера."
   ]
  },
  {
   "cell_type": "code",
   "execution_count": 8,
   "metadata": {},
   "outputs": [
    {
     "data": {
      "text/plain": [
       "(-10.891452237749158,\n",
       " 4.0549397892403547e-17,\n",
       " 31,\n",
       " 4384,\n",
       " {'1%': -4.373775161444573,\n",
       "  '5%': -3.8337377543683258,\n",
       "  '10%': -3.554095038926073},\n",
       " 41625.74040564322)"
      ]
     },
     "execution_count": 8,
     "metadata": {},
     "output_type": "execute_result"
    }
   ],
   "source": [
    "adfuller(df_taxi['num_orders'], regression='ctt')"
   ]
  },
  {
   "cell_type": "code",
   "execution_count": 9,
   "metadata": {},
   "outputs": [
    {
     "data": {
      "text/plain": [
       "'Adfuller p-value 4.0549e-17'"
      ]
     },
     "execution_count": 9,
     "metadata": {},
     "output_type": "execute_result"
    }
   ],
   "source": [
    "f\"Adfuller p-value {adfuller(df_taxi['num_orders'], regression='ctt')[1]:.4e}\""
   ]
  },
  {
   "cell_type": "markdown",
   "metadata": {},
   "source": [
    "**Вывод:** данные были загружены, проведено ресемплирование по 1 часу. Так же проведена предварительная оценка данных."
   ]
  },
  {
   "cell_type": "markdown",
   "metadata": {},
   "source": [
    "## Анализ"
   ]
  },
  {
   "cell_type": "markdown",
   "metadata": {},
   "source": [
    "Автокорреляция позволяет выявлять тренд и сезонность:"
   ]
  },
  {
   "cell_type": "code",
   "execution_count": 10,
   "metadata": {},
   "outputs": [
    {
     "data": {
      "image/png": "[encoded data removed]",
      "text/plain": [
       "<Figure size 1080x432 with 1 Axes>"
      ]
     },
     "metadata": {
      "needs_background": "light"
     },
     "output_type": "display_data"
    }
   ],
   "source": [
    "plot_acf(df_taxi, lags=49)\n",
    "plt.show()"
   ]
  },
  {
   "cell_type": "markdown",
   "metadata": {},
   "source": [
    "- постоянно положительная корреляция говорит о наличии тренда\n",
    "- например, заметно, что лаг 24 и 48 выделяются среди остальных и сильнее коррелируют с исходным рядом, чем соседние 23/25 и 47/49. Это позволяет предполагать наличие сезонных колебаний (ежедневных)\n",
    "- синяя граница помогает оценить значимость корреляции - во всех случаях столбец выходит за пределы, автокорреляция достаточно сильная и ее можно использовать для постоения модели\n",
    "\n",
    "\n",
    "Попробуем оценить, какой лаг имеет смысл брать для построения модели, построим автокорреляцию для недели (24*7) с шагом в 6 часов"
   ]
  },
  {
   "cell_type": "code",
   "execution_count": 11,
   "metadata": {},
   "outputs": [
    {
     "data": {
      "image/png": "[encoded data removed]",
      "text/plain": [
       "<Figure size 1080x432 with 1 Axes>"
      ]
     },
     "metadata": {
      "needs_background": "light"
     },
     "output_type": "display_data"
    }
   ],
   "source": [
    "plot_acf(df_taxi, lags=range(0,24*7,6))\n",
    "plt.show()"
   ]
  },
  {
   "cell_type": "markdown",
   "metadata": {},
   "source": [
    "По графику видно, что под конец 6 дня появляются значения корреляции, близкие к синей границы. \n",
    "_____________________"
   ]
  },
  {
   "cell_type": "markdown",
   "metadata": {},
   "source": [
    "Так же посмотрим автокорреляцию при ресемплировании на 1 день:"
   ]
  },
  {
   "cell_type": "code",
   "execution_count": 12,
   "metadata": {},
   "outputs": [
    {
     "data": {
      "image/png": "[encoded data removed]",
      "text/plain": [
       "<Figure size 1080x432 with 1 Axes>"
      ]
     },
     "metadata": {
      "needs_background": "light"
     },
     "output_type": "display_data"
    }
   ],
   "source": [
    "plot_acf(df_taxi.resample('1D').sum())\n",
    "plt.show()"
   ]
  },
  {
   "cell_type": "markdown",
   "metadata": {},
   "source": [
    "Можно увидеть, что 7,14, 21 чуть выше соседей, что говорит о наличии еженедельной сезонности.\n",
    "\n"
   ]
  },
  {
   "cell_type": "markdown",
   "metadata": {},
   "source": [
    "Рассмотрим подробнее сезонность и выделим необходимые признаки для модели."
   ]
  },
  {
   "cell_type": "code",
   "execution_count": 13,
   "metadata": {},
   "outputs": [
    {
     "data": {
      "image/png": "[encoded data removed]",
      "text/plain": [
       "<Figure size 1080x432 with 4 Axes>"
      ]
     },
     "metadata": {
      "needs_background": "light"
     },
     "output_type": "display_data"
    }
   ],
   "source": [
    "seasonal_decompose(df_taxi).plot();"
   ]
  },
  {
   "cell_type": "markdown",
   "metadata": {},
   "source": [
    "данные в таком виде анализировать сложно, но можно оценить в тренде, что со временем спрос на такси растет. \n",
    "\n",
    "Рассмотрим данные подробнее для месяца и недели:"
   ]
  },
  {
   "cell_type": "code",
   "execution_count": 14,
   "metadata": {},
   "outputs": [
    {
     "data": {
      "image/png": "[encoded data removed]",
      "text/plain": [
       "<Figure size 1080x432 with 4 Axes>"
      ]
     },
     "metadata": {
      "needs_background": "light"
     },
     "output_type": "display_data"
    }
   ],
   "source": [
    "seasonal_decompose(df_taxi['2018-08':]).plot();"
   ]
  },
  {
   "cell_type": "code",
   "execution_count": 15,
   "metadata": {},
   "outputs": [
    {
     "data": {
      "image/png": "[encoded data removed]",
      "text/plain": [
       "<Figure size 1080x432 with 4 Axes>"
      ]
     },
     "metadata": {
      "needs_background": "light"
     },
     "output_type": "display_data"
    }
   ],
   "source": [
    "seasonal_decompose(df_taxi['2018-08-25':]).plot();"
   ]
  },
  {
   "cell_type": "markdown",
   "metadata": {},
   "source": [
    "Можно заметить:\n",
    "- \"пик\" в начале дня, потом резкий спад(утренние часы) и вновь активность => **время** будет важным параметром\n",
    "- изменения линии тренда в зависимости от дня => **день недели** может быть важным параметром\n",
    "\n",
    "\n",
    "Добавим выделенные признаки в данные"
   ]
  },
  {
   "cell_type": "code",
   "execution_count": 16,
   "metadata": {},
   "outputs": [],
   "source": [
    "df_taxi['dayofweek'] = df_taxi.index.dayofweek\n",
    "df_taxi['hour'] = df_taxi.index.hour"
   ]
  },
  {
   "cell_type": "markdown",
   "metadata": {},
   "source": [
    "Создадим параметры для лагов и скользящего среднего.\n",
    "\n",
    "Т.к. используется параметр dayofweek, количество лагов можно ограничить значением 24."
   ]
  },
  {
   "cell_type": "code",
   "execution_count": 17,
   "metadata": {},
   "outputs": [],
   "source": [
    "for lag in range(1,24): \n",
    "    df_taxi[f'lag_{lag}'] = df_taxi['num_orders'].shift(lag)"
   ]
  },
  {
   "cell_type": "markdown",
   "metadata": {},
   "source": [
    "Скользящее среднее предварительно возьмем по максимальному лагу 24, посмотрим для последнего месяца:"
   ]
  },
  {
   "cell_type": "code",
   "execution_count": 18,
   "metadata": {
    "scrolled": true
   },
   "outputs": [
    {
     "data": {
      "image/png": "[encoded data removed]",
      "text/plain": [
       "<Figure size 1080x432 with 1 Axes>"
      ]
     },
     "metadata": {
      "needs_background": "light"
     },
     "output_type": "display_data"
    }
   ],
   "source": [
    "plt.plot(df_taxi['2018-08':]['num_orders'])\n",
    "plt.plot(df_taxi['2018-08':]['num_orders'].shift().rolling(24).mean());"
   ]
  },
  {
   "cell_type": "code",
   "execution_count": 19,
   "metadata": {},
   "outputs": [],
   "source": [
    "df_taxi['rolling'] = df_taxi['num_orders'].shift().rolling(24).mean()"
   ]
  },
  {
   "cell_type": "code",
   "execution_count": 20,
   "metadata": {},
   "outputs": [
    {
     "data": {
      "text/html": [
       "<div>\n",
       "<style scoped>\n",
       "    .dataframe tbody tr th:only-of-type {\n",
       "        vertical-align: middle;\n",
       "    }\n",
       "\n",
       "    .dataframe tbody tr th {\n",
       "        vertical-align: top;\n",
       "    }\n",
       "\n",
       "    .dataframe thead th {\n",
       "        text-align: right;\n",
       "    }\n",
       "</style>\n",
       "<table border=\"1\" class=\"dataframe\">\n",
       "  <thead>\n",
       "    <tr style=\"text-align: right;\">\n",
       "      <th></th>\n",
       "      <th>num_orders</th>\n",
       "      <th>dayofweek</th>\n",
       "      <th>hour</th>\n",
       "      <th>lag_1</th>\n",
       "      <th>lag_2</th>\n",
       "      <th>lag_3</th>\n",
       "      <th>lag_4</th>\n",
       "      <th>lag_5</th>\n",
       "      <th>lag_6</th>\n",
       "      <th>lag_7</th>\n",
       "      <th>...</th>\n",
       "      <th>lag_15</th>\n",
       "      <th>lag_16</th>\n",
       "      <th>lag_17</th>\n",
       "      <th>lag_18</th>\n",
       "      <th>lag_19</th>\n",
       "      <th>lag_20</th>\n",
       "      <th>lag_21</th>\n",
       "      <th>lag_22</th>\n",
       "      <th>lag_23</th>\n",
       "      <th>rolling</th>\n",
       "    </tr>\n",
       "    <tr>\n",
       "      <th>datetime</th>\n",
       "      <th></th>\n",
       "      <th></th>\n",
       "      <th></th>\n",
       "      <th></th>\n",
       "      <th></th>\n",
       "      <th></th>\n",
       "      <th></th>\n",
       "      <th></th>\n",
       "      <th></th>\n",
       "      <th></th>\n",
       "      <th></th>\n",
       "      <th></th>\n",
       "      <th></th>\n",
       "      <th></th>\n",
       "      <th></th>\n",
       "      <th></th>\n",
       "      <th></th>\n",
       "      <th></th>\n",
       "      <th></th>\n",
       "      <th></th>\n",
       "      <th></th>\n",
       "    </tr>\n",
       "  </thead>\n",
       "  <tbody>\n",
       "    <tr>\n",
       "      <th>2018-03-01 00:00:00</th>\n",
       "      <td>124</td>\n",
       "      <td>3</td>\n",
       "      <td>0</td>\n",
       "      <td>NaN</td>\n",
       "      <td>NaN</td>\n",
       "      <td>NaN</td>\n",
       "      <td>NaN</td>\n",
       "      <td>NaN</td>\n",
       "      <td>NaN</td>\n",
       "      <td>NaN</td>\n",
       "      <td>...</td>\n",
       "      <td>NaN</td>\n",
       "      <td>NaN</td>\n",
       "      <td>NaN</td>\n",
       "      <td>NaN</td>\n",
       "      <td>NaN</td>\n",
       "      <td>NaN</td>\n",
       "      <td>NaN</td>\n",
       "      <td>NaN</td>\n",
       "      <td>NaN</td>\n",
       "      <td>NaN</td>\n",
       "    </tr>\n",
       "    <tr>\n",
       "      <th>2018-03-01 01:00:00</th>\n",
       "      <td>85</td>\n",
       "      <td>3</td>\n",
       "      <td>1</td>\n",
       "      <td>124.0</td>\n",
       "      <td>NaN</td>\n",
       "      <td>NaN</td>\n",
       "      <td>NaN</td>\n",
       "      <td>NaN</td>\n",
       "      <td>NaN</td>\n",
       "      <td>NaN</td>\n",
       "      <td>...</td>\n",
       "      <td>NaN</td>\n",
       "      <td>NaN</td>\n",
       "      <td>NaN</td>\n",
       "      <td>NaN</td>\n",
       "      <td>NaN</td>\n",
       "      <td>NaN</td>\n",
       "      <td>NaN</td>\n",
       "      <td>NaN</td>\n",
       "      <td>NaN</td>\n",
       "      <td>NaN</td>\n",
       "    </tr>\n",
       "    <tr>\n",
       "      <th>2018-03-01 02:00:00</th>\n",
       "      <td>71</td>\n",
       "      <td>3</td>\n",
       "      <td>2</td>\n",
       "      <td>85.0</td>\n",
       "      <td>124.0</td>\n",
       "      <td>NaN</td>\n",
       "      <td>NaN</td>\n",
       "      <td>NaN</td>\n",
       "      <td>NaN</td>\n",
       "      <td>NaN</td>\n",
       "      <td>...</td>\n",
       "      <td>NaN</td>\n",
       "      <td>NaN</td>\n",
       "      <td>NaN</td>\n",
       "      <td>NaN</td>\n",
       "      <td>NaN</td>\n",
       "      <td>NaN</td>\n",
       "      <td>NaN</td>\n",
       "      <td>NaN</td>\n",
       "      <td>NaN</td>\n",
       "      <td>NaN</td>\n",
       "    </tr>\n",
       "  </tbody>\n",
       "</table>\n",
       "<p>3 rows × 27 columns</p>\n",
       "</div>"
      ],
      "text/plain": [
       "                     num_orders  dayofweek  hour  lag_1  lag_2  lag_3  lag_4  \\\n",
       "datetime                                                                       \n",
       "2018-03-01 00:00:00         124          3     0    NaN    NaN    NaN    NaN   \n",
       "2018-03-01 01:00:00          85          3     1  124.0    NaN    NaN    NaN   \n",
       "2018-03-01 02:00:00          71          3     2   85.0  124.0    NaN    NaN   \n",
       "\n",
       "                     lag_5  lag_6  lag_7  ...  lag_15  lag_16  lag_17  lag_18  \\\n",
       "datetime                                  ...                                   \n",
       "2018-03-01 00:00:00    NaN    NaN    NaN  ...     NaN     NaN     NaN     NaN   \n",
       "2018-03-01 01:00:00    NaN    NaN    NaN  ...     NaN     NaN     NaN     NaN   \n",
       "2018-03-01 02:00:00    NaN    NaN    NaN  ...     NaN     NaN     NaN     NaN   \n",
       "\n",
       "                     lag_19  lag_20  lag_21  lag_22  lag_23  rolling  \n",
       "datetime                                                              \n",
       "2018-03-01 00:00:00     NaN     NaN     NaN     NaN     NaN      NaN  \n",
       "2018-03-01 01:00:00     NaN     NaN     NaN     NaN     NaN      NaN  \n",
       "2018-03-01 02:00:00     NaN     NaN     NaN     NaN     NaN      NaN  \n",
       "\n",
       "[3 rows x 27 columns]"
      ]
     },
     "execution_count": 20,
     "metadata": {},
     "output_type": "execute_result"
    }
   ],
   "source": [
    "df_taxi.head(3)"
   ]
  },
  {
   "cell_type": "markdown",
   "metadata": {},
   "source": [
    "**Вывод:** данные были проанализированы, выделены параметры."
   ]
  },
  {
   "cell_type": "markdown",
   "metadata": {},
   "source": [
    "## Обучение"
   ]
  },
  {
   "cell_type": "markdown",
   "metadata": {},
   "source": [
    "**Используемые функции**"
   ]
  },
  {
   "cell_type": "code",
   "execution_count": 21,
   "metadata": {},
   "outputs": [],
   "source": [
    "def create_model(model_name: str, \n",
    "                 data: namedtuple = None, \n",
    "                 parametrs: dict = {},\n",
    "                 cv: int=7,\n",
    "                 scoring: str='neg_root_mean_squared_error',\n",
    "                 **kwargs):\n",
    "    \n",
    "    #create model\n",
    "    model = eval(model_name)(**kwargs)\n",
    "    \n",
    "    #use GridSearchCV\n",
    "    tscv = TimeSeriesSplit(n_splits=cv)\n",
    "    grid = GridSearchCV(model, parametrs, cv=tscv, scoring=scoring)\n",
    "    grid.fit(data.features, data.target)\n",
    "    \n",
    "    return [model_name, \n",
    "            abs(grid.best_score_), \n",
    "            grid.best_params_, \n",
    "            grid.best_estimator_]"
   ]
  },
  {
   "cell_type": "markdown",
   "metadata": {},
   "source": [
    "_________________________________"
   ]
  },
  {
   "cell_type": "markdown",
   "metadata": {},
   "source": [
    "Разделим выборку на тренировочную и тестовые части, из тренировочной удалим записи с пропущенными значениями."
   ]
  },
  {
   "cell_type": "code",
   "execution_count": 22,
   "metadata": {},
   "outputs": [
    {
     "name": "stdout",
     "output_type": "stream",
     "text": [
      "Size of train 3950, percentage of total 89%\n",
      "Size of test 442, percentage of total 10%\n",
      "\n",
      "<class 'pandas.core.frame.DataFrame'>\n",
      "DatetimeIndex: 442 entries, 2018-08-13 14:00:00 to 2018-08-31 23:00:00\n",
      "Freq: H\n",
      "Data columns (total 26 columns):\n",
      " #   Column     Non-Null Count  Dtype  \n",
      "---  ------     --------------  -----  \n",
      " 0   dayofweek  442 non-null    int64  \n",
      " 1   hour       442 non-null    int64  \n",
      " 2   lag_1      442 non-null    float64\n",
      " 3   lag_2      442 non-null    float64\n",
      " 4   lag_3      442 non-null    float64\n",
      " 5   lag_4      442 non-null    float64\n",
      " 6   lag_5      442 non-null    float64\n",
      " 7   lag_6      442 non-null    float64\n",
      " 8   lag_7      442 non-null    float64\n",
      " 9   lag_8      442 non-null    float64\n",
      " 10  lag_9      442 non-null    float64\n",
      " 11  lag_10     442 non-null    float64\n",
      " 12  lag_11     442 non-null    float64\n",
      " 13  lag_12     442 non-null    float64\n",
      " 14  lag_13     442 non-null    float64\n",
      " 15  lag_14     442 non-null    float64\n",
      " 16  lag_15     442 non-null    float64\n",
      " 17  lag_16     442 non-null    float64\n",
      " 18  lag_17     442 non-null    float64\n",
      " 19  lag_18     442 non-null    float64\n",
      " 20  lag_19     442 non-null    float64\n",
      " 21  lag_20     442 non-null    float64\n",
      " 22  lag_21     442 non-null    float64\n",
      " 23  lag_22     442 non-null    float64\n",
      " 24  lag_23     442 non-null    float64\n",
      " 25  rolling    442 non-null    float64\n",
      "dtypes: float64(24), int64(2)\n",
      "memory usage: 93.2 KB\n"
     ]
    }
   ],
   "source": [
    "train = namedtuple('features','target')\n",
    "test = namedtuple('features','target')\n",
    "    \n",
    "train.features, test.features, train.target, test.target = train_test_split(df_taxi.drop('num_orders',axis=1), \n",
    "                                                                                df_taxi['num_orders'], \n",
    "                                                                                test_size=0.1,  \n",
    "                                                                                shuffle=False)\n",
    "\n",
    "train.features.dropna(inplace=True)\n",
    "train.target = train.target.loc[train.features.index]\n",
    "\n",
    "print(f\"Size of train {len(train.features)}, percentage of total {len(train.features)/len(df_taxi['num_orders']):.0%}\")\n",
    "print(f\"Size of test {len(test.features)}, percentage of total {len(test.features)/len(df_taxi['num_orders']):.0%}\\n\") \n",
    "test.features.info()"
   ]
  },
  {
   "cell_type": "code",
   "execution_count": 23,
   "metadata": {},
   "outputs": [],
   "source": [
    "models = []"
   ]
  },
  {
   "cell_type": "markdown",
   "metadata": {},
   "source": [
    "___________________________\n",
    "Будем использовать:\n",
    "- LinearRegression\n",
    "- RandomForestRegressor\n",
    "- CatBoostRegressor\n",
    "\n",
    "Для подбора гиперпараметров будем использовать GridSearchCV - нет необходимости выделять валидационную выборку. Подбор модели по метрике RMSE.\n",
    "\n",
    "Для каждой модели будем брать небольшой набор гиперпараметров для экономии времени."
   ]
  },
  {
   "cell_type": "markdown",
   "metadata": {},
   "source": [
    "**Linear Regression**"
   ]
  },
  {
   "cell_type": "code",
   "execution_count": 24,
   "metadata": {},
   "outputs": [
    {
     "name": "stdout",
     "output_type": "stream",
     "text": [
      "CPU times: user 625 ms, sys: 814 ms, total: 1.44 s\n",
      "Wall time: 1.91 s\n"
     ]
    }
   ],
   "source": [
    "%%time\n",
    "models.append(create_model('LinearRegression', train))"
   ]
  },
  {
   "cell_type": "markdown",
   "metadata": {},
   "source": [
    "**Random Forest**"
   ]
  },
  {
   "cell_type": "code",
   "execution_count": 25,
   "metadata": {},
   "outputs": [
    {
     "name": "stdout",
     "output_type": "stream",
     "text": [
      "CPU times: user 40.2 s, sys: 0 ns, total: 40.2 s\n",
      "Wall time: 4min 13s\n"
     ]
    }
   ],
   "source": [
    "%%time\n",
    "rfr_params = {'max_depth': [2, 7, 11], \n",
    "              'min_samples_split': [10, 50],\n",
    "              'n_estimators': [2, 10, 50],\n",
    "              'random_state': [STATE]}\n",
    "\n",
    "models.append(create_model('RandomForestRegressor', \n",
    "                           train,       \n",
    "                           parametrs=rfr_params))"
   ]
  },
  {
   "cell_type": "markdown",
   "metadata": {},
   "source": [
    "**CatBoost**"
   ]
  },
  {
   "cell_type": "code",
   "execution_count": 26,
   "metadata": {},
   "outputs": [
    {
     "name": "stdout",
     "output_type": "stream",
     "text": [
      "0:\tlearn: 27.7618697\ttotal: 302ms\tremaining: 14.8s\n",
      "49:\tlearn: 13.2100234\ttotal: 1.76s\tremaining: 0us\n",
      "0:\tlearn: 28.2928806\ttotal: 6.62ms\tremaining: 324ms\n",
      "49:\tlearn: 15.3861977\ttotal: 1.91s\tremaining: 0us\n",
      "0:\tlearn: 29.7428877\ttotal: 7.93ms\tremaining: 389ms\n",
      "49:\tlearn: 16.8609934\ttotal: 1.6s\tremaining: 0us\n",
      "0:\tlearn: 30.6386603\ttotal: 9.16ms\tremaining: 449ms\n",
      "49:\tlearn: 17.7863336\ttotal: 2.7s\tremaining: 0us\n",
      "0:\tlearn: 31.5766369\ttotal: 8.35ms\tremaining: 409ms\n",
      "49:\tlearn: 18.5110415\ttotal: 1.75s\tremaining: 0us\n",
      "0:\tlearn: 32.5634808\ttotal: 5.61ms\tremaining: 275ms\n",
      "49:\tlearn: 19.6225780\ttotal: 1.39s\tremaining: 0us\n",
      "0:\tlearn: 34.2403755\ttotal: 10.1ms\tremaining: 496ms\n",
      "49:\tlearn: 20.4818271\ttotal: 1.56s\tremaining: 0us\n",
      "0:\tlearn: 24.4264441\ttotal: 5.02ms\tremaining: 246ms\n",
      "49:\tlearn: 5.7451565\ttotal: 964ms\tremaining: 0us\n",
      "0:\tlearn: 25.3532772\ttotal: 5.39ms\tremaining: 264ms\n",
      "49:\tlearn: 7.9878918\ttotal: 1.11s\tremaining: 0us\n",
      "0:\tlearn: 26.8624997\ttotal: 63.4ms\tremaining: 3.11s\n",
      "49:\tlearn: 11.0502232\ttotal: 1.1s\tremaining: 0us\n",
      "0:\tlearn: 27.0637779\ttotal: 39.8ms\tremaining: 1.95s\n",
      "49:\tlearn: 12.7358326\ttotal: 1.46s\tremaining: 0us\n",
      "0:\tlearn: 27.9971788\ttotal: 26.6ms\tremaining: 1.3s\n",
      "49:\tlearn: 13.5217369\ttotal: 1.37s\tremaining: 0us\n",
      "0:\tlearn: 28.9969076\ttotal: 8.47ms\tremaining: 415ms\n",
      "49:\tlearn: 14.7644793\ttotal: 1.95s\tremaining: 0us\n",
      "0:\tlearn: 30.7459282\ttotal: 7.36ms\tremaining: 360ms\n",
      "49:\tlearn: 15.9000028\ttotal: 1.8s\tremaining: 0us\n",
      "0:\tlearn: 27.7618697\ttotal: 3.22ms\tremaining: 319ms\n",
      "99:\tlearn: 9.9377985\ttotal: 1.78s\tremaining: 0us\n",
      "0:\tlearn: 28.2928806\ttotal: 5.22ms\tremaining: 517ms\n",
      "99:\tlearn: 12.3633983\ttotal: 1.93s\tremaining: 0us\n",
      "0:\tlearn: 29.7428877\ttotal: 91.3ms\tremaining: 9.04s\n",
      "99:\tlearn: 14.3568667\ttotal: 2.33s\tremaining: 0us\n",
      "0:\tlearn: 30.6386603\ttotal: 8ms\tremaining: 792ms\n",
      "99:\tlearn: 15.2483754\ttotal: 2.57s\tremaining: 0us\n",
      "0:\tlearn: 31.5766369\ttotal: 9.45ms\tremaining: 936ms\n",
      "99:\tlearn: 16.1154662\ttotal: 5.91s\tremaining: 0us\n",
      "0:\tlearn: 32.5634808\ttotal: 9.55ms\tremaining: 945ms\n",
      "99:\tlearn: 17.3599561\ttotal: 5.2s\tremaining: 0us\n",
      "0:\tlearn: 34.2403755\ttotal: 45.1ms\tremaining: 4.46s\n",
      "99:\tlearn: 18.2422089\ttotal: 7.63s\tremaining: 0us\n",
      "0:\tlearn: 24.4264441\ttotal: 5.04ms\tremaining: 499ms\n",
      "99:\tlearn: 2.0119129\ttotal: 2.43s\tremaining: 0us\n",
      "0:\tlearn: 25.3532772\ttotal: 7.57ms\tremaining: 749ms\n",
      "99:\tlearn: 3.8757826\ttotal: 4.84s\tremaining: 0us\n",
      "0:\tlearn: 26.8624997\ttotal: 8.02ms\tremaining: 794ms\n",
      "99:\tlearn: 6.7396395\ttotal: 4.15s\tremaining: 0us\n",
      "0:\tlearn: 27.0637779\ttotal: 6.26ms\tremaining: 620ms\n",
      "99:\tlearn: 8.3700949\ttotal: 5.45s\tremaining: 0us\n",
      "0:\tlearn: 27.9971788\ttotal: 8.17ms\tremaining: 809ms\n",
      "99:\tlearn: 9.3598236\ttotal: 7.7s\tremaining: 0us\n",
      "0:\tlearn: 28.9969076\ttotal: 9.49ms\tremaining: 940ms\n",
      "99:\tlearn: 10.8513407\ttotal: 5.87s\tremaining: 0us\n",
      "0:\tlearn: 30.7459282\ttotal: 9.01ms\tremaining: 892ms\n",
      "99:\tlearn: 12.1656603\ttotal: 7.41s\tremaining: 0us\n",
      "0:\tlearn: 37.1282535\ttotal: 10ms\tremaining: 992ms\n",
      "99:\tlearn: 19.9916013\ttotal: 7.02s\tremaining: 0us\n",
      "CPU times: user 16.2 s, sys: 173 ms, total: 16.3 s\n",
      "Wall time: 3min 50s\n"
     ]
    }
   ],
   "source": [
    "%%time\n",
    "cbr_params = {'learning_rate': [0.1,0.4], \n",
    "              'iterations': [50, 100],\n",
    "              'random_state': [STATE],\n",
    "              'verbose' : [100],\n",
    "             }\n",
    "\n",
    "models.append(create_model('CatBoostRegressor', \n",
    "                           train,  \n",
    "                           parametrs=cbr_params))"
   ]
  },
  {
   "cell_type": "code",
   "execution_count": 27,
   "metadata": {},
   "outputs": [
    {
     "data": {
      "text/html": [
       "<div>\n",
       "<style scoped>\n",
       "    .dataframe tbody tr th:only-of-type {\n",
       "        vertical-align: middle;\n",
       "    }\n",
       "\n",
       "    .dataframe tbody tr th {\n",
       "        vertical-align: top;\n",
       "    }\n",
       "\n",
       "    .dataframe thead th {\n",
       "        text-align: right;\n",
       "    }\n",
       "</style>\n",
       "<table border=\"1\" class=\"dataframe\">\n",
       "  <thead>\n",
       "    <tr style=\"text-align: right;\">\n",
       "      <th></th>\n",
       "      <th>Model</th>\n",
       "      <th>RMSE train</th>\n",
       "      <th>Hyperparams</th>\n",
       "      <th>Model</th>\n",
       "    </tr>\n",
       "  </thead>\n",
       "  <tbody>\n",
       "    <tr>\n",
       "      <th>0</th>\n",
       "      <td>LinearRegression</td>\n",
       "      <td>26.827118</td>\n",
       "      <td>{}</td>\n",
       "      <td>LinearRegression()</td>\n",
       "    </tr>\n",
       "    <tr>\n",
       "      <th>1</th>\n",
       "      <td>RandomForestRegressor</td>\n",
       "      <td>25.389773</td>\n",
       "      <td>{'max_depth': 11, 'min_samples_split': 10, 'n_...</td>\n",
       "      <td>(DecisionTreeRegressor(max_depth=11, max_featu...</td>\n",
       "    </tr>\n",
       "    <tr>\n",
       "      <th>2</th>\n",
       "      <td>CatBoostRegressor</td>\n",
       "      <td>25.090353</td>\n",
       "      <td>{'iterations': 100, 'learning_rate': 0.1, 'ran...</td>\n",
       "      <td>&lt;catboost.core.CatBoostRegressor object at 0x7...</td>\n",
       "    </tr>\n",
       "  </tbody>\n",
       "</table>\n",
       "</div>"
      ],
      "text/plain": [
       "                   Model  RMSE train  \\\n",
       "0       LinearRegression   26.827118   \n",
       "1  RandomForestRegressor   25.389773   \n",
       "2      CatBoostRegressor   25.090353   \n",
       "\n",
       "                                         Hyperparams  \\\n",
       "0                                                 {}   \n",
       "1  {'max_depth': 11, 'min_samples_split': 10, 'n_...   \n",
       "2  {'iterations': 100, 'learning_rate': 0.1, 'ran...   \n",
       "\n",
       "                                               Model  \n",
       "0                                 LinearRegression()  \n",
       "1  (DecisionTreeRegressor(max_depth=11, max_featu...  \n",
       "2  <catboost.core.CatBoostRegressor object at 0x7...  "
      ]
     },
     "execution_count": 27,
     "metadata": {},
     "output_type": "execute_result"
    }
   ],
   "source": [
    "pd.DataFrame(models, columns=['Model', 'RMSE train', 'Hyperparams', 'Model'])"
   ]
  },
  {
   "cell_type": "markdown",
   "metadata": {},
   "source": [
    "**Вывод:** Для данных были построены модели. Лучшие результаты показала **CatBoostRegressor** с гиперпараметрами iterations=100 и learning_rate = 0.1."
   ]
  },
  {
   "cell_type": "markdown",
   "metadata": {},
   "source": [
    "## Тестирование"
   ]
  },
  {
   "cell_type": "code",
   "execution_count": 28,
   "metadata": {},
   "outputs": [],
   "source": [
    "def model_test(test_data: namedtuple, model, period: str=None) -> float:\n",
    "    #predict and index\n",
    "    pred_ = model.predict(test_data.features)\n",
    "    pred_ = pd.Series(pred_, index=test_data.target.index)\n",
    "    \n",
    "    #plots\n",
    "    plt.plot(pred_[period:])\n",
    "    plt.plot(test_data.target[period:])\n",
    "    plt.legend(['predict','real'])\n",
    "    plt.title('Real and prediction value')\n",
    "    plt.show()\n",
    "    \n",
    "    #RMSE\n",
    "    return mean_squared_error(pred_,test_data.target) ** .5"
   ]
  },
  {
   "cell_type": "markdown",
   "metadata": {},
   "source": [
    "**CatBoost**"
   ]
  },
  {
   "cell_type": "code",
   "execution_count": 29,
   "metadata": {},
   "outputs": [
    {
     "data": {
      "image/png": "[encoded data removed]",
      "text/plain": [
       "<Figure size 1080x432 with 1 Axes>"
      ]
     },
     "metadata": {
      "needs_background": "light"
     },
     "output_type": "display_data"
    }
   ],
   "source": [
    "models[2].append(model_test(test, models[2][3]))"
   ]
  },
  {
   "cell_type": "markdown",
   "metadata": {},
   "source": [
    "График выглядит похоже, но не учитывает \"пики\". Немного укрупним последние несколько дней:"
   ]
  },
  {
   "cell_type": "code",
   "execution_count": 30,
   "metadata": {},
   "outputs": [
    {
     "data": {
      "image/png": "[encoded data removed]",
      "text/plain": [
       "<Figure size 1080x432 with 1 Axes>"
      ]
     },
     "metadata": {
      "needs_background": "light"
     },
     "output_type": "display_data"
    },
    {
     "data": {
      "text/plain": [
       "46.09753831457314"
      ]
     },
     "execution_count": 30,
     "metadata": {},
     "output_type": "execute_result"
    }
   ],
   "source": [
    "model_test(test, models[2][3], period='2018-08-28')"
   ]
  },
  {
   "cell_type": "markdown",
   "metadata": {},
   "source": [
    "**Вывод:**"
   ]
  },
  {
   "cell_type": "code",
   "execution_count": 31,
   "metadata": {},
   "outputs": [
    {
     "data": {
      "text/html": [
       "<div>\n",
       "<style scoped>\n",
       "    .dataframe tbody tr th:only-of-type {\n",
       "        vertical-align: middle;\n",
       "    }\n",
       "\n",
       "    .dataframe tbody tr th {\n",
       "        vertical-align: top;\n",
       "    }\n",
       "\n",
       "    .dataframe thead th {\n",
       "        text-align: right;\n",
       "    }\n",
       "</style>\n",
       "<table border=\"1\" class=\"dataframe\">\n",
       "  <thead>\n",
       "    <tr style=\"text-align: right;\">\n",
       "      <th></th>\n",
       "      <th>Model</th>\n",
       "      <th>RMSE train</th>\n",
       "      <th>Hyperparams</th>\n",
       "      <th>Model</th>\n",
       "      <th>RMSE test</th>\n",
       "    </tr>\n",
       "  </thead>\n",
       "  <tbody>\n",
       "    <tr>\n",
       "      <th>0</th>\n",
       "      <td>CatBoostRegressor</td>\n",
       "      <td>25.090353</td>\n",
       "      <td>{'iterations': 100, 'learning_rate': 0.1, 'ran...</td>\n",
       "      <td>&lt;catboost.core.CatBoostRegressor object at 0x7...</td>\n",
       "      <td>46.097538</td>\n",
       "    </tr>\n",
       "  </tbody>\n",
       "</table>\n",
       "</div>"
      ],
      "text/plain": [
       "               Model  RMSE train  \\\n",
       "0  CatBoostRegressor   25.090353   \n",
       "\n",
       "                                         Hyperparams  \\\n",
       "0  {'iterations': 100, 'learning_rate': 0.1, 'ran...   \n",
       "\n",
       "                                               Model  RMSE test  \n",
       "0  <catboost.core.CatBoostRegressor object at 0x7...  46.097538  "
      ]
     },
     "execution_count": 31,
     "metadata": {},
     "output_type": "execute_result"
    }
   ],
   "source": [
    "result = pd.DataFrame([models[2]], columns=['Model', 'RMSE train', 'Hyperparams', 'Model', 'RMSE test'])\n",
    "result"
   ]
  },
  {
   "cell_type": "markdown",
   "metadata": {},
   "source": [
    "RMSE на тестовых значениях значительно больше, чем на оценка на тренировочных. <br>\n",
    "Это не очень хорошо, и может говорить о том, что модель переобучилась. Но так же было отмечено, что в данных есть аномально большие значения, практически все которые приходятся на тестовую выборку. Подобные отклонения так же могут влиять на значение метрики, т.к. модель не может предсказать их.\n",
    "Тем не менее, цель (RMSE < 48) достигнута для всех выбранных моделей."
   ]
  },
  {
   "cell_type": "markdown",
   "metadata": {},
   "source": [
    "## Вывод"
   ]
  },
  {
   "cell_type": "markdown",
   "metadata": {},
   "source": [
    "Были получены и загружены данные. Т.к. требуется предсказание на час, было произведено ресеплирование по часу.\n",
    "\n",
    "Данные были изучены, выделены значимые признаки.\n",
    "\n",
    "Обучены модели:\n",
    "- LinearRegression\n",
    "- RandomForestRegressor\n",
    "- CatBoostRegressor\n",
    "\n",
    "с разным набором гиперпараметров и выбраны лучшие.\n",
    "\n",
    "Из трех выбрана модель  **CatBoostRegressor** c гиперпараметрами iterations=100 и learning_rate = 0.1.\n",
    "\n",
    "\n",
    "На тестовой выборке модель показала не очень хороший, но допустимый результат - 46."
   ]
  },
  {
   "cell_type": "code",
   "execution_count": 32,
   "metadata": {},
   "outputs": [
    {
     "data": {
      "text/html": [
       "<div>\n",
       "<style scoped>\n",
       "    .dataframe tbody tr th:only-of-type {\n",
       "        vertical-align: middle;\n",
       "    }\n",
       "\n",
       "    .dataframe tbody tr th {\n",
       "        vertical-align: top;\n",
       "    }\n",
       "\n",
       "    .dataframe thead th {\n",
       "        text-align: right;\n",
       "    }\n",
       "</style>\n",
       "<table border=\"1\" class=\"dataframe\">\n",
       "  <thead>\n",
       "    <tr style=\"text-align: right;\">\n",
       "      <th></th>\n",
       "      <th>Model</th>\n",
       "      <th>RMSE train</th>\n",
       "      <th>Hyperparams</th>\n",
       "      <th>Model</th>\n",
       "      <th>RMSE test</th>\n",
       "    </tr>\n",
       "  </thead>\n",
       "  <tbody>\n",
       "    <tr>\n",
       "      <th>0</th>\n",
       "      <td>CatBoostRegressor</td>\n",
       "      <td>25.090353</td>\n",
       "      <td>{'iterations': 100, 'learning_rate': 0.1, 'ran...</td>\n",
       "      <td>&lt;catboost.core.CatBoostRegressor object at 0x7...</td>\n",
       "      <td>46.097538</td>\n",
       "    </tr>\n",
       "  </tbody>\n",
       "</table>\n",
       "</div>"
      ],
      "text/plain": [
       "               Model  RMSE train  \\\n",
       "0  CatBoostRegressor   25.090353   \n",
       "\n",
       "                                         Hyperparams  \\\n",
       "0  {'iterations': 100, 'learning_rate': 0.1, 'ran...   \n",
       "\n",
       "                                               Model  RMSE test  \n",
       "0  <catboost.core.CatBoostRegressor object at 0x7...  46.097538  "
      ]
     },
     "execution_count": 32,
     "metadata": {},
     "output_type": "execute_result"
    }
   ],
   "source": [
    "result"
   ]
  }
 ],
 "metadata": {
  "ExecuteTimeLog": [
   {
    "duration": 43,
    "start_time": "2022-11-28T21:07:28.333Z"
   },
   {
    "duration": 394,
    "start_time": "2022-11-28T21:07:30.630Z"
   },
   {
    "duration": 105,
    "start_time": "2022-11-28T21:07:32.007Z"
   },
   {
    "duration": 14,
    "start_time": "2022-11-28T21:07:36.064Z"
   },
   {
    "duration": 25,
    "start_time": "2022-11-28T21:07:49.952Z"
   },
   {
    "duration": 7,
    "start_time": "2022-11-28T21:08:01.074Z"
   },
   {
    "duration": 42,
    "start_time": "2022-11-28T21:08:48.659Z"
   },
   {
    "duration": 7,
    "start_time": "2022-11-28T21:08:49.852Z"
   },
   {
    "duration": 41,
    "start_time": "2022-11-28T21:10:31.660Z"
   },
   {
    "duration": 7,
    "start_time": "2022-11-28T21:10:33.175Z"
   },
   {
    "duration": 8,
    "start_time": "2022-11-28T21:10:35.051Z"
   },
   {
    "duration": 41,
    "start_time": "2022-11-28T21:10:36.790Z"
   },
   {
    "duration": 41,
    "start_time": "2022-11-28T21:10:47.805Z"
   },
   {
    "duration": 8,
    "start_time": "2022-11-28T21:10:48.565Z"
   },
   {
    "duration": 13,
    "start_time": "2022-11-28T21:25:46.567Z"
   },
   {
    "duration": 17,
    "start_time": "2022-11-28T21:25:51.471Z"
   },
   {
    "duration": 53,
    "start_time": "2022-11-28T21:26:01.183Z"
   },
   {
    "duration": 16,
    "start_time": "2022-11-28T21:26:02.176Z"
   },
   {
    "duration": 40,
    "start_time": "2022-11-28T21:26:12.697Z"
   },
   {
    "duration": 15,
    "start_time": "2022-11-28T21:26:15.315Z"
   },
   {
    "duration": 5,
    "start_time": "2022-11-28T21:26:42.481Z"
   },
   {
    "duration": 10,
    "start_time": "2022-11-28T21:26:57.978Z"
   },
   {
    "duration": 7,
    "start_time": "2022-11-28T21:27:07.857Z"
   },
   {
    "duration": 9,
    "start_time": "2022-11-28T21:27:10.303Z"
   },
   {
    "duration": 12,
    "start_time": "2022-11-28T21:27:13.066Z"
   },
   {
    "duration": 558,
    "start_time": "2022-11-28T21:27:30.656Z"
   },
   {
    "duration": 179,
    "start_time": "2022-11-28T21:27:43.185Z"
   },
   {
    "duration": 3,
    "start_time": "2022-11-28T21:27:58.610Z"
   },
   {
    "duration": 52,
    "start_time": "2022-11-28T21:27:59.503Z"
   },
   {
    "duration": 7,
    "start_time": "2022-11-28T21:28:00.326Z"
   },
   {
    "duration": 650,
    "start_time": "2022-11-28T21:28:01.128Z"
   },
   {
    "duration": 599,
    "start_time": "2022-11-28T21:28:12.217Z"
   },
   {
    "duration": 614,
    "start_time": "2022-11-28T21:28:18.946Z"
   },
   {
    "duration": 691,
    "start_time": "2022-11-28T21:28:23.117Z"
   },
   {
    "duration": 6,
    "start_time": "2022-11-28T21:28:26.712Z"
   },
   {
    "duration": 212,
    "start_time": "2022-11-28T21:28:27.589Z"
   },
   {
    "duration": 536,
    "start_time": "2022-11-29T16:34:37.181Z"
   },
   {
    "duration": 3,
    "start_time": "2022-11-29T16:34:41.637Z"
   },
   {
    "duration": 3,
    "start_time": "2022-11-29T16:34:43.517Z"
   },
   {
    "duration": 3,
    "start_time": "2022-11-29T16:34:52.167Z"
   },
   {
    "duration": 138,
    "start_time": "2022-11-29T16:34:53.939Z"
   },
   {
    "duration": 7,
    "start_time": "2022-11-29T16:34:55.170Z"
   },
   {
    "duration": 603,
    "start_time": "2022-11-29T16:34:56.115Z"
   },
   {
    "duration": 8,
    "start_time": "2022-11-29T16:35:00.228Z"
   },
   {
    "duration": 206,
    "start_time": "2022-11-29T16:35:03.157Z"
   },
   {
    "duration": 409,
    "start_time": "2022-11-29T16:35:36.726Z"
   },
   {
    "duration": 346,
    "start_time": "2022-11-29T16:35:48.597Z"
   },
   {
    "duration": 40,
    "start_time": "2022-11-29T16:36:09.805Z"
   },
   {
    "duration": 42,
    "start_time": "2022-11-29T16:36:16.522Z"
   },
   {
    "duration": 371,
    "start_time": "2022-11-29T16:36:26.970Z"
   },
   {
    "duration": 344,
    "start_time": "2022-11-29T16:36:39.875Z"
   },
   {
    "duration": 13,
    "start_time": "2022-11-29T16:38:22.117Z"
   },
   {
    "duration": 76,
    "start_time": "2022-11-29T16:38:35.189Z"
   },
   {
    "duration": 46,
    "start_time": "2022-11-29T16:38:37.931Z"
   },
   {
    "duration": 10,
    "start_time": "2022-11-29T16:38:42.999Z"
   },
   {
    "duration": 3,
    "start_time": "2022-11-29T16:38:55.338Z"
   },
   {
    "duration": 896,
    "start_time": "2022-11-29T16:38:57.949Z"
   },
   {
    "duration": 6,
    "start_time": "2022-11-29T16:39:05.393Z"
   },
   {
    "duration": 201,
    "start_time": "2022-11-29T16:39:06.751Z"
   },
   {
    "duration": 50,
    "start_time": "2022-11-29T16:39:44.647Z"
   },
   {
    "duration": 465,
    "start_time": "2022-11-29T16:44:03.214Z"
   },
   {
    "duration": 65,
    "start_time": "2022-11-29T16:44:11.670Z"
   },
   {
    "duration": 3,
    "start_time": "2022-11-29T16:44:17.231Z"
   },
   {
    "duration": 13,
    "start_time": "2022-11-29T16:44:19.672Z"
   },
   {
    "duration": 10,
    "start_time": "2022-11-29T16:44:48.324Z"
   },
   {
    "duration": 10,
    "start_time": "2022-11-29T16:44:50.776Z"
   },
   {
    "duration": 616,
    "start_time": "2022-11-29T16:44:54.591Z"
   },
   {
    "duration": 55,
    "start_time": "2022-11-29T16:45:00.086Z"
   },
   {
    "duration": 3,
    "start_time": "2022-11-29T16:45:01.978Z"
   },
   {
    "duration": 626,
    "start_time": "2022-11-29T16:45:03.388Z"
   },
   {
    "duration": 7,
    "start_time": "2022-11-29T16:45:05.433Z"
   },
   {
    "duration": 206,
    "start_time": "2022-11-29T16:45:06.381Z"
   },
   {
    "duration": 6,
    "start_time": "2022-11-29T16:45:08.659Z"
   },
   {
    "duration": 1018,
    "start_time": "2022-11-29T16:45:19.220Z"
   },
   {
    "duration": 34,
    "start_time": "2022-11-29T16:47:47.990Z"
   },
   {
    "duration": 285,
    "start_time": "2022-11-29T16:47:52.830Z"
   },
   {
    "duration": 4,
    "start_time": "2022-11-29T17:02:02.139Z"
   },
   {
    "duration": 3,
    "start_time": "2022-11-29T17:02:07.673Z"
   },
   {
    "duration": 14,
    "start_time": "2022-11-29T17:02:58.548Z"
   },
   {
    "duration": 19,
    "start_time": "2022-11-29T17:03:24.145Z"
   },
   {
    "duration": 20,
    "start_time": "2022-11-29T17:03:31.404Z"
   },
   {
    "duration": 12,
    "start_time": "2022-11-29T17:03:37.878Z"
   },
   {
    "duration": 13,
    "start_time": "2022-11-29T17:03:45.581Z"
   },
   {
    "duration": 12,
    "start_time": "2022-11-29T17:03:50.419Z"
   },
   {
    "duration": 14,
    "start_time": "2022-11-29T17:03:59.201Z"
   },
   {
    "duration": 15,
    "start_time": "2022-11-29T17:18:05.492Z"
   },
   {
    "duration": 13,
    "start_time": "2022-11-29T17:18:11.994Z"
   },
   {
    "duration": 13,
    "start_time": "2022-11-29T17:18:19.886Z"
   },
   {
    "duration": 10,
    "start_time": "2022-11-29T17:36:35.820Z"
   },
   {
    "duration": 10,
    "start_time": "2022-11-29T17:36:43.598Z"
   },
   {
    "duration": 227,
    "start_time": "2022-11-29T17:36:49.639Z"
   },
   {
    "duration": 231,
    "start_time": "2022-11-29T17:36:56.583Z"
   },
   {
    "duration": 226,
    "start_time": "2022-11-29T17:38:03.927Z"
   },
   {
    "duration": 218,
    "start_time": "2022-11-29T17:38:07.379Z"
   },
   {
    "duration": 219,
    "start_time": "2022-11-29T17:38:10.622Z"
   },
   {
    "duration": 242,
    "start_time": "2022-11-29T17:38:13.986Z"
   },
   {
    "duration": 206,
    "start_time": "2022-11-29T17:38:17.990Z"
   },
   {
    "duration": 223,
    "start_time": "2022-11-29T17:38:37.427Z"
   },
   {
    "duration": 8,
    "start_time": "2022-11-29T17:39:41.026Z"
   },
   {
    "duration": 4,
    "start_time": "2022-11-29T17:39:53.738Z"
   },
   {
    "duration": 11,
    "start_time": "2022-11-29T17:39:57.987Z"
   },
   {
    "duration": 228,
    "start_time": "2022-11-29T17:40:05.139Z"
   },
   {
    "duration": 3,
    "start_time": "2022-11-29T17:40:11.270Z"
   },
   {
    "duration": 3,
    "start_time": "2022-11-29T17:40:12.147Z"
   },
   {
    "duration": 50,
    "start_time": "2022-11-29T17:40:13.497Z"
   },
   {
    "duration": 2,
    "start_time": "2022-11-29T17:40:15.016Z"
   },
   {
    "duration": 929,
    "start_time": "2022-11-29T17:40:15.636Z"
   },
   {
    "duration": 6,
    "start_time": "2022-11-29T17:40:18.223Z"
   },
   {
    "duration": 232,
    "start_time": "2022-11-29T17:40:18.924Z"
   },
   {
    "duration": 12,
    "start_time": "2022-11-29T17:40:21.601Z"
   },
   {
    "duration": 537,
    "start_time": "2022-11-29T17:40:23.137Z"
   },
   {
    "duration": 208,
    "start_time": "2022-11-29T17:40:27.798Z"
   },
   {
    "duration": 217,
    "start_time": "2022-11-29T17:40:29.985Z"
   },
   {
    "duration": 206,
    "start_time": "2022-11-29T17:40:32.278Z"
   },
   {
    "duration": 201,
    "start_time": "2022-11-29T17:40:36.892Z"
   },
   {
    "duration": 193,
    "start_time": "2022-11-29T17:40:40.119Z"
   },
   {
    "duration": 192,
    "start_time": "2022-11-29T17:40:43.036Z"
   },
   {
    "duration": 203,
    "start_time": "2022-11-29T17:40:46.430Z"
   },
   {
    "duration": 213,
    "start_time": "2022-11-29T17:40:52.896Z"
   },
   {
    "duration": 3,
    "start_time": "2022-11-29T17:53:00.998Z"
   },
   {
    "duration": 12,
    "start_time": "2022-11-29T17:53:40.832Z"
   },
   {
    "duration": 10,
    "start_time": "2022-11-29T17:53:57.384Z"
   },
   {
    "duration": 13,
    "start_time": "2022-11-29T17:56:09.252Z"
   },
   {
    "duration": 7,
    "start_time": "2022-11-29T17:57:09.761Z"
   },
   {
    "duration": 50,
    "start_time": "2022-11-29T17:57:13.666Z"
   },
   {
    "duration": 2,
    "start_time": "2022-11-29T17:57:14.867Z"
   },
   {
    "duration": 592,
    "start_time": "2022-11-29T17:57:15.831Z"
   },
   {
    "duration": 6,
    "start_time": "2022-11-29T17:57:18.415Z"
   },
   {
    "duration": 297,
    "start_time": "2022-11-29T17:57:19.482Z"
   },
   {
    "duration": 2153,
    "start_time": "2022-11-29T17:57:24.395Z"
   },
   {
    "duration": 583,
    "start_time": "2022-11-29T18:33:01.485Z"
   },
   {
    "duration": 917,
    "start_time": "2022-11-29T18:33:22.372Z"
   },
   {
    "duration": 349,
    "start_time": "2022-11-29T18:33:38.859Z"
   },
   {
    "duration": 1259,
    "start_time": "2022-11-30T10:26:51.934Z"
   },
   {
    "duration": 3,
    "start_time": "2022-11-30T10:26:53.195Z"
   },
   {
    "duration": 152,
    "start_time": "2022-11-30T10:26:54.142Z"
   },
   {
    "duration": 765,
    "start_time": "2022-11-30T10:26:55.786Z"
   },
   {
    "duration": 368,
    "start_time": "2022-11-30T10:27:09.838Z"
   },
   {
    "duration": 424,
    "start_time": "2022-11-30T10:27:24.093Z"
   },
   {
    "duration": 360,
    "start_time": "2022-11-30T10:27:32.758Z"
   },
   {
    "duration": 589,
    "start_time": "2022-11-30T10:28:40.547Z"
   },
   {
    "duration": 500,
    "start_time": "2022-11-30T10:29:08.051Z"
   },
   {
    "duration": 504,
    "start_time": "2022-11-30T10:29:19.026Z"
   },
   {
    "duration": 1132,
    "start_time": "2022-11-30T10:29:48.186Z"
   },
   {
    "duration": 2,
    "start_time": "2022-11-30T10:29:49.320Z"
   },
   {
    "duration": 71,
    "start_time": "2022-11-30T10:29:49.324Z"
   },
   {
    "duration": 940,
    "start_time": "2022-11-30T10:29:49.397Z"
   },
   {
    "duration": 595,
    "start_time": "2022-11-30T10:29:50.340Z"
   },
   {
    "duration": 1973,
    "start_time": "2022-11-30T10:29:50.937Z"
   },
   {
    "duration": 841,
    "start_time": "2022-11-30T10:29:52.912Z"
   },
   {
    "duration": 223,
    "start_time": "2022-11-30T10:29:53.755Z"
   },
   {
    "duration": 245,
    "start_time": "2022-11-30T10:29:53.979Z"
   },
   {
    "duration": 245,
    "start_time": "2022-11-30T10:29:54.226Z"
   },
   {
    "duration": 7,
    "start_time": "2022-11-30T10:29:54.473Z"
   },
   {
    "duration": 4,
    "start_time": "2022-11-30T10:53:00.443Z"
   },
   {
    "duration": 97,
    "start_time": "2022-11-30T10:53:16.877Z"
   },
   {
    "duration": 3,
    "start_time": "2022-11-30T10:53:30.537Z"
   },
   {
    "duration": 566,
    "start_time": "2022-11-30T10:53:32.746Z"
   },
   {
    "duration": 3,
    "start_time": "2022-11-30T11:27:48.614Z"
   },
   {
    "duration": 1071,
    "start_time": "2022-11-30T11:27:51.303Z"
   },
   {
    "duration": 946,
    "start_time": "2022-11-30T11:28:30.230Z"
   },
   {
    "duration": 146,
    "start_time": "2022-11-30T11:28:46.560Z"
   },
   {
    "duration": 1043,
    "start_time": "2022-11-30T11:28:56.179Z"
   },
   {
    "duration": 954,
    "start_time": "2022-11-30T11:31:26.014Z"
   },
   {
    "duration": 1173,
    "start_time": "2022-11-30T11:31:46.503Z"
   },
   {
    "duration": 3,
    "start_time": "2022-11-30T11:31:47.678Z"
   },
   {
    "duration": 13,
    "start_time": "2022-11-30T11:31:47.682Z"
   },
   {
    "duration": 56,
    "start_time": "2022-11-30T11:31:47.696Z"
   },
   {
    "duration": 3,
    "start_time": "2022-11-30T11:31:47.753Z"
   },
   {
    "duration": 2201,
    "start_time": "2022-11-30T11:31:47.757Z"
   },
   {
    "duration": 1027,
    "start_time": "2022-11-30T11:31:49.960Z"
   },
   {
    "duration": 1525,
    "start_time": "2022-11-30T11:31:50.989Z"
   },
   {
    "duration": 741,
    "start_time": "2022-11-30T11:31:52.606Z"
   },
   {
    "duration": 241,
    "start_time": "2022-11-30T11:31:53.349Z"
   },
   {
    "duration": 215,
    "start_time": "2022-11-30T11:31:53.591Z"
   },
   {
    "duration": 268,
    "start_time": "2022-11-30T11:31:53.808Z"
   },
   {
    "duration": 3,
    "start_time": "2022-11-30T11:31:54.078Z"
   },
   {
    "duration": 3,
    "start_time": "2022-11-30T11:33:26.510Z"
   },
   {
    "duration": 258,
    "start_time": "2022-11-30T11:33:29.038Z"
   },
   {
    "duration": 3,
    "start_time": "2022-11-30T11:33:48.846Z"
   },
   {
    "duration": 4,
    "start_time": "2022-11-30T11:33:53.717Z"
   },
   {
    "duration": 330,
    "start_time": "2022-11-30T11:33:55.292Z"
   },
   {
    "duration": 3,
    "start_time": "2022-11-30T11:33:59.023Z"
   },
   {
    "duration": 265,
    "start_time": "2022-11-30T11:34:00.356Z"
   },
   {
    "duration": 3,
    "start_time": "2022-11-30T11:34:08.118Z"
   },
   {
    "duration": 273,
    "start_time": "2022-11-30T11:34:10.019Z"
   },
   {
    "duration": 3,
    "start_time": "2022-11-30T11:35:26.646Z"
   },
   {
    "duration": 1897,
    "start_time": "2022-11-30T11:35:35.530Z"
   },
   {
    "duration": 2,
    "start_time": "2022-11-30T11:35:48.750Z"
   },
   {
    "duration": 2,
    "start_time": "2022-11-30T11:36:00.767Z"
   },
   {
    "duration": 1247,
    "start_time": "2022-11-30T11:36:04.447Z"
   },
   {
    "duration": 2,
    "start_time": "2022-11-30T11:36:16.907Z"
   },
   {
    "duration": 1140,
    "start_time": "2022-11-30T11:36:20.833Z"
   },
   {
    "duration": 1274,
    "start_time": "2022-11-30T11:36:38.835Z"
   },
   {
    "duration": 3,
    "start_time": "2022-11-30T11:36:48.299Z"
   },
   {
    "duration": 253,
    "start_time": "2022-11-30T11:36:51.354Z"
   },
   {
    "duration": 2,
    "start_time": "2022-11-30T11:37:30.713Z"
   },
   {
    "duration": 492,
    "start_time": "2022-11-30T11:37:33.867Z"
   },
   {
    "duration": 559,
    "start_time": "2022-11-30T11:37:38.975Z"
   },
   {
    "duration": 3,
    "start_time": "2022-11-30T11:37:55.595Z"
   },
   {
    "duration": 425,
    "start_time": "2022-11-30T11:38:07.470Z"
   },
   {
    "duration": 3,
    "start_time": "2022-11-30T11:38:42.285Z"
   },
   {
    "duration": 457,
    "start_time": "2022-11-30T11:38:48.485Z"
   },
   {
    "duration": 3,
    "start_time": "2022-11-30T11:39:34.533Z"
   },
   {
    "duration": 48,
    "start_time": "2022-11-30T11:39:36.169Z"
   },
   {
    "duration": 4,
    "start_time": "2022-11-30T11:39:37.396Z"
   },
   {
    "duration": 294,
    "start_time": "2022-11-30T11:39:40.059Z"
   },
   {
    "duration": 49,
    "start_time": "2022-11-30T11:45:07.149Z"
   },
   {
    "duration": 42,
    "start_time": "2022-11-30T11:46:35.633Z"
   },
   {
    "duration": 11,
    "start_time": "2022-11-30T11:46:37.493Z"
   },
   {
    "duration": 8,
    "start_time": "2022-11-30T11:47:43.215Z"
   },
   {
    "duration": 9,
    "start_time": "2022-11-30T11:48:20.357Z"
   },
   {
    "duration": 273,
    "start_time": "2022-11-30T11:48:32.231Z"
   },
   {
    "duration": 387,
    "start_time": "2022-11-30T11:48:39.578Z"
   },
   {
    "duration": 288,
    "start_time": "2022-11-30T11:49:42.417Z"
   },
   {
    "duration": 285,
    "start_time": "2022-11-30T11:49:54.779Z"
   },
   {
    "duration": 266,
    "start_time": "2022-11-30T11:50:10.267Z"
   },
   {
    "duration": 328,
    "start_time": "2022-11-30T11:50:26.480Z"
   },
   {
    "duration": 10,
    "start_time": "2022-11-30T11:51:37.725Z"
   },
   {
    "duration": 8,
    "start_time": "2022-11-30T11:51:44.210Z"
   },
   {
    "duration": 10,
    "start_time": "2022-11-30T11:53:40.464Z"
   },
   {
    "duration": 9,
    "start_time": "2022-11-30T11:53:55.162Z"
   },
   {
    "duration": 9,
    "start_time": "2022-11-30T11:55:30.806Z"
   },
   {
    "duration": 8,
    "start_time": "2022-11-30T11:57:36.401Z"
   },
   {
    "duration": 8,
    "start_time": "2022-11-30T12:00:41.074Z"
   },
   {
    "duration": 9,
    "start_time": "2022-11-30T12:01:21.405Z"
   },
   {
    "duration": 1166,
    "start_time": "2022-11-30T12:01:50.637Z"
   },
   {
    "duration": 8,
    "start_time": "2022-11-30T12:01:54.419Z"
   },
   {
    "duration": 9,
    "start_time": "2022-11-30T12:02:16.311Z"
   },
   {
    "duration": 144,
    "start_time": "2022-11-30T12:04:57.593Z"
   },
   {
    "duration": 255,
    "start_time": "2022-11-30T12:05:48.469Z"
   },
   {
    "duration": 242,
    "start_time": "2022-11-30T12:05:53.937Z"
   },
   {
    "duration": 214,
    "start_time": "2022-11-30T12:06:43.663Z"
   },
   {
    "duration": 839,
    "start_time": "2022-11-30T12:13:28.870Z"
   },
   {
    "duration": 9,
    "start_time": "2022-11-30T12:14:42.952Z"
   },
   {
    "duration": 5,
    "start_time": "2022-11-30T12:14:48.704Z"
   },
   {
    "duration": 12,
    "start_time": "2022-11-30T12:14:54.565Z"
   },
   {
    "duration": 15,
    "start_time": "2022-11-30T12:15:14.549Z"
   },
   {
    "duration": 11,
    "start_time": "2022-11-30T12:15:18.113Z"
   },
   {
    "duration": 7,
    "start_time": "2022-11-30T12:15:23.496Z"
   },
   {
    "duration": 8,
    "start_time": "2022-11-30T12:16:12.587Z"
   },
   {
    "duration": 8,
    "start_time": "2022-11-30T12:16:23.459Z"
   },
   {
    "duration": 9,
    "start_time": "2022-11-30T12:16:26.642Z"
   },
   {
    "duration": 10,
    "start_time": "2022-11-30T12:17:30.329Z"
   },
   {
    "duration": 9,
    "start_time": "2022-11-30T12:17:37.628Z"
   },
   {
    "duration": 4,
    "start_time": "2022-11-30T12:26:50.612Z"
   },
   {
    "duration": 43,
    "start_time": "2022-11-30T12:26:52.166Z"
   },
   {
    "duration": 4,
    "start_time": "2022-11-30T12:26:53.156Z"
   },
   {
    "duration": 19,
    "start_time": "2022-11-30T12:36:44.927Z"
   },
   {
    "duration": 10,
    "start_time": "2022-11-30T12:36:50.089Z"
   },
   {
    "duration": 6,
    "start_time": "2022-11-30T12:36:58.273Z"
   },
   {
    "duration": 546,
    "start_time": "2022-11-30T12:37:02.779Z"
   },
   {
    "duration": 624,
    "start_time": "2022-11-30T12:39:46.535Z"
   },
   {
    "duration": 570,
    "start_time": "2022-11-30T12:39:52.805Z"
   },
   {
    "duration": 573,
    "start_time": "2022-11-30T12:40:02.707Z"
   },
   {
    "duration": 536,
    "start_time": "2022-11-30T12:40:16.001Z"
   },
   {
    "duration": 2,
    "start_time": "2022-11-30T12:40:45.870Z"
   },
   {
    "duration": 12,
    "start_time": "2022-11-30T12:40:50.602Z"
   },
   {
    "duration": 587,
    "start_time": "2022-11-30T12:40:57.903Z"
   },
   {
    "duration": 223,
    "start_time": "2022-11-30T12:42:52.849Z"
   },
   {
    "duration": 272,
    "start_time": "2022-11-30T12:44:18.796Z"
   },
   {
    "duration": 304,
    "start_time": "2022-11-30T12:53:06.771Z"
   },
   {
    "duration": 290,
    "start_time": "2022-11-30T12:53:13.684Z"
   },
   {
    "duration": 258,
    "start_time": "2022-11-30T12:53:20.326Z"
   },
   {
    "duration": 73,
    "start_time": "2022-11-30T12:53:35.453Z"
   },
   {
    "duration": 260,
    "start_time": "2022-11-30T12:53:39.210Z"
   },
   {
    "duration": 543,
    "start_time": "2022-11-30T12:53:54.930Z"
   },
   {
    "duration": 277,
    "start_time": "2022-11-30T12:55:22.890Z"
   },
   {
    "duration": 270,
    "start_time": "2022-11-30T12:55:28.602Z"
   },
   {
    "duration": 238,
    "start_time": "2022-11-30T12:55:53.237Z"
   },
   {
    "duration": 144,
    "start_time": "2022-11-30T12:56:05.206Z"
   },
   {
    "duration": 277,
    "start_time": "2022-11-30T12:56:22.675Z"
   },
   {
    "duration": 254,
    "start_time": "2022-11-30T12:56:30.063Z"
   },
   {
    "duration": 2,
    "start_time": "2022-11-30T12:56:38.822Z"
   },
   {
    "duration": 598,
    "start_time": "2022-11-30T12:56:41.610Z"
   },
   {
    "duration": 599,
    "start_time": "2022-11-30T12:56:47.501Z"
   },
   {
    "duration": 244,
    "start_time": "2022-11-30T12:56:55.163Z"
   },
   {
    "duration": 257,
    "start_time": "2022-11-30T12:56:57.754Z"
   },
   {
    "duration": 292,
    "start_time": "2022-11-30T12:57:22.998Z"
   },
   {
    "duration": 8,
    "start_time": "2022-11-30T12:59:23.882Z"
   },
   {
    "duration": 238,
    "start_time": "2022-11-30T12:59:29.131Z"
   },
   {
    "duration": 230,
    "start_time": "2022-11-30T12:59:40.145Z"
   },
   {
    "duration": 269,
    "start_time": "2022-11-30T13:00:09.377Z"
   },
   {
    "duration": 264,
    "start_time": "2022-11-30T13:00:32.511Z"
   },
   {
    "duration": 80,
    "start_time": "2022-11-30T13:02:34.330Z"
   },
   {
    "duration": 481,
    "start_time": "2022-11-30T13:02:40.937Z"
   },
   {
    "duration": 249,
    "start_time": "2022-11-30T13:02:50.175Z"
   },
   {
    "duration": 236,
    "start_time": "2022-11-30T13:03:00.743Z"
   },
   {
    "duration": 288,
    "start_time": "2022-11-30T13:03:09.600Z"
   },
   {
    "duration": 692,
    "start_time": "2022-11-30T13:42:43.561Z"
   },
   {
    "duration": 289,
    "start_time": "2022-11-30T13:43:48.943Z"
   },
   {
    "duration": 250,
    "start_time": "2022-11-30T13:43:53.566Z"
   },
   {
    "duration": 265,
    "start_time": "2022-11-30T13:43:59.644Z"
   },
   {
    "duration": 289,
    "start_time": "2022-11-30T13:44:03.285Z"
   },
   {
    "duration": 378,
    "start_time": "2022-11-30T13:44:11.259Z"
   },
   {
    "duration": 225,
    "start_time": "2022-11-30T13:44:22.829Z"
   },
   {
    "duration": 1347,
    "start_time": "2022-11-30T15:23:01.277Z"
   },
   {
    "duration": 3,
    "start_time": "2022-11-30T15:23:02.628Z"
   },
   {
    "duration": 128,
    "start_time": "2022-11-30T15:23:02.633Z"
   },
   {
    "duration": 11,
    "start_time": "2022-11-30T15:23:02.762Z"
   },
   {
    "duration": 17,
    "start_time": "2022-11-30T15:23:02.775Z"
   },
   {
    "duration": 707,
    "start_time": "2022-11-30T15:23:02.794Z"
   },
   {
    "duration": 10,
    "start_time": "2022-11-30T15:23:03.503Z"
   },
   {
    "duration": 317,
    "start_time": "2022-11-30T15:23:03.515Z"
   },
   {
    "duration": 280,
    "start_time": "2022-11-30T15:23:03.835Z"
   },
   {
    "duration": 823,
    "start_time": "2022-11-30T15:23:04.116Z"
   },
   {
    "duration": 3,
    "start_time": "2022-11-30T15:23:04.941Z"
   },
   {
    "duration": 627,
    "start_time": "2022-11-30T15:23:04.946Z"
   },
   {
    "duration": 10,
    "start_time": "2022-11-30T15:23:05.575Z"
   },
   {
    "duration": 270,
    "start_time": "2022-11-30T15:23:05.586Z"
   },
   {
    "duration": 12,
    "start_time": "2022-11-30T15:23:39.382Z"
   },
   {
    "duration": 285,
    "start_time": "2022-11-30T15:23:53.235Z"
   },
   {
    "duration": 274,
    "start_time": "2022-11-30T15:23:56.510Z"
   },
   {
    "duration": 116,
    "start_time": "2022-11-30T15:49:27.798Z"
   },
   {
    "duration": 18,
    "start_time": "2022-11-30T15:49:40.232Z"
   },
   {
    "duration": 16,
    "start_time": "2022-11-30T15:50:00.098Z"
   },
   {
    "duration": 17,
    "start_time": "2022-11-30T15:50:14.210Z"
   },
   {
    "duration": 28,
    "start_time": "2022-11-30T15:50:17.366Z"
   },
   {
    "duration": 10,
    "start_time": "2022-11-30T15:50:28.812Z"
   },
   {
    "duration": 29,
    "start_time": "2022-11-30T15:50:33.214Z"
   },
   {
    "duration": 5,
    "start_time": "2022-11-30T15:50:49.293Z"
   },
   {
    "duration": 15,
    "start_time": "2022-11-30T15:50:54.735Z"
   },
   {
    "duration": 713,
    "start_time": "2022-11-30T15:51:13.518Z"
   },
   {
    "duration": 664,
    "start_time": "2022-11-30T15:51:43.243Z"
   },
   {
    "duration": 11,
    "start_time": "2022-11-30T15:53:52.007Z"
   },
   {
    "duration": 591,
    "start_time": "2022-11-30T15:53:57.579Z"
   },
   {
    "duration": 796,
    "start_time": "2022-11-30T15:55:12.182Z"
   },
   {
    "duration": 701,
    "start_time": "2022-11-30T15:56:07.509Z"
   },
   {
    "duration": 255,
    "start_time": "2022-11-30T16:06:13.788Z"
   },
   {
    "duration": 9,
    "start_time": "2022-11-30T16:12:41.186Z"
   },
   {
    "duration": 9,
    "start_time": "2022-11-30T16:16:46.805Z"
   },
   {
    "duration": 4,
    "start_time": "2022-11-30T16:16:51.408Z"
   },
   {
    "duration": 689,
    "start_time": "2022-11-30T16:21:01.734Z"
   },
   {
    "duration": 699,
    "start_time": "2022-11-30T16:23:41.031Z"
   },
   {
    "duration": 832,
    "start_time": "2022-11-30T16:23:51.427Z"
   },
   {
    "duration": 265,
    "start_time": "2022-11-30T16:35:17.899Z"
   },
   {
    "duration": 256,
    "start_time": "2022-11-30T16:35:25.487Z"
   },
   {
    "duration": 53,
    "start_time": "2022-11-30T16:35:53.842Z"
   },
   {
    "duration": 517,
    "start_time": "2022-11-30T16:35:56.751Z"
   },
   {
    "duration": 543,
    "start_time": "2022-11-30T16:36:16.656Z"
   },
   {
    "duration": 687,
    "start_time": "2022-11-30T16:36:27.157Z"
   },
   {
    "duration": 548,
    "start_time": "2022-11-30T16:38:18.060Z"
   },
   {
    "duration": 9,
    "start_time": "2022-11-30T16:39:43.847Z"
   },
   {
    "duration": 4,
    "start_time": "2022-11-30T16:39:49.813Z"
   },
   {
    "duration": 10,
    "start_time": "2022-11-30T16:39:59.435Z"
   },
   {
    "duration": 11,
    "start_time": "2022-11-30T16:40:59.119Z"
   },
   {
    "duration": 5,
    "start_time": "2022-11-30T16:41:05.871Z"
   },
   {
    "duration": 12,
    "start_time": "2022-11-30T16:41:07.663Z"
   },
   {
    "duration": 199,
    "start_time": "2022-11-30T16:45:31.400Z"
   },
   {
    "duration": 212,
    "start_time": "2022-11-30T16:46:12.919Z"
   },
   {
    "duration": 222,
    "start_time": "2022-11-30T16:46:18.045Z"
   },
   {
    "duration": 385,
    "start_time": "2022-11-30T16:46:50.224Z"
   },
   {
    "duration": 203,
    "start_time": "2022-11-30T16:47:05.110Z"
   },
   {
    "duration": 234,
    "start_time": "2022-11-30T16:47:16.852Z"
   },
   {
    "duration": 217,
    "start_time": "2022-11-30T16:47:31.750Z"
   },
   {
    "duration": 207,
    "start_time": "2022-11-30T16:47:45.352Z"
   },
   {
    "duration": 206,
    "start_time": "2022-11-30T16:48:37.591Z"
   },
   {
    "duration": 210,
    "start_time": "2022-11-30T16:48:53.626Z"
   },
   {
    "duration": 6,
    "start_time": "2022-11-30T16:58:02.315Z"
   },
   {
    "duration": 13,
    "start_time": "2022-11-30T16:58:06.430Z"
   },
   {
    "duration": 5,
    "start_time": "2022-11-30T17:11:14.784Z"
   },
   {
    "duration": 14,
    "start_time": "2022-11-30T17:11:22.778Z"
   },
   {
    "duration": 10,
    "start_time": "2022-11-30T17:17:01.254Z"
   },
   {
    "duration": 28,
    "start_time": "2022-11-30T17:17:08.057Z"
   },
   {
    "duration": 41,
    "start_time": "2022-11-30T17:17:10.678Z"
   },
   {
    "duration": 42,
    "start_time": "2022-11-30T17:17:22.127Z"
   },
   {
    "duration": 6,
    "start_time": "2022-11-30T17:17:31.756Z"
   },
   {
    "duration": 411,
    "start_time": "2022-11-30T17:21:44.265Z"
   },
   {
    "duration": 3,
    "start_time": "2022-11-30T17:22:04.420Z"
   },
   {
    "duration": 26,
    "start_time": "2022-11-30T17:22:21.631Z"
   },
   {
    "duration": 9,
    "start_time": "2022-11-30T17:22:52.542Z"
   },
   {
    "duration": 3,
    "start_time": "2022-11-30T17:23:12.530Z"
   },
   {
    "duration": 46,
    "start_time": "2022-11-30T17:24:20.967Z"
   },
   {
    "duration": 59,
    "start_time": "2022-11-30T17:24:29.833Z"
   },
   {
    "duration": 56,
    "start_time": "2022-11-30T17:24:41.376Z"
   },
   {
    "duration": 4,
    "start_time": "2022-11-30T17:25:04.546Z"
   },
   {
    "duration": 4,
    "start_time": "2022-11-30T17:25:09.064Z"
   },
   {
    "duration": 529,
    "start_time": "2022-11-30T17:25:30.671Z"
   },
   {
    "duration": 4,
    "start_time": "2022-11-30T17:25:40.897Z"
   },
   {
    "duration": 513,
    "start_time": "2022-11-30T17:25:41.990Z"
   },
   {
    "duration": 37,
    "start_time": "2022-11-30T17:28:29.936Z"
   },
   {
    "duration": 44,
    "start_time": "2022-11-30T17:28:48.387Z"
   },
   {
    "duration": 43,
    "start_time": "2022-11-30T17:28:55.008Z"
   },
   {
    "duration": 15,
    "start_time": "2022-11-30T17:28:57.921Z"
   },
   {
    "duration": 13,
    "start_time": "2022-11-30T17:29:31.603Z"
   },
   {
    "duration": 14,
    "start_time": "2022-11-30T17:29:52.240Z"
   },
   {
    "duration": 979,
    "start_time": "2022-11-30T17:30:04.080Z"
   },
   {
    "duration": 16,
    "start_time": "2022-11-30T17:30:10.816Z"
   },
   {
    "duration": 27,
    "start_time": "2022-11-30T17:31:47.384Z"
   },
   {
    "duration": 14,
    "start_time": "2022-11-30T17:32:08.389Z"
   },
   {
    "duration": 41,
    "start_time": "2022-11-30T17:32:16.404Z"
   },
   {
    "duration": 10,
    "start_time": "2022-11-30T17:32:33.791Z"
   },
   {
    "duration": 17,
    "start_time": "2022-11-30T17:32:37.596Z"
   },
   {
    "duration": 15,
    "start_time": "2022-11-30T17:32:57.566Z"
   },
   {
    "duration": 9,
    "start_time": "2022-11-30T17:33:04.539Z"
   },
   {
    "duration": 655,
    "start_time": "2022-11-30T17:33:08.043Z"
   },
   {
    "duration": 11,
    "start_time": "2022-11-30T17:33:24.982Z"
   },
   {
    "duration": 996,
    "start_time": "2022-11-30T17:33:26.901Z"
   },
   {
    "duration": 4,
    "start_time": "2022-11-30T17:33:50.392Z"
   },
   {
    "duration": 14,
    "start_time": "2022-11-30T17:33:53.454Z"
   },
   {
    "duration": 9,
    "start_time": "2022-11-30T17:33:56.970Z"
   },
   {
    "duration": 8,
    "start_time": "2022-11-30T17:33:59.118Z"
   },
   {
    "duration": 970,
    "start_time": "2022-11-30T17:34:00.228Z"
   },
   {
    "duration": 9,
    "start_time": "2022-11-30T17:34:53.636Z"
   },
   {
    "duration": 9,
    "start_time": "2022-11-30T17:34:59.575Z"
   },
   {
    "duration": 788,
    "start_time": "2022-11-30T17:35:00.815Z"
   },
   {
    "duration": 4,
    "start_time": "2022-11-30T17:35:32.830Z"
   },
   {
    "duration": 10,
    "start_time": "2022-11-30T17:35:35.467Z"
   },
   {
    "duration": 8,
    "start_time": "2022-11-30T17:35:37.889Z"
   },
   {
    "duration": 859,
    "start_time": "2022-11-30T17:35:39.756Z"
   },
   {
    "duration": 9,
    "start_time": "2022-11-30T17:38:02.163Z"
   },
   {
    "duration": 8,
    "start_time": "2022-11-30T17:38:05.037Z"
   },
   {
    "duration": 1022,
    "start_time": "2022-11-30T17:38:06.182Z"
   },
   {
    "duration": 8,
    "start_time": "2022-11-30T17:38:20.635Z"
   },
   {
    "duration": 7,
    "start_time": "2022-11-30T17:38:23.610Z"
   },
   {
    "duration": 645,
    "start_time": "2022-11-30T17:38:24.757Z"
   },
   {
    "duration": 5,
    "start_time": "2022-11-30T17:39:06.423Z"
   },
   {
    "duration": 10,
    "start_time": "2022-11-30T17:39:08.822Z"
   },
   {
    "duration": 695,
    "start_time": "2022-11-30T17:39:10.421Z"
   },
   {
    "duration": 6,
    "start_time": "2022-11-30T17:39:13.861Z"
   },
   {
    "duration": 670,
    "start_time": "2022-11-30T17:39:14.936Z"
   },
   {
    "duration": 10,
    "start_time": "2022-11-30T17:39:39.000Z"
   },
   {
    "duration": 708,
    "start_time": "2022-11-30T17:39:40.792Z"
   },
   {
    "duration": 7,
    "start_time": "2022-11-30T17:39:42.081Z"
   },
   {
    "duration": 581,
    "start_time": "2022-11-30T17:39:42.820Z"
   },
   {
    "duration": 4,
    "start_time": "2022-11-30T17:39:50.797Z"
   },
   {
    "duration": 15,
    "start_time": "2022-11-30T17:40:12.035Z"
   },
   {
    "duration": 9,
    "start_time": "2022-11-30T17:40:46.051Z"
   },
   {
    "duration": 3,
    "start_time": "2022-11-30T17:41:02.568Z"
   },
   {
    "duration": 10,
    "start_time": "2022-11-30T17:41:08.259Z"
   },
   {
    "duration": 7,
    "start_time": "2022-11-30T17:41:13.663Z"
   },
   {
    "duration": 14,
    "start_time": "2022-11-30T17:41:24.031Z"
   },
   {
    "duration": 712,
    "start_time": "2022-11-30T17:41:26.687Z"
   },
   {
    "duration": 6,
    "start_time": "2022-11-30T17:41:47.515Z"
   },
   {
    "duration": 13,
    "start_time": "2022-11-30T17:41:49.338Z"
   },
   {
    "duration": 9,
    "start_time": "2022-11-30T17:42:19.756Z"
   },
   {
    "duration": 883,
    "start_time": "2022-11-30T17:42:22.520Z"
   },
   {
    "duration": 90,
    "start_time": "2022-11-30T17:42:23.407Z"
   },
   {
    "duration": 751,
    "start_time": "2022-11-30T17:42:24.554Z"
   },
   {
    "duration": 103,
    "start_time": "2022-11-30T17:42:25.397Z"
   },
   {
    "duration": 77,
    "start_time": "2022-11-30T17:42:26.683Z"
   },
   {
    "duration": 8,
    "start_time": "2022-11-30T17:42:30.716Z"
   },
   {
    "duration": 9,
    "start_time": "2022-11-30T17:42:32.117Z"
   },
   {
    "duration": 9,
    "start_time": "2022-11-30T17:42:50.080Z"
   },
   {
    "duration": 516,
    "start_time": "2022-11-30T17:42:52.288Z"
   },
   {
    "duration": 8,
    "start_time": "2022-11-30T17:42:53.548Z"
   },
   {
    "duration": 914,
    "start_time": "2022-11-30T17:42:54.486Z"
   },
   {
    "duration": 9,
    "start_time": "2022-11-30T17:42:56.313Z"
   },
   {
    "duration": 7,
    "start_time": "2022-11-30T17:42:57.887Z"
   },
   {
    "duration": 16,
    "start_time": "2022-11-30T17:42:58.754Z"
   },
   {
    "duration": 10,
    "start_time": "2022-11-30T17:43:24.971Z"
   },
   {
    "duration": 534,
    "start_time": "2022-11-30T17:43:27.166Z"
   },
   {
    "duration": 9,
    "start_time": "2022-11-30T17:43:28.291Z"
   },
   {
    "duration": 902,
    "start_time": "2022-11-30T17:43:29.295Z"
   },
   {
    "duration": 11,
    "start_time": "2022-11-30T17:43:30.909Z"
   },
   {
    "duration": 9,
    "start_time": "2022-11-30T17:43:32.482Z"
   },
   {
    "duration": 16,
    "start_time": "2022-11-30T17:43:34.432Z"
   },
   {
    "duration": 10,
    "start_time": "2022-11-30T17:43:49.156Z"
   },
   {
    "duration": 617,
    "start_time": "2022-11-30T17:43:53.684Z"
   },
   {
    "duration": 8,
    "start_time": "2022-11-30T17:43:54.620Z"
   },
   {
    "duration": 614,
    "start_time": "2022-11-30T17:43:55.688Z"
   },
   {
    "duration": 14,
    "start_time": "2022-11-30T17:43:56.989Z"
   },
   {
    "duration": 7,
    "start_time": "2022-11-30T17:43:58.776Z"
   },
   {
    "duration": 11,
    "start_time": "2022-11-30T17:43:59.895Z"
   },
   {
    "duration": 78,
    "start_time": "2022-11-30T17:52:29.216Z"
   },
   {
    "duration": 11,
    "start_time": "2022-11-30T17:52:30.265Z"
   },
   {
    "duration": 644,
    "start_time": "2022-11-30T17:52:32.958Z"
   },
   {
    "duration": 98,
    "start_time": "2022-11-30T17:52:33.705Z"
   },
   {
    "duration": 690,
    "start_time": "2022-11-30T17:52:34.912Z"
   },
   {
    "duration": 9,
    "start_time": "2022-11-30T17:52:36.701Z"
   },
   {
    "duration": 6,
    "start_time": "2022-11-30T17:52:39.499Z"
   },
   {
    "duration": 10,
    "start_time": "2022-11-30T17:52:40.474Z"
   },
   {
    "duration": 3170,
    "start_time": "2022-11-30T17:54:04.578Z"
   },
   {
    "duration": 64,
    "start_time": "2022-11-30T17:55:11.962Z"
   },
   {
    "duration": 38,
    "start_time": "2022-11-30T17:55:17.902Z"
   },
   {
    "duration": 17,
    "start_time": "2022-11-30T17:55:20.073Z"
   },
   {
    "duration": 15,
    "start_time": "2022-11-30T17:55:22.216Z"
   },
   {
    "duration": 1088,
    "start_time": "2022-11-30T17:55:25.009Z"
   },
   {
    "duration": 11,
    "start_time": "2022-11-30T17:55:28.972Z"
   },
   {
    "duration": 1157,
    "start_time": "2022-11-30T17:55:29.741Z"
   },
   {
    "duration": 10,
    "start_time": "2022-11-30T17:55:31.609Z"
   },
   {
    "duration": 8,
    "start_time": "2022-11-30T17:55:32.894Z"
   },
   {
    "duration": 8,
    "start_time": "2022-11-30T17:55:35.271Z"
   },
   {
    "duration": 10,
    "start_time": "2022-11-30T17:55:40.353Z"
   },
   {
    "duration": 7536,
    "start_time": "2022-11-30T17:55:43.809Z"
   },
   {
    "duration": 7652,
    "start_time": "2022-11-30T17:56:06.564Z"
   },
   {
    "duration": 9,
    "start_time": "2022-11-30T17:56:18.825Z"
   },
   {
    "duration": 11,
    "start_time": "2022-11-30T17:56:50.820Z"
   },
   {
    "duration": 7864,
    "start_time": "2022-11-30T17:56:56.551Z"
   },
   {
    "duration": 7,
    "start_time": "2022-11-30T17:57:05.357Z"
   },
   {
    "duration": 9,
    "start_time": "2022-11-30T17:57:06.730Z"
   },
   {
    "duration": 4,
    "start_time": "2022-11-30T17:57:09.351Z"
   },
   {
    "duration": 5,
    "start_time": "2022-11-30T17:57:15.331Z"
   },
   {
    "duration": 80620,
    "start_time": "2022-11-30T17:59:03.912Z"
   },
   {
    "duration": 10,
    "start_time": "2022-11-30T18:05:46.926Z"
   },
   {
    "duration": 80,
    "start_time": "2022-11-30T18:05:54.704Z"
   },
   {
    "duration": 33071,
    "start_time": "2022-11-30T18:06:26.421Z"
   },
   {
    "duration": 46,
    "start_time": "2022-11-30T18:07:19.794Z"
   },
   {
    "duration": 62,
    "start_time": "2022-11-30T18:07:26.139Z"
   },
   {
    "duration": 34999,
    "start_time": "2022-11-30T18:07:34.929Z"
   },
   {
    "duration": 4,
    "start_time": "2022-11-30T18:08:09.931Z"
   },
   {
    "duration": 14,
    "start_time": "2022-11-30T18:08:09.936Z"
   },
   {
    "duration": 15,
    "start_time": "2022-11-30T18:08:50.925Z"
   },
   {
    "duration": 8,
    "start_time": "2022-11-30T18:08:52.599Z"
   },
   {
    "duration": 35239,
    "start_time": "2022-11-30T18:10:43.406Z"
   },
   {
    "duration": 5,
    "start_time": "2022-11-30T18:11:25.188Z"
   },
   {
    "duration": 4,
    "start_time": "2022-11-30T18:11:27.347Z"
   },
   {
    "duration": 8,
    "start_time": "2022-11-30T18:11:31.690Z"
   },
   {
    "duration": 224,
    "start_time": "2022-11-30T18:25:56.975Z"
   },
   {
    "duration": 25,
    "start_time": "2022-11-30T18:45:16.838Z"
   },
   {
    "duration": 8,
    "start_time": "2022-11-30T18:46:22.436Z"
   },
   {
    "duration": 24,
    "start_time": "2022-11-30T18:46:31.137Z"
   },
   {
    "duration": 1541,
    "start_time": "2022-11-30T18:47:30.212Z"
   },
   {
    "duration": 0,
    "start_time": "2022-11-30T18:47:31.756Z"
   },
   {
    "duration": 0,
    "start_time": "2022-11-30T18:47:31.758Z"
   },
   {
    "duration": 0,
    "start_time": "2022-11-30T18:47:31.759Z"
   },
   {
    "duration": 0,
    "start_time": "2022-11-30T18:47:31.760Z"
   },
   {
    "duration": 0,
    "start_time": "2022-11-30T18:47:31.762Z"
   },
   {
    "duration": 0,
    "start_time": "2022-11-30T18:47:31.763Z"
   },
   {
    "duration": 0,
    "start_time": "2022-11-30T18:47:31.764Z"
   },
   {
    "duration": 0,
    "start_time": "2022-11-30T18:47:31.765Z"
   },
   {
    "duration": 0,
    "start_time": "2022-11-30T18:47:31.766Z"
   },
   {
    "duration": 0,
    "start_time": "2022-11-30T18:47:31.767Z"
   },
   {
    "duration": 0,
    "start_time": "2022-11-30T18:47:31.768Z"
   },
   {
    "duration": 0,
    "start_time": "2022-11-30T18:47:31.769Z"
   },
   {
    "duration": 0,
    "start_time": "2022-11-30T18:47:31.770Z"
   },
   {
    "duration": 0,
    "start_time": "2022-11-30T18:47:31.797Z"
   },
   {
    "duration": 0,
    "start_time": "2022-11-30T18:47:31.798Z"
   },
   {
    "duration": 0,
    "start_time": "2022-11-30T18:47:31.799Z"
   },
   {
    "duration": 0,
    "start_time": "2022-11-30T18:47:31.800Z"
   },
   {
    "duration": 0,
    "start_time": "2022-11-30T18:47:31.801Z"
   },
   {
    "duration": 0,
    "start_time": "2022-11-30T18:47:31.802Z"
   },
   {
    "duration": 0,
    "start_time": "2022-11-30T18:47:31.803Z"
   },
   {
    "duration": 0,
    "start_time": "2022-11-30T18:47:31.805Z"
   },
   {
    "duration": 0,
    "start_time": "2022-11-30T18:47:31.805Z"
   },
   {
    "duration": 0,
    "start_time": "2022-11-30T18:47:31.806Z"
   },
   {
    "duration": 0,
    "start_time": "2022-11-30T18:47:31.807Z"
   },
   {
    "duration": 0,
    "start_time": "2022-11-30T18:47:31.808Z"
   },
   {
    "duration": 0,
    "start_time": "2022-11-30T18:47:31.809Z"
   },
   {
    "duration": 0,
    "start_time": "2022-11-30T18:47:31.810Z"
   },
   {
    "duration": 0,
    "start_time": "2022-11-30T18:47:31.811Z"
   },
   {
    "duration": 0,
    "start_time": "2022-11-30T18:47:31.812Z"
   },
   {
    "duration": 0,
    "start_time": "2022-11-30T18:47:31.813Z"
   },
   {
    "duration": 1464,
    "start_time": "2022-11-30T18:47:46.400Z"
   },
   {
    "duration": 0,
    "start_time": "2022-11-30T18:47:47.866Z"
   },
   {
    "duration": 0,
    "start_time": "2022-11-30T18:47:47.867Z"
   },
   {
    "duration": 0,
    "start_time": "2022-11-30T18:47:47.868Z"
   },
   {
    "duration": 0,
    "start_time": "2022-11-30T18:47:47.869Z"
   },
   {
    "duration": 0,
    "start_time": "2022-11-30T18:47:47.870Z"
   },
   {
    "duration": 0,
    "start_time": "2022-11-30T18:47:47.872Z"
   },
   {
    "duration": 0,
    "start_time": "2022-11-30T18:47:47.873Z"
   },
   {
    "duration": 0,
    "start_time": "2022-11-30T18:47:47.874Z"
   },
   {
    "duration": 0,
    "start_time": "2022-11-30T18:47:47.875Z"
   },
   {
    "duration": 0,
    "start_time": "2022-11-30T18:47:47.876Z"
   },
   {
    "duration": 0,
    "start_time": "2022-11-30T18:47:47.896Z"
   },
   {
    "duration": 0,
    "start_time": "2022-11-30T18:47:47.897Z"
   },
   {
    "duration": 0,
    "start_time": "2022-11-30T18:47:47.899Z"
   },
   {
    "duration": 0,
    "start_time": "2022-11-30T18:47:47.900Z"
   },
   {
    "duration": 0,
    "start_time": "2022-11-30T18:47:47.901Z"
   },
   {
    "duration": 0,
    "start_time": "2022-11-30T18:47:47.902Z"
   },
   {
    "duration": 0,
    "start_time": "2022-11-30T18:47:47.903Z"
   },
   {
    "duration": 0,
    "start_time": "2022-11-30T18:47:47.905Z"
   },
   {
    "duration": 0,
    "start_time": "2022-11-30T18:47:47.906Z"
   },
   {
    "duration": 0,
    "start_time": "2022-11-30T18:47:47.907Z"
   },
   {
    "duration": 0,
    "start_time": "2022-11-30T18:47:47.908Z"
   },
   {
    "duration": 0,
    "start_time": "2022-11-30T18:47:47.909Z"
   },
   {
    "duration": 0,
    "start_time": "2022-11-30T18:47:47.911Z"
   },
   {
    "duration": 0,
    "start_time": "2022-11-30T18:47:47.912Z"
   },
   {
    "duration": 0,
    "start_time": "2022-11-30T18:47:47.913Z"
   },
   {
    "duration": 0,
    "start_time": "2022-11-30T18:47:47.914Z"
   },
   {
    "duration": 0,
    "start_time": "2022-11-30T18:47:47.915Z"
   },
   {
    "duration": 0,
    "start_time": "2022-11-30T18:47:47.916Z"
   },
   {
    "duration": 0,
    "start_time": "2022-11-30T18:47:47.917Z"
   },
   {
    "duration": 0,
    "start_time": "2022-11-30T18:47:47.918Z"
   },
   {
    "duration": 77,
    "start_time": "2022-11-30T18:48:07.729Z"
   },
   {
    "duration": 1404,
    "start_time": "2022-11-30T18:48:12.701Z"
   },
   {
    "duration": 4,
    "start_time": "2022-11-30T18:48:14.107Z"
   },
   {
    "duration": 53,
    "start_time": "2022-11-30T18:48:14.112Z"
   },
   {
    "duration": 13,
    "start_time": "2022-11-30T18:48:14.167Z"
   },
   {
    "duration": 9,
    "start_time": "2022-11-30T18:48:14.181Z"
   },
   {
    "duration": 810,
    "start_time": "2022-11-30T18:48:14.191Z"
   },
   {
    "duration": 10,
    "start_time": "2022-11-30T18:48:15.003Z"
   },
   {
    "duration": 288,
    "start_time": "2022-11-30T18:48:15.014Z"
   },
   {
    "duration": 294,
    "start_time": "2022-11-30T18:48:15.304Z"
   },
   {
    "duration": 786,
    "start_time": "2022-11-30T18:48:15.602Z"
   },
   {
    "duration": 717,
    "start_time": "2022-11-30T18:48:16.396Z"
   },
   {
    "duration": 678,
    "start_time": "2022-11-30T18:48:17.114Z"
   },
   {
    "duration": 127,
    "start_time": "2022-11-30T18:48:17.793Z"
   },
   {
    "duration": 0,
    "start_time": "2022-11-30T18:48:17.922Z"
   },
   {
    "duration": 0,
    "start_time": "2022-11-30T18:48:17.924Z"
   },
   {
    "duration": 0,
    "start_time": "2022-11-30T18:48:17.925Z"
   },
   {
    "duration": 0,
    "start_time": "2022-11-30T18:48:17.926Z"
   },
   {
    "duration": 0,
    "start_time": "2022-11-30T18:48:17.927Z"
   },
   {
    "duration": 0,
    "start_time": "2022-11-30T18:48:17.928Z"
   },
   {
    "duration": 0,
    "start_time": "2022-11-30T18:48:17.929Z"
   },
   {
    "duration": 0,
    "start_time": "2022-11-30T18:48:17.931Z"
   },
   {
    "duration": 0,
    "start_time": "2022-11-30T18:48:17.932Z"
   },
   {
    "duration": 0,
    "start_time": "2022-11-30T18:48:17.933Z"
   },
   {
    "duration": 0,
    "start_time": "2022-11-30T18:48:17.934Z"
   },
   {
    "duration": 0,
    "start_time": "2022-11-30T18:48:17.935Z"
   },
   {
    "duration": 0,
    "start_time": "2022-11-30T18:48:17.936Z"
   },
   {
    "duration": 1,
    "start_time": "2022-11-30T18:48:17.937Z"
   },
   {
    "duration": 0,
    "start_time": "2022-11-30T18:48:17.939Z"
   },
   {
    "duration": 0,
    "start_time": "2022-11-30T18:48:17.940Z"
   },
   {
    "duration": 0,
    "start_time": "2022-11-30T18:48:17.941Z"
   },
   {
    "duration": 0,
    "start_time": "2022-11-30T18:48:17.942Z"
   },
   {
    "duration": 7,
    "start_time": "2022-11-30T18:50:56.380Z"
   },
   {
    "duration": 10,
    "start_time": "2022-11-30T18:50:58.206Z"
   },
   {
    "duration": 80,
    "start_time": "2022-11-30T18:51:04.112Z"
   },
   {
    "duration": 251,
    "start_time": "2022-11-30T18:51:06.110Z"
   },
   {
    "duration": 5,
    "start_time": "2022-11-30T18:51:08.530Z"
   },
   {
    "duration": 22,
    "start_time": "2022-11-30T18:51:10.015Z"
   },
   {
    "duration": 14,
    "start_time": "2022-11-30T18:51:13.380Z"
   },
   {
    "duration": 5,
    "start_time": "2022-11-30T18:51:15.619Z"
   },
   {
    "duration": 14,
    "start_time": "2022-11-30T18:51:17.278Z"
   },
   {
    "duration": 3,
    "start_time": "2022-11-30T18:53:37.820Z"
   },
   {
    "duration": 2,
    "start_time": "2022-11-30T18:57:43.719Z"
   },
   {
    "duration": 1658,
    "start_time": "2022-11-30T18:57:47.239Z"
   },
   {
    "duration": 147600,
    "start_time": "2022-11-30T18:57:50.968Z"
   },
   {
    "duration": 67,
    "start_time": "2022-11-30T19:00:36.814Z"
   },
   {
    "duration": 15,
    "start_time": "2022-11-30T19:00:43.913Z"
   },
   {
    "duration": 7,
    "start_time": "2022-11-30T19:00:48.515Z"
   },
   {
    "duration": 7,
    "start_time": "2022-11-30T19:00:53.794Z"
   },
   {
    "duration": 244,
    "start_time": "2022-11-30T19:01:16.877Z"
   },
   {
    "duration": 289,
    "start_time": "2022-11-30T19:01:42.709Z"
   },
   {
    "duration": 9,
    "start_time": "2022-11-30T19:01:48.126Z"
   },
   {
    "duration": 10,
    "start_time": "2022-11-30T19:01:52.706Z"
   },
   {
    "duration": 294,
    "start_time": "2022-11-30T19:02:06.179Z"
   },
   {
    "duration": 225,
    "start_time": "2022-11-30T19:02:26.796Z"
   },
   {
    "duration": 258,
    "start_time": "2022-11-30T19:02:36.380Z"
   },
   {
    "duration": 211,
    "start_time": "2022-11-30T19:02:52.804Z"
   },
   {
    "duration": 381,
    "start_time": "2022-11-30T19:03:07.148Z"
   },
   {
    "duration": 750,
    "start_time": "2022-11-30T19:03:44.468Z"
   },
   {
    "duration": 151,
    "start_time": "2022-11-30T19:03:54.068Z"
   },
   {
    "duration": 232,
    "start_time": "2022-11-30T19:04:09.666Z"
   },
   {
    "duration": 80,
    "start_time": "2022-11-30T19:04:48.250Z"
   },
   {
    "duration": 225,
    "start_time": "2022-11-30T19:04:56.314Z"
   },
   {
    "duration": 53180,
    "start_time": "2022-11-30T19:06:26.542Z"
   },
   {
    "duration": 7,
    "start_time": "2022-11-30T19:20:25.155Z"
   },
   {
    "duration": 42,
    "start_time": "2022-11-30T19:20:40.715Z"
   },
   {
    "duration": 4,
    "start_time": "2022-11-30T19:20:54.287Z"
   },
   {
    "duration": 1857,
    "start_time": "2022-11-30T19:20:57.340Z"
   },
   {
    "duration": 151303,
    "start_time": "2022-11-30T19:21:00.188Z"
   },
   {
    "duration": 53545,
    "start_time": "2022-11-30T19:23:31.497Z"
   },
   {
    "duration": 17,
    "start_time": "2022-11-30T19:24:25.044Z"
   },
   {
    "duration": 3,
    "start_time": "2022-11-30T19:25:01.488Z"
   },
   {
    "duration": 1621,
    "start_time": "2022-11-30T19:25:02.776Z"
   },
   {
    "duration": 11,
    "start_time": "2022-11-30T19:25:06.873Z"
   },
   {
    "duration": 9,
    "start_time": "2022-11-30T19:25:17.929Z"
   },
   {
    "duration": 150107,
    "start_time": "2022-11-30T19:25:26.923Z"
   },
   {
    "duration": 53295,
    "start_time": "2022-11-30T19:27:57.032Z"
   },
   {
    "duration": 39,
    "start_time": "2022-11-30T19:28:50.329Z"
   },
   {
    "duration": 4,
    "start_time": "2022-11-30T19:40:58.994Z"
   },
   {
    "duration": 10,
    "start_time": "2022-11-30T19:41:27.242Z"
   },
   {
    "duration": 4,
    "start_time": "2022-11-30T19:41:31.668Z"
   },
   {
    "duration": 289,
    "start_time": "2022-11-30T19:41:45.532Z"
   },
   {
    "duration": 4,
    "start_time": "2022-11-30T19:42:00.661Z"
   },
   {
    "duration": 329,
    "start_time": "2022-11-30T19:42:02.272Z"
   },
   {
    "duration": 4,
    "start_time": "2022-11-30T19:42:19.962Z"
   },
   {
    "duration": 325,
    "start_time": "2022-11-30T19:42:21.837Z"
   },
   {
    "duration": 3,
    "start_time": "2022-11-30T19:42:24.556Z"
   },
   {
    "duration": 296,
    "start_time": "2022-11-30T19:42:25.657Z"
   },
   {
    "duration": 3,
    "start_time": "2022-11-30T19:44:29.184Z"
   },
   {
    "duration": 383,
    "start_time": "2022-11-30T19:44:31.001Z"
   },
   {
    "duration": 3,
    "start_time": "2022-11-30T19:58:45.388Z"
   },
   {
    "duration": 413,
    "start_time": "2022-11-30T19:58:48.384Z"
   },
   {
    "duration": 3,
    "start_time": "2022-11-30T19:58:59.264Z"
   },
   {
    "duration": 384,
    "start_time": "2022-11-30T19:59:01.340Z"
   },
   {
    "duration": 54,
    "start_time": "2022-11-30T19:59:57.704Z"
   },
   {
    "duration": 4,
    "start_time": "2022-11-30T20:00:02.460Z"
   },
   {
    "duration": 1390,
    "start_time": "2022-11-30T20:00:04.416Z"
   },
   {
    "duration": 3,
    "start_time": "2022-11-30T20:00:19.262Z"
   },
   {
    "duration": 9,
    "start_time": "2022-11-30T20:00:20.967Z"
   },
   {
    "duration": 4,
    "start_time": "2022-11-30T20:00:29.553Z"
   },
   {
    "duration": 9,
    "start_time": "2022-11-30T20:00:31.607Z"
   },
   {
    "duration": 4,
    "start_time": "2022-11-30T20:00:55.447Z"
   },
   {
    "duration": 406,
    "start_time": "2022-11-30T20:00:57.320Z"
   },
   {
    "duration": 390,
    "start_time": "2022-11-30T20:01:18.390Z"
   },
   {
    "duration": 5,
    "start_time": "2022-11-30T20:02:03.142Z"
   },
   {
    "duration": 360,
    "start_time": "2022-11-30T20:02:05.537Z"
   },
   {
    "duration": 5,
    "start_time": "2022-11-30T20:02:15.638Z"
   },
   {
    "duration": 404,
    "start_time": "2022-11-30T20:02:17.790Z"
   },
   {
    "duration": 452,
    "start_time": "2022-11-30T20:02:25.818Z"
   },
   {
    "duration": 3,
    "start_time": "2022-11-30T20:03:01.025Z"
   },
   {
    "duration": 54,
    "start_time": "2022-11-30T20:03:06.959Z"
   },
   {
    "duration": 1506,
    "start_time": "2022-11-30T20:03:19.710Z"
   },
   {
    "duration": 3,
    "start_time": "2022-11-30T20:03:21.219Z"
   },
   {
    "duration": 50,
    "start_time": "2022-11-30T20:03:21.224Z"
   },
   {
    "duration": 12,
    "start_time": "2022-11-30T20:03:21.276Z"
   },
   {
    "duration": 9,
    "start_time": "2022-11-30T20:03:21.289Z"
   },
   {
    "duration": 775,
    "start_time": "2022-11-30T20:03:21.299Z"
   },
   {
    "duration": 21,
    "start_time": "2022-11-30T20:03:22.076Z"
   },
   {
    "duration": 279,
    "start_time": "2022-11-30T20:03:22.099Z"
   },
   {
    "duration": 301,
    "start_time": "2022-11-30T20:03:22.379Z"
   },
   {
    "duration": 738,
    "start_time": "2022-11-30T20:03:22.683Z"
   },
   {
    "duration": 653,
    "start_time": "2022-11-30T20:03:23.422Z"
   },
   {
    "duration": 632,
    "start_time": "2022-11-30T20:03:24.077Z"
   },
   {
    "duration": 8,
    "start_time": "2022-11-30T20:03:24.710Z"
   },
   {
    "duration": 97,
    "start_time": "2022-11-30T20:03:24.719Z"
   },
   {
    "duration": 213,
    "start_time": "2022-11-30T20:03:24.818Z"
   },
   {
    "duration": 6,
    "start_time": "2022-11-30T20:03:25.032Z"
   },
   {
    "duration": 25,
    "start_time": "2022-11-30T20:03:25.039Z"
   },
   {
    "duration": 32,
    "start_time": "2022-11-30T20:03:25.065Z"
   },
   {
    "duration": 141,
    "start_time": "2022-11-30T20:03:25.098Z"
   },
   {
    "duration": 0,
    "start_time": "2022-11-30T20:03:25.240Z"
   },
   {
    "duration": 0,
    "start_time": "2022-11-30T20:03:25.242Z"
   },
   {
    "duration": 0,
    "start_time": "2022-11-30T20:03:25.243Z"
   },
   {
    "duration": 0,
    "start_time": "2022-11-30T20:03:25.244Z"
   },
   {
    "duration": 0,
    "start_time": "2022-11-30T20:03:25.245Z"
   },
   {
    "duration": 0,
    "start_time": "2022-11-30T20:03:25.246Z"
   },
   {
    "duration": 0,
    "start_time": "2022-11-30T20:03:25.248Z"
   },
   {
    "duration": 0,
    "start_time": "2022-11-30T20:03:25.249Z"
   },
   {
    "duration": 0,
    "start_time": "2022-11-30T20:03:25.386Z"
   },
   {
    "duration": 4,
    "start_time": "2022-11-30T20:03:54.437Z"
   },
   {
    "duration": 3,
    "start_time": "2022-11-30T20:04:23.807Z"
   },
   {
    "duration": 24,
    "start_time": "2022-11-30T20:08:09.899Z"
   },
   {
    "duration": 1507,
    "start_time": "2022-11-30T20:08:34.677Z"
   },
   {
    "duration": 3,
    "start_time": "2022-11-30T20:08:36.186Z"
   },
   {
    "duration": 62,
    "start_time": "2022-11-30T20:08:36.192Z"
   },
   {
    "duration": 15,
    "start_time": "2022-11-30T20:08:36.258Z"
   },
   {
    "duration": 9,
    "start_time": "2022-11-30T20:08:36.275Z"
   },
   {
    "duration": 768,
    "start_time": "2022-11-30T20:08:36.285Z"
   },
   {
    "duration": 9,
    "start_time": "2022-11-30T20:08:37.055Z"
   },
   {
    "duration": 309,
    "start_time": "2022-11-30T20:08:37.066Z"
   },
   {
    "duration": 303,
    "start_time": "2022-11-30T20:08:37.377Z"
   },
   {
    "duration": 689,
    "start_time": "2022-11-30T20:08:37.682Z"
   },
   {
    "duration": 633,
    "start_time": "2022-11-30T20:08:38.373Z"
   },
   {
    "duration": 620,
    "start_time": "2022-11-30T20:08:39.008Z"
   },
   {
    "duration": 7,
    "start_time": "2022-11-30T20:08:39.630Z"
   },
   {
    "duration": 95,
    "start_time": "2022-11-30T20:08:39.639Z"
   },
   {
    "duration": 209,
    "start_time": "2022-11-30T20:08:39.735Z"
   },
   {
    "duration": 6,
    "start_time": "2022-11-30T20:08:39.946Z"
   },
   {
    "duration": 25,
    "start_time": "2022-11-30T20:08:39.953Z"
   },
   {
    "duration": 18,
    "start_time": "2022-11-30T20:08:39.980Z"
   },
   {
    "duration": 146,
    "start_time": "2022-11-30T20:08:40.000Z"
   },
   {
    "duration": 128,
    "start_time": "2022-11-30T20:08:40.148Z"
   },
   {
    "duration": 0,
    "start_time": "2022-11-30T20:08:40.279Z"
   },
   {
    "duration": 0,
    "start_time": "2022-11-30T20:08:40.280Z"
   },
   {
    "duration": 0,
    "start_time": "2022-11-30T20:08:40.281Z"
   },
   {
    "duration": 0,
    "start_time": "2022-11-30T20:08:40.282Z"
   },
   {
    "duration": 0,
    "start_time": "2022-11-30T20:08:40.296Z"
   },
   {
    "duration": 0,
    "start_time": "2022-11-30T20:08:40.297Z"
   },
   {
    "duration": 0,
    "start_time": "2022-11-30T20:08:40.299Z"
   },
   {
    "duration": 0,
    "start_time": "2022-11-30T20:08:40.300Z"
   },
   {
    "duration": 19,
    "start_time": "2022-11-30T20:09:25.937Z"
   },
   {
    "duration": 18,
    "start_time": "2022-11-30T20:09:51.061Z"
   },
   {
    "duration": 2,
    "start_time": "2022-11-30T20:09:59.380Z"
   },
   {
    "duration": 1639,
    "start_time": "2022-11-30T20:10:01.367Z"
   },
   {
    "duration": 34,
    "start_time": "2022-11-30T20:10:13.500Z"
   },
   {
    "duration": 7,
    "start_time": "2022-11-30T20:10:21.276Z"
   },
   {
    "duration": 146918,
    "start_time": "2022-11-30T20:10:27.016Z"
   },
   {
    "duration": 54098,
    "start_time": "2022-11-30T20:12:53.936Z"
   },
   {
    "duration": 42,
    "start_time": "2022-11-30T20:13:48.036Z"
   },
   {
    "duration": 4,
    "start_time": "2022-11-30T20:14:08.750Z"
   },
   {
    "duration": 10,
    "start_time": "2022-11-30T20:14:10.401Z"
   },
   {
    "duration": 342,
    "start_time": "2022-11-30T20:14:24.458Z"
   },
   {
    "duration": 17,
    "start_time": "2022-11-30T20:15:04.529Z"
   },
   {
    "duration": 408,
    "start_time": "2022-11-30T20:15:12.423Z"
   },
   {
    "duration": 369,
    "start_time": "2022-11-30T20:16:00.168Z"
   },
   {
    "duration": 258,
    "start_time": "2022-11-30T20:18:00.112Z"
   },
   {
    "duration": 264,
    "start_time": "2022-11-30T20:18:02.869Z"
   },
   {
    "duration": 42,
    "start_time": "2022-11-30T20:18:06.540Z"
   },
   {
    "duration": 1488,
    "start_time": "2022-11-30T20:19:01.268Z"
   },
   {
    "duration": 3,
    "start_time": "2022-11-30T20:19:02.759Z"
   },
   {
    "duration": 57,
    "start_time": "2022-11-30T20:19:02.766Z"
   },
   {
    "duration": 10,
    "start_time": "2022-11-30T20:19:02.825Z"
   },
   {
    "duration": 10,
    "start_time": "2022-11-30T20:19:02.837Z"
   },
   {
    "duration": 847,
    "start_time": "2022-11-30T20:19:02.849Z"
   },
   {
    "duration": 11,
    "start_time": "2022-11-30T20:19:03.698Z"
   },
   {
    "duration": 281,
    "start_time": "2022-11-30T20:19:03.711Z"
   },
   {
    "duration": 282,
    "start_time": "2022-11-30T20:19:03.997Z"
   },
   {
    "duration": 726,
    "start_time": "2022-11-30T20:19:04.281Z"
   },
   {
    "duration": 731,
    "start_time": "2022-11-30T20:19:05.009Z"
   },
   {
    "duration": 658,
    "start_time": "2022-11-30T20:19:05.742Z"
   },
   {
    "duration": 19,
    "start_time": "2022-11-30T20:19:06.402Z"
   },
   {
    "duration": 23,
    "start_time": "2022-11-30T20:19:06.423Z"
   },
   {
    "duration": 229,
    "start_time": "2022-11-30T20:19:06.449Z"
   },
   {
    "duration": 5,
    "start_time": "2022-11-30T20:19:06.680Z"
   },
   {
    "duration": 35,
    "start_time": "2022-11-30T20:19:06.687Z"
   },
   {
    "duration": 4,
    "start_time": "2022-11-30T20:19:06.723Z"
   },
   {
    "duration": 139,
    "start_time": "2022-11-30T20:19:06.729Z"
   },
   {
    "duration": 3,
    "start_time": "2022-11-30T20:19:06.869Z"
   },
   {
    "duration": 936,
    "start_time": "2022-11-30T20:19:06.873Z"
   },
   {
    "duration": 36069,
    "start_time": "2022-11-30T20:19:07.811Z"
   },
   {
    "duration": 19767,
    "start_time": "2022-11-30T20:19:43.882Z"
   },
   {
    "duration": 38,
    "start_time": "2022-11-30T20:20:03.650Z"
   },
   {
    "duration": 3,
    "start_time": "2022-11-30T20:20:03.690Z"
   },
   {
    "duration": 11,
    "start_time": "2022-11-30T20:20:03.694Z"
   },
   {
    "duration": 417,
    "start_time": "2022-11-30T20:20:03.710Z"
   },
   {
    "duration": 381,
    "start_time": "2022-11-30T20:20:04.129Z"
   },
   {
    "duration": 252,
    "start_time": "2022-11-30T20:20:04.512Z"
   },
   {
    "duration": 273,
    "start_time": "2022-11-30T20:20:04.766Z"
   },
   {
    "duration": 43,
    "start_time": "2022-11-30T20:20:05.040Z"
   },
   {
    "duration": 18,
    "start_time": "2022-11-30T20:20:44.223Z"
   },
   {
    "duration": 1486,
    "start_time": "2022-11-30T20:20:56.370Z"
   },
   {
    "duration": 4,
    "start_time": "2022-11-30T20:20:57.858Z"
   },
   {
    "duration": 74,
    "start_time": "2022-11-30T20:20:57.863Z"
   },
   {
    "duration": 13,
    "start_time": "2022-11-30T20:20:57.940Z"
   },
   {
    "duration": 7,
    "start_time": "2022-11-30T20:20:57.955Z"
   },
   {
    "duration": 812,
    "start_time": "2022-11-30T20:20:57.964Z"
   },
   {
    "duration": 19,
    "start_time": "2022-11-30T20:20:58.777Z"
   },
   {
    "duration": 279,
    "start_time": "2022-11-30T20:20:58.802Z"
   },
   {
    "duration": 316,
    "start_time": "2022-11-30T20:20:59.082Z"
   },
   {
    "duration": 756,
    "start_time": "2022-11-30T20:20:59.402Z"
   },
   {
    "duration": 714,
    "start_time": "2022-11-30T20:21:00.160Z"
   },
   {
    "duration": 664,
    "start_time": "2022-11-30T20:21:00.876Z"
   },
   {
    "duration": 8,
    "start_time": "2022-11-30T20:21:01.542Z"
   },
   {
    "duration": 58,
    "start_time": "2022-11-30T20:21:01.551Z"
   },
   {
    "duration": 248,
    "start_time": "2022-11-30T20:21:01.611Z"
   },
   {
    "duration": 6,
    "start_time": "2022-11-30T20:21:01.860Z"
   },
   {
    "duration": 48,
    "start_time": "2022-11-30T20:21:01.868Z"
   },
   {
    "duration": 10,
    "start_time": "2022-11-30T20:21:01.919Z"
   },
   {
    "duration": 141,
    "start_time": "2022-11-30T20:21:01.931Z"
   },
   {
    "duration": 19,
    "start_time": "2022-11-30T20:21:02.074Z"
   },
   {
    "duration": 1319,
    "start_time": "2022-11-30T20:21:02.095Z"
   },
   {
    "duration": 65229,
    "start_time": "2022-11-30T20:21:03.417Z"
   },
   {
    "duration": 27834,
    "start_time": "2022-11-30T20:22:08.648Z"
   },
   {
    "duration": 39,
    "start_time": "2022-11-30T20:22:36.485Z"
   },
   {
    "duration": 2,
    "start_time": "2022-11-30T20:22:36.526Z"
   },
   {
    "duration": 13,
    "start_time": "2022-11-30T20:22:36.530Z"
   },
   {
    "duration": 361,
    "start_time": "2022-11-30T20:22:36.544Z"
   },
   {
    "duration": 401,
    "start_time": "2022-11-30T20:22:36.908Z"
   },
   {
    "duration": 256,
    "start_time": "2022-11-30T20:22:37.310Z"
   },
   {
    "duration": 261,
    "start_time": "2022-11-30T20:22:37.568Z"
   },
   {
    "duration": 40,
    "start_time": "2022-11-30T20:22:37.832Z"
   },
   {
    "duration": 1450,
    "start_time": "2022-11-30T20:23:31.864Z"
   },
   {
    "duration": 3,
    "start_time": "2022-11-30T20:23:33.316Z"
   },
   {
    "duration": 54,
    "start_time": "2022-11-30T20:23:33.320Z"
   },
   {
    "duration": 11,
    "start_time": "2022-11-30T20:23:33.376Z"
   },
   {
    "duration": 8,
    "start_time": "2022-11-30T20:23:33.389Z"
   },
   {
    "duration": 781,
    "start_time": "2022-11-30T20:23:33.398Z"
   },
   {
    "duration": 9,
    "start_time": "2022-11-30T20:23:34.181Z"
   },
   {
    "duration": 275,
    "start_time": "2022-11-30T20:23:34.197Z"
   },
   {
    "duration": 308,
    "start_time": "2022-11-30T20:23:34.474Z"
   },
   {
    "duration": 685,
    "start_time": "2022-11-30T20:23:34.796Z"
   },
   {
    "duration": 655,
    "start_time": "2022-11-30T20:23:35.483Z"
   },
   {
    "duration": 601,
    "start_time": "2022-11-30T20:23:36.140Z"
   },
   {
    "duration": 7,
    "start_time": "2022-11-30T20:23:36.743Z"
   },
   {
    "duration": 44,
    "start_time": "2022-11-30T20:23:36.752Z"
   },
   {
    "duration": 204,
    "start_time": "2022-11-30T20:23:36.798Z"
   },
   {
    "duration": 6,
    "start_time": "2022-11-30T20:23:37.003Z"
   },
   {
    "duration": 26,
    "start_time": "2022-11-30T20:23:37.010Z"
   },
   {
    "duration": 5,
    "start_time": "2022-11-30T20:23:37.038Z"
   },
   {
    "duration": 139,
    "start_time": "2022-11-30T20:23:37.045Z"
   },
   {
    "duration": 2,
    "start_time": "2022-11-30T20:23:37.186Z"
   },
   {
    "duration": 1114,
    "start_time": "2022-11-30T20:23:37.195Z"
   },
   {
    "duration": 63628,
    "start_time": "2022-11-30T20:23:38.396Z"
   },
   {
    "duration": 27706,
    "start_time": "2022-11-30T20:24:42.025Z"
   },
   {
    "duration": 40,
    "start_time": "2022-11-30T20:25:09.733Z"
   },
   {
    "duration": 3,
    "start_time": "2022-11-30T20:25:09.774Z"
   },
   {
    "duration": 8,
    "start_time": "2022-11-30T20:25:09.779Z"
   },
   {
    "duration": 418,
    "start_time": "2022-11-30T20:25:09.789Z"
   },
   {
    "duration": 381,
    "start_time": "2022-11-30T20:25:10.211Z"
   },
   {
    "duration": 228,
    "start_time": "2022-11-30T20:25:10.596Z"
   },
   {
    "duration": 235,
    "start_time": "2022-11-30T20:25:10.826Z"
   },
   {
    "duration": 48,
    "start_time": "2022-11-30T20:25:11.062Z"
   },
   {
    "duration": 5,
    "start_time": "2022-11-30T20:26:05.836Z"
   },
   {
    "duration": 1357,
    "start_time": "2022-11-30T20:26:11.154Z"
   },
   {
    "duration": 3,
    "start_time": "2022-11-30T20:26:12.513Z"
   },
   {
    "duration": 50,
    "start_time": "2022-11-30T20:26:12.518Z"
   },
   {
    "duration": 13,
    "start_time": "2022-11-30T20:26:12.571Z"
   },
   {
    "duration": 11,
    "start_time": "2022-11-30T20:26:12.585Z"
   },
   {
    "duration": 769,
    "start_time": "2022-11-30T20:26:12.598Z"
   },
   {
    "duration": 10,
    "start_time": "2022-11-30T20:26:13.369Z"
   },
   {
    "duration": 305,
    "start_time": "2022-11-30T20:26:13.380Z"
   },
   {
    "duration": 312,
    "start_time": "2022-11-30T20:26:13.687Z"
   },
   {
    "duration": 671,
    "start_time": "2022-11-30T20:26:14.001Z"
   },
   {
    "duration": 662,
    "start_time": "2022-11-30T20:26:14.673Z"
   },
   {
    "duration": 616,
    "start_time": "2022-11-30T20:26:15.337Z"
   },
   {
    "duration": 9,
    "start_time": "2022-11-30T20:26:15.956Z"
   },
   {
    "duration": 119,
    "start_time": "2022-11-30T20:26:15.967Z"
   },
   {
    "duration": 245,
    "start_time": "2022-11-30T20:26:16.088Z"
   },
   {
    "duration": 6,
    "start_time": "2022-11-30T20:26:16.335Z"
   },
   {
    "duration": 21,
    "start_time": "2022-11-30T20:26:16.342Z"
   },
   {
    "duration": 9,
    "start_time": "2022-11-30T20:26:16.365Z"
   },
   {
    "duration": 151,
    "start_time": "2022-11-30T20:26:16.375Z"
   },
   {
    "duration": 2,
    "start_time": "2022-11-30T20:26:16.528Z"
   },
   {
    "duration": 1978,
    "start_time": "2022-11-30T20:26:16.532Z"
   },
   {
    "duration": 174128,
    "start_time": "2022-11-30T20:26:18.600Z"
   },
   {
    "duration": 63162,
    "start_time": "2022-11-30T20:29:12.729Z"
   },
   {
    "duration": 67,
    "start_time": "2022-11-30T20:30:15.893Z"
   },
   {
    "duration": 3,
    "start_time": "2022-11-30T20:30:15.962Z"
   },
   {
    "duration": 20,
    "start_time": "2022-11-30T20:30:15.967Z"
   },
   {
    "duration": 451,
    "start_time": "2022-11-30T20:30:15.990Z"
   },
   {
    "duration": 381,
    "start_time": "2022-11-30T20:30:16.444Z"
   },
   {
    "duration": 266,
    "start_time": "2022-11-30T20:30:16.827Z"
   },
   {
    "duration": 285,
    "start_time": "2022-11-30T20:30:17.096Z"
   },
   {
    "duration": 74,
    "start_time": "2022-11-30T20:30:17.383Z"
   },
   {
    "duration": 243,
    "start_time": "2022-11-30T20:31:52.985Z"
   },
   {
    "duration": 242,
    "start_time": "2022-11-30T20:31:57.708Z"
   },
   {
    "duration": 58,
    "start_time": "2022-11-30T20:33:16.159Z"
   },
   {
    "duration": 11,
    "start_time": "2022-11-30T20:34:12.646Z"
   },
   {
    "duration": 144,
    "start_time": "2022-11-30T20:36:55.046Z"
   },
   {
    "duration": 137,
    "start_time": "2022-11-30T20:37:06.178Z"
   },
   {
    "duration": 3,
    "start_time": "2022-11-30T20:47:32.498Z"
   },
   {
    "duration": 3,
    "start_time": "2022-11-30T20:47:43.856Z"
   },
   {
    "duration": 40,
    "start_time": "2022-11-30T20:48:23.590Z"
   },
   {
    "duration": 40,
    "start_time": "2022-11-30T20:48:47.032Z"
   },
   {
    "duration": 10,
    "start_time": "2022-11-30T20:49:30.980Z"
   },
   {
    "duration": 7,
    "start_time": "2022-11-30T20:49:35.920Z"
   },
   {
    "duration": 42,
    "start_time": "2022-11-30T20:50:09.968Z"
   },
   {
    "duration": 1494,
    "start_time": "2022-11-30T20:50:26.524Z"
   },
   {
    "duration": 3,
    "start_time": "2022-11-30T20:50:28.020Z"
   },
   {
    "duration": 77,
    "start_time": "2022-11-30T20:50:28.025Z"
   },
   {
    "duration": 12,
    "start_time": "2022-11-30T20:50:28.104Z"
   },
   {
    "duration": 9,
    "start_time": "2022-11-30T20:50:28.118Z"
   },
   {
    "duration": 804,
    "start_time": "2022-11-30T20:50:28.129Z"
   },
   {
    "duration": 9,
    "start_time": "2022-11-30T20:50:28.935Z"
   },
   {
    "duration": 254,
    "start_time": "2022-11-30T20:50:28.946Z"
   },
   {
    "duration": 285,
    "start_time": "2022-11-30T20:50:29.202Z"
   },
   {
    "duration": 701,
    "start_time": "2022-11-30T20:50:29.498Z"
   },
   {
    "duration": 685,
    "start_time": "2022-11-30T20:50:30.201Z"
   },
   {
    "duration": 645,
    "start_time": "2022-11-30T20:50:30.890Z"
   },
   {
    "duration": 8,
    "start_time": "2022-11-30T20:50:31.537Z"
   },
   {
    "duration": 114,
    "start_time": "2022-11-30T20:50:31.547Z"
   },
   {
    "duration": 216,
    "start_time": "2022-11-30T20:50:31.662Z"
   },
   {
    "duration": 6,
    "start_time": "2022-11-30T20:50:31.879Z"
   },
   {
    "duration": 33,
    "start_time": "2022-11-30T20:50:31.897Z"
   },
   {
    "duration": 5,
    "start_time": "2022-11-30T20:50:31.933Z"
   },
   {
    "duration": 166,
    "start_time": "2022-11-30T20:50:31.940Z"
   },
   {
    "duration": 4,
    "start_time": "2022-11-30T20:50:32.108Z"
   },
   {
    "duration": 2088,
    "start_time": "2022-11-30T20:50:32.114Z"
   },
   {
    "duration": 177082,
    "start_time": "2022-11-30T20:50:34.204Z"
   },
   {
    "duration": 60634,
    "start_time": "2022-11-30T20:53:31.288Z"
   },
   {
    "duration": 46,
    "start_time": "2022-11-30T20:54:31.924Z"
   },
   {
    "duration": 4,
    "start_time": "2022-11-30T20:54:31.971Z"
   },
   {
    "duration": 9,
    "start_time": "2022-11-30T20:54:31.977Z"
   },
   {
    "duration": 7,
    "start_time": "2022-11-30T20:54:31.988Z"
   },
   {
    "duration": 412,
    "start_time": "2022-11-30T20:54:31.998Z"
   },
   {
    "duration": 392,
    "start_time": "2022-11-30T20:54:32.411Z"
   },
   {
    "duration": 249,
    "start_time": "2022-11-30T20:54:32.805Z"
   },
   {
    "duration": 243,
    "start_time": "2022-11-30T20:54:33.055Z"
   },
   {
    "duration": 250,
    "start_time": "2022-11-30T20:54:33.300Z"
   },
   {
    "duration": 232,
    "start_time": "2022-11-30T20:54:33.551Z"
   },
   {
    "duration": 49,
    "start_time": "2022-11-30T20:54:33.785Z"
   },
   {
    "duration": 43,
    "start_time": "2022-11-30T20:54:33.836Z"
   },
   {
    "duration": 1759,
    "start_time": "2022-12-01T10:15:28.629Z"
   },
   {
    "duration": 3,
    "start_time": "2022-12-01T10:15:32.952Z"
   },
   {
    "duration": 103,
    "start_time": "2022-12-01T10:15:40.991Z"
   },
   {
    "duration": 14,
    "start_time": "2022-12-01T10:15:42.296Z"
   },
   {
    "duration": 9,
    "start_time": "2022-12-01T10:17:53.896Z"
   },
   {
    "duration": 12,
    "start_time": "2022-12-01T10:17:55.342Z"
   },
   {
    "duration": 769,
    "start_time": "2022-12-01T10:17:57.062Z"
   },
   {
    "duration": 9,
    "start_time": "2022-12-01T10:17:58.505Z"
   },
   {
    "duration": 341,
    "start_time": "2022-12-01T10:20:41.393Z"
   },
   {
    "duration": 255,
    "start_time": "2022-12-01T10:30:45.261Z"
   },
   {
    "duration": 270,
    "start_time": "2022-12-01T10:30:49.525Z"
   },
   {
    "duration": 261,
    "start_time": "2022-12-01T10:30:57.853Z"
   },
   {
    "duration": 279,
    "start_time": "2022-12-01T10:31:04.736Z"
   },
   {
    "duration": 292,
    "start_time": "2022-12-01T10:31:23.693Z"
   },
   {
    "duration": 292,
    "start_time": "2022-12-01T10:31:38.972Z"
   },
   {
    "duration": 270,
    "start_time": "2022-12-01T10:31:44.268Z"
   },
   {
    "duration": 759,
    "start_time": "2022-12-01T10:33:05.107Z"
   },
   {
    "duration": 828,
    "start_time": "2022-12-01T10:33:20.931Z"
   },
   {
    "duration": 623,
    "start_time": "2022-12-01T10:33:29.795Z"
   },
   {
    "duration": 11,
    "start_time": "2022-12-01T10:33:36.387Z"
   },
   {
    "duration": 1650,
    "start_time": "2022-12-01T10:34:39.259Z"
   },
   {
    "duration": 3,
    "start_time": "2022-12-01T10:34:40.911Z"
   },
   {
    "duration": 51,
    "start_time": "2022-12-01T10:34:41.971Z"
   },
   {
    "duration": 21,
    "start_time": "2022-12-01T10:34:42.178Z"
   },
   {
    "duration": 11,
    "start_time": "2022-12-01T10:34:42.698Z"
   },
   {
    "duration": 781,
    "start_time": "2022-12-01T10:34:43.290Z"
   },
   {
    "duration": 10,
    "start_time": "2022-12-01T10:34:44.073Z"
   },
   {
    "duration": 289,
    "start_time": "2022-12-01T10:34:44.706Z"
   },
   {
    "duration": 262,
    "start_time": "2022-12-01T10:34:45.058Z"
   },
   {
    "duration": 816,
    "start_time": "2022-12-01T10:34:46.098Z"
   },
   {
    "duration": 742,
    "start_time": "2022-12-01T10:34:46.916Z"
   },
   {
    "duration": 750,
    "start_time": "2022-12-01T10:34:47.660Z"
   },
   {
    "duration": 8,
    "start_time": "2022-12-01T10:34:57.514Z"
   },
   {
    "duration": 99,
    "start_time": "2022-12-01T10:34:59.002Z"
   },
   {
    "duration": 205,
    "start_time": "2022-12-01T10:35:00.282Z"
   },
   {
    "duration": 6,
    "start_time": "2022-12-01T10:35:05.315Z"
   },
   {
    "duration": 23,
    "start_time": "2022-12-01T10:35:05.538Z"
   },
   {
    "duration": 26,
    "start_time": "2022-12-01T10:41:51.182Z"
   },
   {
    "duration": 111,
    "start_time": "2022-12-01T10:41:56.038Z"
   },
   {
    "duration": 266,
    "start_time": "2022-12-01T10:42:04.357Z"
   },
   {
    "duration": 208,
    "start_time": "2022-12-01T10:50:42.684Z"
   },
   {
    "duration": 5,
    "start_time": "2022-12-01T10:50:50.390Z"
   },
   {
    "duration": 23,
    "start_time": "2022-12-01T10:50:50.605Z"
   },
   {
    "duration": 1914,
    "start_time": "2022-12-01T10:53:53.679Z"
   },
   {
    "duration": 3,
    "start_time": "2022-12-01T10:53:55.595Z"
   },
   {
    "duration": 79,
    "start_time": "2022-12-01T10:53:55.600Z"
   },
   {
    "duration": 14,
    "start_time": "2022-12-01T10:53:55.681Z"
   },
   {
    "duration": 50,
    "start_time": "2022-12-01T10:53:55.696Z"
   },
   {
    "duration": 829,
    "start_time": "2022-12-01T10:53:55.796Z"
   },
   {
    "duration": 14,
    "start_time": "2022-12-01T10:53:56.627Z"
   },
   {
    "duration": 303,
    "start_time": "2022-12-01T10:53:57.900Z"
   },
   {
    "duration": 281,
    "start_time": "2022-12-01T10:53:58.236Z"
   },
   {
    "duration": 809,
    "start_time": "2022-12-01T10:53:58.893Z"
   },
   {
    "duration": 707,
    "start_time": "2022-12-01T10:53:59.711Z"
   },
   {
    "duration": 656,
    "start_time": "2022-12-01T10:54:00.420Z"
   },
   {
    "duration": 7,
    "start_time": "2022-12-01T10:54:01.078Z"
   },
   {
    "duration": 146,
    "start_time": "2022-12-01T10:54:01.087Z"
   },
   {
    "duration": 207,
    "start_time": "2022-12-01T10:54:01.620Z"
   },
   {
    "duration": 5,
    "start_time": "2022-12-01T10:54:01.829Z"
   },
   {
    "duration": 23,
    "start_time": "2022-12-01T10:54:02.015Z"
   },
   {
    "duration": 50,
    "start_time": "2022-12-01T14:29:22.329Z"
   },
   {
    "duration": 1767,
    "start_time": "2022-12-01T14:29:27.343Z"
   },
   {
    "duration": 3,
    "start_time": "2022-12-01T14:29:29.113Z"
   },
   {
    "duration": 118,
    "start_time": "2022-12-01T14:29:29.118Z"
   },
   {
    "duration": 16,
    "start_time": "2022-12-01T14:29:29.239Z"
   },
   {
    "duration": 12,
    "start_time": "2022-12-01T14:29:29.258Z"
   },
   {
    "duration": 878,
    "start_time": "2022-12-01T14:29:29.272Z"
   },
   {
    "duration": 10,
    "start_time": "2022-12-01T14:29:30.152Z"
   },
   {
    "duration": 303,
    "start_time": "2022-12-01T14:29:30.177Z"
   },
   {
    "duration": 305,
    "start_time": "2022-12-01T14:29:30.482Z"
   },
   {
    "duration": 770,
    "start_time": "2022-12-01T14:29:30.790Z"
   },
   {
    "duration": 667,
    "start_time": "2022-12-01T14:29:31.563Z"
   },
   {
    "duration": 591,
    "start_time": "2022-12-01T14:29:32.232Z"
   },
   {
    "duration": 6,
    "start_time": "2022-12-01T14:29:32.825Z"
   },
   {
    "duration": 19,
    "start_time": "2022-12-01T14:29:32.833Z"
   },
   {
    "duration": 200,
    "start_time": "2022-12-01T14:29:32.853Z"
   },
   {
    "duration": 5,
    "start_time": "2022-12-01T14:29:33.054Z"
   },
   {
    "duration": 33,
    "start_time": "2022-12-01T14:29:33.061Z"
   },
   {
    "duration": 4,
    "start_time": "2022-12-01T14:29:33.095Z"
   },
   {
    "duration": 133,
    "start_time": "2022-12-01T14:29:33.101Z"
   },
   {
    "duration": 2,
    "start_time": "2022-12-01T14:29:33.236Z"
   },
   {
    "duration": 741,
    "start_time": "2022-12-01T14:29:33.240Z"
   },
   {
    "duration": 34378,
    "start_time": "2022-12-01T14:29:33.983Z"
   },
   {
    "duration": 23169,
    "start_time": "2022-12-01T14:30:08.363Z"
   },
   {
    "duration": 36,
    "start_time": "2022-12-01T14:30:31.534Z"
   },
   {
    "duration": 69,
    "start_time": "2022-12-01T14:30:31.572Z"
   },
   {
    "duration": 56,
    "start_time": "2022-12-01T14:30:31.643Z"
   },
   {
    "duration": 22,
    "start_time": "2022-12-01T14:30:31.701Z"
   },
   {
    "duration": 396,
    "start_time": "2022-12-01T14:30:31.725Z"
   },
   {
    "duration": 355,
    "start_time": "2022-12-01T14:30:32.123Z"
   },
   {
    "duration": 240,
    "start_time": "2022-12-01T14:30:32.480Z"
   },
   {
    "duration": 223,
    "start_time": "2022-12-01T14:30:32.722Z"
   },
   {
    "duration": 234,
    "start_time": "2022-12-01T14:30:32.947Z"
   },
   {
    "duration": 229,
    "start_time": "2022-12-01T14:30:33.183Z"
   },
   {
    "duration": 42,
    "start_time": "2022-12-01T14:30:33.414Z"
   },
   {
    "duration": 57,
    "start_time": "2022-12-01T14:30:33.458Z"
   },
   {
    "duration": 1540,
    "start_time": "2022-12-01T14:31:00.994Z"
   },
   {
    "duration": 4,
    "start_time": "2022-12-01T14:31:02.537Z"
   },
   {
    "duration": 63,
    "start_time": "2022-12-01T14:31:02.543Z"
   },
   {
    "duration": 13,
    "start_time": "2022-12-01T14:31:02.608Z"
   },
   {
    "duration": 10,
    "start_time": "2022-12-01T14:31:02.623Z"
   },
   {
    "duration": 800,
    "start_time": "2022-12-01T14:31:02.634Z"
   },
   {
    "duration": 9,
    "start_time": "2022-12-01T14:31:03.436Z"
   },
   {
    "duration": 315,
    "start_time": "2022-12-01T14:31:03.447Z"
   },
   {
    "duration": 313,
    "start_time": "2022-12-01T14:31:03.764Z"
   },
   {
    "duration": 659,
    "start_time": "2022-12-01T14:31:04.080Z"
   },
   {
    "duration": 658,
    "start_time": "2022-12-01T14:31:04.740Z"
   },
   {
    "duration": 604,
    "start_time": "2022-12-01T14:31:05.400Z"
   },
   {
    "duration": 8,
    "start_time": "2022-12-01T14:31:06.006Z"
   },
   {
    "duration": 28,
    "start_time": "2022-12-01T14:31:06.015Z"
   },
   {
    "duration": 203,
    "start_time": "2022-12-01T14:31:06.045Z"
   },
   {
    "duration": 5,
    "start_time": "2022-12-01T14:31:06.249Z"
   },
   {
    "duration": 36,
    "start_time": "2022-12-01T14:31:06.255Z"
   },
   {
    "duration": 3,
    "start_time": "2022-12-01T14:31:06.293Z"
   },
   {
    "duration": 143,
    "start_time": "2022-12-01T14:31:06.298Z"
   },
   {
    "duration": 3,
    "start_time": "2022-12-01T14:31:06.442Z"
   },
   {
    "duration": 170,
    "start_time": "2022-12-01T14:31:06.447Z"
   },
   {
    "duration": 56,
    "start_time": "2022-12-01T14:31:06.619Z"
   },
   {
    "duration": 195,
    "start_time": "2022-12-01T14:31:06.677Z"
   },
   {
    "duration": 9,
    "start_time": "2022-12-01T14:31:06.873Z"
   },
   {
    "duration": 9,
    "start_time": "2022-12-01T14:31:06.883Z"
   },
   {
    "duration": 11,
    "start_time": "2022-12-01T14:31:06.893Z"
   },
   {
    "duration": 10,
    "start_time": "2022-12-01T14:31:06.906Z"
   },
   {
    "duration": 14,
    "start_time": "2022-12-01T14:31:06.920Z"
   },
   {
    "duration": 0,
    "start_time": "2022-12-01T14:31:06.935Z"
   },
   {
    "duration": 0,
    "start_time": "2022-12-01T14:31:06.936Z"
   },
   {
    "duration": 0,
    "start_time": "2022-12-01T14:31:06.937Z"
   },
   {
    "duration": 0,
    "start_time": "2022-12-01T14:31:06.939Z"
   },
   {
    "duration": 0,
    "start_time": "2022-12-01T14:31:06.940Z"
   },
   {
    "duration": 0,
    "start_time": "2022-12-01T14:31:06.942Z"
   },
   {
    "duration": 0,
    "start_time": "2022-12-01T14:31:06.943Z"
   },
   {
    "duration": 4,
    "start_time": "2022-12-01T14:31:55.439Z"
   },
   {
    "duration": 1507,
    "start_time": "2022-12-01T14:32:01.565Z"
   },
   {
    "duration": 3,
    "start_time": "2022-12-01T14:32:03.074Z"
   },
   {
    "duration": 64,
    "start_time": "2022-12-01T14:32:03.078Z"
   },
   {
    "duration": 11,
    "start_time": "2022-12-01T14:32:03.144Z"
   },
   {
    "duration": 30,
    "start_time": "2022-12-01T14:32:03.157Z"
   },
   {
    "duration": 749,
    "start_time": "2022-12-01T14:32:03.188Z"
   },
   {
    "duration": 9,
    "start_time": "2022-12-01T14:32:03.939Z"
   },
   {
    "duration": 305,
    "start_time": "2022-12-01T14:32:03.950Z"
   },
   {
    "duration": 322,
    "start_time": "2022-12-01T14:32:04.257Z"
   },
   {
    "duration": 852,
    "start_time": "2022-12-01T14:32:04.582Z"
   },
   {
    "duration": 712,
    "start_time": "2022-12-01T14:32:05.436Z"
   },
   {
    "duration": 608,
    "start_time": "2022-12-01T14:32:06.150Z"
   },
   {
    "duration": 8,
    "start_time": "2022-12-01T14:32:06.760Z"
   },
   {
    "duration": 18,
    "start_time": "2022-12-01T14:32:06.777Z"
   },
   {
    "duration": 205,
    "start_time": "2022-12-01T14:32:06.797Z"
   },
   {
    "duration": 6,
    "start_time": "2022-12-01T14:32:07.004Z"
   },
   {
    "duration": 28,
    "start_time": "2022-12-01T14:32:07.012Z"
   },
   {
    "duration": 21,
    "start_time": "2022-12-01T14:32:07.042Z"
   },
   {
    "duration": 153,
    "start_time": "2022-12-01T14:32:07.065Z"
   },
   {
    "duration": 5,
    "start_time": "2022-12-01T14:32:07.220Z"
   },
   {
    "duration": 363,
    "start_time": "2022-12-01T14:32:07.227Z"
   },
   {
    "duration": 22859,
    "start_time": "2022-12-01T14:32:07.679Z"
   },
   {
    "duration": 17976,
    "start_time": "2022-12-01T14:32:30.540Z"
   },
   {
    "duration": 63,
    "start_time": "2022-12-01T14:32:48.518Z"
   },
   {
    "duration": 3,
    "start_time": "2022-12-01T14:32:48.583Z"
   },
   {
    "duration": 48,
    "start_time": "2022-12-01T14:32:48.588Z"
   },
   {
    "duration": 10,
    "start_time": "2022-12-01T14:32:48.638Z"
   },
   {
    "duration": 458,
    "start_time": "2022-12-01T14:32:48.652Z"
   },
   {
    "duration": 381,
    "start_time": "2022-12-01T14:32:49.112Z"
   },
   {
    "duration": 252,
    "start_time": "2022-12-01T14:32:49.495Z"
   },
   {
    "duration": 240,
    "start_time": "2022-12-01T14:32:49.749Z"
   },
   {
    "duration": 235,
    "start_time": "2022-12-01T14:32:49.990Z"
   },
   {
    "duration": 222,
    "start_time": "2022-12-01T14:32:50.227Z"
   },
   {
    "duration": 47,
    "start_time": "2022-12-01T14:32:50.451Z"
   },
   {
    "duration": 53,
    "start_time": "2022-12-01T14:32:50.500Z"
   },
   {
    "duration": 234,
    "start_time": "2022-12-01T14:33:56.028Z"
   },
   {
    "duration": 1513,
    "start_time": "2022-12-01T14:34:05.702Z"
   },
   {
    "duration": 5,
    "start_time": "2022-12-01T14:34:07.218Z"
   },
   {
    "duration": 60,
    "start_time": "2022-12-01T14:34:07.225Z"
   },
   {
    "duration": 13,
    "start_time": "2022-12-01T14:34:07.287Z"
   },
   {
    "duration": 11,
    "start_time": "2022-12-01T14:34:07.302Z"
   },
   {
    "duration": 749,
    "start_time": "2022-12-01T14:34:07.315Z"
   },
   {
    "duration": 16,
    "start_time": "2022-12-01T14:34:08.066Z"
   },
   {
    "duration": 305,
    "start_time": "2022-12-01T14:34:08.084Z"
   },
   {
    "duration": 280,
    "start_time": "2022-12-01T14:34:08.391Z"
   },
   {
    "duration": 277,
    "start_time": "2022-12-01T14:34:08.678Z"
   },
   {
    "duration": 684,
    "start_time": "2022-12-01T14:34:08.957Z"
   },
   {
    "duration": 608,
    "start_time": "2022-12-01T14:34:09.642Z"
   },
   {
    "duration": 591,
    "start_time": "2022-12-01T14:34:10.251Z"
   },
   {
    "duration": 6,
    "start_time": "2022-12-01T14:34:10.843Z"
   },
   {
    "duration": 19,
    "start_time": "2022-12-01T14:34:10.851Z"
   },
   {
    "duration": 314,
    "start_time": "2022-12-01T14:34:10.871Z"
   },
   {
    "duration": 5,
    "start_time": "2022-12-01T14:34:11.187Z"
   },
   {
    "duration": 27,
    "start_time": "2022-12-01T14:34:11.193Z"
   },
   {
    "duration": 4,
    "start_time": "2022-12-01T14:34:11.222Z"
   },
   {
    "duration": 23,
    "start_time": "2022-12-01T14:34:11.227Z"
   },
   {
    "duration": 27,
    "start_time": "2022-12-01T14:34:11.251Z"
   },
   {
    "duration": 1000,
    "start_time": "2022-12-01T14:34:11.280Z"
   },
   {
    "duration": 21453,
    "start_time": "2022-12-01T14:34:12.282Z"
   },
   {
    "duration": 2348,
    "start_time": "2022-12-01T14:34:33.737Z"
   },
   {
    "duration": 12,
    "start_time": "2022-12-01T14:34:36.086Z"
   },
   {
    "duration": 32,
    "start_time": "2022-12-01T14:34:36.100Z"
   },
   {
    "duration": 25,
    "start_time": "2022-12-01T14:34:36.133Z"
   },
   {
    "duration": 7,
    "start_time": "2022-12-01T14:34:36.163Z"
   },
   {
    "duration": 428,
    "start_time": "2022-12-01T14:34:36.171Z"
   },
   {
    "duration": 382,
    "start_time": "2022-12-01T14:34:36.601Z"
   },
   {
    "duration": 14,
    "start_time": "2022-12-01T14:34:36.985Z"
   },
   {
    "duration": 0,
    "start_time": "2022-12-01T14:34:37.001Z"
   },
   {
    "duration": 0,
    "start_time": "2022-12-01T14:34:37.003Z"
   },
   {
    "duration": 0,
    "start_time": "2022-12-01T14:34:37.004Z"
   },
   {
    "duration": 0,
    "start_time": "2022-12-01T14:34:37.005Z"
   },
   {
    "duration": 0,
    "start_time": "2022-12-01T14:34:37.007Z"
   },
   {
    "duration": 0,
    "start_time": "2022-12-01T14:34:37.013Z"
   },
   {
    "duration": 1544,
    "start_time": "2022-12-01T14:34:41.764Z"
   },
   {
    "duration": 4,
    "start_time": "2022-12-01T14:34:43.310Z"
   },
   {
    "duration": 68,
    "start_time": "2022-12-01T14:34:43.315Z"
   },
   {
    "duration": 13,
    "start_time": "2022-12-01T14:34:43.385Z"
   },
   {
    "duration": 9,
    "start_time": "2022-12-01T14:34:43.400Z"
   },
   {
    "duration": 813,
    "start_time": "2022-12-01T14:34:43.410Z"
   },
   {
    "duration": 10,
    "start_time": "2022-12-01T14:34:44.224Z"
   },
   {
    "duration": 303,
    "start_time": "2022-12-01T14:34:44.236Z"
   },
   {
    "duration": 301,
    "start_time": "2022-12-01T14:34:44.542Z"
   },
   {
    "duration": 302,
    "start_time": "2022-12-01T14:34:44.846Z"
   },
   {
    "duration": 733,
    "start_time": "2022-12-01T14:34:45.150Z"
   },
   {
    "duration": 854,
    "start_time": "2022-12-01T14:34:45.887Z"
   },
   {
    "duration": 593,
    "start_time": "2022-12-01T14:34:46.743Z"
   },
   {
    "duration": 7,
    "start_time": "2022-12-01T14:34:47.338Z"
   },
   {
    "duration": 30,
    "start_time": "2022-12-01T14:34:47.347Z"
   },
   {
    "duration": 313,
    "start_time": "2022-12-01T14:34:47.379Z"
   },
   {
    "duration": 6,
    "start_time": "2022-12-01T14:34:47.694Z"
   },
   {
    "duration": 64,
    "start_time": "2022-12-01T14:34:47.702Z"
   },
   {
    "duration": 12,
    "start_time": "2022-12-01T14:34:47.768Z"
   },
   {
    "duration": 47,
    "start_time": "2022-12-01T14:34:47.781Z"
   },
   {
    "duration": 31,
    "start_time": "2022-12-01T14:34:47.830Z"
   },
   {
    "duration": 618,
    "start_time": "2022-12-01T14:34:47.864Z"
   },
   {
    "duration": 22589,
    "start_time": "2022-12-01T14:34:48.487Z"
   },
   {
    "duration": 17805,
    "start_time": "2022-12-01T14:35:11.078Z"
   },
   {
    "duration": 39,
    "start_time": "2022-12-01T14:35:28.885Z"
   },
   {
    "duration": 3,
    "start_time": "2022-12-01T14:35:28.926Z"
   },
   {
    "duration": 8,
    "start_time": "2022-12-01T14:35:28.931Z"
   },
   {
    "duration": 5,
    "start_time": "2022-12-01T14:35:28.942Z"
   },
   {
    "duration": 435,
    "start_time": "2022-12-01T14:35:28.949Z"
   },
   {
    "duration": 404,
    "start_time": "2022-12-01T14:35:29.386Z"
   },
   {
    "duration": 299,
    "start_time": "2022-12-01T14:35:29.793Z"
   },
   {
    "duration": 251,
    "start_time": "2022-12-01T14:35:30.094Z"
   },
   {
    "duration": 252,
    "start_time": "2022-12-01T14:35:30.347Z"
   },
   {
    "duration": 243,
    "start_time": "2022-12-01T14:35:30.601Z"
   },
   {
    "duration": 57,
    "start_time": "2022-12-01T14:35:30.847Z"
   },
   {
    "duration": 100,
    "start_time": "2022-12-01T14:35:30.906Z"
   },
   {
    "duration": 48,
    "start_time": "2022-12-01T14:36:11.360Z"
   },
   {
    "duration": 1586,
    "start_time": "2022-12-01T14:43:56.672Z"
   },
   {
    "duration": 4,
    "start_time": "2022-12-01T14:43:58.261Z"
   },
   {
    "duration": 73,
    "start_time": "2022-12-01T14:43:58.267Z"
   },
   {
    "duration": 18,
    "start_time": "2022-12-01T14:43:58.343Z"
   },
   {
    "duration": 43,
    "start_time": "2022-12-01T14:43:58.363Z"
   },
   {
    "duration": 851,
    "start_time": "2022-12-01T14:43:58.409Z"
   },
   {
    "duration": 17,
    "start_time": "2022-12-01T14:43:59.262Z"
   },
   {
    "duration": 296,
    "start_time": "2022-12-01T14:43:59.281Z"
   },
   {
    "duration": 319,
    "start_time": "2022-12-01T14:43:59.580Z"
   },
   {
    "duration": 286,
    "start_time": "2022-12-01T14:43:59.903Z"
   },
   {
    "duration": 798,
    "start_time": "2022-12-01T14:44:00.191Z"
   },
   {
    "duration": 691,
    "start_time": "2022-12-01T14:44:00.991Z"
   },
   {
    "duration": 655,
    "start_time": "2022-12-01T14:44:01.686Z"
   },
   {
    "duration": 7,
    "start_time": "2022-12-01T14:44:02.343Z"
   },
   {
    "duration": 31,
    "start_time": "2022-12-01T14:44:02.352Z"
   },
   {
    "duration": 352,
    "start_time": "2022-12-01T14:44:02.385Z"
   },
   {
    "duration": 6,
    "start_time": "2022-12-01T14:44:02.738Z"
   },
   {
    "duration": 34,
    "start_time": "2022-12-01T14:44:02.746Z"
   },
   {
    "duration": 5,
    "start_time": "2022-12-01T14:44:02.782Z"
   },
   {
    "duration": 39,
    "start_time": "2022-12-01T14:44:02.789Z"
   },
   {
    "duration": 3,
    "start_time": "2022-12-01T14:44:02.829Z"
   },
   {
    "duration": 748,
    "start_time": "2022-12-01T14:44:02.833Z"
   },
   {
    "duration": 24047,
    "start_time": "2022-12-01T14:44:03.583Z"
   },
   {
    "duration": 21764,
    "start_time": "2022-12-01T14:44:27.633Z"
   },
   {
    "duration": 42,
    "start_time": "2022-12-01T14:44:49.399Z"
   },
   {
    "duration": 3,
    "start_time": "2022-12-01T14:44:49.443Z"
   },
   {
    "duration": 35,
    "start_time": "2022-12-01T14:44:49.448Z"
   },
   {
    "duration": 19,
    "start_time": "2022-12-01T14:44:49.487Z"
   },
   {
    "duration": 260,
    "start_time": "2022-12-01T14:44:49.508Z"
   },
   {
    "duration": 249,
    "start_time": "2022-12-01T14:44:49.770Z"
   },
   {
    "duration": 143,
    "start_time": "2022-12-01T14:44:50.020Z"
   },
   {
    "duration": 0,
    "start_time": "2022-12-01T14:44:50.165Z"
   },
   {
    "duration": 13,
    "start_time": "2022-12-01T14:44:59.708Z"
   },
   {
    "duration": 1783,
    "start_time": "2022-12-01T14:45:03.702Z"
   },
   {
    "duration": 1726,
    "start_time": "2022-12-01T14:45:08.861Z"
   },
   {
    "duration": 1877,
    "start_time": "2022-12-01T14:45:19.702Z"
   },
   {
    "duration": 1710,
    "start_time": "2022-12-01T14:46:12.276Z"
   },
   {
    "duration": 2146,
    "start_time": "2022-12-01T14:46:40.341Z"
   },
   {
    "duration": 1797,
    "start_time": "2022-12-01T14:46:46.986Z"
   },
   {
    "duration": 1706,
    "start_time": "2022-12-01T14:46:57.480Z"
   },
   {
    "duration": 1642,
    "start_time": "2022-12-01T14:47:03.635Z"
   },
   {
    "duration": 2316,
    "start_time": "2022-12-01T14:47:11.673Z"
   },
   {
    "duration": 1797,
    "start_time": "2022-12-01T14:48:01.190Z"
   },
   {
    "duration": 1685,
    "start_time": "2022-12-01T14:49:28.094Z"
   },
   {
    "duration": 1757,
    "start_time": "2022-12-01T14:49:32.622Z"
   },
   {
    "duration": 42,
    "start_time": "2022-12-01T14:50:42.817Z"
   },
   {
    "duration": 1093,
    "start_time": "2022-12-01T14:50:48.584Z"
   },
   {
    "duration": 8,
    "start_time": "2022-12-01T14:51:02.257Z"
   },
   {
    "duration": 42,
    "start_time": "2022-12-01T14:51:29.279Z"
   },
   {
    "duration": 7,
    "start_time": "2022-12-01T14:51:42.101Z"
   },
   {
    "duration": 40,
    "start_time": "2022-12-01T14:51:47.681Z"
   },
   {
    "duration": 1045,
    "start_time": "2022-12-01T14:51:51.467Z"
   },
   {
    "duration": 39,
    "start_time": "2022-12-01T14:51:56.767Z"
   },
   {
    "duration": 6,
    "start_time": "2022-12-01T14:52:06.924Z"
   },
   {
    "duration": 24,
    "start_time": "2022-12-01T14:52:13.369Z"
   },
   {
    "duration": 5,
    "start_time": "2022-12-01T14:52:23.774Z"
   },
   {
    "duration": 14,
    "start_time": "2022-12-01T14:52:28.868Z"
   },
   {
    "duration": 5,
    "start_time": "2022-12-01T14:53:13.990Z"
   },
   {
    "duration": 1444,
    "start_time": "2022-12-01T14:53:19.040Z"
   },
   {
    "duration": 32144,
    "start_time": "2022-12-01T14:53:21.840Z"
   },
   {
    "duration": 24544,
    "start_time": "2022-12-01T14:53:53.986Z"
   },
   {
    "duration": 15,
    "start_time": "2022-12-01T14:54:33.391Z"
   },
   {
    "duration": 66,
    "start_time": "2022-12-01T14:54:41.182Z"
   },
   {
    "duration": 1401,
    "start_time": "2022-12-01T14:55:08.605Z"
   },
   {
    "duration": 4,
    "start_time": "2022-12-01T14:55:10.008Z"
   },
   {
    "duration": 65,
    "start_time": "2022-12-01T14:55:10.013Z"
   },
   {
    "duration": 14,
    "start_time": "2022-12-01T14:55:10.080Z"
   },
   {
    "duration": 44,
    "start_time": "2022-12-01T14:55:10.096Z"
   },
   {
    "duration": 809,
    "start_time": "2022-12-01T14:55:10.141Z"
   },
   {
    "duration": 11,
    "start_time": "2022-12-01T14:55:10.952Z"
   },
   {
    "duration": 1804,
    "start_time": "2022-12-01T14:55:10.978Z"
   },
   {
    "duration": 1896,
    "start_time": "2022-12-01T14:55:12.783Z"
   },
   {
    "duration": 376,
    "start_time": "2022-12-01T14:55:14.685Z"
   },
   {
    "duration": 297,
    "start_time": "2022-12-01T14:55:15.063Z"
   },
   {
    "duration": 303,
    "start_time": "2022-12-01T14:55:15.362Z"
   },
   {
    "duration": 688,
    "start_time": "2022-12-01T14:55:15.667Z"
   },
   {
    "duration": 658,
    "start_time": "2022-12-01T14:55:16.357Z"
   },
   {
    "duration": 604,
    "start_time": "2022-12-01T14:55:17.016Z"
   },
   {
    "duration": 5,
    "start_time": "2022-12-01T14:55:17.622Z"
   },
   {
    "duration": 28,
    "start_time": "2022-12-01T14:55:17.628Z"
   },
   {
    "duration": 307,
    "start_time": "2022-12-01T14:55:17.658Z"
   },
   {
    "duration": 11,
    "start_time": "2022-12-01T14:55:17.967Z"
   },
   {
    "duration": 20,
    "start_time": "2022-12-01T14:55:17.979Z"
   },
   {
    "duration": 4,
    "start_time": "2022-12-01T14:55:18.001Z"
   },
   {
    "duration": 31,
    "start_time": "2022-12-01T14:55:18.007Z"
   },
   {
    "duration": 3,
    "start_time": "2022-12-01T14:55:18.040Z"
   },
   {
    "duration": 638,
    "start_time": "2022-12-01T14:55:18.045Z"
   },
   {
    "duration": 29862,
    "start_time": "2022-12-01T14:55:18.685Z"
   },
   {
    "duration": 26346,
    "start_time": "2022-12-01T14:55:48.549Z"
   },
   {
    "duration": 40,
    "start_time": "2022-12-01T14:56:14.896Z"
   },
   {
    "duration": 3,
    "start_time": "2022-12-01T14:56:14.940Z"
   },
   {
    "duration": 8,
    "start_time": "2022-12-01T14:56:14.944Z"
   },
   {
    "duration": 11,
    "start_time": "2022-12-01T14:56:14.953Z"
   },
   {
    "duration": 242,
    "start_time": "2022-12-01T14:56:14.966Z"
   },
   {
    "duration": 223,
    "start_time": "2022-12-01T14:56:15.211Z"
   },
   {
    "duration": 11,
    "start_time": "2022-12-01T14:56:15.436Z"
   },
   {
    "duration": 11,
    "start_time": "2022-12-01T14:56:15.449Z"
   },
   {
    "duration": 1540,
    "start_time": "2022-12-01T15:01:46.143Z"
   },
   {
    "duration": 3,
    "start_time": "2022-12-01T15:01:47.685Z"
   },
   {
    "duration": 56,
    "start_time": "2022-12-01T15:01:47.690Z"
   },
   {
    "duration": 12,
    "start_time": "2022-12-01T15:01:47.748Z"
   },
   {
    "duration": 13,
    "start_time": "2022-12-01T15:01:47.762Z"
   },
   {
    "duration": 879,
    "start_time": "2022-12-01T15:01:47.777Z"
   },
   {
    "duration": 21,
    "start_time": "2022-12-01T15:01:48.658Z"
   },
   {
    "duration": 1898,
    "start_time": "2022-12-01T15:01:48.680Z"
   },
   {
    "duration": 1907,
    "start_time": "2022-12-01T15:01:50.580Z"
   },
   {
    "duration": 381,
    "start_time": "2022-12-01T15:01:52.580Z"
   },
   {
    "duration": 299,
    "start_time": "2022-12-01T15:01:52.962Z"
   },
   {
    "duration": 287,
    "start_time": "2022-12-01T15:01:53.263Z"
   },
   {
    "duration": 683,
    "start_time": "2022-12-01T15:01:53.552Z"
   },
   {
    "duration": 603,
    "start_time": "2022-12-01T15:01:54.236Z"
   },
   {
    "duration": 568,
    "start_time": "2022-12-01T15:01:54.841Z"
   },
   {
    "duration": 8,
    "start_time": "2022-12-01T15:01:55.410Z"
   },
   {
    "duration": 25,
    "start_time": "2022-12-01T15:01:55.419Z"
   },
   {
    "duration": 302,
    "start_time": "2022-12-01T15:01:55.446Z"
   },
   {
    "duration": 5,
    "start_time": "2022-12-01T15:01:55.749Z"
   },
   {
    "duration": 30,
    "start_time": "2022-12-01T15:01:55.756Z"
   },
   {
    "duration": 4,
    "start_time": "2022-12-01T15:01:55.787Z"
   },
   {
    "duration": 47,
    "start_time": "2022-12-01T15:01:55.792Z"
   },
   {
    "duration": 3,
    "start_time": "2022-12-01T15:01:55.841Z"
   },
   {
    "duration": 1336,
    "start_time": "2022-12-01T15:01:55.845Z"
   },
   {
    "duration": 31179,
    "start_time": "2022-12-01T15:01:57.183Z"
   },
   {
    "duration": 22552,
    "start_time": "2022-12-01T15:02:28.364Z"
   },
   {
    "duration": 43,
    "start_time": "2022-12-01T15:02:50.917Z"
   },
   {
    "duration": 3,
    "start_time": "2022-12-01T15:02:50.964Z"
   },
   {
    "duration": 61,
    "start_time": "2022-12-01T15:02:50.969Z"
   },
   {
    "duration": 20,
    "start_time": "2022-12-01T15:02:51.032Z"
   },
   {
    "duration": 233,
    "start_time": "2022-12-01T15:02:51.054Z"
   },
   {
    "duration": 225,
    "start_time": "2022-12-01T15:02:51.289Z"
   },
   {
    "duration": 10,
    "start_time": "2022-12-01T15:02:51.516Z"
   },
   {
    "duration": 28,
    "start_time": "2022-12-01T15:02:51.528Z"
   },
   {
    "duration": 2466,
    "start_time": "2022-12-06T08:25:26.852Z"
   },
   {
    "duration": 3,
    "start_time": "2022-12-06T08:25:29.319Z"
   },
   {
    "duration": 106,
    "start_time": "2022-12-06T08:25:29.324Z"
   },
   {
    "duration": 13,
    "start_time": "2022-12-06T08:25:29.432Z"
   },
   {
    "duration": 14,
    "start_time": "2022-12-06T08:25:29.446Z"
   },
   {
    "duration": 763,
    "start_time": "2022-12-06T08:25:29.461Z"
   },
   {
    "duration": 16,
    "start_time": "2022-12-06T08:25:30.226Z"
   },
   {
    "duration": 2294,
    "start_time": "2022-12-06T08:25:30.244Z"
   },
   {
    "duration": 2295,
    "start_time": "2022-12-06T08:25:32.540Z"
   },
   {
    "duration": 364,
    "start_time": "2022-12-06T08:25:34.839Z"
   },
   {
    "duration": 300,
    "start_time": "2022-12-06T08:25:35.205Z"
   },
   {
    "duration": 292,
    "start_time": "2022-12-06T08:25:35.507Z"
   },
   {
    "duration": 695,
    "start_time": "2022-12-06T08:25:35.800Z"
   },
   {
    "duration": 646,
    "start_time": "2022-12-06T08:25:36.496Z"
   },
   {
    "duration": 601,
    "start_time": "2022-12-06T08:25:37.144Z"
   },
   {
    "duration": 5,
    "start_time": "2022-12-06T08:25:37.746Z"
   },
   {
    "duration": 133,
    "start_time": "2022-12-06T08:25:37.753Z"
   },
   {
    "duration": 0,
    "start_time": "2022-12-06T08:25:37.888Z"
   },
   {
    "duration": 0,
    "start_time": "2022-12-06T08:25:37.889Z"
   },
   {
    "duration": 0,
    "start_time": "2022-12-06T08:25:37.890Z"
   },
   {
    "duration": 0,
    "start_time": "2022-12-06T08:25:37.892Z"
   },
   {
    "duration": 0,
    "start_time": "2022-12-06T08:25:37.893Z"
   },
   {
    "duration": 0,
    "start_time": "2022-12-06T08:25:37.895Z"
   },
   {
    "duration": 0,
    "start_time": "2022-12-06T08:25:37.896Z"
   },
   {
    "duration": 0,
    "start_time": "2022-12-06T08:25:37.897Z"
   },
   {
    "duration": 0,
    "start_time": "2022-12-06T08:25:37.898Z"
   },
   {
    "duration": 0,
    "start_time": "2022-12-06T08:25:37.900Z"
   },
   {
    "duration": 0,
    "start_time": "2022-12-06T08:25:37.901Z"
   },
   {
    "duration": 0,
    "start_time": "2022-12-06T08:25:37.902Z"
   },
   {
    "duration": 0,
    "start_time": "2022-12-06T08:25:37.903Z"
   },
   {
    "duration": 0,
    "start_time": "2022-12-06T08:25:37.904Z"
   },
   {
    "duration": 0,
    "start_time": "2022-12-06T08:25:38.064Z"
   },
   {
    "duration": 0,
    "start_time": "2022-12-06T08:25:38.066Z"
   },
   {
    "duration": 0,
    "start_time": "2022-12-06T08:25:38.067Z"
   },
   {
    "duration": 0,
    "start_time": "2022-12-06T08:25:38.069Z"
   },
   {
    "duration": 18,
    "start_time": "2022-12-06T08:26:05.776Z"
   },
   {
    "duration": 38,
    "start_time": "2022-12-06T08:28:06.894Z"
   },
   {
    "duration": 15,
    "start_time": "2022-12-06T08:28:28.042Z"
   },
   {
    "duration": 782,
    "start_time": "2022-12-06T08:28:41.030Z"
   },
   {
    "duration": 15,
    "start_time": "2022-12-06T08:28:48.717Z"
   },
   {
    "duration": 10,
    "start_time": "2022-12-06T08:31:25.194Z"
   },
   {
    "duration": 39,
    "start_time": "2022-12-06T08:31:33.233Z"
   },
   {
    "duration": 16,
    "start_time": "2022-12-06T08:31:50.110Z"
   },
   {
    "duration": 16,
    "start_time": "2022-12-06T08:32:31.129Z"
   },
   {
    "duration": 12,
    "start_time": "2022-12-06T08:32:58.923Z"
   },
   {
    "duration": 8,
    "start_time": "2022-12-06T08:33:06.128Z"
   },
   {
    "duration": 222,
    "start_time": "2022-12-06T08:33:30.561Z"
   },
   {
    "duration": 9,
    "start_time": "2022-12-06T08:34:02.198Z"
   },
   {
    "duration": 40,
    "start_time": "2022-12-06T08:34:11.655Z"
   },
   {
    "duration": 14,
    "start_time": "2022-12-06T08:35:19.065Z"
   },
   {
    "duration": 18,
    "start_time": "2022-12-06T08:35:30.532Z"
   },
   {
    "duration": 37,
    "start_time": "2022-12-06T08:36:21.746Z"
   },
   {
    "duration": 7,
    "start_time": "2022-12-06T08:38:05.244Z"
   },
   {
    "duration": 8,
    "start_time": "2022-12-06T08:38:50.992Z"
   },
   {
    "duration": 30,
    "start_time": "2022-12-06T08:40:26.360Z"
   },
   {
    "duration": 8,
    "start_time": "2022-12-06T08:41:35.576Z"
   },
   {
    "duration": 13,
    "start_time": "2022-12-06T08:41:38.672Z"
   },
   {
    "duration": 7,
    "start_time": "2022-12-06T08:44:54.500Z"
   },
   {
    "duration": 1388,
    "start_time": "2022-12-06T08:59:59.365Z"
   },
   {
    "duration": 3,
    "start_time": "2022-12-06T09:00:00.755Z"
   },
   {
    "duration": 99,
    "start_time": "2022-12-06T09:00:00.760Z"
   },
   {
    "duration": 32,
    "start_time": "2022-12-06T09:00:00.861Z"
   },
   {
    "duration": 129,
    "start_time": "2022-12-06T09:00:00.895Z"
   },
   {
    "duration": 791,
    "start_time": "2022-12-06T09:00:01.025Z"
   },
   {
    "duration": 17,
    "start_time": "2022-12-06T09:00:01.818Z"
   },
   {
    "duration": 2308,
    "start_time": "2022-12-06T09:00:01.837Z"
   },
   {
    "duration": 2189,
    "start_time": "2022-12-06T09:00:04.147Z"
   },
   {
    "duration": 396,
    "start_time": "2022-12-06T09:00:06.342Z"
   },
   {
    "duration": 292,
    "start_time": "2022-12-06T09:00:06.741Z"
   },
   {
    "duration": 299,
    "start_time": "2022-12-06T09:00:07.036Z"
   },
   {
    "duration": 798,
    "start_time": "2022-12-06T09:00:07.337Z"
   },
   {
    "duration": 686,
    "start_time": "2022-12-06T09:00:08.137Z"
   },
   {
    "duration": 660,
    "start_time": "2022-12-06T09:00:08.825Z"
   },
   {
    "duration": 5,
    "start_time": "2022-12-06T09:00:09.487Z"
   },
   {
    "duration": 180,
    "start_time": "2022-12-06T09:00:09.494Z"
   },
   {
    "duration": 0,
    "start_time": "2022-12-06T09:00:09.676Z"
   },
   {
    "duration": 0,
    "start_time": "2022-12-06T09:00:09.677Z"
   },
   {
    "duration": 1,
    "start_time": "2022-12-06T09:00:09.678Z"
   },
   {
    "duration": 0,
    "start_time": "2022-12-06T09:00:09.679Z"
   },
   {
    "duration": 0,
    "start_time": "2022-12-06T09:00:09.680Z"
   },
   {
    "duration": 0,
    "start_time": "2022-12-06T09:00:09.682Z"
   },
   {
    "duration": 0,
    "start_time": "2022-12-06T09:00:09.683Z"
   },
   {
    "duration": 0,
    "start_time": "2022-12-06T09:00:09.684Z"
   },
   {
    "duration": 0,
    "start_time": "2022-12-06T09:00:09.686Z"
   },
   {
    "duration": 0,
    "start_time": "2022-12-06T09:00:09.687Z"
   },
   {
    "duration": 0,
    "start_time": "2022-12-06T09:00:09.688Z"
   },
   {
    "duration": 0,
    "start_time": "2022-12-06T09:00:09.820Z"
   },
   {
    "duration": 0,
    "start_time": "2022-12-06T09:00:09.822Z"
   },
   {
    "duration": 0,
    "start_time": "2022-12-06T09:00:09.823Z"
   },
   {
    "duration": 0,
    "start_time": "2022-12-06T09:00:09.835Z"
   },
   {
    "duration": 0,
    "start_time": "2022-12-06T09:00:09.836Z"
   },
   {
    "duration": 0,
    "start_time": "2022-12-06T09:00:09.838Z"
   },
   {
    "duration": 0,
    "start_time": "2022-12-06T09:00:09.839Z"
   },
   {
    "duration": 8,
    "start_time": "2022-12-06T09:00:30.031Z"
   },
   {
    "duration": 16,
    "start_time": "2022-12-06T09:01:26.615Z"
   },
   {
    "duration": 9,
    "start_time": "2022-12-06T09:01:37.608Z"
   },
   {
    "duration": 10,
    "start_time": "2022-12-06T09:01:46.705Z"
   },
   {
    "duration": 9,
    "start_time": "2022-12-06T09:01:50.108Z"
   },
   {
    "duration": 10,
    "start_time": "2022-12-06T09:02:12.068Z"
   },
   {
    "duration": 51,
    "start_time": "2022-12-06T09:02:22.411Z"
   },
   {
    "duration": 11,
    "start_time": "2022-12-06T09:03:26.077Z"
   },
   {
    "duration": 21,
    "start_time": "2022-12-06T09:03:36.904Z"
   },
   {
    "duration": 34,
    "start_time": "2022-12-06T09:06:09.753Z"
   },
   {
    "duration": 1494,
    "start_time": "2022-12-06T09:18:25.765Z"
   },
   {
    "duration": 3,
    "start_time": "2022-12-06T09:18:27.261Z"
   },
   {
    "duration": 53,
    "start_time": "2022-12-06T09:18:27.266Z"
   },
   {
    "duration": 12,
    "start_time": "2022-12-06T09:18:27.321Z"
   },
   {
    "duration": 15,
    "start_time": "2022-12-06T09:18:27.335Z"
   },
   {
    "duration": 759,
    "start_time": "2022-12-06T09:18:27.352Z"
   },
   {
    "duration": 9,
    "start_time": "2022-12-06T09:18:28.113Z"
   },
   {
    "duration": 2314,
    "start_time": "2022-12-06T09:18:28.123Z"
   },
   {
    "duration": 3301,
    "start_time": "2022-12-06T09:18:30.439Z"
   },
   {
    "duration": 388,
    "start_time": "2022-12-06T09:18:33.747Z"
   },
   {
    "duration": 310,
    "start_time": "2022-12-06T09:18:34.137Z"
   },
   {
    "duration": 262,
    "start_time": "2022-12-06T09:18:34.448Z"
   },
   {
    "duration": 689,
    "start_time": "2022-12-06T09:18:34.712Z"
   },
   {
    "duration": 637,
    "start_time": "2022-12-06T09:18:35.402Z"
   },
   {
    "duration": 613,
    "start_time": "2022-12-06T09:18:36.044Z"
   },
   {
    "duration": 5,
    "start_time": "2022-12-06T09:18:36.660Z"
   },
   {
    "duration": 23,
    "start_time": "2022-12-06T09:18:36.667Z"
   },
   {
    "duration": 166,
    "start_time": "2022-12-06T09:18:36.691Z"
   },
   {
    "duration": 1,
    "start_time": "2022-12-06T09:18:36.858Z"
   },
   {
    "duration": 0,
    "start_time": "2022-12-06T09:18:36.860Z"
   },
   {
    "duration": 0,
    "start_time": "2022-12-06T09:18:36.861Z"
   },
   {
    "duration": 0,
    "start_time": "2022-12-06T09:18:36.862Z"
   },
   {
    "duration": 0,
    "start_time": "2022-12-06T09:18:36.864Z"
   },
   {
    "duration": 0,
    "start_time": "2022-12-06T09:18:36.865Z"
   },
   {
    "duration": 0,
    "start_time": "2022-12-06T09:18:36.866Z"
   },
   {
    "duration": 0,
    "start_time": "2022-12-06T09:18:36.867Z"
   },
   {
    "duration": 0,
    "start_time": "2022-12-06T09:18:36.868Z"
   },
   {
    "duration": 0,
    "start_time": "2022-12-06T09:18:36.870Z"
   },
   {
    "duration": 0,
    "start_time": "2022-12-06T09:18:37.013Z"
   },
   {
    "duration": 0,
    "start_time": "2022-12-06T09:18:37.014Z"
   },
   {
    "duration": 0,
    "start_time": "2022-12-06T09:18:37.015Z"
   },
   {
    "duration": 0,
    "start_time": "2022-12-06T09:18:37.016Z"
   },
   {
    "duration": 0,
    "start_time": "2022-12-06T09:18:37.017Z"
   },
   {
    "duration": 0,
    "start_time": "2022-12-06T09:18:37.017Z"
   },
   {
    "duration": 0,
    "start_time": "2022-12-06T09:18:37.018Z"
   },
   {
    "duration": 17,
    "start_time": "2022-12-06T09:19:43.296Z"
   },
   {
    "duration": 17,
    "start_time": "2022-12-06T09:19:50.201Z"
   },
   {
    "duration": 6,
    "start_time": "2022-12-06T09:20:00.378Z"
   },
   {
    "duration": 22,
    "start_time": "2022-12-06T09:22:48.974Z"
   },
   {
    "duration": 44,
    "start_time": "2022-12-06T09:23:01.461Z"
   },
   {
    "duration": 119,
    "start_time": "2022-12-15T18:55:28.340Z"
   },
   {
    "duration": 8097,
    "start_time": "2022-12-15T19:26:02.620Z"
   },
   {
    "duration": 5,
    "start_time": "2022-12-15T19:26:10.722Z"
   },
   {
    "duration": 899,
    "start_time": "2022-12-15T19:26:10.818Z"
   },
   {
    "duration": 101,
    "start_time": "2022-12-15T19:26:11.720Z"
   },
   {
    "duration": 207,
    "start_time": "2022-12-15T19:26:11.823Z"
   },
   {
    "duration": 5904,
    "start_time": "2022-12-15T19:26:12.117Z"
   },
   {
    "duration": 96,
    "start_time": "2022-12-15T19:26:18.023Z"
   },
   {
    "duration": 6813,
    "start_time": "2022-12-15T19:26:18.121Z"
   },
   {
    "duration": 6196,
    "start_time": "2022-12-15T19:26:25.026Z"
   },
   {
    "duration": 1101,
    "start_time": "2022-12-15T19:26:31.228Z"
   },
   {
    "duration": 1488,
    "start_time": "2022-12-15T19:26:32.330Z"
   },
   {
    "duration": 1293,
    "start_time": "2022-12-15T19:26:33.826Z"
   },
   {
    "duration": 3998,
    "start_time": "2022-12-15T19:26:35.120Z"
   },
   {
    "duration": 3808,
    "start_time": "2022-12-15T19:26:39.121Z"
   },
   {
    "duration": 3501,
    "start_time": "2022-12-15T19:26:43.022Z"
   },
   {
    "duration": 9,
    "start_time": "2022-12-15T19:26:46.525Z"
   },
   {
    "duration": 98,
    "start_time": "2022-12-15T19:26:46.617Z"
   },
   {
    "duration": 2109,
    "start_time": "2022-12-15T19:26:46.719Z"
   },
   {
    "duration": 86,
    "start_time": "2022-12-15T19:26:48.831Z"
   },
   {
    "duration": 600,
    "start_time": "2022-12-15T19:26:48.921Z"
   },
   {
    "duration": 9,
    "start_time": "2022-12-15T19:26:49.616Z"
   },
   {
    "duration": 187,
    "start_time": "2022-12-15T19:26:49.630Z"
   },
   {
    "duration": 8,
    "start_time": "2022-12-15T19:26:49.820Z"
   },
   {
    "duration": 2488,
    "start_time": "2022-12-15T19:26:49.830Z"
   },
   {
    "duration": 254002,
    "start_time": "2022-12-15T19:26:52.326Z"
   },
   {
    "duration": 230601,
    "start_time": "2022-12-15T19:31:06.420Z"
   },
   {
    "duration": 400,
    "start_time": "2022-12-15T19:34:57.025Z"
   },
   {
    "duration": 94,
    "start_time": "2022-12-15T19:34:57.431Z"
   },
   {
    "duration": 3698,
    "start_time": "2022-12-15T19:34:57.527Z"
   },
   {
    "duration": 2391,
    "start_time": "2022-12-15T19:35:01.228Z"
   },
   {
    "duration": 97,
    "start_time": "2022-12-15T19:35:03.621Z"
   },
   {
    "duration": 502,
    "start_time": "2022-12-15T19:35:03.722Z"
   }
  ],
  "kernelspec": {
   "display_name": "Python 3 (ipykernel)",
   "language": "python",
   "name": "python3"
  },
  "language_info": {
   "codemirror_mode": {
    "name": "ipython",
    "version": 3
   },
   "file_extension": ".py",
   "mimetype": "text/x-python",
   "name": "python",
   "nbconvert_exporter": "python",
   "pygments_lexer": "ipython3",
   "version": "3.9.5"
  },
  "toc": {
   "base_numbering": 1,
   "nav_menu": {},
   "number_sections": true,
   "sideBar": true,
   "skip_h1_title": true,
   "title_cell": "Содержание",
   "title_sidebar": "Contents",
   "toc_cell": true,
   "toc_position": {
    "height": "calc(100% - 180px)",
    "left": "10px",
    "top": "150px",
    "width": "308.8px"
   },
   "toc_section_display": true,
   "toc_window_display": false
  }
 },
 "nbformat": 4,
 "nbformat_minor": 2
}
