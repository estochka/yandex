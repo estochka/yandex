{
 "cells": [
  {
   "cell_type": "markdown",
   "metadata": {
    "toc": true
   },
   "source": [
    "<h1>Содержание<span class=\"tocSkip\"></span></h1>\n",
    "<div class=\"toc\"><ul class=\"toc-item\"><li><span><a href=\"#Подготовка\" data-toc-modified-id=\"Подготовка-1\"><span class=\"toc-item-num\">1&nbsp;&nbsp;</span>Подготовка</a></span></li><li><span><a href=\"#Выборки\" data-toc-modified-id=\"Выборки-2\"><span class=\"toc-item-num\">2&nbsp;&nbsp;</span>Выборки</a></span></li><li><span><a href=\"#Обучение\" data-toc-modified-id=\"Обучение-3\"><span class=\"toc-item-num\">3&nbsp;&nbsp;</span>Обучение</a></span></li><li><span><a href=\"#Тестирование-модели\" data-toc-modified-id=\"Тестирование-модели-4\"><span class=\"toc-item-num\">4&nbsp;&nbsp;</span>Тестирование модели</a></span></li><li><span><a href=\"#Выводы\" data-toc-modified-id=\"Выводы-5\"><span class=\"toc-item-num\">5&nbsp;&nbsp;</span>Выводы</a></span></li></ul></div>"
   ]
  },
  {
   "cell_type": "markdown",
   "metadata": {},
   "source": [
    "# Проект для «Викишоп»"
   ]
  },
  {
   "cell_type": "markdown",
   "metadata": {},
   "source": [
    "Интернет-магазин «Викишоп» запускает новый сервис. Теперь пользователи могут редактировать и дополнять описания товаров, как в вики-сообществах. То есть клиенты предлагают свои правки и комментируют изменения других. Магазину нужен инструмент, который будет искать токсичные комментарии и отправлять их на модерацию. \n",
    "\n",
    "Обучите модель классифицировать комментарии на позитивные и негативные. В вашем распоряжении набор данных с разметкой о токсичности правок.\n",
    "\n",
    "Постройте модель со значением метрики качества *F1* не меньше 0.75. \n",
    "\n",
    "**Инструкция по выполнению проекта**\n",
    "\n",
    "1. Загрузите и подготовьте данные.\n",
    "2. Обучите разные модели. \n",
    "3. Сделайте выводы.\n",
    "\n",
    "Для выполнения проекта применять *BERT* необязательно, но вы можете попробовать.\n",
    "\n",
    "**Описание данных**\n",
    "\n",
    "Данные находятся в файле `toxic_comments.csv`. Столбец *text* в нём содержит текст комментария, а *toxic* — целевой признак."
   ]
  },
  {
   "cell_type": "markdown",
   "metadata": {},
   "source": [
    "## Подготовка"
   ]
  },
  {
   "cell_type": "code",
   "execution_count": 1,
   "metadata": {},
   "outputs": [],
   "source": [
    "import pandas as pd\n",
    "import spacy\n",
    "from collections import namedtuple\n",
    "\n",
    "from sklearn.feature_extraction.text import TfidfVectorizer \n",
    "from sklearn.model_selection import train_test_split, GridSearchCV\n",
    "from sklearn.linear_model import LogisticRegression\n",
    "from sklearn.dummy import DummyClassifier\n",
    "from sklearn.metrics import f1_score\n",
    "from sklearn.pipeline import Pipeline\n",
    "\n",
    "from catboost import Pool, CatBoostClassifier"
   ]
  },
  {
   "cell_type": "code",
   "execution_count": 2,
   "metadata": {},
   "outputs": [],
   "source": [
    "STATE = sum(ord(x) for x in 'NEVER SURRENDER')\n",
    "SAMPLE_SIZE = 27_000"
   ]
  },
  {
   "cell_type": "markdown",
   "metadata": {},
   "source": [
    "_____________________\n",
    "Загрузим данные:"
   ]
  },
  {
   "cell_type": "code",
   "execution_count": 3,
   "metadata": {},
   "outputs": [
    {
     "name": "stdout",
     "output_type": "stream",
     "text": [
      "<class 'pandas.core.frame.DataFrame'>\n",
      "Int64Index: 159292 entries, 0 to 159450\n",
      "Data columns (total 2 columns):\n",
      " #   Column  Non-Null Count   Dtype \n",
      "---  ------  --------------   ----- \n",
      " 0   text    159292 non-null  object\n",
      " 1   toxic   159292 non-null  int64 \n",
      "dtypes: int64(1), object(1)\n",
      "memory usage: 3.6+ MB\n"
     ]
    },
    {
     "data": {
      "text/html": [
       "<div>\n",
       "<style scoped>\n",
       "    .dataframe tbody tr th:only-of-type {\n",
       "        vertical-align: middle;\n",
       "    }\n",
       "\n",
       "    .dataframe tbody tr th {\n",
       "        vertical-align: top;\n",
       "    }\n",
       "\n",
       "    .dataframe thead th {\n",
       "        text-align: right;\n",
       "    }\n",
       "</style>\n",
       "<table border=\"1\" class=\"dataframe\">\n",
       "  <thead>\n",
       "    <tr style=\"text-align: right;\">\n",
       "      <th></th>\n",
       "      <th>text</th>\n",
       "      <th>toxic</th>\n",
       "    </tr>\n",
       "  </thead>\n",
       "  <tbody>\n",
       "    <tr>\n",
       "      <th>159446</th>\n",
       "      <td>\":::::And for the second time of asking, when ...</td>\n",
       "      <td>0</td>\n",
       "    </tr>\n",
       "    <tr>\n",
       "      <th>159447</th>\n",
       "      <td>You should be ashamed of yourself \\n\\nThat is ...</td>\n",
       "      <td>0</td>\n",
       "    </tr>\n",
       "    <tr>\n",
       "      <th>159448</th>\n",
       "      <td>Spitzer \\n\\nUmm, theres no actual article for ...</td>\n",
       "      <td>0</td>\n",
       "    </tr>\n",
       "    <tr>\n",
       "      <th>159449</th>\n",
       "      <td>And it looks like it was actually you who put ...</td>\n",
       "      <td>0</td>\n",
       "    </tr>\n",
       "    <tr>\n",
       "      <th>159450</th>\n",
       "      <td>\"\\nAnd ... I really don't think you understand...</td>\n",
       "      <td>0</td>\n",
       "    </tr>\n",
       "  </tbody>\n",
       "</table>\n",
       "</div>"
      ],
      "text/plain": [
       "                                                     text  toxic\n",
       "159446  \":::::And for the second time of asking, when ...      0\n",
       "159447  You should be ashamed of yourself \\n\\nThat is ...      0\n",
       "159448  Spitzer \\n\\nUmm, theres no actual article for ...      0\n",
       "159449  And it looks like it was actually you who put ...      0\n",
       "159450  \"\\nAnd ... I really don't think you understand...      0"
      ]
     },
     "execution_count": 3,
     "metadata": {},
     "output_type": "execute_result"
    }
   ],
   "source": [
    "df_text = pd.read_csv('/datasets/toxic_comments.csv', index_col=[0])\n",
    "df_text.info()\n",
    "df_text.tail()"
   ]
  },
  {
   "cell_type": "code",
   "execution_count": 4,
   "metadata": {},
   "outputs": [
    {
     "data": {
      "text/plain": [
       "0"
      ]
     },
     "execution_count": 4,
     "metadata": {},
     "output_type": "execute_result"
    }
   ],
   "source": [
    "df_text.duplicated().sum()"
   ]
  },
  {
   "cell_type": "markdown",
   "metadata": {},
   "source": [
    "Посмотрим распределение целевого признака `toxic`"
   ]
  },
  {
   "cell_type": "code",
   "execution_count": 5,
   "metadata": {},
   "outputs": [
    {
     "data": {
      "image/png": "[encoded data removed]",
      "text/plain": [
       "<Figure size 432x288 with 1 Axes>"
      ]
     },
     "metadata": {},
     "output_type": "display_data"
    }
   ],
   "source": [
    "df_text['toxic'].value_counts().plot(kind='pie', autopct='%1.1f%%', title='Target');"
   ]
  },
  {
   "cell_type": "markdown",
   "metadata": {},
   "source": [
    "Можно обратить внимание, что целевой признак не сбалансирован, что стоит учитывать при построении моделей.\n",
    "__________________________\n",
    "\n",
    "Проведем минимальную обработку текста:\n",
    "- оставим только английские буквы и апостраф. Он часто используется в английской речи для сокращения слов и часто учитывается в словарях. \n",
    "- удалим лишние проблемы и приведем все к нижнему регистру"
   ]
  },
  {
   "cell_type": "code",
   "execution_count": 6,
   "metadata": {},
   "outputs": [
    {
     "name": "stdout",
     "output_type": "stream",
     "text": [
      "CPU times: user 5.49 s, sys: 169 ms, total: 5.66 s\n",
      "Wall time: 5.67 s\n"
     ]
    }
   ],
   "source": [
    "%%time\n",
    "df_text['text'] = df_text['text'].str.replace(r'[^A-Za-z\\']',' ', regex=True).str.lower().str.strip()\n",
    "df_text['text'] = df_text['text'].str.replace(r'\\W{2,}',' ', regex=True)"
   ]
  },
  {
   "cell_type": "markdown",
   "metadata": {},
   "source": [
    "После удаления \"мусора\" из текста проверим еще раз на дубликаты."
   ]
  },
  {
   "cell_type": "code",
   "execution_count": 7,
   "metadata": {},
   "outputs": [
    {
     "data": {
      "text/plain": [
       "1264"
      ]
     },
     "execution_count": 7,
     "metadata": {},
     "output_type": "execute_result"
    }
   ],
   "source": [
    "df_text.duplicated().sum()"
   ]
  },
  {
   "cell_type": "markdown",
   "metadata": {},
   "source": [
    "Появились дубликаты, удалим их"
   ]
  },
  {
   "cell_type": "code",
   "execution_count": 8,
   "metadata": {},
   "outputs": [],
   "source": [
    "df_text = df_text.drop_duplicates().reset_index(drop=True)"
   ]
  },
  {
   "cell_type": "markdown",
   "metadata": {},
   "source": [
    "При помощи `spaCy` проведем лемматизацию и удалим стоп-слова. \n",
    "\n",
    "Результат сохраним в отдельный файл, который будем загружать при необходимости."
   ]
  },
  {
   "cell_type": "code",
   "execution_count": 9,
   "metadata": {},
   "outputs": [
    {
     "name": "stdout",
     "output_type": "stream",
     "text": [
      "CPU times: user 409 ms, sys: 67.7 ms, total: 477 ms\n",
      "Wall time: 812 ms\n"
     ]
    }
   ],
   "source": [
    "%%time\n",
    "try:\n",
    "    clear_text = pd.read_csv('clear_data.csv', index_col=[0])\n",
    "except:\n",
    "    ##30 min\n",
    "    nlp = spacy.load('en_core_web_sm', disable=['parser', 'ner'])\n",
    "    #lemma and clear stop \n",
    "    clear_text = df_text['text'].apply(lambda row: ' '.join([w.lemma_ for w in nlp(row) if not w.is_stop]))\n",
    "    pd.DataFrame(clear_text).to_csv('clear_data.csv')\n",
    "\n",
    "df_text['clear_text'] = clear_text\n",
    "df_text.loc[df_text['clear_text'].isna(), 'clear_text'] = ''"
   ]
  },
  {
   "cell_type": "markdown",
   "metadata": {},
   "source": [
    "**Вывод:** данные предварительно изучены, выявлен дисбаланс классов в целевом признаке. Проведена предварительная обработка текста."
   ]
  },
  {
   "cell_type": "markdown",
   "metadata": {},
   "source": [
    "## Выборки"
   ]
  },
  {
   "cell_type": "markdown",
   "metadata": {},
   "source": [
    "**Используемая функция**"
   ]
  },
  {
   "cell_type": "code",
   "execution_count": 10,
   "metadata": {},
   "outputs": [],
   "source": [
    "def create_train_data(data: pd.DataFrame, \n",
    "                      balance: bool, \n",
    "                      sam_size: int = SAMPLE_SIZE, \n",
    "                      state_: int = STATE) -> namedtuple:\n",
    "    \n",
    "    #create namedtuples\n",
    "    result = namedtuple(f'train_data_{\"balanced\" if balance else \"imbalanced\"}', \n",
    "                        'clear , raw, tf_idf, target, tf_idf_fit')\n",
    "    \n",
    "    #sample\n",
    "    if balance:\n",
    "        #balansed downsample\n",
    "        data = (data.groupby('toxic', group_keys= False) \n",
    "                    .apply(lambda x: x.sample(n=SAMPLE_SIZE//2, random_state=STATE))\n",
    "                    .sample(frac=1, random_state=STATE).reset_index(drop=True))  \n",
    "    else:\n",
    "        #imbalanced\n",
    "        data = data.sample(n=SAMPLE_SIZE, random_state=STATE).reset_index(drop=True)\n",
    "\n",
    "        \n",
    "    #save tf_idf_fit for transform test data\n",
    "    result.tf_idf_fit = TfidfVectorizer().fit(data['clear_text'].values) \n",
    "   \n",
    "    #tf_idf_transform\n",
    "    result.tf_idf = result.tf_idf_fit.transform(data['clear_text'].values)\n",
    "    \n",
    "    #data to namedtuple\n",
    "    result.clear = data['clear_text']\n",
    "    result.raw = data['text']\n",
    "    result.target = data['toxic']\n",
    "    \n",
    "    return result\n"
   ]
  },
  {
   "cell_type": "markdown",
   "metadata": {},
   "source": [
    "__________________________________\n",
    "Данных достаточно много и их обработка может занимать много времени и ресурсов. Предположим, что для достижения целевой метрики F1 > 0.75 достаточно около 30 000 записей для обучающей выборки.\n",
    "\n",
    "Выборки будут созданы по принципу:\n",
    "- сбалансированная (добавлена в основном для учебных целей)\n",
    "- несбалансированная"
   ]
  },
  {
   "cell_type": "markdown",
   "metadata": {},
   "source": [
    "Разные модели могут требовать разные типы входных данных. Соответственно, каждая из выборок будет содержать\n",
    "- tf_idf таблица\n",
    "- текст до лемматизации (для CatBoost)\n",
    "- текст после лемматизации (для CatBoost) \n",
    "- отдельно BERT таблица"
   ]
  },
  {
   "cell_type": "code",
   "execution_count": 11,
   "metadata": {},
   "outputs": [],
   "source": [
    "data_dict = {}\n",
    "test_dict = {}"
   ]
  },
  {
   "cell_type": "markdown",
   "metadata": {},
   "source": [
    "Отделим часть в тестовую выборку.\n"
   ]
  },
  {
   "cell_type": "code",
   "execution_count": 12,
   "metadata": {},
   "outputs": [],
   "source": [
    "train, test_data = train_test_split(df_text, test_size=0.15, \n",
    "                                    stratify=df_text['toxic'], random_state=STATE)"
   ]
  },
  {
   "cell_type": "code",
   "execution_count": 13,
   "metadata": {},
   "outputs": [
    {
     "data": {
      "text/plain": [
       "0    120666\n",
       "1     13657\n",
       "Name: toxic, dtype: int64"
      ]
     },
     "execution_count": 13,
     "metadata": {},
     "output_type": "execute_result"
    }
   ],
   "source": [
    "train['toxic'].value_counts()"
   ]
  },
  {
   "cell_type": "code",
   "execution_count": 14,
   "metadata": {},
   "outputs": [
    {
     "name": "stdout",
     "output_type": "stream",
     "text": [
      "CPU times: user 2.93 s, sys: 7.07 ms, total: 2.94 s\n",
      "Wall time: 2.95 s\n"
     ]
    }
   ],
   "source": [
    "%%time\n",
    "data_dict['balance'] = create_train_data(train, True)\n",
    "data_dict['imbalance'] = create_train_data(train, False)"
   ]
  },
  {
   "cell_type": "markdown",
   "metadata": {},
   "source": [
    "______________\n",
    "Bert"
   ]
  },
  {
   "cell_type": "code",
   "execution_count": 15,
   "metadata": {},
   "outputs": [
    {
     "name": "stdout",
     "output_type": "stream",
     "text": [
      "Load imbalance_bert\n"
     ]
    },
    {
     "data": {
      "text/html": [
       "<div>\n",
       "<style scoped>\n",
       "    .dataframe tbody tr th:only-of-type {\n",
       "        vertical-align: middle;\n",
       "    }\n",
       "\n",
       "    .dataframe tbody tr th {\n",
       "        vertical-align: top;\n",
       "    }\n",
       "\n",
       "    .dataframe thead th {\n",
       "        text-align: right;\n",
       "    }\n",
       "</style>\n",
       "<table border=\"1\" class=\"dataframe\">\n",
       "  <thead>\n",
       "    <tr style=\"text-align: right;\">\n",
       "      <th></th>\n",
       "      <th>0</th>\n",
       "      <th>1</th>\n",
       "      <th>2</th>\n",
       "      <th>3</th>\n",
       "      <th>4</th>\n",
       "      <th>5</th>\n",
       "      <th>6</th>\n",
       "      <th>7</th>\n",
       "      <th>8</th>\n",
       "      <th>9</th>\n",
       "      <th>...</th>\n",
       "      <th>759</th>\n",
       "      <th>760</th>\n",
       "      <th>761</th>\n",
       "      <th>762</th>\n",
       "      <th>763</th>\n",
       "      <th>764</th>\n",
       "      <th>765</th>\n",
       "      <th>766</th>\n",
       "      <th>767</th>\n",
       "      <th>toxic</th>\n",
       "    </tr>\n",
       "  </thead>\n",
       "  <tbody>\n",
       "    <tr>\n",
       "      <th>0</th>\n",
       "      <td>0.040551</td>\n",
       "      <td>0.098047</td>\n",
       "      <td>0.003993</td>\n",
       "      <td>-0.089149</td>\n",
       "      <td>-0.024042</td>\n",
       "      <td>-0.209451</td>\n",
       "      <td>0.056575</td>\n",
       "      <td>0.530667</td>\n",
       "      <td>-0.363835</td>\n",
       "      <td>-0.080911</td>\n",
       "      <td>...</td>\n",
       "      <td>-0.160681</td>\n",
       "      <td>0.139658</td>\n",
       "      <td>0.004027</td>\n",
       "      <td>0.168727</td>\n",
       "      <td>0.206579</td>\n",
       "      <td>-0.098264</td>\n",
       "      <td>0.047215</td>\n",
       "      <td>0.430849</td>\n",
       "      <td>0.310083</td>\n",
       "      <td>0</td>\n",
       "    </tr>\n",
       "    <tr>\n",
       "      <th>1</th>\n",
       "      <td>0.230540</td>\n",
       "      <td>0.078137</td>\n",
       "      <td>0.246056</td>\n",
       "      <td>-0.088148</td>\n",
       "      <td>-0.027989</td>\n",
       "      <td>-0.218337</td>\n",
       "      <td>0.234127</td>\n",
       "      <td>0.414366</td>\n",
       "      <td>-0.141701</td>\n",
       "      <td>-0.289833</td>\n",
       "      <td>...</td>\n",
       "      <td>-0.064243</td>\n",
       "      <td>-0.098615</td>\n",
       "      <td>-0.294578</td>\n",
       "      <td>0.185810</td>\n",
       "      <td>0.015010</td>\n",
       "      <td>-0.113231</td>\n",
       "      <td>0.067544</td>\n",
       "      <td>0.526974</td>\n",
       "      <td>0.403077</td>\n",
       "      <td>0</td>\n",
       "    </tr>\n",
       "    <tr>\n",
       "      <th>2</th>\n",
       "      <td>-0.249740</td>\n",
       "      <td>0.023389</td>\n",
       "      <td>-0.127600</td>\n",
       "      <td>-0.076919</td>\n",
       "      <td>0.034111</td>\n",
       "      <td>-0.372057</td>\n",
       "      <td>0.224738</td>\n",
       "      <td>0.473094</td>\n",
       "      <td>-0.078764</td>\n",
       "      <td>-0.407230</td>\n",
       "      <td>...</td>\n",
       "      <td>-0.130349</td>\n",
       "      <td>0.131835</td>\n",
       "      <td>-0.272085</td>\n",
       "      <td>0.285550</td>\n",
       "      <td>0.069258</td>\n",
       "      <td>-0.355054</td>\n",
       "      <td>0.114961</td>\n",
       "      <td>0.437836</td>\n",
       "      <td>0.586909</td>\n",
       "      <td>0</td>\n",
       "    </tr>\n",
       "    <tr>\n",
       "      <th>3</th>\n",
       "      <td>0.124559</td>\n",
       "      <td>0.091973</td>\n",
       "      <td>0.001655</td>\n",
       "      <td>-0.197695</td>\n",
       "      <td>-0.023416</td>\n",
       "      <td>-0.218565</td>\n",
       "      <td>0.094834</td>\n",
       "      <td>0.307595</td>\n",
       "      <td>-0.108520</td>\n",
       "      <td>-0.117116</td>\n",
       "      <td>...</td>\n",
       "      <td>-0.070422</td>\n",
       "      <td>0.021249</td>\n",
       "      <td>-0.190425</td>\n",
       "      <td>0.229035</td>\n",
       "      <td>0.136221</td>\n",
       "      <td>-0.193482</td>\n",
       "      <td>0.069627</td>\n",
       "      <td>0.467001</td>\n",
       "      <td>0.181009</td>\n",
       "      <td>0</td>\n",
       "    </tr>\n",
       "    <tr>\n",
       "      <th>4</th>\n",
       "      <td>-0.075406</td>\n",
       "      <td>0.011700</td>\n",
       "      <td>0.078155</td>\n",
       "      <td>-0.296333</td>\n",
       "      <td>-0.203499</td>\n",
       "      <td>-0.066793</td>\n",
       "      <td>0.339146</td>\n",
       "      <td>0.503677</td>\n",
       "      <td>-0.186039</td>\n",
       "      <td>-0.150082</td>\n",
       "      <td>...</td>\n",
       "      <td>-0.390595</td>\n",
       "      <td>0.014569</td>\n",
       "      <td>-0.106426</td>\n",
       "      <td>0.223465</td>\n",
       "      <td>0.015653</td>\n",
       "      <td>-0.194121</td>\n",
       "      <td>-0.114709</td>\n",
       "      <td>0.371811</td>\n",
       "      <td>0.282532</td>\n",
       "      <td>0</td>\n",
       "    </tr>\n",
       "  </tbody>\n",
       "</table>\n",
       "<p>5 rows × 769 columns</p>\n",
       "</div>"
      ],
      "text/plain": [
       "          0         1         2         3         4         5         6  \\\n",
       "0  0.040551  0.098047  0.003993 -0.089149 -0.024042 -0.209451  0.056575   \n",
       "1  0.230540  0.078137  0.246056 -0.088148 -0.027989 -0.218337  0.234127   \n",
       "2 -0.249740  0.023389 -0.127600 -0.076919  0.034111 -0.372057  0.224738   \n",
       "3  0.124559  0.091973  0.001655 -0.197695 -0.023416 -0.218565  0.094834   \n",
       "4 -0.075406  0.011700  0.078155 -0.296333 -0.203499 -0.066793  0.339146   \n",
       "\n",
       "          7         8         9  ...       759       760       761       762  \\\n",
       "0  0.530667 -0.363835 -0.080911  ... -0.160681  0.139658  0.004027  0.168727   \n",
       "1  0.414366 -0.141701 -0.289833  ... -0.064243 -0.098615 -0.294578  0.185810   \n",
       "2  0.473094 -0.078764 -0.407230  ... -0.130349  0.131835 -0.272085  0.285550   \n",
       "3  0.307595 -0.108520 -0.117116  ... -0.070422  0.021249 -0.190425  0.229035   \n",
       "4  0.503677 -0.186039 -0.150082  ... -0.390595  0.014569 -0.106426  0.223465   \n",
       "\n",
       "        763       764       765       766       767  toxic  \n",
       "0  0.206579 -0.098264  0.047215  0.430849  0.310083      0  \n",
       "1  0.015010 -0.113231  0.067544  0.526974  0.403077      0  \n",
       "2  0.069258 -0.355054  0.114961  0.437836  0.586909      0  \n",
       "3  0.136221 -0.193482  0.069627  0.467001  0.181009      0  \n",
       "4  0.015653 -0.194121 -0.114709  0.371811  0.282532      0  \n",
       "\n",
       "[5 rows x 769 columns]"
      ]
     },
     "metadata": {},
     "output_type": "display_data"
    },
    {
     "name": "stdout",
     "output_type": "stream",
     "text": [
      "Load balance_bert\n"
     ]
    },
    {
     "data": {
      "text/html": [
       "<div>\n",
       "<style scoped>\n",
       "    .dataframe tbody tr th:only-of-type {\n",
       "        vertical-align: middle;\n",
       "    }\n",
       "\n",
       "    .dataframe tbody tr th {\n",
       "        vertical-align: top;\n",
       "    }\n",
       "\n",
       "    .dataframe thead th {\n",
       "        text-align: right;\n",
       "    }\n",
       "</style>\n",
       "<table border=\"1\" class=\"dataframe\">\n",
       "  <thead>\n",
       "    <tr style=\"text-align: right;\">\n",
       "      <th></th>\n",
       "      <th>0</th>\n",
       "      <th>1</th>\n",
       "      <th>2</th>\n",
       "      <th>3</th>\n",
       "      <th>4</th>\n",
       "      <th>5</th>\n",
       "      <th>6</th>\n",
       "      <th>7</th>\n",
       "      <th>8</th>\n",
       "      <th>9</th>\n",
       "      <th>...</th>\n",
       "      <th>759</th>\n",
       "      <th>760</th>\n",
       "      <th>761</th>\n",
       "      <th>762</th>\n",
       "      <th>763</th>\n",
       "      <th>764</th>\n",
       "      <th>765</th>\n",
       "      <th>766</th>\n",
       "      <th>767</th>\n",
       "      <th>toxic</th>\n",
       "    </tr>\n",
       "  </thead>\n",
       "  <tbody>\n",
       "    <tr>\n",
       "      <th>0</th>\n",
       "      <td>0.040551</td>\n",
       "      <td>0.098047</td>\n",
       "      <td>0.003993</td>\n",
       "      <td>-0.089149</td>\n",
       "      <td>-0.024042</td>\n",
       "      <td>-0.209451</td>\n",
       "      <td>0.056575</td>\n",
       "      <td>0.530667</td>\n",
       "      <td>-0.363835</td>\n",
       "      <td>-0.080911</td>\n",
       "      <td>...</td>\n",
       "      <td>-0.160681</td>\n",
       "      <td>0.139658</td>\n",
       "      <td>0.004027</td>\n",
       "      <td>0.168727</td>\n",
       "      <td>0.206579</td>\n",
       "      <td>-0.098264</td>\n",
       "      <td>0.047215</td>\n",
       "      <td>0.430849</td>\n",
       "      <td>0.310083</td>\n",
       "      <td>1</td>\n",
       "    </tr>\n",
       "    <tr>\n",
       "      <th>1</th>\n",
       "      <td>0.230540</td>\n",
       "      <td>0.078137</td>\n",
       "      <td>0.246056</td>\n",
       "      <td>-0.088148</td>\n",
       "      <td>-0.027989</td>\n",
       "      <td>-0.218337</td>\n",
       "      <td>0.234127</td>\n",
       "      <td>0.414366</td>\n",
       "      <td>-0.141701</td>\n",
       "      <td>-0.289833</td>\n",
       "      <td>...</td>\n",
       "      <td>-0.064243</td>\n",
       "      <td>-0.098615</td>\n",
       "      <td>-0.294578</td>\n",
       "      <td>0.185810</td>\n",
       "      <td>0.015010</td>\n",
       "      <td>-0.113231</td>\n",
       "      <td>0.067544</td>\n",
       "      <td>0.526974</td>\n",
       "      <td>0.403077</td>\n",
       "      <td>1</td>\n",
       "    </tr>\n",
       "    <tr>\n",
       "      <th>2</th>\n",
       "      <td>-0.249740</td>\n",
       "      <td>0.023389</td>\n",
       "      <td>-0.127600</td>\n",
       "      <td>-0.076919</td>\n",
       "      <td>0.034111</td>\n",
       "      <td>-0.372057</td>\n",
       "      <td>0.224738</td>\n",
       "      <td>0.473094</td>\n",
       "      <td>-0.078764</td>\n",
       "      <td>-0.407230</td>\n",
       "      <td>...</td>\n",
       "      <td>-0.130349</td>\n",
       "      <td>0.131835</td>\n",
       "      <td>-0.272085</td>\n",
       "      <td>0.285550</td>\n",
       "      <td>0.069258</td>\n",
       "      <td>-0.355054</td>\n",
       "      <td>0.114961</td>\n",
       "      <td>0.437836</td>\n",
       "      <td>0.586909</td>\n",
       "      <td>0</td>\n",
       "    </tr>\n",
       "    <tr>\n",
       "      <th>3</th>\n",
       "      <td>0.124559</td>\n",
       "      <td>0.091973</td>\n",
       "      <td>0.001655</td>\n",
       "      <td>-0.197695</td>\n",
       "      <td>-0.023416</td>\n",
       "      <td>-0.218565</td>\n",
       "      <td>0.094834</td>\n",
       "      <td>0.307595</td>\n",
       "      <td>-0.108520</td>\n",
       "      <td>-0.117116</td>\n",
       "      <td>...</td>\n",
       "      <td>-0.070422</td>\n",
       "      <td>0.021249</td>\n",
       "      <td>-0.190425</td>\n",
       "      <td>0.229035</td>\n",
       "      <td>0.136221</td>\n",
       "      <td>-0.193482</td>\n",
       "      <td>0.069627</td>\n",
       "      <td>0.467001</td>\n",
       "      <td>0.181009</td>\n",
       "      <td>1</td>\n",
       "    </tr>\n",
       "    <tr>\n",
       "      <th>4</th>\n",
       "      <td>-0.075406</td>\n",
       "      <td>0.011700</td>\n",
       "      <td>0.078155</td>\n",
       "      <td>-0.296333</td>\n",
       "      <td>-0.203499</td>\n",
       "      <td>-0.066793</td>\n",
       "      <td>0.339146</td>\n",
       "      <td>0.503677</td>\n",
       "      <td>-0.186039</td>\n",
       "      <td>-0.150082</td>\n",
       "      <td>...</td>\n",
       "      <td>-0.390595</td>\n",
       "      <td>0.014569</td>\n",
       "      <td>-0.106426</td>\n",
       "      <td>0.223465</td>\n",
       "      <td>0.015653</td>\n",
       "      <td>-0.194121</td>\n",
       "      <td>-0.114709</td>\n",
       "      <td>0.371811</td>\n",
       "      <td>0.282532</td>\n",
       "      <td>1</td>\n",
       "    </tr>\n",
       "  </tbody>\n",
       "</table>\n",
       "<p>5 rows × 769 columns</p>\n",
       "</div>"
      ],
      "text/plain": [
       "          0         1         2         3         4         5         6  \\\n",
       "0  0.040551  0.098047  0.003993 -0.089149 -0.024042 -0.209451  0.056575   \n",
       "1  0.230540  0.078137  0.246056 -0.088148 -0.027989 -0.218337  0.234127   \n",
       "2 -0.249740  0.023389 -0.127600 -0.076919  0.034111 -0.372057  0.224738   \n",
       "3  0.124559  0.091973  0.001655 -0.197695 -0.023416 -0.218565  0.094834   \n",
       "4 -0.075406  0.011700  0.078155 -0.296333 -0.203499 -0.066793  0.339146   \n",
       "\n",
       "          7         8         9  ...       759       760       761       762  \\\n",
       "0  0.530667 -0.363835 -0.080911  ... -0.160681  0.139658  0.004027  0.168727   \n",
       "1  0.414366 -0.141701 -0.289833  ... -0.064243 -0.098615 -0.294578  0.185810   \n",
       "2  0.473094 -0.078764 -0.407230  ... -0.130349  0.131835 -0.272085  0.285550   \n",
       "3  0.307595 -0.108520 -0.117116  ... -0.070422  0.021249 -0.190425  0.229035   \n",
       "4  0.503677 -0.186039 -0.150082  ... -0.390595  0.014569 -0.106426  0.223465   \n",
       "\n",
       "        763       764       765       766       767  toxic  \n",
       "0  0.206579 -0.098264  0.047215  0.430849  0.310083      1  \n",
       "1  0.015010 -0.113231  0.067544  0.526974  0.403077      1  \n",
       "2  0.069258 -0.355054  0.114961  0.437836  0.586909      0  \n",
       "3  0.136221 -0.193482  0.069627  0.467001  0.181009      1  \n",
       "4  0.015653 -0.194121 -0.114709  0.371811  0.282532      1  \n",
       "\n",
       "[5 rows x 769 columns]"
      ]
     },
     "metadata": {},
     "output_type": "display_data"
    }
   ],
   "source": [
    "## BERT был сделан отдельно и результат загружен в виде csv\n",
    "for name in ['imbalance_bert', 'balance_bert']:\n",
    "    try:\n",
    "        data = pd.read_csv(f'{name}.csv', index_col=[0]).drop('Unnamed: 0.1', axis=1)\n",
    "        print(f'Load {name}')\n",
    "        display(data.head())\n",
    "        #create nametuples\n",
    "        bert = namedtuple(name, 'features, target')\n",
    "        bert_test = namedtuple(name, 'features, target')\n",
    "        #split\n",
    "        bert.features, bert_test.features, bert.target, bert_test.target = train_test_split(data.drop('toxic', axis=1),\n",
    "                                                                                            data['toxic'],\n",
    "                                                                                            train_size=.8,\n",
    "                                                                                            random_state=STATE, \n",
    "                                                                                            stratify=data['toxic'])\n",
    "        \n",
    "        data_dict[name] = bert\n",
    "        test_dict[name] = bert_test\n",
    "    except:\n",
    "        print(f'No file {name}')"
   ]
  },
  {
   "cell_type": "markdown",
   "metadata": {},
   "source": [
    "В итоге были получены выборки:"
   ]
  },
  {
   "cell_type": "code",
   "execution_count": 16,
   "metadata": {},
   "outputs": [
    {
     "data": {
      "text/plain": [
       "{'balance': __main__.train_data_balanced,\n",
       " 'imbalance': __main__.train_data_imbalanced,\n",
       " 'imbalance_bert': __main__.imbalance_bert,\n",
       " 'balance_bert': __main__.balance_bert}"
      ]
     },
     "execution_count": 16,
     "metadata": {},
     "output_type": "execute_result"
    }
   ],
   "source": [
    "data_dict"
   ]
  },
  {
   "cell_type": "markdown",
   "metadata": {},
   "source": [
    "Так же проверим соотношение целевого признака в несбалансированной выборке:"
   ]
  },
  {
   "cell_type": "code",
   "execution_count": 17,
   "metadata": {},
   "outputs": [
    {
     "data": {
      "text/plain": [
       "0    0.898519\n",
       "1    0.101481\n",
       "Name: toxic, dtype: float64"
      ]
     },
     "execution_count": 17,
     "metadata": {},
     "output_type": "execute_result"
    }
   ],
   "source": [
    "data_dict['imbalance'].target.value_counts(normalize=True)"
   ]
  },
  {
   "cell_type": "markdown",
   "metadata": {},
   "source": [
    "**Вывод** Были созданы сбалансированная и несбалансированная выборки для обучения моделей. Для обучения разных моделей были созданы\n",
    "- таблица tf_idf \n",
    "- таблица BERT\n",
    "- оставлены тестовые данные"
   ]
  },
  {
   "cell_type": "markdown",
   "metadata": {},
   "source": [
    "## Обучение"
   ]
  },
  {
   "cell_type": "markdown",
   "metadata": {},
   "source": [
    "**Используемые функции**"
   ]
  },
  {
   "cell_type": "code",
   "execution_count": 18,
   "metadata": {},
   "outputs": [],
   "source": [
    "def create_model(model,\n",
    "                 data_name: str,\n",
    "                 data_type: str, \n",
    "                 parametrs: dict = {},\n",
    "                 scoring_: str = 'f1') -> list: \n",
    "    #get features     \n",
    "    try:\n",
    "        if data_type == 'bert':\n",
    "            data = data_dict[f'{data_name}_bert']\n",
    "            features = data.features\n",
    "        else:\n",
    "            data = data_dict[data_name]\n",
    "            features = data.clear\n",
    "            #create Pipeline and update params\n",
    "            model = Pipeline([('preprocess', TfidfVectorizer()),\n",
    "                              ('model', model)])\n",
    "            \n",
    "            parametrs = {f'model__{key}':value for key,value in parametrs.items()}\n",
    "            \n",
    "    except:\n",
    "        print('Wrong data')\n",
    "        return ['No data']\n",
    "    \n",
    "    #use GridSearchCV\n",
    "    grid = GridSearchCV(model, parametrs, cv=3, scoring=scoring_)\n",
    "    grid.fit(features, data.target)\n",
    "    \n",
    "    return [grid.best_estimator_,\n",
    "            grid.best_params_,\n",
    "            data_name, \n",
    "            data_type, \n",
    "            round(abs(grid.best_score_),4)]\n",
    "    "
   ]
  },
  {
   "cell_type": "code",
   "execution_count": 19,
   "metadata": {},
   "outputs": [],
   "source": [
    "def cat_boost_text(data_name: str,\n",
    "                   data_type: str, \n",
    "                   parametrs: dict) -> list: \n",
    "    \n",
    "    #get features     \n",
    "    try:\n",
    "        data = data_dict[data_name]\n",
    "        features = eval(f'data.{data_type}')\n",
    "    except:\n",
    "        print('Wrong data')\n",
    "        return ['No data']\n",
    "    \n",
    "    train_pool = Pool(features, \n",
    "                      data.target, \n",
    "                      text_features=['text'],\n",
    "                      feature_names=['text'])    \n",
    "    model = CatBoostClassifier(**parametrs)\n",
    "    model.fit(train_pool)\n",
    "    return [model,\n",
    "            parametrs,\n",
    "            data_name, \n",
    "            data_type, \n",
    "            round(model.best_score_['learn']['F1'], 4)]\n",
    "    "
   ]
  },
  {
   "cell_type": "markdown",
   "metadata": {},
   "source": [
    "_____________________\n",
    "Будем использовать следующие модели:\n",
    "- LogisticRegression\n",
    "- CatBoost\n",
    "\n",
    "Для каждой из моделей зададим минимальный набор гиперпараметров, для экономии времени."
   ]
  },
  {
   "cell_type": "code",
   "execution_count": 20,
   "metadata": {},
   "outputs": [],
   "source": [
    "models = []"
   ]
  },
  {
   "cell_type": "markdown",
   "metadata": {},
   "source": [
    "____________________________\n",
    "**LogisticRegression**"
   ]
  },
  {
   "cell_type": "code",
   "execution_count": 21,
   "metadata": {},
   "outputs": [
    {
     "name": "stdout",
     "output_type": "stream",
     "text": [
      "CPU times: user 2min 7s, sys: 1min 19s, total: 3min 26s\n",
      "Wall time: 3min 27s\n"
     ]
    }
   ],
   "source": [
    "%%time\n",
    "lr_params = {'solver': ['lbfgs', 'liblinear'], \n",
    "             'class_weight': ['balanced', None], \n",
    "             'max_iter': [1000]}\n",
    "# bert imbalance\n",
    "models.append(create_model(LogisticRegression(random_state=STATE), \n",
    "                           'imbalance', 'bert', parametrs=lr_params))"
   ]
  },
  {
   "cell_type": "code",
   "execution_count": 22,
   "metadata": {},
   "outputs": [
    {
     "name": "stdout",
     "output_type": "stream",
     "text": [
      "CPU times: user 1min 28s, sys: 56.2 s, total: 2min 24s\n",
      "Wall time: 2min 25s\n"
     ]
    }
   ],
   "source": [
    "%%time\n",
    "# bert balance\n",
    "models.append(create_model(LogisticRegression(random_state=STATE), \n",
    "                           'balance', 'bert', parametrs=lr_params))"
   ]
  },
  {
   "cell_type": "code",
   "execution_count": 23,
   "metadata": {},
   "outputs": [
    {
     "name": "stdout",
     "output_type": "stream",
     "text": [
      "CPU times: user 2min 6s, sys: 2min 43s, total: 4min 50s\n",
      "Wall time: 4min 50s\n"
     ]
    }
   ],
   "source": [
    "%%time\n",
    "lr_params['C'] = [7,10]\n",
    "# tf-idf imbalance\n",
    "models.append(create_model(LogisticRegression(random_state=STATE), \n",
    "                           'imbalance', 'tf_idf', parametrs=lr_params))"
   ]
  },
  {
   "cell_type": "code",
   "execution_count": 24,
   "metadata": {},
   "outputs": [
    {
     "name": "stdout",
     "output_type": "stream",
     "text": [
      "CPU times: user 2min 29s, sys: 3min 27s, total: 5min 56s\n",
      "Wall time: 5min 57s\n"
     ]
    }
   ],
   "source": [
    "%%time\n",
    "# tf-idf balance\n",
    "models.append(create_model(LogisticRegression(random_state=STATE), \n",
    "                           'balance', 'tf_idf', parametrs=lr_params))"
   ]
  },
  {
   "cell_type": "markdown",
   "metadata": {},
   "source": [
    "**CatBoost**"
   ]
  },
  {
   "cell_type": "code",
   "execution_count": 25,
   "metadata": {},
   "outputs": [
    {
     "name": "stdout",
     "output_type": "stream",
     "text": [
      "0:\tlearn: 0.5988454\ttotal: 417ms\tremaining: 20.4s\n",
      "49:\tlearn: 0.1403987\ttotal: 11.5s\tremaining: 0us\n",
      "0:\tlearn: 0.6022384\ttotal: 334ms\tremaining: 16.4s\n",
      "49:\tlearn: 0.1421541\ttotal: 11.7s\tremaining: 0us\n",
      "0:\tlearn: 0.6025075\ttotal: 317ms\tremaining: 15.5s\n",
      "49:\tlearn: 0.1427525\ttotal: 11.3s\tremaining: 0us\n",
      "0:\tlearn: 0.5988454\ttotal: 355ms\tremaining: 35.2s\n",
      "99:\tlearn: 0.0329740\ttotal: 22s\tremaining: 0us\n",
      "0:\tlearn: 0.6022384\ttotal: 315ms\tremaining: 31.2s\n",
      "99:\tlearn: 0.0317265\ttotal: 21.6s\tremaining: 0us\n",
      "0:\tlearn: 0.6025075\ttotal: 315ms\tremaining: 31.1s\n",
      "99:\tlearn: 0.0334699\ttotal: 21.6s\tremaining: 0us\n",
      "0:\tlearn: 0.6032532\ttotal: 324ms\tremaining: 15.9s\n",
      "49:\tlearn: 0.2203952\ttotal: 11.5s\tremaining: 0us\n",
      "CPU times: user 1min 53s, sys: 3.27 s, total: 1min 56s\n",
      "Wall time: 2min 5s\n"
     ]
    }
   ],
   "source": [
    "%%time\n",
    "# bert imbalance\n",
    "cbc_params = {'learning_rate': [0.4], \n",
    "              'iterations': [50, 100],\n",
    "              'auto_class_weights': ['SqrtBalanced']\n",
    "             }\n",
    "models.append(create_model(CatBoostClassifier(random_state=STATE, verbose=100), \n",
    "                           'imbalance', 'bert', parametrs=cbc_params))"
   ]
  },
  {
   "cell_type": "code",
   "execution_count": 26,
   "metadata": {},
   "outputs": [
    {
     "name": "stdout",
     "output_type": "stream",
     "text": [
      "0:\tlearn: 0.5076289\ttotal: 326ms\tremaining: 16s\n",
      "49:\tlearn: 0.0813380\ttotal: 10.9s\tremaining: 0us\n",
      "0:\tlearn: 0.4998516\ttotal: 315ms\tremaining: 15.4s\n",
      "49:\tlearn: 0.0896868\ttotal: 11s\tremaining: 0us\n",
      "0:\tlearn: 0.4908039\ttotal: 313ms\tremaining: 15.4s\n",
      "49:\tlearn: 0.0776461\ttotal: 11s\tremaining: 0us\n",
      "0:\tlearn: 0.5076289\ttotal: 322ms\tremaining: 31.9s\n",
      "99:\tlearn: 0.0234733\ttotal: 22.3s\tremaining: 0us\n",
      "0:\tlearn: 0.4998516\ttotal: 341ms\tremaining: 33.7s\n",
      "99:\tlearn: 0.0241582\ttotal: 22.4s\tremaining: 0us\n",
      "0:\tlearn: 0.4908039\ttotal: 321ms\tremaining: 31.7s\n",
      "99:\tlearn: 0.0234062\ttotal: 21.9s\tremaining: 0us\n",
      "0:\tlearn: 0.4988684\ttotal: 377ms\tremaining: 37.3s\n",
      "99:\tlearn: 0.0433736\ttotal: 22.6s\tremaining: 0us\n",
      "CPU times: user 2min 4s, sys: 2.8 s, total: 2min 6s\n",
      "Wall time: 2min 18s\n"
     ]
    }
   ],
   "source": [
    "%%time\n",
    "# bert balance\n",
    "models.append(create_model(CatBoostClassifier(random_state=STATE, verbose=100), \n",
    "                           'balance', 'bert', parametrs=cbc_params))"
   ]
  },
  {
   "cell_type": "code",
   "execution_count": 27,
   "metadata": {},
   "outputs": [
    {
     "name": "stdout",
     "output_type": "stream",
     "text": [
      "0:\tlearn: 0.5177733\ttotal: 618ms\tremaining: 30.3s\n",
      "49:\tlearn: 0.2036826\ttotal: 22.2s\tremaining: 0us\n",
      "0:\tlearn: 0.5239004\ttotal: 631ms\tremaining: 30.9s\n",
      "49:\tlearn: 0.2087092\ttotal: 21.9s\tremaining: 0us\n",
      "0:\tlearn: 0.5343412\ttotal: 612ms\tremaining: 30s\n",
      "49:\tlearn: 0.2124470\ttotal: 22.1s\tremaining: 0us\n",
      "0:\tlearn: 0.5177733\ttotal: 625ms\tremaining: 1m 1s\n",
      "99:\tlearn: 0.1468660\ttotal: 44.5s\tremaining: 0us\n",
      "0:\tlearn: 0.5239004\ttotal: 620ms\tremaining: 1m 1s\n",
      "99:\tlearn: 0.1515197\ttotal: 44.1s\tremaining: 0us\n",
      "0:\tlearn: 0.5343412\ttotal: 606ms\tremaining: 60s\n",
      "99:\tlearn: 0.1536345\ttotal: 43.9s\tremaining: 0us\n",
      "0:\tlearn: 0.5181536\ttotal: 845ms\tremaining: 1m 23s\n",
      "99:\tlearn: 0.1680037\ttotal: 1m 1s\tremaining: 0us\n",
      "CPU times: user 4min 37s, sys: 5.75 s, total: 4min 43s\n",
      "Wall time: 5min 18s\n"
     ]
    }
   ],
   "source": [
    "%%time\n",
    "# tf-idf imbalance\n",
    "models.append(create_model(CatBoostClassifier(random_state=STATE, verbose=100), \n",
    "                           'imbalance', 'tf_idf', parametrs=cbc_params))"
   ]
  },
  {
   "cell_type": "code",
   "execution_count": 28,
   "metadata": {},
   "outputs": [
    {
     "name": "stdout",
     "output_type": "stream",
     "text": [
      "0:\tlearn: 0.5801581\ttotal: 559ms\tremaining: 27.4s\n",
      "49:\tlearn: 0.2855960\ttotal: 21.2s\tremaining: 0us\n",
      "0:\tlearn: 0.5786360\ttotal: 580ms\tremaining: 28.4s\n",
      "49:\tlearn: 0.2873224\ttotal: 21.9s\tremaining: 0us\n",
      "0:\tlearn: 0.5702654\ttotal: 600ms\tremaining: 29.4s\n",
      "49:\tlearn: 0.2799363\ttotal: 21.9s\tremaining: 0us\n",
      "0:\tlearn: 0.5801581\ttotal: 677ms\tremaining: 1m 6s\n",
      "99:\tlearn: 0.2277701\ttotal: 41.8s\tremaining: 0us\n",
      "0:\tlearn: 0.5786360\ttotal: 567ms\tremaining: 56.1s\n",
      "99:\tlearn: 0.2310582\ttotal: 41.5s\tremaining: 0us\n",
      "0:\tlearn: 0.5702654\ttotal: 615ms\tremaining: 1m\n",
      "99:\tlearn: 0.2254201\ttotal: 41.6s\tremaining: 0us\n",
      "0:\tlearn: 0.5712043\ttotal: 811ms\tremaining: 1m 20s\n",
      "99:\tlearn: 0.2368329\ttotal: 56.7s\tremaining: 0us\n",
      "CPU times: user 4min 23s, sys: 5.98 s, total: 4min 29s\n",
      "Wall time: 4min 33s\n"
     ]
    }
   ],
   "source": [
    "%%time\n",
    "# tf-idf balance\n",
    "models.append(create_model(CatBoostClassifier(random_state=STATE, verbose=100), \n",
    "                           'balance', 'tf_idf', parametrs=cbc_params))"
   ]
  },
  {
   "cell_type": "markdown",
   "metadata": {},
   "source": [
    "_________________________________\n",
    "CatBoots с текстовыми признаками"
   ]
  },
  {
   "cell_type": "code",
   "execution_count": 29,
   "metadata": {},
   "outputs": [],
   "source": [
    "cbc_text_params = {'random_state' : STATE,\n",
    "                   'iterations': 150,\n",
    "                   'auto_class_weights': 'SqrtBalanced',\n",
    "                   'learning_rate': 0.4,\n",
    "                   'eval_metric': 'F1',\n",
    "                   'verbose': 50}"
   ]
  },
  {
   "cell_type": "code",
   "execution_count": 30,
   "metadata": {},
   "outputs": [
    {
     "name": "stdout",
     "output_type": "stream",
     "text": [
      "0:\tlearn: 0.7338679\ttotal: 325ms\tremaining: 48.4s\n",
      "50:\tlearn: 0.8228270\ttotal: 17s\tremaining: 33.1s\n",
      "100:\tlearn: 0.8494484\ttotal: 33.2s\tremaining: 16.1s\n",
      "149:\tlearn: 0.8627179\ttotal: 49s\tremaining: 0us\n",
      "CPU times: user 42.1 s, sys: 9.94 s, total: 52 s\n",
      "Wall time: 52.7 s\n"
     ]
    }
   ],
   "source": [
    "%%time\n",
    "# imbalance raw\n",
    "models.append(cat_boost_text('imbalance','raw', cbc_text_params))"
   ]
  },
  {
   "cell_type": "code",
   "execution_count": 31,
   "metadata": {},
   "outputs": [
    {
     "name": "stdout",
     "output_type": "stream",
     "text": [
      "0:\tlearn: 0.8615910\ttotal: 344ms\tremaining: 51.3s\n",
      "50:\tlearn: 0.9056604\ttotal: 16.9s\tremaining: 32.8s\n",
      "100:\tlearn: 0.9099862\ttotal: 32.7s\tremaining: 15.8s\n",
      "149:\tlearn: 0.9156968\ttotal: 48.2s\tremaining: 0us\n",
      "CPU times: user 41.6 s, sys: 9.31 s, total: 50.9 s\n",
      "Wall time: 51.6 s\n"
     ]
    }
   ],
   "source": [
    "%%time\n",
    "# balance raw\n",
    "models.append(cat_boost_text('balance','raw', cbc_text_params))"
   ]
  },
  {
   "cell_type": "code",
   "execution_count": 32,
   "metadata": {},
   "outputs": [
    {
     "name": "stdout",
     "output_type": "stream",
     "text": [
      "0:\tlearn: 0.7518712\ttotal: 342ms\tremaining: 51s\n",
      "50:\tlearn: 0.8163512\ttotal: 16.2s\tremaining: 31.4s\n",
      "100:\tlearn: 0.8334645\ttotal: 32.2s\tremaining: 15.6s\n",
      "149:\tlearn: 0.8420816\ttotal: 47.8s\tremaining: 0us\n",
      "CPU times: user 40.8 s, sys: 9.36 s, total: 50.1 s\n",
      "Wall time: 50.8 s\n"
     ]
    }
   ],
   "source": [
    "%%time\n",
    "# imbalance clear\n",
    "models.append(cat_boost_text('imbalance','clear', cbc_text_params))"
   ]
  },
  {
   "cell_type": "code",
   "execution_count": 33,
   "metadata": {},
   "outputs": [
    {
     "name": "stdout",
     "output_type": "stream",
     "text": [
      "0:\tlearn: 0.8587588\ttotal: 371ms\tremaining: 55.2s\n",
      "50:\tlearn: 0.8985223\ttotal: 17.3s\tremaining: 33.7s\n",
      "100:\tlearn: 0.9033203\ttotal: 33.4s\tremaining: 16.2s\n",
      "149:\tlearn: 0.9062864\ttotal: 48.8s\tremaining: 0us\n",
      "CPU times: user 41.3 s, sys: 9.64 s, total: 51 s\n",
      "Wall time: 51.6 s\n"
     ]
    }
   ],
   "source": [
    "%%time\n",
    "# balance clear\n",
    "models.append(cat_boost_text('balance','clear', cbc_text_params))"
   ]
  },
  {
   "cell_type": "markdown",
   "metadata": {},
   "source": [
    "**Вывод**"
   ]
  },
  {
   "cell_type": "markdown",
   "metadata": {},
   "source": [
    "Были обучены несколько моделей с разными наборами данных. "
   ]
  },
  {
   "cell_type": "code",
   "execution_count": 34,
   "metadata": {},
   "outputs": [
    {
     "data": {
      "text/html": [
       "<div>\n",
       "<style scoped>\n",
       "    .dataframe tbody tr th:only-of-type {\n",
       "        vertical-align: middle;\n",
       "    }\n",
       "\n",
       "    .dataframe tbody tr th {\n",
       "        vertical-align: top;\n",
       "    }\n",
       "\n",
       "    .dataframe thead th {\n",
       "        text-align: right;\n",
       "    }\n",
       "</style>\n",
       "<table border=\"1\" class=\"dataframe\">\n",
       "  <thead>\n",
       "    <tr style=\"text-align: right;\">\n",
       "      <th></th>\n",
       "      <th>Model</th>\n",
       "      <th>Hyperparams</th>\n",
       "      <th>Data Name</th>\n",
       "      <th>Data Type</th>\n",
       "      <th>F1</th>\n",
       "    </tr>\n",
       "  </thead>\n",
       "  <tbody>\n",
       "    <tr>\n",
       "      <th>0</th>\n",
       "      <td>LogisticRegression(class_weight='balanced', ma...</td>\n",
       "      <td>{'class_weight': 'balanced', 'max_iter': 1000,...</td>\n",
       "      <td>imbalance</td>\n",
       "      <td>bert</td>\n",
       "      <td>0.1655</td>\n",
       "    </tr>\n",
       "    <tr>\n",
       "      <th>1</th>\n",
       "      <td>LogisticRegression(max_iter=1000, random_state...</td>\n",
       "      <td>{'class_weight': None, 'max_iter': 1000, 'solv...</td>\n",
       "      <td>balance</td>\n",
       "      <td>bert</td>\n",
       "      <td>0.8929</td>\n",
       "    </tr>\n",
       "    <tr>\n",
       "      <th>2</th>\n",
       "      <td>(TfidfVectorizer(), LogisticRegression(C=7, cl...</td>\n",
       "      <td>{'model__C': 7, 'model__class_weight': 'balanc...</td>\n",
       "      <td>imbalance</td>\n",
       "      <td>tf_idf</td>\n",
       "      <td>0.7356</td>\n",
       "    </tr>\n",
       "    <tr>\n",
       "      <th>3</th>\n",
       "      <td>(TfidfVectorizer(), LogisticRegression(C=7, cl...</td>\n",
       "      <td>{'model__C': 7, 'model__class_weight': 'balanc...</td>\n",
       "      <td>balance</td>\n",
       "      <td>tf_idf</td>\n",
       "      <td>0.8945</td>\n",
       "    </tr>\n",
       "    <tr>\n",
       "      <th>4</th>\n",
       "      <td>&lt;catboost.core.CatBoostClassifier object at 0x...</td>\n",
       "      <td>{'auto_class_weights': 'SqrtBalanced', 'iterat...</td>\n",
       "      <td>imbalance</td>\n",
       "      <td>bert</td>\n",
       "      <td>0.0316</td>\n",
       "    </tr>\n",
       "    <tr>\n",
       "      <th>5</th>\n",
       "      <td>&lt;catboost.core.CatBoostClassifier object at 0x...</td>\n",
       "      <td>{'auto_class_weights': 'SqrtBalanced', 'iterat...</td>\n",
       "      <td>balance</td>\n",
       "      <td>bert</td>\n",
       "      <td>0.8699</td>\n",
       "    </tr>\n",
       "    <tr>\n",
       "      <th>6</th>\n",
       "      <td>(TfidfVectorizer(), &lt;catboost.core.CatBoostCla...</td>\n",
       "      <td>{'model__auto_class_weights': 'SqrtBalanced', ...</td>\n",
       "      <td>imbalance</td>\n",
       "      <td>tf_idf</td>\n",
       "      <td>0.7256</td>\n",
       "    </tr>\n",
       "    <tr>\n",
       "      <th>7</th>\n",
       "      <td>(TfidfVectorizer(), &lt;catboost.core.CatBoostCla...</td>\n",
       "      <td>{'model__auto_class_weights': 'SqrtBalanced', ...</td>\n",
       "      <td>balance</td>\n",
       "      <td>tf_idf</td>\n",
       "      <td>0.8815</td>\n",
       "    </tr>\n",
       "    <tr>\n",
       "      <th>8</th>\n",
       "      <td>&lt;catboost.core.CatBoostClassifier object at 0x...</td>\n",
       "      <td>{'random_state': 1114, 'iterations': 150, 'aut...</td>\n",
       "      <td>imbalance</td>\n",
       "      <td>raw</td>\n",
       "      <td>0.8627</td>\n",
       "    </tr>\n",
       "    <tr>\n",
       "      <th>9</th>\n",
       "      <td>&lt;catboost.core.CatBoostClassifier object at 0x...</td>\n",
       "      <td>{'random_state': 1114, 'iterations': 150, 'aut...</td>\n",
       "      <td>balance</td>\n",
       "      <td>raw</td>\n",
       "      <td>0.9157</td>\n",
       "    </tr>\n",
       "    <tr>\n",
       "      <th>10</th>\n",
       "      <td>&lt;catboost.core.CatBoostClassifier object at 0x...</td>\n",
       "      <td>{'random_state': 1114, 'iterations': 150, 'aut...</td>\n",
       "      <td>imbalance</td>\n",
       "      <td>clear</td>\n",
       "      <td>0.8428</td>\n",
       "    </tr>\n",
       "    <tr>\n",
       "      <th>11</th>\n",
       "      <td>&lt;catboost.core.CatBoostClassifier object at 0x...</td>\n",
       "      <td>{'random_state': 1114, 'iterations': 150, 'aut...</td>\n",
       "      <td>balance</td>\n",
       "      <td>clear</td>\n",
       "      <td>0.9064</td>\n",
       "    </tr>\n",
       "  </tbody>\n",
       "</table>\n",
       "</div>"
      ],
      "text/plain": [
       "                                                Model  \\\n",
       "0   LogisticRegression(class_weight='balanced', ma...   \n",
       "1   LogisticRegression(max_iter=1000, random_state...   \n",
       "2   (TfidfVectorizer(), LogisticRegression(C=7, cl...   \n",
       "3   (TfidfVectorizer(), LogisticRegression(C=7, cl...   \n",
       "4   <catboost.core.CatBoostClassifier object at 0x...   \n",
       "5   <catboost.core.CatBoostClassifier object at 0x...   \n",
       "6   (TfidfVectorizer(), <catboost.core.CatBoostCla...   \n",
       "7   (TfidfVectorizer(), <catboost.core.CatBoostCla...   \n",
       "8   <catboost.core.CatBoostClassifier object at 0x...   \n",
       "9   <catboost.core.CatBoostClassifier object at 0x...   \n",
       "10  <catboost.core.CatBoostClassifier object at 0x...   \n",
       "11  <catboost.core.CatBoostClassifier object at 0x...   \n",
       "\n",
       "                                          Hyperparams  Data Name Data Type  \\\n",
       "0   {'class_weight': 'balanced', 'max_iter': 1000,...  imbalance      bert   \n",
       "1   {'class_weight': None, 'max_iter': 1000, 'solv...    balance      bert   \n",
       "2   {'model__C': 7, 'model__class_weight': 'balanc...  imbalance    tf_idf   \n",
       "3   {'model__C': 7, 'model__class_weight': 'balanc...    balance    tf_idf   \n",
       "4   {'auto_class_weights': 'SqrtBalanced', 'iterat...  imbalance      bert   \n",
       "5   {'auto_class_weights': 'SqrtBalanced', 'iterat...    balance      bert   \n",
       "6   {'model__auto_class_weights': 'SqrtBalanced', ...  imbalance    tf_idf   \n",
       "7   {'model__auto_class_weights': 'SqrtBalanced', ...    balance    tf_idf   \n",
       "8   {'random_state': 1114, 'iterations': 150, 'aut...  imbalance       raw   \n",
       "9   {'random_state': 1114, 'iterations': 150, 'aut...    balance       raw   \n",
       "10  {'random_state': 1114, 'iterations': 150, 'aut...  imbalance     clear   \n",
       "11  {'random_state': 1114, 'iterations': 150, 'aut...    balance     clear   \n",
       "\n",
       "        F1  \n",
       "0   0.1655  \n",
       "1   0.8929  \n",
       "2   0.7356  \n",
       "3   0.8945  \n",
       "4   0.0316  \n",
       "5   0.8699  \n",
       "6   0.7256  \n",
       "7   0.8815  \n",
       "8   0.8627  \n",
       "9   0.9157  \n",
       "10  0.8428  \n",
       "11  0.9064  "
      ]
     },
     "execution_count": 34,
     "metadata": {},
     "output_type": "execute_result"
    }
   ],
   "source": [
    "result = pd.DataFrame(models, columns=['Model', 'Hyperparams', 'Data Name', 'Data Type', 'F1'])\n",
    "result"
   ]
  },
  {
   "cell_type": "markdown",
   "metadata": {},
   "source": [
    "Можно сделать выводы:\n",
    "- несбалансированная BERT показывает совсем слабые результаты\n",
    "- так же для всех несбалансированных выборок результаты хуже, чем сбалансированные, на тех же моделях\n",
    "- все сбалансированные модели преодолели необходимый порог в F1 > 0.75 для обучающей выборки\n",
    "_____________________\n",
    "Для выбора модели будем учитывать:\n",
    "- предварительная обработка данных (сложность, время)\n",
    "- используемая выборка (в исследованиях в сети часто отмечается, что модели, обученные на сбалансированных выборках показывают хороший результат на таких же сбалансированных выборках, на несбалансированных результат значительно хуже и требуется дополнительная калибровка модели)\n",
    "- минимальный порог F1\n",
    "\n",
    "\n",
    "Лучший результат показали модели на основе CatBoost c текстовым признаком. Так же только они для несбалансированной выборки преодолели порог в F1 > 0.75\n",
    "\n",
    "Таким образом, для тестирования берем модель CatBoost, обученную на тексте без лемматизации и несбалансированной выборке.\n"
   ]
  },
  {
   "cell_type": "markdown",
   "metadata": {},
   "source": [
    "## Тестирование модели\n"
   ]
  },
  {
   "cell_type": "markdown",
   "metadata": {},
   "source": [
    "Проверим модель на тестовых данных:"
   ]
  },
  {
   "cell_type": "code",
   "execution_count": 35,
   "metadata": {},
   "outputs": [],
   "source": [
    "test_data = test_data.reset_index(drop=True)"
   ]
  },
  {
   "cell_type": "code",
   "execution_count": 36,
   "metadata": {},
   "outputs": [],
   "source": [
    "final_model = models[8][0]\n",
    "pred = final_model.predict(Pool(test_data['text'], text_features=[0]))"
   ]
  },
  {
   "cell_type": "code",
   "execution_count": 37,
   "metadata": {},
   "outputs": [
    {
     "data": {
      "text/plain": [
       "0.7521877486077964"
      ]
     },
     "execution_count": 37,
     "metadata": {},
     "output_type": "execute_result"
    }
   ],
   "source": [
    "f1_score(test_data['toxic'], pred)"
   ]
  },
  {
   "cell_type": "markdown",
   "metadata": {},
   "source": [
    "**Проверка на адекватность** "
   ]
  },
  {
   "cell_type": "code",
   "execution_count": 38,
   "metadata": {},
   "outputs": [],
   "source": [
    "dummy_clf = DummyClassifier(strategy=\"stratified\", random_state=STATE)"
   ]
  },
  {
   "cell_type": "code",
   "execution_count": 39,
   "metadata": {},
   "outputs": [],
   "source": [
    "dummy_clf.fit(data_dict['balance'].raw, data_dict['balance'].target)\n",
    "dummy_pred = dummy_clf.predict(test_data['text'])"
   ]
  },
  {
   "cell_type": "code",
   "execution_count": 40,
   "metadata": {},
   "outputs": [
    {
     "data": {
      "text/plain": [
       "0.1754731583761345"
      ]
     },
     "execution_count": 40,
     "metadata": {},
     "output_type": "execute_result"
    }
   ],
   "source": [
    "f1_score(test_data['toxic'], dummy_pred)"
   ]
  },
  {
   "cell_type": "markdown",
   "metadata": {},
   "source": [
    "**Вывод** Выбранная модель прошла проверку на адекватность и метрика F1 на тестовой выборке более 0.75."
   ]
  },
  {
   "cell_type": "markdown",
   "metadata": {},
   "source": [
    "## Выводы"
   ]
  },
  {
   "cell_type": "markdown",
   "metadata": {},
   "source": [
    "1. Загружены и изучены данные, обнаружен дисбаланс целевого признака.\n",
    "\n",
    "\n",
    "2. Произведена первичная обработка текста (удаление \"лишних\" символов и пробелов, приведение к нижнему регистру), после чего произведена лемматизация и удаление стоп-слов.\n",
    "\n",
    "\n",
    "3. Сформированы признаки BERT и tf-idf.\n",
    "\n",
    "\n",
    "4. Из данных сформированы сбалансированная и несбалансированная выборки\n",
    "\n",
    "\n",
    "5. Обучены модели\n",
    "    - LogisticRegression\n",
    "    - CatBoost\n",
    "        - на подготовленных признаках\n",
    "        - на тексте\n"
   ]
  },
  {
   "cell_type": "markdown",
   "metadata": {},
   "source": [
    "Была выбрана модель CatBoost, обученная на тексте без лемматизации и несбалансированной выборке, `F1` на тренировочной **0.8627**.\n",
    "\n",
    "На тестовой выборке модель показала результат в **0.752** => цель достигнута.\n",
    "\n",
    "\n",
    "Таким образом, можно рекомендовать модель для внедрения.\n",
    "_____________________________________"
   ]
  }
 ],
 "metadata": {
  "ExecuteTimeLog": [
   {
    "duration": 548,
    "start_time": "2022-12-10T19:48:25.628Z"
   },
   {
    "duration": 4551,
    "start_time": "2022-12-10T19:48:33.024Z"
   },
   {
    "duration": 1130,
    "start_time": "2022-12-10T19:48:38.712Z"
   },
   {
    "duration": 961,
    "start_time": "2022-12-10T19:49:06.133Z"
   },
   {
    "duration": 6,
    "start_time": "2022-12-10T19:49:24.775Z"
   },
   {
    "duration": 964,
    "start_time": "2022-12-10T19:49:38.917Z"
   },
   {
    "duration": 1112,
    "start_time": "2022-12-10T19:53:23.756Z"
   },
   {
    "duration": 20,
    "start_time": "2022-12-10T19:53:35.015Z"
   },
   {
    "duration": 26,
    "start_time": "2022-12-10T19:53:39.893Z"
   },
   {
    "duration": 737,
    "start_time": "2022-12-10T19:53:56.885Z"
   },
   {
    "duration": 210,
    "start_time": "2022-12-10T19:54:11.966Z"
   },
   {
    "duration": 182,
    "start_time": "2022-12-10T19:55:45.213Z"
   },
   {
    "duration": 6,
    "start_time": "2022-12-10T19:55:50.284Z"
   },
   {
    "duration": 27,
    "start_time": "2022-12-10T19:56:07.740Z"
   },
   {
    "duration": 35,
    "start_time": "2022-12-10T19:56:42.584Z"
   },
   {
    "duration": 15,
    "start_time": "2022-12-10T19:56:48.942Z"
   },
   {
    "duration": 4289,
    "start_time": "2022-12-10T19:58:47.632Z"
   },
   {
    "duration": 20,
    "start_time": "2022-12-10T19:58:57.646Z"
   },
   {
    "duration": 4985,
    "start_time": "2022-12-10T19:59:17.333Z"
   },
   {
    "duration": 4897,
    "start_time": "2022-12-10T19:59:38.716Z"
   },
   {
    "duration": 12,
    "start_time": "2022-12-10T19:59:45.669Z"
   },
   {
    "duration": 2482,
    "start_time": "2022-12-10T20:00:45.608Z"
   },
   {
    "duration": 12,
    "start_time": "2022-12-10T20:01:01.376Z"
   },
   {
    "duration": 2090,
    "start_time": "2022-12-10T20:01:55.667Z"
   },
   {
    "duration": 5,
    "start_time": "2022-12-10T20:02:27.107Z"
   },
   {
    "duration": 2114,
    "start_time": "2022-12-10T20:10:05.117Z"
   },
   {
    "duration": 4,
    "start_time": "2022-12-10T20:10:27.062Z"
   },
   {
    "duration": 1624,
    "start_time": "2022-12-10T20:10:42.786Z"
   },
   {
    "duration": 11,
    "start_time": "2022-12-10T20:10:54.158Z"
   },
   {
    "duration": 4,
    "start_time": "2022-12-10T20:11:08.539Z"
   },
   {
    "duration": 12,
    "start_time": "2022-12-10T20:12:01.269Z"
   },
   {
    "duration": 5,
    "start_time": "2022-12-10T20:12:04.919Z"
   },
   {
    "duration": 83,
    "start_time": "2022-12-10T20:13:29.310Z"
   },
   {
    "duration": 699,
    "start_time": "2022-12-10T20:13:51.203Z"
   },
   {
    "duration": 2062,
    "start_time": "2022-12-10T20:14:18.665Z"
   },
   {
    "duration": 4163,
    "start_time": "2022-12-10T20:14:20.730Z"
   },
   {
    "duration": 15,
    "start_time": "2022-12-10T20:14:24.894Z"
   },
   {
    "duration": 6893,
    "start_time": "2022-12-10T20:14:24.911Z"
   },
   {
    "duration": 142,
    "start_time": "2022-12-10T20:17:03.217Z"
   },
   {
    "duration": 2260,
    "start_time": "2022-12-10T20:17:07.969Z"
   },
   {
    "duration": 15,
    "start_time": "2022-12-10T20:17:12.939Z"
   },
   {
    "duration": 142,
    "start_time": "2022-12-10T20:17:29.963Z"
   },
   {
    "duration": 1655,
    "start_time": "2022-12-10T20:17:31.981Z"
   },
   {
    "duration": 14,
    "start_time": "2022-12-10T20:17:36.780Z"
   },
   {
    "duration": 3,
    "start_time": "2022-12-10T20:20:03.491Z"
   },
   {
    "duration": 59,
    "start_time": "2022-12-10T20:20:07.373Z"
   },
   {
    "duration": 9,
    "start_time": "2022-12-10T20:20:10.411Z"
   },
   {
    "duration": 3919,
    "start_time": "2022-12-10T20:25:16.961Z"
   },
   {
    "duration": 368,
    "start_time": "2022-12-10T20:25:39.446Z"
   },
   {
    "duration": 15351,
    "start_time": "2022-12-10T20:26:09.048Z"
   },
   {
    "duration": 110,
    "start_time": "2022-12-10T20:26:24.402Z"
   },
   {
    "duration": 106,
    "start_time": "2022-12-10T20:26:30.032Z"
   },
   {
    "duration": 756,
    "start_time": "2022-12-10T20:27:36.891Z"
   },
   {
    "duration": 3667,
    "start_time": "2022-12-10T20:31:00.098Z"
   },
   {
    "duration": 31,
    "start_time": "2022-12-10T20:32:14.127Z"
   },
   {
    "duration": 4,
    "start_time": "2022-12-10T20:32:23.912Z"
   },
   {
    "duration": 21,
    "start_time": "2022-12-10T20:32:41.388Z"
   },
   {
    "duration": 19,
    "start_time": "2022-12-10T20:32:57.518Z"
   },
   {
    "duration": 76,
    "start_time": "2022-12-10T20:33:05.903Z"
   },
   {
    "duration": 497,
    "start_time": "2022-12-10T20:33:12.160Z"
   },
   {
    "duration": 163449,
    "start_time": "2022-12-10T20:34:31.491Z"
   },
   {
    "duration": 3,
    "start_time": "2022-12-10T20:37:26.704Z"
   },
   {
    "duration": 0,
    "start_time": "2022-12-10T20:37:46.343Z"
   },
   {
    "duration": 122,
    "start_time": "2022-12-10T20:37:51.376Z"
   },
   {
    "duration": 413,
    "start_time": "2022-12-10T20:37:58.787Z"
   },
   {
    "duration": 4,
    "start_time": "2022-12-10T20:38:06.396Z"
   },
   {
    "duration": 384,
    "start_time": "2022-12-10T20:38:08.249Z"
   },
   {
    "duration": 135,
    "start_time": "2022-12-10T20:38:16.932Z"
   },
   {
    "duration": 21,
    "start_time": "2022-12-10T20:38:37.538Z"
   },
   {
    "duration": 4,
    "start_time": "2022-12-10T20:38:42.595Z"
   },
   {
    "duration": 21,
    "start_time": "2022-12-10T20:38:52.895Z"
   },
   {
    "duration": 125,
    "start_time": "2022-12-10T20:39:07.264Z"
   },
   {
    "duration": 14,
    "start_time": "2022-12-10T20:39:10.045Z"
   },
   {
    "duration": 3,
    "start_time": "2022-12-10T20:39:48.166Z"
   },
   {
    "duration": 18,
    "start_time": "2022-12-10T20:39:55.169Z"
   },
   {
    "duration": 31,
    "start_time": "2022-12-10T20:40:34.727Z"
   },
   {
    "duration": 131,
    "start_time": "2022-12-10T20:40:48.678Z"
   },
   {
    "duration": 7,
    "start_time": "2022-12-10T20:40:53.430Z"
   },
   {
    "duration": 133,
    "start_time": "2022-12-10T20:41:46.537Z"
   },
   {
    "duration": 604,
    "start_time": "2022-12-10T20:43:48.976Z"
   },
   {
    "duration": 90,
    "start_time": "2022-12-10T20:44:00.141Z"
   },
   {
    "duration": 6127,
    "start_time": "2022-12-10T20:44:02.677Z"
   },
   {
    "duration": 564,
    "start_time": "2022-12-10T20:44:47.237Z"
   },
   {
    "duration": 89521,
    "start_time": "2022-12-10T20:44:49.089Z"
   },
   {
    "duration": 558,
    "start_time": "2022-12-10T20:47:44.002Z"
   },
   {
    "duration": 6107,
    "start_time": "2022-12-10T20:47:45.239Z"
   },
   {
    "duration": 592,
    "start_time": "2022-12-10T20:47:51.355Z"
   },
   {
    "duration": 1124,
    "start_time": "2022-12-10T20:48:08.720Z"
   },
   {
    "duration": 33061,
    "start_time": "2022-12-10T20:48:11.072Z"
   },
   {
    "duration": 561,
    "start_time": "2022-12-10T20:49:43.283Z"
   },
   {
    "duration": 13060,
    "start_time": "2022-12-10T20:49:45.820Z"
   },
   {
    "duration": 539,
    "start_time": "2022-12-10T20:51:06.868Z"
   },
   {
    "duration": 84172,
    "start_time": "2022-12-10T20:52:48.823Z"
   },
   {
    "duration": 5401,
    "start_time": "2022-12-10T20:55:55.669Z"
   },
   {
    "duration": 990,
    "start_time": "2022-12-10T20:56:01.074Z"
   },
   {
    "duration": 976,
    "start_time": "2022-12-10T20:56:04.266Z"
   },
   {
    "duration": 14,
    "start_time": "2022-12-10T20:56:07.113Z"
   },
   {
    "duration": 7009,
    "start_time": "2022-12-10T20:56:08.529Z"
   },
   {
    "duration": 58,
    "start_time": "2022-12-10T20:56:16.712Z"
   },
   {
    "duration": 90,
    "start_time": "2022-12-10T20:56:23.316Z"
   },
   {
    "duration": 707,
    "start_time": "2022-12-10T20:56:25.637Z"
   },
   {
    "duration": 99305,
    "start_time": "2022-12-10T20:56:27.532Z"
   },
   {
    "duration": 89896,
    "start_time": "2022-12-10T21:03:06.473Z"
   },
   {
    "duration": 58759,
    "start_time": "2022-12-10T21:15:46.355Z"
   },
   {
    "duration": 169,
    "start_time": "2022-12-10T21:17:18.985Z"
   },
   {
    "duration": 6,
    "start_time": "2022-12-10T21:17:25.670Z"
   },
   {
    "duration": 129,
    "start_time": "2022-12-10T21:17:30.286Z"
   },
   {
    "duration": 6,
    "start_time": "2022-12-10T21:17:32.227Z"
   },
   {
    "duration": 147,
    "start_time": "2022-12-10T21:18:00.597Z"
   },
   {
    "duration": 6,
    "start_time": "2022-12-10T21:18:02.675Z"
   },
   {
    "duration": 12,
    "start_time": "2022-12-10T21:18:51.872Z"
   },
   {
    "duration": 4923,
    "start_time": "2022-12-10T21:18:55.275Z"
   },
   {
    "duration": 4848,
    "start_time": "2022-12-10T21:19:03.034Z"
   },
   {
    "duration": 12,
    "start_time": "2022-12-10T21:19:08.820Z"
   },
   {
    "duration": 8,
    "start_time": "2022-12-10T21:19:27.952Z"
   },
   {
    "duration": 10,
    "start_time": "2022-12-10T21:19:38.608Z"
   },
   {
    "duration": 5,
    "start_time": "2022-12-10T21:19:58.570Z"
   },
   {
    "duration": 171,
    "start_time": "2022-12-10T21:20:00.761Z"
   },
   {
    "duration": 5,
    "start_time": "2022-12-10T21:20:02.218Z"
   },
   {
    "duration": 128,
    "start_time": "2022-12-10T21:20:33.331Z"
   },
   {
    "duration": 5,
    "start_time": "2022-12-10T21:20:35.635Z"
   },
   {
    "duration": 127,
    "start_time": "2022-12-10T21:20:40.326Z"
   },
   {
    "duration": 5,
    "start_time": "2022-12-10T21:20:42.615Z"
   },
   {
    "duration": 8,
    "start_time": "2022-12-10T21:20:56.460Z"
   },
   {
    "duration": 8,
    "start_time": "2022-12-10T21:21:34.195Z"
   },
   {
    "duration": 2611039,
    "start_time": "2022-12-10T21:22:17.763Z"
   },
   {
    "duration": 4,
    "start_time": "2022-12-10T22:05:48.804Z"
   },
   {
    "duration": 20,
    "start_time": "2022-12-10T22:06:10.489Z"
   },
   {
    "duration": 2477,
    "start_time": "2022-12-10T22:06:34.012Z"
   },
   {
    "duration": 6,
    "start_time": "2022-12-10T22:07:04.414Z"
   },
   {
    "duration": 627,
    "start_time": "2022-12-10T22:10:33.471Z"
   },
   {
    "duration": 5,
    "start_time": "2022-12-10T22:12:56.170Z"
   },
   {
    "duration": 4608,
    "start_time": "2022-12-10T22:13:02.442Z"
   },
   {
    "duration": 3634,
    "start_time": "2022-12-11T09:11:30.694Z"
   },
   {
    "duration": 1239,
    "start_time": "2022-12-11T09:11:46.940Z"
   },
   {
    "duration": 858,
    "start_time": "2022-12-11T09:11:59.145Z"
   },
   {
    "duration": 5456,
    "start_time": "2022-12-11T09:12:10.247Z"
   },
   {
    "duration": 7,
    "start_time": "2022-12-11T09:12:23.982Z"
   },
   {
    "duration": 7,
    "start_time": "2022-12-11T09:12:32.130Z"
   },
   {
    "duration": 705,
    "start_time": "2022-12-11T09:12:42.296Z"
   },
   {
    "duration": 747,
    "start_time": "2022-12-11T09:13:05.665Z"
   },
   {
    "duration": 2,
    "start_time": "2022-12-11T10:17:52.042Z"
   },
   {
    "duration": 856,
    "start_time": "2022-12-11T10:17:52.816Z"
   },
   {
    "duration": 5922,
    "start_time": "2022-12-11T10:17:56.104Z"
   },
   {
    "duration": 777,
    "start_time": "2022-12-11T10:18:07.473Z"
   },
   {
    "duration": 882,
    "start_time": "2022-12-11T10:18:35.864Z"
   },
   {
    "duration": 861,
    "start_time": "2022-12-11T10:18:47.652Z"
   },
   {
    "duration": 677,
    "start_time": "2022-12-11T10:19:02.732Z"
   },
   {
    "duration": 639,
    "start_time": "2022-12-11T10:19:19.033Z"
   },
   {
    "duration": 3401,
    "start_time": "2022-12-11T12:27:03.041Z"
   },
   {
    "duration": 1040,
    "start_time": "2022-12-11T12:27:06.444Z"
   },
   {
    "duration": 4890,
    "start_time": "2022-12-11T12:27:07.485Z"
   },
   {
    "duration": 6,
    "start_time": "2022-12-11T12:27:12.377Z"
   },
   {
    "duration": 656,
    "start_time": "2022-12-11T12:27:12.385Z"
   },
   {
    "duration": 2,
    "start_time": "2022-12-11T12:28:38.940Z"
   },
   {
    "duration": 41,
    "start_time": "2022-12-11T12:29:31.092Z"
   },
   {
    "duration": 814,
    "start_time": "2022-12-11T12:32:36.491Z"
   },
   {
    "duration": 6,
    "start_time": "2022-12-11T12:32:54.294Z"
   },
   {
    "duration": 3,
    "start_time": "2022-12-11T12:33:04.090Z"
   },
   {
    "duration": 9,
    "start_time": "2022-12-11T12:33:05.414Z"
   },
   {
    "duration": 136,
    "start_time": "2022-12-11T12:33:07.160Z"
   },
   {
    "duration": 129,
    "start_time": "2022-12-11T12:34:34.481Z"
   },
   {
    "duration": 194,
    "start_time": "2022-12-11T12:34:52.867Z"
   },
   {
    "duration": 2,
    "start_time": "2022-12-11T12:35:31.188Z"
   },
   {
    "duration": 378,
    "start_time": "2022-12-11T12:36:01.618Z"
   },
   {
    "duration": 3,
    "start_time": "2022-12-11T12:36:22.915Z"
   },
   {
    "duration": 18,
    "start_time": "2022-12-11T12:36:24.568Z"
   },
   {
    "duration": 3,
    "start_time": "2022-12-11T12:36:34.554Z"
   },
   {
    "duration": 663,
    "start_time": "2022-12-11T12:36:35.698Z"
   },
   {
    "duration": 3,
    "start_time": "2022-12-11T12:36:43.356Z"
   },
   {
    "duration": 31211,
    "start_time": "2022-12-11T12:36:44.463Z"
   },
   {
    "duration": 2,
    "start_time": "2022-12-11T12:37:48.420Z"
   },
   {
    "duration": 2,
    "start_time": "2022-12-11T12:37:52.702Z"
   },
   {
    "duration": 12968,
    "start_time": "2022-12-11T12:37:54.494Z"
   },
   {
    "duration": 2,
    "start_time": "2022-12-11T12:38:13.286Z"
   },
   {
    "duration": 127719,
    "start_time": "2022-12-11T12:38:14.255Z"
   },
   {
    "duration": 23,
    "start_time": "2022-12-11T12:56:41.480Z"
   },
   {
    "duration": 3,
    "start_time": "2022-12-11T12:56:46.410Z"
   },
   {
    "duration": 11,
    "start_time": "2022-12-11T12:59:51.464Z"
   },
   {
    "duration": 14,
    "start_time": "2022-12-11T12:59:58.563Z"
   },
   {
    "duration": 31,
    "start_time": "2022-12-11T13:00:11.538Z"
   },
   {
    "duration": 57,
    "start_time": "2022-12-11T13:00:28.885Z"
   },
   {
    "duration": 18,
    "start_time": "2022-12-11T13:00:45.140Z"
   },
   {
    "duration": 16,
    "start_time": "2022-12-11T13:00:49.322Z"
   },
   {
    "duration": 3,
    "start_time": "2022-12-11T13:01:29.314Z"
   },
   {
    "duration": 4,
    "start_time": "2022-12-11T13:01:37.622Z"
   },
   {
    "duration": 10,
    "start_time": "2022-12-11T13:01:43.295Z"
   },
   {
    "duration": 705,
    "start_time": "2022-12-11T13:03:11.487Z"
   },
   {
    "duration": 7,
    "start_time": "2022-12-11T13:03:18.252Z"
   },
   {
    "duration": 6,
    "start_time": "2022-12-11T13:03:23.975Z"
   },
   {
    "duration": 3,
    "start_time": "2022-12-11T13:03:33.094Z"
   },
   {
    "duration": 2,
    "start_time": "2022-12-11T13:03:34.380Z"
   },
   {
    "duration": 713,
    "start_time": "2022-12-11T13:03:35.029Z"
   },
   {
    "duration": 3,
    "start_time": "2022-12-11T13:03:38.542Z"
   },
   {
    "duration": 5026,
    "start_time": "2022-12-11T13:03:39.284Z"
   },
   {
    "duration": 7,
    "start_time": "2022-12-11T13:03:44.311Z"
   },
   {
    "duration": 677,
    "start_time": "2022-12-11T13:03:48.773Z"
   },
   {
    "duration": 15,
    "start_time": "2022-12-11T13:06:25.976Z"
   },
   {
    "duration": 3367,
    "start_time": "2022-12-11T13:09:30.907Z"
   },
   {
    "duration": 3,
    "start_time": "2022-12-11T13:09:34.276Z"
   },
   {
    "duration": 1058,
    "start_time": "2022-12-11T13:09:34.280Z"
   },
   {
    "duration": 3,
    "start_time": "2022-12-11T13:09:35.340Z"
   },
   {
    "duration": 5361,
    "start_time": "2022-12-11T13:09:35.344Z"
   },
   {
    "duration": 3136,
    "start_time": "2022-12-11T13:09:40.707Z"
   },
   {
    "duration": 7,
    "start_time": "2022-12-11T13:09:43.845Z"
   },
   {
    "duration": 511,
    "start_time": "2022-12-11T13:09:43.854Z"
   },
   {
    "duration": 3,
    "start_time": "2022-12-11T13:09:44.366Z"
   },
   {
    "duration": 27,
    "start_time": "2022-12-11T13:09:44.371Z"
   },
   {
    "duration": 188,
    "start_time": "2022-12-11T13:09:44.400Z"
   },
   {
    "duration": 8,
    "start_time": "2022-12-11T13:09:44.589Z"
   },
   {
    "duration": 18426,
    "start_time": "2022-12-11T13:09:44.598Z"
   },
   {
    "duration": 6,
    "start_time": "2022-12-11T13:11:09.206Z"
   },
   {
    "duration": 72,
    "start_time": "2022-12-11T13:11:20.499Z"
   },
   {
    "duration": 71,
    "start_time": "2022-12-11T13:11:24.019Z"
   },
   {
    "duration": 645,
    "start_time": "2022-12-11T13:17:25.103Z"
   },
   {
    "duration": 35,
    "start_time": "2022-12-11T13:18:00.422Z"
   },
   {
    "duration": 25,
    "start_time": "2022-12-11T13:18:23.192Z"
   },
   {
    "duration": 7730,
    "start_time": "2022-12-11T13:19:54.101Z"
   },
   {
    "duration": 7509,
    "start_time": "2022-12-11T13:20:04.897Z"
   },
   {
    "duration": 3,
    "start_time": "2022-12-11T13:20:22.352Z"
   },
   {
    "duration": 88,
    "start_time": "2022-12-11T13:28:01.172Z"
   },
   {
    "duration": 3382,
    "start_time": "2022-12-11T13:28:04.238Z"
   },
   {
    "duration": 3,
    "start_time": "2022-12-11T13:28:07.622Z"
   },
   {
    "duration": 1101,
    "start_time": "2022-12-11T13:28:07.627Z"
   },
   {
    "duration": 2,
    "start_time": "2022-12-11T13:28:08.731Z"
   },
   {
    "duration": 256,
    "start_time": "2022-12-11T13:28:11.775Z"
   },
   {
    "duration": 5045,
    "start_time": "2022-12-11T13:28:14.635Z"
   },
   {
    "duration": 7,
    "start_time": "2022-12-11T13:28:19.683Z"
   },
   {
    "duration": 2,
    "start_time": "2022-12-11T13:32:30.699Z"
   },
   {
    "duration": 285,
    "start_time": "2022-12-11T13:35:09.852Z"
   },
   {
    "duration": 565,
    "start_time": "2022-12-11T13:35:15.287Z"
   },
   {
    "duration": 4,
    "start_time": "2022-12-11T13:35:54.020Z"
   },
   {
    "duration": 14,
    "start_time": "2022-12-11T13:35:58.465Z"
   },
   {
    "duration": 2,
    "start_time": "2022-12-11T13:36:04.432Z"
   },
   {
    "duration": 3,
    "start_time": "2022-12-11T13:36:13.335Z"
   },
   {
    "duration": 16,
    "start_time": "2022-12-11T13:36:19.066Z"
   },
   {
    "duration": 10,
    "start_time": "2022-12-11T13:36:34.655Z"
   },
   {
    "duration": 8,
    "start_time": "2022-12-11T13:36:39.991Z"
   },
   {
    "duration": 16,
    "start_time": "2022-12-11T13:36:56.279Z"
   },
   {
    "duration": 9,
    "start_time": "2022-12-11T13:36:58.002Z"
   },
   {
    "duration": 15,
    "start_time": "2022-12-11T13:39:37.553Z"
   },
   {
    "duration": 20,
    "start_time": "2022-12-11T13:39:40.794Z"
   },
   {
    "duration": 8,
    "start_time": "2022-12-11T13:39:42.643Z"
   },
   {
    "duration": 9,
    "start_time": "2022-12-11T13:39:44.877Z"
   },
   {
    "duration": 73,
    "start_time": "2022-12-11T13:41:33.847Z"
   },
   {
    "duration": 86,
    "start_time": "2022-12-11T13:41:45.978Z"
   },
   {
    "duration": 62,
    "start_time": "2022-12-11T13:47:33.376Z"
   },
   {
    "duration": 27,
    "start_time": "2022-12-11T13:47:38.619Z"
   },
   {
    "duration": 10,
    "start_time": "2022-12-11T13:47:43.773Z"
   },
   {
    "duration": 5,
    "start_time": "2022-12-11T13:47:50.677Z"
   },
   {
    "duration": 5,
    "start_time": "2022-12-11T13:48:02.236Z"
   },
   {
    "duration": 32,
    "start_time": "2022-12-11T13:49:27.698Z"
   },
   {
    "duration": 9,
    "start_time": "2022-12-11T13:49:33.856Z"
   },
   {
    "duration": 13,
    "start_time": "2022-12-11T13:51:57.833Z"
   },
   {
    "duration": 25,
    "start_time": "2022-12-11T13:52:11.992Z"
   },
   {
    "duration": 14,
    "start_time": "2022-12-11T13:52:13.614Z"
   },
   {
    "duration": 48,
    "start_time": "2022-12-11T13:53:22.748Z"
   },
   {
    "duration": 61,
    "start_time": "2022-12-11T13:53:48.703Z"
   },
   {
    "duration": 66,
    "start_time": "2022-12-11T13:53:53.303Z"
   },
   {
    "duration": 14,
    "start_time": "2022-12-11T13:53:55.247Z"
   },
   {
    "duration": 3,
    "start_time": "2022-12-11T13:54:37.974Z"
   },
   {
    "duration": 22,
    "start_time": "2022-12-11T13:54:39.007Z"
   },
   {
    "duration": 61,
    "start_time": "2022-12-11T13:54:40.335Z"
   },
   {
    "duration": 11,
    "start_time": "2022-12-11T13:54:42.436Z"
   },
   {
    "duration": 65,
    "start_time": "2022-12-11T13:55:34.476Z"
   },
   {
    "duration": 529,
    "start_time": "2022-12-11T13:55:42.497Z"
   },
   {
    "duration": 1575,
    "start_time": "2022-12-11T13:55:47.638Z"
   },
   {
    "duration": 2017,
    "start_time": "2022-12-11T13:55:58.933Z"
   },
   {
    "duration": 43,
    "start_time": "2022-12-11T13:56:59.507Z"
   },
   {
    "duration": 3733,
    "start_time": "2022-12-11T13:57:06.694Z"
   },
   {
    "duration": 337,
    "start_time": "2022-12-11T13:57:15.991Z"
   },
   {
    "duration": 3493,
    "start_time": "2022-12-11T13:57:24.472Z"
   },
   {
    "duration": 3,
    "start_time": "2022-12-11T13:57:27.966Z"
   },
   {
    "duration": 1090,
    "start_time": "2022-12-11T13:57:27.971Z"
   },
   {
    "duration": 4,
    "start_time": "2022-12-11T13:57:29.063Z"
   },
   {
    "duration": 234,
    "start_time": "2022-12-11T13:57:29.068Z"
   },
   {
    "duration": 4937,
    "start_time": "2022-12-11T13:57:29.304Z"
   },
   {
    "duration": 7,
    "start_time": "2022-12-11T13:57:34.243Z"
   },
   {
    "duration": 545,
    "start_time": "2022-12-11T13:57:34.252Z"
   },
   {
    "duration": 4,
    "start_time": "2022-12-11T13:57:34.798Z"
   },
   {
    "duration": 4,
    "start_time": "2022-12-11T13:57:34.804Z"
   },
   {
    "duration": 25,
    "start_time": "2022-12-11T13:57:34.809Z"
   },
   {
    "duration": 261,
    "start_time": "2022-12-11T13:57:34.835Z"
   },
   {
    "duration": 12,
    "start_time": "2022-12-11T13:57:35.098Z"
   },
   {
    "duration": 22,
    "start_time": "2022-12-11T13:57:35.111Z"
   },
   {
    "duration": 297,
    "start_time": "2022-12-11T13:57:35.135Z"
   },
   {
    "duration": 0,
    "start_time": "2022-12-11T13:57:35.433Z"
   },
   {
    "duration": 0,
    "start_time": "2022-12-11T13:57:35.435Z"
   },
   {
    "duration": 0,
    "start_time": "2022-12-11T13:57:35.436Z"
   },
   {
    "duration": 0,
    "start_time": "2022-12-11T13:57:35.438Z"
   },
   {
    "duration": 1477,
    "start_time": "2022-12-11T13:58:29.536Z"
   },
   {
    "duration": 1986,
    "start_time": "2022-12-11T13:58:32.711Z"
   },
   {
    "duration": 60,
    "start_time": "2022-12-11T14:04:14.852Z"
   },
   {
    "duration": 905,
    "start_time": "2022-12-11T14:05:02.329Z"
   },
   {
    "duration": 3509,
    "start_time": "2022-12-11T14:05:12.381Z"
   },
   {
    "duration": 5,
    "start_time": "2022-12-11T14:05:15.892Z"
   },
   {
    "duration": 1115,
    "start_time": "2022-12-11T14:05:15.898Z"
   },
   {
    "duration": 3,
    "start_time": "2022-12-11T14:05:17.015Z"
   },
   {
    "duration": 260,
    "start_time": "2022-12-11T14:05:17.019Z"
   },
   {
    "duration": 5036,
    "start_time": "2022-12-11T14:05:17.281Z"
   },
   {
    "duration": 6,
    "start_time": "2022-12-11T14:05:22.319Z"
   },
   {
    "duration": 555,
    "start_time": "2022-12-11T14:05:22.326Z"
   },
   {
    "duration": 4,
    "start_time": "2022-12-11T14:05:22.883Z"
   },
   {
    "duration": 2,
    "start_time": "2022-12-11T14:05:22.898Z"
   },
   {
    "duration": 28,
    "start_time": "2022-12-11T14:05:22.902Z"
   },
   {
    "duration": 225,
    "start_time": "2022-12-11T14:05:22.931Z"
   },
   {
    "duration": 11,
    "start_time": "2022-12-11T14:05:23.158Z"
   },
   {
    "duration": 31,
    "start_time": "2022-12-11T14:05:23.170Z"
   },
   {
    "duration": 294,
    "start_time": "2022-12-11T14:05:23.203Z"
   },
   {
    "duration": 0,
    "start_time": "2022-12-11T14:05:23.499Z"
   },
   {
    "duration": 0,
    "start_time": "2022-12-11T14:05:23.500Z"
   },
   {
    "duration": 0,
    "start_time": "2022-12-11T14:05:23.501Z"
   },
   {
    "duration": 0,
    "start_time": "2022-12-11T14:05:23.502Z"
   },
   {
    "duration": 38,
    "start_time": "2022-12-11T14:05:33.915Z"
   },
   {
    "duration": 1456,
    "start_time": "2022-12-11T14:05:34.945Z"
   },
   {
    "duration": 21,
    "start_time": "2022-12-11T14:07:30.244Z"
   },
   {
    "duration": 3,
    "start_time": "2022-12-11T14:07:33.071Z"
   },
   {
    "duration": 36363,
    "start_time": "2022-12-11T14:07:34.264Z"
   },
   {
    "duration": 27843,
    "start_time": "2022-12-11T14:08:22.058Z"
   },
   {
    "duration": 50659,
    "start_time": "2022-12-11T14:09:36.540Z"
   },
   {
    "duration": 1522,
    "start_time": "2022-12-11T14:10:54.996Z"
   },
   {
    "duration": 42803,
    "start_time": "2022-12-11T14:10:57.495Z"
   },
   {
    "duration": 3,
    "start_time": "2022-12-11T14:25:45.485Z"
   },
   {
    "duration": 3,
    "start_time": "2022-12-11T14:27:11.262Z"
   },
   {
    "duration": 3,
    "start_time": "2022-12-11T14:35:14.633Z"
   },
   {
    "duration": 4,
    "start_time": "2022-12-11T14:35:15.411Z"
   },
   {
    "duration": 749,
    "start_time": "2022-12-11T14:35:16.809Z"
   },
   {
    "duration": 3,
    "start_time": "2022-12-11T14:35:19.829Z"
   },
   {
    "duration": 67,
    "start_time": "2022-12-11T14:35:21.042Z"
   },
   {
    "duration": 5217,
    "start_time": "2022-12-11T14:35:22.452Z"
   },
   {
    "duration": 7,
    "start_time": "2022-12-11T14:35:27.672Z"
   },
   {
    "duration": 633,
    "start_time": "2022-12-11T14:35:31.847Z"
   },
   {
    "duration": 12,
    "start_time": "2022-12-11T14:35:38.105Z"
   },
   {
    "duration": 4,
    "start_time": "2022-12-11T14:47:46.952Z"
   },
   {
    "duration": 15,
    "start_time": "2022-12-11T14:47:58.342Z"
   },
   {
    "duration": 17,
    "start_time": "2022-12-11T14:48:33.213Z"
   },
   {
    "duration": 16,
    "start_time": "2022-12-11T14:49:23.466Z"
   },
   {
    "duration": 3,
    "start_time": "2022-12-11T14:50:16.878Z"
   },
   {
    "duration": 4,
    "start_time": "2022-12-11T14:50:43.799Z"
   },
   {
    "duration": 2,
    "start_time": "2022-12-11T14:51:00.921Z"
   },
   {
    "duration": 3,
    "start_time": "2022-12-11T14:51:14.502Z"
   },
   {
    "duration": 3,
    "start_time": "2022-12-11T14:51:18.510Z"
   },
   {
    "duration": 3,
    "start_time": "2022-12-11T14:51:46.190Z"
   },
   {
    "duration": 3,
    "start_time": "2022-12-11T14:51:48.024Z"
   },
   {
    "duration": 4,
    "start_time": "2022-12-11T14:51:49.719Z"
   },
   {
    "duration": 15,
    "start_time": "2022-12-11T14:52:02.341Z"
   },
   {
    "duration": 4,
    "start_time": "2022-12-11T14:52:08.062Z"
   },
   {
    "duration": 3,
    "start_time": "2022-12-11T14:52:18.215Z"
   },
   {
    "duration": 12,
    "start_time": "2022-12-11T14:52:19.924Z"
   },
   {
    "duration": 37,
    "start_time": "2022-12-11T14:53:40.206Z"
   },
   {
    "duration": 16,
    "start_time": "2022-12-11T14:53:46.387Z"
   },
   {
    "duration": 16,
    "start_time": "2022-12-11T14:54:40.551Z"
   },
   {
    "duration": 12,
    "start_time": "2022-12-11T14:54:48.977Z"
   },
   {
    "duration": 4,
    "start_time": "2022-12-11T14:56:35.515Z"
   },
   {
    "duration": 3,
    "start_time": "2022-12-11T14:56:55.592Z"
   },
   {
    "duration": 4,
    "start_time": "2022-12-11T14:57:00.039Z"
   },
   {
    "duration": 4,
    "start_time": "2022-12-11T14:57:16.457Z"
   },
   {
    "duration": 4,
    "start_time": "2022-12-11T14:57:18.380Z"
   },
   {
    "duration": 3,
    "start_time": "2022-12-11T14:57:29.545Z"
   },
   {
    "duration": 3,
    "start_time": "2022-12-11T14:57:35.885Z"
   },
   {
    "duration": 16,
    "start_time": "2022-12-11T14:57:45.419Z"
   },
   {
    "duration": 17,
    "start_time": "2022-12-11T14:58:18.442Z"
   },
   {
    "duration": 4,
    "start_time": "2022-12-11T14:58:19.416Z"
   },
   {
    "duration": 4,
    "start_time": "2022-12-11T14:58:20.519Z"
   },
   {
    "duration": 4,
    "start_time": "2022-12-11T14:58:21.601Z"
   },
   {
    "duration": 41,
    "start_time": "2022-12-11T14:58:23.538Z"
   },
   {
    "duration": 3,
    "start_time": "2022-12-11T14:59:24.356Z"
   },
   {
    "duration": 12,
    "start_time": "2022-12-11T14:59:26.006Z"
   },
   {
    "duration": 4,
    "start_time": "2022-12-11T14:59:40.040Z"
   },
   {
    "duration": 5,
    "start_time": "2022-12-11T15:07:42.189Z"
   },
   {
    "duration": 16,
    "start_time": "2022-12-11T15:07:55.210Z"
   },
   {
    "duration": 84,
    "start_time": "2022-12-11T15:08:02.045Z"
   },
   {
    "duration": 5,
    "start_time": "2022-12-11T15:09:50.909Z"
   },
   {
    "duration": 5,
    "start_time": "2022-12-11T15:10:44.277Z"
   },
   {
    "duration": 1443,
    "start_time": "2022-12-11T15:10:46.339Z"
   },
   {
    "duration": 1492,
    "start_time": "2022-12-11T15:11:11.761Z"
   },
   {
    "duration": 1500,
    "start_time": "2022-12-11T15:12:40.697Z"
   },
   {
    "duration": 1465,
    "start_time": "2022-12-11T15:12:47.790Z"
   },
   {
    "duration": 5,
    "start_time": "2022-12-11T15:12:51.235Z"
   },
   {
    "duration": 1514,
    "start_time": "2022-12-11T15:12:52.147Z"
   },
   {
    "duration": 1505,
    "start_time": "2022-12-11T15:13:40.758Z"
   },
   {
    "duration": 1556,
    "start_time": "2022-12-11T15:13:50.542Z"
   },
   {
    "duration": 1506,
    "start_time": "2022-12-11T15:14:06.131Z"
   },
   {
    "duration": 1461,
    "start_time": "2022-12-11T15:14:18.560Z"
   },
   {
    "duration": 1901,
    "start_time": "2022-12-11T15:14:53.975Z"
   },
   {
    "duration": 1743,
    "start_time": "2022-12-11T15:15:07.531Z"
   },
   {
    "duration": 4,
    "start_time": "2022-12-11T15:15:10.128Z"
   },
   {
    "duration": 3,
    "start_time": "2022-12-11T15:15:17.180Z"
   },
   {
    "duration": 4,
    "start_time": "2022-12-11T15:15:19.293Z"
   },
   {
    "duration": 7,
    "start_time": "2022-12-11T15:15:34.234Z"
   },
   {
    "duration": 9,
    "start_time": "2022-12-11T15:16:12.134Z"
   },
   {
    "duration": 5,
    "start_time": "2022-12-11T15:23:05.540Z"
   },
   {
    "duration": 3721,
    "start_time": "2022-12-11T15:23:22.257Z"
   },
   {
    "duration": 2,
    "start_time": "2022-12-11T15:23:25.980Z"
   },
   {
    "duration": 1184,
    "start_time": "2022-12-11T15:23:25.984Z"
   },
   {
    "duration": 4,
    "start_time": "2022-12-11T15:23:27.169Z"
   },
   {
    "duration": 266,
    "start_time": "2022-12-11T15:23:27.175Z"
   },
   {
    "duration": 5127,
    "start_time": "2022-12-11T15:23:27.443Z"
   },
   {
    "duration": 8,
    "start_time": "2022-12-11T15:23:32.571Z"
   },
   {
    "duration": 684,
    "start_time": "2022-12-11T15:23:32.580Z"
   },
   {
    "duration": 3,
    "start_time": "2022-12-11T15:23:33.265Z"
   },
   {
    "duration": 199,
    "start_time": "2022-12-11T15:23:33.270Z"
   },
   {
    "duration": 2545,
    "start_time": "2022-12-11T15:23:33.470Z"
   },
   {
    "duration": 21,
    "start_time": "2022-12-11T15:23:36.017Z"
   },
   {
    "duration": 77,
    "start_time": "2022-12-11T15:23:36.040Z"
   },
   {
    "duration": 12,
    "start_time": "2022-12-11T15:23:36.121Z"
   },
   {
    "duration": 27,
    "start_time": "2022-12-11T15:23:36.137Z"
   },
   {
    "duration": 3,
    "start_time": "2022-12-11T15:23:36.166Z"
   },
   {
    "duration": 38,
    "start_time": "2022-12-11T15:23:36.171Z"
   },
   {
    "duration": 27,
    "start_time": "2022-12-11T15:23:36.212Z"
   },
   {
    "duration": 4,
    "start_time": "2022-12-11T15:23:36.241Z"
   },
   {
    "duration": 0,
    "start_time": "2022-12-11T15:23:36.247Z"
   },
   {
    "duration": 2583,
    "start_time": "2022-12-11T15:23:45.784Z"
   },
   {
    "duration": 5324,
    "start_time": "2022-12-11T15:26:21.241Z"
   },
   {
    "duration": 8,
    "start_time": "2022-12-11T15:26:31.592Z"
   },
   {
    "duration": 6,
    "start_time": "2022-12-11T15:26:39.680Z"
   },
   {
    "duration": 5,
    "start_time": "2022-12-11T15:38:19.031Z"
   },
   {
    "duration": 4984,
    "start_time": "2022-12-11T15:38:20.627Z"
   },
   {
    "duration": 4,
    "start_time": "2022-12-11T15:39:55.950Z"
   },
   {
    "duration": 3,
    "start_time": "2022-12-11T15:40:14.521Z"
   },
   {
    "duration": 287,
    "start_time": "2022-12-11T15:40:20.494Z"
   },
   {
    "duration": 93,
    "start_time": "2022-12-11T15:40:53.924Z"
   },
   {
    "duration": 3,
    "start_time": "2022-12-11T15:41:18.654Z"
   },
   {
    "duration": 45,
    "start_time": "2022-12-11T15:41:25.715Z"
   },
   {
    "duration": 73,
    "start_time": "2022-12-11T15:41:29.106Z"
   },
   {
    "duration": 4,
    "start_time": "2022-12-11T15:41:33.770Z"
   },
   {
    "duration": 4,
    "start_time": "2022-12-11T15:41:58.413Z"
   },
   {
    "duration": 6,
    "start_time": "2022-12-11T15:42:03.794Z"
   },
   {
    "duration": 4,
    "start_time": "2022-12-11T15:42:21.233Z"
   },
   {
    "duration": 57,
    "start_time": "2022-12-11T15:44:54.600Z"
   },
   {
    "duration": 27,
    "start_time": "2022-12-11T15:45:02.394Z"
   },
   {
    "duration": 45,
    "start_time": "2022-12-11T15:45:20.752Z"
   },
   {
    "duration": 20,
    "start_time": "2022-12-11T15:45:27.917Z"
   },
   {
    "duration": 4,
    "start_time": "2022-12-11T15:45:35.708Z"
   },
   {
    "duration": 4,
    "start_time": "2022-12-11T15:45:42.589Z"
   },
   {
    "duration": 3,
    "start_time": "2022-12-11T15:46:06.518Z"
   },
   {
    "duration": 4,
    "start_time": "2022-12-11T15:46:10.013Z"
   },
   {
    "duration": 25,
    "start_time": "2022-12-11T15:46:11.657Z"
   },
   {
    "duration": 4,
    "start_time": "2022-12-11T15:46:32.127Z"
   },
   {
    "duration": 35360,
    "start_time": "2022-12-11T15:46:33.846Z"
   },
   {
    "duration": 4,
    "start_time": "2022-12-11T15:56:04.862Z"
   },
   {
    "duration": 34,
    "start_time": "2022-12-11T15:56:06.460Z"
   },
   {
    "duration": 3,
    "start_time": "2022-12-11T15:56:34.373Z"
   },
   {
    "duration": 34,
    "start_time": "2022-12-11T15:56:37.522Z"
   },
   {
    "duration": 4,
    "start_time": "2022-12-11T15:56:58.963Z"
   },
   {
    "duration": 39,
    "start_time": "2022-12-11T15:57:00.264Z"
   },
   {
    "duration": 4,
    "start_time": "2022-12-11T15:57:20.785Z"
   },
   {
    "duration": 31,
    "start_time": "2022-12-11T15:57:23.058Z"
   },
   {
    "duration": 4,
    "start_time": "2022-12-11T15:57:36.963Z"
   },
   {
    "duration": 4,
    "start_time": "2022-12-11T15:57:40.890Z"
   },
   {
    "duration": 34,
    "start_time": "2022-12-11T15:57:42.622Z"
   },
   {
    "duration": 4,
    "start_time": "2022-12-11T15:58:19.217Z"
   },
   {
    "duration": 10411,
    "start_time": "2022-12-11T15:58:21.041Z"
   },
   {
    "duration": 3,
    "start_time": "2022-12-11T15:58:34.237Z"
   },
   {
    "duration": 22689,
    "start_time": "2022-12-11T15:58:35.316Z"
   },
   {
    "duration": 4,
    "start_time": "2022-12-11T16:00:00.754Z"
   },
   {
    "duration": 29647,
    "start_time": "2022-12-11T16:00:03.450Z"
   },
   {
    "duration": 30644,
    "start_time": "2022-12-11T16:04:28.162Z"
   },
   {
    "duration": 4,
    "start_time": "2022-12-11T16:05:37.404Z"
   },
   {
    "duration": 60888,
    "start_time": "2022-12-11T16:05:45.810Z"
   },
   {
    "duration": 72605,
    "start_time": "2022-12-11T16:06:46.699Z"
   },
   {
    "duration": 19,
    "start_time": "2022-12-11T16:07:59.397Z"
   },
   {
    "duration": 39,
    "start_time": "2022-12-11T16:08:22.960Z"
   },
   {
    "duration": 5991,
    "start_time": "2022-12-11T16:08:24.486Z"
   },
   {
    "duration": 22194,
    "start_time": "2022-12-11T16:08:50.803Z"
   },
   {
    "duration": 23305,
    "start_time": "2022-12-11T16:11:32.460Z"
   },
   {
    "duration": 5,
    "start_time": "2022-12-11T16:22:23.679Z"
   },
   {
    "duration": 3,
    "start_time": "2022-12-11T16:23:09.774Z"
   },
   {
    "duration": 33,
    "start_time": "2022-12-11T16:23:23.234Z"
   },
   {
    "duration": 4,
    "start_time": "2022-12-11T16:23:38.487Z"
   },
   {
    "duration": 68815,
    "start_time": "2022-12-11T16:23:42.105Z"
   },
   {
    "duration": 6,
    "start_time": "2022-12-11T16:25:32.907Z"
   },
   {
    "duration": 5,
    "start_time": "2022-12-11T16:26:07.902Z"
   },
   {
    "duration": 31981,
    "start_time": "2022-12-11T16:26:33.018Z"
   },
   {
    "duration": 4,
    "start_time": "2022-12-11T16:27:41.059Z"
   },
   {
    "duration": 25911,
    "start_time": "2022-12-11T16:28:45.048Z"
   },
   {
    "duration": 65,
    "start_time": "2022-12-11T16:29:12.748Z"
   },
   {
    "duration": 84436,
    "start_time": "2022-12-11T16:29:22.574Z"
   },
   {
    "duration": 89001,
    "start_time": "2022-12-11T16:30:47.097Z"
   },
   {
    "duration": 18236,
    "start_time": "2022-12-11T16:33:20.693Z"
   },
   {
    "duration": 1761353,
    "start_time": "2022-12-11T16:33:53.063Z"
   },
   {
    "duration": 3,
    "start_time": "2022-12-11T17:06:16.482Z"
   },
   {
    "duration": 4518,
    "start_time": "2022-12-11T17:08:13.462Z"
   },
   {
    "duration": 16,
    "start_time": "2022-12-11T17:11:57.652Z"
   },
   {
    "duration": 4,
    "start_time": "2022-12-11T17:12:19.115Z"
   },
   {
    "duration": 6,
    "start_time": "2022-12-11T17:12:24.771Z"
   },
   {
    "duration": 1148,
    "start_time": "2022-12-11T17:12:45.409Z"
   },
   {
    "duration": 19,
    "start_time": "2022-12-11T17:19:36.077Z"
   },
   {
    "duration": 151344,
    "start_time": "2022-12-11T17:19:45.086Z"
   },
   {
    "duration": 17,
    "start_time": "2022-12-11T17:31:24.455Z"
   },
   {
    "duration": 3,
    "start_time": "2022-12-11T17:31:48.733Z"
   },
   {
    "duration": 8,
    "start_time": "2022-12-11T17:33:08.392Z"
   },
   {
    "duration": 11,
    "start_time": "2022-12-11T17:33:58.470Z"
   },
   {
    "duration": 10,
    "start_time": "2022-12-11T17:34:12.217Z"
   },
   {
    "duration": 39,
    "start_time": "2022-12-11T17:34:15.519Z"
   },
   {
    "duration": 950,
    "start_time": "2022-12-11T17:34:34.652Z"
   },
   {
    "duration": 9,
    "start_time": "2022-12-11T17:34:39.699Z"
   },
   {
    "duration": 1643,
    "start_time": "2022-12-11T17:34:40.450Z"
   },
   {
    "duration": 6,
    "start_time": "2022-12-11T17:35:18.983Z"
   },
   {
    "duration": 20,
    "start_time": "2022-12-11T17:35:25.457Z"
   },
   {
    "duration": 9,
    "start_time": "2022-12-11T17:36:39.854Z"
   },
   {
    "duration": 1727,
    "start_time": "2022-12-11T17:36:44.686Z"
   },
   {
    "duration": 889,
    "start_time": "2022-12-11T17:37:03.220Z"
   },
   {
    "duration": 813,
    "start_time": "2022-12-11T17:37:12.518Z"
   },
   {
    "duration": 3880,
    "start_time": "2022-12-11T17:43:29.016Z"
   },
   {
    "duration": 3,
    "start_time": "2022-12-11T17:43:32.898Z"
   },
   {
    "duration": 818,
    "start_time": "2022-12-11T17:43:32.902Z"
   },
   {
    "duration": 2,
    "start_time": "2022-12-11T17:43:33.722Z"
   },
   {
    "duration": 405,
    "start_time": "2022-12-11T17:43:33.726Z"
   },
   {
    "duration": 4953,
    "start_time": "2022-12-11T17:43:34.133Z"
   },
   {
    "duration": 15,
    "start_time": "2022-12-11T17:43:39.087Z"
   },
   {
    "duration": 662,
    "start_time": "2022-12-11T17:43:39.103Z"
   },
   {
    "duration": 2,
    "start_time": "2022-12-11T17:43:39.767Z"
   },
   {
    "duration": 38,
    "start_time": "2022-12-11T17:43:39.771Z"
   },
   {
    "duration": 476,
    "start_time": "2022-12-11T17:43:39.810Z"
   },
   {
    "duration": 4,
    "start_time": "2022-12-11T17:43:40.288Z"
   },
   {
    "duration": 72,
    "start_time": "2022-12-11T17:43:40.294Z"
   },
   {
    "duration": 18,
    "start_time": "2022-12-11T17:43:40.368Z"
   },
   {
    "duration": 0,
    "start_time": "2022-12-11T17:43:40.387Z"
   },
   {
    "duration": 0,
    "start_time": "2022-12-11T17:43:40.388Z"
   },
   {
    "duration": 0,
    "start_time": "2022-12-11T17:43:40.390Z"
   },
   {
    "duration": 0,
    "start_time": "2022-12-11T17:43:40.391Z"
   },
   {
    "duration": 0,
    "start_time": "2022-12-11T17:43:40.393Z"
   },
   {
    "duration": 0,
    "start_time": "2022-12-11T17:43:40.394Z"
   },
   {
    "duration": 0,
    "start_time": "2022-12-11T17:43:40.395Z"
   },
   {
    "duration": 3472,
    "start_time": "2022-12-11T17:43:51.148Z"
   },
   {
    "duration": 3,
    "start_time": "2022-12-11T17:43:54.622Z"
   },
   {
    "duration": 776,
    "start_time": "2022-12-11T17:43:54.626Z"
   },
   {
    "duration": 3,
    "start_time": "2022-12-11T17:43:55.404Z"
   },
   {
    "duration": 381,
    "start_time": "2022-12-11T17:43:55.409Z"
   },
   {
    "duration": 5123,
    "start_time": "2022-12-11T17:43:55.796Z"
   },
   {
    "duration": 7,
    "start_time": "2022-12-11T17:44:00.921Z"
   },
   {
    "duration": 783,
    "start_time": "2022-12-11T17:44:00.929Z"
   },
   {
    "duration": 2,
    "start_time": "2022-12-11T17:44:01.714Z"
   },
   {
    "duration": 31,
    "start_time": "2022-12-11T17:44:01.718Z"
   },
   {
    "duration": 5049,
    "start_time": "2022-12-11T17:44:01.751Z"
   },
   {
    "duration": 4,
    "start_time": "2022-12-11T17:44:06.802Z"
   },
   {
    "duration": 339,
    "start_time": "2022-12-11T17:44:06.807Z"
   },
   {
    "duration": 16,
    "start_time": "2022-12-11T17:44:07.148Z"
   },
   {
    "duration": 0,
    "start_time": "2022-12-11T17:44:07.165Z"
   },
   {
    "duration": 0,
    "start_time": "2022-12-11T17:44:07.167Z"
   },
   {
    "duration": 0,
    "start_time": "2022-12-11T17:44:07.168Z"
   },
   {
    "duration": 0,
    "start_time": "2022-12-11T17:44:07.169Z"
   },
   {
    "duration": 0,
    "start_time": "2022-12-11T17:44:07.170Z"
   },
   {
    "duration": 2,
    "start_time": "2022-12-11T17:44:19.352Z"
   },
   {
    "duration": 8,
    "start_time": "2022-12-11T17:44:21.001Z"
   },
   {
    "duration": 916,
    "start_time": "2022-12-11T17:44:22.046Z"
   },
   {
    "duration": 761,
    "start_time": "2022-12-11T17:44:35.836Z"
   },
   {
    "duration": 992,
    "start_time": "2022-12-11T17:44:56.092Z"
   },
   {
    "duration": 743,
    "start_time": "2022-12-11T17:45:04.439Z"
   },
   {
    "duration": 18,
    "start_time": "2022-12-11T17:45:14.205Z"
   },
   {
    "duration": 10,
    "start_time": "2022-12-11T17:45:24.389Z"
   },
   {
    "duration": 886,
    "start_time": "2022-12-11T17:45:25.953Z"
   },
   {
    "duration": 832,
    "start_time": "2022-12-11T17:45:28.344Z"
   },
   {
    "duration": 797,
    "start_time": "2022-12-11T17:48:04.374Z"
   },
   {
    "duration": 1170,
    "start_time": "2022-12-11T17:48:15.944Z"
   },
   {
    "duration": 18,
    "start_time": "2022-12-11T17:48:20.155Z"
   },
   {
    "duration": 3,
    "start_time": "2022-12-11T17:48:32.619Z"
   },
   {
    "duration": 3,
    "start_time": "2022-12-11T17:48:53.322Z"
   },
   {
    "duration": 1138,
    "start_time": "2022-12-11T17:49:02.219Z"
   },
   {
    "duration": 20,
    "start_time": "2022-12-11T17:49:07.107Z"
   },
   {
    "duration": 1156,
    "start_time": "2022-12-11T17:51:39.549Z"
   },
   {
    "duration": 152663,
    "start_time": "2022-12-11T17:51:40.707Z"
   },
   {
    "duration": 24,
    "start_time": "2022-12-11T17:54:54.657Z"
   },
   {
    "duration": 18,
    "start_time": "2022-12-11T17:55:54.887Z"
   },
   {
    "duration": 22,
    "start_time": "2022-12-11T17:56:19.269Z"
   },
   {
    "duration": 19,
    "start_time": "2022-12-11T17:57:32.575Z"
   },
   {
    "duration": 1188,
    "start_time": "2022-12-11T17:57:45.947Z"
   },
   {
    "duration": 22,
    "start_time": "2022-12-11T17:57:51.034Z"
   },
   {
    "duration": 4,
    "start_time": "2022-12-11T17:58:13.501Z"
   },
   {
    "duration": 4,
    "start_time": "2022-12-11T17:58:23.440Z"
   },
   {
    "duration": 1082,
    "start_time": "2022-12-11T17:58:33.797Z"
   },
   {
    "duration": 50188,
    "start_time": "2022-12-11T17:58:37.665Z"
   },
   {
    "duration": 1100,
    "start_time": "2022-12-11T17:59:28.976Z"
   },
   {
    "duration": 151609,
    "start_time": "2022-12-11T17:59:31.591Z"
   },
   {
    "duration": 3,
    "start_time": "2022-12-11T18:02:25.618Z"
   },
   {
    "duration": 3,
    "start_time": "2022-12-11T18:02:42.264Z"
   },
   {
    "duration": 10,
    "start_time": "2022-12-11T18:02:55.318Z"
   },
   {
    "duration": 1106,
    "start_time": "2022-12-11T18:03:23.267Z"
   },
   {
    "duration": 389,
    "start_time": "2022-12-11T18:03:26.163Z"
   },
   {
    "duration": 1144,
    "start_time": "2022-12-11T18:04:55.275Z"
   },
   {
    "duration": 19,
    "start_time": "2022-12-11T18:04:57.922Z"
   },
   {
    "duration": 45,
    "start_time": "2022-12-11T18:06:39.142Z"
   },
   {
    "duration": 3,
    "start_time": "2022-12-11T18:06:44.339Z"
   },
   {
    "duration": 6,
    "start_time": "2022-12-11T18:07:20.812Z"
   },
   {
    "duration": 19,
    "start_time": "2022-12-11T18:07:27.520Z"
   },
   {
    "duration": 747,
    "start_time": "2022-12-11T18:07:39.043Z"
   },
   {
    "duration": 3,
    "start_time": "2022-12-11T18:07:57.790Z"
   },
   {
    "duration": 757,
    "start_time": "2022-12-11T18:07:59.590Z"
   },
   {
    "duration": 19592,
    "start_time": "2022-12-11T18:08:24.115Z"
   },
   {
    "duration": 187802,
    "start_time": "2022-12-11T18:08:57.746Z"
   },
   {
    "duration": 841,
    "start_time": "2022-12-11T18:12:05.550Z"
   },
   {
    "duration": 3,
    "start_time": "2022-12-11T18:12:06.396Z"
   },
   {
    "duration": 84,
    "start_time": "2022-12-11T18:30:06.205Z"
   },
   {
    "duration": 56,
    "start_time": "2022-12-11T18:30:12.854Z"
   },
   {
    "duration": 3009,
    "start_time": "2022-12-11T18:30:17.572Z"
   },
   {
    "duration": 3015,
    "start_time": "2022-12-11T18:31:04.966Z"
   },
   {
    "duration": 110973,
    "start_time": "2022-12-11T18:33:57.960Z"
   },
   {
    "duration": 70637,
    "start_time": "2022-12-11T18:35:50.251Z"
   },
   {
    "duration": 12382,
    "start_time": "2022-12-11T18:37:01.273Z"
   },
   {
    "duration": 3599,
    "start_time": "2022-12-11T18:37:59.380Z"
   },
   {
    "duration": 3,
    "start_time": "2022-12-11T18:38:02.980Z"
   },
   {
    "duration": 765,
    "start_time": "2022-12-11T18:38:02.984Z"
   },
   {
    "duration": 2,
    "start_time": "2022-12-11T18:38:03.751Z"
   },
   {
    "duration": 398,
    "start_time": "2022-12-11T18:38:03.755Z"
   },
   {
    "duration": 5020,
    "start_time": "2022-12-11T18:38:04.155Z"
   },
   {
    "duration": 7,
    "start_time": "2022-12-11T18:38:09.176Z"
   },
   {
    "duration": 723,
    "start_time": "2022-12-11T18:38:09.185Z"
   },
   {
    "duration": 2,
    "start_time": "2022-12-11T18:38:09.910Z"
   },
   {
    "duration": 32,
    "start_time": "2022-12-11T18:38:09.915Z"
   },
   {
    "duration": 4873,
    "start_time": "2022-12-11T18:38:09.948Z"
   },
   {
    "duration": 5,
    "start_time": "2022-12-11T18:38:14.822Z"
   },
   {
    "duration": 75376,
    "start_time": "2022-12-11T18:38:14.828Z"
   },
   {
    "duration": 75992,
    "start_time": "2022-12-11T18:39:30.205Z"
   },
   {
    "duration": 186431,
    "start_time": "2022-12-11T18:40:46.203Z"
   },
   {
    "duration": 328264,
    "start_time": "2022-12-11T18:43:52.636Z"
   },
   {
    "duration": 3,
    "start_time": "2022-12-11T18:49:20.902Z"
   },
   {
    "duration": 5,
    "start_time": "2022-12-11T18:49:20.907Z"
   },
   {
    "duration": 50,
    "start_time": "2022-12-11T18:49:20.913Z"
   },
   {
    "duration": 0,
    "start_time": "2022-12-11T18:49:20.965Z"
   },
   {
    "duration": 17080,
    "start_time": "2022-12-11T18:50:30.928Z"
   },
   {
    "duration": 20410,
    "start_time": "2022-12-11T18:51:08.297Z"
   },
   {
    "duration": 3676,
    "start_time": "2022-12-11T18:53:43.943Z"
   },
   {
    "duration": 3,
    "start_time": "2022-12-11T18:53:47.621Z"
   },
   {
    "duration": 775,
    "start_time": "2022-12-11T18:53:47.625Z"
   },
   {
    "duration": 3,
    "start_time": "2022-12-11T18:53:48.402Z"
   },
   {
    "duration": 423,
    "start_time": "2022-12-11T18:53:48.408Z"
   },
   {
    "duration": 5598,
    "start_time": "2022-12-11T18:53:48.833Z"
   },
   {
    "duration": 8,
    "start_time": "2022-12-11T18:53:54.433Z"
   },
   {
    "duration": 954,
    "start_time": "2022-12-11T18:53:54.443Z"
   },
   {
    "duration": 3,
    "start_time": "2022-12-11T18:53:55.399Z"
   },
   {
    "duration": 31,
    "start_time": "2022-12-11T18:53:55.403Z"
   },
   {
    "duration": 5189,
    "start_time": "2022-12-11T18:53:55.435Z"
   },
   {
    "duration": 5,
    "start_time": "2022-12-11T18:54:00.626Z"
   },
   {
    "duration": 4823,
    "start_time": "2022-12-11T18:54:00.632Z"
   },
   {
    "duration": 5585,
    "start_time": "2022-12-11T18:54:05.458Z"
   },
   {
    "duration": 0,
    "start_time": "2022-12-11T18:54:11.045Z"
   },
   {
    "duration": 0,
    "start_time": "2022-12-11T18:54:11.047Z"
   },
   {
    "duration": 0,
    "start_time": "2022-12-11T18:54:11.048Z"
   },
   {
    "duration": 0,
    "start_time": "2022-12-11T18:54:11.049Z"
   },
   {
    "duration": 0,
    "start_time": "2022-12-11T18:54:11.051Z"
   },
   {
    "duration": 0,
    "start_time": "2022-12-11T18:54:11.052Z"
   },
   {
    "duration": 115645,
    "start_time": "2022-12-11T18:54:18.305Z"
   },
   {
    "duration": 62,
    "start_time": "2022-12-11T18:56:39.802Z"
   },
   {
    "duration": 62,
    "start_time": "2022-12-11T18:56:53.048Z"
   },
   {
    "duration": 5,
    "start_time": "2022-12-11T18:57:52.316Z"
   },
   {
    "duration": 1326,
    "start_time": "2022-12-11T18:57:55.799Z"
   },
   {
    "duration": 20,
    "start_time": "2022-12-11T19:00:01.571Z"
   },
   {
    "duration": 3,
    "start_time": "2022-12-11T19:00:11.338Z"
   },
   {
    "duration": 99,
    "start_time": "2022-12-11T19:00:14.191Z"
   },
   {
    "duration": 5,
    "start_time": "2022-12-11T19:02:25.168Z"
   },
   {
    "duration": 1257,
    "start_time": "2022-12-11T19:02:36.560Z"
   },
   {
    "duration": 5,
    "start_time": "2022-12-11T19:03:22.564Z"
   },
   {
    "duration": 73028,
    "start_time": "2022-12-11T19:03:27.162Z"
   },
   {
    "duration": 1215,
    "start_time": "2022-12-11T19:06:24.514Z"
   },
   {
    "duration": 1696,
    "start_time": "2022-12-11T19:06:40.939Z"
   },
   {
    "duration": 1862,
    "start_time": "2022-12-11T19:06:48.024Z"
   },
   {
    "duration": 73648,
    "start_time": "2022-12-11T19:08:12.082Z"
   },
   {
    "duration": 3,
    "start_time": "2022-12-11T19:11:40.237Z"
   },
   {
    "duration": 12,
    "start_time": "2022-12-11T19:12:28.791Z"
   },
   {
    "duration": 1526,
    "start_time": "2022-12-11T19:12:30.696Z"
   },
   {
    "duration": 839,
    "start_time": "2022-12-11T19:12:51.221Z"
   },
   {
    "duration": 791,
    "start_time": "2022-12-11T19:12:57.282Z"
   },
   {
    "duration": 42,
    "start_time": "2022-12-11T19:13:30.838Z"
   },
   {
    "duration": 43,
    "start_time": "2022-12-11T19:13:37.656Z"
   },
   {
    "duration": 14,
    "start_time": "2022-12-11T19:13:43.134Z"
   },
   {
    "duration": 814,
    "start_time": "2022-12-11T19:13:45.245Z"
   },
   {
    "duration": 733,
    "start_time": "2022-12-11T19:13:46.966Z"
   },
   {
    "duration": 20,
    "start_time": "2022-12-11T19:14:00.795Z"
   },
   {
    "duration": 7,
    "start_time": "2022-12-11T19:14:17.197Z"
   },
   {
    "duration": 7,
    "start_time": "2022-12-11T19:14:29.747Z"
   },
   {
    "duration": 372,
    "start_time": "2022-12-11T19:14:54.039Z"
   },
   {
    "duration": 825,
    "start_time": "2022-12-11T19:15:02.458Z"
   },
   {
    "duration": 32347,
    "start_time": "2022-12-11T19:17:04.952Z"
   },
   {
    "duration": 4,
    "start_time": "2022-12-11T19:18:27.855Z"
   },
   {
    "duration": 4,
    "start_time": "2022-12-11T19:18:57.243Z"
   },
   {
    "duration": 20,
    "start_time": "2022-12-11T19:19:01.562Z"
   },
   {
    "duration": 76,
    "start_time": "2022-12-11T19:19:12.450Z"
   },
   {
    "duration": 3,
    "start_time": "2022-12-11T19:19:18.490Z"
   },
   {
    "duration": 4,
    "start_time": "2022-12-11T19:19:22.053Z"
   },
   {
    "duration": 23,
    "start_time": "2022-12-11T19:19:28.983Z"
   },
   {
    "duration": 17,
    "start_time": "2022-12-11T19:19:34.176Z"
   },
   {
    "duration": 4,
    "start_time": "2022-12-11T19:19:38.638Z"
   },
   {
    "duration": 24,
    "start_time": "2022-12-11T19:19:47.833Z"
   },
   {
    "duration": 3,
    "start_time": "2022-12-11T19:19:58.131Z"
   },
   {
    "duration": 3,
    "start_time": "2022-12-11T19:20:02.292Z"
   },
   {
    "duration": 5,
    "start_time": "2022-12-11T19:20:07.105Z"
   },
   {
    "duration": 7,
    "start_time": "2022-12-11T19:20:17.596Z"
   },
   {
    "duration": 3,
    "start_time": "2022-12-11T19:20:26.372Z"
   },
   {
    "duration": 9,
    "start_time": "2022-12-11T19:20:34.596Z"
   },
   {
    "duration": 21,
    "start_time": "2022-12-11T19:22:25.078Z"
   },
   {
    "duration": 5,
    "start_time": "2022-12-11T19:22:37.860Z"
   },
   {
    "duration": 4,
    "start_time": "2022-12-11T19:22:47.043Z"
   },
   {
    "duration": 4,
    "start_time": "2022-12-11T19:23:06.486Z"
   },
   {
    "duration": 5,
    "start_time": "2022-12-11T19:23:09.909Z"
   },
   {
    "duration": 4,
    "start_time": "2022-12-11T19:23:18.274Z"
   },
   {
    "duration": 5,
    "start_time": "2022-12-11T19:23:22.614Z"
   },
   {
    "duration": 6,
    "start_time": "2022-12-11T19:23:30.471Z"
   },
   {
    "duration": 5,
    "start_time": "2022-12-11T19:23:37.526Z"
   },
   {
    "duration": 11,
    "start_time": "2022-12-11T19:23:47.750Z"
   },
   {
    "duration": 5,
    "start_time": "2022-12-11T19:23:59.551Z"
   },
   {
    "duration": 10,
    "start_time": "2022-12-11T19:24:08.793Z"
   },
   {
    "duration": 6,
    "start_time": "2022-12-11T19:24:19.085Z"
   },
   {
    "duration": 8,
    "start_time": "2022-12-11T19:24:34.295Z"
   },
   {
    "duration": 45,
    "start_time": "2022-12-12T08:26:02.695Z"
   },
   {
    "duration": 4513,
    "start_time": "2022-12-12T08:26:05.929Z"
   },
   {
    "duration": 3,
    "start_time": "2022-12-12T08:26:10.444Z"
   },
   {
    "duration": 3662,
    "start_time": "2022-12-12T08:26:10.449Z"
   },
   {
    "duration": 2,
    "start_time": "2022-12-12T08:26:14.113Z"
   },
   {
    "duration": 645,
    "start_time": "2022-12-12T08:26:14.117Z"
   },
   {
    "duration": 4,
    "start_time": "2022-12-12T08:26:35.475Z"
   },
   {
    "duration": 284,
    "start_time": "2022-12-12T08:56:49.948Z"
   },
   {
    "duration": 5,
    "start_time": "2022-12-12T08:56:57.099Z"
   },
   {
    "duration": 3,
    "start_time": "2022-12-12T08:56:59.161Z"
   },
   {
    "duration": 1328,
    "start_time": "2022-12-12T08:57:00.097Z"
   },
   {
    "duration": 3,
    "start_time": "2022-12-12T08:57:06.946Z"
   },
   {
    "duration": 2,
    "start_time": "2022-12-12T08:57:07.911Z"
   },
   {
    "duration": 737,
    "start_time": "2022-12-12T08:57:08.915Z"
   },
   {
    "duration": 3,
    "start_time": "2022-12-12T08:57:11.657Z"
   },
   {
    "duration": 75,
    "start_time": "2022-12-12T08:57:12.493Z"
   },
   {
    "duration": 5049,
    "start_time": "2022-12-12T08:57:14.453Z"
   },
   {
    "duration": 11,
    "start_time": "2022-12-12T08:57:19.504Z"
   },
   {
    "duration": 716,
    "start_time": "2022-12-12T08:57:22.786Z"
   },
   {
    "duration": 8,
    "start_time": "2022-12-12T08:57:25.443Z"
   },
   {
    "duration": 2,
    "start_time": "2022-12-12T08:57:29.289Z"
   },
   {
    "duration": 5002,
    "start_time": "2022-12-12T08:57:30.102Z"
   },
   {
    "duration": 3,
    "start_time": "2022-12-12T08:57:36.306Z"
   },
   {
    "duration": 4,
    "start_time": "2022-12-12T08:57:52.059Z"
   },
   {
    "duration": 4,
    "start_time": "2022-12-12T08:58:12.483Z"
   },
   {
    "duration": 17,
    "start_time": "2022-12-12T08:58:19.688Z"
   },
   {
    "duration": 16,
    "start_time": "2022-12-12T08:58:28.440Z"
   },
   {
    "duration": 4,
    "start_time": "2022-12-12T08:58:54.671Z"
   },
   {
    "duration": 3049,
    "start_time": "2022-12-12T09:06:53.149Z"
   },
   {
    "duration": 2172,
    "start_time": "2022-12-12T09:07:02.438Z"
   },
   {
    "duration": 2233,
    "start_time": "2022-12-12T09:07:47.614Z"
   },
   {
    "duration": 1962,
    "start_time": "2022-12-12T09:08:39.038Z"
   },
   {
    "duration": 1633,
    "start_time": "2022-12-12T09:08:42.916Z"
   },
   {
    "duration": 1818,
    "start_time": "2022-12-12T09:08:51.520Z"
   },
   {
    "duration": 1702,
    "start_time": "2022-12-12T09:09:02.169Z"
   },
   {
    "duration": 1697,
    "start_time": "2022-12-12T09:09:09.932Z"
   },
   {
    "duration": 54,
    "start_time": "2022-12-12T09:09:58.648Z"
   },
   {
    "duration": 58,
    "start_time": "2022-12-12T09:10:06.385Z"
   },
   {
    "duration": 1605,
    "start_time": "2022-12-12T09:14:26.810Z"
   },
   {
    "duration": 53,
    "start_time": "2022-12-12T09:14:29.660Z"
   },
   {
    "duration": 26,
    "start_time": "2022-12-12T09:14:35.663Z"
   },
   {
    "duration": 1677,
    "start_time": "2022-12-12T09:17:01.197Z"
   },
   {
    "duration": 26,
    "start_time": "2022-12-12T09:17:05.023Z"
   },
   {
    "duration": 1744,
    "start_time": "2022-12-12T09:17:40.766Z"
   },
   {
    "duration": 27,
    "start_time": "2022-12-12T09:17:42.512Z"
   },
   {
    "duration": 1780,
    "start_time": "2022-12-12T09:18:04.093Z"
   },
   {
    "duration": 28,
    "start_time": "2022-12-12T09:18:06.581Z"
   },
   {
    "duration": 2250,
    "start_time": "2022-12-12T09:18:27.035Z"
   },
   {
    "duration": 23,
    "start_time": "2022-12-12T09:18:49.072Z"
   },
   {
    "duration": 3925,
    "start_time": "2022-12-12T09:24:28.081Z"
   },
   {
    "duration": 4,
    "start_time": "2022-12-12T09:25:02.057Z"
   },
   {
    "duration": 5,
    "start_time": "2022-12-12T09:28:47.236Z"
   },
   {
    "duration": 79,
    "start_time": "2022-12-12T09:28:59.732Z"
   },
   {
    "duration": 4,
    "start_time": "2022-12-12T09:29:01.771Z"
   },
   {
    "duration": 19,
    "start_time": "2022-12-12T09:29:29.743Z"
   },
   {
    "duration": 4,
    "start_time": "2022-12-12T09:30:07.567Z"
   },
   {
    "duration": 18,
    "start_time": "2022-12-12T09:30:36.851Z"
   },
   {
    "duration": 4,
    "start_time": "2022-12-12T09:30:40.058Z"
   },
   {
    "duration": 17,
    "start_time": "2022-12-12T09:30:55.196Z"
   },
   {
    "duration": 18,
    "start_time": "2022-12-12T09:30:59.235Z"
   },
   {
    "duration": 18,
    "start_time": "2022-12-12T09:31:02.592Z"
   },
   {
    "duration": 18,
    "start_time": "2022-12-12T09:31:17.898Z"
   },
   {
    "duration": 4,
    "start_time": "2022-12-12T09:31:21.865Z"
   },
   {
    "duration": 21,
    "start_time": "2022-12-12T09:32:10.373Z"
   },
   {
    "duration": 19,
    "start_time": "2022-12-12T09:32:18.666Z"
   },
   {
    "duration": 19,
    "start_time": "2022-12-12T09:32:24.416Z"
   },
   {
    "duration": 4,
    "start_time": "2022-12-12T09:32:27.881Z"
   },
   {
    "duration": 1885,
    "start_time": "2022-12-12T09:33:35.470Z"
   },
   {
    "duration": 4339,
    "start_time": "2022-12-12T09:33:42.665Z"
   },
   {
    "duration": 4,
    "start_time": "2022-12-12T09:33:51.509Z"
   },
   {
    "duration": 5,
    "start_time": "2022-12-12T09:34:39.616Z"
   },
   {
    "duration": 20,
    "start_time": "2022-12-12T09:34:44.691Z"
   },
   {
    "duration": 4,
    "start_time": "2022-12-12T09:34:50.732Z"
   },
   {
    "duration": 4,
    "start_time": "2022-12-12T09:34:58.794Z"
   },
   {
    "duration": 4,
    "start_time": "2022-12-12T09:35:07.109Z"
   },
   {
    "duration": 152,
    "start_time": "2022-12-12T09:35:29.299Z"
   },
   {
    "duration": 23,
    "start_time": "2022-12-12T09:35:32.204Z"
   },
   {
    "duration": 4,
    "start_time": "2022-12-12T09:35:39.510Z"
   },
   {
    "duration": 17,
    "start_time": "2022-12-12T09:35:42.896Z"
   },
   {
    "duration": 3,
    "start_time": "2022-12-12T09:36:00.468Z"
   },
   {
    "duration": 3,
    "start_time": "2022-12-12T09:36:44.716Z"
   },
   {
    "duration": 4,
    "start_time": "2022-12-12T09:48:58.876Z"
   },
   {
    "duration": 133957,
    "start_time": "2022-12-12T09:49:01.162Z"
   },
   {
    "duration": 5,
    "start_time": "2022-12-12T09:51:15.122Z"
   },
   {
    "duration": 3,
    "start_time": "2022-12-12T09:53:51.134Z"
   },
   {
    "duration": 5347,
    "start_time": "2022-12-12T09:54:12.985Z"
   },
   {
    "duration": 3735,
    "start_time": "2022-12-12T09:54:18.334Z"
   },
   {
    "duration": 4,
    "start_time": "2022-12-12T09:54:22.071Z"
   },
   {
    "duration": 40,
    "start_time": "2022-12-12T09:54:34.911Z"
   },
   {
    "duration": 4,
    "start_time": "2022-12-12T09:55:16.864Z"
   },
   {
    "duration": 4,
    "start_time": "2022-12-12T09:55:19.545Z"
   },
   {
    "duration": 5,
    "start_time": "2022-12-12T10:07:43.325Z"
   },
   {
    "duration": 4,
    "start_time": "2022-12-12T10:07:45.094Z"
   },
   {
    "duration": 25915,
    "start_time": "2022-12-12T10:07:50.597Z"
   },
   {
    "duration": 19271,
    "start_time": "2022-12-12T10:09:00.847Z"
   },
   {
    "duration": 9239,
    "start_time": "2022-12-12T10:10:01.378Z"
   },
   {
    "duration": 93101,
    "start_time": "2022-12-12T10:10:19.914Z"
   },
   {
    "duration": 18,
    "start_time": "2022-12-12T10:17:26.566Z"
   },
   {
    "duration": 4,
    "start_time": "2022-12-12T10:17:48.950Z"
   },
   {
    "duration": 17,
    "start_time": "2022-12-12T10:17:50.507Z"
   },
   {
    "duration": 868,
    "start_time": "2022-12-12T10:18:09.423Z"
   },
   {
    "duration": 18,
    "start_time": "2022-12-12T10:18:14.543Z"
   },
   {
    "duration": 3,
    "start_time": "2022-12-12T10:18:52.521Z"
   },
   {
    "duration": 31079,
    "start_time": "2022-12-12T10:18:54.463Z"
   },
   {
    "duration": 4,
    "start_time": "2022-12-12T10:19:54.969Z"
   },
   {
    "duration": 4,
    "start_time": "2022-12-12T10:20:01.642Z"
   },
   {
    "duration": 30305,
    "start_time": "2022-12-12T10:21:19.710Z"
   },
   {
    "duration": 4,
    "start_time": "2022-12-12T10:22:25.218Z"
   },
   {
    "duration": 3,
    "start_time": "2022-12-12T10:23:58.900Z"
   },
   {
    "duration": 5208,
    "start_time": "2022-12-12T10:24:00.145Z"
   },
   {
    "duration": 4553,
    "start_time": "2022-12-12T10:26:41.064Z"
   },
   {
    "duration": 3,
    "start_time": "2022-12-12T10:26:49.872Z"
   },
   {
    "duration": 4,
    "start_time": "2022-12-12T10:27:03.283Z"
   },
   {
    "duration": 12825,
    "start_time": "2022-12-12T10:27:45.594Z"
   },
   {
    "duration": 1101,
    "start_time": "2022-12-12T10:28:51.378Z"
   },
   {
    "duration": 33679,
    "start_time": "2022-12-12T10:28:54.176Z"
   },
   {
    "duration": 18,
    "start_time": "2022-12-12T10:35:07.940Z"
   },
   {
    "duration": 17,
    "start_time": "2022-12-12T10:35:16.168Z"
   },
   {
    "duration": 4856,
    "start_time": "2022-12-12T10:35:30.297Z"
   },
   {
    "duration": 5,
    "start_time": "2022-12-12T10:35:39.211Z"
   },
   {
    "duration": 17,
    "start_time": "2022-12-12T10:35:42.440Z"
   },
   {
    "duration": 19,
    "start_time": "2022-12-12T10:35:51.267Z"
   },
   {
    "duration": 3,
    "start_time": "2022-12-12T10:35:53.555Z"
   },
   {
    "duration": 8563,
    "start_time": "2022-12-12T10:35:55.056Z"
   },
   {
    "duration": 0,
    "start_time": "2022-12-12T10:36:03.621Z"
   },
   {
    "duration": 12677,
    "start_time": "2022-12-12T10:36:17.744Z"
   },
   {
    "duration": 12491,
    "start_time": "2022-12-12T10:36:30.423Z"
   },
   {
    "duration": 3,
    "start_time": "2022-12-12T10:37:51.565Z"
   },
   {
    "duration": 11705,
    "start_time": "2022-12-12T10:37:52.916Z"
   },
   {
    "duration": 14200,
    "start_time": "2022-12-12T10:38:04.714Z"
   },
   {
    "duration": 145,
    "start_time": "2022-12-12T10:38:18.917Z"
   },
   {
    "duration": 56729,
    "start_time": "2022-12-12T10:38:19.064Z"
   },
   {
    "duration": 19,
    "start_time": "2022-12-12T10:39:15.795Z"
   },
   {
    "duration": 23,
    "start_time": "2022-12-12T10:39:15.817Z"
   },
   {
    "duration": 64309,
    "start_time": "2022-12-12T10:39:17.607Z"
   },
   {
    "duration": 77690,
    "start_time": "2022-12-12T10:40:21.924Z"
   },
   {
    "duration": 99,
    "start_time": "2022-12-12T10:41:39.616Z"
   },
   {
    "duration": 5,
    "start_time": "2022-12-12T10:44:21.039Z"
   },
   {
    "duration": 8,
    "start_time": "2022-12-12T10:44:30.385Z"
   },
   {
    "duration": 6,
    "start_time": "2022-12-12T10:44:50.643Z"
   },
   {
    "duration": 4716,
    "start_time": "2022-12-12T10:45:07.352Z"
   },
   {
    "duration": 3,
    "start_time": "2022-12-12T10:45:12.142Z"
   },
   {
    "duration": 5188,
    "start_time": "2022-12-12T10:45:13.043Z"
   },
   {
    "duration": 3,
    "start_time": "2022-12-12T10:45:26.285Z"
   },
   {
    "duration": 5177,
    "start_time": "2022-12-12T10:45:27.408Z"
   },
   {
    "duration": 4430,
    "start_time": "2022-12-12T10:45:32.587Z"
   },
   {
    "duration": 6,
    "start_time": "2022-12-12T10:45:37.019Z"
   },
   {
    "duration": 5,
    "start_time": "2022-12-12T10:45:47.708Z"
   },
   {
    "duration": 3,
    "start_time": "2022-12-12T10:45:56.477Z"
   },
   {
    "duration": 89776,
    "start_time": "2022-12-12T10:45:57.540Z"
   },
   {
    "duration": 70397,
    "start_time": "2022-12-12T10:47:27.318Z"
   },
   {
    "duration": 74296,
    "start_time": "2022-12-12T10:48:37.717Z"
   },
   {
    "duration": 66903,
    "start_time": "2022-12-12T10:49:52.016Z"
   },
   {
    "duration": 100,
    "start_time": "2022-12-12T10:50:58.923Z"
   },
   {
    "duration": 18,
    "start_time": "2022-12-12T10:50:59.103Z"
   },
   {
    "duration": 4,
    "start_time": "2022-12-12T10:51:40.654Z"
   },
   {
    "duration": 4682,
    "start_time": "2022-12-12T10:52:30.330Z"
   },
   {
    "duration": 3,
    "start_time": "2022-12-12T10:52:35.014Z"
   },
   {
    "duration": 3668,
    "start_time": "2022-12-12T10:52:35.019Z"
   },
   {
    "duration": 2,
    "start_time": "2022-12-12T10:52:38.689Z"
   },
   {
    "duration": 439,
    "start_time": "2022-12-12T10:52:38.693Z"
   },
   {
    "duration": 5082,
    "start_time": "2022-12-12T10:52:39.134Z"
   },
   {
    "duration": 7,
    "start_time": "2022-12-12T10:52:44.218Z"
   },
   {
    "duration": 693,
    "start_time": "2022-12-12T10:52:44.227Z"
   },
   {
    "duration": 31,
    "start_time": "2022-12-12T10:52:44.922Z"
   },
   {
    "duration": 10,
    "start_time": "2022-12-12T10:52:44.955Z"
   },
   {
    "duration": 6,
    "start_time": "2022-12-12T10:52:44.966Z"
   },
   {
    "duration": 5155,
    "start_time": "2022-12-12T10:52:44.974Z"
   },
   {
    "duration": 3772,
    "start_time": "2022-12-12T10:52:50.131Z"
   },
   {
    "duration": 9,
    "start_time": "2022-12-12T10:52:53.905Z"
   },
   {
    "duration": 4,
    "start_time": "2022-12-12T10:52:53.915Z"
   },
   {
    "duration": 5,
    "start_time": "2022-12-12T10:52:53.921Z"
   },
   {
    "duration": 5,
    "start_time": "2022-12-12T10:52:53.927Z"
   },
   {
    "duration": 82387,
    "start_time": "2022-12-12T10:52:53.933Z"
   },
   {
    "duration": 71192,
    "start_time": "2022-12-12T10:54:16.322Z"
   },
   {
    "duration": 87407,
    "start_time": "2022-12-12T10:55:27.515Z"
   },
   {
    "duration": 62289,
    "start_time": "2022-12-12T10:56:54.925Z"
   },
   {
    "duration": 104,
    "start_time": "2022-12-12T10:57:57.215Z"
   },
   {
    "duration": 814265,
    "start_time": "2022-12-12T10:57:57.320Z"
   },
   {
    "duration": 69363,
    "start_time": "2022-12-12T11:11:31.587Z"
   },
   {
    "duration": 3,
    "start_time": "2022-12-12T11:12:40.951Z"
   },
   {
    "duration": 75,
    "start_time": "2022-12-12T11:12:40.956Z"
   },
   {
    "duration": 0,
    "start_time": "2022-12-12T11:12:41.032Z"
   },
   {
    "duration": 0,
    "start_time": "2022-12-12T11:12:41.033Z"
   },
   {
    "duration": 0,
    "start_time": "2022-12-12T11:12:41.035Z"
   },
   {
    "duration": 0,
    "start_time": "2022-12-12T11:12:41.036Z"
   },
   {
    "duration": 36920,
    "start_time": "2022-12-12T11:13:12.615Z"
   },
   {
    "duration": 11,
    "start_time": "2022-12-12T11:13:58.681Z"
   },
   {
    "duration": 123880,
    "start_time": "2022-12-12T11:14:14.602Z"
   },
   {
    "duration": 114885,
    "start_time": "2022-12-12T11:16:18.484Z"
   },
   {
    "duration": 13,
    "start_time": "2022-12-12T11:18:20.703Z"
   },
   {
    "duration": 4,
    "start_time": "2022-12-12T11:21:25.897Z"
   },
   {
    "duration": 29741,
    "start_time": "2022-12-12T11:21:41.305Z"
   },
   {
    "duration": 300119,
    "start_time": "2022-12-12T11:22:11.972Z"
   },
   {
    "duration": 277175,
    "start_time": "2022-12-12T11:27:12.092Z"
   },
   {
    "duration": 17,
    "start_time": "2022-12-12T11:32:18.637Z"
   },
   {
    "duration": 7,
    "start_time": "2022-12-12T11:43:04.927Z"
   },
   {
    "duration": 3,
    "start_time": "2022-12-12T11:43:11.835Z"
   },
   {
    "duration": 4,
    "start_time": "2022-12-12T11:43:42.705Z"
   },
   {
    "duration": 1829,
    "start_time": "2022-12-12T11:43:44.603Z"
   },
   {
    "duration": 1768,
    "start_time": "2022-12-12T11:44:12.498Z"
   },
   {
    "duration": 4,
    "start_time": "2022-12-12T11:44:28.312Z"
   },
   {
    "duration": 3,
    "start_time": "2022-12-12T11:44:30.105Z"
   },
   {
    "duration": 1123,
    "start_time": "2022-12-12T11:44:31.094Z"
   },
   {
    "duration": 5,
    "start_time": "2022-12-12T11:45:17.721Z"
   },
   {
    "duration": 4,
    "start_time": "2022-12-12T11:45:19.965Z"
   },
   {
    "duration": 3,
    "start_time": "2022-12-12T11:45:21.500Z"
   },
   {
    "duration": 6872,
    "start_time": "2022-12-12T11:45:23.092Z"
   },
   {
    "duration": 19,
    "start_time": "2022-12-12T11:45:53.060Z"
   },
   {
    "duration": 6872,
    "start_time": "2022-12-12T11:46:01.610Z"
   },
   {
    "duration": 4,
    "start_time": "2022-12-12T11:46:09.604Z"
   },
   {
    "duration": 3,
    "start_time": "2022-12-12T11:46:10.824Z"
   },
   {
    "duration": 34231,
    "start_time": "2022-12-12T11:46:12.601Z"
   },
   {
    "duration": 5,
    "start_time": "2022-12-12T11:49:01.083Z"
   },
   {
    "duration": 2,
    "start_time": "2022-12-12T11:49:48.977Z"
   },
   {
    "duration": 4,
    "start_time": "2022-12-12T11:49:55.792Z"
   },
   {
    "duration": 4,
    "start_time": "2022-12-12T11:50:06.178Z"
   },
   {
    "duration": 21,
    "start_time": "2022-12-12T11:50:11.608Z"
   },
   {
    "duration": 4,
    "start_time": "2022-12-12T11:50:14.462Z"
   },
   {
    "duration": 21,
    "start_time": "2022-12-12T11:50:30.076Z"
   },
   {
    "duration": 2926,
    "start_time": "2022-12-12T11:50:55.653Z"
   },
   {
    "duration": 11,
    "start_time": "2022-12-12T11:51:08.376Z"
   },
   {
    "duration": 21,
    "start_time": "2022-12-12T11:51:23.713Z"
   },
   {
    "duration": 6,
    "start_time": "2022-12-12T11:51:29.126Z"
   },
   {
    "duration": 5,
    "start_time": "2022-12-12T11:51:36.300Z"
   },
   {
    "duration": 7,
    "start_time": "2022-12-12T11:53:14.503Z"
   },
   {
    "duration": 0,
    "start_time": "2022-12-12T11:53:23.673Z"
   },
   {
    "duration": 33663,
    "start_time": "2022-12-12T11:53:28.323Z"
   },
   {
    "duration": 33212,
    "start_time": "2022-12-12T12:01:57.487Z"
   },
   {
    "duration": 33267,
    "start_time": "2022-12-12T12:02:30.702Z"
   },
   {
    "duration": 7,
    "start_time": "2022-12-12T12:05:13.125Z"
   },
   {
    "duration": 17,
    "start_time": "2022-12-12T12:05:22.317Z"
   },
   {
    "duration": 4,
    "start_time": "2022-12-12T12:05:42.970Z"
   },
   {
    "duration": 34382,
    "start_time": "2022-12-12T12:05:48.845Z"
   },
   {
    "duration": 34379,
    "start_time": "2022-12-12T12:06:23.229Z"
   },
   {
    "duration": 19,
    "start_time": "2022-12-12T12:11:00.193Z"
   },
   {
    "duration": 3737,
    "start_time": "2022-12-12T12:12:08.434Z"
   },
   {
    "duration": 3,
    "start_time": "2022-12-12T12:12:12.174Z"
   },
   {
    "duration": 825,
    "start_time": "2022-12-12T12:12:12.178Z"
   },
   {
    "duration": 3,
    "start_time": "2022-12-12T12:12:13.005Z"
   },
   {
    "duration": 465,
    "start_time": "2022-12-12T12:12:13.010Z"
   },
   {
    "duration": 5177,
    "start_time": "2022-12-12T12:12:13.477Z"
   },
   {
    "duration": 7,
    "start_time": "2022-12-12T12:12:18.656Z"
   },
   {
    "duration": 799,
    "start_time": "2022-12-12T12:12:18.665Z"
   },
   {
    "duration": 36,
    "start_time": "2022-12-12T12:12:19.465Z"
   },
   {
    "duration": 9,
    "start_time": "2022-12-12T12:12:19.504Z"
   },
   {
    "duration": 6,
    "start_time": "2022-12-12T12:12:19.514Z"
   },
   {
    "duration": 5354,
    "start_time": "2022-12-12T12:12:19.522Z"
   },
   {
    "duration": 4857,
    "start_time": "2022-12-12T12:12:24.877Z"
   },
   {
    "duration": 4,
    "start_time": "2022-12-12T12:12:29.736Z"
   },
   {
    "duration": 23,
    "start_time": "2022-12-12T12:12:29.743Z"
   },
   {
    "duration": 33,
    "start_time": "2022-12-12T12:12:29.767Z"
   },
   {
    "duration": 22,
    "start_time": "2022-12-12T12:12:29.802Z"
   },
   {
    "duration": 52,
    "start_time": "2022-12-12T12:12:29.825Z"
   },
   {
    "duration": 104535,
    "start_time": "2022-12-12T12:12:29.879Z"
   },
   {
    "duration": 99798,
    "start_time": "2022-12-12T12:14:14.416Z"
   },
   {
    "duration": 93402,
    "start_time": "2022-12-12T12:15:54.216Z"
   },
   {
    "duration": 82895,
    "start_time": "2022-12-12T12:17:27.620Z"
   },
   {
    "duration": 101,
    "start_time": "2022-12-12T12:18:50.518Z"
   },
   {
    "duration": 111765,
    "start_time": "2022-12-12T12:18:50.621Z"
   },
   {
    "duration": 125227,
    "start_time": "2022-12-12T12:20:42.387Z"
   },
   {
    "duration": 293473,
    "start_time": "2022-12-12T12:22:47.616Z"
   },
   {
    "duration": 273410,
    "start_time": "2022-12-12T12:27:41.091Z"
   },
   {
    "duration": 2,
    "start_time": "2022-12-12T12:32:14.505Z"
   },
   {
    "duration": 203,
    "start_time": "2022-12-12T12:32:19.331Z"
   },
   {
    "duration": 204,
    "start_time": "2022-12-12T12:32:19.535Z"
   },
   {
    "duration": 0,
    "start_time": "2022-12-12T12:32:19.741Z"
   },
   {
    "duration": 0,
    "start_time": "2022-12-12T12:32:19.742Z"
   },
   {
    "duration": 33705,
    "start_time": "2022-12-12T12:33:02.127Z"
   },
   {
    "duration": 34985,
    "start_time": "2022-12-12T12:33:48.231Z"
   },
   {
    "duration": 34027,
    "start_time": "2022-12-12T12:34:23.218Z"
   },
   {
    "duration": 34317,
    "start_time": "2022-12-12T12:34:57.246Z"
   },
   {
    "duration": 17,
    "start_time": "2022-12-12T12:35:54.161Z"
   },
   {
    "duration": 4170,
    "start_time": "2022-12-12T12:47:56.565Z"
   },
   {
    "duration": 6,
    "start_time": "2022-12-12T12:48:03.039Z"
   },
   {
    "duration": 3921,
    "start_time": "2022-12-12T12:48:20.913Z"
   },
   {
    "duration": 3,
    "start_time": "2022-12-12T12:48:24.836Z"
   },
   {
    "duration": 820,
    "start_time": "2022-12-12T12:48:24.841Z"
   },
   {
    "duration": 3,
    "start_time": "2022-12-12T12:48:25.663Z"
   },
   {
    "duration": 447,
    "start_time": "2022-12-12T12:48:25.668Z"
   },
   {
    "duration": 5232,
    "start_time": "2022-12-12T12:48:26.117Z"
   },
   {
    "duration": 6,
    "start_time": "2022-12-12T12:48:31.351Z"
   },
   {
    "duration": 736,
    "start_time": "2022-12-12T12:48:31.359Z"
   },
   {
    "duration": 44,
    "start_time": "2022-12-12T12:48:32.097Z"
   },
   {
    "duration": 18,
    "start_time": "2022-12-12T12:48:32.144Z"
   },
   {
    "duration": 6,
    "start_time": "2022-12-12T12:48:32.164Z"
   },
   {
    "duration": 5154,
    "start_time": "2022-12-12T12:48:32.172Z"
   },
   {
    "duration": 5735,
    "start_time": "2022-12-12T12:48:37.328Z"
   },
   {
    "duration": 4,
    "start_time": "2022-12-12T12:48:43.064Z"
   },
   {
    "duration": 35,
    "start_time": "2022-12-12T12:48:43.070Z"
   },
   {
    "duration": 38,
    "start_time": "2022-12-12T12:48:43.107Z"
   },
   {
    "duration": 39,
    "start_time": "2022-12-12T12:48:43.146Z"
   },
   {
    "duration": 13,
    "start_time": "2022-12-12T12:48:43.187Z"
   },
   {
    "duration": 108615,
    "start_time": "2022-12-12T12:48:43.202Z"
   },
   {
    "duration": 88794,
    "start_time": "2022-12-12T12:50:31.819Z"
   },
   {
    "duration": 108401,
    "start_time": "2022-12-12T12:52:00.615Z"
   },
   {
    "duration": 75000,
    "start_time": "2022-12-12T12:53:49.021Z"
   },
   {
    "duration": 110184,
    "start_time": "2022-12-12T12:55:04.023Z"
   },
   {
    "duration": 125133,
    "start_time": "2022-12-12T12:56:54.209Z"
   },
   {
    "duration": 294064,
    "start_time": "2022-12-12T12:58:59.344Z"
   },
   {
    "duration": 276147,
    "start_time": "2022-12-12T13:03:53.409Z"
   },
   {
    "duration": 3,
    "start_time": "2022-12-12T13:08:29.557Z"
   },
   {
    "duration": 34582,
    "start_time": "2022-12-12T13:08:29.564Z"
   },
   {
    "duration": 34428,
    "start_time": "2022-12-12T13:09:04.147Z"
   },
   {
    "duration": 33341,
    "start_time": "2022-12-12T13:09:38.576Z"
   },
   {
    "duration": 33055,
    "start_time": "2022-12-12T13:10:11.919Z"
   },
   {
    "duration": 17,
    "start_time": "2022-12-12T13:10:44.976Z"
   },
   {
    "duration": 316,
    "start_time": "2022-12-12T13:10:44.994Z"
   },
   {
    "duration": 3,
    "start_time": "2022-12-12T13:17:49.444Z"
   },
   {
    "duration": 3,
    "start_time": "2022-12-12T13:17:50.471Z"
   },
   {
    "duration": 750,
    "start_time": "2022-12-12T13:17:56.117Z"
   },
   {
    "duration": 3,
    "start_time": "2022-12-12T13:17:58.770Z"
   },
   {
    "duration": 80,
    "start_time": "2022-12-12T13:17:59.943Z"
   },
   {
    "duration": 5102,
    "start_time": "2022-12-12T13:18:04.568Z"
   },
   {
    "duration": 8,
    "start_time": "2022-12-12T13:18:11.177Z"
   },
   {
    "duration": 787,
    "start_time": "2022-12-12T13:18:14.719Z"
   },
   {
    "duration": 6,
    "start_time": "2022-12-12T13:18:17.793Z"
   },
   {
    "duration": 3,
    "start_time": "2022-12-12T13:18:20.433Z"
   },
   {
    "duration": 5137,
    "start_time": "2022-12-12T13:18:21.421Z"
   },
   {
    "duration": 3,
    "start_time": "2022-12-12T13:18:31.985Z"
   },
   {
    "duration": 18753,
    "start_time": "2022-12-12T13:18:38.806Z"
   },
   {
    "duration": 881,
    "start_time": "2022-12-12T13:18:57.561Z"
   },
   {
    "duration": 4,
    "start_time": "2022-12-12T13:19:04.938Z"
   },
   {
    "duration": 33682,
    "start_time": "2022-12-12T13:19:09.706Z"
   },
   {
    "duration": 33470,
    "start_time": "2022-12-12T13:19:43.390Z"
   },
   {
    "duration": 11,
    "start_time": "2022-12-12T13:20:16.862Z"
   },
   {
    "duration": 4,
    "start_time": "2022-12-12T13:20:30.753Z"
   },
   {
    "duration": 72,
    "start_time": "2022-12-12T13:20:45.119Z"
   },
   {
    "duration": 12,
    "start_time": "2022-12-12T13:20:54.057Z"
   },
   {
    "duration": 154,
    "start_time": "2022-12-12T13:21:26.267Z"
   },
   {
    "duration": 136,
    "start_time": "2022-12-12T13:22:38.440Z"
   },
   {
    "duration": 220,
    "start_time": "2022-12-12T13:22:47.173Z"
   },
   {
    "duration": 22,
    "start_time": "2022-12-12T13:23:22.750Z"
   },
   {
    "duration": 219,
    "start_time": "2022-12-12T13:23:25.999Z"
   },
   {
    "duration": 46,
    "start_time": "2022-12-12T13:23:27.224Z"
   },
   {
    "duration": 38,
    "start_time": "2022-12-12T13:23:31.569Z"
   },
   {
    "duration": 50,
    "start_time": "2022-12-12T13:23:37.493Z"
   },
   {
    "duration": 14,
    "start_time": "2022-12-12T13:23:49.559Z"
   },
   {
    "duration": 37,
    "start_time": "2022-12-12T13:23:58.304Z"
   },
   {
    "duration": 24,
    "start_time": "2022-12-12T13:24:14.463Z"
   },
   {
    "duration": 30,
    "start_time": "2022-12-12T13:24:19.730Z"
   },
   {
    "duration": 33,
    "start_time": "2022-12-12T13:24:37.234Z"
   },
   {
    "duration": 75,
    "start_time": "2022-12-12T13:26:26.792Z"
   },
   {
    "duration": 252,
    "start_time": "2022-12-12T13:26:31.431Z"
   },
   {
    "duration": 12,
    "start_time": "2022-12-12T13:26:44.545Z"
   },
   {
    "duration": 4,
    "start_time": "2022-12-12T13:27:04.723Z"
   },
   {
    "duration": 8,
    "start_time": "2022-12-12T13:27:39.978Z"
   },
   {
    "duration": 271,
    "start_time": "2022-12-12T13:27:46.150Z"
   },
   {
    "duration": 254,
    "start_time": "2022-12-12T13:27:51.141Z"
   },
   {
    "duration": 9,
    "start_time": "2022-12-12T13:29:14.625Z"
   },
   {
    "duration": 4,
    "start_time": "2022-12-12T13:29:15.980Z"
   },
   {
    "duration": 878,
    "start_time": "2022-12-12T13:29:17.612Z"
   },
   {
    "duration": 3,
    "start_time": "2022-12-12T13:29:22.707Z"
   },
   {
    "duration": 100,
    "start_time": "2022-12-12T13:29:25.158Z"
   },
   {
    "duration": 94,
    "start_time": "2022-12-12T13:29:39.580Z"
   },
   {
    "duration": 5319,
    "start_time": "2022-12-12T13:29:41.328Z"
   },
   {
    "duration": 191,
    "start_time": "2022-12-12T13:29:55.954Z"
   },
   {
    "duration": 740,
    "start_time": "2022-12-12T13:30:34.674Z"
   },
   {
    "duration": 206,
    "start_time": "2022-12-12T13:30:42.671Z"
   },
   {
    "duration": 204,
    "start_time": "2022-12-12T13:31:33.985Z"
   },
   {
    "duration": 5236,
    "start_time": "2022-12-12T13:31:37.160Z"
   },
   {
    "duration": 184,
    "start_time": "2022-12-12T13:31:43.238Z"
   },
   {
    "duration": 212,
    "start_time": "2022-12-12T13:32:40.048Z"
   },
   {
    "duration": 10,
    "start_time": "2022-12-12T13:32:46.108Z"
   },
   {
    "duration": 524,
    "start_time": "2022-12-12T13:34:15.635Z"
   },
   {
    "duration": 533,
    "start_time": "2022-12-12T13:34:29.755Z"
   },
   {
    "duration": 193,
    "start_time": "2022-12-12T13:34:39.232Z"
   },
   {
    "duration": 204,
    "start_time": "2022-12-12T13:34:58.543Z"
   },
   {
    "duration": 1091,
    "start_time": "2022-12-12T13:35:14.759Z"
   },
   {
    "duration": 194,
    "start_time": "2022-12-12T13:35:26.398Z"
   },
   {
    "duration": 3,
    "start_time": "2022-12-12T13:37:04.745Z"
   },
   {
    "duration": 187,
    "start_time": "2022-12-12T13:37:18.125Z"
   },
   {
    "duration": 5,
    "start_time": "2022-12-12T13:37:38.091Z"
   },
   {
    "duration": 6,
    "start_time": "2022-12-12T13:38:28.867Z"
   },
   {
    "duration": 5,
    "start_time": "2022-12-12T13:38:36.898Z"
   },
   {
    "duration": 4,
    "start_time": "2022-12-12T13:38:43.299Z"
   },
   {
    "duration": 9,
    "start_time": "2022-12-12T13:40:13.911Z"
   },
   {
    "duration": 6,
    "start_time": "2022-12-12T13:40:56.754Z"
   },
   {
    "duration": 3,
    "start_time": "2022-12-12T13:41:24.079Z"
   },
   {
    "duration": 5,
    "start_time": "2022-12-12T13:41:25.192Z"
   },
   {
    "duration": 17,
    "start_time": "2022-12-12T13:41:26.506Z"
   },
   {
    "duration": 3,
    "start_time": "2022-12-12T13:41:52.645Z"
   },
   {
    "duration": 6,
    "start_time": "2022-12-12T13:41:54.732Z"
   },
   {
    "duration": 7,
    "start_time": "2022-12-12T13:41:55.802Z"
   },
   {
    "duration": 76,
    "start_time": "2022-12-12T13:42:58.727Z"
   },
   {
    "duration": 4,
    "start_time": "2022-12-12T13:43:13.968Z"
   },
   {
    "duration": 344,
    "start_time": "2022-12-12T13:43:22.021Z"
   },
   {
    "duration": 3,
    "start_time": "2022-12-12T13:43:30.967Z"
   },
   {
    "duration": 6,
    "start_time": "2022-12-12T13:43:50.441Z"
   },
   {
    "duration": 5,
    "start_time": "2022-12-12T13:43:54.378Z"
   },
   {
    "duration": 4,
    "start_time": "2022-12-12T13:43:59.868Z"
   },
   {
    "duration": 33,
    "start_time": "2022-12-12T13:44:09.310Z"
   },
   {
    "duration": 134801,
    "start_time": "2022-12-12T13:44:22.145Z"
   },
   {
    "duration": 16,
    "start_time": "2022-12-12T13:46:37.019Z"
   },
   {
    "duration": 3929,
    "start_time": "2022-12-12T13:47:39.545Z"
   },
   {
    "duration": 3,
    "start_time": "2022-12-12T13:47:43.476Z"
   },
   {
    "duration": 873,
    "start_time": "2022-12-12T13:47:43.481Z"
   },
   {
    "duration": 231,
    "start_time": "2022-12-12T13:47:44.356Z"
   },
   {
    "duration": 499,
    "start_time": "2022-12-12T13:47:44.589Z"
   },
   {
    "duration": 6037,
    "start_time": "2022-12-12T13:47:45.090Z"
   },
   {
    "duration": 204,
    "start_time": "2022-12-12T13:47:51.137Z"
   },
   {
    "duration": 223,
    "start_time": "2022-12-12T13:47:51.342Z"
   },
   {
    "duration": 1052698,
    "start_time": "2022-12-12T13:47:51.567Z"
   },
   {
    "duration": 5,
    "start_time": "2022-12-12T14:05:24.268Z"
   },
   {
    "duration": 476,
    "start_time": "2022-12-12T14:05:24.274Z"
   },
   {
    "duration": 9,
    "start_time": "2022-12-12T14:05:24.752Z"
   },
   {
    "duration": 5610,
    "start_time": "2022-12-12T14:05:24.763Z"
   },
   {
    "duration": 5619,
    "start_time": "2022-12-12T14:05:30.375Z"
   },
   {
    "duration": 4,
    "start_time": "2022-12-12T14:05:35.996Z"
   },
   {
    "duration": 18,
    "start_time": "2022-12-12T14:05:36.002Z"
   },
   {
    "duration": 25,
    "start_time": "2022-12-12T14:05:36.021Z"
   },
   {
    "duration": 9,
    "start_time": "2022-12-12T14:05:36.048Z"
   },
   {
    "duration": 5,
    "start_time": "2022-12-12T14:05:36.058Z"
   },
   {
    "duration": 7,
    "start_time": "2022-12-12T14:05:36.065Z"
   },
   {
    "duration": 130445,
    "start_time": "2022-12-12T14:05:36.073Z"
   },
   {
    "duration": 148597,
    "start_time": "2022-12-12T14:07:46.519Z"
   },
   {
    "duration": 126202,
    "start_time": "2022-12-12T14:10:15.127Z"
   },
   {
    "duration": 120138,
    "start_time": "2022-12-12T14:12:21.335Z"
   },
   {
    "duration": 134368,
    "start_time": "2022-12-12T14:14:21.474Z"
   },
   {
    "duration": 326895,
    "start_time": "2022-12-12T14:16:35.844Z"
   },
   {
    "duration": 177831,
    "start_time": "2022-12-12T14:22:02.743Z"
   },
   {
    "duration": 4,
    "start_time": "2022-12-12T14:25:00.579Z"
   },
   {
    "duration": 539,
    "start_time": "2022-12-12T14:25:00.585Z"
   },
   {
    "duration": 3923,
    "start_time": "2022-12-12T14:25:06.447Z"
   },
   {
    "duration": 3,
    "start_time": "2022-12-12T14:25:10.372Z"
   },
   {
    "duration": 878,
    "start_time": "2022-12-12T14:25:10.377Z"
   },
   {
    "duration": 230,
    "start_time": "2022-12-12T14:25:11.257Z"
   },
   {
    "duration": 468,
    "start_time": "2022-12-12T14:25:11.489Z"
   },
   {
    "duration": 5985,
    "start_time": "2022-12-12T14:25:11.958Z"
   },
   {
    "duration": 205,
    "start_time": "2022-12-12T14:25:17.945Z"
   },
   {
    "duration": 209,
    "start_time": "2022-12-12T14:25:18.152Z"
   },
   {
    "duration": 706,
    "start_time": "2022-12-12T14:25:18.363Z"
   },
   {
    "duration": 35,
    "start_time": "2022-12-12T14:25:19.072Z"
   },
   {
    "duration": 39,
    "start_time": "2022-12-12T14:25:19.113Z"
   },
   {
    "duration": 11,
    "start_time": "2022-12-12T14:25:19.154Z"
   },
   {
    "duration": 5792,
    "start_time": "2022-12-12T14:25:19.167Z"
   },
   {
    "duration": 5097,
    "start_time": "2022-12-12T14:25:24.961Z"
   },
   {
    "duration": 4,
    "start_time": "2022-12-12T14:25:30.060Z"
   },
   {
    "duration": 38,
    "start_time": "2022-12-12T14:25:30.065Z"
   },
   {
    "duration": 41,
    "start_time": "2022-12-12T14:25:30.105Z"
   },
   {
    "duration": 27,
    "start_time": "2022-12-12T14:25:30.148Z"
   },
   {
    "duration": 104,
    "start_time": "2022-12-12T14:25:30.177Z"
   },
   {
    "duration": 148330,
    "start_time": "2022-12-12T14:25:30.283Z"
   },
   {
    "duration": 138797,
    "start_time": "2022-12-12T14:27:58.627Z"
   },
   {
    "duration": 178403,
    "start_time": "2022-12-12T14:30:17.425Z"
   },
   {
    "duration": 148209,
    "start_time": "2022-12-12T14:33:15.834Z"
   },
   {
    "duration": 127438,
    "start_time": "2022-12-12T14:35:44.045Z"
   },
   {
    "duration": 141068,
    "start_time": "2022-12-12T14:37:51.485Z"
   },
   {
    "duration": 332116,
    "start_time": "2022-12-12T14:40:12.558Z"
   },
   {
    "duration": 313335,
    "start_time": "2022-12-12T14:45:44.677Z"
   },
   {
    "duration": 6,
    "start_time": "2022-12-12T14:50:58.024Z"
   },
   {
    "duration": 37317,
    "start_time": "2022-12-12T14:50:58.036Z"
   },
   {
    "duration": 36738,
    "start_time": "2022-12-12T14:51:35.354Z"
   },
   {
    "duration": 35213,
    "start_time": "2022-12-12T14:52:12.095Z"
   },
   {
    "duration": 35597,
    "start_time": "2022-12-12T14:52:47.309Z"
   },
   {
    "duration": 37,
    "start_time": "2022-12-12T14:53:22.907Z"
   },
   {
    "duration": 330,
    "start_time": "2022-12-12T14:53:22.946Z"
   },
   {
    "duration": 4,
    "start_time": "2022-12-12T14:53:23.277Z"
   },
   {
    "duration": 12,
    "start_time": "2022-12-12T14:53:23.282Z"
   },
   {
    "duration": 11,
    "start_time": "2022-12-12T14:53:23.296Z"
   },
   {
    "duration": 4677,
    "start_time": "2022-12-12T15:26:12.547Z"
   },
   {
    "duration": 16,
    "start_time": "2022-12-12T15:26:17.226Z"
   },
   {
    "duration": 921,
    "start_time": "2022-12-12T15:26:17.247Z"
   },
   {
    "duration": 237,
    "start_time": "2022-12-12T15:26:18.170Z"
   },
   {
    "duration": 502,
    "start_time": "2022-12-12T15:26:18.409Z"
   },
   {
    "duration": 6539,
    "start_time": "2022-12-12T15:26:18.913Z"
   },
   {
    "duration": 207,
    "start_time": "2022-12-12T15:26:25.455Z"
   },
   {
    "duration": 221,
    "start_time": "2022-12-12T15:26:25.664Z"
   },
   {
    "duration": 709,
    "start_time": "2022-12-12T15:26:25.887Z"
   },
   {
    "duration": 52,
    "start_time": "2022-12-12T15:26:26.598Z"
   },
   {
    "duration": 4,
    "start_time": "2022-12-12T15:26:26.655Z"
   },
   {
    "duration": 4,
    "start_time": "2022-12-12T15:26:26.661Z"
   },
   {
    "duration": 6427,
    "start_time": "2022-12-12T15:26:26.666Z"
   },
   {
    "duration": 7833,
    "start_time": "2022-12-12T15:26:33.095Z"
   },
   {
    "duration": 7,
    "start_time": "2022-12-12T15:26:40.930Z"
   },
   {
    "duration": 60,
    "start_time": "2022-12-12T15:26:40.938Z"
   },
   {
    "duration": 12,
    "start_time": "2022-12-12T15:26:41.000Z"
   },
   {
    "duration": 53,
    "start_time": "2022-12-12T15:26:41.019Z"
   },
   {
    "duration": 24,
    "start_time": "2022-12-12T15:26:41.074Z"
   },
   {
    "duration": 151028,
    "start_time": "2022-12-12T15:26:41.100Z"
   },
   {
    "duration": 125686,
    "start_time": "2022-12-12T15:29:12.131Z"
   },
   {
    "duration": 163200,
    "start_time": "2022-12-12T15:31:17.822Z"
   },
   {
    "duration": 130895,
    "start_time": "2022-12-12T15:34:01.026Z"
   },
   {
    "duration": 131616,
    "start_time": "2022-12-12T15:36:11.930Z"
   },
   {
    "duration": 147034,
    "start_time": "2022-12-12T15:38:23.549Z"
   },
   {
    "duration": 352129,
    "start_time": "2022-12-12T15:40:50.585Z"
   },
   {
    "duration": 320468,
    "start_time": "2022-12-12T15:46:42.719Z"
   },
   {
    "duration": 2,
    "start_time": "2022-12-12T15:52:03.189Z"
   },
   {
    "duration": 37342,
    "start_time": "2022-12-12T15:52:03.193Z"
   },
   {
    "duration": 38096,
    "start_time": "2022-12-12T15:52:40.541Z"
   },
   {
    "duration": 35621,
    "start_time": "2022-12-12T15:53:18.640Z"
   },
   {
    "duration": 35774,
    "start_time": "2022-12-12T15:53:54.262Z"
   },
   {
    "duration": 21,
    "start_time": "2022-12-12T15:54:30.038Z"
   },
   {
    "duration": 347,
    "start_time": "2022-12-12T15:54:30.062Z"
   },
   {
    "duration": 4,
    "start_time": "2022-12-12T15:54:30.411Z"
   },
   {
    "duration": 59,
    "start_time": "2022-12-12T15:54:30.417Z"
   },
   {
    "duration": 25,
    "start_time": "2022-12-12T15:54:30.478Z"
   },
   {
    "duration": 4,
    "start_time": "2022-12-12T16:00:44.168Z"
   },
   {
    "duration": 4,
    "start_time": "2022-12-12T16:00:47.659Z"
   },
   {
    "duration": 9,
    "start_time": "2022-12-12T16:00:53.916Z"
   },
   {
    "duration": 4,
    "start_time": "2022-12-12T16:01:38.803Z"
   },
   {
    "duration": 5,
    "start_time": "2022-12-12T16:01:58.529Z"
   },
   {
    "duration": 4,
    "start_time": "2022-12-12T16:02:01.003Z"
   },
   {
    "duration": 3819,
    "start_time": "2022-12-12T16:02:36.670Z"
   },
   {
    "duration": 3,
    "start_time": "2022-12-12T16:03:02.462Z"
   },
   {
    "duration": 5,
    "start_time": "2022-12-12T16:03:08.197Z"
   },
   {
    "duration": 10,
    "start_time": "2022-12-12T16:03:18.678Z"
   },
   {
    "duration": 4,
    "start_time": "2022-12-12T16:03:49.934Z"
   },
   {
    "duration": 3802,
    "start_time": "2022-12-12T16:04:02.090Z"
   },
   {
    "duration": 269,
    "start_time": "2022-12-12T16:04:42.649Z"
   },
   {
    "duration": 3549,
    "start_time": "2022-12-12T16:04:44.467Z"
   },
   {
    "duration": 1719,
    "start_time": "2022-12-12T16:05:00.368Z"
   },
   {
    "duration": 4,
    "start_time": "2022-12-12T16:05:05.034Z"
   },
   {
    "duration": 10,
    "start_time": "2022-12-12T16:05:09.999Z"
   },
   {
    "duration": 3933,
    "start_time": "2022-12-12T16:05:17.040Z"
   },
   {
    "duration": 103,
    "start_time": "2022-12-12T16:05:39.682Z"
   },
   {
    "duration": 4,
    "start_time": "2022-12-12T16:05:45.630Z"
   },
   {
    "duration": 5,
    "start_time": "2022-12-12T16:05:53.947Z"
   },
   {
    "duration": 17,
    "start_time": "2022-12-12T16:06:08.437Z"
   },
   {
    "duration": 21,
    "start_time": "2022-12-12T16:06:13.155Z"
   },
   {
    "duration": 56,
    "start_time": "2022-12-12T16:06:19.804Z"
   },
   {
    "duration": 4227,
    "start_time": "2022-12-12T16:06:28.854Z"
   },
   {
    "duration": 267,
    "start_time": "2022-12-12T16:06:47.196Z"
   },
   {
    "duration": 15,
    "start_time": "2022-12-12T16:06:55.064Z"
   },
   {
    "duration": 4092,
    "start_time": "2022-12-12T16:07:05.078Z"
   },
   {
    "duration": 256,
    "start_time": "2022-12-12T16:10:48.570Z"
   },
   {
    "duration": 3554,
    "start_time": "2022-12-12T16:10:57.334Z"
   },
   {
    "duration": 22,
    "start_time": "2022-12-12T16:12:31.185Z"
   },
   {
    "duration": 1436,
    "start_time": "2022-12-12T16:13:39.826Z"
   },
   {
    "duration": 1500,
    "start_time": "2022-12-12T16:14:43.389Z"
   },
   {
    "duration": 105,
    "start_time": "2022-12-12T16:15:49.039Z"
   },
   {
    "duration": 67,
    "start_time": "2022-12-12T16:15:55.240Z"
   },
   {
    "duration": 29,
    "start_time": "2022-12-12T16:15:58.596Z"
   },
   {
    "duration": 111,
    "start_time": "2022-12-12T16:16:09.644Z"
   },
   {
    "duration": 128,
    "start_time": "2022-12-12T16:16:21.041Z"
   },
   {
    "duration": 4,
    "start_time": "2022-12-12T16:16:27.787Z"
   },
   {
    "duration": 282,
    "start_time": "2022-12-12T16:17:26.873Z"
   },
   {
    "duration": 3149,
    "start_time": "2022-12-12T16:17:36.641Z"
   },
   {
    "duration": 3686,
    "start_time": "2022-12-12T16:19:27.771Z"
   },
   {
    "duration": 521,
    "start_time": "2022-12-12T16:20:02.740Z"
   },
   {
    "duration": 8,
    "start_time": "2022-12-12T16:20:18.593Z"
   },
   {
    "duration": 5,
    "start_time": "2022-12-12T16:23:10.132Z"
   },
   {
    "duration": 7,
    "start_time": "2022-12-12T16:23:48.907Z"
   },
   {
    "duration": 4234,
    "start_time": "2022-12-12T16:24:10.606Z"
   },
   {
    "duration": 36564,
    "start_time": "2022-12-12T16:24:34.079Z"
   },
   {
    "duration": 5,
    "start_time": "2022-12-12T16:25:25.744Z"
   },
   {
    "duration": 3148,
    "start_time": "2022-12-12T16:25:41.860Z"
   },
   {
    "duration": 246,
    "start_time": "2022-12-12T16:26:45.386Z"
   },
   {
    "duration": 3124,
    "start_time": "2022-12-12T16:26:52.665Z"
   },
   {
    "duration": 299,
    "start_time": "2022-12-12T16:27:47.709Z"
   },
   {
    "duration": 3262,
    "start_time": "2022-12-12T16:27:52.299Z"
   },
   {
    "duration": 288,
    "start_time": "2022-12-12T16:29:14.213Z"
   },
   {
    "duration": 3278,
    "start_time": "2022-12-12T16:29:19.450Z"
   },
   {
    "duration": 289,
    "start_time": "2022-12-12T16:29:40.095Z"
   },
   {
    "duration": 267,
    "start_time": "2022-12-12T16:30:03.091Z"
   },
   {
    "duration": 275,
    "start_time": "2022-12-12T16:30:09.444Z"
   },
   {
    "duration": 505,
    "start_time": "2022-12-12T16:30:13.365Z"
   },
   {
    "duration": 7,
    "start_time": "2022-12-12T16:30:17.542Z"
   },
   {
    "duration": 3362,
    "start_time": "2022-12-12T16:30:26.889Z"
   },
   {
    "duration": 269,
    "start_time": "2022-12-12T16:30:37.257Z"
   },
   {
    "duration": 269,
    "start_time": "2022-12-12T16:30:48.277Z"
   },
   {
    "duration": 21,
    "start_time": "2022-12-12T16:30:51.409Z"
   },
   {
    "duration": 290,
    "start_time": "2022-12-12T16:31:23.258Z"
   },
   {
    "duration": 2601,
    "start_time": "2022-12-12T16:31:26.643Z"
   },
   {
    "duration": 15,
    "start_time": "2022-12-12T16:31:30.686Z"
   },
   {
    "duration": 2619,
    "start_time": "2022-12-12T16:31:38.535Z"
   },
   {
    "duration": 13,
    "start_time": "2022-12-12T16:31:42.349Z"
   },
   {
    "duration": 278,
    "start_time": "2022-12-12T16:32:03.285Z"
   },
   {
    "duration": 2109,
    "start_time": "2022-12-12T16:32:39.948Z"
   },
   {
    "duration": 262,
    "start_time": "2022-12-12T16:32:55.837Z"
   },
   {
    "duration": 1957,
    "start_time": "2022-12-12T16:32:57.139Z"
   },
   {
    "duration": 1826,
    "start_time": "2022-12-12T16:33:09.757Z"
   },
   {
    "duration": 16,
    "start_time": "2022-12-12T16:33:14.109Z"
   },
   {
    "duration": 1905,
    "start_time": "2022-12-12T16:33:18.833Z"
   },
   {
    "duration": 11,
    "start_time": "2022-12-12T16:33:22.088Z"
   },
   {
    "duration": 3,
    "start_time": "2022-12-12T16:35:16.978Z"
   },
   {
    "duration": 17756,
    "start_time": "2022-12-12T16:35:25.199Z"
   },
   {
    "duration": 0,
    "start_time": "2022-12-12T16:35:42.958Z"
   },
   {
    "duration": 1271,
    "start_time": "2022-12-12T16:35:47.800Z"
   },
   {
    "duration": 38230,
    "start_time": "2022-12-12T16:35:51.045Z"
   },
   {
    "duration": 1172,
    "start_time": "2022-12-12T16:36:35.806Z"
   },
   {
    "duration": 13,
    "start_time": "2022-12-12T16:36:38.883Z"
   },
   {
    "duration": 3,
    "start_time": "2022-12-12T16:38:30.848Z"
   },
   {
    "duration": 38628,
    "start_time": "2022-12-12T16:38:37.976Z"
   },
   {
    "duration": 1111,
    "start_time": "2022-12-12T16:40:00.493Z"
   },
   {
    "duration": 12,
    "start_time": "2022-12-12T16:40:03.763Z"
   },
   {
    "duration": 3,
    "start_time": "2022-12-12T16:40:26.382Z"
   },
   {
    "duration": 36903,
    "start_time": "2022-12-12T16:40:28.324Z"
   },
   {
    "duration": 38248,
    "start_time": "2022-12-12T16:41:05.229Z"
   },
   {
    "duration": 35525,
    "start_time": "2022-12-12T16:41:43.479Z"
   },
   {
    "duration": 36760,
    "start_time": "2022-12-12T16:42:19.006Z"
   },
   {
    "duration": 15,
    "start_time": "2022-12-12T16:44:00.072Z"
   },
   {
    "duration": 5326,
    "start_time": "2022-12-12T16:44:50.341Z"
   },
   {
    "duration": 3,
    "start_time": "2022-12-12T16:44:55.670Z"
   },
   {
    "duration": 867,
    "start_time": "2022-12-12T16:44:55.674Z"
   },
   {
    "duration": 232,
    "start_time": "2022-12-12T16:44:56.543Z"
   },
   {
    "duration": 481,
    "start_time": "2022-12-12T16:44:56.776Z"
   },
   {
    "duration": 6001,
    "start_time": "2022-12-12T16:44:57.258Z"
   },
   {
    "duration": 196,
    "start_time": "2022-12-12T16:45:03.261Z"
   },
   {
    "duration": 213,
    "start_time": "2022-12-12T16:45:03.459Z"
   },
   {
    "duration": 679,
    "start_time": "2022-12-12T16:45:03.674Z"
   },
   {
    "duration": 33,
    "start_time": "2022-12-12T16:45:04.356Z"
   },
   {
    "duration": 8,
    "start_time": "2022-12-12T16:45:04.391Z"
   },
   {
    "duration": 20,
    "start_time": "2022-12-12T16:45:04.401Z"
   },
   {
    "duration": 5672,
    "start_time": "2022-12-12T16:45:04.431Z"
   },
   {
    "duration": 5325,
    "start_time": "2022-12-12T16:45:10.105Z"
   },
   {
    "duration": 7,
    "start_time": "2022-12-12T16:45:15.433Z"
   },
   {
    "duration": 27,
    "start_time": "2022-12-12T16:45:15.443Z"
   },
   {
    "duration": 13,
    "start_time": "2022-12-12T16:45:15.471Z"
   },
   {
    "duration": 7,
    "start_time": "2022-12-12T16:45:15.486Z"
   },
   {
    "duration": 9,
    "start_time": "2022-12-12T16:45:15.495Z"
   },
   {
    "duration": 160713,
    "start_time": "2022-12-12T16:45:15.506Z"
   },
   {
    "duration": 124304,
    "start_time": "2022-12-12T16:47:56.227Z"
   },
   {
    "duration": 138610,
    "start_time": "2022-12-12T16:50:00.617Z"
   },
   {
    "duration": 63305,
    "start_time": "2022-12-12T16:52:19.228Z"
   },
   {
    "duration": 0,
    "start_time": "2022-12-12T16:53:22.535Z"
   },
   {
    "duration": 0,
    "start_time": "2022-12-12T16:53:22.536Z"
   },
   {
    "duration": 0,
    "start_time": "2022-12-12T16:53:22.537Z"
   },
   {
    "duration": 0,
    "start_time": "2022-12-12T16:53:22.538Z"
   },
   {
    "duration": 0,
    "start_time": "2022-12-12T16:53:22.540Z"
   },
   {
    "duration": 0,
    "start_time": "2022-12-12T16:53:22.541Z"
   },
   {
    "duration": 0,
    "start_time": "2022-12-12T16:53:22.542Z"
   },
   {
    "duration": 0,
    "start_time": "2022-12-12T16:53:22.543Z"
   },
   {
    "duration": 0,
    "start_time": "2022-12-12T16:53:22.544Z"
   },
   {
    "duration": 0,
    "start_time": "2022-12-12T16:53:22.545Z"
   },
   {
    "duration": 0,
    "start_time": "2022-12-12T16:53:22.546Z"
   },
   {
    "duration": 0,
    "start_time": "2022-12-12T16:53:22.548Z"
   },
   {
    "duration": 0,
    "start_time": "2022-12-12T16:53:22.549Z"
   },
   {
    "duration": 1,
    "start_time": "2022-12-12T16:53:22.550Z"
   },
   {
    "duration": 3979,
    "start_time": "2022-12-12T16:53:51.132Z"
   },
   {
    "duration": 9,
    "start_time": "2022-12-12T16:53:55.116Z"
   },
   {
    "duration": 860,
    "start_time": "2022-12-12T16:53:55.129Z"
   },
   {
    "duration": 240,
    "start_time": "2022-12-12T16:53:55.991Z"
   },
   {
    "duration": 492,
    "start_time": "2022-12-12T16:53:56.235Z"
   },
   {
    "duration": 5635,
    "start_time": "2022-12-12T16:53:56.728Z"
   },
   {
    "duration": 199,
    "start_time": "2022-12-12T16:54:02.365Z"
   },
   {
    "duration": 220,
    "start_time": "2022-12-12T16:54:02.566Z"
   },
   {
    "duration": 643,
    "start_time": "2022-12-12T16:54:02.788Z"
   },
   {
    "duration": 34,
    "start_time": "2022-12-12T16:54:03.433Z"
   },
   {
    "duration": 8,
    "start_time": "2022-12-12T16:54:03.469Z"
   },
   {
    "duration": 5,
    "start_time": "2022-12-12T16:54:03.478Z"
   },
   {
    "duration": 5500,
    "start_time": "2022-12-12T16:54:03.485Z"
   },
   {
    "duration": 4664,
    "start_time": "2022-12-12T16:54:08.988Z"
   },
   {
    "duration": 4,
    "start_time": "2022-12-12T16:54:13.655Z"
   },
   {
    "duration": 23,
    "start_time": "2022-12-12T16:54:13.661Z"
   },
   {
    "duration": 19,
    "start_time": "2022-12-12T16:54:13.686Z"
   },
   {
    "duration": 43,
    "start_time": "2022-12-12T16:54:13.707Z"
   },
   {
    "duration": 30,
    "start_time": "2022-12-12T16:54:13.751Z"
   },
   {
    "duration": 344,
    "start_time": "2022-12-12T16:54:13.783Z"
   },
   {
    "duration": 0,
    "start_time": "2022-12-12T16:54:14.128Z"
   },
   {
    "duration": 0,
    "start_time": "2022-12-12T16:54:14.129Z"
   },
   {
    "duration": 0,
    "start_time": "2022-12-12T16:54:14.130Z"
   },
   {
    "duration": 0,
    "start_time": "2022-12-12T16:54:14.131Z"
   },
   {
    "duration": 0,
    "start_time": "2022-12-12T16:54:14.132Z"
   },
   {
    "duration": 0,
    "start_time": "2022-12-12T16:54:14.134Z"
   },
   {
    "duration": 0,
    "start_time": "2022-12-12T16:54:14.135Z"
   },
   {
    "duration": 0,
    "start_time": "2022-12-12T16:54:14.136Z"
   },
   {
    "duration": 0,
    "start_time": "2022-12-12T16:54:14.137Z"
   },
   {
    "duration": 0,
    "start_time": "2022-12-12T16:54:14.138Z"
   },
   {
    "duration": 0,
    "start_time": "2022-12-12T16:54:14.139Z"
   },
   {
    "duration": 0,
    "start_time": "2022-12-12T16:54:14.141Z"
   },
   {
    "duration": 0,
    "start_time": "2022-12-12T16:54:14.141Z"
   },
   {
    "duration": 0,
    "start_time": "2022-12-12T16:54:14.142Z"
   },
   {
    "duration": 0,
    "start_time": "2022-12-12T16:54:14.144Z"
   },
   {
    "duration": 1,
    "start_time": "2022-12-12T16:54:14.144Z"
   },
   {
    "duration": 0,
    "start_time": "2022-12-12T16:54:14.146Z"
   },
   {
    "duration": 0,
    "start_time": "2022-12-12T16:54:14.147Z"
   },
   {
    "duration": 3,
    "start_time": "2022-12-12T16:54:20.681Z"
   },
   {
    "duration": 2068,
    "start_time": "2022-12-12T16:55:12.888Z"
   },
   {
    "duration": 36715,
    "start_time": "2022-12-12T16:55:34.793Z"
   },
   {
    "duration": 3,
    "start_time": "2022-12-12T16:56:14.037Z"
   },
   {
    "duration": 2,
    "start_time": "2022-12-12T16:56:24.242Z"
   },
   {
    "duration": 4,
    "start_time": "2022-12-12T16:56:29.934Z"
   },
   {
    "duration": 21,
    "start_time": "2022-12-12T16:57:06.399Z"
   },
   {
    "duration": 313,
    "start_time": "2022-12-12T16:57:09.468Z"
   },
   {
    "duration": 20,
    "start_time": "2022-12-12T16:57:11.757Z"
   },
   {
    "duration": 1197,
    "start_time": "2022-12-12T16:57:53.403Z"
   },
   {
    "duration": 1077,
    "start_time": "2022-12-12T16:57:57.663Z"
   },
   {
    "duration": 1070,
    "start_time": "2022-12-12T16:58:17.285Z"
   },
   {
    "duration": 152101,
    "start_time": "2022-12-12T16:58:51.914Z"
   },
   {
    "duration": 144698,
    "start_time": "2022-12-12T17:01:24.017Z"
   },
   {
    "duration": 136115,
    "start_time": "2022-12-12T17:03:48.717Z"
   },
   {
    "duration": 100182,
    "start_time": "2022-12-12T17:06:04.834Z"
   },
   {
    "duration": 118904,
    "start_time": "2022-12-12T17:07:45.020Z"
   },
   {
    "duration": 132448,
    "start_time": "2022-12-12T17:09:43.926Z"
   },
   {
    "duration": 314377,
    "start_time": "2022-12-12T17:11:56.376Z"
   },
   {
    "duration": 291024,
    "start_time": "2022-12-12T17:17:10.755Z"
   },
   {
    "duration": 4,
    "start_time": "2022-12-12T17:22:01.781Z"
   },
   {
    "duration": 36088,
    "start_time": "2022-12-12T17:22:01.788Z"
   },
   {
    "duration": 37053,
    "start_time": "2022-12-12T17:22:37.878Z"
   },
   {
    "duration": 35042,
    "start_time": "2022-12-12T17:23:14.933Z"
   },
   {
    "duration": 35981,
    "start_time": "2022-12-12T17:23:49.976Z"
   },
   {
    "duration": 15,
    "start_time": "2022-12-12T17:24:25.959Z"
   },
   {
    "duration": 257,
    "start_time": "2022-12-12T17:24:25.975Z"
   },
   {
    "duration": 3,
    "start_time": "2022-12-12T17:24:26.234Z"
   },
   {
    "duration": 10,
    "start_time": "2022-12-12T17:24:26.238Z"
   },
   {
    "duration": 13,
    "start_time": "2022-12-12T17:24:26.249Z"
   },
   {
    "duration": 85,
    "start_time": "2022-12-12T17:50:48.935Z"
   },
   {
    "duration": 255,
    "start_time": "2022-12-12T17:50:54.785Z"
   },
   {
    "duration": 241,
    "start_time": "2022-12-12T17:51:04.757Z"
   },
   {
    "duration": 4,
    "start_time": "2022-12-12T17:52:12.674Z"
   },
   {
    "duration": 83,
    "start_time": "2022-12-12T17:52:44.628Z"
   },
   {
    "duration": 76,
    "start_time": "2022-12-12T17:53:02.192Z"
   },
   {
    "duration": 5,
    "start_time": "2022-12-12T17:53:06.365Z"
   },
   {
    "duration": 1602,
    "start_time": "2022-12-12T17:53:39.032Z"
   },
   {
    "duration": 1537,
    "start_time": "2022-12-12T17:53:44.514Z"
   },
   {
    "duration": 242,
    "start_time": "2022-12-12T17:54:23.777Z"
   },
   {
    "duration": 253,
    "start_time": "2022-12-12T17:54:27.543Z"
   },
   {
    "duration": 5,
    "start_time": "2022-12-12T17:54:54.692Z"
   },
   {
    "duration": 3,
    "start_time": "2022-12-12T17:55:25.439Z"
   },
   {
    "duration": 4,
    "start_time": "2022-12-12T17:55:32.374Z"
   },
   {
    "duration": 4,
    "start_time": "2022-12-12T17:56:04.099Z"
   },
   {
    "duration": 7,
    "start_time": "2022-12-12T17:56:28.425Z"
   },
   {
    "duration": 22,
    "start_time": "2022-12-12T17:56:50.787Z"
   },
   {
    "duration": 2,
    "start_time": "2022-12-12T17:57:07.301Z"
   },
   {
    "duration": 5,
    "start_time": "2022-12-12T17:57:09.404Z"
   },
   {
    "duration": 4,
    "start_time": "2022-12-12T17:57:25.231Z"
   },
   {
    "duration": 4,
    "start_time": "2022-12-12T17:57:31.241Z"
   },
   {
    "duration": 30,
    "start_time": "2022-12-12T17:58:10.181Z"
   },
   {
    "duration": 4,
    "start_time": "2022-12-12T17:58:33.413Z"
   },
   {
    "duration": 7,
    "start_time": "2022-12-12T17:58:35.418Z"
   },
   {
    "duration": 238,
    "start_time": "2022-12-12T17:59:03.379Z"
   },
   {
    "duration": 301,
    "start_time": "2022-12-12T17:59:14.080Z"
   },
   {
    "duration": 3,
    "start_time": "2022-12-12T17:59:17.292Z"
   },
   {
    "duration": 7,
    "start_time": "2022-12-12T17:59:19.070Z"
   },
   {
    "duration": 352,
    "start_time": "2022-12-12T17:59:30.133Z"
   },
   {
    "duration": 3,
    "start_time": "2022-12-12T17:59:32.440Z"
   },
   {
    "duration": 7,
    "start_time": "2022-12-12T17:59:33.804Z"
   },
   {
    "duration": 19,
    "start_time": "2022-12-12T17:59:51.099Z"
   },
   {
    "duration": 4,
    "start_time": "2022-12-12T17:59:56.865Z"
   },
   {
    "duration": 311,
    "start_time": "2022-12-12T18:01:37.684Z"
   },
   {
    "duration": 4,
    "start_time": "2022-12-12T18:01:39.253Z"
   },
   {
    "duration": 8,
    "start_time": "2022-12-12T18:01:39.904Z"
   },
   {
    "duration": 321,
    "start_time": "2022-12-12T18:01:46.773Z"
   },
   {
    "duration": 70,
    "start_time": "2022-12-12T18:01:49.890Z"
   },
   {
    "duration": 7,
    "start_time": "2022-12-12T18:01:52.428Z"
   },
   {
    "duration": 6,
    "start_time": "2022-12-12T18:01:58.908Z"
   },
   {
    "duration": 4,
    "start_time": "2022-12-12T18:03:22.513Z"
   },
   {
    "duration": 4,
    "start_time": "2022-12-12T18:03:46.800Z"
   },
   {
    "duration": 27,
    "start_time": "2022-12-12T18:03:51.471Z"
   },
   {
    "duration": 9,
    "start_time": "2022-12-12T18:12:33.773Z"
   },
   {
    "duration": 5,
    "start_time": "2022-12-12T18:12:35.024Z"
   },
   {
    "duration": 10,
    "start_time": "2022-12-12T18:13:03.518Z"
   },
   {
    "duration": 6,
    "start_time": "2022-12-12T18:13:04.844Z"
   },
   {
    "duration": 9,
    "start_time": "2022-12-12T18:13:14.538Z"
   },
   {
    "duration": 7,
    "start_time": "2022-12-12T18:13:15.709Z"
   },
   {
    "duration": 559,
    "start_time": "2022-12-12T18:26:09.412Z"
   },
   {
    "duration": 566,
    "start_time": "2022-12-12T18:26:38.716Z"
   },
   {
    "duration": 646,
    "start_time": "2022-12-12T18:26:55.374Z"
   },
   {
    "duration": 301,
    "start_time": "2022-12-12T18:28:40.251Z"
   },
   {
    "duration": 609,
    "start_time": "2022-12-12T18:28:51.063Z"
   },
   {
    "duration": 70,
    "start_time": "2022-12-12T18:29:15.211Z"
   },
   {
    "duration": 89,
    "start_time": "2022-12-12T18:29:24.121Z"
   },
   {
    "duration": 603,
    "start_time": "2022-12-12T18:29:28.300Z"
   },
   {
    "duration": 657,
    "start_time": "2022-12-12T18:30:00.179Z"
   },
   {
    "duration": 246,
    "start_time": "2022-12-12T18:30:11.110Z"
   },
   {
    "duration": 582,
    "start_time": "2022-12-12T18:30:28.942Z"
   },
   {
    "duration": 639,
    "start_time": "2022-12-12T18:30:56.976Z"
   },
   {
    "duration": 262,
    "start_time": "2022-12-12T18:31:40.516Z"
   },
   {
    "duration": 5,
    "start_time": "2022-12-12T18:36:30.976Z"
   },
   {
    "duration": 5,
    "start_time": "2022-12-12T18:36:41.540Z"
   },
   {
    "duration": 2,
    "start_time": "2022-12-12T18:37:14.268Z"
   },
   {
    "duration": 35296,
    "start_time": "2022-12-12T18:37:15.590Z"
   },
   {
    "duration": 34465,
    "start_time": "2022-12-12T18:37:50.889Z"
   },
   {
    "duration": 4,
    "start_time": "2022-12-12T18:38:54.245Z"
   },
   {
    "duration": 33958,
    "start_time": "2022-12-12T18:39:04.499Z"
   },
   {
    "duration": 16,
    "start_time": "2022-12-12T18:39:48.814Z"
   },
   {
    "duration": 4,
    "start_time": "2022-12-12T18:40:14.449Z"
   },
   {
    "duration": 23,
    "start_time": "2022-12-12T18:40:24.907Z"
   },
   {
    "duration": 8,
    "start_time": "2022-12-12T18:40:36.778Z"
   },
   {
    "duration": 259,
    "start_time": "2022-12-12T18:40:49.486Z"
   },
   {
    "duration": 2700,
    "start_time": "2022-12-12T18:41:04.983Z"
   },
   {
    "duration": 10,
    "start_time": "2022-12-12T18:42:32.438Z"
   },
   {
    "duration": 255,
    "start_time": "2022-12-12T18:42:53.290Z"
   },
   {
    "duration": 10,
    "start_time": "2022-12-12T18:42:56.045Z"
   },
   {
    "duration": 5,
    "start_time": "2022-12-12T18:43:26.708Z"
   },
   {
    "duration": 291,
    "start_time": "2022-12-12T18:43:31.314Z"
   },
   {
    "duration": 11,
    "start_time": "2022-12-12T18:43:32.849Z"
   },
   {
    "duration": 288,
    "start_time": "2022-12-12T18:44:07.430Z"
   },
   {
    "duration": 9,
    "start_time": "2022-12-12T18:44:10.498Z"
   },
   {
    "duration": 254,
    "start_time": "2022-12-12T18:44:16.288Z"
   },
   {
    "duration": 9,
    "start_time": "2022-12-12T18:44:18.018Z"
   },
   {
    "duration": 7,
    "start_time": "2022-12-12T18:44:26.681Z"
   },
   {
    "duration": 5,
    "start_time": "2022-12-12T18:45:47.658Z"
   },
   {
    "duration": 5,
    "start_time": "2022-12-12T18:45:52.034Z"
   },
   {
    "duration": 5,
    "start_time": "2022-12-12T18:46:04.391Z"
   },
   {
    "duration": 2605,
    "start_time": "2022-12-12T18:46:16.010Z"
   },
   {
    "duration": 5,
    "start_time": "2022-12-12T18:46:55.517Z"
   },
   {
    "duration": 35116,
    "start_time": "2022-12-12T18:47:10.034Z"
   },
   {
    "duration": 16,
    "start_time": "2022-12-12T18:47:45.152Z"
   },
   {
    "duration": 6,
    "start_time": "2022-12-12T18:47:56.272Z"
   },
   {
    "duration": 2755,
    "start_time": "2022-12-12T18:47:57.353Z"
   },
   {
    "duration": 2715,
    "start_time": "2022-12-12T18:48:12.024Z"
   },
   {
    "duration": 9777,
    "start_time": "2022-12-12T18:49:14.772Z"
   },
   {
    "duration": 9472,
    "start_time": "2022-12-12T18:49:29.209Z"
   },
   {
    "duration": 4,
    "start_time": "2022-12-12T18:49:59.151Z"
   },
   {
    "duration": 33,
    "start_time": "2022-12-12T18:50:12.700Z"
   },
   {
    "duration": 5,
    "start_time": "2022-12-12T18:50:26.657Z"
   },
   {
    "duration": 5,
    "start_time": "2022-12-12T18:50:30.211Z"
   },
   {
    "duration": 280,
    "start_time": "2022-12-12T18:50:32.685Z"
   },
   {
    "duration": 5,
    "start_time": "2022-12-12T18:50:35.936Z"
   },
   {
    "duration": 68,
    "start_time": "2022-12-12T18:50:38.408Z"
   },
   {
    "duration": 6,
    "start_time": "2022-12-12T18:50:40.551Z"
   },
   {
    "duration": 257,
    "start_time": "2022-12-12T18:51:43.193Z"
   },
   {
    "duration": 6,
    "start_time": "2022-12-12T18:51:46.314Z"
   },
   {
    "duration": 9478,
    "start_time": "2022-12-12T18:51:48.442Z"
   },
   {
    "duration": 52,
    "start_time": "2022-12-12T18:52:00.358Z"
   },
   {
    "duration": 5,
    "start_time": "2022-12-12T18:53:16.476Z"
   },
   {
    "duration": 5,
    "start_time": "2022-12-12T18:53:22.010Z"
   },
   {
    "duration": 6,
    "start_time": "2022-12-12T18:53:35.983Z"
   },
   {
    "duration": 149,
    "start_time": "2022-12-12T18:53:47.509Z"
   },
   {
    "duration": 72,
    "start_time": "2022-12-12T18:53:57.338Z"
   },
   {
    "duration": 16,
    "start_time": "2022-12-12T18:55:26.061Z"
   },
   {
    "duration": 8,
    "start_time": "2022-12-12T18:55:34.595Z"
   },
   {
    "duration": 22,
    "start_time": "2022-12-12T18:55:45.702Z"
   },
   {
    "duration": 12,
    "start_time": "2022-12-12T18:55:50.496Z"
   },
   {
    "duration": 8,
    "start_time": "2022-12-12T18:56:01.401Z"
   },
   {
    "duration": 45,
    "start_time": "2022-12-12T18:57:07.345Z"
   },
   {
    "duration": 34,
    "start_time": "2022-12-12T18:57:22.474Z"
   },
   {
    "duration": 38,
    "start_time": "2022-12-12T18:57:38.778Z"
   },
   {
    "duration": 26,
    "start_time": "2022-12-12T18:57:44.491Z"
   },
   {
    "duration": 26,
    "start_time": "2022-12-12T18:59:27.731Z"
   },
   {
    "duration": 70,
    "start_time": "2022-12-12T18:59:37.982Z"
   },
   {
    "duration": 3,
    "start_time": "2022-12-12T18:59:39.927Z"
   },
   {
    "duration": 21,
    "start_time": "2022-12-12T18:59:42.936Z"
   },
   {
    "duration": 20,
    "start_time": "2022-12-12T19:00:30.199Z"
   },
   {
    "duration": 22,
    "start_time": "2022-12-12T19:00:41.131Z"
   },
   {
    "duration": 7,
    "start_time": "2022-12-12T19:00:45.572Z"
   },
   {
    "duration": 150,
    "start_time": "2022-12-12T19:00:53.269Z"
   },
   {
    "duration": 23,
    "start_time": "2022-12-12T19:01:34.592Z"
   },
   {
    "duration": 14,
    "start_time": "2022-12-12T19:02:39.961Z"
   },
   {
    "duration": 11,
    "start_time": "2022-12-12T19:04:34.032Z"
   },
   {
    "duration": 16,
    "start_time": "2022-12-12T19:04:40.729Z"
   },
   {
    "duration": 863,
    "start_time": "2022-12-12T19:04:49.452Z"
   },
   {
    "duration": 10,
    "start_time": "2022-12-12T19:04:51.590Z"
   },
   {
    "duration": 888,
    "start_time": "2022-12-12T19:05:06.905Z"
   },
   {
    "duration": 9,
    "start_time": "2022-12-12T19:05:09.168Z"
   },
   {
    "duration": 249,
    "start_time": "2022-12-12T19:08:31.126Z"
   },
   {
    "duration": 33,
    "start_time": "2022-12-12T19:08:33.893Z"
   },
   {
    "duration": 24,
    "start_time": "2022-12-12T19:08:35.714Z"
   },
   {
    "duration": 933,
    "start_time": "2022-12-12T19:08:42.217Z"
   },
   {
    "duration": 13,
    "start_time": "2022-12-12T19:08:43.856Z"
   },
   {
    "duration": 4,
    "start_time": "2022-12-12T19:09:04.084Z"
   },
   {
    "duration": 5,
    "start_time": "2022-12-12T19:09:21.435Z"
   },
   {
    "duration": 3,
    "start_time": "2022-12-12T19:09:30.682Z"
   },
   {
    "duration": 36294,
    "start_time": "2022-12-12T19:09:38.613Z"
   },
   {
    "duration": 36048,
    "start_time": "2022-12-12T19:10:14.909Z"
   },
   {
    "duration": 27,
    "start_time": "2022-12-12T19:11:06.815Z"
   },
   {
    "duration": 908,
    "start_time": "2022-12-12T19:11:22.164Z"
   },
   {
    "duration": 10,
    "start_time": "2022-12-12T19:11:25.290Z"
   },
   {
    "duration": 740,
    "start_time": "2022-12-12T19:11:34.298Z"
   },
   {
    "duration": 12,
    "start_time": "2022-12-12T19:11:36.767Z"
   },
   {
    "duration": 35290,
    "start_time": "2022-12-12T19:11:53.788Z"
   },
   {
    "duration": 34695,
    "start_time": "2022-12-12T19:12:29.081Z"
   },
   {
    "duration": 19,
    "start_time": "2022-12-12T19:14:37.662Z"
   },
   {
    "duration": 17,
    "start_time": "2022-12-12T19:17:29.030Z"
   },
   {
    "duration": 98,
    "start_time": "2022-12-12T19:18:09.617Z"
   },
   {
    "duration": 9,
    "start_time": "2022-12-12T19:19:52.097Z"
   },
   {
    "duration": 809,
    "start_time": "2022-12-12T19:20:06.009Z"
   },
   {
    "duration": 8,
    "start_time": "2022-12-12T19:20:08.559Z"
   },
   {
    "duration": 45,
    "start_time": "2022-12-12T19:22:51.996Z"
   },
   {
    "duration": 28,
    "start_time": "2022-12-12T19:24:13.177Z"
   },
   {
    "duration": 22,
    "start_time": "2022-12-12T19:24:23.565Z"
   },
   {
    "duration": 14,
    "start_time": "2022-12-12T19:24:31.439Z"
   },
   {
    "duration": 19,
    "start_time": "2022-12-12T19:24:42.631Z"
   },
   {
    "duration": 16,
    "start_time": "2022-12-12T19:24:52.866Z"
   },
   {
    "duration": 252,
    "start_time": "2022-12-12T19:25:37.265Z"
   },
   {
    "duration": 5,
    "start_time": "2022-12-12T19:25:58.362Z"
   },
   {
    "duration": 252,
    "start_time": "2022-12-12T19:26:13.717Z"
   },
   {
    "duration": 251,
    "start_time": "2022-12-12T19:26:38.104Z"
   },
   {
    "duration": 5,
    "start_time": "2022-12-12T19:26:41.269Z"
   },
   {
    "duration": 25,
    "start_time": "2022-12-12T19:26:44.979Z"
   },
   {
    "duration": 104,
    "start_time": "2022-12-12T19:27:26.798Z"
   },
   {
    "duration": 277,
    "start_time": "2022-12-12T19:27:37.218Z"
   },
   {
    "duration": 5,
    "start_time": "2022-12-12T19:27:39.325Z"
   },
   {
    "duration": 8,
    "start_time": "2022-12-12T19:27:44.815Z"
   },
   {
    "duration": 5234,
    "start_time": "2022-12-12T19:28:23.437Z"
   },
   {
    "duration": 3,
    "start_time": "2022-12-12T19:28:28.673Z"
   },
   {
    "duration": 872,
    "start_time": "2022-12-12T19:28:28.678Z"
   },
   {
    "duration": 235,
    "start_time": "2022-12-12T19:28:29.552Z"
   },
   {
    "duration": 489,
    "start_time": "2022-12-12T19:28:29.789Z"
   },
   {
    "duration": 5643,
    "start_time": "2022-12-12T19:28:30.281Z"
   },
   {
    "duration": 199,
    "start_time": "2022-12-12T19:28:35.927Z"
   },
   {
    "duration": 221,
    "start_time": "2022-12-12T19:28:36.128Z"
   },
   {
    "duration": 759,
    "start_time": "2022-12-12T19:28:36.351Z"
   },
   {
    "duration": 34,
    "start_time": "2022-12-12T19:28:37.113Z"
   },
   {
    "duration": 8,
    "start_time": "2022-12-12T19:28:37.149Z"
   },
   {
    "duration": 7,
    "start_time": "2022-12-12T19:28:37.160Z"
   },
   {
    "duration": 5475,
    "start_time": "2022-12-12T19:28:37.168Z"
   },
   {
    "duration": 5045,
    "start_time": "2022-12-12T19:28:42.645Z"
   },
   {
    "duration": 4,
    "start_time": "2022-12-12T19:28:47.692Z"
   },
   {
    "duration": 17,
    "start_time": "2022-12-12T19:28:47.697Z"
   },
   {
    "duration": 4,
    "start_time": "2022-12-12T19:28:47.716Z"
   },
   {
    "duration": 6,
    "start_time": "2022-12-12T19:28:47.722Z"
   },
   {
    "duration": 8,
    "start_time": "2022-12-12T19:28:47.730Z"
   },
   {
    "duration": 131775,
    "start_time": "2022-12-12T19:28:47.740Z"
   },
   {
    "duration": 85198,
    "start_time": "2022-12-12T19:30:59.517Z"
   },
   {
    "duration": 125123,
    "start_time": "2022-12-12T19:32:24.718Z"
   },
   {
    "duration": 104499,
    "start_time": "2022-12-12T19:34:29.914Z"
   },
   {
    "duration": 118066,
    "start_time": "2022-12-12T19:36:14.415Z"
   },
   {
    "duration": 130494,
    "start_time": "2022-12-12T19:38:12.482Z"
   },
   {
    "duration": 313099,
    "start_time": "2022-12-12T19:40:22.977Z"
   },
   {
    "duration": 293250,
    "start_time": "2022-12-12T19:45:36.078Z"
   },
   {
    "duration": 2,
    "start_time": "2022-12-12T19:50:29.332Z"
   },
   {
    "duration": 36114,
    "start_time": "2022-12-12T19:50:29.336Z"
   },
   {
    "duration": 35417,
    "start_time": "2022-12-12T19:51:05.452Z"
   },
   {
    "duration": 33781,
    "start_time": "2022-12-12T19:51:40.871Z"
   },
   {
    "duration": 34590,
    "start_time": "2022-12-12T19:52:14.654Z"
   },
   {
    "duration": 15,
    "start_time": "2022-12-12T19:52:49.246Z"
   },
   {
    "duration": 316,
    "start_time": "2022-12-12T19:52:49.263Z"
   },
   {
    "duration": 39,
    "start_time": "2022-12-12T19:52:49.581Z"
   },
   {
    "duration": 113,
    "start_time": "2022-12-12T19:52:49.621Z"
   },
   {
    "duration": 254,
    "start_time": "2022-12-12T19:52:49.736Z"
   },
   {
    "duration": 4,
    "start_time": "2022-12-12T19:52:49.992Z"
   },
   {
    "duration": 381,
    "start_time": "2022-12-12T19:52:49.998Z"
   },
   {
    "duration": 0,
    "start_time": "2022-12-12T19:52:50.381Z"
   },
   {
    "duration": 0,
    "start_time": "2022-12-12T19:52:50.383Z"
   },
   {
    "duration": 0,
    "start_time": "2022-12-12T19:52:50.384Z"
   },
   {
    "duration": 0,
    "start_time": "2022-12-12T19:52:50.386Z"
   },
   {
    "duration": 851,
    "start_time": "2022-12-12T19:56:13.873Z"
   },
   {
    "duration": 7,
    "start_time": "2022-12-12T19:56:16.542Z"
   },
   {
    "duration": 834,
    "start_time": "2022-12-12T19:56:24.263Z"
   },
   {
    "duration": 9,
    "start_time": "2022-12-12T19:56:26.500Z"
   },
   {
    "duration": 20,
    "start_time": "2022-12-12T19:57:14.835Z"
   },
   {
    "duration": 2,
    "start_time": "2022-12-12T19:57:19.850Z"
   },
   {
    "duration": 3,
    "start_time": "2022-12-12T19:58:47.433Z"
   },
   {
    "duration": 3,
    "start_time": "2022-12-12T19:59:26.360Z"
   },
   {
    "duration": 19809,
    "start_time": "2022-12-12T19:59:30.248Z"
   },
   {
    "duration": 767,
    "start_time": "2022-12-12T19:59:54.326Z"
   },
   {
    "duration": 10,
    "start_time": "2022-12-12T19:59:56.072Z"
   },
   {
    "duration": 2,
    "start_time": "2022-12-12T20:00:17.306Z"
   },
   {
    "duration": 67743,
    "start_time": "2022-12-12T20:00:19.125Z"
   },
   {
    "duration": 4,
    "start_time": "2022-12-12T20:01:29.328Z"
   },
   {
    "duration": 889,
    "start_time": "2022-12-12T20:01:31.590Z"
   },
   {
    "duration": 7,
    "start_time": "2022-12-12T20:01:33.171Z"
   },
   {
    "duration": 6,
    "start_time": "2022-12-12T20:01:35.423Z"
   },
   {
    "duration": 16642,
    "start_time": "2022-12-12T20:01:37.145Z"
   },
   {
    "duration": 3,
    "start_time": "2022-12-12T20:01:56.094Z"
   },
   {
    "duration": 63743,
    "start_time": "2022-12-12T20:01:57.831Z"
   },
   {
    "duration": 4,
    "start_time": "2022-12-12T20:03:59.923Z"
   },
   {
    "duration": 815,
    "start_time": "2022-12-12T20:04:03.112Z"
   },
   {
    "duration": 9,
    "start_time": "2022-12-12T20:04:05.663Z"
   },
   {
    "duration": 2,
    "start_time": "2022-12-12T20:04:14.811Z"
   },
   {
    "duration": 30006,
    "start_time": "2022-12-12T20:04:16.594Z"
   },
   {
    "duration": 4,
    "start_time": "2022-12-12T20:04:51.138Z"
   },
   {
    "duration": 782,
    "start_time": "2022-12-12T20:04:53.288Z"
   },
   {
    "duration": 8,
    "start_time": "2022-12-12T20:04:54.697Z"
   },
   {
    "duration": 2,
    "start_time": "2022-12-12T20:04:57.441Z"
   },
   {
    "duration": 24337,
    "start_time": "2022-12-12T20:04:58.427Z"
   },
   {
    "duration": 4,
    "start_time": "2022-12-12T20:06:40.219Z"
   },
   {
    "duration": 10212,
    "start_time": "2022-12-12T20:06:42.575Z"
   },
   {
    "duration": 3,
    "start_time": "2022-12-12T20:07:01.073Z"
   },
   {
    "duration": 48436,
    "start_time": "2022-12-12T20:07:01.965Z"
   },
   {
    "duration": 4,
    "start_time": "2022-12-12T20:07:54.180Z"
   },
   {
    "duration": 824,
    "start_time": "2022-12-12T20:07:55.923Z"
   },
   {
    "duration": 9,
    "start_time": "2022-12-12T20:07:58.094Z"
   },
   {
    "duration": 3,
    "start_time": "2022-12-12T20:08:03.382Z"
   },
   {
    "duration": 49873,
    "start_time": "2022-12-12T20:08:04.827Z"
   },
   {
    "duration": 4,
    "start_time": "2022-12-12T20:09:09.367Z"
   },
   {
    "duration": 955,
    "start_time": "2022-12-12T20:09:10.853Z"
   },
   {
    "duration": 8,
    "start_time": "2022-12-12T20:09:12.677Z"
   },
   {
    "duration": 3,
    "start_time": "2022-12-12T20:09:48.189Z"
   },
   {
    "duration": 49954,
    "start_time": "2022-12-12T20:09:49.997Z"
   },
   {
    "duration": 3,
    "start_time": "2022-12-12T20:10:51.377Z"
   },
   {
    "duration": 829,
    "start_time": "2022-12-12T20:10:53.789Z"
   },
   {
    "duration": 8,
    "start_time": "2022-12-12T20:10:55.954Z"
   },
   {
    "duration": 299,
    "start_time": "2022-12-12T20:11:07.802Z"
   },
   {
    "duration": 234,
    "start_time": "2022-12-12T20:11:11.565Z"
   },
   {
    "duration": 28,
    "start_time": "2022-12-12T20:11:12.736Z"
   },
   {
    "duration": 110,
    "start_time": "2022-12-12T20:11:14.964Z"
   },
   {
    "duration": 854,
    "start_time": "2022-12-12T20:11:24.266Z"
   },
   {
    "duration": 7,
    "start_time": "2022-12-12T20:11:25.924Z"
   },
   {
    "duration": 237,
    "start_time": "2022-12-12T20:13:31.866Z"
   },
   {
    "duration": 33,
    "start_time": "2022-12-12T20:13:59.367Z"
   },
   {
    "duration": 98,
    "start_time": "2022-12-12T20:14:02.300Z"
   },
   {
    "duration": 722,
    "start_time": "2022-12-12T20:14:12.600Z"
   },
   {
    "duration": 8,
    "start_time": "2022-12-12T20:14:14.200Z"
   },
   {
    "duration": 733,
    "start_time": "2022-12-12T20:14:17.465Z"
   },
   {
    "duration": 8,
    "start_time": "2022-12-12T20:14:18.866Z"
   },
   {
    "duration": 17,
    "start_time": "2022-12-12T20:14:29.469Z"
   },
   {
    "duration": 126,
    "start_time": "2022-12-12T20:14:30.554Z"
   },
   {
    "duration": 587,
    "start_time": "2022-12-12T20:14:33.718Z"
   },
   {
    "duration": 8,
    "start_time": "2022-12-12T20:14:34.896Z"
   },
   {
    "duration": 12,
    "start_time": "2022-12-12T20:14:43.572Z"
   },
   {
    "duration": 78,
    "start_time": "2022-12-12T20:14:45.352Z"
   },
   {
    "duration": 113,
    "start_time": "2022-12-12T20:14:47.204Z"
   },
   {
    "duration": 6,
    "start_time": "2022-12-12T20:14:48.416Z"
   },
   {
    "duration": 3845,
    "start_time": "2022-12-12T20:15:31.473Z"
   },
   {
    "duration": 3,
    "start_time": "2022-12-12T20:15:35.321Z"
   },
   {
    "duration": 801,
    "start_time": "2022-12-12T20:15:35.326Z"
   },
   {
    "duration": 227,
    "start_time": "2022-12-12T20:15:36.129Z"
   },
   {
    "duration": 416,
    "start_time": "2022-12-12T20:15:36.358Z"
   },
   {
    "duration": 5430,
    "start_time": "2022-12-12T20:15:36.776Z"
   },
   {
    "duration": 206,
    "start_time": "2022-12-12T20:15:42.208Z"
   },
   {
    "duration": 212,
    "start_time": "2022-12-12T20:15:42.418Z"
   },
   {
    "duration": 598,
    "start_time": "2022-12-12T20:15:42.632Z"
   },
   {
    "duration": 32,
    "start_time": "2022-12-12T20:15:43.233Z"
   },
   {
    "duration": 9,
    "start_time": "2022-12-12T20:15:43.267Z"
   },
   {
    "duration": 9,
    "start_time": "2022-12-12T20:15:43.277Z"
   },
   {
    "duration": 5220,
    "start_time": "2022-12-12T20:15:43.288Z"
   },
   {
    "duration": 5153,
    "start_time": "2022-12-12T20:15:48.510Z"
   },
   {
    "duration": 4,
    "start_time": "2022-12-12T20:15:53.665Z"
   },
   {
    "duration": 9,
    "start_time": "2022-12-12T20:15:53.670Z"
   },
   {
    "duration": 6,
    "start_time": "2022-12-12T20:15:53.681Z"
   },
   {
    "duration": 8,
    "start_time": "2022-12-12T20:15:53.689Z"
   },
   {
    "duration": 3,
    "start_time": "2022-12-12T20:15:53.712Z"
   },
   {
    "duration": 85704,
    "start_time": "2022-12-12T20:15:53.717Z"
   },
   {
    "duration": 72891,
    "start_time": "2022-12-12T20:17:19.423Z"
   },
   {
    "duration": 90900,
    "start_time": "2022-12-12T20:18:32.316Z"
   },
   {
    "duration": 68696,
    "start_time": "2022-12-12T20:20:03.217Z"
   },
   {
    "duration": 113078,
    "start_time": "2022-12-12T20:21:11.916Z"
   },
   {
    "duration": 125435,
    "start_time": "2022-12-12T20:23:04.995Z"
   },
   {
    "duration": 301557,
    "start_time": "2022-12-12T20:25:10.432Z"
   },
   {
    "duration": 279905,
    "start_time": "2022-12-12T20:30:11.991Z"
   },
   {
    "duration": 3,
    "start_time": "2022-12-12T20:34:51.900Z"
   },
   {
    "duration": 35140,
    "start_time": "2022-12-12T20:34:51.906Z"
   },
   {
    "duration": 35245,
    "start_time": "2022-12-12T20:35:27.048Z"
   },
   {
    "duration": 33487,
    "start_time": "2022-12-12T20:36:02.295Z"
   },
   {
    "duration": 34043,
    "start_time": "2022-12-12T20:36:35.784Z"
   },
   {
    "duration": 17,
    "start_time": "2022-12-12T20:37:09.829Z"
   },
   {
    "duration": 269,
    "start_time": "2022-12-12T20:37:09.848Z"
   },
   {
    "duration": 29,
    "start_time": "2022-12-12T20:37:10.118Z"
   },
   {
    "duration": 113,
    "start_time": "2022-12-12T20:37:10.149Z"
   },
   {
    "duration": 163,
    "start_time": "2022-12-12T20:37:10.264Z"
   },
   {
    "duration": 8,
    "start_time": "2022-12-12T20:37:10.430Z"
   },
   {
    "duration": 7,
    "start_time": "2022-12-12T20:37:10.440Z"
   },
   {
    "duration": 10,
    "start_time": "2022-12-12T20:37:10.450Z"
   },
   {
    "duration": 8,
    "start_time": "2022-12-12T20:37:10.462Z"
   },
   {
    "duration": 50736,
    "start_time": "2022-12-12T20:37:10.472Z"
   },
   {
    "duration": 4,
    "start_time": "2022-12-12T20:38:01.210Z"
   },
   {
    "duration": 134,
    "start_time": "2022-12-12T20:38:01.215Z"
   },
   {
    "duration": 6,
    "start_time": "2022-12-12T20:38:01.351Z"
   },
   {
    "duration": 20,
    "start_time": "2022-12-12T20:38:01.358Z"
   },
   {
    "duration": 7,
    "start_time": "2022-12-12T20:38:01.380Z"
   },
   {
    "duration": 10,
    "start_time": "2022-12-12T20:38:01.389Z"
   },
   {
    "duration": 588,
    "start_time": "2022-12-12T20:43:12.670Z"
   },
   {
    "duration": 234,
    "start_time": "2022-12-12T20:43:18.081Z"
   },
   {
    "duration": 30,
    "start_time": "2022-12-12T20:43:19.293Z"
   },
   {
    "duration": 102,
    "start_time": "2022-12-12T20:43:21.386Z"
   },
   {
    "duration": 3,
    "start_time": "2022-12-12T20:44:41.628Z"
   },
   {
    "duration": 6,
    "start_time": "2022-12-12T20:44:43.017Z"
   },
   {
    "duration": 8,
    "start_time": "2022-12-12T20:44:44.113Z"
   },
   {
    "duration": 2,
    "start_time": "2022-12-12T20:49:15.809Z"
   },
   {
    "duration": 1267,
    "start_time": "2022-12-12T20:49:18.076Z"
   },
   {
    "duration": 4,
    "start_time": "2022-12-12T20:50:49.253Z"
   },
   {
    "duration": 34536,
    "start_time": "2022-12-12T20:50:51.837Z"
   },
   {
    "duration": 64,
    "start_time": "2022-12-12T20:52:55.881Z"
   },
   {
    "duration": 3,
    "start_time": "2022-12-12T20:53:00.283Z"
   },
   {
    "duration": 34738,
    "start_time": "2022-12-12T20:53:05.258Z"
   },
   {
    "duration": 1163,
    "start_time": "2022-12-12T20:53:57.076Z"
   },
   {
    "duration": 72,
    "start_time": "2022-12-12T20:54:17.834Z"
   },
   {
    "duration": 1726,
    "start_time": "2022-12-12T20:54:24.060Z"
   },
   {
    "duration": 1174,
    "start_time": "2022-12-12T20:54:43.673Z"
   },
   {
    "duration": 1780,
    "start_time": "2022-12-12T20:54:52.773Z"
   },
   {
    "duration": 1764,
    "start_time": "2022-12-12T20:55:03.818Z"
   },
   {
    "duration": 34415,
    "start_time": "2022-12-12T20:55:44.005Z"
   },
   {
    "duration": 848,
    "start_time": "2022-12-12T20:56:22.091Z"
   },
   {
    "duration": 7,
    "start_time": "2022-12-12T20:56:25.902Z"
   },
   {
    "duration": 34747,
    "start_time": "2022-12-12T20:56:41.469Z"
   },
   {
    "duration": 862,
    "start_time": "2022-12-12T20:57:18.627Z"
   },
   {
    "duration": 8,
    "start_time": "2022-12-12T20:57:21.543Z"
   },
   {
    "duration": 3,
    "start_time": "2022-12-12T20:57:52.827Z"
   },
   {
    "duration": 34696,
    "start_time": "2022-12-12T20:57:54.059Z"
   },
   {
    "duration": 114985,
    "start_time": "2022-12-12T20:59:21.766Z"
   },
   {
    "duration": 2,
    "start_time": "2022-12-12T21:01:16.753Z"
   },
   {
    "duration": 35094,
    "start_time": "2022-12-12T21:01:16.757Z"
   },
   {
    "duration": 35612,
    "start_time": "2022-12-12T21:01:51.853Z"
   },
   {
    "duration": 33488,
    "start_time": "2022-12-12T21:02:27.467Z"
   },
   {
    "duration": 33632,
    "start_time": "2022-12-12T21:03:00.957Z"
   },
   {
    "duration": 160141,
    "start_time": "2022-12-12T21:03:34.591Z"
   },
   {
    "duration": 18,
    "start_time": "2022-12-12T21:06:14.734Z"
   },
   {
    "duration": 3,
    "start_time": "2022-12-12T21:07:39.611Z"
   },
   {
    "duration": 34047,
    "start_time": "2022-12-12T21:07:41.602Z"
   },
   {
    "duration": 34036,
    "start_time": "2022-12-12T21:08:15.651Z"
   },
   {
    "duration": 33389,
    "start_time": "2022-12-12T21:08:49.688Z"
   },
   {
    "duration": 34051,
    "start_time": "2022-12-12T21:09:23.079Z"
   },
   {
    "duration": 20,
    "start_time": "2022-12-12T21:11:07.797Z"
   },
   {
    "duration": 5,
    "start_time": "2022-12-12T21:12:10.853Z"
   },
   {
    "duration": 7,
    "start_time": "2022-12-12T21:12:26.871Z"
   },
   {
    "duration": 17,
    "start_time": "2022-12-12T21:13:26.483Z"
   },
   {
    "duration": 6,
    "start_time": "2022-12-12T21:13:32.682Z"
   },
   {
    "duration": 3727,
    "start_time": "2022-12-12T21:15:21.123Z"
   },
   {
    "duration": 3,
    "start_time": "2022-12-12T21:15:24.852Z"
   },
   {
    "duration": 814,
    "start_time": "2022-12-12T21:15:24.856Z"
   },
   {
    "duration": 228,
    "start_time": "2022-12-12T21:15:25.671Z"
   },
   {
    "duration": 421,
    "start_time": "2022-12-12T21:15:25.900Z"
   },
   {
    "duration": 5079,
    "start_time": "2022-12-12T21:15:26.322Z"
   },
   {
    "duration": 199,
    "start_time": "2022-12-12T21:15:31.402Z"
   },
   {
    "duration": 210,
    "start_time": "2022-12-12T21:15:31.603Z"
   },
   {
    "duration": 663,
    "start_time": "2022-12-12T21:15:31.814Z"
   },
   {
    "duration": 33,
    "start_time": "2022-12-12T21:15:32.480Z"
   },
   {
    "duration": 14,
    "start_time": "2022-12-12T21:15:32.515Z"
   },
   {
    "duration": 8,
    "start_time": "2022-12-12T21:15:32.531Z"
   },
   {
    "duration": 5354,
    "start_time": "2022-12-12T21:15:32.541Z"
   },
   {
    "duration": 5436,
    "start_time": "2022-12-12T21:15:37.897Z"
   },
   {
    "duration": 3,
    "start_time": "2022-12-12T21:15:43.335Z"
   },
   {
    "duration": 262,
    "start_time": "2022-12-12T21:15:43.340Z"
   },
   {
    "duration": 8,
    "start_time": "2022-12-12T21:15:43.603Z"
   },
   {
    "duration": 5,
    "start_time": "2022-12-12T21:15:43.613Z"
   },
   {
    "duration": 7,
    "start_time": "2022-12-12T21:15:43.620Z"
   },
   {
    "duration": 8,
    "start_time": "2022-12-12T21:15:43.628Z"
   },
   {
    "duration": 151203,
    "start_time": "2022-12-12T21:15:43.638Z"
   },
   {
    "duration": 100216,
    "start_time": "2022-12-12T21:18:14.843Z"
   },
   {
    "duration": 79953,
    "start_time": "2022-12-12T21:19:55.061Z"
   },
   {
    "duration": 61899,
    "start_time": "2022-12-12T21:21:15.016Z"
   },
   {
    "duration": 112599,
    "start_time": "2022-12-12T21:22:16.917Z"
   },
   {
    "duration": 123675,
    "start_time": "2022-12-12T21:24:09.518Z"
   },
   {
    "duration": 299478,
    "start_time": "2022-12-12T21:26:13.195Z"
   },
   {
    "duration": 274448,
    "start_time": "2022-12-12T21:31:12.676Z"
   },
   {
    "duration": 3,
    "start_time": "2022-12-12T21:35:47.126Z"
   },
   {
    "duration": 34805,
    "start_time": "2022-12-12T21:35:47.131Z"
   },
   {
    "duration": 35575,
    "start_time": "2022-12-12T21:36:21.938Z"
   },
   {
    "duration": 33939,
    "start_time": "2022-12-12T21:36:57.515Z"
   },
   {
    "duration": 33779,
    "start_time": "2022-12-12T21:37:31.455Z"
   },
   {
    "duration": 18,
    "start_time": "2022-12-12T21:38:05.236Z"
   },
   {
    "duration": 270,
    "start_time": "2022-12-12T21:38:05.256Z"
   },
   {
    "duration": 29,
    "start_time": "2022-12-12T21:38:05.528Z"
   },
   {
    "duration": 107,
    "start_time": "2022-12-12T21:38:05.559Z"
   },
   {
    "duration": 872,
    "start_time": "2022-12-12T21:38:05.668Z"
   },
   {
    "duration": 8,
    "start_time": "2022-12-12T21:38:06.541Z"
   },
   {
    "duration": 8,
    "start_time": "2022-12-12T21:38:06.550Z"
   },
   {
    "duration": 14,
    "start_time": "2022-12-12T21:38:06.559Z"
   },
   {
    "duration": 11,
    "start_time": "2022-12-12T21:38:06.575Z"
   },
   {
    "duration": 846,
    "start_time": "2022-12-12T21:42:21.424Z"
   },
   {
    "duration": 7,
    "start_time": "2022-12-12T21:42:23.648Z"
   },
   {
    "duration": 854,
    "start_time": "2022-12-12T21:42:27.656Z"
   },
   {
    "duration": 8,
    "start_time": "2022-12-12T21:42:29.382Z"
   },
   {
    "duration": 5620,
    "start_time": "2022-12-13T19:54:47.281Z"
   },
   {
    "duration": 3,
    "start_time": "2022-12-13T19:54:52.903Z"
   },
   {
    "duration": 1179,
    "start_time": "2022-12-13T19:54:52.907Z"
   },
   {
    "duration": 205,
    "start_time": "2022-12-13T19:54:54.088Z"
   },
   {
    "duration": 629,
    "start_time": "2022-12-13T19:54:54.295Z"
   },
   {
    "duration": 5076,
    "start_time": "2022-12-13T19:54:54.926Z"
   },
   {
    "duration": 200,
    "start_time": "2022-12-13T19:55:00.004Z"
   },
   {
    "duration": 201,
    "start_time": "2022-12-13T19:55:00.206Z"
   },
   {
    "duration": 624,
    "start_time": "2022-12-13T19:55:00.409Z"
   },
   {
    "duration": 327,
    "start_time": "2022-12-13T19:55:01.036Z"
   },
   {
    "duration": 0,
    "start_time": "2022-12-13T19:55:01.365Z"
   },
   {
    "duration": 0,
    "start_time": "2022-12-13T19:55:01.367Z"
   },
   {
    "duration": 0,
    "start_time": "2022-12-13T19:55:01.368Z"
   },
   {
    "duration": 0,
    "start_time": "2022-12-13T19:55:01.369Z"
   },
   {
    "duration": 0,
    "start_time": "2022-12-13T19:55:01.370Z"
   },
   {
    "duration": 0,
    "start_time": "2022-12-13T19:55:01.371Z"
   },
   {
    "duration": 0,
    "start_time": "2022-12-13T19:55:01.372Z"
   },
   {
    "duration": 0,
    "start_time": "2022-12-13T19:55:01.373Z"
   },
   {
    "duration": 0,
    "start_time": "2022-12-13T19:55:01.374Z"
   },
   {
    "duration": 0,
    "start_time": "2022-12-13T19:55:01.375Z"
   },
   {
    "duration": 0,
    "start_time": "2022-12-13T19:55:01.398Z"
   },
   {
    "duration": 0,
    "start_time": "2022-12-13T19:55:01.398Z"
   },
   {
    "duration": 0,
    "start_time": "2022-12-13T19:55:01.399Z"
   },
   {
    "duration": 0,
    "start_time": "2022-12-13T19:55:01.400Z"
   },
   {
    "duration": 0,
    "start_time": "2022-12-13T19:55:01.402Z"
   },
   {
    "duration": 0,
    "start_time": "2022-12-13T19:55:01.402Z"
   },
   {
    "duration": 0,
    "start_time": "2022-12-13T19:55:01.403Z"
   },
   {
    "duration": 0,
    "start_time": "2022-12-13T19:55:01.404Z"
   },
   {
    "duration": 0,
    "start_time": "2022-12-13T19:55:01.405Z"
   },
   {
    "duration": 0,
    "start_time": "2022-12-13T19:55:01.406Z"
   },
   {
    "duration": 0,
    "start_time": "2022-12-13T19:55:01.407Z"
   },
   {
    "duration": 0,
    "start_time": "2022-12-13T19:55:01.408Z"
   },
   {
    "duration": 0,
    "start_time": "2022-12-13T19:55:01.409Z"
   },
   {
    "duration": 0,
    "start_time": "2022-12-13T19:55:01.410Z"
   },
   {
    "duration": 0,
    "start_time": "2022-12-13T19:55:01.411Z"
   },
   {
    "duration": 0,
    "start_time": "2022-12-13T19:55:01.412Z"
   },
   {
    "duration": 0,
    "start_time": "2022-12-13T19:55:01.413Z"
   },
   {
    "duration": 0,
    "start_time": "2022-12-13T19:55:01.414Z"
   },
   {
    "duration": 0,
    "start_time": "2022-12-13T19:55:01.415Z"
   },
   {
    "duration": 0,
    "start_time": "2022-12-13T19:55:01.416Z"
   },
   {
    "duration": 0,
    "start_time": "2022-12-13T19:55:01.417Z"
   },
   {
    "duration": 0,
    "start_time": "2022-12-13T19:55:01.418Z"
   },
   {
    "duration": 0,
    "start_time": "2022-12-13T19:55:01.419Z"
   },
   {
    "duration": 7,
    "start_time": "2022-12-13T19:55:49.667Z"
   },
   {
    "duration": 93,
    "start_time": "2022-12-13T20:01:33.067Z"
   },
   {
    "duration": 6,
    "start_time": "2022-12-13T20:01:40.790Z"
   },
   {
    "duration": 2,
    "start_time": "2022-12-13T20:02:15.155Z"
   },
   {
    "duration": 136,
    "start_time": "2022-12-13T20:02:16.317Z"
   },
   {
    "duration": 6,
    "start_time": "2022-12-13T20:03:02.988Z"
   },
   {
    "duration": 80,
    "start_time": "2022-12-13T20:03:20.626Z"
   },
   {
    "duration": 8,
    "start_time": "2022-12-13T20:05:20.117Z"
   },
   {
    "duration": 85,
    "start_time": "2022-12-13T20:05:24.557Z"
   },
   {
    "duration": 6,
    "start_time": "2022-12-13T20:05:40.258Z"
   },
   {
    "duration": 6,
    "start_time": "2022-12-13T20:05:41.672Z"
   },
   {
    "duration": 97,
    "start_time": "2022-12-13T20:05:44.719Z"
   },
   {
    "duration": 17,
    "start_time": "2022-12-13T20:06:19.982Z"
   },
   {
    "duration": 6,
    "start_time": "2022-12-13T20:06:24.228Z"
   },
   {
    "duration": 7,
    "start_time": "2022-12-13T20:06:35.992Z"
   },
   {
    "duration": 27,
    "start_time": "2022-12-13T20:06:40.969Z"
   },
   {
    "duration": 18,
    "start_time": "2022-12-13T20:07:49.209Z"
   },
   {
    "duration": 7,
    "start_time": "2022-12-13T20:07:53.738Z"
   },
   {
    "duration": 17,
    "start_time": "2022-12-13T20:08:00.619Z"
   },
   {
    "duration": 6,
    "start_time": "2022-12-13T20:08:11.562Z"
   },
   {
    "duration": 25,
    "start_time": "2022-12-13T20:08:28.724Z"
   },
   {
    "duration": 18,
    "start_time": "2022-12-13T20:08:37.778Z"
   },
   {
    "duration": 19,
    "start_time": "2022-12-13T20:08:45.201Z"
   },
   {
    "duration": 26,
    "start_time": "2022-12-13T20:09:06.784Z"
   },
   {
    "duration": 23,
    "start_time": "2022-12-13T20:09:08.948Z"
   },
   {
    "duration": 30,
    "start_time": "2022-12-13T20:09:21.281Z"
   },
   {
    "duration": 17,
    "start_time": "2022-12-13T20:11:13.102Z"
   },
   {
    "duration": 28,
    "start_time": "2022-12-13T20:11:22.565Z"
   },
   {
    "duration": 23,
    "start_time": "2022-12-13T20:11:40.632Z"
   },
   {
    "duration": 31,
    "start_time": "2022-12-13T20:11:45.179Z"
   },
   {
    "duration": 6,
    "start_time": "2022-12-13T20:12:04.543Z"
   },
   {
    "duration": 671,
    "start_time": "2022-12-13T20:12:14.083Z"
   },
   {
    "duration": 6,
    "start_time": "2022-12-13T20:12:42.649Z"
   },
   {
    "duration": 1104,
    "start_time": "2022-12-13T20:12:48.809Z"
   },
   {
    "duration": 1155,
    "start_time": "2022-12-13T20:12:58.507Z"
   },
   {
    "duration": 10,
    "start_time": "2022-12-13T20:13:08.541Z"
   },
   {
    "duration": 2324,
    "start_time": "2022-12-13T20:13:12.136Z"
   },
   {
    "duration": 4,
    "start_time": "2022-12-13T20:13:18.100Z"
   },
   {
    "duration": 18,
    "start_time": "2022-12-13T20:13:19.364Z"
   },
   {
    "duration": 4,
    "start_time": "2022-12-13T20:13:23.563Z"
   },
   {
    "duration": 9,
    "start_time": "2022-12-13T20:14:54.391Z"
   },
   {
    "duration": 22,
    "start_time": "2022-12-13T20:20:08.891Z"
   },
   {
    "duration": 22,
    "start_time": "2022-12-13T20:20:11.315Z"
   },
   {
    "duration": 18,
    "start_time": "2022-12-13T20:20:19.576Z"
   },
   {
    "duration": 5,
    "start_time": "2022-12-13T20:20:28.717Z"
   },
   {
    "duration": 4,
    "start_time": "2022-12-13T20:20:41.110Z"
   },
   {
    "duration": 5680,
    "start_time": "2022-12-13T20:24:28.137Z"
   },
   {
    "duration": 4,
    "start_time": "2022-12-13T20:24:33.819Z"
   },
   {
    "duration": 4,
    "start_time": "2022-12-13T20:24:37.189Z"
   },
   {
    "duration": 6,
    "start_time": "2022-12-13T20:24:45.368Z"
   },
   {
    "duration": 3,
    "start_time": "2022-12-13T20:34:15.644Z"
   },
   {
    "duration": 5,
    "start_time": "2022-12-13T20:34:18.277Z"
   },
   {
    "duration": 2,
    "start_time": "2022-12-13T20:34:31.361Z"
   },
   {
    "duration": 4,
    "start_time": "2022-12-13T20:34:50.925Z"
   },
   {
    "duration": 42,
    "start_time": "2022-12-13T20:36:08.267Z"
   },
   {
    "duration": 3,
    "start_time": "2022-12-13T20:36:12.850Z"
   },
   {
    "duration": 42,
    "start_time": "2022-12-13T20:36:32.665Z"
   },
   {
    "duration": 86,
    "start_time": "2022-12-13T20:36:36.966Z"
   },
   {
    "duration": 4,
    "start_time": "2022-12-13T20:36:56.431Z"
   },
   {
    "duration": 3,
    "start_time": "2022-12-13T20:37:02.285Z"
   },
   {
    "duration": 17,
    "start_time": "2022-12-13T20:37:42.715Z"
   },
   {
    "duration": 16,
    "start_time": "2022-12-13T20:37:50.732Z"
   },
   {
    "duration": 5,
    "start_time": "2022-12-13T20:38:04.611Z"
   },
   {
    "duration": 34,
    "start_time": "2022-12-13T20:38:10.055Z"
   },
   {
    "duration": 4,
    "start_time": "2022-12-13T20:38:45.496Z"
   },
   {
    "duration": 3,
    "start_time": "2022-12-13T20:39:37.482Z"
   },
   {
    "duration": 3,
    "start_time": "2022-12-13T20:39:50.649Z"
   },
   {
    "duration": 33,
    "start_time": "2022-12-13T20:39:52.741Z"
   },
   {
    "duration": 3,
    "start_time": "2022-12-13T20:40:18.356Z"
   },
   {
    "duration": 32,
    "start_time": "2022-12-13T20:40:19.502Z"
   },
   {
    "duration": 33793,
    "start_time": "2022-12-13T20:40:28.910Z"
   },
   {
    "duration": 4,
    "start_time": "2022-12-13T20:42:14.236Z"
   },
   {
    "duration": 2,
    "start_time": "2022-12-13T20:42:21.765Z"
   },
   {
    "duration": 3,
    "start_time": "2022-12-13T20:42:23.062Z"
   },
   {
    "duration": 32348,
    "start_time": "2022-12-13T20:42:24.364Z"
   },
   {
    "duration": 5,
    "start_time": "2022-12-13T20:42:56.799Z"
   },
   {
    "duration": 33,
    "start_time": "2022-12-13T20:44:15.977Z"
   },
   {
    "duration": 3,
    "start_time": "2022-12-13T20:45:16.323Z"
   },
   {
    "duration": 32,
    "start_time": "2022-12-13T20:45:17.733Z"
   },
   {
    "duration": 2,
    "start_time": "2022-12-13T20:46:08.911Z"
   },
   {
    "duration": 31172,
    "start_time": "2022-12-13T20:46:10.027Z"
   },
   {
    "duration": 5,
    "start_time": "2022-12-13T20:46:41.201Z"
   },
   {
    "duration": 2,
    "start_time": "2022-12-13T20:48:23.531Z"
   },
   {
    "duration": 3,
    "start_time": "2022-12-13T20:48:50.493Z"
   },
   {
    "duration": 50,
    "start_time": "2022-12-13T20:49:03.059Z"
   },
   {
    "duration": 43,
    "start_time": "2022-12-13T20:49:15.247Z"
   },
   {
    "duration": 42,
    "start_time": "2022-12-13T20:49:17.905Z"
   },
   {
    "duration": 52,
    "start_time": "2022-12-13T20:49:21.791Z"
   },
   {
    "duration": 29,
    "start_time": "2022-12-13T20:49:25.658Z"
   },
   {
    "duration": 15,
    "start_time": "2022-12-13T20:49:30.986Z"
   },
   {
    "duration": 17,
    "start_time": "2022-12-13T20:49:34.039Z"
   },
   {
    "duration": 4,
    "start_time": "2022-12-13T20:49:44.441Z"
   },
   {
    "duration": 3,
    "start_time": "2022-12-13T20:50:23.970Z"
   },
   {
    "duration": 4,
    "start_time": "2022-12-13T20:51:09.290Z"
   },
   {
    "duration": 5,
    "start_time": "2022-12-13T20:51:37.358Z"
   },
   {
    "duration": 3,
    "start_time": "2022-12-13T20:51:54.500Z"
   },
   {
    "duration": 4207,
    "start_time": "2022-12-13T20:52:46.909Z"
   },
   {
    "duration": 164112,
    "start_time": "2022-12-13T20:52:55.522Z"
   },
   {
    "duration": 234,
    "start_time": "2022-12-13T20:55:39.636Z"
   },
   {
    "duration": 3,
    "start_time": "2022-12-13T20:55:39.871Z"
   },
   {
    "duration": 3,
    "start_time": "2022-12-13T20:55:49.060Z"
   },
   {
    "duration": 329051,
    "start_time": "2022-12-13T20:55:52.353Z"
   },
   {
    "duration": 297996,
    "start_time": "2022-12-13T21:01:21.407Z"
   },
   {
    "duration": 93,
    "start_time": "2022-12-13T21:06:19.406Z"
   },
   {
    "duration": 6,
    "start_time": "2022-12-13T21:07:22.034Z"
   },
   {
    "duration": 12,
    "start_time": "2022-12-13T21:07:40.717Z"
   },
   {
    "duration": 9957,
    "start_time": "2022-12-13T21:09:49.880Z"
   },
   {
    "duration": 16999,
    "start_time": "2022-12-13T21:10:30.536Z"
   },
   {
    "duration": 3487,
    "start_time": "2022-12-13T21:10:57.718Z"
   },
   {
    "duration": 3,
    "start_time": "2022-12-13T21:11:01.207Z"
   },
   {
    "duration": 847,
    "start_time": "2022-12-13T21:11:01.211Z"
   },
   {
    "duration": 220,
    "start_time": "2022-12-13T21:11:02.060Z"
   },
   {
    "duration": 396,
    "start_time": "2022-12-13T21:11:02.281Z"
   },
   {
    "duration": 4985,
    "start_time": "2022-12-13T21:11:02.679Z"
   },
   {
    "duration": 175,
    "start_time": "2022-12-13T21:11:07.666Z"
   },
   {
    "duration": 194,
    "start_time": "2022-12-13T21:11:07.842Z"
   },
   {
    "duration": 632,
    "start_time": "2022-12-13T21:11:08.038Z"
   },
   {
    "duration": 6,
    "start_time": "2022-12-13T21:11:08.673Z"
   },
   {
    "duration": 14,
    "start_time": "2022-12-13T21:11:08.680Z"
   },
   {
    "duration": 6,
    "start_time": "2022-12-13T21:11:08.696Z"
   },
   {
    "duration": 2250,
    "start_time": "2022-12-13T21:11:08.703Z"
   },
   {
    "duration": 5164,
    "start_time": "2022-12-13T21:11:10.955Z"
   },
   {
    "duration": 4,
    "start_time": "2022-12-13T21:11:16.120Z"
   },
   {
    "duration": 8,
    "start_time": "2022-12-13T21:11:16.125Z"
   },
   {
    "duration": 9,
    "start_time": "2022-12-13T21:11:16.134Z"
   },
   {
    "duration": 5,
    "start_time": "2022-12-13T21:11:16.145Z"
   },
   {
    "duration": 9,
    "start_time": "2022-12-13T21:11:16.152Z"
   },
   {
    "duration": 6,
    "start_time": "2022-12-13T21:11:16.162Z"
   },
   {
    "duration": 60426,
    "start_time": "2022-12-13T21:11:16.169Z"
   },
   {
    "duration": 0,
    "start_time": "2022-12-13T21:12:16.597Z"
   },
   {
    "duration": 0,
    "start_time": "2022-12-13T21:12:16.598Z"
   },
   {
    "duration": 0,
    "start_time": "2022-12-13T21:12:16.600Z"
   },
   {
    "duration": 0,
    "start_time": "2022-12-13T21:12:16.602Z"
   },
   {
    "duration": 0,
    "start_time": "2022-12-13T21:12:16.603Z"
   },
   {
    "duration": 0,
    "start_time": "2022-12-13T21:12:16.604Z"
   },
   {
    "duration": 0,
    "start_time": "2022-12-13T21:12:16.605Z"
   },
   {
    "duration": 0,
    "start_time": "2022-12-13T21:12:16.606Z"
   },
   {
    "duration": 0,
    "start_time": "2022-12-13T21:12:16.607Z"
   },
   {
    "duration": 0,
    "start_time": "2022-12-13T21:12:16.608Z"
   },
   {
    "duration": 0,
    "start_time": "2022-12-13T21:12:16.609Z"
   },
   {
    "duration": 0,
    "start_time": "2022-12-13T21:12:16.611Z"
   },
   {
    "duration": 0,
    "start_time": "2022-12-13T21:12:16.612Z"
   },
   {
    "duration": 0,
    "start_time": "2022-12-13T21:12:16.613Z"
   },
   {
    "duration": 0,
    "start_time": "2022-12-13T21:12:16.614Z"
   },
   {
    "duration": 0,
    "start_time": "2022-12-13T21:12:16.615Z"
   },
   {
    "duration": 0,
    "start_time": "2022-12-13T21:12:16.616Z"
   },
   {
    "duration": 0,
    "start_time": "2022-12-13T21:12:16.617Z"
   },
   {
    "duration": 0,
    "start_time": "2022-12-13T21:12:16.618Z"
   },
   {
    "duration": 0,
    "start_time": "2022-12-13T21:12:16.619Z"
   },
   {
    "duration": 0,
    "start_time": "2022-12-13T21:12:16.620Z"
   },
   {
    "duration": 177986,
    "start_time": "2022-12-13T21:12:24.916Z"
   },
   {
    "duration": 21735,
    "start_time": "2022-12-13T21:15:22.905Z"
   },
   {
    "duration": 65144,
    "start_time": "2022-12-13T21:15:44.642Z"
   },
   {
    "duration": 3416,
    "start_time": "2022-12-13T21:20:15.830Z"
   },
   {
    "duration": 3,
    "start_time": "2022-12-13T21:20:19.248Z"
   },
   {
    "duration": 811,
    "start_time": "2022-12-13T21:20:19.252Z"
   },
   {
    "duration": 212,
    "start_time": "2022-12-13T21:20:22.962Z"
   },
   {
    "duration": 242,
    "start_time": "2022-12-13T21:20:24.005Z"
   },
   {
    "duration": 4926,
    "start_time": "2022-12-13T21:20:26.125Z"
   },
   {
    "duration": 177,
    "start_time": "2022-12-13T21:20:31.053Z"
   },
   {
    "duration": 195,
    "start_time": "2022-12-13T21:20:31.232Z"
   },
   {
    "duration": 569,
    "start_time": "2022-12-13T21:20:31.429Z"
   },
   {
    "duration": 31,
    "start_time": "2022-12-13T21:20:34.455Z"
   },
   {
    "duration": 3,
    "start_time": "2022-12-13T21:20:41.463Z"
   },
   {
    "duration": 80,
    "start_time": "2022-12-13T21:22:02.956Z"
   },
   {
    "duration": 10,
    "start_time": "2022-12-13T21:22:07.761Z"
   },
   {
    "duration": 284,
    "start_time": "2022-12-13T21:22:17.620Z"
   },
   {
    "duration": 10,
    "start_time": "2022-12-13T21:22:24.331Z"
   },
   {
    "duration": 5,
    "start_time": "2022-12-13T21:22:36.957Z"
   },
   {
    "duration": 6,
    "start_time": "2022-12-13T21:22:47.087Z"
   },
   {
    "duration": 2,
    "start_time": "2022-12-13T21:23:36.006Z"
   },
   {
    "duration": 6,
    "start_time": "2022-12-13T21:23:44.263Z"
   },
   {
    "duration": 54,
    "start_time": "2022-12-13T21:23:58.878Z"
   },
   {
    "duration": 5,
    "start_time": "2022-12-13T21:24:02.388Z"
   },
   {
    "duration": 2440,
    "start_time": "2022-12-13T21:24:15.757Z"
   },
   {
    "duration": 3474,
    "start_time": "2022-12-13T21:24:53.709Z"
   },
   {
    "duration": 2,
    "start_time": "2022-12-13T21:24:57.185Z"
   },
   {
    "duration": 826,
    "start_time": "2022-12-13T21:24:57.188Z"
   },
   {
    "duration": 221,
    "start_time": "2022-12-13T21:24:58.016Z"
   },
   {
    "duration": 372,
    "start_time": "2022-12-13T21:24:58.239Z"
   },
   {
    "duration": 5080,
    "start_time": "2022-12-13T21:24:58.612Z"
   },
   {
    "duration": 185,
    "start_time": "2022-12-13T21:25:03.693Z"
   },
   {
    "duration": 202,
    "start_time": "2022-12-13T21:25:03.880Z"
   },
   {
    "duration": 622,
    "start_time": "2022-12-13T21:25:04.084Z"
   },
   {
    "duration": 6,
    "start_time": "2022-12-13T21:25:04.710Z"
   },
   {
    "duration": 43,
    "start_time": "2022-12-13T21:25:04.718Z"
   },
   {
    "duration": 18,
    "start_time": "2022-12-13T21:25:04.763Z"
   },
   {
    "duration": 101,
    "start_time": "2022-12-13T21:25:04.782Z"
   },
   {
    "duration": 2122,
    "start_time": "2022-12-13T21:25:04.885Z"
   },
   {
    "duration": 4722,
    "start_time": "2022-12-13T21:25:07.009Z"
   },
   {
    "duration": 3,
    "start_time": "2022-12-13T21:25:11.733Z"
   },
   {
    "duration": 11,
    "start_time": "2022-12-13T21:25:11.738Z"
   },
   {
    "duration": 8,
    "start_time": "2022-12-13T21:25:11.750Z"
   },
   {
    "duration": 4,
    "start_time": "2022-12-13T21:25:11.760Z"
   },
   {
    "duration": 7,
    "start_time": "2022-12-13T21:25:11.766Z"
   },
   {
    "duration": 23,
    "start_time": "2022-12-13T21:25:11.774Z"
   },
   {
    "duration": 174202,
    "start_time": "2022-12-13T21:25:11.799Z"
   },
   {
    "duration": 122503,
    "start_time": "2022-12-13T21:28:06.096Z"
   },
   {
    "duration": 283999,
    "start_time": "2022-12-13T21:30:08.601Z"
   },
   {
    "duration": 263195,
    "start_time": "2022-12-13T21:34:52.604Z"
   },
   {
    "duration": 104689,
    "start_time": "2022-12-13T21:39:15.802Z"
   },
   {
    "duration": 116676,
    "start_time": "2022-12-13T21:41:00.493Z"
   },
   {
    "duration": 238352,
    "start_time": "2022-12-13T21:42:57.172Z"
   },
   {
    "duration": 225628,
    "start_time": "2022-12-13T21:46:55.526Z"
   },
   {
    "duration": 3,
    "start_time": "2022-12-13T21:50:41.155Z"
   },
   {
    "duration": 32217,
    "start_time": "2022-12-13T21:50:41.159Z"
   },
   {
    "duration": 31642,
    "start_time": "2022-12-13T21:51:13.378Z"
   },
   {
    "duration": 31458,
    "start_time": "2022-12-13T21:51:45.021Z"
   },
   {
    "duration": 31576,
    "start_time": "2022-12-13T21:52:16.481Z"
   },
   {
    "duration": 20,
    "start_time": "2022-12-13T21:52:48.059Z"
   },
   {
    "duration": 298,
    "start_time": "2022-12-13T21:52:48.080Z"
   },
   {
    "duration": 0,
    "start_time": "2022-12-13T21:52:48.379Z"
   },
   {
    "duration": 0,
    "start_time": "2022-12-13T21:52:48.381Z"
   },
   {
    "duration": 0,
    "start_time": "2022-12-13T21:52:48.382Z"
   },
   {
    "duration": 0,
    "start_time": "2022-12-13T21:52:48.383Z"
   },
   {
    "duration": 0,
    "start_time": "2022-12-13T21:52:48.384Z"
   },
   {
    "duration": 80,
    "start_time": "2022-12-13T21:54:11.438Z"
   },
   {
    "duration": 703,
    "start_time": "2022-12-13T21:54:20.877Z"
   },
   {
    "duration": 11,
    "start_time": "2022-12-13T21:54:35.239Z"
   },
   {
    "duration": 6,
    "start_time": "2022-12-13T21:55:04.958Z"
   },
   {
    "duration": 13,
    "start_time": "2022-12-13T21:55:10.091Z"
   },
   {
    "duration": 22,
    "start_time": "2022-12-13T21:55:21.634Z"
   },
   {
    "duration": 14,
    "start_time": "2022-12-13T21:55:26.398Z"
   },
   {
    "duration": 44,
    "start_time": "2022-12-13T21:56:04.595Z"
   },
   {
    "duration": 24,
    "start_time": "2022-12-13T21:56:52.142Z"
   },
   {
    "duration": 763,
    "start_time": "2022-12-13T21:56:54.562Z"
   },
   {
    "duration": 1658,
    "start_time": "2022-12-13T21:57:16.807Z"
   },
   {
    "duration": 772,
    "start_time": "2022-12-13T21:57:33.829Z"
   },
   {
    "duration": 13,
    "start_time": "2022-12-13T21:58:03.303Z"
   },
   {
    "duration": 13,
    "start_time": "2022-12-13T21:58:21.893Z"
   },
   {
    "duration": 736,
    "start_time": "2022-12-13T21:58:32.298Z"
   },
   {
    "duration": 4,
    "start_time": "2022-12-13T21:59:10.395Z"
   },
   {
    "duration": 1695,
    "start_time": "2022-12-13T21:59:24.250Z"
   },
   {
    "duration": 10,
    "start_time": "2022-12-13T21:59:39.907Z"
   },
   {
    "duration": 717,
    "start_time": "2022-12-13T21:59:48.637Z"
   },
   {
    "duration": 760,
    "start_time": "2022-12-13T21:59:54.270Z"
   },
   {
    "duration": 818,
    "start_time": "2022-12-13T22:00:00.366Z"
   },
   {
    "duration": 5,
    "start_time": "2022-12-13T22:00:39.847Z"
   },
   {
    "duration": 6,
    "start_time": "2022-12-13T22:01:12.827Z"
   },
   {
    "duration": 2517,
    "start_time": "2022-12-13T22:01:15.471Z"
   },
   {
    "duration": 13,
    "start_time": "2022-12-13T22:01:28.494Z"
   },
   {
    "duration": 2135,
    "start_time": "2022-12-13T22:01:36.493Z"
   },
   {
    "duration": 12,
    "start_time": "2022-12-13T22:01:41.417Z"
   },
   {
    "duration": 3,
    "start_time": "2022-12-13T22:03:12.080Z"
   },
   {
    "duration": 3,
    "start_time": "2022-12-13T22:03:13.451Z"
   },
   {
    "duration": 820,
    "start_time": "2022-12-13T22:03:14.399Z"
   },
   {
    "duration": 189,
    "start_time": "2022-12-13T22:03:17.099Z"
   },
   {
    "duration": 69,
    "start_time": "2022-12-13T22:03:18.377Z"
   },
   {
    "duration": 4988,
    "start_time": "2022-12-13T22:03:20.674Z"
   },
   {
    "duration": 185,
    "start_time": "2022-12-13T22:03:27.792Z"
   },
   {
    "duration": 210,
    "start_time": "2022-12-13T22:03:29.011Z"
   },
   {
    "duration": 607,
    "start_time": "2022-12-13T22:03:33.711Z"
   },
   {
    "duration": 84,
    "start_time": "2022-12-13T22:03:38.884Z"
   },
   {
    "duration": 18,
    "start_time": "2022-12-13T22:03:39.700Z"
   },
   {
    "duration": 7,
    "start_time": "2022-12-13T22:03:48.632Z"
   },
   {
    "duration": 67,
    "start_time": "2022-12-13T22:03:59.419Z"
   },
   {
    "duration": 6,
    "start_time": "2022-12-13T22:04:00.267Z"
   },
   {
    "duration": 6,
    "start_time": "2022-12-13T22:04:10.252Z"
   },
   {
    "duration": 67,
    "start_time": "2022-12-13T22:04:11.875Z"
   },
   {
    "duration": 6,
    "start_time": "2022-12-13T22:04:12.674Z"
   },
   {
    "duration": 3,
    "start_time": "2022-12-13T22:04:28.829Z"
   },
   {
    "duration": 6,
    "start_time": "2022-12-13T22:04:40.180Z"
   },
   {
    "duration": 1841,
    "start_time": "2022-12-13T22:04:45.495Z"
   },
   {
    "duration": 10,
    "start_time": "2022-12-13T22:04:48.591Z"
   },
   {
    "duration": 4,
    "start_time": "2022-12-13T22:05:05.711Z"
   },
   {
    "duration": 3,
    "start_time": "2022-12-13T22:05:07.163Z"
   },
   {
    "duration": 795,
    "start_time": "2022-12-13T22:05:07.949Z"
   },
   {
    "duration": 195,
    "start_time": "2022-12-13T22:05:10.228Z"
   },
   {
    "duration": 93,
    "start_time": "2022-12-13T22:05:11.755Z"
   },
   {
    "duration": 4843,
    "start_time": "2022-12-13T22:05:14.229Z"
   },
   {
    "duration": 184,
    "start_time": "2022-12-13T22:05:19.074Z"
   },
   {
    "duration": 208,
    "start_time": "2022-12-13T22:05:19.260Z"
   },
   {
    "duration": 678,
    "start_time": "2022-12-13T22:05:19.470Z"
   },
   {
    "duration": 5,
    "start_time": "2022-12-13T22:05:20.932Z"
   },
   {
    "duration": 2,
    "start_time": "2022-12-13T22:05:25.191Z"
   },
   {
    "duration": 103,
    "start_time": "2022-12-13T22:05:26.018Z"
   },
   {
    "duration": 6,
    "start_time": "2022-12-13T22:05:26.902Z"
   },
   {
    "duration": 2430,
    "start_time": "2022-12-13T22:05:28.036Z"
   },
   {
    "duration": 4,
    "start_time": "2022-12-13T22:05:33.795Z"
   },
   {
    "duration": 2,
    "start_time": "2022-12-13T22:05:40.243Z"
   },
   {
    "duration": 33647,
    "start_time": "2022-12-13T22:05:48.493Z"
   },
   {
    "duration": 9,
    "start_time": "2022-12-13T22:06:27.191Z"
   },
   {
    "duration": 7,
    "start_time": "2022-12-13T22:06:31.929Z"
   },
   {
    "duration": 1938,
    "start_time": "2022-12-13T22:06:35.704Z"
   },
   {
    "duration": 11,
    "start_time": "2022-12-13T22:06:38.525Z"
   },
   {
    "duration": 3,
    "start_time": "2022-12-13T22:06:45.169Z"
   },
   {
    "duration": 32988,
    "start_time": "2022-12-13T22:06:48.808Z"
   },
   {
    "duration": 10,
    "start_time": "2022-12-13T22:07:28.866Z"
   },
   {
    "duration": 1872,
    "start_time": "2022-12-13T22:07:35.634Z"
   },
   {
    "duration": 10,
    "start_time": "2022-12-13T22:07:38.263Z"
   },
   {
    "duration": 3,
    "start_time": "2022-12-13T22:08:02.116Z"
   },
   {
    "duration": 32856,
    "start_time": "2022-12-13T22:08:03.532Z"
   },
   {
    "duration": 31875,
    "start_time": "2022-12-13T22:08:36.390Z"
   },
   {
    "duration": 32235,
    "start_time": "2022-12-13T22:09:08.267Z"
   },
   {
    "duration": 4,
    "start_time": "2022-12-13T22:09:40.504Z"
   },
   {
    "duration": 32951,
    "start_time": "2022-12-13T22:09:40.510Z"
   },
   {
    "duration": 12,
    "start_time": "2022-12-13T22:10:16.399Z"
   },
   {
    "duration": 1954,
    "start_time": "2022-12-13T22:10:28.762Z"
   },
   {
    "duration": 10,
    "start_time": "2022-12-13T22:10:31.557Z"
   },
   {
    "duration": 1658,
    "start_time": "2022-12-13T22:10:34.680Z"
   },
   {
    "duration": 10,
    "start_time": "2022-12-13T22:10:36.908Z"
   },
   {
    "duration": 1518,
    "start_time": "2022-12-13T22:10:47.603Z"
   },
   {
    "duration": 11,
    "start_time": "2022-12-13T22:10:49.835Z"
   },
   {
    "duration": 1803,
    "start_time": "2022-12-13T22:11:18.622Z"
   },
   {
    "duration": 11,
    "start_time": "2022-12-13T22:11:21.231Z"
   },
   {
    "duration": 3,
    "start_time": "2022-12-13T22:11:33.848Z"
   },
   {
    "duration": 33581,
    "start_time": "2022-12-13T22:11:44.039Z"
   },
   {
    "duration": 31939,
    "start_time": "2022-12-13T22:12:17.622Z"
   },
   {
    "duration": 3,
    "start_time": "2022-12-13T22:12:49.564Z"
   },
   {
    "duration": 32935,
    "start_time": "2022-12-13T22:12:49.569Z"
   },
   {
    "duration": 32308,
    "start_time": "2022-12-13T22:13:22.506Z"
   },
   {
    "duration": 13,
    "start_time": "2022-12-13T22:13:54.816Z"
   },
   {
    "duration": 1901,
    "start_time": "2022-12-13T22:14:06.025Z"
   },
   {
    "duration": 10,
    "start_time": "2022-12-13T22:14:09.229Z"
   },
   {
    "duration": 1843,
    "start_time": "2022-12-13T22:14:19.906Z"
   },
   {
    "duration": 10,
    "start_time": "2022-12-13T22:14:22.902Z"
   },
   {
    "duration": 1403,
    "start_time": "2022-12-13T22:14:30.135Z"
   },
   {
    "duration": 10,
    "start_time": "2022-12-13T22:14:32.496Z"
   },
   {
    "duration": 1391,
    "start_time": "2022-12-13T22:14:46.193Z"
   },
   {
    "duration": 11,
    "start_time": "2022-12-13T22:14:48.430Z"
   },
   {
    "duration": 3,
    "start_time": "2022-12-13T22:15:50.081Z"
   },
   {
    "duration": 48038,
    "start_time": "2022-12-13T22:15:51.646Z"
   },
   {
    "duration": 46456,
    "start_time": "2022-12-13T22:16:39.686Z"
   },
   {
    "duration": 302062,
    "start_time": "2022-12-13T22:17:26.144Z"
   },
   {
    "duration": 16,
    "start_time": "2022-12-13T22:22:28.298Z"
   },
   {
    "duration": 15,
    "start_time": "2022-12-13T22:22:38.138Z"
   },
   {
    "duration": 1514,
    "start_time": "2022-12-13T22:23:13.639Z"
   },
   {
    "duration": 10,
    "start_time": "2022-12-13T22:23:16.064Z"
   },
   {
    "duration": 1994,
    "start_time": "2022-12-13T22:23:21.225Z"
   },
   {
    "duration": 10,
    "start_time": "2022-12-13T22:23:24.193Z"
   },
   {
    "duration": 3385,
    "start_time": "2022-12-13T22:23:47.259Z"
   },
   {
    "duration": 3,
    "start_time": "2022-12-13T22:23:50.646Z"
   },
   {
    "duration": 811,
    "start_time": "2022-12-13T22:23:50.650Z"
   },
   {
    "duration": 210,
    "start_time": "2022-12-13T22:23:51.463Z"
   },
   {
    "duration": 368,
    "start_time": "2022-12-13T22:23:51.675Z"
   },
   {
    "duration": 4930,
    "start_time": "2022-12-13T22:23:52.045Z"
   },
   {
    "duration": 191,
    "start_time": "2022-12-13T22:23:56.976Z"
   },
   {
    "duration": 197,
    "start_time": "2022-12-13T22:23:57.169Z"
   },
   {
    "duration": 664,
    "start_time": "2022-12-13T22:23:57.368Z"
   },
   {
    "duration": 7,
    "start_time": "2022-12-13T22:23:58.034Z"
   },
   {
    "duration": 22,
    "start_time": "2022-12-13T22:23:58.042Z"
   },
   {
    "duration": 9,
    "start_time": "2022-12-13T22:23:58.066Z"
   },
   {
    "duration": 82,
    "start_time": "2022-12-13T22:23:58.076Z"
   },
   {
    "duration": 7,
    "start_time": "2022-12-13T22:23:58.162Z"
   },
   {
    "duration": 2531,
    "start_time": "2022-12-13T22:23:58.170Z"
   },
   {
    "duration": 5361,
    "start_time": "2022-12-13T22:24:00.703Z"
   },
   {
    "duration": 4,
    "start_time": "2022-12-13T22:24:06.065Z"
   },
   {
    "duration": 9,
    "start_time": "2022-12-13T22:24:06.070Z"
   },
   {
    "duration": 5,
    "start_time": "2022-12-13T22:24:06.080Z"
   },
   {
    "duration": 4,
    "start_time": "2022-12-13T22:24:06.097Z"
   },
   {
    "duration": 5,
    "start_time": "2022-12-13T22:24:06.103Z"
   },
   {
    "duration": 177993,
    "start_time": "2022-12-13T22:24:06.109Z"
   },
   {
    "duration": 118994,
    "start_time": "2022-12-13T22:27:04.104Z"
   },
   {
    "duration": 230498,
    "start_time": "2022-12-13T22:29:03.100Z"
   },
   {
    "duration": 234004,
    "start_time": "2022-12-13T22:32:53.600Z"
   },
   {
    "duration": 104195,
    "start_time": "2022-12-13T22:36:47.606Z"
   },
   {
    "duration": 114785,
    "start_time": "2022-12-13T22:38:31.803Z"
   },
   {
    "duration": 249619,
    "start_time": "2022-12-13T22:40:26.590Z"
   },
   {
    "duration": 231339,
    "start_time": "2022-12-13T22:44:36.211Z"
   },
   {
    "duration": 2,
    "start_time": "2022-12-13T22:48:27.552Z"
   },
   {
    "duration": 46597,
    "start_time": "2022-12-13T22:48:27.555Z"
   },
   {
    "duration": 46362,
    "start_time": "2022-12-13T22:49:14.154Z"
   },
   {
    "duration": 45961,
    "start_time": "2022-12-13T22:50:00.518Z"
   },
   {
    "duration": 46013,
    "start_time": "2022-12-13T22:50:46.480Z"
   },
   {
    "duration": 18,
    "start_time": "2022-12-13T22:51:32.495Z"
   },
   {
    "duration": 12,
    "start_time": "2022-12-13T22:51:32.515Z"
   },
   {
    "duration": 1621,
    "start_time": "2022-12-13T22:51:32.528Z"
   },
   {
    "duration": 10,
    "start_time": "2022-12-13T22:51:34.151Z"
   },
   {
    "duration": 2,
    "start_time": "2022-12-13T22:51:34.163Z"
   },
   {
    "duration": 12,
    "start_time": "2022-12-13T22:51:34.166Z"
   },
   {
    "duration": 23,
    "start_time": "2022-12-13T22:51:34.181Z"
   },
   {
    "duration": 1980,
    "start_time": "2022-12-13T22:51:54.104Z"
   },
   {
    "duration": 9,
    "start_time": "2022-12-13T22:51:57.213Z"
   },
   {
    "duration": 3951,
    "start_time": "2022-12-15T07:40:10.070Z"
   },
   {
    "duration": 2,
    "start_time": "2022-12-15T07:40:14.023Z"
   },
   {
    "duration": 3844,
    "start_time": "2022-12-15T07:40:14.027Z"
   },
   {
    "duration": 5270,
    "start_time": "2022-12-15T07:40:17.966Z"
   },
   {
    "duration": 189,
    "start_time": "2022-12-15T07:40:23.237Z"
   },
   {
    "duration": 207,
    "start_time": "2022-12-15T07:40:23.427Z"
   },
   {
    "duration": 731,
    "start_time": "2022-12-15T07:40:23.635Z"
   },
   {
    "duration": 5,
    "start_time": "2022-12-15T07:40:24.368Z"
   },
   {
    "duration": 2,
    "start_time": "2022-12-15T07:40:29.347Z"
   },
   {
    "duration": 87,
    "start_time": "2022-12-15T07:40:30.018Z"
   },
   {
    "duration": 7,
    "start_time": "2022-12-15T07:40:30.794Z"
   },
   {
    "duration": 2511,
    "start_time": "2022-12-15T07:40:32.006Z"
   },
   {
    "duration": 5050,
    "start_time": "2022-12-15T07:40:34.519Z"
   },
   {
    "duration": 4,
    "start_time": "2022-12-15T07:40:39.571Z"
   },
   {
    "duration": 5,
    "start_time": "2022-12-15T07:40:44.436Z"
   },
   {
    "duration": 5,
    "start_time": "2022-12-15T07:41:49.082Z"
   },
   {
    "duration": 384,
    "start_time": "2022-12-15T07:41:55.631Z"
   },
   {
    "duration": 3,
    "start_time": "2022-12-15T07:42:08.722Z"
   },
   {
    "duration": 2,
    "start_time": "2022-12-15T07:42:09.614Z"
   },
   {
    "duration": 26288,
    "start_time": "2022-12-15T07:42:14.276Z"
   },
   {
    "duration": 6,
    "start_time": "2022-12-15T07:43:19.880Z"
   },
   {
    "duration": 9929,
    "start_time": "2022-12-15T07:43:24.250Z"
   },
   {
    "duration": 5,
    "start_time": "2022-12-15T07:43:58.736Z"
   },
   {
    "duration": 211,
    "start_time": "2022-12-15T07:44:03.446Z"
   },
   {
    "duration": 5,
    "start_time": "2022-12-15T07:44:31.329Z"
   },
   {
    "duration": 201,
    "start_time": "2022-12-15T07:44:34.887Z"
   },
   {
    "duration": 6,
    "start_time": "2022-12-15T07:45:02.296Z"
   },
   {
    "duration": 60167,
    "start_time": "2022-12-15T07:45:08.067Z"
   },
   {
    "duration": 198806,
    "start_time": "2022-12-15T07:48:34.748Z"
   },
   {
    "duration": 4,
    "start_time": "2022-12-15T07:57:22.003Z"
   },
   {
    "duration": 3,
    "start_time": "2022-12-15T07:57:23.313Z"
   },
   {
    "duration": 818,
    "start_time": "2022-12-15T07:57:24.411Z"
   },
   {
    "duration": 5229,
    "start_time": "2022-12-15T07:57:28.301Z"
   },
   {
    "duration": 203,
    "start_time": "2022-12-15T07:57:33.532Z"
   },
   {
    "duration": 685,
    "start_time": "2022-12-15T07:57:33.737Z"
   },
   {
    "duration": 5,
    "start_time": "2022-12-15T07:57:34.985Z"
   },
   {
    "duration": 3,
    "start_time": "2022-12-15T07:57:39.082Z"
   },
   {
    "duration": 101,
    "start_time": "2022-12-15T07:57:41.095Z"
   },
   {
    "duration": 2619,
    "start_time": "2022-12-15T07:57:42.964Z"
   },
   {
    "duration": 5,
    "start_time": "2022-12-15T07:57:56.664Z"
   },
   {
    "duration": 49697,
    "start_time": "2022-12-15T07:58:08.608Z"
   },
   {
    "duration": 5,
    "start_time": "2022-12-15T07:59:10.418Z"
   },
   {
    "duration": 99,
    "start_time": "2022-12-15T18:55:38.917Z"
   },
   {
    "duration": 29901,
    "start_time": "2022-12-15T19:26:07.218Z"
   },
   {
    "duration": 7,
    "start_time": "2022-12-15T19:26:37.123Z"
   },
   {
    "duration": 18200,
    "start_time": "2022-12-15T19:26:37.216Z"
   },
   {
    "duration": 1403,
    "start_time": "2022-12-15T19:26:55.424Z"
   },
   {
    "duration": 2897,
    "start_time": "2022-12-15T19:26:56.919Z"
   },
   {
    "duration": 44712,
    "start_time": "2022-12-15T19:26:59.818Z"
   },
   {
    "duration": 1195,
    "start_time": "2022-12-15T19:27:44.620Z"
   },
   {
    "duration": 1198,
    "start_time": "2022-12-15T19:27:45.823Z"
   },
   {
    "duration": 3795,
    "start_time": "2022-12-15T19:27:47.023Z"
   },
   {
    "duration": 95,
    "start_time": "2022-12-15T19:27:50.821Z"
   },
   {
    "duration": 194,
    "start_time": "2022-12-15T19:27:50.922Z"
   },
   {
    "duration": 704,
    "start_time": "2022-12-15T19:27:51.117Z"
   },
   {
    "duration": 99,
    "start_time": "2022-12-15T19:27:51.823Z"
   },
   {
    "duration": 20994,
    "start_time": "2022-12-15T19:27:51.928Z"
   },
   {
    "duration": 23994,
    "start_time": "2022-12-15T19:28:12.929Z"
   },
   {
    "duration": 93,
    "start_time": "2022-12-15T19:28:36.930Z"
   },
   {
    "duration": 95,
    "start_time": "2022-12-15T19:28:37.025Z"
   },
   {
    "duration": 296,
    "start_time": "2022-12-15T19:28:37.122Z"
   },
   {
    "duration": 298,
    "start_time": "2022-12-15T19:28:37.419Z"
   },
   {
    "duration": 299,
    "start_time": "2022-12-15T19:28:37.718Z"
   },
   {
    "duration": 502603,
    "start_time": "2022-12-15T19:28:38.018Z"
   },
   {
    "duration": 22696,
    "start_time": "2022-12-15T19:39:42.924Z"
   },
   {
    "duration": 5,
    "start_time": "2022-12-15T19:40:05.622Z"
   },
   {
    "duration": 5593,
    "start_time": "2022-12-15T19:40:05.631Z"
   },
   {
    "duration": 1305,
    "start_time": "2022-12-15T19:40:11.227Z"
   },
   {
    "duration": 2509,
    "start_time": "2022-12-15T19:40:12.618Z"
   },
   {
    "duration": 42905,
    "start_time": "2022-12-15T19:40:15.129Z"
   },
   {
    "duration": 1202,
    "start_time": "2022-12-15T19:40:58.120Z"
   },
   {
    "duration": 1190,
    "start_time": "2022-12-15T19:40:59.326Z"
   },
   {
    "duration": 3493,
    "start_time": "2022-12-15T19:41:00.523Z"
   },
   {
    "duration": 13,
    "start_time": "2022-12-15T19:41:04.018Z"
   },
   {
    "duration": 194,
    "start_time": "2022-12-15T19:41:04.123Z"
   },
   {
    "duration": 897,
    "start_time": "2022-12-15T19:41:04.319Z"
   },
   {
    "duration": 90,
    "start_time": "2022-12-15T19:41:05.230Z"
   },
   {
    "duration": 20703,
    "start_time": "2022-12-15T19:41:05.326Z"
   },
   {
    "duration": 23194,
    "start_time": "2022-12-15T19:41:26.031Z"
   },
   {
    "duration": 88,
    "start_time": "2022-12-15T19:41:49.230Z"
   },
   {
    "duration": 199,
    "start_time": "2022-12-15T19:41:49.322Z"
   },
   {
    "duration": 401,
    "start_time": "2022-12-15T19:41:49.523Z"
   },
   {
    "duration": 91,
    "start_time": "2022-12-15T19:41:49.926Z"
   },
   {
    "duration": 97,
    "start_time": "2022-12-15T19:41:50.019Z"
   },
   {
    "duration": 4488,
    "start_time": "2022-12-16T08:52:41.504Z"
   },
   {
    "duration": 3,
    "start_time": "2022-12-16T08:52:45.995Z"
   },
   {
    "duration": 4642,
    "start_time": "2022-12-16T08:52:46.000Z"
   },
   {
    "duration": 238,
    "start_time": "2022-12-16T08:52:50.644Z"
   },
   {
    "duration": 443,
    "start_time": "2022-12-16T08:52:50.883Z"
   },
   {
    "duration": 5671,
    "start_time": "2022-12-16T08:52:51.328Z"
   },
   {
    "duration": 202,
    "start_time": "2022-12-16T08:52:57.000Z"
   },
   {
    "duration": 217,
    "start_time": "2022-12-16T08:52:57.204Z"
   },
   {
    "duration": 816,
    "start_time": "2022-12-16T08:52:57.422Z"
   },
   {
    "duration": 10,
    "start_time": "2022-12-16T08:52:58.241Z"
   },
   {
    "duration": 37,
    "start_time": "2022-12-16T08:52:58.253Z"
   },
   {
    "duration": 93,
    "start_time": "2022-12-16T08:52:58.292Z"
   },
   {
    "duration": 7,
    "start_time": "2022-12-16T08:52:58.387Z"
   },
   {
    "duration": 2958,
    "start_time": "2022-12-16T08:52:58.396Z"
   },
   {
    "duration": 5330,
    "start_time": "2022-12-16T08:53:01.356Z"
   },
   {
    "duration": 4,
    "start_time": "2022-12-16T08:53:06.688Z"
   },
   {
    "duration": 19,
    "start_time": "2022-12-16T08:53:06.694Z"
   },
   {
    "duration": 11,
    "start_time": "2022-12-16T08:53:06.715Z"
   },
   {
    "duration": 9,
    "start_time": "2022-12-16T08:53:06.728Z"
   },
   {
    "duration": 15,
    "start_time": "2022-12-16T08:53:06.739Z"
   },
   {
    "duration": 207497,
    "start_time": "2022-12-16T08:53:06.756Z"
   },
   {
    "duration": 145092,
    "start_time": "2022-12-16T08:56:34.261Z"
   },
   {
    "duration": 290798,
    "start_time": "2022-12-16T08:58:59.355Z"
   },
   {
    "duration": 357504,
    "start_time": "2022-12-16T09:03:50.156Z"
   },
   {
    "duration": 125616,
    "start_time": "2022-12-16T09:09:47.753Z"
   },
   {
    "duration": 138323,
    "start_time": "2022-12-16T09:11:53.371Z"
   },
   {
    "duration": 318737,
    "start_time": "2022-12-16T09:14:11.696Z"
   },
   {
    "duration": 273906,
    "start_time": "2022-12-16T09:19:30.437Z"
   },
   {
    "duration": 4,
    "start_time": "2022-12-16T09:24:04.350Z"
   },
   {
    "duration": 52691,
    "start_time": "2022-12-16T09:24:04.356Z"
   },
   {
    "duration": 51650,
    "start_time": "2022-12-16T09:24:57.049Z"
   },
   {
    "duration": 50758,
    "start_time": "2022-12-16T09:25:48.701Z"
   },
   {
    "duration": 51585,
    "start_time": "2022-12-16T09:26:39.461Z"
   },
   {
    "duration": 22,
    "start_time": "2022-12-16T09:27:31.048Z"
   },
   {
    "duration": 14,
    "start_time": "2022-12-16T09:27:31.072Z"
   },
   {
    "duration": 2276,
    "start_time": "2022-12-16T09:27:31.087Z"
   },
   {
    "duration": 11,
    "start_time": "2022-12-16T09:27:33.365Z"
   },
   {
    "duration": 3,
    "start_time": "2022-12-16T09:27:33.378Z"
   },
   {
    "duration": 12,
    "start_time": "2022-12-16T09:27:33.382Z"
   },
   {
    "duration": 13,
    "start_time": "2022-12-16T09:27:33.396Z"
   }
  ],
  "kernelspec": {
   "display_name": "Python 3 (ipykernel)",
   "language": "python",
   "name": "python3"
  },
  "language_info": {
   "codemirror_mode": {
    "name": "ipython",
    "version": 3
   },
   "file_extension": ".py",
   "mimetype": "text/x-python",
   "name": "python",
   "nbconvert_exporter": "python",
   "pygments_lexer": "ipython3",
   "version": "3.9.7"
  },
  "toc": {
   "base_numbering": 1,
   "nav_menu": {},
   "number_sections": true,
   "sideBar": true,
   "skip_h1_title": true,
   "title_cell": "Содержание",
   "title_sidebar": "Contents",
   "toc_cell": true,
   "toc_position": {
    "height": "calc(100% - 180px)",
    "left": "10px",
    "top": "150px",
    "width": "302.391px"
   },
   "toc_section_display": true,
   "toc_window_display": false
  }
 },
 "nbformat": 4,
 "nbformat_minor": 2
}
